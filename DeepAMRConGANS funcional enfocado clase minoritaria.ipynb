{
 "cells": [
  {
   "cell_type": "markdown",
   "metadata": {
    "id": "LNNFUJODXA9C"
   },
   "source": [
    "# 0-Libraries"
   ]
  },
  {
   "cell_type": "code",
   "execution_count": 124,
   "metadata": {
    "id": "W1quzgr-ao8A"
   },
   "outputs": [],
   "source": [
    "import numpy as np\n",
    "import matplotlib.pyplot as plt\n",
    "import itertools\n",
    "import pandas as pd\n",
    "import sklearn\n",
    "from sklearn.model_selection import train_test_split\n",
    "from sklearn.metrics import confusion_matrix,classification_report,ConfusionMatrixDisplay, balanced_accuracy_score\n",
    "#from sklearn.preprocessing import LabelEncoder, OneHotEncoder\n",
    "from sklearn.compose import ColumnTransformer\n",
    "from sklearn.preprocessing import Normalizer, StandardScaler, MinMaxScaler, MaxAbsScaler, RobustScaler, QuantileTransformer, PowerTransformer\n",
    "import tensorflow as tf\n",
    "from tensorflow import keras\n",
    "from tensorflow.keras.layers import Dense, LeakyReLU, BatchNormalization, Reshape\n",
    "\n",
    "from keras import regularizers\n",
    "from keras.optimizers import Adam\n",
    "#from keras.backend import expand_dims\n",
    "from keras.callbacks import ReduceLROnPlateau, EarlyStopping\n",
    "from keras.models import Sequential\n",
    "from keras.constraints import MaxNorm\n",
    "from keras.layers import Activation, Dense, Conv1D, Flatten, MaxPooling1D, Dropout, BatchNormalization, SpatialDropout1D"
   ]
  },
  {
   "cell_type": "markdown",
   "metadata": {
    "id": "yD17WVS_4Y7T"
   },
   "source": [
    "## Librerias oversampling\n"
   ]
  },
  {
   "cell_type": "code",
   "execution_count": 125,
   "metadata": {},
   "outputs": [],
   "source": [
    "import torch\n",
    "from torch import nn\n",
    "\n",
    "import math\n",
    "import matplotlib.pyplot as plt"
   ]
  },
  {
   "cell_type": "code",
   "execution_count": 126,
   "metadata": {
    "id": "gy_ErAtqkxgt"
   },
   "outputs": [],
   "source": [
    "METRICS = [\n",
    "      keras.metrics.TruePositives(name='tp'),\n",
    "      keras.metrics.FalsePositives(name='fp'),\n",
    "      keras.metrics.TrueNegatives(name='tn'),\n",
    "      keras.metrics.FalseNegatives(name='fn'),\n",
    "      keras.metrics.BinaryAccuracy(name='accuracy'),\n",
    "      keras.metrics.Precision(name='precision'),\n",
    "      keras.metrics.Recall(name='recall'),\n",
    "      keras.metrics.AUC(name='auc'),\n",
    "      keras.metrics.AUC(name='prc', curve='PR'), # precision-recall curve\n",
    "]"
   ]
  },
  {
   "cell_type": "markdown",
   "metadata": {
    "id": "N6bQjUrPXPaI"
   },
   "source": [
    "# 1- Load Data"
   ]
  },
  {
   "cell_type": "code",
   "execution_count": 127,
   "metadata": {},
   "outputs": [],
   "source": [
    "import torch\n",
    "import torch.nn as nn\n",
    "import torch.optim as optim\n",
    "from sklearn.utils import shuffle\n",
    "from tensorflow.keras import layers\n"
   ]
  },
  {
   "cell_type": "code",
   "execution_count": 128,
   "metadata": {
    "colab": {
     "base_uri": "https://localhost:8080/",
     "height": 721
    },
    "id": "UXVFQgZNaNrg",
    "outputId": "7fccb4b4-1f11-48e5-8aaf-a25e40003012"
   },
   "outputs": [
    {
     "data": {
      "text/html": [
       "<div>\n",
       "<style scoped>\n",
       "    .dataframe tbody tr th:only-of-type {\n",
       "        vertical-align: middle;\n",
       "    }\n",
       "\n",
       "    .dataframe tbody tr th {\n",
       "        vertical-align: top;\n",
       "    }\n",
       "\n",
       "    .dataframe thead th {\n",
       "        text-align: right;\n",
       "    }\n",
       "</style>\n",
       "<table border=\"1\" class=\"dataframe\">\n",
       "  <thead>\n",
       "    <tr style=\"text-align: right;\">\n",
       "      <th></th>\n",
       "      <th>2000</th>\n",
       "      <th>2003</th>\n",
       "      <th>2006</th>\n",
       "      <th>2009</th>\n",
       "      <th>2012</th>\n",
       "      <th>2015</th>\n",
       "      <th>2018</th>\n",
       "      <th>2021</th>\n",
       "      <th>2024</th>\n",
       "      <th>2027</th>\n",
       "      <th>...</th>\n",
       "      <th>19991</th>\n",
       "      <th>19994</th>\n",
       "      <th>19997</th>\n",
       "      <th>code</th>\n",
       "      <th>species</th>\n",
       "      <th>Oxacillin</th>\n",
       "      <th>Clindamycin</th>\n",
       "      <th>Ceftriaxone</th>\n",
       "      <th>Ciprofloxacin</th>\n",
       "      <th>Fusidic acid</th>\n",
       "    </tr>\n",
       "  </thead>\n",
       "  <tbody>\n",
       "    <tr>\n",
       "      <th>0</th>\n",
       "      <td>951.428571</td>\n",
       "      <td>826.125000</td>\n",
       "      <td>944.857143</td>\n",
       "      <td>898.428571</td>\n",
       "      <td>1007.714286</td>\n",
       "      <td>936.000000</td>\n",
       "      <td>828.571429</td>\n",
       "      <td>812.000000</td>\n",
       "      <td>782.714286</td>\n",
       "      <td>741.625000</td>\n",
       "      <td>...</td>\n",
       "      <td>35.5</td>\n",
       "      <td>20.500000</td>\n",
       "      <td>27.342857</td>\n",
       "      <td>029f0abf-1664-424f-88cb-11c9c8af2b11</td>\n",
       "      <td>Staphylococcus aureus</td>\n",
       "      <td>0.0</td>\n",
       "      <td>0.0</td>\n",
       "      <td>0.0</td>\n",
       "      <td>0.0</td>\n",
       "      <td>1.0</td>\n",
       "    </tr>\n",
       "    <tr>\n",
       "      <th>1</th>\n",
       "      <td>784.714286</td>\n",
       "      <td>701.125000</td>\n",
       "      <td>681.571429</td>\n",
       "      <td>762.142857</td>\n",
       "      <td>737.571429</td>\n",
       "      <td>733.000000</td>\n",
       "      <td>735.857143</td>\n",
       "      <td>659.571429</td>\n",
       "      <td>802.714286</td>\n",
       "      <td>554.375000</td>\n",
       "      <td>...</td>\n",
       "      <td>30.0</td>\n",
       "      <td>40.500000</td>\n",
       "      <td>34.695238</td>\n",
       "      <td>08149af1-10f5-4f02-81d8-3d46d66d4a7a</td>\n",
       "      <td>Staphylococcus aureus</td>\n",
       "      <td>0.0</td>\n",
       "      <td>0.0</td>\n",
       "      <td>0.0</td>\n",
       "      <td>0.0</td>\n",
       "      <td>0.0</td>\n",
       "    </tr>\n",
       "    <tr>\n",
       "      <th>2</th>\n",
       "      <td>50.875000</td>\n",
       "      <td>89.142857</td>\n",
       "      <td>56.142857</td>\n",
       "      <td>151.285714</td>\n",
       "      <td>132.714286</td>\n",
       "      <td>110.428571</td>\n",
       "      <td>47.285714</td>\n",
       "      <td>63.428571</td>\n",
       "      <td>100.375000</td>\n",
       "      <td>52.142857</td>\n",
       "      <td>...</td>\n",
       "      <td>2.5</td>\n",
       "      <td>30.500000</td>\n",
       "      <td>11.288462</td>\n",
       "      <td>08fe3876-ecee-4ddc-9aa9-a84f605757f7</td>\n",
       "      <td>Staphylococcus aureus</td>\n",
       "      <td>0.0</td>\n",
       "      <td>0.0</td>\n",
       "      <td>0.0</td>\n",
       "      <td>0.0</td>\n",
       "      <td>0.0</td>\n",
       "    </tr>\n",
       "    <tr>\n",
       "      <th>3</th>\n",
       "      <td>843.285714</td>\n",
       "      <td>816.500000</td>\n",
       "      <td>734.428571</td>\n",
       "      <td>1027.142857</td>\n",
       "      <td>979.428571</td>\n",
       "      <td>875.571429</td>\n",
       "      <td>912.142857</td>\n",
       "      <td>714.428571</td>\n",
       "      <td>945.428571</td>\n",
       "      <td>886.500000</td>\n",
       "      <td>...</td>\n",
       "      <td>15.5</td>\n",
       "      <td>8.000000</td>\n",
       "      <td>20.057143</td>\n",
       "      <td>0a9fdd4b-7180-47c0-849e-cb32d46da94c</td>\n",
       "      <td>Staphylococcus aureus</td>\n",
       "      <td>0.0</td>\n",
       "      <td>0.0</td>\n",
       "      <td>0.0</td>\n",
       "      <td>0.0</td>\n",
       "      <td>0.0</td>\n",
       "    </tr>\n",
       "    <tr>\n",
       "      <th>4</th>\n",
       "      <td>307.857143</td>\n",
       "      <td>295.000000</td>\n",
       "      <td>246.714286</td>\n",
       "      <td>181.571429</td>\n",
       "      <td>258.000000</td>\n",
       "      <td>318.714286</td>\n",
       "      <td>295.714286</td>\n",
       "      <td>300.857143</td>\n",
       "      <td>278.142857</td>\n",
       "      <td>256.125000</td>\n",
       "      <td>...</td>\n",
       "      <td>25.5</td>\n",
       "      <td>32.000000</td>\n",
       "      <td>24.990476</td>\n",
       "      <td>0d82f4c4-473c-49d8-8c85-e3e36e96d047</td>\n",
       "      <td>Staphylococcus aureus</td>\n",
       "      <td>1.0</td>\n",
       "      <td>0.0</td>\n",
       "      <td>1.0</td>\n",
       "      <td>1.0</td>\n",
       "      <td>0.0</td>\n",
       "    </tr>\n",
       "    <tr>\n",
       "      <th>...</th>\n",
       "      <td>...</td>\n",
       "      <td>...</td>\n",
       "      <td>...</td>\n",
       "      <td>...</td>\n",
       "      <td>...</td>\n",
       "      <td>...</td>\n",
       "      <td>...</td>\n",
       "      <td>...</td>\n",
       "      <td>...</td>\n",
       "      <td>...</td>\n",
       "      <td>...</td>\n",
       "      <td>...</td>\n",
       "      <td>...</td>\n",
       "      <td>...</td>\n",
       "      <td>...</td>\n",
       "      <td>...</td>\n",
       "      <td>...</td>\n",
       "      <td>...</td>\n",
       "      <td>...</td>\n",
       "      <td>...</td>\n",
       "      <td>...</td>\n",
       "    </tr>\n",
       "    <tr>\n",
       "      <th>3786</th>\n",
       "      <td>288.000000</td>\n",
       "      <td>330.285714</td>\n",
       "      <td>296.142857</td>\n",
       "      <td>265.142857</td>\n",
       "      <td>310.750000</td>\n",
       "      <td>287.000000</td>\n",
       "      <td>345.000000</td>\n",
       "      <td>260.000000</td>\n",
       "      <td>198.714286</td>\n",
       "      <td>257.285714</td>\n",
       "      <td>...</td>\n",
       "      <td>0.0</td>\n",
       "      <td>0.000000</td>\n",
       "      <td>0.004038</td>\n",
       "      <td>fe72a46e-021e-4f0c-b81e-c4c4507e5aa8_MALDI2</td>\n",
       "      <td>Staphylococcus aureus</td>\n",
       "      <td>0.0</td>\n",
       "      <td>0.0</td>\n",
       "      <td>0.0</td>\n",
       "      <td>0.0</td>\n",
       "      <td>0.0</td>\n",
       "    </tr>\n",
       "    <tr>\n",
       "      <th>3787</th>\n",
       "      <td>1286.142857</td>\n",
       "      <td>989.714286</td>\n",
       "      <td>938.285714</td>\n",
       "      <td>901.428571</td>\n",
       "      <td>872.000000</td>\n",
       "      <td>1001.000000</td>\n",
       "      <td>1061.571429</td>\n",
       "      <td>890.857143</td>\n",
       "      <td>813.857143</td>\n",
       "      <td>961.000000</td>\n",
       "      <td>...</td>\n",
       "      <td>0.0</td>\n",
       "      <td>0.000000</td>\n",
       "      <td>0.053908</td>\n",
       "      <td>fe73e705-161f-49a7-b021-7e78d074129b_MALDI2</td>\n",
       "      <td>Staphylococcus aureus</td>\n",
       "      <td>0.0</td>\n",
       "      <td>0.0</td>\n",
       "      <td>0.0</td>\n",
       "      <td>0.0</td>\n",
       "      <td>0.0</td>\n",
       "    </tr>\n",
       "    <tr>\n",
       "      <th>3788</th>\n",
       "      <td>986.857143</td>\n",
       "      <td>977.285714</td>\n",
       "      <td>892.285714</td>\n",
       "      <td>986.714286</td>\n",
       "      <td>1045.875000</td>\n",
       "      <td>986.857143</td>\n",
       "      <td>963.571429</td>\n",
       "      <td>968.571429</td>\n",
       "      <td>960.857143</td>\n",
       "      <td>969.714286</td>\n",
       "      <td>...</td>\n",
       "      <td>0.0</td>\n",
       "      <td>0.000000</td>\n",
       "      <td>0.039084</td>\n",
       "      <td>feb54c45-54f7-4758-8408-2e94ab6c53e1_MALDI2</td>\n",
       "      <td>Staphylococcus aureus</td>\n",
       "      <td>0.0</td>\n",
       "      <td>0.0</td>\n",
       "      <td>0.0</td>\n",
       "      <td>0.0</td>\n",
       "      <td>0.0</td>\n",
       "    </tr>\n",
       "    <tr>\n",
       "      <th>3789</th>\n",
       "      <td>141.857143</td>\n",
       "      <td>197.428571</td>\n",
       "      <td>148.142857</td>\n",
       "      <td>114.000000</td>\n",
       "      <td>125.857143</td>\n",
       "      <td>158.750000</td>\n",
       "      <td>176.571429</td>\n",
       "      <td>148.285714</td>\n",
       "      <td>149.714286</td>\n",
       "      <td>151.714286</td>\n",
       "      <td>...</td>\n",
       "      <td>0.0</td>\n",
       "      <td>0.000000</td>\n",
       "      <td>0.012113</td>\n",
       "      <td>fef2ea82-be15-4e10-8685-77c42068455c_MALDI2</td>\n",
       "      <td>Staphylococcus aureus</td>\n",
       "      <td>0.0</td>\n",
       "      <td>0.0</td>\n",
       "      <td>0.0</td>\n",
       "      <td>0.0</td>\n",
       "      <td>0.0</td>\n",
       "    </tr>\n",
       "    <tr>\n",
       "      <th>3790</th>\n",
       "      <td>1498.428571</td>\n",
       "      <td>1631.857143</td>\n",
       "      <td>1443.571429</td>\n",
       "      <td>1431.571429</td>\n",
       "      <td>1361.000000</td>\n",
       "      <td>1483.857143</td>\n",
       "      <td>1520.375000</td>\n",
       "      <td>1385.571429</td>\n",
       "      <td>1333.428571</td>\n",
       "      <td>1309.285714</td>\n",
       "      <td>...</td>\n",
       "      <td>19.0</td>\n",
       "      <td>17.333333</td>\n",
       "      <td>16.595960</td>\n",
       "      <td>ff18fac2-7f60-466c-9873-9bc5c8a48318_MALDI1</td>\n",
       "      <td>Staphylococcus aureus</td>\n",
       "      <td>0.0</td>\n",
       "      <td>1.0</td>\n",
       "      <td>0.0</td>\n",
       "      <td>0.0</td>\n",
       "      <td>0.0</td>\n",
       "    </tr>\n",
       "  </tbody>\n",
       "</table>\n",
       "<p>3791 rows × 6007 columns</p>\n",
       "</div>"
      ],
      "text/plain": [
       "             2000         2003         2006         2009         2012  \\\n",
       "0      951.428571   826.125000   944.857143   898.428571  1007.714286   \n",
       "1      784.714286   701.125000   681.571429   762.142857   737.571429   \n",
       "2       50.875000    89.142857    56.142857   151.285714   132.714286   \n",
       "3      843.285714   816.500000   734.428571  1027.142857   979.428571   \n",
       "4      307.857143   295.000000   246.714286   181.571429   258.000000   \n",
       "...           ...          ...          ...          ...          ...   \n",
       "3786   288.000000   330.285714   296.142857   265.142857   310.750000   \n",
       "3787  1286.142857   989.714286   938.285714   901.428571   872.000000   \n",
       "3788   986.857143   977.285714   892.285714   986.714286  1045.875000   \n",
       "3789   141.857143   197.428571   148.142857   114.000000   125.857143   \n",
       "3790  1498.428571  1631.857143  1443.571429  1431.571429  1361.000000   \n",
       "\n",
       "             2015         2018         2021         2024         2027  ...  \\\n",
       "0      936.000000   828.571429   812.000000   782.714286   741.625000  ...   \n",
       "1      733.000000   735.857143   659.571429   802.714286   554.375000  ...   \n",
       "2      110.428571    47.285714    63.428571   100.375000    52.142857  ...   \n",
       "3      875.571429   912.142857   714.428571   945.428571   886.500000  ...   \n",
       "4      318.714286   295.714286   300.857143   278.142857   256.125000  ...   \n",
       "...           ...          ...          ...          ...          ...  ...   \n",
       "3786   287.000000   345.000000   260.000000   198.714286   257.285714  ...   \n",
       "3787  1001.000000  1061.571429   890.857143   813.857143   961.000000  ...   \n",
       "3788   986.857143   963.571429   968.571429   960.857143   969.714286  ...   \n",
       "3789   158.750000   176.571429   148.285714   149.714286   151.714286  ...   \n",
       "3790  1483.857143  1520.375000  1385.571429  1333.428571  1309.285714  ...   \n",
       "\n",
       "      19991      19994      19997  \\\n",
       "0      35.5  20.500000  27.342857   \n",
       "1      30.0  40.500000  34.695238   \n",
       "2       2.5  30.500000  11.288462   \n",
       "3      15.5   8.000000  20.057143   \n",
       "4      25.5  32.000000  24.990476   \n",
       "...     ...        ...        ...   \n",
       "3786    0.0   0.000000   0.004038   \n",
       "3787    0.0   0.000000   0.053908   \n",
       "3788    0.0   0.000000   0.039084   \n",
       "3789    0.0   0.000000   0.012113   \n",
       "3790   19.0  17.333333  16.595960   \n",
       "\n",
       "                                             code                species  \\\n",
       "0            029f0abf-1664-424f-88cb-11c9c8af2b11  Staphylococcus aureus   \n",
       "1            08149af1-10f5-4f02-81d8-3d46d66d4a7a  Staphylococcus aureus   \n",
       "2            08fe3876-ecee-4ddc-9aa9-a84f605757f7  Staphylococcus aureus   \n",
       "3            0a9fdd4b-7180-47c0-849e-cb32d46da94c  Staphylococcus aureus   \n",
       "4            0d82f4c4-473c-49d8-8c85-e3e36e96d047  Staphylococcus aureus   \n",
       "...                                           ...                    ...   \n",
       "3786  fe72a46e-021e-4f0c-b81e-c4c4507e5aa8_MALDI2  Staphylococcus aureus   \n",
       "3787  fe73e705-161f-49a7-b021-7e78d074129b_MALDI2  Staphylococcus aureus   \n",
       "3788  feb54c45-54f7-4758-8408-2e94ab6c53e1_MALDI2  Staphylococcus aureus   \n",
       "3789  fef2ea82-be15-4e10-8685-77c42068455c_MALDI2  Staphylococcus aureus   \n",
       "3790  ff18fac2-7f60-466c-9873-9bc5c8a48318_MALDI1  Staphylococcus aureus   \n",
       "\n",
       "      Oxacillin  Clindamycin  Ceftriaxone  Ciprofloxacin  Fusidic acid  \n",
       "0           0.0          0.0          0.0            0.0           1.0  \n",
       "1           0.0          0.0          0.0            0.0           0.0  \n",
       "2           0.0          0.0          0.0            0.0           0.0  \n",
       "3           0.0          0.0          0.0            0.0           0.0  \n",
       "4           1.0          0.0          1.0            1.0           0.0  \n",
       "...         ...          ...          ...            ...           ...  \n",
       "3786        0.0          0.0          0.0            0.0           0.0  \n",
       "3787        0.0          0.0          0.0            0.0           0.0  \n",
       "3788        0.0          0.0          0.0            0.0           0.0  \n",
       "3789        0.0          0.0          0.0            0.0           0.0  \n",
       "3790        0.0          1.0          0.0            0.0           0.0  \n",
       "\n",
       "[3791 rows x 6007 columns]"
      ]
     },
     "execution_count": 128,
     "metadata": {},
     "output_type": "execute_result"
    }
   ],
   "source": [
    "s_aureus = pd.read_csv('s_aureus_driams_a_bin3_2000_20000Da.csv')\n",
    "s_aureus = s_aureus.fillna(0)\n",
    "s_aureus"
   ]
  },
  {
   "cell_type": "markdown",
   "metadata": {
    "id": "NhURWBqqXoQp"
   },
   "source": [
    "# Preprocessing Data"
   ]
  },
  {
   "cell_type": "code",
   "execution_count": 129,
   "metadata": {
    "id": "koTco5gulH3G"
   },
   "outputs": [],
   "source": [
    "s_aureus_oxacillin = s_aureus.drop(columns=['code','species', 'Clindamycin', 'Ceftriaxone', 'Ciprofloxacin', 'Fusidic acid'])\n",
    "s_aureus_oxacillin.dropna(axis=0, how=\"any\", inplace=True)"
   ]
  },
  {
   "cell_type": "code",
   "execution_count": 130,
   "metadata": {
    "colab": {
     "base_uri": "https://localhost:8080/"
    },
    "id": "orhVwzFGkic-",
    "outputId": "81fb590c-fc1e-40de-c3a6-670302a0e496"
   },
   "outputs": [
    {
     "data": {
      "text/plain": [
       "(3791, 6003)"
      ]
     },
     "execution_count": 130,
     "metadata": {},
     "output_type": "execute_result"
    }
   ],
   "source": [
    "s_aureus_ceftriaxone = s_aureus.drop(columns=['Oxacillin', 'Clindamycin', 'Ceftriaxone', 'Fusidic acid'])\n",
    "#ceftriaxone.dropna(axis=0, how=\"any\", inplace=True)\n",
    "s_aureus_ceftriaxone.dropna(axis=0, how=\"any\", inplace=True)\n",
    "s_aureus_ceftriaxone.shape"
   ]
  },
  {
   "cell_type": "code",
   "execution_count": 131,
   "metadata": {
    "colab": {
     "base_uri": "https://localhost:8080/",
     "height": 255
    },
    "id": "wZUfupfGtc7O",
    "outputId": "8d410c72-1957-46d3-cb47-7e9ccb5f04b4"
   },
   "outputs": [
    {
     "data": {
      "text/html": [
       "<div>\n",
       "<style scoped>\n",
       "    .dataframe tbody tr th:only-of-type {\n",
       "        vertical-align: middle;\n",
       "    }\n",
       "\n",
       "    .dataframe tbody tr th {\n",
       "        vertical-align: top;\n",
       "    }\n",
       "\n",
       "    .dataframe thead th {\n",
       "        text-align: right;\n",
       "    }\n",
       "</style>\n",
       "<table border=\"1\" class=\"dataframe\">\n",
       "  <thead>\n",
       "    <tr style=\"text-align: right;\">\n",
       "      <th></th>\n",
       "      <th>2000</th>\n",
       "      <th>2003</th>\n",
       "      <th>2006</th>\n",
       "      <th>2009</th>\n",
       "      <th>2012</th>\n",
       "      <th>2015</th>\n",
       "      <th>2018</th>\n",
       "      <th>2021</th>\n",
       "      <th>2024</th>\n",
       "      <th>2027</th>\n",
       "      <th>...</th>\n",
       "      <th>19973</th>\n",
       "      <th>19976</th>\n",
       "      <th>19979</th>\n",
       "      <th>19982</th>\n",
       "      <th>19985</th>\n",
       "      <th>19988</th>\n",
       "      <th>19991</th>\n",
       "      <th>19994</th>\n",
       "      <th>19997</th>\n",
       "      <th>Oxacillin</th>\n",
       "    </tr>\n",
       "  </thead>\n",
       "  <tbody>\n",
       "    <tr>\n",
       "      <th>0</th>\n",
       "      <td>951.428571</td>\n",
       "      <td>826.125000</td>\n",
       "      <td>944.857143</td>\n",
       "      <td>898.428571</td>\n",
       "      <td>1007.714286</td>\n",
       "      <td>936.000000</td>\n",
       "      <td>828.571429</td>\n",
       "      <td>812.000000</td>\n",
       "      <td>782.714286</td>\n",
       "      <td>741.625000</td>\n",
       "      <td>...</td>\n",
       "      <td>14.333333</td>\n",
       "      <td>24.0</td>\n",
       "      <td>68.0</td>\n",
       "      <td>19.0</td>\n",
       "      <td>19.000000</td>\n",
       "      <td>50.0</td>\n",
       "      <td>35.5</td>\n",
       "      <td>20.5</td>\n",
       "      <td>27.342857</td>\n",
       "      <td>0.0</td>\n",
       "    </tr>\n",
       "    <tr>\n",
       "      <th>1</th>\n",
       "      <td>784.714286</td>\n",
       "      <td>701.125000</td>\n",
       "      <td>681.571429</td>\n",
       "      <td>762.142857</td>\n",
       "      <td>737.571429</td>\n",
       "      <td>733.000000</td>\n",
       "      <td>735.857143</td>\n",
       "      <td>659.571429</td>\n",
       "      <td>802.714286</td>\n",
       "      <td>554.375000</td>\n",
       "      <td>...</td>\n",
       "      <td>15.666667</td>\n",
       "      <td>39.0</td>\n",
       "      <td>19.5</td>\n",
       "      <td>42.0</td>\n",
       "      <td>69.666667</td>\n",
       "      <td>31.0</td>\n",
       "      <td>30.0</td>\n",
       "      <td>40.5</td>\n",
       "      <td>34.695238</td>\n",
       "      <td>0.0</td>\n",
       "    </tr>\n",
       "    <tr>\n",
       "      <th>2</th>\n",
       "      <td>50.875000</td>\n",
       "      <td>89.142857</td>\n",
       "      <td>56.142857</td>\n",
       "      <td>151.285714</td>\n",
       "      <td>132.714286</td>\n",
       "      <td>110.428571</td>\n",
       "      <td>47.285714</td>\n",
       "      <td>63.428571</td>\n",
       "      <td>100.375000</td>\n",
       "      <td>52.142857</td>\n",
       "      <td>...</td>\n",
       "      <td>20.666667</td>\n",
       "      <td>17.0</td>\n",
       "      <td>2.0</td>\n",
       "      <td>18.0</td>\n",
       "      <td>18.000000</td>\n",
       "      <td>11.5</td>\n",
       "      <td>2.5</td>\n",
       "      <td>30.5</td>\n",
       "      <td>11.288462</td>\n",
       "      <td>0.0</td>\n",
       "    </tr>\n",
       "    <tr>\n",
       "      <th>3</th>\n",
       "      <td>843.285714</td>\n",
       "      <td>816.500000</td>\n",
       "      <td>734.428571</td>\n",
       "      <td>1027.142857</td>\n",
       "      <td>979.428571</td>\n",
       "      <td>875.571429</td>\n",
       "      <td>912.142857</td>\n",
       "      <td>714.428571</td>\n",
       "      <td>945.428571</td>\n",
       "      <td>886.500000</td>\n",
       "      <td>...</td>\n",
       "      <td>22.333333</td>\n",
       "      <td>33.0</td>\n",
       "      <td>29.0</td>\n",
       "      <td>14.5</td>\n",
       "      <td>21.666667</td>\n",
       "      <td>24.5</td>\n",
       "      <td>15.5</td>\n",
       "      <td>8.0</td>\n",
       "      <td>20.057143</td>\n",
       "      <td>0.0</td>\n",
       "    </tr>\n",
       "    <tr>\n",
       "      <th>4</th>\n",
       "      <td>307.857143</td>\n",
       "      <td>295.000000</td>\n",
       "      <td>246.714286</td>\n",
       "      <td>181.571429</td>\n",
       "      <td>258.000000</td>\n",
       "      <td>318.714286</td>\n",
       "      <td>295.714286</td>\n",
       "      <td>300.857143</td>\n",
       "      <td>278.142857</td>\n",
       "      <td>256.125000</td>\n",
       "      <td>...</td>\n",
       "      <td>26.666667</td>\n",
       "      <td>25.5</td>\n",
       "      <td>18.0</td>\n",
       "      <td>53.5</td>\n",
       "      <td>23.000000</td>\n",
       "      <td>24.5</td>\n",
       "      <td>25.5</td>\n",
       "      <td>32.0</td>\n",
       "      <td>24.990476</td>\n",
       "      <td>1.0</td>\n",
       "    </tr>\n",
       "  </tbody>\n",
       "</table>\n",
       "<p>5 rows × 6001 columns</p>\n",
       "</div>"
      ],
      "text/plain": [
       "         2000        2003        2006         2009         2012        2015  \\\n",
       "0  951.428571  826.125000  944.857143   898.428571  1007.714286  936.000000   \n",
       "1  784.714286  701.125000  681.571429   762.142857   737.571429  733.000000   \n",
       "2   50.875000   89.142857   56.142857   151.285714   132.714286  110.428571   \n",
       "3  843.285714  816.500000  734.428571  1027.142857   979.428571  875.571429   \n",
       "4  307.857143  295.000000  246.714286   181.571429   258.000000  318.714286   \n",
       "\n",
       "         2018        2021        2024        2027  ...      19973  19976  \\\n",
       "0  828.571429  812.000000  782.714286  741.625000  ...  14.333333   24.0   \n",
       "1  735.857143  659.571429  802.714286  554.375000  ...  15.666667   39.0   \n",
       "2   47.285714   63.428571  100.375000   52.142857  ...  20.666667   17.0   \n",
       "3  912.142857  714.428571  945.428571  886.500000  ...  22.333333   33.0   \n",
       "4  295.714286  300.857143  278.142857  256.125000  ...  26.666667   25.5   \n",
       "\n",
       "   19979  19982      19985  19988  19991  19994      19997  Oxacillin  \n",
       "0   68.0   19.0  19.000000   50.0   35.5   20.5  27.342857        0.0  \n",
       "1   19.5   42.0  69.666667   31.0   30.0   40.5  34.695238        0.0  \n",
       "2    2.0   18.0  18.000000   11.5    2.5   30.5  11.288462        0.0  \n",
       "3   29.0   14.5  21.666667   24.5   15.5    8.0  20.057143        0.0  \n",
       "4   18.0   53.5  23.000000   24.5   25.5   32.0  24.990476        1.0  \n",
       "\n",
       "[5 rows x 6001 columns]"
      ]
     },
     "execution_count": 131,
     "metadata": {},
     "output_type": "execute_result"
    }
   ],
   "source": [
    "s_aureus_oxacillin.head()"
   ]
  },
  {
   "cell_type": "code",
   "execution_count": 132,
   "metadata": {
    "id": "-4dAtvUEkibF"
   },
   "outputs": [],
   "source": [
    "X = s_aureus_oxacillin.iloc[:, 0:6000].values  # variables independientes (espectros de masa)\n",
    "y = s_aureus_oxacillin.iloc[:, 6000].values    # variable dependientes (resistencia a ciprofloxacin)\n",
    "X = np.asarray(X).astype(np.float32)\n",
    "y = np.asarray(y).astype(np.float32)"
   ]
  },
  {
   "cell_type": "markdown",
   "metadata": {},
   "source": [
    "## Enfoque en clase minoritaria"
   ]
  },
  {
   "cell_type": "code",
   "execution_count": 133,
   "metadata": {},
   "outputs": [],
   "source": [
    "filtered_data = s_aureus_oxacillin[s_aureus_oxacillin['Oxacillin'] == 1].iloc[:, 0:6000].values \n"
   ]
  },
  {
   "cell_type": "code",
   "execution_count": 134,
   "metadata": {},
   "outputs": [],
   "source": [
    "etiquetas = s_aureus_oxacillin[s_aureus_oxacillin['Oxacillin'] == 1].iloc[:, 6000].values"
   ]
  },
  {
   "cell_type": "code",
   "execution_count": 135,
   "metadata": {},
   "outputs": [],
   "source": [
    "train_set = [\n",
    "    (filtered_data[i], etiquetas[i]) for i in range(len(filtered_data))\n",
    "]"
   ]
  },
  {
   "cell_type": "markdown",
   "metadata": {
    "id": "J2Zbxb074EHL"
   },
   "source": [
    "## Aplicacion de gan"
   ]
  },
  {
   "cell_type": "code",
   "execution_count": 136,
   "metadata": {},
   "outputs": [],
   "source": [
    "batch_size = 32\n",
    "train_loader = torch.utils.data.DataLoader(\n",
    "    train_set, batch_size=batch_size, shuffle=True\n",
    ")"
   ]
  },
  {
   "cell_type": "code",
   "execution_count": 137,
   "metadata": {},
   "outputs": [],
   "source": [
    "class Discriminator(nn.Module):\n",
    "    def __init__(self):\n",
    "        super().__init__()\n",
    "        self.model = nn.Sequential(\n",
    "            nn.Linear(6000, 2048),\n",
    "            nn.ReLU(),\n",
    "            nn.Dropout(0.4),\n",
    "            nn.Linear(2048, 1024),\n",
    "            nn.ReLU(),\n",
    "            nn.Dropout(0.4),\n",
    "            nn.Linear(1024, 512),\n",
    "            nn.ReLU(),\n",
    "            nn.Dropout(0.4),\n",
    "            nn.Linear(512, 256),\n",
    "            nn.ReLU(),\n",
    "            nn.Dropout(0.4),\n",
    "            nn.Linear(256, 1),\n",
    "            nn.Sigmoid(),\n",
    "        )\n",
    "\n",
    "    def forward(self, x):\n",
    "        output = self.model(x)\n",
    "        return output\n"
   ]
  },
  {
   "cell_type": "code",
   "execution_count": 138,
   "metadata": {},
   "outputs": [],
   "source": [
    "class Generator(nn.Module):\n",
    "    def __init__(self):\n",
    "        super().__init__()\n",
    "        self.model = nn.Sequential(\n",
    "            nn.Linear(100, 1024),\n",
    "            nn.ReLU(),\n",
    "            nn.BatchNorm1d(1024),  # Añadido batch normalization\n",
    "            nn.Linear(1024, 2048),\n",
    "            nn.ReLU(),\n",
    "            nn.BatchNorm1d(2048),  # Añadido batch normalization\n",
    "            nn.Linear(2048, 4096),\n",
    "            nn.ReLU(),\n",
    "            nn.BatchNorm1d(4096),  # Añadido batch normalization\n",
    "            nn.Linear(4096, 6000),\n",
    "        )\n",
    "\n",
    "    def forward(self, x):\n",
    "        output = self.model(x)\n",
    "        return output"
   ]
  },
  {
   "cell_type": "code",
   "execution_count": 139,
   "metadata": {},
   "outputs": [],
   "source": [
    "\n",
    "discriminator = Discriminator()\n",
    "generator = Generator()\n"
   ]
  },
  {
   "cell_type": "code",
   "execution_count": 140,
   "metadata": {},
   "outputs": [],
   "source": [
    "num_epochs = 700\n",
    "loss_function = nn.BCELoss()"
   ]
  },
  {
   "cell_type": "code",
   "execution_count": 141,
   "metadata": {},
   "outputs": [],
   "source": [
    "optimizer_discriminator = torch.optim.Adam(discriminator.parameters(), lr=1e-5)\n",
    "optimizer_generator = torch.optim.Adam(generator.parameters(), lr=1e-4)\n"
   ]
  },
  {
   "cell_type": "code",
   "execution_count": null,
   "metadata": {},
   "outputs": [
    {
     "name": "stdout",
     "output_type": "stream",
     "text": [
      "Epoch: 0 Loss D.: 0.3564521074295044\n",
      "Epoch: 0 Loss G.: 0.6740890145301819\n",
      "Epoch: 10 Loss D.: 0.3842724561691284\n",
      "Epoch: 10 Loss G.: 0.7020592093467712\n",
      "Epoch: 20 Loss D.: 0.395111083984375\n",
      "Epoch: 20 Loss G.: 0.6435344219207764\n",
      "Epoch: 30 Loss D.: 0.41565102338790894\n",
      "Epoch: 30 Loss G.: 0.5979604721069336\n",
      "Epoch: 40 Loss D.: 0.44827547669410706\n",
      "Epoch: 40 Loss G.: 0.5129573345184326\n",
      "Epoch: 50 Loss D.: 0.5044165849685669\n",
      "Epoch: 50 Loss G.: 0.44723549485206604\n",
      "Epoch: 60 Loss D.: 0.5558977723121643\n",
      "Epoch: 60 Loss G.: 0.4208298921585083\n",
      "Epoch: 70 Loss D.: 0.5139031410217285\n",
      "Epoch: 70 Loss G.: 0.4385877549648285\n",
      "Epoch: 80 Loss D.: 0.5562918782234192\n",
      "Epoch: 80 Loss G.: 0.444909930229187\n",
      "Epoch: 90 Loss D.: 2.842402458190918\n",
      "Epoch: 90 Loss G.: 0.41064557433128357\n",
      "Epoch: 100 Loss D.: 0.560870885848999\n",
      "Epoch: 100 Loss G.: 0.45196533203125\n",
      "Epoch: 110 Loss D.: 0.5550196170806885\n",
      "Epoch: 110 Loss G.: 0.3619270324707031\n",
      "Epoch: 120 Loss D.: 0.6218023896217346\n",
      "Epoch: 120 Loss G.: 0.3903990089893341\n",
      "Epoch: 130 Loss D.: 0.5884827375411987\n",
      "Epoch: 130 Loss G.: 0.3918965458869934\n",
      "Epoch: 140 Loss D.: 0.5581263899803162\n",
      "Epoch: 140 Loss G.: 0.4258401691913605\n",
      "Epoch: 150 Loss D.: 0.538417398929596\n",
      "Epoch: 150 Loss G.: 0.41089919209480286\n",
      "Epoch: 160 Loss D.: 0.5424379706382751\n",
      "Epoch: 160 Loss G.: 0.4647446870803833\n",
      "Epoch: 170 Loss D.: 0.5473145842552185\n",
      "Epoch: 170 Loss G.: 0.4595341980457306\n",
      "Epoch: 180 Loss D.: 0.5116078853607178\n",
      "Epoch: 180 Loss G.: 0.5007189512252808\n",
      "Epoch: 190 Loss D.: 0.6598635315895081\n",
      "Epoch: 190 Loss G.: 0.4917605519294739\n",
      "Epoch: 200 Loss D.: 0.5274872183799744\n",
      "Epoch: 200 Loss G.: 0.4984421730041504\n",
      "Epoch: 210 Loss D.: 0.5699753165245056\n",
      "Epoch: 210 Loss G.: 0.5216367840766907\n",
      "Epoch: 220 Loss D.: 0.5372457504272461\n",
      "Epoch: 220 Loss G.: 0.5114706158638\n",
      "Epoch: 230 Loss D.: 0.49158990383148193\n",
      "Epoch: 230 Loss G.: 0.5618540048599243\n",
      "Epoch: 240 Loss D.: 0.4661584198474884\n",
      "Epoch: 240 Loss G.: 0.5336226224899292\n",
      "Epoch: 250 Loss D.: 0.4707084894180298\n",
      "Epoch: 250 Loss G.: 0.5188854932785034\n",
      "Epoch: 260 Loss D.: 0.47912532091140747\n",
      "Epoch: 260 Loss G.: 0.5630481243133545\n",
      "Epoch: 270 Loss D.: 0.4719393849372864\n",
      "Epoch: 270 Loss G.: 0.5483486652374268\n",
      "Epoch: 280 Loss D.: 0.5280938744544983\n",
      "Epoch: 280 Loss G.: 0.5425751209259033\n",
      "Epoch: 290 Loss D.: 0.4893796145915985\n",
      "Epoch: 290 Loss G.: 0.5352718830108643\n",
      "Epoch: 300 Loss D.: 0.4824641942977905\n",
      "Epoch: 300 Loss G.: 0.5014802813529968\n",
      "Epoch: 310 Loss D.: 0.5836659073829651\n",
      "Epoch: 310 Loss G.: 0.5436630845069885\n",
      "Epoch: 320 Loss D.: 0.4969692528247833\n",
      "Epoch: 320 Loss G.: 0.5368372201919556\n",
      "Epoch: 330 Loss D.: 0.46864601969718933\n",
      "Epoch: 330 Loss G.: 0.5689414739608765\n",
      "Epoch: 340 Loss D.: 0.6098612546920776\n",
      "Epoch: 340 Loss G.: 0.5865652561187744\n",
      "Epoch: 350 Loss D.: 0.4963102638721466\n",
      "Epoch: 350 Loss G.: 0.6238389611244202\n",
      "Epoch: 360 Loss D.: 0.418053537607193\n",
      "Epoch: 360 Loss G.: 0.5972224473953247\n",
      "Epoch: 370 Loss D.: 0.44987452030181885\n",
      "Epoch: 370 Loss G.: 0.6271504163742065\n",
      "Epoch: 380 Loss D.: 0.4639118015766144\n",
      "Epoch: 380 Loss G.: 0.6012184619903564\n",
      "Epoch: 390 Loss D.: 0.41455981135368347\n",
      "Epoch: 390 Loss G.: 0.6815223693847656\n",
      "Epoch: 400 Loss D.: 0.4621700048446655\n",
      "Epoch: 400 Loss G.: 0.6220595836639404\n",
      "Epoch: 410 Loss D.: 0.4665307104587555\n",
      "Epoch: 410 Loss G.: 0.5984429717063904\n",
      "Epoch: 420 Loss D.: 0.4061264991760254\n",
      "Epoch: 420 Loss G.: 0.701892614364624\n",
      "Epoch: 430 Loss D.: 0.4364345371723175\n",
      "Epoch: 430 Loss G.: 0.5736492276191711\n",
      "Epoch: 440 Loss D.: 0.5058746933937073\n",
      "Epoch: 440 Loss G.: 0.5943671464920044\n",
      "Epoch: 450 Loss D.: 0.4162955582141876\n",
      "Epoch: 450 Loss G.: 0.6553045511245728\n",
      "Epoch: 460 Loss D.: 0.5936319231987\n",
      "Epoch: 460 Loss G.: 0.6318390369415283\n",
      "Epoch: 470 Loss D.: 0.44719332456588745\n",
      "Epoch: 470 Loss G.: 0.5862154364585876\n",
      "Epoch: 480 Loss D.: 0.43057987093925476\n",
      "Epoch: 480 Loss G.: 0.8426797986030579\n",
      "Epoch: 490 Loss D.: 0.3590772747993469\n",
      "Epoch: 490 Loss G.: 1.1009044647216797\n",
      "Epoch: 500 Loss D.: 0.40232789516448975\n",
      "Epoch: 500 Loss G.: 0.8832294940948486\n",
      "Epoch: 510 Loss D.: 0.3680937588214874\n",
      "Epoch: 510 Loss G.: 0.8082472085952759\n",
      "Epoch: 520 Loss D.: 0.3658185303211212\n",
      "Epoch: 520 Loss G.: 1.319307804107666\n",
      "Epoch: 530 Loss D.: 0.31280767917633057\n",
      "Epoch: 530 Loss G.: 1.1056257486343384\n",
      "Epoch: 540 Loss D.: 0.3011622130870819\n",
      "Epoch: 540 Loss G.: 0.8568397164344788\n",
      "Epoch: 550 Loss D.: 0.3539831340312958\n",
      "Epoch: 550 Loss G.: 0.8092930316925049\n",
      "Epoch: 560 Loss D.: 0.3839114010334015\n",
      "Epoch: 560 Loss G.: 0.6511404514312744\n",
      "Epoch: 570 Loss D.: 0.4738837480545044\n",
      "Epoch: 570 Loss G.: 0.7733176946640015\n",
      "Epoch: 580 Loss D.: 0.45650798082351685\n",
      "Epoch: 580 Loss G.: 0.7290022373199463\n",
      "Epoch: 590 Loss D.: 0.413847416639328\n",
      "Epoch: 590 Loss G.: 0.6519208550453186\n",
      "Epoch: 600 Loss D.: 0.35597580671310425\n",
      "Epoch: 600 Loss G.: 0.665997326374054\n",
      "Epoch: 610 Loss D.: 0.4789433777332306\n",
      "Epoch: 610 Loss G.: 0.655243456363678\n",
      "Epoch: 620 Loss D.: 0.38847342133522034\n",
      "Epoch: 620 Loss G.: 0.7205409407615662\n",
      "Epoch: 630 Loss D.: 2.6994411945343018\n",
      "Epoch: 630 Loss G.: 0.7611284255981445\n",
      "Epoch: 640 Loss D.: 0.4856427013874054\n",
      "Epoch: 640 Loss G.: 0.6411827206611633\n",
      "Epoch: 650 Loss D.: 0.44573774933815\n",
      "Epoch: 650 Loss G.: 0.7730457186698914\n",
      "Epoch: 660 Loss D.: 0.4430253207683563\n",
      "Epoch: 660 Loss G.: 0.6970681548118591\n",
      "Epoch: 670 Loss D.: 0.4087272584438324\n",
      "Epoch: 670 Loss G.: 0.7660882472991943\n",
      "Epoch: 680 Loss D.: 0.37561461329460144\n",
      "Epoch: 680 Loss G.: 0.7458271384239197\n",
      "Epoch: 690 Loss D.: 0.45388078689575195\n",
      "Epoch: 690 Loss G.: 0.7040056586265564\n"
     ]
    }
   ],
   "source": [
    "for epoch in range(num_epochs):\n",
    "    for n, (real_samples, _) in enumerate(train_loader):\n",
    "        # Asegurarse de que los datos reales están en float32\n",
    "        real_samples = real_samples.float()\n",
    "\n",
    "        # Data for training the discriminator\n",
    "        real_samples_labels = torch.ones((batch_size, 1)).float()  # Convertir a float32\n",
    "        latent_space_samples = torch.randn((batch_size, 100)).float()  # Espacio latente en float32\n",
    "        generated_samples = generator(latent_space_samples)\n",
    "        generated_samples_labels = torch.zeros((batch_size, 1)).float()  # Convertir a float32\n",
    "        all_samples = torch.cat((real_samples, generated_samples))\n",
    "        all_samples_labels = torch.cat(\n",
    "            (real_samples_labels, generated_samples_labels)\n",
    "        )\n",
    "\n",
    "        # Training the discriminator\n",
    "        discriminator.zero_grad()\n",
    "        output_discriminator = discriminator(all_samples)\n",
    "        loss_discriminator = loss_function(\n",
    "            output_discriminator, all_samples_labels)\n",
    "        loss_discriminator.backward()\n",
    "        optimizer_discriminator.step()\n",
    "\n",
    "        # Data for training the generator\n",
    "        latent_space_samples = torch.randn((batch_size, 100)).float()  # Asegurarse de float32\n",
    "\n",
    "        # Training the generator\n",
    "        generator.zero_grad()\n",
    "        generated_samples = generator(latent_space_samples)\n",
    "        output_discriminator_generated = discriminator(generated_samples)\n",
    "        loss_generator = loss_function(\n",
    "            output_discriminator_generated, real_samples_labels\n",
    "        )\n",
    "        loss_generator.backward()\n",
    "        optimizer_generator.step()\n",
    "\n",
    "        # Show loss\n",
    "        if epoch % 10 == 0 and n == batch_size - 1:\n",
    "            print(f\"Epoch: {epoch} Loss D.: {loss_discriminator}\")\n",
    "            print(f\"Epoch: {epoch} Loss G.: {loss_generator}\")\n"
   ]
  },
  {
   "cell_type": "markdown",
   "metadata": {},
   "source": [
    "## Agregar muestras sinteticas a modelo"
   ]
  },
  {
   "cell_type": "code",
   "execution_count": 143,
   "metadata": {},
   "outputs": [],
   "source": [
    "X_train, X_test, y_train, y_test = train_test_split(X, y, test_size = 0.2, random_state = 0, stratify=y)"
   ]
  },
  {
   "cell_type": "code",
   "execution_count": 144,
   "metadata": {},
   "outputs": [
    {
     "name": "stdout",
     "output_type": "stream",
     "text": [
      "tensor([[  8.4944,  25.7226,  31.2629,  ...,  43.1685,   9.7193,  -5.2175],\n",
      "        [177.1736, 128.9285, 117.3601,  ...,  28.2764,   6.5341,   4.7095],\n",
      "        [190.0049, 133.8711, 115.0629,  ...,  14.5036,  14.0609,   7.5397],\n",
      "        ...,\n",
      "        [-21.3547,  14.3119,  27.9883,  ...,  32.7118,   2.8935,  -8.2676],\n",
      "        [211.5135, 151.0600, 142.5094,  ...,  14.6193,  13.0850,   7.0502],\n",
      "        [109.5043, 120.2789, 147.0728,  ...,  38.8745,   5.8940,  -5.8536]],\n",
      "       grad_fn=<AddmmBackward0>)\n"
     ]
    }
   ],
   "source": [
    "\n",
    "# Asegúrate de que el generador esté en modo de evaluación\n",
    "generator.eval()\n",
    "\n",
    "# Definir el tamaño del batch que deseas generar\n",
    "batch_size = pd.Series(y_train).value_counts()[0]-pd.Series(y_train).value_counts()[1]  # Puedes generar tantas muestras como desees\n",
    "\n",
    "# Generar un tensor de tamaño (batch_size, 100) con valores aleatorios (espacio latente)\n",
    "latent_space_samples = torch.randn(batch_size, 100).float()\n",
    "\n",
    "# Generar las muestras sintéticas utilizando el generador\n",
    "synthetic_samples = generator(latent_space_samples)\n",
    "\n",
    "# Convertir el tensor de PyTorch a un arreglo de NumPy\n",
    "synthetic_samples_numpy = synthetic_samples.detach().cpu().numpy()\n",
    "\n",
    "\n",
    "# Cambiar el tipo de datos a float32\n",
    "synthetic_samples_numpy = synthetic_samples_numpy.astype(np.float32)\n",
    "\n",
    "# Mostrar las muestras generadas\n",
    "print(synthetic_samples)"
   ]
  },
  {
   "cell_type": "code",
   "execution_count": 145,
   "metadata": {},
   "outputs": [
    {
     "data": {
      "text/plain": [
       "(1870, 6000)"
      ]
     },
     "execution_count": 145,
     "metadata": {},
     "output_type": "execute_result"
    }
   ],
   "source": [
    "synthetic_samples_numpy.shape"
   ]
  },
  {
   "cell_type": "code",
   "execution_count": 146,
   "metadata": {},
   "outputs": [],
   "source": [
    "X_train_balanced = np.concatenate((X_train,synthetic_samples_numpy))"
   ]
  },
  {
   "cell_type": "code",
   "execution_count": 147,
   "metadata": {},
   "outputs": [],
   "source": [
    "array_ones = np.ones(pd.Series(y_train).value_counts()[0]-pd.Series(y_train).value_counts()[1])\n",
    "array_ones = np.asarray(array_ones).astype(np.float32)\n"
   ]
  },
  {
   "cell_type": "code",
   "execution_count": 148,
   "metadata": {},
   "outputs": [],
   "source": [
    "y_train_balanced = np.concatenate((y_train, array_ones))\n"
   ]
  },
  {
   "cell_type": "code",
   "execution_count": 149,
   "metadata": {},
   "outputs": [
    {
     "data": {
      "text/plain": [
       "0.0    2451\n",
       "1.0     581\n",
       "Name: count, dtype: int64"
      ]
     },
     "execution_count": 149,
     "metadata": {},
     "output_type": "execute_result"
    }
   ],
   "source": [
    "pd.Series(y_train).value_counts()"
   ]
  },
  {
   "cell_type": "code",
   "execution_count": 150,
   "metadata": {},
   "outputs": [
    {
     "data": {
      "text/plain": [
       "(3791, 6001)"
      ]
     },
     "execution_count": 150,
     "metadata": {},
     "output_type": "execute_result"
    }
   ],
   "source": [
    "s_aureus_oxacillin.shape"
   ]
  },
  {
   "cell_type": "markdown",
   "metadata": {},
   "source": [
    "## Visualizacion de datos sinteticos"
   ]
  },
  {
   "cell_type": "code",
   "execution_count": 151,
   "metadata": {},
   "outputs": [
    {
     "data": {
      "text/plain": [
       "'\\n# Asegúrate de que el generador esté en modo de evaluación\\ngenerator.eval()\\n\\n# Definir el tamaño del batch que deseas generar\\nbatch_size = pd.Series(y_train).value_counts()[0]-pd.Series(y_train).value_counts()[1]  # Puedes generar tantas muestras como desees\\n\\n# Generar un tensor de tamaño (batch_size, 100) con valores aleatorios (espacio latente)\\nlatent_space_samples = torch.randn(batch_size, 100).float()\\n\\n# Generar las muestras sintéticas utilizando el generador\\nsynthetic_samples = generator(latent_space_samples)\\n\\n# Convertir el tensor de PyTorch a un arreglo de NumPy\\nsynthetic_samples_numpy = synthetic_samples.detach().cpu().numpy()\\n\\n\\n# Cambiar el tipo de datos a float32\\nsynthetic_samples_numpy = synthetic_samples_numpy.astype(np.float32)\\n\\n# Mostrar las muestras generadas\\nprint(synthetic_samples)'"
      ]
     },
     "execution_count": 151,
     "metadata": {},
     "output_type": "execute_result"
    }
   ],
   "source": [
    "# Asegúrate de que el generador esté en modo de evaluación\n",
    "generator.eval()\n",
    "\n",
    "# Definir el tamaño del batch que deseas generar\n",
    "batch_size = 10000  # Puedes generar tantas muestras como desees\n",
    "\n",
    "# Generar un tensor de tamaño (batch_size, 100) con valores aleatorios (espacio latente)\n",
    "espacioLatente = torch.randn(batch_size, 100).float()\n",
    "\n",
    "# Generar las muestras sintéticas utilizando el generador\n",
    "muestrasSinteticasParaVisualizacion = generator(espacioLatente)\n",
    "\n",
    "# Convertir el tensor de PyTorch a un arreglo de NumPy\n",
    "muestrasSinteticasParaVisualizacion_numpy = muestrasSinteticasParaVisualizacion.detach().cpu().numpy()\n",
    "\n",
    "\n",
    "# Cambiar el tipo de datos a float32\n",
    "muestrasSinteticasParaVisualizacion_numpy = muestrasSinteticasParaVisualizacion_numpy.astype(np.float32)\n",
    "\n",
    "\n",
    "\"\"\"\n",
    "# Asegúrate de que el generador esté en modo de evaluación\n",
    "generator.eval()\n",
    "\n",
    "# Definir el tamaño del batch que deseas generar\n",
    "batch_size = pd.Series(y_train).value_counts()[0]-pd.Series(y_train).value_counts()[1]  # Puedes generar tantas muestras como desees\n",
    "\n",
    "# Generar un tensor de tamaño (batch_size, 100) con valores aleatorios (espacio latente)\n",
    "latent_space_samples = torch.randn(batch_size, 100).float()\n",
    "\n",
    "# Generar las muestras sintéticas utilizando el generador\n",
    "synthetic_samples = generator(latent_space_samples)\n",
    "\n",
    "# Convertir el tensor de PyTorch a un arreglo de NumPy\n",
    "synthetic_samples_numpy = synthetic_samples.detach().cpu().numpy()\n",
    "\n",
    "\n",
    "# Cambiar el tipo de datos a float32\n",
    "synthetic_samples_numpy = synthetic_samples_numpy.astype(np.float32)\n",
    "\n",
    "# Mostrar las muestras generadas\n",
    "print(synthetic_samples)\"\"\"\n"
   ]
  },
  {
   "cell_type": "code",
   "execution_count": 152,
   "metadata": {},
   "outputs": [],
   "source": [
    "from sklearn.decomposition import PCA\n",
    "# Reducir dimensiones con PCA\n",
    "pca = PCA(n_components=2)\n",
    "X_sintetico_pca_2d = pca.fit_transform(muestrasSinteticasParaVisualizacion_numpy)"
   ]
  },
  {
   "cell_type": "code",
   "execution_count": 153,
   "metadata": {},
   "outputs": [
    {
     "data": {
      "text/plain": [
       "array([[-2248.4856, -1196.8268],\n",
       "       [-3533.1067, -1843.367 ],\n",
       "       [ 2738.2466,  -357.5017],\n",
       "       ...,\n",
       "       [-4926.817 ,  -713.1124],\n",
       "       [-3549.302 , -1851.2644],\n",
       "       [-3485.6538,  -503.4953]], dtype=float32)"
      ]
     },
     "execution_count": 153,
     "metadata": {},
     "output_type": "execute_result"
    }
   ],
   "source": [
    "X_sintetico_pca_2d"
   ]
  },
  {
   "cell_type": "code",
   "execution_count": 154,
   "metadata": {},
   "outputs": [],
   "source": [
    "from sklearn.preprocessing import StandardScaler\n",
    "scaler = StandardScaler()\n",
    "X_visualizacion = scaler.fit_transform(X_sintetico_pca_2d)\n"
   ]
  },
  {
   "cell_type": "code",
   "execution_count": 155,
   "metadata": {},
   "outputs": [
    {
     "data": {
      "text/plain": [
       "array([[-0.98781234, -0.7127262 ],\n",
       "       [-1.5521765 , -1.0977492 ],\n",
       "       [ 1.202976  , -0.21289727],\n",
       "       ...,\n",
       "       [-2.1644661 , -0.42466804],\n",
       "       [-1.5592915 , -1.1024523 ],\n",
       "       [-1.5313294 , -0.29983833]], dtype=float32)"
      ]
     },
     "execution_count": 155,
     "metadata": {},
     "output_type": "execute_result"
    }
   ],
   "source": [
    "X_visualizacion"
   ]
  },
  {
   "cell_type": "code",
   "execution_count": 156,
   "metadata": {},
   "outputs": [],
   "source": [
    "X_tensor = torch.tensor(X_visualizacion, dtype=torch.float32)\n"
   ]
  },
  {
   "cell_type": "code",
   "execution_count": 157,
   "metadata": {},
   "outputs": [
    {
     "data": {
      "text/plain": [
       "[<matplotlib.lines.Line2D at 0x7f5dbac95820>]"
      ]
     },
     "execution_count": 157,
     "metadata": {},
     "output_type": "execute_result"
    },
    {
     "data": {
      "image/png": "[encoded data removed]",
      "text/plain": [
       "<Figure size 640x480 with 1 Axes>"
      ]
     },
     "metadata": {},
     "output_type": "display_data"
    }
   ],
   "source": [
    "generated_samples = X_tensor.detach()\n",
    "plt.plot( X_tensor[:, 1],X_tensor[:, 0], \".\")"
   ]
  },
  {
   "cell_type": "markdown",
   "metadata": {},
   "source": [
    "## continuacion de modelo"
   ]
  },
  {
   "cell_type": "code",
   "execution_count": 158,
   "metadata": {
    "colab": {
     "base_uri": "https://localhost:8080/"
    },
    "id": "7FaGCf_04zzV",
    "outputId": "f4e68371-f4d8-405c-9852-f6d7a63997f9"
   },
   "outputs": [
    {
     "name": "stdout",
     "output_type": "stream",
     "text": [
      "0.0    2451\n",
      "1.0     581\n",
      "Name: count, dtype: int64\n"
     ]
    }
   ],
   "source": [
    "print(pd.Series(y_train).value_counts())"
   ]
  },
  {
   "cell_type": "code",
   "execution_count": 159,
   "metadata": {},
   "outputs": [
    {
     "name": "stdout",
     "output_type": "stream",
     "text": [
      "581\n"
     ]
    }
   ],
   "source": [
    "print(pd.Series(y_train).value_counts()[1])"
   ]
  },
  {
   "cell_type": "code",
   "execution_count": 160,
   "metadata": {},
   "outputs": [
    {
     "data": {
      "text/plain": [
       "3032"
      ]
     },
     "execution_count": 160,
     "metadata": {},
     "output_type": "execute_result"
    }
   ],
   "source": [
    "len(X_train)"
   ]
  },
  {
   "cell_type": "code",
   "execution_count": 161,
   "metadata": {
    "colab": {
     "base_uri": "https://localhost:8080/"
    },
    "id": "i0PWlM_yfc5d",
    "outputId": "e468ff97-ea8b-4c35-dc9e-bfb1c807bebe"
   },
   "outputs": [
    {
     "name": "stdout",
     "output_type": "stream",
     "text": [
      "1.0    2451\n",
      "0.0    2451\n",
      "Name: count, dtype: int64\n"
     ]
    }
   ],
   "source": [
    "print(pd.Series(y_train_balanced).value_counts())\n"
   ]
  },
  {
   "cell_type": "code",
   "execution_count": 162,
   "metadata": {
    "id": "Cz1ZnhEykiY9"
   },
   "outputs": [],
   "source": [
    "scaler=Normalizer(norm='max')\n",
    "sc_X = scaler\n",
    "X_train = sc_X.fit_transform(X_train_balanced)\n",
    "X_test = sc_X.transform(X_test)"
   ]
  },
  {
   "cell_type": "code",
   "execution_count": 163,
   "metadata": {},
   "outputs": [
    {
     "data": {
      "text/plain": [
       "4902"
      ]
     },
     "execution_count": 163,
     "metadata": {},
     "output_type": "execute_result"
    }
   ],
   "source": [
    "X_train_balanced.shape[0]"
   ]
  },
  {
   "cell_type": "code",
   "execution_count": 164,
   "metadata": {
    "id": "HiHCUFo-kiW9"
   },
   "outputs": [],
   "source": [
    "sample_size = X_train_balanced.shape[0] # numero de muestras en el set de datos\n",
    "time_steps  = X_train_balanced.shape[1] # numero de atributos en el set de datos\n",
    "input_dimension = 1            #\n",
    "\n",
    "X_train_reshaped = X_train_balanced.reshape(sample_size,time_steps,input_dimension)\n",
    "X_test_reshaped = X_test.reshape(X_test.shape[0],X_test.shape[1],1)"
   ]
  },
  {
   "cell_type": "code",
   "execution_count": 165,
   "metadata": {
    "id": "VEuHRBvAlw79"
   },
   "outputs": [],
   "source": [
    "reduce_lr = ReduceLROnPlateau(monitor='val_loss', factor=0.1, patience=3, min_lr=0.000001)\n",
    "early_st = EarlyStopping(monitor='val_loss', patience=4, restore_best_weights=True)\n",
    "\n",
    "n_timesteps = X_train_reshaped.shape[1] #\n",
    "n_features  = X_train_reshaped.shape[2] #"
   ]
  },
  {
   "cell_type": "markdown",
   "metadata": {
    "id": "hBf6W9iPXz3p"
   },
   "source": [
    "# Create and fit DeepAMR model"
   ]
  },
  {
   "cell_type": "code",
   "execution_count": 166,
   "metadata": {
    "colab": {
     "base_uri": "https://localhost:8080/",
     "height": 953
    },
    "id": "AlJHRRzlkiH9",
    "outputId": "3fbfada7-e7d0-447a-c032-df8f5bf55897"
   },
   "outputs": [
    {
     "name": "stdout",
     "output_type": "stream",
     "text": [
      "Model: \"Modelo_s_aureus_ciprofloxacin\"\n",
      "_________________________________________________________________\n",
      " Layer (type)                Output Shape              Param #   \n",
      "=================================================================\n",
      " Conv_1 (Conv1D)             (None, 5984, 64)          1152      \n",
      "                                                                 \n",
      " batch_normalization (BatchN  (None, 5984, 64)         256       \n",
      " ormalization)                                                   \n",
      "                                                                 \n",
      " activation (Activation)     (None, 5984, 64)          0         \n",
      "                                                                 \n",
      " MaxPooling1D_1 (MaxPooling1  (None, 2992, 64)         0         \n",
      " D)                                                              \n",
      "                                                                 \n",
      " Conv_2 (Conv1D)             (None, 2984, 128)         73856     \n",
      "                                                                 \n",
      " batch_normalization_1 (Batc  (None, 2984, 128)        512       \n",
      " hNormalization)                                                 \n",
      "                                                                 \n",
      " activation_1 (Activation)   (None, 2984, 128)         0         \n",
      "                                                                 \n",
      " MaxPooling1D_2 (MaxPooling1  (None, 1492, 128)        0         \n",
      " D)                                                              \n",
      "                                                                 \n",
      " Conv_3 (Conv1D)             (None, 1488, 256)         164096    \n",
      "                                                                 \n",
      " batch_normalization_2 (Batc  (None, 1488, 256)        1024      \n",
      " hNormalization)                                                 \n",
      "                                                                 \n",
      " activation_2 (Activation)   (None, 1488, 256)         0         \n",
      "                                                                 \n",
      " MaxPooling1D_3 (MaxPooling1  (None, 744, 256)         0         \n",
      " D)                                                              \n",
      "                                                                 \n",
      " Conv_4 (Conv1D)             (None, 740, 256)          327936    \n",
      "                                                                 \n",
      " batch_normalization_3 (Batc  (None, 740, 256)         1024      \n",
      " hNormalization)                                                 \n",
      "                                                                 \n",
      " activation_3 (Activation)   (None, 740, 256)          0         \n",
      "                                                                 \n",
      " MaxPooling1D_4 (MaxPooling1  (None, 370, 256)         0         \n",
      " D)                                                              \n",
      "                                                                 \n",
      " flatten (Flatten)           (None, 94720)             0         \n",
      "                                                                 \n",
      " dropout (Dropout)           (None, 94720)             0         \n",
      "                                                                 \n",
      " fully_connected_0 (Dense)   (None, 256)               24248576  \n",
      "                                                                 \n",
      " fully_connected_1 (Dense)   (None, 64)                16448     \n",
      "                                                                 \n",
      " fully_connected_2 (Dense)   (None, 64)                4160      \n",
      "                                                                 \n",
      " OUT_Layer (Dense)           (None, 1)                 65        \n",
      "                                                                 \n",
      "=================================================================\n",
      "Total params: 24,839,105\n",
      "Trainable params: 24,837,697\n",
      "Non-trainable params: 1,408\n",
      "_________________________________________________________________\n"
     ]
    }
   ],
   "source": [
    "model = Sequential(name=\"Modelo_s_aureus_ciprofloxacin\")\n",
    "init_mode = 'normal'\n",
    "model.add(Conv1D(filters=(64), kernel_size=(17), input_shape = (n_timesteps,n_features), name='Conv_1'))\n",
    "model.add(BatchNormalization())\n",
    "model.add(Activation('relu'))\n",
    "model.add(MaxPooling1D(pool_size=2, name=\"MaxPooling1D_1\"))\n",
    "\n",
    "model.add(Conv1D(filters=(128), kernel_size=(9),kernel_initializer=init_mode, kernel_regularizer=regularizers.l2(0.0001),  name='Conv_2'))\n",
    "model.add(BatchNormalization())\n",
    "model.add(Activation('relu'))\n",
    "model.add(MaxPooling1D(pool_size=2, name=\"MaxPooling1D_2\"))\n",
    "\n",
    "model.add(Conv1D(filters=(256), kernel_size=(5),kernel_initializer=init_mode,kernel_regularizer=regularizers.l2(0.0001),   name='Conv_3'))\n",
    "model.add(BatchNormalization())\n",
    "model.add(Activation('relu'))\n",
    "model.add(MaxPooling1D(pool_size=2, name=\"MaxPooling1D_3\"))\n",
    "\n",
    "model.add(Conv1D(filters=(256), kernel_size=(5),kernel_initializer=init_mode, kernel_regularizer=regularizers.l2(0.0001),   name='Conv_4'))\n",
    "model.add(BatchNormalization())\n",
    "model.add(Activation('relu'))\n",
    "model.add(MaxPooling1D(pool_size=2, name=\"MaxPooling1D_4\"))\n",
    "\n",
    "model.add(Flatten())\n",
    "model.add(Dropout(0.65))\n",
    "model.add(Dense(256, activation='relu',kernel_initializer=init_mode, kernel_regularizer=regularizers.l2(0.0001), name=\"fully_connected_0\"))\n",
    "model.add(Dense(64, activation='relu',kernel_initializer=init_mode, kernel_regularizer=regularizers.l2(0.0001), name=\"fully_connected_1\"))\n",
    "model.add(Dense(64, activation='relu',kernel_initializer=init_mode, kernel_regularizer=regularizers.l2(0.0001),  name=\"fully_connected_2\"))\n",
    "model.add(Dense(n_features, activation='sigmoid', name=\"OUT_Layer\"))\n",
    "\n",
    "model.compile(optimizer = Adam(learning_rate=0.0001), loss = 'binary_crossentropy',  metrics=METRICS)\n",
    "model.summary()"
   ]
  },
  {
   "cell_type": "code",
   "execution_count": 167,
   "metadata": {},
   "outputs": [
    {
     "data": {
      "text/plain": [
       "(4902,)"
      ]
     },
     "execution_count": 167,
     "metadata": {},
     "output_type": "execute_result"
    }
   ],
   "source": [
    "y_train_balanced.shape"
   ]
  },
  {
   "cell_type": "code",
   "execution_count": 170,
   "metadata": {
    "colab": {
     "base_uri": "https://localhost:8080/"
    },
    "id": "lDksoJagl3H9",
    "outputId": "9e0d0c12-ce80-4bf1-ac57-0faf9891b578"
   },
   "outputs": [
    {
     "name": "stdout",
     "output_type": "stream",
     "text": [
      "Epoch 1/100\n",
      "442/442 [==============================] - 10s 22ms/step - loss: 5.0005 - tp: 1437.0000 - fp: 102.0000 - tn: 2349.0000 - fn: 523.0000 - accuracy: 0.8583 - precision: 0.9337 - recall: 0.7332 - auc: 0.8982 - prc: 0.9143 - val_loss: 4.3439 - val_tp: 491.0000 - val_fp: 0.0000e+00 - val_tn: 0.0000e+00 - val_fn: 0.0000e+00 - val_accuracy: 1.0000 - val_precision: 1.0000 - val_recall: 1.0000 - val_auc: 0.0000e+00 - val_prc: 1.0000 - lr: 1.0000e-04\n",
      "Epoch 2/100\n",
      "442/442 [==============================] - 10s 22ms/step - loss: 4.3896 - tp: 1486.0000 - fp: 102.0000 - tn: 2349.0000 - fn: 474.0000 - accuracy: 0.8694 - precision: 0.9358 - recall: 0.7582 - auc: 0.9168 - prc: 0.9276 - val_loss: 3.8263 - val_tp: 491.0000 - val_fp: 0.0000e+00 - val_tn: 0.0000e+00 - val_fn: 0.0000e+00 - val_accuracy: 1.0000 - val_precision: 1.0000 - val_recall: 1.0000 - val_auc: 0.0000e+00 - val_prc: 1.0000 - lr: 1.0000e-04\n",
      "Epoch 3/100\n",
      "442/442 [==============================] - 9s 21ms/step - loss: 3.8984 - tp: 1511.0000 - fp: 116.0000 - tn: 2335.0000 - fn: 449.0000 - accuracy: 0.8719 - precision: 0.9287 - recall: 0.7709 - auc: 0.9264 - prc: 0.9352 - val_loss: 3.3937 - val_tp: 491.0000 - val_fp: 0.0000e+00 - val_tn: 0.0000e+00 - val_fn: 0.0000e+00 - val_accuracy: 1.0000 - val_precision: 1.0000 - val_recall: 1.0000 - val_auc: 0.0000e+00 - val_prc: 1.0000 - lr: 1.0000e-04\n",
      "Epoch 4/100\n",
      "442/442 [==============================] - 9s 21ms/step - loss: 3.4830 - tp: 1521.0000 - fp: 90.0000 - tn: 2361.0000 - fn: 439.0000 - accuracy: 0.8801 - precision: 0.9441 - recall: 0.7760 - auc: 0.9305 - prc: 0.9387 - val_loss: 2.9989 - val_tp: 491.0000 - val_fp: 0.0000e+00 - val_tn: 0.0000e+00 - val_fn: 0.0000e+00 - val_accuracy: 1.0000 - val_precision: 1.0000 - val_recall: 1.0000 - val_auc: 0.0000e+00 - val_prc: 1.0000 - lr: 1.0000e-04\n",
      "Epoch 5/100\n",
      "442/442 [==============================] - 9s 21ms/step - loss: 3.1007 - tp: 1565.0000 - fp: 101.0000 - tn: 2350.0000 - fn: 395.0000 - accuracy: 0.8876 - precision: 0.9394 - recall: 0.7985 - auc: 0.9372 - prc: 0.9444 - val_loss: 2.6486 - val_tp: 491.0000 - val_fp: 0.0000e+00 - val_tn: 0.0000e+00 - val_fn: 0.0000e+00 - val_accuracy: 1.0000 - val_precision: 1.0000 - val_recall: 1.0000 - val_auc: 0.0000e+00 - val_prc: 1.0000 - lr: 1.0000e-04\n",
      "Epoch 6/100\n",
      "442/442 [==============================] - 10s 22ms/step - loss: 2.7671 - tp: 1571.0000 - fp: 112.0000 - tn: 2339.0000 - fn: 389.0000 - accuracy: 0.8864 - precision: 0.9335 - recall: 0.8015 - auc: 0.9431 - prc: 0.9485 - val_loss: 2.3507 - val_tp: 491.0000 - val_fp: 0.0000e+00 - val_tn: 0.0000e+00 - val_fn: 0.0000e+00 - val_accuracy: 1.0000 - val_precision: 1.0000 - val_recall: 1.0000 - val_auc: 0.0000e+00 - val_prc: 1.0000 - lr: 1.0000e-04\n",
      "Epoch 7/100\n",
      "442/442 [==============================] - 10s 22ms/step - loss: 2.4778 - tp: 1604.0000 - fp: 108.0000 - tn: 2343.0000 - fn: 356.0000 - accuracy: 0.8948 - precision: 0.9369 - recall: 0.8184 - auc: 0.9456 - prc: 0.9517 - val_loss: 2.0841 - val_tp: 491.0000 - val_fp: 0.0000e+00 - val_tn: 0.0000e+00 - val_fn: 0.0000e+00 - val_accuracy: 1.0000 - val_precision: 1.0000 - val_recall: 1.0000 - val_auc: 0.0000e+00 - val_prc: 1.0000 - lr: 1.0000e-04\n",
      "Epoch 8/100\n",
      "442/442 [==============================] - 10s 22ms/step - loss: 2.2084 - tp: 1619.0000 - fp: 108.0000 - tn: 2343.0000 - fn: 341.0000 - accuracy: 0.8982 - precision: 0.9375 - recall: 0.8260 - auc: 0.9542 - prc: 0.9583 - val_loss: 1.8520 - val_tp: 491.0000 - val_fp: 0.0000e+00 - val_tn: 0.0000e+00 - val_fn: 0.0000e+00 - val_accuracy: 1.0000 - val_precision: 1.0000 - val_recall: 1.0000 - val_auc: 0.0000e+00 - val_prc: 1.0000 - lr: 1.0000e-04\n",
      "Epoch 9/100\n",
      "442/442 [==============================] - 9s 21ms/step - loss: 1.9898 - tp: 1647.0000 - fp: 95.0000 - tn: 2356.0000 - fn: 313.0000 - accuracy: 0.9075 - precision: 0.9455 - recall: 0.8403 - auc: 0.9548 - prc: 0.9591 - val_loss: 1.6557 - val_tp: 491.0000 - val_fp: 0.0000e+00 - val_tn: 0.0000e+00 - val_fn: 0.0000e+00 - val_accuracy: 1.0000 - val_precision: 1.0000 - val_recall: 1.0000 - val_auc: 0.0000e+00 - val_prc: 1.0000 - lr: 1.0000e-04\n",
      "Epoch 10/100\n",
      "442/442 [==============================] - 9s 21ms/step - loss: 1.7893 - tp: 1655.0000 - fp: 104.0000 - tn: 2347.0000 - fn: 305.0000 - accuracy: 0.9073 - precision: 0.9409 - recall: 0.8444 - auc: 0.9603 - prc: 0.9635 - val_loss: 1.4787 - val_tp: 491.0000 - val_fp: 0.0000e+00 - val_tn: 0.0000e+00 - val_fn: 0.0000e+00 - val_accuracy: 1.0000 - val_precision: 1.0000 - val_recall: 1.0000 - val_auc: 0.0000e+00 - val_prc: 1.0000 - lr: 1.0000e-04\n",
      "Epoch 11/100\n",
      "442/442 [==============================] - 9s 21ms/step - loss: 1.6253 - tp: 1666.0000 - fp: 90.0000 - tn: 2361.0000 - fn: 294.0000 - accuracy: 0.9129 - precision: 0.9487 - recall: 0.8500 - auc: 0.9601 - prc: 0.9642 - val_loss: 1.3314 - val_tp: 491.0000 - val_fp: 0.0000e+00 - val_tn: 0.0000e+00 - val_fn: 0.0000e+00 - val_accuracy: 1.0000 - val_precision: 1.0000 - val_recall: 1.0000 - val_auc: 0.0000e+00 - val_prc: 1.0000 - lr: 1.0000e-04\n",
      "Epoch 12/100\n",
      "442/442 [==============================] - 10s 22ms/step - loss: 1.4807 - tp: 1683.0000 - fp: 103.0000 - tn: 2348.0000 - fn: 277.0000 - accuracy: 0.9139 - precision: 0.9423 - recall: 0.8587 - auc: 0.9635 - prc: 0.9662 - val_loss: 1.2030 - val_tp: 491.0000 - val_fp: 0.0000e+00 - val_tn: 0.0000e+00 - val_fn: 0.0000e+00 - val_accuracy: 1.0000 - val_precision: 1.0000 - val_recall: 1.0000 - val_auc: 0.0000e+00 - val_prc: 1.0000 - lr: 1.0000e-04\n",
      "Epoch 13/100\n",
      "442/442 [==============================] - 10s 22ms/step - loss: 1.3551 - tp: 1707.0000 - fp: 91.0000 - tn: 2360.0000 - fn: 253.0000 - accuracy: 0.9220 - precision: 0.9494 - recall: 0.8709 - auc: 0.9644 - prc: 0.9683 - val_loss: 1.0962 - val_tp: 491.0000 - val_fp: 0.0000e+00 - val_tn: 0.0000e+00 - val_fn: 0.0000e+00 - val_accuracy: 1.0000 - val_precision: 1.0000 - val_recall: 1.0000 - val_auc: 0.0000e+00 - val_prc: 1.0000 - lr: 1.0000e-04\n",
      "Epoch 14/100\n",
      "442/442 [==============================] - 10s 23ms/step - loss: 1.2704 - tp: 1672.0000 - fp: 80.0000 - tn: 2371.0000 - fn: 288.0000 - accuracy: 0.9166 - precision: 0.9543 - recall: 0.8531 - auc: 0.9602 - prc: 0.9647 - val_loss: 1.0063 - val_tp: 491.0000 - val_fp: 0.0000e+00 - val_tn: 0.0000e+00 - val_fn: 0.0000e+00 - val_accuracy: 1.0000 - val_precision: 1.0000 - val_recall: 1.0000 - val_auc: 0.0000e+00 - val_prc: 1.0000 - lr: 1.0000e-04\n",
      "Epoch 15/100\n",
      "442/442 [==============================] - 10s 23ms/step - loss: 1.1617 - tp: 1693.0000 - fp: 85.0000 - tn: 2366.0000 - fn: 267.0000 - accuracy: 0.9202 - precision: 0.9522 - recall: 0.8638 - auc: 0.9671 - prc: 0.9704 - val_loss: 0.9199 - val_tp: 491.0000 - val_fp: 0.0000e+00 - val_tn: 0.0000e+00 - val_fn: 0.0000e+00 - val_accuracy: 1.0000 - val_precision: 1.0000 - val_recall: 1.0000 - val_auc: 0.0000e+00 - val_prc: 1.0000 - lr: 1.0000e-04\n",
      "Epoch 16/100\n",
      "442/442 [==============================] - 10s 23ms/step - loss: 1.0748 - tp: 1727.0000 - fp: 89.0000 - tn: 2362.0000 - fn: 233.0000 - accuracy: 0.9270 - precision: 0.9510 - recall: 0.8811 - auc: 0.9690 - prc: 0.9722 - val_loss: 0.8478 - val_tp: 491.0000 - val_fp: 0.0000e+00 - val_tn: 0.0000e+00 - val_fn: 0.0000e+00 - val_accuracy: 1.0000 - val_precision: 1.0000 - val_recall: 1.0000 - val_auc: 0.0000e+00 - val_prc: 1.0000 - lr: 1.0000e-04\n",
      "Epoch 17/100\n",
      "442/442 [==============================] - 10s 22ms/step - loss: 1.0030 - tp: 1714.0000 - fp: 76.0000 - tn: 2375.0000 - fn: 246.0000 - accuracy: 0.9270 - precision: 0.9575 - recall: 0.8745 - auc: 0.9710 - prc: 0.9737 - val_loss: 0.7837 - val_tp: 491.0000 - val_fp: 0.0000e+00 - val_tn: 0.0000e+00 - val_fn: 0.0000e+00 - val_accuracy: 1.0000 - val_precision: 1.0000 - val_recall: 1.0000 - val_auc: 0.0000e+00 - val_prc: 1.0000 - lr: 1.0000e-04\n",
      "Epoch 18/100\n",
      "442/442 [==============================] - 10s 22ms/step - loss: 0.9392 - tp: 1733.0000 - fp: 79.0000 - tn: 2372.0000 - fn: 227.0000 - accuracy: 0.9306 - precision: 0.9564 - recall: 0.8842 - auc: 0.9720 - prc: 0.9747 - val_loss: 0.7271 - val_tp: 491.0000 - val_fp: 0.0000e+00 - val_tn: 0.0000e+00 - val_fn: 0.0000e+00 - val_accuracy: 1.0000 - val_precision: 1.0000 - val_recall: 1.0000 - val_auc: 0.0000e+00 - val_prc: 1.0000 - lr: 1.0000e-04\n",
      "Epoch 19/100\n",
      "442/442 [==============================] - 10s 22ms/step - loss: 0.8862 - tp: 1711.0000 - fp: 75.0000 - tn: 2376.0000 - fn: 249.0000 - accuracy: 0.9265 - precision: 0.9580 - recall: 0.8730 - auc: 0.9731 - prc: 0.9749 - val_loss: 0.6776 - val_tp: 491.0000 - val_fp: 0.0000e+00 - val_tn: 0.0000e+00 - val_fn: 0.0000e+00 - val_accuracy: 1.0000 - val_precision: 1.0000 - val_recall: 1.0000 - val_auc: 0.0000e+00 - val_prc: 1.0000 - lr: 1.0000e-04\n",
      "Epoch 20/100\n",
      "442/442 [==============================] - 10s 22ms/step - loss: 0.8306 - tp: 1742.0000 - fp: 66.0000 - tn: 2385.0000 - fn: 218.0000 - accuracy: 0.9356 - precision: 0.9635 - recall: 0.8888 - auc: 0.9745 - prc: 0.9770 - val_loss: 0.6338 - val_tp: 491.0000 - val_fp: 0.0000e+00 - val_tn: 0.0000e+00 - val_fn: 0.0000e+00 - val_accuracy: 1.0000 - val_precision: 1.0000 - val_recall: 1.0000 - val_auc: 0.0000e+00 - val_prc: 1.0000 - lr: 1.0000e-04\n",
      "Epoch 21/100\n",
      "442/442 [==============================] - 10s 22ms/step - loss: 0.7881 - tp: 1738.0000 - fp: 68.0000 - tn: 2383.0000 - fn: 222.0000 - accuracy: 0.9343 - precision: 0.9623 - recall: 0.8867 - auc: 0.9755 - prc: 0.9777 - val_loss: 0.5965 - val_tp: 491.0000 - val_fp: 0.0000e+00 - val_tn: 0.0000e+00 - val_fn: 0.0000e+00 - val_accuracy: 1.0000 - val_precision: 1.0000 - val_recall: 1.0000 - val_auc: 0.0000e+00 - val_prc: 1.0000 - lr: 1.0000e-04\n",
      "Epoch 22/100\n",
      "442/442 [==============================] - 10s 22ms/step - loss: 0.7467 - tp: 1749.0000 - fp: 73.0000 - tn: 2378.0000 - fn: 211.0000 - accuracy: 0.9356 - precision: 0.9599 - recall: 0.8923 - auc: 0.9777 - prc: 0.9790 - val_loss: 0.5641 - val_tp: 491.0000 - val_fp: 0.0000e+00 - val_tn: 0.0000e+00 - val_fn: 0.0000e+00 - val_accuracy: 1.0000 - val_precision: 1.0000 - val_recall: 1.0000 - val_auc: 0.0000e+00 - val_prc: 1.0000 - lr: 1.0000e-04\n",
      "Epoch 23/100\n",
      "442/442 [==============================] - 10s 22ms/step - loss: 0.7207 - tp: 1762.0000 - fp: 81.0000 - tn: 2370.0000 - fn: 198.0000 - accuracy: 0.9367 - precision: 0.9560 - recall: 0.8990 - auc: 0.9762 - prc: 0.9785 - val_loss: 0.5374 - val_tp: 491.0000 - val_fp: 0.0000e+00 - val_tn: 0.0000e+00 - val_fn: 0.0000e+00 - val_accuracy: 1.0000 - val_precision: 1.0000 - val_recall: 1.0000 - val_auc: 0.0000e+00 - val_prc: 1.0000 - lr: 1.0000e-04\n",
      "Epoch 24/100\n",
      "442/442 [==============================] - 10s 22ms/step - loss: 0.6859 - tp: 1758.0000 - fp: 73.0000 - tn: 2378.0000 - fn: 202.0000 - accuracy: 0.9377 - precision: 0.9601 - recall: 0.8969 - auc: 0.9788 - prc: 0.9794 - val_loss: 0.5110 - val_tp: 491.0000 - val_fp: 0.0000e+00 - val_tn: 0.0000e+00 - val_fn: 0.0000e+00 - val_accuracy: 1.0000 - val_precision: 1.0000 - val_recall: 1.0000 - val_auc: 0.0000e+00 - val_prc: 1.0000 - lr: 1.0000e-04\n",
      "Epoch 25/100\n",
      "442/442 [==============================] - 10s 22ms/step - loss: 0.6525 - tp: 1755.0000 - fp: 71.0000 - tn: 2380.0000 - fn: 205.0000 - accuracy: 0.9374 - precision: 0.9611 - recall: 0.8954 - auc: 0.9809 - prc: 0.9819 - val_loss: 0.4875 - val_tp: 491.0000 - val_fp: 0.0000e+00 - val_tn: 0.0000e+00 - val_fn: 0.0000e+00 - val_accuracy: 1.0000 - val_precision: 1.0000 - val_recall: 1.0000 - val_auc: 0.0000e+00 - val_prc: 1.0000 - lr: 1.0000e-04\n",
      "Epoch 26/100\n",
      "442/442 [==============================] - 10s 22ms/step - loss: 0.6298 - tp: 1765.0000 - fp: 66.0000 - tn: 2385.0000 - fn: 195.0000 - accuracy: 0.9408 - precision: 0.9640 - recall: 0.9005 - auc: 0.9821 - prc: 0.9820 - val_loss: 0.4670 - val_tp: 491.0000 - val_fp: 0.0000e+00 - val_tn: 0.0000e+00 - val_fn: 0.0000e+00 - val_accuracy: 1.0000 - val_precision: 1.0000 - val_recall: 1.0000 - val_auc: 0.0000e+00 - val_prc: 1.0000 - lr: 1.0000e-04\n",
      "Epoch 27/100\n",
      "442/442 [==============================] - 10s 22ms/step - loss: 0.6185 - tp: 1764.0000 - fp: 72.0000 - tn: 2379.0000 - fn: 196.0000 - accuracy: 0.9392 - precision: 0.9608 - recall: 0.9000 - auc: 0.9789 - prc: 0.9800 - val_loss: 0.4488 - val_tp: 491.0000 - val_fp: 0.0000e+00 - val_tn: 0.0000e+00 - val_fn: 0.0000e+00 - val_accuracy: 1.0000 - val_precision: 1.0000 - val_recall: 1.0000 - val_auc: 0.0000e+00 - val_prc: 1.0000 - lr: 1.0000e-04\n",
      "Epoch 28/100\n",
      "442/442 [==============================] - 10s 22ms/step - loss: 0.5799 - tp: 1786.0000 - fp: 69.0000 - tn: 2382.0000 - fn: 174.0000 - accuracy: 0.9449 - precision: 0.9628 - recall: 0.9112 - auc: 0.9846 - prc: 0.9850 - val_loss: 0.4307 - val_tp: 491.0000 - val_fp: 0.0000e+00 - val_tn: 0.0000e+00 - val_fn: 0.0000e+00 - val_accuracy: 1.0000 - val_precision: 1.0000 - val_recall: 1.0000 - val_auc: 0.0000e+00 - val_prc: 1.0000 - lr: 1.0000e-04\n",
      "Epoch 29/100\n",
      "442/442 [==============================] - 10s 22ms/step - loss: 0.5616 - tp: 1786.0000 - fp: 58.0000 - tn: 2393.0000 - fn: 174.0000 - accuracy: 0.9474 - precision: 0.9685 - recall: 0.9112 - auc: 0.9840 - prc: 0.9848 - val_loss: 0.4168 - val_tp: 491.0000 - val_fp: 0.0000e+00 - val_tn: 0.0000e+00 - val_fn: 0.0000e+00 - val_accuracy: 1.0000 - val_precision: 1.0000 - val_recall: 1.0000 - val_auc: 0.0000e+00 - val_prc: 1.0000 - lr: 1.0000e-04\n",
      "Epoch 30/100\n",
      "442/442 [==============================] - 10s 22ms/step - loss: 0.5432 - tp: 1791.0000 - fp: 73.0000 - tn: 2378.0000 - fn: 169.0000 - accuracy: 0.9451 - precision: 0.9608 - recall: 0.9138 - auc: 0.9855 - prc: 0.9859 - val_loss: 0.3998 - val_tp: 491.0000 - val_fp: 0.0000e+00 - val_tn: 0.0000e+00 - val_fn: 0.0000e+00 - val_accuracy: 1.0000 - val_precision: 1.0000 - val_recall: 1.0000 - val_auc: 0.0000e+00 - val_prc: 1.0000 - lr: 1.0000e-04\n",
      "Epoch 31/100\n",
      "442/442 [==============================] - 10s 22ms/step - loss: 0.5197 - tp: 1812.0000 - fp: 66.0000 - tn: 2385.0000 - fn: 148.0000 - accuracy: 0.9515 - precision: 0.9649 - recall: 0.9245 - auc: 0.9876 - prc: 0.9873 - val_loss: 0.3861 - val_tp: 491.0000 - val_fp: 0.0000e+00 - val_tn: 0.0000e+00 - val_fn: 0.0000e+00 - val_accuracy: 1.0000 - val_precision: 1.0000 - val_recall: 1.0000 - val_auc: 0.0000e+00 - val_prc: 1.0000 - lr: 1.0000e-04\n",
      "Epoch 32/100\n",
      "442/442 [==============================] - 10s 22ms/step - loss: 0.5254 - tp: 1781.0000 - fp: 66.0000 - tn: 2385.0000 - fn: 179.0000 - accuracy: 0.9445 - precision: 0.9643 - recall: 0.9087 - auc: 0.9835 - prc: 0.9836 - val_loss: 0.3739 - val_tp: 491.0000 - val_fp: 0.0000e+00 - val_tn: 0.0000e+00 - val_fn: 0.0000e+00 - val_accuracy: 1.0000 - val_precision: 1.0000 - val_recall: 1.0000 - val_auc: 0.0000e+00 - val_prc: 1.0000 - lr: 1.0000e-04\n",
      "Epoch 33/100\n",
      "442/442 [==============================] - 10s 22ms/step - loss: 0.4960 - tp: 1802.0000 - fp: 62.0000 - tn: 2389.0000 - fn: 158.0000 - accuracy: 0.9501 - precision: 0.9667 - recall: 0.9194 - auc: 0.9871 - prc: 0.9874 - val_loss: 0.3625 - val_tp: 491.0000 - val_fp: 0.0000e+00 - val_tn: 0.0000e+00 - val_fn: 0.0000e+00 - val_accuracy: 1.0000 - val_precision: 1.0000 - val_recall: 1.0000 - val_auc: 0.0000e+00 - val_prc: 1.0000 - lr: 1.0000e-04\n",
      "Epoch 34/100\n",
      "442/442 [==============================] - 10s 22ms/step - loss: 0.4892 - tp: 1806.0000 - fp: 63.0000 - tn: 2388.0000 - fn: 154.0000 - accuracy: 0.9508 - precision: 0.9663 - recall: 0.9214 - auc: 0.9856 - prc: 0.9860 - val_loss: 0.3529 - val_tp: 491.0000 - val_fp: 0.0000e+00 - val_tn: 0.0000e+00 - val_fn: 0.0000e+00 - val_accuracy: 1.0000 - val_precision: 1.0000 - val_recall: 1.0000 - val_auc: 0.0000e+00 - val_prc: 1.0000 - lr: 1.0000e-04\n",
      "Epoch 35/100\n",
      "442/442 [==============================] - 10s 23ms/step - loss: 0.4743 - tp: 1797.0000 - fp: 50.0000 - tn: 2401.0000 - fn: 163.0000 - accuracy: 0.9517 - precision: 0.9729 - recall: 0.9168 - auc: 0.9873 - prc: 0.9876 - val_loss: 0.3429 - val_tp: 491.0000 - val_fp: 0.0000e+00 - val_tn: 0.0000e+00 - val_fn: 0.0000e+00 - val_accuracy: 1.0000 - val_precision: 1.0000 - val_recall: 1.0000 - val_auc: 0.0000e+00 - val_prc: 1.0000 - lr: 1.0000e-04\n",
      "Epoch 36/100\n",
      "442/442 [==============================] - 10s 22ms/step - loss: 0.4554 - tp: 1817.0000 - fp: 55.0000 - tn: 2396.0000 - fn: 143.0000 - accuracy: 0.9551 - precision: 0.9706 - recall: 0.9270 - auc: 0.9896 - prc: 0.9895 - val_loss: 0.3342 - val_tp: 491.0000 - val_fp: 0.0000e+00 - val_tn: 0.0000e+00 - val_fn: 0.0000e+00 - val_accuracy: 1.0000 - val_precision: 1.0000 - val_recall: 1.0000 - val_auc: 0.0000e+00 - val_prc: 1.0000 - lr: 1.0000e-04\n",
      "Epoch 37/100\n",
      "442/442 [==============================] - 10s 22ms/step - loss: 0.4452 - tp: 1822.0000 - fp: 63.0000 - tn: 2388.0000 - fn: 138.0000 - accuracy: 0.9544 - precision: 0.9666 - recall: 0.9296 - auc: 0.9895 - prc: 0.9898 - val_loss: 0.3261 - val_tp: 491.0000 - val_fp: 0.0000e+00 - val_tn: 0.0000e+00 - val_fn: 0.0000e+00 - val_accuracy: 1.0000 - val_precision: 1.0000 - val_recall: 1.0000 - val_auc: 0.0000e+00 - val_prc: 1.0000 - lr: 1.0000e-04\n",
      "Epoch 38/100\n",
      "442/442 [==============================] - 10s 22ms/step - loss: 0.4272 - tp: 1839.0000 - fp: 55.0000 - tn: 2396.0000 - fn: 121.0000 - accuracy: 0.9601 - precision: 0.9710 - recall: 0.9383 - auc: 0.9913 - prc: 0.9913 - val_loss: 0.3176 - val_tp: 491.0000 - val_fp: 0.0000e+00 - val_tn: 0.0000e+00 - val_fn: 0.0000e+00 - val_accuracy: 1.0000 - val_precision: 1.0000 - val_recall: 1.0000 - val_auc: 0.0000e+00 - val_prc: 1.0000 - lr: 1.0000e-04\n",
      "Epoch 39/100\n",
      "442/442 [==============================] - 10s 22ms/step - loss: 0.4126 - tp: 1840.0000 - fp: 60.0000 - tn: 2391.0000 - fn: 120.0000 - accuracy: 0.9592 - precision: 0.9684 - recall: 0.9388 - auc: 0.9926 - prc: 0.9925 - val_loss: 0.3092 - val_tp: 491.0000 - val_fp: 0.0000e+00 - val_tn: 0.0000e+00 - val_fn: 0.0000e+00 - val_accuracy: 1.0000 - val_precision: 1.0000 - val_recall: 1.0000 - val_auc: 0.0000e+00 - val_prc: 1.0000 - lr: 1.0000e-04\n",
      "Epoch 40/100\n",
      "442/442 [==============================] - 10s 22ms/step - loss: 0.4013 - tp: 1850.0000 - fp: 52.0000 - tn: 2399.0000 - fn: 110.0000 - accuracy: 0.9633 - precision: 0.9727 - recall: 0.9439 - auc: 0.9929 - prc: 0.9927 - val_loss: 0.3019 - val_tp: 491.0000 - val_fp: 0.0000e+00 - val_tn: 0.0000e+00 - val_fn: 0.0000e+00 - val_accuracy: 1.0000 - val_precision: 1.0000 - val_recall: 1.0000 - val_auc: 0.0000e+00 - val_prc: 1.0000 - lr: 1.0000e-04\n",
      "Epoch 41/100\n",
      "442/442 [==============================] - 10s 22ms/step - loss: 0.3898 - tp: 1853.0000 - fp: 40.0000 - tn: 2411.0000 - fn: 107.0000 - accuracy: 0.9667 - precision: 0.9789 - recall: 0.9454 - auc: 0.9933 - prc: 0.9933 - val_loss: 0.2944 - val_tp: 491.0000 - val_fp: 0.0000e+00 - val_tn: 0.0000e+00 - val_fn: 0.0000e+00 - val_accuracy: 1.0000 - val_precision: 1.0000 - val_recall: 1.0000 - val_auc: 0.0000e+00 - val_prc: 1.0000 - lr: 1.0000e-04\n",
      "Epoch 42/100\n",
      "442/442 [==============================] - 10s 22ms/step - loss: 0.3929 - tp: 1842.0000 - fp: 42.0000 - tn: 2409.0000 - fn: 118.0000 - accuracy: 0.9637 - precision: 0.9777 - recall: 0.9398 - auc: 0.9923 - prc: 0.9919 - val_loss: 0.2881 - val_tp: 491.0000 - val_fp: 0.0000e+00 - val_tn: 0.0000e+00 - val_fn: 0.0000e+00 - val_accuracy: 1.0000 - val_precision: 1.0000 - val_recall: 1.0000 - val_auc: 0.0000e+00 - val_prc: 1.0000 - lr: 1.0000e-04\n",
      "Epoch 43/100\n",
      "442/442 [==============================] - 10s 22ms/step - loss: 0.3759 - tp: 1851.0000 - fp: 49.0000 - tn: 2402.0000 - fn: 109.0000 - accuracy: 0.9642 - precision: 0.9742 - recall: 0.9444 - auc: 0.9942 - prc: 0.9937 - val_loss: 0.2829 - val_tp: 491.0000 - val_fp: 0.0000e+00 - val_tn: 0.0000e+00 - val_fn: 0.0000e+00 - val_accuracy: 1.0000 - val_precision: 1.0000 - val_recall: 1.0000 - val_auc: 0.0000e+00 - val_prc: 1.0000 - lr: 1.0000e-04\n",
      "Epoch 44/100\n",
      "442/442 [==============================] - 10s 22ms/step - loss: 0.3706 - tp: 1851.0000 - fp: 50.0000 - tn: 2401.0000 - fn: 109.0000 - accuracy: 0.9640 - precision: 0.9737 - recall: 0.9444 - auc: 0.9937 - prc: 0.9935 - val_loss: 0.2772 - val_tp: 491.0000 - val_fp: 0.0000e+00 - val_tn: 0.0000e+00 - val_fn: 0.0000e+00 - val_accuracy: 1.0000 - val_precision: 1.0000 - val_recall: 1.0000 - val_auc: 0.0000e+00 - val_prc: 1.0000 - lr: 1.0000e-04\n",
      "Epoch 45/100\n",
      "442/442 [==============================] - 10s 22ms/step - loss: 0.3723 - tp: 1849.0000 - fp: 43.0000 - tn: 2408.0000 - fn: 111.0000 - accuracy: 0.9651 - precision: 0.9773 - recall: 0.9434 - auc: 0.9921 - prc: 0.9926 - val_loss: 0.2725 - val_tp: 491.0000 - val_fp: 0.0000e+00 - val_tn: 0.0000e+00 - val_fn: 0.0000e+00 - val_accuracy: 1.0000 - val_precision: 1.0000 - val_recall: 1.0000 - val_auc: 0.0000e+00 - val_prc: 1.0000 - lr: 1.0000e-04\n",
      "Epoch 46/100\n",
      "442/442 [==============================] - 10s 22ms/step - loss: 0.3489 - tp: 1874.0000 - fp: 43.0000 - tn: 2408.0000 - fn: 86.0000 - accuracy: 0.9708 - precision: 0.9776 - recall: 0.9561 - auc: 0.9954 - prc: 0.9950 - val_loss: 0.2663 - val_tp: 491.0000 - val_fp: 0.0000e+00 - val_tn: 0.0000e+00 - val_fn: 0.0000e+00 - val_accuracy: 1.0000 - val_precision: 1.0000 - val_recall: 1.0000 - val_auc: 0.0000e+00 - val_prc: 1.0000 - lr: 1.0000e-04\n",
      "Epoch 47/100\n",
      "442/442 [==============================] - 10s 22ms/step - loss: 0.3357 - tp: 1880.0000 - fp: 45.0000 - tn: 2406.0000 - fn: 80.0000 - accuracy: 0.9717 - precision: 0.9766 - recall: 0.9592 - auc: 0.9964 - prc: 0.9960 - val_loss: 0.2609 - val_tp: 491.0000 - val_fp: 0.0000e+00 - val_tn: 0.0000e+00 - val_fn: 0.0000e+00 - val_accuracy: 1.0000 - val_precision: 1.0000 - val_recall: 1.0000 - val_auc: 0.0000e+00 - val_prc: 1.0000 - lr: 1.0000e-04\n",
      "Epoch 48/100\n",
      "442/442 [==============================] - 10s 22ms/step - loss: 0.3510 - tp: 1859.0000 - fp: 54.0000 - tn: 2397.0000 - fn: 101.0000 - accuracy: 0.9649 - precision: 0.9718 - recall: 0.9485 - auc: 0.9942 - prc: 0.9933 - val_loss: 0.2576 - val_tp: 491.0000 - val_fp: 0.0000e+00 - val_tn: 0.0000e+00 - val_fn: 0.0000e+00 - val_accuracy: 1.0000 - val_precision: 1.0000 - val_recall: 1.0000 - val_auc: 0.0000e+00 - val_prc: 1.0000 - lr: 1.0000e-04\n",
      "Epoch 49/100\n",
      "442/442 [==============================] - 10s 22ms/step - loss: 0.3303 - tp: 1877.0000 - fp: 43.0000 - tn: 2408.0000 - fn: 83.0000 - accuracy: 0.9714 - precision: 0.9776 - recall: 0.9577 - auc: 0.9956 - prc: 0.9950 - val_loss: 0.2525 - val_tp: 491.0000 - val_fp: 0.0000e+00 - val_tn: 0.0000e+00 - val_fn: 0.0000e+00 - val_accuracy: 1.0000 - val_precision: 1.0000 - val_recall: 1.0000 - val_auc: 0.0000e+00 - val_prc: 1.0000 - lr: 1.0000e-04\n",
      "Epoch 50/100\n",
      "442/442 [==============================] - 10s 22ms/step - loss: 0.3163 - tp: 1890.0000 - fp: 43.0000 - tn: 2408.0000 - fn: 70.0000 - accuracy: 0.9744 - precision: 0.9778 - recall: 0.9643 - auc: 0.9965 - prc: 0.9964 - val_loss: 0.2475 - val_tp: 491.0000 - val_fp: 0.0000e+00 - val_tn: 0.0000e+00 - val_fn: 0.0000e+00 - val_accuracy: 1.0000 - val_precision: 1.0000 - val_recall: 1.0000 - val_auc: 0.0000e+00 - val_prc: 1.0000 - lr: 1.0000e-04\n",
      "Epoch 51/100\n",
      "442/442 [==============================] - 10s 22ms/step - loss: 0.3175 - tp: 1880.0000 - fp: 38.0000 - tn: 2413.0000 - fn: 80.0000 - accuracy: 0.9732 - precision: 0.9802 - recall: 0.9592 - auc: 0.9956 - prc: 0.9956 - val_loss: 0.2428 - val_tp: 491.0000 - val_fp: 0.0000e+00 - val_tn: 0.0000e+00 - val_fn: 0.0000e+00 - val_accuracy: 1.0000 - val_precision: 1.0000 - val_recall: 1.0000 - val_auc: 0.0000e+00 - val_prc: 1.0000 - lr: 1.0000e-04\n",
      "Epoch 52/100\n",
      "442/442 [==============================] - 10s 22ms/step - loss: 0.3096 - tp: 1879.0000 - fp: 41.0000 - tn: 2410.0000 - fn: 81.0000 - accuracy: 0.9723 - precision: 0.9786 - recall: 0.9587 - auc: 0.9966 - prc: 0.9964 - val_loss: 0.2389 - val_tp: 491.0000 - val_fp: 0.0000e+00 - val_tn: 0.0000e+00 - val_fn: 0.0000e+00 - val_accuracy: 1.0000 - val_precision: 1.0000 - val_recall: 1.0000 - val_auc: 0.0000e+00 - val_prc: 1.0000 - lr: 1.0000e-04\n",
      "Epoch 53/100\n",
      "442/442 [==============================] - 10s 22ms/step - loss: 0.3042 - tp: 1886.0000 - fp: 45.0000 - tn: 2406.0000 - fn: 74.0000 - accuracy: 0.9730 - precision: 0.9767 - recall: 0.9622 - auc: 0.9968 - prc: 0.9962 - val_loss: 0.2351 - val_tp: 491.0000 - val_fp: 0.0000e+00 - val_tn: 0.0000e+00 - val_fn: 0.0000e+00 - val_accuracy: 1.0000 - val_precision: 1.0000 - val_recall: 1.0000 - val_auc: 0.0000e+00 - val_prc: 1.0000 - lr: 1.0000e-04\n",
      "Epoch 54/100\n",
      "442/442 [==============================] - 10s 22ms/step - loss: 0.2920 - tp: 1898.0000 - fp: 35.0000 - tn: 2416.0000 - fn: 62.0000 - accuracy: 0.9780 - precision: 0.9819 - recall: 0.9684 - auc: 0.9969 - prc: 0.9969 - val_loss: 0.2307 - val_tp: 491.0000 - val_fp: 0.0000e+00 - val_tn: 0.0000e+00 - val_fn: 0.0000e+00 - val_accuracy: 1.0000 - val_precision: 1.0000 - val_recall: 1.0000 - val_auc: 0.0000e+00 - val_prc: 1.0000 - lr: 1.0000e-04\n",
      "Epoch 55/100\n",
      "442/442 [==============================] - 10s 22ms/step - loss: 0.2940 - tp: 1896.0000 - fp: 42.0000 - tn: 2409.0000 - fn: 64.0000 - accuracy: 0.9760 - precision: 0.9783 - recall: 0.9673 - auc: 0.9967 - prc: 0.9962 - val_loss: 0.2287 - val_tp: 491.0000 - val_fp: 0.0000e+00 - val_tn: 0.0000e+00 - val_fn: 0.0000e+00 - val_accuracy: 1.0000 - val_precision: 1.0000 - val_recall: 1.0000 - val_auc: 0.0000e+00 - val_prc: 1.0000 - lr: 1.0000e-04\n",
      "Epoch 56/100\n",
      "442/442 [==============================] - 10s 22ms/step - loss: 0.2867 - tp: 1894.0000 - fp: 45.0000 - tn: 2406.0000 - fn: 66.0000 - accuracy: 0.9748 - precision: 0.9768 - recall: 0.9663 - auc: 0.9973 - prc: 0.9971 - val_loss: 0.2251 - val_tp: 491.0000 - val_fp: 0.0000e+00 - val_tn: 0.0000e+00 - val_fn: 0.0000e+00 - val_accuracy: 1.0000 - val_precision: 1.0000 - val_recall: 1.0000 - val_auc: 0.0000e+00 - val_prc: 1.0000 - lr: 1.0000e-04\n",
      "Epoch 57/100\n",
      "442/442 [==============================] - 10s 22ms/step - loss: 0.2818 - tp: 1903.0000 - fp: 41.0000 - tn: 2410.0000 - fn: 57.0000 - accuracy: 0.9778 - precision: 0.9789 - recall: 0.9709 - auc: 0.9970 - prc: 0.9970 - val_loss: 0.2211 - val_tp: 491.0000 - val_fp: 0.0000e+00 - val_tn: 0.0000e+00 - val_fn: 0.0000e+00 - val_accuracy: 1.0000 - val_precision: 1.0000 - val_recall: 1.0000 - val_auc: 0.0000e+00 - val_prc: 1.0000 - lr: 1.0000e-04\n",
      "Epoch 58/100\n",
      "442/442 [==============================] - 10s 22ms/step - loss: 0.2704 - tp: 1916.0000 - fp: 31.0000 - tn: 2420.0000 - fn: 44.0000 - accuracy: 0.9830 - precision: 0.9841 - recall: 0.9776 - auc: 0.9976 - prc: 0.9977 - val_loss: 0.2176 - val_tp: 491.0000 - val_fp: 0.0000e+00 - val_tn: 0.0000e+00 - val_fn: 0.0000e+00 - val_accuracy: 1.0000 - val_precision: 1.0000 - val_recall: 1.0000 - val_auc: 0.0000e+00 - val_prc: 1.0000 - lr: 1.0000e-04\n",
      "Epoch 59/100\n",
      "442/442 [==============================] - 10s 22ms/step - loss: 0.2643 - tp: 1909.0000 - fp: 31.0000 - tn: 2420.0000 - fn: 51.0000 - accuracy: 0.9814 - precision: 0.9840 - recall: 0.9740 - auc: 0.9979 - prc: 0.9975 - val_loss: 0.2141 - val_tp: 491.0000 - val_fp: 0.0000e+00 - val_tn: 0.0000e+00 - val_fn: 0.0000e+00 - val_accuracy: 1.0000 - val_precision: 1.0000 - val_recall: 1.0000 - val_auc: 0.0000e+00 - val_prc: 1.0000 - lr: 1.0000e-04\n",
      "Epoch 60/100\n",
      "442/442 [==============================] - 10s 22ms/step - loss: 0.2609 - tp: 1907.0000 - fp: 39.0000 - tn: 2412.0000 - fn: 53.0000 - accuracy: 0.9791 - precision: 0.9800 - recall: 0.9730 - auc: 0.9984 - prc: 0.9978 - val_loss: 0.2125 - val_tp: 491.0000 - val_fp: 0.0000e+00 - val_tn: 0.0000e+00 - val_fn: 0.0000e+00 - val_accuracy: 1.0000 - val_precision: 1.0000 - val_recall: 1.0000 - val_auc: 0.0000e+00 - val_prc: 1.0000 - lr: 1.0000e-04\n",
      "Epoch 61/100\n",
      "442/442 [==============================] - 10s 22ms/step - loss: 0.2623 - tp: 1906.0000 - fp: 33.0000 - tn: 2418.0000 - fn: 54.0000 - accuracy: 0.9803 - precision: 0.9830 - recall: 0.9724 - auc: 0.9976 - prc: 0.9976 - val_loss: 0.2090 - val_tp: 491.0000 - val_fp: 0.0000e+00 - val_tn: 0.0000e+00 - val_fn: 0.0000e+00 - val_accuracy: 1.0000 - val_precision: 1.0000 - val_recall: 1.0000 - val_auc: 0.0000e+00 - val_prc: 1.0000 - lr: 1.0000e-04\n",
      "Epoch 62/100\n",
      "442/442 [==============================] - 9s 21ms/step - loss: 0.2499 - tp: 1921.0000 - fp: 25.0000 - tn: 2426.0000 - fn: 39.0000 - accuracy: 0.9855 - precision: 0.9872 - recall: 0.9801 - auc: 0.9985 - prc: 0.9984 - val_loss: 0.2165 - val_tp: 488.0000 - val_fp: 0.0000e+00 - val_tn: 0.0000e+00 - val_fn: 3.0000 - val_accuracy: 0.9939 - val_precision: 1.0000 - val_recall: 0.9939 - val_auc: 0.0000e+00 - val_prc: 1.0000 - lr: 1.0000e-04\n",
      "Epoch 63/100\n",
      "442/442 [==============================] - 10s 22ms/step - loss: 0.2519 - tp: 1915.0000 - fp: 31.0000 - tn: 2420.0000 - fn: 45.0000 - accuracy: 0.9828 - precision: 0.9841 - recall: 0.9770 - auc: 0.9982 - prc: 0.9982 - val_loss: 0.2040 - val_tp: 491.0000 - val_fp: 0.0000e+00 - val_tn: 0.0000e+00 - val_fn: 0.0000e+00 - val_accuracy: 1.0000 - val_precision: 1.0000 - val_recall: 1.0000 - val_auc: 0.0000e+00 - val_prc: 1.0000 - lr: 1.0000e-04\n",
      "Epoch 64/100\n",
      "442/442 [==============================] - 10s 22ms/step - loss: 0.2444 - tp: 1917.0000 - fp: 26.0000 - tn: 2425.0000 - fn: 43.0000 - accuracy: 0.9844 - precision: 0.9866 - recall: 0.9781 - auc: 0.9989 - prc: 0.9987 - val_loss: 0.2011 - val_tp: 491.0000 - val_fp: 0.0000e+00 - val_tn: 0.0000e+00 - val_fn: 0.0000e+00 - val_accuracy: 1.0000 - val_precision: 1.0000 - val_recall: 1.0000 - val_auc: 0.0000e+00 - val_prc: 1.0000 - lr: 1.0000e-04\n",
      "Epoch 65/100\n",
      "442/442 [==============================] - 10s 22ms/step - loss: 0.2435 - tp: 1918.0000 - fp: 31.0000 - tn: 2420.0000 - fn: 42.0000 - accuracy: 0.9835 - precision: 0.9841 - recall: 0.9786 - auc: 0.9984 - prc: 0.9979 - val_loss: 0.1988 - val_tp: 491.0000 - val_fp: 0.0000e+00 - val_tn: 0.0000e+00 - val_fn: 0.0000e+00 - val_accuracy: 1.0000 - val_precision: 1.0000 - val_recall: 1.0000 - val_auc: 0.0000e+00 - val_prc: 1.0000 - lr: 1.0000e-04\n",
      "Epoch 66/100\n",
      "442/442 [==============================] - 10s 22ms/step - loss: 0.2528 - tp: 1912.0000 - fp: 35.0000 - tn: 2416.0000 - fn: 48.0000 - accuracy: 0.9812 - precision: 0.9820 - recall: 0.9755 - auc: 0.9967 - prc: 0.9963 - val_loss: 0.1972 - val_tp: 491.0000 - val_fp: 0.0000e+00 - val_tn: 0.0000e+00 - val_fn: 0.0000e+00 - val_accuracy: 1.0000 - val_precision: 1.0000 - val_recall: 1.0000 - val_auc: 0.0000e+00 - val_prc: 1.0000 - lr: 1.0000e-04\n",
      "Epoch 67/100\n",
      "442/442 [==============================] - 10s 22ms/step - loss: 0.2351 - tp: 1920.0000 - fp: 23.0000 - tn: 2428.0000 - fn: 40.0000 - accuracy: 0.9857 - precision: 0.9882 - recall: 0.9796 - auc: 0.9987 - prc: 0.9986 - val_loss: 0.1943 - val_tp: 491.0000 - val_fp: 0.0000e+00 - val_tn: 0.0000e+00 - val_fn: 0.0000e+00 - val_accuracy: 1.0000 - val_precision: 1.0000 - val_recall: 1.0000 - val_auc: 0.0000e+00 - val_prc: 1.0000 - lr: 1.0000e-04\n",
      "Epoch 68/100\n",
      "442/442 [==============================] - 10s 22ms/step - loss: 0.2322 - tp: 1918.0000 - fp: 28.0000 - tn: 2423.0000 - fn: 42.0000 - accuracy: 0.9841 - precision: 0.9856 - recall: 0.9786 - auc: 0.9986 - prc: 0.9982 - val_loss: 0.1915 - val_tp: 491.0000 - val_fp: 0.0000e+00 - val_tn: 0.0000e+00 - val_fn: 0.0000e+00 - val_accuracy: 1.0000 - val_precision: 1.0000 - val_recall: 1.0000 - val_auc: 0.0000e+00 - val_prc: 1.0000 - lr: 1.0000e-04\n",
      "Epoch 69/100\n",
      "442/442 [==============================] - 10s 22ms/step - loss: 0.2233 - tp: 1923.0000 - fp: 27.0000 - tn: 2424.0000 - fn: 37.0000 - accuracy: 0.9855 - precision: 0.9862 - recall: 0.9811 - auc: 0.9991 - prc: 0.9991 - val_loss: 0.1886 - val_tp: 491.0000 - val_fp: 0.0000e+00 - val_tn: 0.0000e+00 - val_fn: 0.0000e+00 - val_accuracy: 1.0000 - val_precision: 1.0000 - val_recall: 1.0000 - val_auc: 0.0000e+00 - val_prc: 1.0000 - lr: 1.0000e-04\n",
      "Epoch 70/100\n",
      "442/442 [==============================] - 10s 22ms/step - loss: 0.2285 - tp: 1922.0000 - fp: 26.0000 - tn: 2425.0000 - fn: 38.0000 - accuracy: 0.9855 - precision: 0.9867 - recall: 0.9806 - auc: 0.9985 - prc: 0.9981 - val_loss: 0.1869 - val_tp: 491.0000 - val_fp: 0.0000e+00 - val_tn: 0.0000e+00 - val_fn: 0.0000e+00 - val_accuracy: 1.0000 - val_precision: 1.0000 - val_recall: 1.0000 - val_auc: 0.0000e+00 - val_prc: 1.0000 - lr: 1.0000e-04\n",
      "Epoch 71/100\n",
      "442/442 [==============================] - 10s 22ms/step - loss: 0.2214 - tp: 1926.0000 - fp: 23.0000 - tn: 2428.0000 - fn: 34.0000 - accuracy: 0.9871 - precision: 0.9882 - recall: 0.9827 - auc: 0.9987 - prc: 0.9984 - val_loss: 0.1846 - val_tp: 491.0000 - val_fp: 0.0000e+00 - val_tn: 0.0000e+00 - val_fn: 0.0000e+00 - val_accuracy: 1.0000 - val_precision: 1.0000 - val_recall: 1.0000 - val_auc: 0.0000e+00 - val_prc: 1.0000 - lr: 1.0000e-04\n",
      "Epoch 72/100\n",
      "442/442 [==============================] - 10s 22ms/step - loss: 0.2191 - tp: 1924.0000 - fp: 19.0000 - tn: 2432.0000 - fn: 36.0000 - accuracy: 0.9875 - precision: 0.9902 - recall: 0.9816 - auc: 0.9992 - prc: 0.9990 - val_loss: 0.1823 - val_tp: 491.0000 - val_fp: 0.0000e+00 - val_tn: 0.0000e+00 - val_fn: 0.0000e+00 - val_accuracy: 1.0000 - val_precision: 1.0000 - val_recall: 1.0000 - val_auc: 0.0000e+00 - val_prc: 1.0000 - lr: 1.0000e-04\n",
      "Epoch 73/100\n",
      "442/442 [==============================] - 10s 22ms/step - loss: 0.2105 - tp: 1930.0000 - fp: 21.0000 - tn: 2430.0000 - fn: 30.0000 - accuracy: 0.9884 - precision: 0.9892 - recall: 0.9847 - auc: 0.9993 - prc: 0.9988 - val_loss: 0.1797 - val_tp: 491.0000 - val_fp: 0.0000e+00 - val_tn: 0.0000e+00 - val_fn: 0.0000e+00 - val_accuracy: 1.0000 - val_precision: 1.0000 - val_recall: 1.0000 - val_auc: 0.0000e+00 - val_prc: 1.0000 - lr: 1.0000e-04\n",
      "Epoch 74/100\n",
      "442/442 [==============================] - 10s 22ms/step - loss: 0.2086 - tp: 1930.0000 - fp: 24.0000 - tn: 2427.0000 - fn: 30.0000 - accuracy: 0.9878 - precision: 0.9877 - recall: 0.9847 - auc: 0.9992 - prc: 0.9992 - val_loss: 0.1779 - val_tp: 491.0000 - val_fp: 0.0000e+00 - val_tn: 0.0000e+00 - val_fn: 0.0000e+00 - val_accuracy: 1.0000 - val_precision: 1.0000 - val_recall: 1.0000 - val_auc: 0.0000e+00 - val_prc: 1.0000 - lr: 1.0000e-04\n",
      "Epoch 75/100\n",
      "442/442 [==============================] - 10s 22ms/step - loss: 0.2114 - tp: 1921.0000 - fp: 23.0000 - tn: 2428.0000 - fn: 39.0000 - accuracy: 0.9859 - precision: 0.9882 - recall: 0.9801 - auc: 0.9985 - prc: 0.9983 - val_loss: 0.1761 - val_tp: 491.0000 - val_fp: 0.0000e+00 - val_tn: 0.0000e+00 - val_fn: 0.0000e+00 - val_accuracy: 1.0000 - val_precision: 1.0000 - val_recall: 1.0000 - val_auc: 0.0000e+00 - val_prc: 1.0000 - lr: 1.0000e-04\n",
      "Epoch 76/100\n",
      "442/442 [==============================] - 10s 22ms/step - loss: 0.2031 - tp: 1932.0000 - fp: 16.0000 - tn: 2435.0000 - fn: 28.0000 - accuracy: 0.9900 - precision: 0.9918 - recall: 0.9857 - auc: 0.9991 - prc: 0.9987 - val_loss: 0.1740 - val_tp: 491.0000 - val_fp: 0.0000e+00 - val_tn: 0.0000e+00 - val_fn: 0.0000e+00 - val_accuracy: 1.0000 - val_precision: 1.0000 - val_recall: 1.0000 - val_auc: 0.0000e+00 - val_prc: 1.0000 - lr: 1.0000e-04\n",
      "Epoch 77/100\n",
      "442/442 [==============================] - 10s 22ms/step - loss: 0.2038 - tp: 1935.0000 - fp: 19.0000 - tn: 2432.0000 - fn: 25.0000 - accuracy: 0.9900 - precision: 0.9903 - recall: 0.9872 - auc: 0.9990 - prc: 0.9986 - val_loss: 0.1718 - val_tp: 491.0000 - val_fp: 0.0000e+00 - val_tn: 0.0000e+00 - val_fn: 0.0000e+00 - val_accuracy: 1.0000 - val_precision: 1.0000 - val_recall: 1.0000 - val_auc: 0.0000e+00 - val_prc: 1.0000 - lr: 1.0000e-04\n",
      "Epoch 78/100\n",
      "442/442 [==============================] - 10s 22ms/step - loss: 0.2083 - tp: 1925.0000 - fp: 22.0000 - tn: 2429.0000 - fn: 35.0000 - accuracy: 0.9871 - precision: 0.9887 - recall: 0.9821 - auc: 0.9982 - prc: 0.9984 - val_loss: 0.1701 - val_tp: 491.0000 - val_fp: 0.0000e+00 - val_tn: 0.0000e+00 - val_fn: 0.0000e+00 - val_accuracy: 1.0000 - val_precision: 1.0000 - val_recall: 1.0000 - val_auc: 0.0000e+00 - val_prc: 1.0000 - lr: 1.0000e-04\n",
      "Epoch 79/100\n",
      "442/442 [==============================] - 10s 22ms/step - loss: 0.1987 - tp: 1928.0000 - fp: 18.0000 - tn: 2433.0000 - fn: 32.0000 - accuracy: 0.9887 - precision: 0.9908 - recall: 0.9837 - auc: 0.9993 - prc: 0.9988 - val_loss: 0.1684 - val_tp: 491.0000 - val_fp: 0.0000e+00 - val_tn: 0.0000e+00 - val_fn: 0.0000e+00 - val_accuracy: 1.0000 - val_precision: 1.0000 - val_recall: 1.0000 - val_auc: 0.0000e+00 - val_prc: 1.0000 - lr: 1.0000e-04\n",
      "Epoch 80/100\n",
      "442/442 [==============================] - 10s 22ms/step - loss: 0.1993 - tp: 1929.0000 - fp: 26.0000 - tn: 2425.0000 - fn: 31.0000 - accuracy: 0.9871 - precision: 0.9867 - recall: 0.9842 - auc: 0.9991 - prc: 0.9991 - val_loss: 0.1668 - val_tp: 491.0000 - val_fp: 0.0000e+00 - val_tn: 0.0000e+00 - val_fn: 0.0000e+00 - val_accuracy: 1.0000 - val_precision: 1.0000 - val_recall: 1.0000 - val_auc: 0.0000e+00 - val_prc: 1.0000 - lr: 1.0000e-04\n",
      "Epoch 81/100\n",
      "442/442 [==============================] - 10s 22ms/step - loss: 0.1950 - tp: 1932.0000 - fp: 24.0000 - tn: 2427.0000 - fn: 28.0000 - accuracy: 0.9882 - precision: 0.9877 - recall: 0.9857 - auc: 0.9990 - prc: 0.9991 - val_loss: 0.1655 - val_tp: 491.0000 - val_fp: 0.0000e+00 - val_tn: 0.0000e+00 - val_fn: 0.0000e+00 - val_accuracy: 1.0000 - val_precision: 1.0000 - val_recall: 1.0000 - val_auc: 0.0000e+00 - val_prc: 1.0000 - lr: 1.0000e-04\n",
      "Epoch 82/100\n",
      "442/442 [==============================] - 10s 22ms/step - loss: 0.1864 - tp: 1940.0000 - fp: 13.0000 - tn: 2438.0000 - fn: 20.0000 - accuracy: 0.9925 - precision: 0.9933 - recall: 0.9898 - auc: 0.9991 - prc: 0.9992 - val_loss: 0.1626 - val_tp: 491.0000 - val_fp: 0.0000e+00 - val_tn: 0.0000e+00 - val_fn: 0.0000e+00 - val_accuracy: 1.0000 - val_precision: 1.0000 - val_recall: 1.0000 - val_auc: 0.0000e+00 - val_prc: 1.0000 - lr: 1.0000e-04\n",
      "Epoch 83/100\n",
      "442/442 [==============================] - 10s 22ms/step - loss: 0.1960 - tp: 1929.0000 - fp: 24.0000 - tn: 2427.0000 - fn: 31.0000 - accuracy: 0.9875 - precision: 0.9877 - recall: 0.9842 - auc: 0.9989 - prc: 0.9985 - val_loss: 0.1612 - val_tp: 491.0000 - val_fp: 0.0000e+00 - val_tn: 0.0000e+00 - val_fn: 0.0000e+00 - val_accuracy: 1.0000 - val_precision: 1.0000 - val_recall: 1.0000 - val_auc: 0.0000e+00 - val_prc: 1.0000 - lr: 1.0000e-04\n",
      "Epoch 84/100\n",
      "442/442 [==============================] - 10s 22ms/step - loss: 0.1913 - tp: 1934.0000 - fp: 21.0000 - tn: 2430.0000 - fn: 26.0000 - accuracy: 0.9893 - precision: 0.9893 - recall: 0.9867 - auc: 0.9988 - prc: 0.9985 - val_loss: 0.1604 - val_tp: 491.0000 - val_fp: 0.0000e+00 - val_tn: 0.0000e+00 - val_fn: 0.0000e+00 - val_accuracy: 1.0000 - val_precision: 1.0000 - val_recall: 1.0000 - val_auc: 0.0000e+00 - val_prc: 1.0000 - lr: 1.0000e-04\n",
      "Epoch 85/100\n",
      "442/442 [==============================] - 10s 23ms/step - loss: 0.1818 - tp: 1940.0000 - fp: 18.0000 - tn: 2433.0000 - fn: 20.0000 - accuracy: 0.9914 - precision: 0.9908 - recall: 0.9898 - auc: 0.9995 - prc: 0.9991 - val_loss: 0.1574 - val_tp: 491.0000 - val_fp: 0.0000e+00 - val_tn: 0.0000e+00 - val_fn: 0.0000e+00 - val_accuracy: 1.0000 - val_precision: 1.0000 - val_recall: 1.0000 - val_auc: 0.0000e+00 - val_prc: 1.0000 - lr: 1.0000e-04\n",
      "Epoch 86/100\n",
      "442/442 [==============================] - 11s 24ms/step - loss: 0.1812 - tp: 1939.0000 - fp: 19.0000 - tn: 2432.0000 - fn: 21.0000 - accuracy: 0.9909 - precision: 0.9903 - recall: 0.9893 - auc: 0.9994 - prc: 0.9994 - val_loss: 0.1552 - val_tp: 491.0000 - val_fp: 0.0000e+00 - val_tn: 0.0000e+00 - val_fn: 0.0000e+00 - val_accuracy: 1.0000 - val_precision: 1.0000 - val_recall: 1.0000 - val_auc: 0.0000e+00 - val_prc: 1.0000 - lr: 1.0000e-04\n",
      "Epoch 87/100\n",
      "442/442 [==============================] - 11s 24ms/step - loss: 0.1858 - tp: 1927.0000 - fp: 20.0000 - tn: 2431.0000 - fn: 33.0000 - accuracy: 0.9880 - precision: 0.9897 - recall: 0.9832 - auc: 0.9992 - prc: 0.9991 - val_loss: 0.1541 - val_tp: 491.0000 - val_fp: 0.0000e+00 - val_tn: 0.0000e+00 - val_fn: 0.0000e+00 - val_accuracy: 1.0000 - val_precision: 1.0000 - val_recall: 1.0000 - val_auc: 0.0000e+00 - val_prc: 1.0000 - lr: 1.0000e-04\n",
      "Epoch 88/100\n",
      "442/442 [==============================] - 11s 25ms/step - loss: 0.1786 - tp: 1935.0000 - fp: 21.0000 - tn: 2430.0000 - fn: 25.0000 - accuracy: 0.9896 - precision: 0.9893 - recall: 0.9872 - auc: 0.9996 - prc: 0.9995 - val_loss: 0.1526 - val_tp: 491.0000 - val_fp: 0.0000e+00 - val_tn: 0.0000e+00 - val_fn: 0.0000e+00 - val_accuracy: 1.0000 - val_precision: 1.0000 - val_recall: 1.0000 - val_auc: 0.0000e+00 - val_prc: 1.0000 - lr: 1.0000e-04\n",
      "Epoch 89/100\n",
      "442/442 [==============================] - 11s 24ms/step - loss: 0.1732 - tp: 1941.0000 - fp: 17.0000 - tn: 2434.0000 - fn: 19.0000 - accuracy: 0.9918 - precision: 0.9913 - recall: 0.9903 - auc: 0.9993 - prc: 0.9990 - val_loss: 0.1509 - val_tp: 491.0000 - val_fp: 0.0000e+00 - val_tn: 0.0000e+00 - val_fn: 0.0000e+00 - val_accuracy: 1.0000 - val_precision: 1.0000 - val_recall: 1.0000 - val_auc: 0.0000e+00 - val_prc: 1.0000 - lr: 1.0000e-04\n",
      "Epoch 90/100\n",
      "442/442 [==============================] - 11s 25ms/step - loss: 0.1732 - tp: 1939.0000 - fp: 17.0000 - tn: 2434.0000 - fn: 21.0000 - accuracy: 0.9914 - precision: 0.9913 - recall: 0.9893 - auc: 0.9995 - prc: 0.9995 - val_loss: 0.1491 - val_tp: 491.0000 - val_fp: 0.0000e+00 - val_tn: 0.0000e+00 - val_fn: 0.0000e+00 - val_accuracy: 1.0000 - val_precision: 1.0000 - val_recall: 1.0000 - val_auc: 0.0000e+00 - val_prc: 1.0000 - lr: 1.0000e-04\n",
      "Epoch 91/100\n",
      "442/442 [==============================] - 11s 25ms/step - loss: 0.1694 - tp: 1936.0000 - fp: 14.0000 - tn: 2437.0000 - fn: 24.0000 - accuracy: 0.9914 - precision: 0.9928 - recall: 0.9878 - auc: 0.9996 - prc: 0.9992 - val_loss: 0.1471 - val_tp: 491.0000 - val_fp: 0.0000e+00 - val_tn: 0.0000e+00 - val_fn: 0.0000e+00 - val_accuracy: 1.0000 - val_precision: 1.0000 - val_recall: 1.0000 - val_auc: 0.0000e+00 - val_prc: 1.0000 - lr: 1.0000e-04\n",
      "Epoch 92/100\n",
      "442/442 [==============================] - 11s 25ms/step - loss: 0.1641 - tp: 1946.0000 - fp: 16.0000 - tn: 2435.0000 - fn: 14.0000 - accuracy: 0.9932 - precision: 0.9918 - recall: 0.9929 - auc: 0.9995 - prc: 0.9996 - val_loss: 0.1452 - val_tp: 491.0000 - val_fp: 0.0000e+00 - val_tn: 0.0000e+00 - val_fn: 0.0000e+00 - val_accuracy: 1.0000 - val_precision: 1.0000 - val_recall: 1.0000 - val_auc: 0.0000e+00 - val_prc: 1.0000 - lr: 1.0000e-04\n",
      "Epoch 93/100\n",
      "442/442 [==============================] - 11s 25ms/step - loss: 0.1716 - tp: 1936.0000 - fp: 18.0000 - tn: 2433.0000 - fn: 24.0000 - accuracy: 0.9905 - precision: 0.9908 - recall: 0.9878 - auc: 0.9991 - prc: 0.9992 - val_loss: 0.1439 - val_tp: 491.0000 - val_fp: 0.0000e+00 - val_tn: 0.0000e+00 - val_fn: 0.0000e+00 - val_accuracy: 1.0000 - val_precision: 1.0000 - val_recall: 1.0000 - val_auc: 0.0000e+00 - val_prc: 1.0000 - lr: 1.0000e-04\n",
      "Epoch 94/100\n",
      "442/442 [==============================] - 11s 24ms/step - loss: 0.1691 - tp: 1932.0000 - fp: 19.0000 - tn: 2432.0000 - fn: 28.0000 - accuracy: 0.9893 - precision: 0.9903 - recall: 0.9857 - auc: 0.9996 - prc: 0.9995 - val_loss: 0.1432 - val_tp: 491.0000 - val_fp: 0.0000e+00 - val_tn: 0.0000e+00 - val_fn: 0.0000e+00 - val_accuracy: 1.0000 - val_precision: 1.0000 - val_recall: 1.0000 - val_auc: 0.0000e+00 - val_prc: 1.0000 - lr: 1.0000e-04\n",
      "Epoch 95/100\n",
      "442/442 [==============================] - 11s 25ms/step - loss: 0.1584 - tp: 1947.0000 - fp: 12.0000 - tn: 2439.0000 - fn: 13.0000 - accuracy: 0.9943 - precision: 0.9939 - recall: 0.9934 - auc: 0.9996 - prc: 0.9996 - val_loss: 0.1411 - val_tp: 491.0000 - val_fp: 0.0000e+00 - val_tn: 0.0000e+00 - val_fn: 0.0000e+00 - val_accuracy: 1.0000 - val_precision: 1.0000 - val_recall: 1.0000 - val_auc: 0.0000e+00 - val_prc: 1.0000 - lr: 1.0000e-04\n",
      "Epoch 96/100\n",
      "442/442 [==============================] - 11s 24ms/step - loss: 0.1639 - tp: 1941.0000 - fp: 15.0000 - tn: 2436.0000 - fn: 19.0000 - accuracy: 0.9923 - precision: 0.9923 - recall: 0.9903 - auc: 0.9994 - prc: 0.9994 - val_loss: 0.1397 - val_tp: 491.0000 - val_fp: 0.0000e+00 - val_tn: 0.0000e+00 - val_fn: 0.0000e+00 - val_accuracy: 1.0000 - val_precision: 1.0000 - val_recall: 1.0000 - val_auc: 0.0000e+00 - val_prc: 1.0000 - lr: 1.0000e-04\n",
      "Epoch 97/100\n",
      "442/442 [==============================] - 11s 25ms/step - loss: 0.1604 - tp: 1938.0000 - fp: 10.0000 - tn: 2441.0000 - fn: 22.0000 - accuracy: 0.9927 - precision: 0.9949 - recall: 0.9888 - auc: 0.9992 - prc: 0.9993 - val_loss: 0.1384 - val_tp: 491.0000 - val_fp: 0.0000e+00 - val_tn: 0.0000e+00 - val_fn: 0.0000e+00 - val_accuracy: 1.0000 - val_precision: 1.0000 - val_recall: 1.0000 - val_auc: 0.0000e+00 - val_prc: 1.0000 - lr: 1.0000e-04\n",
      "Epoch 98/100\n",
      "442/442 [==============================] - 11s 25ms/step - loss: 0.1560 - tp: 1943.0000 - fp: 12.0000 - tn: 2439.0000 - fn: 17.0000 - accuracy: 0.9934 - precision: 0.9939 - recall: 0.9913 - auc: 0.9996 - prc: 0.9993 - val_loss: 0.1372 - val_tp: 491.0000 - val_fp: 0.0000e+00 - val_tn: 0.0000e+00 - val_fn: 0.0000e+00 - val_accuracy: 1.0000 - val_precision: 1.0000 - val_recall: 1.0000 - val_auc: 0.0000e+00 - val_prc: 1.0000 - lr: 1.0000e-04\n",
      "Epoch 99/100\n",
      "442/442 [==============================] - 11s 25ms/step - loss: 0.1523 - tp: 1943.0000 - fp: 11.0000 - tn: 2440.0000 - fn: 17.0000 - accuracy: 0.9937 - precision: 0.9944 - recall: 0.9913 - auc: 0.9994 - prc: 0.9991 - val_loss: 0.1352 - val_tp: 491.0000 - val_fp: 0.0000e+00 - val_tn: 0.0000e+00 - val_fn: 0.0000e+00 - val_accuracy: 1.0000 - val_precision: 1.0000 - val_recall: 1.0000 - val_auc: 0.0000e+00 - val_prc: 1.0000 - lr: 1.0000e-04\n",
      "Epoch 100/100\n",
      "442/442 [==============================] - 11s 24ms/step - loss: 0.1585 - tp: 1942.0000 - fp: 20.0000 - tn: 2431.0000 - fn: 18.0000 - accuracy: 0.9914 - precision: 0.9898 - recall: 0.9908 - auc: 0.9994 - prc: 0.9994 - val_loss: 0.1342 - val_tp: 491.0000 - val_fp: 0.0000e+00 - val_tn: 0.0000e+00 - val_fn: 0.0000e+00 - val_accuracy: 1.0000 - val_precision: 1.0000 - val_recall: 1.0000 - val_auc: 0.0000e+00 - val_prc: 1.0000 - lr: 1.0000e-04\n"
     ]
    }
   ],
   "source": [
    "history = model.fit(X_train_reshaped, y_train_balanced, epochs=100, batch_size=10, verbose=1, validation_split=0.1, callbacks=[reduce_lr,early_st])"
   ]
  },
  {
   "cell_type": "markdown",
   "metadata": {
    "id": "5hF9EG1dX6xZ"
   },
   "source": [
    "# Evaluate the model"
   ]
  },
  {
   "cell_type": "code",
   "execution_count": 171,
   "metadata": {
    "colab": {
     "base_uri": "https://localhost:8080/"
    },
    "id": "ux5k-LYLl3GF",
    "outputId": "9b3adf84-fbbf-4f70-a11f-5b0c20ad214b"
   },
   "outputs": [
    {
     "name": "stdout",
     "output_type": "stream",
     "text": [
      "24/24 [==============================] - 1s 13ms/step\n",
      "[[  5 609]\n",
      " [  0 145]]\n"
     ]
    }
   ],
   "source": [
    "y_pred  = model.predict(X_test_reshaped)\n",
    "y_pred = (y_pred>0.5)\n",
    "cm = confusion_matrix(y_test, y_pred)\n",
    "print(cm)"
   ]
  },
  {
   "cell_type": "code",
   "execution_count": 172,
   "metadata": {
    "colab": {
     "base_uri": "https://localhost:8080/"
    },
    "id": "iur6Wu4oZ5dI",
    "outputId": "231db9db-52e6-4fb7-903e-d6254bf5191b"
   },
   "outputs": [
    {
     "name": "stdout",
     "output_type": "stream",
     "text": [
      "balanced acuracy: 0.504071661237785\n"
     ]
    }
   ],
   "source": [
    "print(\"balanced acuracy:\", balanced_accuracy_score(y_test, y_pred))"
   ]
  },
  {
   "cell_type": "code",
   "execution_count": 173,
   "metadata": {
    "colab": {
     "base_uri": "https://localhost:8080/"
    },
    "id": "zkQ55Zm7l3D2",
    "outputId": "84b0f0b5-83c4-4631-ec8a-96f9ef5e9893"
   },
   "outputs": [
    {
     "name": "stdout",
     "output_type": "stream",
     "text": [
      "              precision    recall  f1-score   support\n",
      "\n",
      "           0       1.00      0.01      0.02       614\n",
      "           1       0.19      1.00      0.32       145\n",
      "\n",
      "    accuracy                           0.20       759\n",
      "   macro avg       0.60      0.50      0.17       759\n",
      "weighted avg       0.85      0.20      0.07       759\n",
      "\n",
      "491/491 [==============================] - 3s 5ms/step\n",
      "76/76 [==============================] - 0s 6ms/step\n",
      "loss :  0.8310088515281677\n",
      "tp :  145.0\n",
      "fp :  609.0\n",
      "tn :  5.0\n",
      "fn :  0.0\n",
      "accuracy :  0.197628453373909\n",
      "precision :  0.19230769574642181\n",
      "recall :  1.0\n",
      "auc :  0.6176232695579529\n",
      "prc :  0.31312960386276245\n",
      "\n"
     ]
    }
   ],
   "source": [
    "target_names=[\"0\",\"1\"]\n",
    "print(classification_report(y_test, y_pred, target_names=target_names))\n",
    "\n",
    "train_predictions_baseline = model.predict(X_train_reshaped, batch_size=10)\n",
    "test_predictions_baseline = model.predict(X_test_reshaped, batch_size=10)\n",
    "\n",
    "baseline_results = model.evaluate(X_test_reshaped, y_test, verbose=0)\n",
    "for name, value in zip(model.metrics_names, baseline_results):\n",
    "  print(name, ': ', value)\n",
    "print()"
   ]
  },
  {
   "cell_type": "code",
   "execution_count": null,
   "metadata": {
    "colab": {
     "base_uri": "https://localhost:8080/",
     "height": 1000
    },
    "id": "YzVQLd_Xl3B1",
    "outputId": "9c31a90d-c136-45d1-ed85-f5c01ad9be36"
   },
   "outputs": [
    {
     "data": {
      "image/png": "[encoded data removed]",
      "text/plain": [
       "<Figure size 1200x1000 with 1 Axes>"
      ]
     },
     "metadata": {},
     "output_type": "display_data"
    },
    {
     "data": {
      "image/png": "[encoded data removed]",
      "text/plain": [
       "<Figure size 1200x1000 with 1 Axes>"
      ]
     },
     "metadata": {},
     "output_type": "display_data"
    }
   ],
   "source": [
    "plt.rcParams['figure.figsize'] = (12, 10)\n",
    "plt.rcParams.update({'font.size': 17})\n",
    "colors = plt.rcParams['axes.prop_cycle'].by_key()['color']\n",
    "\n",
    "def plot_roc(name, labels, predictions, **kwargs):\n",
    "  fp, tp, _ = sklearn.metrics.roc_curve(labels, predictions)\n",
    "\n",
    "  plt.plot(fp, tp, label=name, linewidth=2, **kwargs)\n",
    "  plt.plot([0, 1], [0, 1], 'k--')\n",
    "  plt.title('E. coli CNN')\n",
    "  plt.xlabel('False positives [%]')\n",
    "  plt.ylabel('True positives [%]')\n",
    "  plt.title('S. aureus AUROC')\n",
    "\n",
    "  plt.grid(True)\n",
    "  ax = plt.gca()\n",
    "  ax.set_aspect('equal')\n",
    "plot_roc(\"Ciprofloxacin               AUROC: %0.2f\" % baseline_results[8], y_test, test_predictions_baseline, color=colors[0])\n",
    "\n",
    "plt.legend(loc='lower right')\n",
    "plt.savefig('s_aureus_auroc.png', bbox_inches='tight')\n",
    "plt.show()\n",
    "\n",
    "def plot_prc(name, labels, predictions, **kwargs):\n",
    "    precision, recall, _ = sklearn.metrics.precision_recall_curve(labels, predictions)\n",
    "\n",
    "    plt.plot(precision, recall, label=name, linewidth=2, **kwargs)\n",
    "    plt.title('S. aureus AUPRC')\n",
    "    plt.xlabel('Recall')\n",
    "    plt.ylabel('Precision')\n",
    "    plt.plot([1, 0], [0, 1], 'k--')\n",
    "    plt.grid(True)\n",
    "    ax = plt.gca()\n",
    "    ax.set_aspect('equal')\n",
    "\n",
    "plot_prc(\"Ciprofloxacin        AUPRC: %0.2f\" % baseline_results[9], y_test, test_predictions_baseline, color=colors[0])\n",
    "\n",
    "plt.legend(loc='upper right')\n",
    "plt.savefig('s_aureus_auprc.png', bbox_inches='tight')\n",
    "plt.show()"
   ]
  }
 ],
 "metadata": {
  "accelerator": "GPU",
  "colab": {
   "provenance": []
  },
  "gpuClass": "standard",
  "kernelspec": {
   "display_name": "Python 3 (ipykernel)",
   "language": "python",
   "name": "python3"
  },
  "language_info": {
   "codemirror_mode": {
    "name": "ipython",
    "version": 3
   },
   "file_extension": ".py",
   "mimetype": "text/x-python",
   "name": "python",
   "nbconvert_exporter": "python",
   "pygments_lexer": "ipython3",
   "version": "3.9.2"
  }
 },
 "nbformat": 4,
 "nbformat_minor": 0
}
