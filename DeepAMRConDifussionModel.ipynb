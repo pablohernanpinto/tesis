{
  "cells": [
    {
      "cell_type": "markdown",
      "metadata": {
        "id": "LNNFUJODXA9C"
      },
      "source": [
        "# 0-Libraries"
      ]
    },
    {
      "cell_type": "code",
      "execution_count": 52,
      "metadata": {
        "id": "W1quzgr-ao8A"
      },
      "outputs": [],
      "source": [
        "import numpy as np\n",
        "import matplotlib.pyplot as plt\n",
        "import itertools\n",
        "import pandas as pd\n",
        "import sklearn\n",
        "from sklearn.model_selection import train_test_split\n",
        "from sklearn.metrics import confusion_matrix,classification_report,ConfusionMatrixDisplay, balanced_accuracy_score\n",
        "#from sklearn.preprocessing import LabelEncoder, OneHotEncoder\n",
        "from sklearn.compose import ColumnTransformer\n",
        "from sklearn.preprocessing import Normalizer, StandardScaler, MinMaxScaler, MaxAbsScaler, RobustScaler, QuantileTransformer, PowerTransformer\n",
        "import tensorflow as tf\n",
        "from tensorflow import keras\n",
        "from keras import regularizers\n",
        "from keras.optimizers import Adam\n",
        "#from keras.backend import expand_dims\n",
        "from keras.callbacks import ReduceLROnPlateau, EarlyStopping\n",
        "from keras.models import Sequential\n",
        "from keras.constraints import MaxNorm\n",
        "from keras.layers import Activation, Dense, Conv1D, Flatten, MaxPooling1D, Dropout, BatchNormalization, SpatialDropout1D"
      ]
    },
    {
      "cell_type": "code",
      "execution_count": 53,
      "metadata": {
        "id": "gy_ErAtqkxgt"
      },
      "outputs": [],
      "source": [
        "METRICS = [\n",
        "      keras.metrics.TruePositives(name='tp'),\n",
        "      keras.metrics.FalsePositives(name='fp'),\n",
        "      keras.metrics.TrueNegatives(name='tn'),\n",
        "      keras.metrics.FalseNegatives(name='fn'),\n",
        "      keras.metrics.BinaryAccuracy(name='accuracy'),\n",
        "      keras.metrics.Precision(name='precision'),\n",
        "      keras.metrics.Recall(name='recall'),\n",
        "      keras.metrics.AUC(name='auc'),\n",
        "      keras.metrics.AUC(name='prc', curve='PR'), # precision-recall curve\n",
        "]"
      ]
    },
    {
      "cell_type": "markdown",
      "metadata": {
        "id": "N6bQjUrPXPaI"
      },
      "source": [
        "# 1- Load Data"
      ]
    },
    {
      "cell_type": "code",
      "execution_count": 54,
      "metadata": {
        "colab": {
          "base_uri": "https://localhost:8080/",
          "height": 533
        },
        "id": "UXVFQgZNaNrg",
        "outputId": "d250b076-aa61-46d9-d165-ab7a7a24aee3"
      },
      "outputs": [
        {
          "data": {
            "text/html": [
              "<div>\n",
              "<style scoped>\n",
              "    .dataframe tbody tr th:only-of-type {\n",
              "        vertical-align: middle;\n",
              "    }\n",
              "\n",
              "    .dataframe tbody tr th {\n",
              "        vertical-align: top;\n",
              "    }\n",
              "\n",
              "    .dataframe thead th {\n",
              "        text-align: right;\n",
              "    }\n",
              "</style>\n",
              "<table border=\"1\" class=\"dataframe\">\n",
              "  <thead>\n",
              "    <tr style=\"text-align: right;\">\n",
              "      <th></th>\n",
              "      <th>2000</th>\n",
              "      <th>2003</th>\n",
              "      <th>2006</th>\n",
              "      <th>2009</th>\n",
              "      <th>2012</th>\n",
              "      <th>2015</th>\n",
              "      <th>2018</th>\n",
              "      <th>2021</th>\n",
              "      <th>2024</th>\n",
              "      <th>2027</th>\n",
              "      <th>...</th>\n",
              "      <th>19991</th>\n",
              "      <th>19994</th>\n",
              "      <th>19997</th>\n",
              "      <th>code</th>\n",
              "      <th>species</th>\n",
              "      <th>Oxacillin</th>\n",
              "      <th>Clindamycin</th>\n",
              "      <th>Ceftriaxone</th>\n",
              "      <th>Ciprofloxacin</th>\n",
              "      <th>Fusidic acid</th>\n",
              "    </tr>\n",
              "  </thead>\n",
              "  <tbody>\n",
              "    <tr>\n",
              "      <th>0</th>\n",
              "      <td>951.428571</td>\n",
              "      <td>826.125000</td>\n",
              "      <td>944.857143</td>\n",
              "      <td>898.428571</td>\n",
              "      <td>1007.714286</td>\n",
              "      <td>936.000000</td>\n",
              "      <td>828.571429</td>\n",
              "      <td>812.000000</td>\n",
              "      <td>782.714286</td>\n",
              "      <td>741.625000</td>\n",
              "      <td>...</td>\n",
              "      <td>35.5</td>\n",
              "      <td>20.5</td>\n",
              "      <td>27.342857</td>\n",
              "      <td>029f0abf-1664-424f-88cb-11c9c8af2b11</td>\n",
              "      <td>Staphylococcus aureus</td>\n",
              "      <td>0.0</td>\n",
              "      <td>0.0</td>\n",
              "      <td>0.0</td>\n",
              "      <td>0.0</td>\n",
              "      <td>1.0</td>\n",
              "    </tr>\n",
              "    <tr>\n",
              "      <th>1</th>\n",
              "      <td>784.714286</td>\n",
              "      <td>701.125000</td>\n",
              "      <td>681.571429</td>\n",
              "      <td>762.142857</td>\n",
              "      <td>737.571429</td>\n",
              "      <td>733.000000</td>\n",
              "      <td>735.857143</td>\n",
              "      <td>659.571429</td>\n",
              "      <td>802.714286</td>\n",
              "      <td>554.375000</td>\n",
              "      <td>...</td>\n",
              "      <td>30.0</td>\n",
              "      <td>40.5</td>\n",
              "      <td>34.695238</td>\n",
              "      <td>08149af1-10f5-4f02-81d8-3d46d66d4a7a</td>\n",
              "      <td>Staphylococcus aureus</td>\n",
              "      <td>0.0</td>\n",
              "      <td>0.0</td>\n",
              "      <td>0.0</td>\n",
              "      <td>0.0</td>\n",
              "      <td>0.0</td>\n",
              "    </tr>\n",
              "    <tr>\n",
              "      <th>2</th>\n",
              "      <td>50.875000</td>\n",
              "      <td>89.142857</td>\n",
              "      <td>56.142857</td>\n",
              "      <td>151.285714</td>\n",
              "      <td>132.714286</td>\n",
              "      <td>110.428571</td>\n",
              "      <td>47.285714</td>\n",
              "      <td>63.428571</td>\n",
              "      <td>100.375000</td>\n",
              "      <td>52.142857</td>\n",
              "      <td>...</td>\n",
              "      <td>2.5</td>\n",
              "      <td>30.5</td>\n",
              "      <td>11.288462</td>\n",
              "      <td>08fe3876-ecee-4ddc-9aa9-a84f605757f7</td>\n",
              "      <td>Staphylococcus aureus</td>\n",
              "      <td>0.0</td>\n",
              "      <td>0.0</td>\n",
              "      <td>0.0</td>\n",
              "      <td>0.0</td>\n",
              "      <td>0.0</td>\n",
              "    </tr>\n",
              "    <tr>\n",
              "      <th>3</th>\n",
              "      <td>843.285714</td>\n",
              "      <td>816.500000</td>\n",
              "      <td>734.428571</td>\n",
              "      <td>1027.142857</td>\n",
              "      <td>979.428571</td>\n",
              "      <td>875.571429</td>\n",
              "      <td>912.142857</td>\n",
              "      <td>714.428571</td>\n",
              "      <td>945.428571</td>\n",
              "      <td>886.500000</td>\n",
              "      <td>...</td>\n",
              "      <td>15.5</td>\n",
              "      <td>8.0</td>\n",
              "      <td>20.057143</td>\n",
              "      <td>0a9fdd4b-7180-47c0-849e-cb32d46da94c</td>\n",
              "      <td>Staphylococcus aureus</td>\n",
              "      <td>0.0</td>\n",
              "      <td>0.0</td>\n",
              "      <td>0.0</td>\n",
              "      <td>0.0</td>\n",
              "      <td>0.0</td>\n",
              "    </tr>\n",
              "    <tr>\n",
              "      <th>4</th>\n",
              "      <td>307.857143</td>\n",
              "      <td>295.000000</td>\n",
              "      <td>246.714286</td>\n",
              "      <td>181.571429</td>\n",
              "      <td>258.000000</td>\n",
              "      <td>318.714286</td>\n",
              "      <td>295.714286</td>\n",
              "      <td>300.857143</td>\n",
              "      <td>278.142857</td>\n",
              "      <td>256.125000</td>\n",
              "      <td>...</td>\n",
              "      <td>25.5</td>\n",
              "      <td>32.0</td>\n",
              "      <td>24.990476</td>\n",
              "      <td>0d82f4c4-473c-49d8-8c85-e3e36e96d047</td>\n",
              "      <td>Staphylococcus aureus</td>\n",
              "      <td>1.0</td>\n",
              "      <td>0.0</td>\n",
              "      <td>1.0</td>\n",
              "      <td>1.0</td>\n",
              "      <td>0.0</td>\n",
              "    </tr>\n",
              "  </tbody>\n",
              "</table>\n",
              "<p>5 rows × 6007 columns</p>\n",
              "</div>"
            ],
            "text/plain": [
              "         2000        2003        2006         2009         2012        2015  \\\n",
              "0  951.428571  826.125000  944.857143   898.428571  1007.714286  936.000000   \n",
              "1  784.714286  701.125000  681.571429   762.142857   737.571429  733.000000   \n",
              "2   50.875000   89.142857   56.142857   151.285714   132.714286  110.428571   \n",
              "3  843.285714  816.500000  734.428571  1027.142857   979.428571  875.571429   \n",
              "4  307.857143  295.000000  246.714286   181.571429   258.000000  318.714286   \n",
              "\n",
              "         2018        2021        2024        2027  ...  19991  19994  \\\n",
              "0  828.571429  812.000000  782.714286  741.625000  ...   35.5   20.5   \n",
              "1  735.857143  659.571429  802.714286  554.375000  ...   30.0   40.5   \n",
              "2   47.285714   63.428571  100.375000   52.142857  ...    2.5   30.5   \n",
              "3  912.142857  714.428571  945.428571  886.500000  ...   15.5    8.0   \n",
              "4  295.714286  300.857143  278.142857  256.125000  ...   25.5   32.0   \n",
              "\n",
              "       19997                                  code                species  \\\n",
              "0  27.342857  029f0abf-1664-424f-88cb-11c9c8af2b11  Staphylococcus aureus   \n",
              "1  34.695238  08149af1-10f5-4f02-81d8-3d46d66d4a7a  Staphylococcus aureus   \n",
              "2  11.288462  08fe3876-ecee-4ddc-9aa9-a84f605757f7  Staphylococcus aureus   \n",
              "3  20.057143  0a9fdd4b-7180-47c0-849e-cb32d46da94c  Staphylococcus aureus   \n",
              "4  24.990476  0d82f4c4-473c-49d8-8c85-e3e36e96d047  Staphylococcus aureus   \n",
              "\n",
              "   Oxacillin  Clindamycin  Ceftriaxone  Ciprofloxacin  Fusidic acid  \n",
              "0        0.0          0.0          0.0            0.0           1.0  \n",
              "1        0.0          0.0          0.0            0.0           0.0  \n",
              "2        0.0          0.0          0.0            0.0           0.0  \n",
              "3        0.0          0.0          0.0            0.0           0.0  \n",
              "4        1.0          0.0          1.0            1.0           0.0  \n",
              "\n",
              "[5 rows x 6007 columns]"
            ]
          },
          "execution_count": 54,
          "metadata": {},
          "output_type": "execute_result"
        }
      ],
      "source": [
        "s_aureus = pd.read_csv('s_aureus_driams_a_bin3_2000_20000Da.csv')\n",
        "s_aureus.head()"
      ]
    },
    {
      "cell_type": "markdown",
      "metadata": {
        "id": "NhURWBqqXoQp"
      },
      "source": [
        "# Preprocessing Data"
      ]
    },
    {
      "cell_type": "code",
      "execution_count": 55,
      "metadata": {
        "id": "koTco5gulH3G"
      },
      "outputs": [],
      "source": [
        "s_aureus_oxacillin = s_aureus.drop(columns=['code','species', 'Clindamycin', 'Ceftriaxone', 'Ciprofloxacin', 'Fusidic acid'])\n",
        "s_aureus_oxacillin.dropna(axis=0, how=\"any\", inplace=True)"
      ]
    },
    {
      "cell_type": "code",
      "execution_count": 56,
      "metadata": {
        "colab": {
          "base_uri": "https://localhost:8080/"
        },
        "id": "orhVwzFGkic-",
        "outputId": "47c32caa-83fb-4434-9a77-32b3f4677c02"
      },
      "outputs": [
        {
          "data": {
            "text/plain": [
              "(3757, 6003)"
            ]
          },
          "execution_count": 56,
          "metadata": {},
          "output_type": "execute_result"
        }
      ],
      "source": [
        "s_aureus_ceftriaxone = s_aureus.drop(columns=['Oxacillin', 'Clindamycin', 'Ceftriaxone', 'Fusidic acid'])\n",
        "#ceftriaxone.dropna(axis=0, how=\"any\", inplace=True)\n",
        "s_aureus_ceftriaxone.dropna(axis=0, how=\"any\", inplace=True)\n",
        "s_aureus_ceftriaxone.shape"
      ]
    },
    {
      "cell_type": "code",
      "execution_count": 57,
      "metadata": {
        "colab": {
          "base_uri": "https://localhost:8080/",
          "height": 255
        },
        "id": "wZUfupfGtc7O",
        "outputId": "af1d2eac-096e-4a39-8406-586718f33d29"
      },
      "outputs": [
        {
          "data": {
            "text/html": [
              "<div>\n",
              "<style scoped>\n",
              "    .dataframe tbody tr th:only-of-type {\n",
              "        vertical-align: middle;\n",
              "    }\n",
              "\n",
              "    .dataframe tbody tr th {\n",
              "        vertical-align: top;\n",
              "    }\n",
              "\n",
              "    .dataframe thead th {\n",
              "        text-align: right;\n",
              "    }\n",
              "</style>\n",
              "<table border=\"1\" class=\"dataframe\">\n",
              "  <thead>\n",
              "    <tr style=\"text-align: right;\">\n",
              "      <th></th>\n",
              "      <th>2000</th>\n",
              "      <th>2003</th>\n",
              "      <th>2006</th>\n",
              "      <th>2009</th>\n",
              "      <th>2012</th>\n",
              "      <th>2015</th>\n",
              "      <th>2018</th>\n",
              "      <th>2021</th>\n",
              "      <th>2024</th>\n",
              "      <th>2027</th>\n",
              "      <th>...</th>\n",
              "      <th>19973</th>\n",
              "      <th>19976</th>\n",
              "      <th>19979</th>\n",
              "      <th>19982</th>\n",
              "      <th>19985</th>\n",
              "      <th>19988</th>\n",
              "      <th>19991</th>\n",
              "      <th>19994</th>\n",
              "      <th>19997</th>\n",
              "      <th>Oxacillin</th>\n",
              "    </tr>\n",
              "  </thead>\n",
              "  <tbody>\n",
              "    <tr>\n",
              "      <th>0</th>\n",
              "      <td>951.428571</td>\n",
              "      <td>826.125000</td>\n",
              "      <td>944.857143</td>\n",
              "      <td>898.428571</td>\n",
              "      <td>1007.714286</td>\n",
              "      <td>936.000000</td>\n",
              "      <td>828.571429</td>\n",
              "      <td>812.000000</td>\n",
              "      <td>782.714286</td>\n",
              "      <td>741.625000</td>\n",
              "      <td>...</td>\n",
              "      <td>14.333333</td>\n",
              "      <td>24.0</td>\n",
              "      <td>68.0</td>\n",
              "      <td>19.0</td>\n",
              "      <td>19.000000</td>\n",
              "      <td>50.0</td>\n",
              "      <td>35.5</td>\n",
              "      <td>20.5</td>\n",
              "      <td>27.342857</td>\n",
              "      <td>0.0</td>\n",
              "    </tr>\n",
              "    <tr>\n",
              "      <th>1</th>\n",
              "      <td>784.714286</td>\n",
              "      <td>701.125000</td>\n",
              "      <td>681.571429</td>\n",
              "      <td>762.142857</td>\n",
              "      <td>737.571429</td>\n",
              "      <td>733.000000</td>\n",
              "      <td>735.857143</td>\n",
              "      <td>659.571429</td>\n",
              "      <td>802.714286</td>\n",
              "      <td>554.375000</td>\n",
              "      <td>...</td>\n",
              "      <td>15.666667</td>\n",
              "      <td>39.0</td>\n",
              "      <td>19.5</td>\n",
              "      <td>42.0</td>\n",
              "      <td>69.666667</td>\n",
              "      <td>31.0</td>\n",
              "      <td>30.0</td>\n",
              "      <td>40.5</td>\n",
              "      <td>34.695238</td>\n",
              "      <td>0.0</td>\n",
              "    </tr>\n",
              "    <tr>\n",
              "      <th>2</th>\n",
              "      <td>50.875000</td>\n",
              "      <td>89.142857</td>\n",
              "      <td>56.142857</td>\n",
              "      <td>151.285714</td>\n",
              "      <td>132.714286</td>\n",
              "      <td>110.428571</td>\n",
              "      <td>47.285714</td>\n",
              "      <td>63.428571</td>\n",
              "      <td>100.375000</td>\n",
              "      <td>52.142857</td>\n",
              "      <td>...</td>\n",
              "      <td>20.666667</td>\n",
              "      <td>17.0</td>\n",
              "      <td>2.0</td>\n",
              "      <td>18.0</td>\n",
              "      <td>18.000000</td>\n",
              "      <td>11.5</td>\n",
              "      <td>2.5</td>\n",
              "      <td>30.5</td>\n",
              "      <td>11.288462</td>\n",
              "      <td>0.0</td>\n",
              "    </tr>\n",
              "    <tr>\n",
              "      <th>3</th>\n",
              "      <td>843.285714</td>\n",
              "      <td>816.500000</td>\n",
              "      <td>734.428571</td>\n",
              "      <td>1027.142857</td>\n",
              "      <td>979.428571</td>\n",
              "      <td>875.571429</td>\n",
              "      <td>912.142857</td>\n",
              "      <td>714.428571</td>\n",
              "      <td>945.428571</td>\n",
              "      <td>886.500000</td>\n",
              "      <td>...</td>\n",
              "      <td>22.333333</td>\n",
              "      <td>33.0</td>\n",
              "      <td>29.0</td>\n",
              "      <td>14.5</td>\n",
              "      <td>21.666667</td>\n",
              "      <td>24.5</td>\n",
              "      <td>15.5</td>\n",
              "      <td>8.0</td>\n",
              "      <td>20.057143</td>\n",
              "      <td>0.0</td>\n",
              "    </tr>\n",
              "    <tr>\n",
              "      <th>4</th>\n",
              "      <td>307.857143</td>\n",
              "      <td>295.000000</td>\n",
              "      <td>246.714286</td>\n",
              "      <td>181.571429</td>\n",
              "      <td>258.000000</td>\n",
              "      <td>318.714286</td>\n",
              "      <td>295.714286</td>\n",
              "      <td>300.857143</td>\n",
              "      <td>278.142857</td>\n",
              "      <td>256.125000</td>\n",
              "      <td>...</td>\n",
              "      <td>26.666667</td>\n",
              "      <td>25.5</td>\n",
              "      <td>18.0</td>\n",
              "      <td>53.5</td>\n",
              "      <td>23.000000</td>\n",
              "      <td>24.5</td>\n",
              "      <td>25.5</td>\n",
              "      <td>32.0</td>\n",
              "      <td>24.990476</td>\n",
              "      <td>1.0</td>\n",
              "    </tr>\n",
              "  </tbody>\n",
              "</table>\n",
              "<p>5 rows × 6001 columns</p>\n",
              "</div>"
            ],
            "text/plain": [
              "         2000        2003        2006         2009         2012        2015  \\\n",
              "0  951.428571  826.125000  944.857143   898.428571  1007.714286  936.000000   \n",
              "1  784.714286  701.125000  681.571429   762.142857   737.571429  733.000000   \n",
              "2   50.875000   89.142857   56.142857   151.285714   132.714286  110.428571   \n",
              "3  843.285714  816.500000  734.428571  1027.142857   979.428571  875.571429   \n",
              "4  307.857143  295.000000  246.714286   181.571429   258.000000  318.714286   \n",
              "\n",
              "         2018        2021        2024        2027  ...      19973  19976  \\\n",
              "0  828.571429  812.000000  782.714286  741.625000  ...  14.333333   24.0   \n",
              "1  735.857143  659.571429  802.714286  554.375000  ...  15.666667   39.0   \n",
              "2   47.285714   63.428571  100.375000   52.142857  ...  20.666667   17.0   \n",
              "3  912.142857  714.428571  945.428571  886.500000  ...  22.333333   33.0   \n",
              "4  295.714286  300.857143  278.142857  256.125000  ...  26.666667   25.5   \n",
              "\n",
              "   19979  19982      19985  19988  19991  19994      19997  Oxacillin  \n",
              "0   68.0   19.0  19.000000   50.0   35.5   20.5  27.342857        0.0  \n",
              "1   19.5   42.0  69.666667   31.0   30.0   40.5  34.695238        0.0  \n",
              "2    2.0   18.0  18.000000   11.5    2.5   30.5  11.288462        0.0  \n",
              "3   29.0   14.5  21.666667   24.5   15.5    8.0  20.057143        0.0  \n",
              "4   18.0   53.5  23.000000   24.5   25.5   32.0  24.990476        1.0  \n",
              "\n",
              "[5 rows x 6001 columns]"
            ]
          },
          "execution_count": 57,
          "metadata": {},
          "output_type": "execute_result"
        }
      ],
      "source": [
        "s_aureus_oxacillin.head()"
      ]
    },
    {
      "cell_type": "code",
      "execution_count": 58,
      "metadata": {},
      "outputs": [
        {
          "data": {
            "text/html": [
              "<div>\n",
              "<style scoped>\n",
              "    .dataframe tbody tr th:only-of-type {\n",
              "        vertical-align: middle;\n",
              "    }\n",
              "\n",
              "    .dataframe tbody tr th {\n",
              "        vertical-align: top;\n",
              "    }\n",
              "\n",
              "    .dataframe thead th {\n",
              "        text-align: right;\n",
              "    }\n",
              "</style>\n",
              "<table border=\"1\" class=\"dataframe\">\n",
              "  <thead>\n",
              "    <tr style=\"text-align: right;\">\n",
              "      <th></th>\n",
              "      <th>2000</th>\n",
              "      <th>2003</th>\n",
              "      <th>2006</th>\n",
              "      <th>2009</th>\n",
              "      <th>2012</th>\n",
              "      <th>2015</th>\n",
              "      <th>2018</th>\n",
              "      <th>2021</th>\n",
              "      <th>2024</th>\n",
              "      <th>2027</th>\n",
              "      <th>...</th>\n",
              "      <th>19973</th>\n",
              "      <th>19976</th>\n",
              "      <th>19979</th>\n",
              "      <th>19982</th>\n",
              "      <th>19985</th>\n",
              "      <th>19988</th>\n",
              "      <th>19991</th>\n",
              "      <th>19994</th>\n",
              "      <th>19997</th>\n",
              "      <th>Oxacillin</th>\n",
              "    </tr>\n",
              "  </thead>\n",
              "  <tbody>\n",
              "    <tr>\n",
              "      <th>0</th>\n",
              "      <td>951.428571</td>\n",
              "      <td>826.125000</td>\n",
              "      <td>944.857143</td>\n",
              "      <td>898.428571</td>\n",
              "      <td>1007.714286</td>\n",
              "      <td>936.000000</td>\n",
              "      <td>828.571429</td>\n",
              "      <td>812.000000</td>\n",
              "      <td>782.714286</td>\n",
              "      <td>741.625000</td>\n",
              "      <td>...</td>\n",
              "      <td>14.333333</td>\n",
              "      <td>24.0</td>\n",
              "      <td>68.0</td>\n",
              "      <td>19.0</td>\n",
              "      <td>19.000000</td>\n",
              "      <td>50.0</td>\n",
              "      <td>35.5</td>\n",
              "      <td>20.500000</td>\n",
              "      <td>27.342857</td>\n",
              "      <td>0.0</td>\n",
              "    </tr>\n",
              "    <tr>\n",
              "      <th>1</th>\n",
              "      <td>784.714286</td>\n",
              "      <td>701.125000</td>\n",
              "      <td>681.571429</td>\n",
              "      <td>762.142857</td>\n",
              "      <td>737.571429</td>\n",
              "      <td>733.000000</td>\n",
              "      <td>735.857143</td>\n",
              "      <td>659.571429</td>\n",
              "      <td>802.714286</td>\n",
              "      <td>554.375000</td>\n",
              "      <td>...</td>\n",
              "      <td>15.666667</td>\n",
              "      <td>39.0</td>\n",
              "      <td>19.5</td>\n",
              "      <td>42.0</td>\n",
              "      <td>69.666667</td>\n",
              "      <td>31.0</td>\n",
              "      <td>30.0</td>\n",
              "      <td>40.500000</td>\n",
              "      <td>34.695238</td>\n",
              "      <td>0.0</td>\n",
              "    </tr>\n",
              "    <tr>\n",
              "      <th>2</th>\n",
              "      <td>50.875000</td>\n",
              "      <td>89.142857</td>\n",
              "      <td>56.142857</td>\n",
              "      <td>151.285714</td>\n",
              "      <td>132.714286</td>\n",
              "      <td>110.428571</td>\n",
              "      <td>47.285714</td>\n",
              "      <td>63.428571</td>\n",
              "      <td>100.375000</td>\n",
              "      <td>52.142857</td>\n",
              "      <td>...</td>\n",
              "      <td>20.666667</td>\n",
              "      <td>17.0</td>\n",
              "      <td>2.0</td>\n",
              "      <td>18.0</td>\n",
              "      <td>18.000000</td>\n",
              "      <td>11.5</td>\n",
              "      <td>2.5</td>\n",
              "      <td>30.500000</td>\n",
              "      <td>11.288462</td>\n",
              "      <td>0.0</td>\n",
              "    </tr>\n",
              "    <tr>\n",
              "      <th>3</th>\n",
              "      <td>843.285714</td>\n",
              "      <td>816.500000</td>\n",
              "      <td>734.428571</td>\n",
              "      <td>1027.142857</td>\n",
              "      <td>979.428571</td>\n",
              "      <td>875.571429</td>\n",
              "      <td>912.142857</td>\n",
              "      <td>714.428571</td>\n",
              "      <td>945.428571</td>\n",
              "      <td>886.500000</td>\n",
              "      <td>...</td>\n",
              "      <td>22.333333</td>\n",
              "      <td>33.0</td>\n",
              "      <td>29.0</td>\n",
              "      <td>14.5</td>\n",
              "      <td>21.666667</td>\n",
              "      <td>24.5</td>\n",
              "      <td>15.5</td>\n",
              "      <td>8.000000</td>\n",
              "      <td>20.057143</td>\n",
              "      <td>0.0</td>\n",
              "    </tr>\n",
              "    <tr>\n",
              "      <th>4</th>\n",
              "      <td>307.857143</td>\n",
              "      <td>295.000000</td>\n",
              "      <td>246.714286</td>\n",
              "      <td>181.571429</td>\n",
              "      <td>258.000000</td>\n",
              "      <td>318.714286</td>\n",
              "      <td>295.714286</td>\n",
              "      <td>300.857143</td>\n",
              "      <td>278.142857</td>\n",
              "      <td>256.125000</td>\n",
              "      <td>...</td>\n",
              "      <td>26.666667</td>\n",
              "      <td>25.5</td>\n",
              "      <td>18.0</td>\n",
              "      <td>53.5</td>\n",
              "      <td>23.000000</td>\n",
              "      <td>24.5</td>\n",
              "      <td>25.5</td>\n",
              "      <td>32.000000</td>\n",
              "      <td>24.990476</td>\n",
              "      <td>1.0</td>\n",
              "    </tr>\n",
              "    <tr>\n",
              "      <th>...</th>\n",
              "      <td>...</td>\n",
              "      <td>...</td>\n",
              "      <td>...</td>\n",
              "      <td>...</td>\n",
              "      <td>...</td>\n",
              "      <td>...</td>\n",
              "      <td>...</td>\n",
              "      <td>...</td>\n",
              "      <td>...</td>\n",
              "      <td>...</td>\n",
              "      <td>...</td>\n",
              "      <td>...</td>\n",
              "      <td>...</td>\n",
              "      <td>...</td>\n",
              "      <td>...</td>\n",
              "      <td>...</td>\n",
              "      <td>...</td>\n",
              "      <td>...</td>\n",
              "      <td>...</td>\n",
              "      <td>...</td>\n",
              "      <td>...</td>\n",
              "    </tr>\n",
              "    <tr>\n",
              "      <th>3786</th>\n",
              "      <td>288.000000</td>\n",
              "      <td>330.285714</td>\n",
              "      <td>296.142857</td>\n",
              "      <td>265.142857</td>\n",
              "      <td>310.750000</td>\n",
              "      <td>287.000000</td>\n",
              "      <td>345.000000</td>\n",
              "      <td>260.000000</td>\n",
              "      <td>198.714286</td>\n",
              "      <td>257.285714</td>\n",
              "      <td>...</td>\n",
              "      <td>0.000000</td>\n",
              "      <td>0.0</td>\n",
              "      <td>0.0</td>\n",
              "      <td>0.0</td>\n",
              "      <td>0.000000</td>\n",
              "      <td>0.0</td>\n",
              "      <td>0.0</td>\n",
              "      <td>0.000000</td>\n",
              "      <td>0.004038</td>\n",
              "      <td>0.0</td>\n",
              "    </tr>\n",
              "    <tr>\n",
              "      <th>3787</th>\n",
              "      <td>1286.142857</td>\n",
              "      <td>989.714286</td>\n",
              "      <td>938.285714</td>\n",
              "      <td>901.428571</td>\n",
              "      <td>872.000000</td>\n",
              "      <td>1001.000000</td>\n",
              "      <td>1061.571429</td>\n",
              "      <td>890.857143</td>\n",
              "      <td>813.857143</td>\n",
              "      <td>961.000000</td>\n",
              "      <td>...</td>\n",
              "      <td>0.000000</td>\n",
              "      <td>0.0</td>\n",
              "      <td>0.0</td>\n",
              "      <td>0.0</td>\n",
              "      <td>0.000000</td>\n",
              "      <td>0.0</td>\n",
              "      <td>0.0</td>\n",
              "      <td>0.000000</td>\n",
              "      <td>0.053908</td>\n",
              "      <td>0.0</td>\n",
              "    </tr>\n",
              "    <tr>\n",
              "      <th>3788</th>\n",
              "      <td>986.857143</td>\n",
              "      <td>977.285714</td>\n",
              "      <td>892.285714</td>\n",
              "      <td>986.714286</td>\n",
              "      <td>1045.875000</td>\n",
              "      <td>986.857143</td>\n",
              "      <td>963.571429</td>\n",
              "      <td>968.571429</td>\n",
              "      <td>960.857143</td>\n",
              "      <td>969.714286</td>\n",
              "      <td>...</td>\n",
              "      <td>0.000000</td>\n",
              "      <td>0.0</td>\n",
              "      <td>0.0</td>\n",
              "      <td>0.0</td>\n",
              "      <td>0.000000</td>\n",
              "      <td>0.0</td>\n",
              "      <td>0.0</td>\n",
              "      <td>0.000000</td>\n",
              "      <td>0.039084</td>\n",
              "      <td>0.0</td>\n",
              "    </tr>\n",
              "    <tr>\n",
              "      <th>3789</th>\n",
              "      <td>141.857143</td>\n",
              "      <td>197.428571</td>\n",
              "      <td>148.142857</td>\n",
              "      <td>114.000000</td>\n",
              "      <td>125.857143</td>\n",
              "      <td>158.750000</td>\n",
              "      <td>176.571429</td>\n",
              "      <td>148.285714</td>\n",
              "      <td>149.714286</td>\n",
              "      <td>151.714286</td>\n",
              "      <td>...</td>\n",
              "      <td>0.000000</td>\n",
              "      <td>0.0</td>\n",
              "      <td>0.0</td>\n",
              "      <td>0.0</td>\n",
              "      <td>0.000000</td>\n",
              "      <td>0.0</td>\n",
              "      <td>0.0</td>\n",
              "      <td>0.000000</td>\n",
              "      <td>0.012113</td>\n",
              "      <td>0.0</td>\n",
              "    </tr>\n",
              "    <tr>\n",
              "      <th>3790</th>\n",
              "      <td>1498.428571</td>\n",
              "      <td>1631.857143</td>\n",
              "      <td>1443.571429</td>\n",
              "      <td>1431.571429</td>\n",
              "      <td>1361.000000</td>\n",
              "      <td>1483.857143</td>\n",
              "      <td>1520.375000</td>\n",
              "      <td>1385.571429</td>\n",
              "      <td>1333.428571</td>\n",
              "      <td>1309.285714</td>\n",
              "      <td>...</td>\n",
              "      <td>20.000000</td>\n",
              "      <td>14.5</td>\n",
              "      <td>24.5</td>\n",
              "      <td>15.0</td>\n",
              "      <td>14.000000</td>\n",
              "      <td>24.5</td>\n",
              "      <td>19.0</td>\n",
              "      <td>17.333333</td>\n",
              "      <td>16.595960</td>\n",
              "      <td>0.0</td>\n",
              "    </tr>\n",
              "  </tbody>\n",
              "</table>\n",
              "<p>3790 rows × 6001 columns</p>\n",
              "</div>"
            ],
            "text/plain": [
              "             2000         2003         2006         2009         2012  \\\n",
              "0      951.428571   826.125000   944.857143   898.428571  1007.714286   \n",
              "1      784.714286   701.125000   681.571429   762.142857   737.571429   \n",
              "2       50.875000    89.142857    56.142857   151.285714   132.714286   \n",
              "3      843.285714   816.500000   734.428571  1027.142857   979.428571   \n",
              "4      307.857143   295.000000   246.714286   181.571429   258.000000   \n",
              "...           ...          ...          ...          ...          ...   \n",
              "3786   288.000000   330.285714   296.142857   265.142857   310.750000   \n",
              "3787  1286.142857   989.714286   938.285714   901.428571   872.000000   \n",
              "3788   986.857143   977.285714   892.285714   986.714286  1045.875000   \n",
              "3789   141.857143   197.428571   148.142857   114.000000   125.857143   \n",
              "3790  1498.428571  1631.857143  1443.571429  1431.571429  1361.000000   \n",
              "\n",
              "             2015         2018         2021         2024         2027  ...  \\\n",
              "0      936.000000   828.571429   812.000000   782.714286   741.625000  ...   \n",
              "1      733.000000   735.857143   659.571429   802.714286   554.375000  ...   \n",
              "2      110.428571    47.285714    63.428571   100.375000    52.142857  ...   \n",
              "3      875.571429   912.142857   714.428571   945.428571   886.500000  ...   \n",
              "4      318.714286   295.714286   300.857143   278.142857   256.125000  ...   \n",
              "...           ...          ...          ...          ...          ...  ...   \n",
              "3786   287.000000   345.000000   260.000000   198.714286   257.285714  ...   \n",
              "3787  1001.000000  1061.571429   890.857143   813.857143   961.000000  ...   \n",
              "3788   986.857143   963.571429   968.571429   960.857143   969.714286  ...   \n",
              "3789   158.750000   176.571429   148.285714   149.714286   151.714286  ...   \n",
              "3790  1483.857143  1520.375000  1385.571429  1333.428571  1309.285714  ...   \n",
              "\n",
              "          19973  19976  19979  19982      19985  19988  19991      19994  \\\n",
              "0     14.333333   24.0   68.0   19.0  19.000000   50.0   35.5  20.500000   \n",
              "1     15.666667   39.0   19.5   42.0  69.666667   31.0   30.0  40.500000   \n",
              "2     20.666667   17.0    2.0   18.0  18.000000   11.5    2.5  30.500000   \n",
              "3     22.333333   33.0   29.0   14.5  21.666667   24.5   15.5   8.000000   \n",
              "4     26.666667   25.5   18.0   53.5  23.000000   24.5   25.5  32.000000   \n",
              "...         ...    ...    ...    ...        ...    ...    ...        ...   \n",
              "3786   0.000000    0.0    0.0    0.0   0.000000    0.0    0.0   0.000000   \n",
              "3787   0.000000    0.0    0.0    0.0   0.000000    0.0    0.0   0.000000   \n",
              "3788   0.000000    0.0    0.0    0.0   0.000000    0.0    0.0   0.000000   \n",
              "3789   0.000000    0.0    0.0    0.0   0.000000    0.0    0.0   0.000000   \n",
              "3790  20.000000   14.5   24.5   15.0  14.000000   24.5   19.0  17.333333   \n",
              "\n",
              "          19997  Oxacillin  \n",
              "0     27.342857        0.0  \n",
              "1     34.695238        0.0  \n",
              "2     11.288462        0.0  \n",
              "3     20.057143        0.0  \n",
              "4     24.990476        1.0  \n",
              "...         ...        ...  \n",
              "3786   0.004038        0.0  \n",
              "3787   0.053908        0.0  \n",
              "3788   0.039084        0.0  \n",
              "3789   0.012113        0.0  \n",
              "3790  16.595960        0.0  \n",
              "\n",
              "[3790 rows x 6001 columns]"
            ]
          },
          "execution_count": 58,
          "metadata": {},
          "output_type": "execute_result"
        }
      ],
      "source": [
        "s_aureus_oxacillin"
      ]
    },
    {
      "cell_type": "code",
      "execution_count": 59,
      "metadata": {},
      "outputs": [],
      "source": [
        "X = s_aureus_oxacillin.iloc[:, 0:6000].values  # variables independientes (espectros de masa)\n",
        "y = s_aureus_oxacillin.iloc[:, 6000].values    # variable dependientes (resistencia a ciprofloxacin)\n",
        "X = np.asarray(X).astype(np.float32)\n",
        "y = np.asarray(y).astype(np.float32)\n"
      ]
    },
    {
      "cell_type": "code",
      "execution_count": 60,
      "metadata": {},
      "outputs": [],
      "source": [
        "X_train, X_test, y_train, y_test = train_test_split(X, y, test_size = 0.2, random_state = 0, stratify=y)"
      ]
    },
    {
      "cell_type": "markdown",
      "metadata": {},
      "source": [
        "## Enfoque en clase minoritaria"
      ]
    },
    {
      "cell_type": "code",
      "execution_count": null,
      "metadata": {},
      "outputs": [],
      "source": []
    },
    {
      "cell_type": "code",
      "execution_count": 61,
      "metadata": {},
      "outputs": [],
      "source": [
        "minority_class = s_aureus_oxacillin[s_aureus_oxacillin['Oxacillin'] == 1].drop(columns=['Oxacillin'])\n"
      ]
    },
    {
      "cell_type": "code",
      "execution_count": 62,
      "metadata": {},
      "outputs": [],
      "source": [
        "etiquetas = s_aureus_oxacillin[s_aureus_oxacillin['Oxacillin'] == 1].iloc[:, 6000].values"
      ]
    },
    {
      "cell_type": "markdown",
      "metadata": {},
      "source": [
        "Diffusion model\n"
      ]
    },
    {
      "cell_type": "code",
      "execution_count": 63,
      "metadata": {},
      "outputs": [],
      "source": [
        "import torch\n",
        "import torch.nn as nn\n",
        "import numpy as np\n",
        "import pandas as pd\n",
        "from sklearn.preprocessing import StandardScaler\n",
        "from sklearn.model_selection import train_test_split\n",
        "import matplotlib.pyplot as plt"
      ]
    },
    {
      "cell_type": "code",
      "execution_count": 64,
      "metadata": {},
      "outputs": [],
      "source": [
        "torch.manual_seed(42)\n",
        "np.random.seed(42)"
      ]
    },
    {
      "cell_type": "code",
      "execution_count": 65,
      "metadata": {},
      "outputs": [],
      "source": [
        "# Preprocesamiento\n",
        "scaler = StandardScaler()\n",
        "scaled_data = scaler.fit_transform(X_train)"
      ]
    },
    {
      "cell_type": "code",
      "execution_count": 66,
      "metadata": {},
      "outputs": [],
      "source": [
        "# Modelo de Difusión\n",
        "class DiffusionModel(nn.Module):\n",
        "    def __init__(self, input_dim):\n",
        "        super(DiffusionModel, self).__init__()\n",
        "        self.model = nn.Sequential( \n",
        "            nn.Linear(input_dim, 64),\n",
        "            nn.ReLU(),\n",
        "            nn.Dropout(p=0.2),  # Regularización Dropout\n",
        "            nn.Linear(64, 32),\n",
        "            nn.ReLU(),\n",
        "            nn.Dropout(p=0.2),  # Regularización Dropout\n",
        "            nn.Linear(32, input_dim)\n",
        "        )\n",
        "\n",
        "\n",
        "    def forward(self, x):\n",
        "        return self.model(x)\n"
      ]
    },
    {
      "cell_type": "code",
      "execution_count": 67,
      "metadata": {},
      "outputs": [],
      "source": [
        "# Función de ruido (Scheduler)\n",
        "def add_noise(data, timesteps, noise_scale=1.0):\n",
        "    noise = np.random.normal(0, noise_scale, data.shape) * np.sqrt(timesteps / 100)\n",
        "    noisy_data = data + noise\n",
        "    return noisy_data, noise\n"
      ]
    },
    {
      "cell_type": "code",
      "execution_count": 68,
      "metadata": {},
      "outputs": [],
      "source": [
        "# Configuración del modelo\n",
        "input_dim = scaled_data.shape[1]\n",
        "model = DiffusionModel(input_dim)\n",
        "optimizer = torch.optim.Adam(model.parameters(), lr=0.001)\n",
        "loss_fn = nn.SmoothL1Loss()  # O Huber Loss\n"
      ]
    },
    {
      "cell_type": "code",
      "execution_count": 69,
      "metadata": {},
      "outputs": [],
      "source": [
        "# Scheduler de tasa de aprendizaje\n",
        "scheduler = torch.optim.lr_scheduler.StepLR(optimizer, step_size=100, gamma=0.9)\n"
      ]
    },
    {
      "cell_type": "code",
      "execution_count": 70,
      "metadata": {},
      "outputs": [
        {
          "name": "stdout",
          "output_type": "stream",
          "text": [
            "Epoch 0/500 - Loss: 0.2571299076080322\n",
            "Epoch 100/500 - Loss: 0.3130102753639221\n",
            "Epoch 200/500 - Loss: 0.24004623293876648\n",
            "Epoch 300/500 - Loss: 0.36852067708969116\n",
            "Epoch 400/500 - Loss: 0.16111202538013458\n"
          ]
        }
      ],
      "source": [
        "# Entrenamiento\n",
        "scaled_data_tensor = torch.tensor(scaled_data, dtype=torch.float32)\n",
        "epochs = 500\n",
        "losses = []  # Para guardar la pérdida por época\n",
        "\n",
        "for epoch in range(epochs):\n",
        "    timesteps = np.random.randint(1, 100)\n",
        "    noisy_data, noise = add_noise(scaled_data, timesteps)\n",
        "    noisy_data_tensor = torch.tensor(noisy_data, dtype=torch.float32)\n",
        "    noise_tensor = torch.tensor(noise, dtype=torch.float32)\n",
        "\n",
        "    optimizer.zero_grad()\n",
        "    predicted_noise = model(noisy_data_tensor)\n",
        "    loss = loss_fn(predicted_noise, noise_tensor)\n",
        "    loss.backward()\n",
        "    optimizer.step()\n",
        "    scheduler.step()  # Actualiza la tasa de aprendizaje\n",
        "\n",
        "    losses.append(loss.item())\n",
        "\n",
        "    if epoch % 100 == 0:\n",
        "        print(f\"Epoch {epoch}/{epochs} - Loss: {loss.item()}\")\n"
      ]
    },
    {
      "cell_type": "code",
      "execution_count": 71,
      "metadata": {},
      "outputs": [],
      "source": [
        "# Generación de Datos Sintéticos\n",
        "def generate_synthetic_data(model, num_samples, input_dim):\n",
        "    model.eval()\n",
        "    with torch.no_grad():\n",
        "        synthetic_data = np.random.normal(0, 1, (num_samples, input_dim))\n",
        "        for t in range(100, 0, -1):  # Reverse diffusion\n",
        "            synthetic_data = synthetic_data - model(torch.tensor(synthetic_data, dtype=torch.float32)).numpy() * (t / 100)\n",
        "        return synthetic_data"
      ]
    },
    {
      "cell_type": "code",
      "execution_count": 72,
      "metadata": {},
      "outputs": [
        {
          "name": "stdout",
          "output_type": "stream",
          "text": [
            "0.0    2451\n",
            "1.0     581\n",
            "Name: count, dtype: int64\n"
          ]
        }
      ],
      "source": [
        "print(pd.Series(y_train).value_counts())"
      ]
    },
    {
      "cell_type": "code",
      "execution_count": 73,
      "metadata": {},
      "outputs": [
        {
          "data": {
            "text/plain": [
              "1870"
            ]
          },
          "execution_count": 73,
          "metadata": {},
          "output_type": "execute_result"
        }
      ],
      "source": [
        "pd.Series(y_train).value_counts()[0]-pd.Series(y_train).value_counts()[1]"
      ]
    },
    {
      "cell_type": "code",
      "execution_count": 74,
      "metadata": {},
      "outputs": [],
      "source": [
        "\n",
        "synthetic_data = generate_synthetic_data(model, pd.Series(y_train).value_counts()[0]-pd.Series(y_train).value_counts()[1], input_dim)\n",
        "synthetic_data_rescaled = scaler.inverse_transform(synthetic_data)\n"
      ]
    },
    {
      "cell_type": "code",
      "execution_count": 75,
      "metadata": {},
      "outputs": [
        {
          "data": {
            "text/plain": [
              "(1870, 6000)"
            ]
          },
          "execution_count": 75,
          "metadata": {},
          "output_type": "execute_result"
        }
      ],
      "source": [
        "synthetic_data_rescaled.shape"
      ]
    },
    {
      "cell_type": "code",
      "execution_count": 76,
      "metadata": {},
      "outputs": [
        {
          "data": {
            "text/plain": [
              "(1870, 6000)"
            ]
          },
          "execution_count": 76,
          "metadata": {},
          "output_type": "execute_result"
        }
      ],
      "source": [
        "\n",
        "# Cambiar el tipo de datos a float32\n",
        "synthetic_samples_numpy = synthetic_data_rescaled.astype(np.float32)\n",
        "\n",
        "# Mostrar las muestras generadas\n",
        "synthetic_samples_numpy.shape"
      ]
    },
    {
      "cell_type": "code",
      "execution_count": 77,
      "metadata": {},
      "outputs": [],
      "source": [
        "X_train_resampled = np.concatenate([X_train,synthetic_samples_numpy])"
      ]
    },
    {
      "cell_type": "code",
      "execution_count": 78,
      "metadata": {},
      "outputs": [
        {
          "data": {
            "text/plain": [
              "(4902, 6000)"
            ]
          },
          "execution_count": 78,
          "metadata": {},
          "output_type": "execute_result"
        }
      ],
      "source": [
        "X_train_resampled.shape"
      ]
    },
    {
      "cell_type": "code",
      "execution_count": 79,
      "metadata": {},
      "outputs": [
        {
          "data": {
            "text/plain": [
              "(4902,)"
            ]
          },
          "execution_count": 79,
          "metadata": {},
          "output_type": "execute_result"
        }
      ],
      "source": [
        "ones_array = np.ones(pd.Series(y_train).value_counts()[0]-pd.Series(y_train).value_counts()[1])\n",
        "y_train_resampled = np.concatenate([y_train,ones_array])\n",
        "y_train_resampled.shape"
      ]
    },
    {
      "cell_type": "markdown",
      "metadata": {},
      "source": [
        "## Termino oversampling"
      ]
    },
    {
      "cell_type": "code",
      "execution_count": 80,
      "metadata": {
        "id": "Cz1ZnhEykiY9"
      },
      "outputs": [],
      "source": [
        "scaler=Normalizer(norm='max')\n",
        "sc_X = scaler\n",
        "X_train = sc_X.fit_transform(X_train_resampled)\n",
        "X_test = sc_X.transform(X_test)"
      ]
    },
    {
      "cell_type": "code",
      "execution_count": 81,
      "metadata": {
        "id": "HiHCUFo-kiW9"
      },
      "outputs": [],
      "source": [
        "sample_size = X_train.shape[0] # numero de muestras en el set de datos\n",
        "time_steps  = X_train.shape[1] # numero de atributos en el set de datos\n",
        "input_dimension = 1            #\n",
        "\n",
        "X_train_reshaped = X_train.reshape(sample_size,time_steps,input_dimension)\n",
        "X_test_reshaped = X_test.reshape(X_test.shape[0],X_test.shape[1],1)"
      ]
    },
    {
      "cell_type": "code",
      "execution_count": 82,
      "metadata": {
        "id": "VEuHRBvAlw79"
      },
      "outputs": [],
      "source": [
        "reduce_lr = ReduceLROnPlateau(monitor='val_loss', factor=0.1, patience=3, min_lr=0.000001)\n",
        "early_st = EarlyStopping(monitor='val_loss', patience=4, restore_best_weights=True)\n",
        "\n",
        "n_timesteps = X_train_reshaped.shape[1] #\n",
        "n_features  = X_train_reshaped.shape[2] #"
      ]
    },
    {
      "cell_type": "code",
      "execution_count": 83,
      "metadata": {},
      "outputs": [
        {
          "name": "stdout",
          "output_type": "stream",
          "text": [
            "1.0    2451\n",
            "0.0    2451\n",
            "Name: count, dtype: int64\n"
          ]
        }
      ],
      "source": [
        "print(pd.Series(y_train_resampled).value_counts())\n"
      ]
    },
    {
      "cell_type": "markdown",
      "metadata": {
        "id": "hBf6W9iPXz3p"
      },
      "source": [
        "# Create and fit DeepAMR model"
      ]
    },
    {
      "cell_type": "code",
      "execution_count": 84,
      "metadata": {
        "colab": {
          "base_uri": "https://localhost:8080/",
          "height": 952
        },
        "id": "AlJHRRzlkiH9",
        "outputId": "d20e434d-8e4c-431b-a401-ac0b057ded3a"
      },
      "outputs": [
        {
          "name": "stdout",
          "output_type": "stream",
          "text": [
            "Model: \"Modelo_s_aureus_ciprofloxacin\"\n",
            "_________________________________________________________________\n",
            " Layer (type)                Output Shape              Param #   \n",
            "=================================================================\n",
            " Conv_1 (Conv1D)             (None, 5984, 64)          1152      \n",
            "                                                                 \n",
            " batch_normalization_4 (Batc  (None, 5984, 64)         256       \n",
            " hNormalization)                                                 \n",
            "                                                                 \n",
            " activation_4 (Activation)   (None, 5984, 64)          0         \n",
            "                                                                 \n",
            " MaxPooling1D_1 (MaxPooling1  (None, 2992, 64)         0         \n",
            " D)                                                              \n",
            "                                                                 \n",
            " Conv_2 (Conv1D)             (None, 2984, 128)         73856     \n",
            "                                                                 \n",
            " batch_normalization_5 (Batc  (None, 2984, 128)        512       \n",
            " hNormalization)                                                 \n",
            "                                                                 \n",
            " activation_5 (Activation)   (None, 2984, 128)         0         \n",
            "                                                                 \n",
            " MaxPooling1D_2 (MaxPooling1  (None, 1492, 128)        0         \n",
            " D)                                                              \n",
            "                                                                 \n",
            " Conv_3 (Conv1D)             (None, 1488, 256)         164096    \n",
            "                                                                 \n",
            " batch_normalization_6 (Batc  (None, 1488, 256)        1024      \n",
            " hNormalization)                                                 \n",
            "                                                                 \n",
            " activation_6 (Activation)   (None, 1488, 256)         0         \n",
            "                                                                 \n",
            " MaxPooling1D_3 (MaxPooling1  (None, 744, 256)         0         \n",
            " D)                                                              \n",
            "                                                                 \n",
            " Conv_4 (Conv1D)             (None, 740, 256)          327936    \n",
            "                                                                 \n",
            " batch_normalization_7 (Batc  (None, 740, 256)         1024      \n",
            " hNormalization)                                                 \n",
            "                                                                 \n",
            " activation_7 (Activation)   (None, 740, 256)          0         \n",
            "                                                                 \n",
            " MaxPooling1D_4 (MaxPooling1  (None, 370, 256)         0         \n",
            " D)                                                              \n",
            "                                                                 \n",
            " flatten_1 (Flatten)         (None, 94720)             0         \n",
            "                                                                 \n",
            " dropout_1 (Dropout)         (None, 94720)             0         \n",
            "                                                                 \n",
            " fully_connected_0 (Dense)   (None, 256)               24248576  \n",
            "                                                                 \n",
            " fully_connected_1 (Dense)   (None, 64)                16448     \n",
            "                                                                 \n",
            " fully_connected_2 (Dense)   (None, 64)                4160      \n",
            "                                                                 \n",
            " OUT_Layer (Dense)           (None, 1)                 65        \n",
            "                                                                 \n",
            "=================================================================\n",
            "Total params: 24,839,105\n",
            "Trainable params: 24,837,697\n",
            "Non-trainable params: 1,408\n",
            "_________________________________________________________________\n"
          ]
        }
      ],
      "source": [
        "model = Sequential(name=\"Modelo_s_aureus_ciprofloxacin\")\n",
        "init_mode = 'normal'\n",
        "model.add(Conv1D(filters=(64), kernel_size=(17), input_shape = (n_timesteps,n_features), name='Conv_1'))\n",
        "model.add(BatchNormalization())\n",
        "model.add(Activation('relu'))\n",
        "model.add(MaxPooling1D(pool_size=2, name=\"MaxPooling1D_1\"))\n",
        "\n",
        "model.add(Conv1D(filters=(128), kernel_size=(9),kernel_initializer=init_mode, kernel_regularizer=regularizers.l2(0.0001),  name='Conv_2'))\n",
        "model.add(BatchNormalization())\n",
        "model.add(Activation('relu'))\n",
        "model.add(MaxPooling1D(pool_size=2, name=\"MaxPooling1D_2\"))\n",
        "\n",
        "model.add(Conv1D(filters=(256), kernel_size=(5),kernel_initializer=init_mode,kernel_regularizer=regularizers.l2(0.0001),   name='Conv_3'))\n",
        "model.add(BatchNormalization())\n",
        "model.add(Activation('relu'))\n",
        "model.add(MaxPooling1D(pool_size=2, name=\"MaxPooling1D_3\"))\n",
        "\n",
        "model.add(Conv1D(filters=(256), kernel_size=(5),kernel_initializer=init_mode, kernel_regularizer=regularizers.l2(0.0001),   name='Conv_4'))\n",
        "model.add(BatchNormalization())\n",
        "model.add(Activation('relu'))\n",
        "model.add(MaxPooling1D(pool_size=2, name=\"MaxPooling1D_4\"))\n",
        "\n",
        "model.add(Flatten())\n",
        "model.add(Dropout(0.65))\n",
        "model.add(Dense(256, activation='relu',kernel_initializer=init_mode, kernel_regularizer=regularizers.l2(0.0001), name=\"fully_connected_0\"))\n",
        "model.add(Dense(64, activation='relu',kernel_initializer=init_mode, kernel_regularizer=regularizers.l2(0.0001), name=\"fully_connected_1\"))\n",
        "model.add(Dense(64, activation='relu',kernel_initializer=init_mode, kernel_regularizer=regularizers.l2(0.0001),  name=\"fully_connected_2\"))\n",
        "model.add(Dense(n_features, activation='sigmoid', name=\"OUT_Layer\"))\n",
        "\n",
        "model.compile(optimizer = Adam(learning_rate=0.0001), loss = 'binary_crossentropy',  metrics=METRICS)\n",
        "model.summary()"
      ]
    },
    {
      "cell_type": "code",
      "execution_count": 85,
      "metadata": {
        "colab": {
          "base_uri": "https://localhost:8080/"
        },
        "id": "lDksoJagl3H9",
        "outputId": "b244d4a7-0b9c-4b4e-cb2a-f5159586c644"
      },
      "outputs": [
        {
          "name": "stdout",
          "output_type": "stream",
          "text": [
            "Epoch 1/200\n",
            "442/442 [==============================] - 13s 26ms/step - loss: 5.9695 - tp: 1417.0000 - fp: 145.0000 - tn: 2306.0000 - fn: 543.0000 - accuracy: 0.8440 - precision: 0.9072 - recall: 0.7230 - auc: 0.8724 - prc: 0.8984 - val_loss: 6.3356 - val_tp: 6.0000 - val_fp: 0.0000e+00 - val_tn: 0.0000e+00 - val_fn: 485.0000 - val_accuracy: 0.0122 - val_precision: 1.0000 - val_recall: 0.0122 - val_auc: 0.0000e+00 - val_prc: 1.0000 - lr: 1.0000e-04\n",
            "Epoch 2/200\n",
            "442/442 [==============================] - 11s 24ms/step - loss: 5.1382 - tp: 1439.0000 - fp: 72.0000 - tn: 2379.0000 - fn: 521.0000 - accuracy: 0.8656 - precision: 0.9523 - recall: 0.7342 - auc: 0.8971 - prc: 0.9151 - val_loss: 4.5206 - val_tp: 491.0000 - val_fp: 0.0000e+00 - val_tn: 0.0000e+00 - val_fn: 0.0000e+00 - val_accuracy: 1.0000 - val_precision: 1.0000 - val_recall: 1.0000 - val_auc: 0.0000e+00 - val_prc: 1.0000 - lr: 1.0000e-04\n",
            "Epoch 3/200\n",
            "442/442 [==============================] - 10s 23ms/step - loss: 4.5674 - tp: 1482.0000 - fp: 79.0000 - tn: 2372.0000 - fn: 478.0000 - accuracy: 0.8737 - precision: 0.9494 - recall: 0.7561 - auc: 0.9240 - prc: 0.9344 - val_loss: 4.0322 - val_tp: 491.0000 - val_fp: 0.0000e+00 - val_tn: 0.0000e+00 - val_fn: 0.0000e+00 - val_accuracy: 1.0000 - val_precision: 1.0000 - val_recall: 1.0000 - val_auc: 0.0000e+00 - val_prc: 1.0000 - lr: 1.0000e-04\n",
            "Epoch 4/200\n",
            "442/442 [==============================] - 10s 24ms/step - loss: 4.0978 - tp: 1526.0000 - fp: 101.0000 - tn: 2350.0000 - fn: 434.0000 - accuracy: 0.8787 - precision: 0.9379 - recall: 0.7786 - auc: 0.9309 - prc: 0.9399 - val_loss: 3.5978 - val_tp: 491.0000 - val_fp: 0.0000e+00 - val_tn: 0.0000e+00 - val_fn: 0.0000e+00 - val_accuracy: 1.0000 - val_precision: 1.0000 - val_recall: 1.0000 - val_auc: 0.0000e+00 - val_prc: 1.0000 - lr: 1.0000e-04\n",
            "Epoch 5/200\n",
            "442/442 [==============================] - 11s 25ms/step - loss: 3.6745 - tp: 1552.0000 - fp: 116.0000 - tn: 2335.0000 - fn: 408.0000 - accuracy: 0.8812 - precision: 0.9305 - recall: 0.7918 - auc: 0.9362 - prc: 0.9439 - val_loss: 3.1975 - val_tp: 491.0000 - val_fp: 0.0000e+00 - val_tn: 0.0000e+00 - val_fn: 0.0000e+00 - val_accuracy: 1.0000 - val_precision: 1.0000 - val_recall: 1.0000 - val_auc: 0.0000e+00 - val_prc: 1.0000 - lr: 1.0000e-04\n",
            "Epoch 6/200\n",
            "442/442 [==============================] - 11s 25ms/step - loss: 3.2839 - tp: 1569.0000 - fp: 108.0000 - tn: 2343.0000 - fn: 391.0000 - accuracy: 0.8869 - precision: 0.9356 - recall: 0.8005 - auc: 0.9396 - prc: 0.9469 - val_loss: 2.8343 - val_tp: 491.0000 - val_fp: 0.0000e+00 - val_tn: 0.0000e+00 - val_fn: 0.0000e+00 - val_accuracy: 1.0000 - val_precision: 1.0000 - val_recall: 1.0000 - val_auc: 0.0000e+00 - val_prc: 1.0000 - lr: 1.0000e-04\n",
            "Epoch 7/200\n",
            "442/442 [==============================] - 11s 24ms/step - loss: 2.9262 - tp: 1608.0000 - fp: 110.0000 - tn: 2341.0000 - fn: 352.0000 - accuracy: 0.8953 - precision: 0.9360 - recall: 0.8204 - auc: 0.9473 - prc: 0.9530 - val_loss: 2.5098 - val_tp: 491.0000 - val_fp: 0.0000e+00 - val_tn: 0.0000e+00 - val_fn: 0.0000e+00 - val_accuracy: 1.0000 - val_precision: 1.0000 - val_recall: 1.0000 - val_auc: 0.0000e+00 - val_prc: 1.0000 - lr: 1.0000e-04\n",
            "Epoch 8/200\n",
            "442/442 [==============================] - 11s 24ms/step - loss: 2.6091 - tp: 1611.0000 - fp: 98.0000 - tn: 2353.0000 - fn: 349.0000 - accuracy: 0.8987 - precision: 0.9427 - recall: 0.8219 - auc: 0.9497 - prc: 0.9558 - val_loss: 2.2169 - val_tp: 491.0000 - val_fp: 0.0000e+00 - val_tn: 0.0000e+00 - val_fn: 0.0000e+00 - val_accuracy: 1.0000 - val_precision: 1.0000 - val_recall: 1.0000 - val_auc: 0.0000e+00 - val_prc: 1.0000 - lr: 1.0000e-04\n",
            "Epoch 9/200\n",
            "442/442 [==============================] - 11s 24ms/step - loss: 2.3245 - tp: 1644.0000 - fp: 85.0000 - tn: 2366.0000 - fn: 316.0000 - accuracy: 0.9091 - precision: 0.9508 - recall: 0.8388 - auc: 0.9540 - prc: 0.9589 - val_loss: 1.9581 - val_tp: 491.0000 - val_fp: 0.0000e+00 - val_tn: 0.0000e+00 - val_fn: 0.0000e+00 - val_accuracy: 1.0000 - val_precision: 1.0000 - val_recall: 1.0000 - val_auc: 0.0000e+00 - val_prc: 1.0000 - lr: 1.0000e-04\n",
            "Epoch 10/200\n",
            "442/442 [==============================] - 11s 24ms/step - loss: 2.0869 - tp: 1641.0000 - fp: 98.0000 - tn: 2353.0000 - fn: 319.0000 - accuracy: 0.9055 - precision: 0.9436 - recall: 0.8372 - auc: 0.9525 - prc: 0.9581 - val_loss: 1.7359 - val_tp: 491.0000 - val_fp: 0.0000e+00 - val_tn: 0.0000e+00 - val_fn: 0.0000e+00 - val_accuracy: 1.0000 - val_precision: 1.0000 - val_recall: 1.0000 - val_auc: 0.0000e+00 - val_prc: 1.0000 - lr: 1.0000e-04\n",
            "Epoch 11/200\n",
            "442/442 [==============================] - 11s 25ms/step - loss: 1.8557 - tp: 1672.0000 - fp: 84.0000 - tn: 2367.0000 - fn: 288.0000 - accuracy: 0.9157 - precision: 0.9522 - recall: 0.8531 - auc: 0.9597 - prc: 0.9647 - val_loss: 1.5403 - val_tp: 491.0000 - val_fp: 0.0000e+00 - val_tn: 0.0000e+00 - val_fn: 0.0000e+00 - val_accuracy: 1.0000 - val_precision: 1.0000 - val_recall: 1.0000 - val_auc: 0.0000e+00 - val_prc: 1.0000 - lr: 1.0000e-04\n",
            "Epoch 12/200\n",
            "442/442 [==============================] - 10s 24ms/step - loss: 1.6660 - tp: 1692.0000 - fp: 92.0000 - tn: 2359.0000 - fn: 268.0000 - accuracy: 0.9184 - precision: 0.9484 - recall: 0.8633 - auc: 0.9638 - prc: 0.9676 - val_loss: 1.3721 - val_tp: 491.0000 - val_fp: 0.0000e+00 - val_tn: 0.0000e+00 - val_fn: 0.0000e+00 - val_accuracy: 1.0000 - val_precision: 1.0000 - val_recall: 1.0000 - val_auc: 0.0000e+00 - val_prc: 1.0000 - lr: 1.0000e-04\n",
            "Epoch 13/200\n",
            "442/442 [==============================] - 10s 24ms/step - loss: 1.4990 - tp: 1703.0000 - fp: 86.0000 - tn: 2365.0000 - fn: 257.0000 - accuracy: 0.9222 - precision: 0.9519 - recall: 0.8689 - auc: 0.9671 - prc: 0.9705 - val_loss: 1.2276 - val_tp: 491.0000 - val_fp: 0.0000e+00 - val_tn: 0.0000e+00 - val_fn: 0.0000e+00 - val_accuracy: 1.0000 - val_precision: 1.0000 - val_recall: 1.0000 - val_auc: 0.0000e+00 - val_prc: 1.0000 - lr: 1.0000e-04\n",
            "Epoch 14/200\n",
            "442/442 [==============================] - 10s 24ms/step - loss: 1.3674 - tp: 1685.0000 - fp: 87.0000 - tn: 2364.0000 - fn: 275.0000 - accuracy: 0.9179 - precision: 0.9509 - recall: 0.8597 - auc: 0.9669 - prc: 0.9697 - val_loss: 1.1044 - val_tp: 491.0000 - val_fp: 0.0000e+00 - val_tn: 0.0000e+00 - val_fn: 0.0000e+00 - val_accuracy: 1.0000 - val_precision: 1.0000 - val_recall: 1.0000 - val_auc: 0.0000e+00 - val_prc: 1.0000 - lr: 1.0000e-04\n",
            "Epoch 15/200\n",
            "442/442 [==============================] - 11s 25ms/step - loss: 1.2447 - tp: 1695.0000 - fp: 74.0000 - tn: 2377.0000 - fn: 265.0000 - accuracy: 0.9231 - precision: 0.9582 - recall: 0.8648 - auc: 0.9686 - prc: 0.9714 - val_loss: 0.9988 - val_tp: 491.0000 - val_fp: 0.0000e+00 - val_tn: 0.0000e+00 - val_fn: 0.0000e+00 - val_accuracy: 1.0000 - val_precision: 1.0000 - val_recall: 1.0000 - val_auc: 0.0000e+00 - val_prc: 1.0000 - lr: 1.0000e-04\n",
            "Epoch 16/200\n",
            "442/442 [==============================] - 11s 25ms/step - loss: 1.1355 - tp: 1724.0000 - fp: 70.0000 - tn: 2381.0000 - fn: 236.0000 - accuracy: 0.9306 - precision: 0.9610 - recall: 0.8796 - auc: 0.9718 - prc: 0.9745 - val_loss: 0.9094 - val_tp: 491.0000 - val_fp: 0.0000e+00 - val_tn: 0.0000e+00 - val_fn: 0.0000e+00 - val_accuracy: 1.0000 - val_precision: 1.0000 - val_recall: 1.0000 - val_auc: 0.0000e+00 - val_prc: 1.0000 - lr: 1.0000e-04\n",
            "Epoch 17/200\n",
            "442/442 [==============================] - 11s 25ms/step - loss: 1.0606 - tp: 1721.0000 - fp: 72.0000 - tn: 2379.0000 - fn: 239.0000 - accuracy: 0.9295 - precision: 0.9598 - recall: 0.8781 - auc: 0.9689 - prc: 0.9723 - val_loss: 0.8320 - val_tp: 491.0000 - val_fp: 0.0000e+00 - val_tn: 0.0000e+00 - val_fn: 0.0000e+00 - val_accuracy: 1.0000 - val_precision: 1.0000 - val_recall: 1.0000 - val_auc: 0.0000e+00 - val_prc: 1.0000 - lr: 1.0000e-04\n",
            "Epoch 18/200\n",
            "442/442 [==============================] - 11s 25ms/step - loss: 0.9831 - tp: 1725.0000 - fp: 66.0000 - tn: 2385.0000 - fn: 235.0000 - accuracy: 0.9318 - precision: 0.9631 - recall: 0.8801 - auc: 0.9709 - prc: 0.9739 - val_loss: 0.7667 - val_tp: 491.0000 - val_fp: 0.0000e+00 - val_tn: 0.0000e+00 - val_fn: 0.0000e+00 - val_accuracy: 1.0000 - val_precision: 1.0000 - val_recall: 1.0000 - val_auc: 0.0000e+00 - val_prc: 1.0000 - lr: 1.0000e-04\n",
            "Epoch 19/200\n",
            "442/442 [==============================] - 11s 24ms/step - loss: 0.9097 - tp: 1733.0000 - fp: 58.0000 - tn: 2393.0000 - fn: 227.0000 - accuracy: 0.9354 - precision: 0.9676 - recall: 0.8842 - auc: 0.9744 - prc: 0.9771 - val_loss: 0.7088 - val_tp: 491.0000 - val_fp: 0.0000e+00 - val_tn: 0.0000e+00 - val_fn: 0.0000e+00 - val_accuracy: 1.0000 - val_precision: 1.0000 - val_recall: 1.0000 - val_auc: 0.0000e+00 - val_prc: 1.0000 - lr: 1.0000e-04\n",
            "Epoch 20/200\n",
            "442/442 [==============================] - 11s 24ms/step - loss: 0.8563 - tp: 1738.0000 - fp: 79.0000 - tn: 2372.0000 - fn: 222.0000 - accuracy: 0.9318 - precision: 0.9565 - recall: 0.8867 - auc: 0.9765 - prc: 0.9782 - val_loss: 0.6603 - val_tp: 491.0000 - val_fp: 0.0000e+00 - val_tn: 0.0000e+00 - val_fn: 0.0000e+00 - val_accuracy: 1.0000 - val_precision: 1.0000 - val_recall: 1.0000 - val_auc: 0.0000e+00 - val_prc: 1.0000 - lr: 1.0000e-04\n",
            "Epoch 21/200\n",
            "442/442 [==============================] - 11s 24ms/step - loss: 0.8026 - tp: 1763.0000 - fp: 73.0000 - tn: 2378.0000 - fn: 197.0000 - accuracy: 0.9388 - precision: 0.9602 - recall: 0.8995 - auc: 0.9780 - prc: 0.9798 - val_loss: 0.6172 - val_tp: 491.0000 - val_fp: 0.0000e+00 - val_tn: 0.0000e+00 - val_fn: 0.0000e+00 - val_accuracy: 1.0000 - val_precision: 1.0000 - val_recall: 1.0000 - val_auc: 0.0000e+00 - val_prc: 1.0000 - lr: 1.0000e-04\n",
            "Epoch 22/200\n",
            "442/442 [==============================] - 11s 25ms/step - loss: 0.7572 - tp: 1753.0000 - fp: 57.0000 - tn: 2394.0000 - fn: 207.0000 - accuracy: 0.9401 - precision: 0.9685 - recall: 0.8944 - auc: 0.9788 - prc: 0.9803 - val_loss: 0.5787 - val_tp: 491.0000 - val_fp: 0.0000e+00 - val_tn: 0.0000e+00 - val_fn: 0.0000e+00 - val_accuracy: 1.0000 - val_precision: 1.0000 - val_recall: 1.0000 - val_auc: 0.0000e+00 - val_prc: 1.0000 - lr: 1.0000e-04\n",
            "Epoch 23/200\n",
            "442/442 [==============================] - 11s 25ms/step - loss: 0.7188 - tp: 1756.0000 - fp: 49.0000 - tn: 2402.0000 - fn: 204.0000 - accuracy: 0.9426 - precision: 0.9729 - recall: 0.8959 - auc: 0.9788 - prc: 0.9802 - val_loss: 0.5435 - val_tp: 491.0000 - val_fp: 0.0000e+00 - val_tn: 0.0000e+00 - val_fn: 0.0000e+00 - val_accuracy: 1.0000 - val_precision: 1.0000 - val_recall: 1.0000 - val_auc: 0.0000e+00 - val_prc: 1.0000 - lr: 1.0000e-04\n",
            "Epoch 24/200\n",
            "442/442 [==============================] - 11s 25ms/step - loss: 0.6856 - tp: 1759.0000 - fp: 57.0000 - tn: 2394.0000 - fn: 201.0000 - accuracy: 0.9415 - precision: 0.9686 - recall: 0.8974 - auc: 0.9796 - prc: 0.9811 - val_loss: 0.5133 - val_tp: 491.0000 - val_fp: 0.0000e+00 - val_tn: 0.0000e+00 - val_fn: 0.0000e+00 - val_accuracy: 1.0000 - val_precision: 1.0000 - val_recall: 1.0000 - val_auc: 0.0000e+00 - val_prc: 1.0000 - lr: 1.0000e-04\n",
            "Epoch 25/200\n",
            "442/442 [==============================] - 11s 24ms/step - loss: 0.6362 - tp: 1786.0000 - fp: 46.0000 - tn: 2405.0000 - fn: 174.0000 - accuracy: 0.9501 - precision: 0.9749 - recall: 0.9112 - auc: 0.9843 - prc: 0.9852 - val_loss: 0.4858 - val_tp: 491.0000 - val_fp: 0.0000e+00 - val_tn: 0.0000e+00 - val_fn: 0.0000e+00 - val_accuracy: 1.0000 - val_precision: 1.0000 - val_recall: 1.0000 - val_auc: 0.0000e+00 - val_prc: 1.0000 - lr: 1.0000e-04\n",
            "Epoch 26/200\n",
            "442/442 [==============================] - 11s 25ms/step - loss: 0.6158 - tp: 1790.0000 - fp: 60.0000 - tn: 2391.0000 - fn: 170.0000 - accuracy: 0.9479 - precision: 0.9676 - recall: 0.9133 - auc: 0.9840 - prc: 0.9845 - val_loss: 0.4621 - val_tp: 491.0000 - val_fp: 0.0000e+00 - val_tn: 0.0000e+00 - val_fn: 0.0000e+00 - val_accuracy: 1.0000 - val_precision: 1.0000 - val_recall: 1.0000 - val_auc: 0.0000e+00 - val_prc: 1.0000 - lr: 1.0000e-04\n",
            "Epoch 27/200\n",
            "442/442 [==============================] - 11s 25ms/step - loss: 0.5868 - tp: 1785.0000 - fp: 48.0000 - tn: 2403.0000 - fn: 175.0000 - accuracy: 0.9494 - precision: 0.9738 - recall: 0.9107 - auc: 0.9845 - prc: 0.9852 - val_loss: 0.4401 - val_tp: 491.0000 - val_fp: 0.0000e+00 - val_tn: 0.0000e+00 - val_fn: 0.0000e+00 - val_accuracy: 1.0000 - val_precision: 1.0000 - val_recall: 1.0000 - val_auc: 0.0000e+00 - val_prc: 1.0000 - lr: 1.0000e-04\n",
            "Epoch 28/200\n",
            "442/442 [==============================] - 11s 25ms/step - loss: 0.5725 - tp: 1787.0000 - fp: 63.0000 - tn: 2388.0000 - fn: 173.0000 - accuracy: 0.9465 - precision: 0.9659 - recall: 0.9117 - auc: 0.9839 - prc: 0.9843 - val_loss: 0.4224 - val_tp: 491.0000 - val_fp: 0.0000e+00 - val_tn: 0.0000e+00 - val_fn: 0.0000e+00 - val_accuracy: 1.0000 - val_precision: 1.0000 - val_recall: 1.0000 - val_auc: 0.0000e+00 - val_prc: 1.0000 - lr: 1.0000e-04\n",
            "Epoch 29/200\n",
            "442/442 [==============================] - 11s 24ms/step - loss: 0.5417 - tp: 1801.0000 - fp: 53.0000 - tn: 2398.0000 - fn: 159.0000 - accuracy: 0.9519 - precision: 0.9714 - recall: 0.9189 - auc: 0.9868 - prc: 0.9871 - val_loss: 0.4043 - val_tp: 491.0000 - val_fp: 0.0000e+00 - val_tn: 0.0000e+00 - val_fn: 0.0000e+00 - val_accuracy: 1.0000 - val_precision: 1.0000 - val_recall: 1.0000 - val_auc: 0.0000e+00 - val_prc: 1.0000 - lr: 1.0000e-04\n",
            "Epoch 30/200\n",
            "442/442 [==============================] - 11s 24ms/step - loss: 0.5340 - tp: 1798.0000 - fp: 60.0000 - tn: 2391.0000 - fn: 162.0000 - accuracy: 0.9497 - precision: 0.9677 - recall: 0.9173 - auc: 0.9853 - prc: 0.9853 - val_loss: 0.3915 - val_tp: 491.0000 - val_fp: 0.0000e+00 - val_tn: 0.0000e+00 - val_fn: 0.0000e+00 - val_accuracy: 1.0000 - val_precision: 1.0000 - val_recall: 1.0000 - val_auc: 0.0000e+00 - val_prc: 1.0000 - lr: 1.0000e-04\n",
            "Epoch 31/200\n",
            "442/442 [==============================] - 11s 24ms/step - loss: 0.5076 - tp: 1811.0000 - fp: 57.0000 - tn: 2394.0000 - fn: 149.0000 - accuracy: 0.9533 - precision: 0.9695 - recall: 0.9240 - auc: 0.9881 - prc: 0.9883 - val_loss: 0.3772 - val_tp: 491.0000 - val_fp: 0.0000e+00 - val_tn: 0.0000e+00 - val_fn: 0.0000e+00 - val_accuracy: 1.0000 - val_precision: 1.0000 - val_recall: 1.0000 - val_auc: 0.0000e+00 - val_prc: 1.0000 - lr: 1.0000e-04\n",
            "Epoch 32/200\n",
            "442/442 [==============================] - 11s 25ms/step - loss: 0.4902 - tp: 1809.0000 - fp: 57.0000 - tn: 2394.0000 - fn: 151.0000 - accuracy: 0.9528 - precision: 0.9695 - recall: 0.9230 - auc: 0.9891 - prc: 0.9891 - val_loss: 0.3647 - val_tp: 491.0000 - val_fp: 0.0000e+00 - val_tn: 0.0000e+00 - val_fn: 0.0000e+00 - val_accuracy: 1.0000 - val_precision: 1.0000 - val_recall: 1.0000 - val_auc: 0.0000e+00 - val_prc: 1.0000 - lr: 1.0000e-04\n",
            "Epoch 33/200\n",
            "442/442 [==============================] - 11s 25ms/step - loss: 0.4639 - tp: 1839.0000 - fp: 48.0000 - tn: 2403.0000 - fn: 121.0000 - accuracy: 0.9617 - precision: 0.9746 - recall: 0.9383 - auc: 0.9907 - prc: 0.9911 - val_loss: 0.3531 - val_tp: 491.0000 - val_fp: 0.0000e+00 - val_tn: 0.0000e+00 - val_fn: 0.0000e+00 - val_accuracy: 1.0000 - val_precision: 1.0000 - val_recall: 1.0000 - val_auc: 0.0000e+00 - val_prc: 1.0000 - lr: 1.0000e-04\n",
            "Epoch 34/200\n",
            "442/442 [==============================] - 11s 25ms/step - loss: 0.4601 - tp: 1811.0000 - fp: 46.0000 - tn: 2405.0000 - fn: 149.0000 - accuracy: 0.9558 - precision: 0.9752 - recall: 0.9240 - auc: 0.9898 - prc: 0.9898 - val_loss: 0.3420 - val_tp: 491.0000 - val_fp: 0.0000e+00 - val_tn: 0.0000e+00 - val_fn: 0.0000e+00 - val_accuracy: 1.0000 - val_precision: 1.0000 - val_recall: 1.0000 - val_auc: 0.0000e+00 - val_prc: 1.0000 - lr: 1.0000e-04\n",
            "Epoch 35/200\n",
            "442/442 [==============================] - 11s 24ms/step - loss: 0.4374 - tp: 1841.0000 - fp: 45.0000 - tn: 2406.0000 - fn: 119.0000 - accuracy: 0.9628 - precision: 0.9761 - recall: 0.9393 - auc: 0.9914 - prc: 0.9918 - val_loss: 0.3329 - val_tp: 491.0000 - val_fp: 0.0000e+00 - val_tn: 0.0000e+00 - val_fn: 0.0000e+00 - val_accuracy: 1.0000 - val_precision: 1.0000 - val_recall: 1.0000 - val_auc: 0.0000e+00 - val_prc: 1.0000 - lr: 1.0000e-04\n",
            "Epoch 36/200\n",
            "442/442 [==============================] - 11s 24ms/step - loss: 0.4365 - tp: 1829.0000 - fp: 46.0000 - tn: 2405.0000 - fn: 131.0000 - accuracy: 0.9599 - precision: 0.9755 - recall: 0.9332 - auc: 0.9901 - prc: 0.9904 - val_loss: 0.3237 - val_tp: 491.0000 - val_fp: 0.0000e+00 - val_tn: 0.0000e+00 - val_fn: 0.0000e+00 - val_accuracy: 1.0000 - val_precision: 1.0000 - val_recall: 1.0000 - val_auc: 0.0000e+00 - val_prc: 1.0000 - lr: 1.0000e-04\n",
            "Epoch 37/200\n",
            "442/442 [==============================] - 11s 25ms/step - loss: 0.4151 - tp: 1846.0000 - fp: 46.0000 - tn: 2405.0000 - fn: 114.0000 - accuracy: 0.9637 - precision: 0.9757 - recall: 0.9418 - auc: 0.9926 - prc: 0.9926 - val_loss: 0.3155 - val_tp: 491.0000 - val_fp: 0.0000e+00 - val_tn: 0.0000e+00 - val_fn: 0.0000e+00 - val_accuracy: 1.0000 - val_precision: 1.0000 - val_recall: 1.0000 - val_auc: 0.0000e+00 - val_prc: 1.0000 - lr: 1.0000e-04\n",
            "Epoch 38/200\n",
            "442/442 [==============================] - 11s 24ms/step - loss: 0.4090 - tp: 1846.0000 - fp: 37.0000 - tn: 2414.0000 - fn: 114.0000 - accuracy: 0.9658 - precision: 0.9804 - recall: 0.9418 - auc: 0.9917 - prc: 0.9921 - val_loss: 0.3071 - val_tp: 491.0000 - val_fp: 0.0000e+00 - val_tn: 0.0000e+00 - val_fn: 0.0000e+00 - val_accuracy: 1.0000 - val_precision: 1.0000 - val_recall: 1.0000 - val_auc: 0.0000e+00 - val_prc: 1.0000 - lr: 1.0000e-04\n",
            "Epoch 39/200\n",
            "442/442 [==============================] - 11s 25ms/step - loss: 0.3967 - tp: 1852.0000 - fp: 40.0000 - tn: 2411.0000 - fn: 108.0000 - accuracy: 0.9664 - precision: 0.9789 - recall: 0.9449 - auc: 0.9927 - prc: 0.9928 - val_loss: 0.2996 - val_tp: 491.0000 - val_fp: 0.0000e+00 - val_tn: 0.0000e+00 - val_fn: 0.0000e+00 - val_accuracy: 1.0000 - val_precision: 1.0000 - val_recall: 1.0000 - val_auc: 0.0000e+00 - val_prc: 1.0000 - lr: 1.0000e-04\n",
            "Epoch 40/200\n",
            "442/442 [==============================] - 11s 24ms/step - loss: 0.3841 - tp: 1851.0000 - fp: 36.0000 - tn: 2415.0000 - fn: 109.0000 - accuracy: 0.9671 - precision: 0.9809 - recall: 0.9444 - auc: 0.9937 - prc: 0.9938 - val_loss: 0.2922 - val_tp: 491.0000 - val_fp: 0.0000e+00 - val_tn: 0.0000e+00 - val_fn: 0.0000e+00 - val_accuracy: 1.0000 - val_precision: 1.0000 - val_recall: 1.0000 - val_auc: 0.0000e+00 - val_prc: 1.0000 - lr: 1.0000e-04\n",
            "Epoch 41/200\n",
            "442/442 [==============================] - 11s 25ms/step - loss: 0.3713 - tp: 1868.0000 - fp: 47.0000 - tn: 2404.0000 - fn: 92.0000 - accuracy: 0.9685 - precision: 0.9755 - recall: 0.9531 - auc: 0.9944 - prc: 0.9945 - val_loss: 0.2854 - val_tp: 491.0000 - val_fp: 0.0000e+00 - val_tn: 0.0000e+00 - val_fn: 0.0000e+00 - val_accuracy: 1.0000 - val_precision: 1.0000 - val_recall: 1.0000 - val_auc: 0.0000e+00 - val_prc: 1.0000 - lr: 1.0000e-04\n",
            "Epoch 42/200\n",
            "442/442 [==============================] - 11s 24ms/step - loss: 0.3688 - tp: 1859.0000 - fp: 50.0000 - tn: 2401.0000 - fn: 101.0000 - accuracy: 0.9658 - precision: 0.9738 - recall: 0.9485 - auc: 0.9943 - prc: 0.9942 - val_loss: 0.2795 - val_tp: 491.0000 - val_fp: 0.0000e+00 - val_tn: 0.0000e+00 - val_fn: 0.0000e+00 - val_accuracy: 1.0000 - val_precision: 1.0000 - val_recall: 1.0000 - val_auc: 0.0000e+00 - val_prc: 1.0000 - lr: 1.0000e-04\n",
            "Epoch 43/200\n",
            "442/442 [==============================] - 11s 25ms/step - loss: 0.3710 - tp: 1855.0000 - fp: 41.0000 - tn: 2410.0000 - fn: 105.0000 - accuracy: 0.9669 - precision: 0.9784 - recall: 0.9464 - auc: 0.9929 - prc: 0.9930 - val_loss: 0.2758 - val_tp: 491.0000 - val_fp: 0.0000e+00 - val_tn: 0.0000e+00 - val_fn: 0.0000e+00 - val_accuracy: 1.0000 - val_precision: 1.0000 - val_recall: 1.0000 - val_auc: 0.0000e+00 - val_prc: 1.0000 - lr: 1.0000e-04\n",
            "Epoch 44/200\n",
            "442/442 [==============================] - 11s 24ms/step - loss: 0.3410 - tp: 1879.0000 - fp: 27.0000 - tn: 2424.0000 - fn: 81.0000 - accuracy: 0.9755 - precision: 0.9858 - recall: 0.9587 - auc: 0.9956 - prc: 0.9958 - val_loss: 0.2695 - val_tp: 491.0000 - val_fp: 0.0000e+00 - val_tn: 0.0000e+00 - val_fn: 0.0000e+00 - val_accuracy: 1.0000 - val_precision: 1.0000 - val_recall: 1.0000 - val_auc: 0.0000e+00 - val_prc: 1.0000 - lr: 1.0000e-04\n",
            "Epoch 45/200\n",
            "442/442 [==============================] - 11s 24ms/step - loss: 0.3422 - tp: 1868.0000 - fp: 37.0000 - tn: 2414.0000 - fn: 92.0000 - accuracy: 0.9708 - precision: 0.9806 - recall: 0.9531 - auc: 0.9953 - prc: 0.9953 - val_loss: 0.2646 - val_tp: 491.0000 - val_fp: 0.0000e+00 - val_tn: 0.0000e+00 - val_fn: 0.0000e+00 - val_accuracy: 1.0000 - val_precision: 1.0000 - val_recall: 1.0000 - val_auc: 0.0000e+00 - val_prc: 1.0000 - lr: 1.0000e-04\n",
            "Epoch 46/200\n",
            "442/442 [==============================] - 11s 24ms/step - loss: 0.3383 - tp: 1874.0000 - fp: 40.0000 - tn: 2411.0000 - fn: 86.0000 - accuracy: 0.9714 - precision: 0.9791 - recall: 0.9561 - auc: 0.9959 - prc: 0.9955 - val_loss: 0.2610 - val_tp: 491.0000 - val_fp: 0.0000e+00 - val_tn: 0.0000e+00 - val_fn: 0.0000e+00 - val_accuracy: 1.0000 - val_precision: 1.0000 - val_recall: 1.0000 - val_auc: 0.0000e+00 - val_prc: 1.0000 - lr: 1.0000e-04\n",
            "Epoch 47/200\n",
            "442/442 [==============================] - 11s 24ms/step - loss: 0.3323 - tp: 1882.0000 - fp: 39.0000 - tn: 2412.0000 - fn: 78.0000 - accuracy: 0.9735 - precision: 0.9797 - recall: 0.9602 - auc: 0.9958 - prc: 0.9953 - val_loss: 0.2567 - val_tp: 491.0000 - val_fp: 0.0000e+00 - val_tn: 0.0000e+00 - val_fn: 0.0000e+00 - val_accuracy: 1.0000 - val_precision: 1.0000 - val_recall: 1.0000 - val_auc: 0.0000e+00 - val_prc: 1.0000 - lr: 1.0000e-04\n",
            "Epoch 48/200\n",
            "442/442 [==============================] - 11s 25ms/step - loss: 0.3269 - tp: 1874.0000 - fp: 47.0000 - tn: 2404.0000 - fn: 86.0000 - accuracy: 0.9698 - precision: 0.9755 - recall: 0.9561 - auc: 0.9961 - prc: 0.9958 - val_loss: 0.2521 - val_tp: 491.0000 - val_fp: 0.0000e+00 - val_tn: 0.0000e+00 - val_fn: 0.0000e+00 - val_accuracy: 1.0000 - val_precision: 1.0000 - val_recall: 1.0000 - val_auc: 0.0000e+00 - val_prc: 1.0000 - lr: 1.0000e-04\n",
            "Epoch 49/200\n",
            "442/442 [==============================] - 11s 24ms/step - loss: 0.3138 - tp: 1893.0000 - fp: 31.0000 - tn: 2420.0000 - fn: 67.0000 - accuracy: 0.9778 - precision: 0.9839 - recall: 0.9658 - auc: 0.9967 - prc: 0.9961 - val_loss: 0.2473 - val_tp: 491.0000 - val_fp: 0.0000e+00 - val_tn: 0.0000e+00 - val_fn: 0.0000e+00 - val_accuracy: 1.0000 - val_precision: 1.0000 - val_recall: 1.0000 - val_auc: 0.0000e+00 - val_prc: 1.0000 - lr: 1.0000e-04\n",
            "Epoch 50/200\n",
            "442/442 [==============================] - 11s 25ms/step - loss: 0.3126 - tp: 1880.0000 - fp: 34.0000 - tn: 2417.0000 - fn: 80.0000 - accuracy: 0.9742 - precision: 0.9822 - recall: 0.9592 - auc: 0.9962 - prc: 0.9961 - val_loss: 0.2423 - val_tp: 491.0000 - val_fp: 0.0000e+00 - val_tn: 0.0000e+00 - val_fn: 0.0000e+00 - val_accuracy: 1.0000 - val_precision: 1.0000 - val_recall: 1.0000 - val_auc: 0.0000e+00 - val_prc: 1.0000 - lr: 1.0000e-04\n",
            "Epoch 51/200\n",
            "442/442 [==============================] - 11s 25ms/step - loss: 0.3028 - tp: 1894.0000 - fp: 34.0000 - tn: 2417.0000 - fn: 66.0000 - accuracy: 0.9773 - precision: 0.9824 - recall: 0.9663 - auc: 0.9970 - prc: 0.9968 - val_loss: 0.2382 - val_tp: 491.0000 - val_fp: 0.0000e+00 - val_tn: 0.0000e+00 - val_fn: 0.0000e+00 - val_accuracy: 1.0000 - val_precision: 1.0000 - val_recall: 1.0000 - val_auc: 0.0000e+00 - val_prc: 1.0000 - lr: 1.0000e-04\n",
            "Epoch 52/200\n",
            "442/442 [==============================] - 11s 24ms/step - loss: 0.2972 - tp: 1888.0000 - fp: 35.0000 - tn: 2416.0000 - fn: 72.0000 - accuracy: 0.9757 - precision: 0.9818 - recall: 0.9633 - auc: 0.9969 - prc: 0.9969 - val_loss: 0.2344 - val_tp: 491.0000 - val_fp: 0.0000e+00 - val_tn: 0.0000e+00 - val_fn: 0.0000e+00 - val_accuracy: 1.0000 - val_precision: 1.0000 - val_recall: 1.0000 - val_auc: 0.0000e+00 - val_prc: 1.0000 - lr: 1.0000e-04\n",
            "Epoch 53/200\n",
            "442/442 [==============================] - 11s 24ms/step - loss: 0.2899 - tp: 1899.0000 - fp: 32.0000 - tn: 2419.0000 - fn: 61.0000 - accuracy: 0.9789 - precision: 0.9834 - recall: 0.9689 - auc: 0.9975 - prc: 0.9973 - val_loss: 0.2321 - val_tp: 491.0000 - val_fp: 0.0000e+00 - val_tn: 0.0000e+00 - val_fn: 0.0000e+00 - val_accuracy: 1.0000 - val_precision: 1.0000 - val_recall: 1.0000 - val_auc: 0.0000e+00 - val_prc: 1.0000 - lr: 1.0000e-04\n",
            "Epoch 54/200\n",
            "442/442 [==============================] - 11s 25ms/step - loss: 0.2893 - tp: 1904.0000 - fp: 32.0000 - tn: 2419.0000 - fn: 56.0000 - accuracy: 0.9800 - precision: 0.9835 - recall: 0.9714 - auc: 0.9970 - prc: 0.9966 - val_loss: 0.2288 - val_tp: 491.0000 - val_fp: 0.0000e+00 - val_tn: 0.0000e+00 - val_fn: 0.0000e+00 - val_accuracy: 1.0000 - val_precision: 1.0000 - val_recall: 1.0000 - val_auc: 0.0000e+00 - val_prc: 1.0000 - lr: 1.0000e-04\n",
            "Epoch 55/200\n",
            "442/442 [==============================] - 11s 25ms/step - loss: 0.2803 - tp: 1901.0000 - fp: 31.0000 - tn: 2420.0000 - fn: 59.0000 - accuracy: 0.9796 - precision: 0.9840 - recall: 0.9699 - auc: 0.9980 - prc: 0.9977 - val_loss: 0.2248 - val_tp: 491.0000 - val_fp: 0.0000e+00 - val_tn: 0.0000e+00 - val_fn: 0.0000e+00 - val_accuracy: 1.0000 - val_precision: 1.0000 - val_recall: 1.0000 - val_auc: 0.0000e+00 - val_prc: 1.0000 - lr: 1.0000e-04\n",
            "Epoch 56/200\n",
            "442/442 [==============================] - 11s 24ms/step - loss: 0.2787 - tp: 1897.0000 - fp: 31.0000 - tn: 2420.0000 - fn: 63.0000 - accuracy: 0.9787 - precision: 0.9839 - recall: 0.9679 - auc: 0.9975 - prc: 0.9969 - val_loss: 0.2218 - val_tp: 491.0000 - val_fp: 0.0000e+00 - val_tn: 0.0000e+00 - val_fn: 0.0000e+00 - val_accuracy: 1.0000 - val_precision: 1.0000 - val_recall: 1.0000 - val_auc: 0.0000e+00 - val_prc: 1.0000 - lr: 1.0000e-04\n",
            "Epoch 57/200\n",
            "442/442 [==============================] - 11s 24ms/step - loss: 0.2772 - tp: 1900.0000 - fp: 33.0000 - tn: 2418.0000 - fn: 60.0000 - accuracy: 0.9789 - precision: 0.9829 - recall: 0.9694 - auc: 0.9971 - prc: 0.9967 - val_loss: 0.2185 - val_tp: 491.0000 - val_fp: 0.0000e+00 - val_tn: 0.0000e+00 - val_fn: 0.0000e+00 - val_accuracy: 1.0000 - val_precision: 1.0000 - val_recall: 1.0000 - val_auc: 0.0000e+00 - val_prc: 1.0000 - lr: 1.0000e-04\n",
            "Epoch 58/200\n",
            "442/442 [==============================] - 11s 24ms/step - loss: 0.2637 - tp: 1912.0000 - fp: 29.0000 - tn: 2422.0000 - fn: 48.0000 - accuracy: 0.9825 - precision: 0.9851 - recall: 0.9755 - auc: 0.9983 - prc: 0.9982 - val_loss: 0.2149 - val_tp: 491.0000 - val_fp: 0.0000e+00 - val_tn: 0.0000e+00 - val_fn: 0.0000e+00 - val_accuracy: 1.0000 - val_precision: 1.0000 - val_recall: 1.0000 - val_auc: 0.0000e+00 - val_prc: 1.0000 - lr: 1.0000e-04\n",
            "Epoch 59/200\n",
            "442/442 [==============================] - 11s 24ms/step - loss: 0.2596 - tp: 1906.0000 - fp: 30.0000 - tn: 2421.0000 - fn: 54.0000 - accuracy: 0.9810 - precision: 0.9845 - recall: 0.9724 - auc: 0.9984 - prc: 0.9983 - val_loss: 0.2127 - val_tp: 491.0000 - val_fp: 0.0000e+00 - val_tn: 0.0000e+00 - val_fn: 0.0000e+00 - val_accuracy: 1.0000 - val_precision: 1.0000 - val_recall: 1.0000 - val_auc: 0.0000e+00 - val_prc: 1.0000 - lr: 1.0000e-04\n",
            "Epoch 60/200\n",
            "442/442 [==============================] - 11s 25ms/step - loss: 0.2657 - tp: 1908.0000 - fp: 23.0000 - tn: 2428.0000 - fn: 52.0000 - accuracy: 0.9830 - precision: 0.9881 - recall: 0.9735 - auc: 0.9971 - prc: 0.9972 - val_loss: 0.2112 - val_tp: 491.0000 - val_fp: 0.0000e+00 - val_tn: 0.0000e+00 - val_fn: 0.0000e+00 - val_accuracy: 1.0000 - val_precision: 1.0000 - val_recall: 1.0000 - val_auc: 0.0000e+00 - val_prc: 1.0000 - lr: 1.0000e-04\n",
            "Epoch 61/200\n",
            "442/442 [==============================] - 11s 25ms/step - loss: 0.2503 - tp: 1915.0000 - fp: 21.0000 - tn: 2430.0000 - fn: 45.0000 - accuracy: 0.9850 - precision: 0.9892 - recall: 0.9770 - auc: 0.9989 - prc: 0.9987 - val_loss: 0.2076 - val_tp: 491.0000 - val_fp: 0.0000e+00 - val_tn: 0.0000e+00 - val_fn: 0.0000e+00 - val_accuracy: 1.0000 - val_precision: 1.0000 - val_recall: 1.0000 - val_auc: 0.0000e+00 - val_prc: 1.0000 - lr: 1.0000e-04\n",
            "Epoch 62/200\n",
            "442/442 [==============================] - 11s 25ms/step - loss: 0.2504 - tp: 1916.0000 - fp: 24.0000 - tn: 2427.0000 - fn: 44.0000 - accuracy: 0.9846 - precision: 0.9876 - recall: 0.9776 - auc: 0.9979 - prc: 0.9981 - val_loss: 0.2055 - val_tp: 491.0000 - val_fp: 0.0000e+00 - val_tn: 0.0000e+00 - val_fn: 0.0000e+00 - val_accuracy: 1.0000 - val_precision: 1.0000 - val_recall: 1.0000 - val_auc: 0.0000e+00 - val_prc: 1.0000 - lr: 1.0000e-04\n",
            "Epoch 63/200\n",
            "442/442 [==============================] - 11s 24ms/step - loss: 0.2497 - tp: 1917.0000 - fp: 28.0000 - tn: 2423.0000 - fn: 43.0000 - accuracy: 0.9839 - precision: 0.9856 - recall: 0.9781 - auc: 0.9981 - prc: 0.9981 - val_loss: 0.2025 - val_tp: 491.0000 - val_fp: 0.0000e+00 - val_tn: 0.0000e+00 - val_fn: 0.0000e+00 - val_accuracy: 1.0000 - val_precision: 1.0000 - val_recall: 1.0000 - val_auc: 0.0000e+00 - val_prc: 1.0000 - lr: 1.0000e-04\n",
            "Epoch 64/200\n",
            "442/442 [==============================] - 11s 24ms/step - loss: 0.2431 - tp: 1917.0000 - fp: 22.0000 - tn: 2429.0000 - fn: 43.0000 - accuracy: 0.9853 - precision: 0.9887 - recall: 0.9781 - auc: 0.9977 - prc: 0.9980 - val_loss: 0.1996 - val_tp: 491.0000 - val_fp: 0.0000e+00 - val_tn: 0.0000e+00 - val_fn: 0.0000e+00 - val_accuracy: 1.0000 - val_precision: 1.0000 - val_recall: 1.0000 - val_auc: 0.0000e+00 - val_prc: 1.0000 - lr: 1.0000e-04\n",
            "Epoch 65/200\n",
            "442/442 [==============================] - 11s 24ms/step - loss: 0.2381 - tp: 1921.0000 - fp: 21.0000 - tn: 2430.0000 - fn: 39.0000 - accuracy: 0.9864 - precision: 0.9892 - recall: 0.9801 - auc: 0.9981 - prc: 0.9983 - val_loss: 0.1973 - val_tp: 491.0000 - val_fp: 0.0000e+00 - val_tn: 0.0000e+00 - val_fn: 0.0000e+00 - val_accuracy: 1.0000 - val_precision: 1.0000 - val_recall: 1.0000 - val_auc: 0.0000e+00 - val_prc: 1.0000 - lr: 1.0000e-04\n",
            "Epoch 66/200\n",
            "442/442 [==============================] - 11s 24ms/step - loss: 0.2397 - tp: 1911.0000 - fp: 24.0000 - tn: 2427.0000 - fn: 49.0000 - accuracy: 0.9835 - precision: 0.9876 - recall: 0.9750 - auc: 0.9985 - prc: 0.9984 - val_loss: 0.1948 - val_tp: 491.0000 - val_fp: 0.0000e+00 - val_tn: 0.0000e+00 - val_fn: 0.0000e+00 - val_accuracy: 1.0000 - val_precision: 1.0000 - val_recall: 1.0000 - val_auc: 0.0000e+00 - val_prc: 1.0000 - lr: 1.0000e-04\n",
            "Epoch 67/200\n",
            "442/442 [==============================] - 11s 24ms/step - loss: 0.2399 - tp: 1916.0000 - fp: 26.0000 - tn: 2425.0000 - fn: 44.0000 - accuracy: 0.9841 - precision: 0.9866 - recall: 0.9776 - auc: 0.9981 - prc: 0.9973 - val_loss: 0.1933 - val_tp: 491.0000 - val_fp: 0.0000e+00 - val_tn: 0.0000e+00 - val_fn: 0.0000e+00 - val_accuracy: 1.0000 - val_precision: 1.0000 - val_recall: 1.0000 - val_auc: 0.0000e+00 - val_prc: 1.0000 - lr: 1.0000e-04\n",
            "Epoch 68/200\n",
            "442/442 [==============================] - 11s 24ms/step - loss: 0.2207 - tp: 1929.0000 - fp: 19.0000 - tn: 2432.0000 - fn: 31.0000 - accuracy: 0.9887 - precision: 0.9902 - recall: 0.9842 - auc: 0.9995 - prc: 0.9994 - val_loss: 0.1903 - val_tp: 491.0000 - val_fp: 0.0000e+00 - val_tn: 0.0000e+00 - val_fn: 0.0000e+00 - val_accuracy: 1.0000 - val_precision: 1.0000 - val_recall: 1.0000 - val_auc: 0.0000e+00 - val_prc: 1.0000 - lr: 1.0000e-04\n",
            "Epoch 69/200\n",
            "442/442 [==============================] - 11s 25ms/step - loss: 0.2253 - tp: 1928.0000 - fp: 25.0000 - tn: 2426.0000 - fn: 32.0000 - accuracy: 0.9871 - precision: 0.9872 - recall: 0.9837 - auc: 0.9987 - prc: 0.9987 - val_loss: 0.1881 - val_tp: 491.0000 - val_fp: 0.0000e+00 - val_tn: 0.0000e+00 - val_fn: 0.0000e+00 - val_accuracy: 1.0000 - val_precision: 1.0000 - val_recall: 1.0000 - val_auc: 0.0000e+00 - val_prc: 1.0000 - lr: 1.0000e-04\n",
            "Epoch 70/200\n",
            "442/442 [==============================] - 11s 24ms/step - loss: 0.2271 - tp: 1917.0000 - fp: 24.0000 - tn: 2427.0000 - fn: 43.0000 - accuracy: 0.9848 - precision: 0.9876 - recall: 0.9781 - auc: 0.9988 - prc: 0.9983 - val_loss: 0.1863 - val_tp: 491.0000 - val_fp: 0.0000e+00 - val_tn: 0.0000e+00 - val_fn: 0.0000e+00 - val_accuracy: 1.0000 - val_precision: 1.0000 - val_recall: 1.0000 - val_auc: 0.0000e+00 - val_prc: 1.0000 - lr: 1.0000e-04\n",
            "Epoch 71/200\n",
            "442/442 [==============================] - 11s 24ms/step - loss: 0.2191 - tp: 1925.0000 - fp: 25.0000 - tn: 2426.0000 - fn: 35.0000 - accuracy: 0.9864 - precision: 0.9872 - recall: 0.9821 - auc: 0.9988 - prc: 0.9988 - val_loss: 0.1842 - val_tp: 491.0000 - val_fp: 0.0000e+00 - val_tn: 0.0000e+00 - val_fn: 0.0000e+00 - val_accuracy: 1.0000 - val_precision: 1.0000 - val_recall: 1.0000 - val_auc: 0.0000e+00 - val_prc: 1.0000 - lr: 1.0000e-04\n",
            "Epoch 72/200\n",
            "442/442 [==============================] - 11s 24ms/step - loss: 0.2288 - tp: 1916.0000 - fp: 26.0000 - tn: 2425.0000 - fn: 44.0000 - accuracy: 0.9841 - precision: 0.9866 - recall: 0.9776 - auc: 0.9984 - prc: 0.9980 - val_loss: 0.1836 - val_tp: 491.0000 - val_fp: 0.0000e+00 - val_tn: 0.0000e+00 - val_fn: 0.0000e+00 - val_accuracy: 1.0000 - val_precision: 1.0000 - val_recall: 1.0000 - val_auc: 0.0000e+00 - val_prc: 1.0000 - lr: 1.0000e-04\n",
            "Epoch 73/200\n",
            "442/442 [==============================] - 11s 24ms/step - loss: 0.2173 - tp: 1929.0000 - fp: 22.0000 - tn: 2429.0000 - fn: 31.0000 - accuracy: 0.9880 - precision: 0.9887 - recall: 0.9842 - auc: 0.9987 - prc: 0.9987 - val_loss: 0.1810 - val_tp: 491.0000 - val_fp: 0.0000e+00 - val_tn: 0.0000e+00 - val_fn: 0.0000e+00 - val_accuracy: 1.0000 - val_precision: 1.0000 - val_recall: 1.0000 - val_auc: 0.0000e+00 - val_prc: 1.0000 - lr: 1.0000e-04\n",
            "Epoch 74/200\n",
            "442/442 [==============================] - 11s 24ms/step - loss: 0.2157 - tp: 1928.0000 - fp: 24.0000 - tn: 2427.0000 - fn: 32.0000 - accuracy: 0.9873 - precision: 0.9877 - recall: 0.9837 - auc: 0.9989 - prc: 0.9989 - val_loss: 0.1786 - val_tp: 491.0000 - val_fp: 0.0000e+00 - val_tn: 0.0000e+00 - val_fn: 0.0000e+00 - val_accuracy: 1.0000 - val_precision: 1.0000 - val_recall: 1.0000 - val_auc: 0.0000e+00 - val_prc: 1.0000 - lr: 1.0000e-04\n",
            "Epoch 75/200\n",
            "442/442 [==============================] - 11s 24ms/step - loss: 0.2041 - tp: 1937.0000 - fp: 13.0000 - tn: 2438.0000 - fn: 23.0000 - accuracy: 0.9918 - precision: 0.9933 - recall: 0.9883 - auc: 0.9991 - prc: 0.9991 - val_loss: 0.1759 - val_tp: 491.0000 - val_fp: 0.0000e+00 - val_tn: 0.0000e+00 - val_fn: 0.0000e+00 - val_accuracy: 1.0000 - val_precision: 1.0000 - val_recall: 1.0000 - val_auc: 0.0000e+00 - val_prc: 1.0000 - lr: 1.0000e-04\n",
            "Epoch 76/200\n",
            "442/442 [==============================] - 11s 25ms/step - loss: 0.2000 - tp: 1938.0000 - fp: 15.0000 - tn: 2436.0000 - fn: 22.0000 - accuracy: 0.9916 - precision: 0.9923 - recall: 0.9888 - auc: 0.9991 - prc: 0.9988 - val_loss: 0.1735 - val_tp: 491.0000 - val_fp: 0.0000e+00 - val_tn: 0.0000e+00 - val_fn: 0.0000e+00 - val_accuracy: 1.0000 - val_precision: 1.0000 - val_recall: 1.0000 - val_auc: 0.0000e+00 - val_prc: 1.0000 - lr: 1.0000e-04\n",
            "Epoch 77/200\n",
            "442/442 [==============================] - 11s 24ms/step - loss: 0.2004 - tp: 1928.0000 - fp: 11.0000 - tn: 2440.0000 - fn: 32.0000 - accuracy: 0.9903 - precision: 0.9943 - recall: 0.9837 - auc: 0.9995 - prc: 0.9994 - val_loss: 0.1712 - val_tp: 491.0000 - val_fp: 0.0000e+00 - val_tn: 0.0000e+00 - val_fn: 0.0000e+00 - val_accuracy: 1.0000 - val_precision: 1.0000 - val_recall: 1.0000 - val_auc: 0.0000e+00 - val_prc: 1.0000 - lr: 1.0000e-04\n",
            "Epoch 78/200\n",
            "442/442 [==============================] - 11s 24ms/step - loss: 0.2013 - tp: 1923.0000 - fp: 25.0000 - tn: 2426.0000 - fn: 37.0000 - accuracy: 0.9859 - precision: 0.9872 - recall: 0.9811 - auc: 0.9993 - prc: 0.9988 - val_loss: 0.1691 - val_tp: 491.0000 - val_fp: 0.0000e+00 - val_tn: 0.0000e+00 - val_fn: 0.0000e+00 - val_accuracy: 1.0000 - val_precision: 1.0000 - val_recall: 1.0000 - val_auc: 0.0000e+00 - val_prc: 1.0000 - lr: 1.0000e-04\n",
            "Epoch 79/200\n",
            "442/442 [==============================] - 11s 24ms/step - loss: 0.2160 - tp: 1918.0000 - fp: 36.0000 - tn: 2415.0000 - fn: 42.0000 - accuracy: 0.9823 - precision: 0.9816 - recall: 0.9786 - auc: 0.9982 - prc: 0.9977 - val_loss: 0.1686 - val_tp: 491.0000 - val_fp: 0.0000e+00 - val_tn: 0.0000e+00 - val_fn: 0.0000e+00 - val_accuracy: 1.0000 - val_precision: 1.0000 - val_recall: 1.0000 - val_auc: 0.0000e+00 - val_prc: 1.0000 - lr: 1.0000e-04\n",
            "Epoch 80/200\n",
            "442/442 [==============================] - 11s 24ms/step - loss: 0.2225 - tp: 1924.0000 - fp: 29.0000 - tn: 2422.0000 - fn: 36.0000 - accuracy: 0.9853 - precision: 0.9852 - recall: 0.9816 - auc: 0.9971 - prc: 0.9970 - val_loss: 0.1696 - val_tp: 491.0000 - val_fp: 0.0000e+00 - val_tn: 0.0000e+00 - val_fn: 0.0000e+00 - val_accuracy: 1.0000 - val_precision: 1.0000 - val_recall: 1.0000 - val_auc: 0.0000e+00 - val_prc: 1.0000 - lr: 1.0000e-04\n",
            "Epoch 81/200\n",
            "442/442 [==============================] - 11s 24ms/step - loss: 0.1996 - tp: 1927.0000 - fp: 19.0000 - tn: 2432.0000 - fn: 33.0000 - accuracy: 0.9882 - precision: 0.9902 - recall: 0.9832 - auc: 0.9991 - prc: 0.9991 - val_loss: 0.1673 - val_tp: 491.0000 - val_fp: 0.0000e+00 - val_tn: 0.0000e+00 - val_fn: 0.0000e+00 - val_accuracy: 1.0000 - val_precision: 1.0000 - val_recall: 1.0000 - val_auc: 0.0000e+00 - val_prc: 1.0000 - lr: 1.0000e-04\n",
            "Epoch 82/200\n",
            "442/442 [==============================] - 11s 24ms/step - loss: 0.1917 - tp: 1936.0000 - fp: 22.0000 - tn: 2429.0000 - fn: 24.0000 - accuracy: 0.9896 - precision: 0.9888 - recall: 0.9878 - auc: 0.9996 - prc: 0.9995 - val_loss: 0.1650 - val_tp: 491.0000 - val_fp: 0.0000e+00 - val_tn: 0.0000e+00 - val_fn: 0.0000e+00 - val_accuracy: 1.0000 - val_precision: 1.0000 - val_recall: 1.0000 - val_auc: 0.0000e+00 - val_prc: 1.0000 - lr: 1.0000e-04\n",
            "Epoch 83/200\n",
            "442/442 [==============================] - 11s 24ms/step - loss: 0.1934 - tp: 1931.0000 - fp: 17.0000 - tn: 2434.0000 - fn: 29.0000 - accuracy: 0.9896 - precision: 0.9913 - recall: 0.9852 - auc: 0.9995 - prc: 0.9993 - val_loss: 0.1634 - val_tp: 491.0000 - val_fp: 0.0000e+00 - val_tn: 0.0000e+00 - val_fn: 0.0000e+00 - val_accuracy: 1.0000 - val_precision: 1.0000 - val_recall: 1.0000 - val_auc: 0.0000e+00 - val_prc: 1.0000 - lr: 1.0000e-04\n",
            "Epoch 84/200\n",
            "442/442 [==============================] - 11s 24ms/step - loss: 0.1870 - tp: 1936.0000 - fp: 22.0000 - tn: 2429.0000 - fn: 24.0000 - accuracy: 0.9896 - precision: 0.9888 - recall: 0.9878 - auc: 0.9996 - prc: 0.9996 - val_loss: 0.1613 - val_tp: 491.0000 - val_fp: 0.0000e+00 - val_tn: 0.0000e+00 - val_fn: 0.0000e+00 - val_accuracy: 1.0000 - val_precision: 1.0000 - val_recall: 1.0000 - val_auc: 0.0000e+00 - val_prc: 1.0000 - lr: 1.0000e-04\n",
            "Epoch 85/200\n",
            "442/442 [==============================] - 11s 24ms/step - loss: 0.1811 - tp: 1942.0000 - fp: 15.0000 - tn: 2436.0000 - fn: 18.0000 - accuracy: 0.9925 - precision: 0.9923 - recall: 0.9908 - auc: 0.9997 - prc: 0.9996 - val_loss: 0.1592 - val_tp: 491.0000 - val_fp: 0.0000e+00 - val_tn: 0.0000e+00 - val_fn: 0.0000e+00 - val_accuracy: 1.0000 - val_precision: 1.0000 - val_recall: 1.0000 - val_auc: 0.0000e+00 - val_prc: 1.0000 - lr: 1.0000e-04\n",
            "Epoch 86/200\n",
            "442/442 [==============================] - 11s 24ms/step - loss: 0.1821 - tp: 1936.0000 - fp: 19.0000 - tn: 2432.0000 - fn: 24.0000 - accuracy: 0.9903 - precision: 0.9903 - recall: 0.9878 - auc: 0.9995 - prc: 0.9991 - val_loss: 0.1572 - val_tp: 491.0000 - val_fp: 0.0000e+00 - val_tn: 0.0000e+00 - val_fn: 0.0000e+00 - val_accuracy: 1.0000 - val_precision: 1.0000 - val_recall: 1.0000 - val_auc: 0.0000e+00 - val_prc: 1.0000 - lr: 1.0000e-04\n",
            "Epoch 87/200\n",
            "442/442 [==============================] - 11s 24ms/step - loss: 0.1830 - tp: 1935.0000 - fp: 17.0000 - tn: 2434.0000 - fn: 25.0000 - accuracy: 0.9905 - precision: 0.9913 - recall: 0.9872 - auc: 0.9995 - prc: 0.9994 - val_loss: 0.1558 - val_tp: 491.0000 - val_fp: 0.0000e+00 - val_tn: 0.0000e+00 - val_fn: 0.0000e+00 - val_accuracy: 1.0000 - val_precision: 1.0000 - val_recall: 1.0000 - val_auc: 0.0000e+00 - val_prc: 1.0000 - lr: 1.0000e-04\n",
            "Epoch 88/200\n",
            "442/442 [==============================] - 11s 24ms/step - loss: 0.1837 - tp: 1936.0000 - fp: 21.0000 - tn: 2430.0000 - fn: 24.0000 - accuracy: 0.9898 - precision: 0.9893 - recall: 0.9878 - auc: 0.9991 - prc: 0.9987 - val_loss: 0.1552 - val_tp: 491.0000 - val_fp: 0.0000e+00 - val_tn: 0.0000e+00 - val_fn: 0.0000e+00 - val_accuracy: 1.0000 - val_precision: 1.0000 - val_recall: 1.0000 - val_auc: 0.0000e+00 - val_prc: 1.0000 - lr: 1.0000e-04\n",
            "Epoch 89/200\n",
            "442/442 [==============================] - 11s 24ms/step - loss: 0.1808 - tp: 1936.0000 - fp: 19.0000 - tn: 2432.0000 - fn: 24.0000 - accuracy: 0.9903 - precision: 0.9903 - recall: 0.9878 - auc: 0.9995 - prc: 0.9994 - val_loss: 0.1540 - val_tp: 491.0000 - val_fp: 0.0000e+00 - val_tn: 0.0000e+00 - val_fn: 0.0000e+00 - val_accuracy: 1.0000 - val_precision: 1.0000 - val_recall: 1.0000 - val_auc: 0.0000e+00 - val_prc: 1.0000 - lr: 1.0000e-04\n",
            "Epoch 90/200\n",
            "442/442 [==============================] - 11s 24ms/step - loss: 0.1793 - tp: 1939.0000 - fp: 15.0000 - tn: 2436.0000 - fn: 21.0000 - accuracy: 0.9918 - precision: 0.9923 - recall: 0.9893 - auc: 0.9993 - prc: 0.9993 - val_loss: 0.1529 - val_tp: 491.0000 - val_fp: 0.0000e+00 - val_tn: 0.0000e+00 - val_fn: 0.0000e+00 - val_accuracy: 1.0000 - val_precision: 1.0000 - val_recall: 1.0000 - val_auc: 0.0000e+00 - val_prc: 1.0000 - lr: 1.0000e-04\n",
            "Epoch 91/200\n",
            "442/442 [==============================] - 11s 24ms/step - loss: 0.1840 - tp: 1933.0000 - fp: 19.0000 - tn: 2432.0000 - fn: 27.0000 - accuracy: 0.9896 - precision: 0.9903 - recall: 0.9862 - auc: 0.9987 - prc: 0.9989 - val_loss: 0.1522 - val_tp: 491.0000 - val_fp: 0.0000e+00 - val_tn: 0.0000e+00 - val_fn: 0.0000e+00 - val_accuracy: 1.0000 - val_precision: 1.0000 - val_recall: 1.0000 - val_auc: 0.0000e+00 - val_prc: 1.0000 - lr: 1.0000e-04\n",
            "Epoch 92/200\n",
            "442/442 [==============================] - 11s 24ms/step - loss: 0.1841 - tp: 1930.0000 - fp: 20.0000 - tn: 2431.0000 - fn: 30.0000 - accuracy: 0.9887 - precision: 0.9897 - recall: 0.9847 - auc: 0.9994 - prc: 0.9992 - val_loss: 0.1513 - val_tp: 491.0000 - val_fp: 0.0000e+00 - val_tn: 0.0000e+00 - val_fn: 0.0000e+00 - val_accuracy: 1.0000 - val_precision: 1.0000 - val_recall: 1.0000 - val_auc: 0.0000e+00 - val_prc: 1.0000 - lr: 1.0000e-04\n",
            "Epoch 93/200\n",
            "442/442 [==============================] - 11s 24ms/step - loss: 0.1697 - tp: 1948.0000 - fp: 13.0000 - tn: 2438.0000 - fn: 12.0000 - accuracy: 0.9943 - precision: 0.9934 - recall: 0.9939 - auc: 0.9995 - prc: 0.9995 - val_loss: 0.1491 - val_tp: 491.0000 - val_fp: 0.0000e+00 - val_tn: 0.0000e+00 - val_fn: 0.0000e+00 - val_accuracy: 1.0000 - val_precision: 1.0000 - val_recall: 1.0000 - val_auc: 0.0000e+00 - val_prc: 1.0000 - lr: 1.0000e-04\n",
            "Epoch 94/200\n",
            "442/442 [==============================] - 10s 24ms/step - loss: 0.1808 - tp: 1936.0000 - fp: 20.0000 - tn: 2431.0000 - fn: 24.0000 - accuracy: 0.9900 - precision: 0.9898 - recall: 0.9878 - auc: 0.9990 - prc: 0.9987 - val_loss: 0.1494 - val_tp: 491.0000 - val_fp: 0.0000e+00 - val_tn: 0.0000e+00 - val_fn: 0.0000e+00 - val_accuracy: 1.0000 - val_precision: 1.0000 - val_recall: 1.0000 - val_auc: 0.0000e+00 - val_prc: 1.0000 - lr: 1.0000e-04\n",
            "Epoch 95/200\n",
            "442/442 [==============================] - 11s 24ms/step - loss: 0.1705 - tp: 1943.0000 - fp: 16.0000 - tn: 2435.0000 - fn: 17.0000 - accuracy: 0.9925 - precision: 0.9918 - recall: 0.9913 - auc: 0.9990 - prc: 0.9984 - val_loss: 0.1479 - val_tp: 491.0000 - val_fp: 0.0000e+00 - val_tn: 0.0000e+00 - val_fn: 0.0000e+00 - val_accuracy: 1.0000 - val_precision: 1.0000 - val_recall: 1.0000 - val_auc: 0.0000e+00 - val_prc: 1.0000 - lr: 1.0000e-04\n",
            "Epoch 96/200\n",
            "442/442 [==============================] - 11s 24ms/step - loss: 0.1763 - tp: 1929.0000 - fp: 15.0000 - tn: 2436.0000 - fn: 31.0000 - accuracy: 0.9896 - precision: 0.9923 - recall: 0.9842 - auc: 0.9991 - prc: 0.9991 - val_loss: 0.1467 - val_tp: 491.0000 - val_fp: 0.0000e+00 - val_tn: 0.0000e+00 - val_fn: 0.0000e+00 - val_accuracy: 1.0000 - val_precision: 1.0000 - val_recall: 1.0000 - val_auc: 0.0000e+00 - val_prc: 1.0000 - lr: 1.0000e-04\n",
            "Epoch 97/200\n",
            "442/442 [==============================] - 11s 24ms/step - loss: 0.1618 - tp: 1948.0000 - fp: 9.0000 - tn: 2442.0000 - fn: 12.0000 - accuracy: 0.9952 - precision: 0.9954 - recall: 0.9939 - auc: 0.9996 - prc: 0.9996 - val_loss: 0.1443 - val_tp: 491.0000 - val_fp: 0.0000e+00 - val_tn: 0.0000e+00 - val_fn: 0.0000e+00 - val_accuracy: 1.0000 - val_precision: 1.0000 - val_recall: 1.0000 - val_auc: 0.0000e+00 - val_prc: 1.0000 - lr: 1.0000e-04\n",
            "Epoch 98/200\n",
            "442/442 [==============================] - 11s 24ms/step - loss: 0.1633 - tp: 1943.0000 - fp: 11.0000 - tn: 2440.0000 - fn: 17.0000 - accuracy: 0.9937 - precision: 0.9944 - recall: 0.9913 - auc: 0.9992 - prc: 0.9994 - val_loss: 0.1427 - val_tp: 491.0000 - val_fp: 0.0000e+00 - val_tn: 0.0000e+00 - val_fn: 0.0000e+00 - val_accuracy: 1.0000 - val_precision: 1.0000 - val_recall: 1.0000 - val_auc: 0.0000e+00 - val_prc: 1.0000 - lr: 1.0000e-04\n",
            "Epoch 99/200\n",
            "442/442 [==============================] - 11s 24ms/step - loss: 0.1643 - tp: 1943.0000 - fp: 13.0000 - tn: 2438.0000 - fn: 17.0000 - accuracy: 0.9932 - precision: 0.9934 - recall: 0.9913 - auc: 0.9997 - prc: 0.9996 - val_loss: 0.1412 - val_tp: 491.0000 - val_fp: 0.0000e+00 - val_tn: 0.0000e+00 - val_fn: 0.0000e+00 - val_accuracy: 1.0000 - val_precision: 1.0000 - val_recall: 1.0000 - val_auc: 0.0000e+00 - val_prc: 1.0000 - lr: 1.0000e-04\n",
            "Epoch 100/200\n",
            "442/442 [==============================] - 11s 24ms/step - loss: 0.1628 - tp: 1943.0000 - fp: 15.0000 - tn: 2436.0000 - fn: 17.0000 - accuracy: 0.9927 - precision: 0.9923 - recall: 0.9913 - auc: 0.9990 - prc: 0.9988 - val_loss: 0.1401 - val_tp: 491.0000 - val_fp: 0.0000e+00 - val_tn: 0.0000e+00 - val_fn: 0.0000e+00 - val_accuracy: 1.0000 - val_precision: 1.0000 - val_recall: 1.0000 - val_auc: 0.0000e+00 - val_prc: 1.0000 - lr: 1.0000e-04\n",
            "Epoch 101/200\n",
            "442/442 [==============================] - 11s 24ms/step - loss: 0.1632 - tp: 1938.0000 - fp: 16.0000 - tn: 2435.0000 - fn: 22.0000 - accuracy: 0.9914 - precision: 0.9918 - recall: 0.9888 - auc: 0.9992 - prc: 0.9989 - val_loss: 0.1384 - val_tp: 491.0000 - val_fp: 0.0000e+00 - val_tn: 0.0000e+00 - val_fn: 0.0000e+00 - val_accuracy: 1.0000 - val_precision: 1.0000 - val_recall: 1.0000 - val_auc: 0.0000e+00 - val_prc: 1.0000 - lr: 1.0000e-04\n",
            "Epoch 102/200\n",
            "442/442 [==============================] - 11s 24ms/step - loss: 0.1571 - tp: 1939.0000 - fp: 10.0000 - tn: 2441.0000 - fn: 21.0000 - accuracy: 0.9930 - precision: 0.9949 - recall: 0.9893 - auc: 0.9995 - prc: 0.9996 - val_loss: 0.1372 - val_tp: 491.0000 - val_fp: 0.0000e+00 - val_tn: 0.0000e+00 - val_fn: 0.0000e+00 - val_accuracy: 1.0000 - val_precision: 1.0000 - val_recall: 1.0000 - val_auc: 0.0000e+00 - val_prc: 1.0000 - lr: 1.0000e-04\n",
            "Epoch 103/200\n",
            "442/442 [==============================] - 11s 24ms/step - loss: 0.1668 - tp: 1935.0000 - fp: 17.0000 - tn: 2434.0000 - fn: 25.0000 - accuracy: 0.9905 - precision: 0.9913 - recall: 0.9872 - auc: 0.9994 - prc: 0.9993 - val_loss: 0.1368 - val_tp: 491.0000 - val_fp: 0.0000e+00 - val_tn: 0.0000e+00 - val_fn: 0.0000e+00 - val_accuracy: 1.0000 - val_precision: 1.0000 - val_recall: 1.0000 - val_auc: 0.0000e+00 - val_prc: 1.0000 - lr: 1.0000e-04\n",
            "Epoch 104/200\n",
            "442/442 [==============================] - 11s 25ms/step - loss: 0.1525 - tp: 1942.0000 - fp: 15.0000 - tn: 2436.0000 - fn: 18.0000 - accuracy: 0.9925 - precision: 0.9923 - recall: 0.9908 - auc: 0.9996 - prc: 0.9996 - val_loss: 0.1352 - val_tp: 491.0000 - val_fp: 0.0000e+00 - val_tn: 0.0000e+00 - val_fn: 0.0000e+00 - val_accuracy: 1.0000 - val_precision: 1.0000 - val_recall: 1.0000 - val_auc: 0.0000e+00 - val_prc: 1.0000 - lr: 1.0000e-04\n",
            "Epoch 105/200\n",
            "442/442 [==============================] - 11s 24ms/step - loss: 0.1515 - tp: 1945.0000 - fp: 11.0000 - tn: 2440.0000 - fn: 15.0000 - accuracy: 0.9941 - precision: 0.9944 - recall: 0.9923 - auc: 0.9998 - prc: 0.9998 - val_loss: 0.1339 - val_tp: 491.0000 - val_fp: 0.0000e+00 - val_tn: 0.0000e+00 - val_fn: 0.0000e+00 - val_accuracy: 1.0000 - val_precision: 1.0000 - val_recall: 1.0000 - val_auc: 0.0000e+00 - val_prc: 1.0000 - lr: 1.0000e-04\n",
            "Epoch 106/200\n",
            "442/442 [==============================] - 11s 24ms/step - loss: 0.1525 - tp: 1944.0000 - fp: 12.0000 - tn: 2439.0000 - fn: 16.0000 - accuracy: 0.9937 - precision: 0.9939 - recall: 0.9918 - auc: 0.9995 - prc: 0.9995 - val_loss: 0.1328 - val_tp: 491.0000 - val_fp: 0.0000e+00 - val_tn: 0.0000e+00 - val_fn: 0.0000e+00 - val_accuracy: 1.0000 - val_precision: 1.0000 - val_recall: 1.0000 - val_auc: 0.0000e+00 - val_prc: 1.0000 - lr: 1.0000e-04\n",
            "Epoch 107/200\n",
            "442/442 [==============================] - 11s 24ms/step - loss: 0.1576 - tp: 1936.0000 - fp: 24.0000 - tn: 2427.0000 - fn: 24.0000 - accuracy: 0.9891 - precision: 0.9878 - recall: 0.9878 - auc: 0.9994 - prc: 0.9994 - val_loss: 0.1321 - val_tp: 491.0000 - val_fp: 0.0000e+00 - val_tn: 0.0000e+00 - val_fn: 0.0000e+00 - val_accuracy: 1.0000 - val_precision: 1.0000 - val_recall: 1.0000 - val_auc: 0.0000e+00 - val_prc: 1.0000 - lr: 1.0000e-04\n",
            "Epoch 108/200\n",
            "442/442 [==============================] - 11s 24ms/step - loss: 0.1440 - tp: 1952.0000 - fp: 9.0000 - tn: 2442.0000 - fn: 8.0000 - accuracy: 0.9961 - precision: 0.9954 - recall: 0.9959 - auc: 0.9997 - prc: 0.9994 - val_loss: 0.1304 - val_tp: 491.0000 - val_fp: 0.0000e+00 - val_tn: 0.0000e+00 - val_fn: 0.0000e+00 - val_accuracy: 1.0000 - val_precision: 1.0000 - val_recall: 1.0000 - val_auc: 0.0000e+00 - val_prc: 1.0000 - lr: 1.0000e-04\n",
            "Epoch 109/200\n",
            "442/442 [==============================] - 11s 24ms/step - loss: 0.1549 - tp: 1936.0000 - fp: 14.0000 - tn: 2437.0000 - fn: 24.0000 - accuracy: 0.9914 - precision: 0.9928 - recall: 0.9878 - auc: 0.9991 - prc: 0.9992 - val_loss: 0.1295 - val_tp: 491.0000 - val_fp: 0.0000e+00 - val_tn: 0.0000e+00 - val_fn: 0.0000e+00 - val_accuracy: 1.0000 - val_precision: 1.0000 - val_recall: 1.0000 - val_auc: 0.0000e+00 - val_prc: 1.0000 - lr: 1.0000e-04\n",
            "Epoch 110/200\n",
            "442/442 [==============================] - 11s 24ms/step - loss: 0.1461 - tp: 1944.0000 - fp: 11.0000 - tn: 2440.0000 - fn: 16.0000 - accuracy: 0.9939 - precision: 0.9944 - recall: 0.9918 - auc: 0.9993 - prc: 0.9995 - val_loss: 0.1279 - val_tp: 491.0000 - val_fp: 0.0000e+00 - val_tn: 0.0000e+00 - val_fn: 0.0000e+00 - val_accuracy: 1.0000 - val_precision: 1.0000 - val_recall: 1.0000 - val_auc: 0.0000e+00 - val_prc: 1.0000 - lr: 1.0000e-04\n",
            "Epoch 111/200\n",
            "442/442 [==============================] - 11s 24ms/step - loss: 0.1547 - tp: 1937.0000 - fp: 21.0000 - tn: 2430.0000 - fn: 23.0000 - accuracy: 0.9900 - precision: 0.9893 - recall: 0.9883 - auc: 0.9991 - prc: 0.9992 - val_loss: 0.1274 - val_tp: 491.0000 - val_fp: 0.0000e+00 - val_tn: 0.0000e+00 - val_fn: 0.0000e+00 - val_accuracy: 1.0000 - val_precision: 1.0000 - val_recall: 1.0000 - val_auc: 0.0000e+00 - val_prc: 1.0000 - lr: 1.0000e-04\n",
            "Epoch 112/200\n",
            "442/442 [==============================] - 10s 24ms/step - loss: 0.1399 - tp: 1947.0000 - fp: 9.0000 - tn: 2442.0000 - fn: 13.0000 - accuracy: 0.9950 - precision: 0.9954 - recall: 0.9934 - auc: 0.9998 - prc: 0.9998 - val_loss: 0.1259 - val_tp: 491.0000 - val_fp: 0.0000e+00 - val_tn: 0.0000e+00 - val_fn: 0.0000e+00 - val_accuracy: 1.0000 - val_precision: 1.0000 - val_recall: 1.0000 - val_auc: 0.0000e+00 - val_prc: 1.0000 - lr: 1.0000e-04\n",
            "Epoch 113/200\n",
            "442/442 [==============================] - 11s 24ms/step - loss: 0.1897 - tp: 1917.0000 - fp: 33.0000 - tn: 2418.0000 - fn: 43.0000 - accuracy: 0.9828 - precision: 0.9831 - recall: 0.9781 - auc: 0.9958 - prc: 0.9930 - val_loss: 0.1284 - val_tp: 491.0000 - val_fp: 0.0000e+00 - val_tn: 0.0000e+00 - val_fn: 0.0000e+00 - val_accuracy: 1.0000 - val_precision: 1.0000 - val_recall: 1.0000 - val_auc: 0.0000e+00 - val_prc: 1.0000 - lr: 1.0000e-04\n",
            "Epoch 114/200\n",
            "442/442 [==============================] - 11s 24ms/step - loss: 0.1511 - tp: 1940.0000 - fp: 14.0000 - tn: 2437.0000 - fn: 20.0000 - accuracy: 0.9923 - precision: 0.9928 - recall: 0.9898 - auc: 0.9989 - prc: 0.9991 - val_loss: 0.1273 - val_tp: 491.0000 - val_fp: 0.0000e+00 - val_tn: 0.0000e+00 - val_fn: 0.0000e+00 - val_accuracy: 1.0000 - val_precision: 1.0000 - val_recall: 1.0000 - val_auc: 0.0000e+00 - val_prc: 1.0000 - lr: 1.0000e-04\n",
            "Epoch 115/200\n",
            "442/442 [==============================] - 11s 24ms/step - loss: 0.1432 - tp: 1944.0000 - fp: 12.0000 - tn: 2439.0000 - fn: 16.0000 - accuracy: 0.9937 - precision: 0.9939 - recall: 0.9918 - auc: 0.9998 - prc: 0.9998 - val_loss: 0.1264 - val_tp: 491.0000 - val_fp: 0.0000e+00 - val_tn: 0.0000e+00 - val_fn: 0.0000e+00 - val_accuracy: 1.0000 - val_precision: 1.0000 - val_recall: 1.0000 - val_auc: 0.0000e+00 - val_prc: 1.0000 - lr: 1.0000e-04\n",
            "Epoch 116/200\n",
            "442/442 [==============================] - 11s 24ms/step - loss: 0.1313 - tp: 1956.0000 - fp: 2.0000 - tn: 2449.0000 - fn: 4.0000 - accuracy: 0.9986 - precision: 0.9990 - recall: 0.9980 - auc: 1.0000 - prc: 1.0000 - val_loss: 0.1262 - val_tp: 491.0000 - val_fp: 0.0000e+00 - val_tn: 0.0000e+00 - val_fn: 0.0000e+00 - val_accuracy: 1.0000 - val_precision: 1.0000 - val_recall: 1.0000 - val_auc: 0.0000e+00 - val_prc: 1.0000 - lr: 1.0000e-05\n"
          ]
        }
      ],
      "source": [
        "history = model.fit(X_train_reshaped, y_train_resampled, epochs=200, batch_size=10, verbose=1, validation_split=0.1, callbacks=[reduce_lr,early_st])"
      ]
    },
    {
      "cell_type": "markdown",
      "metadata": {
        "id": "5hF9EG1dX6xZ"
      },
      "source": [
        "# Evaluate the model"
      ]
    },
    {
      "cell_type": "code",
      "execution_count": 86,
      "metadata": {
        "colab": {
          "base_uri": "https://localhost:8080/"
        },
        "id": "ux5k-LYLl3GF",
        "outputId": "9148bd10-3890-40c0-d5ce-d97b0938aef1"
      },
      "outputs": [
        {
          "name": "stdout",
          "output_type": "stream",
          "text": [
            "24/24 [==============================] - 1s 11ms/step\n",
            "[[589  24]\n",
            " [ 48  97]]\n"
          ]
        }
      ],
      "source": [
        "y_pred  = model.predict(X_test_reshaped)\n",
        "y_pred = (y_pred>0.5)\n",
        "cm = confusion_matrix(y_test, y_pred)\n",
        "print(cm)"
      ]
    },
    {
      "cell_type": "code",
      "execution_count": 87,
      "metadata": {
        "colab": {
          "base_uri": "https://localhost:8080/"
        },
        "id": "iur6Wu4oZ5dI",
        "outputId": "a97b3320-950a-4b11-fcb3-1b08387bb109"
      },
      "outputs": [
        {
          "name": "stdout",
          "output_type": "stream",
          "text": [
            "balanced acuracy: 0.8149069021769703\n"
          ]
        }
      ],
      "source": [
        "print(\"balanced acuracy:\", balanced_accuracy_score(y_test, y_pred))"
      ]
    },
    {
      "cell_type": "code",
      "execution_count": 88,
      "metadata": {
        "colab": {
          "base_uri": "https://localhost:8080/"
        },
        "id": "zkQ55Zm7l3D2",
        "outputId": "1d603181-a728-4b27-d900-a1e71d36be80"
      },
      "outputs": [
        {
          "name": "stdout",
          "output_type": "stream",
          "text": [
            "              precision    recall  f1-score   support\n",
            "\n",
            "           0       0.92      0.96      0.94       613\n",
            "           1       0.80      0.67      0.73       145\n",
            "\n",
            "    accuracy                           0.91       758\n",
            "   macro avg       0.86      0.81      0.84       758\n",
            "weighted avg       0.90      0.91      0.90       758\n",
            "\n",
            "491/491 [==============================] - 3s 6ms/step\n",
            "76/76 [==============================] - 1s 6ms/step\n",
            "loss :  0.4929445683956146\n",
            "tp :  97.0\n",
            "fp :  24.0\n",
            "tn :  589.0\n",
            "fn :  48.0\n",
            "accuracy :  0.9050132036209106\n",
            "precision :  0.8016529083251953\n",
            "recall :  0.6689655184745789\n",
            "auc :  0.9052202701568604\n",
            "prc :  0.8146541714668274\n",
            "\n"
          ]
        }
      ],
      "source": [
        "target_names=[\"0\",\"1\"]\n",
        "print(classification_report(y_test, y_pred, target_names=target_names))\n",
        "\n",
        "train_predictions_baseline = model.predict(X_train_reshaped, batch_size=10)\n",
        "test_predictions_baseline = model.predict(X_test_reshaped, batch_size=10)\n",
        "\n",
        "baseline_results = model.evaluate(X_test_reshaped, y_test, verbose=0)\n",
        "for name, value in zip(model.metrics_names, baseline_results):\n",
        "  print(name, ': ', value)\n",
        "print()"
      ]
    },
    {
      "cell_type": "code",
      "execution_count": 89,
      "metadata": {
        "colab": {
          "base_uri": "https://localhost:8080/",
          "height": 1000
        },
        "id": "YzVQLd_Xl3B1",
        "outputId": "6bd1d53b-d330-4a0f-d2c9-b33181c37c01"
      },
      "outputs": [
        {
          "data": {
            "image/png": "[encoded data removed]",
            "text/plain": [
              "<Figure size 1200x1000 with 1 Axes>"
            ]
          },
          "metadata": {},
          "output_type": "display_data"
        },
        {
          "data": {
            "image/png": "[encoded data removed]",
            "text/plain": [
              "<Figure size 1200x1000 with 1 Axes>"
            ]
          },
          "metadata": {},
          "output_type": "display_data"
        }
      ],
      "source": [
        "plt.rcParams['figure.figsize'] = (12, 10)\n",
        "plt.rcParams.update({'font.size': 17})\n",
        "colors = plt.rcParams['axes.prop_cycle'].by_key()['color']\n",
        "\n",
        "def plot_roc(name, labels, predictions, **kwargs):\n",
        "  fp, tp, _ = sklearn.metrics.roc_curve(labels, predictions)\n",
        "\n",
        "  plt.plot(fp, tp, label=name, linewidth=2, **kwargs)\n",
        "  plt.plot([0, 1], [0, 1], 'k--')\n",
        "  plt.title('E. coli CNN')\n",
        "  plt.xlabel('False positives [%]')\n",
        "  plt.ylabel('True positives [%]')\n",
        "  plt.title('S. aureus AUROC')\n",
        "\n",
        "  plt.grid(True)\n",
        "  ax = plt.gca()\n",
        "  ax.set_aspect('equal')\n",
        "plot_roc(\"Ciprofloxacin               AUROC: %0.2f\" % baseline_results[8], y_test, test_predictions_baseline, color=colors[0])\n",
        "\n",
        "plt.legend(loc='lower right')\n",
        "plt.savefig('s_aureus_auroc.png', bbox_inches='tight')\n",
        "plt.show()\n",
        "\n",
        "def plot_prc(name, labels, predictions, **kwargs):\n",
        "    precision, recall, _ = sklearn.metrics.precision_recall_curve(labels, predictions)\n",
        "\n",
        "    plt.plot(precision, recall, label=name, linewidth=2, **kwargs)\n",
        "    plt.title('S. aureus AUPRC')\n",
        "    plt.xlabel('Recall')\n",
        "    plt.ylabel('Precision')\n",
        "    plt.plot([1, 0], [0, 1], 'k--')\n",
        "    plt.grid(True)\n",
        "    ax = plt.gca()\n",
        "    ax.set_aspect('equal')\n",
        "\n",
        "plot_prc(\"Ciprofloxacin        AUPRC: %0.2f\" % baseline_results[9], y_test, test_predictions_baseline, color=colors[0])\n",
        "\n",
        "plt.legend(loc='upper right')\n",
        "plt.savefig('s_aureus_auprc.png', bbox_inches='tight')\n",
        "plt.show()"
      ]
    }
  ],
  "metadata": {
    "accelerator": "GPU",
    "colab": {
      "provenance": []
    },
    "gpuClass": "standard",
    "kernelspec": {
      "display_name": "Python 3 (ipykernel)",
      "language": "python",
      "name": "python3"
    },
    "language_info": {
      "codemirror_mode": {
        "name": "ipython",
        "version": 3
      },
      "file_extension": ".py",
      "mimetype": "text/x-python",
      "name": "python",
      "nbconvert_exporter": "python",
      "pygments_lexer": "ipython3",
      "version": "3.9.2"
    }
  },
  "nbformat": 4,
  "nbformat_minor": 0
}
