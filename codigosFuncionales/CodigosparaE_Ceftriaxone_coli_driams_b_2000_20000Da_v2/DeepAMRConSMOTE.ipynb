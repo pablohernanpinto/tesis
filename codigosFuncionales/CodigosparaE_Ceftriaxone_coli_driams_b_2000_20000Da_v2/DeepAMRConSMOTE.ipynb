{
 "cells": [
  {
   "cell_type": "markdown",
   "metadata": {
    "id": "LNNFUJODXA9C"
   },
   "source": [
    "# 0-Libraries"
   ]
  },
  {
   "cell_type": "code",
   "execution_count": 1,
   "metadata": {
    "id": "W1quzgr-ao8A"
   },
   "outputs": [
    {
     "name": "stderr",
     "output_type": "stream",
     "text": [
      "2025-01-19 14:31:10.886844: I tensorflow/core/platform/cpu_feature_guard.cc:193] This TensorFlow binary is optimized with oneAPI Deep Neural Network Library (oneDNN) to use the following CPU instructions in performance-critical operations:  AVX2 AVX512F AVX512_VNNI FMA\n",
      "To enable them in other operations, rebuild TensorFlow with the appropriate compiler flags.\n",
      "2025-01-19 14:31:11.029411: I tensorflow/core/util/util.cc:169] oneDNN custom operations are on. You may see slightly different numerical results due to floating-point round-off errors from different computation orders. To turn them off, set the environment variable `TF_ENABLE_ONEDNN_OPTS=0`.\n",
      "2025-01-19 14:31:11.066113: E tensorflow/stream_executor/cuda/cuda_blas.cc:2981] Unable to register cuBLAS factory: Attempting to register factory for plugin cuBLAS when one has already been registered\n",
      "2025-01-19 14:31:11.691729: W tensorflow/stream_executor/platform/default/dso_loader.cc:64] Could not load dynamic library 'libnvinfer.so.7'; dlerror: libnvinfer.so.7: cannot open shared object file: No such file or directory\n",
      "2025-01-19 14:31:11.691800: W tensorflow/stream_executor/platform/default/dso_loader.cc:64] Could not load dynamic library 'libnvinfer_plugin.so.7'; dlerror: libnvinfer_plugin.so.7: cannot open shared object file: No such file or directory\n",
      "2025-01-19 14:31:11.691806: W tensorflow/compiler/tf2tensorrt/utils/py_utils.cc:38] TF-TRT Warning: Cannot dlopen some TensorRT libraries. If you would like to use Nvidia GPU with TensorRT, please make sure the missing libraries mentioned above are installed properly.\n"
     ]
    }
   ],
   "source": [
    "import numpy as np\n",
    "import matplotlib.pyplot as plt\n",
    "import itertools\n",
    "import pandas as pd\n",
    "import sklearn\n",
    "from sklearn.model_selection import train_test_split\n",
    "from sklearn.metrics import confusion_matrix,classification_report,ConfusionMatrixDisplay, balanced_accuracy_score\n",
    "#from sklearn.preprocessing import LabelEncoder, OneHotEncoder\n",
    "from sklearn.compose import ColumnTransformer\n",
    "from sklearn.preprocessing import Normalizer, StandardScaler, MinMaxScaler, MaxAbsScaler, RobustScaler, QuantileTransformer, PowerTransformer\n",
    "import tensorflow as tf\n",
    "from tensorflow import keras\n",
    "from keras import regularizers\n",
    "from keras.optimizers import Adam\n",
    "#from keras.backend import expand_dims\n",
    "from keras.callbacks import ReduceLROnPlateau, EarlyStopping\n",
    "from keras.models import Sequential\n",
    "from keras.constraints import MaxNorm\n",
    "from keras.layers import Activation, Dense, Conv1D, Flatten, MaxPooling1D, Dropout, BatchNormalization, SpatialDropout1D"
   ]
  },
  {
   "cell_type": "markdown",
   "metadata": {
    "id": "yD17WVS_4Y7T"
   },
   "source": [
    "## Librerias oversampling\n"
   ]
  },
  {
   "cell_type": "code",
   "execution_count": 2,
   "metadata": {
    "id": "L46aV2ut4XfL"
   },
   "outputs": [],
   "source": [
    "from imblearn.over_sampling import SMOTE\n"
   ]
  },
  {
   "cell_type": "code",
   "execution_count": 3,
   "metadata": {
    "id": "gy_ErAtqkxgt"
   },
   "outputs": [
    {
     "name": "stderr",
     "output_type": "stream",
     "text": [
      "2025-01-19 14:31:12.686491: I tensorflow/core/platform/cpu_feature_guard.cc:193] This TensorFlow binary is optimized with oneAPI Deep Neural Network Library (oneDNN) to use the following CPU instructions in performance-critical operations:  AVX2 AVX512F AVX512_VNNI FMA\n",
      "To enable them in other operations, rebuild TensorFlow with the appropriate compiler flags.\n",
      "2025-01-19 14:31:13.320284: I tensorflow/core/common_runtime/gpu/gpu_device.cc:1616] Created device /job:localhost/replica:0/task:0/device:GPU:0 with 14120 MB memory:  -> device: 0, name: NVIDIA RTX A4000, pci bus id: 0000:c3:00.0, compute capability: 8.6\n"
     ]
    }
   ],
   "source": [
    "METRICS = [\n",
    "      keras.metrics.TruePositives(name='tp'),\n",
    "      keras.metrics.FalsePositives(name='fp'),\n",
    "      keras.metrics.TrueNegatives(name='tn'),\n",
    "      keras.metrics.FalseNegatives(name='fn'),\n",
    "      keras.metrics.BinaryAccuracy(name='accuracy'),\n",
    "      keras.metrics.Precision(name='precision'),\n",
    "      keras.metrics.Recall(name='recall'),\n",
    "      keras.metrics.AUC(name='auc'),\n",
    "      keras.metrics.AUC(name='prc', curve='PR'), # precision-recall curve\n",
    "]"
   ]
  },
  {
   "cell_type": "markdown",
   "metadata": {
    "id": "N6bQjUrPXPaI"
   },
   "source": [
    "# 1- Load Data"
   ]
  },
  {
   "cell_type": "code",
   "execution_count": 4,
   "metadata": {
    "colab": {
     "base_uri": "https://localhost:8080/",
     "height": 721
    },
    "id": "UXVFQgZNaNrg",
    "outputId": "7fccb4b4-1f11-48e5-8aaf-a25e40003012"
   },
   "outputs": [
    {
     "data": {
      "text/html": [
       "<div>\n",
       "<style scoped>\n",
       "    .dataframe tbody tr th:only-of-type {\n",
       "        vertical-align: middle;\n",
       "    }\n",
       "\n",
       "    .dataframe tbody tr th {\n",
       "        vertical-align: top;\n",
       "    }\n",
       "\n",
       "    .dataframe thead th {\n",
       "        text-align: right;\n",
       "    }\n",
       "</style>\n",
       "<table border=\"1\" class=\"dataframe\">\n",
       "  <thead>\n",
       "    <tr style=\"text-align: right;\">\n",
       "      <th></th>\n",
       "      <th>2000</th>\n",
       "      <th>2003</th>\n",
       "      <th>2006</th>\n",
       "      <th>2009</th>\n",
       "      <th>2012</th>\n",
       "      <th>2015</th>\n",
       "      <th>2018</th>\n",
       "      <th>2021</th>\n",
       "      <th>2024</th>\n",
       "      <th>2027</th>\n",
       "      <th>...</th>\n",
       "      <th>19988</th>\n",
       "      <th>19991</th>\n",
       "      <th>19994</th>\n",
       "      <th>19997</th>\n",
       "      <th>code</th>\n",
       "      <th>species</th>\n",
       "      <th>Ciprofloxacin</th>\n",
       "      <th>Ceftriaxone</th>\n",
       "      <th>Cefepime</th>\n",
       "      <th>Piperacillin-Tazobactam</th>\n",
       "    </tr>\n",
       "  </thead>\n",
       "  <tbody>\n",
       "    <tr>\n",
       "      <th>0</th>\n",
       "      <td>1067.142857</td>\n",
       "      <td>1251.714286</td>\n",
       "      <td>1310.571429</td>\n",
       "      <td>1021.142857</td>\n",
       "      <td>1315.625000</td>\n",
       "      <td>974.000000</td>\n",
       "      <td>936.857143</td>\n",
       "      <td>853.571429</td>\n",
       "      <td>936.142857</td>\n",
       "      <td>1044.285714</td>\n",
       "      <td>...</td>\n",
       "      <td>21.5</td>\n",
       "      <td>6.500000</td>\n",
       "      <td>4.666667</td>\n",
       "      <td>17.585859</td>\n",
       "      <td>dcd5aa31-b254-4961-b69f-ccc8c0572b27</td>\n",
       "      <td>Escherichia coli</td>\n",
       "      <td>0.0</td>\n",
       "      <td>0.0</td>\n",
       "      <td>0.0</td>\n",
       "      <td>0.0</td>\n",
       "    </tr>\n",
       "    <tr>\n",
       "      <th>1</th>\n",
       "      <td>1872.857143</td>\n",
       "      <td>1677.285714</td>\n",
       "      <td>2035.714286</td>\n",
       "      <td>2086.250000</td>\n",
       "      <td>1930.571429</td>\n",
       "      <td>2017.142857</td>\n",
       "      <td>1856.857143</td>\n",
       "      <td>1655.857143</td>\n",
       "      <td>1547.142857</td>\n",
       "      <td>1713.000000</td>\n",
       "      <td>...</td>\n",
       "      <td>21.0</td>\n",
       "      <td>15.000000</td>\n",
       "      <td>26.500000</td>\n",
       "      <td>21.736842</td>\n",
       "      <td>dfcb7221-e4f8-4a39-b661-7e439f19e93d</td>\n",
       "      <td>Escherichia coli</td>\n",
       "      <td>0.0</td>\n",
       "      <td>0.0</td>\n",
       "      <td>0.0</td>\n",
       "      <td>0.0</td>\n",
       "    </tr>\n",
       "    <tr>\n",
       "      <th>2</th>\n",
       "      <td>3258.142857</td>\n",
       "      <td>3209.428571</td>\n",
       "      <td>3068.571429</td>\n",
       "      <td>3162.428571</td>\n",
       "      <td>3275.000000</td>\n",
       "      <td>3324.571429</td>\n",
       "      <td>2999.000000</td>\n",
       "      <td>2970.500000</td>\n",
       "      <td>3213.000000</td>\n",
       "      <td>3205.571429</td>\n",
       "      <td>...</td>\n",
       "      <td>17.0</td>\n",
       "      <td>17.000000</td>\n",
       "      <td>30.000000</td>\n",
       "      <td>19.125000</td>\n",
       "      <td>d5bb4389-5053-4107-9c05-bfed9e9159c9</td>\n",
       "      <td>Escherichia coli</td>\n",
       "      <td>0.0</td>\n",
       "      <td>0.0</td>\n",
       "      <td>0.0</td>\n",
       "      <td>0.0</td>\n",
       "    </tr>\n",
       "    <tr>\n",
       "      <th>3</th>\n",
       "      <td>18912.571429</td>\n",
       "      <td>19530.571429</td>\n",
       "      <td>19464.875000</td>\n",
       "      <td>19098.714286</td>\n",
       "      <td>18994.714286</td>\n",
       "      <td>18936.285714</td>\n",
       "      <td>19208.571429</td>\n",
       "      <td>19417.571429</td>\n",
       "      <td>19486.857143</td>\n",
       "      <td>19048.625000</td>\n",
       "      <td>...</td>\n",
       "      <td>299.0</td>\n",
       "      <td>339.500000</td>\n",
       "      <td>359.000000</td>\n",
       "      <td>311.746032</td>\n",
       "      <td>4e14943f-ae22-42ed-aef5-65430470dcfa</td>\n",
       "      <td>Escherichia coli</td>\n",
       "      <td>0.0</td>\n",
       "      <td>0.0</td>\n",
       "      <td>0.0</td>\n",
       "      <td>0.0</td>\n",
       "    </tr>\n",
       "    <tr>\n",
       "      <th>4</th>\n",
       "      <td>1685.000000</td>\n",
       "      <td>1537.428571</td>\n",
       "      <td>1283.714286</td>\n",
       "      <td>1472.285714</td>\n",
       "      <td>1370.142857</td>\n",
       "      <td>1402.142857</td>\n",
       "      <td>1397.500000</td>\n",
       "      <td>1422.142857</td>\n",
       "      <td>1725.285714</td>\n",
       "      <td>3386.714286</td>\n",
       "      <td>...</td>\n",
       "      <td>32.5</td>\n",
       "      <td>48.333333</td>\n",
       "      <td>66.500000</td>\n",
       "      <td>39.230769</td>\n",
       "      <td>617f14d0-86b1-4c28-8995-b02006a85e81</td>\n",
       "      <td>Escherichia coli</td>\n",
       "      <td>1.0</td>\n",
       "      <td>1.0</td>\n",
       "      <td>1.0</td>\n",
       "      <td>1.0</td>\n",
       "    </tr>\n",
       "  </tbody>\n",
       "</table>\n",
       "<p>5 rows × 6006 columns</p>\n",
       "</div>"
      ],
      "text/plain": [
       "           2000          2003          2006          2009          2012  \\\n",
       "0   1067.142857   1251.714286   1310.571429   1021.142857   1315.625000   \n",
       "1   1872.857143   1677.285714   2035.714286   2086.250000   1930.571429   \n",
       "2   3258.142857   3209.428571   3068.571429   3162.428571   3275.000000   \n",
       "3  18912.571429  19530.571429  19464.875000  19098.714286  18994.714286   \n",
       "4   1685.000000   1537.428571   1283.714286   1472.285714   1370.142857   \n",
       "\n",
       "           2015          2018          2021          2024          2027  ...  \\\n",
       "0    974.000000    936.857143    853.571429    936.142857   1044.285714  ...   \n",
       "1   2017.142857   1856.857143   1655.857143   1547.142857   1713.000000  ...   \n",
       "2   3324.571429   2999.000000   2970.500000   3213.000000   3205.571429  ...   \n",
       "3  18936.285714  19208.571429  19417.571429  19486.857143  19048.625000  ...   \n",
       "4   1402.142857   1397.500000   1422.142857   1725.285714   3386.714286  ...   \n",
       "\n",
       "   19988       19991       19994       19997  \\\n",
       "0   21.5    6.500000    4.666667   17.585859   \n",
       "1   21.0   15.000000   26.500000   21.736842   \n",
       "2   17.0   17.000000   30.000000   19.125000   \n",
       "3  299.0  339.500000  359.000000  311.746032   \n",
       "4   32.5   48.333333   66.500000   39.230769   \n",
       "\n",
       "                                   code           species  Ciprofloxacin  \\\n",
       "0  dcd5aa31-b254-4961-b69f-ccc8c0572b27  Escherichia coli            0.0   \n",
       "1  dfcb7221-e4f8-4a39-b661-7e439f19e93d  Escherichia coli            0.0   \n",
       "2  d5bb4389-5053-4107-9c05-bfed9e9159c9  Escherichia coli            0.0   \n",
       "3  4e14943f-ae22-42ed-aef5-65430470dcfa  Escherichia coli            0.0   \n",
       "4  617f14d0-86b1-4c28-8995-b02006a85e81  Escherichia coli            1.0   \n",
       "\n",
       "   Ceftriaxone  Cefepime  Piperacillin-Tazobactam  \n",
       "0          0.0       0.0                      0.0  \n",
       "1          0.0       0.0                      0.0  \n",
       "2          0.0       0.0                      0.0  \n",
       "3          0.0       0.0                      0.0  \n",
       "4          1.0       1.0                      1.0  \n",
       "\n",
       "[5 rows x 6006 columns]"
      ]
     },
     "execution_count": 4,
     "metadata": {},
     "output_type": "execute_result"
    }
   ],
   "source": [
    "s_aureus = pd.read_csv('e_coli_driams_b_2000_20000Da_v2 (1).csv')\n",
    "s_aureus = s_aureus.fillna(0)\n",
    "s_aureus.head()"
   ]
  },
  {
   "cell_type": "markdown",
   "metadata": {
    "id": "NhURWBqqXoQp"
   },
   "source": [
    "# Preprocessing Data"
   ]
  },
  {
   "cell_type": "code",
   "execution_count": 5,
   "metadata": {},
   "outputs": [],
   "source": [
    "s_aureus = s_aureus.drop(columns=['code','species', 'Ciprofloxacin', 'Cefepime', 'Piperacillin-Tazobactam'])\n",
    "s_aureus.dropna(axis=0, how=\"any\", inplace=True)"
   ]
  },
  {
   "cell_type": "code",
   "execution_count": 6,
   "metadata": {
    "colab": {
     "base_uri": "https://localhost:8080/",
     "height": 255
    },
    "id": "wZUfupfGtc7O",
    "outputId": "8d410c72-1957-46d3-cb47-7e9ccb5f04b4"
   },
   "outputs": [
    {
     "data": {
      "text/html": [
       "<div>\n",
       "<style scoped>\n",
       "    .dataframe tbody tr th:only-of-type {\n",
       "        vertical-align: middle;\n",
       "    }\n",
       "\n",
       "    .dataframe tbody tr th {\n",
       "        vertical-align: top;\n",
       "    }\n",
       "\n",
       "    .dataframe thead th {\n",
       "        text-align: right;\n",
       "    }\n",
       "</style>\n",
       "<table border=\"1\" class=\"dataframe\">\n",
       "  <thead>\n",
       "    <tr style=\"text-align: right;\">\n",
       "      <th></th>\n",
       "      <th>2000</th>\n",
       "      <th>2003</th>\n",
       "      <th>2006</th>\n",
       "      <th>2009</th>\n",
       "      <th>2012</th>\n",
       "      <th>2015</th>\n",
       "      <th>2018</th>\n",
       "      <th>2021</th>\n",
       "      <th>2024</th>\n",
       "      <th>2027</th>\n",
       "      <th>...</th>\n",
       "      <th>19973</th>\n",
       "      <th>19976</th>\n",
       "      <th>19979</th>\n",
       "      <th>19982</th>\n",
       "      <th>19985</th>\n",
       "      <th>19988</th>\n",
       "      <th>19991</th>\n",
       "      <th>19994</th>\n",
       "      <th>19997</th>\n",
       "      <th>Ceftriaxone</th>\n",
       "    </tr>\n",
       "  </thead>\n",
       "  <tbody>\n",
       "    <tr>\n",
       "      <th>0</th>\n",
       "      <td>1067.142857</td>\n",
       "      <td>1251.714286</td>\n",
       "      <td>1310.571429</td>\n",
       "      <td>1021.142857</td>\n",
       "      <td>1315.625000</td>\n",
       "      <td>974.000000</td>\n",
       "      <td>936.857143</td>\n",
       "      <td>853.571429</td>\n",
       "      <td>936.142857</td>\n",
       "      <td>1044.285714</td>\n",
       "      <td>...</td>\n",
       "      <td>19.666667</td>\n",
       "      <td>20.000000</td>\n",
       "      <td>23.0</td>\n",
       "      <td>42.666667</td>\n",
       "      <td>15.000000</td>\n",
       "      <td>21.5</td>\n",
       "      <td>6.500000</td>\n",
       "      <td>4.666667</td>\n",
       "      <td>17.585859</td>\n",
       "      <td>0.0</td>\n",
       "    </tr>\n",
       "    <tr>\n",
       "      <th>1</th>\n",
       "      <td>1872.857143</td>\n",
       "      <td>1677.285714</td>\n",
       "      <td>2035.714286</td>\n",
       "      <td>2086.250000</td>\n",
       "      <td>1930.571429</td>\n",
       "      <td>2017.142857</td>\n",
       "      <td>1856.857143</td>\n",
       "      <td>1655.857143</td>\n",
       "      <td>1547.142857</td>\n",
       "      <td>1713.000000</td>\n",
       "      <td>...</td>\n",
       "      <td>32.000000</td>\n",
       "      <td>29.666667</td>\n",
       "      <td>30.0</td>\n",
       "      <td>18.000000</td>\n",
       "      <td>17.000000</td>\n",
       "      <td>21.0</td>\n",
       "      <td>15.000000</td>\n",
       "      <td>26.500000</td>\n",
       "      <td>21.736842</td>\n",
       "      <td>0.0</td>\n",
       "    </tr>\n",
       "    <tr>\n",
       "      <th>2</th>\n",
       "      <td>3258.142857</td>\n",
       "      <td>3209.428571</td>\n",
       "      <td>3068.571429</td>\n",
       "      <td>3162.428571</td>\n",
       "      <td>3275.000000</td>\n",
       "      <td>3324.571429</td>\n",
       "      <td>2999.000000</td>\n",
       "      <td>2970.500000</td>\n",
       "      <td>3213.000000</td>\n",
       "      <td>3205.571429</td>\n",
       "      <td>...</td>\n",
       "      <td>19.666667</td>\n",
       "      <td>20.000000</td>\n",
       "      <td>23.5</td>\n",
       "      <td>14.500000</td>\n",
       "      <td>13.666667</td>\n",
       "      <td>17.0</td>\n",
       "      <td>17.000000</td>\n",
       "      <td>30.000000</td>\n",
       "      <td>19.125000</td>\n",
       "      <td>0.0</td>\n",
       "    </tr>\n",
       "    <tr>\n",
       "      <th>3</th>\n",
       "      <td>18912.571429</td>\n",
       "      <td>19530.571429</td>\n",
       "      <td>19464.875000</td>\n",
       "      <td>19098.714286</td>\n",
       "      <td>18994.714286</td>\n",
       "      <td>18936.285714</td>\n",
       "      <td>19208.571429</td>\n",
       "      <td>19417.571429</td>\n",
       "      <td>19486.857143</td>\n",
       "      <td>19048.625000</td>\n",
       "      <td>...</td>\n",
       "      <td>299.000000</td>\n",
       "      <td>269.333333</td>\n",
       "      <td>282.0</td>\n",
       "      <td>300.500000</td>\n",
       "      <td>311.000000</td>\n",
       "      <td>299.0</td>\n",
       "      <td>339.500000</td>\n",
       "      <td>359.000000</td>\n",
       "      <td>311.746032</td>\n",
       "      <td>0.0</td>\n",
       "    </tr>\n",
       "    <tr>\n",
       "      <th>4</th>\n",
       "      <td>1685.000000</td>\n",
       "      <td>1537.428571</td>\n",
       "      <td>1283.714286</td>\n",
       "      <td>1472.285714</td>\n",
       "      <td>1370.142857</td>\n",
       "      <td>1402.142857</td>\n",
       "      <td>1397.500000</td>\n",
       "      <td>1422.142857</td>\n",
       "      <td>1725.285714</td>\n",
       "      <td>3386.714286</td>\n",
       "      <td>...</td>\n",
       "      <td>25.000000</td>\n",
       "      <td>34.000000</td>\n",
       "      <td>33.0</td>\n",
       "      <td>37.333333</td>\n",
       "      <td>21.000000</td>\n",
       "      <td>32.5</td>\n",
       "      <td>48.333333</td>\n",
       "      <td>66.500000</td>\n",
       "      <td>39.230769</td>\n",
       "      <td>1.0</td>\n",
       "    </tr>\n",
       "  </tbody>\n",
       "</table>\n",
       "<p>5 rows × 6001 columns</p>\n",
       "</div>"
      ],
      "text/plain": [
       "           2000          2003          2006          2009          2012  \\\n",
       "0   1067.142857   1251.714286   1310.571429   1021.142857   1315.625000   \n",
       "1   1872.857143   1677.285714   2035.714286   2086.250000   1930.571429   \n",
       "2   3258.142857   3209.428571   3068.571429   3162.428571   3275.000000   \n",
       "3  18912.571429  19530.571429  19464.875000  19098.714286  18994.714286   \n",
       "4   1685.000000   1537.428571   1283.714286   1472.285714   1370.142857   \n",
       "\n",
       "           2015          2018          2021          2024          2027  ...  \\\n",
       "0    974.000000    936.857143    853.571429    936.142857   1044.285714  ...   \n",
       "1   2017.142857   1856.857143   1655.857143   1547.142857   1713.000000  ...   \n",
       "2   3324.571429   2999.000000   2970.500000   3213.000000   3205.571429  ...   \n",
       "3  18936.285714  19208.571429  19417.571429  19486.857143  19048.625000  ...   \n",
       "4   1402.142857   1397.500000   1422.142857   1725.285714   3386.714286  ...   \n",
       "\n",
       "        19973       19976  19979       19982       19985  19988       19991  \\\n",
       "0   19.666667   20.000000   23.0   42.666667   15.000000   21.5    6.500000   \n",
       "1   32.000000   29.666667   30.0   18.000000   17.000000   21.0   15.000000   \n",
       "2   19.666667   20.000000   23.5   14.500000   13.666667   17.0   17.000000   \n",
       "3  299.000000  269.333333  282.0  300.500000  311.000000  299.0  339.500000   \n",
       "4   25.000000   34.000000   33.0   37.333333   21.000000   32.5   48.333333   \n",
       "\n",
       "        19994       19997  Ceftriaxone  \n",
       "0    4.666667   17.585859          0.0  \n",
       "1   26.500000   21.736842          0.0  \n",
       "2   30.000000   19.125000          0.0  \n",
       "3  359.000000  311.746032          0.0  \n",
       "4   66.500000   39.230769          1.0  \n",
       "\n",
       "[5 rows x 6001 columns]"
      ]
     },
     "execution_count": 6,
     "metadata": {},
     "output_type": "execute_result"
    }
   ],
   "source": [
    "s_aureus.head()"
   ]
  },
  {
   "cell_type": "code",
   "execution_count": 7,
   "metadata": {
    "id": "-4dAtvUEkibF"
   },
   "outputs": [],
   "source": [
    "X = s_aureus.iloc[:, 0:6000].values  # variables independientes (espectros de masa)\n",
    "y = s_aureus.iloc[:, 6000].values    # variable dependientes (resistencia a ciprofloxacin)\n",
    "X = np.asarray(X).astype(np.float32)\n",
    "y = np.asarray(y).astype(np.float32)"
   ]
  },
  {
   "cell_type": "code",
   "execution_count": 8,
   "metadata": {
    "id": "ioZIrUNqlgP9"
   },
   "outputs": [],
   "source": [
    "X_train, X_test, y_train, y_test = train_test_split(X, y, test_size = 0.2, random_state = 0, stratify=y)"
   ]
  },
  {
   "cell_type": "markdown",
   "metadata": {
    "id": "J2Zbxb074EHL"
   },
   "source": [
    "## Aplicacion de SMOTE"
   ]
  },
  {
   "cell_type": "code",
   "execution_count": 9,
   "metadata": {
    "id": "rpLCT_uw4DgM"
   },
   "outputs": [],
   "source": [
    "smote = SMOTE(random_state=42)\n",
    "X_resampled, y_resampled = smote.fit_resample(X_train, y_train)"
   ]
  },
  {
   "cell_type": "code",
   "execution_count": 10,
   "metadata": {
    "colab": {
     "base_uri": "https://localhost:8080/"
    },
    "id": "7FaGCf_04zzV",
    "outputId": "f4e68371-f4d8-405c-9852-f6d7a63997f9"
   },
   "outputs": [
    {
     "name": "stdout",
     "output_type": "stream",
     "text": [
      "0.0    134\n",
      "1.0     36\n",
      "Name: count, dtype: int64\n"
     ]
    }
   ],
   "source": [
    "print(pd.Series(y_train).value_counts())"
   ]
  },
  {
   "cell_type": "code",
   "execution_count": 11,
   "metadata": {
    "colab": {
     "base_uri": "https://localhost:8080/"
    },
    "id": "i0PWlM_yfc5d",
    "outputId": "e468ff97-ea8b-4c35-dc9e-bfb1c807bebe"
   },
   "outputs": [
    {
     "name": "stdout",
     "output_type": "stream",
     "text": [
      "1.0    134\n",
      "0.0    134\n",
      "Name: count, dtype: int64\n"
     ]
    }
   ],
   "source": [
    "print(pd.Series(y_resampled).value_counts())\n"
   ]
  },
  {
   "cell_type": "code",
   "execution_count": 12,
   "metadata": {
    "id": "Cz1ZnhEykiY9"
   },
   "outputs": [],
   "source": [
    "scaler=Normalizer(norm='max')\n",
    "sc_X = scaler\n",
    "X_train = sc_X.fit_transform(X_resampled)\n",
    "X_test = sc_X.transform(X_test)"
   ]
  },
  {
   "cell_type": "code",
   "execution_count": 13,
   "metadata": {
    "colab": {
     "base_uri": "https://localhost:8080/",
     "height": 147
    },
    "id": "_jlwf_ZU0RBE",
    "outputId": "738143bc-fafa-484b-8ac3-efdb65caf0c6"
   },
   "outputs": [
    {
     "data": {
      "text/plain": [
       "1.0    134\n",
       "0.0    134\n",
       "Name: count, dtype: int64"
      ]
     },
     "execution_count": 13,
     "metadata": {},
     "output_type": "execute_result"
    }
   ],
   "source": [
    "pd.Series(y_resampled).value_counts()"
   ]
  },
  {
   "cell_type": "code",
   "execution_count": 14,
   "metadata": {
    "id": "HiHCUFo-kiW9"
   },
   "outputs": [
    {
     "data": {
      "text/plain": [
       "' \\nsample_size = X_train.shape[0] # numero de muestras en el set de datos\\ntime_steps  = X_train.shape[1] # numero de atributos en el set de datos\\ninput_dimension = 1            #\\n\\nX_train_reshaped = X_train.reshape(sample_size,time_steps,input_dimension)\\nX_test_reshaped = X_test.reshape(X_test.shape[0],X_test.shape[1],1)\\n\\n'"
      ]
     },
     "execution_count": 14,
     "metadata": {},
     "output_type": "execute_result"
    }
   ],
   "source": [
    "sample_size = X_train.shape[0] # numero de muestras en el set de datos\n",
    "time_steps  = X_train.shape[1] # numero de atributos en el set de datos\n",
    "input_dimension = 1            #\n",
    "\n",
    "X_train_reshaped = X_train.reshape(sample_size,time_steps,input_dimension)\n",
    "X_test_reshaped = X_test.reshape(X_test.shape[0],X_test.shape[1],1)\n",
    "\n",
    "\n",
    "\"\"\" \n",
    "sample_size = X_train.shape[0] # numero de muestras en el set de datos\n",
    "time_steps  = X_train.shape[1] # numero de atributos en el set de datos\n",
    "input_dimension = 1            #\n",
    "\n",
    "X_train_reshaped = X_train.reshape(sample_size,time_steps,input_dimension)\n",
    "X_test_reshaped = X_test.reshape(X_test.shape[0],X_test.shape[1],1)\n",
    "\n",
    "\"\"\""
   ]
  },
  {
   "cell_type": "code",
   "execution_count": 15,
   "metadata": {
    "id": "VEuHRBvAlw79"
   },
   "outputs": [],
   "source": [
    "reduce_lr = ReduceLROnPlateau(monitor='val_loss', factor=0.1, patience=3, min_lr=0.000001)\n",
    "early_st = EarlyStopping(monitor='val_loss', patience=4, restore_best_weights=True)\n",
    "\n",
    "n_timesteps = X_train_reshaped.shape[1] #\n",
    "n_features  = X_train_reshaped.shape[2] #"
   ]
  },
  {
   "cell_type": "markdown",
   "metadata": {
    "id": "hBf6W9iPXz3p"
   },
   "source": [
    "# Create and fit DeepAMR model"
   ]
  },
  {
   "cell_type": "code",
   "execution_count": 16,
   "metadata": {
    "colab": {
     "base_uri": "https://localhost:8080/",
     "height": 953
    },
    "id": "AlJHRRzlkiH9",
    "outputId": "3fbfada7-e7d0-447a-c032-df8f5bf55897"
   },
   "outputs": [
    {
     "name": "stdout",
     "output_type": "stream",
     "text": [
      "Model: \"Modelo_s_aureus_ciprofloxacin\"\n",
      "_________________________________________________________________\n",
      " Layer (type)                Output Shape              Param #   \n",
      "=================================================================\n",
      " Conv_1 (Conv1D)             (None, 5984, 64)          1152      \n",
      "                                                                 \n",
      " batch_normalization (BatchN  (None, 5984, 64)         256       \n",
      " ormalization)                                                   \n",
      "                                                                 \n",
      " activation (Activation)     (None, 5984, 64)          0         \n",
      "                                                                 \n",
      " MaxPooling1D_1 (MaxPooling1  (None, 2992, 64)         0         \n",
      " D)                                                              \n",
      "                                                                 \n",
      " Conv_2 (Conv1D)             (None, 2984, 128)         73856     \n",
      "                                                                 \n",
      " batch_normalization_1 (Batc  (None, 2984, 128)        512       \n",
      " hNormalization)                                                 \n",
      "                                                                 \n",
      " activation_1 (Activation)   (None, 2984, 128)         0         \n",
      "                                                                 \n",
      " MaxPooling1D_2 (MaxPooling1  (None, 1492, 128)        0         \n",
      " D)                                                              \n",
      "                                                                 \n",
      " Conv_3 (Conv1D)             (None, 1488, 256)         164096    \n",
      "                                                                 \n",
      " batch_normalization_2 (Batc  (None, 1488, 256)        1024      \n",
      " hNormalization)                                                 \n",
      "                                                                 \n",
      " activation_2 (Activation)   (None, 1488, 256)         0         \n",
      "                                                                 \n",
      " MaxPooling1D_3 (MaxPooling1  (None, 744, 256)         0         \n",
      " D)                                                              \n",
      "                                                                 \n",
      " Conv_4 (Conv1D)             (None, 740, 256)          327936    \n",
      "                                                                 \n",
      " batch_normalization_3 (Batc  (None, 740, 256)         1024      \n",
      " hNormalization)                                                 \n",
      "                                                                 \n",
      " activation_3 (Activation)   (None, 740, 256)          0         \n",
      "                                                                 \n",
      " MaxPooling1D_4 (MaxPooling1  (None, 370, 256)         0         \n",
      " D)                                                              \n",
      "                                                                 \n",
      " flatten (Flatten)           (None, 94720)             0         \n",
      "                                                                 \n",
      " dropout (Dropout)           (None, 94720)             0         \n",
      "                                                                 \n",
      " fully_connected_0 (Dense)   (None, 256)               24248576  \n",
      "                                                                 \n",
      " fully_connected_1 (Dense)   (None, 64)                16448     \n",
      "                                                                 \n",
      " fully_connected_2 (Dense)   (None, 64)                4160      \n",
      "                                                                 \n",
      " OUT_Layer (Dense)           (None, 1)                 65        \n",
      "                                                                 \n",
      "=================================================================\n",
      "Total params: 24,839,105\n",
      "Trainable params: 24,837,697\n",
      "Non-trainable params: 1,408\n",
      "_________________________________________________________________\n"
     ]
    }
   ],
   "source": [
    "model = Sequential(name=\"Modelo_s_aureus_ciprofloxacin\")\n",
    "init_mode = 'normal'\n",
    "model.add(Conv1D(filters=(64), kernel_size=(17), input_shape = (n_timesteps,n_features), name='Conv_1'))\n",
    "model.add(BatchNormalization())\n",
    "model.add(Activation('relu'))\n",
    "model.add(MaxPooling1D(pool_size=2, name=\"MaxPooling1D_1\"))\n",
    "\n",
    "model.add(Conv1D(filters=(128), kernel_size=(9),kernel_initializer=init_mode, kernel_regularizer=regularizers.l2(0.0001),  name='Conv_2'))\n",
    "model.add(BatchNormalization())\n",
    "model.add(Activation('relu'))\n",
    "model.add(MaxPooling1D(pool_size=2, name=\"MaxPooling1D_2\"))\n",
    "\n",
    "model.add(Conv1D(filters=(256), kernel_size=(5),kernel_initializer=init_mode,kernel_regularizer=regularizers.l2(0.0001),   name='Conv_3'))\n",
    "model.add(BatchNormalization())\n",
    "model.add(Activation('relu'))\n",
    "model.add(MaxPooling1D(pool_size=2, name=\"MaxPooling1D_3\"))\n",
    "\n",
    "model.add(Conv1D(filters=(256), kernel_size=(5),kernel_initializer=init_mode, kernel_regularizer=regularizers.l2(0.0001),   name='Conv_4'))\n",
    "model.add(BatchNormalization())\n",
    "model.add(Activation('relu'))\n",
    "model.add(MaxPooling1D(pool_size=2, name=\"MaxPooling1D_4\"))\n",
    "\n",
    "model.add(Flatten())\n",
    "model.add(Dropout(0.65))\n",
    "model.add(Dense(256, activation='relu',kernel_initializer=init_mode, kernel_regularizer=regularizers.l2(0.0001), name=\"fully_connected_0\"))\n",
    "model.add(Dense(64, activation='relu',kernel_initializer=init_mode, kernel_regularizer=regularizers.l2(0.0001), name=\"fully_connected_1\"))\n",
    "model.add(Dense(64, activation='relu',kernel_initializer=init_mode, kernel_regularizer=regularizers.l2(0.0001),  name=\"fully_connected_2\"))\n",
    "model.add(Dense(n_features, activation='sigmoid', name=\"OUT_Layer\"))\n",
    "\n",
    "model.compile(optimizer = Adam(learning_rate=0.0001), loss = 'binary_crossentropy',  metrics=METRICS)\n",
    "model.summary()"
   ]
  },
  {
   "cell_type": "code",
   "execution_count": 17,
   "metadata": {},
   "outputs": [
    {
     "data": {
      "text/plain": [
       "(268, 6000, 1)"
      ]
     },
     "execution_count": 17,
     "metadata": {},
     "output_type": "execute_result"
    }
   ],
   "source": [
    "X_train_reshaped.shape"
   ]
  },
  {
   "cell_type": "code",
   "execution_count": 18,
   "metadata": {},
   "outputs": [
    {
     "data": {
      "text/plain": [
       "(268,)"
      ]
     },
     "execution_count": 18,
     "metadata": {},
     "output_type": "execute_result"
    }
   ],
   "source": [
    "y_resampled.shape"
   ]
  },
  {
   "cell_type": "code",
   "execution_count": 19,
   "metadata": {
    "colab": {
     "base_uri": "https://localhost:8080/"
    },
    "id": "lDksoJagl3H9",
    "outputId": "9e0d0c12-ce80-4bf1-ac57-0faf9891b578"
   },
   "outputs": [
    {
     "name": "stdout",
     "output_type": "stream",
     "text": [
      "Epoch 1/100\n"
     ]
    },
    {
     "name": "stderr",
     "output_type": "stream",
     "text": [
      "2025-01-19 14:31:18.097756: I tensorflow/stream_executor/cuda/cuda_dnn.cc:384] Loaded cuDNN version 8907\n",
      "2025-01-19 14:31:18.122734: I tensorflow/core/platform/default/subprocess.cc:304] Start cannot spawn child process: No such file or directory\n",
      "2025-01-19 14:31:18.998518: I tensorflow/stream_executor/cuda/cuda_blas.cc:1614] TensorFloat-32 will be used for the matrix multiplication. This will only be logged once.\n"
     ]
    },
    {
     "name": "stdout",
     "output_type": "stream",
     "text": [
      "25/25 [==============================] - 5s 70ms/step - loss: 7.1236 - tp: 51.0000 - fp: 57.0000 - tn: 77.0000 - fn: 56.0000 - accuracy: 0.5311 - precision: 0.4722 - recall: 0.4766 - auc: 0.5099 - prc: 0.4568 - val_loss: 6.7776 - val_tp: 27.0000 - val_fp: 0.0000e+00 - val_tn: 0.0000e+00 - val_fn: 0.0000e+00 - val_accuracy: 1.0000 - val_precision: 1.0000 - val_recall: 1.0000 - val_auc: 0.0000e+00 - val_prc: 1.0000 - lr: 1.0000e-04\n",
      "Epoch 2/100\n",
      "25/25 [==============================] - 1s 33ms/step - loss: 6.8813 - tp: 65.0000 - fp: 56.0000 - tn: 78.0000 - fn: 42.0000 - accuracy: 0.5934 - precision: 0.5372 - recall: 0.6075 - auc: 0.6093 - prc: 0.5098 - val_loss: 6.7509 - val_tp: 0.0000e+00 - val_fp: 0.0000e+00 - val_tn: 0.0000e+00 - val_fn: 27.0000 - val_accuracy: 0.0000e+00 - val_precision: 0.0000e+00 - val_recall: 0.0000e+00 - val_auc: 0.0000e+00 - val_prc: 1.0000 - lr: 1.0000e-04\n",
      "Epoch 3/100\n",
      "25/25 [==============================] - 1s 33ms/step - loss: 6.5640 - tp: 59.0000 - fp: 30.0000 - tn: 104.0000 - fn: 48.0000 - accuracy: 0.6763 - precision: 0.6629 - recall: 0.5514 - auc: 0.7444 - prc: 0.6557 - val_loss: 6.5354 - val_tp: 27.0000 - val_fp: 0.0000e+00 - val_tn: 0.0000e+00 - val_fn: 0.0000e+00 - val_accuracy: 1.0000 - val_precision: 1.0000 - val_recall: 1.0000 - val_auc: 0.0000e+00 - val_prc: 1.0000 - lr: 1.0000e-04\n",
      "Epoch 4/100\n",
      "25/25 [==============================] - 1s 34ms/step - loss: 6.5424 - tp: 70.0000 - fp: 42.0000 - tn: 92.0000 - fn: 37.0000 - accuracy: 0.6722 - precision: 0.6250 - recall: 0.6542 - auc: 0.7187 - prc: 0.6175 - val_loss: 6.5287 - val_tp: 7.0000 - val_fp: 0.0000e+00 - val_tn: 0.0000e+00 - val_fn: 20.0000 - val_accuracy: 0.2593 - val_precision: 1.0000 - val_recall: 0.2593 - val_auc: 0.0000e+00 - val_prc: 1.0000 - lr: 1.0000e-04\n",
      "Epoch 5/100\n",
      "25/25 [==============================] - 1s 34ms/step - loss: 6.4136 - tp: 65.0000 - fp: 39.0000 - tn: 95.0000 - fn: 42.0000 - accuracy: 0.6639 - precision: 0.6250 - recall: 0.6075 - auc: 0.7537 - prc: 0.6880 - val_loss: 6.4841 - val_tp: 0.0000e+00 - val_fp: 0.0000e+00 - val_tn: 0.0000e+00 - val_fn: 27.0000 - val_accuracy: 0.0000e+00 - val_precision: 0.0000e+00 - val_recall: 0.0000e+00 - val_auc: 0.0000e+00 - val_prc: 1.0000 - lr: 1.0000e-04\n",
      "Epoch 6/100\n",
      "25/25 [==============================] - 1s 33ms/step - loss: 6.2462 - tp: 73.0000 - fp: 29.0000 - tn: 105.0000 - fn: 34.0000 - accuracy: 0.7386 - precision: 0.7157 - recall: 0.6822 - auc: 0.8199 - prc: 0.7658 - val_loss: 6.4511 - val_tp: 0.0000e+00 - val_fp: 0.0000e+00 - val_tn: 0.0000e+00 - val_fn: 27.0000 - val_accuracy: 0.0000e+00 - val_precision: 0.0000e+00 - val_recall: 0.0000e+00 - val_auc: 0.0000e+00 - val_prc: 1.0000 - lr: 1.0000e-04\n",
      "Epoch 7/100\n",
      "25/25 [==============================] - 1s 28ms/step - loss: 6.1767 - tp: 70.0000 - fp: 31.0000 - tn: 103.0000 - fn: 37.0000 - accuracy: 0.7178 - precision: 0.6931 - recall: 0.6542 - auc: 0.8188 - prc: 0.7866 - val_loss: 6.5744 - val_tp: 0.0000e+00 - val_fp: 0.0000e+00 - val_tn: 0.0000e+00 - val_fn: 27.0000 - val_accuracy: 0.0000e+00 - val_precision: 0.0000e+00 - val_recall: 0.0000e+00 - val_auc: 0.0000e+00 - val_prc: 1.0000 - lr: 1.0000e-04\n",
      "Epoch 8/100\n",
      "25/25 [==============================] - 1s 30ms/step - loss: 6.0785 - tp: 76.0000 - fp: 27.0000 - tn: 107.0000 - fn: 31.0000 - accuracy: 0.7593 - precision: 0.7379 - recall: 0.7103 - auc: 0.8490 - prc: 0.8106 - val_loss: 6.4547 - val_tp: 0.0000e+00 - val_fp: 0.0000e+00 - val_tn: 0.0000e+00 - val_fn: 27.0000 - val_accuracy: 0.0000e+00 - val_precision: 0.0000e+00 - val_recall: 0.0000e+00 - val_auc: 0.0000e+00 - val_prc: 1.0000 - lr: 1.0000e-04\n",
      "Epoch 9/100\n",
      "25/25 [==============================] - 1s 34ms/step - loss: 5.9566 - tp: 83.0000 - fp: 25.0000 - tn: 109.0000 - fn: 24.0000 - accuracy: 0.7967 - precision: 0.7685 - recall: 0.7757 - auc: 0.8832 - prc: 0.8707 - val_loss: 6.2980 - val_tp: 0.0000e+00 - val_fp: 0.0000e+00 - val_tn: 0.0000e+00 - val_fn: 27.0000 - val_accuracy: 0.0000e+00 - val_precision: 0.0000e+00 - val_recall: 0.0000e+00 - val_auc: 0.0000e+00 - val_prc: 1.0000 - lr: 1.0000e-04\n",
      "Epoch 10/100\n",
      "25/25 [==============================] - 1s 30ms/step - loss: 5.9265 - tp: 79.0000 - fp: 34.0000 - tn: 100.0000 - fn: 28.0000 - accuracy: 0.7427 - precision: 0.6991 - recall: 0.7383 - auc: 0.8666 - prc: 0.8432 - val_loss: 6.5564 - val_tp: 0.0000e+00 - val_fp: 0.0000e+00 - val_tn: 0.0000e+00 - val_fn: 27.0000 - val_accuracy: 0.0000e+00 - val_precision: 0.0000e+00 - val_recall: 0.0000e+00 - val_auc: 0.0000e+00 - val_prc: 1.0000 - lr: 1.0000e-04\n",
      "Epoch 11/100\n",
      "25/25 [==============================] - 1s 30ms/step - loss: 5.8250 - tp: 82.0000 - fp: 22.0000 - tn: 112.0000 - fn: 25.0000 - accuracy: 0.8050 - precision: 0.7885 - recall: 0.7664 - auc: 0.8941 - prc: 0.8602 - val_loss: 6.3678 - val_tp: 0.0000e+00 - val_fp: 0.0000e+00 - val_tn: 0.0000e+00 - val_fn: 27.0000 - val_accuracy: 0.0000e+00 - val_precision: 0.0000e+00 - val_recall: 0.0000e+00 - val_auc: 0.0000e+00 - val_prc: 1.0000 - lr: 1.0000e-04\n",
      "Epoch 12/100\n",
      "25/25 [==============================] - 1s 34ms/step - loss: 5.7265 - tp: 90.0000 - fp: 20.0000 - tn: 114.0000 - fn: 17.0000 - accuracy: 0.8465 - precision: 0.8182 - recall: 0.8411 - auc: 0.9186 - prc: 0.8994 - val_loss: 6.2625 - val_tp: 0.0000e+00 - val_fp: 0.0000e+00 - val_tn: 0.0000e+00 - val_fn: 27.0000 - val_accuracy: 0.0000e+00 - val_precision: 0.0000e+00 - val_recall: 0.0000e+00 - val_auc: 0.0000e+00 - val_prc: 1.0000 - lr: 1.0000e-04\n",
      "Epoch 13/100\n",
      "25/25 [==============================] - 1s 30ms/step - loss: 5.6646 - tp: 93.0000 - fp: 19.0000 - tn: 115.0000 - fn: 14.0000 - accuracy: 0.8631 - precision: 0.8304 - recall: 0.8692 - auc: 0.9202 - prc: 0.8732 - val_loss: 6.5411 - val_tp: 0.0000e+00 - val_fp: 0.0000e+00 - val_tn: 0.0000e+00 - val_fn: 27.0000 - val_accuracy: 0.0000e+00 - val_precision: 0.0000e+00 - val_recall: 0.0000e+00 - val_auc: 0.0000e+00 - val_prc: 1.0000 - lr: 1.0000e-04\n",
      "Epoch 14/100\n",
      "25/25 [==============================] - 1s 30ms/step - loss: 5.6245 - tp: 89.0000 - fp: 20.0000 - tn: 114.0000 - fn: 18.0000 - accuracy: 0.8423 - precision: 0.8165 - recall: 0.8318 - auc: 0.9164 - prc: 0.8886 - val_loss: 6.3043 - val_tp: 0.0000e+00 - val_fp: 0.0000e+00 - val_tn: 0.0000e+00 - val_fn: 27.0000 - val_accuracy: 0.0000e+00 - val_precision: 0.0000e+00 - val_recall: 0.0000e+00 - val_auc: 0.0000e+00 - val_prc: 1.0000 - lr: 1.0000e-04\n",
      "Epoch 15/100\n",
      "25/25 [==============================] - 1s 31ms/step - loss: 5.6368 - tp: 80.0000 - fp: 20.0000 - tn: 114.0000 - fn: 27.0000 - accuracy: 0.8050 - precision: 0.8000 - recall: 0.7477 - auc: 0.8921 - prc: 0.8664 - val_loss: 6.2831 - val_tp: 1.0000 - val_fp: 0.0000e+00 - val_tn: 0.0000e+00 - val_fn: 26.0000 - val_accuracy: 0.0370 - val_precision: 1.0000 - val_recall: 0.0370 - val_auc: 0.0000e+00 - val_prc: 1.0000 - lr: 1.0000e-04\n",
      "Epoch 16/100\n",
      "25/25 [==============================] - 1s 34ms/step - loss: 5.5891 - tp: 87.0000 - fp: 20.0000 - tn: 114.0000 - fn: 20.0000 - accuracy: 0.8340 - precision: 0.8131 - recall: 0.8131 - auc: 0.9033 - prc: 0.8607 - val_loss: 6.0510 - val_tp: 4.0000 - val_fp: 0.0000e+00 - val_tn: 0.0000e+00 - val_fn: 23.0000 - val_accuracy: 0.1481 - val_precision: 1.0000 - val_recall: 0.1481 - val_auc: 0.0000e+00 - val_prc: 1.0000 - lr: 1.0000e-05\n",
      "Epoch 17/100\n",
      "25/25 [==============================] - 1s 33ms/step - loss: 5.5001 - tp: 91.0000 - fp: 18.0000 - tn: 116.0000 - fn: 16.0000 - accuracy: 0.8589 - precision: 0.8349 - recall: 0.8505 - auc: 0.9391 - prc: 0.9227 - val_loss: 5.9187 - val_tp: 7.0000 - val_fp: 0.0000e+00 - val_tn: 0.0000e+00 - val_fn: 20.0000 - val_accuracy: 0.2593 - val_precision: 1.0000 - val_recall: 0.2593 - val_auc: 0.0000e+00 - val_prc: 1.0000 - lr: 1.0000e-05\n",
      "Epoch 18/100\n",
      "25/25 [==============================] - 1s 33ms/step - loss: 5.4673 - tp: 97.0000 - fp: 20.0000 - tn: 114.0000 - fn: 10.0000 - accuracy: 0.8755 - precision: 0.8291 - recall: 0.9065 - auc: 0.9501 - prc: 0.9394 - val_loss: 5.8435 - val_tp: 13.0000 - val_fp: 0.0000e+00 - val_tn: 0.0000e+00 - val_fn: 14.0000 - val_accuracy: 0.4815 - val_precision: 1.0000 - val_recall: 0.4815 - val_auc: 0.0000e+00 - val_prc: 1.0000 - lr: 1.0000e-05\n",
      "Epoch 19/100\n",
      "25/25 [==============================] - 1s 34ms/step - loss: 5.4450 - tp: 90.0000 - fp: 12.0000 - tn: 122.0000 - fn: 17.0000 - accuracy: 0.8797 - precision: 0.8824 - recall: 0.8411 - auc: 0.9579 - prc: 0.9514 - val_loss: 5.7162 - val_tp: 22.0000 - val_fp: 0.0000e+00 - val_tn: 0.0000e+00 - val_fn: 5.0000 - val_accuracy: 0.8148 - val_precision: 1.0000 - val_recall: 0.8148 - val_auc: 0.0000e+00 - val_prc: 1.0000 - lr: 1.0000e-05\n",
      "Epoch 20/100\n",
      "25/25 [==============================] - 1s 34ms/step - loss: 5.4523 - tp: 96.0000 - fp: 21.0000 - tn: 113.0000 - fn: 11.0000 - accuracy: 0.8672 - precision: 0.8205 - recall: 0.8972 - auc: 0.9517 - prc: 0.9468 - val_loss: 5.6629 - val_tp: 22.0000 - val_fp: 0.0000e+00 - val_tn: 0.0000e+00 - val_fn: 5.0000 - val_accuracy: 0.8148 - val_precision: 1.0000 - val_recall: 0.8148 - val_auc: 0.0000e+00 - val_prc: 1.0000 - lr: 1.0000e-05\n",
      "Epoch 21/100\n",
      "25/25 [==============================] - 1s 34ms/step - loss: 5.4595 - tp: 92.0000 - fp: 14.0000 - tn: 120.0000 - fn: 15.0000 - accuracy: 0.8797 - precision: 0.8679 - recall: 0.8598 - auc: 0.9463 - prc: 0.9278 - val_loss: 5.5232 - val_tp: 27.0000 - val_fp: 0.0000e+00 - val_tn: 0.0000e+00 - val_fn: 0.0000e+00 - val_accuracy: 1.0000 - val_precision: 1.0000 - val_recall: 1.0000 - val_auc: 0.0000e+00 - val_prc: 1.0000 - lr: 1.0000e-05\n",
      "Epoch 22/100\n",
      "25/25 [==============================] - 1s 35ms/step - loss: 5.4409 - tp: 91.0000 - fp: 12.0000 - tn: 122.0000 - fn: 16.0000 - accuracy: 0.8838 - precision: 0.8835 - recall: 0.8505 - auc: 0.9528 - prc: 0.9238 - val_loss: 5.4169 - val_tp: 27.0000 - val_fp: 0.0000e+00 - val_tn: 0.0000e+00 - val_fn: 0.0000e+00 - val_accuracy: 1.0000 - val_precision: 1.0000 - val_recall: 1.0000 - val_auc: 0.0000e+00 - val_prc: 1.0000 - lr: 1.0000e-05\n",
      "Epoch 23/100\n",
      "25/25 [==============================] - 1s 34ms/step - loss: 5.4174 - tp: 92.0000 - fp: 12.0000 - tn: 122.0000 - fn: 15.0000 - accuracy: 0.8880 - precision: 0.8846 - recall: 0.8598 - auc: 0.9560 - prc: 0.9397 - val_loss: 5.3749 - val_tp: 27.0000 - val_fp: 0.0000e+00 - val_tn: 0.0000e+00 - val_fn: 0.0000e+00 - val_accuracy: 1.0000 - val_precision: 1.0000 - val_recall: 1.0000 - val_auc: 0.0000e+00 - val_prc: 1.0000 - lr: 1.0000e-05\n",
      "Epoch 24/100\n",
      "25/25 [==============================] - 1s 34ms/step - loss: 5.3937 - tp: 95.0000 - fp: 14.0000 - tn: 120.0000 - fn: 12.0000 - accuracy: 0.8921 - precision: 0.8716 - recall: 0.8879 - auc: 0.9649 - prc: 0.9579 - val_loss: 5.2967 - val_tp: 27.0000 - val_fp: 0.0000e+00 - val_tn: 0.0000e+00 - val_fn: 0.0000e+00 - val_accuracy: 1.0000 - val_precision: 1.0000 - val_recall: 1.0000 - val_auc: 0.0000e+00 - val_prc: 1.0000 - lr: 1.0000e-05\n",
      "Epoch 25/100\n",
      "25/25 [==============================] - 1s 33ms/step - loss: 5.4015 - tp: 96.0000 - fp: 15.0000 - tn: 119.0000 - fn: 11.0000 - accuracy: 0.8921 - precision: 0.8649 - recall: 0.8972 - auc: 0.9599 - prc: 0.9471 - val_loss: 5.2538 - val_tp: 27.0000 - val_fp: 0.0000e+00 - val_tn: 0.0000e+00 - val_fn: 0.0000e+00 - val_accuracy: 1.0000 - val_precision: 1.0000 - val_recall: 1.0000 - val_auc: 0.0000e+00 - val_prc: 1.0000 - lr: 1.0000e-05\n",
      "Epoch 26/100\n",
      "25/25 [==============================] - 1s 30ms/step - loss: 5.4638 - tp: 93.0000 - fp: 21.0000 - tn: 113.0000 - fn: 14.0000 - accuracy: 0.8548 - precision: 0.8158 - recall: 0.8692 - auc: 0.9306 - prc: 0.9003 - val_loss: 5.2650 - val_tp: 27.0000 - val_fp: 0.0000e+00 - val_tn: 0.0000e+00 - val_fn: 0.0000e+00 - val_accuracy: 1.0000 - val_precision: 1.0000 - val_recall: 1.0000 - val_auc: 0.0000e+00 - val_prc: 1.0000 - lr: 1.0000e-05\n",
      "Epoch 27/100\n",
      "25/25 [==============================] - 1s 34ms/step - loss: 5.3787 - tp: 95.0000 - fp: 14.0000 - tn: 120.0000 - fn: 12.0000 - accuracy: 0.8921 - precision: 0.8716 - recall: 0.8879 - auc: 0.9640 - prc: 0.9576 - val_loss: 5.2498 - val_tp: 27.0000 - val_fp: 0.0000e+00 - val_tn: 0.0000e+00 - val_fn: 0.0000e+00 - val_accuracy: 1.0000 - val_precision: 1.0000 - val_recall: 1.0000 - val_auc: 0.0000e+00 - val_prc: 1.0000 - lr: 1.0000e-05\n",
      "Epoch 28/100\n",
      "25/25 [==============================] - 1s 34ms/step - loss: 5.3827 - tp: 96.0000 - fp: 11.0000 - tn: 123.0000 - fn: 11.0000 - accuracy: 0.9087 - precision: 0.8972 - recall: 0.8972 - auc: 0.9612 - prc: 0.9496 - val_loss: 5.2088 - val_tp: 27.0000 - val_fp: 0.0000e+00 - val_tn: 0.0000e+00 - val_fn: 0.0000e+00 - val_accuracy: 1.0000 - val_precision: 1.0000 - val_recall: 1.0000 - val_auc: 0.0000e+00 - val_prc: 1.0000 - lr: 1.0000e-05\n",
      "Epoch 29/100\n",
      "25/25 [==============================] - 1s 30ms/step - loss: 5.3827 - tp: 97.0000 - fp: 15.0000 - tn: 119.0000 - fn: 10.0000 - accuracy: 0.8963 - precision: 0.8661 - recall: 0.9065 - auc: 0.9580 - prc: 0.9346 - val_loss: 5.2118 - val_tp: 27.0000 - val_fp: 0.0000e+00 - val_tn: 0.0000e+00 - val_fn: 0.0000e+00 - val_accuracy: 1.0000 - val_precision: 1.0000 - val_recall: 1.0000 - val_auc: 0.0000e+00 - val_prc: 1.0000 - lr: 1.0000e-05\n",
      "Epoch 30/100\n",
      "25/25 [==============================] - 1s 33ms/step - loss: 5.3739 - tp: 90.0000 - fp: 10.0000 - tn: 124.0000 - fn: 17.0000 - accuracy: 0.8880 - precision: 0.9000 - recall: 0.8411 - auc: 0.9615 - prc: 0.9521 - val_loss: 5.1672 - val_tp: 27.0000 - val_fp: 0.0000e+00 - val_tn: 0.0000e+00 - val_fn: 0.0000e+00 - val_accuracy: 1.0000 - val_precision: 1.0000 - val_recall: 1.0000 - val_auc: 0.0000e+00 - val_prc: 1.0000 - lr: 1.0000e-05\n",
      "Epoch 31/100\n",
      "25/25 [==============================] - 1s 30ms/step - loss: 5.4027 - tp: 96.0000 - fp: 21.0000 - tn: 113.0000 - fn: 11.0000 - accuracy: 0.8672 - precision: 0.8205 - recall: 0.8972 - auc: 0.9500 - prc: 0.9345 - val_loss: 5.1727 - val_tp: 27.0000 - val_fp: 0.0000e+00 - val_tn: 0.0000e+00 - val_fn: 0.0000e+00 - val_accuracy: 1.0000 - val_precision: 1.0000 - val_recall: 1.0000 - val_auc: 0.0000e+00 - val_prc: 1.0000 - lr: 1.0000e-05\n",
      "Epoch 32/100\n",
      "25/25 [==============================] - 1s 34ms/step - loss: 5.3756 - tp: 91.0000 - fp: 15.0000 - tn: 119.0000 - fn: 16.0000 - accuracy: 0.8714 - precision: 0.8585 - recall: 0.8505 - auc: 0.9586 - prc: 0.9538 - val_loss: 5.1523 - val_tp: 27.0000 - val_fp: 0.0000e+00 - val_tn: 0.0000e+00 - val_fn: 0.0000e+00 - val_accuracy: 1.0000 - val_precision: 1.0000 - val_recall: 1.0000 - val_auc: 0.0000e+00 - val_prc: 1.0000 - lr: 1.0000e-05\n",
      "Epoch 33/100\n",
      "25/25 [==============================] - 1s 33ms/step - loss: 5.3792 - tp: 97.0000 - fp: 18.0000 - tn: 116.0000 - fn: 10.0000 - accuracy: 0.8838 - precision: 0.8435 - recall: 0.9065 - auc: 0.9522 - prc: 0.9370 - val_loss: 5.1359 - val_tp: 27.0000 - val_fp: 0.0000e+00 - val_tn: 0.0000e+00 - val_fn: 0.0000e+00 - val_accuracy: 1.0000 - val_precision: 1.0000 - val_recall: 1.0000 - val_auc: 0.0000e+00 - val_prc: 1.0000 - lr: 1.0000e-05\n",
      "Epoch 34/100\n",
      "25/25 [==============================] - 1s 31ms/step - loss: 5.3373 - tp: 98.0000 - fp: 17.0000 - tn: 117.0000 - fn: 9.0000 - accuracy: 0.8921 - precision: 0.8522 - recall: 0.9159 - auc: 0.9666 - prc: 0.9571 - val_loss: 5.1425 - val_tp: 27.0000 - val_fp: 0.0000e+00 - val_tn: 0.0000e+00 - val_fn: 0.0000e+00 - val_accuracy: 1.0000 - val_precision: 1.0000 - val_recall: 1.0000 - val_auc: 0.0000e+00 - val_prc: 1.0000 - lr: 1.0000e-05\n",
      "Epoch 35/100\n",
      "25/25 [==============================] - 1s 31ms/step - loss: 5.4033 - tp: 92.0000 - fp: 15.0000 - tn: 119.0000 - fn: 15.0000 - accuracy: 0.8755 - precision: 0.8598 - recall: 0.8598 - auc: 0.9415 - prc: 0.9271 - val_loss: 5.1373 - val_tp: 27.0000 - val_fp: 0.0000e+00 - val_tn: 0.0000e+00 - val_fn: 0.0000e+00 - val_accuracy: 1.0000 - val_precision: 1.0000 - val_recall: 1.0000 - val_auc: 0.0000e+00 - val_prc: 1.0000 - lr: 1.0000e-05\n",
      "Epoch 36/100\n",
      "25/25 [==============================] - 1s 34ms/step - loss: 5.3307 - tp: 94.0000 - fp: 15.0000 - tn: 119.0000 - fn: 13.0000 - accuracy: 0.8838 - precision: 0.8624 - recall: 0.8785 - auc: 0.9627 - prc: 0.9475 - val_loss: 5.1315 - val_tp: 27.0000 - val_fp: 0.0000e+00 - val_tn: 0.0000e+00 - val_fn: 0.0000e+00 - val_accuracy: 1.0000 - val_precision: 1.0000 - val_recall: 1.0000 - val_auc: 0.0000e+00 - val_prc: 1.0000 - lr: 1.0000e-05\n",
      "Epoch 37/100\n",
      "25/25 [==============================] - 1s 30ms/step - loss: 5.3250 - tp: 95.0000 - fp: 13.0000 - tn: 121.0000 - fn: 12.0000 - accuracy: 0.8963 - precision: 0.8796 - recall: 0.8879 - auc: 0.9631 - prc: 0.9509 - val_loss: 5.1348 - val_tp: 27.0000 - val_fp: 0.0000e+00 - val_tn: 0.0000e+00 - val_fn: 0.0000e+00 - val_accuracy: 1.0000 - val_precision: 1.0000 - val_recall: 1.0000 - val_auc: 0.0000e+00 - val_prc: 1.0000 - lr: 1.0000e-05\n",
      "Epoch 38/100\n",
      "25/25 [==============================] - 1s 33ms/step - loss: 5.3398 - tp: 91.0000 - fp: 12.0000 - tn: 122.0000 - fn: 16.0000 - accuracy: 0.8838 - precision: 0.8835 - recall: 0.8505 - auc: 0.9582 - prc: 0.9416 - val_loss: 5.1063 - val_tp: 27.0000 - val_fp: 0.0000e+00 - val_tn: 0.0000e+00 - val_fn: 0.0000e+00 - val_accuracy: 1.0000 - val_precision: 1.0000 - val_recall: 1.0000 - val_auc: 0.0000e+00 - val_prc: 1.0000 - lr: 1.0000e-05\n",
      "Epoch 39/100\n",
      "25/25 [==============================] - 1s 30ms/step - loss: 5.3232 - tp: 99.0000 - fp: 16.0000 - tn: 118.0000 - fn: 8.0000 - accuracy: 0.9004 - precision: 0.8609 - recall: 0.9252 - auc: 0.9585 - prc: 0.9378 - val_loss: 5.1215 - val_tp: 27.0000 - val_fp: 0.0000e+00 - val_tn: 0.0000e+00 - val_fn: 0.0000e+00 - val_accuracy: 1.0000 - val_precision: 1.0000 - val_recall: 1.0000 - val_auc: 0.0000e+00 - val_prc: 1.0000 - lr: 1.0000e-05\n",
      "Epoch 40/100\n",
      "25/25 [==============================] - 1s 33ms/step - loss: 5.2582 - tp: 99.0000 - fp: 11.0000 - tn: 123.0000 - fn: 8.0000 - accuracy: 0.9212 - precision: 0.9000 - recall: 0.9252 - auc: 0.9781 - prc: 0.9668 - val_loss: 5.1013 - val_tp: 27.0000 - val_fp: 0.0000e+00 - val_tn: 0.0000e+00 - val_fn: 0.0000e+00 - val_accuracy: 1.0000 - val_precision: 1.0000 - val_recall: 1.0000 - val_auc: 0.0000e+00 - val_prc: 1.0000 - lr: 1.0000e-05\n",
      "Epoch 41/100\n",
      "25/25 [==============================] - 1s 33ms/step - loss: 5.2957 - tp: 95.0000 - fp: 10.0000 - tn: 124.0000 - fn: 12.0000 - accuracy: 0.9087 - precision: 0.9048 - recall: 0.8879 - auc: 0.9647 - prc: 0.9549 - val_loss: 5.0870 - val_tp: 27.0000 - val_fp: 0.0000e+00 - val_tn: 0.0000e+00 - val_fn: 0.0000e+00 - val_accuracy: 1.0000 - val_precision: 1.0000 - val_recall: 1.0000 - val_auc: 0.0000e+00 - val_prc: 1.0000 - lr: 1.0000e-05\n",
      "Epoch 42/100\n",
      "25/25 [==============================] - 1s 29ms/step - loss: 5.2880 - tp: 104.0000 - fp: 15.0000 - tn: 119.0000 - fn: 3.0000 - accuracy: 0.9253 - precision: 0.8739 - recall: 0.9720 - auc: 0.9639 - prc: 0.9441 - val_loss: 5.0922 - val_tp: 27.0000 - val_fp: 0.0000e+00 - val_tn: 0.0000e+00 - val_fn: 0.0000e+00 - val_accuracy: 1.0000 - val_precision: 1.0000 - val_recall: 1.0000 - val_auc: 0.0000e+00 - val_prc: 1.0000 - lr: 1.0000e-05\n",
      "Epoch 43/100\n",
      "25/25 [==============================] - 1s 34ms/step - loss: 5.2952 - tp: 91.0000 - fp: 11.0000 - tn: 123.0000 - fn: 16.0000 - accuracy: 0.8880 - precision: 0.8922 - recall: 0.8505 - auc: 0.9617 - prc: 0.9571 - val_loss: 5.0711 - val_tp: 27.0000 - val_fp: 0.0000e+00 - val_tn: 0.0000e+00 - val_fn: 0.0000e+00 - val_accuracy: 1.0000 - val_precision: 1.0000 - val_recall: 1.0000 - val_auc: 0.0000e+00 - val_prc: 1.0000 - lr: 1.0000e-05\n",
      "Epoch 44/100\n",
      "25/25 [==============================] - 1s 30ms/step - loss: 5.2510 - tp: 96.0000 - fp: 10.0000 - tn: 124.0000 - fn: 11.0000 - accuracy: 0.9129 - precision: 0.9057 - recall: 0.8972 - auc: 0.9734 - prc: 0.9632 - val_loss: 5.0793 - val_tp: 27.0000 - val_fp: 0.0000e+00 - val_tn: 0.0000e+00 - val_fn: 0.0000e+00 - val_accuracy: 1.0000 - val_precision: 1.0000 - val_recall: 1.0000 - val_auc: 0.0000e+00 - val_prc: 1.0000 - lr: 1.0000e-05\n",
      "Epoch 45/100\n",
      "25/25 [==============================] - 1s 34ms/step - loss: 5.2708 - tp: 96.0000 - fp: 11.0000 - tn: 123.0000 - fn: 11.0000 - accuracy: 0.9087 - precision: 0.8972 - recall: 0.8972 - auc: 0.9653 - prc: 0.9544 - val_loss: 5.0659 - val_tp: 27.0000 - val_fp: 0.0000e+00 - val_tn: 0.0000e+00 - val_fn: 0.0000e+00 - val_accuracy: 1.0000 - val_precision: 1.0000 - val_recall: 1.0000 - val_auc: 0.0000e+00 - val_prc: 1.0000 - lr: 1.0000e-05\n",
      "Epoch 46/100\n",
      "25/25 [==============================] - 1s 33ms/step - loss: 5.2598 - tp: 99.0000 - fp: 13.0000 - tn: 121.0000 - fn: 8.0000 - accuracy: 0.9129 - precision: 0.8839 - recall: 0.9252 - auc: 0.9673 - prc: 0.9568 - val_loss: 5.0489 - val_tp: 27.0000 - val_fp: 0.0000e+00 - val_tn: 0.0000e+00 - val_fn: 0.0000e+00 - val_accuracy: 1.0000 - val_precision: 1.0000 - val_recall: 1.0000 - val_auc: 0.0000e+00 - val_prc: 1.0000 - lr: 1.0000e-05\n",
      "Epoch 47/100\n",
      "25/25 [==============================] - 1s 33ms/step - loss: 5.2152 - tp: 95.0000 - fp: 7.0000 - tn: 127.0000 - fn: 12.0000 - accuracy: 0.9212 - precision: 0.9314 - recall: 0.8879 - auc: 0.9797 - prc: 0.9758 - val_loss: 5.0468 - val_tp: 27.0000 - val_fp: 0.0000e+00 - val_tn: 0.0000e+00 - val_fn: 0.0000e+00 - val_accuracy: 1.0000 - val_precision: 1.0000 - val_recall: 1.0000 - val_auc: 0.0000e+00 - val_prc: 1.0000 - lr: 1.0000e-05\n",
      "Epoch 48/100\n",
      "25/25 [==============================] - 1s 33ms/step - loss: 5.2789 - tp: 97.0000 - fp: 13.0000 - tn: 121.0000 - fn: 10.0000 - accuracy: 0.9046 - precision: 0.8818 - recall: 0.9065 - auc: 0.9576 - prc: 0.9325 - val_loss: 5.0429 - val_tp: 27.0000 - val_fp: 0.0000e+00 - val_tn: 0.0000e+00 - val_fn: 0.0000e+00 - val_accuracy: 1.0000 - val_precision: 1.0000 - val_recall: 1.0000 - val_auc: 0.0000e+00 - val_prc: 1.0000 - lr: 1.0000e-05\n",
      "Epoch 49/100\n",
      "25/25 [==============================] - 1s 33ms/step - loss: 5.1865 - tp: 101.0000 - fp: 8.0000 - tn: 126.0000 - fn: 6.0000 - accuracy: 0.9419 - precision: 0.9266 - recall: 0.9439 - auc: 0.9820 - prc: 0.9741 - val_loss: 5.0373 - val_tp: 27.0000 - val_fp: 0.0000e+00 - val_tn: 0.0000e+00 - val_fn: 0.0000e+00 - val_accuracy: 1.0000 - val_precision: 1.0000 - val_recall: 1.0000 - val_auc: 0.0000e+00 - val_prc: 1.0000 - lr: 1.0000e-05\n",
      "Epoch 50/100\n",
      "25/25 [==============================] - 1s 33ms/step - loss: 5.2306 - tp: 93.0000 - fp: 10.0000 - tn: 124.0000 - fn: 14.0000 - accuracy: 0.9004 - precision: 0.9029 - recall: 0.8692 - auc: 0.9684 - prc: 0.9598 - val_loss: 5.0359 - val_tp: 27.0000 - val_fp: 0.0000e+00 - val_tn: 0.0000e+00 - val_fn: 0.0000e+00 - val_accuracy: 1.0000 - val_precision: 1.0000 - val_recall: 1.0000 - val_auc: 0.0000e+00 - val_prc: 1.0000 - lr: 1.0000e-05\n",
      "Epoch 51/100\n",
      "25/25 [==============================] - 1s 33ms/step - loss: 5.2693 - tp: 93.0000 - fp: 13.0000 - tn: 121.0000 - fn: 14.0000 - accuracy: 0.8880 - precision: 0.8774 - recall: 0.8692 - auc: 0.9549 - prc: 0.9372 - val_loss: 5.0213 - val_tp: 27.0000 - val_fp: 0.0000e+00 - val_tn: 0.0000e+00 - val_fn: 0.0000e+00 - val_accuracy: 1.0000 - val_precision: 1.0000 - val_recall: 1.0000 - val_auc: 0.0000e+00 - val_prc: 1.0000 - lr: 1.0000e-05\n",
      "Epoch 52/100\n",
      "25/25 [==============================] - 1s 34ms/step - loss: 5.2003 - tp: 98.0000 - fp: 10.0000 - tn: 124.0000 - fn: 9.0000 - accuracy: 0.9212 - precision: 0.9074 - recall: 0.9159 - auc: 0.9747 - prc: 0.9638 - val_loss: 5.0213 - val_tp: 27.0000 - val_fp: 0.0000e+00 - val_tn: 0.0000e+00 - val_fn: 0.0000e+00 - val_accuracy: 1.0000 - val_precision: 1.0000 - val_recall: 1.0000 - val_auc: 0.0000e+00 - val_prc: 1.0000 - lr: 1.0000e-05\n",
      "Epoch 53/100\n",
      "25/25 [==============================] - 1s 33ms/step - loss: 5.2078 - tp: 90.0000 - fp: 8.0000 - tn: 126.0000 - fn: 17.0000 - accuracy: 0.8963 - precision: 0.9184 - recall: 0.8411 - auc: 0.9762 - prc: 0.9705 - val_loss: 5.0176 - val_tp: 27.0000 - val_fp: 0.0000e+00 - val_tn: 0.0000e+00 - val_fn: 0.0000e+00 - val_accuracy: 1.0000 - val_precision: 1.0000 - val_recall: 1.0000 - val_auc: 0.0000e+00 - val_prc: 1.0000 - lr: 1.0000e-05\n",
      "Epoch 54/100\n",
      "25/25 [==============================] - 1s 30ms/step - loss: 5.1925 - tp: 99.0000 - fp: 15.0000 - tn: 119.0000 - fn: 8.0000 - accuracy: 0.9046 - precision: 0.8684 - recall: 0.9252 - auc: 0.9738 - prc: 0.9658 - val_loss: 5.0222 - val_tp: 27.0000 - val_fp: 0.0000e+00 - val_tn: 0.0000e+00 - val_fn: 0.0000e+00 - val_accuracy: 1.0000 - val_precision: 1.0000 - val_recall: 1.0000 - val_auc: 0.0000e+00 - val_prc: 1.0000 - lr: 1.0000e-05\n",
      "Epoch 55/100\n",
      "25/25 [==============================] - 1s 33ms/step - loss: 5.1848 - tp: 96.0000 - fp: 7.0000 - tn: 127.0000 - fn: 11.0000 - accuracy: 0.9253 - precision: 0.9320 - recall: 0.8972 - auc: 0.9735 - prc: 0.9659 - val_loss: 4.9983 - val_tp: 27.0000 - val_fp: 0.0000e+00 - val_tn: 0.0000e+00 - val_fn: 0.0000e+00 - val_accuracy: 1.0000 - val_precision: 1.0000 - val_recall: 1.0000 - val_auc: 0.0000e+00 - val_prc: 1.0000 - lr: 1.0000e-05\n",
      "Epoch 56/100\n",
      "25/25 [==============================] - 1s 33ms/step - loss: 5.1834 - tp: 94.0000 - fp: 9.0000 - tn: 125.0000 - fn: 13.0000 - accuracy: 0.9087 - precision: 0.9126 - recall: 0.8785 - auc: 0.9733 - prc: 0.9674 - val_loss: 4.9982 - val_tp: 27.0000 - val_fp: 0.0000e+00 - val_tn: 0.0000e+00 - val_fn: 0.0000e+00 - val_accuracy: 1.0000 - val_precision: 1.0000 - val_recall: 1.0000 - val_auc: 0.0000e+00 - val_prc: 1.0000 - lr: 1.0000e-05\n",
      "Epoch 57/100\n",
      "25/25 [==============================] - 1s 33ms/step - loss: 5.1688 - tp: 101.0000 - fp: 13.0000 - tn: 121.0000 - fn: 6.0000 - accuracy: 0.9212 - precision: 0.8860 - recall: 0.9439 - auc: 0.9753 - prc: 0.9635 - val_loss: 4.9970 - val_tp: 27.0000 - val_fp: 0.0000e+00 - val_tn: 0.0000e+00 - val_fn: 0.0000e+00 - val_accuracy: 1.0000 - val_precision: 1.0000 - val_recall: 1.0000 - val_auc: 0.0000e+00 - val_prc: 1.0000 - lr: 1.0000e-05\n",
      "Epoch 58/100\n",
      "25/25 [==============================] - 1s 33ms/step - loss: 5.1552 - tp: 100.0000 - fp: 11.0000 - tn: 123.0000 - fn: 7.0000 - accuracy: 0.9253 - precision: 0.9009 - recall: 0.9346 - auc: 0.9778 - prc: 0.9703 - val_loss: 4.9854 - val_tp: 27.0000 - val_fp: 0.0000e+00 - val_tn: 0.0000e+00 - val_fn: 0.0000e+00 - val_accuracy: 1.0000 - val_precision: 1.0000 - val_recall: 1.0000 - val_auc: 0.0000e+00 - val_prc: 1.0000 - lr: 1.0000e-05\n",
      "Epoch 59/100\n",
      "25/25 [==============================] - 1s 34ms/step - loss: 5.1562 - tp: 98.0000 - fp: 11.0000 - tn: 123.0000 - fn: 9.0000 - accuracy: 0.9170 - precision: 0.8991 - recall: 0.9159 - auc: 0.9755 - prc: 0.9662 - val_loss: 4.9808 - val_tp: 27.0000 - val_fp: 0.0000e+00 - val_tn: 0.0000e+00 - val_fn: 0.0000e+00 - val_accuracy: 1.0000 - val_precision: 1.0000 - val_recall: 1.0000 - val_auc: 0.0000e+00 - val_prc: 1.0000 - lr: 1.0000e-05\n",
      "Epoch 60/100\n",
      "25/25 [==============================] - 1s 34ms/step - loss: 5.1281 - tp: 102.0000 - fp: 10.0000 - tn: 124.0000 - fn: 5.0000 - accuracy: 0.9378 - precision: 0.9107 - recall: 0.9533 - auc: 0.9813 - prc: 0.9760 - val_loss: 4.9692 - val_tp: 27.0000 - val_fp: 0.0000e+00 - val_tn: 0.0000e+00 - val_fn: 0.0000e+00 - val_accuracy: 1.0000 - val_precision: 1.0000 - val_recall: 1.0000 - val_auc: 0.0000e+00 - val_prc: 1.0000 - lr: 1.0000e-05\n",
      "Epoch 61/100\n",
      "25/25 [==============================] - 1s 34ms/step - loss: 5.1291 - tp: 100.0000 - fp: 10.0000 - tn: 124.0000 - fn: 7.0000 - accuracy: 0.9295 - precision: 0.9091 - recall: 0.9346 - auc: 0.9788 - prc: 0.9704 - val_loss: 4.9629 - val_tp: 27.0000 - val_fp: 0.0000e+00 - val_tn: 0.0000e+00 - val_fn: 0.0000e+00 - val_accuracy: 1.0000 - val_precision: 1.0000 - val_recall: 1.0000 - val_auc: 0.0000e+00 - val_prc: 1.0000 - lr: 1.0000e-05\n",
      "Epoch 62/100\n",
      "25/25 [==============================] - 1s 34ms/step - loss: 5.1069 - tp: 98.0000 - fp: 8.0000 - tn: 126.0000 - fn: 9.0000 - accuracy: 0.9295 - precision: 0.9245 - recall: 0.9159 - auc: 0.9844 - prc: 0.9807 - val_loss: 4.9555 - val_tp: 27.0000 - val_fp: 0.0000e+00 - val_tn: 0.0000e+00 - val_fn: 0.0000e+00 - val_accuracy: 1.0000 - val_precision: 1.0000 - val_recall: 1.0000 - val_auc: 0.0000e+00 - val_prc: 1.0000 - lr: 1.0000e-05\n",
      "Epoch 63/100\n",
      "25/25 [==============================] - 1s 29ms/step - loss: 5.1256 - tp: 96.0000 - fp: 10.0000 - tn: 124.0000 - fn: 11.0000 - accuracy: 0.9129 - precision: 0.9057 - recall: 0.8972 - auc: 0.9783 - prc: 0.9737 - val_loss: 4.9644 - val_tp: 27.0000 - val_fp: 0.0000e+00 - val_tn: 0.0000e+00 - val_fn: 0.0000e+00 - val_accuracy: 1.0000 - val_precision: 1.0000 - val_recall: 1.0000 - val_auc: 0.0000e+00 - val_prc: 1.0000 - lr: 1.0000e-05\n",
      "Epoch 64/100\n",
      "25/25 [==============================] - 1s 33ms/step - loss: 5.1041 - tp: 98.0000 - fp: 10.0000 - tn: 124.0000 - fn: 9.0000 - accuracy: 0.9212 - precision: 0.9074 - recall: 0.9159 - auc: 0.9820 - prc: 0.9778 - val_loss: 4.9468 - val_tp: 27.0000 - val_fp: 0.0000e+00 - val_tn: 0.0000e+00 - val_fn: 0.0000e+00 - val_accuracy: 1.0000 - val_precision: 1.0000 - val_recall: 1.0000 - val_auc: 0.0000e+00 - val_prc: 1.0000 - lr: 1.0000e-05\n",
      "Epoch 65/100\n",
      "25/25 [==============================] - 1s 33ms/step - loss: 5.1123 - tp: 99.0000 - fp: 13.0000 - tn: 121.0000 - fn: 8.0000 - accuracy: 0.9129 - precision: 0.8839 - recall: 0.9252 - auc: 0.9771 - prc: 0.9711 - val_loss: 4.9444 - val_tp: 27.0000 - val_fp: 0.0000e+00 - val_tn: 0.0000e+00 - val_fn: 0.0000e+00 - val_accuracy: 1.0000 - val_precision: 1.0000 - val_recall: 1.0000 - val_auc: 0.0000e+00 - val_prc: 1.0000 - lr: 1.0000e-05\n",
      "Epoch 66/100\n",
      "25/25 [==============================] - 1s 33ms/step - loss: 5.0803 - tp: 101.0000 - fp: 8.0000 - tn: 126.0000 - fn: 6.0000 - accuracy: 0.9419 - precision: 0.9266 - recall: 0.9439 - auc: 0.9842 - prc: 0.9761 - val_loss: 4.9334 - val_tp: 27.0000 - val_fp: 0.0000e+00 - val_tn: 0.0000e+00 - val_fn: 0.0000e+00 - val_accuracy: 1.0000 - val_precision: 1.0000 - val_recall: 1.0000 - val_auc: 0.0000e+00 - val_prc: 1.0000 - lr: 1.0000e-05\n",
      "Epoch 67/100\n",
      "25/25 [==============================] - 1s 33ms/step - loss: 5.0669 - tp: 101.0000 - fp: 6.0000 - tn: 128.0000 - fn: 6.0000 - accuracy: 0.9502 - precision: 0.9439 - recall: 0.9439 - auc: 0.9864 - prc: 0.9826 - val_loss: 4.9226 - val_tp: 27.0000 - val_fp: 0.0000e+00 - val_tn: 0.0000e+00 - val_fn: 0.0000e+00 - val_accuracy: 1.0000 - val_precision: 1.0000 - val_recall: 1.0000 - val_auc: 0.0000e+00 - val_prc: 1.0000 - lr: 1.0000e-05\n",
      "Epoch 68/100\n",
      "25/25 [==============================] - 1s 34ms/step - loss: 5.1071 - tp: 97.0000 - fp: 10.0000 - tn: 124.0000 - fn: 10.0000 - accuracy: 0.9170 - precision: 0.9065 - recall: 0.9065 - auc: 0.9731 - prc: 0.9606 - val_loss: 4.9224 - val_tp: 27.0000 - val_fp: 0.0000e+00 - val_tn: 0.0000e+00 - val_fn: 0.0000e+00 - val_accuracy: 1.0000 - val_precision: 1.0000 - val_recall: 1.0000 - val_auc: 0.0000e+00 - val_prc: 1.0000 - lr: 1.0000e-05\n",
      "Epoch 69/100\n",
      "25/25 [==============================] - 1s 33ms/step - loss: 5.0407 - tp: 103.0000 - fp: 10.0000 - tn: 124.0000 - fn: 4.0000 - accuracy: 0.9419 - precision: 0.9115 - recall: 0.9626 - auc: 0.9887 - prc: 0.9850 - val_loss: 4.9169 - val_tp: 27.0000 - val_fp: 0.0000e+00 - val_tn: 0.0000e+00 - val_fn: 0.0000e+00 - val_accuracy: 1.0000 - val_precision: 1.0000 - val_recall: 1.0000 - val_auc: 0.0000e+00 - val_prc: 1.0000 - lr: 1.0000e-05\n",
      "Epoch 70/100\n",
      "25/25 [==============================] - 1s 32ms/step - loss: 5.0470 - tp: 99.0000 - fp: 8.0000 - tn: 126.0000 - fn: 8.0000 - accuracy: 0.9336 - precision: 0.9252 - recall: 0.9252 - auc: 0.9855 - prc: 0.9798 - val_loss: 4.9090 - val_tp: 27.0000 - val_fp: 0.0000e+00 - val_tn: 0.0000e+00 - val_fn: 0.0000e+00 - val_accuracy: 1.0000 - val_precision: 1.0000 - val_recall: 1.0000 - val_auc: 0.0000e+00 - val_prc: 1.0000 - lr: 1.0000e-05\n",
      "Epoch 71/100\n",
      "25/25 [==============================] - 1s 33ms/step - loss: 5.0212 - tp: 101.0000 - fp: 6.0000 - tn: 128.0000 - fn: 6.0000 - accuracy: 0.9502 - precision: 0.9439 - recall: 0.9439 - auc: 0.9900 - prc: 0.9873 - val_loss: 4.8934 - val_tp: 27.0000 - val_fp: 0.0000e+00 - val_tn: 0.0000e+00 - val_fn: 0.0000e+00 - val_accuracy: 1.0000 - val_precision: 1.0000 - val_recall: 1.0000 - val_auc: 0.0000e+00 - val_prc: 1.0000 - lr: 1.0000e-05\n",
      "Epoch 72/100\n",
      "25/25 [==============================] - 1s 29ms/step - loss: 5.0716 - tp: 99.0000 - fp: 10.0000 - tn: 124.0000 - fn: 8.0000 - accuracy: 0.9253 - precision: 0.9083 - recall: 0.9252 - auc: 0.9773 - prc: 0.9692 - val_loss: 4.8966 - val_tp: 27.0000 - val_fp: 0.0000e+00 - val_tn: 0.0000e+00 - val_fn: 0.0000e+00 - val_accuracy: 1.0000 - val_precision: 1.0000 - val_recall: 1.0000 - val_auc: 0.0000e+00 - val_prc: 1.0000 - lr: 1.0000e-05\n",
      "Epoch 73/100\n",
      "25/25 [==============================] - 1s 33ms/step - loss: 5.0507 - tp: 98.0000 - fp: 7.0000 - tn: 127.0000 - fn: 9.0000 - accuracy: 0.9336 - precision: 0.9333 - recall: 0.9159 - auc: 0.9817 - prc: 0.9794 - val_loss: 4.8840 - val_tp: 27.0000 - val_fp: 0.0000e+00 - val_tn: 0.0000e+00 - val_fn: 0.0000e+00 - val_accuracy: 1.0000 - val_precision: 1.0000 - val_recall: 1.0000 - val_auc: 0.0000e+00 - val_prc: 1.0000 - lr: 1.0000e-05\n",
      "Epoch 74/100\n",
      "25/25 [==============================] - 1s 29ms/step - loss: 5.0454 - tp: 100.0000 - fp: 13.0000 - tn: 121.0000 - fn: 7.0000 - accuracy: 0.9170 - precision: 0.8850 - recall: 0.9346 - auc: 0.9819 - prc: 0.9768 - val_loss: 4.8889 - val_tp: 27.0000 - val_fp: 0.0000e+00 - val_tn: 0.0000e+00 - val_fn: 0.0000e+00 - val_accuracy: 1.0000 - val_precision: 1.0000 - val_recall: 1.0000 - val_auc: 0.0000e+00 - val_prc: 1.0000 - lr: 1.0000e-05\n",
      "Epoch 75/100\n",
      "25/25 [==============================] - 1s 33ms/step - loss: 5.0244 - tp: 100.0000 - fp: 6.0000 - tn: 128.0000 - fn: 7.0000 - accuracy: 0.9461 - precision: 0.9434 - recall: 0.9346 - auc: 0.9836 - prc: 0.9712 - val_loss: 4.8786 - val_tp: 27.0000 - val_fp: 0.0000e+00 - val_tn: 0.0000e+00 - val_fn: 0.0000e+00 - val_accuracy: 1.0000 - val_precision: 1.0000 - val_recall: 1.0000 - val_auc: 0.0000e+00 - val_prc: 1.0000 - lr: 1.0000e-05\n",
      "Epoch 76/100\n",
      "25/25 [==============================] - 1s 33ms/step - loss: 4.9990 - tp: 101.0000 - fp: 9.0000 - tn: 125.0000 - fn: 6.0000 - accuracy: 0.9378 - precision: 0.9182 - recall: 0.9439 - auc: 0.9879 - prc: 0.9840 - val_loss: 4.8676 - val_tp: 27.0000 - val_fp: 0.0000e+00 - val_tn: 0.0000e+00 - val_fn: 0.0000e+00 - val_accuracy: 1.0000 - val_precision: 1.0000 - val_recall: 1.0000 - val_auc: 0.0000e+00 - val_prc: 1.0000 - lr: 1.0000e-05\n",
      "Epoch 77/100\n",
      "25/25 [==============================] - 1s 29ms/step - loss: 4.9835 - tp: 102.0000 - fp: 6.0000 - tn: 128.0000 - fn: 5.0000 - accuracy: 0.9544 - precision: 0.9444 - recall: 0.9533 - auc: 0.9911 - prc: 0.9894 - val_loss: 4.8715 - val_tp: 27.0000 - val_fp: 0.0000e+00 - val_tn: 0.0000e+00 - val_fn: 0.0000e+00 - val_accuracy: 1.0000 - val_precision: 1.0000 - val_recall: 1.0000 - val_auc: 0.0000e+00 - val_prc: 1.0000 - lr: 1.0000e-05\n",
      "Epoch 78/100\n",
      "25/25 [==============================] - 1s 34ms/step - loss: 4.9975 - tp: 101.0000 - fp: 8.0000 - tn: 126.0000 - fn: 6.0000 - accuracy: 0.9419 - precision: 0.9266 - recall: 0.9439 - auc: 0.9851 - prc: 0.9815 - val_loss: 4.8565 - val_tp: 27.0000 - val_fp: 0.0000e+00 - val_tn: 0.0000e+00 - val_fn: 0.0000e+00 - val_accuracy: 1.0000 - val_precision: 1.0000 - val_recall: 1.0000 - val_auc: 0.0000e+00 - val_prc: 1.0000 - lr: 1.0000e-05\n",
      "Epoch 79/100\n",
      "25/25 [==============================] - 1s 33ms/step - loss: 4.9937 - tp: 99.0000 - fp: 8.0000 - tn: 126.0000 - fn: 8.0000 - accuracy: 0.9336 - precision: 0.9252 - recall: 0.9252 - auc: 0.9854 - prc: 0.9811 - val_loss: 4.8486 - val_tp: 27.0000 - val_fp: 0.0000e+00 - val_tn: 0.0000e+00 - val_fn: 0.0000e+00 - val_accuracy: 1.0000 - val_precision: 1.0000 - val_recall: 1.0000 - val_auc: 0.0000e+00 - val_prc: 1.0000 - lr: 1.0000e-05\n",
      "Epoch 80/100\n",
      "25/25 [==============================] - 1s 28ms/step - loss: 4.9605 - tp: 104.0000 - fp: 11.0000 - tn: 123.0000 - fn: 3.0000 - accuracy: 0.9419 - precision: 0.9043 - recall: 0.9720 - auc: 0.9930 - prc: 0.9916 - val_loss: 4.8494 - val_tp: 27.0000 - val_fp: 0.0000e+00 - val_tn: 0.0000e+00 - val_fn: 0.0000e+00 - val_accuracy: 1.0000 - val_precision: 1.0000 - val_recall: 1.0000 - val_auc: 0.0000e+00 - val_prc: 1.0000 - lr: 1.0000e-05\n",
      "Epoch 81/100\n",
      "25/25 [==============================] - 1s 34ms/step - loss: 4.9749 - tp: 102.0000 - fp: 9.0000 - tn: 125.0000 - fn: 5.0000 - accuracy: 0.9419 - precision: 0.9189 - recall: 0.9533 - auc: 0.9885 - prc: 0.9864 - val_loss: 4.8445 - val_tp: 27.0000 - val_fp: 0.0000e+00 - val_tn: 0.0000e+00 - val_fn: 0.0000e+00 - val_accuracy: 1.0000 - val_precision: 1.0000 - val_recall: 1.0000 - val_auc: 0.0000e+00 - val_prc: 1.0000 - lr: 1.0000e-05\n",
      "Epoch 82/100\n",
      "25/25 [==============================] - 1s 33ms/step - loss: 4.9666 - tp: 101.0000 - fp: 6.0000 - tn: 128.0000 - fn: 6.0000 - accuracy: 0.9502 - precision: 0.9439 - recall: 0.9439 - auc: 0.9862 - prc: 0.9792 - val_loss: 4.8330 - val_tp: 27.0000 - val_fp: 0.0000e+00 - val_tn: 0.0000e+00 - val_fn: 0.0000e+00 - val_accuracy: 1.0000 - val_precision: 1.0000 - val_recall: 1.0000 - val_auc: 0.0000e+00 - val_prc: 1.0000 - lr: 1.0000e-05\n",
      "Epoch 83/100\n",
      "25/25 [==============================] - 1s 34ms/step - loss: 4.9810 - tp: 100.0000 - fp: 8.0000 - tn: 126.0000 - fn: 7.0000 - accuracy: 0.9378 - precision: 0.9259 - recall: 0.9346 - auc: 0.9828 - prc: 0.9755 - val_loss: 4.8312 - val_tp: 27.0000 - val_fp: 0.0000e+00 - val_tn: 0.0000e+00 - val_fn: 0.0000e+00 - val_accuracy: 1.0000 - val_precision: 1.0000 - val_recall: 1.0000 - val_auc: 0.0000e+00 - val_prc: 1.0000 - lr: 1.0000e-05\n",
      "Epoch 84/100\n",
      "25/25 [==============================] - 1s 34ms/step - loss: 4.9627 - tp: 101.0000 - fp: 9.0000 - tn: 125.0000 - fn: 6.0000 - accuracy: 0.9378 - precision: 0.9182 - recall: 0.9439 - auc: 0.9866 - prc: 0.9811 - val_loss: 4.8197 - val_tp: 27.0000 - val_fp: 0.0000e+00 - val_tn: 0.0000e+00 - val_fn: 0.0000e+00 - val_accuracy: 1.0000 - val_precision: 1.0000 - val_recall: 1.0000 - val_auc: 0.0000e+00 - val_prc: 1.0000 - lr: 1.0000e-05\n",
      "Epoch 85/100\n",
      "25/25 [==============================] - 1s 34ms/step - loss: 4.9816 - tp: 98.0000 - fp: 10.0000 - tn: 124.0000 - fn: 9.0000 - accuracy: 0.9212 - precision: 0.9074 - recall: 0.9159 - auc: 0.9807 - prc: 0.9768 - val_loss: 4.8154 - val_tp: 27.0000 - val_fp: 0.0000e+00 - val_tn: 0.0000e+00 - val_fn: 0.0000e+00 - val_accuracy: 1.0000 - val_precision: 1.0000 - val_recall: 1.0000 - val_auc: 0.0000e+00 - val_prc: 1.0000 - lr: 1.0000e-05\n",
      "Epoch 86/100\n",
      "25/25 [==============================] - 1s 34ms/step - loss: 4.9771 - tp: 102.0000 - fp: 11.0000 - tn: 123.0000 - fn: 5.0000 - accuracy: 0.9336 - precision: 0.9027 - recall: 0.9533 - auc: 0.9785 - prc: 0.9706 - val_loss: 4.8087 - val_tp: 27.0000 - val_fp: 0.0000e+00 - val_tn: 0.0000e+00 - val_fn: 0.0000e+00 - val_accuracy: 1.0000 - val_precision: 1.0000 - val_recall: 1.0000 - val_auc: 0.0000e+00 - val_prc: 1.0000 - lr: 1.0000e-05\n",
      "Epoch 87/100\n",
      "25/25 [==============================] - 1s 30ms/step - loss: 4.9477 - tp: 102.0000 - fp: 9.0000 - tn: 125.0000 - fn: 5.0000 - accuracy: 0.9419 - precision: 0.9189 - recall: 0.9533 - auc: 0.9837 - prc: 0.9766 - val_loss: 4.8177 - val_tp: 27.0000 - val_fp: 0.0000e+00 - val_tn: 0.0000e+00 - val_fn: 0.0000e+00 - val_accuracy: 1.0000 - val_precision: 1.0000 - val_recall: 1.0000 - val_auc: 0.0000e+00 - val_prc: 1.0000 - lr: 1.0000e-05\n",
      "Epoch 88/100\n",
      "25/25 [==============================] - 1s 34ms/step - loss: 4.9596 - tp: 98.0000 - fp: 8.0000 - tn: 126.0000 - fn: 9.0000 - accuracy: 0.9295 - precision: 0.9245 - recall: 0.9159 - auc: 0.9789 - prc: 0.9559 - val_loss: 4.8005 - val_tp: 27.0000 - val_fp: 0.0000e+00 - val_tn: 0.0000e+00 - val_fn: 0.0000e+00 - val_accuracy: 1.0000 - val_precision: 1.0000 - val_recall: 1.0000 - val_auc: 0.0000e+00 - val_prc: 1.0000 - lr: 1.0000e-05\n",
      "Epoch 89/100\n",
      "25/25 [==============================] - 1s 35ms/step - loss: 4.9130 - tp: 101.0000 - fp: 6.0000 - tn: 128.0000 - fn: 6.0000 - accuracy: 0.9502 - precision: 0.9439 - recall: 0.9439 - auc: 0.9894 - prc: 0.9855 - val_loss: 4.7891 - val_tp: 27.0000 - val_fp: 0.0000e+00 - val_tn: 0.0000e+00 - val_fn: 0.0000e+00 - val_accuracy: 1.0000 - val_precision: 1.0000 - val_recall: 1.0000 - val_auc: 0.0000e+00 - val_prc: 1.0000 - lr: 1.0000e-05\n",
      "Epoch 90/100\n",
      "25/25 [==============================] - 1s 34ms/step - loss: 4.8780 - tp: 103.0000 - fp: 6.0000 - tn: 128.0000 - fn: 4.0000 - accuracy: 0.9585 - precision: 0.9450 - recall: 0.9626 - auc: 0.9943 - prc: 0.9926 - val_loss: 4.7815 - val_tp: 27.0000 - val_fp: 0.0000e+00 - val_tn: 0.0000e+00 - val_fn: 0.0000e+00 - val_accuracy: 1.0000 - val_precision: 1.0000 - val_recall: 1.0000 - val_auc: 0.0000e+00 - val_prc: 1.0000 - lr: 1.0000e-05\n",
      "Epoch 91/100\n",
      "25/25 [==============================] - 1s 33ms/step - loss: 4.9019 - tp: 101.0000 - fp: 7.0000 - tn: 127.0000 - fn: 6.0000 - accuracy: 0.9461 - precision: 0.9352 - recall: 0.9439 - auc: 0.9904 - prc: 0.9882 - val_loss: 4.7763 - val_tp: 27.0000 - val_fp: 0.0000e+00 - val_tn: 0.0000e+00 - val_fn: 0.0000e+00 - val_accuracy: 1.0000 - val_precision: 1.0000 - val_recall: 1.0000 - val_auc: 0.0000e+00 - val_prc: 1.0000 - lr: 1.0000e-05\n",
      "Epoch 92/100\n",
      "25/25 [==============================] - 1s 33ms/step - loss: 4.9283 - tp: 99.0000 - fp: 8.0000 - tn: 126.0000 - fn: 8.0000 - accuracy: 0.9336 - precision: 0.9252 - recall: 0.9252 - auc: 0.9836 - prc: 0.9801 - val_loss: 4.7720 - val_tp: 27.0000 - val_fp: 0.0000e+00 - val_tn: 0.0000e+00 - val_fn: 0.0000e+00 - val_accuracy: 1.0000 - val_precision: 1.0000 - val_recall: 1.0000 - val_auc: 0.0000e+00 - val_prc: 1.0000 - lr: 1.0000e-05\n",
      "Epoch 93/100\n",
      "25/25 [==============================] - 1s 33ms/step - loss: 4.9363 - tp: 95.0000 - fp: 9.0000 - tn: 125.0000 - fn: 12.0000 - accuracy: 0.9129 - precision: 0.9135 - recall: 0.8879 - auc: 0.9803 - prc: 0.9762 - val_loss: 4.7667 - val_tp: 27.0000 - val_fp: 0.0000e+00 - val_tn: 0.0000e+00 - val_fn: 0.0000e+00 - val_accuracy: 1.0000 - val_precision: 1.0000 - val_recall: 1.0000 - val_auc: 0.0000e+00 - val_prc: 1.0000 - lr: 1.0000e-05\n",
      "Epoch 94/100\n",
      "25/25 [==============================] - 1s 33ms/step - loss: 4.8862 - tp: 103.0000 - fp: 8.0000 - tn: 126.0000 - fn: 4.0000 - accuracy: 0.9502 - precision: 0.9279 - recall: 0.9626 - auc: 0.9882 - prc: 0.9839 - val_loss: 4.7621 - val_tp: 27.0000 - val_fp: 0.0000e+00 - val_tn: 0.0000e+00 - val_fn: 0.0000e+00 - val_accuracy: 1.0000 - val_precision: 1.0000 - val_recall: 1.0000 - val_auc: 0.0000e+00 - val_prc: 1.0000 - lr: 1.0000e-05\n",
      "Epoch 95/100\n",
      "25/25 [==============================] - 1s 33ms/step - loss: 4.8606 - tp: 101.0000 - fp: 5.0000 - tn: 129.0000 - fn: 6.0000 - accuracy: 0.9544 - precision: 0.9528 - recall: 0.9439 - auc: 0.9939 - prc: 0.9926 - val_loss: 4.7526 - val_tp: 27.0000 - val_fp: 0.0000e+00 - val_tn: 0.0000e+00 - val_fn: 0.0000e+00 - val_accuracy: 1.0000 - val_precision: 1.0000 - val_recall: 1.0000 - val_auc: 0.0000e+00 - val_prc: 1.0000 - lr: 1.0000e-05\n",
      "Epoch 96/100\n",
      "25/25 [==============================] - 1s 33ms/step - loss: 4.8867 - tp: 100.0000 - fp: 7.0000 - tn: 127.0000 - fn: 7.0000 - accuracy: 0.9419 - precision: 0.9346 - recall: 0.9346 - auc: 0.9866 - prc: 0.9833 - val_loss: 4.7478 - val_tp: 27.0000 - val_fp: 0.0000e+00 - val_tn: 0.0000e+00 - val_fn: 0.0000e+00 - val_accuracy: 1.0000 - val_precision: 1.0000 - val_recall: 1.0000 - val_auc: 0.0000e+00 - val_prc: 1.0000 - lr: 1.0000e-05\n",
      "Epoch 97/100\n",
      "25/25 [==============================] - 1s 34ms/step - loss: 4.8732 - tp: 101.0000 - fp: 8.0000 - tn: 126.0000 - fn: 6.0000 - accuracy: 0.9419 - precision: 0.9266 - recall: 0.9439 - auc: 0.9878 - prc: 0.9841 - val_loss: 4.7368 - val_tp: 27.0000 - val_fp: 0.0000e+00 - val_tn: 0.0000e+00 - val_fn: 0.0000e+00 - val_accuracy: 1.0000 - val_precision: 1.0000 - val_recall: 1.0000 - val_auc: 0.0000e+00 - val_prc: 1.0000 - lr: 1.0000e-05\n",
      "Epoch 98/100\n",
      "25/25 [==============================] - 1s 34ms/step - loss: 4.8359 - tp: 104.0000 - fp: 7.0000 - tn: 127.0000 - fn: 3.0000 - accuracy: 0.9585 - precision: 0.9369 - recall: 0.9720 - auc: 0.9932 - prc: 0.9898 - val_loss: 4.7365 - val_tp: 27.0000 - val_fp: 0.0000e+00 - val_tn: 0.0000e+00 - val_fn: 0.0000e+00 - val_accuracy: 1.0000 - val_precision: 1.0000 - val_recall: 1.0000 - val_auc: 0.0000e+00 - val_prc: 1.0000 - lr: 1.0000e-05\n",
      "Epoch 99/100\n",
      "25/25 [==============================] - 1s 33ms/step - loss: 4.8455 - tp: 102.0000 - fp: 5.0000 - tn: 129.0000 - fn: 5.0000 - accuracy: 0.9585 - precision: 0.9533 - recall: 0.9533 - auc: 0.9905 - prc: 0.9884 - val_loss: 4.7291 - val_tp: 27.0000 - val_fp: 0.0000e+00 - val_tn: 0.0000e+00 - val_fn: 0.0000e+00 - val_accuracy: 1.0000 - val_precision: 1.0000 - val_recall: 1.0000 - val_auc: 0.0000e+00 - val_prc: 1.0000 - lr: 1.0000e-05\n",
      "Epoch 100/100\n",
      "25/25 [==============================] - 1s 34ms/step - loss: 4.8104 - tp: 106.0000 - fp: 4.0000 - tn: 130.0000 - fn: 1.0000 - accuracy: 0.9793 - precision: 0.9636 - recall: 0.9907 - auc: 0.9964 - prc: 0.9954 - val_loss: 4.7221 - val_tp: 27.0000 - val_fp: 0.0000e+00 - val_tn: 0.0000e+00 - val_fn: 0.0000e+00 - val_accuracy: 1.0000 - val_precision: 1.0000 - val_recall: 1.0000 - val_auc: 0.0000e+00 - val_prc: 1.0000 - lr: 1.0000e-05\n"
     ]
    }
   ],
   "source": [
    "history = model.fit(X_train_reshaped, y_resampled, epochs=100, batch_size=10, verbose=1, validation_split=0.1, callbacks=[reduce_lr,early_st])"
   ]
  },
  {
   "cell_type": "markdown",
   "metadata": {
    "id": "5hF9EG1dX6xZ"
   },
   "source": [
    "# Evaluate the model"
   ]
  },
  {
   "cell_type": "code",
   "execution_count": 20,
   "metadata": {
    "colab": {
     "base_uri": "https://localhost:8080/"
    },
    "id": "ux5k-LYLl3GF",
    "outputId": "9b3adf84-fbbf-4f70-a11f-5b0c20ad214b"
   },
   "outputs": [
    {
     "name": "stdout",
     "output_type": "stream",
     "text": [
      "2/2 [==============================] - 0s 31ms/step\n",
      "[[27  7]\n",
      " [ 3  6]]\n"
     ]
    }
   ],
   "source": [
    "y_pred  = model.predict(X_test_reshaped)\n",
    "y_pred = (y_pred>0.5)\n",
    "cm = confusion_matrix(y_test, y_pred)\n",
    "print(cm)"
   ]
  },
  {
   "cell_type": "code",
   "execution_count": 21,
   "metadata": {
    "colab": {
     "base_uri": "https://localhost:8080/"
    },
    "id": "iur6Wu4oZ5dI",
    "outputId": "231db9db-52e6-4fb7-903e-d6254bf5191b"
   },
   "outputs": [
    {
     "name": "stdout",
     "output_type": "stream",
     "text": [
      "balanced acuracy: 0.7303921568627451\n"
     ]
    }
   ],
   "source": [
    "print(\"balanced acuracy:\", balanced_accuracy_score(y_test, y_pred))"
   ]
  },
  {
   "cell_type": "code",
   "execution_count": 22,
   "metadata": {
    "colab": {
     "base_uri": "https://localhost:8080/"
    },
    "id": "zkQ55Zm7l3D2",
    "outputId": "84b0f0b5-83c4-4631-ec8a-96f9ef5e9893"
   },
   "outputs": [
    {
     "name": "stdout",
     "output_type": "stream",
     "text": [
      "              precision    recall  f1-score   support\n",
      "\n",
      "           0       0.90      0.79      0.84        34\n",
      "           1       0.46      0.67      0.55         9\n",
      "\n",
      "    accuracy                           0.77        43\n",
      "   macro avg       0.68      0.73      0.69        43\n",
      "weighted avg       0.81      0.77      0.78        43\n",
      "\n",
      "27/27 [==============================] - 0s 6ms/step\n",
      "5/5 [==============================] - 0s 8ms/step\n",
      "loss :  5.636019706726074\n",
      "tp :  6.0\n",
      "fp :  7.0\n",
      "tn :  27.0\n",
      "fn :  3.0\n",
      "accuracy :  0.7674418687820435\n",
      "precision :  0.4615384638309479\n",
      "recall :  0.6666666865348816\n",
      "auc :  0.7320261001586914\n",
      "prc :  0.346359521150589\n",
      "\n"
     ]
    }
   ],
   "source": [
    "target_names=[\"0\",\"1\"]\n",
    "print(classification_report(y_test, y_pred, target_names=target_names))\n",
    "\n",
    "train_predictions_baseline = model.predict(X_train_reshaped, batch_size=10)\n",
    "test_predictions_baseline = model.predict(X_test_reshaped, batch_size=10)\n",
    "\n",
    "baseline_results = model.evaluate(X_test_reshaped, y_test, verbose=0)\n",
    "for name, value in zip(model.metrics_names, baseline_results):\n",
    "  print(name, ': ', value)\n",
    "print()"
   ]
  },
  {
   "cell_type": "code",
   "execution_count": 23,
   "metadata": {
    "colab": {
     "base_uri": "https://localhost:8080/",
     "height": 1000
    },
    "id": "YzVQLd_Xl3B1",
    "outputId": "9c31a90d-c136-45d1-ed85-f5c01ad9be36"
   },
   "outputs": [
    {
     "data": {
      "image/png": "[encoded data removed]",
      "text/plain": [
       "<Figure size 1200x1000 with 1 Axes>"
      ]
     },
     "metadata": {},
     "output_type": "display_data"
    },
    {
     "data": {
      "image/png": "[encoded data removed]",
      "text/plain": [
       "<Figure size 1200x1000 with 1 Axes>"
      ]
     },
     "metadata": {},
     "output_type": "display_data"
    }
   ],
   "source": [
    "plt.rcParams['figure.figsize'] = (12, 10)\n",
    "plt.rcParams.update({'font.size': 17})\n",
    "colors = plt.rcParams['axes.prop_cycle'].by_key()['color']\n",
    "\n",
    "def plot_roc(name, labels, predictions, **kwargs):\n",
    "  fp, tp, _ = sklearn.metrics.roc_curve(labels, predictions)\n",
    "\n",
    "  plt.plot(fp, tp, label=name, linewidth=2, **kwargs)\n",
    "  plt.plot([0, 1], [0, 1], 'k--')\n",
    "  plt.title('E. coli CNN')\n",
    "  plt.xlabel('False positives [%]')\n",
    "  plt.ylabel('True positives [%]')\n",
    "  plt.title('S. aureus AUROC')\n",
    "\n",
    "  plt.grid(True)\n",
    "  ax = plt.gca()\n",
    "  ax.set_aspect('equal')\n",
    "plot_roc(\"Ciprofloxacin               AUROC: %0.2f\" % baseline_results[8], y_test, test_predictions_baseline, color=colors[0])\n",
    "\n",
    "plt.legend(loc='lower right')\n",
    "plt.savefig('s_aureus_auroc.png', bbox_inches='tight')\n",
    "plt.show()\n",
    "\n",
    "def plot_prc(name, labels, predictions, **kwargs):\n",
    "    precision, recall, _ = sklearn.metrics.precision_recall_curve(labels, predictions)\n",
    "\n",
    "    plt.plot(precision, recall, label=name, linewidth=2, **kwargs)\n",
    "    plt.title('S. aureus AUPRC')\n",
    "    plt.xlabel('Recall')\n",
    "    plt.ylabel('Precision')\n",
    "    plt.plot([1, 0], [0, 1], 'k--')\n",
    "    plt.grid(True)\n",
    "    ax = plt.gca()\n",
    "    ax.set_aspect('equal')\n",
    "\n",
    "plot_prc(\"Ciprofloxacin        AUPRC: %0.2f\" % baseline_results[9], y_test, test_predictions_baseline, color=colors[0])\n",
    "\n",
    "plt.legend(loc='upper right')\n",
    "plt.savefig('s_aureus_auprc.png', bbox_inches='tight')\n",
    "plt.show()"
   ]
  }
 ],
 "metadata": {
  "accelerator": "GPU",
  "colab": {
   "provenance": []
  },
  "gpuClass": "standard",
  "kernelspec": {
   "display_name": "Python 3",
   "language": "python",
   "name": "python3"
  },
  "language_info": {
   "codemirror_mode": {
    "name": "ipython",
    "version": 3
   },
   "file_extension": ".py",
   "mimetype": "text/x-python",
   "name": "python",
   "nbconvert_exporter": "python",
   "pygments_lexer": "ipython3",
   "version": "3.11.5"
  }
 },
 "nbformat": 4,
 "nbformat_minor": 0
}
