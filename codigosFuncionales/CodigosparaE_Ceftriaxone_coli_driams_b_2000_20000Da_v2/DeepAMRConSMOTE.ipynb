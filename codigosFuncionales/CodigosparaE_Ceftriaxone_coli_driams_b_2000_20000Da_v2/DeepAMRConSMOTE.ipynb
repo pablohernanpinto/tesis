{
 "cells": [
  {
   "cell_type": "markdown",
   "metadata": {
    "id": "LNNFUJODXA9C"
   },
   "source": [
    "# 0-Libraries"
   ]
  },
  {
   "cell_type": "code",
   "execution_count": 7,
   "metadata": {
    "id": "W1quzgr-ao8A"
   },
   "outputs": [],
   "source": [
    "import numpy as np\n",
    "import matplotlib.pyplot as plt\n",
    "import itertools\n",
    "import pandas as pd\n",
    "import sklearn\n",
    "from sklearn.model_selection import train_test_split\n",
    "from sklearn.metrics import confusion_matrix,classification_report,ConfusionMatrixDisplay, balanced_accuracy_score\n",
    "#from sklearn.preprocessing import LabelEncoder, OneHotEncoder\n",
    "from sklearn.compose import ColumnTransformer\n",
    "from sklearn.preprocessing import Normalizer, StandardScaler, MinMaxScaler, MaxAbsScaler, RobustScaler, QuantileTransformer, PowerTransformer\n",
    "import tensorflow as tf\n",
    "from tensorflow import keras\n",
    "from keras import regularizers\n",
    "from keras.optimizers import Adam\n",
    "#from keras.backend import expand_dims\n",
    "from keras.callbacks import ReduceLROnPlateau, EarlyStopping\n",
    "from keras.models import Sequential\n",
    "from keras.constraints import MaxNorm\n",
    "from keras.layers import Activation, Dense, Conv1D, Flatten, MaxPooling1D, Dropout, BatchNormalization, SpatialDropout1D"
   ]
  },
  {
   "cell_type": "markdown",
   "metadata": {
    "id": "yD17WVS_4Y7T"
   },
   "source": [
    "## Librerias oversampling\n"
   ]
  },
  {
   "cell_type": "code",
   "execution_count": 8,
   "metadata": {
    "id": "L46aV2ut4XfL"
   },
   "outputs": [],
   "source": [
    "from imblearn.over_sampling import SMOTE\n"
   ]
  },
  {
   "cell_type": "code",
   "execution_count": 9,
   "metadata": {
    "id": "gy_ErAtqkxgt"
   },
   "outputs": [],
   "source": [
    "METRICS = [\n",
    "      keras.metrics.TruePositives(name='tp'),\n",
    "      keras.metrics.FalsePositives(name='fp'),\n",
    "      keras.metrics.TrueNegatives(name='tn'),\n",
    "      keras.metrics.FalseNegatives(name='fn'),\n",
    "      keras.metrics.BinaryAccuracy(name='accuracy'),\n",
    "      keras.metrics.Precision(name='precision'),\n",
    "      keras.metrics.Recall(name='recall'),\n",
    "      keras.metrics.AUC(name='auc'),\n",
    "      keras.metrics.AUC(name='prc', curve='PR'), # precision-recall curve\n",
    "]"
   ]
  },
  {
   "cell_type": "markdown",
   "metadata": {
    "id": "N6bQjUrPXPaI"
   },
   "source": [
    "# 1- Load Data"
   ]
  },
  {
   "cell_type": "code",
   "execution_count": 10,
   "metadata": {
    "colab": {
     "base_uri": "https://localhost:8080/",
     "height": 721
    },
    "id": "UXVFQgZNaNrg",
    "outputId": "7fccb4b4-1f11-48e5-8aaf-a25e40003012"
   },
   "outputs": [
    {
     "data": {
      "text/html": [
       "<div>\n",
       "<style scoped>\n",
       "    .dataframe tbody tr th:only-of-type {\n",
       "        vertical-align: middle;\n",
       "    }\n",
       "\n",
       "    .dataframe tbody tr th {\n",
       "        vertical-align: top;\n",
       "    }\n",
       "\n",
       "    .dataframe thead th {\n",
       "        text-align: right;\n",
       "    }\n",
       "</style>\n",
       "<table border=\"1\" class=\"dataframe\">\n",
       "  <thead>\n",
       "    <tr style=\"text-align: right;\">\n",
       "      <th></th>\n",
       "      <th>2000</th>\n",
       "      <th>2003</th>\n",
       "      <th>2006</th>\n",
       "      <th>2009</th>\n",
       "      <th>2012</th>\n",
       "      <th>2015</th>\n",
       "      <th>2018</th>\n",
       "      <th>2021</th>\n",
       "      <th>2024</th>\n",
       "      <th>2027</th>\n",
       "      <th>...</th>\n",
       "      <th>19988</th>\n",
       "      <th>19991</th>\n",
       "      <th>19994</th>\n",
       "      <th>19997</th>\n",
       "      <th>code</th>\n",
       "      <th>species</th>\n",
       "      <th>Ciprofloxacin</th>\n",
       "      <th>Ceftriaxone</th>\n",
       "      <th>Cefepime</th>\n",
       "      <th>Piperacillin-Tazobactam</th>\n",
       "    </tr>\n",
       "  </thead>\n",
       "  <tbody>\n",
       "    <tr>\n",
       "      <th>0</th>\n",
       "      <td>1067.142857</td>\n",
       "      <td>1251.714286</td>\n",
       "      <td>1310.571429</td>\n",
       "      <td>1021.142857</td>\n",
       "      <td>1315.625000</td>\n",
       "      <td>974.000000</td>\n",
       "      <td>936.857143</td>\n",
       "      <td>853.571429</td>\n",
       "      <td>936.142857</td>\n",
       "      <td>1044.285714</td>\n",
       "      <td>...</td>\n",
       "      <td>21.5</td>\n",
       "      <td>6.500000</td>\n",
       "      <td>4.666667</td>\n",
       "      <td>17.585859</td>\n",
       "      <td>dcd5aa31-b254-4961-b69f-ccc8c0572b27</td>\n",
       "      <td>Escherichia coli</td>\n",
       "      <td>0.0</td>\n",
       "      <td>0.0</td>\n",
       "      <td>0.0</td>\n",
       "      <td>0.0</td>\n",
       "    </tr>\n",
       "    <tr>\n",
       "      <th>1</th>\n",
       "      <td>1872.857143</td>\n",
       "      <td>1677.285714</td>\n",
       "      <td>2035.714286</td>\n",
       "      <td>2086.250000</td>\n",
       "      <td>1930.571429</td>\n",
       "      <td>2017.142857</td>\n",
       "      <td>1856.857143</td>\n",
       "      <td>1655.857143</td>\n",
       "      <td>1547.142857</td>\n",
       "      <td>1713.000000</td>\n",
       "      <td>...</td>\n",
       "      <td>21.0</td>\n",
       "      <td>15.000000</td>\n",
       "      <td>26.500000</td>\n",
       "      <td>21.736842</td>\n",
       "      <td>dfcb7221-e4f8-4a39-b661-7e439f19e93d</td>\n",
       "      <td>Escherichia coli</td>\n",
       "      <td>0.0</td>\n",
       "      <td>0.0</td>\n",
       "      <td>0.0</td>\n",
       "      <td>0.0</td>\n",
       "    </tr>\n",
       "    <tr>\n",
       "      <th>2</th>\n",
       "      <td>3258.142857</td>\n",
       "      <td>3209.428571</td>\n",
       "      <td>3068.571429</td>\n",
       "      <td>3162.428571</td>\n",
       "      <td>3275.000000</td>\n",
       "      <td>3324.571429</td>\n",
       "      <td>2999.000000</td>\n",
       "      <td>2970.500000</td>\n",
       "      <td>3213.000000</td>\n",
       "      <td>3205.571429</td>\n",
       "      <td>...</td>\n",
       "      <td>17.0</td>\n",
       "      <td>17.000000</td>\n",
       "      <td>30.000000</td>\n",
       "      <td>19.125000</td>\n",
       "      <td>d5bb4389-5053-4107-9c05-bfed9e9159c9</td>\n",
       "      <td>Escherichia coli</td>\n",
       "      <td>0.0</td>\n",
       "      <td>0.0</td>\n",
       "      <td>0.0</td>\n",
       "      <td>0.0</td>\n",
       "    </tr>\n",
       "    <tr>\n",
       "      <th>3</th>\n",
       "      <td>18912.571429</td>\n",
       "      <td>19530.571429</td>\n",
       "      <td>19464.875000</td>\n",
       "      <td>19098.714286</td>\n",
       "      <td>18994.714286</td>\n",
       "      <td>18936.285714</td>\n",
       "      <td>19208.571429</td>\n",
       "      <td>19417.571429</td>\n",
       "      <td>19486.857143</td>\n",
       "      <td>19048.625000</td>\n",
       "      <td>...</td>\n",
       "      <td>299.0</td>\n",
       "      <td>339.500000</td>\n",
       "      <td>359.000000</td>\n",
       "      <td>311.746032</td>\n",
       "      <td>4e14943f-ae22-42ed-aef5-65430470dcfa</td>\n",
       "      <td>Escherichia coli</td>\n",
       "      <td>0.0</td>\n",
       "      <td>0.0</td>\n",
       "      <td>0.0</td>\n",
       "      <td>0.0</td>\n",
       "    </tr>\n",
       "    <tr>\n",
       "      <th>4</th>\n",
       "      <td>1685.000000</td>\n",
       "      <td>1537.428571</td>\n",
       "      <td>1283.714286</td>\n",
       "      <td>1472.285714</td>\n",
       "      <td>1370.142857</td>\n",
       "      <td>1402.142857</td>\n",
       "      <td>1397.500000</td>\n",
       "      <td>1422.142857</td>\n",
       "      <td>1725.285714</td>\n",
       "      <td>3386.714286</td>\n",
       "      <td>...</td>\n",
       "      <td>32.5</td>\n",
       "      <td>48.333333</td>\n",
       "      <td>66.500000</td>\n",
       "      <td>39.230769</td>\n",
       "      <td>617f14d0-86b1-4c28-8995-b02006a85e81</td>\n",
       "      <td>Escherichia coli</td>\n",
       "      <td>1.0</td>\n",
       "      <td>1.0</td>\n",
       "      <td>1.0</td>\n",
       "      <td>1.0</td>\n",
       "    </tr>\n",
       "  </tbody>\n",
       "</table>\n",
       "<p>5 rows × 6006 columns</p>\n",
       "</div>"
      ],
      "text/plain": [
       "           2000          2003          2006          2009          2012  \\\n",
       "0   1067.142857   1251.714286   1310.571429   1021.142857   1315.625000   \n",
       "1   1872.857143   1677.285714   2035.714286   2086.250000   1930.571429   \n",
       "2   3258.142857   3209.428571   3068.571429   3162.428571   3275.000000   \n",
       "3  18912.571429  19530.571429  19464.875000  19098.714286  18994.714286   \n",
       "4   1685.000000   1537.428571   1283.714286   1472.285714   1370.142857   \n",
       "\n",
       "           2015          2018          2021          2024          2027  ...  \\\n",
       "0    974.000000    936.857143    853.571429    936.142857   1044.285714  ...   \n",
       "1   2017.142857   1856.857143   1655.857143   1547.142857   1713.000000  ...   \n",
       "2   3324.571429   2999.000000   2970.500000   3213.000000   3205.571429  ...   \n",
       "3  18936.285714  19208.571429  19417.571429  19486.857143  19048.625000  ...   \n",
       "4   1402.142857   1397.500000   1422.142857   1725.285714   3386.714286  ...   \n",
       "\n",
       "   19988       19991       19994       19997  \\\n",
       "0   21.5    6.500000    4.666667   17.585859   \n",
       "1   21.0   15.000000   26.500000   21.736842   \n",
       "2   17.0   17.000000   30.000000   19.125000   \n",
       "3  299.0  339.500000  359.000000  311.746032   \n",
       "4   32.5   48.333333   66.500000   39.230769   \n",
       "\n",
       "                                   code           species  Ciprofloxacin  \\\n",
       "0  dcd5aa31-b254-4961-b69f-ccc8c0572b27  Escherichia coli            0.0   \n",
       "1  dfcb7221-e4f8-4a39-b661-7e439f19e93d  Escherichia coli            0.0   \n",
       "2  d5bb4389-5053-4107-9c05-bfed9e9159c9  Escherichia coli            0.0   \n",
       "3  4e14943f-ae22-42ed-aef5-65430470dcfa  Escherichia coli            0.0   \n",
       "4  617f14d0-86b1-4c28-8995-b02006a85e81  Escherichia coli            1.0   \n",
       "\n",
       "   Ceftriaxone  Cefepime  Piperacillin-Tazobactam  \n",
       "0          0.0       0.0                      0.0  \n",
       "1          0.0       0.0                      0.0  \n",
       "2          0.0       0.0                      0.0  \n",
       "3          0.0       0.0                      0.0  \n",
       "4          1.0       1.0                      1.0  \n",
       "\n",
       "[5 rows x 6006 columns]"
      ]
     },
     "execution_count": 10,
     "metadata": {},
     "output_type": "execute_result"
    }
   ],
   "source": [
    "s_aureus = pd.read_csv('e_coli_driams_b_2000_20000Da_v2 (1).csv')\n",
    "s_aureus = s_aureus.fillna(0)\n",
    "s_aureus.head()"
   ]
  },
  {
   "cell_type": "markdown",
   "metadata": {
    "id": "NhURWBqqXoQp"
   },
   "source": [
    "# Preprocessing Data"
   ]
  },
  {
   "cell_type": "code",
   "execution_count": null,
   "metadata": {},
   "outputs": [],
   "source": [
    "s_aureus = s_aureus.drop(columns=['code','species', 'Ciprofloxacin', 'Cefepime', 'Piperacillin-Tazobactam'])\n",
    "s_aureus.dropna(axis=0, how=\"any\", inplace=True)"
   ]
  },
  {
   "cell_type": "code",
   "execution_count": 12,
   "metadata": {
    "colab": {
     "base_uri": "https://localhost:8080/",
     "height": 255
    },
    "id": "wZUfupfGtc7O",
    "outputId": "8d410c72-1957-46d3-cb47-7e9ccb5f04b4"
   },
   "outputs": [
    {
     "data": {
      "text/html": [
       "<div>\n",
       "<style scoped>\n",
       "    .dataframe tbody tr th:only-of-type {\n",
       "        vertical-align: middle;\n",
       "    }\n",
       "\n",
       "    .dataframe tbody tr th {\n",
       "        vertical-align: top;\n",
       "    }\n",
       "\n",
       "    .dataframe thead th {\n",
       "        text-align: right;\n",
       "    }\n",
       "</style>\n",
       "<table border=\"1\" class=\"dataframe\">\n",
       "  <thead>\n",
       "    <tr style=\"text-align: right;\">\n",
       "      <th></th>\n",
       "      <th>2000</th>\n",
       "      <th>2003</th>\n",
       "      <th>2006</th>\n",
       "      <th>2009</th>\n",
       "      <th>2012</th>\n",
       "      <th>2015</th>\n",
       "      <th>2018</th>\n",
       "      <th>2021</th>\n",
       "      <th>2024</th>\n",
       "      <th>2027</th>\n",
       "      <th>...</th>\n",
       "      <th>19973</th>\n",
       "      <th>19976</th>\n",
       "      <th>19979</th>\n",
       "      <th>19982</th>\n",
       "      <th>19985</th>\n",
       "      <th>19988</th>\n",
       "      <th>19991</th>\n",
       "      <th>19994</th>\n",
       "      <th>19997</th>\n",
       "      <th>Ciprofloxacin</th>\n",
       "    </tr>\n",
       "  </thead>\n",
       "  <tbody>\n",
       "    <tr>\n",
       "      <th>0</th>\n",
       "      <td>1067.142857</td>\n",
       "      <td>1251.714286</td>\n",
       "      <td>1310.571429</td>\n",
       "      <td>1021.142857</td>\n",
       "      <td>1315.625000</td>\n",
       "      <td>974.000000</td>\n",
       "      <td>936.857143</td>\n",
       "      <td>853.571429</td>\n",
       "      <td>936.142857</td>\n",
       "      <td>1044.285714</td>\n",
       "      <td>...</td>\n",
       "      <td>19.666667</td>\n",
       "      <td>20.000000</td>\n",
       "      <td>23.0</td>\n",
       "      <td>42.666667</td>\n",
       "      <td>15.000000</td>\n",
       "      <td>21.5</td>\n",
       "      <td>6.500000</td>\n",
       "      <td>4.666667</td>\n",
       "      <td>17.585859</td>\n",
       "      <td>0.0</td>\n",
       "    </tr>\n",
       "    <tr>\n",
       "      <th>1</th>\n",
       "      <td>1872.857143</td>\n",
       "      <td>1677.285714</td>\n",
       "      <td>2035.714286</td>\n",
       "      <td>2086.250000</td>\n",
       "      <td>1930.571429</td>\n",
       "      <td>2017.142857</td>\n",
       "      <td>1856.857143</td>\n",
       "      <td>1655.857143</td>\n",
       "      <td>1547.142857</td>\n",
       "      <td>1713.000000</td>\n",
       "      <td>...</td>\n",
       "      <td>32.000000</td>\n",
       "      <td>29.666667</td>\n",
       "      <td>30.0</td>\n",
       "      <td>18.000000</td>\n",
       "      <td>17.000000</td>\n",
       "      <td>21.0</td>\n",
       "      <td>15.000000</td>\n",
       "      <td>26.500000</td>\n",
       "      <td>21.736842</td>\n",
       "      <td>0.0</td>\n",
       "    </tr>\n",
       "    <tr>\n",
       "      <th>2</th>\n",
       "      <td>3258.142857</td>\n",
       "      <td>3209.428571</td>\n",
       "      <td>3068.571429</td>\n",
       "      <td>3162.428571</td>\n",
       "      <td>3275.000000</td>\n",
       "      <td>3324.571429</td>\n",
       "      <td>2999.000000</td>\n",
       "      <td>2970.500000</td>\n",
       "      <td>3213.000000</td>\n",
       "      <td>3205.571429</td>\n",
       "      <td>...</td>\n",
       "      <td>19.666667</td>\n",
       "      <td>20.000000</td>\n",
       "      <td>23.5</td>\n",
       "      <td>14.500000</td>\n",
       "      <td>13.666667</td>\n",
       "      <td>17.0</td>\n",
       "      <td>17.000000</td>\n",
       "      <td>30.000000</td>\n",
       "      <td>19.125000</td>\n",
       "      <td>0.0</td>\n",
       "    </tr>\n",
       "    <tr>\n",
       "      <th>3</th>\n",
       "      <td>18912.571429</td>\n",
       "      <td>19530.571429</td>\n",
       "      <td>19464.875000</td>\n",
       "      <td>19098.714286</td>\n",
       "      <td>18994.714286</td>\n",
       "      <td>18936.285714</td>\n",
       "      <td>19208.571429</td>\n",
       "      <td>19417.571429</td>\n",
       "      <td>19486.857143</td>\n",
       "      <td>19048.625000</td>\n",
       "      <td>...</td>\n",
       "      <td>299.000000</td>\n",
       "      <td>269.333333</td>\n",
       "      <td>282.0</td>\n",
       "      <td>300.500000</td>\n",
       "      <td>311.000000</td>\n",
       "      <td>299.0</td>\n",
       "      <td>339.500000</td>\n",
       "      <td>359.000000</td>\n",
       "      <td>311.746032</td>\n",
       "      <td>0.0</td>\n",
       "    </tr>\n",
       "    <tr>\n",
       "      <th>4</th>\n",
       "      <td>1685.000000</td>\n",
       "      <td>1537.428571</td>\n",
       "      <td>1283.714286</td>\n",
       "      <td>1472.285714</td>\n",
       "      <td>1370.142857</td>\n",
       "      <td>1402.142857</td>\n",
       "      <td>1397.500000</td>\n",
       "      <td>1422.142857</td>\n",
       "      <td>1725.285714</td>\n",
       "      <td>3386.714286</td>\n",
       "      <td>...</td>\n",
       "      <td>25.000000</td>\n",
       "      <td>34.000000</td>\n",
       "      <td>33.0</td>\n",
       "      <td>37.333333</td>\n",
       "      <td>21.000000</td>\n",
       "      <td>32.5</td>\n",
       "      <td>48.333333</td>\n",
       "      <td>66.500000</td>\n",
       "      <td>39.230769</td>\n",
       "      <td>1.0</td>\n",
       "    </tr>\n",
       "  </tbody>\n",
       "</table>\n",
       "<p>5 rows × 6001 columns</p>\n",
       "</div>"
      ],
      "text/plain": [
       "           2000          2003          2006          2009          2012  \\\n",
       "0   1067.142857   1251.714286   1310.571429   1021.142857   1315.625000   \n",
       "1   1872.857143   1677.285714   2035.714286   2086.250000   1930.571429   \n",
       "2   3258.142857   3209.428571   3068.571429   3162.428571   3275.000000   \n",
       "3  18912.571429  19530.571429  19464.875000  19098.714286  18994.714286   \n",
       "4   1685.000000   1537.428571   1283.714286   1472.285714   1370.142857   \n",
       "\n",
       "           2015          2018          2021          2024          2027  ...  \\\n",
       "0    974.000000    936.857143    853.571429    936.142857   1044.285714  ...   \n",
       "1   2017.142857   1856.857143   1655.857143   1547.142857   1713.000000  ...   \n",
       "2   3324.571429   2999.000000   2970.500000   3213.000000   3205.571429  ...   \n",
       "3  18936.285714  19208.571429  19417.571429  19486.857143  19048.625000  ...   \n",
       "4   1402.142857   1397.500000   1422.142857   1725.285714   3386.714286  ...   \n",
       "\n",
       "        19973       19976  19979       19982       19985  19988       19991  \\\n",
       "0   19.666667   20.000000   23.0   42.666667   15.000000   21.5    6.500000   \n",
       "1   32.000000   29.666667   30.0   18.000000   17.000000   21.0   15.000000   \n",
       "2   19.666667   20.000000   23.5   14.500000   13.666667   17.0   17.000000   \n",
       "3  299.000000  269.333333  282.0  300.500000  311.000000  299.0  339.500000   \n",
       "4   25.000000   34.000000   33.0   37.333333   21.000000   32.5   48.333333   \n",
       "\n",
       "        19994       19997  Ciprofloxacin  \n",
       "0    4.666667   17.585859            0.0  \n",
       "1   26.500000   21.736842            0.0  \n",
       "2   30.000000   19.125000            0.0  \n",
       "3  359.000000  311.746032            0.0  \n",
       "4   66.500000   39.230769            1.0  \n",
       "\n",
       "[5 rows x 6001 columns]"
      ]
     },
     "execution_count": 12,
     "metadata": {},
     "output_type": "execute_result"
    }
   ],
   "source": [
    "s_aureus.head()"
   ]
  },
  {
   "cell_type": "code",
   "execution_count": 13,
   "metadata": {
    "id": "-4dAtvUEkibF"
   },
   "outputs": [],
   "source": [
    "X = s_aureus.iloc[:, 0:6000].values  # variables independientes (espectros de masa)\n",
    "y = s_aureus.iloc[:, 6000].values    # variable dependientes (resistencia a ciprofloxacin)\n",
    "X = np.asarray(X).astype(np.float32)\n",
    "y = np.asarray(y).astype(np.float32)"
   ]
  },
  {
   "cell_type": "code",
   "execution_count": 14,
   "metadata": {
    "id": "ioZIrUNqlgP9"
   },
   "outputs": [],
   "source": [
    "X_train, X_test, y_train, y_test = train_test_split(X, y, test_size = 0.2, random_state = 0, stratify=y)"
   ]
  },
  {
   "cell_type": "markdown",
   "metadata": {
    "id": "J2Zbxb074EHL"
   },
   "source": [
    "## Aplicacion de SMOTE"
   ]
  },
  {
   "cell_type": "code",
   "execution_count": 15,
   "metadata": {
    "id": "rpLCT_uw4DgM"
   },
   "outputs": [],
   "source": [
    "smote = SMOTE(random_state=42)\n",
    "X_resampled, y_resampled = smote.fit_resample(X_train, y_train)"
   ]
  },
  {
   "cell_type": "code",
   "execution_count": 16,
   "metadata": {
    "colab": {
     "base_uri": "https://localhost:8080/"
    },
    "id": "7FaGCf_04zzV",
    "outputId": "f4e68371-f4d8-405c-9852-f6d7a63997f9"
   },
   "outputs": [
    {
     "name": "stdout",
     "output_type": "stream",
     "text": [
      "0.0    123\n",
      "1.0     47\n",
      "Name: count, dtype: int64\n"
     ]
    }
   ],
   "source": [
    "print(pd.Series(y_train).value_counts())"
   ]
  },
  {
   "cell_type": "code",
   "execution_count": 17,
   "metadata": {
    "colab": {
     "base_uri": "https://localhost:8080/"
    },
    "id": "i0PWlM_yfc5d",
    "outputId": "e468ff97-ea8b-4c35-dc9e-bfb1c807bebe"
   },
   "outputs": [
    {
     "name": "stdout",
     "output_type": "stream",
     "text": [
      "0.0    123\n",
      "1.0    123\n",
      "Name: count, dtype: int64\n"
     ]
    }
   ],
   "source": [
    "print(pd.Series(y_resampled).value_counts())\n"
   ]
  },
  {
   "cell_type": "code",
   "execution_count": 18,
   "metadata": {
    "id": "Cz1ZnhEykiY9"
   },
   "outputs": [],
   "source": [
    "scaler=Normalizer(norm='max')\n",
    "sc_X = scaler\n",
    "X_train = sc_X.fit_transform(X_resampled)\n",
    "X_test = sc_X.transform(X_test)"
   ]
  },
  {
   "cell_type": "code",
   "execution_count": 19,
   "metadata": {
    "colab": {
     "base_uri": "https://localhost:8080/",
     "height": 147
    },
    "id": "_jlwf_ZU0RBE",
    "outputId": "738143bc-fafa-484b-8ac3-efdb65caf0c6"
   },
   "outputs": [
    {
     "data": {
      "text/plain": [
       "0.0    123\n",
       "1.0    123\n",
       "Name: count, dtype: int64"
      ]
     },
     "execution_count": 19,
     "metadata": {},
     "output_type": "execute_result"
    }
   ],
   "source": [
    "pd.Series(y_resampled).value_counts()"
   ]
  },
  {
   "cell_type": "code",
   "execution_count": 20,
   "metadata": {
    "id": "HiHCUFo-kiW9"
   },
   "outputs": [
    {
     "data": {
      "text/plain": [
       "' \\nsample_size = X_train.shape[0] # numero de muestras en el set de datos\\ntime_steps  = X_train.shape[1] # numero de atributos en el set de datos\\ninput_dimension = 1            #\\n\\nX_train_reshaped = X_train.reshape(sample_size,time_steps,input_dimension)\\nX_test_reshaped = X_test.reshape(X_test.shape[0],X_test.shape[1],1)\\n\\n'"
      ]
     },
     "execution_count": 20,
     "metadata": {},
     "output_type": "execute_result"
    }
   ],
   "source": [
    "sample_size = X_train.shape[0] # numero de muestras en el set de datos\n",
    "time_steps  = X_train.shape[1] # numero de atributos en el set de datos\n",
    "input_dimension = 1            #\n",
    "\n",
    "X_train_reshaped = X_train.reshape(sample_size,time_steps,input_dimension)\n",
    "X_test_reshaped = X_test.reshape(X_test.shape[0],X_test.shape[1],1)\n",
    "\n",
    "\n",
    "\"\"\" \n",
    "sample_size = X_train.shape[0] # numero de muestras en el set de datos\n",
    "time_steps  = X_train.shape[1] # numero de atributos en el set de datos\n",
    "input_dimension = 1            #\n",
    "\n",
    "X_train_reshaped = X_train.reshape(sample_size,time_steps,input_dimension)\n",
    "X_test_reshaped = X_test.reshape(X_test.shape[0],X_test.shape[1],1)\n",
    "\n",
    "\"\"\""
   ]
  },
  {
   "cell_type": "code",
   "execution_count": 21,
   "metadata": {
    "id": "VEuHRBvAlw79"
   },
   "outputs": [],
   "source": [
    "reduce_lr = ReduceLROnPlateau(monitor='val_loss', factor=0.1, patience=3, min_lr=0.000001)\n",
    "early_st = EarlyStopping(monitor='val_loss', patience=4, restore_best_weights=True)\n",
    "\n",
    "n_timesteps = X_train_reshaped.shape[1] #\n",
    "n_features  = X_train_reshaped.shape[2] #"
   ]
  },
  {
   "cell_type": "markdown",
   "metadata": {
    "id": "hBf6W9iPXz3p"
   },
   "source": [
    "# Create and fit DeepAMR model"
   ]
  },
  {
   "cell_type": "code",
   "execution_count": 22,
   "metadata": {
    "colab": {
     "base_uri": "https://localhost:8080/",
     "height": 953
    },
    "id": "AlJHRRzlkiH9",
    "outputId": "3fbfada7-e7d0-447a-c032-df8f5bf55897"
   },
   "outputs": [
    {
     "name": "stdout",
     "output_type": "stream",
     "text": [
      "Model: \"Modelo_s_aureus_ciprofloxacin\"\n",
      "_________________________________________________________________\n",
      " Layer (type)                Output Shape              Param #   \n",
      "=================================================================\n",
      " Conv_1 (Conv1D)             (None, 5984, 64)          1152      \n",
      "                                                                 \n",
      " batch_normalization (BatchN  (None, 5984, 64)         256       \n",
      " ormalization)                                                   \n",
      "                                                                 \n",
      " activation (Activation)     (None, 5984, 64)          0         \n",
      "                                                                 \n",
      " MaxPooling1D_1 (MaxPooling1  (None, 2992, 64)         0         \n",
      " D)                                                              \n",
      "                                                                 \n",
      " Conv_2 (Conv1D)             (None, 2984, 128)         73856     \n",
      "                                                                 \n",
      " batch_normalization_1 (Batc  (None, 2984, 128)        512       \n",
      " hNormalization)                                                 \n",
      "                                                                 \n",
      " activation_1 (Activation)   (None, 2984, 128)         0         \n",
      "                                                                 \n",
      " MaxPooling1D_2 (MaxPooling1  (None, 1492, 128)        0         \n",
      " D)                                                              \n",
      "                                                                 \n",
      " Conv_3 (Conv1D)             (None, 1488, 256)         164096    \n",
      "                                                                 \n",
      " batch_normalization_2 (Batc  (None, 1488, 256)        1024      \n",
      " hNormalization)                                                 \n",
      "                                                                 \n",
      " activation_2 (Activation)   (None, 1488, 256)         0         \n",
      "                                                                 \n",
      " MaxPooling1D_3 (MaxPooling1  (None, 744, 256)         0         \n",
      " D)                                                              \n",
      "                                                                 \n",
      " Conv_4 (Conv1D)             (None, 740, 256)          327936    \n",
      "                                                                 \n",
      " batch_normalization_3 (Batc  (None, 740, 256)         1024      \n",
      " hNormalization)                                                 \n",
      "                                                                 \n",
      " activation_3 (Activation)   (None, 740, 256)          0         \n",
      "                                                                 \n",
      " MaxPooling1D_4 (MaxPooling1  (None, 370, 256)         0         \n",
      " D)                                                              \n",
      "                                                                 \n",
      " flatten (Flatten)           (None, 94720)             0         \n",
      "                                                                 \n",
      " dropout (Dropout)           (None, 94720)             0         \n",
      "                                                                 \n",
      " fully_connected_0 (Dense)   (None, 256)               24248576  \n",
      "                                                                 \n",
      " fully_connected_1 (Dense)   (None, 64)                16448     \n",
      "                                                                 \n",
      " fully_connected_2 (Dense)   (None, 64)                4160      \n",
      "                                                                 \n",
      " OUT_Layer (Dense)           (None, 1)                 65        \n",
      "                                                                 \n",
      "=================================================================\n",
      "Total params: 24,839,105\n",
      "Trainable params: 24,837,697\n",
      "Non-trainable params: 1,408\n",
      "_________________________________________________________________\n"
     ]
    }
   ],
   "source": [
    "model = Sequential(name=\"Modelo_s_aureus_ciprofloxacin\")\n",
    "init_mode = 'normal'\n",
    "model.add(Conv1D(filters=(64), kernel_size=(17), input_shape = (n_timesteps,n_features), name='Conv_1'))\n",
    "model.add(BatchNormalization())\n",
    "model.add(Activation('relu'))\n",
    "model.add(MaxPooling1D(pool_size=2, name=\"MaxPooling1D_1\"))\n",
    "\n",
    "model.add(Conv1D(filters=(128), kernel_size=(9),kernel_initializer=init_mode, kernel_regularizer=regularizers.l2(0.0001),  name='Conv_2'))\n",
    "model.add(BatchNormalization())\n",
    "model.add(Activation('relu'))\n",
    "model.add(MaxPooling1D(pool_size=2, name=\"MaxPooling1D_2\"))\n",
    "\n",
    "model.add(Conv1D(filters=(256), kernel_size=(5),kernel_initializer=init_mode,kernel_regularizer=regularizers.l2(0.0001),   name='Conv_3'))\n",
    "model.add(BatchNormalization())\n",
    "model.add(Activation('relu'))\n",
    "model.add(MaxPooling1D(pool_size=2, name=\"MaxPooling1D_3\"))\n",
    "\n",
    "model.add(Conv1D(filters=(256), kernel_size=(5),kernel_initializer=init_mode, kernel_regularizer=regularizers.l2(0.0001),   name='Conv_4'))\n",
    "model.add(BatchNormalization())\n",
    "model.add(Activation('relu'))\n",
    "model.add(MaxPooling1D(pool_size=2, name=\"MaxPooling1D_4\"))\n",
    "\n",
    "model.add(Flatten())\n",
    "model.add(Dropout(0.65))\n",
    "model.add(Dense(256, activation='relu',kernel_initializer=init_mode, kernel_regularizer=regularizers.l2(0.0001), name=\"fully_connected_0\"))\n",
    "model.add(Dense(64, activation='relu',kernel_initializer=init_mode, kernel_regularizer=regularizers.l2(0.0001), name=\"fully_connected_1\"))\n",
    "model.add(Dense(64, activation='relu',kernel_initializer=init_mode, kernel_regularizer=regularizers.l2(0.0001),  name=\"fully_connected_2\"))\n",
    "model.add(Dense(n_features, activation='sigmoid', name=\"OUT_Layer\"))\n",
    "\n",
    "model.compile(optimizer = Adam(learning_rate=0.0001), loss = 'binary_crossentropy',  metrics=METRICS)\n",
    "model.summary()"
   ]
  },
  {
   "cell_type": "code",
   "execution_count": 23,
   "metadata": {},
   "outputs": [
    {
     "data": {
      "text/plain": [
       "(246, 6000, 1)"
      ]
     },
     "execution_count": 23,
     "metadata": {},
     "output_type": "execute_result"
    }
   ],
   "source": [
    "X_train_reshaped.shape"
   ]
  },
  {
   "cell_type": "code",
   "execution_count": 24,
   "metadata": {},
   "outputs": [
    {
     "data": {
      "text/plain": [
       "(246,)"
      ]
     },
     "execution_count": 24,
     "metadata": {},
     "output_type": "execute_result"
    }
   ],
   "source": [
    "y_resampled.shape"
   ]
  },
  {
   "cell_type": "code",
   "execution_count": 25,
   "metadata": {
    "colab": {
     "base_uri": "https://localhost:8080/"
    },
    "id": "lDksoJagl3H9",
    "outputId": "9e0d0c12-ce80-4bf1-ac57-0faf9891b578"
   },
   "outputs": [
    {
     "name": "stdout",
     "output_type": "stream",
     "text": [
      "Epoch 1/100\n"
     ]
    },
    {
     "name": "stderr",
     "output_type": "stream",
     "text": [
      "2025-01-19 13:58:46.867533: I tensorflow/stream_executor/cuda/cuda_dnn.cc:384] Loaded cuDNN version 8907\n",
      "2025-01-19 13:58:46.886886: I tensorflow/core/platform/default/subprocess.cc:304] Start cannot spawn child process: No such file or directory\n",
      "2025-01-19 13:58:47.751669: I tensorflow/stream_executor/cuda/cuda_blas.cc:1614] TensorFloat-32 will be used for the matrix multiplication. This will only be logged once.\n"
     ]
    },
    {
     "name": "stdout",
     "output_type": "stream",
     "text": [
      "23/23 [==============================] - 5s 72ms/step - loss: 7.1144 - tp: 41.0000 - fp: 47.0000 - tn: 76.0000 - fn: 57.0000 - accuracy: 0.5294 - precision: 0.4659 - recall: 0.4184 - auc: 0.5348 - prc: 0.4750 - val_loss: 6.7410 - val_tp: 25.0000 - val_fp: 0.0000e+00 - val_tn: 0.0000e+00 - val_fn: 0.0000e+00 - val_accuracy: 1.0000 - val_precision: 1.0000 - val_recall: 1.0000 - val_auc: 0.0000e+00 - val_prc: 1.0000 - lr: 1.0000e-04\n",
      "Epoch 2/100\n",
      "23/23 [==============================] - 1s 34ms/step - loss: 6.7560 - tp: 49.0000 - fp: 30.0000 - tn: 93.0000 - fn: 49.0000 - accuracy: 0.6425 - precision: 0.6203 - recall: 0.5000 - auc: 0.6581 - prc: 0.5734 - val_loss: 6.6214 - val_tp: 25.0000 - val_fp: 0.0000e+00 - val_tn: 0.0000e+00 - val_fn: 0.0000e+00 - val_accuracy: 1.0000 - val_precision: 1.0000 - val_recall: 1.0000 - val_auc: 0.0000e+00 - val_prc: 1.0000 - lr: 1.0000e-04\n",
      "Epoch 3/100\n",
      "23/23 [==============================] - 1s 29ms/step - loss: 6.6940 - tp: 53.0000 - fp: 43.0000 - tn: 80.0000 - fn: 45.0000 - accuracy: 0.6018 - precision: 0.5521 - recall: 0.5408 - auc: 0.6543 - prc: 0.6184 - val_loss: 6.6591 - val_tp: 0.0000e+00 - val_fp: 0.0000e+00 - val_tn: 0.0000e+00 - val_fn: 25.0000 - val_accuracy: 0.0000e+00 - val_precision: 0.0000e+00 - val_recall: 0.0000e+00 - val_auc: 0.0000e+00 - val_prc: 1.0000 - lr: 1.0000e-04\n",
      "Epoch 4/100\n",
      "23/23 [==============================] - 1s 29ms/step - loss: 6.5857 - tp: 60.0000 - fp: 55.0000 - tn: 68.0000 - fn: 38.0000 - accuracy: 0.5792 - precision: 0.5217 - recall: 0.6122 - auc: 0.6517 - prc: 0.5827 - val_loss: 6.8034 - val_tp: 0.0000e+00 - val_fp: 0.0000e+00 - val_tn: 0.0000e+00 - val_fn: 25.0000 - val_accuracy: 0.0000e+00 - val_precision: 0.0000e+00 - val_recall: 0.0000e+00 - val_auc: 0.0000e+00 - val_prc: 1.0000 - lr: 1.0000e-04\n",
      "Epoch 5/100\n",
      "23/23 [==============================] - 1s 31ms/step - loss: 6.4616 - tp: 47.0000 - fp: 31.0000 - tn: 92.0000 - fn: 51.0000 - accuracy: 0.6290 - precision: 0.6026 - recall: 0.4796 - auc: 0.6700 - prc: 0.5978 - val_loss: 6.7055 - val_tp: 0.0000e+00 - val_fp: 0.0000e+00 - val_tn: 0.0000e+00 - val_fn: 25.0000 - val_accuracy: 0.0000e+00 - val_precision: 0.0000e+00 - val_recall: 0.0000e+00 - val_auc: 0.0000e+00 - val_prc: 1.0000 - lr: 1.0000e-04\n",
      "Epoch 6/100\n",
      "23/23 [==============================] - 1s 34ms/step - loss: 6.2840 - tp: 82.0000 - fp: 47.0000 - tn: 76.0000 - fn: 16.0000 - accuracy: 0.7149 - precision: 0.6357 - recall: 0.8367 - auc: 0.7938 - prc: 0.7015 - val_loss: 6.7729 - val_tp: 0.0000e+00 - val_fp: 0.0000e+00 - val_tn: 0.0000e+00 - val_fn: 25.0000 - val_accuracy: 0.0000e+00 - val_precision: 0.0000e+00 - val_recall: 0.0000e+00 - val_auc: 0.0000e+00 - val_prc: 1.0000 - lr: 1.0000e-05\n"
     ]
    }
   ],
   "source": [
    "history = model.fit(X_train_reshaped, y_resampled, epochs=100, batch_size=10, verbose=1, validation_split=0.1, callbacks=[reduce_lr,early_st])"
   ]
  },
  {
   "cell_type": "markdown",
   "metadata": {
    "id": "5hF9EG1dX6xZ"
   },
   "source": [
    "# Evaluate the model"
   ]
  },
  {
   "cell_type": "code",
   "execution_count": 26,
   "metadata": {
    "colab": {
     "base_uri": "https://localhost:8080/"
    },
    "id": "ux5k-LYLl3GF",
    "outputId": "9b3adf84-fbbf-4f70-a11f-5b0c20ad214b"
   },
   "outputs": [
    {
     "name": "stdout",
     "output_type": "stream",
     "text": [
      "2/2 [==============================] - 0s 29ms/step\n",
      "[[ 0 31]\n",
      " [ 0 12]]\n"
     ]
    }
   ],
   "source": [
    "y_pred  = model.predict(X_test_reshaped)\n",
    "y_pred = (y_pred>0.5)\n",
    "cm = confusion_matrix(y_test, y_pred)\n",
    "print(cm)"
   ]
  },
  {
   "cell_type": "code",
   "execution_count": 27,
   "metadata": {
    "colab": {
     "base_uri": "https://localhost:8080/"
    },
    "id": "iur6Wu4oZ5dI",
    "outputId": "231db9db-52e6-4fb7-903e-d6254bf5191b"
   },
   "outputs": [
    {
     "name": "stdout",
     "output_type": "stream",
     "text": [
      "balanced acuracy: 0.5\n"
     ]
    }
   ],
   "source": [
    "print(\"balanced acuracy:\", balanced_accuracy_score(y_test, y_pred))"
   ]
  },
  {
   "cell_type": "code",
   "execution_count": 28,
   "metadata": {
    "colab": {
     "base_uri": "https://localhost:8080/"
    },
    "id": "zkQ55Zm7l3D2",
    "outputId": "84b0f0b5-83c4-4631-ec8a-96f9ef5e9893"
   },
   "outputs": [
    {
     "name": "stdout",
     "output_type": "stream",
     "text": [
      "              precision    recall  f1-score   support\n",
      "\n",
      "           0       0.00      0.00      0.00        31\n",
      "           1       0.28      1.00      0.44        12\n",
      "\n",
      "    accuracy                           0.28        43\n",
      "   macro avg       0.14      0.50      0.22        43\n",
      "weighted avg       0.08      0.28      0.12        43\n",
      "\n",
      "12/25 [=============>................] - ETA: 0s"
     ]
    },
    {
     "name": "stderr",
     "output_type": "stream",
     "text": [
      "/home/hpinto/.local/lib/python3.9/site-packages/sklearn/metrics/_classification.py:1531: UndefinedMetricWarning: Precision is ill-defined and being set to 0.0 in labels with no predicted samples. Use `zero_division` parameter to control this behavior.\n",
      "  _warn_prf(average, modifier, f\"{metric.capitalize()} is\", len(result))\n",
      "/home/hpinto/.local/lib/python3.9/site-packages/sklearn/metrics/_classification.py:1531: UndefinedMetricWarning: Precision is ill-defined and being set to 0.0 in labels with no predicted samples. Use `zero_division` parameter to control this behavior.\n",
      "  _warn_prf(average, modifier, f\"{metric.capitalize()} is\", len(result))\n",
      "/home/hpinto/.local/lib/python3.9/site-packages/sklearn/metrics/_classification.py:1531: UndefinedMetricWarning: Precision is ill-defined and being set to 0.0 in labels with no predicted samples. Use `zero_division` parameter to control this behavior.\n",
      "  _warn_prf(average, modifier, f\"{metric.capitalize()} is\", len(result))\n"
     ]
    },
    {
     "name": "stdout",
     "output_type": "stream",
     "text": [
      "25/25 [==============================] - 0s 6ms/step\n",
      "5/5 [==============================] - 0s 7ms/step\n",
      "loss :  6.716461658477783\n",
      "tp :  12.0\n",
      "fp :  31.0\n",
      "tn :  0.0\n",
      "fn :  0.0\n",
      "accuracy :  0.27906978130340576\n",
      "precision :  0.27906978130340576\n",
      "recall :  1.0\n",
      "auc :  0.44354838132858276\n",
      "prc :  0.2515160143375397\n",
      "\n"
     ]
    }
   ],
   "source": [
    "target_names=[\"0\",\"1\"]\n",
    "print(classification_report(y_test, y_pred, target_names=target_names))\n",
    "\n",
    "train_predictions_baseline = model.predict(X_train_reshaped, batch_size=10)\n",
    "test_predictions_baseline = model.predict(X_test_reshaped, batch_size=10)\n",
    "\n",
    "baseline_results = model.evaluate(X_test_reshaped, y_test, verbose=0)\n",
    "for name, value in zip(model.metrics_names, baseline_results):\n",
    "  print(name, ': ', value)\n",
    "print()"
   ]
  },
  {
   "cell_type": "code",
   "execution_count": 29,
   "metadata": {
    "colab": {
     "base_uri": "https://localhost:8080/",
     "height": 1000
    },
    "id": "YzVQLd_Xl3B1",
    "outputId": "9c31a90d-c136-45d1-ed85-f5c01ad9be36"
   },
   "outputs": [
    {
     "data": {
      "image/png": "[encoded data removed]",
      "text/plain": [
       "<Figure size 1200x1000 with 1 Axes>"
      ]
     },
     "metadata": {},
     "output_type": "display_data"
    },
    {
     "data": {
      "image/png": "[encoded data removed]",
      "text/plain": [
       "<Figure size 1200x1000 with 1 Axes>"
      ]
     },
     "metadata": {},
     "output_type": "display_data"
    }
   ],
   "source": [
    "plt.rcParams['figure.figsize'] = (12, 10)\n",
    "plt.rcParams.update({'font.size': 17})\n",
    "colors = plt.rcParams['axes.prop_cycle'].by_key()['color']\n",
    "\n",
    "def plot_roc(name, labels, predictions, **kwargs):\n",
    "  fp, tp, _ = sklearn.metrics.roc_curve(labels, predictions)\n",
    "\n",
    "  plt.plot(fp, tp, label=name, linewidth=2, **kwargs)\n",
    "  plt.plot([0, 1], [0, 1], 'k--')\n",
    "  plt.title('E. coli CNN')\n",
    "  plt.xlabel('False positives [%]')\n",
    "  plt.ylabel('True positives [%]')\n",
    "  plt.title('S. aureus AUROC')\n",
    "\n",
    "  plt.grid(True)\n",
    "  ax = plt.gca()\n",
    "  ax.set_aspect('equal')\n",
    "plot_roc(\"Ciprofloxacin               AUROC: %0.2f\" % baseline_results[8], y_test, test_predictions_baseline, color=colors[0])\n",
    "\n",
    "plt.legend(loc='lower right')\n",
    "plt.savefig('s_aureus_auroc.png', bbox_inches='tight')\n",
    "plt.show()\n",
    "\n",
    "def plot_prc(name, labels, predictions, **kwargs):\n",
    "    precision, recall, _ = sklearn.metrics.precision_recall_curve(labels, predictions)\n",
    "\n",
    "    plt.plot(precision, recall, label=name, linewidth=2, **kwargs)\n",
    "    plt.title('S. aureus AUPRC')\n",
    "    plt.xlabel('Recall')\n",
    "    plt.ylabel('Precision')\n",
    "    plt.plot([1, 0], [0, 1], 'k--')\n",
    "    plt.grid(True)\n",
    "    ax = plt.gca()\n",
    "    ax.set_aspect('equal')\n",
    "\n",
    "plot_prc(\"Ciprofloxacin        AUPRC: %0.2f\" % baseline_results[9], y_test, test_predictions_baseline, color=colors[0])\n",
    "\n",
    "plt.legend(loc='upper right')\n",
    "plt.savefig('s_aureus_auprc.png', bbox_inches='tight')\n",
    "plt.show()"
   ]
  }
 ],
 "metadata": {
  "accelerator": "GPU",
  "colab": {
   "provenance": []
  },
  "gpuClass": "standard",
  "kernelspec": {
   "display_name": "Python 3",
   "language": "python",
   "name": "python3"
  },
  "language_info": {
   "codemirror_mode": {
    "name": "ipython",
    "version": 3
   },
   "file_extension": ".py",
   "mimetype": "text/x-python",
   "name": "python",
   "nbconvert_exporter": "python",
   "pygments_lexer": "ipython3",
   "version": "3.11.5"
  }
 },
 "nbformat": 4,
 "nbformat_minor": 0
}
