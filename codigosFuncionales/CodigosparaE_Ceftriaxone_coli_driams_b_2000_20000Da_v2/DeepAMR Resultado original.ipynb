{
  "cells": [
    {
      "cell_type": "markdown",
      "metadata": {
        "id": "LNNFUJODXA9C"
      },
      "source": [
        "# 0-Libraries"
      ]
    },
    {
      "cell_type": "code",
      "execution_count": 1,
      "metadata": {
        "id": "W1quzgr-ao8A"
      },
      "outputs": [
        {
          "name": "stderr",
          "output_type": "stream",
          "text": [
            "2025-01-19 14:03:35.257136: I tensorflow/core/platform/cpu_feature_guard.cc:193] This TensorFlow binary is optimized with oneAPI Deep Neural Network Library (oneDNN) to use the following CPU instructions in performance-critical operations:  AVX2 AVX512F AVX512_VNNI FMA\n",
            "To enable them in other operations, rebuild TensorFlow with the appropriate compiler flags.\n",
            "2025-01-19 14:03:35.398998: I tensorflow/core/util/util.cc:169] oneDNN custom operations are on. You may see slightly different numerical results due to floating-point round-off errors from different computation orders. To turn them off, set the environment variable `TF_ENABLE_ONEDNN_OPTS=0`.\n",
            "2025-01-19 14:03:35.434456: E tensorflow/stream_executor/cuda/cuda_blas.cc:2981] Unable to register cuBLAS factory: Attempting to register factory for plugin cuBLAS when one has already been registered\n",
            "2025-01-19 14:03:36.049594: W tensorflow/stream_executor/platform/default/dso_loader.cc:64] Could not load dynamic library 'libnvinfer.so.7'; dlerror: libnvinfer.so.7: cannot open shared object file: No such file or directory\n",
            "2025-01-19 14:03:36.049654: W tensorflow/stream_executor/platform/default/dso_loader.cc:64] Could not load dynamic library 'libnvinfer_plugin.so.7'; dlerror: libnvinfer_plugin.so.7: cannot open shared object file: No such file or directory\n",
            "2025-01-19 14:03:36.049659: W tensorflow/compiler/tf2tensorrt/utils/py_utils.cc:38] TF-TRT Warning: Cannot dlopen some TensorRT libraries. If you would like to use Nvidia GPU with TensorRT, please make sure the missing libraries mentioned above are installed properly.\n"
          ]
        }
      ],
      "source": [
        "import numpy as np\n",
        "import matplotlib.pyplot as plt\n",
        "import itertools\n",
        "import pandas as pd\n",
        "import sklearn\n",
        "from sklearn.model_selection import train_test_split\n",
        "from sklearn.metrics import confusion_matrix,classification_report,ConfusionMatrixDisplay, balanced_accuracy_score\n",
        "#from sklearn.preprocessing import LabelEncoder, OneHotEncoder\n",
        "from sklearn.compose import ColumnTransformer\n",
        "from sklearn.preprocessing import Normalizer, StandardScaler, MinMaxScaler, MaxAbsScaler, RobustScaler, QuantileTransformer, PowerTransformer\n",
        "import tensorflow as tf\n",
        "from tensorflow import keras\n",
        "from keras import regularizers\n",
        "from keras.optimizers import Adam\n",
        "#from keras.backend import expand_dims\n",
        "from keras.callbacks import ReduceLROnPlateau, EarlyStopping\n",
        "from keras.models import Sequential\n",
        "from keras.constraints import MaxNorm\n",
        "from keras.layers import Activation, Dense, Conv1D, Flatten, MaxPooling1D, Dropout, BatchNormalization, SpatialDropout1D"
      ]
    },
    {
      "cell_type": "code",
      "execution_count": 2,
      "metadata": {
        "id": "gy_ErAtqkxgt"
      },
      "outputs": [
        {
          "name": "stderr",
          "output_type": "stream",
          "text": [
            "2025-01-19 14:03:36.702604: I tensorflow/core/platform/cpu_feature_guard.cc:193] This TensorFlow binary is optimized with oneAPI Deep Neural Network Library (oneDNN) to use the following CPU instructions in performance-critical operations:  AVX2 AVX512F AVX512_VNNI FMA\n",
            "To enable them in other operations, rebuild TensorFlow with the appropriate compiler flags.\n",
            "2025-01-19 14:03:37.142492: I tensorflow/core/common_runtime/gpu/gpu_device.cc:1616] Created device /job:localhost/replica:0/task:0/device:GPU:0 with 14120 MB memory:  -> device: 0, name: NVIDIA RTX A4000, pci bus id: 0000:c3:00.0, compute capability: 8.6\n"
          ]
        }
      ],
      "source": [
        "METRICS = [\n",
        "      keras.metrics.TruePositives(name='tp'),\n",
        "      keras.metrics.FalsePositives(name='fp'),\n",
        "      keras.metrics.TrueNegatives(name='tn'),\n",
        "      keras.metrics.FalseNegatives(name='fn'),\n",
        "      keras.metrics.BinaryAccuracy(name='accuracy'),\n",
        "      keras.metrics.Precision(name='precision'),\n",
        "      keras.metrics.Recall(name='recall'),\n",
        "      keras.metrics.AUC(name='auc'),\n",
        "      keras.metrics.AUC(name='prc', curve='PR'), # precision-recall curve\n",
        "]"
      ]
    },
    {
      "cell_type": "markdown",
      "metadata": {
        "id": "N6bQjUrPXPaI"
      },
      "source": [
        "# 1- Load Data"
      ]
    },
    {
      "cell_type": "code",
      "execution_count": 3,
      "metadata": {
        "colab": {
          "base_uri": "https://localhost:8080/",
          "height": 533
        },
        "id": "UXVFQgZNaNrg",
        "outputId": "d250b076-aa61-46d9-d165-ab7a7a24aee3"
      },
      "outputs": [
        {
          "data": {
            "text/html": [
              "<div>\n",
              "<style scoped>\n",
              "    .dataframe tbody tr th:only-of-type {\n",
              "        vertical-align: middle;\n",
              "    }\n",
              "\n",
              "    .dataframe tbody tr th {\n",
              "        vertical-align: top;\n",
              "    }\n",
              "\n",
              "    .dataframe thead th {\n",
              "        text-align: right;\n",
              "    }\n",
              "</style>\n",
              "<table border=\"1\" class=\"dataframe\">\n",
              "  <thead>\n",
              "    <tr style=\"text-align: right;\">\n",
              "      <th></th>\n",
              "      <th>2000</th>\n",
              "      <th>2003</th>\n",
              "      <th>2006</th>\n",
              "      <th>2009</th>\n",
              "      <th>2012</th>\n",
              "      <th>2015</th>\n",
              "      <th>2018</th>\n",
              "      <th>2021</th>\n",
              "      <th>2024</th>\n",
              "      <th>2027</th>\n",
              "      <th>...</th>\n",
              "      <th>19988</th>\n",
              "      <th>19991</th>\n",
              "      <th>19994</th>\n",
              "      <th>19997</th>\n",
              "      <th>code</th>\n",
              "      <th>species</th>\n",
              "      <th>Ciprofloxacin</th>\n",
              "      <th>Ceftriaxone</th>\n",
              "      <th>Cefepime</th>\n",
              "      <th>Piperacillin-Tazobactam</th>\n",
              "    </tr>\n",
              "  </thead>\n",
              "  <tbody>\n",
              "    <tr>\n",
              "      <th>0</th>\n",
              "      <td>1067.142857</td>\n",
              "      <td>1251.714286</td>\n",
              "      <td>1310.571429</td>\n",
              "      <td>1021.142857</td>\n",
              "      <td>1315.625000</td>\n",
              "      <td>974.000000</td>\n",
              "      <td>936.857143</td>\n",
              "      <td>853.571429</td>\n",
              "      <td>936.142857</td>\n",
              "      <td>1044.285714</td>\n",
              "      <td>...</td>\n",
              "      <td>21.5</td>\n",
              "      <td>6.500000</td>\n",
              "      <td>4.666667</td>\n",
              "      <td>17.585859</td>\n",
              "      <td>dcd5aa31-b254-4961-b69f-ccc8c0572b27</td>\n",
              "      <td>Escherichia coli</td>\n",
              "      <td>0.0</td>\n",
              "      <td>0.0</td>\n",
              "      <td>0.0</td>\n",
              "      <td>0.0</td>\n",
              "    </tr>\n",
              "    <tr>\n",
              "      <th>1</th>\n",
              "      <td>1872.857143</td>\n",
              "      <td>1677.285714</td>\n",
              "      <td>2035.714286</td>\n",
              "      <td>2086.250000</td>\n",
              "      <td>1930.571429</td>\n",
              "      <td>2017.142857</td>\n",
              "      <td>1856.857143</td>\n",
              "      <td>1655.857143</td>\n",
              "      <td>1547.142857</td>\n",
              "      <td>1713.000000</td>\n",
              "      <td>...</td>\n",
              "      <td>21.0</td>\n",
              "      <td>15.000000</td>\n",
              "      <td>26.500000</td>\n",
              "      <td>21.736842</td>\n",
              "      <td>dfcb7221-e4f8-4a39-b661-7e439f19e93d</td>\n",
              "      <td>Escherichia coli</td>\n",
              "      <td>0.0</td>\n",
              "      <td>0.0</td>\n",
              "      <td>0.0</td>\n",
              "      <td>0.0</td>\n",
              "    </tr>\n",
              "    <tr>\n",
              "      <th>2</th>\n",
              "      <td>3258.142857</td>\n",
              "      <td>3209.428571</td>\n",
              "      <td>3068.571429</td>\n",
              "      <td>3162.428571</td>\n",
              "      <td>3275.000000</td>\n",
              "      <td>3324.571429</td>\n",
              "      <td>2999.000000</td>\n",
              "      <td>2970.500000</td>\n",
              "      <td>3213.000000</td>\n",
              "      <td>3205.571429</td>\n",
              "      <td>...</td>\n",
              "      <td>17.0</td>\n",
              "      <td>17.000000</td>\n",
              "      <td>30.000000</td>\n",
              "      <td>19.125000</td>\n",
              "      <td>d5bb4389-5053-4107-9c05-bfed9e9159c9</td>\n",
              "      <td>Escherichia coli</td>\n",
              "      <td>0.0</td>\n",
              "      <td>0.0</td>\n",
              "      <td>0.0</td>\n",
              "      <td>0.0</td>\n",
              "    </tr>\n",
              "    <tr>\n",
              "      <th>3</th>\n",
              "      <td>18912.571429</td>\n",
              "      <td>19530.571429</td>\n",
              "      <td>19464.875000</td>\n",
              "      <td>19098.714286</td>\n",
              "      <td>18994.714286</td>\n",
              "      <td>18936.285714</td>\n",
              "      <td>19208.571429</td>\n",
              "      <td>19417.571429</td>\n",
              "      <td>19486.857143</td>\n",
              "      <td>19048.625000</td>\n",
              "      <td>...</td>\n",
              "      <td>299.0</td>\n",
              "      <td>339.500000</td>\n",
              "      <td>359.000000</td>\n",
              "      <td>311.746032</td>\n",
              "      <td>4e14943f-ae22-42ed-aef5-65430470dcfa</td>\n",
              "      <td>Escherichia coli</td>\n",
              "      <td>0.0</td>\n",
              "      <td>0.0</td>\n",
              "      <td>0.0</td>\n",
              "      <td>0.0</td>\n",
              "    </tr>\n",
              "    <tr>\n",
              "      <th>4</th>\n",
              "      <td>1685.000000</td>\n",
              "      <td>1537.428571</td>\n",
              "      <td>1283.714286</td>\n",
              "      <td>1472.285714</td>\n",
              "      <td>1370.142857</td>\n",
              "      <td>1402.142857</td>\n",
              "      <td>1397.500000</td>\n",
              "      <td>1422.142857</td>\n",
              "      <td>1725.285714</td>\n",
              "      <td>3386.714286</td>\n",
              "      <td>...</td>\n",
              "      <td>32.5</td>\n",
              "      <td>48.333333</td>\n",
              "      <td>66.500000</td>\n",
              "      <td>39.230769</td>\n",
              "      <td>617f14d0-86b1-4c28-8995-b02006a85e81</td>\n",
              "      <td>Escherichia coli</td>\n",
              "      <td>1.0</td>\n",
              "      <td>1.0</td>\n",
              "      <td>1.0</td>\n",
              "      <td>1.0</td>\n",
              "    </tr>\n",
              "  </tbody>\n",
              "</table>\n",
              "<p>5 rows × 6006 columns</p>\n",
              "</div>"
            ],
            "text/plain": [
              "           2000          2003          2006          2009          2012  \\\n",
              "0   1067.142857   1251.714286   1310.571429   1021.142857   1315.625000   \n",
              "1   1872.857143   1677.285714   2035.714286   2086.250000   1930.571429   \n",
              "2   3258.142857   3209.428571   3068.571429   3162.428571   3275.000000   \n",
              "3  18912.571429  19530.571429  19464.875000  19098.714286  18994.714286   \n",
              "4   1685.000000   1537.428571   1283.714286   1472.285714   1370.142857   \n",
              "\n",
              "           2015          2018          2021          2024          2027  ...  \\\n",
              "0    974.000000    936.857143    853.571429    936.142857   1044.285714  ...   \n",
              "1   2017.142857   1856.857143   1655.857143   1547.142857   1713.000000  ...   \n",
              "2   3324.571429   2999.000000   2970.500000   3213.000000   3205.571429  ...   \n",
              "3  18936.285714  19208.571429  19417.571429  19486.857143  19048.625000  ...   \n",
              "4   1402.142857   1397.500000   1422.142857   1725.285714   3386.714286  ...   \n",
              "\n",
              "   19988       19991       19994       19997  \\\n",
              "0   21.5    6.500000    4.666667   17.585859   \n",
              "1   21.0   15.000000   26.500000   21.736842   \n",
              "2   17.0   17.000000   30.000000   19.125000   \n",
              "3  299.0  339.500000  359.000000  311.746032   \n",
              "4   32.5   48.333333   66.500000   39.230769   \n",
              "\n",
              "                                   code           species  Ciprofloxacin  \\\n",
              "0  dcd5aa31-b254-4961-b69f-ccc8c0572b27  Escherichia coli            0.0   \n",
              "1  dfcb7221-e4f8-4a39-b661-7e439f19e93d  Escherichia coli            0.0   \n",
              "2  d5bb4389-5053-4107-9c05-bfed9e9159c9  Escherichia coli            0.0   \n",
              "3  4e14943f-ae22-42ed-aef5-65430470dcfa  Escherichia coli            0.0   \n",
              "4  617f14d0-86b1-4c28-8995-b02006a85e81  Escherichia coli            1.0   \n",
              "\n",
              "   Ceftriaxone  Cefepime  Piperacillin-Tazobactam  \n",
              "0          0.0       0.0                      0.0  \n",
              "1          0.0       0.0                      0.0  \n",
              "2          0.0       0.0                      0.0  \n",
              "3          0.0       0.0                      0.0  \n",
              "4          1.0       1.0                      1.0  \n",
              "\n",
              "[5 rows x 6006 columns]"
            ]
          },
          "execution_count": 3,
          "metadata": {},
          "output_type": "execute_result"
        }
      ],
      "source": [
        "s_aureus = pd.read_csv('e_coli_driams_b_2000_20000Da_v2 (1).csv')\n",
        "s_aureus.head()"
      ]
    },
    {
      "cell_type": "markdown",
      "metadata": {
        "id": "NhURWBqqXoQp"
      },
      "source": [
        "# Preprocessing Data"
      ]
    },
    {
      "cell_type": "code",
      "execution_count": 4,
      "metadata": {
        "id": "koTco5gulH3G"
      },
      "outputs": [],
      "source": [
        "s_aureus = s_aureus.drop(columns=['code','species', 'Ciprofloxacin', 'Cefepime', 'Piperacillin-Tazobactam'])\n",
        "s_aureus.dropna(axis=0, how=\"any\", inplace=True)"
      ]
    },
    {
      "cell_type": "code",
      "execution_count": 5,
      "metadata": {
        "colab": {
          "base_uri": "https://localhost:8080/",
          "height": 255
        },
        "id": "wZUfupfGtc7O",
        "outputId": "af1d2eac-096e-4a39-8406-586718f33d29"
      },
      "outputs": [
        {
          "data": {
            "text/html": [
              "<div>\n",
              "<style scoped>\n",
              "    .dataframe tbody tr th:only-of-type {\n",
              "        vertical-align: middle;\n",
              "    }\n",
              "\n",
              "    .dataframe tbody tr th {\n",
              "        vertical-align: top;\n",
              "    }\n",
              "\n",
              "    .dataframe thead th {\n",
              "        text-align: right;\n",
              "    }\n",
              "</style>\n",
              "<table border=\"1\" class=\"dataframe\">\n",
              "  <thead>\n",
              "    <tr style=\"text-align: right;\">\n",
              "      <th></th>\n",
              "      <th>2000</th>\n",
              "      <th>2003</th>\n",
              "      <th>2006</th>\n",
              "      <th>2009</th>\n",
              "      <th>2012</th>\n",
              "      <th>2015</th>\n",
              "      <th>2018</th>\n",
              "      <th>2021</th>\n",
              "      <th>2024</th>\n",
              "      <th>2027</th>\n",
              "      <th>...</th>\n",
              "      <th>19973</th>\n",
              "      <th>19976</th>\n",
              "      <th>19979</th>\n",
              "      <th>19982</th>\n",
              "      <th>19985</th>\n",
              "      <th>19988</th>\n",
              "      <th>19991</th>\n",
              "      <th>19994</th>\n",
              "      <th>19997</th>\n",
              "      <th>Ceftriaxone</th>\n",
              "    </tr>\n",
              "  </thead>\n",
              "  <tbody>\n",
              "    <tr>\n",
              "      <th>0</th>\n",
              "      <td>1067.142857</td>\n",
              "      <td>1251.714286</td>\n",
              "      <td>1310.571429</td>\n",
              "      <td>1021.142857</td>\n",
              "      <td>1315.625000</td>\n",
              "      <td>974.000000</td>\n",
              "      <td>936.857143</td>\n",
              "      <td>853.571429</td>\n",
              "      <td>936.142857</td>\n",
              "      <td>1044.285714</td>\n",
              "      <td>...</td>\n",
              "      <td>19.666667</td>\n",
              "      <td>20.000000</td>\n",
              "      <td>23.0</td>\n",
              "      <td>42.666667</td>\n",
              "      <td>15.000000</td>\n",
              "      <td>21.5</td>\n",
              "      <td>6.500000</td>\n",
              "      <td>4.666667</td>\n",
              "      <td>17.585859</td>\n",
              "      <td>0.0</td>\n",
              "    </tr>\n",
              "    <tr>\n",
              "      <th>1</th>\n",
              "      <td>1872.857143</td>\n",
              "      <td>1677.285714</td>\n",
              "      <td>2035.714286</td>\n",
              "      <td>2086.250000</td>\n",
              "      <td>1930.571429</td>\n",
              "      <td>2017.142857</td>\n",
              "      <td>1856.857143</td>\n",
              "      <td>1655.857143</td>\n",
              "      <td>1547.142857</td>\n",
              "      <td>1713.000000</td>\n",
              "      <td>...</td>\n",
              "      <td>32.000000</td>\n",
              "      <td>29.666667</td>\n",
              "      <td>30.0</td>\n",
              "      <td>18.000000</td>\n",
              "      <td>17.000000</td>\n",
              "      <td>21.0</td>\n",
              "      <td>15.000000</td>\n",
              "      <td>26.500000</td>\n",
              "      <td>21.736842</td>\n",
              "      <td>0.0</td>\n",
              "    </tr>\n",
              "    <tr>\n",
              "      <th>2</th>\n",
              "      <td>3258.142857</td>\n",
              "      <td>3209.428571</td>\n",
              "      <td>3068.571429</td>\n",
              "      <td>3162.428571</td>\n",
              "      <td>3275.000000</td>\n",
              "      <td>3324.571429</td>\n",
              "      <td>2999.000000</td>\n",
              "      <td>2970.500000</td>\n",
              "      <td>3213.000000</td>\n",
              "      <td>3205.571429</td>\n",
              "      <td>...</td>\n",
              "      <td>19.666667</td>\n",
              "      <td>20.000000</td>\n",
              "      <td>23.5</td>\n",
              "      <td>14.500000</td>\n",
              "      <td>13.666667</td>\n",
              "      <td>17.0</td>\n",
              "      <td>17.000000</td>\n",
              "      <td>30.000000</td>\n",
              "      <td>19.125000</td>\n",
              "      <td>0.0</td>\n",
              "    </tr>\n",
              "    <tr>\n",
              "      <th>3</th>\n",
              "      <td>18912.571429</td>\n",
              "      <td>19530.571429</td>\n",
              "      <td>19464.875000</td>\n",
              "      <td>19098.714286</td>\n",
              "      <td>18994.714286</td>\n",
              "      <td>18936.285714</td>\n",
              "      <td>19208.571429</td>\n",
              "      <td>19417.571429</td>\n",
              "      <td>19486.857143</td>\n",
              "      <td>19048.625000</td>\n",
              "      <td>...</td>\n",
              "      <td>299.000000</td>\n",
              "      <td>269.333333</td>\n",
              "      <td>282.0</td>\n",
              "      <td>300.500000</td>\n",
              "      <td>311.000000</td>\n",
              "      <td>299.0</td>\n",
              "      <td>339.500000</td>\n",
              "      <td>359.000000</td>\n",
              "      <td>311.746032</td>\n",
              "      <td>0.0</td>\n",
              "    </tr>\n",
              "    <tr>\n",
              "      <th>4</th>\n",
              "      <td>1685.000000</td>\n",
              "      <td>1537.428571</td>\n",
              "      <td>1283.714286</td>\n",
              "      <td>1472.285714</td>\n",
              "      <td>1370.142857</td>\n",
              "      <td>1402.142857</td>\n",
              "      <td>1397.500000</td>\n",
              "      <td>1422.142857</td>\n",
              "      <td>1725.285714</td>\n",
              "      <td>3386.714286</td>\n",
              "      <td>...</td>\n",
              "      <td>25.000000</td>\n",
              "      <td>34.000000</td>\n",
              "      <td>33.0</td>\n",
              "      <td>37.333333</td>\n",
              "      <td>21.000000</td>\n",
              "      <td>32.5</td>\n",
              "      <td>48.333333</td>\n",
              "      <td>66.500000</td>\n",
              "      <td>39.230769</td>\n",
              "      <td>1.0</td>\n",
              "    </tr>\n",
              "  </tbody>\n",
              "</table>\n",
              "<p>5 rows × 6001 columns</p>\n",
              "</div>"
            ],
            "text/plain": [
              "           2000          2003          2006          2009          2012  \\\n",
              "0   1067.142857   1251.714286   1310.571429   1021.142857   1315.625000   \n",
              "1   1872.857143   1677.285714   2035.714286   2086.250000   1930.571429   \n",
              "2   3258.142857   3209.428571   3068.571429   3162.428571   3275.000000   \n",
              "3  18912.571429  19530.571429  19464.875000  19098.714286  18994.714286   \n",
              "4   1685.000000   1537.428571   1283.714286   1472.285714   1370.142857   \n",
              "\n",
              "           2015          2018          2021          2024          2027  ...  \\\n",
              "0    974.000000    936.857143    853.571429    936.142857   1044.285714  ...   \n",
              "1   2017.142857   1856.857143   1655.857143   1547.142857   1713.000000  ...   \n",
              "2   3324.571429   2999.000000   2970.500000   3213.000000   3205.571429  ...   \n",
              "3  18936.285714  19208.571429  19417.571429  19486.857143  19048.625000  ...   \n",
              "4   1402.142857   1397.500000   1422.142857   1725.285714   3386.714286  ...   \n",
              "\n",
              "        19973       19976  19979       19982       19985  19988       19991  \\\n",
              "0   19.666667   20.000000   23.0   42.666667   15.000000   21.5    6.500000   \n",
              "1   32.000000   29.666667   30.0   18.000000   17.000000   21.0   15.000000   \n",
              "2   19.666667   20.000000   23.5   14.500000   13.666667   17.0   17.000000   \n",
              "3  299.000000  269.333333  282.0  300.500000  311.000000  299.0  339.500000   \n",
              "4   25.000000   34.000000   33.0   37.333333   21.000000   32.5   48.333333   \n",
              "\n",
              "        19994       19997  Ceftriaxone  \n",
              "0    4.666667   17.585859          0.0  \n",
              "1   26.500000   21.736842          0.0  \n",
              "2   30.000000   19.125000          0.0  \n",
              "3  359.000000  311.746032          0.0  \n",
              "4   66.500000   39.230769          1.0  \n",
              "\n",
              "[5 rows x 6001 columns]"
            ]
          },
          "execution_count": 5,
          "metadata": {},
          "output_type": "execute_result"
        }
      ],
      "source": [
        "s_aureus.head()"
      ]
    },
    {
      "cell_type": "code",
      "execution_count": 6,
      "metadata": {},
      "outputs": [
        {
          "data": {
            "text/html": [
              "<div>\n",
              "<style scoped>\n",
              "    .dataframe tbody tr th:only-of-type {\n",
              "        vertical-align: middle;\n",
              "    }\n",
              "\n",
              "    .dataframe tbody tr th {\n",
              "        vertical-align: top;\n",
              "    }\n",
              "\n",
              "    .dataframe thead th {\n",
              "        text-align: right;\n",
              "    }\n",
              "</style>\n",
              "<table border=\"1\" class=\"dataframe\">\n",
              "  <thead>\n",
              "    <tr style=\"text-align: right;\">\n",
              "      <th></th>\n",
              "      <th>2000</th>\n",
              "      <th>2003</th>\n",
              "      <th>2006</th>\n",
              "      <th>2009</th>\n",
              "      <th>2012</th>\n",
              "      <th>2015</th>\n",
              "      <th>2018</th>\n",
              "      <th>2021</th>\n",
              "      <th>2024</th>\n",
              "      <th>2027</th>\n",
              "      <th>...</th>\n",
              "      <th>19973</th>\n",
              "      <th>19976</th>\n",
              "      <th>19979</th>\n",
              "      <th>19982</th>\n",
              "      <th>19985</th>\n",
              "      <th>19988</th>\n",
              "      <th>19991</th>\n",
              "      <th>19994</th>\n",
              "      <th>19997</th>\n",
              "      <th>Ceftriaxone</th>\n",
              "    </tr>\n",
              "  </thead>\n",
              "  <tbody>\n",
              "    <tr>\n",
              "      <th>0</th>\n",
              "      <td>1067.142857</td>\n",
              "      <td>1251.714286</td>\n",
              "      <td>1310.571429</td>\n",
              "      <td>1021.142857</td>\n",
              "      <td>1315.625000</td>\n",
              "      <td>974.000000</td>\n",
              "      <td>936.857143</td>\n",
              "      <td>853.571429</td>\n",
              "      <td>936.142857</td>\n",
              "      <td>1044.285714</td>\n",
              "      <td>...</td>\n",
              "      <td>19.666667</td>\n",
              "      <td>20.000000</td>\n",
              "      <td>23.000000</td>\n",
              "      <td>42.666667</td>\n",
              "      <td>15.000000</td>\n",
              "      <td>21.500000</td>\n",
              "      <td>6.500000</td>\n",
              "      <td>4.666667</td>\n",
              "      <td>17.585859</td>\n",
              "      <td>0.0</td>\n",
              "    </tr>\n",
              "    <tr>\n",
              "      <th>1</th>\n",
              "      <td>1872.857143</td>\n",
              "      <td>1677.285714</td>\n",
              "      <td>2035.714286</td>\n",
              "      <td>2086.250000</td>\n",
              "      <td>1930.571429</td>\n",
              "      <td>2017.142857</td>\n",
              "      <td>1856.857143</td>\n",
              "      <td>1655.857143</td>\n",
              "      <td>1547.142857</td>\n",
              "      <td>1713.000000</td>\n",
              "      <td>...</td>\n",
              "      <td>32.000000</td>\n",
              "      <td>29.666667</td>\n",
              "      <td>30.000000</td>\n",
              "      <td>18.000000</td>\n",
              "      <td>17.000000</td>\n",
              "      <td>21.000000</td>\n",
              "      <td>15.000000</td>\n",
              "      <td>26.500000</td>\n",
              "      <td>21.736842</td>\n",
              "      <td>0.0</td>\n",
              "    </tr>\n",
              "    <tr>\n",
              "      <th>2</th>\n",
              "      <td>3258.142857</td>\n",
              "      <td>3209.428571</td>\n",
              "      <td>3068.571429</td>\n",
              "      <td>3162.428571</td>\n",
              "      <td>3275.000000</td>\n",
              "      <td>3324.571429</td>\n",
              "      <td>2999.000000</td>\n",
              "      <td>2970.500000</td>\n",
              "      <td>3213.000000</td>\n",
              "      <td>3205.571429</td>\n",
              "      <td>...</td>\n",
              "      <td>19.666667</td>\n",
              "      <td>20.000000</td>\n",
              "      <td>23.500000</td>\n",
              "      <td>14.500000</td>\n",
              "      <td>13.666667</td>\n",
              "      <td>17.000000</td>\n",
              "      <td>17.000000</td>\n",
              "      <td>30.000000</td>\n",
              "      <td>19.125000</td>\n",
              "      <td>0.0</td>\n",
              "    </tr>\n",
              "    <tr>\n",
              "      <th>3</th>\n",
              "      <td>18912.571429</td>\n",
              "      <td>19530.571429</td>\n",
              "      <td>19464.875000</td>\n",
              "      <td>19098.714286</td>\n",
              "      <td>18994.714286</td>\n",
              "      <td>18936.285714</td>\n",
              "      <td>19208.571429</td>\n",
              "      <td>19417.571429</td>\n",
              "      <td>19486.857143</td>\n",
              "      <td>19048.625000</td>\n",
              "      <td>...</td>\n",
              "      <td>299.000000</td>\n",
              "      <td>269.333333</td>\n",
              "      <td>282.000000</td>\n",
              "      <td>300.500000</td>\n",
              "      <td>311.000000</td>\n",
              "      <td>299.000000</td>\n",
              "      <td>339.500000</td>\n",
              "      <td>359.000000</td>\n",
              "      <td>311.746032</td>\n",
              "      <td>0.0</td>\n",
              "    </tr>\n",
              "    <tr>\n",
              "      <th>4</th>\n",
              "      <td>1685.000000</td>\n",
              "      <td>1537.428571</td>\n",
              "      <td>1283.714286</td>\n",
              "      <td>1472.285714</td>\n",
              "      <td>1370.142857</td>\n",
              "      <td>1402.142857</td>\n",
              "      <td>1397.500000</td>\n",
              "      <td>1422.142857</td>\n",
              "      <td>1725.285714</td>\n",
              "      <td>3386.714286</td>\n",
              "      <td>...</td>\n",
              "      <td>25.000000</td>\n",
              "      <td>34.000000</td>\n",
              "      <td>33.000000</td>\n",
              "      <td>37.333333</td>\n",
              "      <td>21.000000</td>\n",
              "      <td>32.500000</td>\n",
              "      <td>48.333333</td>\n",
              "      <td>66.500000</td>\n",
              "      <td>39.230769</td>\n",
              "      <td>1.0</td>\n",
              "    </tr>\n",
              "    <tr>\n",
              "      <th>...</th>\n",
              "      <td>...</td>\n",
              "      <td>...</td>\n",
              "      <td>...</td>\n",
              "      <td>...</td>\n",
              "      <td>...</td>\n",
              "      <td>...</td>\n",
              "      <td>...</td>\n",
              "      <td>...</td>\n",
              "      <td>...</td>\n",
              "      <td>...</td>\n",
              "      <td>...</td>\n",
              "      <td>...</td>\n",
              "      <td>...</td>\n",
              "      <td>...</td>\n",
              "      <td>...</td>\n",
              "      <td>...</td>\n",
              "      <td>...</td>\n",
              "      <td>...</td>\n",
              "      <td>...</td>\n",
              "      <td>...</td>\n",
              "      <td>...</td>\n",
              "    </tr>\n",
              "    <tr>\n",
              "      <th>208</th>\n",
              "      <td>1933.285714</td>\n",
              "      <td>1956.500000</td>\n",
              "      <td>2012.571429</td>\n",
              "      <td>1882.000000</td>\n",
              "      <td>1955.142857</td>\n",
              "      <td>1951.285714</td>\n",
              "      <td>1943.714286</td>\n",
              "      <td>2055.125000</td>\n",
              "      <td>1928.857143</td>\n",
              "      <td>1687.571429</td>\n",
              "      <td>...</td>\n",
              "      <td>140.500000</td>\n",
              "      <td>144.500000</td>\n",
              "      <td>102.666667</td>\n",
              "      <td>123.500000</td>\n",
              "      <td>113.500000</td>\n",
              "      <td>121.000000</td>\n",
              "      <td>126.666667</td>\n",
              "      <td>147.500000</td>\n",
              "      <td>122.560748</td>\n",
              "      <td>0.0</td>\n",
              "    </tr>\n",
              "    <tr>\n",
              "      <th>209</th>\n",
              "      <td>7296.714286</td>\n",
              "      <td>6215.714286</td>\n",
              "      <td>6115.500000</td>\n",
              "      <td>6069.000000</td>\n",
              "      <td>6585.857143</td>\n",
              "      <td>6207.857143</td>\n",
              "      <td>5809.142857</td>\n",
              "      <td>5879.142857</td>\n",
              "      <td>6068.714286</td>\n",
              "      <td>8413.125000</td>\n",
              "      <td>...</td>\n",
              "      <td>163.000000</td>\n",
              "      <td>191.500000</td>\n",
              "      <td>151.000000</td>\n",
              "      <td>180.666667</td>\n",
              "      <td>188.500000</td>\n",
              "      <td>163.500000</td>\n",
              "      <td>183.000000</td>\n",
              "      <td>173.000000</td>\n",
              "      <td>178.163462</td>\n",
              "      <td>1.0</td>\n",
              "    </tr>\n",
              "    <tr>\n",
              "      <th>210</th>\n",
              "      <td>2604.500000</td>\n",
              "      <td>2626.857143</td>\n",
              "      <td>2614.857143</td>\n",
              "      <td>2408.142857</td>\n",
              "      <td>2628.428571</td>\n",
              "      <td>2723.571429</td>\n",
              "      <td>2561.142857</td>\n",
              "      <td>2282.000000</td>\n",
              "      <td>2479.375000</td>\n",
              "      <td>2511.571429</td>\n",
              "      <td>...</td>\n",
              "      <td>21.000000</td>\n",
              "      <td>4.000000</td>\n",
              "      <td>11.500000</td>\n",
              "      <td>20.000000</td>\n",
              "      <td>19.500000</td>\n",
              "      <td>19.000000</td>\n",
              "      <td>10.500000</td>\n",
              "      <td>4.666667</td>\n",
              "      <td>13.857143</td>\n",
              "      <td>1.0</td>\n",
              "    </tr>\n",
              "    <tr>\n",
              "      <th>211</th>\n",
              "      <td>1341.142857</td>\n",
              "      <td>1190.000000</td>\n",
              "      <td>1399.142857</td>\n",
              "      <td>1469.000000</td>\n",
              "      <td>1126.000000</td>\n",
              "      <td>1049.428571</td>\n",
              "      <td>958.857143</td>\n",
              "      <td>1092.000000</td>\n",
              "      <td>1206.857143</td>\n",
              "      <td>1211.000000</td>\n",
              "      <td>...</td>\n",
              "      <td>18.000000</td>\n",
              "      <td>21.500000</td>\n",
              "      <td>15.666667</td>\n",
              "      <td>18.000000</td>\n",
              "      <td>18.000000</td>\n",
              "      <td>22.666667</td>\n",
              "      <td>17.500000</td>\n",
              "      <td>17.000000</td>\n",
              "      <td>20.863636</td>\n",
              "      <td>0.0</td>\n",
              "    </tr>\n",
              "    <tr>\n",
              "      <th>212</th>\n",
              "      <td>12397.285714</td>\n",
              "      <td>12106.714286</td>\n",
              "      <td>13133.285714</td>\n",
              "      <td>11587.142857</td>\n",
              "      <td>14039.285714</td>\n",
              "      <td>12262.375000</td>\n",
              "      <td>11038.428571</td>\n",
              "      <td>10385.428571</td>\n",
              "      <td>10270.857143</td>\n",
              "      <td>11389.428571</td>\n",
              "      <td>...</td>\n",
              "      <td>360.500000</td>\n",
              "      <td>401.500000</td>\n",
              "      <td>359.666667</td>\n",
              "      <td>391.500000</td>\n",
              "      <td>379.500000</td>\n",
              "      <td>355.000000</td>\n",
              "      <td>366.333333</td>\n",
              "      <td>329.000000</td>\n",
              "      <td>365.190476</td>\n",
              "      <td>0.0</td>\n",
              "    </tr>\n",
              "  </tbody>\n",
              "</table>\n",
              "<p>213 rows × 6001 columns</p>\n",
              "</div>"
            ],
            "text/plain": [
              "             2000          2003          2006          2009          2012  \\\n",
              "0     1067.142857   1251.714286   1310.571429   1021.142857   1315.625000   \n",
              "1     1872.857143   1677.285714   2035.714286   2086.250000   1930.571429   \n",
              "2     3258.142857   3209.428571   3068.571429   3162.428571   3275.000000   \n",
              "3    18912.571429  19530.571429  19464.875000  19098.714286  18994.714286   \n",
              "4     1685.000000   1537.428571   1283.714286   1472.285714   1370.142857   \n",
              "..            ...           ...           ...           ...           ...   \n",
              "208   1933.285714   1956.500000   2012.571429   1882.000000   1955.142857   \n",
              "209   7296.714286   6215.714286   6115.500000   6069.000000   6585.857143   \n",
              "210   2604.500000   2626.857143   2614.857143   2408.142857   2628.428571   \n",
              "211   1341.142857   1190.000000   1399.142857   1469.000000   1126.000000   \n",
              "212  12397.285714  12106.714286  13133.285714  11587.142857  14039.285714   \n",
              "\n",
              "             2015          2018          2021          2024          2027  \\\n",
              "0      974.000000    936.857143    853.571429    936.142857   1044.285714   \n",
              "1     2017.142857   1856.857143   1655.857143   1547.142857   1713.000000   \n",
              "2     3324.571429   2999.000000   2970.500000   3213.000000   3205.571429   \n",
              "3    18936.285714  19208.571429  19417.571429  19486.857143  19048.625000   \n",
              "4     1402.142857   1397.500000   1422.142857   1725.285714   3386.714286   \n",
              "..            ...           ...           ...           ...           ...   \n",
              "208   1951.285714   1943.714286   2055.125000   1928.857143   1687.571429   \n",
              "209   6207.857143   5809.142857   5879.142857   6068.714286   8413.125000   \n",
              "210   2723.571429   2561.142857   2282.000000   2479.375000   2511.571429   \n",
              "211   1049.428571    958.857143   1092.000000   1206.857143   1211.000000   \n",
              "212  12262.375000  11038.428571  10385.428571  10270.857143  11389.428571   \n",
              "\n",
              "     ...       19973       19976       19979       19982       19985  \\\n",
              "0    ...   19.666667   20.000000   23.000000   42.666667   15.000000   \n",
              "1    ...   32.000000   29.666667   30.000000   18.000000   17.000000   \n",
              "2    ...   19.666667   20.000000   23.500000   14.500000   13.666667   \n",
              "3    ...  299.000000  269.333333  282.000000  300.500000  311.000000   \n",
              "4    ...   25.000000   34.000000   33.000000   37.333333   21.000000   \n",
              "..   ...         ...         ...         ...         ...         ...   \n",
              "208  ...  140.500000  144.500000  102.666667  123.500000  113.500000   \n",
              "209  ...  163.000000  191.500000  151.000000  180.666667  188.500000   \n",
              "210  ...   21.000000    4.000000   11.500000   20.000000   19.500000   \n",
              "211  ...   18.000000   21.500000   15.666667   18.000000   18.000000   \n",
              "212  ...  360.500000  401.500000  359.666667  391.500000  379.500000   \n",
              "\n",
              "          19988       19991       19994       19997  Ceftriaxone  \n",
              "0     21.500000    6.500000    4.666667   17.585859          0.0  \n",
              "1     21.000000   15.000000   26.500000   21.736842          0.0  \n",
              "2     17.000000   17.000000   30.000000   19.125000          0.0  \n",
              "3    299.000000  339.500000  359.000000  311.746032          0.0  \n",
              "4     32.500000   48.333333   66.500000   39.230769          1.0  \n",
              "..          ...         ...         ...         ...          ...  \n",
              "208  121.000000  126.666667  147.500000  122.560748          0.0  \n",
              "209  163.500000  183.000000  173.000000  178.163462          1.0  \n",
              "210   19.000000   10.500000    4.666667   13.857143          1.0  \n",
              "211   22.666667   17.500000   17.000000   20.863636          0.0  \n",
              "212  355.000000  366.333333  329.000000  365.190476          0.0  \n",
              "\n",
              "[213 rows x 6001 columns]"
            ]
          },
          "execution_count": 6,
          "metadata": {},
          "output_type": "execute_result"
        }
      ],
      "source": [
        "s_aureus"
      ]
    },
    {
      "cell_type": "code",
      "execution_count": 7,
      "metadata": {},
      "outputs": [
        {
          "data": {
            "text/plain": [
              "'Ceftriaxone'"
            ]
          },
          "execution_count": 7,
          "metadata": {},
          "output_type": "execute_result"
        }
      ],
      "source": [
        "bacteria = s_aureus.columns[-1]\n",
        "bacteria"
      ]
    },
    {
      "cell_type": "code",
      "execution_count": 8,
      "metadata": {
        "id": "-4dAtvUEkibF"
      },
      "outputs": [],
      "source": [
        "X = s_aureus.iloc[:, 0:6000].values  # variables independientes (espectros de masa)\n",
        "y = s_aureus.iloc[:, 6000].values    # variable dependientes (resistencia a ciprofloxacin)\n",
        "X = np.asarray(X).astype(np.float32)\n",
        "y = np.asarray(y).astype(np.float32)"
      ]
    },
    {
      "cell_type": "code",
      "execution_count": 9,
      "metadata": {},
      "outputs": [
        {
          "data": {
            "text/plain": [
              "213"
            ]
          },
          "execution_count": 9,
          "metadata": {},
          "output_type": "execute_result"
        }
      ],
      "source": [
        "len(X)"
      ]
    },
    {
      "cell_type": "code",
      "execution_count": 10,
      "metadata": {
        "id": "ioZIrUNqlgP9"
      },
      "outputs": [],
      "source": [
        "X_train, X_test, y_train, y_test = train_test_split(X, y, test_size = 0.2, random_state = 0, stratify=y)"
      ]
    },
    {
      "cell_type": "code",
      "execution_count": 11,
      "metadata": {},
      "outputs": [
        {
          "data": {
            "text/plain": [
              "170"
            ]
          },
          "execution_count": 11,
          "metadata": {},
          "output_type": "execute_result"
        }
      ],
      "source": [
        "len(X_train)"
      ]
    },
    {
      "cell_type": "code",
      "execution_count": 12,
      "metadata": {},
      "outputs": [
        {
          "data": {
            "text/plain": [
              "170"
            ]
          },
          "execution_count": 12,
          "metadata": {},
          "output_type": "execute_result"
        }
      ],
      "source": [
        "len(y_train)"
      ]
    },
    {
      "cell_type": "code",
      "execution_count": 13,
      "metadata": {
        "id": "Cz1ZnhEykiY9"
      },
      "outputs": [],
      "source": [
        "scaler=Normalizer(norm='max')\n",
        "sc_X = scaler\n",
        "X_train = sc_X.fit_transform(X_train)\n",
        "X_test = sc_X.transform(X_test)"
      ]
    },
    {
      "cell_type": "code",
      "execution_count": 14,
      "metadata": {
        "id": "HiHCUFo-kiW9"
      },
      "outputs": [],
      "source": [
        "sample_size = X_train.shape[0] # numero de muestras en el set de datos\n",
        "time_steps  = X_train.shape[1] # numero de atributos en el set de datos\n",
        "input_dimension = 1            #\n",
        "\n",
        "X_train_reshaped = X_train.reshape(sample_size,time_steps,input_dimension)\n",
        "X_test_reshaped = X_test.reshape(X_test.shape[0],X_test.shape[1],1)"
      ]
    },
    {
      "cell_type": "code",
      "execution_count": 15,
      "metadata": {
        "id": "VEuHRBvAlw79"
      },
      "outputs": [],
      "source": [
        "reduce_lr = ReduceLROnPlateau(monitor='val_loss', factor=0.1, patience=3, min_lr=0.000001)\n",
        "early_st = EarlyStopping(monitor='val_loss', patience=4, restore_best_weights=True)\n",
        "\n",
        "n_timesteps = X_train_reshaped.shape[1] #\n",
        "n_features  = X_train_reshaped.shape[2] #"
      ]
    },
    {
      "cell_type": "markdown",
      "metadata": {
        "id": "hBf6W9iPXz3p"
      },
      "source": [
        "# Create and fit DeepAMR model"
      ]
    },
    {
      "cell_type": "code",
      "execution_count": 16,
      "metadata": {
        "colab": {
          "base_uri": "https://localhost:8080/",
          "height": 952
        },
        "id": "AlJHRRzlkiH9",
        "outputId": "d20e434d-8e4c-431b-a401-ac0b057ded3a"
      },
      "outputs": [
        {
          "name": "stdout",
          "output_type": "stream",
          "text": [
            "Model: \"Modelo_s_aureus_ciprofloxacin\"\n",
            "_________________________________________________________________\n",
            " Layer (type)                Output Shape              Param #   \n",
            "=================================================================\n",
            " Conv_1 (Conv1D)             (None, 5984, 64)          1152      \n",
            "                                                                 \n",
            " batch_normalization (BatchN  (None, 5984, 64)         256       \n",
            " ormalization)                                                   \n",
            "                                                                 \n",
            " activation (Activation)     (None, 5984, 64)          0         \n",
            "                                                                 \n",
            " MaxPooling1D_1 (MaxPooling1  (None, 2992, 64)         0         \n",
            " D)                                                              \n",
            "                                                                 \n",
            " Conv_2 (Conv1D)             (None, 2984, 128)         73856     \n",
            "                                                                 \n",
            " batch_normalization_1 (Batc  (None, 2984, 128)        512       \n",
            " hNormalization)                                                 \n",
            "                                                                 \n",
            " activation_1 (Activation)   (None, 2984, 128)         0         \n",
            "                                                                 \n",
            " MaxPooling1D_2 (MaxPooling1  (None, 1492, 128)        0         \n",
            " D)                                                              \n",
            "                                                                 \n",
            " Conv_3 (Conv1D)             (None, 1488, 256)         164096    \n",
            "                                                                 \n",
            " batch_normalization_2 (Batc  (None, 1488, 256)        1024      \n",
            " hNormalization)                                                 \n",
            "                                                                 \n",
            " activation_2 (Activation)   (None, 1488, 256)         0         \n",
            "                                                                 \n",
            " MaxPooling1D_3 (MaxPooling1  (None, 744, 256)         0         \n",
            " D)                                                              \n",
            "                                                                 \n",
            " Conv_4 (Conv1D)             (None, 740, 256)          327936    \n",
            "                                                                 \n",
            " batch_normalization_3 (Batc  (None, 740, 256)         1024      \n",
            " hNormalization)                                                 \n",
            "                                                                 \n",
            " activation_3 (Activation)   (None, 740, 256)          0         \n",
            "                                                                 \n",
            " MaxPooling1D_4 (MaxPooling1  (None, 370, 256)         0         \n",
            " D)                                                              \n",
            "                                                                 \n",
            " flatten (Flatten)           (None, 94720)             0         \n",
            "                                                                 \n",
            " dropout (Dropout)           (None, 94720)             0         \n",
            "                                                                 \n",
            " fully_connected_0 (Dense)   (None, 256)               24248576  \n",
            "                                                                 \n",
            " fully_connected_1 (Dense)   (None, 64)                16448     \n",
            "                                                                 \n",
            " fully_connected_2 (Dense)   (None, 64)                4160      \n",
            "                                                                 \n",
            " OUT_Layer (Dense)           (None, 1)                 65        \n",
            "                                                                 \n",
            "=================================================================\n",
            "Total params: 24,839,105\n",
            "Trainable params: 24,837,697\n",
            "Non-trainable params: 1,408\n",
            "_________________________________________________________________\n"
          ]
        }
      ],
      "source": [
        "model = Sequential(name=\"Modelo_s_aureus_ciprofloxacin\")\n",
        "init_mode = 'normal'\n",
        "model.add(Conv1D(filters=(64), kernel_size=(17), input_shape = (n_timesteps,n_features), name='Conv_1'))\n",
        "model.add(BatchNormalization())\n",
        "model.add(Activation('relu'))\n",
        "model.add(MaxPooling1D(pool_size=2, name=\"MaxPooling1D_1\"))\n",
        "\n",
        "model.add(Conv1D(filters=(128), kernel_size=(9),kernel_initializer=init_mode, kernel_regularizer=regularizers.l2(0.0001),  name='Conv_2'))\n",
        "model.add(BatchNormalization())\n",
        "model.add(Activation('relu'))\n",
        "model.add(MaxPooling1D(pool_size=2, name=\"MaxPooling1D_2\"))\n",
        "\n",
        "model.add(Conv1D(filters=(256), kernel_size=(5),kernel_initializer=init_mode,kernel_regularizer=regularizers.l2(0.0001),   name='Conv_3'))\n",
        "model.add(BatchNormalization())\n",
        "model.add(Activation('relu'))\n",
        "model.add(MaxPooling1D(pool_size=2, name=\"MaxPooling1D_3\"))\n",
        "\n",
        "model.add(Conv1D(filters=(256), kernel_size=(5),kernel_initializer=init_mode, kernel_regularizer=regularizers.l2(0.0001),   name='Conv_4'))\n",
        "model.add(BatchNormalization())\n",
        "model.add(Activation('relu'))\n",
        "model.add(MaxPooling1D(pool_size=2, name=\"MaxPooling1D_4\"))\n",
        "\n",
        "model.add(Flatten())\n",
        "model.add(Dropout(0.65))\n",
        "model.add(Dense(256, activation='relu',kernel_initializer=init_mode, kernel_regularizer=regularizers.l2(0.0001), name=\"fully_connected_0\"))\n",
        "model.add(Dense(64, activation='relu',kernel_initializer=init_mode, kernel_regularizer=regularizers.l2(0.0001), name=\"fully_connected_1\"))\n",
        "model.add(Dense(64, activation='relu',kernel_initializer=init_mode, kernel_regularizer=regularizers.l2(0.0001),  name=\"fully_connected_2\"))\n",
        "model.add(Dense(n_features, activation='sigmoid', name=\"OUT_Layer\"))\n",
        "\n",
        "model.compile(optimizer = Adam(learning_rate=0.0001), loss = 'binary_crossentropy',  metrics=METRICS)\n",
        "model.summary()"
      ]
    },
    {
      "cell_type": "code",
      "execution_count": 17,
      "metadata": {},
      "outputs": [
        {
          "data": {
            "text/plain": [
              "(170, 6000, 1)"
            ]
          },
          "execution_count": 17,
          "metadata": {},
          "output_type": "execute_result"
        }
      ],
      "source": [
        "X_train_reshaped.shape"
      ]
    },
    {
      "cell_type": "code",
      "execution_count": 18,
      "metadata": {},
      "outputs": [
        {
          "data": {
            "text/plain": [
              "(170,)"
            ]
          },
          "execution_count": 18,
          "metadata": {},
          "output_type": "execute_result"
        }
      ],
      "source": [
        "y_train.shape"
      ]
    },
    {
      "cell_type": "code",
      "execution_count": 19,
      "metadata": {
        "colab": {
          "base_uri": "https://localhost:8080/"
        },
        "id": "lDksoJagl3H9",
        "outputId": "b244d4a7-0b9c-4b4e-cb2a-f5159586c644"
      },
      "outputs": [
        {
          "name": "stdout",
          "output_type": "stream",
          "text": [
            "Epoch 1/100\n"
          ]
        },
        {
          "name": "stderr",
          "output_type": "stream",
          "text": [
            "2025-01-19 14:03:41.438524: I tensorflow/stream_executor/cuda/cuda_dnn.cc:384] Loaded cuDNN version 8907\n",
            "2025-01-19 14:03:41.463146: I tensorflow/core/platform/default/subprocess.cc:304] Start cannot spawn child process: No such file or directory\n",
            "2025-01-19 14:03:42.340479: I tensorflow/stream_executor/cuda/cuda_blas.cc:1614] TensorFloat-32 will be used for the matrix multiplication. This will only be logged once.\n"
          ]
        },
        {
          "name": "stdout",
          "output_type": "stream",
          "text": [
            "16/16 [==============================] - 5s 97ms/step - loss: 7.1505 - tp: 4.0000 - fp: 21.0000 - tn: 100.0000 - fn: 28.0000 - accuracy: 0.6797 - precision: 0.1600 - recall: 0.1250 - auc: 0.4308 - prc: 0.1915 - val_loss: 6.8003 - val_tp: 0.0000e+00 - val_fp: 0.0000e+00 - val_tn: 13.0000 - val_fn: 4.0000 - val_accuracy: 0.7647 - val_precision: 0.0000e+00 - val_recall: 0.0000e+00 - val_auc: 0.4135 - val_prc: 0.2046 - lr: 1.0000e-04\n",
            "Epoch 2/100\n",
            "16/16 [==============================] - 1s 37ms/step - loss: 6.6739 - tp: 5.0000 - fp: 5.0000 - tn: 116.0000 - fn: 27.0000 - accuracy: 0.7908 - precision: 0.5000 - recall: 0.1562 - auc: 0.6086 - prc: 0.3464 - val_loss: 6.7109 - val_tp: 0.0000e+00 - val_fp: 0.0000e+00 - val_tn: 13.0000 - val_fn: 4.0000 - val_accuracy: 0.7647 - val_precision: 0.0000e+00 - val_recall: 0.0000e+00 - val_auc: 0.4327 - val_prc: 0.2010 - lr: 1.0000e-04\n",
            "Epoch 3/100\n",
            "16/16 [==============================] - 1s 37ms/step - loss: 6.5549 - tp: 7.0000 - fp: 10.0000 - tn: 111.0000 - fn: 25.0000 - accuracy: 0.7712 - precision: 0.4118 - recall: 0.2188 - auc: 0.6925 - prc: 0.3478 - val_loss: 6.5959 - val_tp: 0.0000e+00 - val_fp: 0.0000e+00 - val_tn: 13.0000 - val_fn: 4.0000 - val_accuracy: 0.7647 - val_precision: 0.0000e+00 - val_recall: 0.0000e+00 - val_auc: 0.6731 - val_prc: 0.4040 - lr: 1.0000e-04\n",
            "Epoch 4/100\n",
            "16/16 [==============================] - 1s 37ms/step - loss: 6.5576 - tp: 7.0000 - fp: 12.0000 - tn: 109.0000 - fn: 25.0000 - accuracy: 0.7582 - precision: 0.3684 - recall: 0.2188 - auc: 0.6597 - prc: 0.3139 - val_loss: 6.5373 - val_tp: 0.0000e+00 - val_fp: 0.0000e+00 - val_tn: 13.0000 - val_fn: 4.0000 - val_accuracy: 0.7647 - val_precision: 0.0000e+00 - val_recall: 0.0000e+00 - val_auc: 0.5385 - val_prc: 0.2304 - lr: 1.0000e-04\n",
            "Epoch 5/100\n",
            "16/16 [==============================] - 1s 36ms/step - loss: 6.4360 - tp: 8.0000 - fp: 15.0000 - tn: 106.0000 - fn: 24.0000 - accuracy: 0.7451 - precision: 0.3478 - recall: 0.2500 - auc: 0.7160 - prc: 0.3602 - val_loss: 6.4721 - val_tp: 0.0000e+00 - val_fp: 0.0000e+00 - val_tn: 13.0000 - val_fn: 4.0000 - val_accuracy: 0.7647 - val_precision: 0.0000e+00 - val_recall: 0.0000e+00 - val_auc: 0.5577 - val_prc: 0.2579 - lr: 1.0000e-04\n",
            "Epoch 6/100\n",
            "16/16 [==============================] - 1s 38ms/step - loss: 6.3506 - tp: 3.0000 - fp: 4.0000 - tn: 117.0000 - fn: 29.0000 - accuracy: 0.7843 - precision: 0.4286 - recall: 0.0938 - auc: 0.7346 - prc: 0.4227 - val_loss: 6.4072 - val_tp: 0.0000e+00 - val_fp: 0.0000e+00 - val_tn: 13.0000 - val_fn: 4.0000 - val_accuracy: 0.7647 - val_precision: 0.0000e+00 - val_recall: 0.0000e+00 - val_auc: 0.5288 - val_prc: 0.2479 - lr: 1.0000e-04\n",
            "Epoch 7/100\n",
            "16/16 [==============================] - 1s 38ms/step - loss: 6.2763 - tp: 12.0000 - fp: 11.0000 - tn: 110.0000 - fn: 20.0000 - accuracy: 0.7974 - precision: 0.5217 - recall: 0.3750 - auc: 0.7713 - prc: 0.4496 - val_loss: 6.3881 - val_tp: 0.0000e+00 - val_fp: 0.0000e+00 - val_tn: 13.0000 - val_fn: 4.0000 - val_accuracy: 0.7647 - val_precision: 0.0000e+00 - val_recall: 0.0000e+00 - val_auc: 0.5000 - val_prc: 0.2257 - lr: 1.0000e-04\n",
            "Epoch 8/100\n",
            "16/16 [==============================] - 1s 37ms/step - loss: 6.1909 - tp: 7.0000 - fp: 1.0000 - tn: 120.0000 - fn: 25.0000 - accuracy: 0.8301 - precision: 0.8750 - recall: 0.2188 - auc: 0.7696 - prc: 0.5824 - val_loss: 6.3299 - val_tp: 0.0000e+00 - val_fp: 0.0000e+00 - val_tn: 13.0000 - val_fn: 4.0000 - val_accuracy: 0.7647 - val_precision: 0.0000e+00 - val_recall: 0.0000e+00 - val_auc: 0.5385 - val_prc: 0.3166 - lr: 1.0000e-04\n",
            "Epoch 9/100\n",
            "16/16 [==============================] - 1s 38ms/step - loss: 6.1519 - tp: 10.0000 - fp: 9.0000 - tn: 112.0000 - fn: 22.0000 - accuracy: 0.7974 - precision: 0.5263 - recall: 0.3125 - auc: 0.7939 - prc: 0.4900 - val_loss: 6.2803 - val_tp: 0.0000e+00 - val_fp: 0.0000e+00 - val_tn: 13.0000 - val_fn: 4.0000 - val_accuracy: 0.7647 - val_precision: 0.0000e+00 - val_recall: 0.0000e+00 - val_auc: 0.5769 - val_prc: 0.2515 - lr: 1.0000e-04\n",
            "Epoch 10/100\n",
            "16/16 [==============================] - 1s 38ms/step - loss: 6.0238 - tp: 14.0000 - fp: 4.0000 - tn: 117.0000 - fn: 18.0000 - accuracy: 0.8562 - precision: 0.7778 - recall: 0.4375 - auc: 0.8729 - prc: 0.6858 - val_loss: 6.2166 - val_tp: 0.0000e+00 - val_fp: 0.0000e+00 - val_tn: 13.0000 - val_fn: 4.0000 - val_accuracy: 0.7647 - val_precision: 0.0000e+00 - val_recall: 0.0000e+00 - val_auc: 0.4904 - val_prc: 0.2405 - lr: 1.0000e-04\n",
            "Epoch 11/100\n",
            "16/16 [==============================] - 1s 36ms/step - loss: 6.0642 - tp: 9.0000 - fp: 7.0000 - tn: 114.0000 - fn: 23.0000 - accuracy: 0.8039 - precision: 0.5625 - recall: 0.2812 - auc: 0.7837 - prc: 0.5439 - val_loss: 6.1672 - val_tp: 0.0000e+00 - val_fp: 0.0000e+00 - val_tn: 13.0000 - val_fn: 4.0000 - val_accuracy: 0.7647 - val_precision: 0.0000e+00 - val_recall: 0.0000e+00 - val_auc: 0.5673 - val_prc: 0.2931 - lr: 1.0000e-04\n",
            "Epoch 12/100\n",
            "16/16 [==============================] - 1s 37ms/step - loss: 6.0675 - tp: 12.0000 - fp: 16.0000 - tn: 105.0000 - fn: 20.0000 - accuracy: 0.7647 - precision: 0.4286 - recall: 0.3750 - auc: 0.7930 - prc: 0.4064 - val_loss: 6.1274 - val_tp: 0.0000e+00 - val_fp: 0.0000e+00 - val_tn: 13.0000 - val_fn: 4.0000 - val_accuracy: 0.7647 - val_precision: 0.0000e+00 - val_recall: 0.0000e+00 - val_auc: 0.7019 - val_prc: 0.3154 - lr: 1.0000e-04\n",
            "Epoch 13/100\n",
            "16/16 [==============================] - 1s 38ms/step - loss: 6.0124 - tp: 16.0000 - fp: 9.0000 - tn: 112.0000 - fn: 16.0000 - accuracy: 0.8366 - precision: 0.6400 - recall: 0.5000 - auc: 0.7650 - prc: 0.5337 - val_loss: 6.0826 - val_tp: 0.0000e+00 - val_fp: 0.0000e+00 - val_tn: 13.0000 - val_fn: 4.0000 - val_accuracy: 0.7647 - val_precision: 0.0000e+00 - val_recall: 0.0000e+00 - val_auc: 0.6538 - val_prc: 0.2795 - lr: 1.0000e-04\n",
            "Epoch 14/100\n",
            "16/16 [==============================] - 1s 39ms/step - loss: 5.9300 - tp: 17.0000 - fp: 11.0000 - tn: 110.0000 - fn: 15.0000 - accuracy: 0.8301 - precision: 0.6071 - recall: 0.5312 - auc: 0.8409 - prc: 0.5150 - val_loss: 6.0411 - val_tp: 0.0000e+00 - val_fp: 0.0000e+00 - val_tn: 13.0000 - val_fn: 4.0000 - val_accuracy: 0.7647 - val_precision: 0.0000e+00 - val_recall: 0.0000e+00 - val_auc: 0.6058 - val_prc: 0.2552 - lr: 1.0000e-04\n",
            "Epoch 15/100\n",
            "16/16 [==============================] - 1s 40ms/step - loss: 5.9126 - tp: 11.0000 - fp: 15.0000 - tn: 106.0000 - fn: 21.0000 - accuracy: 0.7647 - precision: 0.4231 - recall: 0.3438 - auc: 0.7917 - prc: 0.4862 - val_loss: 6.0164 - val_tp: 0.0000e+00 - val_fp: 0.0000e+00 - val_tn: 13.0000 - val_fn: 4.0000 - val_accuracy: 0.7647 - val_precision: 0.0000e+00 - val_recall: 0.0000e+00 - val_auc: 0.6154 - val_prc: 0.3123 - lr: 1.0000e-04\n",
            "Epoch 16/100\n",
            "16/16 [==============================] - 1s 37ms/step - loss: 5.9170 - tp: 9.0000 - fp: 6.0000 - tn: 115.0000 - fn: 23.0000 - accuracy: 0.8105 - precision: 0.6000 - recall: 0.2812 - auc: 0.7572 - prc: 0.4582 - val_loss: 6.0065 - val_tp: 0.0000e+00 - val_fp: 0.0000e+00 - val_tn: 13.0000 - val_fn: 4.0000 - val_accuracy: 0.7647 - val_precision: 0.0000e+00 - val_recall: 0.0000e+00 - val_auc: 0.6250 - val_prc: 0.3093 - lr: 1.0000e-04\n",
            "Epoch 17/100\n",
            "16/16 [==============================] - 1s 39ms/step - loss: 5.7902 - tp: 12.0000 - fp: 12.0000 - tn: 109.0000 - fn: 20.0000 - accuracy: 0.7908 - precision: 0.5000 - recall: 0.3750 - auc: 0.8403 - prc: 0.5568 - val_loss: 5.9347 - val_tp: 0.0000e+00 - val_fp: 0.0000e+00 - val_tn: 13.0000 - val_fn: 4.0000 - val_accuracy: 0.7647 - val_precision: 0.0000e+00 - val_recall: 0.0000e+00 - val_auc: 0.5865 - val_prc: 0.2811 - lr: 1.0000e-04\n",
            "Epoch 18/100\n",
            "16/16 [==============================] - 1s 38ms/step - loss: 5.7501 - tp: 12.0000 - fp: 7.0000 - tn: 114.0000 - fn: 20.0000 - accuracy: 0.8235 - precision: 0.6316 - recall: 0.3750 - auc: 0.8443 - prc: 0.5925 - val_loss: 5.9253 - val_tp: 0.0000e+00 - val_fp: 0.0000e+00 - val_tn: 13.0000 - val_fn: 4.0000 - val_accuracy: 0.7647 - val_precision: 0.0000e+00 - val_recall: 0.0000e+00 - val_auc: 0.5481 - val_prc: 0.2466 - lr: 1.0000e-04\n",
            "Epoch 19/100\n",
            "16/16 [==============================] - 1s 39ms/step - loss: 5.6544 - tp: 16.0000 - fp: 4.0000 - tn: 117.0000 - fn: 16.0000 - accuracy: 0.8693 - precision: 0.8000 - recall: 0.5000 - auc: 0.9001 - prc: 0.6784 - val_loss: 5.8741 - val_tp: 0.0000e+00 - val_fp: 0.0000e+00 - val_tn: 13.0000 - val_fn: 4.0000 - val_accuracy: 0.7647 - val_precision: 0.0000e+00 - val_recall: 0.0000e+00 - val_auc: 0.5865 - val_prc: 0.2620 - lr: 1.0000e-04\n",
            "Epoch 20/100\n",
            "16/16 [==============================] - 1s 38ms/step - loss: 5.6566 - tp: 21.0000 - fp: 11.0000 - tn: 110.0000 - fn: 11.0000 - accuracy: 0.8562 - precision: 0.6562 - recall: 0.6562 - auc: 0.8729 - prc: 0.6725 - val_loss: 5.8331 - val_tp: 0.0000e+00 - val_fp: 0.0000e+00 - val_tn: 13.0000 - val_fn: 4.0000 - val_accuracy: 0.7647 - val_precision: 0.0000e+00 - val_recall: 0.0000e+00 - val_auc: 0.6635 - val_prc: 0.3571 - lr: 1.0000e-04\n",
            "Epoch 21/100\n",
            "16/16 [==============================] - 1s 36ms/step - loss: 5.6111 - tp: 19.0000 - fp: 10.0000 - tn: 111.0000 - fn: 13.0000 - accuracy: 0.8497 - precision: 0.6552 - recall: 0.5938 - auc: 0.8789 - prc: 0.6605 - val_loss: 5.8073 - val_tp: 0.0000e+00 - val_fp: 0.0000e+00 - val_tn: 13.0000 - val_fn: 4.0000 - val_accuracy: 0.7647 - val_precision: 0.0000e+00 - val_recall: 0.0000e+00 - val_auc: 0.6442 - val_prc: 0.3603 - lr: 1.0000e-04\n",
            "Epoch 22/100\n",
            "16/16 [==============================] - 1s 38ms/step - loss: 5.5516 - tp: 12.0000 - fp: 5.0000 - tn: 116.0000 - fn: 20.0000 - accuracy: 0.8366 - precision: 0.7059 - recall: 0.3750 - auc: 0.9078 - prc: 0.7378 - val_loss: 5.7765 - val_tp: 0.0000e+00 - val_fp: 0.0000e+00 - val_tn: 13.0000 - val_fn: 4.0000 - val_accuracy: 0.7647 - val_precision: 0.0000e+00 - val_recall: 0.0000e+00 - val_auc: 0.5577 - val_prc: 0.2814 - lr: 1.0000e-04\n",
            "Epoch 23/100\n",
            "16/16 [==============================] - 1s 39ms/step - loss: 5.5213 - tp: 16.0000 - fp: 6.0000 - tn: 115.0000 - fn: 16.0000 - accuracy: 0.8562 - precision: 0.7273 - recall: 0.5000 - auc: 0.9072 - prc: 0.7579 - val_loss: 5.7603 - val_tp: 0.0000e+00 - val_fp: 0.0000e+00 - val_tn: 13.0000 - val_fn: 4.0000 - val_accuracy: 0.7647 - val_precision: 0.0000e+00 - val_recall: 0.0000e+00 - val_auc: 0.5096 - val_prc: 0.2439 - lr: 1.0000e-04\n",
            "Epoch 24/100\n",
            "16/16 [==============================] - 1s 39ms/step - loss: 5.5665 - tp: 20.0000 - fp: 14.0000 - tn: 107.0000 - fn: 12.0000 - accuracy: 0.8301 - precision: 0.5882 - recall: 0.6250 - auc: 0.8481 - prc: 0.6684 - val_loss: 5.7241 - val_tp: 0.0000e+00 - val_fp: 0.0000e+00 - val_tn: 13.0000 - val_fn: 4.0000 - val_accuracy: 0.7647 - val_precision: 0.0000e+00 - val_recall: 0.0000e+00 - val_auc: 0.4712 - val_prc: 0.2493 - lr: 1.0000e-04\n",
            "Epoch 25/100\n",
            "16/16 [==============================] - 1s 32ms/step - loss: 5.5409 - tp: 14.0000 - fp: 10.0000 - tn: 111.0000 - fn: 18.0000 - accuracy: 0.8170 - precision: 0.5833 - recall: 0.4375 - auc: 0.8237 - prc: 0.6414 - val_loss: 5.7443 - val_tp: 0.0000e+00 - val_fp: 0.0000e+00 - val_tn: 13.0000 - val_fn: 4.0000 - val_accuracy: 0.7647 - val_precision: 0.0000e+00 - val_recall: 0.0000e+00 - val_auc: 0.4519 - val_prc: 0.2414 - lr: 1.0000e-04\n",
            "Epoch 26/100\n",
            "16/16 [==============================] - 1s 38ms/step - loss: 5.4220 - tp: 13.0000 - fp: 2.0000 - tn: 119.0000 - fn: 19.0000 - accuracy: 0.8627 - precision: 0.8667 - recall: 0.4062 - auc: 0.9309 - prc: 0.7779 - val_loss: 5.7184 - val_tp: 0.0000e+00 - val_fp: 0.0000e+00 - val_tn: 13.0000 - val_fn: 4.0000 - val_accuracy: 0.7647 - val_precision: 0.0000e+00 - val_recall: 0.0000e+00 - val_auc: 0.5865 - val_prc: 0.4694 - lr: 1.0000e-04\n",
            "Epoch 27/100\n",
            "16/16 [==============================] - 1s 37ms/step - loss: 5.4071 - tp: 23.0000 - fp: 14.0000 - tn: 107.0000 - fn: 9.0000 - accuracy: 0.8497 - precision: 0.6216 - recall: 0.7188 - auc: 0.9124 - prc: 0.7498 - val_loss: 5.6337 - val_tp: 0.0000e+00 - val_fp: 0.0000e+00 - val_tn: 13.0000 - val_fn: 4.0000 - val_accuracy: 0.7647 - val_precision: 0.0000e+00 - val_recall: 0.0000e+00 - val_auc: 0.4519 - val_prc: 0.4035 - lr: 1.0000e-04\n",
            "Epoch 28/100\n",
            "16/16 [==============================] - 0s 31ms/step - loss: 5.4200 - tp: 12.0000 - fp: 4.0000 - tn: 117.0000 - fn: 20.0000 - accuracy: 0.8431 - precision: 0.7500 - recall: 0.3750 - auc: 0.8820 - prc: 0.6832 - val_loss: 5.6875 - val_tp: 1.0000 - val_fp: 2.0000 - val_tn: 11.0000 - val_fn: 3.0000 - val_accuracy: 0.7059 - val_precision: 0.3333 - val_recall: 0.2500 - val_auc: 0.5000 - val_prc: 0.4355 - lr: 1.0000e-04\n",
            "Epoch 29/100\n",
            "16/16 [==============================] - 1s 38ms/step - loss: 5.3699 - tp: 19.0000 - fp: 8.0000 - tn: 113.0000 - fn: 13.0000 - accuracy: 0.8627 - precision: 0.7037 - recall: 0.5938 - auc: 0.8896 - prc: 0.7142 - val_loss: 5.5775 - val_tp: 0.0000e+00 - val_fp: 0.0000e+00 - val_tn: 13.0000 - val_fn: 4.0000 - val_accuracy: 0.7647 - val_precision: 0.0000e+00 - val_recall: 0.0000e+00 - val_auc: 0.4904 - val_prc: 0.4191 - lr: 1.0000e-04\n",
            "Epoch 30/100\n",
            "16/16 [==============================] - 1s 38ms/step - loss: 5.3412 - tp: 19.0000 - fp: 10.0000 - tn: 111.0000 - fn: 13.0000 - accuracy: 0.8497 - precision: 0.6552 - recall: 0.5938 - auc: 0.8946 - prc: 0.7016 - val_loss: 5.5491 - val_tp: 0.0000e+00 - val_fp: 0.0000e+00 - val_tn: 13.0000 - val_fn: 4.0000 - val_accuracy: 0.7647 - val_precision: 0.0000e+00 - val_recall: 0.0000e+00 - val_auc: 0.4615 - val_prc: 0.4062 - lr: 1.0000e-04\n",
            "Epoch 31/100\n",
            "16/16 [==============================] - 0s 31ms/step - loss: 5.3037 - tp: 17.0000 - fp: 7.0000 - tn: 114.0000 - fn: 15.0000 - accuracy: 0.8562 - precision: 0.7083 - recall: 0.5312 - auc: 0.8994 - prc: 0.7348 - val_loss: 5.5901 - val_tp: 1.0000 - val_fp: 0.0000e+00 - val_tn: 13.0000 - val_fn: 3.0000 - val_accuracy: 0.8235 - val_precision: 1.0000 - val_recall: 0.2500 - val_auc: 0.5577 - val_prc: 0.4484 - lr: 1.0000e-04\n",
            "Epoch 32/100\n",
            "16/16 [==============================] - 1s 33ms/step - loss: 5.2849 - tp: 15.0000 - fp: 6.0000 - tn: 115.0000 - fn: 17.0000 - accuracy: 0.8497 - precision: 0.7143 - recall: 0.4688 - auc: 0.9007 - prc: 0.6958 - val_loss: 5.6084 - val_tp: 1.0000 - val_fp: 1.0000 - val_tn: 12.0000 - val_fn: 3.0000 - val_accuracy: 0.7647 - val_precision: 0.5000 - val_recall: 0.2500 - val_auc: 0.5962 - val_prc: 0.4624 - lr: 1.0000e-04\n",
            "Epoch 33/100\n",
            "16/16 [==============================] - 1s 38ms/step - loss: 5.3180 - tp: 17.0000 - fp: 10.0000 - tn: 111.0000 - fn: 15.0000 - accuracy: 0.8366 - precision: 0.6296 - recall: 0.5312 - auc: 0.8448 - prc: 0.6463 - val_loss: 5.5056 - val_tp: 0.0000e+00 - val_fp: 0.0000e+00 - val_tn: 13.0000 - val_fn: 4.0000 - val_accuracy: 0.7647 - val_precision: 0.0000e+00 - val_recall: 0.0000e+00 - val_auc: 0.5962 - val_prc: 0.6123 - lr: 1.0000e-04\n",
            "Epoch 34/100\n",
            "16/16 [==============================] - 0s 32ms/step - loss: 5.1738 - tp: 21.0000 - fp: 8.0000 - tn: 113.0000 - fn: 11.0000 - accuracy: 0.8758 - precision: 0.7241 - recall: 0.6562 - auc: 0.9357 - prc: 0.8327 - val_loss: 5.5612 - val_tp: 1.0000 - val_fp: 2.0000 - val_tn: 11.0000 - val_fn: 3.0000 - val_accuracy: 0.7059 - val_precision: 0.3333 - val_recall: 0.2500 - val_auc: 0.5769 - val_prc: 0.4747 - lr: 1.0000e-04\n",
            "Epoch 35/100\n",
            "16/16 [==============================] - 1s 37ms/step - loss: 5.1812 - tp: 19.0000 - fp: 9.0000 - tn: 112.0000 - fn: 13.0000 - accuracy: 0.8562 - precision: 0.6786 - recall: 0.5938 - auc: 0.9115 - prc: 0.7629 - val_loss: 5.4335 - val_tp: 1.0000 - val_fp: 0.0000e+00 - val_tn: 13.0000 - val_fn: 3.0000 - val_accuracy: 0.8235 - val_precision: 1.0000 - val_recall: 0.2500 - val_auc: 0.6442 - val_prc: 0.5066 - lr: 1.0000e-04\n",
            "Epoch 36/100\n",
            "16/16 [==============================] - 0s 32ms/step - loss: 5.1220 - tp: 22.0000 - fp: 5.0000 - tn: 116.0000 - fn: 10.0000 - accuracy: 0.9020 - precision: 0.8148 - recall: 0.6875 - auc: 0.9361 - prc: 0.8203 - val_loss: 5.4767 - val_tp: 2.0000 - val_fp: 3.0000 - val_tn: 10.0000 - val_fn: 2.0000 - val_accuracy: 0.7059 - val_precision: 0.4000 - val_recall: 0.5000 - val_auc: 0.6538 - val_prc: 0.6297 - lr: 1.0000e-04\n",
            "Epoch 37/100\n",
            "16/16 [==============================] - 1s 32ms/step - loss: 5.0836 - tp: 19.0000 - fp: 4.0000 - tn: 117.0000 - fn: 13.0000 - accuracy: 0.8889 - precision: 0.8261 - recall: 0.5938 - auc: 0.9425 - prc: 0.8422 - val_loss: 5.5016 - val_tp: 2.0000 - val_fp: 4.0000 - val_tn: 9.0000 - val_fn: 2.0000 - val_accuracy: 0.6471 - val_precision: 0.3333 - val_recall: 0.5000 - val_auc: 0.6442 - val_prc: 0.5734 - lr: 1.0000e-04\n",
            "Epoch 38/100\n",
            "16/16 [==============================] - 1s 32ms/step - loss: 5.0447 - tp: 20.0000 - fp: 6.0000 - tn: 115.0000 - fn: 12.0000 - accuracy: 0.8824 - precision: 0.7692 - recall: 0.6250 - auc: 0.9549 - prc: 0.8485 - val_loss: 5.4477 - val_tp: 2.0000 - val_fp: 3.0000 - val_tn: 10.0000 - val_fn: 2.0000 - val_accuracy: 0.7059 - val_precision: 0.4000 - val_recall: 0.5000 - val_auc: 0.6731 - val_prc: 0.5941 - lr: 1.0000e-04\n",
            "Epoch 39/100\n",
            "16/16 [==============================] - 1s 36ms/step - loss: 5.0620 - tp: 21.0000 - fp: 6.0000 - tn: 115.0000 - fn: 11.0000 - accuracy: 0.8889 - precision: 0.7778 - recall: 0.6562 - auc: 0.9367 - prc: 0.8356 - val_loss: 5.4548 - val_tp: 2.0000 - val_fp: 3.0000 - val_tn: 10.0000 - val_fn: 2.0000 - val_accuracy: 0.7059 - val_precision: 0.4000 - val_recall: 0.5000 - val_auc: 0.6827 - val_prc: 0.6504 - lr: 1.0000e-05\n"
          ]
        }
      ],
      "source": [
        "history = model.fit(X_train_reshaped, y_train, epochs=100, batch_size=10, verbose=1, validation_split=0.1, callbacks=[reduce_lr,early_st])"
      ]
    },
    {
      "cell_type": "markdown",
      "metadata": {
        "id": "5hF9EG1dX6xZ"
      },
      "source": [
        "# Evaluate the model"
      ]
    },
    {
      "cell_type": "code",
      "execution_count": 20,
      "metadata": {
        "colab": {
          "base_uri": "https://localhost:8080/"
        },
        "id": "ux5k-LYLl3GF",
        "outputId": "9148bd10-3890-40c0-d5ce-d97b0938aef1"
      },
      "outputs": [
        {
          "name": "stdout",
          "output_type": "stream",
          "text": [
            "2/2 [==============================] - 0s 28ms/step\n",
            "[[31  3]\n",
            " [ 8  1]]\n"
          ]
        }
      ],
      "source": [
        "y_pred  = model.predict(X_test_reshaped)\n",
        "y_pred = (y_pred>0.5)\n",
        "cm = confusion_matrix(y_test, y_pred)\n",
        "print(cm)"
      ]
    },
    {
      "cell_type": "code",
      "execution_count": 21,
      "metadata": {
        "colab": {
          "base_uri": "https://localhost:8080/"
        },
        "id": "iur6Wu4oZ5dI",
        "outputId": "a97b3320-950a-4b11-fcb3-1b08387bb109"
      },
      "outputs": [
        {
          "name": "stdout",
          "output_type": "stream",
          "text": [
            "balanced acuracy: 0.511437908496732\n"
          ]
        }
      ],
      "source": [
        "print(\"balanced acuracy:\", balanced_accuracy_score(y_test, y_pred))"
      ]
    },
    {
      "cell_type": "code",
      "execution_count": 22,
      "metadata": {
        "colab": {
          "base_uri": "https://localhost:8080/"
        },
        "id": "zkQ55Zm7l3D2",
        "outputId": "1d603181-a728-4b27-d900-a1e71d36be80"
      },
      "outputs": [
        {
          "name": "stdout",
          "output_type": "stream",
          "text": [
            "              precision    recall  f1-score   support\n",
            "\n",
            "           0       0.79      0.91      0.85        34\n",
            "           1       0.25      0.11      0.15         9\n",
            "\n",
            "    accuracy                           0.74        43\n",
            "   macro avg       0.52      0.51      0.50        43\n",
            "weighted avg       0.68      0.74      0.70        43\n",
            "\n",
            "17/17 [==============================] - 0s 5ms/step\n",
            "5/5 [==============================] - 0s 5ms/step\n",
            "loss :  5.371878147125244\n",
            "tp :  1.0\n",
            "fp :  3.0\n",
            "tn :  31.0\n",
            "fn :  8.0\n",
            "accuracy :  0.7441860437393188\n",
            "precision :  0.25\n",
            "recall :  0.1111111119389534\n",
            "auc :  0.7026143670082092\n",
            "prc :  0.30853205919265747\n",
            "\n"
          ]
        }
      ],
      "source": [
        "target_names=[\"0\",\"1\"]\n",
        "print(classification_report(y_test, y_pred, target_names=target_names))\n",
        "\n",
        "train_predictions_baseline = model.predict(X_train_reshaped, batch_size=10)\n",
        "test_predictions_baseline = model.predict(X_test_reshaped, batch_size=10)\n",
        "\n",
        "baseline_results = model.evaluate(X_test_reshaped, y_test, verbose=0)\n",
        "for name, value in zip(model.metrics_names, baseline_results):\n",
        "  print(name, ': ', value)\n",
        "print()"
      ]
    },
    {
      "cell_type": "code",
      "execution_count": 23,
      "metadata": {
        "colab": {
          "base_uri": "https://localhost:8080/",
          "height": 1000
        },
        "id": "YzVQLd_Xl3B1",
        "outputId": "6bd1d53b-d330-4a0f-d2c9-b33181c37c01"
      },
      "outputs": [
        {
          "data": {
            "image/png": "[encoded data removed]",
            "text/plain": [
              "<Figure size 1200x1000 with 1 Axes>"
            ]
          },
          "metadata": {},
          "output_type": "display_data"
        },
        {
          "data": {
            "image/png": "[encoded data removed]",
            "text/plain": [
              "<Figure size 1200x1000 with 1 Axes>"
            ]
          },
          "metadata": {},
          "output_type": "display_data"
        }
      ],
      "source": [
        "plt.rcParams['figure.figsize'] = (12, 10)\n",
        "plt.rcParams.update({'font.size': 17})\n",
        "colors = plt.rcParams['axes.prop_cycle'].by_key()['color']\n",
        "\n",
        "def plot_roc(name, labels, predictions, **kwargs):\n",
        "  fp, tp, _ = sklearn.metrics.roc_curve(labels, predictions)\n",
        "\n",
        "  plt.plot(fp, tp, label=name, linewidth=2, **kwargs)\n",
        "  plt.plot([0, 1], [0, 1], 'k--')\n",
        "  plt.title('E. coli CNN')\n",
        "  plt.xlabel('False positives [%]')\n",
        "  plt.ylabel('True positives [%]')\n",
        "  plt.title('S. aureus AUROC')\n",
        "\n",
        "  plt.grid(True)\n",
        "  ax = plt.gca()\n",
        "  ax.set_aspect('equal')\n",
        "plot_roc(\"Ciprofloxacin               AUROC: %0.2f\" % baseline_results[8], y_test, test_predictions_baseline, color=colors[0])\n",
        "\n",
        "plt.legend(loc='lower right')\n",
        "plt.savefig('s_aureus_auroc.png', bbox_inches='tight')\n",
        "plt.show()\n",
        "\n",
        "def plot_prc(name, labels, predictions, **kwargs):\n",
        "    precision, recall, _ = sklearn.metrics.precision_recall_curve(labels, predictions)\n",
        "\n",
        "    plt.plot(precision, recall, label=name, linewidth=2, **kwargs)\n",
        "    plt.title('S. aureus AUPRC')\n",
        "    plt.xlabel('Recall')\n",
        "    plt.ylabel('Precision')\n",
        "    plt.plot([1, 0], [0, 1], 'k--')\n",
        "    plt.grid(True)\n",
        "    ax = plt.gca()\n",
        "    ax.set_aspect('equal')\n",
        "\n",
        "plot_prc(\"Ciprofloxacin        AUPRC: %0.2f\" % baseline_results[9], y_test, test_predictions_baseline, color=colors[0])\n",
        "\n",
        "plt.legend(loc='upper right')\n",
        "plt.savefig('s_aureus_auprc.png', bbox_inches='tight')\n",
        "plt.show()"
      ]
    }
  ],
  "metadata": {
    "accelerator": "GPU",
    "colab": {
      "provenance": []
    },
    "gpuClass": "standard",
    "kernelspec": {
      "display_name": "Python 3",
      "language": "python",
      "name": "python3"
    },
    "language_info": {
      "name": "python",
      "version": "3.11.5"
    }
  },
  "nbformat": 4,
  "nbformat_minor": 0
}
