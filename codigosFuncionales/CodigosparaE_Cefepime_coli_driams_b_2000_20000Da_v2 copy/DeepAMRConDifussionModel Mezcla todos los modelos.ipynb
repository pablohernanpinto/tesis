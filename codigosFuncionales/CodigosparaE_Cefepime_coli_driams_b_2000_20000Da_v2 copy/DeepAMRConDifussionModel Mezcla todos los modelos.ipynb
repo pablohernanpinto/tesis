{
  "cells": [
    {
      "cell_type": "markdown",
      "metadata": {
        "id": "LNNFUJODXA9C"
      },
      "source": [
        "# 0-Libraries"
      ]
    },
    {
      "cell_type": "code",
      "execution_count": 1,
      "metadata": {
        "id": "W1quzgr-ao8A"
      },
      "outputs": [
        {
          "name": "stderr",
          "output_type": "stream",
          "text": [
            "2025-01-19 14:40:29.254730: I tensorflow/core/platform/cpu_feature_guard.cc:193] This TensorFlow binary is optimized with oneAPI Deep Neural Network Library (oneDNN) to use the following CPU instructions in performance-critical operations:  AVX2 AVX512F AVX512_VNNI FMA\n",
            "To enable them in other operations, rebuild TensorFlow with the appropriate compiler flags.\n",
            "2025-01-19 14:40:29.393529: I tensorflow/core/util/util.cc:169] oneDNN custom operations are on. You may see slightly different numerical results due to floating-point round-off errors from different computation orders. To turn them off, set the environment variable `TF_ENABLE_ONEDNN_OPTS=0`.\n",
            "2025-01-19 14:40:29.430253: E tensorflow/stream_executor/cuda/cuda_blas.cc:2981] Unable to register cuBLAS factory: Attempting to register factory for plugin cuBLAS when one has already been registered\n",
            "2025-01-19 14:40:30.050497: W tensorflow/stream_executor/platform/default/dso_loader.cc:64] Could not load dynamic library 'libnvinfer.so.7'; dlerror: libnvinfer.so.7: cannot open shared object file: No such file or directory\n",
            "2025-01-19 14:40:30.050567: W tensorflow/stream_executor/platform/default/dso_loader.cc:64] Could not load dynamic library 'libnvinfer_plugin.so.7'; dlerror: libnvinfer_plugin.so.7: cannot open shared object file: No such file or directory\n",
            "2025-01-19 14:40:30.050573: W tensorflow/compiler/tf2tensorrt/utils/py_utils.cc:38] TF-TRT Warning: Cannot dlopen some TensorRT libraries. If you would like to use Nvidia GPU with TensorRT, please make sure the missing libraries mentioned above are installed properly.\n"
          ]
        }
      ],
      "source": [
        "import numpy as np\n",
        "import matplotlib.pyplot as plt\n",
        "import itertools\n",
        "import pandas as pd\n",
        "import sklearn\n",
        "from sklearn.model_selection import train_test_split\n",
        "from sklearn.metrics import confusion_matrix,classification_report,ConfusionMatrixDisplay, balanced_accuracy_score\n",
        "#from sklearn.preprocessing import LabelEncoder, OneHotEncoder\n",
        "from sklearn.compose import ColumnTransformer\n",
        "from sklearn.preprocessing import Normalizer, StandardScaler, MinMaxScaler, MaxAbsScaler, RobustScaler, QuantileTransformer, PowerTransformer\n",
        "import tensorflow as tf\n",
        "from tensorflow import keras\n",
        "from keras import regularizers\n",
        "from keras.optimizers import Adam\n",
        "#from keras.backend import expand_dims\n",
        "from keras.callbacks import ReduceLROnPlateau, EarlyStopping\n",
        "from keras.models import Sequential\n",
        "from keras.constraints import MaxNorm\n",
        "from keras.layers import Activation, Dense, Conv1D, Flatten, MaxPooling1D, Dropout, BatchNormalization, SpatialDropout1D,Input,Lambda\n",
        "\n",
        "\n",
        "\n"
      ]
    },
    {
      "cell_type": "code",
      "execution_count": 2,
      "metadata": {
        "id": "gy_ErAtqkxgt"
      },
      "outputs": [
        {
          "name": "stderr",
          "output_type": "stream",
          "text": [
            "2025-01-19 14:40:30.879936: I tensorflow/core/platform/cpu_feature_guard.cc:193] This TensorFlow binary is optimized with oneAPI Deep Neural Network Library (oneDNN) to use the following CPU instructions in performance-critical operations:  AVX2 AVX512F AVX512_VNNI FMA\n",
            "To enable them in other operations, rebuild TensorFlow with the appropriate compiler flags.\n",
            "2025-01-19 14:40:31.492071: I tensorflow/core/common_runtime/gpu/gpu_device.cc:1616] Created device /job:localhost/replica:0/task:0/device:GPU:0 with 14120 MB memory:  -> device: 0, name: NVIDIA RTX A4000, pci bus id: 0000:c3:00.0, compute capability: 8.6\n"
          ]
        }
      ],
      "source": [
        "METRICS = [\n",
        "      keras.metrics.TruePositives(name='tp'),\n",
        "      keras.metrics.FalsePositives(name='fp'),\n",
        "      keras.metrics.TrueNegatives(name='tn'),\n",
        "      keras.metrics.FalseNegatives(name='fn'),\n",
        "      keras.metrics.BinaryAccuracy(name='accuracy'),\n",
        "      keras.metrics.Precision(name='precision'),\n",
        "      keras.metrics.Recall(name='recall'),\n",
        "      keras.metrics.AUC(name='auc'),\n",
        "      keras.metrics.AUC(name='prc', curve='PR'), # precision-recall curve\n",
        "]"
      ]
    },
    {
      "cell_type": "markdown",
      "metadata": {
        "id": "N6bQjUrPXPaI"
      },
      "source": [
        "# 1- Load Data"
      ]
    },
    {
      "cell_type": "code",
      "execution_count": 3,
      "metadata": {
        "colab": {
          "base_uri": "https://localhost:8080/",
          "height": 533
        },
        "id": "UXVFQgZNaNrg",
        "outputId": "d250b076-aa61-46d9-d165-ab7a7a24aee3"
      },
      "outputs": [
        {
          "data": {
            "text/html": [
              "<div>\n",
              "<style scoped>\n",
              "    .dataframe tbody tr th:only-of-type {\n",
              "        vertical-align: middle;\n",
              "    }\n",
              "\n",
              "    .dataframe tbody tr th {\n",
              "        vertical-align: top;\n",
              "    }\n",
              "\n",
              "    .dataframe thead th {\n",
              "        text-align: right;\n",
              "    }\n",
              "</style>\n",
              "<table border=\"1\" class=\"dataframe\">\n",
              "  <thead>\n",
              "    <tr style=\"text-align: right;\">\n",
              "      <th></th>\n",
              "      <th>2000</th>\n",
              "      <th>2003</th>\n",
              "      <th>2006</th>\n",
              "      <th>2009</th>\n",
              "      <th>2012</th>\n",
              "      <th>2015</th>\n",
              "      <th>2018</th>\n",
              "      <th>2021</th>\n",
              "      <th>2024</th>\n",
              "      <th>2027</th>\n",
              "      <th>...</th>\n",
              "      <th>19988</th>\n",
              "      <th>19991</th>\n",
              "      <th>19994</th>\n",
              "      <th>19997</th>\n",
              "      <th>code</th>\n",
              "      <th>species</th>\n",
              "      <th>Ciprofloxacin</th>\n",
              "      <th>Ceftriaxone</th>\n",
              "      <th>Cefepime</th>\n",
              "      <th>Piperacillin-Tazobactam</th>\n",
              "    </tr>\n",
              "  </thead>\n",
              "  <tbody>\n",
              "    <tr>\n",
              "      <th>0</th>\n",
              "      <td>1067.142857</td>\n",
              "      <td>1251.714286</td>\n",
              "      <td>1310.571429</td>\n",
              "      <td>1021.142857</td>\n",
              "      <td>1315.625000</td>\n",
              "      <td>974.000000</td>\n",
              "      <td>936.857143</td>\n",
              "      <td>853.571429</td>\n",
              "      <td>936.142857</td>\n",
              "      <td>1044.285714</td>\n",
              "      <td>...</td>\n",
              "      <td>21.5</td>\n",
              "      <td>6.500000</td>\n",
              "      <td>4.666667</td>\n",
              "      <td>17.585859</td>\n",
              "      <td>dcd5aa31-b254-4961-b69f-ccc8c0572b27</td>\n",
              "      <td>Escherichia coli</td>\n",
              "      <td>0.0</td>\n",
              "      <td>0.0</td>\n",
              "      <td>0.0</td>\n",
              "      <td>0.0</td>\n",
              "    </tr>\n",
              "    <tr>\n",
              "      <th>1</th>\n",
              "      <td>1872.857143</td>\n",
              "      <td>1677.285714</td>\n",
              "      <td>2035.714286</td>\n",
              "      <td>2086.250000</td>\n",
              "      <td>1930.571429</td>\n",
              "      <td>2017.142857</td>\n",
              "      <td>1856.857143</td>\n",
              "      <td>1655.857143</td>\n",
              "      <td>1547.142857</td>\n",
              "      <td>1713.000000</td>\n",
              "      <td>...</td>\n",
              "      <td>21.0</td>\n",
              "      <td>15.000000</td>\n",
              "      <td>26.500000</td>\n",
              "      <td>21.736842</td>\n",
              "      <td>dfcb7221-e4f8-4a39-b661-7e439f19e93d</td>\n",
              "      <td>Escherichia coli</td>\n",
              "      <td>0.0</td>\n",
              "      <td>0.0</td>\n",
              "      <td>0.0</td>\n",
              "      <td>0.0</td>\n",
              "    </tr>\n",
              "    <tr>\n",
              "      <th>2</th>\n",
              "      <td>3258.142857</td>\n",
              "      <td>3209.428571</td>\n",
              "      <td>3068.571429</td>\n",
              "      <td>3162.428571</td>\n",
              "      <td>3275.000000</td>\n",
              "      <td>3324.571429</td>\n",
              "      <td>2999.000000</td>\n",
              "      <td>2970.500000</td>\n",
              "      <td>3213.000000</td>\n",
              "      <td>3205.571429</td>\n",
              "      <td>...</td>\n",
              "      <td>17.0</td>\n",
              "      <td>17.000000</td>\n",
              "      <td>30.000000</td>\n",
              "      <td>19.125000</td>\n",
              "      <td>d5bb4389-5053-4107-9c05-bfed9e9159c9</td>\n",
              "      <td>Escherichia coli</td>\n",
              "      <td>0.0</td>\n",
              "      <td>0.0</td>\n",
              "      <td>0.0</td>\n",
              "      <td>0.0</td>\n",
              "    </tr>\n",
              "    <tr>\n",
              "      <th>3</th>\n",
              "      <td>18912.571429</td>\n",
              "      <td>19530.571429</td>\n",
              "      <td>19464.875000</td>\n",
              "      <td>19098.714286</td>\n",
              "      <td>18994.714286</td>\n",
              "      <td>18936.285714</td>\n",
              "      <td>19208.571429</td>\n",
              "      <td>19417.571429</td>\n",
              "      <td>19486.857143</td>\n",
              "      <td>19048.625000</td>\n",
              "      <td>...</td>\n",
              "      <td>299.0</td>\n",
              "      <td>339.500000</td>\n",
              "      <td>359.000000</td>\n",
              "      <td>311.746032</td>\n",
              "      <td>4e14943f-ae22-42ed-aef5-65430470dcfa</td>\n",
              "      <td>Escherichia coli</td>\n",
              "      <td>0.0</td>\n",
              "      <td>0.0</td>\n",
              "      <td>0.0</td>\n",
              "      <td>0.0</td>\n",
              "    </tr>\n",
              "    <tr>\n",
              "      <th>4</th>\n",
              "      <td>1685.000000</td>\n",
              "      <td>1537.428571</td>\n",
              "      <td>1283.714286</td>\n",
              "      <td>1472.285714</td>\n",
              "      <td>1370.142857</td>\n",
              "      <td>1402.142857</td>\n",
              "      <td>1397.500000</td>\n",
              "      <td>1422.142857</td>\n",
              "      <td>1725.285714</td>\n",
              "      <td>3386.714286</td>\n",
              "      <td>...</td>\n",
              "      <td>32.5</td>\n",
              "      <td>48.333333</td>\n",
              "      <td>66.500000</td>\n",
              "      <td>39.230769</td>\n",
              "      <td>617f14d0-86b1-4c28-8995-b02006a85e81</td>\n",
              "      <td>Escherichia coli</td>\n",
              "      <td>1.0</td>\n",
              "      <td>1.0</td>\n",
              "      <td>1.0</td>\n",
              "      <td>1.0</td>\n",
              "    </tr>\n",
              "  </tbody>\n",
              "</table>\n",
              "<p>5 rows × 6006 columns</p>\n",
              "</div>"
            ],
            "text/plain": [
              "           2000          2003          2006          2009          2012  \\\n",
              "0   1067.142857   1251.714286   1310.571429   1021.142857   1315.625000   \n",
              "1   1872.857143   1677.285714   2035.714286   2086.250000   1930.571429   \n",
              "2   3258.142857   3209.428571   3068.571429   3162.428571   3275.000000   \n",
              "3  18912.571429  19530.571429  19464.875000  19098.714286  18994.714286   \n",
              "4   1685.000000   1537.428571   1283.714286   1472.285714   1370.142857   \n",
              "\n",
              "           2015          2018          2021          2024          2027  ...  \\\n",
              "0    974.000000    936.857143    853.571429    936.142857   1044.285714  ...   \n",
              "1   2017.142857   1856.857143   1655.857143   1547.142857   1713.000000  ...   \n",
              "2   3324.571429   2999.000000   2970.500000   3213.000000   3205.571429  ...   \n",
              "3  18936.285714  19208.571429  19417.571429  19486.857143  19048.625000  ...   \n",
              "4   1402.142857   1397.500000   1422.142857   1725.285714   3386.714286  ...   \n",
              "\n",
              "   19988       19991       19994       19997  \\\n",
              "0   21.5    6.500000    4.666667   17.585859   \n",
              "1   21.0   15.000000   26.500000   21.736842   \n",
              "2   17.0   17.000000   30.000000   19.125000   \n",
              "3  299.0  339.500000  359.000000  311.746032   \n",
              "4   32.5   48.333333   66.500000   39.230769   \n",
              "\n",
              "                                   code           species  Ciprofloxacin  \\\n",
              "0  dcd5aa31-b254-4961-b69f-ccc8c0572b27  Escherichia coli            0.0   \n",
              "1  dfcb7221-e4f8-4a39-b661-7e439f19e93d  Escherichia coli            0.0   \n",
              "2  d5bb4389-5053-4107-9c05-bfed9e9159c9  Escherichia coli            0.0   \n",
              "3  4e14943f-ae22-42ed-aef5-65430470dcfa  Escherichia coli            0.0   \n",
              "4  617f14d0-86b1-4c28-8995-b02006a85e81  Escherichia coli            1.0   \n",
              "\n",
              "   Ceftriaxone  Cefepime  Piperacillin-Tazobactam  \n",
              "0          0.0       0.0                      0.0  \n",
              "1          0.0       0.0                      0.0  \n",
              "2          0.0       0.0                      0.0  \n",
              "3          0.0       0.0                      0.0  \n",
              "4          1.0       1.0                      1.0  \n",
              "\n",
              "[5 rows x 6006 columns]"
            ]
          },
          "execution_count": 3,
          "metadata": {},
          "output_type": "execute_result"
        }
      ],
      "source": [
        "s_aureus = pd.read_csv('e_coli_driams_b_2000_20000Da_v2 (1).csv')\n",
        "s_aureus.head()"
      ]
    },
    {
      "cell_type": "markdown",
      "metadata": {
        "id": "NhURWBqqXoQp"
      },
      "source": [
        "# Preprocessing Data"
      ]
    },
    {
      "cell_type": "code",
      "execution_count": 4,
      "metadata": {},
      "outputs": [],
      "source": [
        "s_aureus = s_aureus.drop(columns=['code','species', 'Ciprofloxacin', 'Ceftriaxone', 'Piperacillin-Tazobactam'])\n",
        "s_aureus.dropna(axis=0, how=\"any\", inplace=True)"
      ]
    },
    {
      "cell_type": "code",
      "execution_count": 5,
      "metadata": {
        "colab": {
          "base_uri": "https://localhost:8080/",
          "height": 255
        },
        "id": "wZUfupfGtc7O",
        "outputId": "af1d2eac-096e-4a39-8406-586718f33d29"
      },
      "outputs": [
        {
          "data": {
            "text/html": [
              "<div>\n",
              "<style scoped>\n",
              "    .dataframe tbody tr th:only-of-type {\n",
              "        vertical-align: middle;\n",
              "    }\n",
              "\n",
              "    .dataframe tbody tr th {\n",
              "        vertical-align: top;\n",
              "    }\n",
              "\n",
              "    .dataframe thead th {\n",
              "        text-align: right;\n",
              "    }\n",
              "</style>\n",
              "<table border=\"1\" class=\"dataframe\">\n",
              "  <thead>\n",
              "    <tr style=\"text-align: right;\">\n",
              "      <th></th>\n",
              "      <th>2000</th>\n",
              "      <th>2003</th>\n",
              "      <th>2006</th>\n",
              "      <th>2009</th>\n",
              "      <th>2012</th>\n",
              "      <th>2015</th>\n",
              "      <th>2018</th>\n",
              "      <th>2021</th>\n",
              "      <th>2024</th>\n",
              "      <th>2027</th>\n",
              "      <th>...</th>\n",
              "      <th>19973</th>\n",
              "      <th>19976</th>\n",
              "      <th>19979</th>\n",
              "      <th>19982</th>\n",
              "      <th>19985</th>\n",
              "      <th>19988</th>\n",
              "      <th>19991</th>\n",
              "      <th>19994</th>\n",
              "      <th>19997</th>\n",
              "      <th>Cefepime</th>\n",
              "    </tr>\n",
              "  </thead>\n",
              "  <tbody>\n",
              "    <tr>\n",
              "      <th>0</th>\n",
              "      <td>1067.142857</td>\n",
              "      <td>1251.714286</td>\n",
              "      <td>1310.571429</td>\n",
              "      <td>1021.142857</td>\n",
              "      <td>1315.625000</td>\n",
              "      <td>974.000000</td>\n",
              "      <td>936.857143</td>\n",
              "      <td>853.571429</td>\n",
              "      <td>936.142857</td>\n",
              "      <td>1044.285714</td>\n",
              "      <td>...</td>\n",
              "      <td>19.666667</td>\n",
              "      <td>20.000000</td>\n",
              "      <td>23.0</td>\n",
              "      <td>42.666667</td>\n",
              "      <td>15.000000</td>\n",
              "      <td>21.5</td>\n",
              "      <td>6.500000</td>\n",
              "      <td>4.666667</td>\n",
              "      <td>17.585859</td>\n",
              "      <td>0.0</td>\n",
              "    </tr>\n",
              "    <tr>\n",
              "      <th>1</th>\n",
              "      <td>1872.857143</td>\n",
              "      <td>1677.285714</td>\n",
              "      <td>2035.714286</td>\n",
              "      <td>2086.250000</td>\n",
              "      <td>1930.571429</td>\n",
              "      <td>2017.142857</td>\n",
              "      <td>1856.857143</td>\n",
              "      <td>1655.857143</td>\n",
              "      <td>1547.142857</td>\n",
              "      <td>1713.000000</td>\n",
              "      <td>...</td>\n",
              "      <td>32.000000</td>\n",
              "      <td>29.666667</td>\n",
              "      <td>30.0</td>\n",
              "      <td>18.000000</td>\n",
              "      <td>17.000000</td>\n",
              "      <td>21.0</td>\n",
              "      <td>15.000000</td>\n",
              "      <td>26.500000</td>\n",
              "      <td>21.736842</td>\n",
              "      <td>0.0</td>\n",
              "    </tr>\n",
              "    <tr>\n",
              "      <th>2</th>\n",
              "      <td>3258.142857</td>\n",
              "      <td>3209.428571</td>\n",
              "      <td>3068.571429</td>\n",
              "      <td>3162.428571</td>\n",
              "      <td>3275.000000</td>\n",
              "      <td>3324.571429</td>\n",
              "      <td>2999.000000</td>\n",
              "      <td>2970.500000</td>\n",
              "      <td>3213.000000</td>\n",
              "      <td>3205.571429</td>\n",
              "      <td>...</td>\n",
              "      <td>19.666667</td>\n",
              "      <td>20.000000</td>\n",
              "      <td>23.5</td>\n",
              "      <td>14.500000</td>\n",
              "      <td>13.666667</td>\n",
              "      <td>17.0</td>\n",
              "      <td>17.000000</td>\n",
              "      <td>30.000000</td>\n",
              "      <td>19.125000</td>\n",
              "      <td>0.0</td>\n",
              "    </tr>\n",
              "    <tr>\n",
              "      <th>3</th>\n",
              "      <td>18912.571429</td>\n",
              "      <td>19530.571429</td>\n",
              "      <td>19464.875000</td>\n",
              "      <td>19098.714286</td>\n",
              "      <td>18994.714286</td>\n",
              "      <td>18936.285714</td>\n",
              "      <td>19208.571429</td>\n",
              "      <td>19417.571429</td>\n",
              "      <td>19486.857143</td>\n",
              "      <td>19048.625000</td>\n",
              "      <td>...</td>\n",
              "      <td>299.000000</td>\n",
              "      <td>269.333333</td>\n",
              "      <td>282.0</td>\n",
              "      <td>300.500000</td>\n",
              "      <td>311.000000</td>\n",
              "      <td>299.0</td>\n",
              "      <td>339.500000</td>\n",
              "      <td>359.000000</td>\n",
              "      <td>311.746032</td>\n",
              "      <td>0.0</td>\n",
              "    </tr>\n",
              "    <tr>\n",
              "      <th>4</th>\n",
              "      <td>1685.000000</td>\n",
              "      <td>1537.428571</td>\n",
              "      <td>1283.714286</td>\n",
              "      <td>1472.285714</td>\n",
              "      <td>1370.142857</td>\n",
              "      <td>1402.142857</td>\n",
              "      <td>1397.500000</td>\n",
              "      <td>1422.142857</td>\n",
              "      <td>1725.285714</td>\n",
              "      <td>3386.714286</td>\n",
              "      <td>...</td>\n",
              "      <td>25.000000</td>\n",
              "      <td>34.000000</td>\n",
              "      <td>33.0</td>\n",
              "      <td>37.333333</td>\n",
              "      <td>21.000000</td>\n",
              "      <td>32.5</td>\n",
              "      <td>48.333333</td>\n",
              "      <td>66.500000</td>\n",
              "      <td>39.230769</td>\n",
              "      <td>1.0</td>\n",
              "    </tr>\n",
              "  </tbody>\n",
              "</table>\n",
              "<p>5 rows × 6001 columns</p>\n",
              "</div>"
            ],
            "text/plain": [
              "           2000          2003          2006          2009          2012  \\\n",
              "0   1067.142857   1251.714286   1310.571429   1021.142857   1315.625000   \n",
              "1   1872.857143   1677.285714   2035.714286   2086.250000   1930.571429   \n",
              "2   3258.142857   3209.428571   3068.571429   3162.428571   3275.000000   \n",
              "3  18912.571429  19530.571429  19464.875000  19098.714286  18994.714286   \n",
              "4   1685.000000   1537.428571   1283.714286   1472.285714   1370.142857   \n",
              "\n",
              "           2015          2018          2021          2024          2027  ...  \\\n",
              "0    974.000000    936.857143    853.571429    936.142857   1044.285714  ...   \n",
              "1   2017.142857   1856.857143   1655.857143   1547.142857   1713.000000  ...   \n",
              "2   3324.571429   2999.000000   2970.500000   3213.000000   3205.571429  ...   \n",
              "3  18936.285714  19208.571429  19417.571429  19486.857143  19048.625000  ...   \n",
              "4   1402.142857   1397.500000   1422.142857   1725.285714   3386.714286  ...   \n",
              "\n",
              "        19973       19976  19979       19982       19985  19988       19991  \\\n",
              "0   19.666667   20.000000   23.0   42.666667   15.000000   21.5    6.500000   \n",
              "1   32.000000   29.666667   30.0   18.000000   17.000000   21.0   15.000000   \n",
              "2   19.666667   20.000000   23.5   14.500000   13.666667   17.0   17.000000   \n",
              "3  299.000000  269.333333  282.0  300.500000  311.000000  299.0  339.500000   \n",
              "4   25.000000   34.000000   33.0   37.333333   21.000000   32.5   48.333333   \n",
              "\n",
              "        19994       19997  Cefepime  \n",
              "0    4.666667   17.585859       0.0  \n",
              "1   26.500000   21.736842       0.0  \n",
              "2   30.000000   19.125000       0.0  \n",
              "3  359.000000  311.746032       0.0  \n",
              "4   66.500000   39.230769       1.0  \n",
              "\n",
              "[5 rows x 6001 columns]"
            ]
          },
          "execution_count": 5,
          "metadata": {},
          "output_type": "execute_result"
        }
      ],
      "source": [
        "s_aureus.head()"
      ]
    },
    {
      "cell_type": "code",
      "execution_count": 6,
      "metadata": {},
      "outputs": [
        {
          "data": {
            "text/html": [
              "<div>\n",
              "<style scoped>\n",
              "    .dataframe tbody tr th:only-of-type {\n",
              "        vertical-align: middle;\n",
              "    }\n",
              "\n",
              "    .dataframe tbody tr th {\n",
              "        vertical-align: top;\n",
              "    }\n",
              "\n",
              "    .dataframe thead th {\n",
              "        text-align: right;\n",
              "    }\n",
              "</style>\n",
              "<table border=\"1\" class=\"dataframe\">\n",
              "  <thead>\n",
              "    <tr style=\"text-align: right;\">\n",
              "      <th></th>\n",
              "      <th>2000</th>\n",
              "      <th>2003</th>\n",
              "      <th>2006</th>\n",
              "      <th>2009</th>\n",
              "      <th>2012</th>\n",
              "      <th>2015</th>\n",
              "      <th>2018</th>\n",
              "      <th>2021</th>\n",
              "      <th>2024</th>\n",
              "      <th>2027</th>\n",
              "      <th>...</th>\n",
              "      <th>19973</th>\n",
              "      <th>19976</th>\n",
              "      <th>19979</th>\n",
              "      <th>19982</th>\n",
              "      <th>19985</th>\n",
              "      <th>19988</th>\n",
              "      <th>19991</th>\n",
              "      <th>19994</th>\n",
              "      <th>19997</th>\n",
              "      <th>Cefepime</th>\n",
              "    </tr>\n",
              "  </thead>\n",
              "  <tbody>\n",
              "    <tr>\n",
              "      <th>0</th>\n",
              "      <td>1067.142857</td>\n",
              "      <td>1251.714286</td>\n",
              "      <td>1310.571429</td>\n",
              "      <td>1021.142857</td>\n",
              "      <td>1315.625000</td>\n",
              "      <td>974.000000</td>\n",
              "      <td>936.857143</td>\n",
              "      <td>853.571429</td>\n",
              "      <td>936.142857</td>\n",
              "      <td>1044.285714</td>\n",
              "      <td>...</td>\n",
              "      <td>19.666667</td>\n",
              "      <td>20.000000</td>\n",
              "      <td>23.000000</td>\n",
              "      <td>42.666667</td>\n",
              "      <td>15.000000</td>\n",
              "      <td>21.500000</td>\n",
              "      <td>6.500000</td>\n",
              "      <td>4.666667</td>\n",
              "      <td>17.585859</td>\n",
              "      <td>0.0</td>\n",
              "    </tr>\n",
              "    <tr>\n",
              "      <th>1</th>\n",
              "      <td>1872.857143</td>\n",
              "      <td>1677.285714</td>\n",
              "      <td>2035.714286</td>\n",
              "      <td>2086.250000</td>\n",
              "      <td>1930.571429</td>\n",
              "      <td>2017.142857</td>\n",
              "      <td>1856.857143</td>\n",
              "      <td>1655.857143</td>\n",
              "      <td>1547.142857</td>\n",
              "      <td>1713.000000</td>\n",
              "      <td>...</td>\n",
              "      <td>32.000000</td>\n",
              "      <td>29.666667</td>\n",
              "      <td>30.000000</td>\n",
              "      <td>18.000000</td>\n",
              "      <td>17.000000</td>\n",
              "      <td>21.000000</td>\n",
              "      <td>15.000000</td>\n",
              "      <td>26.500000</td>\n",
              "      <td>21.736842</td>\n",
              "      <td>0.0</td>\n",
              "    </tr>\n",
              "    <tr>\n",
              "      <th>2</th>\n",
              "      <td>3258.142857</td>\n",
              "      <td>3209.428571</td>\n",
              "      <td>3068.571429</td>\n",
              "      <td>3162.428571</td>\n",
              "      <td>3275.000000</td>\n",
              "      <td>3324.571429</td>\n",
              "      <td>2999.000000</td>\n",
              "      <td>2970.500000</td>\n",
              "      <td>3213.000000</td>\n",
              "      <td>3205.571429</td>\n",
              "      <td>...</td>\n",
              "      <td>19.666667</td>\n",
              "      <td>20.000000</td>\n",
              "      <td>23.500000</td>\n",
              "      <td>14.500000</td>\n",
              "      <td>13.666667</td>\n",
              "      <td>17.000000</td>\n",
              "      <td>17.000000</td>\n",
              "      <td>30.000000</td>\n",
              "      <td>19.125000</td>\n",
              "      <td>0.0</td>\n",
              "    </tr>\n",
              "    <tr>\n",
              "      <th>3</th>\n",
              "      <td>18912.571429</td>\n",
              "      <td>19530.571429</td>\n",
              "      <td>19464.875000</td>\n",
              "      <td>19098.714286</td>\n",
              "      <td>18994.714286</td>\n",
              "      <td>18936.285714</td>\n",
              "      <td>19208.571429</td>\n",
              "      <td>19417.571429</td>\n",
              "      <td>19486.857143</td>\n",
              "      <td>19048.625000</td>\n",
              "      <td>...</td>\n",
              "      <td>299.000000</td>\n",
              "      <td>269.333333</td>\n",
              "      <td>282.000000</td>\n",
              "      <td>300.500000</td>\n",
              "      <td>311.000000</td>\n",
              "      <td>299.000000</td>\n",
              "      <td>339.500000</td>\n",
              "      <td>359.000000</td>\n",
              "      <td>311.746032</td>\n",
              "      <td>0.0</td>\n",
              "    </tr>\n",
              "    <tr>\n",
              "      <th>4</th>\n",
              "      <td>1685.000000</td>\n",
              "      <td>1537.428571</td>\n",
              "      <td>1283.714286</td>\n",
              "      <td>1472.285714</td>\n",
              "      <td>1370.142857</td>\n",
              "      <td>1402.142857</td>\n",
              "      <td>1397.500000</td>\n",
              "      <td>1422.142857</td>\n",
              "      <td>1725.285714</td>\n",
              "      <td>3386.714286</td>\n",
              "      <td>...</td>\n",
              "      <td>25.000000</td>\n",
              "      <td>34.000000</td>\n",
              "      <td>33.000000</td>\n",
              "      <td>37.333333</td>\n",
              "      <td>21.000000</td>\n",
              "      <td>32.500000</td>\n",
              "      <td>48.333333</td>\n",
              "      <td>66.500000</td>\n",
              "      <td>39.230769</td>\n",
              "      <td>1.0</td>\n",
              "    </tr>\n",
              "    <tr>\n",
              "      <th>...</th>\n",
              "      <td>...</td>\n",
              "      <td>...</td>\n",
              "      <td>...</td>\n",
              "      <td>...</td>\n",
              "      <td>...</td>\n",
              "      <td>...</td>\n",
              "      <td>...</td>\n",
              "      <td>...</td>\n",
              "      <td>...</td>\n",
              "      <td>...</td>\n",
              "      <td>...</td>\n",
              "      <td>...</td>\n",
              "      <td>...</td>\n",
              "      <td>...</td>\n",
              "      <td>...</td>\n",
              "      <td>...</td>\n",
              "      <td>...</td>\n",
              "      <td>...</td>\n",
              "      <td>...</td>\n",
              "      <td>...</td>\n",
              "      <td>...</td>\n",
              "    </tr>\n",
              "    <tr>\n",
              "      <th>208</th>\n",
              "      <td>1933.285714</td>\n",
              "      <td>1956.500000</td>\n",
              "      <td>2012.571429</td>\n",
              "      <td>1882.000000</td>\n",
              "      <td>1955.142857</td>\n",
              "      <td>1951.285714</td>\n",
              "      <td>1943.714286</td>\n",
              "      <td>2055.125000</td>\n",
              "      <td>1928.857143</td>\n",
              "      <td>1687.571429</td>\n",
              "      <td>...</td>\n",
              "      <td>140.500000</td>\n",
              "      <td>144.500000</td>\n",
              "      <td>102.666667</td>\n",
              "      <td>123.500000</td>\n",
              "      <td>113.500000</td>\n",
              "      <td>121.000000</td>\n",
              "      <td>126.666667</td>\n",
              "      <td>147.500000</td>\n",
              "      <td>122.560748</td>\n",
              "      <td>0.0</td>\n",
              "    </tr>\n",
              "    <tr>\n",
              "      <th>209</th>\n",
              "      <td>7296.714286</td>\n",
              "      <td>6215.714286</td>\n",
              "      <td>6115.500000</td>\n",
              "      <td>6069.000000</td>\n",
              "      <td>6585.857143</td>\n",
              "      <td>6207.857143</td>\n",
              "      <td>5809.142857</td>\n",
              "      <td>5879.142857</td>\n",
              "      <td>6068.714286</td>\n",
              "      <td>8413.125000</td>\n",
              "      <td>...</td>\n",
              "      <td>163.000000</td>\n",
              "      <td>191.500000</td>\n",
              "      <td>151.000000</td>\n",
              "      <td>180.666667</td>\n",
              "      <td>188.500000</td>\n",
              "      <td>163.500000</td>\n",
              "      <td>183.000000</td>\n",
              "      <td>173.000000</td>\n",
              "      <td>178.163462</td>\n",
              "      <td>1.0</td>\n",
              "    </tr>\n",
              "    <tr>\n",
              "      <th>210</th>\n",
              "      <td>2604.500000</td>\n",
              "      <td>2626.857143</td>\n",
              "      <td>2614.857143</td>\n",
              "      <td>2408.142857</td>\n",
              "      <td>2628.428571</td>\n",
              "      <td>2723.571429</td>\n",
              "      <td>2561.142857</td>\n",
              "      <td>2282.000000</td>\n",
              "      <td>2479.375000</td>\n",
              "      <td>2511.571429</td>\n",
              "      <td>...</td>\n",
              "      <td>21.000000</td>\n",
              "      <td>4.000000</td>\n",
              "      <td>11.500000</td>\n",
              "      <td>20.000000</td>\n",
              "      <td>19.500000</td>\n",
              "      <td>19.000000</td>\n",
              "      <td>10.500000</td>\n",
              "      <td>4.666667</td>\n",
              "      <td>13.857143</td>\n",
              "      <td>1.0</td>\n",
              "    </tr>\n",
              "    <tr>\n",
              "      <th>211</th>\n",
              "      <td>1341.142857</td>\n",
              "      <td>1190.000000</td>\n",
              "      <td>1399.142857</td>\n",
              "      <td>1469.000000</td>\n",
              "      <td>1126.000000</td>\n",
              "      <td>1049.428571</td>\n",
              "      <td>958.857143</td>\n",
              "      <td>1092.000000</td>\n",
              "      <td>1206.857143</td>\n",
              "      <td>1211.000000</td>\n",
              "      <td>...</td>\n",
              "      <td>18.000000</td>\n",
              "      <td>21.500000</td>\n",
              "      <td>15.666667</td>\n",
              "      <td>18.000000</td>\n",
              "      <td>18.000000</td>\n",
              "      <td>22.666667</td>\n",
              "      <td>17.500000</td>\n",
              "      <td>17.000000</td>\n",
              "      <td>20.863636</td>\n",
              "      <td>0.0</td>\n",
              "    </tr>\n",
              "    <tr>\n",
              "      <th>212</th>\n",
              "      <td>12397.285714</td>\n",
              "      <td>12106.714286</td>\n",
              "      <td>13133.285714</td>\n",
              "      <td>11587.142857</td>\n",
              "      <td>14039.285714</td>\n",
              "      <td>12262.375000</td>\n",
              "      <td>11038.428571</td>\n",
              "      <td>10385.428571</td>\n",
              "      <td>10270.857143</td>\n",
              "      <td>11389.428571</td>\n",
              "      <td>...</td>\n",
              "      <td>360.500000</td>\n",
              "      <td>401.500000</td>\n",
              "      <td>359.666667</td>\n",
              "      <td>391.500000</td>\n",
              "      <td>379.500000</td>\n",
              "      <td>355.000000</td>\n",
              "      <td>366.333333</td>\n",
              "      <td>329.000000</td>\n",
              "      <td>365.190476</td>\n",
              "      <td>0.0</td>\n",
              "    </tr>\n",
              "  </tbody>\n",
              "</table>\n",
              "<p>213 rows × 6001 columns</p>\n",
              "</div>"
            ],
            "text/plain": [
              "             2000          2003          2006          2009          2012  \\\n",
              "0     1067.142857   1251.714286   1310.571429   1021.142857   1315.625000   \n",
              "1     1872.857143   1677.285714   2035.714286   2086.250000   1930.571429   \n",
              "2     3258.142857   3209.428571   3068.571429   3162.428571   3275.000000   \n",
              "3    18912.571429  19530.571429  19464.875000  19098.714286  18994.714286   \n",
              "4     1685.000000   1537.428571   1283.714286   1472.285714   1370.142857   \n",
              "..            ...           ...           ...           ...           ...   \n",
              "208   1933.285714   1956.500000   2012.571429   1882.000000   1955.142857   \n",
              "209   7296.714286   6215.714286   6115.500000   6069.000000   6585.857143   \n",
              "210   2604.500000   2626.857143   2614.857143   2408.142857   2628.428571   \n",
              "211   1341.142857   1190.000000   1399.142857   1469.000000   1126.000000   \n",
              "212  12397.285714  12106.714286  13133.285714  11587.142857  14039.285714   \n",
              "\n",
              "             2015          2018          2021          2024          2027  \\\n",
              "0      974.000000    936.857143    853.571429    936.142857   1044.285714   \n",
              "1     2017.142857   1856.857143   1655.857143   1547.142857   1713.000000   \n",
              "2     3324.571429   2999.000000   2970.500000   3213.000000   3205.571429   \n",
              "3    18936.285714  19208.571429  19417.571429  19486.857143  19048.625000   \n",
              "4     1402.142857   1397.500000   1422.142857   1725.285714   3386.714286   \n",
              "..            ...           ...           ...           ...           ...   \n",
              "208   1951.285714   1943.714286   2055.125000   1928.857143   1687.571429   \n",
              "209   6207.857143   5809.142857   5879.142857   6068.714286   8413.125000   \n",
              "210   2723.571429   2561.142857   2282.000000   2479.375000   2511.571429   \n",
              "211   1049.428571    958.857143   1092.000000   1206.857143   1211.000000   \n",
              "212  12262.375000  11038.428571  10385.428571  10270.857143  11389.428571   \n",
              "\n",
              "     ...       19973       19976       19979       19982       19985  \\\n",
              "0    ...   19.666667   20.000000   23.000000   42.666667   15.000000   \n",
              "1    ...   32.000000   29.666667   30.000000   18.000000   17.000000   \n",
              "2    ...   19.666667   20.000000   23.500000   14.500000   13.666667   \n",
              "3    ...  299.000000  269.333333  282.000000  300.500000  311.000000   \n",
              "4    ...   25.000000   34.000000   33.000000   37.333333   21.000000   \n",
              "..   ...         ...         ...         ...         ...         ...   \n",
              "208  ...  140.500000  144.500000  102.666667  123.500000  113.500000   \n",
              "209  ...  163.000000  191.500000  151.000000  180.666667  188.500000   \n",
              "210  ...   21.000000    4.000000   11.500000   20.000000   19.500000   \n",
              "211  ...   18.000000   21.500000   15.666667   18.000000   18.000000   \n",
              "212  ...  360.500000  401.500000  359.666667  391.500000  379.500000   \n",
              "\n",
              "          19988       19991       19994       19997  Cefepime  \n",
              "0     21.500000    6.500000    4.666667   17.585859       0.0  \n",
              "1     21.000000   15.000000   26.500000   21.736842       0.0  \n",
              "2     17.000000   17.000000   30.000000   19.125000       0.0  \n",
              "3    299.000000  339.500000  359.000000  311.746032       0.0  \n",
              "4     32.500000   48.333333   66.500000   39.230769       1.0  \n",
              "..          ...         ...         ...         ...       ...  \n",
              "208  121.000000  126.666667  147.500000  122.560748       0.0  \n",
              "209  163.500000  183.000000  173.000000  178.163462       1.0  \n",
              "210   19.000000   10.500000    4.666667   13.857143       1.0  \n",
              "211   22.666667   17.500000   17.000000   20.863636       0.0  \n",
              "212  355.000000  366.333333  329.000000  365.190476       0.0  \n",
              "\n",
              "[213 rows x 6001 columns]"
            ]
          },
          "execution_count": 6,
          "metadata": {},
          "output_type": "execute_result"
        }
      ],
      "source": [
        "s_aureus"
      ]
    },
    {
      "cell_type": "code",
      "execution_count": 7,
      "metadata": {},
      "outputs": [],
      "source": [
        "X = s_aureus.iloc[:, 0:6000].values  # variables independientes (espectros de masa)\n",
        "y = s_aureus.iloc[:, 6000].values    # variable dependientes (resistencia a ciprofloxacin)\n",
        "X = np.asarray(X).astype(np.float32)\n",
        "y = np.asarray(y).astype(np.float32)\n"
      ]
    },
    {
      "cell_type": "code",
      "execution_count": 8,
      "metadata": {},
      "outputs": [],
      "source": [
        "X_train, X_test, y_train, y_test = train_test_split(X, y, test_size = 0.2, random_state = 0, stratify=y)"
      ]
    },
    {
      "cell_type": "code",
      "execution_count": 9,
      "metadata": {},
      "outputs": [],
      "source": [
        "bacteria = s_aureus.columns[-1]"
      ]
    },
    {
      "cell_type": "code",
      "execution_count": 10,
      "metadata": {},
      "outputs": [],
      "source": [
        "cantidadTecOS = 3 # cantidad de tecnicas de oversampling"
      ]
    },
    {
      "cell_type": "markdown",
      "metadata": {},
      "source": [
        "## Enfoque en clase minoritaria"
      ]
    },
    {
      "cell_type": "code",
      "execution_count": 11,
      "metadata": {},
      "outputs": [],
      "source": [
        "minority_class = s_aureus[s_aureus[bacteria] == 1].drop(columns=[bacteria])\n"
      ]
    },
    {
      "cell_type": "code",
      "execution_count": 12,
      "metadata": {},
      "outputs": [],
      "source": [
        "etiquetas = s_aureus[s_aureus[bacteria] == 1].iloc[:, 6000].values"
      ]
    },
    {
      "cell_type": "markdown",
      "metadata": {},
      "source": [
        "## Diffusion model\n"
      ]
    },
    {
      "cell_type": "code",
      "execution_count": 13,
      "metadata": {},
      "outputs": [],
      "source": [
        "import torch\n",
        "import torch.nn as nn\n"
      ]
    },
    {
      "cell_type": "code",
      "execution_count": 14,
      "metadata": {},
      "outputs": [],
      "source": [
        "torch.manual_seed(42)\n",
        "np.random.seed(42)"
      ]
    },
    {
      "cell_type": "code",
      "execution_count": 15,
      "metadata": {},
      "outputs": [],
      "source": [
        "# Preprocesamiento\n",
        "scaler = StandardScaler()\n",
        "scaled_data = scaler.fit_transform(X_train)"
      ]
    },
    {
      "cell_type": "code",
      "execution_count": 16,
      "metadata": {},
      "outputs": [],
      "source": [
        "# Modelo de Difusión\n",
        "class DiffusionModel(nn.Module):\n",
        "    def __init__(self, input_dim):\n",
        "        super(DiffusionModel, self).__init__()\n",
        "        self.model = nn.Sequential( \n",
        "            nn.Linear(input_dim, 64),\n",
        "            nn.ReLU(),\n",
        "            nn.Dropout(p=0.2),  # Regularización Dropout\n",
        "            nn.Linear(64, 32),\n",
        "            nn.ReLU(),\n",
        "            nn.Dropout(p=0.2),  # Regularización Dropout\n",
        "            nn.Linear(32, input_dim)\n",
        "        )\n",
        "\n",
        "\n",
        "    def forward(self, x):\n",
        "        return self.model(x)\n"
      ]
    },
    {
      "cell_type": "code",
      "execution_count": 17,
      "metadata": {},
      "outputs": [],
      "source": [
        "# Función de ruido (Scheduler)\n",
        "def add_noise(data, timesteps, noise_scale=1.0):\n",
        "    noise = np.random.normal(0, noise_scale, data.shape) * np.sqrt(timesteps / 100)\n",
        "    noisy_data = data + noise\n",
        "    return noisy_data, noise\n"
      ]
    },
    {
      "cell_type": "code",
      "execution_count": 18,
      "metadata": {},
      "outputs": [],
      "source": [
        "# Configuración del modelo\n",
        "input_dim = scaled_data.shape[1]\n",
        "model = DiffusionModel(input_dim)\n",
        "optimizer = torch.optim.Adam(model.parameters(), lr=0.001)\n",
        "loss_fn = nn.SmoothL1Loss()  # O Huber Loss\n"
      ]
    },
    {
      "cell_type": "code",
      "execution_count": 19,
      "metadata": {},
      "outputs": [],
      "source": [
        "# Scheduler de tasa de aprendizaje\n",
        "scheduler = torch.optim.lr_scheduler.StepLR(optimizer, step_size=100, gamma=0.9)\n"
      ]
    },
    {
      "cell_type": "code",
      "execution_count": 20,
      "metadata": {},
      "outputs": [
        {
          "name": "stdout",
          "output_type": "stream",
          "text": [
            "Epoch 0/500 - Loss: 0.25674909353256226\n",
            "Epoch 100/500 - Loss: 0.3211178779602051\n",
            "Epoch 200/500 - Loss: 0.273255854845047\n",
            "Epoch 300/500 - Loss: 0.19249814748764038\n",
            "Epoch 400/500 - Loss: 0.30806368589401245\n"
          ]
        }
      ],
      "source": [
        "# Entrenamiento\n",
        "scaled_data_tensor = torch.tensor(scaled_data, dtype=torch.float32)\n",
        "epochs = 500\n",
        "losses = []  # Para guardar la pérdida por época\n",
        "\n",
        "for epoch in range(epochs):\n",
        "    timesteps = np.random.randint(1, 100)\n",
        "    noisy_data, noise = add_noise(scaled_data, timesteps)\n",
        "    noisy_data_tensor = torch.tensor(noisy_data, dtype=torch.float32)\n",
        "    noise_tensor = torch.tensor(noise, dtype=torch.float32)\n",
        "\n",
        "    optimizer.zero_grad()\n",
        "    predicted_noise = model(noisy_data_tensor)\n",
        "    loss = loss_fn(predicted_noise, noise_tensor)\n",
        "    loss.backward()\n",
        "    optimizer.step()\n",
        "    scheduler.step()  # Actualiza la tasa de aprendizaje\n",
        "\n",
        "    losses.append(loss.item())\n",
        "\n",
        "    if epoch % 100 == 0:\n",
        "        print(f\"Epoch {epoch}/{epochs} - Loss: {loss.item()}\")\n"
      ]
    },
    {
      "cell_type": "code",
      "execution_count": 21,
      "metadata": {},
      "outputs": [],
      "source": [
        "# Generación de Datos Sintéticos\n",
        "def generate_synthetic_data(model, num_samples, input_dim):\n",
        "    model.eval()\n",
        "    with torch.no_grad():\n",
        "        synthetic_data = np.random.normal(0, 1, (num_samples, input_dim))\n",
        "        for t in range(100, 0, -1):  # Reverse diffusion\n",
        "            synthetic_data = synthetic_data - model(torch.tensor(synthetic_data, dtype=torch.float32)).numpy() * (t / 100)\n",
        "        return synthetic_data"
      ]
    },
    {
      "cell_type": "code",
      "execution_count": 22,
      "metadata": {},
      "outputs": [
        {
          "data": {
            "text/plain": [
              "102"
            ]
          },
          "execution_count": 22,
          "metadata": {},
          "output_type": "execute_result"
        }
      ],
      "source": [
        "pd.Series(y_train).value_counts()[0]-pd.Series(y_train).value_counts()[1]"
      ]
    },
    {
      "cell_type": "code",
      "execution_count": 23,
      "metadata": {},
      "outputs": [],
      "source": [
        "\n",
        "synthetic_data = generate_synthetic_data(model, int((pd.Series(y_train).value_counts()[0]-pd.Series(y_train).value_counts()[1])/cantidadTecOS), input_dim)\n",
        "synthetic_data_rescaled = scaler.inverse_transform(synthetic_data)\n"
      ]
    },
    {
      "cell_type": "code",
      "execution_count": 24,
      "metadata": {},
      "outputs": [
        {
          "data": {
            "text/plain": [
              "(34, 6000)"
            ]
          },
          "execution_count": 24,
          "metadata": {},
          "output_type": "execute_result"
        }
      ],
      "source": [
        "synthetic_data_rescaled.shape"
      ]
    },
    {
      "cell_type": "code",
      "execution_count": 25,
      "metadata": {},
      "outputs": [
        {
          "data": {
            "text/plain": [
              "(34, 6000)"
            ]
          },
          "execution_count": 25,
          "metadata": {},
          "output_type": "execute_result"
        }
      ],
      "source": [
        "\n",
        "# Cambiar el tipo de datos a float32\n",
        "synthetic_samples_numpy_difussion = synthetic_data_rescaled.astype(np.float32)\n",
        "\n",
        "# Mostrar las muestras generadas\n",
        "synthetic_samples_numpy_difussion.shape"
      ]
    },
    {
      "cell_type": "code",
      "execution_count": 26,
      "metadata": {},
      "outputs": [],
      "source": [
        "X_train_resampled = np.concatenate([X_train,synthetic_samples_numpy_difussion])"
      ]
    },
    {
      "cell_type": "code",
      "execution_count": 27,
      "metadata": {},
      "outputs": [
        {
          "data": {
            "text/plain": [
              "(204, 6000)"
            ]
          },
          "execution_count": 27,
          "metadata": {},
          "output_type": "execute_result"
        }
      ],
      "source": [
        "X_train_resampled.shape"
      ]
    },
    {
      "cell_type": "code",
      "execution_count": 28,
      "metadata": {},
      "outputs": [
        {
          "data": {
            "text/plain": [
              "(204,)"
            ]
          },
          "execution_count": 28,
          "metadata": {},
          "output_type": "execute_result"
        }
      ],
      "source": [
        "ones_array = np.ones(int((pd.Series(y_train).value_counts()[0]-pd.Series(y_train).value_counts()[1])/cantidadTecOS))\n",
        "y_train_resampled = np.concatenate([y_train,ones_array])\n",
        "y_train_resampled.shape"
      ]
    },
    {
      "cell_type": "markdown",
      "metadata": {},
      "source": [
        "## SMOTE"
      ]
    },
    {
      "cell_type": "code",
      "execution_count": 29,
      "metadata": {},
      "outputs": [
        {
          "name": "stdout",
          "output_type": "stream",
          "text": [
            "Nuevas muestras generadas:\n",
            "(34, 6000)\n",
            "(34,)\n"
          ]
        }
      ],
      "source": [
        "from imblearn.over_sampling import SMOTE\n",
        "import numpy as np\n",
        "import pandas as pd\n",
        "\n",
        "# Número de muestras adicionales que deseas\n",
        "nuevas_muestras = int((pd.Series(y_train).value_counts()[0]-pd.Series(y_train).value_counts()[1])/cantidadTecOS)\n",
        "\n",
        "# Calcular el número total deseado para la clase minoritaria\n",
        "n_clase_minoritaria_actual = sum(y_train == 1)  # Asumiendo que '1' es la clase minoritaria\n",
        "n_total_deseado = n_clase_minoritaria_actual + nuevas_muestras\n",
        "\n",
        "sampling_strategy = {0: sum(y_train == 0), 1: n_total_deseado}  # \n",
        "# Aplicar SMOTE\n",
        "smote = SMOTE(sampling_strategy=sampling_strategy, random_state=42)\n",
        "X_resampled_smote, y_resampled_smote = smote.fit_resample(X_train, y_train)\n",
        "\n",
        "# Obtener el número original de muestras\n",
        "n_original = len(X_train)\n",
        "\n",
        "# Extraer las nuevas muestras\n",
        "X_new_samples = X_resampled_smote[n_original:]\n",
        "y_new_samples = y_resampled_smote[n_original:]\n",
        "\n",
        "# Mostrar las nuevas muestras\n",
        "print(\"Nuevas muestras generadas:\")\n",
        "print(X_new_samples.shape)\n",
        "print(y_new_samples.shape)\n",
        "\n"
      ]
    },
    {
      "cell_type": "code",
      "execution_count": 30,
      "metadata": {},
      "outputs": [
        {
          "data": {
            "text/plain": [
              "(204, 6000)"
            ]
          },
          "execution_count": 30,
          "metadata": {},
          "output_type": "execute_result"
        }
      ],
      "source": [
        "X_train_resampled.shape"
      ]
    },
    {
      "cell_type": "code",
      "execution_count": 31,
      "metadata": {},
      "outputs": [],
      "source": [
        "X_train_resampled = np.concatenate([X_train_resampled,X_new_samples])\n",
        "\n"
      ]
    },
    {
      "cell_type": "code",
      "execution_count": 32,
      "metadata": {},
      "outputs": [
        {
          "data": {
            "text/plain": [
              "(238, 6000)"
            ]
          },
          "execution_count": 32,
          "metadata": {},
          "output_type": "execute_result"
        }
      ],
      "source": [
        "X_train_resampled.shape"
      ]
    },
    {
      "cell_type": "code",
      "execution_count": 33,
      "metadata": {},
      "outputs": [
        {
          "data": {
            "text/plain": [
              "(238,)"
            ]
          },
          "execution_count": 33,
          "metadata": {},
          "output_type": "execute_result"
        }
      ],
      "source": [
        "y_train_resampled = np.concatenate([y_train_resampled,y_new_samples])\n",
        "y_train_resampled.shape"
      ]
    },
    {
      "cell_type": "code",
      "execution_count": 34,
      "metadata": {},
      "outputs": [
        {
          "name": "stdout",
          "output_type": "stream",
          "text": [
            "0.0    136\n",
            "1.0    102\n",
            "Name: count, dtype: int64\n"
          ]
        }
      ],
      "source": [
        "print(pd.Series(y_train_resampled).value_counts())"
      ]
    },
    {
      "cell_type": "markdown",
      "metadata": {},
      "source": [
        "## VAE"
      ]
    },
    {
      "cell_type": "code",
      "execution_count": 35,
      "metadata": {},
      "outputs": [],
      "source": [
        "from tensorflow.keras.models import Model\n",
        "from tensorflow.keras.losses import mse\n"
      ]
    },
    {
      "cell_type": "code",
      "execution_count": 36,
      "metadata": {},
      "outputs": [],
      "source": [
        "scaler = MinMaxScaler()\n",
        "X_minority_scaled = scaler.fit_transform(X_train)"
      ]
    },
    {
      "cell_type": "code",
      "execution_count": 37,
      "metadata": {},
      "outputs": [
        {
          "name": "stdout",
          "output_type": "stream",
          "text": [
            "Model: \"model\"\n",
            "__________________________________________________________________________________________________\n",
            " Layer (type)                   Output Shape         Param #     Connected to                     \n",
            "==================================================================================================\n",
            " input_1 (InputLayer)           [(None, 6000)]       0           []                               \n",
            "                                                                                                  \n",
            " dense (Dense)                  (None, 16)           96016       ['input_1[0][0]']                \n",
            "                                                                                                  \n",
            " z_mean (Dense)                 (None, 2)            34          ['dense[0][0]']                  \n",
            "                                                                                                  \n",
            " z_log_var (Dense)              (None, 2)            34          ['dense[0][0]']                  \n",
            "                                                                                                  \n",
            " z (Lambda)                     (None, 2)            0           ['z_mean[0][0]',                 \n",
            "                                                                  'z_log_var[0][0]']              \n",
            "                                                                                                  \n",
            " dense_1 (Dense)                (None, 16)           48          ['z[0][0]']                      \n",
            "                                                                                                  \n",
            " dense_2 (Dense)                (None, 6000)         102000      ['dense_1[0][0]']                \n",
            "                                                                                                  \n",
            " tf.__operators__.add (TFOpLamb  (None, 2)           0           ['z_log_var[0][0]']              \n",
            " da)                                                                                              \n",
            "                                                                                                  \n",
            " tf.math.square (TFOpLambda)    (None, 2)            0           ['z_mean[0][0]']                 \n",
            "                                                                                                  \n",
            " tf.convert_to_tensor (TFOpLamb  (None, 6000)        0           ['dense_2[0][0]']                \n",
            " da)                                                                                              \n",
            "                                                                                                  \n",
            " tf.cast (TFOpLambda)           (None, 6000)         0           ['input_1[0][0]']                \n",
            "                                                                                                  \n",
            " tf.math.subtract (TFOpLambda)  (None, 2)            0           ['tf.__operators__.add[0][0]',   \n",
            "                                                                  'tf.math.square[0][0]']         \n",
            "                                                                                                  \n",
            " tf.math.exp (TFOpLambda)       (None, 2)            0           ['z_log_var[0][0]']              \n",
            "                                                                                                  \n",
            " tf.math.squared_difference (TF  (None, 6000)        0           ['tf.convert_to_tensor[0][0]',   \n",
            " OpLambda)                                                        'tf.cast[0][0]']                \n",
            "                                                                                                  \n",
            " tf.math.subtract_1 (TFOpLambda  (None, 2)           0           ['tf.math.subtract[0][0]',       \n",
            " )                                                                'tf.math.exp[0][0]']            \n",
            "                                                                                                  \n",
            " tf.math.reduce_mean (TFOpLambd  (None,)             0           ['tf.math.squared_difference[0][0\n",
            " a)                                                              ]']                              \n",
            "                                                                                                  \n",
            " tf.math.reduce_sum (TFOpLambda  (None,)             0           ['tf.math.subtract_1[0][0]']     \n",
            " )                                                                                                \n",
            "                                                                                                  \n",
            " tf.math.multiply (TFOpLambda)  (None,)              0           ['tf.math.reduce_mean[0][0]']    \n",
            "                                                                                                  \n",
            " tf.math.multiply_1 (TFOpLambda  (None,)             0           ['tf.math.reduce_sum[0][0]']     \n",
            " )                                                                                                \n",
            "                                                                                                  \n",
            " tf.__operators__.add_1 (TFOpLa  (None,)             0           ['tf.math.multiply[0][0]',       \n",
            " mbda)                                                            'tf.math.multiply_1[0][0]']     \n",
            "                                                                                                  \n",
            " tf.math.reduce_mean_1 (TFOpLam  ()                  0           ['tf.__operators__.add_1[0][0]'] \n",
            " bda)                                                                                             \n",
            "                                                                                                  \n",
            " add_loss (AddLoss)             ()                   0           ['tf.math.reduce_mean_1[0][0]']  \n",
            "                                                                                                  \n",
            "==================================================================================================\n",
            "Total params: 198,132\n",
            "Trainable params: 198,132\n",
            "Non-trainable params: 0\n",
            "__________________________________________________________________________________________________\n"
          ]
        }
      ],
      "source": [
        "# Dimensiones\n",
        "input_dim = X_minority_scaled.shape[1]\n",
        "latent_dim = 2  # Espacio latente\n",
        "\n",
        "# Encoder\n",
        "inputs = Input(shape=(input_dim,))\n",
        "hidden = Dense(16, activation='relu')(inputs)\n",
        "z_mean = Dense(latent_dim, name='z_mean')(hidden)\n",
        "z_log_var = Dense(latent_dim, name='z_log_var')(hidden)\n",
        "\n",
        "# Sampling\n",
        "def sampling(args):\n",
        "    z_mean, z_log_var = args\n",
        "    epsilon = tf.random.normal(shape=(tf.shape(z_mean)[0], latent_dim))\n",
        "    return z_mean + tf.exp(0.5 * z_log_var) * epsilon\n",
        "\n",
        "z = Lambda(sampling, output_shape=(latent_dim,), name='z')([z_mean, z_log_var])\n",
        "\n",
        "# Decoder\n",
        "decoder_hidden = Dense(16, activation='relu')\n",
        "decoder_output = Dense(input_dim, activation='sigmoid')\n",
        "\n",
        "hidden_decoded = decoder_hidden(z)\n",
        "outputs = decoder_output(hidden_decoded)\n",
        "\n",
        "# Modelo VAE\n",
        "vae = Model(inputs, outputs)\n",
        "\n",
        "# Pérdida personalizada\n",
        "reconstruction_loss = mse(inputs, outputs)\n",
        "reconstruction_loss *= input_dim\n",
        "kl_loss = 1 + z_log_var - tf.square(z_mean) - tf.exp(z_log_var)\n",
        "kl_loss = tf.reduce_sum(kl_loss, axis=-1)\n",
        "kl_loss *= -0.5\n",
        "vae_loss = tf.reduce_mean(reconstruction_loss + kl_loss)\n",
        "vae.add_loss(vae_loss)\n",
        "vae.compile(optimizer='adam')\n",
        "\n",
        "vae.summary()\n"
      ]
    },
    {
      "cell_type": "code",
      "execution_count": 38,
      "metadata": {},
      "outputs": [
        {
          "name": "stdout",
          "output_type": "stream",
          "text": [
            "Epoch 1/200\n",
            "6/6 [==============================] - 1s 6ms/step - loss: 791.7379\n",
            "Epoch 2/200\n",
            "6/6 [==============================] - 0s 5ms/step - loss: 747.8751\n",
            "Epoch 3/200\n",
            "6/6 [==============================] - 0s 6ms/step - loss: 727.9263\n",
            "Epoch 4/200\n",
            "6/6 [==============================] - 0s 7ms/step - loss: 709.3029\n",
            "Epoch 5/200\n",
            "1/6 [====>.........................] - ETA: 0s - loss: 601.9332"
          ]
        },
        {
          "name": "stderr",
          "output_type": "stream",
          "text": [
            "2025-01-19 14:40:52.412824: I tensorflow/stream_executor/cuda/cuda_blas.cc:1614] TensorFloat-32 will be used for the matrix multiplication. This will only be logged once.\n"
          ]
        },
        {
          "name": "stdout",
          "output_type": "stream",
          "text": [
            "6/6 [==============================] - 0s 7ms/step - loss: 691.7964\n",
            "Epoch 6/200\n",
            "6/6 [==============================] - 0s 7ms/step - loss: 582.2808\n",
            "Epoch 7/200\n",
            "6/6 [==============================] - 0s 7ms/step - loss: 528.8298\n",
            "Epoch 8/200\n",
            "6/6 [==============================] - 0s 7ms/step - loss: 454.7367\n",
            "Epoch 9/200\n",
            "6/6 [==============================] - 0s 7ms/step - loss: 461.4477\n",
            "Epoch 10/200\n",
            "6/6 [==============================] - 0s 7ms/step - loss: 450.1278\n",
            "Epoch 11/200\n",
            "6/6 [==============================] - 0s 7ms/step - loss: 391.5162\n",
            "Epoch 12/200\n",
            "6/6 [==============================] - 0s 8ms/step - loss: 418.8872\n",
            "Epoch 13/200\n",
            "6/6 [==============================] - 0s 7ms/step - loss: 399.4205\n",
            "Epoch 14/200\n",
            "6/6 [==============================] - 0s 8ms/step - loss: 363.4660\n",
            "Epoch 15/200\n",
            "6/6 [==============================] - 0s 8ms/step - loss: 405.3018\n",
            "Epoch 16/200\n",
            "6/6 [==============================] - 0s 8ms/step - loss: 321.8661\n",
            "Epoch 17/200\n",
            "6/6 [==============================] - 0s 7ms/step - loss: 302.2649\n",
            "Epoch 18/200\n",
            "6/6 [==============================] - 0s 8ms/step - loss: 291.7118\n",
            "Epoch 19/200\n",
            "6/6 [==============================] - 0s 8ms/step - loss: 259.2624\n",
            "Epoch 20/200\n",
            "6/6 [==============================] - 0s 7ms/step - loss: 247.1851\n",
            "Epoch 21/200\n",
            "6/6 [==============================] - 0s 7ms/step - loss: 235.4454\n",
            "Epoch 22/200\n",
            "6/6 [==============================] - 0s 7ms/step - loss: 213.3364\n",
            "Epoch 23/200\n",
            "6/6 [==============================] - 0s 8ms/step - loss: 207.3111\n",
            "Epoch 24/200\n",
            "6/6 [==============================] - 0s 7ms/step - loss: 205.8282\n",
            "Epoch 25/200\n",
            "6/6 [==============================] - 0s 8ms/step - loss: 200.4711\n",
            "Epoch 26/200\n",
            "6/6 [==============================] - 0s 8ms/step - loss: 224.3444\n",
            "Epoch 27/200\n",
            "6/6 [==============================] - 0s 7ms/step - loss: 187.8461\n",
            "Epoch 28/200\n",
            "6/6 [==============================] - 0s 8ms/step - loss: 187.8967\n",
            "Epoch 29/200\n",
            "6/6 [==============================] - 0s 8ms/step - loss: 176.6115\n",
            "Epoch 30/200\n",
            "6/6 [==============================] - 0s 8ms/step - loss: 183.0408\n",
            "Epoch 31/200\n",
            "6/6 [==============================] - 0s 7ms/step - loss: 182.1867\n",
            "Epoch 32/200\n",
            "6/6 [==============================] - 0s 8ms/step - loss: 177.7786\n",
            "Epoch 33/200\n",
            "6/6 [==============================] - 0s 8ms/step - loss: 179.0800\n",
            "Epoch 34/200\n",
            "6/6 [==============================] - 0s 8ms/step - loss: 158.8895\n",
            "Epoch 35/200\n",
            "6/6 [==============================] - 0s 8ms/step - loss: 165.1927\n",
            "Epoch 36/200\n",
            "6/6 [==============================] - 0s 7ms/step - loss: 174.5036\n",
            "Epoch 37/200\n",
            "6/6 [==============================] - 0s 7ms/step - loss: 167.6022\n",
            "Epoch 38/200\n",
            "6/6 [==============================] - 0s 8ms/step - loss: 187.2911\n",
            "Epoch 39/200\n",
            "6/6 [==============================] - 0s 8ms/step - loss: 166.7271\n",
            "Epoch 40/200\n",
            "6/6 [==============================] - 0s 7ms/step - loss: 145.4169\n",
            "Epoch 41/200\n",
            "6/6 [==============================] - 0s 8ms/step - loss: 148.6320\n",
            "Epoch 42/200\n",
            "6/6 [==============================] - 0s 8ms/step - loss: 159.6138\n",
            "Epoch 43/200\n",
            "6/6 [==============================] - 0s 8ms/step - loss: 163.2516\n",
            "Epoch 44/200\n",
            "6/6 [==============================] - 0s 8ms/step - loss: 153.3589\n",
            "Epoch 45/200\n",
            "6/6 [==============================] - 0s 7ms/step - loss: 162.4051\n",
            "Epoch 46/200\n",
            "6/6 [==============================] - 0s 8ms/step - loss: 146.8121\n",
            "Epoch 47/200\n",
            "6/6 [==============================] - 0s 7ms/step - loss: 157.5441\n",
            "Epoch 48/200\n",
            "6/6 [==============================] - 0s 7ms/step - loss: 170.0442\n",
            "Epoch 49/200\n",
            "6/6 [==============================] - 0s 7ms/step - loss: 146.5719\n",
            "Epoch 50/200\n",
            "6/6 [==============================] - 0s 8ms/step - loss: 157.7070\n",
            "Epoch 51/200\n",
            "6/6 [==============================] - 0s 8ms/step - loss: 162.8668\n",
            "Epoch 52/200\n",
            "6/6 [==============================] - 0s 8ms/step - loss: 163.0802\n",
            "Epoch 53/200\n",
            "6/6 [==============================] - 0s 8ms/step - loss: 156.1741\n",
            "Epoch 54/200\n",
            "6/6 [==============================] - 0s 8ms/step - loss: 147.9913\n",
            "Epoch 55/200\n",
            "6/6 [==============================] - 0s 7ms/step - loss: 144.2107\n",
            "Epoch 56/200\n",
            "6/6 [==============================] - 0s 7ms/step - loss: 148.6714\n",
            "Epoch 57/200\n",
            "6/6 [==============================] - 0s 7ms/step - loss: 139.5191\n",
            "Epoch 58/200\n",
            "6/6 [==============================] - 0s 7ms/step - loss: 164.6660\n",
            "Epoch 59/200\n",
            "6/6 [==============================] - 0s 7ms/step - loss: 137.4860\n",
            "Epoch 60/200\n",
            "6/6 [==============================] - 0s 8ms/step - loss: 140.4057\n",
            "Epoch 61/200\n",
            "6/6 [==============================] - 0s 8ms/step - loss: 136.9475\n",
            "Epoch 62/200\n",
            "6/6 [==============================] - 0s 8ms/step - loss: 164.2589\n",
            "Epoch 63/200\n",
            "6/6 [==============================] - 0s 8ms/step - loss: 149.5941\n",
            "Epoch 64/200\n",
            "6/6 [==============================] - 0s 7ms/step - loss: 131.5642\n",
            "Epoch 65/200\n",
            "6/6 [==============================] - 0s 8ms/step - loss: 142.2276\n",
            "Epoch 66/200\n",
            "6/6 [==============================] - 0s 7ms/step - loss: 125.3742\n",
            "Epoch 67/200\n",
            "6/6 [==============================] - 0s 7ms/step - loss: 140.5012\n",
            "Epoch 68/200\n",
            "6/6 [==============================] - 0s 7ms/step - loss: 137.5219\n",
            "Epoch 69/200\n",
            "6/6 [==============================] - 0s 7ms/step - loss: 144.2420\n",
            "Epoch 70/200\n",
            "6/6 [==============================] - 0s 8ms/step - loss: 147.4594\n",
            "Epoch 71/200\n",
            "6/6 [==============================] - 0s 8ms/step - loss: 137.1839\n",
            "Epoch 72/200\n",
            "6/6 [==============================] - 0s 7ms/step - loss: 134.1837\n",
            "Epoch 73/200\n",
            "6/6 [==============================] - 0s 7ms/step - loss: 132.7791\n",
            "Epoch 74/200\n",
            "6/6 [==============================] - 0s 8ms/step - loss: 155.3035\n",
            "Epoch 75/200\n",
            "6/6 [==============================] - 0s 8ms/step - loss: 136.9967\n",
            "Epoch 76/200\n",
            "6/6 [==============================] - 0s 7ms/step - loss: 161.7946\n",
            "Epoch 77/200\n",
            "6/6 [==============================] - 0s 8ms/step - loss: 119.9723\n",
            "Epoch 78/200\n",
            "6/6 [==============================] - 0s 8ms/step - loss: 135.9706\n",
            "Epoch 79/200\n",
            "6/6 [==============================] - 0s 8ms/step - loss: 154.7826\n",
            "Epoch 80/200\n",
            "6/6 [==============================] - 0s 7ms/step - loss: 126.9812\n",
            "Epoch 81/200\n",
            "6/6 [==============================] - 0s 7ms/step - loss: 137.9709\n",
            "Epoch 82/200\n",
            "6/6 [==============================] - 0s 7ms/step - loss: 126.9522\n",
            "Epoch 83/200\n",
            "6/6 [==============================] - 0s 8ms/step - loss: 128.2480\n",
            "Epoch 84/200\n",
            "6/6 [==============================] - 0s 7ms/step - loss: 135.9240\n",
            "Epoch 85/200\n",
            "6/6 [==============================] - 0s 8ms/step - loss: 142.2792\n",
            "Epoch 86/200\n",
            "6/6 [==============================] - 0s 8ms/step - loss: 125.2792\n",
            "Epoch 87/200\n",
            "6/6 [==============================] - 0s 8ms/step - loss: 127.3489\n",
            "Epoch 88/200\n",
            "6/6 [==============================] - 0s 8ms/step - loss: 144.3522\n",
            "Epoch 89/200\n",
            "6/6 [==============================] - 0s 8ms/step - loss: 124.1116\n",
            "Epoch 90/200\n",
            "6/6 [==============================] - 0s 7ms/step - loss: 114.7311\n",
            "Epoch 91/200\n",
            "6/6 [==============================] - 0s 7ms/step - loss: 155.0343\n",
            "Epoch 92/200\n",
            "6/6 [==============================] - 0s 8ms/step - loss: 131.2936\n",
            "Epoch 93/200\n",
            "6/6 [==============================] - 0s 8ms/step - loss: 122.0194\n",
            "Epoch 94/200\n",
            "6/6 [==============================] - 0s 7ms/step - loss: 121.0004\n",
            "Epoch 95/200\n",
            "6/6 [==============================] - 0s 7ms/step - loss: 134.4622\n",
            "Epoch 96/200\n",
            "6/6 [==============================] - 0s 7ms/step - loss: 126.1191\n",
            "Epoch 97/200\n",
            "6/6 [==============================] - 0s 7ms/step - loss: 117.9375\n",
            "Epoch 98/200\n",
            "6/6 [==============================] - 0s 8ms/step - loss: 127.5298\n",
            "Epoch 99/200\n",
            "6/6 [==============================] - 0s 7ms/step - loss: 139.3007\n",
            "Epoch 100/200\n",
            "6/6 [==============================] - 0s 8ms/step - loss: 117.4649\n",
            "Epoch 101/200\n",
            "6/6 [==============================] - 0s 7ms/step - loss: 121.6197\n",
            "Epoch 102/200\n",
            "6/6 [==============================] - 0s 7ms/step - loss: 133.2440\n",
            "Epoch 103/200\n",
            "6/6 [==============================] - 0s 7ms/step - loss: 124.1185\n",
            "Epoch 104/200\n",
            "6/6 [==============================] - 0s 8ms/step - loss: 125.0601\n",
            "Epoch 105/200\n",
            "6/6 [==============================] - 0s 7ms/step - loss: 111.2902\n",
            "Epoch 106/200\n",
            "6/6 [==============================] - 0s 8ms/step - loss: 112.2849\n",
            "Epoch 107/200\n",
            "6/6 [==============================] - 0s 8ms/step - loss: 126.2328\n",
            "Epoch 108/200\n",
            "6/6 [==============================] - 0s 7ms/step - loss: 139.1116\n",
            "Epoch 109/200\n",
            "6/6 [==============================] - 0s 7ms/step - loss: 117.5701\n",
            "Epoch 110/200\n",
            "6/6 [==============================] - 0s 7ms/step - loss: 124.3347\n",
            "Epoch 111/200\n",
            "6/6 [==============================] - 0s 7ms/step - loss: 128.6488\n",
            "Epoch 112/200\n",
            "6/6 [==============================] - 0s 7ms/step - loss: 106.2738\n",
            "Epoch 113/200\n",
            "6/6 [==============================] - 0s 7ms/step - loss: 119.2087\n",
            "Epoch 114/200\n",
            "6/6 [==============================] - 0s 8ms/step - loss: 105.9318\n",
            "Epoch 115/200\n",
            "6/6 [==============================] - 0s 7ms/step - loss: 130.1099\n",
            "Epoch 116/200\n",
            "6/6 [==============================] - 0s 7ms/step - loss: 138.8011\n",
            "Epoch 117/200\n",
            "6/6 [==============================] - 0s 7ms/step - loss: 125.0548\n",
            "Epoch 118/200\n",
            "6/6 [==============================] - 0s 7ms/step - loss: 105.3185\n",
            "Epoch 119/200\n",
            "6/6 [==============================] - 0s 8ms/step - loss: 109.0626\n",
            "Epoch 120/200\n",
            "6/6 [==============================] - 0s 8ms/step - loss: 127.5903\n",
            "Epoch 121/200\n",
            "6/6 [==============================] - 0s 7ms/step - loss: 113.6645\n",
            "Epoch 122/200\n",
            "6/6 [==============================] - 0s 7ms/step - loss: 135.9363\n",
            "Epoch 123/200\n",
            "6/6 [==============================] - 0s 7ms/step - loss: 122.3712\n",
            "Epoch 124/200\n",
            "6/6 [==============================] - 0s 8ms/step - loss: 126.1740\n",
            "Epoch 125/200\n",
            "6/6 [==============================] - 0s 8ms/step - loss: 113.9580\n",
            "Epoch 126/200\n",
            "6/6 [==============================] - 0s 7ms/step - loss: 108.5791\n",
            "Epoch 127/200\n",
            "6/6 [==============================] - 0s 8ms/step - loss: 115.7839\n",
            "Epoch 128/200\n",
            "6/6 [==============================] - 0s 7ms/step - loss: 128.0010\n",
            "Epoch 129/200\n",
            "6/6 [==============================] - 0s 7ms/step - loss: 110.3070\n",
            "Epoch 130/200\n",
            "6/6 [==============================] - 0s 7ms/step - loss: 102.3343\n",
            "Epoch 131/200\n",
            "6/6 [==============================] - 0s 8ms/step - loss: 110.2983\n",
            "Epoch 132/200\n",
            "6/6 [==============================] - 0s 7ms/step - loss: 120.0185\n",
            "Epoch 133/200\n",
            "6/6 [==============================] - 0s 8ms/step - loss: 109.8972\n",
            "Epoch 134/200\n",
            "6/6 [==============================] - 0s 8ms/step - loss: 113.5509\n",
            "Epoch 135/200\n",
            "6/6 [==============================] - 0s 7ms/step - loss: 125.1800\n",
            "Epoch 136/200\n",
            "6/6 [==============================] - 0s 8ms/step - loss: 110.4480\n",
            "Epoch 137/200\n",
            "6/6 [==============================] - 0s 7ms/step - loss: 144.2567\n",
            "Epoch 138/200\n",
            "6/6 [==============================] - 0s 8ms/step - loss: 127.3461\n",
            "Epoch 139/200\n",
            "6/6 [==============================] - 0s 7ms/step - loss: 124.8406\n",
            "Epoch 140/200\n",
            "6/6 [==============================] - 0s 7ms/step - loss: 131.2404\n",
            "Epoch 141/200\n",
            "6/6 [==============================] - 0s 7ms/step - loss: 149.1874\n",
            "Epoch 142/200\n",
            "6/6 [==============================] - 0s 8ms/step - loss: 118.9515\n",
            "Epoch 143/200\n",
            "6/6 [==============================] - 0s 8ms/step - loss: 120.6755\n",
            "Epoch 144/200\n",
            "6/6 [==============================] - 0s 7ms/step - loss: 144.7643\n",
            "Epoch 145/200\n",
            "6/6 [==============================] - 0s 7ms/step - loss: 139.9784\n",
            "Epoch 146/200\n",
            "6/6 [==============================] - 0s 7ms/step - loss: 105.4111\n",
            "Epoch 147/200\n",
            "6/6 [==============================] - 0s 7ms/step - loss: 103.8055\n",
            "Epoch 148/200\n",
            "6/6 [==============================] - 0s 7ms/step - loss: 111.4820\n",
            "Epoch 149/200\n",
            "6/6 [==============================] - 0s 8ms/step - loss: 115.4636\n",
            "Epoch 150/200\n",
            "6/6 [==============================] - 0s 8ms/step - loss: 123.1480\n",
            "Epoch 151/200\n",
            "6/6 [==============================] - 0s 7ms/step - loss: 105.4940\n",
            "Epoch 152/200\n",
            "6/6 [==============================] - 0s 7ms/step - loss: 134.7274\n",
            "Epoch 153/200\n",
            "6/6 [==============================] - 0s 8ms/step - loss: 110.7842\n",
            "Epoch 154/200\n",
            "6/6 [==============================] - 0s 7ms/step - loss: 103.1879\n",
            "Epoch 155/200\n",
            "6/6 [==============================] - 0s 7ms/step - loss: 109.8055\n",
            "Epoch 156/200\n",
            "6/6 [==============================] - 0s 7ms/step - loss: 107.1412\n",
            "Epoch 157/200\n",
            "6/6 [==============================] - 0s 7ms/step - loss: 102.2817\n",
            "Epoch 158/200\n",
            "6/6 [==============================] - 0s 8ms/step - loss: 97.3328\n",
            "Epoch 159/200\n",
            "6/6 [==============================] - 0s 7ms/step - loss: 119.5485\n",
            "Epoch 160/200\n",
            "6/6 [==============================] - 0s 7ms/step - loss: 111.3018\n",
            "Epoch 161/200\n",
            "6/6 [==============================] - 0s 7ms/step - loss: 117.8125\n",
            "Epoch 162/200\n",
            "6/6 [==============================] - 0s 7ms/step - loss: 117.0496\n",
            "Epoch 163/200\n",
            "6/6 [==============================] - 0s 8ms/step - loss: 137.1361\n",
            "Epoch 164/200\n",
            "6/6 [==============================] - 0s 8ms/step - loss: 97.7903\n",
            "Epoch 165/200\n",
            "6/6 [==============================] - 0s 7ms/step - loss: 120.5444\n",
            "Epoch 166/200\n",
            "6/6 [==============================] - 0s 7ms/step - loss: 104.0478\n",
            "Epoch 167/200\n",
            "6/6 [==============================] - 0s 7ms/step - loss: 106.6667\n",
            "Epoch 168/200\n",
            "6/6 [==============================] - 0s 7ms/step - loss: 96.8317\n",
            "Epoch 169/200\n",
            "6/6 [==============================] - 0s 7ms/step - loss: 106.4636\n",
            "Epoch 170/200\n",
            "6/6 [==============================] - 0s 8ms/step - loss: 95.0583\n",
            "Epoch 171/200\n",
            "6/6 [==============================] - 0s 7ms/step - loss: 105.3496\n",
            "Epoch 172/200\n",
            "6/6 [==============================] - 0s 7ms/step - loss: 107.3145\n",
            "Epoch 173/200\n",
            "6/6 [==============================] - 0s 7ms/step - loss: 95.8404\n",
            "Epoch 174/200\n",
            "6/6 [==============================] - 0s 7ms/step - loss: 100.9215\n",
            "Epoch 175/200\n",
            "6/6 [==============================] - 0s 7ms/step - loss: 108.0687\n",
            "Epoch 176/200\n",
            "6/6 [==============================] - 0s 7ms/step - loss: 110.9132\n",
            "Epoch 177/200\n",
            "6/6 [==============================] - 0s 7ms/step - loss: 95.1392\n",
            "Epoch 178/200\n",
            "6/6 [==============================] - 0s 7ms/step - loss: 102.5509\n",
            "Epoch 179/200\n",
            "6/6 [==============================] - 0s 8ms/step - loss: 107.8085\n",
            "Epoch 180/200\n",
            "6/6 [==============================] - 0s 7ms/step - loss: 95.1120\n",
            "Epoch 181/200\n",
            "6/6 [==============================] - 0s 7ms/step - loss: 102.3162\n",
            "Epoch 182/200\n",
            "6/6 [==============================] - 0s 7ms/step - loss: 114.4653\n",
            "Epoch 183/200\n",
            "6/6 [==============================] - 0s 7ms/step - loss: 99.9209\n",
            "Epoch 184/200\n",
            "6/6 [==============================] - 0s 7ms/step - loss: 98.6086\n",
            "Epoch 185/200\n",
            "6/6 [==============================] - 0s 8ms/step - loss: 102.0494\n",
            "Epoch 186/200\n",
            "6/6 [==============================] - 0s 8ms/step - loss: 114.8472\n",
            "Epoch 187/200\n",
            "6/6 [==============================] - 0s 7ms/step - loss: 91.5732\n",
            "Epoch 188/200\n",
            "6/6 [==============================] - 0s 8ms/step - loss: 96.7042\n",
            "Epoch 189/200\n",
            "6/6 [==============================] - 0s 7ms/step - loss: 97.3147\n",
            "Epoch 190/200\n",
            "6/6 [==============================] - 0s 7ms/step - loss: 93.7830\n",
            "Epoch 191/200\n",
            "6/6 [==============================] - 0s 7ms/step - loss: 136.5202\n",
            "Epoch 192/200\n",
            "6/6 [==============================] - 0s 7ms/step - loss: 92.6356\n",
            "Epoch 193/200\n",
            "6/6 [==============================] - 0s 7ms/step - loss: 105.1141\n",
            "Epoch 194/200\n",
            "6/6 [==============================] - 0s 8ms/step - loss: 93.7968\n",
            "Epoch 195/200\n",
            "6/6 [==============================] - 0s 7ms/step - loss: 95.5051\n",
            "Epoch 196/200\n",
            "6/6 [==============================] - 0s 7ms/step - loss: 96.7571\n",
            "Epoch 197/200\n",
            "6/6 [==============================] - 0s 7ms/step - loss: 100.9908\n",
            "Epoch 198/200\n",
            "6/6 [==============================] - 0s 7ms/step - loss: 105.7652\n",
            "Epoch 199/200\n",
            "6/6 [==============================] - 0s 7ms/step - loss: 103.1310\n",
            "Epoch 200/200\n",
            "6/6 [==============================] - 0s 7ms/step - loss: 119.8398\n"
          ]
        },
        {
          "data": {
            "text/plain": [
              "<keras.callbacks.History at 0x7f6423715b20>"
            ]
          },
          "execution_count": 38,
          "metadata": {},
          "output_type": "execute_result"
        }
      ],
      "source": [
        "vae.fit(X_minority_scaled, X_minority_scaled, epochs=200, batch_size=32, verbose=1)\n"
      ]
    },
    {
      "cell_type": "code",
      "execution_count": 39,
      "metadata": {},
      "outputs": [
        {
          "name": "stdout",
          "output_type": "stream",
          "text": [
            "2/2 [==============================] - 0s 3ms/step\n"
          ]
        }
      ],
      "source": [
        "# Construir el generador (Decoder independiente)\n",
        "decoder_input = Input(shape=(latent_dim,))\n",
        "hidden_decoded_2 = decoder_hidden(decoder_input)\n",
        "output_decoded = decoder_output(hidden_decoded_2)\n",
        "generator = Model(decoder_input, output_decoded)\n",
        "\n",
        "# Generar datos sintéticos\n",
        "num_samples = int((pd.Series(y_train).value_counts()[0]-pd.Series(y_train).value_counts()[1])/cantidadTecOS)\n",
        "latent_points = np.random.normal(size=(num_samples, latent_dim))\n",
        "synthetic_data = generator.predict(latent_points)\n",
        "\n",
        "# Escalar de vuelta a los valores originales\n",
        "synthetic_data_Vae = scaler.inverse_transform(synthetic_data)\n"
      ]
    },
    {
      "cell_type": "code",
      "execution_count": 40,
      "metadata": {},
      "outputs": [
        {
          "data": {
            "text/plain": [
              "102"
            ]
          },
          "execution_count": 40,
          "metadata": {},
          "output_type": "execute_result"
        }
      ],
      "source": [
        "pd.Series(y_train).value_counts()[0]-pd.Series(y_train).value_counts()[1]"
      ]
    },
    {
      "cell_type": "code",
      "execution_count": 41,
      "metadata": {},
      "outputs": [
        {
          "name": "stdout",
          "output_type": "stream",
          "text": [
            "0.0    136\n",
            "1.0     34\n",
            "Name: count, dtype: int64\n"
          ]
        }
      ],
      "source": [
        "print(pd.Series(y_train).value_counts())"
      ]
    },
    {
      "cell_type": "code",
      "execution_count": 42,
      "metadata": {},
      "outputs": [
        {
          "data": {
            "text/plain": [
              "array([[7042.4287 , 6754.9243 , 7185.236  , ...,  236.58102,  235.17209,\n",
              "         227.05905],\n",
              "       [4786.825  , 4714.493  , 4882.0005 , ...,  104.61172,  103.19205,\n",
              "         101.46134],\n",
              "       [7164.096  , 6854.7935 , 7292.8887 , ...,  236.88397,  235.15294,\n",
              "         226.66899],\n",
              "       ...,\n",
              "       [7017.5996 , 6709.0874 , 7136.013  , ...,  231.53954,  229.9801 ,\n",
              "         223.00635],\n",
              "       [4838.146  , 4753.3066 , 4951.413  , ...,  233.57161,  227.8143 ,\n",
              "         226.75842],\n",
              "       [7018.661  , 6672.833  , 7099.4946 , ...,  222.16423,  219.64981,\n",
              "         213.37335]], dtype=float32)"
            ]
          },
          "execution_count": 42,
          "metadata": {},
          "output_type": "execute_result"
        }
      ],
      "source": [
        "synthetic_data_Vae"
      ]
    },
    {
      "cell_type": "code",
      "execution_count": 43,
      "metadata": {},
      "outputs": [],
      "source": [
        "X_train_resampled = np.concatenate([X_train_resampled, synthetic_data_Vae])\n",
        "y_train_resampled = np.concatenate([y_train_resampled, np.ones(num_samples)])\n"
      ]
    },
    {
      "cell_type": "code",
      "execution_count": 44,
      "metadata": {},
      "outputs": [
        {
          "name": "stdout",
          "output_type": "stream",
          "text": [
            "0.0    136\n",
            "1.0    136\n",
            "Name: count, dtype: int64\n"
          ]
        }
      ],
      "source": [
        "print(pd.Series(y_train_resampled).value_counts())"
      ]
    },
    {
      "cell_type": "code",
      "execution_count": 45,
      "metadata": {},
      "outputs": [
        {
          "data": {
            "text/plain": [
              "array([[0.31476688, 0.31625038, 0.31917164, ..., 0.5346464 , 0.515374  ,\n",
              "        0.5359157 ],\n",
              "       [0.21305963, 0.22024688, 0.21649335, ..., 0.23641066, 0.22573236,\n",
              "        0.2391346 ],\n",
              "       [0.32025298, 0.3209493 , 0.32397082, ..., 0.535331  , 0.515332  ,\n",
              "        0.534994  ],\n",
              "       ...,\n",
              "       [0.31364733, 0.31409374, 0.3169773 , ..., 0.5232532 , 0.50397974,\n",
              "        0.52633935],\n",
              "       [0.21537375, 0.22207308, 0.21958777, ..., 0.52784544, 0.4992267 ,\n",
              "        0.5352053 ],\n",
              "       [0.3136952 , 0.31238794, 0.3153493 , ..., 0.5020661 , 0.48130903,\n",
              "        0.50357705]], dtype=float32)"
            ]
          },
          "execution_count": 45,
          "metadata": {},
          "output_type": "execute_result"
        }
      ],
      "source": [
        "synthetic_data"
      ]
    },
    {
      "cell_type": "markdown",
      "metadata": {},
      "source": [
        "## Termino oversampling"
      ]
    },
    {
      "cell_type": "code",
      "execution_count": 46,
      "metadata": {
        "id": "Cz1ZnhEykiY9"
      },
      "outputs": [],
      "source": [
        "scaler=Normalizer(norm='max')\n",
        "sc_X = scaler\n",
        "X_train = sc_X.fit_transform(X_train_resampled)\n",
        "X_test = sc_X.transform(X_test)"
      ]
    },
    {
      "cell_type": "code",
      "execution_count": 47,
      "metadata": {
        "id": "HiHCUFo-kiW9"
      },
      "outputs": [],
      "source": [
        "sample_size = X_train.shape[0] # numero de muestras en el set de datos\n",
        "time_steps  = X_train.shape[1] # numero de atributos en el set de datos\n",
        "input_dimension = 1            #\n",
        "\n",
        "X_train_reshaped = X_train.reshape(sample_size,time_steps,input_dimension)\n",
        "X_test_reshaped = X_test.reshape(X_test.shape[0],X_test.shape[1],1)"
      ]
    },
    {
      "cell_type": "code",
      "execution_count": 48,
      "metadata": {
        "id": "VEuHRBvAlw79"
      },
      "outputs": [],
      "source": [
        "reduce_lr = ReduceLROnPlateau(monitor='val_loss', factor=0.1, patience=3, min_lr=0.000001)\n",
        "early_st = EarlyStopping(monitor='val_loss', patience=4, restore_best_weights=True)\n",
        "\n",
        "n_timesteps = X_train_reshaped.shape[1] #\n",
        "n_features  = X_train_reshaped.shape[2] #"
      ]
    },
    {
      "cell_type": "code",
      "execution_count": 49,
      "metadata": {},
      "outputs": [
        {
          "name": "stdout",
          "output_type": "stream",
          "text": [
            "0.0    136\n",
            "1.0    136\n",
            "Name: count, dtype: int64\n"
          ]
        }
      ],
      "source": [
        "print(pd.Series(y_train_resampled).value_counts())\n"
      ]
    },
    {
      "cell_type": "markdown",
      "metadata": {
        "id": "hBf6W9iPXz3p"
      },
      "source": [
        "# Create and fit DeepAMR model"
      ]
    },
    {
      "cell_type": "code",
      "execution_count": 50,
      "metadata": {
        "colab": {
          "base_uri": "https://localhost:8080/",
          "height": 952
        },
        "id": "AlJHRRzlkiH9",
        "outputId": "d20e434d-8e4c-431b-a401-ac0b057ded3a"
      },
      "outputs": [
        {
          "name": "stdout",
          "output_type": "stream",
          "text": [
            "Model: \"Modelo_s_aureus_ciprofloxacin\"\n",
            "_________________________________________________________________\n",
            " Layer (type)                Output Shape              Param #   \n",
            "=================================================================\n",
            " Conv_1 (Conv1D)             (None, 5984, 64)          1152      \n",
            "                                                                 \n",
            " batch_normalization (BatchN  (None, 5984, 64)         256       \n",
            " ormalization)                                                   \n",
            "                                                                 \n",
            " activation (Activation)     (None, 5984, 64)          0         \n",
            "                                                                 \n",
            " MaxPooling1D_1 (MaxPooling1  (None, 2992, 64)         0         \n",
            " D)                                                              \n",
            "                                                                 \n",
            " Conv_2 (Conv1D)             (None, 2984, 128)         73856     \n",
            "                                                                 \n",
            " batch_normalization_1 (Batc  (None, 2984, 128)        512       \n",
            " hNormalization)                                                 \n",
            "                                                                 \n",
            " activation_1 (Activation)   (None, 2984, 128)         0         \n",
            "                                                                 \n",
            " MaxPooling1D_2 (MaxPooling1  (None, 1492, 128)        0         \n",
            " D)                                                              \n",
            "                                                                 \n",
            " Conv_3 (Conv1D)             (None, 1488, 256)         164096    \n",
            "                                                                 \n",
            " batch_normalization_2 (Batc  (None, 1488, 256)        1024      \n",
            " hNormalization)                                                 \n",
            "                                                                 \n",
            " activation_2 (Activation)   (None, 1488, 256)         0         \n",
            "                                                                 \n",
            " MaxPooling1D_3 (MaxPooling1  (None, 744, 256)         0         \n",
            " D)                                                              \n",
            "                                                                 \n",
            " Conv_4 (Conv1D)             (None, 740, 256)          327936    \n",
            "                                                                 \n",
            " batch_normalization_3 (Batc  (None, 740, 256)         1024      \n",
            " hNormalization)                                                 \n",
            "                                                                 \n",
            " activation_3 (Activation)   (None, 740, 256)          0         \n",
            "                                                                 \n",
            " MaxPooling1D_4 (MaxPooling1  (None, 370, 256)         0         \n",
            " D)                                                              \n",
            "                                                                 \n",
            " flatten (Flatten)           (None, 94720)             0         \n",
            "                                                                 \n",
            " dropout (Dropout)           (None, 94720)             0         \n",
            "                                                                 \n",
            " fully_connected_0 (Dense)   (None, 256)               24248576  \n",
            "                                                                 \n",
            " fully_connected_1 (Dense)   (None, 64)                16448     \n",
            "                                                                 \n",
            " fully_connected_2 (Dense)   (None, 64)                4160      \n",
            "                                                                 \n",
            " OUT_Layer (Dense)           (None, 1)                 65        \n",
            "                                                                 \n",
            "=================================================================\n",
            "Total params: 24,839,105\n",
            "Trainable params: 24,837,697\n",
            "Non-trainable params: 1,408\n",
            "_________________________________________________________________\n"
          ]
        }
      ],
      "source": [
        "model = Sequential(name=\"Modelo_s_aureus_ciprofloxacin\")\n",
        "init_mode = 'normal'\n",
        "model.add(Conv1D(filters=(64), kernel_size=(17), input_shape = (n_timesteps,n_features), name='Conv_1'))\n",
        "model.add(BatchNormalization())\n",
        "model.add(Activation('relu'))\n",
        "model.add(MaxPooling1D(pool_size=2, name=\"MaxPooling1D_1\"))\n",
        "\n",
        "model.add(Conv1D(filters=(128), kernel_size=(9),kernel_initializer=init_mode, kernel_regularizer=regularizers.l2(0.0001),  name='Conv_2'))\n",
        "model.add(BatchNormalization())\n",
        "model.add(Activation('relu'))\n",
        "model.add(MaxPooling1D(pool_size=2, name=\"MaxPooling1D_2\"))\n",
        "\n",
        "model.add(Conv1D(filters=(256), kernel_size=(5),kernel_initializer=init_mode,kernel_regularizer=regularizers.l2(0.0001),   name='Conv_3'))\n",
        "model.add(BatchNormalization())\n",
        "model.add(Activation('relu'))\n",
        "model.add(MaxPooling1D(pool_size=2, name=\"MaxPooling1D_3\"))\n",
        "\n",
        "model.add(Conv1D(filters=(256), kernel_size=(5),kernel_initializer=init_mode, kernel_regularizer=regularizers.l2(0.0001),   name='Conv_4'))\n",
        "model.add(BatchNormalization())\n",
        "model.add(Activation('relu'))\n",
        "model.add(MaxPooling1D(pool_size=2, name=\"MaxPooling1D_4\"))\n",
        "\n",
        "model.add(Flatten())\n",
        "model.add(Dropout(0.65))\n",
        "model.add(Dense(256, activation='relu',kernel_initializer=init_mode, kernel_regularizer=regularizers.l2(0.0001), name=\"fully_connected_0\"))\n",
        "model.add(Dense(64, activation='relu',kernel_initializer=init_mode, kernel_regularizer=regularizers.l2(0.0001), name=\"fully_connected_1\"))\n",
        "model.add(Dense(64, activation='relu',kernel_initializer=init_mode, kernel_regularizer=regularizers.l2(0.0001),  name=\"fully_connected_2\"))\n",
        "model.add(Dense(n_features, activation='sigmoid', name=\"OUT_Layer\"))\n",
        "\n",
        "model.compile(optimizer = Adam(learning_rate=0.0001), loss = 'binary_crossentropy',  metrics=METRICS)\n",
        "model.summary()"
      ]
    },
    {
      "cell_type": "code",
      "execution_count": 51,
      "metadata": {
        "colab": {
          "base_uri": "https://localhost:8080/"
        },
        "id": "lDksoJagl3H9",
        "outputId": "b244d4a7-0b9c-4b4e-cb2a-f5159586c644"
      },
      "outputs": [
        {
          "name": "stdout",
          "output_type": "stream",
          "text": [
            "Epoch 1/100\n"
          ]
        },
        {
          "name": "stderr",
          "output_type": "stream",
          "text": [
            "2025-01-19 14:41:06.380527: I tensorflow/stream_executor/cuda/cuda_dnn.cc:384] Loaded cuDNN version 8907\n",
            "2025-01-19 14:41:06.406629: I tensorflow/core/platform/default/subprocess.cc:304] Start cannot spawn child process: No such file or directory\n"
          ]
        },
        {
          "name": "stdout",
          "output_type": "stream",
          "text": [
            "25/25 [==============================] - 4s 71ms/step - loss: 7.1837 - tp: 53.0000 - fp: 61.0000 - tn: 75.0000 - fn: 55.0000 - accuracy: 0.5246 - precision: 0.4649 - recall: 0.4907 - auc: 0.5352 - prc: 0.5444 - val_loss: 6.8115 - val_tp: 0.0000e+00 - val_fp: 0.0000e+00 - val_tn: 0.0000e+00 - val_fn: 28.0000 - val_accuracy: 0.0000e+00 - val_precision: 0.0000e+00 - val_recall: 0.0000e+00 - val_auc: 0.0000e+00 - val_prc: 1.0000 - lr: 1.0000e-04\n",
            "Epoch 2/100\n",
            "25/25 [==============================] - 1s 34ms/step - loss: 6.7265 - tp: 66.0000 - fp: 39.0000 - tn: 97.0000 - fn: 42.0000 - accuracy: 0.6680 - precision: 0.6286 - recall: 0.6111 - auc: 0.7207 - prc: 0.6699 - val_loss: 6.7982 - val_tp: 0.0000e+00 - val_fp: 0.0000e+00 - val_tn: 0.0000e+00 - val_fn: 28.0000 - val_accuracy: 0.0000e+00 - val_precision: 0.0000e+00 - val_recall: 0.0000e+00 - val_auc: 0.0000e+00 - val_prc: 1.0000 - lr: 1.0000e-04\n",
            "Epoch 3/100\n",
            "25/25 [==============================] - 1s 34ms/step - loss: 6.6343 - tp: 70.0000 - fp: 43.0000 - tn: 93.0000 - fn: 38.0000 - accuracy: 0.6680 - precision: 0.6195 - recall: 0.6481 - auc: 0.7075 - prc: 0.7152 - val_loss: 6.7361 - val_tp: 0.0000e+00 - val_fp: 0.0000e+00 - val_tn: 0.0000e+00 - val_fn: 28.0000 - val_accuracy: 0.0000e+00 - val_precision: 0.0000e+00 - val_recall: 0.0000e+00 - val_auc: 0.0000e+00 - val_prc: 1.0000 - lr: 1.0000e-04\n",
            "Epoch 4/100\n",
            "25/25 [==============================] - 1s 30ms/step - loss: 6.5420 - tp: 57.0000 - fp: 28.0000 - tn: 108.0000 - fn: 51.0000 - accuracy: 0.6762 - precision: 0.6706 - recall: 0.5278 - auc: 0.7256 - prc: 0.7254 - val_loss: 6.9419 - val_tp: 0.0000e+00 - val_fp: 0.0000e+00 - val_tn: 0.0000e+00 - val_fn: 28.0000 - val_accuracy: 0.0000e+00 - val_precision: 0.0000e+00 - val_recall: 0.0000e+00 - val_auc: 0.0000e+00 - val_prc: 1.0000 - lr: 1.0000e-04\n",
            "Epoch 5/100\n",
            "25/25 [==============================] - 1s 30ms/step - loss: 6.3775 - tp: 64.0000 - fp: 24.0000 - tn: 112.0000 - fn: 44.0000 - accuracy: 0.7213 - precision: 0.7273 - recall: 0.5926 - auc: 0.8067 - prc: 0.7910 - val_loss: 6.8149 - val_tp: 0.0000e+00 - val_fp: 0.0000e+00 - val_tn: 0.0000e+00 - val_fn: 28.0000 - val_accuracy: 0.0000e+00 - val_precision: 0.0000e+00 - val_recall: 0.0000e+00 - val_auc: 0.0000e+00 - val_prc: 1.0000 - lr: 1.0000e-04\n",
            "Epoch 6/100\n",
            "25/25 [==============================] - 1s 31ms/step - loss: 6.2989 - tp: 69.0000 - fp: 27.0000 - tn: 109.0000 - fn: 39.0000 - accuracy: 0.7295 - precision: 0.7188 - recall: 0.6389 - auc: 0.8077 - prc: 0.8143 - val_loss: 6.9381 - val_tp: 0.0000e+00 - val_fp: 0.0000e+00 - val_tn: 0.0000e+00 - val_fn: 28.0000 - val_accuracy: 0.0000e+00 - val_precision: 0.0000e+00 - val_recall: 0.0000e+00 - val_auc: 0.0000e+00 - val_prc: 1.0000 - lr: 1.0000e-04\n",
            "Epoch 7/100\n",
            "25/25 [==============================] - 1s 34ms/step - loss: 6.2395 - tp: 75.0000 - fp: 23.0000 - tn: 113.0000 - fn: 33.0000 - accuracy: 0.7705 - precision: 0.7653 - recall: 0.6944 - auc: 0.8335 - prc: 0.8288 - val_loss: 6.8620 - val_tp: 0.0000e+00 - val_fp: 0.0000e+00 - val_tn: 0.0000e+00 - val_fn: 28.0000 - val_accuracy: 0.0000e+00 - val_precision: 0.0000e+00 - val_recall: 0.0000e+00 - val_auc: 0.0000e+00 - val_prc: 1.0000 - lr: 1.0000e-05\n"
          ]
        }
      ],
      "source": [
        "history = model.fit(X_train_reshaped, y_train_resampled, epochs=100, batch_size=10, verbose=1, validation_split=0.1, callbacks=[reduce_lr,early_st])"
      ]
    },
    {
      "cell_type": "markdown",
      "metadata": {
        "id": "5hF9EG1dX6xZ"
      },
      "source": [
        "# Evaluate the model"
      ]
    },
    {
      "cell_type": "code",
      "execution_count": 52,
      "metadata": {
        "colab": {
          "base_uri": "https://localhost:8080/"
        },
        "id": "ux5k-LYLl3GF",
        "outputId": "9148bd10-3890-40c0-d5ce-d97b0938aef1"
      },
      "outputs": [
        {
          "name": "stdout",
          "output_type": "stream",
          "text": [
            "2/2 [==============================] - 0s 23ms/step\n",
            "[[34  0]\n",
            " [ 9  0]]\n"
          ]
        }
      ],
      "source": [
        "y_pred  = model.predict(X_test_reshaped)\n",
        "y_pred = (y_pred>0.5)\n",
        "cm = confusion_matrix(y_test, y_pred)\n",
        "print(cm)"
      ]
    },
    {
      "cell_type": "code",
      "execution_count": 53,
      "metadata": {
        "colab": {
          "base_uri": "https://localhost:8080/"
        },
        "id": "iur6Wu4oZ5dI",
        "outputId": "a97b3320-950a-4b11-fcb3-1b08387bb109"
      },
      "outputs": [
        {
          "name": "stdout",
          "output_type": "stream",
          "text": [
            "balanced acuracy: 0.5\n"
          ]
        }
      ],
      "source": [
        "print(\"balanced acuracy:\", balanced_accuracy_score(y_test, y_pred))"
      ]
    },
    {
      "cell_type": "code",
      "execution_count": 54,
      "metadata": {
        "colab": {
          "base_uri": "https://localhost:8080/"
        },
        "id": "zkQ55Zm7l3D2",
        "outputId": "1d603181-a728-4b27-d900-a1e71d36be80"
      },
      "outputs": [
        {
          "name": "stdout",
          "output_type": "stream",
          "text": [
            "              precision    recall  f1-score   support\n",
            "\n",
            "           0       0.79      1.00      0.88        34\n",
            "           1       0.00      0.00      0.00         9\n",
            "\n",
            "    accuracy                           0.79        43\n",
            "   macro avg       0.40      0.50      0.44        43\n",
            "weighted avg       0.63      0.79      0.70        43\n",
            "\n",
            "12/28 [===========>..................] - ETA: 0s"
          ]
        },
        {
          "name": "stderr",
          "output_type": "stream",
          "text": [
            "/home/hpinto/.local/lib/python3.9/site-packages/sklearn/metrics/_classification.py:1531: UndefinedMetricWarning: Precision is ill-defined and being set to 0.0 in labels with no predicted samples. Use `zero_division` parameter to control this behavior.\n",
            "  _warn_prf(average, modifier, f\"{metric.capitalize()} is\", len(result))\n",
            "/home/hpinto/.local/lib/python3.9/site-packages/sklearn/metrics/_classification.py:1531: UndefinedMetricWarning: Precision is ill-defined and being set to 0.0 in labels with no predicted samples. Use `zero_division` parameter to control this behavior.\n",
            "  _warn_prf(average, modifier, f\"{metric.capitalize()} is\", len(result))\n",
            "/home/hpinto/.local/lib/python3.9/site-packages/sklearn/metrics/_classification.py:1531: UndefinedMetricWarning: Precision is ill-defined and being set to 0.0 in labels with no predicted samples. Use `zero_division` parameter to control this behavior.\n",
            "  _warn_prf(average, modifier, f\"{metric.capitalize()} is\", len(result))\n"
          ]
        },
        {
          "name": "stdout",
          "output_type": "stream",
          "text": [
            "28/28 [==============================] - 0s 6ms/step\n",
            "5/5 [==============================] - 0s 9ms/step\n",
            "loss :  6.56927490234375\n",
            "tp :  0.0\n",
            "fp :  0.0\n",
            "tn :  34.0\n",
            "fn :  9.0\n",
            "accuracy :  0.7906976938247681\n",
            "precision :  0.0\n",
            "recall :  0.0\n",
            "auc :  0.5816993713378906\n",
            "prc :  0.22868894040584564\n",
            "\n"
          ]
        }
      ],
      "source": [
        "target_names=[\"0\",\"1\"]\n",
        "print(classification_report(y_test, y_pred, target_names=target_names))\n",
        "\n",
        "train_predictions_baseline = model.predict(X_train_reshaped, batch_size=10)\n",
        "test_predictions_baseline = model.predict(X_test_reshaped, batch_size=10)\n",
        "\n",
        "baseline_results = model.evaluate(X_test_reshaped, y_test, verbose=0)\n",
        "for name, value in zip(model.metrics_names, baseline_results):\n",
        "  print(name, ': ', value)\n",
        "print()"
      ]
    },
    {
      "cell_type": "code",
      "execution_count": 55,
      "metadata": {
        "colab": {
          "base_uri": "https://localhost:8080/",
          "height": 1000
        },
        "id": "YzVQLd_Xl3B1",
        "outputId": "6bd1d53b-d330-4a0f-d2c9-b33181c37c01"
      },
      "outputs": [
        {
          "data": {
            "image/png": "[encoded data removed]",
            "text/plain": [
              "<Figure size 1200x1000 with 1 Axes>"
            ]
          },
          "metadata": {},
          "output_type": "display_data"
        },
        {
          "data": {
            "image/png": "[encoded data removed]",
            "text/plain": [
              "<Figure size 1200x1000 with 1 Axes>"
            ]
          },
          "metadata": {},
          "output_type": "display_data"
        }
      ],
      "source": [
        "plt.rcParams['figure.figsize'] = (12, 10)\n",
        "plt.rcParams.update({'font.size': 17})\n",
        "colors = plt.rcParams['axes.prop_cycle'].by_key()['color']\n",
        "\n",
        "def plot_roc(name, labels, predictions, **kwargs):\n",
        "  fp, tp, _ = sklearn.metrics.roc_curve(labels, predictions)\n",
        "\n",
        "  plt.plot(fp, tp, label=name, linewidth=2, **kwargs)\n",
        "  plt.plot([0, 1], [0, 1], 'k--')\n",
        "  plt.title('E. coli CNN')\n",
        "  plt.xlabel('False positives [%]')\n",
        "  plt.ylabel('True positives [%]')\n",
        "  plt.title('S. aureus AUROC')\n",
        "\n",
        "  plt.grid(True)\n",
        "  ax = plt.gca()\n",
        "  ax.set_aspect('equal')\n",
        "plot_roc(\"Ciprofloxacin               AUROC: %0.2f\" % baseline_results[8], y_test, test_predictions_baseline, color=colors[0])\n",
        "\n",
        "plt.legend(loc='lower right')\n",
        "plt.savefig('s_aureus_auroc.png', bbox_inches='tight')\n",
        "plt.show()\n",
        "\n",
        "def plot_prc(name, labels, predictions, **kwargs):\n",
        "    precision, recall, _ = sklearn.metrics.precision_recall_curve(labels, predictions)\n",
        "\n",
        "    plt.plot(precision, recall, label=name, linewidth=2, **kwargs)\n",
        "    plt.title('S. aureus AUPRC')\n",
        "    plt.xlabel('Recall')\n",
        "    plt.ylabel('Precision')\n",
        "    plt.plot([1, 0], [0, 1], 'k--')\n",
        "    plt.grid(True)\n",
        "    ax = plt.gca()\n",
        "    ax.set_aspect('equal')\n",
        "\n",
        "plot_prc(\"Ciprofloxacin        AUPRC: %0.2f\" % baseline_results[9], y_test, test_predictions_baseline, color=colors[0])\n",
        "\n",
        "plt.legend(loc='upper right')\n",
        "plt.savefig('s_aureus_auprc.png', bbox_inches='tight')\n",
        "plt.show()"
      ]
    }
  ],
  "metadata": {
    "accelerator": "GPU",
    "colab": {
      "provenance": []
    },
    "gpuClass": "standard",
    "kernelspec": {
      "display_name": "Python 3",
      "language": "python",
      "name": "python3"
    },
    "language_info": {
      "codemirror_mode": {
        "name": "ipython",
        "version": 3
      },
      "file_extension": ".py",
      "mimetype": "text/x-python",
      "name": "python",
      "nbconvert_exporter": "python",
      "pygments_lexer": "ipython3",
      "version": "3.11.5"
    }
  },
  "nbformat": 4,
  "nbformat_minor": 0
}
