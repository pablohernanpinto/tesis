{
  "cells": [
    {
      "cell_type": "markdown",
      "metadata": {
        "id": "LNNFUJODXA9C"
      },
      "source": [
        "# 0-Libraries"
      ]
    },
    {
      "cell_type": "code",
      "execution_count": 3,
      "metadata": {
        "id": "W1quzgr-ao8A"
      },
      "outputs": [
        {
          "ename": "ModuleNotFoundError",
          "evalue": "No module named 'sklearn'",
          "output_type": "error",
          "traceback": [
            "\u001b[1;31m---------------------------------------------------------------------------\u001b[0m",
            "\u001b[1;31mModuleNotFoundError\u001b[0m                       Traceback (most recent call last)",
            "Cell \u001b[1;32mIn[3], line 5\u001b[0m\n\u001b[0;32m      3\u001b[0m \u001b[38;5;28;01mimport\u001b[39;00m \u001b[38;5;21;01mitertools\u001b[39;00m\n\u001b[0;32m      4\u001b[0m \u001b[38;5;28;01mimport\u001b[39;00m \u001b[38;5;21;01mpandas\u001b[39;00m \u001b[38;5;28;01mas\u001b[39;00m \u001b[38;5;21;01mpd\u001b[39;00m\n\u001b[1;32m----> 5\u001b[0m \u001b[38;5;28;01mimport\u001b[39;00m \u001b[38;5;21;01msklearn\u001b[39;00m\n\u001b[0;32m      6\u001b[0m \u001b[38;5;28;01mfrom\u001b[39;00m \u001b[38;5;21;01msklearn\u001b[39;00m\u001b[38;5;21;01m.\u001b[39;00m\u001b[38;5;21;01mmodel_selection\u001b[39;00m \u001b[38;5;28;01mimport\u001b[39;00m train_test_split\n\u001b[0;32m      7\u001b[0m \u001b[38;5;28;01mfrom\u001b[39;00m \u001b[38;5;21;01msklearn\u001b[39;00m\u001b[38;5;21;01m.\u001b[39;00m\u001b[38;5;21;01mmetrics\u001b[39;00m \u001b[38;5;28;01mimport\u001b[39;00m confusion_matrix,classification_report,ConfusionMatrixDisplay, balanced_accuracy_score\n",
            "\u001b[1;31mModuleNotFoundError\u001b[0m: No module named 'sklearn'"
          ]
        }
      ],
      "source": [
        "import numpy as np\n",
        "import matplotlib.pyplot as plt\n",
        "import itertools\n",
        "import pandas as pd\n",
        "import sklearn\n",
        "from sklearn.model_selection import train_test_split\n",
        "from sklearn.metrics import confusion_matrix,classification_report,ConfusionMatrixDisplay, balanced_accuracy_score\n",
        "#from sklearn.preprocessing import LabelEncoder, OneHotEncoder\n",
        "from sklearn.compose import ColumnTransformer\n",
        "from sklearn.preprocessing import Normalizer, StandardScaler, MinMaxScaler, MaxAbsScaler, RobustScaler, QuantileTransformer, PowerTransformer\n",
        "import tensorflow as tf\n",
        "from tensorflow import keras\n",
        "from keras import regularizers\n",
        "from keras.optimizers import Adam\n",
        "#from keras.backend import expand_dims\n",
        "from keras.callbacks import ReduceLROnPlateau, EarlyStopping\n",
        "from keras.models import Sequential\n",
        "from keras.constraints import MaxNorm\n",
        "from keras.layers import Activation, Dense, Conv1D, Flatten, MaxPooling1D, Dropout, BatchNormalization, SpatialDropout1D"
      ]
    },
    {
      "cell_type": "code",
      "execution_count": 10,
      "metadata": {
        "id": "gy_ErAtqkxgt"
      },
      "outputs": [],
      "source": [
        "METRICS = [\n",
        "      keras.metrics.TruePositives(name='tp'),\n",
        "      keras.metrics.FalsePositives(name='fp'),\n",
        "      keras.metrics.TrueNegatives(name='tn'),\n",
        "      keras.metrics.FalseNegatives(name='fn'),\n",
        "      keras.metrics.BinaryAccuracy(name='accuracy'),\n",
        "      keras.metrics.Precision(name='precision'),\n",
        "      keras.metrics.Recall(name='recall'),\n",
        "      keras.metrics.AUC(name='auc'),\n",
        "      keras.metrics.AUC(name='prc', curve='PR'), # precision-recall curve\n",
        "]"
      ]
    },
    {
      "cell_type": "markdown",
      "metadata": {
        "id": "N6bQjUrPXPaI"
      },
      "source": [
        "# 1- Load Data"
      ]
    },
    {
      "cell_type": "code",
      "execution_count": 11,
      "metadata": {
        "colab": {
          "base_uri": "https://localhost:8080/",
          "height": 533
        },
        "id": "UXVFQgZNaNrg",
        "outputId": "d250b076-aa61-46d9-d165-ab7a7a24aee3"
      },
      "outputs": [
        {
          "data": {
            "text/html": [
              "<div>\n",
              "<style scoped>\n",
              "    .dataframe tbody tr th:only-of-type {\n",
              "        vertical-align: middle;\n",
              "    }\n",
              "\n",
              "    .dataframe tbody tr th {\n",
              "        vertical-align: top;\n",
              "    }\n",
              "\n",
              "    .dataframe thead th {\n",
              "        text-align: right;\n",
              "    }\n",
              "</style>\n",
              "<table border=\"1\" class=\"dataframe\">\n",
              "  <thead>\n",
              "    <tr style=\"text-align: right;\">\n",
              "      <th></th>\n",
              "      <th>2000</th>\n",
              "      <th>2003</th>\n",
              "      <th>2006</th>\n",
              "      <th>2009</th>\n",
              "      <th>2012</th>\n",
              "      <th>2015</th>\n",
              "      <th>2018</th>\n",
              "      <th>2021</th>\n",
              "      <th>2024</th>\n",
              "      <th>2027</th>\n",
              "      <th>...</th>\n",
              "      <th>19988</th>\n",
              "      <th>19991</th>\n",
              "      <th>19994</th>\n",
              "      <th>19997</th>\n",
              "      <th>code</th>\n",
              "      <th>species</th>\n",
              "      <th>Ciprofloxacin</th>\n",
              "      <th>Ceftriaxone</th>\n",
              "      <th>Cefepime</th>\n",
              "      <th>Piperacillin-Tazobactam</th>\n",
              "    </tr>\n",
              "  </thead>\n",
              "  <tbody>\n",
              "    <tr>\n",
              "      <th>0</th>\n",
              "      <td>1067.142857</td>\n",
              "      <td>1251.714286</td>\n",
              "      <td>1310.571429</td>\n",
              "      <td>1021.142857</td>\n",
              "      <td>1315.625000</td>\n",
              "      <td>974.000000</td>\n",
              "      <td>936.857143</td>\n",
              "      <td>853.571429</td>\n",
              "      <td>936.142857</td>\n",
              "      <td>1044.285714</td>\n",
              "      <td>...</td>\n",
              "      <td>21.5</td>\n",
              "      <td>6.500000</td>\n",
              "      <td>4.666667</td>\n",
              "      <td>17.585859</td>\n",
              "      <td>dcd5aa31-b254-4961-b69f-ccc8c0572b27</td>\n",
              "      <td>Escherichia coli</td>\n",
              "      <td>0.0</td>\n",
              "      <td>0.0</td>\n",
              "      <td>0.0</td>\n",
              "      <td>0.0</td>\n",
              "    </tr>\n",
              "    <tr>\n",
              "      <th>1</th>\n",
              "      <td>1872.857143</td>\n",
              "      <td>1677.285714</td>\n",
              "      <td>2035.714286</td>\n",
              "      <td>2086.250000</td>\n",
              "      <td>1930.571429</td>\n",
              "      <td>2017.142857</td>\n",
              "      <td>1856.857143</td>\n",
              "      <td>1655.857143</td>\n",
              "      <td>1547.142857</td>\n",
              "      <td>1713.000000</td>\n",
              "      <td>...</td>\n",
              "      <td>21.0</td>\n",
              "      <td>15.000000</td>\n",
              "      <td>26.500000</td>\n",
              "      <td>21.736842</td>\n",
              "      <td>dfcb7221-e4f8-4a39-b661-7e439f19e93d</td>\n",
              "      <td>Escherichia coli</td>\n",
              "      <td>0.0</td>\n",
              "      <td>0.0</td>\n",
              "      <td>0.0</td>\n",
              "      <td>0.0</td>\n",
              "    </tr>\n",
              "    <tr>\n",
              "      <th>2</th>\n",
              "      <td>3258.142857</td>\n",
              "      <td>3209.428571</td>\n",
              "      <td>3068.571429</td>\n",
              "      <td>3162.428571</td>\n",
              "      <td>3275.000000</td>\n",
              "      <td>3324.571429</td>\n",
              "      <td>2999.000000</td>\n",
              "      <td>2970.500000</td>\n",
              "      <td>3213.000000</td>\n",
              "      <td>3205.571429</td>\n",
              "      <td>...</td>\n",
              "      <td>17.0</td>\n",
              "      <td>17.000000</td>\n",
              "      <td>30.000000</td>\n",
              "      <td>19.125000</td>\n",
              "      <td>d5bb4389-5053-4107-9c05-bfed9e9159c9</td>\n",
              "      <td>Escherichia coli</td>\n",
              "      <td>0.0</td>\n",
              "      <td>0.0</td>\n",
              "      <td>0.0</td>\n",
              "      <td>0.0</td>\n",
              "    </tr>\n",
              "    <tr>\n",
              "      <th>3</th>\n",
              "      <td>18912.571429</td>\n",
              "      <td>19530.571429</td>\n",
              "      <td>19464.875000</td>\n",
              "      <td>19098.714286</td>\n",
              "      <td>18994.714286</td>\n",
              "      <td>18936.285714</td>\n",
              "      <td>19208.571429</td>\n",
              "      <td>19417.571429</td>\n",
              "      <td>19486.857143</td>\n",
              "      <td>19048.625000</td>\n",
              "      <td>...</td>\n",
              "      <td>299.0</td>\n",
              "      <td>339.500000</td>\n",
              "      <td>359.000000</td>\n",
              "      <td>311.746032</td>\n",
              "      <td>4e14943f-ae22-42ed-aef5-65430470dcfa</td>\n",
              "      <td>Escherichia coli</td>\n",
              "      <td>0.0</td>\n",
              "      <td>0.0</td>\n",
              "      <td>0.0</td>\n",
              "      <td>0.0</td>\n",
              "    </tr>\n",
              "    <tr>\n",
              "      <th>4</th>\n",
              "      <td>1685.000000</td>\n",
              "      <td>1537.428571</td>\n",
              "      <td>1283.714286</td>\n",
              "      <td>1472.285714</td>\n",
              "      <td>1370.142857</td>\n",
              "      <td>1402.142857</td>\n",
              "      <td>1397.500000</td>\n",
              "      <td>1422.142857</td>\n",
              "      <td>1725.285714</td>\n",
              "      <td>3386.714286</td>\n",
              "      <td>...</td>\n",
              "      <td>32.5</td>\n",
              "      <td>48.333333</td>\n",
              "      <td>66.500000</td>\n",
              "      <td>39.230769</td>\n",
              "      <td>617f14d0-86b1-4c28-8995-b02006a85e81</td>\n",
              "      <td>Escherichia coli</td>\n",
              "      <td>1.0</td>\n",
              "      <td>1.0</td>\n",
              "      <td>1.0</td>\n",
              "      <td>1.0</td>\n",
              "    </tr>\n",
              "  </tbody>\n",
              "</table>\n",
              "<p>5 rows × 6006 columns</p>\n",
              "</div>"
            ],
            "text/plain": [
              "           2000          2003          2006          2009          2012  \\\n",
              "0   1067.142857   1251.714286   1310.571429   1021.142857   1315.625000   \n",
              "1   1872.857143   1677.285714   2035.714286   2086.250000   1930.571429   \n",
              "2   3258.142857   3209.428571   3068.571429   3162.428571   3275.000000   \n",
              "3  18912.571429  19530.571429  19464.875000  19098.714286  18994.714286   \n",
              "4   1685.000000   1537.428571   1283.714286   1472.285714   1370.142857   \n",
              "\n",
              "           2015          2018          2021          2024          2027  ...  \\\n",
              "0    974.000000    936.857143    853.571429    936.142857   1044.285714  ...   \n",
              "1   2017.142857   1856.857143   1655.857143   1547.142857   1713.000000  ...   \n",
              "2   3324.571429   2999.000000   2970.500000   3213.000000   3205.571429  ...   \n",
              "3  18936.285714  19208.571429  19417.571429  19486.857143  19048.625000  ...   \n",
              "4   1402.142857   1397.500000   1422.142857   1725.285714   3386.714286  ...   \n",
              "\n",
              "   19988       19991       19994       19997  \\\n",
              "0   21.5    6.500000    4.666667   17.585859   \n",
              "1   21.0   15.000000   26.500000   21.736842   \n",
              "2   17.0   17.000000   30.000000   19.125000   \n",
              "3  299.0  339.500000  359.000000  311.746032   \n",
              "4   32.5   48.333333   66.500000   39.230769   \n",
              "\n",
              "                                   code           species  Ciprofloxacin  \\\n",
              "0  dcd5aa31-b254-4961-b69f-ccc8c0572b27  Escherichia coli            0.0   \n",
              "1  dfcb7221-e4f8-4a39-b661-7e439f19e93d  Escherichia coli            0.0   \n",
              "2  d5bb4389-5053-4107-9c05-bfed9e9159c9  Escherichia coli            0.0   \n",
              "3  4e14943f-ae22-42ed-aef5-65430470dcfa  Escherichia coli            0.0   \n",
              "4  617f14d0-86b1-4c28-8995-b02006a85e81  Escherichia coli            1.0   \n",
              "\n",
              "   Ceftriaxone  Cefepime  Piperacillin-Tazobactam  \n",
              "0          0.0       0.0                      0.0  \n",
              "1          0.0       0.0                      0.0  \n",
              "2          0.0       0.0                      0.0  \n",
              "3          0.0       0.0                      0.0  \n",
              "4          1.0       1.0                      1.0  \n",
              "\n",
              "[5 rows x 6006 columns]"
            ]
          },
          "execution_count": 11,
          "metadata": {},
          "output_type": "execute_result"
        }
      ],
      "source": [
        "s_aureus = pd.read_csv('e_coli_driams_b_2000_20000Da_v2 (1).csv')\n",
        "s_aureus.head()"
      ]
    },
    {
      "cell_type": "markdown",
      "metadata": {
        "id": "NhURWBqqXoQp"
      },
      "source": [
        "# Preprocessing Data"
      ]
    },
    {
      "cell_type": "code",
      "execution_count": 12,
      "metadata": {
        "id": "koTco5gulH3G"
      },
      "outputs": [],
      "source": [
        "s_aureus_oxacillin = s_aureus.drop(columns=['code','species', 'Ciprofloxacin', 'Cefepime', 'Piperacillin-Tazobactam'])\n",
        "s_aureus_oxacillin.dropna(axis=0, how=\"any\", inplace=True)"
      ]
    },
    {
      "cell_type": "code",
      "execution_count": 13,
      "metadata": {
        "colab": {
          "base_uri": "https://localhost:8080/",
          "height": 255
        },
        "id": "wZUfupfGtc7O",
        "outputId": "af1d2eac-096e-4a39-8406-586718f33d29"
      },
      "outputs": [
        {
          "data": {
            "text/html": [
              "<div>\n",
              "<style scoped>\n",
              "    .dataframe tbody tr th:only-of-type {\n",
              "        vertical-align: middle;\n",
              "    }\n",
              "\n",
              "    .dataframe tbody tr th {\n",
              "        vertical-align: top;\n",
              "    }\n",
              "\n",
              "    .dataframe thead th {\n",
              "        text-align: right;\n",
              "    }\n",
              "</style>\n",
              "<table border=\"1\" class=\"dataframe\">\n",
              "  <thead>\n",
              "    <tr style=\"text-align: right;\">\n",
              "      <th></th>\n",
              "      <th>2000</th>\n",
              "      <th>2003</th>\n",
              "      <th>2006</th>\n",
              "      <th>2009</th>\n",
              "      <th>2012</th>\n",
              "      <th>2015</th>\n",
              "      <th>2018</th>\n",
              "      <th>2021</th>\n",
              "      <th>2024</th>\n",
              "      <th>2027</th>\n",
              "      <th>...</th>\n",
              "      <th>19973</th>\n",
              "      <th>19976</th>\n",
              "      <th>19979</th>\n",
              "      <th>19982</th>\n",
              "      <th>19985</th>\n",
              "      <th>19988</th>\n",
              "      <th>19991</th>\n",
              "      <th>19994</th>\n",
              "      <th>19997</th>\n",
              "      <th>Ciprofloxacin</th>\n",
              "    </tr>\n",
              "  </thead>\n",
              "  <tbody>\n",
              "    <tr>\n",
              "      <th>0</th>\n",
              "      <td>1067.142857</td>\n",
              "      <td>1251.714286</td>\n",
              "      <td>1310.571429</td>\n",
              "      <td>1021.142857</td>\n",
              "      <td>1315.625000</td>\n",
              "      <td>974.000000</td>\n",
              "      <td>936.857143</td>\n",
              "      <td>853.571429</td>\n",
              "      <td>936.142857</td>\n",
              "      <td>1044.285714</td>\n",
              "      <td>...</td>\n",
              "      <td>19.666667</td>\n",
              "      <td>20.000000</td>\n",
              "      <td>23.0</td>\n",
              "      <td>42.666667</td>\n",
              "      <td>15.000000</td>\n",
              "      <td>21.5</td>\n",
              "      <td>6.500000</td>\n",
              "      <td>4.666667</td>\n",
              "      <td>17.585859</td>\n",
              "      <td>0.0</td>\n",
              "    </tr>\n",
              "    <tr>\n",
              "      <th>1</th>\n",
              "      <td>1872.857143</td>\n",
              "      <td>1677.285714</td>\n",
              "      <td>2035.714286</td>\n",
              "      <td>2086.250000</td>\n",
              "      <td>1930.571429</td>\n",
              "      <td>2017.142857</td>\n",
              "      <td>1856.857143</td>\n",
              "      <td>1655.857143</td>\n",
              "      <td>1547.142857</td>\n",
              "      <td>1713.000000</td>\n",
              "      <td>...</td>\n",
              "      <td>32.000000</td>\n",
              "      <td>29.666667</td>\n",
              "      <td>30.0</td>\n",
              "      <td>18.000000</td>\n",
              "      <td>17.000000</td>\n",
              "      <td>21.0</td>\n",
              "      <td>15.000000</td>\n",
              "      <td>26.500000</td>\n",
              "      <td>21.736842</td>\n",
              "      <td>0.0</td>\n",
              "    </tr>\n",
              "    <tr>\n",
              "      <th>2</th>\n",
              "      <td>3258.142857</td>\n",
              "      <td>3209.428571</td>\n",
              "      <td>3068.571429</td>\n",
              "      <td>3162.428571</td>\n",
              "      <td>3275.000000</td>\n",
              "      <td>3324.571429</td>\n",
              "      <td>2999.000000</td>\n",
              "      <td>2970.500000</td>\n",
              "      <td>3213.000000</td>\n",
              "      <td>3205.571429</td>\n",
              "      <td>...</td>\n",
              "      <td>19.666667</td>\n",
              "      <td>20.000000</td>\n",
              "      <td>23.5</td>\n",
              "      <td>14.500000</td>\n",
              "      <td>13.666667</td>\n",
              "      <td>17.0</td>\n",
              "      <td>17.000000</td>\n",
              "      <td>30.000000</td>\n",
              "      <td>19.125000</td>\n",
              "      <td>0.0</td>\n",
              "    </tr>\n",
              "    <tr>\n",
              "      <th>3</th>\n",
              "      <td>18912.571429</td>\n",
              "      <td>19530.571429</td>\n",
              "      <td>19464.875000</td>\n",
              "      <td>19098.714286</td>\n",
              "      <td>18994.714286</td>\n",
              "      <td>18936.285714</td>\n",
              "      <td>19208.571429</td>\n",
              "      <td>19417.571429</td>\n",
              "      <td>19486.857143</td>\n",
              "      <td>19048.625000</td>\n",
              "      <td>...</td>\n",
              "      <td>299.000000</td>\n",
              "      <td>269.333333</td>\n",
              "      <td>282.0</td>\n",
              "      <td>300.500000</td>\n",
              "      <td>311.000000</td>\n",
              "      <td>299.0</td>\n",
              "      <td>339.500000</td>\n",
              "      <td>359.000000</td>\n",
              "      <td>311.746032</td>\n",
              "      <td>0.0</td>\n",
              "    </tr>\n",
              "    <tr>\n",
              "      <th>4</th>\n",
              "      <td>1685.000000</td>\n",
              "      <td>1537.428571</td>\n",
              "      <td>1283.714286</td>\n",
              "      <td>1472.285714</td>\n",
              "      <td>1370.142857</td>\n",
              "      <td>1402.142857</td>\n",
              "      <td>1397.500000</td>\n",
              "      <td>1422.142857</td>\n",
              "      <td>1725.285714</td>\n",
              "      <td>3386.714286</td>\n",
              "      <td>...</td>\n",
              "      <td>25.000000</td>\n",
              "      <td>34.000000</td>\n",
              "      <td>33.0</td>\n",
              "      <td>37.333333</td>\n",
              "      <td>21.000000</td>\n",
              "      <td>32.5</td>\n",
              "      <td>48.333333</td>\n",
              "      <td>66.500000</td>\n",
              "      <td>39.230769</td>\n",
              "      <td>1.0</td>\n",
              "    </tr>\n",
              "  </tbody>\n",
              "</table>\n",
              "<p>5 rows × 6001 columns</p>\n",
              "</div>"
            ],
            "text/plain": [
              "           2000          2003          2006          2009          2012  \\\n",
              "0   1067.142857   1251.714286   1310.571429   1021.142857   1315.625000   \n",
              "1   1872.857143   1677.285714   2035.714286   2086.250000   1930.571429   \n",
              "2   3258.142857   3209.428571   3068.571429   3162.428571   3275.000000   \n",
              "3  18912.571429  19530.571429  19464.875000  19098.714286  18994.714286   \n",
              "4   1685.000000   1537.428571   1283.714286   1472.285714   1370.142857   \n",
              "\n",
              "           2015          2018          2021          2024          2027  ...  \\\n",
              "0    974.000000    936.857143    853.571429    936.142857   1044.285714  ...   \n",
              "1   2017.142857   1856.857143   1655.857143   1547.142857   1713.000000  ...   \n",
              "2   3324.571429   2999.000000   2970.500000   3213.000000   3205.571429  ...   \n",
              "3  18936.285714  19208.571429  19417.571429  19486.857143  19048.625000  ...   \n",
              "4   1402.142857   1397.500000   1422.142857   1725.285714   3386.714286  ...   \n",
              "\n",
              "        19973       19976  19979       19982       19985  19988       19991  \\\n",
              "0   19.666667   20.000000   23.0   42.666667   15.000000   21.5    6.500000   \n",
              "1   32.000000   29.666667   30.0   18.000000   17.000000   21.0   15.000000   \n",
              "2   19.666667   20.000000   23.5   14.500000   13.666667   17.0   17.000000   \n",
              "3  299.000000  269.333333  282.0  300.500000  311.000000  299.0  339.500000   \n",
              "4   25.000000   34.000000   33.0   37.333333   21.000000   32.5   48.333333   \n",
              "\n",
              "        19994       19997  Ciprofloxacin  \n",
              "0    4.666667   17.585859            0.0  \n",
              "1   26.500000   21.736842            0.0  \n",
              "2   30.000000   19.125000            0.0  \n",
              "3  359.000000  311.746032            0.0  \n",
              "4   66.500000   39.230769            1.0  \n",
              "\n",
              "[5 rows x 6001 columns]"
            ]
          },
          "execution_count": 13,
          "metadata": {},
          "output_type": "execute_result"
        }
      ],
      "source": [
        "s_aureus_oxacillin.head()"
      ]
    },
    {
      "cell_type": "code",
      "execution_count": 1,
      "metadata": {},
      "outputs": [
        {
          "ename": "NameError",
          "evalue": "name 's_aureus' is not defined",
          "output_type": "error",
          "traceback": [
            "\u001b[1;31m---------------------------------------------------------------------------\u001b[0m",
            "\u001b[1;31mNameError\u001b[0m                                 Traceback (most recent call last)",
            "Cell \u001b[1;32mIn[1], line 1\u001b[0m\n\u001b[1;32m----> 1\u001b[0m \u001b[43ms_aureus\u001b[49m\n",
            "\u001b[1;31mNameError\u001b[0m: name 's_aureus' is not defined"
          ]
        }
      ],
      "source": [
        "s_aureus"
      ]
    },
    {
      "cell_type": "code",
      "execution_count": null,
      "metadata": {},
      "outputs": [],
      "source": [
        "bacteria = s_aureus.columns[-1]"
      ]
    },
    {
      "cell_type": "code",
      "execution_count": 14,
      "metadata": {
        "id": "-4dAtvUEkibF"
      },
      "outputs": [],
      "source": [
        "X = s_aureus.iloc[:, 0:6000].values  # variables independientes (espectros de masa)\n",
        "y = s_aureus.iloc[:, 6000].values    # variable dependientes (resistencia a ciprofloxacin)\n",
        "X = np.asarray(X).astype(np.float32)\n",
        "y = np.asarray(y).astype(np.float32)"
      ]
    },
    {
      "cell_type": "code",
      "execution_count": 15,
      "metadata": {},
      "outputs": [
        {
          "data": {
            "text/plain": [
              "213"
            ]
          },
          "execution_count": 15,
          "metadata": {},
          "output_type": "execute_result"
        }
      ],
      "source": [
        "len(X)"
      ]
    },
    {
      "cell_type": "code",
      "execution_count": 16,
      "metadata": {
        "id": "ioZIrUNqlgP9"
      },
      "outputs": [],
      "source": [
        "X_train, X_test, y_train, y_test = train_test_split(X, y, test_size = 0.2, random_state = 0, stratify=y)"
      ]
    },
    {
      "cell_type": "code",
      "execution_count": 17,
      "metadata": {},
      "outputs": [
        {
          "data": {
            "text/plain": [
              "170"
            ]
          },
          "execution_count": 17,
          "metadata": {},
          "output_type": "execute_result"
        }
      ],
      "source": [
        "len(X_train)"
      ]
    },
    {
      "cell_type": "code",
      "execution_count": 18,
      "metadata": {},
      "outputs": [
        {
          "data": {
            "text/plain": [
              "170"
            ]
          },
          "execution_count": 18,
          "metadata": {},
          "output_type": "execute_result"
        }
      ],
      "source": [
        "len(y_train)"
      ]
    },
    {
      "cell_type": "code",
      "execution_count": 19,
      "metadata": {
        "id": "Cz1ZnhEykiY9"
      },
      "outputs": [],
      "source": [
        "scaler=Normalizer(norm='max')\n",
        "sc_X = scaler\n",
        "X_train = sc_X.fit_transform(X_train)\n",
        "X_test = sc_X.transform(X_test)"
      ]
    },
    {
      "cell_type": "code",
      "execution_count": 20,
      "metadata": {
        "id": "HiHCUFo-kiW9"
      },
      "outputs": [],
      "source": [
        "sample_size = X_train.shape[0] # numero de muestras en el set de datos\n",
        "time_steps  = X_train.shape[1] # numero de atributos en el set de datos\n",
        "input_dimension = 1            #\n",
        "\n",
        "X_train_reshaped = X_train.reshape(sample_size,time_steps,input_dimension)\n",
        "X_test_reshaped = X_test.reshape(X_test.shape[0],X_test.shape[1],1)"
      ]
    },
    {
      "cell_type": "code",
      "execution_count": 21,
      "metadata": {
        "id": "VEuHRBvAlw79"
      },
      "outputs": [],
      "source": [
        "reduce_lr = ReduceLROnPlateau(monitor='val_loss', factor=0.1, patience=3, min_lr=0.000001)\n",
        "early_st = EarlyStopping(monitor='val_loss', patience=4, restore_best_weights=True)\n",
        "\n",
        "n_timesteps = X_train_reshaped.shape[1] #\n",
        "n_features  = X_train_reshaped.shape[2] #"
      ]
    },
    {
      "cell_type": "markdown",
      "metadata": {
        "id": "hBf6W9iPXz3p"
      },
      "source": [
        "# Create and fit DeepAMR model"
      ]
    },
    {
      "cell_type": "code",
      "execution_count": 22,
      "metadata": {
        "colab": {
          "base_uri": "https://localhost:8080/",
          "height": 952
        },
        "id": "AlJHRRzlkiH9",
        "outputId": "d20e434d-8e4c-431b-a401-ac0b057ded3a"
      },
      "outputs": [
        {
          "name": "stdout",
          "output_type": "stream",
          "text": [
            "Model: \"Modelo_s_aureus_ciprofloxacin\"\n",
            "_________________________________________________________________\n",
            " Layer (type)                Output Shape              Param #   \n",
            "=================================================================\n",
            " Conv_1 (Conv1D)             (None, 5984, 64)          1152      \n",
            "                                                                 \n",
            " batch_normalization (BatchN  (None, 5984, 64)         256       \n",
            " ormalization)                                                   \n",
            "                                                                 \n",
            " activation (Activation)     (None, 5984, 64)          0         \n",
            "                                                                 \n",
            " MaxPooling1D_1 (MaxPooling1  (None, 2992, 64)         0         \n",
            " D)                                                              \n",
            "                                                                 \n",
            " Conv_2 (Conv1D)             (None, 2984, 128)         73856     \n",
            "                                                                 \n",
            " batch_normalization_1 (Batc  (None, 2984, 128)        512       \n",
            " hNormalization)                                                 \n",
            "                                                                 \n",
            " activation_1 (Activation)   (None, 2984, 128)         0         \n",
            "                                                                 \n",
            " MaxPooling1D_2 (MaxPooling1  (None, 1492, 128)        0         \n",
            " D)                                                              \n",
            "                                                                 \n",
            " Conv_3 (Conv1D)             (None, 1488, 256)         164096    \n",
            "                                                                 \n",
            " batch_normalization_2 (Batc  (None, 1488, 256)        1024      \n",
            " hNormalization)                                                 \n",
            "                                                                 \n",
            " activation_2 (Activation)   (None, 1488, 256)         0         \n",
            "                                                                 \n",
            " MaxPooling1D_3 (MaxPooling1  (None, 744, 256)         0         \n",
            " D)                                                              \n",
            "                                                                 \n",
            " Conv_4 (Conv1D)             (None, 740, 256)          327936    \n",
            "                                                                 \n",
            " batch_normalization_3 (Batc  (None, 740, 256)         1024      \n",
            " hNormalization)                                                 \n",
            "                                                                 \n",
            " activation_3 (Activation)   (None, 740, 256)          0         \n",
            "                                                                 \n",
            " MaxPooling1D_4 (MaxPooling1  (None, 370, 256)         0         \n",
            " D)                                                              \n",
            "                                                                 \n",
            " flatten (Flatten)           (None, 94720)             0         \n",
            "                                                                 \n",
            " dropout (Dropout)           (None, 94720)             0         \n",
            "                                                                 \n",
            " fully_connected_0 (Dense)   (None, 256)               24248576  \n",
            "                                                                 \n",
            " fully_connected_1 (Dense)   (None, 64)                16448     \n",
            "                                                                 \n",
            " fully_connected_2 (Dense)   (None, 64)                4160      \n",
            "                                                                 \n",
            " OUT_Layer (Dense)           (None, 1)                 65        \n",
            "                                                                 \n",
            "=================================================================\n",
            "Total params: 24,839,105\n",
            "Trainable params: 24,837,697\n",
            "Non-trainable params: 1,408\n",
            "_________________________________________________________________\n"
          ]
        }
      ],
      "source": [
        "model = Sequential(name=\"Modelo_s_aureus_ciprofloxacin\")\n",
        "init_mode = 'normal'\n",
        "model.add(Conv1D(filters=(64), kernel_size=(17), input_shape = (n_timesteps,n_features), name='Conv_1'))\n",
        "model.add(BatchNormalization())\n",
        "model.add(Activation('relu'))\n",
        "model.add(MaxPooling1D(pool_size=2, name=\"MaxPooling1D_1\"))\n",
        "\n",
        "model.add(Conv1D(filters=(128), kernel_size=(9),kernel_initializer=init_mode, kernel_regularizer=regularizers.l2(0.0001),  name='Conv_2'))\n",
        "model.add(BatchNormalization())\n",
        "model.add(Activation('relu'))\n",
        "model.add(MaxPooling1D(pool_size=2, name=\"MaxPooling1D_2\"))\n",
        "\n",
        "model.add(Conv1D(filters=(256), kernel_size=(5),kernel_initializer=init_mode,kernel_regularizer=regularizers.l2(0.0001),   name='Conv_3'))\n",
        "model.add(BatchNormalization())\n",
        "model.add(Activation('relu'))\n",
        "model.add(MaxPooling1D(pool_size=2, name=\"MaxPooling1D_3\"))\n",
        "\n",
        "model.add(Conv1D(filters=(256), kernel_size=(5),kernel_initializer=init_mode, kernel_regularizer=regularizers.l2(0.0001),   name='Conv_4'))\n",
        "model.add(BatchNormalization())\n",
        "model.add(Activation('relu'))\n",
        "model.add(MaxPooling1D(pool_size=2, name=\"MaxPooling1D_4\"))\n",
        "\n",
        "model.add(Flatten())\n",
        "model.add(Dropout(0.65))\n",
        "model.add(Dense(256, activation='relu',kernel_initializer=init_mode, kernel_regularizer=regularizers.l2(0.0001), name=\"fully_connected_0\"))\n",
        "model.add(Dense(64, activation='relu',kernel_initializer=init_mode, kernel_regularizer=regularizers.l2(0.0001), name=\"fully_connected_1\"))\n",
        "model.add(Dense(64, activation='relu',kernel_initializer=init_mode, kernel_regularizer=regularizers.l2(0.0001),  name=\"fully_connected_2\"))\n",
        "model.add(Dense(n_features, activation='sigmoid', name=\"OUT_Layer\"))\n",
        "\n",
        "model.compile(optimizer = Adam(learning_rate=0.0001), loss = 'binary_crossentropy',  metrics=METRICS)\n",
        "model.summary()"
      ]
    },
    {
      "cell_type": "code",
      "execution_count": 23,
      "metadata": {
        "colab": {
          "base_uri": "https://localhost:8080/"
        },
        "id": "lDksoJagl3H9",
        "outputId": "b244d4a7-0b9c-4b4e-cb2a-f5159586c644"
      },
      "outputs": [
        {
          "name": "stdout",
          "output_type": "stream",
          "text": [
            "Epoch 1/100\n"
          ]
        },
        {
          "name": "stderr",
          "output_type": "stream",
          "text": [
            "2025-01-10 10:53:32.103155: I tensorflow/stream_executor/cuda/cuda_dnn.cc:384] Loaded cuDNN version 8907\n",
            "2025-01-10 10:53:32.126927: I tensorflow/core/platform/default/subprocess.cc:304] Start cannot spawn child process: No such file or directory\n",
            "2025-01-10 10:53:32.818816: I tensorflow/stream_executor/cuda/cuda_blas.cc:1614] TensorFloat-32 will be used for the matrix multiplication. This will only be logged once.\n"
          ]
        },
        {
          "name": "stdout",
          "output_type": "stream",
          "text": [
            "16/16 [==============================] - 4s 78ms/step - loss: 7.4277 - tp: 6.0000 - fp: 42.0000 - tn: 69.0000 - fn: 36.0000 - accuracy: 0.4902 - precision: 0.1250 - recall: 0.1429 - auc: 0.3983 - prc: 0.2211 - val_loss: 6.8089 - val_tp: 0.0000e+00 - val_fp: 0.0000e+00 - val_tn: 12.0000 - val_fn: 5.0000 - val_accuracy: 0.7059 - val_precision: 0.0000e+00 - val_recall: 0.0000e+00 - val_auc: 0.3750 - val_prc: 0.2246 - lr: 1.0000e-04\n",
            "Epoch 2/100\n",
            "16/16 [==============================] - 0s 29ms/step - loss: 6.7808 - tp: 7.0000 - fp: 10.0000 - tn: 101.0000 - fn: 35.0000 - accuracy: 0.7059 - precision: 0.4118 - recall: 0.1667 - auc: 0.5714 - prc: 0.3445 - val_loss: 6.7490 - val_tp: 0.0000e+00 - val_fp: 0.0000e+00 - val_tn: 12.0000 - val_fn: 5.0000 - val_accuracy: 0.7059 - val_precision: 0.0000e+00 - val_recall: 0.0000e+00 - val_auc: 0.4750 - val_prc: 0.2756 - lr: 1.0000e-04\n",
            "Epoch 3/100\n",
            "16/16 [==============================] - 0s 29ms/step - loss: 6.7331 - tp: 10.0000 - fp: 22.0000 - tn: 89.0000 - fn: 32.0000 - accuracy: 0.6471 - precision: 0.3125 - recall: 0.2381 - auc: 0.5789 - prc: 0.3423 - val_loss: 6.6411 - val_tp: 0.0000e+00 - val_fp: 0.0000e+00 - val_tn: 12.0000 - val_fn: 5.0000 - val_accuracy: 0.7059 - val_precision: 0.0000e+00 - val_recall: 0.0000e+00 - val_auc: 0.2667 - val_prc: 0.1979 - lr: 1.0000e-04\n",
            "Epoch 4/100\n",
            "16/16 [==============================] - 0s 28ms/step - loss: 6.6270 - tp: 13.0000 - fp: 16.0000 - tn: 95.0000 - fn: 29.0000 - accuracy: 0.7059 - precision: 0.4483 - recall: 0.3095 - auc: 0.6289 - prc: 0.4268 - val_loss: 6.5823 - val_tp: 0.0000e+00 - val_fp: 0.0000e+00 - val_tn: 12.0000 - val_fn: 5.0000 - val_accuracy: 0.7059 - val_precision: 0.0000e+00 - val_recall: 0.0000e+00 - val_auc: 0.6917 - val_prc: 0.4263 - lr: 1.0000e-04\n",
            "Epoch 5/100\n",
            "16/16 [==============================] - 0s 29ms/step - loss: 6.5155 - tp: 6.0000 - fp: 10.0000 - tn: 101.0000 - fn: 36.0000 - accuracy: 0.6993 - precision: 0.3750 - recall: 0.1429 - auc: 0.7213 - prc: 0.4172 - val_loss: 6.5363 - val_tp: 0.0000e+00 - val_fp: 0.0000e+00 - val_tn: 12.0000 - val_fn: 5.0000 - val_accuracy: 0.7059 - val_precision: 0.0000e+00 - val_recall: 0.0000e+00 - val_auc: 0.4000 - val_prc: 0.2545 - lr: 1.0000e-04\n",
            "Epoch 6/100\n",
            "16/16 [==============================] - 0s 30ms/step - loss: 6.4790 - tp: 22.0000 - fp: 22.0000 - tn: 89.0000 - fn: 20.0000 - accuracy: 0.7255 - precision: 0.5000 - recall: 0.5238 - auc: 0.7053 - prc: 0.5002 - val_loss: 6.4841 - val_tp: 0.0000e+00 - val_fp: 0.0000e+00 - val_tn: 12.0000 - val_fn: 5.0000 - val_accuracy: 0.7059 - val_precision: 0.0000e+00 - val_recall: 0.0000e+00 - val_auc: 0.5000 - val_prc: 0.3334 - lr: 1.0000e-04\n",
            "Epoch 7/100\n",
            "16/16 [==============================] - 0s 30ms/step - loss: 6.4076 - tp: 18.0000 - fp: 16.0000 - tn: 95.0000 - fn: 24.0000 - accuracy: 0.7386 - precision: 0.5294 - recall: 0.4286 - auc: 0.7188 - prc: 0.4980 - val_loss: 6.4411 - val_tp: 0.0000e+00 - val_fp: 0.0000e+00 - val_tn: 12.0000 - val_fn: 5.0000 - val_accuracy: 0.7059 - val_precision: 0.0000e+00 - val_recall: 0.0000e+00 - val_auc: 0.4167 - val_prc: 0.2382 - lr: 1.0000e-04\n",
            "Epoch 8/100\n",
            "16/16 [==============================] - 0s 29ms/step - loss: 6.4049 - tp: 8.0000 - fp: 6.0000 - tn: 105.0000 - fn: 34.0000 - accuracy: 0.7386 - precision: 0.5714 - recall: 0.1905 - auc: 0.7254 - prc: 0.4496 - val_loss: 6.4121 - val_tp: 0.0000e+00 - val_fp: 0.0000e+00 - val_tn: 12.0000 - val_fn: 5.0000 - val_accuracy: 0.7059 - val_precision: 0.0000e+00 - val_recall: 0.0000e+00 - val_auc: 0.4583 - val_prc: 0.2503 - lr: 1.0000e-04\n",
            "Epoch 9/100\n",
            "16/16 [==============================] - 0s 29ms/step - loss: 6.2631 - tp: 13.0000 - fp: 11.0000 - tn: 100.0000 - fn: 29.0000 - accuracy: 0.7386 - precision: 0.5417 - recall: 0.3095 - auc: 0.7837 - prc: 0.5225 - val_loss: 6.3627 - val_tp: 0.0000e+00 - val_fp: 0.0000e+00 - val_tn: 12.0000 - val_fn: 5.0000 - val_accuracy: 0.7059 - val_precision: 0.0000e+00 - val_recall: 0.0000e+00 - val_auc: 0.3000 - val_prc: 0.2045 - lr: 1.0000e-04\n",
            "Epoch 10/100\n",
            "16/16 [==============================] - 0s 25ms/step - loss: 6.2768 - tp: 17.0000 - fp: 14.0000 - tn: 97.0000 - fn: 25.0000 - accuracy: 0.7451 - precision: 0.5484 - recall: 0.4048 - auc: 0.7220 - prc: 0.5132 - val_loss: 6.3216 - val_tp: 0.0000e+00 - val_fp: 0.0000e+00 - val_tn: 12.0000 - val_fn: 5.0000 - val_accuracy: 0.7059 - val_precision: 0.0000e+00 - val_recall: 0.0000e+00 - val_auc: 0.4417 - val_prc: 0.2476 - lr: 1.0000e-04\n",
            "Epoch 11/100\n",
            "16/16 [==============================] - 0s 29ms/step - loss: 6.1863 - tp: 17.0000 - fp: 16.0000 - tn: 95.0000 - fn: 25.0000 - accuracy: 0.7320 - precision: 0.5152 - recall: 0.4048 - auc: 0.7811 - prc: 0.5617 - val_loss: 6.2913 - val_tp: 0.0000e+00 - val_fp: 0.0000e+00 - val_tn: 12.0000 - val_fn: 5.0000 - val_accuracy: 0.7059 - val_precision: 0.0000e+00 - val_recall: 0.0000e+00 - val_auc: 0.3083 - val_prc: 0.2079 - lr: 1.0000e-04\n",
            "Epoch 12/100\n",
            "16/16 [==============================] - 0s 30ms/step - loss: 6.0867 - tp: 14.0000 - fp: 7.0000 - tn: 104.0000 - fn: 28.0000 - accuracy: 0.7712 - precision: 0.6667 - recall: 0.3333 - auc: 0.8340 - prc: 0.6719 - val_loss: 6.2485 - val_tp: 0.0000e+00 - val_fp: 0.0000e+00 - val_tn: 12.0000 - val_fn: 5.0000 - val_accuracy: 0.7059 - val_precision: 0.0000e+00 - val_recall: 0.0000e+00 - val_auc: 0.4167 - val_prc: 0.2380 - lr: 1.0000e-04\n",
            "Epoch 13/100\n",
            "16/16 [==============================] - 0s 29ms/step - loss: 6.1412 - tp: 18.0000 - fp: 11.0000 - tn: 100.0000 - fn: 24.0000 - accuracy: 0.7712 - precision: 0.6207 - recall: 0.4286 - auc: 0.7627 - prc: 0.4963 - val_loss: 6.2108 - val_tp: 0.0000e+00 - val_fp: 0.0000e+00 - val_tn: 12.0000 - val_fn: 5.0000 - val_accuracy: 0.7059 - val_precision: 0.0000e+00 - val_recall: 0.0000e+00 - val_auc: 0.6083 - val_prc: 0.3136 - lr: 1.0000e-04\n",
            "Epoch 14/100\n",
            "16/16 [==============================] - 0s 31ms/step - loss: 6.0570 - tp: 19.0000 - fp: 10.0000 - tn: 101.0000 - fn: 23.0000 - accuracy: 0.7843 - precision: 0.6552 - recall: 0.4524 - auc: 0.7842 - prc: 0.6670 - val_loss: 6.1765 - val_tp: 0.0000e+00 - val_fp: 0.0000e+00 - val_tn: 12.0000 - val_fn: 5.0000 - val_accuracy: 0.7059 - val_precision: 0.0000e+00 - val_recall: 0.0000e+00 - val_auc: 0.5667 - val_prc: 0.3027 - lr: 1.0000e-04\n",
            "Epoch 15/100\n",
            "16/16 [==============================] - 0s 29ms/step - loss: 6.0064 - tp: 22.0000 - fp: 14.0000 - tn: 97.0000 - fn: 20.0000 - accuracy: 0.7778 - precision: 0.6111 - recall: 0.5238 - auc: 0.8325 - prc: 0.6233 - val_loss: 6.1403 - val_tp: 0.0000e+00 - val_fp: 0.0000e+00 - val_tn: 12.0000 - val_fn: 5.0000 - val_accuracy: 0.7059 - val_precision: 0.0000e+00 - val_recall: 0.0000e+00 - val_auc: 0.5833 - val_prc: 0.3333 - lr: 1.0000e-04\n",
            "Epoch 16/100\n",
            "16/16 [==============================] - 0s 29ms/step - loss: 5.9622 - tp: 17.0000 - fp: 8.0000 - tn: 103.0000 - fn: 25.0000 - accuracy: 0.7843 - precision: 0.6800 - recall: 0.4048 - auc: 0.8177 - prc: 0.6386 - val_loss: 6.1131 - val_tp: 0.0000e+00 - val_fp: 0.0000e+00 - val_tn: 12.0000 - val_fn: 5.0000 - val_accuracy: 0.7059 - val_precision: 0.0000e+00 - val_recall: 0.0000e+00 - val_auc: 0.7000 - val_prc: 0.5145 - lr: 1.0000e-04\n",
            "Epoch 17/100\n",
            "16/16 [==============================] - 0s 28ms/step - loss: 5.9825 - tp: 19.0000 - fp: 10.0000 - tn: 101.0000 - fn: 23.0000 - accuracy: 0.7843 - precision: 0.6552 - recall: 0.4524 - auc: 0.7756 - prc: 0.6156 - val_loss: 6.0833 - val_tp: 0.0000e+00 - val_fp: 0.0000e+00 - val_tn: 12.0000 - val_fn: 5.0000 - val_accuracy: 0.7059 - val_precision: 0.0000e+00 - val_recall: 0.0000e+00 - val_auc: 0.4083 - val_prc: 0.2328 - lr: 1.0000e-04\n",
            "Epoch 18/100\n",
            "16/16 [==============================] - 0s 29ms/step - loss: 5.8787 - tp: 20.0000 - fp: 5.0000 - tn: 106.0000 - fn: 22.0000 - accuracy: 0.8235 - precision: 0.8000 - recall: 0.4762 - auc: 0.8412 - prc: 0.7515 - val_loss: 6.0556 - val_tp: 0.0000e+00 - val_fp: 0.0000e+00 - val_tn: 12.0000 - val_fn: 5.0000 - val_accuracy: 0.7059 - val_precision: 0.0000e+00 - val_recall: 0.0000e+00 - val_auc: 0.4250 - val_prc: 0.2396 - lr: 1.0000e-04\n",
            "Epoch 19/100\n",
            "16/16 [==============================] - 0s 30ms/step - loss: 5.8968 - tp: 18.0000 - fp: 14.0000 - tn: 97.0000 - fn: 24.0000 - accuracy: 0.7516 - precision: 0.5625 - recall: 0.4286 - auc: 0.8048 - prc: 0.6248 - val_loss: 6.0468 - val_tp: 0.0000e+00 - val_fp: 0.0000e+00 - val_tn: 12.0000 - val_fn: 5.0000 - val_accuracy: 0.7059 - val_precision: 0.0000e+00 - val_recall: 0.0000e+00 - val_auc: 0.4333 - val_prc: 0.2680 - lr: 1.0000e-04\n",
            "Epoch 20/100\n",
            "16/16 [==============================] - 0s 29ms/step - loss: 5.8572 - tp: 22.0000 - fp: 10.0000 - tn: 101.0000 - fn: 20.0000 - accuracy: 0.8039 - precision: 0.6875 - recall: 0.5238 - auc: 0.8104 - prc: 0.6689 - val_loss: 6.0016 - val_tp: 0.0000e+00 - val_fp: 0.0000e+00 - val_tn: 12.0000 - val_fn: 5.0000 - val_accuracy: 0.7059 - val_precision: 0.0000e+00 - val_recall: 0.0000e+00 - val_auc: 0.4917 - val_prc: 0.4171 - lr: 1.0000e-04\n",
            "Epoch 21/100\n",
            "16/16 [==============================] - 0s 29ms/step - loss: 5.8839 - tp: 25.0000 - fp: 20.0000 - tn: 91.0000 - fn: 17.0000 - accuracy: 0.7582 - precision: 0.5556 - recall: 0.5952 - auc: 0.7926 - prc: 0.6869 - val_loss: 5.9495 - val_tp: 0.0000e+00 - val_fp: 0.0000e+00 - val_tn: 12.0000 - val_fn: 5.0000 - val_accuracy: 0.7059 - val_precision: 0.0000e+00 - val_recall: 0.0000e+00 - val_auc: 0.6000 - val_prc: 0.3108 - lr: 1.0000e-04\n",
            "Epoch 22/100\n",
            "16/16 [==============================] - 0s 30ms/step - loss: 5.8009 - tp: 23.0000 - fp: 15.0000 - tn: 96.0000 - fn: 19.0000 - accuracy: 0.7778 - precision: 0.6053 - recall: 0.5476 - auc: 0.8076 - prc: 0.6655 - val_loss: 5.9397 - val_tp: 0.0000e+00 - val_fp: 0.0000e+00 - val_tn: 12.0000 - val_fn: 5.0000 - val_accuracy: 0.7059 - val_precision: 0.0000e+00 - val_recall: 0.0000e+00 - val_auc: 0.4333 - val_prc: 0.2497 - lr: 1.0000e-04\n",
            "Epoch 23/100\n",
            "16/16 [==============================] - 0s 30ms/step - loss: 5.7251 - tp: 19.0000 - fp: 7.0000 - tn: 104.0000 - fn: 23.0000 - accuracy: 0.8039 - precision: 0.7308 - recall: 0.4524 - auc: 0.8679 - prc: 0.7067 - val_loss: 5.9244 - val_tp: 0.0000e+00 - val_fp: 0.0000e+00 - val_tn: 12.0000 - val_fn: 5.0000 - val_accuracy: 0.7059 - val_precision: 0.0000e+00 - val_recall: 0.0000e+00 - val_auc: 0.4667 - val_prc: 0.2767 - lr: 1.0000e-04\n",
            "Epoch 24/100\n",
            "16/16 [==============================] - 0s 30ms/step - loss: 5.7135 - tp: 22.0000 - fp: 6.0000 - tn: 105.0000 - fn: 20.0000 - accuracy: 0.8301 - precision: 0.7857 - recall: 0.5238 - auc: 0.8536 - prc: 0.7092 - val_loss: 5.8751 - val_tp: 0.0000e+00 - val_fp: 0.0000e+00 - val_tn: 12.0000 - val_fn: 5.0000 - val_accuracy: 0.7059 - val_precision: 0.0000e+00 - val_recall: 0.0000e+00 - val_auc: 0.5750 - val_prc: 0.3140 - lr: 1.0000e-04\n",
            "Epoch 25/100\n",
            "16/16 [==============================] - 0s 29ms/step - loss: 5.6502 - tp: 31.0000 - fp: 18.0000 - tn: 93.0000 - fn: 11.0000 - accuracy: 0.8105 - precision: 0.6327 - recall: 0.7381 - auc: 0.8806 - prc: 0.7301 - val_loss: 5.8148 - val_tp: 0.0000e+00 - val_fp: 0.0000e+00 - val_tn: 12.0000 - val_fn: 5.0000 - val_accuracy: 0.7059 - val_precision: 0.0000e+00 - val_recall: 0.0000e+00 - val_auc: 0.6667 - val_prc: 0.3589 - lr: 1.0000e-04\n",
            "Epoch 26/100\n",
            "16/16 [==============================] - 0s 29ms/step - loss: 5.6323 - tp: 26.0000 - fp: 12.0000 - tn: 99.0000 - fn: 16.0000 - accuracy: 0.8170 - precision: 0.6842 - recall: 0.6190 - auc: 0.8684 - prc: 0.7476 - val_loss: 5.7954 - val_tp: 0.0000e+00 - val_fp: 0.0000e+00 - val_tn: 12.0000 - val_fn: 5.0000 - val_accuracy: 0.7059 - val_precision: 0.0000e+00 - val_recall: 0.0000e+00 - val_auc: 0.6417 - val_prc: 0.3459 - lr: 1.0000e-04\n",
            "Epoch 27/100\n",
            "16/16 [==============================] - 0s 29ms/step - loss: 5.5620 - tp: 26.0000 - fp: 9.0000 - tn: 102.0000 - fn: 16.0000 - accuracy: 0.8366 - precision: 0.7429 - recall: 0.6190 - auc: 0.9055 - prc: 0.7598 - val_loss: 5.7922 - val_tp: 0.0000e+00 - val_fp: 1.0000 - val_tn: 11.0000 - val_fn: 5.0000 - val_accuracy: 0.6471 - val_precision: 0.0000e+00 - val_recall: 0.0000e+00 - val_auc: 0.6333 - val_prc: 0.3415 - lr: 1.0000e-04\n",
            "Epoch 28/100\n",
            "16/16 [==============================] - 0s 29ms/step - loss: 5.5669 - tp: 24.0000 - fp: 14.0000 - tn: 97.0000 - fn: 18.0000 - accuracy: 0.7908 - precision: 0.6316 - recall: 0.5714 - auc: 0.8744 - prc: 0.7456 - val_loss: 5.7507 - val_tp: 0.0000e+00 - val_fp: 0.0000e+00 - val_tn: 12.0000 - val_fn: 5.0000 - val_accuracy: 0.7059 - val_precision: 0.0000e+00 - val_recall: 0.0000e+00 - val_auc: 0.5833 - val_prc: 0.3069 - lr: 1.0000e-04\n",
            "Epoch 29/100\n",
            "16/16 [==============================] - 0s 29ms/step - loss: 5.5477 - tp: 27.0000 - fp: 9.0000 - tn: 102.0000 - fn: 15.0000 - accuracy: 0.8431 - precision: 0.7500 - recall: 0.6429 - auc: 0.8669 - prc: 0.7800 - val_loss: 5.7140 - val_tp: 0.0000e+00 - val_fp: 0.0000e+00 - val_tn: 12.0000 - val_fn: 5.0000 - val_accuracy: 0.7059 - val_precision: 0.0000e+00 - val_recall: 0.0000e+00 - val_auc: 0.5833 - val_prc: 0.3069 - lr: 1.0000e-04\n",
            "Epoch 30/100\n",
            "16/16 [==============================] - 0s 25ms/step - loss: 5.4329 - tp: 22.0000 - fp: 4.0000 - tn: 107.0000 - fn: 20.0000 - accuracy: 0.8431 - precision: 0.8462 - recall: 0.5238 - auc: 0.9418 - prc: 0.8545 - val_loss: 5.7946 - val_tp: 5.0000 - val_fp: 5.0000 - val_tn: 7.0000 - val_fn: 0.0000e+00 - val_accuracy: 0.7059 - val_precision: 0.5000 - val_recall: 1.0000 - val_auc: 0.6667 - val_prc: 0.4892 - lr: 1.0000e-04\n",
            "Epoch 31/100\n",
            "16/16 [==============================] - 0s 29ms/step - loss: 5.4455 - tp: 27.0000 - fp: 7.0000 - tn: 104.0000 - fn: 15.0000 - accuracy: 0.8562 - precision: 0.7941 - recall: 0.6429 - auc: 0.9073 - prc: 0.8145 - val_loss: 5.6637 - val_tp: 0.0000e+00 - val_fp: 0.0000e+00 - val_tn: 12.0000 - val_fn: 5.0000 - val_accuracy: 0.7059 - val_precision: 0.0000e+00 - val_recall: 0.0000e+00 - val_auc: 0.6167 - val_prc: 0.3188 - lr: 1.0000e-04\n",
            "Epoch 32/100\n",
            "16/16 [==============================] - 0s 29ms/step - loss: 5.4700 - tp: 26.0000 - fp: 9.0000 - tn: 102.0000 - fn: 16.0000 - accuracy: 0.8366 - precision: 0.7429 - recall: 0.6190 - auc: 0.8767 - prc: 0.7531 - val_loss: 5.6260 - val_tp: 0.0000e+00 - val_fp: 0.0000e+00 - val_tn: 12.0000 - val_fn: 5.0000 - val_accuracy: 0.7059 - val_precision: 0.0000e+00 - val_recall: 0.0000e+00 - val_auc: 0.6333 - val_prc: 0.3249 - lr: 1.0000e-04\n",
            "Epoch 33/100\n",
            "16/16 [==============================] - 0s 25ms/step - loss: 5.4144 - tp: 26.0000 - fp: 5.0000 - tn: 106.0000 - fn: 16.0000 - accuracy: 0.8627 - precision: 0.8387 - recall: 0.6190 - auc: 0.9012 - prc: 0.7974 - val_loss: 5.6781 - val_tp: 5.0000 - val_fp: 6.0000 - val_tn: 6.0000 - val_fn: 0.0000e+00 - val_accuracy: 0.6471 - val_precision: 0.4545 - val_recall: 1.0000 - val_auc: 0.7000 - val_prc: 0.3800 - lr: 1.0000e-04\n",
            "Epoch 34/100\n",
            "16/16 [==============================] - 0s 30ms/step - loss: 5.3396 - tp: 29.0000 - fp: 4.0000 - tn: 107.0000 - fn: 13.0000 - accuracy: 0.8889 - precision: 0.8788 - recall: 0.6905 - auc: 0.9286 - prc: 0.8487 - val_loss: 5.5422 - val_tp: 0.0000e+00 - val_fp: 0.0000e+00 - val_tn: 12.0000 - val_fn: 5.0000 - val_accuracy: 0.7059 - val_precision: 0.0000e+00 - val_recall: 0.0000e+00 - val_auc: 0.7833 - val_prc: 0.5888 - lr: 1.0000e-04\n",
            "Epoch 35/100\n",
            "16/16 [==============================] - 0s 30ms/step - loss: 5.3423 - tp: 24.0000 - fp: 6.0000 - tn: 105.0000 - fn: 18.0000 - accuracy: 0.8431 - precision: 0.8000 - recall: 0.5714 - auc: 0.9108 - prc: 0.8251 - val_loss: 5.5306 - val_tp: 1.0000 - val_fp: 1.0000 - val_tn: 11.0000 - val_fn: 4.0000 - val_accuracy: 0.7059 - val_precision: 0.5000 - val_recall: 0.2000 - val_auc: 0.7500 - val_prc: 0.5445 - lr: 1.0000e-04\n",
            "Epoch 36/100\n",
            "16/16 [==============================] - 0s 25ms/step - loss: 5.3228 - tp: 30.0000 - fp: 13.0000 - tn: 98.0000 - fn: 12.0000 - accuracy: 0.8366 - precision: 0.6977 - recall: 0.7143 - auc: 0.9156 - prc: 0.8495 - val_loss: 5.6992 - val_tp: 0.0000e+00 - val_fp: 0.0000e+00 - val_tn: 12.0000 - val_fn: 5.0000 - val_accuracy: 0.7059 - val_precision: 0.0000e+00 - val_recall: 0.0000e+00 - val_auc: 0.6583 - val_prc: 0.3447 - lr: 1.0000e-04\n",
            "Epoch 37/100\n",
            "16/16 [==============================] - 0s 29ms/step - loss: 5.4119 - tp: 27.0000 - fp: 11.0000 - tn: 100.0000 - fn: 15.0000 - accuracy: 0.8301 - precision: 0.7105 - recall: 0.6429 - auc: 0.8683 - prc: 0.6883 - val_loss: 5.4871 - val_tp: 1.0000 - val_fp: 2.0000 - val_tn: 10.0000 - val_fn: 4.0000 - val_accuracy: 0.6471 - val_precision: 0.3333 - val_recall: 0.2000 - val_auc: 0.7333 - val_prc: 0.5469 - lr: 1.0000e-04\n",
            "Epoch 38/100\n",
            "16/16 [==============================] - 0s 24ms/step - loss: 5.2904 - tp: 26.0000 - fp: 6.0000 - tn: 105.0000 - fn: 16.0000 - accuracy: 0.8562 - precision: 0.8125 - recall: 0.6190 - auc: 0.9025 - prc: 0.8161 - val_loss: 5.4879 - val_tp: 1.0000 - val_fp: 2.0000 - val_tn: 10.0000 - val_fn: 4.0000 - val_accuracy: 0.6471 - val_precision: 0.3333 - val_recall: 0.2000 - val_auc: 0.7000 - val_prc: 0.3847 - lr: 1.0000e-04\n",
            "Epoch 39/100\n",
            "16/16 [==============================] - 0s 25ms/step - loss: 5.2234 - tp: 27.0000 - fp: 5.0000 - tn: 106.0000 - fn: 15.0000 - accuracy: 0.8693 - precision: 0.8438 - recall: 0.6429 - auc: 0.9317 - prc: 0.8688 - val_loss: 5.5156 - val_tp: 0.0000e+00 - val_fp: 1.0000 - val_tn: 11.0000 - val_fn: 5.0000 - val_accuracy: 0.6471 - val_precision: 0.0000e+00 - val_recall: 0.0000e+00 - val_auc: 0.7000 - val_prc: 0.3684 - lr: 1.0000e-04\n",
            "Epoch 40/100\n",
            "16/16 [==============================] - 0s 29ms/step - loss: 5.1900 - tp: 28.0000 - fp: 4.0000 - tn: 107.0000 - fn: 14.0000 - accuracy: 0.8824 - precision: 0.8750 - recall: 0.6667 - auc: 0.9435 - prc: 0.8771 - val_loss: 5.4357 - val_tp: 1.0000 - val_fp: 3.0000 - val_tn: 9.0000 - val_fn: 4.0000 - val_accuracy: 0.5882 - val_precision: 0.2500 - val_recall: 0.2000 - val_auc: 0.6500 - val_prc: 0.3351 - lr: 1.0000e-04\n",
            "Epoch 41/100\n",
            "16/16 [==============================] - 0s 28ms/step - loss: 5.1317 - tp: 31.0000 - fp: 7.0000 - tn: 104.0000 - fn: 11.0000 - accuracy: 0.8824 - precision: 0.8158 - recall: 0.7381 - auc: 0.9563 - prc: 0.9015 - val_loss: 5.4194 - val_tp: 1.0000 - val_fp: 0.0000e+00 - val_tn: 12.0000 - val_fn: 4.0000 - val_accuracy: 0.7647 - val_precision: 1.0000 - val_recall: 0.2000 - val_auc: 0.7333 - val_prc: 0.5385 - lr: 1.0000e-04\n",
            "Epoch 42/100\n",
            "16/16 [==============================] - 0s 29ms/step - loss: 5.1000 - tp: 34.0000 - fp: 4.0000 - tn: 107.0000 - fn: 8.0000 - accuracy: 0.9216 - precision: 0.8947 - recall: 0.8095 - auc: 0.9644 - prc: 0.9271 - val_loss: 5.4085 - val_tp: 2.0000 - val_fp: 3.0000 - val_tn: 9.0000 - val_fn: 3.0000 - val_accuracy: 0.6471 - val_precision: 0.4000 - val_recall: 0.4000 - val_auc: 0.7167 - val_prc: 0.5196 - lr: 1.0000e-04\n",
            "Epoch 43/100\n",
            "16/16 [==============================] - 0s 25ms/step - loss: 5.0368 - tp: 37.0000 - fp: 7.0000 - tn: 104.0000 - fn: 5.0000 - accuracy: 0.9216 - precision: 0.8409 - recall: 0.8810 - auc: 0.9820 - prc: 0.9571 - val_loss: 5.6013 - val_tp: 0.0000e+00 - val_fp: 0.0000e+00 - val_tn: 12.0000 - val_fn: 5.0000 - val_accuracy: 0.7059 - val_precision: 0.0000e+00 - val_recall: 0.0000e+00 - val_auc: 0.7167 - val_prc: 0.5196 - lr: 1.0000e-04\n",
            "Epoch 44/100\n",
            "16/16 [==============================] - 0s 25ms/step - loss: 5.1268 - tp: 31.0000 - fp: 10.0000 - tn: 101.0000 - fn: 11.0000 - accuracy: 0.8627 - precision: 0.7561 - recall: 0.7381 - auc: 0.9346 - prc: 0.8604 - val_loss: 5.4570 - val_tp: 0.0000e+00 - val_fp: 0.0000e+00 - val_tn: 12.0000 - val_fn: 5.0000 - val_accuracy: 0.7059 - val_precision: 0.0000e+00 - val_recall: 0.0000e+00 - val_auc: 0.7333 - val_prc: 0.5622 - lr: 1.0000e-04\n",
            "Epoch 45/100\n",
            "16/16 [==============================] - 0s 30ms/step - loss: 5.0974 - tp: 33.0000 - fp: 9.0000 - tn: 102.0000 - fn: 9.0000 - accuracy: 0.8824 - precision: 0.7857 - recall: 0.7857 - auc: 0.9389 - prc: 0.8425 - val_loss: 5.3686 - val_tp: 2.0000 - val_fp: 4.0000 - val_tn: 8.0000 - val_fn: 3.0000 - val_accuracy: 0.5882 - val_precision: 0.3333 - val_recall: 0.4000 - val_auc: 0.7000 - val_prc: 0.3810 - lr: 1.0000e-04\n",
            "Epoch 46/100\n",
            "16/16 [==============================] - 0s 26ms/step - loss: 4.9858 - tp: 33.0000 - fp: 1.0000 - tn: 110.0000 - fn: 9.0000 - accuracy: 0.9346 - precision: 0.9706 - recall: 0.7857 - auc: 0.9768 - prc: 0.9518 - val_loss: 5.4071 - val_tp: 2.0000 - val_fp: 3.0000 - val_tn: 9.0000 - val_fn: 3.0000 - val_accuracy: 0.6471 - val_precision: 0.4000 - val_recall: 0.4000 - val_auc: 0.7000 - val_prc: 0.5094 - lr: 1.0000e-04\n",
            "Epoch 47/100\n",
            "16/16 [==============================] - 0s 26ms/step - loss: 5.0336 - tp: 33.0000 - fp: 8.0000 - tn: 103.0000 - fn: 9.0000 - accuracy: 0.8889 - precision: 0.8049 - recall: 0.7857 - auc: 0.9419 - prc: 0.8988 - val_loss: 5.3901 - val_tp: 1.0000 - val_fp: 2.0000 - val_tn: 10.0000 - val_fn: 4.0000 - val_accuracy: 0.6471 - val_precision: 0.3333 - val_recall: 0.2000 - val_auc: 0.7167 - val_prc: 0.5196 - lr: 1.0000e-04\n",
            "Epoch 48/100\n",
            "16/16 [==============================] - 0s 30ms/step - loss: 5.0191 - tp: 33.0000 - fp: 6.0000 - tn: 105.0000 - fn: 9.0000 - accuracy: 0.9020 - precision: 0.8462 - recall: 0.7857 - auc: 0.9486 - prc: 0.8726 - val_loss: 5.2541 - val_tp: 1.0000 - val_fp: 1.0000 - val_tn: 11.0000 - val_fn: 4.0000 - val_accuracy: 0.7059 - val_precision: 0.5000 - val_recall: 0.2000 - val_auc: 0.8333 - val_prc: 0.6369 - lr: 1.0000e-04\n",
            "Epoch 49/100\n",
            "16/16 [==============================] - 0s 30ms/step - loss: 4.9473 - tp: 36.0000 - fp: 5.0000 - tn: 106.0000 - fn: 6.0000 - accuracy: 0.9281 - precision: 0.8780 - recall: 0.8571 - auc: 0.9715 - prc: 0.9325 - val_loss: 5.1805 - val_tp: 2.0000 - val_fp: 1.0000 - val_tn: 11.0000 - val_fn: 3.0000 - val_accuracy: 0.7647 - val_precision: 0.6667 - val_recall: 0.4000 - val_auc: 0.8333 - val_prc: 0.6603 - lr: 1.0000e-04\n",
            "Epoch 50/100\n",
            "16/16 [==============================] - 0s 25ms/step - loss: 4.9296 - tp: 33.0000 - fp: 7.0000 - tn: 104.0000 - fn: 9.0000 - accuracy: 0.8954 - precision: 0.8250 - recall: 0.7857 - auc: 0.9694 - prc: 0.9344 - val_loss: 5.5609 - val_tp: 0.0000e+00 - val_fp: 0.0000e+00 - val_tn: 12.0000 - val_fn: 5.0000 - val_accuracy: 0.7059 - val_precision: 0.0000e+00 - val_recall: 0.0000e+00 - val_auc: 0.7750 - val_prc: 0.6018 - lr: 1.0000e-04\n",
            "Epoch 51/100\n",
            "16/16 [==============================] - 0s 26ms/step - loss: 4.9160 - tp: 33.0000 - fp: 6.0000 - tn: 105.0000 - fn: 9.0000 - accuracy: 0.9020 - precision: 0.8462 - recall: 0.7857 - auc: 0.9711 - prc: 0.9122 - val_loss: 5.2395 - val_tp: 2.0000 - val_fp: 1.0000 - val_tn: 11.0000 - val_fn: 3.0000 - val_accuracy: 0.7647 - val_precision: 0.6667 - val_recall: 0.4000 - val_auc: 0.7667 - val_prc: 0.5834 - lr: 1.0000e-04\n",
            "Epoch 52/100\n",
            "16/16 [==============================] - 0s 26ms/step - loss: 4.8957 - tp: 34.0000 - fp: 5.0000 - tn: 106.0000 - fn: 8.0000 - accuracy: 0.9150 - precision: 0.8718 - recall: 0.8095 - auc: 0.9645 - prc: 0.9269 - val_loss: 5.5362 - val_tp: 1.0000 - val_fp: 0.0000e+00 - val_tn: 12.0000 - val_fn: 4.0000 - val_accuracy: 0.7647 - val_precision: 1.0000 - val_recall: 0.2000 - val_auc: 0.7917 - val_prc: 0.6067 - lr: 1.0000e-04\n",
            "Epoch 53/100\n",
            "16/16 [==============================] - 0s 30ms/step - loss: 4.8285 - tp: 33.0000 - fp: 1.0000 - tn: 110.0000 - fn: 9.0000 - accuracy: 0.9346 - precision: 0.9706 - recall: 0.7857 - auc: 0.9875 - prc: 0.9700 - val_loss: 5.4398 - val_tp: 1.0000 - val_fp: 0.0000e+00 - val_tn: 12.0000 - val_fn: 4.0000 - val_accuracy: 0.7647 - val_precision: 1.0000 - val_recall: 0.2000 - val_auc: 0.7500 - val_prc: 0.5746 - lr: 1.0000e-05\n"
          ]
        }
      ],
      "source": [
        "history = model.fit(X_train_reshaped, y_train, epochs=100, batch_size=10, verbose=1, validation_split=0.1, callbacks=[reduce_lr,early_st])"
      ]
    },
    {
      "cell_type": "markdown",
      "metadata": {
        "id": "5hF9EG1dX6xZ"
      },
      "source": [
        "# Evaluate the model"
      ]
    },
    {
      "cell_type": "code",
      "execution_count": 24,
      "metadata": {
        "colab": {
          "base_uri": "https://localhost:8080/"
        },
        "id": "ux5k-LYLl3GF",
        "outputId": "9148bd10-3890-40c0-d5ce-d97b0938aef1"
      },
      "outputs": [
        {
          "name": "stdout",
          "output_type": "stream",
          "text": [
            "2/2 [==============================] - 0s 29ms/step\n",
            "[[24  7]\n",
            " [ 4  8]]\n"
          ]
        }
      ],
      "source": [
        "y_pred  = model.predict(X_test_reshaped)\n",
        "y_pred = (y_pred>0.5)\n",
        "cm = confusion_matrix(y_test, y_pred)\n",
        "print(cm)"
      ]
    },
    {
      "cell_type": "code",
      "execution_count": 25,
      "metadata": {
        "colab": {
          "base_uri": "https://localhost:8080/"
        },
        "id": "iur6Wu4oZ5dI",
        "outputId": "a97b3320-950a-4b11-fcb3-1b08387bb109"
      },
      "outputs": [
        {
          "name": "stdout",
          "output_type": "stream",
          "text": [
            "balanced acuracy: 0.7204301075268817\n"
          ]
        }
      ],
      "source": [
        "print(\"balanced acuracy:\", balanced_accuracy_score(y_test, y_pred))"
      ]
    },
    {
      "cell_type": "code",
      "execution_count": 26,
      "metadata": {
        "colab": {
          "base_uri": "https://localhost:8080/"
        },
        "id": "zkQ55Zm7l3D2",
        "outputId": "1d603181-a728-4b27-d900-a1e71d36be80"
      },
      "outputs": [
        {
          "name": "stdout",
          "output_type": "stream",
          "text": [
            "              precision    recall  f1-score   support\n",
            "\n",
            "           0       0.86      0.77      0.81        31\n",
            "           1       0.53      0.67      0.59        12\n",
            "\n",
            "    accuracy                           0.74        43\n",
            "   macro avg       0.70      0.72      0.70        43\n",
            "weighted avg       0.77      0.74      0.75        43\n",
            "\n",
            "17/17 [==============================] - 0s 4ms/step\n",
            "5/5 [==============================] - 0s 3ms/step\n",
            "loss :  5.314726829528809\n",
            "tp :  8.0\n",
            "fp :  7.0\n",
            "tn :  24.0\n",
            "fn :  4.0\n",
            "accuracy :  0.7441860437393188\n",
            "precision :  0.5333333611488342\n",
            "recall :  0.6666666865348816\n",
            "auc :  0.7352150678634644\n",
            "prc :  0.5099336504936218\n",
            "\n"
          ]
        }
      ],
      "source": [
        "target_names=[\"0\",\"1\"]\n",
        "print(classification_report(y_test, y_pred, target_names=target_names))\n",
        "\n",
        "train_predictions_baseline = model.predict(X_train_reshaped, batch_size=10)\n",
        "test_predictions_baseline = model.predict(X_test_reshaped, batch_size=10)\n",
        "\n",
        "baseline_results = model.evaluate(X_test_reshaped, y_test, verbose=0)\n",
        "for name, value in zip(model.metrics_names, baseline_results):\n",
        "  print(name, ': ', value)\n",
        "print()"
      ]
    },
    {
      "cell_type": "code",
      "execution_count": 27,
      "metadata": {
        "colab": {
          "base_uri": "https://localhost:8080/",
          "height": 1000
        },
        "id": "YzVQLd_Xl3B1",
        "outputId": "6bd1d53b-d330-4a0f-d2c9-b33181c37c01"
      },
      "outputs": [
        {
          "data": {
            "image/png": "[encoded data removed]",
            "text/plain": [
              "<Figure size 1200x1000 with 1 Axes>"
            ]
          },
          "metadata": {},
          "output_type": "display_data"
        },
        {
          "data": {
            "image/png": "[encoded data removed]",
            "text/plain": [
              "<Figure size 1200x1000 with 1 Axes>"
            ]
          },
          "metadata": {},
          "output_type": "display_data"
        }
      ],
      "source": [
        "plt.rcParams['figure.figsize'] = (12, 10)\n",
        "plt.rcParams.update({'font.size': 17})\n",
        "colors = plt.rcParams['axes.prop_cycle'].by_key()['color']\n",
        "\n",
        "def plot_roc(name, labels, predictions, **kwargs):\n",
        "  fp, tp, _ = sklearn.metrics.roc_curve(labels, predictions)\n",
        "\n",
        "  plt.plot(fp, tp, label=name, linewidth=2, **kwargs)\n",
        "  plt.plot([0, 1], [0, 1], 'k--')\n",
        "  plt.title('E. coli CNN')\n",
        "  plt.xlabel('False positives [%]')\n",
        "  plt.ylabel('True positives [%]')\n",
        "  plt.title('S. aureus AUROC')\n",
        "\n",
        "  plt.grid(True)\n",
        "  ax = plt.gca()\n",
        "  ax.set_aspect('equal')\n",
        "plot_roc(\"Ciprofloxacin               AUROC: %0.2f\" % baseline_results[8], y_test, test_predictions_baseline, color=colors[0])\n",
        "\n",
        "plt.legend(loc='lower right')\n",
        "plt.savefig('s_aureus_auroc.png', bbox_inches='tight')\n",
        "plt.show()\n",
        "\n",
        "def plot_prc(name, labels, predictions, **kwargs):\n",
        "    precision, recall, _ = sklearn.metrics.precision_recall_curve(labels, predictions)\n",
        "\n",
        "    plt.plot(precision, recall, label=name, linewidth=2, **kwargs)\n",
        "    plt.title('S. aureus AUPRC')\n",
        "    plt.xlabel('Recall')\n",
        "    plt.ylabel('Precision')\n",
        "    plt.plot([1, 0], [0, 1], 'k--')\n",
        "    plt.grid(True)\n",
        "    ax = plt.gca()\n",
        "    ax.set_aspect('equal')\n",
        "\n",
        "plot_prc(\"Ciprofloxacin        AUPRC: %0.2f\" % baseline_results[9], y_test, test_predictions_baseline, color=colors[0])\n",
        "\n",
        "plt.legend(loc='upper right')\n",
        "plt.savefig('s_aureus_auprc.png', bbox_inches='tight')\n",
        "plt.show()"
      ]
    }
  ],
  "metadata": {
    "accelerator": "GPU",
    "colab": {
      "provenance": []
    },
    "gpuClass": "standard",
    "kernelspec": {
      "display_name": "Python 3",
      "language": "python",
      "name": "python3"
    },
    "language_info": {
      "codemirror_mode": {
        "name": "ipython",
        "version": 3
      },
      "file_extension": ".py",
      "mimetype": "text/x-python",
      "name": "python",
      "nbconvert_exporter": "python",
      "pygments_lexer": "ipython3",
      "version": "3.13.1"
    }
  },
  "nbformat": 4,
  "nbformat_minor": 0
}
