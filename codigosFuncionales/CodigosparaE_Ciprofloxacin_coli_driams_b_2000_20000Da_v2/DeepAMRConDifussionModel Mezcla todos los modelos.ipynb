{
  "cells": [
    {
      "cell_type": "markdown",
      "metadata": {
        "id": "LNNFUJODXA9C"
      },
      "source": [
        "# 0-Libraries"
      ]
    },
    {
      "cell_type": "code",
      "execution_count": 1,
      "metadata": {
        "id": "W1quzgr-ao8A"
      },
      "outputs": [
        {
          "name": "stderr",
          "output_type": "stream",
          "text": [
            "2025-01-19 14:10:25.183293: I tensorflow/core/platform/cpu_feature_guard.cc:193] This TensorFlow binary is optimized with oneAPI Deep Neural Network Library (oneDNN) to use the following CPU instructions in performance-critical operations:  AVX2 AVX512F AVX512_VNNI FMA\n",
            "To enable them in other operations, rebuild TensorFlow with the appropriate compiler flags.\n",
            "2025-01-19 14:10:25.321464: I tensorflow/core/util/util.cc:169] oneDNN custom operations are on. You may see slightly different numerical results due to floating-point round-off errors from different computation orders. To turn them off, set the environment variable `TF_ENABLE_ONEDNN_OPTS=0`.\n",
            "2025-01-19 14:10:25.357786: E tensorflow/stream_executor/cuda/cuda_blas.cc:2981] Unable to register cuBLAS factory: Attempting to register factory for plugin cuBLAS when one has already been registered\n",
            "2025-01-19 14:10:25.951888: W tensorflow/stream_executor/platform/default/dso_loader.cc:64] Could not load dynamic library 'libnvinfer.so.7'; dlerror: libnvinfer.so.7: cannot open shared object file: No such file or directory\n",
            "2025-01-19 14:10:25.951938: W tensorflow/stream_executor/platform/default/dso_loader.cc:64] Could not load dynamic library 'libnvinfer_plugin.so.7'; dlerror: libnvinfer_plugin.so.7: cannot open shared object file: No such file or directory\n",
            "2025-01-19 14:10:25.951942: W tensorflow/compiler/tf2tensorrt/utils/py_utils.cc:38] TF-TRT Warning: Cannot dlopen some TensorRT libraries. If you would like to use Nvidia GPU with TensorRT, please make sure the missing libraries mentioned above are installed properly.\n"
          ]
        }
      ],
      "source": [
        "import numpy as np\n",
        "import matplotlib.pyplot as plt\n",
        "import itertools\n",
        "import pandas as pd\n",
        "import sklearn\n",
        "from sklearn.model_selection import train_test_split\n",
        "from sklearn.metrics import confusion_matrix,classification_report,ConfusionMatrixDisplay, balanced_accuracy_score\n",
        "#from sklearn.preprocessing import LabelEncoder, OneHotEncoder\n",
        "from sklearn.compose import ColumnTransformer\n",
        "from sklearn.preprocessing import Normalizer, StandardScaler, MinMaxScaler, MaxAbsScaler, RobustScaler, QuantileTransformer, PowerTransformer\n",
        "import tensorflow as tf\n",
        "from tensorflow import keras\n",
        "from keras import regularizers\n",
        "from keras.optimizers import Adam\n",
        "#from keras.backend import expand_dims\n",
        "from keras.callbacks import ReduceLROnPlateau, EarlyStopping\n",
        "from keras.models import Sequential\n",
        "from keras.constraints import MaxNorm\n",
        "from keras.layers import Activation, Dense, Conv1D, Flatten, MaxPooling1D, Dropout, BatchNormalization, SpatialDropout1D,Input,Lambda\n",
        "\n",
        "\n",
        "\n"
      ]
    },
    {
      "cell_type": "code",
      "execution_count": 2,
      "metadata": {
        "id": "gy_ErAtqkxgt"
      },
      "outputs": [
        {
          "name": "stderr",
          "output_type": "stream",
          "text": [
            "2025-01-19 14:10:26.596970: I tensorflow/core/platform/cpu_feature_guard.cc:193] This TensorFlow binary is optimized with oneAPI Deep Neural Network Library (oneDNN) to use the following CPU instructions in performance-critical operations:  AVX2 AVX512F AVX512_VNNI FMA\n",
            "To enable them in other operations, rebuild TensorFlow with the appropriate compiler flags.\n",
            "2025-01-19 14:10:27.030388: I tensorflow/core/common_runtime/gpu/gpu_device.cc:1616] Created device /job:localhost/replica:0/task:0/device:GPU:0 with 14120 MB memory:  -> device: 0, name: NVIDIA RTX A4000, pci bus id: 0000:c3:00.0, compute capability: 8.6\n"
          ]
        }
      ],
      "source": [
        "METRICS = [\n",
        "      keras.metrics.TruePositives(name='tp'),\n",
        "      keras.metrics.FalsePositives(name='fp'),\n",
        "      keras.metrics.TrueNegatives(name='tn'),\n",
        "      keras.metrics.FalseNegatives(name='fn'),\n",
        "      keras.metrics.BinaryAccuracy(name='accuracy'),\n",
        "      keras.metrics.Precision(name='precision'),\n",
        "      keras.metrics.Recall(name='recall'),\n",
        "      keras.metrics.AUC(name='auc'),\n",
        "      keras.metrics.AUC(name='prc', curve='PR'), # precision-recall curve\n",
        "]"
      ]
    },
    {
      "cell_type": "markdown",
      "metadata": {
        "id": "N6bQjUrPXPaI"
      },
      "source": [
        "# 1- Load Data"
      ]
    },
    {
      "cell_type": "code",
      "execution_count": 3,
      "metadata": {
        "colab": {
          "base_uri": "https://localhost:8080/",
          "height": 533
        },
        "id": "UXVFQgZNaNrg",
        "outputId": "d250b076-aa61-46d9-d165-ab7a7a24aee3"
      },
      "outputs": [
        {
          "data": {
            "text/html": [
              "<div>\n",
              "<style scoped>\n",
              "    .dataframe tbody tr th:only-of-type {\n",
              "        vertical-align: middle;\n",
              "    }\n",
              "\n",
              "    .dataframe tbody tr th {\n",
              "        vertical-align: top;\n",
              "    }\n",
              "\n",
              "    .dataframe thead th {\n",
              "        text-align: right;\n",
              "    }\n",
              "</style>\n",
              "<table border=\"1\" class=\"dataframe\">\n",
              "  <thead>\n",
              "    <tr style=\"text-align: right;\">\n",
              "      <th></th>\n",
              "      <th>2000</th>\n",
              "      <th>2003</th>\n",
              "      <th>2006</th>\n",
              "      <th>2009</th>\n",
              "      <th>2012</th>\n",
              "      <th>2015</th>\n",
              "      <th>2018</th>\n",
              "      <th>2021</th>\n",
              "      <th>2024</th>\n",
              "      <th>2027</th>\n",
              "      <th>...</th>\n",
              "      <th>19988</th>\n",
              "      <th>19991</th>\n",
              "      <th>19994</th>\n",
              "      <th>19997</th>\n",
              "      <th>code</th>\n",
              "      <th>species</th>\n",
              "      <th>Ciprofloxacin</th>\n",
              "      <th>Ceftriaxone</th>\n",
              "      <th>Cefepime</th>\n",
              "      <th>Piperacillin-Tazobactam</th>\n",
              "    </tr>\n",
              "  </thead>\n",
              "  <tbody>\n",
              "    <tr>\n",
              "      <th>0</th>\n",
              "      <td>1067.142857</td>\n",
              "      <td>1251.714286</td>\n",
              "      <td>1310.571429</td>\n",
              "      <td>1021.142857</td>\n",
              "      <td>1315.625000</td>\n",
              "      <td>974.000000</td>\n",
              "      <td>936.857143</td>\n",
              "      <td>853.571429</td>\n",
              "      <td>936.142857</td>\n",
              "      <td>1044.285714</td>\n",
              "      <td>...</td>\n",
              "      <td>21.5</td>\n",
              "      <td>6.500000</td>\n",
              "      <td>4.666667</td>\n",
              "      <td>17.585859</td>\n",
              "      <td>dcd5aa31-b254-4961-b69f-ccc8c0572b27</td>\n",
              "      <td>Escherichia coli</td>\n",
              "      <td>0.0</td>\n",
              "      <td>0.0</td>\n",
              "      <td>0.0</td>\n",
              "      <td>0.0</td>\n",
              "    </tr>\n",
              "    <tr>\n",
              "      <th>1</th>\n",
              "      <td>1872.857143</td>\n",
              "      <td>1677.285714</td>\n",
              "      <td>2035.714286</td>\n",
              "      <td>2086.250000</td>\n",
              "      <td>1930.571429</td>\n",
              "      <td>2017.142857</td>\n",
              "      <td>1856.857143</td>\n",
              "      <td>1655.857143</td>\n",
              "      <td>1547.142857</td>\n",
              "      <td>1713.000000</td>\n",
              "      <td>...</td>\n",
              "      <td>21.0</td>\n",
              "      <td>15.000000</td>\n",
              "      <td>26.500000</td>\n",
              "      <td>21.736842</td>\n",
              "      <td>dfcb7221-e4f8-4a39-b661-7e439f19e93d</td>\n",
              "      <td>Escherichia coli</td>\n",
              "      <td>0.0</td>\n",
              "      <td>0.0</td>\n",
              "      <td>0.0</td>\n",
              "      <td>0.0</td>\n",
              "    </tr>\n",
              "    <tr>\n",
              "      <th>2</th>\n",
              "      <td>3258.142857</td>\n",
              "      <td>3209.428571</td>\n",
              "      <td>3068.571429</td>\n",
              "      <td>3162.428571</td>\n",
              "      <td>3275.000000</td>\n",
              "      <td>3324.571429</td>\n",
              "      <td>2999.000000</td>\n",
              "      <td>2970.500000</td>\n",
              "      <td>3213.000000</td>\n",
              "      <td>3205.571429</td>\n",
              "      <td>...</td>\n",
              "      <td>17.0</td>\n",
              "      <td>17.000000</td>\n",
              "      <td>30.000000</td>\n",
              "      <td>19.125000</td>\n",
              "      <td>d5bb4389-5053-4107-9c05-bfed9e9159c9</td>\n",
              "      <td>Escherichia coli</td>\n",
              "      <td>0.0</td>\n",
              "      <td>0.0</td>\n",
              "      <td>0.0</td>\n",
              "      <td>0.0</td>\n",
              "    </tr>\n",
              "    <tr>\n",
              "      <th>3</th>\n",
              "      <td>18912.571429</td>\n",
              "      <td>19530.571429</td>\n",
              "      <td>19464.875000</td>\n",
              "      <td>19098.714286</td>\n",
              "      <td>18994.714286</td>\n",
              "      <td>18936.285714</td>\n",
              "      <td>19208.571429</td>\n",
              "      <td>19417.571429</td>\n",
              "      <td>19486.857143</td>\n",
              "      <td>19048.625000</td>\n",
              "      <td>...</td>\n",
              "      <td>299.0</td>\n",
              "      <td>339.500000</td>\n",
              "      <td>359.000000</td>\n",
              "      <td>311.746032</td>\n",
              "      <td>4e14943f-ae22-42ed-aef5-65430470dcfa</td>\n",
              "      <td>Escherichia coli</td>\n",
              "      <td>0.0</td>\n",
              "      <td>0.0</td>\n",
              "      <td>0.0</td>\n",
              "      <td>0.0</td>\n",
              "    </tr>\n",
              "    <tr>\n",
              "      <th>4</th>\n",
              "      <td>1685.000000</td>\n",
              "      <td>1537.428571</td>\n",
              "      <td>1283.714286</td>\n",
              "      <td>1472.285714</td>\n",
              "      <td>1370.142857</td>\n",
              "      <td>1402.142857</td>\n",
              "      <td>1397.500000</td>\n",
              "      <td>1422.142857</td>\n",
              "      <td>1725.285714</td>\n",
              "      <td>3386.714286</td>\n",
              "      <td>...</td>\n",
              "      <td>32.5</td>\n",
              "      <td>48.333333</td>\n",
              "      <td>66.500000</td>\n",
              "      <td>39.230769</td>\n",
              "      <td>617f14d0-86b1-4c28-8995-b02006a85e81</td>\n",
              "      <td>Escherichia coli</td>\n",
              "      <td>1.0</td>\n",
              "      <td>1.0</td>\n",
              "      <td>1.0</td>\n",
              "      <td>1.0</td>\n",
              "    </tr>\n",
              "  </tbody>\n",
              "</table>\n",
              "<p>5 rows × 6006 columns</p>\n",
              "</div>"
            ],
            "text/plain": [
              "           2000          2003          2006          2009          2012  \\\n",
              "0   1067.142857   1251.714286   1310.571429   1021.142857   1315.625000   \n",
              "1   1872.857143   1677.285714   2035.714286   2086.250000   1930.571429   \n",
              "2   3258.142857   3209.428571   3068.571429   3162.428571   3275.000000   \n",
              "3  18912.571429  19530.571429  19464.875000  19098.714286  18994.714286   \n",
              "4   1685.000000   1537.428571   1283.714286   1472.285714   1370.142857   \n",
              "\n",
              "           2015          2018          2021          2024          2027  ...  \\\n",
              "0    974.000000    936.857143    853.571429    936.142857   1044.285714  ...   \n",
              "1   2017.142857   1856.857143   1655.857143   1547.142857   1713.000000  ...   \n",
              "2   3324.571429   2999.000000   2970.500000   3213.000000   3205.571429  ...   \n",
              "3  18936.285714  19208.571429  19417.571429  19486.857143  19048.625000  ...   \n",
              "4   1402.142857   1397.500000   1422.142857   1725.285714   3386.714286  ...   \n",
              "\n",
              "   19988       19991       19994       19997  \\\n",
              "0   21.5    6.500000    4.666667   17.585859   \n",
              "1   21.0   15.000000   26.500000   21.736842   \n",
              "2   17.0   17.000000   30.000000   19.125000   \n",
              "3  299.0  339.500000  359.000000  311.746032   \n",
              "4   32.5   48.333333   66.500000   39.230769   \n",
              "\n",
              "                                   code           species  Ciprofloxacin  \\\n",
              "0  dcd5aa31-b254-4961-b69f-ccc8c0572b27  Escherichia coli            0.0   \n",
              "1  dfcb7221-e4f8-4a39-b661-7e439f19e93d  Escherichia coli            0.0   \n",
              "2  d5bb4389-5053-4107-9c05-bfed9e9159c9  Escherichia coli            0.0   \n",
              "3  4e14943f-ae22-42ed-aef5-65430470dcfa  Escherichia coli            0.0   \n",
              "4  617f14d0-86b1-4c28-8995-b02006a85e81  Escherichia coli            1.0   \n",
              "\n",
              "   Ceftriaxone  Cefepime  Piperacillin-Tazobactam  \n",
              "0          0.0       0.0                      0.0  \n",
              "1          0.0       0.0                      0.0  \n",
              "2          0.0       0.0                      0.0  \n",
              "3          0.0       0.0                      0.0  \n",
              "4          1.0       1.0                      1.0  \n",
              "\n",
              "[5 rows x 6006 columns]"
            ]
          },
          "execution_count": 3,
          "metadata": {},
          "output_type": "execute_result"
        }
      ],
      "source": [
        "s_aureus = pd.read_csv('e_coli_driams_b_2000_20000Da_v2 (1).csv')\n",
        "s_aureus.head()"
      ]
    },
    {
      "cell_type": "markdown",
      "metadata": {
        "id": "NhURWBqqXoQp"
      },
      "source": [
        "# Preprocessing Data"
      ]
    },
    {
      "cell_type": "code",
      "execution_count": 4,
      "metadata": {
        "id": "koTco5gulH3G"
      },
      "outputs": [],
      "source": [
        "s_aureus = s_aureus.drop(columns=['code','species', 'Ceftriaxone', 'Cefepime', 'Piperacillin-Tazobactam'])\n",
        "s_aureus.dropna(axis=0, how=\"any\", inplace=True)"
      ]
    },
    {
      "cell_type": "code",
      "execution_count": 5,
      "metadata": {
        "colab": {
          "base_uri": "https://localhost:8080/",
          "height": 255
        },
        "id": "wZUfupfGtc7O",
        "outputId": "af1d2eac-096e-4a39-8406-586718f33d29"
      },
      "outputs": [
        {
          "data": {
            "text/html": [
              "<div>\n",
              "<style scoped>\n",
              "    .dataframe tbody tr th:only-of-type {\n",
              "        vertical-align: middle;\n",
              "    }\n",
              "\n",
              "    .dataframe tbody tr th {\n",
              "        vertical-align: top;\n",
              "    }\n",
              "\n",
              "    .dataframe thead th {\n",
              "        text-align: right;\n",
              "    }\n",
              "</style>\n",
              "<table border=\"1\" class=\"dataframe\">\n",
              "  <thead>\n",
              "    <tr style=\"text-align: right;\">\n",
              "      <th></th>\n",
              "      <th>2000</th>\n",
              "      <th>2003</th>\n",
              "      <th>2006</th>\n",
              "      <th>2009</th>\n",
              "      <th>2012</th>\n",
              "      <th>2015</th>\n",
              "      <th>2018</th>\n",
              "      <th>2021</th>\n",
              "      <th>2024</th>\n",
              "      <th>2027</th>\n",
              "      <th>...</th>\n",
              "      <th>19973</th>\n",
              "      <th>19976</th>\n",
              "      <th>19979</th>\n",
              "      <th>19982</th>\n",
              "      <th>19985</th>\n",
              "      <th>19988</th>\n",
              "      <th>19991</th>\n",
              "      <th>19994</th>\n",
              "      <th>19997</th>\n",
              "      <th>Ciprofloxacin</th>\n",
              "    </tr>\n",
              "  </thead>\n",
              "  <tbody>\n",
              "    <tr>\n",
              "      <th>0</th>\n",
              "      <td>1067.142857</td>\n",
              "      <td>1251.714286</td>\n",
              "      <td>1310.571429</td>\n",
              "      <td>1021.142857</td>\n",
              "      <td>1315.625000</td>\n",
              "      <td>974.000000</td>\n",
              "      <td>936.857143</td>\n",
              "      <td>853.571429</td>\n",
              "      <td>936.142857</td>\n",
              "      <td>1044.285714</td>\n",
              "      <td>...</td>\n",
              "      <td>19.666667</td>\n",
              "      <td>20.000000</td>\n",
              "      <td>23.0</td>\n",
              "      <td>42.666667</td>\n",
              "      <td>15.000000</td>\n",
              "      <td>21.5</td>\n",
              "      <td>6.500000</td>\n",
              "      <td>4.666667</td>\n",
              "      <td>17.585859</td>\n",
              "      <td>0.0</td>\n",
              "    </tr>\n",
              "    <tr>\n",
              "      <th>1</th>\n",
              "      <td>1872.857143</td>\n",
              "      <td>1677.285714</td>\n",
              "      <td>2035.714286</td>\n",
              "      <td>2086.250000</td>\n",
              "      <td>1930.571429</td>\n",
              "      <td>2017.142857</td>\n",
              "      <td>1856.857143</td>\n",
              "      <td>1655.857143</td>\n",
              "      <td>1547.142857</td>\n",
              "      <td>1713.000000</td>\n",
              "      <td>...</td>\n",
              "      <td>32.000000</td>\n",
              "      <td>29.666667</td>\n",
              "      <td>30.0</td>\n",
              "      <td>18.000000</td>\n",
              "      <td>17.000000</td>\n",
              "      <td>21.0</td>\n",
              "      <td>15.000000</td>\n",
              "      <td>26.500000</td>\n",
              "      <td>21.736842</td>\n",
              "      <td>0.0</td>\n",
              "    </tr>\n",
              "    <tr>\n",
              "      <th>2</th>\n",
              "      <td>3258.142857</td>\n",
              "      <td>3209.428571</td>\n",
              "      <td>3068.571429</td>\n",
              "      <td>3162.428571</td>\n",
              "      <td>3275.000000</td>\n",
              "      <td>3324.571429</td>\n",
              "      <td>2999.000000</td>\n",
              "      <td>2970.500000</td>\n",
              "      <td>3213.000000</td>\n",
              "      <td>3205.571429</td>\n",
              "      <td>...</td>\n",
              "      <td>19.666667</td>\n",
              "      <td>20.000000</td>\n",
              "      <td>23.5</td>\n",
              "      <td>14.500000</td>\n",
              "      <td>13.666667</td>\n",
              "      <td>17.0</td>\n",
              "      <td>17.000000</td>\n",
              "      <td>30.000000</td>\n",
              "      <td>19.125000</td>\n",
              "      <td>0.0</td>\n",
              "    </tr>\n",
              "    <tr>\n",
              "      <th>3</th>\n",
              "      <td>18912.571429</td>\n",
              "      <td>19530.571429</td>\n",
              "      <td>19464.875000</td>\n",
              "      <td>19098.714286</td>\n",
              "      <td>18994.714286</td>\n",
              "      <td>18936.285714</td>\n",
              "      <td>19208.571429</td>\n",
              "      <td>19417.571429</td>\n",
              "      <td>19486.857143</td>\n",
              "      <td>19048.625000</td>\n",
              "      <td>...</td>\n",
              "      <td>299.000000</td>\n",
              "      <td>269.333333</td>\n",
              "      <td>282.0</td>\n",
              "      <td>300.500000</td>\n",
              "      <td>311.000000</td>\n",
              "      <td>299.0</td>\n",
              "      <td>339.500000</td>\n",
              "      <td>359.000000</td>\n",
              "      <td>311.746032</td>\n",
              "      <td>0.0</td>\n",
              "    </tr>\n",
              "    <tr>\n",
              "      <th>4</th>\n",
              "      <td>1685.000000</td>\n",
              "      <td>1537.428571</td>\n",
              "      <td>1283.714286</td>\n",
              "      <td>1472.285714</td>\n",
              "      <td>1370.142857</td>\n",
              "      <td>1402.142857</td>\n",
              "      <td>1397.500000</td>\n",
              "      <td>1422.142857</td>\n",
              "      <td>1725.285714</td>\n",
              "      <td>3386.714286</td>\n",
              "      <td>...</td>\n",
              "      <td>25.000000</td>\n",
              "      <td>34.000000</td>\n",
              "      <td>33.0</td>\n",
              "      <td>37.333333</td>\n",
              "      <td>21.000000</td>\n",
              "      <td>32.5</td>\n",
              "      <td>48.333333</td>\n",
              "      <td>66.500000</td>\n",
              "      <td>39.230769</td>\n",
              "      <td>1.0</td>\n",
              "    </tr>\n",
              "  </tbody>\n",
              "</table>\n",
              "<p>5 rows × 6001 columns</p>\n",
              "</div>"
            ],
            "text/plain": [
              "           2000          2003          2006          2009          2012  \\\n",
              "0   1067.142857   1251.714286   1310.571429   1021.142857   1315.625000   \n",
              "1   1872.857143   1677.285714   2035.714286   2086.250000   1930.571429   \n",
              "2   3258.142857   3209.428571   3068.571429   3162.428571   3275.000000   \n",
              "3  18912.571429  19530.571429  19464.875000  19098.714286  18994.714286   \n",
              "4   1685.000000   1537.428571   1283.714286   1472.285714   1370.142857   \n",
              "\n",
              "           2015          2018          2021          2024          2027  ...  \\\n",
              "0    974.000000    936.857143    853.571429    936.142857   1044.285714  ...   \n",
              "1   2017.142857   1856.857143   1655.857143   1547.142857   1713.000000  ...   \n",
              "2   3324.571429   2999.000000   2970.500000   3213.000000   3205.571429  ...   \n",
              "3  18936.285714  19208.571429  19417.571429  19486.857143  19048.625000  ...   \n",
              "4   1402.142857   1397.500000   1422.142857   1725.285714   3386.714286  ...   \n",
              "\n",
              "        19973       19976  19979       19982       19985  19988       19991  \\\n",
              "0   19.666667   20.000000   23.0   42.666667   15.000000   21.5    6.500000   \n",
              "1   32.000000   29.666667   30.0   18.000000   17.000000   21.0   15.000000   \n",
              "2   19.666667   20.000000   23.5   14.500000   13.666667   17.0   17.000000   \n",
              "3  299.000000  269.333333  282.0  300.500000  311.000000  299.0  339.500000   \n",
              "4   25.000000   34.000000   33.0   37.333333   21.000000   32.5   48.333333   \n",
              "\n",
              "        19994       19997  Ciprofloxacin  \n",
              "0    4.666667   17.585859            0.0  \n",
              "1   26.500000   21.736842            0.0  \n",
              "2   30.000000   19.125000            0.0  \n",
              "3  359.000000  311.746032            0.0  \n",
              "4   66.500000   39.230769            1.0  \n",
              "\n",
              "[5 rows x 6001 columns]"
            ]
          },
          "execution_count": 5,
          "metadata": {},
          "output_type": "execute_result"
        }
      ],
      "source": [
        "s_aureus.head()"
      ]
    },
    {
      "cell_type": "code",
      "execution_count": 6,
      "metadata": {},
      "outputs": [
        {
          "data": {
            "text/html": [
              "<div>\n",
              "<style scoped>\n",
              "    .dataframe tbody tr th:only-of-type {\n",
              "        vertical-align: middle;\n",
              "    }\n",
              "\n",
              "    .dataframe tbody tr th {\n",
              "        vertical-align: top;\n",
              "    }\n",
              "\n",
              "    .dataframe thead th {\n",
              "        text-align: right;\n",
              "    }\n",
              "</style>\n",
              "<table border=\"1\" class=\"dataframe\">\n",
              "  <thead>\n",
              "    <tr style=\"text-align: right;\">\n",
              "      <th></th>\n",
              "      <th>2000</th>\n",
              "      <th>2003</th>\n",
              "      <th>2006</th>\n",
              "      <th>2009</th>\n",
              "      <th>2012</th>\n",
              "      <th>2015</th>\n",
              "      <th>2018</th>\n",
              "      <th>2021</th>\n",
              "      <th>2024</th>\n",
              "      <th>2027</th>\n",
              "      <th>...</th>\n",
              "      <th>19973</th>\n",
              "      <th>19976</th>\n",
              "      <th>19979</th>\n",
              "      <th>19982</th>\n",
              "      <th>19985</th>\n",
              "      <th>19988</th>\n",
              "      <th>19991</th>\n",
              "      <th>19994</th>\n",
              "      <th>19997</th>\n",
              "      <th>Ciprofloxacin</th>\n",
              "    </tr>\n",
              "  </thead>\n",
              "  <tbody>\n",
              "    <tr>\n",
              "      <th>0</th>\n",
              "      <td>1067.142857</td>\n",
              "      <td>1251.714286</td>\n",
              "      <td>1310.571429</td>\n",
              "      <td>1021.142857</td>\n",
              "      <td>1315.625000</td>\n",
              "      <td>974.000000</td>\n",
              "      <td>936.857143</td>\n",
              "      <td>853.571429</td>\n",
              "      <td>936.142857</td>\n",
              "      <td>1044.285714</td>\n",
              "      <td>...</td>\n",
              "      <td>19.666667</td>\n",
              "      <td>20.000000</td>\n",
              "      <td>23.000000</td>\n",
              "      <td>42.666667</td>\n",
              "      <td>15.000000</td>\n",
              "      <td>21.500000</td>\n",
              "      <td>6.500000</td>\n",
              "      <td>4.666667</td>\n",
              "      <td>17.585859</td>\n",
              "      <td>0.0</td>\n",
              "    </tr>\n",
              "    <tr>\n",
              "      <th>1</th>\n",
              "      <td>1872.857143</td>\n",
              "      <td>1677.285714</td>\n",
              "      <td>2035.714286</td>\n",
              "      <td>2086.250000</td>\n",
              "      <td>1930.571429</td>\n",
              "      <td>2017.142857</td>\n",
              "      <td>1856.857143</td>\n",
              "      <td>1655.857143</td>\n",
              "      <td>1547.142857</td>\n",
              "      <td>1713.000000</td>\n",
              "      <td>...</td>\n",
              "      <td>32.000000</td>\n",
              "      <td>29.666667</td>\n",
              "      <td>30.000000</td>\n",
              "      <td>18.000000</td>\n",
              "      <td>17.000000</td>\n",
              "      <td>21.000000</td>\n",
              "      <td>15.000000</td>\n",
              "      <td>26.500000</td>\n",
              "      <td>21.736842</td>\n",
              "      <td>0.0</td>\n",
              "    </tr>\n",
              "    <tr>\n",
              "      <th>2</th>\n",
              "      <td>3258.142857</td>\n",
              "      <td>3209.428571</td>\n",
              "      <td>3068.571429</td>\n",
              "      <td>3162.428571</td>\n",
              "      <td>3275.000000</td>\n",
              "      <td>3324.571429</td>\n",
              "      <td>2999.000000</td>\n",
              "      <td>2970.500000</td>\n",
              "      <td>3213.000000</td>\n",
              "      <td>3205.571429</td>\n",
              "      <td>...</td>\n",
              "      <td>19.666667</td>\n",
              "      <td>20.000000</td>\n",
              "      <td>23.500000</td>\n",
              "      <td>14.500000</td>\n",
              "      <td>13.666667</td>\n",
              "      <td>17.000000</td>\n",
              "      <td>17.000000</td>\n",
              "      <td>30.000000</td>\n",
              "      <td>19.125000</td>\n",
              "      <td>0.0</td>\n",
              "    </tr>\n",
              "    <tr>\n",
              "      <th>3</th>\n",
              "      <td>18912.571429</td>\n",
              "      <td>19530.571429</td>\n",
              "      <td>19464.875000</td>\n",
              "      <td>19098.714286</td>\n",
              "      <td>18994.714286</td>\n",
              "      <td>18936.285714</td>\n",
              "      <td>19208.571429</td>\n",
              "      <td>19417.571429</td>\n",
              "      <td>19486.857143</td>\n",
              "      <td>19048.625000</td>\n",
              "      <td>...</td>\n",
              "      <td>299.000000</td>\n",
              "      <td>269.333333</td>\n",
              "      <td>282.000000</td>\n",
              "      <td>300.500000</td>\n",
              "      <td>311.000000</td>\n",
              "      <td>299.000000</td>\n",
              "      <td>339.500000</td>\n",
              "      <td>359.000000</td>\n",
              "      <td>311.746032</td>\n",
              "      <td>0.0</td>\n",
              "    </tr>\n",
              "    <tr>\n",
              "      <th>4</th>\n",
              "      <td>1685.000000</td>\n",
              "      <td>1537.428571</td>\n",
              "      <td>1283.714286</td>\n",
              "      <td>1472.285714</td>\n",
              "      <td>1370.142857</td>\n",
              "      <td>1402.142857</td>\n",
              "      <td>1397.500000</td>\n",
              "      <td>1422.142857</td>\n",
              "      <td>1725.285714</td>\n",
              "      <td>3386.714286</td>\n",
              "      <td>...</td>\n",
              "      <td>25.000000</td>\n",
              "      <td>34.000000</td>\n",
              "      <td>33.000000</td>\n",
              "      <td>37.333333</td>\n",
              "      <td>21.000000</td>\n",
              "      <td>32.500000</td>\n",
              "      <td>48.333333</td>\n",
              "      <td>66.500000</td>\n",
              "      <td>39.230769</td>\n",
              "      <td>1.0</td>\n",
              "    </tr>\n",
              "    <tr>\n",
              "      <th>...</th>\n",
              "      <td>...</td>\n",
              "      <td>...</td>\n",
              "      <td>...</td>\n",
              "      <td>...</td>\n",
              "      <td>...</td>\n",
              "      <td>...</td>\n",
              "      <td>...</td>\n",
              "      <td>...</td>\n",
              "      <td>...</td>\n",
              "      <td>...</td>\n",
              "      <td>...</td>\n",
              "      <td>...</td>\n",
              "      <td>...</td>\n",
              "      <td>...</td>\n",
              "      <td>...</td>\n",
              "      <td>...</td>\n",
              "      <td>...</td>\n",
              "      <td>...</td>\n",
              "      <td>...</td>\n",
              "      <td>...</td>\n",
              "      <td>...</td>\n",
              "    </tr>\n",
              "    <tr>\n",
              "      <th>208</th>\n",
              "      <td>1933.285714</td>\n",
              "      <td>1956.500000</td>\n",
              "      <td>2012.571429</td>\n",
              "      <td>1882.000000</td>\n",
              "      <td>1955.142857</td>\n",
              "      <td>1951.285714</td>\n",
              "      <td>1943.714286</td>\n",
              "      <td>2055.125000</td>\n",
              "      <td>1928.857143</td>\n",
              "      <td>1687.571429</td>\n",
              "      <td>...</td>\n",
              "      <td>140.500000</td>\n",
              "      <td>144.500000</td>\n",
              "      <td>102.666667</td>\n",
              "      <td>123.500000</td>\n",
              "      <td>113.500000</td>\n",
              "      <td>121.000000</td>\n",
              "      <td>126.666667</td>\n",
              "      <td>147.500000</td>\n",
              "      <td>122.560748</td>\n",
              "      <td>1.0</td>\n",
              "    </tr>\n",
              "    <tr>\n",
              "      <th>209</th>\n",
              "      <td>7296.714286</td>\n",
              "      <td>6215.714286</td>\n",
              "      <td>6115.500000</td>\n",
              "      <td>6069.000000</td>\n",
              "      <td>6585.857143</td>\n",
              "      <td>6207.857143</td>\n",
              "      <td>5809.142857</td>\n",
              "      <td>5879.142857</td>\n",
              "      <td>6068.714286</td>\n",
              "      <td>8413.125000</td>\n",
              "      <td>...</td>\n",
              "      <td>163.000000</td>\n",
              "      <td>191.500000</td>\n",
              "      <td>151.000000</td>\n",
              "      <td>180.666667</td>\n",
              "      <td>188.500000</td>\n",
              "      <td>163.500000</td>\n",
              "      <td>183.000000</td>\n",
              "      <td>173.000000</td>\n",
              "      <td>178.163462</td>\n",
              "      <td>1.0</td>\n",
              "    </tr>\n",
              "    <tr>\n",
              "      <th>210</th>\n",
              "      <td>2604.500000</td>\n",
              "      <td>2626.857143</td>\n",
              "      <td>2614.857143</td>\n",
              "      <td>2408.142857</td>\n",
              "      <td>2628.428571</td>\n",
              "      <td>2723.571429</td>\n",
              "      <td>2561.142857</td>\n",
              "      <td>2282.000000</td>\n",
              "      <td>2479.375000</td>\n",
              "      <td>2511.571429</td>\n",
              "      <td>...</td>\n",
              "      <td>21.000000</td>\n",
              "      <td>4.000000</td>\n",
              "      <td>11.500000</td>\n",
              "      <td>20.000000</td>\n",
              "      <td>19.500000</td>\n",
              "      <td>19.000000</td>\n",
              "      <td>10.500000</td>\n",
              "      <td>4.666667</td>\n",
              "      <td>13.857143</td>\n",
              "      <td>1.0</td>\n",
              "    </tr>\n",
              "    <tr>\n",
              "      <th>211</th>\n",
              "      <td>1341.142857</td>\n",
              "      <td>1190.000000</td>\n",
              "      <td>1399.142857</td>\n",
              "      <td>1469.000000</td>\n",
              "      <td>1126.000000</td>\n",
              "      <td>1049.428571</td>\n",
              "      <td>958.857143</td>\n",
              "      <td>1092.000000</td>\n",
              "      <td>1206.857143</td>\n",
              "      <td>1211.000000</td>\n",
              "      <td>...</td>\n",
              "      <td>18.000000</td>\n",
              "      <td>21.500000</td>\n",
              "      <td>15.666667</td>\n",
              "      <td>18.000000</td>\n",
              "      <td>18.000000</td>\n",
              "      <td>22.666667</td>\n",
              "      <td>17.500000</td>\n",
              "      <td>17.000000</td>\n",
              "      <td>20.863636</td>\n",
              "      <td>0.0</td>\n",
              "    </tr>\n",
              "    <tr>\n",
              "      <th>212</th>\n",
              "      <td>12397.285714</td>\n",
              "      <td>12106.714286</td>\n",
              "      <td>13133.285714</td>\n",
              "      <td>11587.142857</td>\n",
              "      <td>14039.285714</td>\n",
              "      <td>12262.375000</td>\n",
              "      <td>11038.428571</td>\n",
              "      <td>10385.428571</td>\n",
              "      <td>10270.857143</td>\n",
              "      <td>11389.428571</td>\n",
              "      <td>...</td>\n",
              "      <td>360.500000</td>\n",
              "      <td>401.500000</td>\n",
              "      <td>359.666667</td>\n",
              "      <td>391.500000</td>\n",
              "      <td>379.500000</td>\n",
              "      <td>355.000000</td>\n",
              "      <td>366.333333</td>\n",
              "      <td>329.000000</td>\n",
              "      <td>365.190476</td>\n",
              "      <td>0.0</td>\n",
              "    </tr>\n",
              "  </tbody>\n",
              "</table>\n",
              "<p>213 rows × 6001 columns</p>\n",
              "</div>"
            ],
            "text/plain": [
              "             2000          2003          2006          2009          2012  \\\n",
              "0     1067.142857   1251.714286   1310.571429   1021.142857   1315.625000   \n",
              "1     1872.857143   1677.285714   2035.714286   2086.250000   1930.571429   \n",
              "2     3258.142857   3209.428571   3068.571429   3162.428571   3275.000000   \n",
              "3    18912.571429  19530.571429  19464.875000  19098.714286  18994.714286   \n",
              "4     1685.000000   1537.428571   1283.714286   1472.285714   1370.142857   \n",
              "..            ...           ...           ...           ...           ...   \n",
              "208   1933.285714   1956.500000   2012.571429   1882.000000   1955.142857   \n",
              "209   7296.714286   6215.714286   6115.500000   6069.000000   6585.857143   \n",
              "210   2604.500000   2626.857143   2614.857143   2408.142857   2628.428571   \n",
              "211   1341.142857   1190.000000   1399.142857   1469.000000   1126.000000   \n",
              "212  12397.285714  12106.714286  13133.285714  11587.142857  14039.285714   \n",
              "\n",
              "             2015          2018          2021          2024          2027  \\\n",
              "0      974.000000    936.857143    853.571429    936.142857   1044.285714   \n",
              "1     2017.142857   1856.857143   1655.857143   1547.142857   1713.000000   \n",
              "2     3324.571429   2999.000000   2970.500000   3213.000000   3205.571429   \n",
              "3    18936.285714  19208.571429  19417.571429  19486.857143  19048.625000   \n",
              "4     1402.142857   1397.500000   1422.142857   1725.285714   3386.714286   \n",
              "..            ...           ...           ...           ...           ...   \n",
              "208   1951.285714   1943.714286   2055.125000   1928.857143   1687.571429   \n",
              "209   6207.857143   5809.142857   5879.142857   6068.714286   8413.125000   \n",
              "210   2723.571429   2561.142857   2282.000000   2479.375000   2511.571429   \n",
              "211   1049.428571    958.857143   1092.000000   1206.857143   1211.000000   \n",
              "212  12262.375000  11038.428571  10385.428571  10270.857143  11389.428571   \n",
              "\n",
              "     ...       19973       19976       19979       19982       19985  \\\n",
              "0    ...   19.666667   20.000000   23.000000   42.666667   15.000000   \n",
              "1    ...   32.000000   29.666667   30.000000   18.000000   17.000000   \n",
              "2    ...   19.666667   20.000000   23.500000   14.500000   13.666667   \n",
              "3    ...  299.000000  269.333333  282.000000  300.500000  311.000000   \n",
              "4    ...   25.000000   34.000000   33.000000   37.333333   21.000000   \n",
              "..   ...         ...         ...         ...         ...         ...   \n",
              "208  ...  140.500000  144.500000  102.666667  123.500000  113.500000   \n",
              "209  ...  163.000000  191.500000  151.000000  180.666667  188.500000   \n",
              "210  ...   21.000000    4.000000   11.500000   20.000000   19.500000   \n",
              "211  ...   18.000000   21.500000   15.666667   18.000000   18.000000   \n",
              "212  ...  360.500000  401.500000  359.666667  391.500000  379.500000   \n",
              "\n",
              "          19988       19991       19994       19997  Ciprofloxacin  \n",
              "0     21.500000    6.500000    4.666667   17.585859            0.0  \n",
              "1     21.000000   15.000000   26.500000   21.736842            0.0  \n",
              "2     17.000000   17.000000   30.000000   19.125000            0.0  \n",
              "3    299.000000  339.500000  359.000000  311.746032            0.0  \n",
              "4     32.500000   48.333333   66.500000   39.230769            1.0  \n",
              "..          ...         ...         ...         ...            ...  \n",
              "208  121.000000  126.666667  147.500000  122.560748            1.0  \n",
              "209  163.500000  183.000000  173.000000  178.163462            1.0  \n",
              "210   19.000000   10.500000    4.666667   13.857143            1.0  \n",
              "211   22.666667   17.500000   17.000000   20.863636            0.0  \n",
              "212  355.000000  366.333333  329.000000  365.190476            0.0  \n",
              "\n",
              "[213 rows x 6001 columns]"
            ]
          },
          "execution_count": 6,
          "metadata": {},
          "output_type": "execute_result"
        }
      ],
      "source": [
        "s_aureus"
      ]
    },
    {
      "cell_type": "code",
      "execution_count": 7,
      "metadata": {},
      "outputs": [],
      "source": [
        "X = s_aureus.iloc[:, 0:6000].values  # variables independientes (espectros de masa)\n",
        "y = s_aureus.iloc[:, 6000].values    # variable dependientes (resistencia a ciprofloxacin)\n",
        "X = np.asarray(X).astype(np.float32)\n",
        "y = np.asarray(y).astype(np.float32)\n"
      ]
    },
    {
      "cell_type": "code",
      "execution_count": 8,
      "metadata": {},
      "outputs": [],
      "source": [
        "X_train, X_test, y_train, y_test = train_test_split(X, y, test_size = 0.2, random_state = 0, stratify=y)"
      ]
    },
    {
      "cell_type": "code",
      "execution_count": 9,
      "metadata": {},
      "outputs": [],
      "source": [
        "bacteria = s_aureus.columns[-1]"
      ]
    },
    {
      "cell_type": "code",
      "execution_count": 10,
      "metadata": {},
      "outputs": [],
      "source": [
        "cantidadTecOS = 3 # cantidad de tecnicas de oversampling"
      ]
    },
    {
      "cell_type": "markdown",
      "metadata": {},
      "source": [
        "## Enfoque en clase minoritaria"
      ]
    },
    {
      "cell_type": "code",
      "execution_count": 11,
      "metadata": {},
      "outputs": [],
      "source": [
        "minority_class = s_aureus[s_aureus[bacteria] == 1].drop(columns=[bacteria])\n"
      ]
    },
    {
      "cell_type": "code",
      "execution_count": 12,
      "metadata": {},
      "outputs": [],
      "source": [
        "etiquetas = s_aureus[s_aureus[bacteria] == 1].iloc[:, 6000].values"
      ]
    },
    {
      "cell_type": "markdown",
      "metadata": {},
      "source": [
        "## Diffusion model\n"
      ]
    },
    {
      "cell_type": "code",
      "execution_count": 13,
      "metadata": {},
      "outputs": [],
      "source": [
        "import torch\n",
        "import torch.nn as nn\n"
      ]
    },
    {
      "cell_type": "code",
      "execution_count": 14,
      "metadata": {},
      "outputs": [],
      "source": [
        "torch.manual_seed(42)\n",
        "np.random.seed(42)"
      ]
    },
    {
      "cell_type": "code",
      "execution_count": 15,
      "metadata": {},
      "outputs": [],
      "source": [
        "# Preprocesamiento\n",
        "scaler = StandardScaler()\n",
        "scaled_data = scaler.fit_transform(X_train)"
      ]
    },
    {
      "cell_type": "code",
      "execution_count": 16,
      "metadata": {},
      "outputs": [],
      "source": [
        "# Modelo de Difusión\n",
        "class DiffusionModel(nn.Module):\n",
        "    def __init__(self, input_dim):\n",
        "        super(DiffusionModel, self).__init__()\n",
        "        self.model = nn.Sequential( \n",
        "            nn.Linear(input_dim, 64),\n",
        "            nn.ReLU(),\n",
        "            nn.Dropout(p=0.2),  # Regularización Dropout\n",
        "            nn.Linear(64, 32),\n",
        "            nn.ReLU(),\n",
        "            nn.Dropout(p=0.2),  # Regularización Dropout\n",
        "            nn.Linear(32, input_dim)\n",
        "        )\n",
        "\n",
        "\n",
        "    def forward(self, x):\n",
        "        return self.model(x)\n"
      ]
    },
    {
      "cell_type": "code",
      "execution_count": 17,
      "metadata": {},
      "outputs": [],
      "source": [
        "# Función de ruido (Scheduler)\n",
        "def add_noise(data, timesteps, noise_scale=1.0):\n",
        "    noise = np.random.normal(0, noise_scale, data.shape) * np.sqrt(timesteps / 100)\n",
        "    noisy_data = data + noise\n",
        "    return noisy_data, noise\n"
      ]
    },
    {
      "cell_type": "code",
      "execution_count": 18,
      "metadata": {},
      "outputs": [],
      "source": [
        "# Configuración del modelo\n",
        "input_dim = scaled_data.shape[1]\n",
        "model = DiffusionModel(input_dim)\n",
        "optimizer = torch.optim.Adam(model.parameters(), lr=0.001)\n",
        "loss_fn = nn.SmoothL1Loss()  # O Huber Loss\n"
      ]
    },
    {
      "cell_type": "code",
      "execution_count": 19,
      "metadata": {},
      "outputs": [],
      "source": [
        "# Scheduler de tasa de aprendizaje\n",
        "scheduler = torch.optim.lr_scheduler.StepLR(optimizer, step_size=100, gamma=0.9)\n"
      ]
    },
    {
      "cell_type": "code",
      "execution_count": 20,
      "metadata": {},
      "outputs": [
        {
          "name": "stdout",
          "output_type": "stream",
          "text": [
            "Epoch 0/500 - Loss: 0.257081538438797\n",
            "Epoch 100/500 - Loss: 0.3211827874183655\n",
            "Epoch 200/500 - Loss: 0.27323541045188904\n",
            "Epoch 300/500 - Loss: 0.19250783324241638\n",
            "Epoch 400/500 - Loss: 0.3080591857433319\n"
          ]
        }
      ],
      "source": [
        "# Entrenamiento\n",
        "scaled_data_tensor = torch.tensor(scaled_data, dtype=torch.float32)\n",
        "epochs = 500\n",
        "losses = []  # Para guardar la pérdida por época\n",
        "\n",
        "for epoch in range(epochs):\n",
        "    timesteps = np.random.randint(1, 100)\n",
        "    noisy_data, noise = add_noise(scaled_data, timesteps)\n",
        "    noisy_data_tensor = torch.tensor(noisy_data, dtype=torch.float32)\n",
        "    noise_tensor = torch.tensor(noise, dtype=torch.float32)\n",
        "\n",
        "    optimizer.zero_grad()\n",
        "    predicted_noise = model(noisy_data_tensor)\n",
        "    loss = loss_fn(predicted_noise, noise_tensor)\n",
        "    loss.backward()\n",
        "    optimizer.step()\n",
        "    scheduler.step()  # Actualiza la tasa de aprendizaje\n",
        "\n",
        "    losses.append(loss.item())\n",
        "\n",
        "    if epoch % 100 == 0:\n",
        "        print(f\"Epoch {epoch}/{epochs} - Loss: {loss.item()}\")\n"
      ]
    },
    {
      "cell_type": "code",
      "execution_count": 21,
      "metadata": {},
      "outputs": [],
      "source": [
        "# Generación de Datos Sintéticos\n",
        "def generate_synthetic_data(model, num_samples, input_dim):\n",
        "    model.eval()\n",
        "    with torch.no_grad():\n",
        "        synthetic_data = np.random.normal(0, 1, (num_samples, input_dim))\n",
        "        for t in range(100, 0, -1):  # Reverse diffusion\n",
        "            synthetic_data = synthetic_data - model(torch.tensor(synthetic_data, dtype=torch.float32)).numpy() * (t / 100)\n",
        "        return synthetic_data"
      ]
    },
    {
      "cell_type": "code",
      "execution_count": 22,
      "metadata": {},
      "outputs": [
        {
          "data": {
            "text/plain": [
              "76"
            ]
          },
          "execution_count": 22,
          "metadata": {},
          "output_type": "execute_result"
        }
      ],
      "source": [
        "pd.Series(y_train).value_counts()[0]-pd.Series(y_train).value_counts()[1]"
      ]
    },
    {
      "cell_type": "code",
      "execution_count": 23,
      "metadata": {},
      "outputs": [],
      "source": [
        "\n",
        "synthetic_data = generate_synthetic_data(model, int((pd.Series(y_train).value_counts()[0]-pd.Series(y_train).value_counts()[1])/cantidadTecOS), input_dim)\n",
        "synthetic_data_rescaled = scaler.inverse_transform(synthetic_data)\n"
      ]
    },
    {
      "cell_type": "code",
      "execution_count": 24,
      "metadata": {},
      "outputs": [
        {
          "data": {
            "text/plain": [
              "(25, 6000)"
            ]
          },
          "execution_count": 24,
          "metadata": {},
          "output_type": "execute_result"
        }
      ],
      "source": [
        "synthetic_data_rescaled.shape"
      ]
    },
    {
      "cell_type": "code",
      "execution_count": 25,
      "metadata": {},
      "outputs": [
        {
          "data": {
            "text/plain": [
              "(25, 6000)"
            ]
          },
          "execution_count": 25,
          "metadata": {},
          "output_type": "execute_result"
        }
      ],
      "source": [
        "\n",
        "# Cambiar el tipo de datos a float32\n",
        "synthetic_samples_numpy_difussion = synthetic_data_rescaled.astype(np.float32)\n",
        "\n",
        "# Mostrar las muestras generadas\n",
        "synthetic_samples_numpy_difussion.shape"
      ]
    },
    {
      "cell_type": "code",
      "execution_count": 26,
      "metadata": {},
      "outputs": [],
      "source": [
        "X_train_resampled = np.concatenate([X_train,synthetic_samples_numpy_difussion])"
      ]
    },
    {
      "cell_type": "code",
      "execution_count": 27,
      "metadata": {},
      "outputs": [
        {
          "data": {
            "text/plain": [
              "(195, 6000)"
            ]
          },
          "execution_count": 27,
          "metadata": {},
          "output_type": "execute_result"
        }
      ],
      "source": [
        "X_train_resampled.shape"
      ]
    },
    {
      "cell_type": "code",
      "execution_count": 28,
      "metadata": {},
      "outputs": [
        {
          "data": {
            "text/plain": [
              "(195,)"
            ]
          },
          "execution_count": 28,
          "metadata": {},
          "output_type": "execute_result"
        }
      ],
      "source": [
        "ones_array = np.ones(int((pd.Series(y_train).value_counts()[0]-pd.Series(y_train).value_counts()[1])/cantidadTecOS))\n",
        "y_train_resampled = np.concatenate([y_train,ones_array])\n",
        "y_train_resampled.shape"
      ]
    },
    {
      "cell_type": "markdown",
      "metadata": {},
      "source": [
        "## SMOTE"
      ]
    },
    {
      "cell_type": "code",
      "execution_count": 29,
      "metadata": {},
      "outputs": [
        {
          "name": "stdout",
          "output_type": "stream",
          "text": [
            "Nuevas muestras generadas:\n",
            "(25, 6000)\n",
            "(25,)\n"
          ]
        }
      ],
      "source": [
        "from imblearn.over_sampling import SMOTE\n",
        "import numpy as np\n",
        "import pandas as pd\n",
        "\n",
        "# Número de muestras adicionales que deseas\n",
        "nuevas_muestras = int((pd.Series(y_train).value_counts()[0]-pd.Series(y_train).value_counts()[1])/cantidadTecOS)\n",
        "\n",
        "# Calcular el número total deseado para la clase minoritaria\n",
        "n_clase_minoritaria_actual = sum(y_train == 1)  # Asumiendo que '1' es la clase minoritaria\n",
        "n_total_deseado = n_clase_minoritaria_actual + nuevas_muestras\n",
        "\n",
        "sampling_strategy = {0: sum(y_train == 0), 1: n_total_deseado}  # \n",
        "# Aplicar SMOTE\n",
        "smote = SMOTE(sampling_strategy=sampling_strategy, random_state=42)\n",
        "X_resampled_smote, y_resampled_smote = smote.fit_resample(X_train, y_train)\n",
        "\n",
        "# Obtener el número original de muestras\n",
        "n_original = len(X_train)\n",
        "\n",
        "# Extraer las nuevas muestras\n",
        "X_new_samples = X_resampled_smote[n_original:]\n",
        "y_new_samples = y_resampled_smote[n_original:]\n",
        "\n",
        "# Mostrar las nuevas muestras\n",
        "print(\"Nuevas muestras generadas:\")\n",
        "print(X_new_samples.shape)\n",
        "print(y_new_samples.shape)\n",
        "\n"
      ]
    },
    {
      "cell_type": "code",
      "execution_count": 30,
      "metadata": {},
      "outputs": [
        {
          "data": {
            "text/plain": [
              "(195, 6000)"
            ]
          },
          "execution_count": 30,
          "metadata": {},
          "output_type": "execute_result"
        }
      ],
      "source": [
        "X_train_resampled.shape"
      ]
    },
    {
      "cell_type": "code",
      "execution_count": 31,
      "metadata": {},
      "outputs": [],
      "source": [
        "X_train_resampled = np.concatenate([X_train_resampled,X_new_samples])\n",
        "\n"
      ]
    },
    {
      "cell_type": "code",
      "execution_count": 32,
      "metadata": {},
      "outputs": [
        {
          "data": {
            "text/plain": [
              "(220, 6000)"
            ]
          },
          "execution_count": 32,
          "metadata": {},
          "output_type": "execute_result"
        }
      ],
      "source": [
        "X_train_resampled.shape"
      ]
    },
    {
      "cell_type": "code",
      "execution_count": 33,
      "metadata": {},
      "outputs": [
        {
          "data": {
            "text/plain": [
              "(220,)"
            ]
          },
          "execution_count": 33,
          "metadata": {},
          "output_type": "execute_result"
        }
      ],
      "source": [
        "y_train_resampled = np.concatenate([y_train_resampled,y_new_samples])\n",
        "y_train_resampled.shape"
      ]
    },
    {
      "cell_type": "code",
      "execution_count": 34,
      "metadata": {},
      "outputs": [
        {
          "name": "stdout",
          "output_type": "stream",
          "text": [
            "0.0    123\n",
            "1.0     97\n",
            "Name: count, dtype: int64\n"
          ]
        }
      ],
      "source": [
        "print(pd.Series(y_train_resampled).value_counts())"
      ]
    },
    {
      "cell_type": "markdown",
      "metadata": {},
      "source": [
        "## VAE"
      ]
    },
    {
      "cell_type": "code",
      "execution_count": 35,
      "metadata": {},
      "outputs": [],
      "source": [
        "from tensorflow.keras.models import Model\n",
        "from tensorflow.keras.losses import mse\n"
      ]
    },
    {
      "cell_type": "code",
      "execution_count": 36,
      "metadata": {},
      "outputs": [],
      "source": [
        "scaler = MinMaxScaler()\n",
        "X_minority_scaled = scaler.fit_transform(X_train)"
      ]
    },
    {
      "cell_type": "code",
      "execution_count": 37,
      "metadata": {},
      "outputs": [
        {
          "name": "stdout",
          "output_type": "stream",
          "text": [
            "Model: \"model\"\n",
            "__________________________________________________________________________________________________\n",
            " Layer (type)                   Output Shape         Param #     Connected to                     \n",
            "==================================================================================================\n",
            " input_1 (InputLayer)           [(None, 6000)]       0           []                               \n",
            "                                                                                                  \n",
            " dense (Dense)                  (None, 16)           96016       ['input_1[0][0]']                \n",
            "                                                                                                  \n",
            " z_mean (Dense)                 (None, 2)            34          ['dense[0][0]']                  \n",
            "                                                                                                  \n",
            " z_log_var (Dense)              (None, 2)            34          ['dense[0][0]']                  \n",
            "                                                                                                  \n",
            " z (Lambda)                     (None, 2)            0           ['z_mean[0][0]',                 \n",
            "                                                                  'z_log_var[0][0]']              \n",
            "                                                                                                  \n",
            " dense_1 (Dense)                (None, 16)           48          ['z[0][0]']                      \n",
            "                                                                                                  \n",
            " dense_2 (Dense)                (None, 6000)         102000      ['dense_1[0][0]']                \n",
            "                                                                                                  \n",
            " tf.__operators__.add (TFOpLamb  (None, 2)           0           ['z_log_var[0][0]']              \n",
            " da)                                                                                              \n",
            "                                                                                                  \n",
            " tf.math.square (TFOpLambda)    (None, 2)            0           ['z_mean[0][0]']                 \n",
            "                                                                                                  \n",
            " tf.convert_to_tensor (TFOpLamb  (None, 6000)        0           ['dense_2[0][0]']                \n",
            " da)                                                                                              \n",
            "                                                                                                  \n",
            " tf.cast (TFOpLambda)           (None, 6000)         0           ['input_1[0][0]']                \n",
            "                                                                                                  \n",
            " tf.math.subtract (TFOpLambda)  (None, 2)            0           ['tf.__operators__.add[0][0]',   \n",
            "                                                                  'tf.math.square[0][0]']         \n",
            "                                                                                                  \n",
            " tf.math.exp (TFOpLambda)       (None, 2)            0           ['z_log_var[0][0]']              \n",
            "                                                                                                  \n",
            " tf.math.squared_difference (TF  (None, 6000)        0           ['tf.convert_to_tensor[0][0]',   \n",
            " OpLambda)                                                        'tf.cast[0][0]']                \n",
            "                                                                                                  \n",
            " tf.math.subtract_1 (TFOpLambda  (None, 2)           0           ['tf.math.subtract[0][0]',       \n",
            " )                                                                'tf.math.exp[0][0]']            \n",
            "                                                                                                  \n",
            " tf.math.reduce_mean (TFOpLambd  (None,)             0           ['tf.math.squared_difference[0][0\n",
            " a)                                                              ]']                              \n",
            "                                                                                                  \n",
            " tf.math.reduce_sum (TFOpLambda  (None,)             0           ['tf.math.subtract_1[0][0]']     \n",
            " )                                                                                                \n",
            "                                                                                                  \n",
            " tf.math.multiply (TFOpLambda)  (None,)              0           ['tf.math.reduce_mean[0][0]']    \n",
            "                                                                                                  \n",
            " tf.math.multiply_1 (TFOpLambda  (None,)             0           ['tf.math.reduce_sum[0][0]']     \n",
            " )                                                                                                \n",
            "                                                                                                  \n",
            " tf.__operators__.add_1 (TFOpLa  (None,)             0           ['tf.math.multiply[0][0]',       \n",
            " mbda)                                                            'tf.math.multiply_1[0][0]']     \n",
            "                                                                                                  \n",
            " tf.math.reduce_mean_1 (TFOpLam  ()                  0           ['tf.__operators__.add_1[0][0]'] \n",
            " bda)                                                                                             \n",
            "                                                                                                  \n",
            " add_loss (AddLoss)             ()                   0           ['tf.math.reduce_mean_1[0][0]']  \n",
            "                                                                                                  \n",
            "==================================================================================================\n",
            "Total params: 198,132\n",
            "Trainable params: 198,132\n",
            "Non-trainable params: 0\n",
            "__________________________________________________________________________________________________\n"
          ]
        }
      ],
      "source": [
        "# Dimensiones\n",
        "input_dim = X_minority_scaled.shape[1]\n",
        "latent_dim = 2  # Espacio latente\n",
        "\n",
        "# Encoder\n",
        "inputs = Input(shape=(input_dim,))\n",
        "hidden = Dense(16, activation='relu')(inputs)\n",
        "z_mean = Dense(latent_dim, name='z_mean')(hidden)\n",
        "z_log_var = Dense(latent_dim, name='z_log_var')(hidden)\n",
        "\n",
        "# Sampling\n",
        "def sampling(args):\n",
        "    z_mean, z_log_var = args\n",
        "    epsilon = tf.random.normal(shape=(tf.shape(z_mean)[0], latent_dim))\n",
        "    return z_mean + tf.exp(0.5 * z_log_var) * epsilon\n",
        "\n",
        "z = Lambda(sampling, output_shape=(latent_dim,), name='z')([z_mean, z_log_var])\n",
        "\n",
        "# Decoder\n",
        "decoder_hidden = Dense(16, activation='relu')\n",
        "decoder_output = Dense(input_dim, activation='sigmoid')\n",
        "\n",
        "hidden_decoded = decoder_hidden(z)\n",
        "outputs = decoder_output(hidden_decoded)\n",
        "\n",
        "# Modelo VAE\n",
        "vae = Model(inputs, outputs)\n",
        "\n",
        "# Pérdida personalizada\n",
        "reconstruction_loss = mse(inputs, outputs)\n",
        "reconstruction_loss *= input_dim\n",
        "kl_loss = 1 + z_log_var - tf.square(z_mean) - tf.exp(z_log_var)\n",
        "kl_loss = tf.reduce_sum(kl_loss, axis=-1)\n",
        "kl_loss *= -0.5\n",
        "vae_loss = tf.reduce_mean(reconstruction_loss + kl_loss)\n",
        "vae.add_loss(vae_loss)\n",
        "vae.compile(optimizer='adam')\n",
        "\n",
        "vae.summary()\n"
      ]
    },
    {
      "cell_type": "code",
      "execution_count": 38,
      "metadata": {},
      "outputs": [
        {
          "name": "stdout",
          "output_type": "stream",
          "text": [
            "Epoch 1/200\n",
            "6/6 [==============================] - 2s 6ms/step - loss: 750.2392\n",
            "Epoch 2/200\n",
            "6/6 [==============================] - 0s 7ms/step - loss: 712.8123\n",
            "Epoch 3/200\n",
            "6/6 [==============================] - 0s 8ms/step - loss: 656.7093\n",
            "Epoch 4/200\n",
            "6/6 [==============================] - 0s 7ms/step - loss: 598.1220\n",
            "Epoch 5/200\n"
          ]
        },
        {
          "name": "stderr",
          "output_type": "stream",
          "text": [
            "2025-01-19 14:10:48.068955: I tensorflow/stream_executor/cuda/cuda_blas.cc:1614] TensorFloat-32 will be used for the matrix multiplication. This will only be logged once.\n"
          ]
        },
        {
          "name": "stdout",
          "output_type": "stream",
          "text": [
            "6/6 [==============================] - 0s 8ms/step - loss: 561.4918\n",
            "Epoch 6/200\n",
            "6/6 [==============================] - 0s 8ms/step - loss: 488.2018\n",
            "Epoch 7/200\n",
            "6/6 [==============================] - 0s 8ms/step - loss: 426.8547\n",
            "Epoch 8/200\n",
            "6/6 [==============================] - 0s 8ms/step - loss: 386.6106\n",
            "Epoch 9/200\n",
            "6/6 [==============================] - 0s 8ms/step - loss: 381.4293\n",
            "Epoch 10/200\n",
            "6/6 [==============================] - 0s 8ms/step - loss: 312.6559\n",
            "Epoch 11/200\n",
            "6/6 [==============================] - 0s 8ms/step - loss: 294.2513\n",
            "Epoch 12/200\n",
            "6/6 [==============================] - 0s 8ms/step - loss: 275.9765\n",
            "Epoch 13/200\n",
            "6/6 [==============================] - 0s 8ms/step - loss: 283.6356\n",
            "Epoch 14/200\n",
            "6/6 [==============================] - 0s 8ms/step - loss: 268.6249\n",
            "Epoch 15/200\n",
            "6/6 [==============================] - 0s 8ms/step - loss: 247.0364\n",
            "Epoch 16/200\n",
            "6/6 [==============================] - 0s 8ms/step - loss: 256.2331\n",
            "Epoch 17/200\n",
            "6/6 [==============================] - 0s 8ms/step - loss: 232.3170\n",
            "Epoch 18/200\n",
            "6/6 [==============================] - 0s 8ms/step - loss: 237.7580\n",
            "Epoch 19/200\n",
            "6/6 [==============================] - 0s 8ms/step - loss: 217.0399\n",
            "Epoch 20/200\n",
            "6/6 [==============================] - 0s 8ms/step - loss: 219.6577\n",
            "Epoch 21/200\n",
            "6/6 [==============================] - 0s 8ms/step - loss: 196.0469\n",
            "Epoch 22/200\n",
            "6/6 [==============================] - 0s 8ms/step - loss: 222.0462\n",
            "Epoch 23/200\n",
            "6/6 [==============================] - 0s 8ms/step - loss: 212.4512\n",
            "Epoch 24/200\n",
            "6/6 [==============================] - 0s 7ms/step - loss: 206.3503\n",
            "Epoch 25/200\n",
            "6/6 [==============================] - 0s 8ms/step - loss: 214.0330\n",
            "Epoch 26/200\n",
            "6/6 [==============================] - 0s 8ms/step - loss: 191.4205\n",
            "Epoch 27/200\n",
            "6/6 [==============================] - 0s 7ms/step - loss: 193.0689\n",
            "Epoch 28/200\n",
            "6/6 [==============================] - 0s 7ms/step - loss: 167.0085\n",
            "Epoch 29/200\n",
            "6/6 [==============================] - 0s 8ms/step - loss: 173.6084\n",
            "Epoch 30/200\n",
            "6/6 [==============================] - 0s 8ms/step - loss: 189.4805\n",
            "Epoch 31/200\n",
            "6/6 [==============================] - 0s 8ms/step - loss: 185.0631\n",
            "Epoch 32/200\n",
            "6/6 [==============================] - 0s 7ms/step - loss: 175.7926\n",
            "Epoch 33/200\n",
            "6/6 [==============================] - 0s 8ms/step - loss: 181.5958\n",
            "Epoch 34/200\n",
            "6/6 [==============================] - 0s 7ms/step - loss: 178.3181\n",
            "Epoch 35/200\n",
            "6/6 [==============================] - 0s 8ms/step - loss: 158.3949\n",
            "Epoch 36/200\n",
            "6/6 [==============================] - 0s 8ms/step - loss: 180.5407\n",
            "Epoch 37/200\n",
            "6/6 [==============================] - 0s 7ms/step - loss: 181.0727\n",
            "Epoch 38/200\n",
            "6/6 [==============================] - 0s 8ms/step - loss: 178.7908\n",
            "Epoch 39/200\n",
            "6/6 [==============================] - 0s 8ms/step - loss: 204.6556\n",
            "Epoch 40/200\n",
            "6/6 [==============================] - 0s 7ms/step - loss: 160.5579\n",
            "Epoch 41/200\n",
            "6/6 [==============================] - 0s 8ms/step - loss: 173.5949\n",
            "Epoch 42/200\n",
            "6/6 [==============================] - 0s 8ms/step - loss: 153.9854\n",
            "Epoch 43/200\n",
            "6/6 [==============================] - 0s 8ms/step - loss: 158.7970\n",
            "Epoch 44/200\n",
            "6/6 [==============================] - 0s 8ms/step - loss: 145.8904\n",
            "Epoch 45/200\n",
            "6/6 [==============================] - 0s 8ms/step - loss: 161.7111\n",
            "Epoch 46/200\n",
            "6/6 [==============================] - 0s 8ms/step - loss: 145.0900\n",
            "Epoch 47/200\n",
            "6/6 [==============================] - 0s 8ms/step - loss: 166.0810\n",
            "Epoch 48/200\n",
            "6/6 [==============================] - 0s 8ms/step - loss: 168.4320\n",
            "Epoch 49/200\n",
            "6/6 [==============================] - 0s 8ms/step - loss: 142.3972\n",
            "Epoch 50/200\n",
            "6/6 [==============================] - 0s 8ms/step - loss: 147.4178\n",
            "Epoch 51/200\n",
            "6/6 [==============================] - 0s 8ms/step - loss: 149.0715\n",
            "Epoch 52/200\n",
            "6/6 [==============================] - 0s 7ms/step - loss: 147.9377\n",
            "Epoch 53/200\n",
            "6/6 [==============================] - 0s 8ms/step - loss: 160.8439\n",
            "Epoch 54/200\n",
            "6/6 [==============================] - 0s 8ms/step - loss: 144.5777\n",
            "Epoch 55/200\n",
            "6/6 [==============================] - 0s 7ms/step - loss: 137.9620\n",
            "Epoch 56/200\n",
            "6/6 [==============================] - 0s 8ms/step - loss: 146.9252\n",
            "Epoch 57/200\n",
            "6/6 [==============================] - 0s 8ms/step - loss: 135.4907\n",
            "Epoch 58/200\n",
            "6/6 [==============================] - 0s 8ms/step - loss: 131.5046\n",
            "Epoch 59/200\n",
            "6/6 [==============================] - 0s 7ms/step - loss: 150.6456\n",
            "Epoch 60/200\n",
            "6/6 [==============================] - 0s 7ms/step - loss: 143.4396\n",
            "Epoch 61/200\n",
            "6/6 [==============================] - 0s 7ms/step - loss: 144.5372\n",
            "Epoch 62/200\n",
            "6/6 [==============================] - 0s 8ms/step - loss: 140.0624\n",
            "Epoch 63/200\n",
            "6/6 [==============================] - 0s 8ms/step - loss: 131.1986\n",
            "Epoch 64/200\n",
            "6/6 [==============================] - 0s 8ms/step - loss: 132.9416\n",
            "Epoch 65/200\n",
            "6/6 [==============================] - 0s 8ms/step - loss: 135.7476\n",
            "Epoch 66/200\n",
            "6/6 [==============================] - 0s 8ms/step - loss: 136.4278\n",
            "Epoch 67/200\n",
            "6/6 [==============================] - 0s 7ms/step - loss: 132.1968\n",
            "Epoch 68/200\n",
            "6/6 [==============================] - 0s 8ms/step - loss: 133.2732\n",
            "Epoch 69/200\n",
            "6/6 [==============================] - 0s 7ms/step - loss: 140.6779\n",
            "Epoch 70/200\n",
            "6/6 [==============================] - 0s 8ms/step - loss: 122.1057\n",
            "Epoch 71/200\n",
            "6/6 [==============================] - 0s 8ms/step - loss: 157.0134\n",
            "Epoch 72/200\n",
            "6/6 [==============================] - 0s 8ms/step - loss: 145.4453\n",
            "Epoch 73/200\n",
            "6/6 [==============================] - 0s 7ms/step - loss: 158.7798\n",
            "Epoch 74/200\n",
            "6/6 [==============================] - 0s 8ms/step - loss: 140.9537\n",
            "Epoch 75/200\n",
            "6/6 [==============================] - 0s 8ms/step - loss: 138.1976\n",
            "Epoch 76/200\n",
            "6/6 [==============================] - 0s 8ms/step - loss: 129.5317\n",
            "Epoch 77/200\n",
            "6/6 [==============================] - 0s 7ms/step - loss: 129.9311\n",
            "Epoch 78/200\n",
            "6/6 [==============================] - 0s 7ms/step - loss: 119.1333\n",
            "Epoch 79/200\n",
            "6/6 [==============================] - 0s 8ms/step - loss: 149.3081\n",
            "Epoch 80/200\n",
            "6/6 [==============================] - 0s 7ms/step - loss: 133.8792\n",
            "Epoch 81/200\n",
            "6/6 [==============================] - 0s 8ms/step - loss: 132.6726\n",
            "Epoch 82/200\n",
            "6/6 [==============================] - 0s 8ms/step - loss: 125.8582\n",
            "Epoch 83/200\n",
            "6/6 [==============================] - 0s 7ms/step - loss: 137.4202\n",
            "Epoch 84/200\n",
            "6/6 [==============================] - 0s 8ms/step - loss: 136.0372\n",
            "Epoch 85/200\n",
            "6/6 [==============================] - 0s 7ms/step - loss: 131.1711\n",
            "Epoch 86/200\n",
            "6/6 [==============================] - 0s 7ms/step - loss: 126.1867\n",
            "Epoch 87/200\n",
            "6/6 [==============================] - 0s 7ms/step - loss: 119.6767\n",
            "Epoch 88/200\n",
            "6/6 [==============================] - 0s 8ms/step - loss: 121.8314\n",
            "Epoch 89/200\n",
            "6/6 [==============================] - 0s 7ms/step - loss: 123.0449\n",
            "Epoch 90/200\n",
            "6/6 [==============================] - 0s 8ms/step - loss: 124.5149\n",
            "Epoch 91/200\n",
            "6/6 [==============================] - 0s 8ms/step - loss: 136.4609\n",
            "Epoch 92/200\n",
            "6/6 [==============================] - 0s 7ms/step - loss: 125.3834\n",
            "Epoch 93/200\n",
            "6/6 [==============================] - 0s 7ms/step - loss: 126.2960\n",
            "Epoch 94/200\n",
            "6/6 [==============================] - 0s 8ms/step - loss: 126.3592\n",
            "Epoch 95/200\n",
            "6/6 [==============================] - 0s 8ms/step - loss: 121.2651\n",
            "Epoch 96/200\n",
            "6/6 [==============================] - 0s 8ms/step - loss: 139.7049\n",
            "Epoch 97/200\n",
            "6/6 [==============================] - 0s 7ms/step - loss: 121.6932\n",
            "Epoch 98/200\n",
            "6/6 [==============================] - 0s 8ms/step - loss: 115.9689\n",
            "Epoch 99/200\n",
            "6/6 [==============================] - 0s 7ms/step - loss: 126.6081\n",
            "Epoch 100/200\n",
            "6/6 [==============================] - 0s 8ms/step - loss: 118.0985\n",
            "Epoch 101/200\n",
            "6/6 [==============================] - 0s 8ms/step - loss: 117.7679\n",
            "Epoch 102/200\n",
            "6/6 [==============================] - 0s 7ms/step - loss: 145.2523\n",
            "Epoch 103/200\n",
            "6/6 [==============================] - 0s 7ms/step - loss: 135.3738\n",
            "Epoch 104/200\n",
            "6/6 [==============================] - 0s 8ms/step - loss: 139.9613\n",
            "Epoch 105/200\n",
            "6/6 [==============================] - 0s 8ms/step - loss: 124.3989\n",
            "Epoch 106/200\n",
            "6/6 [==============================] - 0s 8ms/step - loss: 114.4350\n",
            "Epoch 107/200\n",
            "6/6 [==============================] - 0s 7ms/step - loss: 119.0523\n",
            "Epoch 108/200\n",
            "6/6 [==============================] - 0s 7ms/step - loss: 117.4772\n",
            "Epoch 109/200\n",
            "6/6 [==============================] - 0s 8ms/step - loss: 122.1437\n",
            "Epoch 110/200\n",
            "6/6 [==============================] - 0s 8ms/step - loss: 118.5465\n",
            "Epoch 111/200\n",
            "6/6 [==============================] - 0s 8ms/step - loss: 119.2308\n",
            "Epoch 112/200\n",
            "6/6 [==============================] - 0s 8ms/step - loss: 124.2217\n",
            "Epoch 113/200\n",
            "6/6 [==============================] - 0s 8ms/step - loss: 124.3094\n",
            "Epoch 114/200\n",
            "6/6 [==============================] - 0s 8ms/step - loss: 128.1860\n",
            "Epoch 115/200\n",
            "6/6 [==============================] - 0s 8ms/step - loss: 126.8694\n",
            "Epoch 116/200\n",
            "6/6 [==============================] - 0s 8ms/step - loss: 123.2198\n",
            "Epoch 117/200\n",
            "6/6 [==============================] - 0s 8ms/step - loss: 114.6048\n",
            "Epoch 118/200\n",
            "6/6 [==============================] - 0s 8ms/step - loss: 140.1604\n",
            "Epoch 119/200\n",
            "6/6 [==============================] - 0s 7ms/step - loss: 134.1868\n",
            "Epoch 120/200\n",
            "6/6 [==============================] - 0s 7ms/step - loss: 128.0398\n",
            "Epoch 121/200\n",
            "6/6 [==============================] - 0s 8ms/step - loss: 115.6573\n",
            "Epoch 122/200\n",
            "6/6 [==============================] - 0s 7ms/step - loss: 112.1454\n",
            "Epoch 123/200\n",
            "6/6 [==============================] - 0s 8ms/step - loss: 120.8112\n",
            "Epoch 124/200\n",
            "6/6 [==============================] - 0s 7ms/step - loss: 133.3094\n",
            "Epoch 125/200\n",
            "6/6 [==============================] - 0s 8ms/step - loss: 109.0653\n",
            "Epoch 126/200\n",
            "6/6 [==============================] - 0s 8ms/step - loss: 129.4766\n",
            "Epoch 127/200\n",
            "6/6 [==============================] - 0s 8ms/step - loss: 103.0002\n",
            "Epoch 128/200\n",
            "6/6 [==============================] - 0s 8ms/step - loss: 142.1062\n",
            "Epoch 129/200\n",
            "6/6 [==============================] - 0s 8ms/step - loss: 115.3872\n",
            "Epoch 130/200\n",
            "6/6 [==============================] - 0s 7ms/step - loss: 111.3680\n",
            "Epoch 131/200\n",
            "6/6 [==============================] - 0s 7ms/step - loss: 114.6866\n",
            "Epoch 132/200\n",
            "6/6 [==============================] - 0s 8ms/step - loss: 118.2792\n",
            "Epoch 133/200\n",
            "6/6 [==============================] - 0s 8ms/step - loss: 112.7773\n",
            "Epoch 134/200\n",
            "6/6 [==============================] - 0s 7ms/step - loss: 121.7717\n",
            "Epoch 135/200\n",
            "6/6 [==============================] - 0s 8ms/step - loss: 118.6915\n",
            "Epoch 136/200\n",
            "6/6 [==============================] - 0s 8ms/step - loss: 106.4869\n",
            "Epoch 137/200\n",
            "6/6 [==============================] - 0s 8ms/step - loss: 105.7037\n",
            "Epoch 138/200\n",
            "6/6 [==============================] - 0s 7ms/step - loss: 113.8556\n",
            "Epoch 139/200\n",
            "6/6 [==============================] - 0s 8ms/step - loss: 134.6215\n",
            "Epoch 140/200\n",
            "6/6 [==============================] - 0s 8ms/step - loss: 112.4443\n",
            "Epoch 141/200\n",
            "6/6 [==============================] - 0s 8ms/step - loss: 138.5914\n",
            "Epoch 142/200\n",
            "6/6 [==============================] - 0s 7ms/step - loss: 109.8390\n",
            "Epoch 143/200\n",
            "6/6 [==============================] - 0s 8ms/step - loss: 112.9876\n",
            "Epoch 144/200\n",
            "6/6 [==============================] - 0s 8ms/step - loss: 112.5254\n",
            "Epoch 145/200\n",
            "6/6 [==============================] - 0s 8ms/step - loss: 117.1951\n",
            "Epoch 146/200\n",
            "6/6 [==============================] - 0s 8ms/step - loss: 116.0430\n",
            "Epoch 147/200\n",
            "6/6 [==============================] - 0s 7ms/step - loss: 152.0534\n",
            "Epoch 148/200\n",
            "6/6 [==============================] - 0s 8ms/step - loss: 110.9781\n",
            "Epoch 149/200\n",
            "6/6 [==============================] - 0s 8ms/step - loss: 109.8025\n",
            "Epoch 150/200\n",
            "6/6 [==============================] - 0s 8ms/step - loss: 111.9020\n",
            "Epoch 151/200\n",
            "6/6 [==============================] - 0s 8ms/step - loss: 103.1164\n",
            "Epoch 152/200\n",
            "6/6 [==============================] - 0s 8ms/step - loss: 106.2636\n",
            "Epoch 153/200\n",
            "6/6 [==============================] - 0s 8ms/step - loss: 124.5762\n",
            "Epoch 154/200\n",
            "6/6 [==============================] - 0s 8ms/step - loss: 104.0453\n",
            "Epoch 155/200\n",
            "6/6 [==============================] - 0s 7ms/step - loss: 116.2478\n",
            "Epoch 156/200\n",
            "6/6 [==============================] - 0s 8ms/step - loss: 102.9834\n",
            "Epoch 157/200\n",
            "6/6 [==============================] - 0s 8ms/step - loss: 93.8312\n",
            "Epoch 158/200\n",
            "6/6 [==============================] - 0s 7ms/step - loss: 112.5069\n",
            "Epoch 159/200\n",
            "6/6 [==============================] - 0s 7ms/step - loss: 101.0582\n",
            "Epoch 160/200\n",
            "6/6 [==============================] - 0s 8ms/step - loss: 102.7477\n",
            "Epoch 161/200\n",
            "6/6 [==============================] - 0s 8ms/step - loss: 114.8719\n",
            "Epoch 162/200\n",
            "6/6 [==============================] - 0s 8ms/step - loss: 108.5967\n",
            "Epoch 163/200\n",
            "6/6 [==============================] - 0s 7ms/step - loss: 102.3065\n",
            "Epoch 164/200\n",
            "6/6 [==============================] - 0s 8ms/step - loss: 104.4100\n",
            "Epoch 165/200\n",
            "6/6 [==============================] - 0s 8ms/step - loss: 115.3795\n",
            "Epoch 166/200\n",
            "6/6 [==============================] - 0s 8ms/step - loss: 102.9774\n",
            "Epoch 167/200\n",
            "6/6 [==============================] - 0s 7ms/step - loss: 109.8229\n",
            "Epoch 168/200\n",
            "6/6 [==============================] - 0s 8ms/step - loss: 96.7505\n",
            "Epoch 169/200\n",
            "6/6 [==============================] - 0s 8ms/step - loss: 110.8552\n",
            "Epoch 170/200\n",
            "6/6 [==============================] - 0s 8ms/step - loss: 121.3118\n",
            "Epoch 171/200\n",
            "6/6 [==============================] - 0s 7ms/step - loss: 93.6348\n",
            "Epoch 172/200\n",
            "6/6 [==============================] - 0s 8ms/step - loss: 139.3815\n",
            "Epoch 173/200\n",
            "6/6 [==============================] - 0s 8ms/step - loss: 98.0708\n",
            "Epoch 174/200\n",
            "6/6 [==============================] - 0s 7ms/step - loss: 112.5288\n",
            "Epoch 175/200\n",
            "6/6 [==============================] - 0s 8ms/step - loss: 106.6118\n",
            "Epoch 176/200\n",
            "6/6 [==============================] - 0s 8ms/step - loss: 105.2755\n",
            "Epoch 177/200\n",
            "6/6 [==============================] - 0s 8ms/step - loss: 92.6185\n",
            "Epoch 178/200\n",
            "6/6 [==============================] - 0s 8ms/step - loss: 98.8254\n",
            "Epoch 179/200\n",
            "6/6 [==============================] - 0s 8ms/step - loss: 101.8486\n",
            "Epoch 180/200\n",
            "6/6 [==============================] - 0s 7ms/step - loss: 94.1738\n",
            "Epoch 181/200\n",
            "6/6 [==============================] - 0s 8ms/step - loss: 115.7004\n",
            "Epoch 182/200\n",
            "6/6 [==============================] - 0s 7ms/step - loss: 92.1576\n",
            "Epoch 183/200\n",
            "6/6 [==============================] - 0s 8ms/step - loss: 97.3931\n",
            "Epoch 184/200\n",
            "6/6 [==============================] - 0s 8ms/step - loss: 92.3903\n",
            "Epoch 185/200\n",
            "6/6 [==============================] - 0s 8ms/step - loss: 99.4825\n",
            "Epoch 186/200\n",
            "6/6 [==============================] - 0s 8ms/step - loss: 98.1079\n",
            "Epoch 187/200\n",
            "6/6 [==============================] - 0s 8ms/step - loss: 89.6133\n",
            "Epoch 188/200\n",
            "6/6 [==============================] - 0s 8ms/step - loss: 101.5365\n",
            "Epoch 189/200\n",
            "6/6 [==============================] - 0s 8ms/step - loss: 88.3084\n",
            "Epoch 190/200\n",
            "6/6 [==============================] - 0s 7ms/step - loss: 94.7171\n",
            "Epoch 191/200\n",
            "6/6 [==============================] - 0s 8ms/step - loss: 87.7609\n",
            "Epoch 192/200\n",
            "6/6 [==============================] - 0s 8ms/step - loss: 97.3160\n",
            "Epoch 193/200\n",
            "6/6 [==============================] - 0s 8ms/step - loss: 91.0857\n",
            "Epoch 194/200\n",
            "6/6 [==============================] - 0s 8ms/step - loss: 93.3721\n",
            "Epoch 195/200\n",
            "6/6 [==============================] - 0s 8ms/step - loss: 96.4108\n",
            "Epoch 196/200\n",
            "6/6 [==============================] - 0s 7ms/step - loss: 126.7019\n",
            "Epoch 197/200\n",
            "6/6 [==============================] - 0s 7ms/step - loss: 89.3687\n",
            "Epoch 198/200\n",
            "6/6 [==============================] - 0s 8ms/step - loss: 99.4370\n",
            "Epoch 199/200\n",
            "6/6 [==============================] - 0s 8ms/step - loss: 101.4788\n",
            "Epoch 200/200\n",
            "6/6 [==============================] - 0s 8ms/step - loss: 108.6720\n"
          ]
        },
        {
          "data": {
            "text/plain": [
              "<keras.callbacks.History at 0x7f0f943e3be0>"
            ]
          },
          "execution_count": 38,
          "metadata": {},
          "output_type": "execute_result"
        }
      ],
      "source": [
        "vae.fit(X_minority_scaled, X_minority_scaled, epochs=200, batch_size=32, verbose=1)\n"
      ]
    },
    {
      "cell_type": "code",
      "execution_count": 39,
      "metadata": {},
      "outputs": [
        {
          "name": "stdout",
          "output_type": "stream",
          "text": [
            "1/1 [==============================] - 0s 76ms/step\n"
          ]
        }
      ],
      "source": [
        "# Construir el generador (Decoder independiente)\n",
        "decoder_input = Input(shape=(latent_dim,))\n",
        "hidden_decoded_2 = decoder_hidden(decoder_input)\n",
        "output_decoded = decoder_output(hidden_decoded_2)\n",
        "generator = Model(decoder_input, output_decoded)\n",
        "\n",
        "# Generar datos sintéticos\n",
        "num_samples = int((pd.Series(y_train).value_counts()[0]-pd.Series(y_train).value_counts()[1])/cantidadTecOS)\n",
        "latent_points = np.random.normal(size=(num_samples, latent_dim))\n",
        "synthetic_data = generator.predict(latent_points)\n",
        "\n",
        "# Escalar de vuelta a los valores originales\n",
        "synthetic_data_Vae = scaler.inverse_transform(synthetic_data)\n"
      ]
    },
    {
      "cell_type": "code",
      "execution_count": 40,
      "metadata": {},
      "outputs": [
        {
          "data": {
            "text/plain": [
              "76"
            ]
          },
          "execution_count": 40,
          "metadata": {},
          "output_type": "execute_result"
        }
      ],
      "source": [
        "pd.Series(y_train).value_counts()[0]-pd.Series(y_train).value_counts()[1]"
      ]
    },
    {
      "cell_type": "code",
      "execution_count": 41,
      "metadata": {},
      "outputs": [
        {
          "name": "stdout",
          "output_type": "stream",
          "text": [
            "0.0    123\n",
            "1.0     47\n",
            "Name: count, dtype: int64\n"
          ]
        }
      ],
      "source": [
        "print(pd.Series(y_train).value_counts())"
      ]
    },
    {
      "cell_type": "code",
      "execution_count": 42,
      "metadata": {},
      "outputs": [
        {
          "data": {
            "text/plain": [
              "array([[6264.4175 , 5996.528  , 6366.314  , ...,  228.70947,  224.10504,\n",
              "         226.07922],\n",
              "       [6645.4253 , 6376.645  , 6699.259  , ...,  201.89293,  201.1285 ,\n",
              "         197.8409 ],\n",
              "       [6464.1455 , 6203.265  , 6561.388  , ...,  218.3678 ,  216.08186,\n",
              "         215.30197],\n",
              "       ...,\n",
              "       [6742.118  , 6479.23   , 6757.6816 , ...,  209.50476,  208.07463,\n",
              "         205.04971],\n",
              "       [6719.653  , 6459.4326 , 6736.26   , ...,  207.95485,  206.54071,\n",
              "         203.49643],\n",
              "       [6610.9194 , 6320.5957 , 6676.9995 , ...,  233.25381,  228.05031,\n",
              "         229.27658]], dtype=float32)"
            ]
          },
          "execution_count": 42,
          "metadata": {},
          "output_type": "execute_result"
        }
      ],
      "source": [
        "synthetic_data_Vae"
      ]
    },
    {
      "cell_type": "code",
      "execution_count": 43,
      "metadata": {},
      "outputs": [],
      "source": [
        "X_train_resampled = np.concatenate([X_train_resampled, synthetic_data_Vae])\n",
        "y_train_resampled = np.concatenate([y_train_resampled, np.ones(num_samples)])\n"
      ]
    },
    {
      "cell_type": "code",
      "execution_count": 44,
      "metadata": {},
      "outputs": [
        {
          "name": "stdout",
          "output_type": "stream",
          "text": [
            "0.0    123\n",
            "1.0    122\n",
            "Name: count, dtype: int64\n"
          ]
        }
      ],
      "source": [
        "print(pd.Series(y_train_resampled).value_counts())"
      ]
    },
    {
      "cell_type": "code",
      "execution_count": 45,
      "metadata": {},
      "outputs": [
        {
          "data": {
            "text/plain": [
              "array([[0.27968565, 0.28056738, 0.2826641 , ..., 0.51685756, 0.4910864 ,\n",
              "        0.5336004 ],\n",
              "       [0.29686564, 0.2984521 , 0.29750678, ..., 0.45625523, 0.44066238,\n",
              "        0.46687466],\n",
              "       [0.28869155, 0.2902945 , 0.2913605 , ..., 0.49348655, 0.47347885,\n",
              "        0.5081343 ],\n",
              "       ...,\n",
              "       [0.3012256 , 0.3032788 , 0.30011126, ..., 0.4734571 , 0.45590627,\n",
              "        0.4839087 ],\n",
              "       [0.30021262, 0.30234733, 0.29915628, ..., 0.46995446, 0.45253995,\n",
              "        0.48023838],\n",
              "       [0.29530972, 0.29581496, 0.29651445, ..., 0.52712727, 0.49974465,\n",
              "        0.5411556 ]], dtype=float32)"
            ]
          },
          "execution_count": 45,
          "metadata": {},
          "output_type": "execute_result"
        }
      ],
      "source": [
        "synthetic_data"
      ]
    },
    {
      "cell_type": "markdown",
      "metadata": {},
      "source": [
        "## Termino oversampling"
      ]
    },
    {
      "cell_type": "code",
      "execution_count": 46,
      "metadata": {
        "id": "Cz1ZnhEykiY9"
      },
      "outputs": [],
      "source": [
        "scaler=Normalizer(norm='max')\n",
        "sc_X = scaler\n",
        "X_train = sc_X.fit_transform(X_train_resampled)\n",
        "X_test = sc_X.transform(X_test)"
      ]
    },
    {
      "cell_type": "code",
      "execution_count": 47,
      "metadata": {
        "id": "HiHCUFo-kiW9"
      },
      "outputs": [],
      "source": [
        "sample_size = X_train.shape[0] # numero de muestras en el set de datos\n",
        "time_steps  = X_train.shape[1] # numero de atributos en el set de datos\n",
        "input_dimension = 1            #\n",
        "\n",
        "X_train_reshaped = X_train.reshape(sample_size,time_steps,input_dimension)\n",
        "X_test_reshaped = X_test.reshape(X_test.shape[0],X_test.shape[1],1)"
      ]
    },
    {
      "cell_type": "code",
      "execution_count": 48,
      "metadata": {
        "id": "VEuHRBvAlw79"
      },
      "outputs": [],
      "source": [
        "reduce_lr = ReduceLROnPlateau(monitor='val_loss', factor=0.1, patience=3, min_lr=0.000001)\n",
        "early_st = EarlyStopping(monitor='val_loss', patience=4, restore_best_weights=True)\n",
        "\n",
        "n_timesteps = X_train_reshaped.shape[1] #\n",
        "n_features  = X_train_reshaped.shape[2] #"
      ]
    },
    {
      "cell_type": "code",
      "execution_count": 49,
      "metadata": {},
      "outputs": [
        {
          "name": "stdout",
          "output_type": "stream",
          "text": [
            "0.0    123\n",
            "1.0    122\n",
            "Name: count, dtype: int64\n"
          ]
        }
      ],
      "source": [
        "print(pd.Series(y_train_resampled).value_counts())\n"
      ]
    },
    {
      "cell_type": "markdown",
      "metadata": {
        "id": "hBf6W9iPXz3p"
      },
      "source": [
        "# Create and fit DeepAMR model"
      ]
    },
    {
      "cell_type": "code",
      "execution_count": 50,
      "metadata": {
        "colab": {
          "base_uri": "https://localhost:8080/",
          "height": 952
        },
        "id": "AlJHRRzlkiH9",
        "outputId": "d20e434d-8e4c-431b-a401-ac0b057ded3a"
      },
      "outputs": [
        {
          "name": "stdout",
          "output_type": "stream",
          "text": [
            "Model: \"Modelo_s_aureus_ciprofloxacin\"\n",
            "_________________________________________________________________\n",
            " Layer (type)                Output Shape              Param #   \n",
            "=================================================================\n",
            " Conv_1 (Conv1D)             (None, 5984, 64)          1152      \n",
            "                                                                 \n",
            " batch_normalization (BatchN  (None, 5984, 64)         256       \n",
            " ormalization)                                                   \n",
            "                                                                 \n",
            " activation (Activation)     (None, 5984, 64)          0         \n",
            "                                                                 \n",
            " MaxPooling1D_1 (MaxPooling1  (None, 2992, 64)         0         \n",
            " D)                                                              \n",
            "                                                                 \n",
            " Conv_2 (Conv1D)             (None, 2984, 128)         73856     \n",
            "                                                                 \n",
            " batch_normalization_1 (Batc  (None, 2984, 128)        512       \n",
            " hNormalization)                                                 \n",
            "                                                                 \n",
            " activation_1 (Activation)   (None, 2984, 128)         0         \n",
            "                                                                 \n",
            " MaxPooling1D_2 (MaxPooling1  (None, 1492, 128)        0         \n",
            " D)                                                              \n",
            "                                                                 \n",
            " Conv_3 (Conv1D)             (None, 1488, 256)         164096    \n",
            "                                                                 \n",
            " batch_normalization_2 (Batc  (None, 1488, 256)        1024      \n",
            " hNormalization)                                                 \n",
            "                                                                 \n",
            " activation_2 (Activation)   (None, 1488, 256)         0         \n",
            "                                                                 \n",
            " MaxPooling1D_3 (MaxPooling1  (None, 744, 256)         0         \n",
            " D)                                                              \n",
            "                                                                 \n",
            " Conv_4 (Conv1D)             (None, 740, 256)          327936    \n",
            "                                                                 \n",
            " batch_normalization_3 (Batc  (None, 740, 256)         1024      \n",
            " hNormalization)                                                 \n",
            "                                                                 \n",
            " activation_3 (Activation)   (None, 740, 256)          0         \n",
            "                                                                 \n",
            " MaxPooling1D_4 (MaxPooling1  (None, 370, 256)         0         \n",
            " D)                                                              \n",
            "                                                                 \n",
            " flatten (Flatten)           (None, 94720)             0         \n",
            "                                                                 \n",
            " dropout (Dropout)           (None, 94720)             0         \n",
            "                                                                 \n",
            " fully_connected_0 (Dense)   (None, 256)               24248576  \n",
            "                                                                 \n",
            " fully_connected_1 (Dense)   (None, 64)                16448     \n",
            "                                                                 \n",
            " fully_connected_2 (Dense)   (None, 64)                4160      \n",
            "                                                                 \n",
            " OUT_Layer (Dense)           (None, 1)                 65        \n",
            "                                                                 \n",
            "=================================================================\n",
            "Total params: 24,839,105\n",
            "Trainable params: 24,837,697\n",
            "Non-trainable params: 1,408\n",
            "_________________________________________________________________\n"
          ]
        }
      ],
      "source": [
        "model = Sequential(name=\"Modelo_s_aureus_ciprofloxacin\")\n",
        "init_mode = 'normal'\n",
        "model.add(Conv1D(filters=(64), kernel_size=(17), input_shape = (n_timesteps,n_features), name='Conv_1'))\n",
        "model.add(BatchNormalization())\n",
        "model.add(Activation('relu'))\n",
        "model.add(MaxPooling1D(pool_size=2, name=\"MaxPooling1D_1\"))\n",
        "\n",
        "model.add(Conv1D(filters=(128), kernel_size=(9),kernel_initializer=init_mode, kernel_regularizer=regularizers.l2(0.0001),  name='Conv_2'))\n",
        "model.add(BatchNormalization())\n",
        "model.add(Activation('relu'))\n",
        "model.add(MaxPooling1D(pool_size=2, name=\"MaxPooling1D_2\"))\n",
        "\n",
        "model.add(Conv1D(filters=(256), kernel_size=(5),kernel_initializer=init_mode,kernel_regularizer=regularizers.l2(0.0001),   name='Conv_3'))\n",
        "model.add(BatchNormalization())\n",
        "model.add(Activation('relu'))\n",
        "model.add(MaxPooling1D(pool_size=2, name=\"MaxPooling1D_3\"))\n",
        "\n",
        "model.add(Conv1D(filters=(256), kernel_size=(5),kernel_initializer=init_mode, kernel_regularizer=regularizers.l2(0.0001),   name='Conv_4'))\n",
        "model.add(BatchNormalization())\n",
        "model.add(Activation('relu'))\n",
        "model.add(MaxPooling1D(pool_size=2, name=\"MaxPooling1D_4\"))\n",
        "\n",
        "model.add(Flatten())\n",
        "model.add(Dropout(0.65))\n",
        "model.add(Dense(256, activation='relu',kernel_initializer=init_mode, kernel_regularizer=regularizers.l2(0.0001), name=\"fully_connected_0\"))\n",
        "model.add(Dense(64, activation='relu',kernel_initializer=init_mode, kernel_regularizer=regularizers.l2(0.0001), name=\"fully_connected_1\"))\n",
        "model.add(Dense(64, activation='relu',kernel_initializer=init_mode, kernel_regularizer=regularizers.l2(0.0001),  name=\"fully_connected_2\"))\n",
        "model.add(Dense(n_features, activation='sigmoid', name=\"OUT_Layer\"))\n",
        "\n",
        "model.compile(optimizer = Adam(learning_rate=0.0001), loss = 'binary_crossentropy',  metrics=METRICS)\n",
        "model.summary()"
      ]
    },
    {
      "cell_type": "code",
      "execution_count": 51,
      "metadata": {
        "colab": {
          "base_uri": "https://localhost:8080/"
        },
        "id": "lDksoJagl3H9",
        "outputId": "b244d4a7-0b9c-4b4e-cb2a-f5159586c644"
      },
      "outputs": [
        {
          "name": "stdout",
          "output_type": "stream",
          "text": [
            "Epoch 1/100\n"
          ]
        },
        {
          "name": "stderr",
          "output_type": "stream",
          "text": [
            "2025-01-19 14:11:01.506778: I tensorflow/stream_executor/cuda/cuda_dnn.cc:384] Loaded cuDNN version 8907\n",
            "2025-01-19 14:11:01.532872: I tensorflow/core/platform/default/subprocess.cc:304] Start cannot spawn child process: No such file or directory\n"
          ]
        },
        {
          "name": "stdout",
          "output_type": "stream",
          "text": [
            "22/22 [==============================] - 4s 67ms/step - loss: 7.0760 - tp: 46.0000 - fp: 40.0000 - tn: 83.0000 - fn: 51.0000 - accuracy: 0.5864 - precision: 0.5349 - recall: 0.4742 - auc: 0.5999 - prc: 0.5692 - val_loss: 6.8689 - val_tp: 0.0000e+00 - val_fp: 0.0000e+00 - val_tn: 0.0000e+00 - val_fn: 25.0000 - val_accuracy: 0.0000e+00 - val_precision: 0.0000e+00 - val_recall: 0.0000e+00 - val_auc: 0.0000e+00 - val_prc: 1.0000 - lr: 1.0000e-04\n",
            "Epoch 2/100\n",
            "22/22 [==============================] - 1s 26ms/step - loss: 6.7916 - tp: 55.0000 - fp: 41.0000 - tn: 82.0000 - fn: 42.0000 - accuracy: 0.6227 - precision: 0.5729 - recall: 0.5670 - auc: 0.6893 - prc: 0.6636 - val_loss: 6.9986 - val_tp: 0.0000e+00 - val_fp: 0.0000e+00 - val_tn: 0.0000e+00 - val_fn: 25.0000 - val_accuracy: 0.0000e+00 - val_precision: 0.0000e+00 - val_recall: 0.0000e+00 - val_auc: 0.0000e+00 - val_prc: 1.0000 - lr: 1.0000e-04\n",
            "Epoch 3/100\n",
            "22/22 [==============================] - 1s 27ms/step - loss: 6.6519 - tp: 52.0000 - fp: 34.0000 - tn: 89.0000 - fn: 45.0000 - accuracy: 0.6409 - precision: 0.6047 - recall: 0.5361 - auc: 0.7145 - prc: 0.7094 - val_loss: 6.8956 - val_tp: 0.0000e+00 - val_fp: 0.0000e+00 - val_tn: 0.0000e+00 - val_fn: 25.0000 - val_accuracy: 0.0000e+00 - val_precision: 0.0000e+00 - val_recall: 0.0000e+00 - val_auc: 0.0000e+00 - val_prc: 1.0000 - lr: 1.0000e-04\n",
            "Epoch 4/100\n",
            "22/22 [==============================] - 1s 27ms/step - loss: 6.4989 - tp: 60.0000 - fp: 34.0000 - tn: 89.0000 - fn: 37.0000 - accuracy: 0.6773 - precision: 0.6383 - recall: 0.6186 - auc: 0.7868 - prc: 0.7775 - val_loss: 6.9196 - val_tp: 0.0000e+00 - val_fp: 0.0000e+00 - val_tn: 0.0000e+00 - val_fn: 25.0000 - val_accuracy: 0.0000e+00 - val_precision: 0.0000e+00 - val_recall: 0.0000e+00 - val_auc: 0.0000e+00 - val_prc: 1.0000 - lr: 1.0000e-04\n",
            "Epoch 5/100\n",
            "22/22 [==============================] - 1s 30ms/step - loss: 6.4832 - tp: 58.0000 - fp: 22.0000 - tn: 101.0000 - fn: 39.0000 - accuracy: 0.7227 - precision: 0.7250 - recall: 0.5979 - auc: 0.7909 - prc: 0.7827 - val_loss: 6.9363 - val_tp: 0.0000e+00 - val_fp: 0.0000e+00 - val_tn: 0.0000e+00 - val_fn: 25.0000 - val_accuracy: 0.0000e+00 - val_precision: 0.0000e+00 - val_recall: 0.0000e+00 - val_auc: 0.0000e+00 - val_prc: 1.0000 - lr: 1.0000e-05\n"
          ]
        }
      ],
      "source": [
        "history = model.fit(X_train_reshaped, y_train_resampled, epochs=100, batch_size=10, verbose=1, validation_split=0.1, callbacks=[reduce_lr,early_st])"
      ]
    },
    {
      "cell_type": "markdown",
      "metadata": {
        "id": "5hF9EG1dX6xZ"
      },
      "source": [
        "# Evaluate the model"
      ]
    },
    {
      "cell_type": "code",
      "execution_count": 52,
      "metadata": {
        "colab": {
          "base_uri": "https://localhost:8080/"
        },
        "id": "ux5k-LYLl3GF",
        "outputId": "9148bd10-3890-40c0-d5ce-d97b0938aef1"
      },
      "outputs": [
        {
          "name": "stdout",
          "output_type": "stream",
          "text": [
            "2/2 [==============================] - 0s 25ms/step\n",
            "[[31  0]\n",
            " [12  0]]\n"
          ]
        }
      ],
      "source": [
        "y_pred  = model.predict(X_test_reshaped)\n",
        "y_pred = (y_pred>0.5)\n",
        "cm = confusion_matrix(y_test, y_pred)\n",
        "print(cm)"
      ]
    },
    {
      "cell_type": "code",
      "execution_count": 53,
      "metadata": {
        "colab": {
          "base_uri": "https://localhost:8080/"
        },
        "id": "iur6Wu4oZ5dI",
        "outputId": "a97b3320-950a-4b11-fcb3-1b08387bb109"
      },
      "outputs": [
        {
          "name": "stdout",
          "output_type": "stream",
          "text": [
            "balanced acuracy: 0.5\n"
          ]
        }
      ],
      "source": [
        "print(\"balanced acuracy:\", balanced_accuracy_score(y_test, y_pred))"
      ]
    },
    {
      "cell_type": "code",
      "execution_count": 54,
      "metadata": {
        "colab": {
          "base_uri": "https://localhost:8080/"
        },
        "id": "zkQ55Zm7l3D2",
        "outputId": "1d603181-a728-4b27-d900-a1e71d36be80"
      },
      "outputs": [
        {
          "name": "stdout",
          "output_type": "stream",
          "text": [
            "              precision    recall  f1-score   support\n",
            "\n",
            "           0       0.72      1.00      0.84        31\n",
            "           1       0.00      0.00      0.00        12\n",
            "\n",
            "    accuracy                           0.72        43\n",
            "   macro avg       0.36      0.50      0.42        43\n",
            "weighted avg       0.52      0.72      0.60        43\n",
            "\n",
            "12/25 [=============>................] - ETA: 0s"
          ]
        },
        {
          "name": "stderr",
          "output_type": "stream",
          "text": [
            "/home/hpinto/.local/lib/python3.9/site-packages/sklearn/metrics/_classification.py:1531: UndefinedMetricWarning: Precision is ill-defined and being set to 0.0 in labels with no predicted samples. Use `zero_division` parameter to control this behavior.\n",
            "  _warn_prf(average, modifier, f\"{metric.capitalize()} is\", len(result))\n",
            "/home/hpinto/.local/lib/python3.9/site-packages/sklearn/metrics/_classification.py:1531: UndefinedMetricWarning: Precision is ill-defined and being set to 0.0 in labels with no predicted samples. Use `zero_division` parameter to control this behavior.\n",
            "  _warn_prf(average, modifier, f\"{metric.capitalize()} is\", len(result))\n",
            "/home/hpinto/.local/lib/python3.9/site-packages/sklearn/metrics/_classification.py:1531: UndefinedMetricWarning: Precision is ill-defined and being set to 0.0 in labels with no predicted samples. Use `zero_division` parameter to control this behavior.\n",
            "  _warn_prf(average, modifier, f\"{metric.capitalize()} is\", len(result))\n"
          ]
        },
        {
          "name": "stdout",
          "output_type": "stream",
          "text": [
            "25/25 [==============================] - 0s 5ms/step\n",
            "5/5 [==============================] - 0s 8ms/step\n",
            "loss :  6.773674488067627\n",
            "tp :  0.0\n",
            "fp :  0.0\n",
            "tn :  31.0\n",
            "fn :  12.0\n",
            "accuracy :  0.7209302186965942\n",
            "precision :  0.0\n",
            "recall :  0.0\n",
            "auc :  0.6169354915618896\n",
            "prc :  0.3958815932273865\n",
            "\n"
          ]
        }
      ],
      "source": [
        "target_names=[\"0\",\"1\"]\n",
        "print(classification_report(y_test, y_pred, target_names=target_names))\n",
        "\n",
        "train_predictions_baseline = model.predict(X_train_reshaped, batch_size=10)\n",
        "test_predictions_baseline = model.predict(X_test_reshaped, batch_size=10)\n",
        "\n",
        "baseline_results = model.evaluate(X_test_reshaped, y_test, verbose=0)\n",
        "for name, value in zip(model.metrics_names, baseline_results):\n",
        "  print(name, ': ', value)\n",
        "print()"
      ]
    },
    {
      "cell_type": "code",
      "execution_count": 55,
      "metadata": {
        "colab": {
          "base_uri": "https://localhost:8080/",
          "height": 1000
        },
        "id": "YzVQLd_Xl3B1",
        "outputId": "6bd1d53b-d330-4a0f-d2c9-b33181c37c01"
      },
      "outputs": [
        {
          "data": {
            "image/png": "[encoded data removed]",
            "text/plain": [
              "<Figure size 1200x1000 with 1 Axes>"
            ]
          },
          "metadata": {},
          "output_type": "display_data"
        },
        {
          "data": {
            "image/png": "[encoded data removed]",
            "text/plain": [
              "<Figure size 1200x1000 with 1 Axes>"
            ]
          },
          "metadata": {},
          "output_type": "display_data"
        }
      ],
      "source": [
        "plt.rcParams['figure.figsize'] = (12, 10)\n",
        "plt.rcParams.update({'font.size': 17})\n",
        "colors = plt.rcParams['axes.prop_cycle'].by_key()['color']\n",
        "\n",
        "def plot_roc(name, labels, predictions, **kwargs):\n",
        "  fp, tp, _ = sklearn.metrics.roc_curve(labels, predictions)\n",
        "\n",
        "  plt.plot(fp, tp, label=name, linewidth=2, **kwargs)\n",
        "  plt.plot([0, 1], [0, 1], 'k--')\n",
        "  plt.title('E. coli CNN')\n",
        "  plt.xlabel('False positives [%]')\n",
        "  plt.ylabel('True positives [%]')\n",
        "  plt.title('S. aureus AUROC')\n",
        "\n",
        "  plt.grid(True)\n",
        "  ax = plt.gca()\n",
        "  ax.set_aspect('equal')\n",
        "plot_roc(\"Ciprofloxacin               AUROC: %0.2f\" % baseline_results[8], y_test, test_predictions_baseline, color=colors[0])\n",
        "\n",
        "plt.legend(loc='lower right')\n",
        "plt.savefig('s_aureus_auroc.png', bbox_inches='tight')\n",
        "plt.show()\n",
        "\n",
        "def plot_prc(name, labels, predictions, **kwargs):\n",
        "    precision, recall, _ = sklearn.metrics.precision_recall_curve(labels, predictions)\n",
        "\n",
        "    plt.plot(precision, recall, label=name, linewidth=2, **kwargs)\n",
        "    plt.title('S. aureus AUPRC')\n",
        "    plt.xlabel('Recall')\n",
        "    plt.ylabel('Precision')\n",
        "    plt.plot([1, 0], [0, 1], 'k--')\n",
        "    plt.grid(True)\n",
        "    ax = plt.gca()\n",
        "    ax.set_aspect('equal')\n",
        "\n",
        "plot_prc(\"Ciprofloxacin        AUPRC: %0.2f\" % baseline_results[9], y_test, test_predictions_baseline, color=colors[0])\n",
        "\n",
        "plt.legend(loc='upper right')\n",
        "plt.savefig('s_aureus_auprc.png', bbox_inches='tight')\n",
        "plt.show()"
      ]
    }
  ],
  "metadata": {
    "accelerator": "GPU",
    "colab": {
      "provenance": []
    },
    "gpuClass": "standard",
    "kernelspec": {
      "display_name": "Python 3",
      "language": "python",
      "name": "python3"
    },
    "language_info": {
      "name": "python",
      "version": "3.11.5"
    }
  },
  "nbformat": 4,
  "nbformat_minor": 0
}
