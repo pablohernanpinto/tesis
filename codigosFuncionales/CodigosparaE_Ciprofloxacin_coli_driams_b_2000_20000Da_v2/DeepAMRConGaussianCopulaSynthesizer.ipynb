{
  "cells": [
    {
      "cell_type": "markdown",
      "metadata": {
        "id": "LNNFUJODXA9C"
      },
      "source": [
        "# 0-Libraries"
      ]
    },
    {
      "cell_type": "code",
      "execution_count": 8,
      "metadata": {
        "id": "W1quzgr-ao8A"
      },
      "outputs": [],
      "source": [
        "import numpy as np\n",
        "import matplotlib.pyplot as plt\n",
        "import itertools\n",
        "import pandas as pd\n",
        "import sklearn\n",
        "from sklearn.model_selection import train_test_split\n",
        "from sklearn.metrics import confusion_matrix,classification_report,ConfusionMatrixDisplay, balanced_accuracy_score\n",
        "#from sklearn.preprocessing import LabelEncoder, OneHotEncoder\n",
        "from sklearn.compose import ColumnTransformer\n",
        "from sklearn.preprocessing import Normalizer, StandardScaler, MinMaxScaler, MaxAbsScaler, RobustScaler, QuantileTransformer, PowerTransformer\n",
        "import tensorflow as tf\n",
        "from tensorflow import keras\n",
        "from keras import regularizers\n",
        "from keras.optimizers import Adam\n",
        "#from keras.backend import expand_dims\n",
        "from keras.callbacks import ReduceLROnPlateau, EarlyStopping\n",
        "from keras.models import Sequential\n",
        "from keras.constraints import MaxNorm\n",
        "from keras.layers import Activation, Dense, Conv1D, Flatten, MaxPooling1D, Dropout, BatchNormalization, SpatialDropout1D"
      ]
    },
    {
      "cell_type": "code",
      "execution_count": 9,
      "metadata": {
        "id": "gy_ErAtqkxgt"
      },
      "outputs": [],
      "source": [
        "METRICS = [\n",
        "      keras.metrics.TruePositives(name='tp'),\n",
        "      keras.metrics.FalsePositives(name='fp'),\n",
        "      keras.metrics.TrueNegatives(name='tn'),\n",
        "      keras.metrics.FalseNegatives(name='fn'),\n",
        "      keras.metrics.BinaryAccuracy(name='accuracy'),\n",
        "      keras.metrics.Precision(name='precision'),\n",
        "      keras.metrics.Recall(name='recall'),\n",
        "      keras.metrics.AUC(name='auc'),\n",
        "      keras.metrics.AUC(name='prc', curve='PR'), # precision-recall curve\n",
        "]"
      ]
    },
    {
      "cell_type": "markdown",
      "metadata": {
        "id": "N6bQjUrPXPaI"
      },
      "source": [
        "# 1- Load Data"
      ]
    },
    {
      "cell_type": "code",
      "execution_count": 10,
      "metadata": {
        "colab": {
          "base_uri": "https://localhost:8080/",
          "height": 533
        },
        "id": "UXVFQgZNaNrg",
        "outputId": "b0682894-fcf9-4247-d531-237b355f9251"
      },
      "outputs": [
        {
          "output_type": "execute_result",
          "data": {
            "text/plain": [
              "           2000          2003          2006          2009          2012  \\\n",
              "0   1067.142857   1251.714286   1310.571429   1021.142857   1315.625000   \n",
              "1   1872.857143   1677.285714   2035.714286   2086.250000   1930.571429   \n",
              "2   3258.142857   3209.428571   3068.571429   3162.428571   3275.000000   \n",
              "3  18912.571429  19530.571429  19464.875000  19098.714286  18994.714286   \n",
              "4   1685.000000   1537.428571   1283.714286   1472.285714   1370.142857   \n",
              "\n",
              "           2015          2018          2021          2024          2027  ...  \\\n",
              "0    974.000000    936.857143    853.571429    936.142857   1044.285714  ...   \n",
              "1   2017.142857   1856.857143   1655.857143   1547.142857   1713.000000  ...   \n",
              "2   3324.571429   2999.000000   2970.500000   3213.000000   3205.571429  ...   \n",
              "3  18936.285714  19208.571429  19417.571429  19486.857143  19048.625000  ...   \n",
              "4   1402.142857   1397.500000   1422.142857   1725.285714   3386.714286  ...   \n",
              "\n",
              "   19988       19991       19994       19997  \\\n",
              "0   21.5    6.500000    4.666667   17.585859   \n",
              "1   21.0   15.000000   26.500000   21.736842   \n",
              "2   17.0   17.000000   30.000000   19.125000   \n",
              "3  299.0  339.500000  359.000000  311.746032   \n",
              "4   32.5   48.333333   66.500000   39.230769   \n",
              "\n",
              "                                   code           species  Ciprofloxacin  \\\n",
              "0  dcd5aa31-b254-4961-b69f-ccc8c0572b27  Escherichia coli            0.0   \n",
              "1  dfcb7221-e4f8-4a39-b661-7e439f19e93d  Escherichia coli            0.0   \n",
              "2  d5bb4389-5053-4107-9c05-bfed9e9159c9  Escherichia coli            0.0   \n",
              "3  4e14943f-ae22-42ed-aef5-65430470dcfa  Escherichia coli            0.0   \n",
              "4  617f14d0-86b1-4c28-8995-b02006a85e81  Escherichia coli            1.0   \n",
              "\n",
              "   Ceftriaxone  Cefepime  Piperacillin-Tazobactam  \n",
              "0          0.0       0.0                      0.0  \n",
              "1          0.0       0.0                      0.0  \n",
              "2          0.0       0.0                      0.0  \n",
              "3          0.0       0.0                      0.0  \n",
              "4          1.0       1.0                      1.0  \n",
              "\n",
              "[5 rows x 6006 columns]"
            ],
            "text/html": [
              "\n",
              "  <div id=\"df-c45d3be4-d945-4dfd-a1b3-46b4dd8ab9f1\" class=\"colab-df-container\">\n",
              "    <div>\n",
              "<style scoped>\n",
              "    .dataframe tbody tr th:only-of-type {\n",
              "        vertical-align: middle;\n",
              "    }\n",
              "\n",
              "    .dataframe tbody tr th {\n",
              "        vertical-align: top;\n",
              "    }\n",
              "\n",
              "    .dataframe thead th {\n",
              "        text-align: right;\n",
              "    }\n",
              "</style>\n",
              "<table border=\"1\" class=\"dataframe\">\n",
              "  <thead>\n",
              "    <tr style=\"text-align: right;\">\n",
              "      <th></th>\n",
              "      <th>2000</th>\n",
              "      <th>2003</th>\n",
              "      <th>2006</th>\n",
              "      <th>2009</th>\n",
              "      <th>2012</th>\n",
              "      <th>2015</th>\n",
              "      <th>2018</th>\n",
              "      <th>2021</th>\n",
              "      <th>2024</th>\n",
              "      <th>2027</th>\n",
              "      <th>...</th>\n",
              "      <th>19988</th>\n",
              "      <th>19991</th>\n",
              "      <th>19994</th>\n",
              "      <th>19997</th>\n",
              "      <th>code</th>\n",
              "      <th>species</th>\n",
              "      <th>Ciprofloxacin</th>\n",
              "      <th>Ceftriaxone</th>\n",
              "      <th>Cefepime</th>\n",
              "      <th>Piperacillin-Tazobactam</th>\n",
              "    </tr>\n",
              "  </thead>\n",
              "  <tbody>\n",
              "    <tr>\n",
              "      <th>0</th>\n",
              "      <td>1067.142857</td>\n",
              "      <td>1251.714286</td>\n",
              "      <td>1310.571429</td>\n",
              "      <td>1021.142857</td>\n",
              "      <td>1315.625000</td>\n",
              "      <td>974.000000</td>\n",
              "      <td>936.857143</td>\n",
              "      <td>853.571429</td>\n",
              "      <td>936.142857</td>\n",
              "      <td>1044.285714</td>\n",
              "      <td>...</td>\n",
              "      <td>21.5</td>\n",
              "      <td>6.500000</td>\n",
              "      <td>4.666667</td>\n",
              "      <td>17.585859</td>\n",
              "      <td>dcd5aa31-b254-4961-b69f-ccc8c0572b27</td>\n",
              "      <td>Escherichia coli</td>\n",
              "      <td>0.0</td>\n",
              "      <td>0.0</td>\n",
              "      <td>0.0</td>\n",
              "      <td>0.0</td>\n",
              "    </tr>\n",
              "    <tr>\n",
              "      <th>1</th>\n",
              "      <td>1872.857143</td>\n",
              "      <td>1677.285714</td>\n",
              "      <td>2035.714286</td>\n",
              "      <td>2086.250000</td>\n",
              "      <td>1930.571429</td>\n",
              "      <td>2017.142857</td>\n",
              "      <td>1856.857143</td>\n",
              "      <td>1655.857143</td>\n",
              "      <td>1547.142857</td>\n",
              "      <td>1713.000000</td>\n",
              "      <td>...</td>\n",
              "      <td>21.0</td>\n",
              "      <td>15.000000</td>\n",
              "      <td>26.500000</td>\n",
              "      <td>21.736842</td>\n",
              "      <td>dfcb7221-e4f8-4a39-b661-7e439f19e93d</td>\n",
              "      <td>Escherichia coli</td>\n",
              "      <td>0.0</td>\n",
              "      <td>0.0</td>\n",
              "      <td>0.0</td>\n",
              "      <td>0.0</td>\n",
              "    </tr>\n",
              "    <tr>\n",
              "      <th>2</th>\n",
              "      <td>3258.142857</td>\n",
              "      <td>3209.428571</td>\n",
              "      <td>3068.571429</td>\n",
              "      <td>3162.428571</td>\n",
              "      <td>3275.000000</td>\n",
              "      <td>3324.571429</td>\n",
              "      <td>2999.000000</td>\n",
              "      <td>2970.500000</td>\n",
              "      <td>3213.000000</td>\n",
              "      <td>3205.571429</td>\n",
              "      <td>...</td>\n",
              "      <td>17.0</td>\n",
              "      <td>17.000000</td>\n",
              "      <td>30.000000</td>\n",
              "      <td>19.125000</td>\n",
              "      <td>d5bb4389-5053-4107-9c05-bfed9e9159c9</td>\n",
              "      <td>Escherichia coli</td>\n",
              "      <td>0.0</td>\n",
              "      <td>0.0</td>\n",
              "      <td>0.0</td>\n",
              "      <td>0.0</td>\n",
              "    </tr>\n",
              "    <tr>\n",
              "      <th>3</th>\n",
              "      <td>18912.571429</td>\n",
              "      <td>19530.571429</td>\n",
              "      <td>19464.875000</td>\n",
              "      <td>19098.714286</td>\n",
              "      <td>18994.714286</td>\n",
              "      <td>18936.285714</td>\n",
              "      <td>19208.571429</td>\n",
              "      <td>19417.571429</td>\n",
              "      <td>19486.857143</td>\n",
              "      <td>19048.625000</td>\n",
              "      <td>...</td>\n",
              "      <td>299.0</td>\n",
              "      <td>339.500000</td>\n",
              "      <td>359.000000</td>\n",
              "      <td>311.746032</td>\n",
              "      <td>4e14943f-ae22-42ed-aef5-65430470dcfa</td>\n",
              "      <td>Escherichia coli</td>\n",
              "      <td>0.0</td>\n",
              "      <td>0.0</td>\n",
              "      <td>0.0</td>\n",
              "      <td>0.0</td>\n",
              "    </tr>\n",
              "    <tr>\n",
              "      <th>4</th>\n",
              "      <td>1685.000000</td>\n",
              "      <td>1537.428571</td>\n",
              "      <td>1283.714286</td>\n",
              "      <td>1472.285714</td>\n",
              "      <td>1370.142857</td>\n",
              "      <td>1402.142857</td>\n",
              "      <td>1397.500000</td>\n",
              "      <td>1422.142857</td>\n",
              "      <td>1725.285714</td>\n",
              "      <td>3386.714286</td>\n",
              "      <td>...</td>\n",
              "      <td>32.5</td>\n",
              "      <td>48.333333</td>\n",
              "      <td>66.500000</td>\n",
              "      <td>39.230769</td>\n",
              "      <td>617f14d0-86b1-4c28-8995-b02006a85e81</td>\n",
              "      <td>Escherichia coli</td>\n",
              "      <td>1.0</td>\n",
              "      <td>1.0</td>\n",
              "      <td>1.0</td>\n",
              "      <td>1.0</td>\n",
              "    </tr>\n",
              "  </tbody>\n",
              "</table>\n",
              "<p>5 rows × 6006 columns</p>\n",
              "</div>\n",
              "    <div class=\"colab-df-buttons\">\n",
              "\n",
              "  <div class=\"colab-df-container\">\n",
              "    <button class=\"colab-df-convert\" onclick=\"convertToInteractive('df-c45d3be4-d945-4dfd-a1b3-46b4dd8ab9f1')\"\n",
              "            title=\"Convert this dataframe to an interactive table.\"\n",
              "            style=\"display:none;\">\n",
              "\n",
              "  <svg xmlns=\"http://www.w3.org/2000/svg\" height=\"24px\" viewBox=\"0 -960 960 960\">\n",
              "    <path d=\"M120-120v-720h720v720H120Zm60-500h600v-160H180v160Zm220 220h160v-160H400v160Zm0 220h160v-160H400v160ZM180-400h160v-160H180v160Zm440 0h160v-160H620v160ZM180-180h160v-160H180v160Zm440 0h160v-160H620v160Z\"/>\n",
              "  </svg>\n",
              "    </button>\n",
              "\n",
              "  <style>\n",
              "    .colab-df-container {\n",
              "      display:flex;\n",
              "      gap: 12px;\n",
              "    }\n",
              "\n",
              "    .colab-df-convert {\n",
              "      background-color: #E8F0FE;\n",
              "      border: none;\n",
              "      border-radius: 50%;\n",
              "      cursor: pointer;\n",
              "      display: none;\n",
              "      fill: #1967D2;\n",
              "      height: 32px;\n",
              "      padding: 0 0 0 0;\n",
              "      width: 32px;\n",
              "    }\n",
              "\n",
              "    .colab-df-convert:hover {\n",
              "      background-color: #E2EBFA;\n",
              "      box-shadow: 0px 1px 2px rgba(60, 64, 67, 0.3), 0px 1px 3px 1px rgba(60, 64, 67, 0.15);\n",
              "      fill: #174EA6;\n",
              "    }\n",
              "\n",
              "    .colab-df-buttons div {\n",
              "      margin-bottom: 4px;\n",
              "    }\n",
              "\n",
              "    [theme=dark] .colab-df-convert {\n",
              "      background-color: #3B4455;\n",
              "      fill: #D2E3FC;\n",
              "    }\n",
              "\n",
              "    [theme=dark] .colab-df-convert:hover {\n",
              "      background-color: #434B5C;\n",
              "      box-shadow: 0px 1px 3px 1px rgba(0, 0, 0, 0.15);\n",
              "      filter: drop-shadow(0px 1px 2px rgba(0, 0, 0, 0.3));\n",
              "      fill: #FFFFFF;\n",
              "    }\n",
              "  </style>\n",
              "\n",
              "    <script>\n",
              "      const buttonEl =\n",
              "        document.querySelector('#df-c45d3be4-d945-4dfd-a1b3-46b4dd8ab9f1 button.colab-df-convert');\n",
              "      buttonEl.style.display =\n",
              "        google.colab.kernel.accessAllowed ? 'block' : 'none';\n",
              "\n",
              "      async function convertToInteractive(key) {\n",
              "        const element = document.querySelector('#df-c45d3be4-d945-4dfd-a1b3-46b4dd8ab9f1');\n",
              "        const dataTable =\n",
              "          await google.colab.kernel.invokeFunction('convertToInteractive',\n",
              "                                                    [key], {});\n",
              "        if (!dataTable) return;\n",
              "\n",
              "        const docLinkHtml = 'Like what you see? Visit the ' +\n",
              "          '<a target=\"_blank\" href=https://colab.research.google.com/notebooks/data_table.ipynb>data table notebook</a>'\n",
              "          + ' to learn more about interactive tables.';\n",
              "        element.innerHTML = '';\n",
              "        dataTable['output_type'] = 'display_data';\n",
              "        await google.colab.output.renderOutput(dataTable, element);\n",
              "        const docLink = document.createElement('div');\n",
              "        docLink.innerHTML = docLinkHtml;\n",
              "        element.appendChild(docLink);\n",
              "      }\n",
              "    </script>\n",
              "  </div>\n",
              "\n",
              "\n",
              "<div id=\"df-71dda36a-886c-4f22-accb-2c6fe432bf82\">\n",
              "  <button class=\"colab-df-quickchart\" onclick=\"quickchart('df-71dda36a-886c-4f22-accb-2c6fe432bf82')\"\n",
              "            title=\"Suggest charts\"\n",
              "            style=\"display:none;\">\n",
              "\n",
              "<svg xmlns=\"http://www.w3.org/2000/svg\" height=\"24px\"viewBox=\"0 0 24 24\"\n",
              "     width=\"24px\">\n",
              "    <g>\n",
              "        <path d=\"M19 3H5c-1.1 0-2 .9-2 2v14c0 1.1.9 2 2 2h14c1.1 0 2-.9 2-2V5c0-1.1-.9-2-2-2zM9 17H7v-7h2v7zm4 0h-2V7h2v10zm4 0h-2v-4h2v4z\"/>\n",
              "    </g>\n",
              "</svg>\n",
              "  </button>\n",
              "\n",
              "<style>\n",
              "  .colab-df-quickchart {\n",
              "      --bg-color: #E8F0FE;\n",
              "      --fill-color: #1967D2;\n",
              "      --hover-bg-color: #E2EBFA;\n",
              "      --hover-fill-color: #174EA6;\n",
              "      --disabled-fill-color: #AAA;\n",
              "      --disabled-bg-color: #DDD;\n",
              "  }\n",
              "\n",
              "  [theme=dark] .colab-df-quickchart {\n",
              "      --bg-color: #3B4455;\n",
              "      --fill-color: #D2E3FC;\n",
              "      --hover-bg-color: #434B5C;\n",
              "      --hover-fill-color: #FFFFFF;\n",
              "      --disabled-bg-color: #3B4455;\n",
              "      --disabled-fill-color: #666;\n",
              "  }\n",
              "\n",
              "  .colab-df-quickchart {\n",
              "    background-color: var(--bg-color);\n",
              "    border: none;\n",
              "    border-radius: 50%;\n",
              "    cursor: pointer;\n",
              "    display: none;\n",
              "    fill: var(--fill-color);\n",
              "    height: 32px;\n",
              "    padding: 0;\n",
              "    width: 32px;\n",
              "  }\n",
              "\n",
              "  .colab-df-quickchart:hover {\n",
              "    background-color: var(--hover-bg-color);\n",
              "    box-shadow: 0 1px 2px rgba(60, 64, 67, 0.3), 0 1px 3px 1px rgba(60, 64, 67, 0.15);\n",
              "    fill: var(--button-hover-fill-color);\n",
              "  }\n",
              "\n",
              "  .colab-df-quickchart-complete:disabled,\n",
              "  .colab-df-quickchart-complete:disabled:hover {\n",
              "    background-color: var(--disabled-bg-color);\n",
              "    fill: var(--disabled-fill-color);\n",
              "    box-shadow: none;\n",
              "  }\n",
              "\n",
              "  .colab-df-spinner {\n",
              "    border: 2px solid var(--fill-color);\n",
              "    border-color: transparent;\n",
              "    border-bottom-color: var(--fill-color);\n",
              "    animation:\n",
              "      spin 1s steps(1) infinite;\n",
              "  }\n",
              "\n",
              "  @keyframes spin {\n",
              "    0% {\n",
              "      border-color: transparent;\n",
              "      border-bottom-color: var(--fill-color);\n",
              "      border-left-color: var(--fill-color);\n",
              "    }\n",
              "    20% {\n",
              "      border-color: transparent;\n",
              "      border-left-color: var(--fill-color);\n",
              "      border-top-color: var(--fill-color);\n",
              "    }\n",
              "    30% {\n",
              "      border-color: transparent;\n",
              "      border-left-color: var(--fill-color);\n",
              "      border-top-color: var(--fill-color);\n",
              "      border-right-color: var(--fill-color);\n",
              "    }\n",
              "    40% {\n",
              "      border-color: transparent;\n",
              "      border-right-color: var(--fill-color);\n",
              "      border-top-color: var(--fill-color);\n",
              "    }\n",
              "    60% {\n",
              "      border-color: transparent;\n",
              "      border-right-color: var(--fill-color);\n",
              "    }\n",
              "    80% {\n",
              "      border-color: transparent;\n",
              "      border-right-color: var(--fill-color);\n",
              "      border-bottom-color: var(--fill-color);\n",
              "    }\n",
              "    90% {\n",
              "      border-color: transparent;\n",
              "      border-bottom-color: var(--fill-color);\n",
              "    }\n",
              "  }\n",
              "</style>\n",
              "\n",
              "  <script>\n",
              "    async function quickchart(key) {\n",
              "      const quickchartButtonEl =\n",
              "        document.querySelector('#' + key + ' button');\n",
              "      quickchartButtonEl.disabled = true;  // To prevent multiple clicks.\n",
              "      quickchartButtonEl.classList.add('colab-df-spinner');\n",
              "      try {\n",
              "        const charts = await google.colab.kernel.invokeFunction(\n",
              "            'suggestCharts', [key], {});\n",
              "      } catch (error) {\n",
              "        console.error('Error during call to suggestCharts:', error);\n",
              "      }\n",
              "      quickchartButtonEl.classList.remove('colab-df-spinner');\n",
              "      quickchartButtonEl.classList.add('colab-df-quickchart-complete');\n",
              "    }\n",
              "    (() => {\n",
              "      let quickchartButtonEl =\n",
              "        document.querySelector('#df-71dda36a-886c-4f22-accb-2c6fe432bf82 button');\n",
              "      quickchartButtonEl.style.display =\n",
              "        google.colab.kernel.accessAllowed ? 'block' : 'none';\n",
              "    })();\n",
              "  </script>\n",
              "</div>\n",
              "\n",
              "    </div>\n",
              "  </div>\n"
            ],
            "application/vnd.google.colaboratory.intrinsic+json": {
              "type": "dataframe",
              "variable_name": "s_aureus"
            }
          },
          "metadata": {},
          "execution_count": 10
        }
      ],
      "source": [
        "s_aureus = pd.read_csv('/content/e_coli_driams_b_2000_20000Da_v2 (1).csv')\n",
        "s_aureus.head()"
      ]
    },
    {
      "cell_type": "markdown",
      "metadata": {
        "id": "NhURWBqqXoQp"
      },
      "source": [
        "# Preprocessing Data"
      ]
    },
    {
      "cell_type": "code",
      "execution_count": 12,
      "metadata": {
        "id": "koTco5gulH3G"
      },
      "outputs": [],
      "source": [
        "s_aureus = s_aureus.drop(columns=['code','species', 'Ceftriaxone', 'Cefepime', 'Piperacillin-Tazobactam'])\n",
        "s_aureus.dropna(axis=0, how=\"any\", inplace=True)"
      ]
    },
    {
      "cell_type": "code",
      "execution_count": 13,
      "metadata": {
        "colab": {
          "base_uri": "https://localhost:8080/",
          "height": 256
        },
        "id": "wZUfupfGtc7O",
        "outputId": "8c1dfbf5-9094-4434-eb78-ed05f2295a1c"
      },
      "outputs": [
        {
          "output_type": "execute_result",
          "data": {
            "text/plain": [
              "           2000          2003          2006          2009          2012  \\\n",
              "0   1067.142857   1251.714286   1310.571429   1021.142857   1315.625000   \n",
              "1   1872.857143   1677.285714   2035.714286   2086.250000   1930.571429   \n",
              "2   3258.142857   3209.428571   3068.571429   3162.428571   3275.000000   \n",
              "3  18912.571429  19530.571429  19464.875000  19098.714286  18994.714286   \n",
              "4   1685.000000   1537.428571   1283.714286   1472.285714   1370.142857   \n",
              "\n",
              "           2015          2018          2021          2024          2027  ...  \\\n",
              "0    974.000000    936.857143    853.571429    936.142857   1044.285714  ...   \n",
              "1   2017.142857   1856.857143   1655.857143   1547.142857   1713.000000  ...   \n",
              "2   3324.571429   2999.000000   2970.500000   3213.000000   3205.571429  ...   \n",
              "3  18936.285714  19208.571429  19417.571429  19486.857143  19048.625000  ...   \n",
              "4   1402.142857   1397.500000   1422.142857   1725.285714   3386.714286  ...   \n",
              "\n",
              "        19973       19976  19979       19982       19985  19988       19991  \\\n",
              "0   19.666667   20.000000   23.0   42.666667   15.000000   21.5    6.500000   \n",
              "1   32.000000   29.666667   30.0   18.000000   17.000000   21.0   15.000000   \n",
              "2   19.666667   20.000000   23.5   14.500000   13.666667   17.0   17.000000   \n",
              "3  299.000000  269.333333  282.0  300.500000  311.000000  299.0  339.500000   \n",
              "4   25.000000   34.000000   33.0   37.333333   21.000000   32.5   48.333333   \n",
              "\n",
              "        19994       19997  Ciprofloxacin  \n",
              "0    4.666667   17.585859            0.0  \n",
              "1   26.500000   21.736842            0.0  \n",
              "2   30.000000   19.125000            0.0  \n",
              "3  359.000000  311.746032            0.0  \n",
              "4   66.500000   39.230769            1.0  \n",
              "\n",
              "[5 rows x 6001 columns]"
            ],
            "text/html": [
              "\n",
              "  <div id=\"df-780cabf9-7411-4f41-a7d2-481a7b2cba3f\" class=\"colab-df-container\">\n",
              "    <div>\n",
              "<style scoped>\n",
              "    .dataframe tbody tr th:only-of-type {\n",
              "        vertical-align: middle;\n",
              "    }\n",
              "\n",
              "    .dataframe tbody tr th {\n",
              "        vertical-align: top;\n",
              "    }\n",
              "\n",
              "    .dataframe thead th {\n",
              "        text-align: right;\n",
              "    }\n",
              "</style>\n",
              "<table border=\"1\" class=\"dataframe\">\n",
              "  <thead>\n",
              "    <tr style=\"text-align: right;\">\n",
              "      <th></th>\n",
              "      <th>2000</th>\n",
              "      <th>2003</th>\n",
              "      <th>2006</th>\n",
              "      <th>2009</th>\n",
              "      <th>2012</th>\n",
              "      <th>2015</th>\n",
              "      <th>2018</th>\n",
              "      <th>2021</th>\n",
              "      <th>2024</th>\n",
              "      <th>2027</th>\n",
              "      <th>...</th>\n",
              "      <th>19973</th>\n",
              "      <th>19976</th>\n",
              "      <th>19979</th>\n",
              "      <th>19982</th>\n",
              "      <th>19985</th>\n",
              "      <th>19988</th>\n",
              "      <th>19991</th>\n",
              "      <th>19994</th>\n",
              "      <th>19997</th>\n",
              "      <th>Ciprofloxacin</th>\n",
              "    </tr>\n",
              "  </thead>\n",
              "  <tbody>\n",
              "    <tr>\n",
              "      <th>0</th>\n",
              "      <td>1067.142857</td>\n",
              "      <td>1251.714286</td>\n",
              "      <td>1310.571429</td>\n",
              "      <td>1021.142857</td>\n",
              "      <td>1315.625000</td>\n",
              "      <td>974.000000</td>\n",
              "      <td>936.857143</td>\n",
              "      <td>853.571429</td>\n",
              "      <td>936.142857</td>\n",
              "      <td>1044.285714</td>\n",
              "      <td>...</td>\n",
              "      <td>19.666667</td>\n",
              "      <td>20.000000</td>\n",
              "      <td>23.0</td>\n",
              "      <td>42.666667</td>\n",
              "      <td>15.000000</td>\n",
              "      <td>21.5</td>\n",
              "      <td>6.500000</td>\n",
              "      <td>4.666667</td>\n",
              "      <td>17.585859</td>\n",
              "      <td>0.0</td>\n",
              "    </tr>\n",
              "    <tr>\n",
              "      <th>1</th>\n",
              "      <td>1872.857143</td>\n",
              "      <td>1677.285714</td>\n",
              "      <td>2035.714286</td>\n",
              "      <td>2086.250000</td>\n",
              "      <td>1930.571429</td>\n",
              "      <td>2017.142857</td>\n",
              "      <td>1856.857143</td>\n",
              "      <td>1655.857143</td>\n",
              "      <td>1547.142857</td>\n",
              "      <td>1713.000000</td>\n",
              "      <td>...</td>\n",
              "      <td>32.000000</td>\n",
              "      <td>29.666667</td>\n",
              "      <td>30.0</td>\n",
              "      <td>18.000000</td>\n",
              "      <td>17.000000</td>\n",
              "      <td>21.0</td>\n",
              "      <td>15.000000</td>\n",
              "      <td>26.500000</td>\n",
              "      <td>21.736842</td>\n",
              "      <td>0.0</td>\n",
              "    </tr>\n",
              "    <tr>\n",
              "      <th>2</th>\n",
              "      <td>3258.142857</td>\n",
              "      <td>3209.428571</td>\n",
              "      <td>3068.571429</td>\n",
              "      <td>3162.428571</td>\n",
              "      <td>3275.000000</td>\n",
              "      <td>3324.571429</td>\n",
              "      <td>2999.000000</td>\n",
              "      <td>2970.500000</td>\n",
              "      <td>3213.000000</td>\n",
              "      <td>3205.571429</td>\n",
              "      <td>...</td>\n",
              "      <td>19.666667</td>\n",
              "      <td>20.000000</td>\n",
              "      <td>23.5</td>\n",
              "      <td>14.500000</td>\n",
              "      <td>13.666667</td>\n",
              "      <td>17.0</td>\n",
              "      <td>17.000000</td>\n",
              "      <td>30.000000</td>\n",
              "      <td>19.125000</td>\n",
              "      <td>0.0</td>\n",
              "    </tr>\n",
              "    <tr>\n",
              "      <th>3</th>\n",
              "      <td>18912.571429</td>\n",
              "      <td>19530.571429</td>\n",
              "      <td>19464.875000</td>\n",
              "      <td>19098.714286</td>\n",
              "      <td>18994.714286</td>\n",
              "      <td>18936.285714</td>\n",
              "      <td>19208.571429</td>\n",
              "      <td>19417.571429</td>\n",
              "      <td>19486.857143</td>\n",
              "      <td>19048.625000</td>\n",
              "      <td>...</td>\n",
              "      <td>299.000000</td>\n",
              "      <td>269.333333</td>\n",
              "      <td>282.0</td>\n",
              "      <td>300.500000</td>\n",
              "      <td>311.000000</td>\n",
              "      <td>299.0</td>\n",
              "      <td>339.500000</td>\n",
              "      <td>359.000000</td>\n",
              "      <td>311.746032</td>\n",
              "      <td>0.0</td>\n",
              "    </tr>\n",
              "    <tr>\n",
              "      <th>4</th>\n",
              "      <td>1685.000000</td>\n",
              "      <td>1537.428571</td>\n",
              "      <td>1283.714286</td>\n",
              "      <td>1472.285714</td>\n",
              "      <td>1370.142857</td>\n",
              "      <td>1402.142857</td>\n",
              "      <td>1397.500000</td>\n",
              "      <td>1422.142857</td>\n",
              "      <td>1725.285714</td>\n",
              "      <td>3386.714286</td>\n",
              "      <td>...</td>\n",
              "      <td>25.000000</td>\n",
              "      <td>34.000000</td>\n",
              "      <td>33.0</td>\n",
              "      <td>37.333333</td>\n",
              "      <td>21.000000</td>\n",
              "      <td>32.5</td>\n",
              "      <td>48.333333</td>\n",
              "      <td>66.500000</td>\n",
              "      <td>39.230769</td>\n",
              "      <td>1.0</td>\n",
              "    </tr>\n",
              "  </tbody>\n",
              "</table>\n",
              "<p>5 rows × 6001 columns</p>\n",
              "</div>\n",
              "    <div class=\"colab-df-buttons\">\n",
              "\n",
              "  <div class=\"colab-df-container\">\n",
              "    <button class=\"colab-df-convert\" onclick=\"convertToInteractive('df-780cabf9-7411-4f41-a7d2-481a7b2cba3f')\"\n",
              "            title=\"Convert this dataframe to an interactive table.\"\n",
              "            style=\"display:none;\">\n",
              "\n",
              "  <svg xmlns=\"http://www.w3.org/2000/svg\" height=\"24px\" viewBox=\"0 -960 960 960\">\n",
              "    <path d=\"M120-120v-720h720v720H120Zm60-500h600v-160H180v160Zm220 220h160v-160H400v160Zm0 220h160v-160H400v160ZM180-400h160v-160H180v160Zm440 0h160v-160H620v160ZM180-180h160v-160H180v160Zm440 0h160v-160H620v160Z\"/>\n",
              "  </svg>\n",
              "    </button>\n",
              "\n",
              "  <style>\n",
              "    .colab-df-container {\n",
              "      display:flex;\n",
              "      gap: 12px;\n",
              "    }\n",
              "\n",
              "    .colab-df-convert {\n",
              "      background-color: #E8F0FE;\n",
              "      border: none;\n",
              "      border-radius: 50%;\n",
              "      cursor: pointer;\n",
              "      display: none;\n",
              "      fill: #1967D2;\n",
              "      height: 32px;\n",
              "      padding: 0 0 0 0;\n",
              "      width: 32px;\n",
              "    }\n",
              "\n",
              "    .colab-df-convert:hover {\n",
              "      background-color: #E2EBFA;\n",
              "      box-shadow: 0px 1px 2px rgba(60, 64, 67, 0.3), 0px 1px 3px 1px rgba(60, 64, 67, 0.15);\n",
              "      fill: #174EA6;\n",
              "    }\n",
              "\n",
              "    .colab-df-buttons div {\n",
              "      margin-bottom: 4px;\n",
              "    }\n",
              "\n",
              "    [theme=dark] .colab-df-convert {\n",
              "      background-color: #3B4455;\n",
              "      fill: #D2E3FC;\n",
              "    }\n",
              "\n",
              "    [theme=dark] .colab-df-convert:hover {\n",
              "      background-color: #434B5C;\n",
              "      box-shadow: 0px 1px 3px 1px rgba(0, 0, 0, 0.15);\n",
              "      filter: drop-shadow(0px 1px 2px rgba(0, 0, 0, 0.3));\n",
              "      fill: #FFFFFF;\n",
              "    }\n",
              "  </style>\n",
              "\n",
              "    <script>\n",
              "      const buttonEl =\n",
              "        document.querySelector('#df-780cabf9-7411-4f41-a7d2-481a7b2cba3f button.colab-df-convert');\n",
              "      buttonEl.style.display =\n",
              "        google.colab.kernel.accessAllowed ? 'block' : 'none';\n",
              "\n",
              "      async function convertToInteractive(key) {\n",
              "        const element = document.querySelector('#df-780cabf9-7411-4f41-a7d2-481a7b2cba3f');\n",
              "        const dataTable =\n",
              "          await google.colab.kernel.invokeFunction('convertToInteractive',\n",
              "                                                    [key], {});\n",
              "        if (!dataTable) return;\n",
              "\n",
              "        const docLinkHtml = 'Like what you see? Visit the ' +\n",
              "          '<a target=\"_blank\" href=https://colab.research.google.com/notebooks/data_table.ipynb>data table notebook</a>'\n",
              "          + ' to learn more about interactive tables.';\n",
              "        element.innerHTML = '';\n",
              "        dataTable['output_type'] = 'display_data';\n",
              "        await google.colab.output.renderOutput(dataTable, element);\n",
              "        const docLink = document.createElement('div');\n",
              "        docLink.innerHTML = docLinkHtml;\n",
              "        element.appendChild(docLink);\n",
              "      }\n",
              "    </script>\n",
              "  </div>\n",
              "\n",
              "\n",
              "<div id=\"df-a12e2155-592e-4227-b60f-eaed77d0e0da\">\n",
              "  <button class=\"colab-df-quickchart\" onclick=\"quickchart('df-a12e2155-592e-4227-b60f-eaed77d0e0da')\"\n",
              "            title=\"Suggest charts\"\n",
              "            style=\"display:none;\">\n",
              "\n",
              "<svg xmlns=\"http://www.w3.org/2000/svg\" height=\"24px\"viewBox=\"0 0 24 24\"\n",
              "     width=\"24px\">\n",
              "    <g>\n",
              "        <path d=\"M19 3H5c-1.1 0-2 .9-2 2v14c0 1.1.9 2 2 2h14c1.1 0 2-.9 2-2V5c0-1.1-.9-2-2-2zM9 17H7v-7h2v7zm4 0h-2V7h2v10zm4 0h-2v-4h2v4z\"/>\n",
              "    </g>\n",
              "</svg>\n",
              "  </button>\n",
              "\n",
              "<style>\n",
              "  .colab-df-quickchart {\n",
              "      --bg-color: #E8F0FE;\n",
              "      --fill-color: #1967D2;\n",
              "      --hover-bg-color: #E2EBFA;\n",
              "      --hover-fill-color: #174EA6;\n",
              "      --disabled-fill-color: #AAA;\n",
              "      --disabled-bg-color: #DDD;\n",
              "  }\n",
              "\n",
              "  [theme=dark] .colab-df-quickchart {\n",
              "      --bg-color: #3B4455;\n",
              "      --fill-color: #D2E3FC;\n",
              "      --hover-bg-color: #434B5C;\n",
              "      --hover-fill-color: #FFFFFF;\n",
              "      --disabled-bg-color: #3B4455;\n",
              "      --disabled-fill-color: #666;\n",
              "  }\n",
              "\n",
              "  .colab-df-quickchart {\n",
              "    background-color: var(--bg-color);\n",
              "    border: none;\n",
              "    border-radius: 50%;\n",
              "    cursor: pointer;\n",
              "    display: none;\n",
              "    fill: var(--fill-color);\n",
              "    height: 32px;\n",
              "    padding: 0;\n",
              "    width: 32px;\n",
              "  }\n",
              "\n",
              "  .colab-df-quickchart:hover {\n",
              "    background-color: var(--hover-bg-color);\n",
              "    box-shadow: 0 1px 2px rgba(60, 64, 67, 0.3), 0 1px 3px 1px rgba(60, 64, 67, 0.15);\n",
              "    fill: var(--button-hover-fill-color);\n",
              "  }\n",
              "\n",
              "  .colab-df-quickchart-complete:disabled,\n",
              "  .colab-df-quickchart-complete:disabled:hover {\n",
              "    background-color: var(--disabled-bg-color);\n",
              "    fill: var(--disabled-fill-color);\n",
              "    box-shadow: none;\n",
              "  }\n",
              "\n",
              "  .colab-df-spinner {\n",
              "    border: 2px solid var(--fill-color);\n",
              "    border-color: transparent;\n",
              "    border-bottom-color: var(--fill-color);\n",
              "    animation:\n",
              "      spin 1s steps(1) infinite;\n",
              "  }\n",
              "\n",
              "  @keyframes spin {\n",
              "    0% {\n",
              "      border-color: transparent;\n",
              "      border-bottom-color: var(--fill-color);\n",
              "      border-left-color: var(--fill-color);\n",
              "    }\n",
              "    20% {\n",
              "      border-color: transparent;\n",
              "      border-left-color: var(--fill-color);\n",
              "      border-top-color: var(--fill-color);\n",
              "    }\n",
              "    30% {\n",
              "      border-color: transparent;\n",
              "      border-left-color: var(--fill-color);\n",
              "      border-top-color: var(--fill-color);\n",
              "      border-right-color: var(--fill-color);\n",
              "    }\n",
              "    40% {\n",
              "      border-color: transparent;\n",
              "      border-right-color: var(--fill-color);\n",
              "      border-top-color: var(--fill-color);\n",
              "    }\n",
              "    60% {\n",
              "      border-color: transparent;\n",
              "      border-right-color: var(--fill-color);\n",
              "    }\n",
              "    80% {\n",
              "      border-color: transparent;\n",
              "      border-right-color: var(--fill-color);\n",
              "      border-bottom-color: var(--fill-color);\n",
              "    }\n",
              "    90% {\n",
              "      border-color: transparent;\n",
              "      border-bottom-color: var(--fill-color);\n",
              "    }\n",
              "  }\n",
              "</style>\n",
              "\n",
              "  <script>\n",
              "    async function quickchart(key) {\n",
              "      const quickchartButtonEl =\n",
              "        document.querySelector('#' + key + ' button');\n",
              "      quickchartButtonEl.disabled = true;  // To prevent multiple clicks.\n",
              "      quickchartButtonEl.classList.add('colab-df-spinner');\n",
              "      try {\n",
              "        const charts = await google.colab.kernel.invokeFunction(\n",
              "            'suggestCharts', [key], {});\n",
              "      } catch (error) {\n",
              "        console.error('Error during call to suggestCharts:', error);\n",
              "      }\n",
              "      quickchartButtonEl.classList.remove('colab-df-spinner');\n",
              "      quickchartButtonEl.classList.add('colab-df-quickchart-complete');\n",
              "    }\n",
              "    (() => {\n",
              "      let quickchartButtonEl =\n",
              "        document.querySelector('#df-a12e2155-592e-4227-b60f-eaed77d0e0da button');\n",
              "      quickchartButtonEl.style.display =\n",
              "        google.colab.kernel.accessAllowed ? 'block' : 'none';\n",
              "    })();\n",
              "  </script>\n",
              "</div>\n",
              "\n",
              "    </div>\n",
              "  </div>\n"
            ],
            "application/vnd.google.colaboratory.intrinsic+json": {
              "type": "dataframe",
              "variable_name": "s_aureus"
            }
          },
          "metadata": {},
          "execution_count": 13
        }
      ],
      "source": [
        "s_aureus.head()"
      ]
    },
    {
      "cell_type": "code",
      "execution_count": 14,
      "metadata": {
        "id": "tm-7IYRv4ERw"
      },
      "outputs": [],
      "source": [
        "bacteria = s_aureus.columns[-1]"
      ]
    },
    {
      "cell_type": "code",
      "execution_count": 15,
      "metadata": {
        "colab": {
          "base_uri": "https://localhost:8080/"
        },
        "id": "TGFYz7-L4ERw",
        "outputId": "d70d49bb-4ba4-4aaf-e2da-7d0fb2babf41"
      },
      "outputs": [
        {
          "output_type": "stream",
          "name": "stdout",
          "text": [
            "clase minoritaria 59\n",
            "clase mayoritaria 154\n"
          ]
        }
      ],
      "source": [
        "print('clase minoritaria',s_aureus[s_aureus[bacteria] == 1].shape[0])\n",
        "print('clase mayoritaria',s_aureus[s_aureus[bacteria] == 0].shape[0])"
      ]
    },
    {
      "cell_type": "code",
      "execution_count": 16,
      "metadata": {
        "id": "BRDYo4Gf4ERx"
      },
      "outputs": [],
      "source": [
        "X = s_aureus.iloc[:, 0:6000].values  # variables independientes (espectros de masa)\n",
        "y = s_aureus.iloc[:, 6000].values    # variable dependientes (resistencia a ciprofloxacin)\n",
        "X = np.asarray(X).astype(np.float32)\n",
        "y = np.asarray(y).astype(np.float32)"
      ]
    },
    {
      "cell_type": "code",
      "execution_count": 17,
      "metadata": {
        "id": "0snMAi2J4ERx"
      },
      "outputs": [],
      "source": [
        "X_train, X_test, y_train, y_test = train_test_split(X, y, test_size = 0.2, random_state = 0, stratify=y)"
      ]
    },
    {
      "cell_type": "code",
      "execution_count": 18,
      "metadata": {
        "colab": {
          "base_uri": "https://localhost:8080/"
        },
        "id": "fnyTZFbv4ERx",
        "outputId": "2230a416-c84a-4df1-cce2-c8fd7680a863"
      },
      "outputs": [
        {
          "output_type": "execute_result",
          "data": {
            "text/plain": [
              "(170, 6000)"
            ]
          },
          "metadata": {},
          "execution_count": 18
        }
      ],
      "source": [
        "X_train.shape"
      ]
    },
    {
      "cell_type": "markdown",
      "metadata": {
        "id": "jOKQQmNG4ERy"
      },
      "source": [
        "## Enfoque en clase minoritaria"
      ]
    },
    {
      "cell_type": "code",
      "execution_count": 19,
      "metadata": {
        "id": "F7wEgry64ERy"
      },
      "outputs": [],
      "source": [
        "minority_class = s_aureus[s_aureus[bacteria] == 1].drop(columns=[bacteria])\n"
      ]
    },
    {
      "cell_type": "code",
      "execution_count": 20,
      "metadata": {
        "colab": {
          "base_uri": "https://localhost:8080/",
          "height": 256
        },
        "id": "Hy7KWCZA4ERy",
        "outputId": "7f6d3cad-32ba-44f8-d119-0de92f543557"
      },
      "outputs": [
        {
          "output_type": "execute_result",
          "data": {
            "text/plain": [
              "           2000         2003         2006         2009         2012  \\\n",
              "4   1685.000000  1537.428571  1283.714286  1472.285714  1370.142857   \n",
              "6   2609.857143  2827.714286  2829.285714  2664.375000  2552.714286   \n",
              "21  2461.714286  2371.875000  3136.000000  2858.142857  2427.571429   \n",
              "23  2263.142857  2272.428571  2201.428571  2340.571429  1961.000000   \n",
              "24  4392.142857  4385.857143  4368.000000  4249.714286  4252.142857   \n",
              "\n",
              "           2015         2018         2021         2024         2027  ...  \\\n",
              "4   1402.142857  1397.500000  1422.142857  1725.285714  3386.714286  ...   \n",
              "6   2823.285714  2694.571429  2847.285714  2661.571429  2544.285714  ...   \n",
              "21  2449.714286  2436.285714  2194.125000  2246.428571  2538.714286  ...   \n",
              "23  2168.285714  2264.142857  2209.000000  2118.000000  2267.571429  ...   \n",
              "24  4330.285714  4398.250000  4322.285714  4141.428571  4183.285714  ...   \n",
              "\n",
              "         19970       19973       19976       19979       19982  19985  \\\n",
              "4    38.333333   25.000000   34.000000   33.000000   37.333333   21.0   \n",
              "6   114.000000  112.000000  132.333333   97.500000  113.000000  151.0   \n",
              "21  156.500000  163.333333  177.000000  182.500000  154.500000  172.0   \n",
              "23   12.500000    7.333333    2.000000   11.500000   19.333333    9.0   \n",
              "24   19.000000   21.000000    6.000000   15.333333    6.000000    6.0   \n",
              "\n",
              "         19988       19991       19994       19997  \n",
              "4    32.500000   48.333333   66.500000   39.230769  \n",
              "6   108.666667  113.000000   88.000000   97.010309  \n",
              "21  182.500000  152.500000  125.500000  156.954955  \n",
              "23    6.000000   15.000000    5.333333   10.547170  \n",
              "24   24.333333    5.000000   18.000000   13.500000  \n",
              "\n",
              "[5 rows x 6000 columns]"
            ],
            "text/html": [
              "\n",
              "  <div id=\"df-8675696e-943e-46ac-b0dd-932a0c9adddf\" class=\"colab-df-container\">\n",
              "    <div>\n",
              "<style scoped>\n",
              "    .dataframe tbody tr th:only-of-type {\n",
              "        vertical-align: middle;\n",
              "    }\n",
              "\n",
              "    .dataframe tbody tr th {\n",
              "        vertical-align: top;\n",
              "    }\n",
              "\n",
              "    .dataframe thead th {\n",
              "        text-align: right;\n",
              "    }\n",
              "</style>\n",
              "<table border=\"1\" class=\"dataframe\">\n",
              "  <thead>\n",
              "    <tr style=\"text-align: right;\">\n",
              "      <th></th>\n",
              "      <th>2000</th>\n",
              "      <th>2003</th>\n",
              "      <th>2006</th>\n",
              "      <th>2009</th>\n",
              "      <th>2012</th>\n",
              "      <th>2015</th>\n",
              "      <th>2018</th>\n",
              "      <th>2021</th>\n",
              "      <th>2024</th>\n",
              "      <th>2027</th>\n",
              "      <th>...</th>\n",
              "      <th>19970</th>\n",
              "      <th>19973</th>\n",
              "      <th>19976</th>\n",
              "      <th>19979</th>\n",
              "      <th>19982</th>\n",
              "      <th>19985</th>\n",
              "      <th>19988</th>\n",
              "      <th>19991</th>\n",
              "      <th>19994</th>\n",
              "      <th>19997</th>\n",
              "    </tr>\n",
              "  </thead>\n",
              "  <tbody>\n",
              "    <tr>\n",
              "      <th>4</th>\n",
              "      <td>1685.000000</td>\n",
              "      <td>1537.428571</td>\n",
              "      <td>1283.714286</td>\n",
              "      <td>1472.285714</td>\n",
              "      <td>1370.142857</td>\n",
              "      <td>1402.142857</td>\n",
              "      <td>1397.500000</td>\n",
              "      <td>1422.142857</td>\n",
              "      <td>1725.285714</td>\n",
              "      <td>3386.714286</td>\n",
              "      <td>...</td>\n",
              "      <td>38.333333</td>\n",
              "      <td>25.000000</td>\n",
              "      <td>34.000000</td>\n",
              "      <td>33.000000</td>\n",
              "      <td>37.333333</td>\n",
              "      <td>21.0</td>\n",
              "      <td>32.500000</td>\n",
              "      <td>48.333333</td>\n",
              "      <td>66.500000</td>\n",
              "      <td>39.230769</td>\n",
              "    </tr>\n",
              "    <tr>\n",
              "      <th>6</th>\n",
              "      <td>2609.857143</td>\n",
              "      <td>2827.714286</td>\n",
              "      <td>2829.285714</td>\n",
              "      <td>2664.375000</td>\n",
              "      <td>2552.714286</td>\n",
              "      <td>2823.285714</td>\n",
              "      <td>2694.571429</td>\n",
              "      <td>2847.285714</td>\n",
              "      <td>2661.571429</td>\n",
              "      <td>2544.285714</td>\n",
              "      <td>...</td>\n",
              "      <td>114.000000</td>\n",
              "      <td>112.000000</td>\n",
              "      <td>132.333333</td>\n",
              "      <td>97.500000</td>\n",
              "      <td>113.000000</td>\n",
              "      <td>151.0</td>\n",
              "      <td>108.666667</td>\n",
              "      <td>113.000000</td>\n",
              "      <td>88.000000</td>\n",
              "      <td>97.010309</td>\n",
              "    </tr>\n",
              "    <tr>\n",
              "      <th>21</th>\n",
              "      <td>2461.714286</td>\n",
              "      <td>2371.875000</td>\n",
              "      <td>3136.000000</td>\n",
              "      <td>2858.142857</td>\n",
              "      <td>2427.571429</td>\n",
              "      <td>2449.714286</td>\n",
              "      <td>2436.285714</td>\n",
              "      <td>2194.125000</td>\n",
              "      <td>2246.428571</td>\n",
              "      <td>2538.714286</td>\n",
              "      <td>...</td>\n",
              "      <td>156.500000</td>\n",
              "      <td>163.333333</td>\n",
              "      <td>177.000000</td>\n",
              "      <td>182.500000</td>\n",
              "      <td>154.500000</td>\n",
              "      <td>172.0</td>\n",
              "      <td>182.500000</td>\n",
              "      <td>152.500000</td>\n",
              "      <td>125.500000</td>\n",
              "      <td>156.954955</td>\n",
              "    </tr>\n",
              "    <tr>\n",
              "      <th>23</th>\n",
              "      <td>2263.142857</td>\n",
              "      <td>2272.428571</td>\n",
              "      <td>2201.428571</td>\n",
              "      <td>2340.571429</td>\n",
              "      <td>1961.000000</td>\n",
              "      <td>2168.285714</td>\n",
              "      <td>2264.142857</td>\n",
              "      <td>2209.000000</td>\n",
              "      <td>2118.000000</td>\n",
              "      <td>2267.571429</td>\n",
              "      <td>...</td>\n",
              "      <td>12.500000</td>\n",
              "      <td>7.333333</td>\n",
              "      <td>2.000000</td>\n",
              "      <td>11.500000</td>\n",
              "      <td>19.333333</td>\n",
              "      <td>9.0</td>\n",
              "      <td>6.000000</td>\n",
              "      <td>15.000000</td>\n",
              "      <td>5.333333</td>\n",
              "      <td>10.547170</td>\n",
              "    </tr>\n",
              "    <tr>\n",
              "      <th>24</th>\n",
              "      <td>4392.142857</td>\n",
              "      <td>4385.857143</td>\n",
              "      <td>4368.000000</td>\n",
              "      <td>4249.714286</td>\n",
              "      <td>4252.142857</td>\n",
              "      <td>4330.285714</td>\n",
              "      <td>4398.250000</td>\n",
              "      <td>4322.285714</td>\n",
              "      <td>4141.428571</td>\n",
              "      <td>4183.285714</td>\n",
              "      <td>...</td>\n",
              "      <td>19.000000</td>\n",
              "      <td>21.000000</td>\n",
              "      <td>6.000000</td>\n",
              "      <td>15.333333</td>\n",
              "      <td>6.000000</td>\n",
              "      <td>6.0</td>\n",
              "      <td>24.333333</td>\n",
              "      <td>5.000000</td>\n",
              "      <td>18.000000</td>\n",
              "      <td>13.500000</td>\n",
              "    </tr>\n",
              "  </tbody>\n",
              "</table>\n",
              "<p>5 rows × 6000 columns</p>\n",
              "</div>\n",
              "    <div class=\"colab-df-buttons\">\n",
              "\n",
              "  <div class=\"colab-df-container\">\n",
              "    <button class=\"colab-df-convert\" onclick=\"convertToInteractive('df-8675696e-943e-46ac-b0dd-932a0c9adddf')\"\n",
              "            title=\"Convert this dataframe to an interactive table.\"\n",
              "            style=\"display:none;\">\n",
              "\n",
              "  <svg xmlns=\"http://www.w3.org/2000/svg\" height=\"24px\" viewBox=\"0 -960 960 960\">\n",
              "    <path d=\"M120-120v-720h720v720H120Zm60-500h600v-160H180v160Zm220 220h160v-160H400v160Zm0 220h160v-160H400v160ZM180-400h160v-160H180v160Zm440 0h160v-160H620v160ZM180-180h160v-160H180v160Zm440 0h160v-160H620v160Z\"/>\n",
              "  </svg>\n",
              "    </button>\n",
              "\n",
              "  <style>\n",
              "    .colab-df-container {\n",
              "      display:flex;\n",
              "      gap: 12px;\n",
              "    }\n",
              "\n",
              "    .colab-df-convert {\n",
              "      background-color: #E8F0FE;\n",
              "      border: none;\n",
              "      border-radius: 50%;\n",
              "      cursor: pointer;\n",
              "      display: none;\n",
              "      fill: #1967D2;\n",
              "      height: 32px;\n",
              "      padding: 0 0 0 0;\n",
              "      width: 32px;\n",
              "    }\n",
              "\n",
              "    .colab-df-convert:hover {\n",
              "      background-color: #E2EBFA;\n",
              "      box-shadow: 0px 1px 2px rgba(60, 64, 67, 0.3), 0px 1px 3px 1px rgba(60, 64, 67, 0.15);\n",
              "      fill: #174EA6;\n",
              "    }\n",
              "\n",
              "    .colab-df-buttons div {\n",
              "      margin-bottom: 4px;\n",
              "    }\n",
              "\n",
              "    [theme=dark] .colab-df-convert {\n",
              "      background-color: #3B4455;\n",
              "      fill: #D2E3FC;\n",
              "    }\n",
              "\n",
              "    [theme=dark] .colab-df-convert:hover {\n",
              "      background-color: #434B5C;\n",
              "      box-shadow: 0px 1px 3px 1px rgba(0, 0, 0, 0.15);\n",
              "      filter: drop-shadow(0px 1px 2px rgba(0, 0, 0, 0.3));\n",
              "      fill: #FFFFFF;\n",
              "    }\n",
              "  </style>\n",
              "\n",
              "    <script>\n",
              "      const buttonEl =\n",
              "        document.querySelector('#df-8675696e-943e-46ac-b0dd-932a0c9adddf button.colab-df-convert');\n",
              "      buttonEl.style.display =\n",
              "        google.colab.kernel.accessAllowed ? 'block' : 'none';\n",
              "\n",
              "      async function convertToInteractive(key) {\n",
              "        const element = document.querySelector('#df-8675696e-943e-46ac-b0dd-932a0c9adddf');\n",
              "        const dataTable =\n",
              "          await google.colab.kernel.invokeFunction('convertToInteractive',\n",
              "                                                    [key], {});\n",
              "        if (!dataTable) return;\n",
              "\n",
              "        const docLinkHtml = 'Like what you see? Visit the ' +\n",
              "          '<a target=\"_blank\" href=https://colab.research.google.com/notebooks/data_table.ipynb>data table notebook</a>'\n",
              "          + ' to learn more about interactive tables.';\n",
              "        element.innerHTML = '';\n",
              "        dataTable['output_type'] = 'display_data';\n",
              "        await google.colab.output.renderOutput(dataTable, element);\n",
              "        const docLink = document.createElement('div');\n",
              "        docLink.innerHTML = docLinkHtml;\n",
              "        element.appendChild(docLink);\n",
              "      }\n",
              "    </script>\n",
              "  </div>\n",
              "\n",
              "\n",
              "<div id=\"df-411bc1cc-d6e5-4f29-ac1c-973124abbb29\">\n",
              "  <button class=\"colab-df-quickchart\" onclick=\"quickchart('df-411bc1cc-d6e5-4f29-ac1c-973124abbb29')\"\n",
              "            title=\"Suggest charts\"\n",
              "            style=\"display:none;\">\n",
              "\n",
              "<svg xmlns=\"http://www.w3.org/2000/svg\" height=\"24px\"viewBox=\"0 0 24 24\"\n",
              "     width=\"24px\">\n",
              "    <g>\n",
              "        <path d=\"M19 3H5c-1.1 0-2 .9-2 2v14c0 1.1.9 2 2 2h14c1.1 0 2-.9 2-2V5c0-1.1-.9-2-2-2zM9 17H7v-7h2v7zm4 0h-2V7h2v10zm4 0h-2v-4h2v4z\"/>\n",
              "    </g>\n",
              "</svg>\n",
              "  </button>\n",
              "\n",
              "<style>\n",
              "  .colab-df-quickchart {\n",
              "      --bg-color: #E8F0FE;\n",
              "      --fill-color: #1967D2;\n",
              "      --hover-bg-color: #E2EBFA;\n",
              "      --hover-fill-color: #174EA6;\n",
              "      --disabled-fill-color: #AAA;\n",
              "      --disabled-bg-color: #DDD;\n",
              "  }\n",
              "\n",
              "  [theme=dark] .colab-df-quickchart {\n",
              "      --bg-color: #3B4455;\n",
              "      --fill-color: #D2E3FC;\n",
              "      --hover-bg-color: #434B5C;\n",
              "      --hover-fill-color: #FFFFFF;\n",
              "      --disabled-bg-color: #3B4455;\n",
              "      --disabled-fill-color: #666;\n",
              "  }\n",
              "\n",
              "  .colab-df-quickchart {\n",
              "    background-color: var(--bg-color);\n",
              "    border: none;\n",
              "    border-radius: 50%;\n",
              "    cursor: pointer;\n",
              "    display: none;\n",
              "    fill: var(--fill-color);\n",
              "    height: 32px;\n",
              "    padding: 0;\n",
              "    width: 32px;\n",
              "  }\n",
              "\n",
              "  .colab-df-quickchart:hover {\n",
              "    background-color: var(--hover-bg-color);\n",
              "    box-shadow: 0 1px 2px rgba(60, 64, 67, 0.3), 0 1px 3px 1px rgba(60, 64, 67, 0.15);\n",
              "    fill: var(--button-hover-fill-color);\n",
              "  }\n",
              "\n",
              "  .colab-df-quickchart-complete:disabled,\n",
              "  .colab-df-quickchart-complete:disabled:hover {\n",
              "    background-color: var(--disabled-bg-color);\n",
              "    fill: var(--disabled-fill-color);\n",
              "    box-shadow: none;\n",
              "  }\n",
              "\n",
              "  .colab-df-spinner {\n",
              "    border: 2px solid var(--fill-color);\n",
              "    border-color: transparent;\n",
              "    border-bottom-color: var(--fill-color);\n",
              "    animation:\n",
              "      spin 1s steps(1) infinite;\n",
              "  }\n",
              "\n",
              "  @keyframes spin {\n",
              "    0% {\n",
              "      border-color: transparent;\n",
              "      border-bottom-color: var(--fill-color);\n",
              "      border-left-color: var(--fill-color);\n",
              "    }\n",
              "    20% {\n",
              "      border-color: transparent;\n",
              "      border-left-color: var(--fill-color);\n",
              "      border-top-color: var(--fill-color);\n",
              "    }\n",
              "    30% {\n",
              "      border-color: transparent;\n",
              "      border-left-color: var(--fill-color);\n",
              "      border-top-color: var(--fill-color);\n",
              "      border-right-color: var(--fill-color);\n",
              "    }\n",
              "    40% {\n",
              "      border-color: transparent;\n",
              "      border-right-color: var(--fill-color);\n",
              "      border-top-color: var(--fill-color);\n",
              "    }\n",
              "    60% {\n",
              "      border-color: transparent;\n",
              "      border-right-color: var(--fill-color);\n",
              "    }\n",
              "    80% {\n",
              "      border-color: transparent;\n",
              "      border-right-color: var(--fill-color);\n",
              "      border-bottom-color: var(--fill-color);\n",
              "    }\n",
              "    90% {\n",
              "      border-color: transparent;\n",
              "      border-bottom-color: var(--fill-color);\n",
              "    }\n",
              "  }\n",
              "</style>\n",
              "\n",
              "  <script>\n",
              "    async function quickchart(key) {\n",
              "      const quickchartButtonEl =\n",
              "        document.querySelector('#' + key + ' button');\n",
              "      quickchartButtonEl.disabled = true;  // To prevent multiple clicks.\n",
              "      quickchartButtonEl.classList.add('colab-df-spinner');\n",
              "      try {\n",
              "        const charts = await google.colab.kernel.invokeFunction(\n",
              "            'suggestCharts', [key], {});\n",
              "      } catch (error) {\n",
              "        console.error('Error during call to suggestCharts:', error);\n",
              "      }\n",
              "      quickchartButtonEl.classList.remove('colab-df-spinner');\n",
              "      quickchartButtonEl.classList.add('colab-df-quickchart-complete');\n",
              "    }\n",
              "    (() => {\n",
              "      let quickchartButtonEl =\n",
              "        document.querySelector('#df-411bc1cc-d6e5-4f29-ac1c-973124abbb29 button');\n",
              "      quickchartButtonEl.style.display =\n",
              "        google.colab.kernel.accessAllowed ? 'block' : 'none';\n",
              "    })();\n",
              "  </script>\n",
              "</div>\n",
              "\n",
              "    </div>\n",
              "  </div>\n"
            ],
            "application/vnd.google.colaboratory.intrinsic+json": {
              "type": "dataframe",
              "variable_name": "minority_class"
            }
          },
          "metadata": {},
          "execution_count": 20
        }
      ],
      "source": [
        "minority_class.head()"
      ]
    },
    {
      "cell_type": "code",
      "source": [
        "pip install sdv"
      ],
      "metadata": {
        "colab": {
          "base_uri": "https://localhost:8080/"
        },
        "id": "HnT8h-DX6mKS",
        "outputId": "816bfc88-3949-47fc-98b9-8800467b7882"
      },
      "execution_count": 22,
      "outputs": [
        {
          "output_type": "stream",
          "name": "stdout",
          "text": [
            "Collecting sdv\n",
            "  Downloading sdv-1.17.3-py3-none-any.whl.metadata (13 kB)\n",
            "Collecting boto3<2.0.0,>=1.28 (from sdv)\n",
            "  Downloading boto3-1.35.97-py3-none-any.whl.metadata (6.7 kB)\n",
            "Collecting botocore<2.0.0,>=1.31 (from sdv)\n",
            "  Downloading botocore-1.35.97-py3-none-any.whl.metadata (5.7 kB)\n",
            "Requirement already satisfied: cloudpickle>=2.1.0 in /usr/local/lib/python3.10/dist-packages (from sdv) (3.1.0)\n",
            "Requirement already satisfied: graphviz>=0.13.2 in /usr/local/lib/python3.10/dist-packages (from sdv) (0.20.3)\n",
            "Requirement already satisfied: numpy>=1.23.3 in /usr/local/lib/python3.10/dist-packages (from sdv) (1.26.4)\n",
            "Requirement already satisfied: pandas>=1.4.0 in /usr/local/lib/python3.10/dist-packages (from sdv) (2.2.2)\n",
            "Requirement already satisfied: tqdm>=4.29 in /usr/local/lib/python3.10/dist-packages (from sdv) (4.67.1)\n",
            "Collecting copulas>=0.12.0 (from sdv)\n",
            "  Downloading copulas-0.12.0-py3-none-any.whl.metadata (9.1 kB)\n",
            "Collecting ctgan>=0.10.2 (from sdv)\n",
            "  Downloading ctgan-0.10.2-py3-none-any.whl.metadata (10 kB)\n",
            "Collecting deepecho>=0.6.1 (from sdv)\n",
            "  Downloading deepecho-0.6.1-py3-none-any.whl.metadata (10 kB)\n",
            "Collecting rdt>=1.13.2.dev0 (from sdv)\n",
            "  Downloading rdt-1.13.2-py3-none-any.whl.metadata (10 kB)\n",
            "Collecting sdmetrics>=0.17.0 (from sdv)\n",
            "  Downloading sdmetrics-0.18.0-py3-none-any.whl.metadata (8.8 kB)\n",
            "Requirement already satisfied: platformdirs>=4.0 in /usr/local/lib/python3.10/dist-packages (from sdv) (4.3.6)\n",
            "Requirement already satisfied: pyyaml>=6.0.1 in /usr/local/lib/python3.10/dist-packages (from sdv) (6.0.2)\n",
            "Collecting jmespath<2.0.0,>=0.7.1 (from boto3<2.0.0,>=1.28->sdv)\n",
            "  Downloading jmespath-1.0.1-py3-none-any.whl.metadata (7.6 kB)\n",
            "Collecting s3transfer<0.11.0,>=0.10.0 (from boto3<2.0.0,>=1.28->sdv)\n",
            "  Downloading s3transfer-0.10.4-py3-none-any.whl.metadata (1.7 kB)\n",
            "Requirement already satisfied: python-dateutil<3.0.0,>=2.1 in /usr/local/lib/python3.10/dist-packages (from botocore<2.0.0,>=1.31->sdv) (2.8.2)\n",
            "Requirement already satisfied: urllib3!=2.2.0,<3,>=1.25.4 in /usr/local/lib/python3.10/dist-packages (from botocore<2.0.0,>=1.31->sdv) (2.3.0)\n",
            "Requirement already satisfied: plotly>=5.10.0 in /usr/local/lib/python3.10/dist-packages (from copulas>=0.12.0->sdv) (5.24.1)\n",
            "Requirement already satisfied: scipy>=1.9.2 in /usr/local/lib/python3.10/dist-packages (from copulas>=0.12.0->sdv) (1.13.1)\n",
            "Requirement already satisfied: torch>=1.11.0 in /usr/local/lib/python3.10/dist-packages (from ctgan>=0.10.2->sdv) (2.5.1+cu121)\n",
            "Requirement already satisfied: pytz>=2020.1 in /usr/local/lib/python3.10/dist-packages (from pandas>=1.4.0->sdv) (2024.2)\n",
            "Requirement already satisfied: tzdata>=2022.7 in /usr/local/lib/python3.10/dist-packages (from pandas>=1.4.0->sdv) (2024.2)\n",
            "Requirement already satisfied: scikit-learn>=1.1.0 in /usr/local/lib/python3.10/dist-packages (from rdt>=1.13.2.dev0->sdv) (1.6.0)\n",
            "Collecting Faker>=17 (from rdt>=1.13.2.dev0->sdv)\n",
            "  Downloading Faker-33.3.1-py3-none-any.whl.metadata (15 kB)\n",
            "Requirement already satisfied: typing-extensions in /usr/local/lib/python3.10/dist-packages (from Faker>=17->rdt>=1.13.2.dev0->sdv) (4.12.2)\n",
            "Requirement already satisfied: tenacity>=6.2.0 in /usr/local/lib/python3.10/dist-packages (from plotly>=5.10.0->copulas>=0.12.0->sdv) (9.0.0)\n",
            "Requirement already satisfied: packaging in /usr/local/lib/python3.10/dist-packages (from plotly>=5.10.0->copulas>=0.12.0->sdv) (24.2)\n",
            "Requirement already satisfied: six>=1.5 in /usr/local/lib/python3.10/dist-packages (from python-dateutil<3.0.0,>=2.1->botocore<2.0.0,>=1.31->sdv) (1.17.0)\n",
            "Requirement already satisfied: joblib>=1.2.0 in /usr/local/lib/python3.10/dist-packages (from scikit-learn>=1.1.0->rdt>=1.13.2.dev0->sdv) (1.4.2)\n",
            "Requirement already satisfied: threadpoolctl>=3.1.0 in /usr/local/lib/python3.10/dist-packages (from scikit-learn>=1.1.0->rdt>=1.13.2.dev0->sdv) (3.5.0)\n",
            "Requirement already satisfied: filelock in /usr/local/lib/python3.10/dist-packages (from torch>=1.11.0->ctgan>=0.10.2->sdv) (3.16.1)\n",
            "Requirement already satisfied: networkx in /usr/local/lib/python3.10/dist-packages (from torch>=1.11.0->ctgan>=0.10.2->sdv) (3.4.2)\n",
            "Requirement already satisfied: jinja2 in /usr/local/lib/python3.10/dist-packages (from torch>=1.11.0->ctgan>=0.10.2->sdv) (3.1.5)\n",
            "Requirement already satisfied: fsspec in /usr/local/lib/python3.10/dist-packages (from torch>=1.11.0->ctgan>=0.10.2->sdv) (2024.10.0)\n",
            "Requirement already satisfied: sympy==1.13.1 in /usr/local/lib/python3.10/dist-packages (from torch>=1.11.0->ctgan>=0.10.2->sdv) (1.13.1)\n",
            "Requirement already satisfied: mpmath<1.4,>=1.1.0 in /usr/local/lib/python3.10/dist-packages (from sympy==1.13.1->torch>=1.11.0->ctgan>=0.10.2->sdv) (1.3.0)\n",
            "Requirement already satisfied: MarkupSafe>=2.0 in /usr/local/lib/python3.10/dist-packages (from jinja2->torch>=1.11.0->ctgan>=0.10.2->sdv) (3.0.2)\n",
            "Downloading sdv-1.17.3-py3-none-any.whl (154 kB)\n",
            "\u001b[2K   \u001b[90m━━━━━━━━━━━━━━━━━━━━━━━━━━━━━━━━━━━━━━━━\u001b[0m \u001b[32m154.3/154.3 kB\u001b[0m \u001b[31m7.6 MB/s\u001b[0m eta \u001b[36m0:00:00\u001b[0m\n",
            "\u001b[?25hDownloading boto3-1.35.97-py3-none-any.whl (139 kB)\n",
            "\u001b[2K   \u001b[90m━━━━━━━━━━━━━━━━━━━━━━━━━━━━━━━━━━━━━━━━\u001b[0m \u001b[32m139.2/139.2 kB\u001b[0m \u001b[31m14.0 MB/s\u001b[0m eta \u001b[36m0:00:00\u001b[0m\n",
            "\u001b[?25hDownloading botocore-1.35.97-py3-none-any.whl (13.3 MB)\n",
            "\u001b[2K   \u001b[90m━━━━━━━━━━━━━━━━━━━━━━━━━━━━━━━━━━━━━━━━\u001b[0m \u001b[32m13.3/13.3 MB\u001b[0m \u001b[31m77.5 MB/s\u001b[0m eta \u001b[36m0:00:00\u001b[0m\n",
            "\u001b[?25hDownloading copulas-0.12.0-py3-none-any.whl (52 kB)\n",
            "\u001b[2K   \u001b[90m━━━━━━━━━━━━━━━━━━━━━━━━━━━━━━━━━━━━━━━━\u001b[0m \u001b[32m52.4/52.4 kB\u001b[0m \u001b[31m4.1 MB/s\u001b[0m eta \u001b[36m0:00:00\u001b[0m\n",
            "\u001b[?25hDownloading ctgan-0.10.2-py3-none-any.whl (23 kB)\n",
            "Downloading deepecho-0.6.1-py3-none-any.whl (27 kB)\n",
            "Downloading rdt-1.13.2-py3-none-any.whl (66 kB)\n",
            "\u001b[2K   \u001b[90m━━━━━━━━━━━━━━━━━━━━━━━━━━━━━━━━━━━━━━━━\u001b[0m \u001b[32m66.8/66.8 kB\u001b[0m \u001b[31m6.3 MB/s\u001b[0m eta \u001b[36m0:00:00\u001b[0m\n",
            "\u001b[?25hDownloading sdmetrics-0.18.0-py3-none-any.whl (179 kB)\n",
            "\u001b[2K   \u001b[90m━━━━━━━━━━━━━━━━━━━━━━━━━━━━━━━━━━━━━━━━\u001b[0m \u001b[32m179.1/179.1 kB\u001b[0m \u001b[31m18.7 MB/s\u001b[0m eta \u001b[36m0:00:00\u001b[0m\n",
            "\u001b[?25hDownloading Faker-33.3.1-py3-none-any.whl (1.9 MB)\n",
            "\u001b[2K   \u001b[90m━━━━━━━━━━━━━━━━━━━━━━━━━━━━━━━━━━━━━━━━\u001b[0m \u001b[32m1.9/1.9 MB\u001b[0m \u001b[31m81.8 MB/s\u001b[0m eta \u001b[36m0:00:00\u001b[0m\n",
            "\u001b[?25hDownloading jmespath-1.0.1-py3-none-any.whl (20 kB)\n",
            "Downloading s3transfer-0.10.4-py3-none-any.whl (83 kB)\n",
            "\u001b[2K   \u001b[90m━━━━━━━━━━━━━━━━━━━━━━━━━━━━━━━━━━━━━━━━\u001b[0m \u001b[32m83.2/83.2 kB\u001b[0m \u001b[31m8.7 MB/s\u001b[0m eta \u001b[36m0:00:00\u001b[0m\n",
            "\u001b[?25hInstalling collected packages: jmespath, Faker, botocore, s3transfer, rdt, deepecho, copulas, sdmetrics, ctgan, boto3, sdv\n",
            "Successfully installed Faker-33.3.1 boto3-1.35.97 botocore-1.35.97 copulas-0.12.0 ctgan-0.10.2 deepecho-0.6.1 jmespath-1.0.1 rdt-1.13.2 s3transfer-0.10.4 sdmetrics-0.18.0 sdv-1.17.3\n"
          ]
        }
      ]
    },
    {
      "cell_type": "code",
      "execution_count": 23,
      "metadata": {
        "colab": {
          "base_uri": "https://localhost:8080/"
        },
        "id": "khzeLojr4ERy",
        "outputId": "6e7be74a-5f6f-4983-ac13-7ab6d119dd43"
      },
      "outputs": [
        {
          "output_type": "stream",
          "name": "stdout",
          "text": [
            "{'columns': {'2000': {'sdtype': 'numerical'}, '2003': {'sdtype': 'numerical'}, '2006': {'sdtype': 'numerical'}, '2009': {'sdtype': 'numerical'}, '2012': {'sdtype': 'numerical'}, '2015': {'sdtype': 'numerical'}, '2018': {'sdtype': 'numerical'}, '2021': {'sdtype': 'numerical'}, '2024': {'sdtype': 'numerical'}, '2027': {'sdtype': 'numerical'}, '2030': {'sdtype': 'numerical'}, '2033': {'sdtype': 'numerical'}, '2036': {'sdtype': 'numerical'}, '2039': {'sdtype': 'numerical'}, '2042': {'sdtype': 'numerical'}, '2045': {'sdtype': 'numerical'}, '2048': {'sdtype': 'numerical'}, '2051': {'sdtype': 'numerical'}, '2054': {'sdtype': 'numerical'}, '2057': {'sdtype': 'numerical'}, '2060': {'sdtype': 'numerical'}, '2063': {'sdtype': 'numerical'}, '2066': {'sdtype': 'numerical'}, '2069': {'sdtype': 'numerical'}, '2072': {'sdtype': 'numerical'}, '2075': {'sdtype': 'numerical'}, '2078': {'sdtype': 'numerical'}, '2081': {'sdtype': 'numerical'}, '2084': {'sdtype': 'numerical'}, '2087': {'sdtype': 'numerical'}, '2090': {'sdtype': 'numerical'}, '2093': {'sdtype': 'numerical'}, '2096': {'sdtype': 'numerical'}, '2099': {'sdtype': 'numerical'}, '2102': {'sdtype': 'numerical'}, '2105': {'sdtype': 'numerical'}, '2108': {'sdtype': 'numerical'}, '2111': {'sdtype': 'numerical'}, '2114': {'sdtype': 'numerical'}, '2117': {'sdtype': 'numerical'}, '2120': {'sdtype': 'numerical'}, '2123': {'sdtype': 'numerical'}, '2126': {'sdtype': 'numerical'}, '2129': {'sdtype': 'numerical'}, '2132': {'sdtype': 'numerical'}, '2135': {'sdtype': 'numerical'}, '2138': {'sdtype': 'numerical'}, '2141': {'sdtype': 'numerical'}, '2144': {'sdtype': 'numerical'}, '2147': {'sdtype': 'numerical'}, '2150': {'sdtype': 'numerical'}, '2153': {'sdtype': 'numerical'}, '2156': {'sdtype': 'numerical'}, '2159': {'sdtype': 'numerical'}, '2162': {'sdtype': 'numerical'}, '2165': {'sdtype': 'numerical'}, '2168': {'sdtype': 'numerical'}, '2171': {'sdtype': 'numerical'}, '2174': {'sdtype': 'numerical'}, '2177': {'sdtype': 'numerical'}, '2180': {'sdtype': 'numerical'}, '2183': {'sdtype': 'numerical'}, '2186': {'sdtype': 'numerical'}, '2189': {'sdtype': 'numerical'}, '2192': {'sdtype': 'numerical'}, '2195': {'sdtype': 'numerical'}, '2198': {'sdtype': 'numerical'}, '2201': {'sdtype': 'numerical'}, '2204': {'sdtype': 'numerical'}, '2207': {'sdtype': 'numerical'}, '2210': {'sdtype': 'numerical'}, '2213': {'sdtype': 'numerical'}, '2216': {'sdtype': 'numerical'}, '2219': {'sdtype': 'numerical'}, '2222': {'sdtype': 'numerical'}, '2225': {'sdtype': 'numerical'}, '2228': {'sdtype': 'numerical'}, '2231': {'sdtype': 'numerical'}, '2234': {'sdtype': 'numerical'}, '2237': {'sdtype': 'numerical'}, '2240': {'sdtype': 'numerical'}, '2243': {'sdtype': 'numerical'}, '2246': {'sdtype': 'numerical'}, '2249': {'sdtype': 'numerical'}, '2252': {'sdtype': 'numerical'}, '2255': {'sdtype': 'numerical'}, '2258': {'sdtype': 'numerical'}, '2261': {'sdtype': 'numerical'}, '2264': {'sdtype': 'numerical'}, '2267': {'sdtype': 'numerical'}, '2270': {'sdtype': 'numerical'}, '2273': {'sdtype': 'numerical'}, '2276': {'sdtype': 'numerical'}, '2279': {'sdtype': 'numerical'}, '2282': {'sdtype': 'numerical'}, '2285': {'sdtype': 'numerical'}, '2288': {'sdtype': 'numerical'}, '2291': {'sdtype': 'numerical'}, '2294': {'sdtype': 'numerical'}, '2297': {'sdtype': 'numerical'}, '2300': {'sdtype': 'numerical'}, '2303': {'sdtype': 'numerical'}, '2306': {'sdtype': 'numerical'}, '2309': {'sdtype': 'numerical'}, '2312': {'sdtype': 'numerical'}, '2315': {'sdtype': 'numerical'}, '2318': {'sdtype': 'numerical'}, '2321': {'sdtype': 'numerical'}, '2324': {'sdtype': 'numerical'}, '2327': {'sdtype': 'numerical'}, '2330': {'sdtype': 'numerical'}, '2333': {'sdtype': 'numerical'}, '2336': {'sdtype': 'numerical'}, '2339': {'sdtype': 'numerical'}, '2342': {'sdtype': 'numerical'}, '2345': {'sdtype': 'numerical'}, '2348': {'sdtype': 'numerical'}, '2351': {'sdtype': 'numerical'}, '2354': {'sdtype': 'numerical'}, '2357': {'sdtype': 'numerical'}, '2360': {'sdtype': 'numerical'}, '2363': {'sdtype': 'numerical'}, '2366': {'sdtype': 'numerical'}, '2369': {'sdtype': 'numerical'}, '2372': {'sdtype': 'numerical'}, '2375': {'sdtype': 'numerical'}, '2378': {'sdtype': 'numerical'}, '2381': {'sdtype': 'numerical'}, '2384': {'sdtype': 'numerical'}, '2387': {'sdtype': 'numerical'}, '2390': {'sdtype': 'numerical'}, '2393': {'sdtype': 'numerical'}, '2396': {'sdtype': 'numerical'}, '2399': {'sdtype': 'numerical'}, '2402': {'sdtype': 'numerical'}, '2405': {'sdtype': 'numerical'}, '2408': {'sdtype': 'numerical'}, '2411': {'sdtype': 'numerical'}, '2414': {'sdtype': 'numerical'}, '2417': {'sdtype': 'numerical'}, '2420': {'sdtype': 'numerical'}, '2423': {'sdtype': 'numerical'}, '2426': {'sdtype': 'numerical'}, '2429': {'sdtype': 'numerical'}, '2432': {'sdtype': 'numerical'}, '2435': {'sdtype': 'numerical'}, '2438': {'sdtype': 'numerical'}, '2441': {'sdtype': 'numerical'}, '2444': {'sdtype': 'numerical'}, '2447': {'sdtype': 'numerical'}, '2450': {'sdtype': 'numerical'}, '2453': {'sdtype': 'numerical'}, '2456': {'sdtype': 'numerical'}, '2459': {'sdtype': 'numerical'}, '2462': {'sdtype': 'numerical'}, '2465': {'sdtype': 'numerical'}, '2468': {'sdtype': 'numerical'}, '2471': {'sdtype': 'numerical'}, '2474': {'sdtype': 'numerical'}, '2477': {'sdtype': 'numerical'}, '2480': {'sdtype': 'numerical'}, '2483': {'sdtype': 'numerical'}, '2486': {'sdtype': 'numerical'}, '2489': {'sdtype': 'numerical'}, '2492': {'sdtype': 'numerical'}, '2495': {'sdtype': 'numerical'}, '2498': {'sdtype': 'numerical'}, '2501': {'sdtype': 'numerical'}, '2504': {'sdtype': 'numerical'}, '2507': {'sdtype': 'numerical'}, '2510': {'sdtype': 'numerical'}, '2513': {'sdtype': 'numerical'}, '2516': {'sdtype': 'numerical'}, '2519': {'sdtype': 'numerical'}, '2522': {'sdtype': 'numerical'}, '2525': {'sdtype': 'numerical'}, '2528': {'sdtype': 'numerical'}, '2531': {'sdtype': 'numerical'}, '2534': {'sdtype': 'numerical'}, '2537': {'sdtype': 'numerical'}, '2540': {'sdtype': 'numerical'}, '2543': {'sdtype': 'numerical'}, '2546': {'sdtype': 'numerical'}, '2549': {'sdtype': 'numerical'}, '2552': {'sdtype': 'numerical'}, '2555': {'sdtype': 'numerical'}, '2558': {'sdtype': 'numerical'}, '2561': {'sdtype': 'numerical'}, '2564': {'sdtype': 'numerical'}, '2567': {'sdtype': 'numerical'}, '2570': {'sdtype': 'numerical'}, '2573': {'sdtype': 'numerical'}, '2576': {'sdtype': 'numerical'}, '2579': {'sdtype': 'numerical'}, '2582': {'sdtype': 'numerical'}, '2585': {'sdtype': 'numerical'}, '2588': {'sdtype': 'numerical'}, '2591': {'sdtype': 'numerical'}, '2594': {'sdtype': 'numerical'}, '2597': {'sdtype': 'numerical'}, '2600': {'sdtype': 'numerical'}, '2603': {'sdtype': 'numerical'}, '2606': {'sdtype': 'numerical'}, '2609': {'sdtype': 'numerical'}, '2612': {'sdtype': 'numerical'}, '2615': {'sdtype': 'numerical'}, '2618': {'sdtype': 'numerical'}, '2621': {'sdtype': 'numerical'}, '2624': {'sdtype': 'numerical'}, '2627': {'sdtype': 'numerical'}, '2630': {'sdtype': 'numerical'}, '2633': {'sdtype': 'numerical'}, '2636': {'sdtype': 'numerical'}, '2639': {'sdtype': 'numerical'}, '2642': {'sdtype': 'numerical'}, '2645': {'sdtype': 'numerical'}, '2648': {'sdtype': 'numerical'}, '2651': {'sdtype': 'numerical'}, '2654': {'sdtype': 'numerical'}, '2657': {'sdtype': 'numerical'}, '2660': {'sdtype': 'numerical'}, '2663': {'sdtype': 'numerical'}, '2666': {'sdtype': 'numerical'}, '2669': {'sdtype': 'numerical'}, '2672': {'sdtype': 'numerical'}, '2675': {'sdtype': 'numerical'}, '2678': {'sdtype': 'numerical'}, '2681': {'sdtype': 'numerical'}, '2684': {'sdtype': 'numerical'}, '2687': {'sdtype': 'numerical'}, '2690': {'sdtype': 'numerical'}, '2693': {'sdtype': 'numerical'}, '2696': {'sdtype': 'numerical'}, '2699': {'sdtype': 'numerical'}, '2702': {'sdtype': 'numerical'}, '2705': {'sdtype': 'numerical'}, '2708': {'sdtype': 'numerical'}, '2711': {'sdtype': 'numerical'}, '2714': {'sdtype': 'numerical'}, '2717': {'sdtype': 'numerical'}, '2720': {'sdtype': 'numerical'}, '2723': {'sdtype': 'numerical'}, '2726': {'sdtype': 'numerical'}, '2729': {'sdtype': 'numerical'}, '2732': {'sdtype': 'numerical'}, '2735': {'sdtype': 'numerical'}, '2738': {'sdtype': 'numerical'}, '2741': {'sdtype': 'numerical'}, '2744': {'sdtype': 'numerical'}, '2747': {'sdtype': 'numerical'}, '2750': {'sdtype': 'numerical'}, '2753': {'sdtype': 'numerical'}, '2756': {'sdtype': 'numerical'}, '2759': {'sdtype': 'numerical'}, '2762': {'sdtype': 'numerical'}, '2765': {'sdtype': 'numerical'}, '2768': {'sdtype': 'numerical'}, '2771': {'sdtype': 'numerical'}, '2774': {'sdtype': 'numerical'}, '2777': {'sdtype': 'numerical'}, '2780': {'sdtype': 'numerical'}, '2783': {'sdtype': 'numerical'}, '2786': {'sdtype': 'numerical'}, '2789': {'sdtype': 'numerical'}, '2792': {'sdtype': 'numerical'}, '2795': {'sdtype': 'numerical'}, '2798': {'sdtype': 'numerical'}, '2801': {'sdtype': 'numerical'}, '2804': {'sdtype': 'numerical'}, '2807': {'sdtype': 'numerical'}, '2810': {'sdtype': 'numerical'}, '2813': {'sdtype': 'numerical'}, '2816': {'sdtype': 'numerical'}, '2819': {'sdtype': 'numerical'}, '2822': {'sdtype': 'numerical'}, '2825': {'sdtype': 'numerical'}, '2828': {'sdtype': 'numerical'}, '2831': {'sdtype': 'numerical'}, '2834': {'sdtype': 'numerical'}, '2837': {'sdtype': 'numerical'}, '2840': {'sdtype': 'numerical'}, '2843': {'sdtype': 'numerical'}, '2846': {'sdtype': 'numerical'}, '2849': {'sdtype': 'numerical'}, '2852': {'sdtype': 'numerical'}, '2855': {'sdtype': 'numerical'}, '2858': {'sdtype': 'numerical'}, '2861': {'sdtype': 'numerical'}, '2864': {'sdtype': 'numerical'}, '2867': {'sdtype': 'numerical'}, '2870': {'sdtype': 'numerical'}, '2873': {'sdtype': 'numerical'}, '2876': {'sdtype': 'numerical'}, '2879': {'sdtype': 'numerical'}, '2882': {'sdtype': 'numerical'}, '2885': {'sdtype': 'numerical'}, '2888': {'sdtype': 'numerical'}, '2891': {'sdtype': 'numerical'}, '2894': {'sdtype': 'numerical'}, '2897': {'sdtype': 'numerical'}, '2900': {'sdtype': 'numerical'}, '2903': {'sdtype': 'numerical'}, '2906': {'sdtype': 'numerical'}, '2909': {'sdtype': 'numerical'}, '2912': {'sdtype': 'numerical'}, '2915': {'sdtype': 'numerical'}, '2918': {'sdtype': 'numerical'}, '2921': {'sdtype': 'numerical'}, '2924': {'sdtype': 'numerical'}, '2927': {'sdtype': 'numerical'}, '2930': {'sdtype': 'numerical'}, '2933': {'sdtype': 'numerical'}, '2936': {'sdtype': 'numerical'}, '2939': {'sdtype': 'numerical'}, '2942': {'sdtype': 'numerical'}, '2945': {'sdtype': 'numerical'}, '2948': {'sdtype': 'numerical'}, '2951': {'sdtype': 'numerical'}, '2954': {'sdtype': 'numerical'}, '2957': {'sdtype': 'numerical'}, '2960': {'sdtype': 'numerical'}, '2963': {'sdtype': 'numerical'}, '2966': {'sdtype': 'numerical'}, '2969': {'sdtype': 'numerical'}, '2972': {'sdtype': 'numerical'}, '2975': {'sdtype': 'numerical'}, '2978': {'sdtype': 'numerical'}, '2981': {'sdtype': 'numerical'}, '2984': {'sdtype': 'numerical'}, '2987': {'sdtype': 'numerical'}, '2990': {'sdtype': 'numerical'}, '2993': {'sdtype': 'numerical'}, '2996': {'sdtype': 'numerical'}, '2999': {'sdtype': 'numerical'}, '3002': {'sdtype': 'numerical'}, '3005': {'sdtype': 'numerical'}, '3008': {'sdtype': 'numerical'}, '3011': {'sdtype': 'numerical'}, '3014': {'sdtype': 'numerical'}, '3017': {'sdtype': 'numerical'}, '3020': {'sdtype': 'numerical'}, '3023': {'sdtype': 'numerical'}, '3026': {'sdtype': 'numerical'}, '3029': {'sdtype': 'numerical'}, '3032': {'sdtype': 'numerical'}, '3035': {'sdtype': 'numerical'}, '3038': {'sdtype': 'numerical'}, '3041': {'sdtype': 'numerical'}, '3044': {'sdtype': 'numerical'}, '3047': {'sdtype': 'numerical'}, '3050': {'sdtype': 'numerical'}, '3053': {'sdtype': 'numerical'}, '3056': {'sdtype': 'numerical'}, '3059': {'sdtype': 'numerical'}, '3062': {'sdtype': 'numerical'}, '3065': {'sdtype': 'numerical'}, '3068': {'sdtype': 'numerical'}, '3071': {'sdtype': 'numerical'}, '3074': {'sdtype': 'numerical'}, '3077': {'sdtype': 'numerical'}, '3080': {'sdtype': 'numerical'}, '3083': {'sdtype': 'numerical'}, '3086': {'sdtype': 'numerical'}, '3089': {'sdtype': 'numerical'}, '3092': {'sdtype': 'numerical'}, '3095': {'sdtype': 'numerical'}, '3098': {'sdtype': 'numerical'}, '3101': {'sdtype': 'numerical'}, '3104': {'sdtype': 'numerical'}, '3107': {'sdtype': 'numerical'}, '3110': {'sdtype': 'numerical'}, '3113': {'sdtype': 'numerical'}, '3116': {'sdtype': 'numerical'}, '3119': {'sdtype': 'numerical'}, '3122': {'sdtype': 'numerical'}, '3125': {'sdtype': 'numerical'}, '3128': {'sdtype': 'numerical'}, '3131': {'sdtype': 'numerical'}, '3134': {'sdtype': 'numerical'}, '3137': {'sdtype': 'numerical'}, '3140': {'sdtype': 'numerical'}, '3143': {'sdtype': 'numerical'}, '3146': {'sdtype': 'numerical'}, '3149': {'sdtype': 'numerical'}, '3152': {'sdtype': 'numerical'}, '3155': {'sdtype': 'numerical'}, '3158': {'sdtype': 'numerical'}, '3161': {'sdtype': 'numerical'}, '3164': {'sdtype': 'numerical'}, '3167': {'sdtype': 'numerical'}, '3170': {'sdtype': 'numerical'}, '3173': {'sdtype': 'numerical'}, '3176': {'sdtype': 'numerical'}, '3179': {'sdtype': 'numerical'}, '3182': {'sdtype': 'numerical'}, '3185': {'sdtype': 'numerical'}, '3188': {'sdtype': 'numerical'}, '3191': {'sdtype': 'numerical'}, '3194': {'sdtype': 'numerical'}, '3197': {'sdtype': 'numerical'}, '3200': {'sdtype': 'numerical'}, '3203': {'sdtype': 'numerical'}, '3206': {'sdtype': 'numerical'}, '3209': {'sdtype': 'numerical'}, '3212': {'sdtype': 'numerical'}, '3215': {'sdtype': 'numerical'}, '3218': {'sdtype': 'numerical'}, '3221': {'sdtype': 'numerical'}, '3224': {'sdtype': 'numerical'}, '3227': {'sdtype': 'numerical'}, '3230': {'sdtype': 'numerical'}, '3233': {'sdtype': 'numerical'}, '3236': {'sdtype': 'numerical'}, '3239': {'sdtype': 'numerical'}, '3242': {'sdtype': 'numerical'}, '3245': {'sdtype': 'numerical'}, '3248': {'sdtype': 'numerical'}, '3251': {'sdtype': 'numerical'}, '3254': {'sdtype': 'numerical'}, '3257': {'sdtype': 'numerical'}, '3260': {'sdtype': 'numerical'}, '3263': {'sdtype': 'numerical'}, '3266': {'sdtype': 'numerical'}, '3269': {'sdtype': 'numerical'}, '3272': {'sdtype': 'numerical'}, '3275': {'sdtype': 'numerical'}, '3278': {'sdtype': 'numerical'}, '3281': {'sdtype': 'numerical'}, '3284': {'sdtype': 'numerical'}, '3287': {'sdtype': 'numerical'}, '3290': {'sdtype': 'numerical'}, '3293': {'sdtype': 'numerical'}, '3296': {'sdtype': 'numerical'}, '3299': {'sdtype': 'numerical'}, '3302': {'sdtype': 'numerical'}, '3305': {'sdtype': 'numerical'}, '3308': {'sdtype': 'numerical'}, '3311': {'sdtype': 'numerical'}, '3314': {'sdtype': 'numerical'}, '3317': {'sdtype': 'numerical'}, '3320': {'sdtype': 'numerical'}, '3323': {'sdtype': 'numerical'}, '3326': {'sdtype': 'numerical'}, '3329': {'sdtype': 'numerical'}, '3332': {'sdtype': 'numerical'}, '3335': {'sdtype': 'numerical'}, '3338': {'sdtype': 'numerical'}, '3341': {'sdtype': 'numerical'}, '3344': {'sdtype': 'numerical'}, '3347': {'sdtype': 'numerical'}, '3350': {'sdtype': 'numerical'}, '3353': {'sdtype': 'numerical'}, '3356': {'sdtype': 'numerical'}, '3359': {'sdtype': 'numerical'}, '3362': {'sdtype': 'numerical'}, '3365': {'sdtype': 'numerical'}, '3368': {'sdtype': 'numerical'}, '3371': {'sdtype': 'numerical'}, '3374': {'sdtype': 'numerical'}, '3377': {'sdtype': 'numerical'}, '3380': {'sdtype': 'numerical'}, '3383': {'sdtype': 'numerical'}, '3386': {'sdtype': 'numerical'}, '3389': {'sdtype': 'numerical'}, '3392': {'sdtype': 'numerical'}, '3395': {'sdtype': 'numerical'}, '3398': {'sdtype': 'numerical'}, '3401': {'sdtype': 'numerical'}, '3404': {'sdtype': 'numerical'}, '3407': {'sdtype': 'numerical'}, '3410': {'sdtype': 'numerical'}, '3413': {'sdtype': 'numerical'}, '3416': {'sdtype': 'numerical'}, '3419': {'sdtype': 'numerical'}, '3422': {'sdtype': 'numerical'}, '3425': {'sdtype': 'numerical'}, '3428': {'sdtype': 'numerical'}, '3431': {'sdtype': 'numerical'}, '3434': {'sdtype': 'numerical'}, '3437': {'sdtype': 'numerical'}, '3440': {'sdtype': 'numerical'}, '3443': {'sdtype': 'numerical'}, '3446': {'sdtype': 'numerical'}, '3449': {'sdtype': 'numerical'}, '3452': {'sdtype': 'numerical'}, '3455': {'sdtype': 'numerical'}, '3458': {'sdtype': 'numerical'}, '3461': {'sdtype': 'numerical'}, '3464': {'sdtype': 'numerical'}, '3467': {'sdtype': 'numerical'}, '3470': {'sdtype': 'numerical'}, '3473': {'sdtype': 'numerical'}, '3476': {'sdtype': 'numerical'}, '3479': {'sdtype': 'numerical'}, '3482': {'sdtype': 'numerical'}, '3485': {'sdtype': 'numerical'}, '3488': {'sdtype': 'numerical'}, '3491': {'sdtype': 'numerical'}, '3494': {'sdtype': 'numerical'}, '3497': {'sdtype': 'numerical'}, '3500': {'sdtype': 'numerical'}, '3503': {'sdtype': 'numerical'}, '3506': {'sdtype': 'numerical'}, '3509': {'sdtype': 'numerical'}, '3512': {'sdtype': 'numerical'}, '3515': {'sdtype': 'numerical'}, '3518': {'sdtype': 'numerical'}, '3521': {'sdtype': 'numerical'}, '3524': {'sdtype': 'numerical'}, '3527': {'sdtype': 'numerical'}, '3530': {'sdtype': 'numerical'}, '3533': {'sdtype': 'numerical'}, '3536': {'sdtype': 'numerical'}, '3539': {'sdtype': 'numerical'}, '3542': {'sdtype': 'numerical'}, '3545': {'sdtype': 'numerical'}, '3548': {'sdtype': 'numerical'}, '3551': {'sdtype': 'numerical'}, '3554': {'sdtype': 'numerical'}, '3557': {'sdtype': 'numerical'}, '3560': {'sdtype': 'numerical'}, '3563': {'sdtype': 'numerical'}, '3566': {'sdtype': 'numerical'}, '3569': {'sdtype': 'numerical'}, '3572': {'sdtype': 'numerical'}, '3575': {'sdtype': 'numerical'}, '3578': {'sdtype': 'numerical'}, '3581': {'sdtype': 'numerical'}, '3584': {'sdtype': 'numerical'}, '3587': {'sdtype': 'numerical'}, '3590': {'sdtype': 'numerical'}, '3593': {'sdtype': 'numerical'}, '3596': {'sdtype': 'numerical'}, '3599': {'sdtype': 'numerical'}, '3602': {'sdtype': 'numerical'}, '3605': {'sdtype': 'numerical'}, '3608': {'sdtype': 'numerical'}, '3611': {'sdtype': 'numerical'}, '3614': {'sdtype': 'numerical'}, '3617': {'sdtype': 'numerical'}, '3620': {'sdtype': 'numerical'}, '3623': {'sdtype': 'numerical'}, '3626': {'sdtype': 'numerical'}, '3629': {'sdtype': 'numerical'}, '3632': {'sdtype': 'numerical'}, '3635': {'sdtype': 'numerical'}, '3638': {'sdtype': 'numerical'}, '3641': {'sdtype': 'numerical'}, '3644': {'sdtype': 'numerical'}, '3647': {'sdtype': 'numerical'}, '3650': {'sdtype': 'numerical'}, '3653': {'sdtype': 'numerical'}, '3656': {'sdtype': 'numerical'}, '3659': {'sdtype': 'numerical'}, '3662': {'sdtype': 'numerical'}, '3665': {'sdtype': 'numerical'}, '3668': {'sdtype': 'numerical'}, '3671': {'sdtype': 'numerical'}, '3674': {'sdtype': 'numerical'}, '3677': {'sdtype': 'numerical'}, '3680': {'sdtype': 'numerical'}, '3683': {'sdtype': 'numerical'}, '3686': {'sdtype': 'numerical'}, '3689': {'sdtype': 'numerical'}, '3692': {'sdtype': 'numerical'}, '3695': {'sdtype': 'numerical'}, '3698': {'sdtype': 'numerical'}, '3701': {'sdtype': 'numerical'}, '3704': {'sdtype': 'numerical'}, '3707': {'sdtype': 'numerical'}, '3710': {'sdtype': 'numerical'}, '3713': {'sdtype': 'numerical'}, '3716': {'sdtype': 'numerical'}, '3719': {'sdtype': 'numerical'}, '3722': {'sdtype': 'numerical'}, '3725': {'sdtype': 'numerical'}, '3728': {'sdtype': 'numerical'}, '3731': {'sdtype': 'numerical'}, '3734': {'sdtype': 'numerical'}, '3737': {'sdtype': 'numerical'}, '3740': {'sdtype': 'numerical'}, '3743': {'sdtype': 'numerical'}, '3746': {'sdtype': 'numerical'}, '3749': {'sdtype': 'numerical'}, '3752': {'sdtype': 'numerical'}, '3755': {'sdtype': 'numerical'}, '3758': {'sdtype': 'numerical'}, '3761': {'sdtype': 'numerical'}, '3764': {'sdtype': 'numerical'}, '3767': {'sdtype': 'numerical'}, '3770': {'sdtype': 'numerical'}, '3773': {'sdtype': 'numerical'}, '3776': {'sdtype': 'numerical'}, '3779': {'sdtype': 'numerical'}, '3782': {'sdtype': 'numerical'}, '3785': {'sdtype': 'numerical'}, '3788': {'sdtype': 'numerical'}, '3791': {'sdtype': 'numerical'}, '3794': {'sdtype': 'numerical'}, '3797': {'sdtype': 'numerical'}, '3800': {'sdtype': 'numerical'}, '3803': {'sdtype': 'numerical'}, '3806': {'sdtype': 'numerical'}, '3809': {'sdtype': 'numerical'}, '3812': {'sdtype': 'numerical'}, '3815': {'sdtype': 'numerical'}, '3818': {'sdtype': 'numerical'}, '3821': {'sdtype': 'numerical'}, '3824': {'sdtype': 'numerical'}, '3827': {'sdtype': 'numerical'}, '3830': {'sdtype': 'numerical'}, '3833': {'sdtype': 'numerical'}, '3836': {'sdtype': 'numerical'}, '3839': {'sdtype': 'numerical'}, '3842': {'sdtype': 'numerical'}, '3845': {'sdtype': 'numerical'}, '3848': {'sdtype': 'numerical'}, '3851': {'sdtype': 'numerical'}, '3854': {'sdtype': 'numerical'}, '3857': {'sdtype': 'numerical'}, '3860': {'sdtype': 'numerical'}, '3863': {'sdtype': 'numerical'}, '3866': {'sdtype': 'numerical'}, '3869': {'sdtype': 'numerical'}, '3872': {'sdtype': 'numerical'}, '3875': {'sdtype': 'numerical'}, '3878': {'sdtype': 'numerical'}, '3881': {'sdtype': 'numerical'}, '3884': {'sdtype': 'numerical'}, '3887': {'sdtype': 'numerical'}, '3890': {'sdtype': 'numerical'}, '3893': {'sdtype': 'numerical'}, '3896': {'sdtype': 'numerical'}, '3899': {'sdtype': 'numerical'}, '3902': {'sdtype': 'numerical'}, '3905': {'sdtype': 'numerical'}, '3908': {'sdtype': 'numerical'}, '3911': {'sdtype': 'numerical'}, '3914': {'sdtype': 'numerical'}, '3917': {'sdtype': 'numerical'}, '3920': {'sdtype': 'numerical'}, '3923': {'sdtype': 'numerical'}, '3926': {'sdtype': 'numerical'}, '3929': {'sdtype': 'numerical'}, '3932': {'sdtype': 'numerical'}, '3935': {'sdtype': 'numerical'}, '3938': {'sdtype': 'numerical'}, '3941': {'sdtype': 'numerical'}, '3944': {'sdtype': 'numerical'}, '3947': {'sdtype': 'numerical'}, '3950': {'sdtype': 'numerical'}, '3953': {'sdtype': 'numerical'}, '3956': {'sdtype': 'numerical'}, '3959': {'sdtype': 'numerical'}, '3962': {'sdtype': 'numerical'}, '3965': {'sdtype': 'numerical'}, '3968': {'sdtype': 'numerical'}, '3971': {'sdtype': 'numerical'}, '3974': {'sdtype': 'numerical'}, '3977': {'sdtype': 'numerical'}, '3980': {'sdtype': 'numerical'}, '3983': {'sdtype': 'numerical'}, '3986': {'sdtype': 'numerical'}, '3989': {'sdtype': 'numerical'}, '3992': {'sdtype': 'numerical'}, '3995': {'sdtype': 'numerical'}, '3998': {'sdtype': 'numerical'}, '4001': {'sdtype': 'numerical'}, '4004': {'sdtype': 'numerical'}, '4007': {'sdtype': 'numerical'}, '4010': {'sdtype': 'numerical'}, '4013': {'sdtype': 'numerical'}, '4016': {'sdtype': 'numerical'}, '4019': {'sdtype': 'numerical'}, '4022': {'sdtype': 'numerical'}, '4025': {'sdtype': 'numerical'}, '4028': {'sdtype': 'numerical'}, '4031': {'sdtype': 'numerical'}, '4034': {'sdtype': 'numerical'}, '4037': {'sdtype': 'numerical'}, '4040': {'sdtype': 'numerical'}, '4043': {'sdtype': 'numerical'}, '4046': {'sdtype': 'numerical'}, '4049': {'sdtype': 'numerical'}, '4052': {'sdtype': 'numerical'}, '4055': {'sdtype': 'numerical'}, '4058': {'sdtype': 'numerical'}, '4061': {'sdtype': 'numerical'}, '4064': {'sdtype': 'numerical'}, '4067': {'sdtype': 'numerical'}, '4070': {'sdtype': 'numerical'}, '4073': {'sdtype': 'numerical'}, '4076': {'sdtype': 'numerical'}, '4079': {'sdtype': 'numerical'}, '4082': {'sdtype': 'numerical'}, '4085': {'sdtype': 'numerical'}, '4088': {'sdtype': 'numerical'}, '4091': {'sdtype': 'numerical'}, '4094': {'sdtype': 'numerical'}, '4097': {'sdtype': 'numerical'}, '4100': {'sdtype': 'numerical'}, '4103': {'sdtype': 'numerical'}, '4106': {'sdtype': 'numerical'}, '4109': {'sdtype': 'numerical'}, '4112': {'sdtype': 'numerical'}, '4115': {'sdtype': 'numerical'}, '4118': {'sdtype': 'numerical'}, '4121': {'sdtype': 'numerical'}, '4124': {'sdtype': 'numerical'}, '4127': {'sdtype': 'numerical'}, '4130': {'sdtype': 'numerical'}, '4133': {'sdtype': 'numerical'}, '4136': {'sdtype': 'numerical'}, '4139': {'sdtype': 'numerical'}, '4142': {'sdtype': 'numerical'}, '4145': {'sdtype': 'numerical'}, '4148': {'sdtype': 'numerical'}, '4151': {'sdtype': 'numerical'}, '4154': {'sdtype': 'numerical'}, '4157': {'sdtype': 'numerical'}, '4160': {'sdtype': 'numerical'}, '4163': {'sdtype': 'numerical'}, '4166': {'sdtype': 'numerical'}, '4169': {'sdtype': 'numerical'}, '4172': {'sdtype': 'numerical'}, '4175': {'sdtype': 'numerical'}, '4178': {'sdtype': 'numerical'}, '4181': {'sdtype': 'numerical'}, '4184': {'sdtype': 'numerical'}, '4187': {'sdtype': 'numerical'}, '4190': {'sdtype': 'numerical'}, '4193': {'sdtype': 'numerical'}, '4196': {'sdtype': 'numerical'}, '4199': {'sdtype': 'numerical'}, '4202': {'sdtype': 'numerical'}, '4205': {'sdtype': 'numerical'}, '4208': {'sdtype': 'numerical'}, '4211': {'sdtype': 'numerical'}, '4214': {'sdtype': 'numerical'}, '4217': {'sdtype': 'numerical'}, '4220': {'sdtype': 'numerical'}, '4223': {'sdtype': 'numerical'}, '4226': {'sdtype': 'numerical'}, '4229': {'sdtype': 'numerical'}, '4232': {'sdtype': 'numerical'}, '4235': {'sdtype': 'numerical'}, '4238': {'sdtype': 'numerical'}, '4241': {'sdtype': 'numerical'}, '4244': {'sdtype': 'numerical'}, '4247': {'sdtype': 'numerical'}, '4250': {'sdtype': 'numerical'}, '4253': {'sdtype': 'numerical'}, '4256': {'sdtype': 'numerical'}, '4259': {'sdtype': 'numerical'}, '4262': {'sdtype': 'numerical'}, '4265': {'sdtype': 'numerical'}, '4268': {'sdtype': 'numerical'}, '4271': {'sdtype': 'numerical'}, '4274': {'sdtype': 'numerical'}, '4277': {'sdtype': 'numerical'}, '4280': {'sdtype': 'numerical'}, '4283': {'sdtype': 'numerical'}, '4286': {'sdtype': 'numerical'}, '4289': {'sdtype': 'numerical'}, '4292': {'sdtype': 'numerical'}, '4295': {'sdtype': 'numerical'}, '4298': {'sdtype': 'numerical'}, '4301': {'sdtype': 'numerical'}, '4304': {'sdtype': 'numerical'}, '4307': {'sdtype': 'numerical'}, '4310': {'sdtype': 'numerical'}, '4313': {'sdtype': 'numerical'}, '4316': {'sdtype': 'numerical'}, '4319': {'sdtype': 'numerical'}, '4322': {'sdtype': 'numerical'}, '4325': {'sdtype': 'numerical'}, '4328': {'sdtype': 'numerical'}, '4331': {'sdtype': 'numerical'}, '4334': {'sdtype': 'numerical'}, '4337': {'sdtype': 'numerical'}, '4340': {'sdtype': 'numerical'}, '4343': {'sdtype': 'numerical'}, '4346': {'sdtype': 'numerical'}, '4349': {'sdtype': 'numerical'}, '4352': {'sdtype': 'numerical'}, '4355': {'sdtype': 'numerical'}, '4358': {'sdtype': 'numerical'}, '4361': {'sdtype': 'numerical'}, '4364': {'sdtype': 'numerical'}, '4367': {'sdtype': 'numerical'}, '4370': {'sdtype': 'numerical'}, '4373': {'sdtype': 'numerical'}, '4376': {'sdtype': 'numerical'}, '4379': {'sdtype': 'numerical'}, '4382': {'sdtype': 'numerical'}, '4385': {'sdtype': 'numerical'}, '4388': {'sdtype': 'numerical'}, '4391': {'sdtype': 'numerical'}, '4394': {'sdtype': 'numerical'}, '4397': {'sdtype': 'numerical'}, '4400': {'sdtype': 'numerical'}, '4403': {'sdtype': 'numerical'}, '4406': {'sdtype': 'numerical'}, '4409': {'sdtype': 'numerical'}, '4412': {'sdtype': 'numerical'}, '4415': {'sdtype': 'numerical'}, '4418': {'sdtype': 'numerical'}, '4421': {'sdtype': 'numerical'}, '4424': {'sdtype': 'numerical'}, '4427': {'sdtype': 'numerical'}, '4430': {'sdtype': 'numerical'}, '4433': {'sdtype': 'numerical'}, '4436': {'sdtype': 'numerical'}, '4439': {'sdtype': 'numerical'}, '4442': {'sdtype': 'numerical'}, '4445': {'sdtype': 'numerical'}, '4448': {'sdtype': 'numerical'}, '4451': {'sdtype': 'numerical'}, '4454': {'sdtype': 'numerical'}, '4457': {'sdtype': 'numerical'}, '4460': {'sdtype': 'numerical'}, '4463': {'sdtype': 'numerical'}, '4466': {'sdtype': 'numerical'}, '4469': {'sdtype': 'numerical'}, '4472': {'sdtype': 'numerical'}, '4475': {'sdtype': 'numerical'}, '4478': {'sdtype': 'numerical'}, '4481': {'sdtype': 'numerical'}, '4484': {'sdtype': 'numerical'}, '4487': {'sdtype': 'numerical'}, '4490': {'sdtype': 'numerical'}, '4493': {'sdtype': 'numerical'}, '4496': {'sdtype': 'numerical'}, '4499': {'sdtype': 'numerical'}, '4502': {'sdtype': 'numerical'}, '4505': {'sdtype': 'numerical'}, '4508': {'sdtype': 'numerical'}, '4511': {'sdtype': 'numerical'}, '4514': {'sdtype': 'numerical'}, '4517': {'sdtype': 'numerical'}, '4520': {'sdtype': 'numerical'}, '4523': {'sdtype': 'numerical'}, '4526': {'sdtype': 'numerical'}, '4529': {'sdtype': 'numerical'}, '4532': {'sdtype': 'numerical'}, '4535': {'sdtype': 'numerical'}, '4538': {'sdtype': 'numerical'}, '4541': {'sdtype': 'numerical'}, '4544': {'sdtype': 'numerical'}, '4547': {'sdtype': 'numerical'}, '4550': {'sdtype': 'numerical'}, '4553': {'sdtype': 'numerical'}, '4556': {'sdtype': 'numerical'}, '4559': {'sdtype': 'numerical'}, '4562': {'sdtype': 'numerical'}, '4565': {'sdtype': 'numerical'}, '4568': {'sdtype': 'numerical'}, '4571': {'sdtype': 'numerical'}, '4574': {'sdtype': 'numerical'}, '4577': {'sdtype': 'numerical'}, '4580': {'sdtype': 'numerical'}, '4583': {'sdtype': 'numerical'}, '4586': {'sdtype': 'numerical'}, '4589': {'sdtype': 'numerical'}, '4592': {'sdtype': 'numerical'}, '4595': {'sdtype': 'numerical'}, '4598': {'sdtype': 'numerical'}, '4601': {'sdtype': 'numerical'}, '4604': {'sdtype': 'numerical'}, '4607': {'sdtype': 'numerical'}, '4610': {'sdtype': 'numerical'}, '4613': {'sdtype': 'numerical'}, '4616': {'sdtype': 'numerical'}, '4619': {'sdtype': 'numerical'}, '4622': {'sdtype': 'numerical'}, '4625': {'sdtype': 'numerical'}, '4628': {'sdtype': 'numerical'}, '4631': {'sdtype': 'numerical'}, '4634': {'sdtype': 'numerical'}, '4637': {'sdtype': 'numerical'}, '4640': {'sdtype': 'numerical'}, '4643': {'sdtype': 'numerical'}, '4646': {'sdtype': 'numerical'}, '4649': {'sdtype': 'numerical'}, '4652': {'sdtype': 'numerical'}, '4655': {'sdtype': 'numerical'}, '4658': {'sdtype': 'numerical'}, '4661': {'sdtype': 'numerical'}, '4664': {'sdtype': 'numerical'}, '4667': {'sdtype': 'numerical'}, '4670': {'sdtype': 'numerical'}, '4673': {'sdtype': 'numerical'}, '4676': {'sdtype': 'numerical'}, '4679': {'sdtype': 'numerical'}, '4682': {'sdtype': 'numerical'}, '4685': {'sdtype': 'numerical'}, '4688': {'sdtype': 'numerical'}, '4691': {'sdtype': 'numerical'}, '4694': {'sdtype': 'numerical'}, '4697': {'sdtype': 'numerical'}, '4700': {'sdtype': 'numerical'}, '4703': {'sdtype': 'numerical'}, '4706': {'sdtype': 'numerical'}, '4709': {'sdtype': 'numerical'}, '4712': {'sdtype': 'numerical'}, '4715': {'sdtype': 'numerical'}, '4718': {'sdtype': 'numerical'}, '4721': {'sdtype': 'numerical'}, '4724': {'sdtype': 'numerical'}, '4727': {'sdtype': 'numerical'}, '4730': {'sdtype': 'numerical'}, '4733': {'sdtype': 'numerical'}, '4736': {'sdtype': 'numerical'}, '4739': {'sdtype': 'numerical'}, '4742': {'sdtype': 'numerical'}, '4745': {'sdtype': 'numerical'}, '4748': {'sdtype': 'numerical'}, '4751': {'sdtype': 'numerical'}, '4754': {'sdtype': 'numerical'}, '4757': {'sdtype': 'numerical'}, '4760': {'sdtype': 'numerical'}, '4763': {'sdtype': 'numerical'}, '4766': {'sdtype': 'numerical'}, '4769': {'sdtype': 'numerical'}, '4772': {'sdtype': 'numerical'}, '4775': {'sdtype': 'numerical'}, '4778': {'sdtype': 'numerical'}, '4781': {'sdtype': 'numerical'}, '4784': {'sdtype': 'numerical'}, '4787': {'sdtype': 'numerical'}, '4790': {'sdtype': 'numerical'}, '4793': {'sdtype': 'numerical'}, '4796': {'sdtype': 'numerical'}, '4799': {'sdtype': 'numerical'}, '4802': {'sdtype': 'numerical'}, '4805': {'sdtype': 'numerical'}, '4808': {'sdtype': 'numerical'}, '4811': {'sdtype': 'numerical'}, '4814': {'sdtype': 'numerical'}, '4817': {'sdtype': 'numerical'}, '4820': {'sdtype': 'numerical'}, '4823': {'sdtype': 'numerical'}, '4826': {'sdtype': 'numerical'}, '4829': {'sdtype': 'numerical'}, '4832': {'sdtype': 'numerical'}, '4835': {'sdtype': 'numerical'}, '4838': {'sdtype': 'numerical'}, '4841': {'sdtype': 'numerical'}, '4844': {'sdtype': 'numerical'}, '4847': {'sdtype': 'numerical'}, '4850': {'sdtype': 'numerical'}, '4853': {'sdtype': 'numerical'}, '4856': {'sdtype': 'numerical'}, '4859': {'sdtype': 'numerical'}, '4862': {'sdtype': 'numerical'}, '4865': {'sdtype': 'numerical'}, '4868': {'sdtype': 'numerical'}, '4871': {'sdtype': 'numerical'}, '4874': {'sdtype': 'numerical'}, '4877': {'sdtype': 'numerical'}, '4880': {'sdtype': 'numerical'}, '4883': {'sdtype': 'numerical'}, '4886': {'sdtype': 'numerical'}, '4889': {'sdtype': 'numerical'}, '4892': {'sdtype': 'numerical'}, '4895': {'sdtype': 'numerical'}, '4898': {'sdtype': 'numerical'}, '4901': {'sdtype': 'numerical'}, '4904': {'sdtype': 'numerical'}, '4907': {'sdtype': 'numerical'}, '4910': {'sdtype': 'numerical'}, '4913': {'sdtype': 'numerical'}, '4916': {'sdtype': 'numerical'}, '4919': {'sdtype': 'numerical'}, '4922': {'sdtype': 'numerical'}, '4925': {'sdtype': 'numerical'}, '4928': {'sdtype': 'numerical'}, '4931': {'sdtype': 'numerical'}, '4934': {'sdtype': 'numerical'}, '4937': {'sdtype': 'numerical'}, '4940': {'sdtype': 'numerical'}, '4943': {'sdtype': 'numerical'}, '4946': {'sdtype': 'numerical'}, '4949': {'sdtype': 'numerical'}, '4952': {'sdtype': 'numerical'}, '4955': {'sdtype': 'numerical'}, '4958': {'sdtype': 'numerical'}, '4961': {'sdtype': 'numerical'}, '4964': {'sdtype': 'numerical'}, '4967': {'sdtype': 'numerical'}, '4970': {'sdtype': 'numerical'}, '4973': {'sdtype': 'numerical'}, '4976': {'sdtype': 'numerical'}, '4979': {'sdtype': 'numerical'}, '4982': {'sdtype': 'numerical'}, '4985': {'sdtype': 'numerical'}, '4988': {'sdtype': 'numerical'}, '4991': {'sdtype': 'numerical'}, '4994': {'sdtype': 'numerical'}, '4997': {'sdtype': 'numerical'}, '5000': {'sdtype': 'numerical'}, '5003': {'sdtype': 'numerical'}, '5006': {'sdtype': 'numerical'}, '5009': {'sdtype': 'numerical'}, '5012': {'sdtype': 'numerical'}, '5015': {'sdtype': 'numerical'}, '5018': {'sdtype': 'numerical'}, '5021': {'sdtype': 'numerical'}, '5024': {'sdtype': 'numerical'}, '5027': {'sdtype': 'numerical'}, '5030': {'sdtype': 'numerical'}, '5033': {'sdtype': 'numerical'}, '5036': {'sdtype': 'numerical'}, '5039': {'sdtype': 'numerical'}, '5042': {'sdtype': 'numerical'}, '5045': {'sdtype': 'numerical'}, '5048': {'sdtype': 'numerical'}, '5051': {'sdtype': 'numerical'}, '5054': {'sdtype': 'numerical'}, '5057': {'sdtype': 'numerical'}, '5060': {'sdtype': 'numerical'}, '5063': {'sdtype': 'numerical'}, '5066': {'sdtype': 'numerical'}, '5069': {'sdtype': 'numerical'}, '5072': {'sdtype': 'numerical'}, '5075': {'sdtype': 'numerical'}, '5078': {'sdtype': 'numerical'}, '5081': {'sdtype': 'numerical'}, '5084': {'sdtype': 'numerical'}, '5087': {'sdtype': 'numerical'}, '5090': {'sdtype': 'numerical'}, '5093': {'sdtype': 'numerical'}, '5096': {'sdtype': 'numerical'}, '5099': {'sdtype': 'numerical'}, '5102': {'sdtype': 'numerical'}, '5105': {'sdtype': 'numerical'}, '5108': {'sdtype': 'numerical'}, '5111': {'sdtype': 'numerical'}, '5114': {'sdtype': 'numerical'}, '5117': {'sdtype': 'numerical'}, '5120': {'sdtype': 'numerical'}, '5123': {'sdtype': 'numerical'}, '5126': {'sdtype': 'numerical'}, '5129': {'sdtype': 'numerical'}, '5132': {'sdtype': 'numerical'}, '5135': {'sdtype': 'numerical'}, '5138': {'sdtype': 'numerical'}, '5141': {'sdtype': 'numerical'}, '5144': {'sdtype': 'numerical'}, '5147': {'sdtype': 'numerical'}, '5150': {'sdtype': 'numerical'}, '5153': {'sdtype': 'numerical'}, '5156': {'sdtype': 'numerical'}, '5159': {'sdtype': 'numerical'}, '5162': {'sdtype': 'numerical'}, '5165': {'sdtype': 'numerical'}, '5168': {'sdtype': 'numerical'}, '5171': {'sdtype': 'numerical'}, '5174': {'sdtype': 'numerical'}, '5177': {'sdtype': 'numerical'}, '5180': {'sdtype': 'numerical'}, '5183': {'sdtype': 'numerical'}, '5186': {'sdtype': 'numerical'}, '5189': {'sdtype': 'numerical'}, '5192': {'sdtype': 'numerical'}, '5195': {'sdtype': 'numerical'}, '5198': {'sdtype': 'numerical'}, '5201': {'sdtype': 'numerical'}, '5204': {'sdtype': 'numerical'}, '5207': {'sdtype': 'numerical'}, '5210': {'sdtype': 'numerical'}, '5213': {'sdtype': 'numerical'}, '5216': {'sdtype': 'numerical'}, '5219': {'sdtype': 'numerical'}, '5222': {'sdtype': 'numerical'}, '5225': {'sdtype': 'numerical'}, '5228': {'sdtype': 'numerical'}, '5231': {'sdtype': 'numerical'}, '5234': {'sdtype': 'numerical'}, '5237': {'sdtype': 'numerical'}, '5240': {'sdtype': 'numerical'}, '5243': {'sdtype': 'numerical'}, '5246': {'sdtype': 'numerical'}, '5249': {'sdtype': 'numerical'}, '5252': {'sdtype': 'numerical'}, '5255': {'sdtype': 'numerical'}, '5258': {'sdtype': 'numerical'}, '5261': {'sdtype': 'numerical'}, '5264': {'sdtype': 'numerical'}, '5267': {'sdtype': 'numerical'}, '5270': {'sdtype': 'numerical'}, '5273': {'sdtype': 'numerical'}, '5276': {'sdtype': 'numerical'}, '5279': {'sdtype': 'numerical'}, '5282': {'sdtype': 'numerical'}, '5285': {'sdtype': 'numerical'}, '5288': {'sdtype': 'numerical'}, '5291': {'sdtype': 'numerical'}, '5294': {'sdtype': 'numerical'}, '5297': {'sdtype': 'numerical'}, '5300': {'sdtype': 'numerical'}, '5303': {'sdtype': 'numerical'}, '5306': {'sdtype': 'numerical'}, '5309': {'sdtype': 'numerical'}, '5312': {'sdtype': 'numerical'}, '5315': {'sdtype': 'numerical'}, '5318': {'sdtype': 'numerical'}, '5321': {'sdtype': 'numerical'}, '5324': {'sdtype': 'numerical'}, '5327': {'sdtype': 'numerical'}, '5330': {'sdtype': 'numerical'}, '5333': {'sdtype': 'numerical'}, '5336': {'sdtype': 'numerical'}, '5339': {'sdtype': 'numerical'}, '5342': {'sdtype': 'numerical'}, '5345': {'sdtype': 'numerical'}, '5348': {'sdtype': 'numerical'}, '5351': {'sdtype': 'numerical'}, '5354': {'sdtype': 'numerical'}, '5357': {'sdtype': 'numerical'}, '5360': {'sdtype': 'numerical'}, '5363': {'sdtype': 'numerical'}, '5366': {'sdtype': 'numerical'}, '5369': {'sdtype': 'numerical'}, '5372': {'sdtype': 'numerical'}, '5375': {'sdtype': 'numerical'}, '5378': {'sdtype': 'numerical'}, '5381': {'sdtype': 'numerical'}, '5384': {'sdtype': 'numerical'}, '5387': {'sdtype': 'numerical'}, '5390': {'sdtype': 'numerical'}, '5393': {'sdtype': 'numerical'}, '5396': {'sdtype': 'numerical'}, '5399': {'sdtype': 'numerical'}, '5402': {'sdtype': 'numerical'}, '5405': {'sdtype': 'numerical'}, '5408': {'sdtype': 'numerical'}, '5411': {'sdtype': 'numerical'}, '5414': {'sdtype': 'numerical'}, '5417': {'sdtype': 'numerical'}, '5420': {'sdtype': 'numerical'}, '5423': {'sdtype': 'numerical'}, '5426': {'sdtype': 'numerical'}, '5429': {'sdtype': 'numerical'}, '5432': {'sdtype': 'numerical'}, '5435': {'sdtype': 'numerical'}, '5438': {'sdtype': 'numerical'}, '5441': {'sdtype': 'numerical'}, '5444': {'sdtype': 'numerical'}, '5447': {'sdtype': 'numerical'}, '5450': {'sdtype': 'numerical'}, '5453': {'sdtype': 'numerical'}, '5456': {'sdtype': 'numerical'}, '5459': {'sdtype': 'numerical'}, '5462': {'sdtype': 'numerical'}, '5465': {'sdtype': 'numerical'}, '5468': {'sdtype': 'numerical'}, '5471': {'sdtype': 'numerical'}, '5474': {'sdtype': 'numerical'}, '5477': {'sdtype': 'numerical'}, '5480': {'sdtype': 'numerical'}, '5483': {'sdtype': 'numerical'}, '5486': {'sdtype': 'numerical'}, '5489': {'sdtype': 'numerical'}, '5492': {'sdtype': 'numerical'}, '5495': {'sdtype': 'numerical'}, '5498': {'sdtype': 'numerical'}, '5501': {'sdtype': 'numerical'}, '5504': {'sdtype': 'numerical'}, '5507': {'sdtype': 'numerical'}, '5510': {'sdtype': 'numerical'}, '5513': {'sdtype': 'numerical'}, '5516': {'sdtype': 'numerical'}, '5519': {'sdtype': 'numerical'}, '5522': {'sdtype': 'numerical'}, '5525': {'sdtype': 'numerical'}, '5528': {'sdtype': 'numerical'}, '5531': {'sdtype': 'numerical'}, '5534': {'sdtype': 'numerical'}, '5537': {'sdtype': 'numerical'}, '5540': {'sdtype': 'numerical'}, '5543': {'sdtype': 'numerical'}, '5546': {'sdtype': 'numerical'}, '5549': {'sdtype': 'numerical'}, '5552': {'sdtype': 'numerical'}, '5555': {'sdtype': 'numerical'}, '5558': {'sdtype': 'numerical'}, '5561': {'sdtype': 'numerical'}, '5564': {'sdtype': 'numerical'}, '5567': {'sdtype': 'numerical'}, '5570': {'sdtype': 'numerical'}, '5573': {'sdtype': 'numerical'}, '5576': {'sdtype': 'numerical'}, '5579': {'sdtype': 'numerical'}, '5582': {'sdtype': 'numerical'}, '5585': {'sdtype': 'numerical'}, '5588': {'sdtype': 'numerical'}, '5591': {'sdtype': 'numerical'}, '5594': {'sdtype': 'numerical'}, '5597': {'sdtype': 'numerical'}, '5600': {'sdtype': 'numerical'}, '5603': {'sdtype': 'numerical'}, '5606': {'sdtype': 'numerical'}, '5609': {'sdtype': 'numerical'}, '5612': {'sdtype': 'numerical'}, '5615': {'sdtype': 'numerical'}, '5618': {'sdtype': 'numerical'}, '5621': {'sdtype': 'numerical'}, '5624': {'sdtype': 'numerical'}, '5627': {'sdtype': 'numerical'}, '5630': {'sdtype': 'numerical'}, '5633': {'sdtype': 'numerical'}, '5636': {'sdtype': 'numerical'}, '5639': {'sdtype': 'numerical'}, '5642': {'sdtype': 'numerical'}, '5645': {'sdtype': 'numerical'}, '5648': {'sdtype': 'numerical'}, '5651': {'sdtype': 'numerical'}, '5654': {'sdtype': 'numerical'}, '5657': {'sdtype': 'numerical'}, '5660': {'sdtype': 'numerical'}, '5663': {'sdtype': 'numerical'}, '5666': {'sdtype': 'numerical'}, '5669': {'sdtype': 'numerical'}, '5672': {'sdtype': 'numerical'}, '5675': {'sdtype': 'numerical'}, '5678': {'sdtype': 'numerical'}, '5681': {'sdtype': 'numerical'}, '5684': {'sdtype': 'numerical'}, '5687': {'sdtype': 'numerical'}, '5690': {'sdtype': 'numerical'}, '5693': {'sdtype': 'numerical'}, '5696': {'sdtype': 'numerical'}, '5699': {'sdtype': 'numerical'}, '5702': {'sdtype': 'numerical'}, '5705': {'sdtype': 'numerical'}, '5708': {'sdtype': 'numerical'}, '5711': {'sdtype': 'numerical'}, '5714': {'sdtype': 'numerical'}, '5717': {'sdtype': 'numerical'}, '5720': {'sdtype': 'numerical'}, '5723': {'sdtype': 'numerical'}, '5726': {'sdtype': 'numerical'}, '5729': {'sdtype': 'numerical'}, '5732': {'sdtype': 'numerical'}, '5735': {'sdtype': 'numerical'}, '5738': {'sdtype': 'numerical'}, '5741': {'sdtype': 'numerical'}, '5744': {'sdtype': 'numerical'}, '5747': {'sdtype': 'numerical'}, '5750': {'sdtype': 'numerical'}, '5753': {'sdtype': 'numerical'}, '5756': {'sdtype': 'numerical'}, '5759': {'sdtype': 'numerical'}, '5762': {'sdtype': 'numerical'}, '5765': {'sdtype': 'numerical'}, '5768': {'sdtype': 'numerical'}, '5771': {'sdtype': 'numerical'}, '5774': {'sdtype': 'numerical'}, '5777': {'sdtype': 'numerical'}, '5780': {'sdtype': 'numerical'}, '5783': {'sdtype': 'numerical'}, '5786': {'sdtype': 'numerical'}, '5789': {'sdtype': 'numerical'}, '5792': {'sdtype': 'numerical'}, '5795': {'sdtype': 'numerical'}, '5798': {'sdtype': 'numerical'}, '5801': {'sdtype': 'numerical'}, '5804': {'sdtype': 'numerical'}, '5807': {'sdtype': 'numerical'}, '5810': {'sdtype': 'numerical'}, '5813': {'sdtype': 'numerical'}, '5816': {'sdtype': 'numerical'}, '5819': {'sdtype': 'numerical'}, '5822': {'sdtype': 'numerical'}, '5825': {'sdtype': 'numerical'}, '5828': {'sdtype': 'numerical'}, '5831': {'sdtype': 'numerical'}, '5834': {'sdtype': 'numerical'}, '5837': {'sdtype': 'numerical'}, '5840': {'sdtype': 'numerical'}, '5843': {'sdtype': 'numerical'}, '5846': {'sdtype': 'numerical'}, '5849': {'sdtype': 'numerical'}, '5852': {'sdtype': 'numerical'}, '5855': {'sdtype': 'numerical'}, '5858': {'sdtype': 'numerical'}, '5861': {'sdtype': 'numerical'}, '5864': {'sdtype': 'numerical'}, '5867': {'sdtype': 'numerical'}, '5870': {'sdtype': 'numerical'}, '5873': {'sdtype': 'numerical'}, '5876': {'sdtype': 'numerical'}, '5879': {'sdtype': 'numerical'}, '5882': {'sdtype': 'numerical'}, '5885': {'sdtype': 'numerical'}, '5888': {'sdtype': 'numerical'}, '5891': {'sdtype': 'numerical'}, '5894': {'sdtype': 'numerical'}, '5897': {'sdtype': 'numerical'}, '5900': {'sdtype': 'numerical'}, '5903': {'sdtype': 'numerical'}, '5906': {'sdtype': 'numerical'}, '5909': {'sdtype': 'numerical'}, '5912': {'sdtype': 'numerical'}, '5915': {'sdtype': 'numerical'}, '5918': {'sdtype': 'numerical'}, '5921': {'sdtype': 'numerical'}, '5924': {'sdtype': 'numerical'}, '5927': {'sdtype': 'numerical'}, '5930': {'sdtype': 'numerical'}, '5933': {'sdtype': 'numerical'}, '5936': {'sdtype': 'numerical'}, '5939': {'sdtype': 'numerical'}, '5942': {'sdtype': 'numerical'}, '5945': {'sdtype': 'numerical'}, '5948': {'sdtype': 'numerical'}, '5951': {'sdtype': 'numerical'}, '5954': {'sdtype': 'numerical'}, '5957': {'sdtype': 'numerical'}, '5960': {'sdtype': 'numerical'}, '5963': {'sdtype': 'numerical'}, '5966': {'sdtype': 'numerical'}, '5969': {'sdtype': 'numerical'}, '5972': {'sdtype': 'numerical'}, '5975': {'sdtype': 'numerical'}, '5978': {'sdtype': 'numerical'}, '5981': {'sdtype': 'numerical'}, '5984': {'sdtype': 'numerical'}, '5987': {'sdtype': 'numerical'}, '5990': {'sdtype': 'numerical'}, '5993': {'sdtype': 'numerical'}, '5996': {'sdtype': 'numerical'}, '5999': {'sdtype': 'numerical'}, '6002': {'sdtype': 'numerical'}, '6005': {'sdtype': 'numerical'}, '6008': {'sdtype': 'numerical'}, '6011': {'sdtype': 'numerical'}, '6014': {'sdtype': 'numerical'}, '6017': {'sdtype': 'numerical'}, '6020': {'sdtype': 'numerical'}, '6023': {'sdtype': 'numerical'}, '6026': {'sdtype': 'numerical'}, '6029': {'sdtype': 'numerical'}, '6032': {'sdtype': 'numerical'}, '6035': {'sdtype': 'numerical'}, '6038': {'sdtype': 'numerical'}, '6041': {'sdtype': 'numerical'}, '6044': {'sdtype': 'numerical'}, '6047': {'sdtype': 'numerical'}, '6050': {'sdtype': 'numerical'}, '6053': {'sdtype': 'numerical'}, '6056': {'sdtype': 'numerical'}, '6059': {'sdtype': 'numerical'}, '6062': {'sdtype': 'numerical'}, '6065': {'sdtype': 'numerical'}, '6068': {'sdtype': 'numerical'}, '6071': {'sdtype': 'numerical'}, '6074': {'sdtype': 'numerical'}, '6077': {'sdtype': 'numerical'}, '6080': {'sdtype': 'numerical'}, '6083': {'sdtype': 'numerical'}, '6086': {'sdtype': 'numerical'}, '6089': {'sdtype': 'numerical'}, '6092': {'sdtype': 'numerical'}, '6095': {'sdtype': 'numerical'}, '6098': {'sdtype': 'numerical'}, '6101': {'sdtype': 'numerical'}, '6104': {'sdtype': 'numerical'}, '6107': {'sdtype': 'numerical'}, '6110': {'sdtype': 'numerical'}, '6113': {'sdtype': 'numerical'}, '6116': {'sdtype': 'numerical'}, '6119': {'sdtype': 'numerical'}, '6122': {'sdtype': 'numerical'}, '6125': {'sdtype': 'numerical'}, '6128': {'sdtype': 'numerical'}, '6131': {'sdtype': 'numerical'}, '6134': {'sdtype': 'numerical'}, '6137': {'sdtype': 'numerical'}, '6140': {'sdtype': 'numerical'}, '6143': {'sdtype': 'numerical'}, '6146': {'sdtype': 'numerical'}, '6149': {'sdtype': 'numerical'}, '6152': {'sdtype': 'numerical'}, '6155': {'sdtype': 'numerical'}, '6158': {'sdtype': 'numerical'}, '6161': {'sdtype': 'numerical'}, '6164': {'sdtype': 'numerical'}, '6167': {'sdtype': 'numerical'}, '6170': {'sdtype': 'numerical'}, '6173': {'sdtype': 'numerical'}, '6176': {'sdtype': 'numerical'}, '6179': {'sdtype': 'numerical'}, '6182': {'sdtype': 'numerical'}, '6185': {'sdtype': 'numerical'}, '6188': {'sdtype': 'numerical'}, '6191': {'sdtype': 'numerical'}, '6194': {'sdtype': 'numerical'}, '6197': {'sdtype': 'numerical'}, '6200': {'sdtype': 'numerical'}, '6203': {'sdtype': 'numerical'}, '6206': {'sdtype': 'numerical'}, '6209': {'sdtype': 'numerical'}, '6212': {'sdtype': 'numerical'}, '6215': {'sdtype': 'numerical'}, '6218': {'sdtype': 'numerical'}, '6221': {'sdtype': 'numerical'}, '6224': {'sdtype': 'numerical'}, '6227': {'sdtype': 'numerical'}, '6230': {'sdtype': 'numerical'}, '6233': {'sdtype': 'numerical'}, '6236': {'sdtype': 'numerical'}, '6239': {'sdtype': 'numerical'}, '6242': {'sdtype': 'numerical'}, '6245': {'sdtype': 'numerical'}, '6248': {'sdtype': 'numerical'}, '6251': {'sdtype': 'numerical'}, '6254': {'sdtype': 'numerical'}, '6257': {'sdtype': 'numerical'}, '6260': {'sdtype': 'numerical'}, '6263': {'sdtype': 'numerical'}, '6266': {'sdtype': 'numerical'}, '6269': {'sdtype': 'numerical'}, '6272': {'sdtype': 'numerical'}, '6275': {'sdtype': 'numerical'}, '6278': {'sdtype': 'numerical'}, '6281': {'sdtype': 'numerical'}, '6284': {'sdtype': 'numerical'}, '6287': {'sdtype': 'numerical'}, '6290': {'sdtype': 'numerical'}, '6293': {'sdtype': 'numerical'}, '6296': {'sdtype': 'numerical'}, '6299': {'sdtype': 'numerical'}, '6302': {'sdtype': 'numerical'}, '6305': {'sdtype': 'numerical'}, '6308': {'sdtype': 'numerical'}, '6311': {'sdtype': 'numerical'}, '6314': {'sdtype': 'numerical'}, '6317': {'sdtype': 'numerical'}, '6320': {'sdtype': 'numerical'}, '6323': {'sdtype': 'numerical'}, '6326': {'sdtype': 'numerical'}, '6329': {'sdtype': 'numerical'}, '6332': {'sdtype': 'numerical'}, '6335': {'sdtype': 'numerical'}, '6338': {'sdtype': 'numerical'}, '6341': {'sdtype': 'numerical'}, '6344': {'sdtype': 'numerical'}, '6347': {'sdtype': 'numerical'}, '6350': {'sdtype': 'numerical'}, '6353': {'sdtype': 'numerical'}, '6356': {'sdtype': 'numerical'}, '6359': {'sdtype': 'numerical'}, '6362': {'sdtype': 'numerical'}, '6365': {'sdtype': 'numerical'}, '6368': {'sdtype': 'numerical'}, '6371': {'sdtype': 'numerical'}, '6374': {'sdtype': 'numerical'}, '6377': {'sdtype': 'numerical'}, '6380': {'sdtype': 'numerical'}, '6383': {'sdtype': 'numerical'}, '6386': {'sdtype': 'numerical'}, '6389': {'sdtype': 'numerical'}, '6392': {'sdtype': 'numerical'}, '6395': {'sdtype': 'numerical'}, '6398': {'sdtype': 'numerical'}, '6401': {'sdtype': 'numerical'}, '6404': {'sdtype': 'numerical'}, '6407': {'sdtype': 'numerical'}, '6410': {'sdtype': 'numerical'}, '6413': {'sdtype': 'numerical'}, '6416': {'sdtype': 'numerical'}, '6419': {'sdtype': 'numerical'}, '6422': {'sdtype': 'numerical'}, '6425': {'sdtype': 'numerical'}, '6428': {'sdtype': 'numerical'}, '6431': {'sdtype': 'numerical'}, '6434': {'sdtype': 'numerical'}, '6437': {'sdtype': 'numerical'}, '6440': {'sdtype': 'numerical'}, '6443': {'sdtype': 'numerical'}, '6446': {'sdtype': 'numerical'}, '6449': {'sdtype': 'numerical'}, '6452': {'sdtype': 'numerical'}, '6455': {'sdtype': 'numerical'}, '6458': {'sdtype': 'numerical'}, '6461': {'sdtype': 'numerical'}, '6464': {'sdtype': 'numerical'}, '6467': {'sdtype': 'numerical'}, '6470': {'sdtype': 'numerical'}, '6473': {'sdtype': 'numerical'}, '6476': {'sdtype': 'numerical'}, '6479': {'sdtype': 'numerical'}, '6482': {'sdtype': 'numerical'}, '6485': {'sdtype': 'numerical'}, '6488': {'sdtype': 'numerical'}, '6491': {'sdtype': 'numerical'}, '6494': {'sdtype': 'numerical'}, '6497': {'sdtype': 'numerical'}, '6500': {'sdtype': 'numerical'}, '6503': {'sdtype': 'numerical'}, '6506': {'sdtype': 'numerical'}, '6509': {'sdtype': 'numerical'}, '6512': {'sdtype': 'numerical'}, '6515': {'sdtype': 'numerical'}, '6518': {'sdtype': 'numerical'}, '6521': {'sdtype': 'numerical'}, '6524': {'sdtype': 'numerical'}, '6527': {'sdtype': 'numerical'}, '6530': {'sdtype': 'numerical'}, '6533': {'sdtype': 'numerical'}, '6536': {'sdtype': 'numerical'}, '6539': {'sdtype': 'numerical'}, '6542': {'sdtype': 'numerical'}, '6545': {'sdtype': 'numerical'}, '6548': {'sdtype': 'numerical'}, '6551': {'sdtype': 'numerical'}, '6554': {'sdtype': 'numerical'}, '6557': {'sdtype': 'numerical'}, '6560': {'sdtype': 'numerical'}, '6563': {'sdtype': 'numerical'}, '6566': {'sdtype': 'numerical'}, '6569': {'sdtype': 'numerical'}, '6572': {'sdtype': 'numerical'}, '6575': {'sdtype': 'numerical'}, '6578': {'sdtype': 'numerical'}, '6581': {'sdtype': 'numerical'}, '6584': {'sdtype': 'numerical'}, '6587': {'sdtype': 'numerical'}, '6590': {'sdtype': 'numerical'}, '6593': {'sdtype': 'numerical'}, '6596': {'sdtype': 'numerical'}, '6599': {'sdtype': 'numerical'}, '6602': {'sdtype': 'numerical'}, '6605': {'sdtype': 'numerical'}, '6608': {'sdtype': 'numerical'}, '6611': {'sdtype': 'numerical'}, '6614': {'sdtype': 'numerical'}, '6617': {'sdtype': 'numerical'}, '6620': {'sdtype': 'numerical'}, '6623': {'sdtype': 'numerical'}, '6626': {'sdtype': 'numerical'}, '6629': {'sdtype': 'numerical'}, '6632': {'sdtype': 'numerical'}, '6635': {'sdtype': 'numerical'}, '6638': {'sdtype': 'numerical'}, '6641': {'sdtype': 'numerical'}, '6644': {'sdtype': 'numerical'}, '6647': {'sdtype': 'numerical'}, '6650': {'sdtype': 'numerical'}, '6653': {'sdtype': 'numerical'}, '6656': {'sdtype': 'numerical'}, '6659': {'sdtype': 'numerical'}, '6662': {'sdtype': 'numerical'}, '6665': {'sdtype': 'numerical'}, '6668': {'sdtype': 'numerical'}, '6671': {'sdtype': 'numerical'}, '6674': {'sdtype': 'numerical'}, '6677': {'sdtype': 'numerical'}, '6680': {'sdtype': 'numerical'}, '6683': {'sdtype': 'numerical'}, '6686': {'sdtype': 'numerical'}, '6689': {'sdtype': 'numerical'}, '6692': {'sdtype': 'numerical'}, '6695': {'sdtype': 'numerical'}, '6698': {'sdtype': 'numerical'}, '6701': {'sdtype': 'numerical'}, '6704': {'sdtype': 'numerical'}, '6707': {'sdtype': 'numerical'}, '6710': {'sdtype': 'numerical'}, '6713': {'sdtype': 'numerical'}, '6716': {'sdtype': 'numerical'}, '6719': {'sdtype': 'numerical'}, '6722': {'sdtype': 'numerical'}, '6725': {'sdtype': 'numerical'}, '6728': {'sdtype': 'numerical'}, '6731': {'sdtype': 'numerical'}, '6734': {'sdtype': 'numerical'}, '6737': {'sdtype': 'numerical'}, '6740': {'sdtype': 'numerical'}, '6743': {'sdtype': 'numerical'}, '6746': {'sdtype': 'numerical'}, '6749': {'sdtype': 'numerical'}, '6752': {'sdtype': 'numerical'}, '6755': {'sdtype': 'numerical'}, '6758': {'sdtype': 'numerical'}, '6761': {'sdtype': 'numerical'}, '6764': {'sdtype': 'numerical'}, '6767': {'sdtype': 'numerical'}, '6770': {'sdtype': 'numerical'}, '6773': {'sdtype': 'numerical'}, '6776': {'sdtype': 'numerical'}, '6779': {'sdtype': 'numerical'}, '6782': {'sdtype': 'numerical'}, '6785': {'sdtype': 'numerical'}, '6788': {'sdtype': 'numerical'}, '6791': {'sdtype': 'numerical'}, '6794': {'sdtype': 'numerical'}, '6797': {'sdtype': 'numerical'}, '6800': {'sdtype': 'numerical'}, '6803': {'sdtype': 'numerical'}, '6806': {'sdtype': 'numerical'}, '6809': {'sdtype': 'numerical'}, '6812': {'sdtype': 'numerical'}, '6815': {'sdtype': 'numerical'}, '6818': {'sdtype': 'numerical'}, '6821': {'sdtype': 'numerical'}, '6824': {'sdtype': 'numerical'}, '6827': {'sdtype': 'numerical'}, '6830': {'sdtype': 'numerical'}, '6833': {'sdtype': 'numerical'}, '6836': {'sdtype': 'numerical'}, '6839': {'sdtype': 'numerical'}, '6842': {'sdtype': 'numerical'}, '6845': {'sdtype': 'numerical'}, '6848': {'sdtype': 'numerical'}, '6851': {'sdtype': 'numerical'}, '6854': {'sdtype': 'numerical'}, '6857': {'sdtype': 'numerical'}, '6860': {'sdtype': 'numerical'}, '6863': {'sdtype': 'numerical'}, '6866': {'sdtype': 'numerical'}, '6869': {'sdtype': 'numerical'}, '6872': {'sdtype': 'numerical'}, '6875': {'sdtype': 'numerical'}, '6878': {'sdtype': 'numerical'}, '6881': {'sdtype': 'numerical'}, '6884': {'sdtype': 'numerical'}, '6887': {'sdtype': 'numerical'}, '6890': {'sdtype': 'numerical'}, '6893': {'sdtype': 'numerical'}, '6896': {'sdtype': 'numerical'}, '6899': {'sdtype': 'numerical'}, '6902': {'sdtype': 'numerical'}, '6905': {'sdtype': 'numerical'}, '6908': {'sdtype': 'numerical'}, '6911': {'sdtype': 'numerical'}, '6914': {'sdtype': 'numerical'}, '6917': {'sdtype': 'numerical'}, '6920': {'sdtype': 'numerical'}, '6923': {'sdtype': 'numerical'}, '6926': {'sdtype': 'numerical'}, '6929': {'sdtype': 'numerical'}, '6932': {'sdtype': 'numerical'}, '6935': {'sdtype': 'numerical'}, '6938': {'sdtype': 'numerical'}, '6941': {'sdtype': 'numerical'}, '6944': {'sdtype': 'numerical'}, '6947': {'sdtype': 'numerical'}, '6950': {'sdtype': 'numerical'}, '6953': {'sdtype': 'numerical'}, '6956': {'sdtype': 'numerical'}, '6959': {'sdtype': 'numerical'}, '6962': {'sdtype': 'numerical'}, '6965': {'sdtype': 'numerical'}, '6968': {'sdtype': 'numerical'}, '6971': {'sdtype': 'numerical'}, '6974': {'sdtype': 'numerical'}, '6977': {'sdtype': 'numerical'}, '6980': {'sdtype': 'numerical'}, '6983': {'sdtype': 'numerical'}, '6986': {'sdtype': 'numerical'}, '6989': {'sdtype': 'numerical'}, '6992': {'sdtype': 'numerical'}, '6995': {'sdtype': 'numerical'}, '6998': {'sdtype': 'numerical'}, '7001': {'sdtype': 'numerical'}, '7004': {'sdtype': 'numerical'}, '7007': {'sdtype': 'numerical'}, '7010': {'sdtype': 'numerical'}, '7013': {'sdtype': 'numerical'}, '7016': {'sdtype': 'numerical'}, '7019': {'sdtype': 'numerical'}, '7022': {'sdtype': 'numerical'}, '7025': {'sdtype': 'numerical'}, '7028': {'sdtype': 'numerical'}, '7031': {'sdtype': 'numerical'}, '7034': {'sdtype': 'numerical'}, '7037': {'sdtype': 'numerical'}, '7040': {'sdtype': 'numerical'}, '7043': {'sdtype': 'numerical'}, '7046': {'sdtype': 'numerical'}, '7049': {'sdtype': 'numerical'}, '7052': {'sdtype': 'numerical'}, '7055': {'sdtype': 'numerical'}, '7058': {'sdtype': 'numerical'}, '7061': {'sdtype': 'numerical'}, '7064': {'sdtype': 'numerical'}, '7067': {'sdtype': 'numerical'}, '7070': {'sdtype': 'numerical'}, '7073': {'sdtype': 'numerical'}, '7076': {'sdtype': 'numerical'}, '7079': {'sdtype': 'numerical'}, '7082': {'sdtype': 'numerical'}, '7085': {'sdtype': 'numerical'}, '7088': {'sdtype': 'numerical'}, '7091': {'sdtype': 'numerical'}, '7094': {'sdtype': 'numerical'}, '7097': {'sdtype': 'numerical'}, '7100': {'sdtype': 'numerical'}, '7103': {'sdtype': 'numerical'}, '7106': {'sdtype': 'numerical'}, '7109': {'sdtype': 'numerical'}, '7112': {'sdtype': 'numerical'}, '7115': {'sdtype': 'numerical'}, '7118': {'sdtype': 'numerical'}, '7121': {'sdtype': 'numerical'}, '7124': {'sdtype': 'numerical'}, '7127': {'sdtype': 'numerical'}, '7130': {'sdtype': 'numerical'}, '7133': {'sdtype': 'numerical'}, '7136': {'sdtype': 'numerical'}, '7139': {'sdtype': 'numerical'}, '7142': {'sdtype': 'numerical'}, '7145': {'sdtype': 'numerical'}, '7148': {'sdtype': 'numerical'}, '7151': {'sdtype': 'numerical'}, '7154': {'sdtype': 'numerical'}, '7157': {'sdtype': 'numerical'}, '7160': {'sdtype': 'numerical'}, '7163': {'sdtype': 'numerical'}, '7166': {'sdtype': 'numerical'}, '7169': {'sdtype': 'numerical'}, '7172': {'sdtype': 'numerical'}, '7175': {'sdtype': 'numerical'}, '7178': {'sdtype': 'numerical'}, '7181': {'sdtype': 'numerical'}, '7184': {'sdtype': 'numerical'}, '7187': {'sdtype': 'numerical'}, '7190': {'sdtype': 'numerical'}, '7193': {'sdtype': 'numerical'}, '7196': {'sdtype': 'numerical'}, '7199': {'sdtype': 'numerical'}, '7202': {'sdtype': 'numerical'}, '7205': {'sdtype': 'numerical'}, '7208': {'sdtype': 'numerical'}, '7211': {'sdtype': 'numerical'}, '7214': {'sdtype': 'numerical'}, '7217': {'sdtype': 'numerical'}, '7220': {'sdtype': 'numerical'}, '7223': {'sdtype': 'numerical'}, '7226': {'sdtype': 'numerical'}, '7229': {'sdtype': 'numerical'}, '7232': {'sdtype': 'numerical'}, '7235': {'sdtype': 'numerical'}, '7238': {'sdtype': 'numerical'}, '7241': {'sdtype': 'numerical'}, '7244': {'sdtype': 'numerical'}, '7247': {'sdtype': 'numerical'}, '7250': {'sdtype': 'numerical'}, '7253': {'sdtype': 'numerical'}, '7256': {'sdtype': 'numerical'}, '7259': {'sdtype': 'numerical'}, '7262': {'sdtype': 'numerical'}, '7265': {'sdtype': 'numerical'}, '7268': {'sdtype': 'numerical'}, '7271': {'sdtype': 'numerical'}, '7274': {'sdtype': 'numerical'}, '7277': {'sdtype': 'numerical'}, '7280': {'sdtype': 'numerical'}, '7283': {'sdtype': 'numerical'}, '7286': {'sdtype': 'numerical'}, '7289': {'sdtype': 'numerical'}, '7292': {'sdtype': 'numerical'}, '7295': {'sdtype': 'numerical'}, '7298': {'sdtype': 'numerical'}, '7301': {'sdtype': 'numerical'}, '7304': {'sdtype': 'numerical'}, '7307': {'sdtype': 'numerical'}, '7310': {'sdtype': 'numerical'}, '7313': {'sdtype': 'numerical'}, '7316': {'sdtype': 'numerical'}, '7319': {'sdtype': 'numerical'}, '7322': {'sdtype': 'numerical'}, '7325': {'sdtype': 'numerical'}, '7328': {'sdtype': 'numerical'}, '7331': {'sdtype': 'numerical'}, '7334': {'sdtype': 'numerical'}, '7337': {'sdtype': 'numerical'}, '7340': {'sdtype': 'numerical'}, '7343': {'sdtype': 'numerical'}, '7346': {'sdtype': 'numerical'}, '7349': {'sdtype': 'numerical'}, '7352': {'sdtype': 'numerical'}, '7355': {'sdtype': 'numerical'}, '7358': {'sdtype': 'numerical'}, '7361': {'sdtype': 'numerical'}, '7364': {'sdtype': 'numerical'}, '7367': {'sdtype': 'numerical'}, '7370': {'sdtype': 'numerical'}, '7373': {'sdtype': 'numerical'}, '7376': {'sdtype': 'numerical'}, '7379': {'sdtype': 'numerical'}, '7382': {'sdtype': 'numerical'}, '7385': {'sdtype': 'numerical'}, '7388': {'sdtype': 'numerical'}, '7391': {'sdtype': 'numerical'}, '7394': {'sdtype': 'numerical'}, '7397': {'sdtype': 'numerical'}, '7400': {'sdtype': 'numerical'}, '7403': {'sdtype': 'numerical'}, '7406': {'sdtype': 'numerical'}, '7409': {'sdtype': 'numerical'}, '7412': {'sdtype': 'numerical'}, '7415': {'sdtype': 'numerical'}, '7418': {'sdtype': 'numerical'}, '7421': {'sdtype': 'numerical'}, '7424': {'sdtype': 'numerical'}, '7427': {'sdtype': 'numerical'}, '7430': {'sdtype': 'numerical'}, '7433': {'sdtype': 'numerical'}, '7436': {'sdtype': 'numerical'}, '7439': {'sdtype': 'numerical'}, '7442': {'sdtype': 'numerical'}, '7445': {'sdtype': 'numerical'}, '7448': {'sdtype': 'numerical'}, '7451': {'sdtype': 'numerical'}, '7454': {'sdtype': 'numerical'}, '7457': {'sdtype': 'numerical'}, '7460': {'sdtype': 'numerical'}, '7463': {'sdtype': 'numerical'}, '7466': {'sdtype': 'numerical'}, '7469': {'sdtype': 'numerical'}, '7472': {'sdtype': 'numerical'}, '7475': {'sdtype': 'numerical'}, '7478': {'sdtype': 'numerical'}, '7481': {'sdtype': 'numerical'}, '7484': {'sdtype': 'numerical'}, '7487': {'sdtype': 'numerical'}, '7490': {'sdtype': 'numerical'}, '7493': {'sdtype': 'numerical'}, '7496': {'sdtype': 'numerical'}, '7499': {'sdtype': 'numerical'}, '7502': {'sdtype': 'numerical'}, '7505': {'sdtype': 'numerical'}, '7508': {'sdtype': 'numerical'}, '7511': {'sdtype': 'numerical'}, '7514': {'sdtype': 'numerical'}, '7517': {'sdtype': 'numerical'}, '7520': {'sdtype': 'numerical'}, '7523': {'sdtype': 'numerical'}, '7526': {'sdtype': 'numerical'}, '7529': {'sdtype': 'numerical'}, '7532': {'sdtype': 'numerical'}, '7535': {'sdtype': 'numerical'}, '7538': {'sdtype': 'numerical'}, '7541': {'sdtype': 'numerical'}, '7544': {'sdtype': 'numerical'}, '7547': {'sdtype': 'numerical'}, '7550': {'sdtype': 'numerical'}, '7553': {'sdtype': 'numerical'}, '7556': {'sdtype': 'numerical'}, '7559': {'sdtype': 'numerical'}, '7562': {'sdtype': 'numerical'}, '7565': {'sdtype': 'numerical'}, '7568': {'sdtype': 'numerical'}, '7571': {'sdtype': 'numerical'}, '7574': {'sdtype': 'numerical'}, '7577': {'sdtype': 'numerical'}, '7580': {'sdtype': 'numerical'}, '7583': {'sdtype': 'numerical'}, '7586': {'sdtype': 'numerical'}, '7589': {'sdtype': 'numerical'}, '7592': {'sdtype': 'numerical'}, '7595': {'sdtype': 'numerical'}, '7598': {'sdtype': 'numerical'}, '7601': {'sdtype': 'numerical'}, '7604': {'sdtype': 'numerical'}, '7607': {'sdtype': 'numerical'}, '7610': {'sdtype': 'numerical'}, '7613': {'sdtype': 'numerical'}, '7616': {'sdtype': 'numerical'}, '7619': {'sdtype': 'numerical'}, '7622': {'sdtype': 'numerical'}, '7625': {'sdtype': 'numerical'}, '7628': {'sdtype': 'numerical'}, '7631': {'sdtype': 'numerical'}, '7634': {'sdtype': 'numerical'}, '7637': {'sdtype': 'numerical'}, '7640': {'sdtype': 'numerical'}, '7643': {'sdtype': 'numerical'}, '7646': {'sdtype': 'numerical'}, '7649': {'sdtype': 'numerical'}, '7652': {'sdtype': 'numerical'}, '7655': {'sdtype': 'numerical'}, '7658': {'sdtype': 'numerical'}, '7661': {'sdtype': 'numerical'}, '7664': {'sdtype': 'numerical'}, '7667': {'sdtype': 'numerical'}, '7670': {'sdtype': 'numerical'}, '7673': {'sdtype': 'numerical'}, '7676': {'sdtype': 'numerical'}, '7679': {'sdtype': 'numerical'}, '7682': {'sdtype': 'numerical'}, '7685': {'sdtype': 'numerical'}, '7688': {'sdtype': 'numerical'}, '7691': {'sdtype': 'numerical'}, '7694': {'sdtype': 'numerical'}, '7697': {'sdtype': 'numerical'}, '7700': {'sdtype': 'numerical'}, '7703': {'sdtype': 'numerical'}, '7706': {'sdtype': 'numerical'}, '7709': {'sdtype': 'numerical'}, '7712': {'sdtype': 'numerical'}, '7715': {'sdtype': 'numerical'}, '7718': {'sdtype': 'numerical'}, '7721': {'sdtype': 'numerical'}, '7724': {'sdtype': 'numerical'}, '7727': {'sdtype': 'numerical'}, '7730': {'sdtype': 'numerical'}, '7733': {'sdtype': 'numerical'}, '7736': {'sdtype': 'numerical'}, '7739': {'sdtype': 'numerical'}, '7742': {'sdtype': 'numerical'}, '7745': {'sdtype': 'numerical'}, '7748': {'sdtype': 'numerical'}, '7751': {'sdtype': 'numerical'}, '7754': {'sdtype': 'numerical'}, '7757': {'sdtype': 'numerical'}, '7760': {'sdtype': 'numerical'}, '7763': {'sdtype': 'numerical'}, '7766': {'sdtype': 'numerical'}, '7769': {'sdtype': 'numerical'}, '7772': {'sdtype': 'numerical'}, '7775': {'sdtype': 'numerical'}, '7778': {'sdtype': 'numerical'}, '7781': {'sdtype': 'numerical'}, '7784': {'sdtype': 'numerical'}, '7787': {'sdtype': 'numerical'}, '7790': {'sdtype': 'numerical'}, '7793': {'sdtype': 'numerical'}, '7796': {'sdtype': 'numerical'}, '7799': {'sdtype': 'numerical'}, '7802': {'sdtype': 'numerical'}, '7805': {'sdtype': 'numerical'}, '7808': {'sdtype': 'numerical'}, '7811': {'sdtype': 'numerical'}, '7814': {'sdtype': 'numerical'}, '7817': {'sdtype': 'numerical'}, '7820': {'sdtype': 'numerical'}, '7823': {'sdtype': 'numerical'}, '7826': {'sdtype': 'numerical'}, '7829': {'sdtype': 'numerical'}, '7832': {'sdtype': 'numerical'}, '7835': {'sdtype': 'numerical'}, '7838': {'sdtype': 'numerical'}, '7841': {'sdtype': 'numerical'}, '7844': {'sdtype': 'numerical'}, '7847': {'sdtype': 'numerical'}, '7850': {'sdtype': 'numerical'}, '7853': {'sdtype': 'numerical'}, '7856': {'sdtype': 'numerical'}, '7859': {'sdtype': 'numerical'}, '7862': {'sdtype': 'numerical'}, '7865': {'sdtype': 'numerical'}, '7868': {'sdtype': 'numerical'}, '7871': {'sdtype': 'numerical'}, '7874': {'sdtype': 'numerical'}, '7877': {'sdtype': 'numerical'}, '7880': {'sdtype': 'numerical'}, '7883': {'sdtype': 'numerical'}, '7886': {'sdtype': 'numerical'}, '7889': {'sdtype': 'numerical'}, '7892': {'sdtype': 'numerical'}, '7895': {'sdtype': 'numerical'}, '7898': {'sdtype': 'numerical'}, '7901': {'sdtype': 'numerical'}, '7904': {'sdtype': 'numerical'}, '7907': {'sdtype': 'numerical'}, '7910': {'sdtype': 'numerical'}, '7913': {'sdtype': 'numerical'}, '7916': {'sdtype': 'numerical'}, '7919': {'sdtype': 'numerical'}, '7922': {'sdtype': 'numerical'}, '7925': {'sdtype': 'numerical'}, '7928': {'sdtype': 'numerical'}, '7931': {'sdtype': 'numerical'}, '7934': {'sdtype': 'numerical'}, '7937': {'sdtype': 'numerical'}, '7940': {'sdtype': 'numerical'}, '7943': {'sdtype': 'numerical'}, '7946': {'sdtype': 'numerical'}, '7949': {'sdtype': 'numerical'}, '7952': {'sdtype': 'numerical'}, '7955': {'sdtype': 'numerical'}, '7958': {'sdtype': 'numerical'}, '7961': {'sdtype': 'numerical'}, '7964': {'sdtype': 'numerical'}, '7967': {'sdtype': 'numerical'}, '7970': {'sdtype': 'numerical'}, '7973': {'sdtype': 'numerical'}, '7976': {'sdtype': 'numerical'}, '7979': {'sdtype': 'numerical'}, '7982': {'sdtype': 'numerical'}, '7985': {'sdtype': 'numerical'}, '7988': {'sdtype': 'numerical'}, '7991': {'sdtype': 'numerical'}, '7994': {'sdtype': 'numerical'}, '7997': {'sdtype': 'numerical'}, '8000': {'sdtype': 'numerical'}, '8003': {'sdtype': 'numerical'}, '8006': {'sdtype': 'numerical'}, '8009': {'sdtype': 'numerical'}, '8012': {'sdtype': 'numerical'}, '8015': {'sdtype': 'numerical'}, '8018': {'sdtype': 'numerical'}, '8021': {'sdtype': 'numerical'}, '8024': {'sdtype': 'numerical'}, '8027': {'sdtype': 'numerical'}, '8030': {'sdtype': 'numerical'}, '8033': {'sdtype': 'numerical'}, '8036': {'sdtype': 'numerical'}, '8039': {'sdtype': 'numerical'}, '8042': {'sdtype': 'numerical'}, '8045': {'sdtype': 'numerical'}, '8048': {'sdtype': 'numerical'}, '8051': {'sdtype': 'numerical'}, '8054': {'sdtype': 'numerical'}, '8057': {'sdtype': 'numerical'}, '8060': {'sdtype': 'numerical'}, '8063': {'sdtype': 'numerical'}, '8066': {'sdtype': 'numerical'}, '8069': {'sdtype': 'numerical'}, '8072': {'sdtype': 'numerical'}, '8075': {'sdtype': 'numerical'}, '8078': {'sdtype': 'numerical'}, '8081': {'sdtype': 'numerical'}, '8084': {'sdtype': 'numerical'}, '8087': {'sdtype': 'numerical'}, '8090': {'sdtype': 'numerical'}, '8093': {'sdtype': 'numerical'}, '8096': {'sdtype': 'numerical'}, '8099': {'sdtype': 'numerical'}, '8102': {'sdtype': 'numerical'}, '8105': {'sdtype': 'numerical'}, '8108': {'sdtype': 'numerical'}, '8111': {'sdtype': 'numerical'}, '8114': {'sdtype': 'numerical'}, '8117': {'sdtype': 'numerical'}, '8120': {'sdtype': 'numerical'}, '8123': {'sdtype': 'numerical'}, '8126': {'sdtype': 'numerical'}, '8129': {'sdtype': 'numerical'}, '8132': {'sdtype': 'numerical'}, '8135': {'sdtype': 'numerical'}, '8138': {'sdtype': 'numerical'}, '8141': {'sdtype': 'numerical'}, '8144': {'sdtype': 'numerical'}, '8147': {'sdtype': 'numerical'}, '8150': {'sdtype': 'numerical'}, '8153': {'sdtype': 'numerical'}, '8156': {'sdtype': 'numerical'}, '8159': {'sdtype': 'numerical'}, '8162': {'sdtype': 'numerical'}, '8165': {'sdtype': 'numerical'}, '8168': {'sdtype': 'numerical'}, '8171': {'sdtype': 'numerical'}, '8174': {'sdtype': 'numerical'}, '8177': {'sdtype': 'numerical'}, '8180': {'sdtype': 'numerical'}, '8183': {'sdtype': 'numerical'}, '8186': {'sdtype': 'numerical'}, '8189': {'sdtype': 'numerical'}, '8192': {'sdtype': 'numerical'}, '8195': {'sdtype': 'numerical'}, '8198': {'sdtype': 'numerical'}, '8201': {'sdtype': 'numerical'}, '8204': {'sdtype': 'numerical'}, '8207': {'sdtype': 'numerical'}, '8210': {'sdtype': 'numerical'}, '8213': {'sdtype': 'numerical'}, '8216': {'sdtype': 'numerical'}, '8219': {'sdtype': 'numerical'}, '8222': {'sdtype': 'numerical'}, '8225': {'sdtype': 'numerical'}, '8228': {'sdtype': 'numerical'}, '8231': {'sdtype': 'numerical'}, '8234': {'sdtype': 'numerical'}, '8237': {'sdtype': 'numerical'}, '8240': {'sdtype': 'numerical'}, '8243': {'sdtype': 'numerical'}, '8246': {'sdtype': 'numerical'}, '8249': {'sdtype': 'numerical'}, '8252': {'sdtype': 'numerical'}, '8255': {'sdtype': 'numerical'}, '8258': {'sdtype': 'numerical'}, '8261': {'sdtype': 'numerical'}, '8264': {'sdtype': 'numerical'}, '8267': {'sdtype': 'numerical'}, '8270': {'sdtype': 'numerical'}, '8273': {'sdtype': 'numerical'}, '8276': {'sdtype': 'numerical'}, '8279': {'sdtype': 'numerical'}, '8282': {'sdtype': 'numerical'}, '8285': {'sdtype': 'numerical'}, '8288': {'sdtype': 'numerical'}, '8291': {'sdtype': 'numerical'}, '8294': {'sdtype': 'numerical'}, '8297': {'sdtype': 'numerical'}, '8300': {'sdtype': 'numerical'}, '8303': {'sdtype': 'numerical'}, '8306': {'sdtype': 'numerical'}, '8309': {'sdtype': 'numerical'}, '8312': {'sdtype': 'numerical'}, '8315': {'sdtype': 'numerical'}, '8318': {'sdtype': 'numerical'}, '8321': {'sdtype': 'numerical'}, '8324': {'sdtype': 'numerical'}, '8327': {'sdtype': 'numerical'}, '8330': {'sdtype': 'numerical'}, '8333': {'sdtype': 'numerical'}, '8336': {'sdtype': 'numerical'}, '8339': {'sdtype': 'numerical'}, '8342': {'sdtype': 'numerical'}, '8345': {'sdtype': 'numerical'}, '8348': {'sdtype': 'numerical'}, '8351': {'sdtype': 'numerical'}, '8354': {'sdtype': 'numerical'}, '8357': {'sdtype': 'numerical'}, '8360': {'sdtype': 'numerical'}, '8363': {'sdtype': 'numerical'}, '8366': {'sdtype': 'numerical'}, '8369': {'sdtype': 'numerical'}, '8372': {'sdtype': 'numerical'}, '8375': {'sdtype': 'numerical'}, '8378': {'sdtype': 'numerical'}, '8381': {'sdtype': 'numerical'}, '8384': {'sdtype': 'numerical'}, '8387': {'sdtype': 'numerical'}, '8390': {'sdtype': 'numerical'}, '8393': {'sdtype': 'numerical'}, '8396': {'sdtype': 'numerical'}, '8399': {'sdtype': 'numerical'}, '8402': {'sdtype': 'numerical'}, '8405': {'sdtype': 'numerical'}, '8408': {'sdtype': 'numerical'}, '8411': {'sdtype': 'numerical'}, '8414': {'sdtype': 'numerical'}, '8417': {'sdtype': 'numerical'}, '8420': {'sdtype': 'numerical'}, '8423': {'sdtype': 'numerical'}, '8426': {'sdtype': 'numerical'}, '8429': {'sdtype': 'numerical'}, '8432': {'sdtype': 'numerical'}, '8435': {'sdtype': 'numerical'}, '8438': {'sdtype': 'numerical'}, '8441': {'sdtype': 'numerical'}, '8444': {'sdtype': 'numerical'}, '8447': {'sdtype': 'numerical'}, '8450': {'sdtype': 'numerical'}, '8453': {'sdtype': 'numerical'}, '8456': {'sdtype': 'numerical'}, '8459': {'sdtype': 'numerical'}, '8462': {'sdtype': 'numerical'}, '8465': {'sdtype': 'numerical'}, '8468': {'sdtype': 'numerical'}, '8471': {'sdtype': 'numerical'}, '8474': {'sdtype': 'numerical'}, '8477': {'sdtype': 'numerical'}, '8480': {'sdtype': 'numerical'}, '8483': {'sdtype': 'numerical'}, '8486': {'sdtype': 'numerical'}, '8489': {'sdtype': 'numerical'}, '8492': {'sdtype': 'numerical'}, '8495': {'sdtype': 'numerical'}, '8498': {'sdtype': 'numerical'}, '8501': {'sdtype': 'numerical'}, '8504': {'sdtype': 'numerical'}, '8507': {'sdtype': 'numerical'}, '8510': {'sdtype': 'numerical'}, '8513': {'sdtype': 'numerical'}, '8516': {'sdtype': 'numerical'}, '8519': {'sdtype': 'numerical'}, '8522': {'sdtype': 'numerical'}, '8525': {'sdtype': 'numerical'}, '8528': {'sdtype': 'numerical'}, '8531': {'sdtype': 'numerical'}, '8534': {'sdtype': 'numerical'}, '8537': {'sdtype': 'numerical'}, '8540': {'sdtype': 'numerical'}, '8543': {'sdtype': 'numerical'}, '8546': {'sdtype': 'numerical'}, '8549': {'sdtype': 'numerical'}, '8552': {'sdtype': 'numerical'}, '8555': {'sdtype': 'numerical'}, '8558': {'sdtype': 'numerical'}, '8561': {'sdtype': 'numerical'}, '8564': {'sdtype': 'numerical'}, '8567': {'sdtype': 'numerical'}, '8570': {'sdtype': 'numerical'}, '8573': {'sdtype': 'numerical'}, '8576': {'sdtype': 'numerical'}, '8579': {'sdtype': 'numerical'}, '8582': {'sdtype': 'numerical'}, '8585': {'sdtype': 'numerical'}, '8588': {'sdtype': 'numerical'}, '8591': {'sdtype': 'numerical'}, '8594': {'sdtype': 'numerical'}, '8597': {'sdtype': 'numerical'}, '8600': {'sdtype': 'numerical'}, '8603': {'sdtype': 'numerical'}, '8606': {'sdtype': 'numerical'}, '8609': {'sdtype': 'numerical'}, '8612': {'sdtype': 'numerical'}, '8615': {'sdtype': 'numerical'}, '8618': {'sdtype': 'numerical'}, '8621': {'sdtype': 'numerical'}, '8624': {'sdtype': 'numerical'}, '8627': {'sdtype': 'numerical'}, '8630': {'sdtype': 'numerical'}, '8633': {'sdtype': 'numerical'}, '8636': {'sdtype': 'numerical'}, '8639': {'sdtype': 'numerical'}, '8642': {'sdtype': 'numerical'}, '8645': {'sdtype': 'numerical'}, '8648': {'sdtype': 'numerical'}, '8651': {'sdtype': 'numerical'}, '8654': {'sdtype': 'numerical'}, '8657': {'sdtype': 'numerical'}, '8660': {'sdtype': 'numerical'}, '8663': {'sdtype': 'numerical'}, '8666': {'sdtype': 'numerical'}, '8669': {'sdtype': 'numerical'}, '8672': {'sdtype': 'numerical'}, '8675': {'sdtype': 'numerical'}, '8678': {'sdtype': 'numerical'}, '8681': {'sdtype': 'numerical'}, '8684': {'sdtype': 'numerical'}, '8687': {'sdtype': 'numerical'}, '8690': {'sdtype': 'numerical'}, '8693': {'sdtype': 'numerical'}, '8696': {'sdtype': 'numerical'}, '8699': {'sdtype': 'numerical'}, '8702': {'sdtype': 'numerical'}, '8705': {'sdtype': 'numerical'}, '8708': {'sdtype': 'numerical'}, '8711': {'sdtype': 'numerical'}, '8714': {'sdtype': 'numerical'}, '8717': {'sdtype': 'numerical'}, '8720': {'sdtype': 'numerical'}, '8723': {'sdtype': 'numerical'}, '8726': {'sdtype': 'numerical'}, '8729': {'sdtype': 'numerical'}, '8732': {'sdtype': 'numerical'}, '8735': {'sdtype': 'numerical'}, '8738': {'sdtype': 'numerical'}, '8741': {'sdtype': 'numerical'}, '8744': {'sdtype': 'numerical'}, '8747': {'sdtype': 'numerical'}, '8750': {'sdtype': 'numerical'}, '8753': {'sdtype': 'numerical'}, '8756': {'sdtype': 'numerical'}, '8759': {'sdtype': 'numerical'}, '8762': {'sdtype': 'numerical'}, '8765': {'sdtype': 'numerical'}, '8768': {'sdtype': 'numerical'}, '8771': {'sdtype': 'numerical'}, '8774': {'sdtype': 'numerical'}, '8777': {'sdtype': 'numerical'}, '8780': {'sdtype': 'numerical'}, '8783': {'sdtype': 'numerical'}, '8786': {'sdtype': 'numerical'}, '8789': {'sdtype': 'numerical'}, '8792': {'sdtype': 'numerical'}, '8795': {'sdtype': 'numerical'}, '8798': {'sdtype': 'numerical'}, '8801': {'sdtype': 'numerical'}, '8804': {'sdtype': 'numerical'}, '8807': {'sdtype': 'numerical'}, '8810': {'sdtype': 'numerical'}, '8813': {'sdtype': 'numerical'}, '8816': {'sdtype': 'numerical'}, '8819': {'sdtype': 'numerical'}, '8822': {'sdtype': 'numerical'}, '8825': {'sdtype': 'numerical'}, '8828': {'sdtype': 'numerical'}, '8831': {'sdtype': 'numerical'}, '8834': {'sdtype': 'numerical'}, '8837': {'sdtype': 'numerical'}, '8840': {'sdtype': 'numerical'}, '8843': {'sdtype': 'numerical'}, '8846': {'sdtype': 'numerical'}, '8849': {'sdtype': 'numerical'}, '8852': {'sdtype': 'numerical'}, '8855': {'sdtype': 'numerical'}, '8858': {'sdtype': 'numerical'}, '8861': {'sdtype': 'numerical'}, '8864': {'sdtype': 'numerical'}, '8867': {'sdtype': 'numerical'}, '8870': {'sdtype': 'numerical'}, '8873': {'sdtype': 'numerical'}, '8876': {'sdtype': 'numerical'}, '8879': {'sdtype': 'numerical'}, '8882': {'sdtype': 'numerical'}, '8885': {'sdtype': 'numerical'}, '8888': {'sdtype': 'numerical'}, '8891': {'sdtype': 'numerical'}, '8894': {'sdtype': 'numerical'}, '8897': {'sdtype': 'numerical'}, '8900': {'sdtype': 'numerical'}, '8903': {'sdtype': 'numerical'}, '8906': {'sdtype': 'numerical'}, '8909': {'sdtype': 'numerical'}, '8912': {'sdtype': 'numerical'}, '8915': {'sdtype': 'numerical'}, '8918': {'sdtype': 'numerical'}, '8921': {'sdtype': 'numerical'}, '8924': {'sdtype': 'numerical'}, '8927': {'sdtype': 'numerical'}, '8930': {'sdtype': 'numerical'}, '8933': {'sdtype': 'numerical'}, '8936': {'sdtype': 'numerical'}, '8939': {'sdtype': 'numerical'}, '8942': {'sdtype': 'numerical'}, '8945': {'sdtype': 'numerical'}, '8948': {'sdtype': 'numerical'}, '8951': {'sdtype': 'numerical'}, '8954': {'sdtype': 'numerical'}, '8957': {'sdtype': 'numerical'}, '8960': {'sdtype': 'numerical'}, '8963': {'sdtype': 'numerical'}, '8966': {'sdtype': 'numerical'}, '8969': {'sdtype': 'numerical'}, '8972': {'sdtype': 'numerical'}, '8975': {'sdtype': 'numerical'}, '8978': {'sdtype': 'numerical'}, '8981': {'sdtype': 'numerical'}, '8984': {'sdtype': 'numerical'}, '8987': {'sdtype': 'numerical'}, '8990': {'sdtype': 'numerical'}, '8993': {'sdtype': 'numerical'}, '8996': {'sdtype': 'numerical'}, '8999': {'sdtype': 'numerical'}, '9002': {'sdtype': 'numerical'}, '9005': {'sdtype': 'numerical'}, '9008': {'sdtype': 'numerical'}, '9011': {'sdtype': 'numerical'}, '9014': {'sdtype': 'numerical'}, '9017': {'sdtype': 'numerical'}, '9020': {'sdtype': 'numerical'}, '9023': {'sdtype': 'numerical'}, '9026': {'sdtype': 'numerical'}, '9029': {'sdtype': 'numerical'}, '9032': {'sdtype': 'numerical'}, '9035': {'sdtype': 'numerical'}, '9038': {'sdtype': 'numerical'}, '9041': {'sdtype': 'numerical'}, '9044': {'sdtype': 'numerical'}, '9047': {'sdtype': 'numerical'}, '9050': {'sdtype': 'numerical'}, '9053': {'sdtype': 'numerical'}, '9056': {'sdtype': 'numerical'}, '9059': {'sdtype': 'numerical'}, '9062': {'sdtype': 'numerical'}, '9065': {'sdtype': 'numerical'}, '9068': {'sdtype': 'numerical'}, '9071': {'sdtype': 'numerical'}, '9074': {'sdtype': 'numerical'}, '9077': {'sdtype': 'numerical'}, '9080': {'sdtype': 'numerical'}, '9083': {'sdtype': 'numerical'}, '9086': {'sdtype': 'numerical'}, '9089': {'sdtype': 'numerical'}, '9092': {'sdtype': 'numerical'}, '9095': {'sdtype': 'numerical'}, '9098': {'sdtype': 'numerical'}, '9101': {'sdtype': 'numerical'}, '9104': {'sdtype': 'numerical'}, '9107': {'sdtype': 'numerical'}, '9110': {'sdtype': 'numerical'}, '9113': {'sdtype': 'numerical'}, '9116': {'sdtype': 'numerical'}, '9119': {'sdtype': 'numerical'}, '9122': {'sdtype': 'numerical'}, '9125': {'sdtype': 'numerical'}, '9128': {'sdtype': 'numerical'}, '9131': {'sdtype': 'numerical'}, '9134': {'sdtype': 'numerical'}, '9137': {'sdtype': 'numerical'}, '9140': {'sdtype': 'numerical'}, '9143': {'sdtype': 'numerical'}, '9146': {'sdtype': 'numerical'}, '9149': {'sdtype': 'numerical'}, '9152': {'sdtype': 'numerical'}, '9155': {'sdtype': 'numerical'}, '9158': {'sdtype': 'numerical'}, '9161': {'sdtype': 'numerical'}, '9164': {'sdtype': 'numerical'}, '9167': {'sdtype': 'numerical'}, '9170': {'sdtype': 'numerical'}, '9173': {'sdtype': 'numerical'}, '9176': {'sdtype': 'numerical'}, '9179': {'sdtype': 'numerical'}, '9182': {'sdtype': 'numerical'}, '9185': {'sdtype': 'numerical'}, '9188': {'sdtype': 'numerical'}, '9191': {'sdtype': 'numerical'}, '9194': {'sdtype': 'numerical'}, '9197': {'sdtype': 'numerical'}, '9200': {'sdtype': 'numerical'}, '9203': {'sdtype': 'numerical'}, '9206': {'sdtype': 'numerical'}, '9209': {'sdtype': 'numerical'}, '9212': {'sdtype': 'numerical'}, '9215': {'sdtype': 'numerical'}, '9218': {'sdtype': 'numerical'}, '9221': {'sdtype': 'numerical'}, '9224': {'sdtype': 'numerical'}, '9227': {'sdtype': 'numerical'}, '9230': {'sdtype': 'numerical'}, '9233': {'sdtype': 'numerical'}, '9236': {'sdtype': 'numerical'}, '9239': {'sdtype': 'numerical'}, '9242': {'sdtype': 'numerical'}, '9245': {'sdtype': 'numerical'}, '9248': {'sdtype': 'numerical'}, '9251': {'sdtype': 'numerical'}, '9254': {'sdtype': 'numerical'}, '9257': {'sdtype': 'numerical'}, '9260': {'sdtype': 'numerical'}, '9263': {'sdtype': 'numerical'}, '9266': {'sdtype': 'numerical'}, '9269': {'sdtype': 'numerical'}, '9272': {'sdtype': 'numerical'}, '9275': {'sdtype': 'numerical'}, '9278': {'sdtype': 'numerical'}, '9281': {'sdtype': 'numerical'}, '9284': {'sdtype': 'numerical'}, '9287': {'sdtype': 'numerical'}, '9290': {'sdtype': 'numerical'}, '9293': {'sdtype': 'numerical'}, '9296': {'sdtype': 'numerical'}, '9299': {'sdtype': 'numerical'}, '9302': {'sdtype': 'numerical'}, '9305': {'sdtype': 'numerical'}, '9308': {'sdtype': 'numerical'}, '9311': {'sdtype': 'numerical'}, '9314': {'sdtype': 'numerical'}, '9317': {'sdtype': 'numerical'}, '9320': {'sdtype': 'numerical'}, '9323': {'sdtype': 'numerical'}, '9326': {'sdtype': 'numerical'}, '9329': {'sdtype': 'numerical'}, '9332': {'sdtype': 'numerical'}, '9335': {'sdtype': 'numerical'}, '9338': {'sdtype': 'numerical'}, '9341': {'sdtype': 'numerical'}, '9344': {'sdtype': 'numerical'}, '9347': {'sdtype': 'numerical'}, '9350': {'sdtype': 'numerical'}, '9353': {'sdtype': 'numerical'}, '9356': {'sdtype': 'numerical'}, '9359': {'sdtype': 'numerical'}, '9362': {'sdtype': 'numerical'}, '9365': {'sdtype': 'numerical'}, '9368': {'sdtype': 'numerical'}, '9371': {'sdtype': 'numerical'}, '9374': {'sdtype': 'numerical'}, '9377': {'sdtype': 'numerical'}, '9380': {'sdtype': 'numerical'}, '9383': {'sdtype': 'numerical'}, '9386': {'sdtype': 'numerical'}, '9389': {'sdtype': 'numerical'}, '9392': {'sdtype': 'numerical'}, '9395': {'sdtype': 'numerical'}, '9398': {'sdtype': 'numerical'}, '9401': {'sdtype': 'numerical'}, '9404': {'sdtype': 'numerical'}, '9407': {'sdtype': 'numerical'}, '9410': {'sdtype': 'numerical'}, '9413': {'sdtype': 'numerical'}, '9416': {'sdtype': 'numerical'}, '9419': {'sdtype': 'numerical'}, '9422': {'sdtype': 'numerical'}, '9425': {'sdtype': 'numerical'}, '9428': {'sdtype': 'numerical'}, '9431': {'sdtype': 'numerical'}, '9434': {'sdtype': 'numerical'}, '9437': {'sdtype': 'numerical'}, '9440': {'sdtype': 'numerical'}, '9443': {'sdtype': 'numerical'}, '9446': {'sdtype': 'numerical'}, '9449': {'sdtype': 'numerical'}, '9452': {'sdtype': 'numerical'}, '9455': {'sdtype': 'numerical'}, '9458': {'sdtype': 'numerical'}, '9461': {'sdtype': 'numerical'}, '9464': {'sdtype': 'numerical'}, '9467': {'sdtype': 'numerical'}, '9470': {'sdtype': 'numerical'}, '9473': {'sdtype': 'numerical'}, '9476': {'sdtype': 'numerical'}, '9479': {'sdtype': 'numerical'}, '9482': {'sdtype': 'numerical'}, '9485': {'sdtype': 'numerical'}, '9488': {'sdtype': 'numerical'}, '9491': {'sdtype': 'numerical'}, '9494': {'sdtype': 'numerical'}, '9497': {'sdtype': 'numerical'}, '9500': {'sdtype': 'numerical'}, '9503': {'sdtype': 'numerical'}, '9506': {'sdtype': 'numerical'}, '9509': {'sdtype': 'numerical'}, '9512': {'sdtype': 'numerical'}, '9515': {'sdtype': 'numerical'}, '9518': {'sdtype': 'numerical'}, '9521': {'sdtype': 'numerical'}, '9524': {'sdtype': 'numerical'}, '9527': {'sdtype': 'numerical'}, '9530': {'sdtype': 'numerical'}, '9533': {'sdtype': 'numerical'}, '9536': {'sdtype': 'numerical'}, '9539': {'sdtype': 'numerical'}, '9542': {'sdtype': 'numerical'}, '9545': {'sdtype': 'numerical'}, '9548': {'sdtype': 'numerical'}, '9551': {'sdtype': 'numerical'}, '9554': {'sdtype': 'numerical'}, '9557': {'sdtype': 'numerical'}, '9560': {'sdtype': 'numerical'}, '9563': {'sdtype': 'numerical'}, '9566': {'sdtype': 'numerical'}, '9569': {'sdtype': 'numerical'}, '9572': {'sdtype': 'numerical'}, '9575': {'sdtype': 'numerical'}, '9578': {'sdtype': 'numerical'}, '9581': {'sdtype': 'numerical'}, '9584': {'sdtype': 'numerical'}, '9587': {'sdtype': 'numerical'}, '9590': {'sdtype': 'numerical'}, '9593': {'sdtype': 'numerical'}, '9596': {'sdtype': 'numerical'}, '9599': {'sdtype': 'numerical'}, '9602': {'sdtype': 'numerical'}, '9605': {'sdtype': 'numerical'}, '9608': {'sdtype': 'numerical'}, '9611': {'sdtype': 'numerical'}, '9614': {'sdtype': 'numerical'}, '9617': {'sdtype': 'numerical'}, '9620': {'sdtype': 'numerical'}, '9623': {'sdtype': 'numerical'}, '9626': {'sdtype': 'numerical'}, '9629': {'sdtype': 'numerical'}, '9632': {'sdtype': 'numerical'}, '9635': {'sdtype': 'numerical'}, '9638': {'sdtype': 'numerical'}, '9641': {'sdtype': 'numerical'}, '9644': {'sdtype': 'numerical'}, '9647': {'sdtype': 'numerical'}, '9650': {'sdtype': 'numerical'}, '9653': {'sdtype': 'numerical'}, '9656': {'sdtype': 'numerical'}, '9659': {'sdtype': 'numerical'}, '9662': {'sdtype': 'numerical'}, '9665': {'sdtype': 'numerical'}, '9668': {'sdtype': 'numerical'}, '9671': {'sdtype': 'numerical'}, '9674': {'sdtype': 'numerical'}, '9677': {'sdtype': 'numerical'}, '9680': {'sdtype': 'numerical'}, '9683': {'sdtype': 'numerical'}, '9686': {'sdtype': 'numerical'}, '9689': {'sdtype': 'numerical'}, '9692': {'sdtype': 'numerical'}, '9695': {'sdtype': 'numerical'}, '9698': {'sdtype': 'numerical'}, '9701': {'sdtype': 'numerical'}, '9704': {'sdtype': 'numerical'}, '9707': {'sdtype': 'numerical'}, '9710': {'sdtype': 'numerical'}, '9713': {'sdtype': 'numerical'}, '9716': {'sdtype': 'numerical'}, '9719': {'sdtype': 'numerical'}, '9722': {'sdtype': 'numerical'}, '9725': {'sdtype': 'numerical'}, '9728': {'sdtype': 'numerical'}, '9731': {'sdtype': 'numerical'}, '9734': {'sdtype': 'numerical'}, '9737': {'sdtype': 'numerical'}, '9740': {'sdtype': 'numerical'}, '9743': {'sdtype': 'numerical'}, '9746': {'sdtype': 'numerical'}, '9749': {'sdtype': 'numerical'}, '9752': {'sdtype': 'numerical'}, '9755': {'sdtype': 'numerical'}, '9758': {'sdtype': 'numerical'}, '9761': {'sdtype': 'numerical'}, '9764': {'sdtype': 'numerical'}, '9767': {'sdtype': 'numerical'}, '9770': {'sdtype': 'numerical'}, '9773': {'sdtype': 'numerical'}, '9776': {'sdtype': 'numerical'}, '9779': {'sdtype': 'numerical'}, '9782': {'sdtype': 'numerical'}, '9785': {'sdtype': 'numerical'}, '9788': {'sdtype': 'numerical'}, '9791': {'sdtype': 'numerical'}, '9794': {'sdtype': 'numerical'}, '9797': {'sdtype': 'numerical'}, '9800': {'sdtype': 'numerical'}, '9803': {'sdtype': 'numerical'}, '9806': {'sdtype': 'numerical'}, '9809': {'sdtype': 'numerical'}, '9812': {'sdtype': 'numerical'}, '9815': {'sdtype': 'numerical'}, '9818': {'sdtype': 'numerical'}, '9821': {'sdtype': 'numerical'}, '9824': {'sdtype': 'numerical'}, '9827': {'sdtype': 'numerical'}, '9830': {'sdtype': 'numerical'}, '9833': {'sdtype': 'numerical'}, '9836': {'sdtype': 'numerical'}, '9839': {'sdtype': 'numerical'}, '9842': {'sdtype': 'numerical'}, '9845': {'sdtype': 'numerical'}, '9848': {'sdtype': 'numerical'}, '9851': {'sdtype': 'numerical'}, '9854': {'sdtype': 'numerical'}, '9857': {'sdtype': 'numerical'}, '9860': {'sdtype': 'numerical'}, '9863': {'sdtype': 'numerical'}, '9866': {'sdtype': 'numerical'}, '9869': {'sdtype': 'numerical'}, '9872': {'sdtype': 'numerical'}, '9875': {'sdtype': 'numerical'}, '9878': {'sdtype': 'numerical'}, '9881': {'sdtype': 'numerical'}, '9884': {'sdtype': 'numerical'}, '9887': {'sdtype': 'numerical'}, '9890': {'sdtype': 'numerical'}, '9893': {'sdtype': 'numerical'}, '9896': {'sdtype': 'numerical'}, '9899': {'sdtype': 'numerical'}, '9902': {'sdtype': 'numerical'}, '9905': {'sdtype': 'numerical'}, '9908': {'sdtype': 'numerical'}, '9911': {'sdtype': 'numerical'}, '9914': {'sdtype': 'numerical'}, '9917': {'sdtype': 'numerical'}, '9920': {'sdtype': 'numerical'}, '9923': {'sdtype': 'numerical'}, '9926': {'sdtype': 'numerical'}, '9929': {'sdtype': 'numerical'}, '9932': {'sdtype': 'numerical'}, '9935': {'sdtype': 'numerical'}, '9938': {'sdtype': 'numerical'}, '9941': {'sdtype': 'numerical'}, '9944': {'sdtype': 'numerical'}, '9947': {'sdtype': 'numerical'}, '9950': {'sdtype': 'numerical'}, '9953': {'sdtype': 'numerical'}, '9956': {'sdtype': 'numerical'}, '9959': {'sdtype': 'numerical'}, '9962': {'sdtype': 'numerical'}, '9965': {'sdtype': 'numerical'}, '9968': {'sdtype': 'numerical'}, '9971': {'sdtype': 'numerical'}, '9974': {'sdtype': 'numerical'}, '9977': {'sdtype': 'numerical'}, '9980': {'sdtype': 'numerical'}, '9983': {'sdtype': 'numerical'}, '9986': {'sdtype': 'numerical'}, '9989': {'sdtype': 'numerical'}, '9992': {'sdtype': 'numerical'}, '9995': {'sdtype': 'numerical'}, '9998': {'sdtype': 'numerical'}, '10001': {'sdtype': 'numerical'}, '10004': {'sdtype': 'numerical'}, '10007': {'sdtype': 'numerical'}, '10010': {'sdtype': 'numerical'}, '10013': {'sdtype': 'numerical'}, '10016': {'sdtype': 'numerical'}, '10019': {'sdtype': 'numerical'}, '10022': {'sdtype': 'numerical'}, '10025': {'sdtype': 'numerical'}, '10028': {'sdtype': 'numerical'}, '10031': {'sdtype': 'numerical'}, '10034': {'sdtype': 'numerical'}, '10037': {'sdtype': 'numerical'}, '10040': {'sdtype': 'numerical'}, '10043': {'sdtype': 'numerical'}, '10046': {'sdtype': 'numerical'}, '10049': {'sdtype': 'numerical'}, '10052': {'sdtype': 'numerical'}, '10055': {'sdtype': 'numerical'}, '10058': {'sdtype': 'numerical'}, '10061': {'sdtype': 'numerical'}, '10064': {'sdtype': 'numerical'}, '10067': {'sdtype': 'numerical'}, '10070': {'sdtype': 'numerical'}, '10073': {'sdtype': 'numerical'}, '10076': {'sdtype': 'numerical'}, '10079': {'sdtype': 'numerical'}, '10082': {'sdtype': 'numerical'}, '10085': {'sdtype': 'numerical'}, '10088': {'sdtype': 'numerical'}, '10091': {'sdtype': 'numerical'}, '10094': {'sdtype': 'numerical'}, '10097': {'sdtype': 'numerical'}, '10100': {'sdtype': 'numerical'}, '10103': {'sdtype': 'numerical'}, '10106': {'sdtype': 'numerical'}, '10109': {'sdtype': 'numerical'}, '10112': {'sdtype': 'numerical'}, '10115': {'sdtype': 'numerical'}, '10118': {'sdtype': 'numerical'}, '10121': {'sdtype': 'numerical'}, '10124': {'sdtype': 'numerical'}, '10127': {'sdtype': 'numerical'}, '10130': {'sdtype': 'numerical'}, '10133': {'sdtype': 'numerical'}, '10136': {'sdtype': 'numerical'}, '10139': {'sdtype': 'numerical'}, '10142': {'sdtype': 'numerical'}, '10145': {'sdtype': 'numerical'}, '10148': {'sdtype': 'numerical'}, '10151': {'sdtype': 'numerical'}, '10154': {'sdtype': 'numerical'}, '10157': {'sdtype': 'numerical'}, '10160': {'sdtype': 'numerical'}, '10163': {'sdtype': 'numerical'}, '10166': {'sdtype': 'numerical'}, '10169': {'sdtype': 'numerical'}, '10172': {'sdtype': 'numerical'}, '10175': {'sdtype': 'numerical'}, '10178': {'sdtype': 'numerical'}, '10181': {'sdtype': 'numerical'}, '10184': {'sdtype': 'numerical'}, '10187': {'sdtype': 'numerical'}, '10190': {'sdtype': 'numerical'}, '10193': {'sdtype': 'numerical'}, '10196': {'sdtype': 'numerical'}, '10199': {'sdtype': 'numerical'}, '10202': {'sdtype': 'numerical'}, '10205': {'sdtype': 'numerical'}, '10208': {'sdtype': 'numerical'}, '10211': {'sdtype': 'numerical'}, '10214': {'sdtype': 'numerical'}, '10217': {'sdtype': 'numerical'}, '10220': {'sdtype': 'numerical'}, '10223': {'sdtype': 'numerical'}, '10226': {'sdtype': 'numerical'}, '10229': {'sdtype': 'numerical'}, '10232': {'sdtype': 'numerical'}, '10235': {'sdtype': 'numerical'}, '10238': {'sdtype': 'numerical'}, '10241': {'sdtype': 'numerical'}, '10244': {'sdtype': 'numerical'}, '10247': {'sdtype': 'numerical'}, '10250': {'sdtype': 'numerical'}, '10253': {'sdtype': 'numerical'}, '10256': {'sdtype': 'numerical'}, '10259': {'sdtype': 'numerical'}, '10262': {'sdtype': 'numerical'}, '10265': {'sdtype': 'numerical'}, '10268': {'sdtype': 'numerical'}, '10271': {'sdtype': 'numerical'}, '10274': {'sdtype': 'numerical'}, '10277': {'sdtype': 'numerical'}, '10280': {'sdtype': 'numerical'}, '10283': {'sdtype': 'numerical'}, '10286': {'sdtype': 'numerical'}, '10289': {'sdtype': 'numerical'}, '10292': {'sdtype': 'numerical'}, '10295': {'sdtype': 'numerical'}, '10298': {'sdtype': 'numerical'}, '10301': {'sdtype': 'numerical'}, '10304': {'sdtype': 'numerical'}, '10307': {'sdtype': 'numerical'}, '10310': {'sdtype': 'numerical'}, '10313': {'sdtype': 'numerical'}, '10316': {'sdtype': 'numerical'}, '10319': {'sdtype': 'numerical'}, '10322': {'sdtype': 'numerical'}, '10325': {'sdtype': 'numerical'}, '10328': {'sdtype': 'numerical'}, '10331': {'sdtype': 'numerical'}, '10334': {'sdtype': 'numerical'}, '10337': {'sdtype': 'numerical'}, '10340': {'sdtype': 'numerical'}, '10343': {'sdtype': 'numerical'}, '10346': {'sdtype': 'numerical'}, '10349': {'sdtype': 'numerical'}, '10352': {'sdtype': 'numerical'}, '10355': {'sdtype': 'numerical'}, '10358': {'sdtype': 'numerical'}, '10361': {'sdtype': 'numerical'}, '10364': {'sdtype': 'numerical'}, '10367': {'sdtype': 'numerical'}, '10370': {'sdtype': 'numerical'}, '10373': {'sdtype': 'numerical'}, '10376': {'sdtype': 'numerical'}, '10379': {'sdtype': 'numerical'}, '10382': {'sdtype': 'numerical'}, '10385': {'sdtype': 'numerical'}, '10388': {'sdtype': 'numerical'}, '10391': {'sdtype': 'numerical'}, '10394': {'sdtype': 'numerical'}, '10397': {'sdtype': 'numerical'}, '10400': {'sdtype': 'numerical'}, '10403': {'sdtype': 'numerical'}, '10406': {'sdtype': 'numerical'}, '10409': {'sdtype': 'numerical'}, '10412': {'sdtype': 'numerical'}, '10415': {'sdtype': 'numerical'}, '10418': {'sdtype': 'numerical'}, '10421': {'sdtype': 'numerical'}, '10424': {'sdtype': 'numerical'}, '10427': {'sdtype': 'numerical'}, '10430': {'sdtype': 'numerical'}, '10433': {'sdtype': 'numerical'}, '10436': {'sdtype': 'numerical'}, '10439': {'sdtype': 'numerical'}, '10442': {'sdtype': 'numerical'}, '10445': {'sdtype': 'numerical'}, '10448': {'sdtype': 'numerical'}, '10451': {'sdtype': 'numerical'}, '10454': {'sdtype': 'numerical'}, '10457': {'sdtype': 'numerical'}, '10460': {'sdtype': 'numerical'}, '10463': {'sdtype': 'numerical'}, '10466': {'sdtype': 'numerical'}, '10469': {'sdtype': 'numerical'}, '10472': {'sdtype': 'numerical'}, '10475': {'sdtype': 'numerical'}, '10478': {'sdtype': 'numerical'}, '10481': {'sdtype': 'numerical'}, '10484': {'sdtype': 'numerical'}, '10487': {'sdtype': 'numerical'}, '10490': {'sdtype': 'numerical'}, '10493': {'sdtype': 'numerical'}, '10496': {'sdtype': 'numerical'}, '10499': {'sdtype': 'numerical'}, '10502': {'sdtype': 'numerical'}, '10505': {'sdtype': 'numerical'}, '10508': {'sdtype': 'numerical'}, '10511': {'sdtype': 'numerical'}, '10514': {'sdtype': 'numerical'}, '10517': {'sdtype': 'numerical'}, '10520': {'sdtype': 'numerical'}, '10523': {'sdtype': 'numerical'}, '10526': {'sdtype': 'numerical'}, '10529': {'sdtype': 'numerical'}, '10532': {'sdtype': 'numerical'}, '10535': {'sdtype': 'numerical'}, '10538': {'sdtype': 'numerical'}, '10541': {'sdtype': 'numerical'}, '10544': {'sdtype': 'numerical'}, '10547': {'sdtype': 'numerical'}, '10550': {'sdtype': 'numerical'}, '10553': {'sdtype': 'numerical'}, '10556': {'sdtype': 'numerical'}, '10559': {'sdtype': 'numerical'}, '10562': {'sdtype': 'numerical'}, '10565': {'sdtype': 'numerical'}, '10568': {'sdtype': 'numerical'}, '10571': {'sdtype': 'numerical'}, '10574': {'sdtype': 'numerical'}, '10577': {'sdtype': 'numerical'}, '10580': {'sdtype': 'numerical'}, '10583': {'sdtype': 'numerical'}, '10586': {'sdtype': 'numerical'}, '10589': {'sdtype': 'numerical'}, '10592': {'sdtype': 'numerical'}, '10595': {'sdtype': 'numerical'}, '10598': {'sdtype': 'numerical'}, '10601': {'sdtype': 'numerical'}, '10604': {'sdtype': 'numerical'}, '10607': {'sdtype': 'numerical'}, '10610': {'sdtype': 'numerical'}, '10613': {'sdtype': 'numerical'}, '10616': {'sdtype': 'numerical'}, '10619': {'sdtype': 'numerical'}, '10622': {'sdtype': 'numerical'}, '10625': {'sdtype': 'numerical'}, '10628': {'sdtype': 'numerical'}, '10631': {'sdtype': 'numerical'}, '10634': {'sdtype': 'numerical'}, '10637': {'sdtype': 'numerical'}, '10640': {'sdtype': 'numerical'}, '10643': {'sdtype': 'numerical'}, '10646': {'sdtype': 'numerical'}, '10649': {'sdtype': 'numerical'}, '10652': {'sdtype': 'numerical'}, '10655': {'sdtype': 'numerical'}, '10658': {'sdtype': 'numerical'}, '10661': {'sdtype': 'numerical'}, '10664': {'sdtype': 'numerical'}, '10667': {'sdtype': 'numerical'}, '10670': {'sdtype': 'numerical'}, '10673': {'sdtype': 'numerical'}, '10676': {'sdtype': 'numerical'}, '10679': {'sdtype': 'numerical'}, '10682': {'sdtype': 'numerical'}, '10685': {'sdtype': 'numerical'}, '10688': {'sdtype': 'numerical'}, '10691': {'sdtype': 'numerical'}, '10694': {'sdtype': 'numerical'}, '10697': {'sdtype': 'numerical'}, '10700': {'sdtype': 'numerical'}, '10703': {'sdtype': 'numerical'}, '10706': {'sdtype': 'numerical'}, '10709': {'sdtype': 'numerical'}, '10712': {'sdtype': 'numerical'}, '10715': {'sdtype': 'numerical'}, '10718': {'sdtype': 'numerical'}, '10721': {'sdtype': 'numerical'}, '10724': {'sdtype': 'numerical'}, '10727': {'sdtype': 'numerical'}, '10730': {'sdtype': 'numerical'}, '10733': {'sdtype': 'numerical'}, '10736': {'sdtype': 'numerical'}, '10739': {'sdtype': 'numerical'}, '10742': {'sdtype': 'numerical'}, '10745': {'sdtype': 'numerical'}, '10748': {'sdtype': 'numerical'}, '10751': {'sdtype': 'numerical'}, '10754': {'sdtype': 'numerical'}, '10757': {'sdtype': 'numerical'}, '10760': {'sdtype': 'numerical'}, '10763': {'sdtype': 'numerical'}, '10766': {'sdtype': 'numerical'}, '10769': {'sdtype': 'numerical'}, '10772': {'sdtype': 'numerical'}, '10775': {'sdtype': 'numerical'}, '10778': {'sdtype': 'numerical'}, '10781': {'sdtype': 'numerical'}, '10784': {'sdtype': 'numerical'}, '10787': {'sdtype': 'numerical'}, '10790': {'sdtype': 'numerical'}, '10793': {'sdtype': 'numerical'}, '10796': {'sdtype': 'numerical'}, '10799': {'sdtype': 'numerical'}, '10802': {'sdtype': 'numerical'}, '10805': {'sdtype': 'numerical'}, '10808': {'sdtype': 'numerical'}, '10811': {'sdtype': 'numerical'}, '10814': {'sdtype': 'numerical'}, '10817': {'sdtype': 'numerical'}, '10820': {'sdtype': 'numerical'}, '10823': {'sdtype': 'numerical'}, '10826': {'sdtype': 'numerical'}, '10829': {'sdtype': 'numerical'}, '10832': {'sdtype': 'numerical'}, '10835': {'sdtype': 'numerical'}, '10838': {'sdtype': 'numerical'}, '10841': {'sdtype': 'numerical'}, '10844': {'sdtype': 'numerical'}, '10847': {'sdtype': 'numerical'}, '10850': {'sdtype': 'numerical'}, '10853': {'sdtype': 'numerical'}, '10856': {'sdtype': 'numerical'}, '10859': {'sdtype': 'numerical'}, '10862': {'sdtype': 'numerical'}, '10865': {'sdtype': 'numerical'}, '10868': {'sdtype': 'numerical'}, '10871': {'sdtype': 'numerical'}, '10874': {'sdtype': 'numerical'}, '10877': {'sdtype': 'numerical'}, '10880': {'sdtype': 'numerical'}, '10883': {'sdtype': 'numerical'}, '10886': {'sdtype': 'numerical'}, '10889': {'sdtype': 'numerical'}, '10892': {'sdtype': 'numerical'}, '10895': {'sdtype': 'numerical'}, '10898': {'sdtype': 'numerical'}, '10901': {'sdtype': 'numerical'}, '10904': {'sdtype': 'numerical'}, '10907': {'sdtype': 'numerical'}, '10910': {'sdtype': 'numerical'}, '10913': {'sdtype': 'numerical'}, '10916': {'sdtype': 'numerical'}, '10919': {'sdtype': 'numerical'}, '10922': {'sdtype': 'numerical'}, '10925': {'sdtype': 'numerical'}, '10928': {'sdtype': 'numerical'}, '10931': {'sdtype': 'numerical'}, '10934': {'sdtype': 'numerical'}, '10937': {'sdtype': 'numerical'}, '10940': {'sdtype': 'numerical'}, '10943': {'sdtype': 'numerical'}, '10946': {'sdtype': 'numerical'}, '10949': {'sdtype': 'numerical'}, '10952': {'sdtype': 'numerical'}, '10955': {'sdtype': 'numerical'}, '10958': {'sdtype': 'numerical'}, '10961': {'sdtype': 'numerical'}, '10964': {'sdtype': 'numerical'}, '10967': {'sdtype': 'numerical'}, '10970': {'sdtype': 'numerical'}, '10973': {'sdtype': 'numerical'}, '10976': {'sdtype': 'numerical'}, '10979': {'sdtype': 'numerical'}, '10982': {'sdtype': 'numerical'}, '10985': {'sdtype': 'numerical'}, '10988': {'sdtype': 'numerical'}, '10991': {'sdtype': 'numerical'}, '10994': {'sdtype': 'numerical'}, '10997': {'sdtype': 'numerical'}, '11000': {'sdtype': 'numerical'}, '11003': {'sdtype': 'numerical'}, '11006': {'sdtype': 'numerical'}, '11009': {'sdtype': 'numerical'}, '11012': {'sdtype': 'numerical'}, '11015': {'sdtype': 'numerical'}, '11018': {'sdtype': 'numerical'}, '11021': {'sdtype': 'numerical'}, '11024': {'sdtype': 'numerical'}, '11027': {'sdtype': 'numerical'}, '11030': {'sdtype': 'numerical'}, '11033': {'sdtype': 'numerical'}, '11036': {'sdtype': 'numerical'}, '11039': {'sdtype': 'numerical'}, '11042': {'sdtype': 'numerical'}, '11045': {'sdtype': 'numerical'}, '11048': {'sdtype': 'numerical'}, '11051': {'sdtype': 'numerical'}, '11054': {'sdtype': 'numerical'}, '11057': {'sdtype': 'numerical'}, '11060': {'sdtype': 'numerical'}, '11063': {'sdtype': 'numerical'}, '11066': {'sdtype': 'numerical'}, '11069': {'sdtype': 'numerical'}, '11072': {'sdtype': 'numerical'}, '11075': {'sdtype': 'numerical'}, '11078': {'sdtype': 'numerical'}, '11081': {'sdtype': 'numerical'}, '11084': {'sdtype': 'numerical'}, '11087': {'sdtype': 'numerical'}, '11090': {'sdtype': 'numerical'}, '11093': {'sdtype': 'numerical'}, '11096': {'sdtype': 'numerical'}, '11099': {'sdtype': 'numerical'}, '11102': {'sdtype': 'numerical'}, '11105': {'sdtype': 'numerical'}, '11108': {'sdtype': 'numerical'}, '11111': {'sdtype': 'numerical'}, '11114': {'sdtype': 'numerical'}, '11117': {'sdtype': 'numerical'}, '11120': {'sdtype': 'numerical'}, '11123': {'sdtype': 'numerical'}, '11126': {'sdtype': 'numerical'}, '11129': {'sdtype': 'numerical'}, '11132': {'sdtype': 'numerical'}, '11135': {'sdtype': 'numerical'}, '11138': {'sdtype': 'numerical'}, '11141': {'sdtype': 'numerical'}, '11144': {'sdtype': 'numerical'}, '11147': {'sdtype': 'numerical'}, '11150': {'sdtype': 'numerical'}, '11153': {'sdtype': 'numerical'}, '11156': {'sdtype': 'numerical'}, '11159': {'sdtype': 'numerical'}, '11162': {'sdtype': 'numerical'}, '11165': {'sdtype': 'numerical'}, '11168': {'sdtype': 'numerical'}, '11171': {'sdtype': 'numerical'}, '11174': {'sdtype': 'numerical'}, '11177': {'sdtype': 'numerical'}, '11180': {'sdtype': 'numerical'}, '11183': {'sdtype': 'numerical'}, '11186': {'sdtype': 'numerical'}, '11189': {'sdtype': 'numerical'}, '11192': {'sdtype': 'numerical'}, '11195': {'sdtype': 'numerical'}, '11198': {'sdtype': 'numerical'}, '11201': {'sdtype': 'numerical'}, '11204': {'sdtype': 'numerical'}, '11207': {'sdtype': 'numerical'}, '11210': {'sdtype': 'numerical'}, '11213': {'sdtype': 'numerical'}, '11216': {'sdtype': 'numerical'}, '11219': {'sdtype': 'numerical'}, '11222': {'sdtype': 'numerical'}, '11225': {'sdtype': 'numerical'}, '11228': {'sdtype': 'numerical'}, '11231': {'sdtype': 'numerical'}, '11234': {'sdtype': 'numerical'}, '11237': {'sdtype': 'numerical'}, '11240': {'sdtype': 'numerical'}, '11243': {'sdtype': 'numerical'}, '11246': {'sdtype': 'numerical'}, '11249': {'sdtype': 'numerical'}, '11252': {'sdtype': 'numerical'}, '11255': {'sdtype': 'numerical'}, '11258': {'sdtype': 'numerical'}, '11261': {'sdtype': 'numerical'}, '11264': {'sdtype': 'numerical'}, '11267': {'sdtype': 'numerical'}, '11270': {'sdtype': 'numerical'}, '11273': {'sdtype': 'numerical'}, '11276': {'sdtype': 'numerical'}, '11279': {'sdtype': 'numerical'}, '11282': {'sdtype': 'numerical'}, '11285': {'sdtype': 'numerical'}, '11288': {'sdtype': 'numerical'}, '11291': {'sdtype': 'numerical'}, '11294': {'sdtype': 'numerical'}, '11297': {'sdtype': 'numerical'}, '11300': {'sdtype': 'numerical'}, '11303': {'sdtype': 'numerical'}, '11306': {'sdtype': 'numerical'}, '11309': {'sdtype': 'numerical'}, '11312': {'sdtype': 'numerical'}, '11315': {'sdtype': 'numerical'}, '11318': {'sdtype': 'numerical'}, '11321': {'sdtype': 'numerical'}, '11324': {'sdtype': 'numerical'}, '11327': {'sdtype': 'numerical'}, '11330': {'sdtype': 'numerical'}, '11333': {'sdtype': 'numerical'}, '11336': {'sdtype': 'numerical'}, '11339': {'sdtype': 'numerical'}, '11342': {'sdtype': 'numerical'}, '11345': {'sdtype': 'numerical'}, '11348': {'sdtype': 'numerical'}, '11351': {'sdtype': 'numerical'}, '11354': {'sdtype': 'numerical'}, '11357': {'sdtype': 'numerical'}, '11360': {'sdtype': 'numerical'}, '11363': {'sdtype': 'numerical'}, '11366': {'sdtype': 'numerical'}, '11369': {'sdtype': 'numerical'}, '11372': {'sdtype': 'numerical'}, '11375': {'sdtype': 'numerical'}, '11378': {'sdtype': 'numerical'}, '11381': {'sdtype': 'numerical'}, '11384': {'sdtype': 'numerical'}, '11387': {'sdtype': 'numerical'}, '11390': {'sdtype': 'numerical'}, '11393': {'sdtype': 'numerical'}, '11396': {'sdtype': 'numerical'}, '11399': {'sdtype': 'numerical'}, '11402': {'sdtype': 'numerical'}, '11405': {'sdtype': 'numerical'}, '11408': {'sdtype': 'numerical'}, '11411': {'sdtype': 'numerical'}, '11414': {'sdtype': 'numerical'}, '11417': {'sdtype': 'numerical'}, '11420': {'sdtype': 'numerical'}, '11423': {'sdtype': 'numerical'}, '11426': {'sdtype': 'numerical'}, '11429': {'sdtype': 'numerical'}, '11432': {'sdtype': 'numerical'}, '11435': {'sdtype': 'numerical'}, '11438': {'sdtype': 'numerical'}, '11441': {'sdtype': 'numerical'}, '11444': {'sdtype': 'numerical'}, '11447': {'sdtype': 'numerical'}, '11450': {'sdtype': 'numerical'}, '11453': {'sdtype': 'numerical'}, '11456': {'sdtype': 'numerical'}, '11459': {'sdtype': 'numerical'}, '11462': {'sdtype': 'numerical'}, '11465': {'sdtype': 'numerical'}, '11468': {'sdtype': 'numerical'}, '11471': {'sdtype': 'numerical'}, '11474': {'sdtype': 'numerical'}, '11477': {'sdtype': 'numerical'}, '11480': {'sdtype': 'numerical'}, '11483': {'sdtype': 'numerical'}, '11486': {'sdtype': 'numerical'}, '11489': {'sdtype': 'numerical'}, '11492': {'sdtype': 'numerical'}, '11495': {'sdtype': 'numerical'}, '11498': {'sdtype': 'numerical'}, '11501': {'sdtype': 'numerical'}, '11504': {'sdtype': 'numerical'}, '11507': {'sdtype': 'numerical'}, '11510': {'sdtype': 'numerical'}, '11513': {'sdtype': 'numerical'}, '11516': {'sdtype': 'numerical'}, '11519': {'sdtype': 'numerical'}, '11522': {'sdtype': 'numerical'}, '11525': {'sdtype': 'numerical'}, '11528': {'sdtype': 'numerical'}, '11531': {'sdtype': 'numerical'}, '11534': {'sdtype': 'numerical'}, '11537': {'sdtype': 'numerical'}, '11540': {'sdtype': 'numerical'}, '11543': {'sdtype': 'numerical'}, '11546': {'sdtype': 'numerical'}, '11549': {'sdtype': 'numerical'}, '11552': {'sdtype': 'numerical'}, '11555': {'sdtype': 'numerical'}, '11558': {'sdtype': 'numerical'}, '11561': {'sdtype': 'numerical'}, '11564': {'sdtype': 'numerical'}, '11567': {'sdtype': 'numerical'}, '11570': {'sdtype': 'numerical'}, '11573': {'sdtype': 'numerical'}, '11576': {'sdtype': 'numerical'}, '11579': {'sdtype': 'numerical'}, '11582': {'sdtype': 'numerical'}, '11585': {'sdtype': 'numerical'}, '11588': {'sdtype': 'numerical'}, '11591': {'sdtype': 'numerical'}, '11594': {'sdtype': 'numerical'}, '11597': {'sdtype': 'numerical'}, '11600': {'sdtype': 'numerical'}, '11603': {'sdtype': 'numerical'}, '11606': {'sdtype': 'numerical'}, '11609': {'sdtype': 'numerical'}, '11612': {'sdtype': 'numerical'}, '11615': {'sdtype': 'numerical'}, '11618': {'sdtype': 'numerical'}, '11621': {'sdtype': 'numerical'}, '11624': {'sdtype': 'numerical'}, '11627': {'sdtype': 'numerical'}, '11630': {'sdtype': 'numerical'}, '11633': {'sdtype': 'numerical'}, '11636': {'sdtype': 'numerical'}, '11639': {'sdtype': 'numerical'}, '11642': {'sdtype': 'numerical'}, '11645': {'sdtype': 'numerical'}, '11648': {'sdtype': 'numerical'}, '11651': {'sdtype': 'numerical'}, '11654': {'sdtype': 'numerical'}, '11657': {'sdtype': 'numerical'}, '11660': {'sdtype': 'numerical'}, '11663': {'sdtype': 'numerical'}, '11666': {'sdtype': 'numerical'}, '11669': {'sdtype': 'numerical'}, '11672': {'sdtype': 'numerical'}, '11675': {'sdtype': 'numerical'}, '11678': {'sdtype': 'numerical'}, '11681': {'sdtype': 'numerical'}, '11684': {'sdtype': 'numerical'}, '11687': {'sdtype': 'numerical'}, '11690': {'sdtype': 'numerical'}, '11693': {'sdtype': 'numerical'}, '11696': {'sdtype': 'numerical'}, '11699': {'sdtype': 'numerical'}, '11702': {'sdtype': 'numerical'}, '11705': {'sdtype': 'numerical'}, '11708': {'sdtype': 'numerical'}, '11711': {'sdtype': 'numerical'}, '11714': {'sdtype': 'numerical'}, '11717': {'sdtype': 'numerical'}, '11720': {'sdtype': 'numerical'}, '11723': {'sdtype': 'numerical'}, '11726': {'sdtype': 'numerical'}, '11729': {'sdtype': 'numerical'}, '11732': {'sdtype': 'numerical'}, '11735': {'sdtype': 'numerical'}, '11738': {'sdtype': 'numerical'}, '11741': {'sdtype': 'numerical'}, '11744': {'sdtype': 'numerical'}, '11747': {'sdtype': 'numerical'}, '11750': {'sdtype': 'numerical'}, '11753': {'sdtype': 'numerical'}, '11756': {'sdtype': 'numerical'}, '11759': {'sdtype': 'numerical'}, '11762': {'sdtype': 'numerical'}, '11765': {'sdtype': 'numerical'}, '11768': {'sdtype': 'numerical'}, '11771': {'sdtype': 'numerical'}, '11774': {'sdtype': 'numerical'}, '11777': {'sdtype': 'numerical'}, '11780': {'sdtype': 'numerical'}, '11783': {'sdtype': 'numerical'}, '11786': {'sdtype': 'numerical'}, '11789': {'sdtype': 'numerical'}, '11792': {'sdtype': 'numerical'}, '11795': {'sdtype': 'numerical'}, '11798': {'sdtype': 'numerical'}, '11801': {'sdtype': 'numerical'}, '11804': {'sdtype': 'numerical'}, '11807': {'sdtype': 'numerical'}, '11810': {'sdtype': 'numerical'}, '11813': {'sdtype': 'numerical'}, '11816': {'sdtype': 'numerical'}, '11819': {'sdtype': 'numerical'}, '11822': {'sdtype': 'numerical'}, '11825': {'sdtype': 'numerical'}, '11828': {'sdtype': 'numerical'}, '11831': {'sdtype': 'numerical'}, '11834': {'sdtype': 'numerical'}, '11837': {'sdtype': 'numerical'}, '11840': {'sdtype': 'numerical'}, '11843': {'sdtype': 'numerical'}, '11846': {'sdtype': 'numerical'}, '11849': {'sdtype': 'numerical'}, '11852': {'sdtype': 'numerical'}, '11855': {'sdtype': 'numerical'}, '11858': {'sdtype': 'numerical'}, '11861': {'sdtype': 'numerical'}, '11864': {'sdtype': 'numerical'}, '11867': {'sdtype': 'numerical'}, '11870': {'sdtype': 'numerical'}, '11873': {'sdtype': 'numerical'}, '11876': {'sdtype': 'numerical'}, '11879': {'sdtype': 'numerical'}, '11882': {'sdtype': 'numerical'}, '11885': {'sdtype': 'numerical'}, '11888': {'sdtype': 'numerical'}, '11891': {'sdtype': 'numerical'}, '11894': {'sdtype': 'numerical'}, '11897': {'sdtype': 'numerical'}, '11900': {'sdtype': 'numerical'}, '11903': {'sdtype': 'numerical'}, '11906': {'sdtype': 'numerical'}, '11909': {'sdtype': 'numerical'}, '11912': {'sdtype': 'numerical'}, '11915': {'sdtype': 'numerical'}, '11918': {'sdtype': 'numerical'}, '11921': {'sdtype': 'numerical'}, '11924': {'sdtype': 'numerical'}, '11927': {'sdtype': 'numerical'}, '11930': {'sdtype': 'numerical'}, '11933': {'sdtype': 'numerical'}, '11936': {'sdtype': 'numerical'}, '11939': {'sdtype': 'numerical'}, '11942': {'sdtype': 'numerical'}, '11945': {'sdtype': 'numerical'}, '11948': {'sdtype': 'numerical'}, '11951': {'sdtype': 'numerical'}, '11954': {'sdtype': 'numerical'}, '11957': {'sdtype': 'numerical'}, '11960': {'sdtype': 'numerical'}, '11963': {'sdtype': 'numerical'}, '11966': {'sdtype': 'numerical'}, '11969': {'sdtype': 'numerical'}, '11972': {'sdtype': 'numerical'}, '11975': {'sdtype': 'numerical'}, '11978': {'sdtype': 'numerical'}, '11981': {'sdtype': 'numerical'}, '11984': {'sdtype': 'numerical'}, '11987': {'sdtype': 'numerical'}, '11990': {'sdtype': 'numerical'}, '11993': {'sdtype': 'numerical'}, '11996': {'sdtype': 'numerical'}, '11999': {'sdtype': 'numerical'}, '12002': {'sdtype': 'numerical'}, '12005': {'sdtype': 'numerical'}, '12008': {'sdtype': 'numerical'}, '12011': {'sdtype': 'numerical'}, '12014': {'sdtype': 'numerical'}, '12017': {'sdtype': 'numerical'}, '12020': {'sdtype': 'numerical'}, '12023': {'sdtype': 'numerical'}, '12026': {'sdtype': 'numerical'}, '12029': {'sdtype': 'numerical'}, '12032': {'sdtype': 'numerical'}, '12035': {'sdtype': 'numerical'}, '12038': {'sdtype': 'numerical'}, '12041': {'sdtype': 'numerical'}, '12044': {'sdtype': 'numerical'}, '12047': {'sdtype': 'numerical'}, '12050': {'sdtype': 'numerical'}, '12053': {'sdtype': 'numerical'}, '12056': {'sdtype': 'numerical'}, '12059': {'sdtype': 'numerical'}, '12062': {'sdtype': 'numerical'}, '12065': {'sdtype': 'numerical'}, '12068': {'sdtype': 'numerical'}, '12071': {'sdtype': 'numerical'}, '12074': {'sdtype': 'numerical'}, '12077': {'sdtype': 'numerical'}, '12080': {'sdtype': 'numerical'}, '12083': {'sdtype': 'numerical'}, '12086': {'sdtype': 'numerical'}, '12089': {'sdtype': 'numerical'}, '12092': {'sdtype': 'numerical'}, '12095': {'sdtype': 'numerical'}, '12098': {'sdtype': 'numerical'}, '12101': {'sdtype': 'numerical'}, '12104': {'sdtype': 'numerical'}, '12107': {'sdtype': 'numerical'}, '12110': {'sdtype': 'numerical'}, '12113': {'sdtype': 'numerical'}, '12116': {'sdtype': 'numerical'}, '12119': {'sdtype': 'numerical'}, '12122': {'sdtype': 'numerical'}, '12125': {'sdtype': 'numerical'}, '12128': {'sdtype': 'numerical'}, '12131': {'sdtype': 'numerical'}, '12134': {'sdtype': 'numerical'}, '12137': {'sdtype': 'numerical'}, '12140': {'sdtype': 'numerical'}, '12143': {'sdtype': 'numerical'}, '12146': {'sdtype': 'numerical'}, '12149': {'sdtype': 'numerical'}, '12152': {'sdtype': 'numerical'}, '12155': {'sdtype': 'numerical'}, '12158': {'sdtype': 'numerical'}, '12161': {'sdtype': 'numerical'}, '12164': {'sdtype': 'numerical'}, '12167': {'sdtype': 'numerical'}, '12170': {'sdtype': 'numerical'}, '12173': {'sdtype': 'numerical'}, '12176': {'sdtype': 'numerical'}, '12179': {'sdtype': 'numerical'}, '12182': {'sdtype': 'numerical'}, '12185': {'sdtype': 'numerical'}, '12188': {'sdtype': 'numerical'}, '12191': {'sdtype': 'numerical'}, '12194': {'sdtype': 'numerical'}, '12197': {'sdtype': 'numerical'}, '12200': {'sdtype': 'numerical'}, '12203': {'sdtype': 'numerical'}, '12206': {'sdtype': 'numerical'}, '12209': {'sdtype': 'numerical'}, '12212': {'sdtype': 'numerical'}, '12215': {'sdtype': 'numerical'}, '12218': {'sdtype': 'numerical'}, '12221': {'sdtype': 'numerical'}, '12224': {'sdtype': 'numerical'}, '12227': {'sdtype': 'numerical'}, '12230': {'sdtype': 'numerical'}, '12233': {'sdtype': 'numerical'}, '12236': {'sdtype': 'numerical'}, '12239': {'sdtype': 'numerical'}, '12242': {'sdtype': 'numerical'}, '12245': {'sdtype': 'numerical'}, '12248': {'sdtype': 'numerical'}, '12251': {'sdtype': 'numerical'}, '12254': {'sdtype': 'numerical'}, '12257': {'sdtype': 'numerical'}, '12260': {'sdtype': 'numerical'}, '12263': {'sdtype': 'numerical'}, '12266': {'sdtype': 'numerical'}, '12269': {'sdtype': 'numerical'}, '12272': {'sdtype': 'numerical'}, '12275': {'sdtype': 'numerical'}, '12278': {'sdtype': 'numerical'}, '12281': {'sdtype': 'numerical'}, '12284': {'sdtype': 'numerical'}, '12287': {'sdtype': 'numerical'}, '12290': {'sdtype': 'numerical'}, '12293': {'sdtype': 'numerical'}, '12296': {'sdtype': 'numerical'}, '12299': {'sdtype': 'numerical'}, '12302': {'sdtype': 'numerical'}, '12305': {'sdtype': 'numerical'}, '12308': {'sdtype': 'numerical'}, '12311': {'sdtype': 'numerical'}, '12314': {'sdtype': 'numerical'}, '12317': {'sdtype': 'numerical'}, '12320': {'sdtype': 'numerical'}, '12323': {'sdtype': 'numerical'}, '12326': {'sdtype': 'numerical'}, '12329': {'sdtype': 'numerical'}, '12332': {'sdtype': 'numerical'}, '12335': {'sdtype': 'numerical'}, '12338': {'sdtype': 'numerical'}, '12341': {'sdtype': 'numerical'}, '12344': {'sdtype': 'numerical'}, '12347': {'sdtype': 'numerical'}, '12350': {'sdtype': 'numerical'}, '12353': {'sdtype': 'numerical'}, '12356': {'sdtype': 'numerical'}, '12359': {'sdtype': 'numerical'}, '12362': {'sdtype': 'numerical'}, '12365': {'sdtype': 'numerical'}, '12368': {'sdtype': 'numerical'}, '12371': {'sdtype': 'numerical'}, '12374': {'sdtype': 'numerical'}, '12377': {'sdtype': 'numerical'}, '12380': {'sdtype': 'numerical'}, '12383': {'sdtype': 'numerical'}, '12386': {'sdtype': 'numerical'}, '12389': {'sdtype': 'numerical'}, '12392': {'sdtype': 'numerical'}, '12395': {'sdtype': 'numerical'}, '12398': {'sdtype': 'numerical'}, '12401': {'sdtype': 'numerical'}, '12404': {'sdtype': 'numerical'}, '12407': {'sdtype': 'numerical'}, '12410': {'sdtype': 'numerical'}, '12413': {'sdtype': 'numerical'}, '12416': {'sdtype': 'numerical'}, '12419': {'sdtype': 'numerical'}, '12422': {'sdtype': 'numerical'}, '12425': {'sdtype': 'numerical'}, '12428': {'sdtype': 'numerical'}, '12431': {'sdtype': 'numerical'}, '12434': {'sdtype': 'numerical'}, '12437': {'sdtype': 'numerical'}, '12440': {'sdtype': 'numerical'}, '12443': {'sdtype': 'numerical'}, '12446': {'sdtype': 'numerical'}, '12449': {'sdtype': 'numerical'}, '12452': {'sdtype': 'numerical'}, '12455': {'sdtype': 'numerical'}, '12458': {'sdtype': 'numerical'}, '12461': {'sdtype': 'numerical'}, '12464': {'sdtype': 'numerical'}, '12467': {'sdtype': 'numerical'}, '12470': {'sdtype': 'numerical'}, '12473': {'sdtype': 'numerical'}, '12476': {'sdtype': 'numerical'}, '12479': {'sdtype': 'numerical'}, '12482': {'sdtype': 'numerical'}, '12485': {'sdtype': 'numerical'}, '12488': {'sdtype': 'numerical'}, '12491': {'sdtype': 'numerical'}, '12494': {'sdtype': 'numerical'}, '12497': {'sdtype': 'numerical'}, '12500': {'sdtype': 'numerical'}, '12503': {'sdtype': 'numerical'}, '12506': {'sdtype': 'numerical'}, '12509': {'sdtype': 'numerical'}, '12512': {'sdtype': 'numerical'}, '12515': {'sdtype': 'numerical'}, '12518': {'sdtype': 'numerical'}, '12521': {'sdtype': 'numerical'}, '12524': {'sdtype': 'numerical'}, '12527': {'sdtype': 'numerical'}, '12530': {'sdtype': 'numerical'}, '12533': {'sdtype': 'numerical'}, '12536': {'sdtype': 'numerical'}, '12539': {'sdtype': 'numerical'}, '12542': {'sdtype': 'numerical'}, '12545': {'sdtype': 'numerical'}, '12548': {'sdtype': 'numerical'}, '12551': {'sdtype': 'numerical'}, '12554': {'sdtype': 'numerical'}, '12557': {'sdtype': 'numerical'}, '12560': {'sdtype': 'numerical'}, '12563': {'sdtype': 'numerical'}, '12566': {'sdtype': 'numerical'}, '12569': {'sdtype': 'numerical'}, '12572': {'sdtype': 'numerical'}, '12575': {'sdtype': 'numerical'}, '12578': {'sdtype': 'numerical'}, '12581': {'sdtype': 'numerical'}, '12584': {'sdtype': 'numerical'}, '12587': {'sdtype': 'numerical'}, '12590': {'sdtype': 'numerical'}, '12593': {'sdtype': 'numerical'}, '12596': {'sdtype': 'numerical'}, '12599': {'sdtype': 'numerical'}, '12602': {'sdtype': 'numerical'}, '12605': {'sdtype': 'numerical'}, '12608': {'sdtype': 'numerical'}, '12611': {'sdtype': 'numerical'}, '12614': {'sdtype': 'numerical'}, '12617': {'sdtype': 'numerical'}, '12620': {'sdtype': 'numerical'}, '12623': {'sdtype': 'numerical'}, '12626': {'sdtype': 'numerical'}, '12629': {'sdtype': 'numerical'}, '12632': {'sdtype': 'numerical'}, '12635': {'sdtype': 'numerical'}, '12638': {'sdtype': 'numerical'}, '12641': {'sdtype': 'numerical'}, '12644': {'sdtype': 'numerical'}, '12647': {'sdtype': 'numerical'}, '12650': {'sdtype': 'numerical'}, '12653': {'sdtype': 'numerical'}, '12656': {'sdtype': 'numerical'}, '12659': {'sdtype': 'numerical'}, '12662': {'sdtype': 'numerical'}, '12665': {'sdtype': 'numerical'}, '12668': {'sdtype': 'numerical'}, '12671': {'sdtype': 'numerical'}, '12674': {'sdtype': 'numerical'}, '12677': {'sdtype': 'numerical'}, '12680': {'sdtype': 'numerical'}, '12683': {'sdtype': 'numerical'}, '12686': {'sdtype': 'numerical'}, '12689': {'sdtype': 'numerical'}, '12692': {'sdtype': 'numerical'}, '12695': {'sdtype': 'numerical'}, '12698': {'sdtype': 'numerical'}, '12701': {'sdtype': 'numerical'}, '12704': {'sdtype': 'numerical'}, '12707': {'sdtype': 'numerical'}, '12710': {'sdtype': 'numerical'}, '12713': {'sdtype': 'numerical'}, '12716': {'sdtype': 'numerical'}, '12719': {'sdtype': 'numerical'}, '12722': {'sdtype': 'numerical'}, '12725': {'sdtype': 'numerical'}, '12728': {'sdtype': 'numerical'}, '12731': {'sdtype': 'numerical'}, '12734': {'sdtype': 'numerical'}, '12737': {'sdtype': 'numerical'}, '12740': {'sdtype': 'numerical'}, '12743': {'sdtype': 'numerical'}, '12746': {'sdtype': 'numerical'}, '12749': {'sdtype': 'numerical'}, '12752': {'sdtype': 'numerical'}, '12755': {'sdtype': 'numerical'}, '12758': {'sdtype': 'numerical'}, '12761': {'sdtype': 'numerical'}, '12764': {'sdtype': 'numerical'}, '12767': {'sdtype': 'numerical'}, '12770': {'sdtype': 'numerical'}, '12773': {'sdtype': 'numerical'}, '12776': {'sdtype': 'numerical'}, '12779': {'sdtype': 'numerical'}, '12782': {'sdtype': 'numerical'}, '12785': {'sdtype': 'numerical'}, '12788': {'sdtype': 'numerical'}, '12791': {'sdtype': 'numerical'}, '12794': {'sdtype': 'numerical'}, '12797': {'sdtype': 'numerical'}, '12800': {'sdtype': 'numerical'}, '12803': {'sdtype': 'numerical'}, '12806': {'sdtype': 'numerical'}, '12809': {'sdtype': 'numerical'}, '12812': {'sdtype': 'numerical'}, '12815': {'sdtype': 'numerical'}, '12818': {'sdtype': 'numerical'}, '12821': {'sdtype': 'numerical'}, '12824': {'sdtype': 'numerical'}, '12827': {'sdtype': 'numerical'}, '12830': {'sdtype': 'numerical'}, '12833': {'sdtype': 'numerical'}, '12836': {'sdtype': 'numerical'}, '12839': {'sdtype': 'numerical'}, '12842': {'sdtype': 'numerical'}, '12845': {'sdtype': 'numerical'}, '12848': {'sdtype': 'numerical'}, '12851': {'sdtype': 'numerical'}, '12854': {'sdtype': 'numerical'}, '12857': {'sdtype': 'numerical'}, '12860': {'sdtype': 'numerical'}, '12863': {'sdtype': 'numerical'}, '12866': {'sdtype': 'numerical'}, '12869': {'sdtype': 'numerical'}, '12872': {'sdtype': 'numerical'}, '12875': {'sdtype': 'numerical'}, '12878': {'sdtype': 'numerical'}, '12881': {'sdtype': 'numerical'}, '12884': {'sdtype': 'numerical'}, '12887': {'sdtype': 'numerical'}, '12890': {'sdtype': 'numerical'}, '12893': {'sdtype': 'numerical'}, '12896': {'sdtype': 'numerical'}, '12899': {'sdtype': 'numerical'}, '12902': {'sdtype': 'numerical'}, '12905': {'sdtype': 'numerical'}, '12908': {'sdtype': 'numerical'}, '12911': {'sdtype': 'numerical'}, '12914': {'sdtype': 'numerical'}, '12917': {'sdtype': 'numerical'}, '12920': {'sdtype': 'numerical'}, '12923': {'sdtype': 'numerical'}, '12926': {'sdtype': 'numerical'}, '12929': {'sdtype': 'numerical'}, '12932': {'sdtype': 'numerical'}, '12935': {'sdtype': 'numerical'}, '12938': {'sdtype': 'numerical'}, '12941': {'sdtype': 'numerical'}, '12944': {'sdtype': 'numerical'}, '12947': {'sdtype': 'numerical'}, '12950': {'sdtype': 'numerical'}, '12953': {'sdtype': 'numerical'}, '12956': {'sdtype': 'numerical'}, '12959': {'sdtype': 'numerical'}, '12962': {'sdtype': 'numerical'}, '12965': {'sdtype': 'numerical'}, '12968': {'sdtype': 'numerical'}, '12971': {'sdtype': 'numerical'}, '12974': {'sdtype': 'numerical'}, '12977': {'sdtype': 'numerical'}, '12980': {'sdtype': 'numerical'}, '12983': {'sdtype': 'numerical'}, '12986': {'sdtype': 'numerical'}, '12989': {'sdtype': 'numerical'}, '12992': {'sdtype': 'numerical'}, '12995': {'sdtype': 'numerical'}, '12998': {'sdtype': 'numerical'}, '13001': {'sdtype': 'numerical'}, '13004': {'sdtype': 'numerical'}, '13007': {'sdtype': 'numerical'}, '13010': {'sdtype': 'numerical'}, '13013': {'sdtype': 'numerical'}, '13016': {'sdtype': 'numerical'}, '13019': {'sdtype': 'numerical'}, '13022': {'sdtype': 'numerical'}, '13025': {'sdtype': 'numerical'}, '13028': {'sdtype': 'numerical'}, '13031': {'sdtype': 'numerical'}, '13034': {'sdtype': 'numerical'}, '13037': {'sdtype': 'numerical'}, '13040': {'sdtype': 'numerical'}, '13043': {'sdtype': 'numerical'}, '13046': {'sdtype': 'numerical'}, '13049': {'sdtype': 'numerical'}, '13052': {'sdtype': 'numerical'}, '13055': {'sdtype': 'numerical'}, '13058': {'sdtype': 'numerical'}, '13061': {'sdtype': 'numerical'}, '13064': {'sdtype': 'numerical'}, '13067': {'sdtype': 'numerical'}, '13070': {'sdtype': 'numerical'}, '13073': {'sdtype': 'numerical'}, '13076': {'sdtype': 'numerical'}, '13079': {'sdtype': 'numerical'}, '13082': {'sdtype': 'numerical'}, '13085': {'sdtype': 'numerical'}, '13088': {'sdtype': 'numerical'}, '13091': {'sdtype': 'numerical'}, '13094': {'sdtype': 'numerical'}, '13097': {'sdtype': 'numerical'}, '13100': {'sdtype': 'numerical'}, '13103': {'sdtype': 'numerical'}, '13106': {'sdtype': 'numerical'}, '13109': {'sdtype': 'numerical'}, '13112': {'sdtype': 'numerical'}, '13115': {'sdtype': 'numerical'}, '13118': {'sdtype': 'numerical'}, '13121': {'sdtype': 'numerical'}, '13124': {'sdtype': 'numerical'}, '13127': {'sdtype': 'numerical'}, '13130': {'sdtype': 'numerical'}, '13133': {'sdtype': 'numerical'}, '13136': {'sdtype': 'numerical'}, '13139': {'sdtype': 'numerical'}, '13142': {'sdtype': 'numerical'}, '13145': {'sdtype': 'numerical'}, '13148': {'sdtype': 'numerical'}, '13151': {'sdtype': 'numerical'}, '13154': {'sdtype': 'numerical'}, '13157': {'sdtype': 'numerical'}, '13160': {'sdtype': 'numerical'}, '13163': {'sdtype': 'numerical'}, '13166': {'sdtype': 'numerical'}, '13169': {'sdtype': 'numerical'}, '13172': {'sdtype': 'numerical'}, '13175': {'sdtype': 'numerical'}, '13178': {'sdtype': 'numerical'}, '13181': {'sdtype': 'numerical'}, '13184': {'sdtype': 'numerical'}, '13187': {'sdtype': 'numerical'}, '13190': {'sdtype': 'numerical'}, '13193': {'sdtype': 'numerical'}, '13196': {'sdtype': 'numerical'}, '13199': {'sdtype': 'numerical'}, '13202': {'sdtype': 'numerical'}, '13205': {'sdtype': 'numerical'}, '13208': {'sdtype': 'numerical'}, '13211': {'sdtype': 'numerical'}, '13214': {'sdtype': 'numerical'}, '13217': {'sdtype': 'numerical'}, '13220': {'sdtype': 'numerical'}, '13223': {'sdtype': 'numerical'}, '13226': {'sdtype': 'numerical'}, '13229': {'sdtype': 'numerical'}, '13232': {'sdtype': 'numerical'}, '13235': {'sdtype': 'numerical'}, '13238': {'sdtype': 'numerical'}, '13241': {'sdtype': 'numerical'}, '13244': {'sdtype': 'numerical'}, '13247': {'sdtype': 'numerical'}, '13250': {'sdtype': 'numerical'}, '13253': {'sdtype': 'numerical'}, '13256': {'sdtype': 'numerical'}, '13259': {'sdtype': 'numerical'}, '13262': {'sdtype': 'numerical'}, '13265': {'sdtype': 'numerical'}, '13268': {'sdtype': 'numerical'}, '13271': {'sdtype': 'numerical'}, '13274': {'sdtype': 'numerical'}, '13277': {'sdtype': 'numerical'}, '13280': {'sdtype': 'numerical'}, '13283': {'sdtype': 'numerical'}, '13286': {'sdtype': 'numerical'}, '13289': {'sdtype': 'numerical'}, '13292': {'sdtype': 'numerical'}, '13295': {'sdtype': 'numerical'}, '13298': {'sdtype': 'numerical'}, '13301': {'sdtype': 'numerical'}, '13304': {'sdtype': 'numerical'}, '13307': {'sdtype': 'numerical'}, '13310': {'sdtype': 'numerical'}, '13313': {'sdtype': 'numerical'}, '13316': {'sdtype': 'numerical'}, '13319': {'sdtype': 'numerical'}, '13322': {'sdtype': 'numerical'}, '13325': {'sdtype': 'numerical'}, '13328': {'sdtype': 'numerical'}, '13331': {'sdtype': 'numerical'}, '13334': {'sdtype': 'numerical'}, '13337': {'sdtype': 'numerical'}, '13340': {'sdtype': 'numerical'}, '13343': {'sdtype': 'numerical'}, '13346': {'sdtype': 'numerical'}, '13349': {'sdtype': 'numerical'}, '13352': {'sdtype': 'numerical'}, '13355': {'sdtype': 'numerical'}, '13358': {'sdtype': 'numerical'}, '13361': {'sdtype': 'numerical'}, '13364': {'sdtype': 'numerical'}, '13367': {'sdtype': 'numerical'}, '13370': {'sdtype': 'numerical'}, '13373': {'sdtype': 'numerical'}, '13376': {'sdtype': 'numerical'}, '13379': {'sdtype': 'numerical'}, '13382': {'sdtype': 'numerical'}, '13385': {'sdtype': 'numerical'}, '13388': {'sdtype': 'numerical'}, '13391': {'sdtype': 'numerical'}, '13394': {'sdtype': 'numerical'}, '13397': {'sdtype': 'numerical'}, '13400': {'sdtype': 'numerical'}, '13403': {'sdtype': 'numerical'}, '13406': {'sdtype': 'numerical'}, '13409': {'sdtype': 'numerical'}, '13412': {'sdtype': 'numerical'}, '13415': {'sdtype': 'numerical'}, '13418': {'sdtype': 'numerical'}, '13421': {'sdtype': 'numerical'}, '13424': {'sdtype': 'numerical'}, '13427': {'sdtype': 'numerical'}, '13430': {'sdtype': 'numerical'}, '13433': {'sdtype': 'numerical'}, '13436': {'sdtype': 'numerical'}, '13439': {'sdtype': 'numerical'}, '13442': {'sdtype': 'numerical'}, '13445': {'sdtype': 'numerical'}, '13448': {'sdtype': 'numerical'}, '13451': {'sdtype': 'numerical'}, '13454': {'sdtype': 'numerical'}, '13457': {'sdtype': 'numerical'}, '13460': {'sdtype': 'numerical'}, '13463': {'sdtype': 'numerical'}, '13466': {'sdtype': 'numerical'}, '13469': {'sdtype': 'numerical'}, '13472': {'sdtype': 'numerical'}, '13475': {'sdtype': 'numerical'}, '13478': {'sdtype': 'numerical'}, '13481': {'sdtype': 'numerical'}, '13484': {'sdtype': 'numerical'}, '13487': {'sdtype': 'numerical'}, '13490': {'sdtype': 'numerical'}, '13493': {'sdtype': 'numerical'}, '13496': {'sdtype': 'numerical'}, '13499': {'sdtype': 'numerical'}, '13502': {'sdtype': 'numerical'}, '13505': {'sdtype': 'numerical'}, '13508': {'sdtype': 'numerical'}, '13511': {'sdtype': 'numerical'}, '13514': {'sdtype': 'numerical'}, '13517': {'sdtype': 'numerical'}, '13520': {'sdtype': 'numerical'}, '13523': {'sdtype': 'numerical'}, '13526': {'sdtype': 'numerical'}, '13529': {'sdtype': 'numerical'}, '13532': {'sdtype': 'numerical'}, '13535': {'sdtype': 'numerical'}, '13538': {'sdtype': 'numerical'}, '13541': {'sdtype': 'numerical'}, '13544': {'sdtype': 'numerical'}, '13547': {'sdtype': 'numerical'}, '13550': {'sdtype': 'numerical'}, '13553': {'sdtype': 'numerical'}, '13556': {'sdtype': 'numerical'}, '13559': {'sdtype': 'numerical'}, '13562': {'sdtype': 'numerical'}, '13565': {'sdtype': 'numerical'}, '13568': {'sdtype': 'numerical'}, '13571': {'sdtype': 'numerical'}, '13574': {'sdtype': 'numerical'}, '13577': {'sdtype': 'numerical'}, '13580': {'sdtype': 'numerical'}, '13583': {'sdtype': 'numerical'}, '13586': {'sdtype': 'numerical'}, '13589': {'sdtype': 'numerical'}, '13592': {'sdtype': 'numerical'}, '13595': {'sdtype': 'numerical'}, '13598': {'sdtype': 'numerical'}, '13601': {'sdtype': 'numerical'}, '13604': {'sdtype': 'numerical'}, '13607': {'sdtype': 'numerical'}, '13610': {'sdtype': 'numerical'}, '13613': {'sdtype': 'numerical'}, '13616': {'sdtype': 'numerical'}, '13619': {'sdtype': 'numerical'}, '13622': {'sdtype': 'numerical'}, '13625': {'sdtype': 'numerical'}, '13628': {'sdtype': 'numerical'}, '13631': {'sdtype': 'numerical'}, '13634': {'sdtype': 'numerical'}, '13637': {'sdtype': 'numerical'}, '13640': {'sdtype': 'numerical'}, '13643': {'sdtype': 'numerical'}, '13646': {'sdtype': 'numerical'}, '13649': {'sdtype': 'numerical'}, '13652': {'sdtype': 'numerical'}, '13655': {'sdtype': 'numerical'}, '13658': {'sdtype': 'numerical'}, '13661': {'sdtype': 'numerical'}, '13664': {'sdtype': 'numerical'}, '13667': {'sdtype': 'numerical'}, '13670': {'sdtype': 'numerical'}, '13673': {'sdtype': 'numerical'}, '13676': {'sdtype': 'numerical'}, '13679': {'sdtype': 'numerical'}, '13682': {'sdtype': 'numerical'}, '13685': {'sdtype': 'numerical'}, '13688': {'sdtype': 'numerical'}, '13691': {'sdtype': 'numerical'}, '13694': {'sdtype': 'numerical'}, '13697': {'sdtype': 'numerical'}, '13700': {'sdtype': 'numerical'}, '13703': {'sdtype': 'numerical'}, '13706': {'sdtype': 'numerical'}, '13709': {'sdtype': 'numerical'}, '13712': {'sdtype': 'numerical'}, '13715': {'sdtype': 'numerical'}, '13718': {'sdtype': 'numerical'}, '13721': {'sdtype': 'numerical'}, '13724': {'sdtype': 'numerical'}, '13727': {'sdtype': 'numerical'}, '13730': {'sdtype': 'numerical'}, '13733': {'sdtype': 'numerical'}, '13736': {'sdtype': 'numerical'}, '13739': {'sdtype': 'numerical'}, '13742': {'sdtype': 'numerical'}, '13745': {'sdtype': 'numerical'}, '13748': {'sdtype': 'numerical'}, '13751': {'sdtype': 'numerical'}, '13754': {'sdtype': 'numerical'}, '13757': {'sdtype': 'numerical'}, '13760': {'sdtype': 'numerical'}, '13763': {'sdtype': 'numerical'}, '13766': {'sdtype': 'numerical'}, '13769': {'sdtype': 'numerical'}, '13772': {'sdtype': 'numerical'}, '13775': {'sdtype': 'numerical'}, '13778': {'sdtype': 'numerical'}, '13781': {'sdtype': 'numerical'}, '13784': {'sdtype': 'numerical'}, '13787': {'sdtype': 'numerical'}, '13790': {'sdtype': 'numerical'}, '13793': {'sdtype': 'numerical'}, '13796': {'sdtype': 'numerical'}, '13799': {'sdtype': 'numerical'}, '13802': {'sdtype': 'numerical'}, '13805': {'sdtype': 'numerical'}, '13808': {'sdtype': 'numerical'}, '13811': {'sdtype': 'numerical'}, '13814': {'sdtype': 'numerical'}, '13817': {'sdtype': 'numerical'}, '13820': {'sdtype': 'numerical'}, '13823': {'sdtype': 'numerical'}, '13826': {'sdtype': 'numerical'}, '13829': {'sdtype': 'numerical'}, '13832': {'sdtype': 'numerical'}, '13835': {'sdtype': 'numerical'}, '13838': {'sdtype': 'numerical'}, '13841': {'sdtype': 'numerical'}, '13844': {'sdtype': 'numerical'}, '13847': {'sdtype': 'numerical'}, '13850': {'sdtype': 'numerical'}, '13853': {'sdtype': 'numerical'}, '13856': {'sdtype': 'numerical'}, '13859': {'sdtype': 'numerical'}, '13862': {'sdtype': 'numerical'}, '13865': {'sdtype': 'numerical'}, '13868': {'sdtype': 'numerical'}, '13871': {'sdtype': 'numerical'}, '13874': {'sdtype': 'numerical'}, '13877': {'sdtype': 'numerical'}, '13880': {'sdtype': 'numerical'}, '13883': {'sdtype': 'numerical'}, '13886': {'sdtype': 'numerical'}, '13889': {'sdtype': 'numerical'}, '13892': {'sdtype': 'numerical'}, '13895': {'sdtype': 'numerical'}, '13898': {'sdtype': 'numerical'}, '13901': {'sdtype': 'numerical'}, '13904': {'sdtype': 'numerical'}, '13907': {'sdtype': 'numerical'}, '13910': {'sdtype': 'numerical'}, '13913': {'sdtype': 'numerical'}, '13916': {'sdtype': 'numerical'}, '13919': {'sdtype': 'numerical'}, '13922': {'sdtype': 'numerical'}, '13925': {'sdtype': 'numerical'}, '13928': {'sdtype': 'numerical'}, '13931': {'sdtype': 'numerical'}, '13934': {'sdtype': 'numerical'}, '13937': {'sdtype': 'numerical'}, '13940': {'sdtype': 'numerical'}, '13943': {'sdtype': 'numerical'}, '13946': {'sdtype': 'numerical'}, '13949': {'sdtype': 'numerical'}, '13952': {'sdtype': 'numerical'}, '13955': {'sdtype': 'numerical'}, '13958': {'sdtype': 'numerical'}, '13961': {'sdtype': 'numerical'}, '13964': {'sdtype': 'numerical'}, '13967': {'sdtype': 'numerical'}, '13970': {'sdtype': 'numerical'}, '13973': {'sdtype': 'numerical'}, '13976': {'sdtype': 'numerical'}, '13979': {'sdtype': 'numerical'}, '13982': {'sdtype': 'numerical'}, '13985': {'sdtype': 'numerical'}, '13988': {'sdtype': 'numerical'}, '13991': {'sdtype': 'numerical'}, '13994': {'sdtype': 'numerical'}, '13997': {'sdtype': 'numerical'}, '14000': {'sdtype': 'numerical'}, '14003': {'sdtype': 'numerical'}, '14006': {'sdtype': 'numerical'}, '14009': {'sdtype': 'numerical'}, '14012': {'sdtype': 'numerical'}, '14015': {'sdtype': 'numerical'}, '14018': {'sdtype': 'numerical'}, '14021': {'sdtype': 'numerical'}, '14024': {'sdtype': 'numerical'}, '14027': {'sdtype': 'numerical'}, '14030': {'sdtype': 'numerical'}, '14033': {'sdtype': 'numerical'}, '14036': {'sdtype': 'numerical'}, '14039': {'sdtype': 'numerical'}, '14042': {'sdtype': 'numerical'}, '14045': {'sdtype': 'numerical'}, '14048': {'sdtype': 'numerical'}, '14051': {'sdtype': 'numerical'}, '14054': {'sdtype': 'numerical'}, '14057': {'sdtype': 'numerical'}, '14060': {'sdtype': 'numerical'}, '14063': {'sdtype': 'numerical'}, '14066': {'sdtype': 'numerical'}, '14069': {'sdtype': 'numerical'}, '14072': {'sdtype': 'numerical'}, '14075': {'sdtype': 'numerical'}, '14078': {'sdtype': 'numerical'}, '14081': {'sdtype': 'numerical'}, '14084': {'sdtype': 'numerical'}, '14087': {'sdtype': 'numerical'}, '14090': {'sdtype': 'numerical'}, '14093': {'sdtype': 'numerical'}, '14096': {'sdtype': 'numerical'}, '14099': {'sdtype': 'numerical'}, '14102': {'sdtype': 'numerical'}, '14105': {'sdtype': 'numerical'}, '14108': {'sdtype': 'numerical'}, '14111': {'sdtype': 'numerical'}, '14114': {'sdtype': 'numerical'}, '14117': {'sdtype': 'numerical'}, '14120': {'sdtype': 'numerical'}, '14123': {'sdtype': 'numerical'}, '14126': {'sdtype': 'numerical'}, '14129': {'sdtype': 'numerical'}, '14132': {'sdtype': 'numerical'}, '14135': {'sdtype': 'numerical'}, '14138': {'sdtype': 'numerical'}, '14141': {'sdtype': 'numerical'}, '14144': {'sdtype': 'numerical'}, '14147': {'sdtype': 'numerical'}, '14150': {'sdtype': 'numerical'}, '14153': {'sdtype': 'numerical'}, '14156': {'sdtype': 'numerical'}, '14159': {'sdtype': 'numerical'}, '14162': {'sdtype': 'numerical'}, '14165': {'sdtype': 'numerical'}, '14168': {'sdtype': 'numerical'}, '14171': {'sdtype': 'numerical'}, '14174': {'sdtype': 'numerical'}, '14177': {'sdtype': 'numerical'}, '14180': {'sdtype': 'numerical'}, '14183': {'sdtype': 'numerical'}, '14186': {'sdtype': 'numerical'}, '14189': {'sdtype': 'numerical'}, '14192': {'sdtype': 'numerical'}, '14195': {'sdtype': 'numerical'}, '14198': {'sdtype': 'numerical'}, '14201': {'sdtype': 'numerical'}, '14204': {'sdtype': 'numerical'}, '14207': {'sdtype': 'numerical'}, '14210': {'sdtype': 'numerical'}, '14213': {'sdtype': 'numerical'}, '14216': {'sdtype': 'numerical'}, '14219': {'sdtype': 'numerical'}, '14222': {'sdtype': 'numerical'}, '14225': {'sdtype': 'numerical'}, '14228': {'sdtype': 'numerical'}, '14231': {'sdtype': 'numerical'}, '14234': {'sdtype': 'numerical'}, '14237': {'sdtype': 'numerical'}, '14240': {'sdtype': 'numerical'}, '14243': {'sdtype': 'numerical'}, '14246': {'sdtype': 'numerical'}, '14249': {'sdtype': 'numerical'}, '14252': {'sdtype': 'numerical'}, '14255': {'sdtype': 'numerical'}, '14258': {'sdtype': 'numerical'}, '14261': {'sdtype': 'numerical'}, '14264': {'sdtype': 'numerical'}, '14267': {'sdtype': 'numerical'}, '14270': {'sdtype': 'numerical'}, '14273': {'sdtype': 'numerical'}, '14276': {'sdtype': 'numerical'}, '14279': {'sdtype': 'numerical'}, '14282': {'sdtype': 'numerical'}, '14285': {'sdtype': 'numerical'}, '14288': {'sdtype': 'numerical'}, '14291': {'sdtype': 'numerical'}, '14294': {'sdtype': 'numerical'}, '14297': {'sdtype': 'numerical'}, '14300': {'sdtype': 'numerical'}, '14303': {'sdtype': 'numerical'}, '14306': {'sdtype': 'numerical'}, '14309': {'sdtype': 'numerical'}, '14312': {'sdtype': 'numerical'}, '14315': {'sdtype': 'numerical'}, '14318': {'sdtype': 'numerical'}, '14321': {'sdtype': 'numerical'}, '14324': {'sdtype': 'numerical'}, '14327': {'sdtype': 'numerical'}, '14330': {'sdtype': 'numerical'}, '14333': {'sdtype': 'numerical'}, '14336': {'sdtype': 'numerical'}, '14339': {'sdtype': 'numerical'}, '14342': {'sdtype': 'numerical'}, '14345': {'sdtype': 'numerical'}, '14348': {'sdtype': 'numerical'}, '14351': {'sdtype': 'numerical'}, '14354': {'sdtype': 'numerical'}, '14357': {'sdtype': 'numerical'}, '14360': {'sdtype': 'numerical'}, '14363': {'sdtype': 'numerical'}, '14366': {'sdtype': 'numerical'}, '14369': {'sdtype': 'numerical'}, '14372': {'sdtype': 'numerical'}, '14375': {'sdtype': 'numerical'}, '14378': {'sdtype': 'numerical'}, '14381': {'sdtype': 'numerical'}, '14384': {'sdtype': 'numerical'}, '14387': {'sdtype': 'numerical'}, '14390': {'sdtype': 'numerical'}, '14393': {'sdtype': 'numerical'}, '14396': {'sdtype': 'numerical'}, '14399': {'sdtype': 'numerical'}, '14402': {'sdtype': 'numerical'}, '14405': {'sdtype': 'numerical'}, '14408': {'sdtype': 'numerical'}, '14411': {'sdtype': 'numerical'}, '14414': {'sdtype': 'numerical'}, '14417': {'sdtype': 'numerical'}, '14420': {'sdtype': 'numerical'}, '14423': {'sdtype': 'numerical'}, '14426': {'sdtype': 'numerical'}, '14429': {'sdtype': 'numerical'}, '14432': {'sdtype': 'numerical'}, '14435': {'sdtype': 'numerical'}, '14438': {'sdtype': 'numerical'}, '14441': {'sdtype': 'numerical'}, '14444': {'sdtype': 'numerical'}, '14447': {'sdtype': 'numerical'}, '14450': {'sdtype': 'numerical'}, '14453': {'sdtype': 'numerical'}, '14456': {'sdtype': 'numerical'}, '14459': {'sdtype': 'numerical'}, '14462': {'sdtype': 'numerical'}, '14465': {'sdtype': 'numerical'}, '14468': {'sdtype': 'numerical'}, '14471': {'sdtype': 'numerical'}, '14474': {'sdtype': 'numerical'}, '14477': {'sdtype': 'numerical'}, '14480': {'sdtype': 'numerical'}, '14483': {'sdtype': 'numerical'}, '14486': {'sdtype': 'numerical'}, '14489': {'sdtype': 'numerical'}, '14492': {'sdtype': 'numerical'}, '14495': {'sdtype': 'numerical'}, '14498': {'sdtype': 'numerical'}, '14501': {'sdtype': 'numerical'}, '14504': {'sdtype': 'numerical'}, '14507': {'sdtype': 'numerical'}, '14510': {'sdtype': 'numerical'}, '14513': {'sdtype': 'numerical'}, '14516': {'sdtype': 'numerical'}, '14519': {'sdtype': 'numerical'}, '14522': {'sdtype': 'numerical'}, '14525': {'sdtype': 'numerical'}, '14528': {'sdtype': 'numerical'}, '14531': {'sdtype': 'numerical'}, '14534': {'sdtype': 'numerical'}, '14537': {'sdtype': 'numerical'}, '14540': {'sdtype': 'numerical'}, '14543': {'sdtype': 'numerical'}, '14546': {'sdtype': 'numerical'}, '14549': {'sdtype': 'numerical'}, '14552': {'sdtype': 'numerical'}, '14555': {'sdtype': 'numerical'}, '14558': {'sdtype': 'numerical'}, '14561': {'sdtype': 'numerical'}, '14564': {'sdtype': 'numerical'}, '14567': {'sdtype': 'numerical'}, '14570': {'sdtype': 'numerical'}, '14573': {'sdtype': 'numerical'}, '14576': {'sdtype': 'numerical'}, '14579': {'sdtype': 'numerical'}, '14582': {'sdtype': 'numerical'}, '14585': {'sdtype': 'numerical'}, '14588': {'sdtype': 'numerical'}, '14591': {'sdtype': 'numerical'}, '14594': {'sdtype': 'numerical'}, '14597': {'sdtype': 'numerical'}, '14600': {'sdtype': 'numerical'}, '14603': {'sdtype': 'numerical'}, '14606': {'sdtype': 'numerical'}, '14609': {'sdtype': 'numerical'}, '14612': {'sdtype': 'numerical'}, '14615': {'sdtype': 'numerical'}, '14618': {'sdtype': 'numerical'}, '14621': {'sdtype': 'numerical'}, '14624': {'sdtype': 'numerical'}, '14627': {'sdtype': 'numerical'}, '14630': {'sdtype': 'numerical'}, '14633': {'sdtype': 'numerical'}, '14636': {'sdtype': 'numerical'}, '14639': {'sdtype': 'numerical'}, '14642': {'sdtype': 'numerical'}, '14645': {'sdtype': 'numerical'}, '14648': {'sdtype': 'numerical'}, '14651': {'sdtype': 'numerical'}, '14654': {'sdtype': 'numerical'}, '14657': {'sdtype': 'numerical'}, '14660': {'sdtype': 'numerical'}, '14663': {'sdtype': 'numerical'}, '14666': {'sdtype': 'numerical'}, '14669': {'sdtype': 'numerical'}, '14672': {'sdtype': 'numerical'}, '14675': {'sdtype': 'numerical'}, '14678': {'sdtype': 'numerical'}, '14681': {'sdtype': 'numerical'}, '14684': {'sdtype': 'numerical'}, '14687': {'sdtype': 'numerical'}, '14690': {'sdtype': 'numerical'}, '14693': {'sdtype': 'numerical'}, '14696': {'sdtype': 'numerical'}, '14699': {'sdtype': 'numerical'}, '14702': {'sdtype': 'numerical'}, '14705': {'sdtype': 'numerical'}, '14708': {'sdtype': 'numerical'}, '14711': {'sdtype': 'numerical'}, '14714': {'sdtype': 'numerical'}, '14717': {'sdtype': 'numerical'}, '14720': {'sdtype': 'numerical'}, '14723': {'sdtype': 'numerical'}, '14726': {'sdtype': 'numerical'}, '14729': {'sdtype': 'numerical'}, '14732': {'sdtype': 'numerical'}, '14735': {'sdtype': 'numerical'}, '14738': {'sdtype': 'numerical'}, '14741': {'sdtype': 'numerical'}, '14744': {'sdtype': 'numerical'}, '14747': {'sdtype': 'numerical'}, '14750': {'sdtype': 'numerical'}, '14753': {'sdtype': 'numerical'}, '14756': {'sdtype': 'numerical'}, '14759': {'sdtype': 'numerical'}, '14762': {'sdtype': 'numerical'}, '14765': {'sdtype': 'numerical'}, '14768': {'sdtype': 'numerical'}, '14771': {'sdtype': 'numerical'}, '14774': {'sdtype': 'numerical'}, '14777': {'sdtype': 'numerical'}, '14780': {'sdtype': 'numerical'}, '14783': {'sdtype': 'numerical'}, '14786': {'sdtype': 'numerical'}, '14789': {'sdtype': 'numerical'}, '14792': {'sdtype': 'numerical'}, '14795': {'sdtype': 'numerical'}, '14798': {'sdtype': 'numerical'}, '14801': {'sdtype': 'numerical'}, '14804': {'sdtype': 'numerical'}, '14807': {'sdtype': 'numerical'}, '14810': {'sdtype': 'numerical'}, '14813': {'sdtype': 'numerical'}, '14816': {'sdtype': 'numerical'}, '14819': {'sdtype': 'numerical'}, '14822': {'sdtype': 'numerical'}, '14825': {'sdtype': 'numerical'}, '14828': {'sdtype': 'numerical'}, '14831': {'sdtype': 'numerical'}, '14834': {'sdtype': 'numerical'}, '14837': {'sdtype': 'numerical'}, '14840': {'sdtype': 'numerical'}, '14843': {'sdtype': 'numerical'}, '14846': {'sdtype': 'numerical'}, '14849': {'sdtype': 'numerical'}, '14852': {'sdtype': 'numerical'}, '14855': {'sdtype': 'numerical'}, '14858': {'sdtype': 'numerical'}, '14861': {'sdtype': 'numerical'}, '14864': {'sdtype': 'numerical'}, '14867': {'sdtype': 'numerical'}, '14870': {'sdtype': 'numerical'}, '14873': {'sdtype': 'numerical'}, '14876': {'sdtype': 'numerical'}, '14879': {'sdtype': 'numerical'}, '14882': {'sdtype': 'numerical'}, '14885': {'sdtype': 'numerical'}, '14888': {'sdtype': 'numerical'}, '14891': {'sdtype': 'numerical'}, '14894': {'sdtype': 'numerical'}, '14897': {'sdtype': 'numerical'}, '14900': {'sdtype': 'numerical'}, '14903': {'sdtype': 'numerical'}, '14906': {'sdtype': 'numerical'}, '14909': {'sdtype': 'numerical'}, '14912': {'sdtype': 'numerical'}, '14915': {'sdtype': 'numerical'}, '14918': {'sdtype': 'numerical'}, '14921': {'sdtype': 'numerical'}, '14924': {'sdtype': 'numerical'}, '14927': {'sdtype': 'numerical'}, '14930': {'sdtype': 'numerical'}, '14933': {'sdtype': 'numerical'}, '14936': {'sdtype': 'numerical'}, '14939': {'sdtype': 'numerical'}, '14942': {'sdtype': 'numerical'}, '14945': {'sdtype': 'numerical'}, '14948': {'sdtype': 'numerical'}, '14951': {'sdtype': 'numerical'}, '14954': {'sdtype': 'numerical'}, '14957': {'sdtype': 'numerical'}, '14960': {'sdtype': 'numerical'}, '14963': {'sdtype': 'numerical'}, '14966': {'sdtype': 'numerical'}, '14969': {'sdtype': 'numerical'}, '14972': {'sdtype': 'numerical'}, '14975': {'sdtype': 'numerical'}, '14978': {'sdtype': 'numerical'}, '14981': {'sdtype': 'numerical'}, '14984': {'sdtype': 'numerical'}, '14987': {'sdtype': 'numerical'}, '14990': {'sdtype': 'numerical'}, '14993': {'sdtype': 'numerical'}, '14996': {'sdtype': 'numerical'}, '14999': {'sdtype': 'numerical'}, '15002': {'sdtype': 'numerical'}, '15005': {'sdtype': 'numerical'}, '15008': {'sdtype': 'numerical'}, '15011': {'sdtype': 'numerical'}, '15014': {'sdtype': 'numerical'}, '15017': {'sdtype': 'numerical'}, '15020': {'sdtype': 'numerical'}, '15023': {'sdtype': 'numerical'}, '15026': {'sdtype': 'numerical'}, '15029': {'sdtype': 'numerical'}, '15032': {'sdtype': 'numerical'}, '15035': {'sdtype': 'numerical'}, '15038': {'sdtype': 'numerical'}, '15041': {'sdtype': 'numerical'}, '15044': {'sdtype': 'numerical'}, '15047': {'sdtype': 'numerical'}, '15050': {'sdtype': 'numerical'}, '15053': {'sdtype': 'numerical'}, '15056': {'sdtype': 'numerical'}, '15059': {'sdtype': 'numerical'}, '15062': {'sdtype': 'numerical'}, '15065': {'sdtype': 'numerical'}, '15068': {'sdtype': 'numerical'}, '15071': {'sdtype': 'numerical'}, '15074': {'sdtype': 'numerical'}, '15077': {'sdtype': 'numerical'}, '15080': {'sdtype': 'numerical'}, '15083': {'sdtype': 'numerical'}, '15086': {'sdtype': 'numerical'}, '15089': {'sdtype': 'numerical'}, '15092': {'sdtype': 'numerical'}, '15095': {'sdtype': 'numerical'}, '15098': {'sdtype': 'numerical'}, '15101': {'sdtype': 'numerical'}, '15104': {'sdtype': 'numerical'}, '15107': {'sdtype': 'numerical'}, '15110': {'sdtype': 'numerical'}, '15113': {'sdtype': 'numerical'}, '15116': {'sdtype': 'numerical'}, '15119': {'sdtype': 'numerical'}, '15122': {'sdtype': 'numerical'}, '15125': {'sdtype': 'numerical'}, '15128': {'sdtype': 'numerical'}, '15131': {'sdtype': 'numerical'}, '15134': {'sdtype': 'numerical'}, '15137': {'sdtype': 'numerical'}, '15140': {'sdtype': 'numerical'}, '15143': {'sdtype': 'numerical'}, '15146': {'sdtype': 'numerical'}, '15149': {'sdtype': 'numerical'}, '15152': {'sdtype': 'numerical'}, '15155': {'sdtype': 'numerical'}, '15158': {'sdtype': 'numerical'}, '15161': {'sdtype': 'numerical'}, '15164': {'sdtype': 'numerical'}, '15167': {'sdtype': 'numerical'}, '15170': {'sdtype': 'numerical'}, '15173': {'sdtype': 'numerical'}, '15176': {'sdtype': 'numerical'}, '15179': {'sdtype': 'numerical'}, '15182': {'sdtype': 'numerical'}, '15185': {'sdtype': 'numerical'}, '15188': {'sdtype': 'numerical'}, '15191': {'sdtype': 'numerical'}, '15194': {'sdtype': 'numerical'}, '15197': {'sdtype': 'numerical'}, '15200': {'sdtype': 'numerical'}, '15203': {'sdtype': 'numerical'}, '15206': {'sdtype': 'numerical'}, '15209': {'sdtype': 'numerical'}, '15212': {'sdtype': 'numerical'}, '15215': {'sdtype': 'numerical'}, '15218': {'sdtype': 'numerical'}, '15221': {'sdtype': 'numerical'}, '15224': {'sdtype': 'numerical'}, '15227': {'sdtype': 'numerical'}, '15230': {'sdtype': 'numerical'}, '15233': {'sdtype': 'numerical'}, '15236': {'sdtype': 'numerical'}, '15239': {'sdtype': 'numerical'}, '15242': {'sdtype': 'numerical'}, '15245': {'sdtype': 'numerical'}, '15248': {'sdtype': 'numerical'}, '15251': {'sdtype': 'numerical'}, '15254': {'sdtype': 'numerical'}, '15257': {'sdtype': 'numerical'}, '15260': {'sdtype': 'numerical'}, '15263': {'sdtype': 'numerical'}, '15266': {'sdtype': 'numerical'}, '15269': {'sdtype': 'numerical'}, '15272': {'sdtype': 'numerical'}, '15275': {'sdtype': 'numerical'}, '15278': {'sdtype': 'numerical'}, '15281': {'sdtype': 'numerical'}, '15284': {'sdtype': 'numerical'}, '15287': {'sdtype': 'numerical'}, '15290': {'sdtype': 'numerical'}, '15293': {'sdtype': 'numerical'}, '15296': {'sdtype': 'numerical'}, '15299': {'sdtype': 'numerical'}, '15302': {'sdtype': 'numerical'}, '15305': {'sdtype': 'numerical'}, '15308': {'sdtype': 'numerical'}, '15311': {'sdtype': 'numerical'}, '15314': {'sdtype': 'numerical'}, '15317': {'sdtype': 'numerical'}, '15320': {'sdtype': 'numerical'}, '15323': {'sdtype': 'numerical'}, '15326': {'sdtype': 'numerical'}, '15329': {'sdtype': 'numerical'}, '15332': {'sdtype': 'numerical'}, '15335': {'sdtype': 'numerical'}, '15338': {'sdtype': 'numerical'}, '15341': {'sdtype': 'numerical'}, '15344': {'sdtype': 'numerical'}, '15347': {'sdtype': 'numerical'}, '15350': {'sdtype': 'numerical'}, '15353': {'sdtype': 'numerical'}, '15356': {'sdtype': 'numerical'}, '15359': {'sdtype': 'numerical'}, '15362': {'sdtype': 'numerical'}, '15365': {'sdtype': 'numerical'}, '15368': {'sdtype': 'numerical'}, '15371': {'sdtype': 'numerical'}, '15374': {'sdtype': 'numerical'}, '15377': {'sdtype': 'numerical'}, '15380': {'sdtype': 'numerical'}, '15383': {'sdtype': 'numerical'}, '15386': {'sdtype': 'numerical'}, '15389': {'sdtype': 'numerical'}, '15392': {'sdtype': 'numerical'}, '15395': {'sdtype': 'numerical'}, '15398': {'sdtype': 'numerical'}, '15401': {'sdtype': 'numerical'}, '15404': {'sdtype': 'numerical'}, '15407': {'sdtype': 'numerical'}, '15410': {'sdtype': 'numerical'}, '15413': {'sdtype': 'numerical'}, '15416': {'sdtype': 'numerical'}, '15419': {'sdtype': 'numerical'}, '15422': {'sdtype': 'numerical'}, '15425': {'sdtype': 'numerical'}, '15428': {'sdtype': 'numerical'}, '15431': {'sdtype': 'numerical'}, '15434': {'sdtype': 'numerical'}, '15437': {'sdtype': 'numerical'}, '15440': {'sdtype': 'numerical'}, '15443': {'sdtype': 'numerical'}, '15446': {'sdtype': 'numerical'}, '15449': {'sdtype': 'numerical'}, '15452': {'sdtype': 'numerical'}, '15455': {'sdtype': 'numerical'}, '15458': {'sdtype': 'numerical'}, '15461': {'sdtype': 'numerical'}, '15464': {'sdtype': 'numerical'}, '15467': {'sdtype': 'numerical'}, '15470': {'sdtype': 'numerical'}, '15473': {'sdtype': 'numerical'}, '15476': {'sdtype': 'numerical'}, '15479': {'sdtype': 'numerical'}, '15482': {'sdtype': 'numerical'}, '15485': {'sdtype': 'numerical'}, '15488': {'sdtype': 'numerical'}, '15491': {'sdtype': 'numerical'}, '15494': {'sdtype': 'numerical'}, '15497': {'sdtype': 'numerical'}, '15500': {'sdtype': 'numerical'}, '15503': {'sdtype': 'numerical'}, '15506': {'sdtype': 'numerical'}, '15509': {'sdtype': 'numerical'}, '15512': {'sdtype': 'numerical'}, '15515': {'sdtype': 'numerical'}, '15518': {'sdtype': 'numerical'}, '15521': {'sdtype': 'numerical'}, '15524': {'sdtype': 'numerical'}, '15527': {'sdtype': 'numerical'}, '15530': {'sdtype': 'numerical'}, '15533': {'sdtype': 'numerical'}, '15536': {'sdtype': 'numerical'}, '15539': {'sdtype': 'numerical'}, '15542': {'sdtype': 'numerical'}, '15545': {'sdtype': 'numerical'}, '15548': {'sdtype': 'numerical'}, '15551': {'sdtype': 'numerical'}, '15554': {'sdtype': 'numerical'}, '15557': {'sdtype': 'numerical'}, '15560': {'sdtype': 'numerical'}, '15563': {'sdtype': 'numerical'}, '15566': {'sdtype': 'numerical'}, '15569': {'sdtype': 'numerical'}, '15572': {'sdtype': 'numerical'}, '15575': {'sdtype': 'numerical'}, '15578': {'sdtype': 'numerical'}, '15581': {'sdtype': 'numerical'}, '15584': {'sdtype': 'numerical'}, '15587': {'sdtype': 'numerical'}, '15590': {'sdtype': 'numerical'}, '15593': {'sdtype': 'numerical'}, '15596': {'sdtype': 'numerical'}, '15599': {'sdtype': 'numerical'}, '15602': {'sdtype': 'numerical'}, '15605': {'sdtype': 'numerical'}, '15608': {'sdtype': 'numerical'}, '15611': {'sdtype': 'numerical'}, '15614': {'sdtype': 'numerical'}, '15617': {'sdtype': 'numerical'}, '15620': {'sdtype': 'numerical'}, '15623': {'sdtype': 'numerical'}, '15626': {'sdtype': 'numerical'}, '15629': {'sdtype': 'numerical'}, '15632': {'sdtype': 'numerical'}, '15635': {'sdtype': 'numerical'}, '15638': {'sdtype': 'numerical'}, '15641': {'sdtype': 'numerical'}, '15644': {'sdtype': 'numerical'}, '15647': {'sdtype': 'numerical'}, '15650': {'sdtype': 'numerical'}, '15653': {'sdtype': 'numerical'}, '15656': {'sdtype': 'numerical'}, '15659': {'sdtype': 'numerical'}, '15662': {'sdtype': 'numerical'}, '15665': {'sdtype': 'numerical'}, '15668': {'sdtype': 'numerical'}, '15671': {'sdtype': 'numerical'}, '15674': {'sdtype': 'numerical'}, '15677': {'sdtype': 'numerical'}, '15680': {'sdtype': 'numerical'}, '15683': {'sdtype': 'numerical'}, '15686': {'sdtype': 'numerical'}, '15689': {'sdtype': 'numerical'}, '15692': {'sdtype': 'numerical'}, '15695': {'sdtype': 'numerical'}, '15698': {'sdtype': 'numerical'}, '15701': {'sdtype': 'numerical'}, '15704': {'sdtype': 'numerical'}, '15707': {'sdtype': 'numerical'}, '15710': {'sdtype': 'numerical'}, '15713': {'sdtype': 'numerical'}, '15716': {'sdtype': 'numerical'}, '15719': {'sdtype': 'numerical'}, '15722': {'sdtype': 'numerical'}, '15725': {'sdtype': 'numerical'}, '15728': {'sdtype': 'numerical'}, '15731': {'sdtype': 'numerical'}, '15734': {'sdtype': 'numerical'}, '15737': {'sdtype': 'numerical'}, '15740': {'sdtype': 'numerical'}, '15743': {'sdtype': 'numerical'}, '15746': {'sdtype': 'numerical'}, '15749': {'sdtype': 'numerical'}, '15752': {'sdtype': 'numerical'}, '15755': {'sdtype': 'numerical'}, '15758': {'sdtype': 'numerical'}, '15761': {'sdtype': 'numerical'}, '15764': {'sdtype': 'numerical'}, '15767': {'sdtype': 'numerical'}, '15770': {'sdtype': 'numerical'}, '15773': {'sdtype': 'numerical'}, '15776': {'sdtype': 'numerical'}, '15779': {'sdtype': 'numerical'}, '15782': {'sdtype': 'numerical'}, '15785': {'sdtype': 'numerical'}, '15788': {'sdtype': 'numerical'}, '15791': {'sdtype': 'numerical'}, '15794': {'sdtype': 'numerical'}, '15797': {'sdtype': 'numerical'}, '15800': {'sdtype': 'numerical'}, '15803': {'sdtype': 'numerical'}, '15806': {'sdtype': 'numerical'}, '15809': {'sdtype': 'numerical'}, '15812': {'sdtype': 'numerical'}, '15815': {'sdtype': 'numerical'}, '15818': {'sdtype': 'numerical'}, '15821': {'sdtype': 'numerical'}, '15824': {'sdtype': 'numerical'}, '15827': {'sdtype': 'numerical'}, '15830': {'sdtype': 'numerical'}, '15833': {'sdtype': 'numerical'}, '15836': {'sdtype': 'numerical'}, '15839': {'sdtype': 'numerical'}, '15842': {'sdtype': 'numerical'}, '15845': {'sdtype': 'numerical'}, '15848': {'sdtype': 'numerical'}, '15851': {'sdtype': 'numerical'}, '15854': {'sdtype': 'numerical'}, '15857': {'sdtype': 'numerical'}, '15860': {'sdtype': 'numerical'}, '15863': {'sdtype': 'numerical'}, '15866': {'sdtype': 'numerical'}, '15869': {'sdtype': 'numerical'}, '15872': {'sdtype': 'numerical'}, '15875': {'sdtype': 'numerical'}, '15878': {'sdtype': 'numerical'}, '15881': {'sdtype': 'numerical'}, '15884': {'sdtype': 'numerical'}, '15887': {'sdtype': 'numerical'}, '15890': {'sdtype': 'numerical'}, '15893': {'sdtype': 'numerical'}, '15896': {'sdtype': 'numerical'}, '15899': {'sdtype': 'numerical'}, '15902': {'sdtype': 'numerical'}, '15905': {'sdtype': 'numerical'}, '15908': {'sdtype': 'numerical'}, '15911': {'sdtype': 'numerical'}, '15914': {'sdtype': 'numerical'}, '15917': {'sdtype': 'numerical'}, '15920': {'sdtype': 'numerical'}, '15923': {'sdtype': 'numerical'}, '15926': {'sdtype': 'numerical'}, '15929': {'sdtype': 'numerical'}, '15932': {'sdtype': 'numerical'}, '15935': {'sdtype': 'numerical'}, '15938': {'sdtype': 'numerical'}, '15941': {'sdtype': 'numerical'}, '15944': {'sdtype': 'numerical'}, '15947': {'sdtype': 'numerical'}, '15950': {'sdtype': 'numerical'}, '15953': {'sdtype': 'numerical'}, '15956': {'sdtype': 'numerical'}, '15959': {'sdtype': 'numerical'}, '15962': {'sdtype': 'numerical'}, '15965': {'sdtype': 'numerical'}, '15968': {'sdtype': 'numerical'}, '15971': {'sdtype': 'numerical'}, '15974': {'sdtype': 'numerical'}, '15977': {'sdtype': 'numerical'}, '15980': {'sdtype': 'numerical'}, '15983': {'sdtype': 'numerical'}, '15986': {'sdtype': 'numerical'}, '15989': {'sdtype': 'numerical'}, '15992': {'sdtype': 'numerical'}, '15995': {'sdtype': 'numerical'}, '15998': {'sdtype': 'numerical'}, '16001': {'sdtype': 'numerical'}, '16004': {'sdtype': 'numerical'}, '16007': {'sdtype': 'numerical'}, '16010': {'sdtype': 'numerical'}, '16013': {'sdtype': 'numerical'}, '16016': {'sdtype': 'numerical'}, '16019': {'sdtype': 'numerical'}, '16022': {'sdtype': 'numerical'}, '16025': {'sdtype': 'numerical'}, '16028': {'sdtype': 'numerical'}, '16031': {'sdtype': 'numerical'}, '16034': {'sdtype': 'numerical'}, '16037': {'sdtype': 'numerical'}, '16040': {'sdtype': 'numerical'}, '16043': {'sdtype': 'numerical'}, '16046': {'sdtype': 'numerical'}, '16049': {'sdtype': 'numerical'}, '16052': {'sdtype': 'numerical'}, '16055': {'sdtype': 'numerical'}, '16058': {'sdtype': 'numerical'}, '16061': {'sdtype': 'numerical'}, '16064': {'sdtype': 'numerical'}, '16067': {'sdtype': 'numerical'}, '16070': {'sdtype': 'numerical'}, '16073': {'sdtype': 'numerical'}, '16076': {'sdtype': 'numerical'}, '16079': {'sdtype': 'numerical'}, '16082': {'sdtype': 'numerical'}, '16085': {'sdtype': 'numerical'}, '16088': {'sdtype': 'numerical'}, '16091': {'sdtype': 'numerical'}, '16094': {'sdtype': 'numerical'}, '16097': {'sdtype': 'numerical'}, '16100': {'sdtype': 'numerical'}, '16103': {'sdtype': 'numerical'}, '16106': {'sdtype': 'numerical'}, '16109': {'sdtype': 'numerical'}, '16112': {'sdtype': 'numerical'}, '16115': {'sdtype': 'numerical'}, '16118': {'sdtype': 'numerical'}, '16121': {'sdtype': 'numerical'}, '16124': {'sdtype': 'numerical'}, '16127': {'sdtype': 'numerical'}, '16130': {'sdtype': 'numerical'}, '16133': {'sdtype': 'numerical'}, '16136': {'sdtype': 'numerical'}, '16139': {'sdtype': 'numerical'}, '16142': {'sdtype': 'numerical'}, '16145': {'sdtype': 'numerical'}, '16148': {'sdtype': 'numerical'}, '16151': {'sdtype': 'numerical'}, '16154': {'sdtype': 'numerical'}, '16157': {'sdtype': 'numerical'}, '16160': {'sdtype': 'numerical'}, '16163': {'sdtype': 'numerical'}, '16166': {'sdtype': 'numerical'}, '16169': {'sdtype': 'numerical'}, '16172': {'sdtype': 'numerical'}, '16175': {'sdtype': 'numerical'}, '16178': {'sdtype': 'numerical'}, '16181': {'sdtype': 'numerical'}, '16184': {'sdtype': 'numerical'}, '16187': {'sdtype': 'numerical'}, '16190': {'sdtype': 'numerical'}, '16193': {'sdtype': 'numerical'}, '16196': {'sdtype': 'numerical'}, '16199': {'sdtype': 'numerical'}, '16202': {'sdtype': 'numerical'}, '16205': {'sdtype': 'numerical'}, '16208': {'sdtype': 'numerical'}, '16211': {'sdtype': 'numerical'}, '16214': {'sdtype': 'numerical'}, '16217': {'sdtype': 'numerical'}, '16220': {'sdtype': 'numerical'}, '16223': {'sdtype': 'numerical'}, '16226': {'sdtype': 'numerical'}, '16229': {'sdtype': 'numerical'}, '16232': {'sdtype': 'numerical'}, '16235': {'sdtype': 'numerical'}, '16238': {'sdtype': 'numerical'}, '16241': {'sdtype': 'numerical'}, '16244': {'sdtype': 'numerical'}, '16247': {'sdtype': 'numerical'}, '16250': {'sdtype': 'numerical'}, '16253': {'sdtype': 'numerical'}, '16256': {'sdtype': 'numerical'}, '16259': {'sdtype': 'numerical'}, '16262': {'sdtype': 'numerical'}, '16265': {'sdtype': 'numerical'}, '16268': {'sdtype': 'numerical'}, '16271': {'sdtype': 'numerical'}, '16274': {'sdtype': 'numerical'}, '16277': {'sdtype': 'numerical'}, '16280': {'sdtype': 'numerical'}, '16283': {'sdtype': 'numerical'}, '16286': {'sdtype': 'numerical'}, '16289': {'sdtype': 'numerical'}, '16292': {'sdtype': 'numerical'}, '16295': {'sdtype': 'numerical'}, '16298': {'sdtype': 'numerical'}, '16301': {'sdtype': 'numerical'}, '16304': {'sdtype': 'numerical'}, '16307': {'sdtype': 'numerical'}, '16310': {'sdtype': 'numerical'}, '16313': {'sdtype': 'numerical'}, '16316': {'sdtype': 'numerical'}, '16319': {'sdtype': 'numerical'}, '16322': {'sdtype': 'numerical'}, '16325': {'sdtype': 'numerical'}, '16328': {'sdtype': 'numerical'}, '16331': {'sdtype': 'numerical'}, '16334': {'sdtype': 'numerical'}, '16337': {'sdtype': 'numerical'}, '16340': {'sdtype': 'numerical'}, '16343': {'sdtype': 'numerical'}, '16346': {'sdtype': 'numerical'}, '16349': {'sdtype': 'numerical'}, '16352': {'sdtype': 'numerical'}, '16355': {'sdtype': 'numerical'}, '16358': {'sdtype': 'numerical'}, '16361': {'sdtype': 'numerical'}, '16364': {'sdtype': 'numerical'}, '16367': {'sdtype': 'numerical'}, '16370': {'sdtype': 'numerical'}, '16373': {'sdtype': 'numerical'}, '16376': {'sdtype': 'numerical'}, '16379': {'sdtype': 'numerical'}, '16382': {'sdtype': 'numerical'}, '16385': {'sdtype': 'numerical'}, '16388': {'sdtype': 'numerical'}, '16391': {'sdtype': 'numerical'}, '16394': {'sdtype': 'numerical'}, '16397': {'sdtype': 'numerical'}, '16400': {'sdtype': 'numerical'}, '16403': {'sdtype': 'numerical'}, '16406': {'sdtype': 'numerical'}, '16409': {'sdtype': 'numerical'}, '16412': {'sdtype': 'numerical'}, '16415': {'sdtype': 'numerical'}, '16418': {'sdtype': 'numerical'}, '16421': {'sdtype': 'numerical'}, '16424': {'sdtype': 'numerical'}, '16427': {'sdtype': 'numerical'}, '16430': {'sdtype': 'numerical'}, '16433': {'sdtype': 'numerical'}, '16436': {'sdtype': 'numerical'}, '16439': {'sdtype': 'numerical'}, '16442': {'sdtype': 'numerical'}, '16445': {'sdtype': 'numerical'}, '16448': {'sdtype': 'numerical'}, '16451': {'sdtype': 'numerical'}, '16454': {'sdtype': 'numerical'}, '16457': {'sdtype': 'numerical'}, '16460': {'sdtype': 'numerical'}, '16463': {'sdtype': 'numerical'}, '16466': {'sdtype': 'numerical'}, '16469': {'sdtype': 'numerical'}, '16472': {'sdtype': 'numerical'}, '16475': {'sdtype': 'numerical'}, '16478': {'sdtype': 'numerical'}, '16481': {'sdtype': 'numerical'}, '16484': {'sdtype': 'numerical'}, '16487': {'sdtype': 'numerical'}, '16490': {'sdtype': 'numerical'}, '16493': {'sdtype': 'numerical'}, '16496': {'sdtype': 'numerical'}, '16499': {'sdtype': 'numerical'}, '16502': {'sdtype': 'numerical'}, '16505': {'sdtype': 'numerical'}, '16508': {'sdtype': 'numerical'}, '16511': {'sdtype': 'numerical'}, '16514': {'sdtype': 'numerical'}, '16517': {'sdtype': 'numerical'}, '16520': {'sdtype': 'numerical'}, '16523': {'sdtype': 'numerical'}, '16526': {'sdtype': 'numerical'}, '16529': {'sdtype': 'numerical'}, '16532': {'sdtype': 'numerical'}, '16535': {'sdtype': 'numerical'}, '16538': {'sdtype': 'numerical'}, '16541': {'sdtype': 'numerical'}, '16544': {'sdtype': 'numerical'}, '16547': {'sdtype': 'numerical'}, '16550': {'sdtype': 'numerical'}, '16553': {'sdtype': 'numerical'}, '16556': {'sdtype': 'numerical'}, '16559': {'sdtype': 'numerical'}, '16562': {'sdtype': 'numerical'}, '16565': {'sdtype': 'numerical'}, '16568': {'sdtype': 'numerical'}, '16571': {'sdtype': 'numerical'}, '16574': {'sdtype': 'numerical'}, '16577': {'sdtype': 'numerical'}, '16580': {'sdtype': 'numerical'}, '16583': {'sdtype': 'numerical'}, '16586': {'sdtype': 'numerical'}, '16589': {'sdtype': 'numerical'}, '16592': {'sdtype': 'numerical'}, '16595': {'sdtype': 'numerical'}, '16598': {'sdtype': 'numerical'}, '16601': {'sdtype': 'numerical'}, '16604': {'sdtype': 'numerical'}, '16607': {'sdtype': 'numerical'}, '16610': {'sdtype': 'numerical'}, '16613': {'sdtype': 'numerical'}, '16616': {'sdtype': 'numerical'}, '16619': {'sdtype': 'numerical'}, '16622': {'sdtype': 'numerical'}, '16625': {'sdtype': 'numerical'}, '16628': {'sdtype': 'numerical'}, '16631': {'sdtype': 'numerical'}, '16634': {'sdtype': 'numerical'}, '16637': {'sdtype': 'numerical'}, '16640': {'sdtype': 'numerical'}, '16643': {'sdtype': 'numerical'}, '16646': {'sdtype': 'numerical'}, '16649': {'sdtype': 'numerical'}, '16652': {'sdtype': 'numerical'}, '16655': {'sdtype': 'numerical'}, '16658': {'sdtype': 'numerical'}, '16661': {'sdtype': 'numerical'}, '16664': {'sdtype': 'numerical'}, '16667': {'sdtype': 'numerical'}, '16670': {'sdtype': 'numerical'}, '16673': {'sdtype': 'numerical'}, '16676': {'sdtype': 'numerical'}, '16679': {'sdtype': 'numerical'}, '16682': {'sdtype': 'numerical'}, '16685': {'sdtype': 'numerical'}, '16688': {'sdtype': 'numerical'}, '16691': {'sdtype': 'numerical'}, '16694': {'sdtype': 'numerical'}, '16697': {'sdtype': 'numerical'}, '16700': {'sdtype': 'numerical'}, '16703': {'sdtype': 'numerical'}, '16706': {'sdtype': 'numerical'}, '16709': {'sdtype': 'numerical'}, '16712': {'sdtype': 'numerical'}, '16715': {'sdtype': 'numerical'}, '16718': {'sdtype': 'numerical'}, '16721': {'sdtype': 'numerical'}, '16724': {'sdtype': 'numerical'}, '16727': {'sdtype': 'numerical'}, '16730': {'sdtype': 'numerical'}, '16733': {'sdtype': 'numerical'}, '16736': {'sdtype': 'numerical'}, '16739': {'sdtype': 'numerical'}, '16742': {'sdtype': 'numerical'}, '16745': {'sdtype': 'numerical'}, '16748': {'sdtype': 'numerical'}, '16751': {'sdtype': 'numerical'}, '16754': {'sdtype': 'numerical'}, '16757': {'sdtype': 'numerical'}, '16760': {'sdtype': 'numerical'}, '16763': {'sdtype': 'numerical'}, '16766': {'sdtype': 'numerical'}, '16769': {'sdtype': 'numerical'}, '16772': {'sdtype': 'numerical'}, '16775': {'sdtype': 'numerical'}, '16778': {'sdtype': 'numerical'}, '16781': {'sdtype': 'numerical'}, '16784': {'sdtype': 'numerical'}, '16787': {'sdtype': 'numerical'}, '16790': {'sdtype': 'numerical'}, '16793': {'sdtype': 'numerical'}, '16796': {'sdtype': 'numerical'}, '16799': {'sdtype': 'numerical'}, '16802': {'sdtype': 'numerical'}, '16805': {'sdtype': 'numerical'}, '16808': {'sdtype': 'numerical'}, '16811': {'sdtype': 'numerical'}, '16814': {'sdtype': 'numerical'}, '16817': {'sdtype': 'numerical'}, '16820': {'sdtype': 'numerical'}, '16823': {'sdtype': 'numerical'}, '16826': {'sdtype': 'numerical'}, '16829': {'sdtype': 'numerical'}, '16832': {'sdtype': 'numerical'}, '16835': {'sdtype': 'numerical'}, '16838': {'sdtype': 'numerical'}, '16841': {'sdtype': 'numerical'}, '16844': {'sdtype': 'numerical'}, '16847': {'sdtype': 'numerical'}, '16850': {'sdtype': 'numerical'}, '16853': {'sdtype': 'numerical'}, '16856': {'sdtype': 'numerical'}, '16859': {'sdtype': 'numerical'}, '16862': {'sdtype': 'numerical'}, '16865': {'sdtype': 'numerical'}, '16868': {'sdtype': 'numerical'}, '16871': {'sdtype': 'numerical'}, '16874': {'sdtype': 'numerical'}, '16877': {'sdtype': 'numerical'}, '16880': {'sdtype': 'numerical'}, '16883': {'sdtype': 'numerical'}, '16886': {'sdtype': 'numerical'}, '16889': {'sdtype': 'numerical'}, '16892': {'sdtype': 'numerical'}, '16895': {'sdtype': 'numerical'}, '16898': {'sdtype': 'numerical'}, '16901': {'sdtype': 'numerical'}, '16904': {'sdtype': 'numerical'}, '16907': {'sdtype': 'numerical'}, '16910': {'sdtype': 'numerical'}, '16913': {'sdtype': 'numerical'}, '16916': {'sdtype': 'numerical'}, '16919': {'sdtype': 'numerical'}, '16922': {'sdtype': 'numerical'}, '16925': {'sdtype': 'numerical'}, '16928': {'sdtype': 'numerical'}, '16931': {'sdtype': 'numerical'}, '16934': {'sdtype': 'numerical'}, '16937': {'sdtype': 'numerical'}, '16940': {'sdtype': 'numerical'}, '16943': {'sdtype': 'numerical'}, '16946': {'sdtype': 'numerical'}, '16949': {'sdtype': 'numerical'}, '16952': {'sdtype': 'numerical'}, '16955': {'sdtype': 'numerical'}, '16958': {'sdtype': 'numerical'}, '16961': {'sdtype': 'numerical'}, '16964': {'sdtype': 'numerical'}, '16967': {'sdtype': 'numerical'}, '16970': {'sdtype': 'numerical'}, '16973': {'sdtype': 'numerical'}, '16976': {'sdtype': 'numerical'}, '16979': {'sdtype': 'numerical'}, '16982': {'sdtype': 'numerical'}, '16985': {'sdtype': 'numerical'}, '16988': {'sdtype': 'numerical'}, '16991': {'sdtype': 'numerical'}, '16994': {'sdtype': 'numerical'}, '16997': {'sdtype': 'numerical'}, '17000': {'sdtype': 'numerical'}, '17003': {'sdtype': 'numerical'}, '17006': {'sdtype': 'numerical'}, '17009': {'sdtype': 'numerical'}, '17012': {'sdtype': 'numerical'}, '17015': {'sdtype': 'numerical'}, '17018': {'sdtype': 'numerical'}, '17021': {'sdtype': 'numerical'}, '17024': {'sdtype': 'numerical'}, '17027': {'sdtype': 'numerical'}, '17030': {'sdtype': 'numerical'}, '17033': {'sdtype': 'numerical'}, '17036': {'sdtype': 'numerical'}, '17039': {'sdtype': 'numerical'}, '17042': {'sdtype': 'numerical'}, '17045': {'sdtype': 'numerical'}, '17048': {'sdtype': 'numerical'}, '17051': {'sdtype': 'numerical'}, '17054': {'sdtype': 'numerical'}, '17057': {'sdtype': 'numerical'}, '17060': {'sdtype': 'numerical'}, '17063': {'sdtype': 'numerical'}, '17066': {'sdtype': 'numerical'}, '17069': {'sdtype': 'numerical'}, '17072': {'sdtype': 'numerical'}, '17075': {'sdtype': 'numerical'}, '17078': {'sdtype': 'numerical'}, '17081': {'sdtype': 'numerical'}, '17084': {'sdtype': 'numerical'}, '17087': {'sdtype': 'numerical'}, '17090': {'sdtype': 'numerical'}, '17093': {'sdtype': 'numerical'}, '17096': {'sdtype': 'numerical'}, '17099': {'sdtype': 'numerical'}, '17102': {'sdtype': 'numerical'}, '17105': {'sdtype': 'numerical'}, '17108': {'sdtype': 'numerical'}, '17111': {'sdtype': 'numerical'}, '17114': {'sdtype': 'numerical'}, '17117': {'sdtype': 'numerical'}, '17120': {'sdtype': 'numerical'}, '17123': {'sdtype': 'numerical'}, '17126': {'sdtype': 'numerical'}, '17129': {'sdtype': 'numerical'}, '17132': {'sdtype': 'numerical'}, '17135': {'sdtype': 'numerical'}, '17138': {'sdtype': 'numerical'}, '17141': {'sdtype': 'numerical'}, '17144': {'sdtype': 'numerical'}, '17147': {'sdtype': 'numerical'}, '17150': {'sdtype': 'numerical'}, '17153': {'sdtype': 'numerical'}, '17156': {'sdtype': 'numerical'}, '17159': {'sdtype': 'numerical'}, '17162': {'sdtype': 'numerical'}, '17165': {'sdtype': 'numerical'}, '17168': {'sdtype': 'numerical'}, '17171': {'sdtype': 'numerical'}, '17174': {'sdtype': 'numerical'}, '17177': {'sdtype': 'numerical'}, '17180': {'sdtype': 'numerical'}, '17183': {'sdtype': 'numerical'}, '17186': {'sdtype': 'numerical'}, '17189': {'sdtype': 'numerical'}, '17192': {'sdtype': 'numerical'}, '17195': {'sdtype': 'numerical'}, '17198': {'sdtype': 'numerical'}, '17201': {'sdtype': 'numerical'}, '17204': {'sdtype': 'numerical'}, '17207': {'sdtype': 'numerical'}, '17210': {'sdtype': 'numerical'}, '17213': {'sdtype': 'numerical'}, '17216': {'sdtype': 'numerical'}, '17219': {'sdtype': 'numerical'}, '17222': {'sdtype': 'numerical'}, '17225': {'sdtype': 'numerical'}, '17228': {'sdtype': 'numerical'}, '17231': {'sdtype': 'numerical'}, '17234': {'sdtype': 'numerical'}, '17237': {'sdtype': 'numerical'}, '17240': {'sdtype': 'numerical'}, '17243': {'sdtype': 'numerical'}, '17246': {'sdtype': 'numerical'}, '17249': {'sdtype': 'numerical'}, '17252': {'sdtype': 'numerical'}, '17255': {'sdtype': 'numerical'}, '17258': {'sdtype': 'numerical'}, '17261': {'sdtype': 'numerical'}, '17264': {'sdtype': 'numerical'}, '17267': {'sdtype': 'numerical'}, '17270': {'sdtype': 'numerical'}, '17273': {'sdtype': 'numerical'}, '17276': {'sdtype': 'numerical'}, '17279': {'sdtype': 'numerical'}, '17282': {'sdtype': 'numerical'}, '17285': {'sdtype': 'numerical'}, '17288': {'sdtype': 'numerical'}, '17291': {'sdtype': 'numerical'}, '17294': {'sdtype': 'numerical'}, '17297': {'sdtype': 'numerical'}, '17300': {'sdtype': 'numerical'}, '17303': {'sdtype': 'numerical'}, '17306': {'sdtype': 'numerical'}, '17309': {'sdtype': 'numerical'}, '17312': {'sdtype': 'numerical'}, '17315': {'sdtype': 'numerical'}, '17318': {'sdtype': 'numerical'}, '17321': {'sdtype': 'numerical'}, '17324': {'sdtype': 'numerical'}, '17327': {'sdtype': 'numerical'}, '17330': {'sdtype': 'numerical'}, '17333': {'sdtype': 'numerical'}, '17336': {'sdtype': 'numerical'}, '17339': {'sdtype': 'numerical'}, '17342': {'sdtype': 'numerical'}, '17345': {'sdtype': 'numerical'}, '17348': {'sdtype': 'numerical'}, '17351': {'sdtype': 'numerical'}, '17354': {'sdtype': 'numerical'}, '17357': {'sdtype': 'numerical'}, '17360': {'sdtype': 'numerical'}, '17363': {'sdtype': 'numerical'}, '17366': {'sdtype': 'numerical'}, '17369': {'sdtype': 'numerical'}, '17372': {'sdtype': 'numerical'}, '17375': {'sdtype': 'numerical'}, '17378': {'sdtype': 'numerical'}, '17381': {'sdtype': 'numerical'}, '17384': {'sdtype': 'numerical'}, '17387': {'sdtype': 'numerical'}, '17390': {'sdtype': 'numerical'}, '17393': {'sdtype': 'numerical'}, '17396': {'sdtype': 'numerical'}, '17399': {'sdtype': 'numerical'}, '17402': {'sdtype': 'numerical'}, '17405': {'sdtype': 'numerical'}, '17408': {'sdtype': 'numerical'}, '17411': {'sdtype': 'numerical'}, '17414': {'sdtype': 'numerical'}, '17417': {'sdtype': 'numerical'}, '17420': {'sdtype': 'numerical'}, '17423': {'sdtype': 'numerical'}, '17426': {'sdtype': 'numerical'}, '17429': {'sdtype': 'numerical'}, '17432': {'sdtype': 'numerical'}, '17435': {'sdtype': 'numerical'}, '17438': {'sdtype': 'numerical'}, '17441': {'sdtype': 'numerical'}, '17444': {'sdtype': 'numerical'}, '17447': {'sdtype': 'numerical'}, '17450': {'sdtype': 'numerical'}, '17453': {'sdtype': 'numerical'}, '17456': {'sdtype': 'numerical'}, '17459': {'sdtype': 'numerical'}, '17462': {'sdtype': 'numerical'}, '17465': {'sdtype': 'numerical'}, '17468': {'sdtype': 'numerical'}, '17471': {'sdtype': 'numerical'}, '17474': {'sdtype': 'numerical'}, '17477': {'sdtype': 'numerical'}, '17480': {'sdtype': 'numerical'}, '17483': {'sdtype': 'numerical'}, '17486': {'sdtype': 'numerical'}, '17489': {'sdtype': 'numerical'}, '17492': {'sdtype': 'numerical'}, '17495': {'sdtype': 'numerical'}, '17498': {'sdtype': 'numerical'}, '17501': {'sdtype': 'numerical'}, '17504': {'sdtype': 'numerical'}, '17507': {'sdtype': 'numerical'}, '17510': {'sdtype': 'numerical'}, '17513': {'sdtype': 'numerical'}, '17516': {'sdtype': 'numerical'}, '17519': {'sdtype': 'numerical'}, '17522': {'sdtype': 'numerical'}, '17525': {'sdtype': 'numerical'}, '17528': {'sdtype': 'numerical'}, '17531': {'sdtype': 'numerical'}, '17534': {'sdtype': 'numerical'}, '17537': {'sdtype': 'numerical'}, '17540': {'sdtype': 'numerical'}, '17543': {'sdtype': 'numerical'}, '17546': {'sdtype': 'numerical'}, '17549': {'sdtype': 'numerical'}, '17552': {'sdtype': 'numerical'}, '17555': {'sdtype': 'numerical'}, '17558': {'sdtype': 'numerical'}, '17561': {'sdtype': 'numerical'}, '17564': {'sdtype': 'numerical'}, '17567': {'sdtype': 'numerical'}, '17570': {'sdtype': 'numerical'}, '17573': {'sdtype': 'numerical'}, '17576': {'sdtype': 'numerical'}, '17579': {'sdtype': 'numerical'}, '17582': {'sdtype': 'numerical'}, '17585': {'sdtype': 'numerical'}, '17588': {'sdtype': 'numerical'}, '17591': {'sdtype': 'numerical'}, '17594': {'sdtype': 'numerical'}, '17597': {'sdtype': 'numerical'}, '17600': {'sdtype': 'numerical'}, '17603': {'sdtype': 'numerical'}, '17606': {'sdtype': 'numerical'}, '17609': {'sdtype': 'numerical'}, '17612': {'sdtype': 'numerical'}, '17615': {'sdtype': 'numerical'}, '17618': {'sdtype': 'numerical'}, '17621': {'sdtype': 'numerical'}, '17624': {'sdtype': 'numerical'}, '17627': {'sdtype': 'numerical'}, '17630': {'sdtype': 'numerical'}, '17633': {'sdtype': 'numerical'}, '17636': {'sdtype': 'numerical'}, '17639': {'sdtype': 'numerical'}, '17642': {'sdtype': 'numerical'}, '17645': {'sdtype': 'numerical'}, '17648': {'sdtype': 'numerical'}, '17651': {'sdtype': 'numerical'}, '17654': {'sdtype': 'numerical'}, '17657': {'sdtype': 'numerical'}, '17660': {'sdtype': 'numerical'}, '17663': {'sdtype': 'numerical'}, '17666': {'sdtype': 'numerical'}, '17669': {'sdtype': 'numerical'}, '17672': {'sdtype': 'numerical'}, '17675': {'sdtype': 'numerical'}, '17678': {'sdtype': 'numerical'}, '17681': {'sdtype': 'numerical'}, '17684': {'sdtype': 'numerical'}, '17687': {'sdtype': 'numerical'}, '17690': {'sdtype': 'numerical'}, '17693': {'sdtype': 'numerical'}, '17696': {'sdtype': 'numerical'}, '17699': {'sdtype': 'numerical'}, '17702': {'sdtype': 'numerical'}, '17705': {'sdtype': 'numerical'}, '17708': {'sdtype': 'numerical'}, '17711': {'sdtype': 'numerical'}, '17714': {'sdtype': 'numerical'}, '17717': {'sdtype': 'numerical'}, '17720': {'sdtype': 'numerical'}, '17723': {'sdtype': 'numerical'}, '17726': {'sdtype': 'numerical'}, '17729': {'sdtype': 'numerical'}, '17732': {'sdtype': 'numerical'}, '17735': {'sdtype': 'numerical'}, '17738': {'sdtype': 'numerical'}, '17741': {'sdtype': 'numerical'}, '17744': {'sdtype': 'numerical'}, '17747': {'sdtype': 'numerical'}, '17750': {'sdtype': 'numerical'}, '17753': {'sdtype': 'numerical'}, '17756': {'sdtype': 'numerical'}, '17759': {'sdtype': 'numerical'}, '17762': {'sdtype': 'numerical'}, '17765': {'sdtype': 'numerical'}, '17768': {'sdtype': 'numerical'}, '17771': {'sdtype': 'numerical'}, '17774': {'sdtype': 'numerical'}, '17777': {'sdtype': 'numerical'}, '17780': {'sdtype': 'numerical'}, '17783': {'sdtype': 'numerical'}, '17786': {'sdtype': 'numerical'}, '17789': {'sdtype': 'numerical'}, '17792': {'sdtype': 'numerical'}, '17795': {'sdtype': 'numerical'}, '17798': {'sdtype': 'numerical'}, '17801': {'sdtype': 'numerical'}, '17804': {'sdtype': 'numerical'}, '17807': {'sdtype': 'numerical'}, '17810': {'sdtype': 'numerical'}, '17813': {'sdtype': 'numerical'}, '17816': {'sdtype': 'numerical'}, '17819': {'sdtype': 'numerical'}, '17822': {'sdtype': 'numerical'}, '17825': {'sdtype': 'numerical'}, '17828': {'sdtype': 'numerical'}, '17831': {'sdtype': 'numerical'}, '17834': {'sdtype': 'numerical'}, '17837': {'sdtype': 'numerical'}, '17840': {'sdtype': 'numerical'}, '17843': {'sdtype': 'numerical'}, '17846': {'sdtype': 'numerical'}, '17849': {'sdtype': 'numerical'}, '17852': {'sdtype': 'numerical'}, '17855': {'sdtype': 'numerical'}, '17858': {'sdtype': 'numerical'}, '17861': {'sdtype': 'numerical'}, '17864': {'sdtype': 'numerical'}, '17867': {'sdtype': 'numerical'}, '17870': {'sdtype': 'numerical'}, '17873': {'sdtype': 'numerical'}, '17876': {'sdtype': 'numerical'}, '17879': {'sdtype': 'numerical'}, '17882': {'sdtype': 'numerical'}, '17885': {'sdtype': 'numerical'}, '17888': {'sdtype': 'numerical'}, '17891': {'sdtype': 'numerical'}, '17894': {'sdtype': 'numerical'}, '17897': {'sdtype': 'numerical'}, '17900': {'sdtype': 'numerical'}, '17903': {'sdtype': 'numerical'}, '17906': {'sdtype': 'numerical'}, '17909': {'sdtype': 'numerical'}, '17912': {'sdtype': 'numerical'}, '17915': {'sdtype': 'numerical'}, '17918': {'sdtype': 'numerical'}, '17921': {'sdtype': 'numerical'}, '17924': {'sdtype': 'numerical'}, '17927': {'sdtype': 'numerical'}, '17930': {'sdtype': 'numerical'}, '17933': {'sdtype': 'numerical'}, '17936': {'sdtype': 'numerical'}, '17939': {'sdtype': 'numerical'}, '17942': {'sdtype': 'numerical'}, '17945': {'sdtype': 'numerical'}, '17948': {'sdtype': 'numerical'}, '17951': {'sdtype': 'numerical'}, '17954': {'sdtype': 'numerical'}, '17957': {'sdtype': 'numerical'}, '17960': {'sdtype': 'numerical'}, '17963': {'sdtype': 'numerical'}, '17966': {'sdtype': 'numerical'}, '17969': {'sdtype': 'numerical'}, '17972': {'sdtype': 'numerical'}, '17975': {'sdtype': 'numerical'}, '17978': {'sdtype': 'numerical'}, '17981': {'sdtype': 'numerical'}, '17984': {'sdtype': 'numerical'}, '17987': {'sdtype': 'numerical'}, '17990': {'sdtype': 'numerical'}, '17993': {'sdtype': 'numerical'}, '17996': {'sdtype': 'numerical'}, '17999': {'sdtype': 'numerical'}, '18002': {'sdtype': 'numerical'}, '18005': {'sdtype': 'numerical'}, '18008': {'sdtype': 'numerical'}, '18011': {'sdtype': 'numerical'}, '18014': {'sdtype': 'numerical'}, '18017': {'sdtype': 'numerical'}, '18020': {'sdtype': 'numerical'}, '18023': {'sdtype': 'numerical'}, '18026': {'sdtype': 'numerical'}, '18029': {'sdtype': 'numerical'}, '18032': {'sdtype': 'numerical'}, '18035': {'sdtype': 'numerical'}, '18038': {'sdtype': 'numerical'}, '18041': {'sdtype': 'numerical'}, '18044': {'sdtype': 'numerical'}, '18047': {'sdtype': 'numerical'}, '18050': {'sdtype': 'numerical'}, '18053': {'sdtype': 'numerical'}, '18056': {'sdtype': 'numerical'}, '18059': {'sdtype': 'numerical'}, '18062': {'sdtype': 'numerical'}, '18065': {'sdtype': 'numerical'}, '18068': {'sdtype': 'numerical'}, '18071': {'sdtype': 'numerical'}, '18074': {'sdtype': 'numerical'}, '18077': {'sdtype': 'numerical'}, '18080': {'sdtype': 'numerical'}, '18083': {'sdtype': 'numerical'}, '18086': {'sdtype': 'numerical'}, '18089': {'sdtype': 'numerical'}, '18092': {'sdtype': 'numerical'}, '18095': {'sdtype': 'numerical'}, '18098': {'sdtype': 'numerical'}, '18101': {'sdtype': 'numerical'}, '18104': {'sdtype': 'numerical'}, '18107': {'sdtype': 'numerical'}, '18110': {'sdtype': 'numerical'}, '18113': {'sdtype': 'numerical'}, '18116': {'sdtype': 'numerical'}, '18119': {'sdtype': 'numerical'}, '18122': {'sdtype': 'numerical'}, '18125': {'sdtype': 'numerical'}, '18128': {'sdtype': 'numerical'}, '18131': {'sdtype': 'numerical'}, '18134': {'sdtype': 'numerical'}, '18137': {'sdtype': 'numerical'}, '18140': {'sdtype': 'numerical'}, '18143': {'sdtype': 'numerical'}, '18146': {'sdtype': 'numerical'}, '18149': {'sdtype': 'numerical'}, '18152': {'sdtype': 'numerical'}, '18155': {'sdtype': 'numerical'}, '18158': {'sdtype': 'numerical'}, '18161': {'sdtype': 'numerical'}, '18164': {'sdtype': 'numerical'}, '18167': {'sdtype': 'numerical'}, '18170': {'sdtype': 'numerical'}, '18173': {'sdtype': 'numerical'}, '18176': {'sdtype': 'numerical'}, '18179': {'sdtype': 'numerical'}, '18182': {'sdtype': 'numerical'}, '18185': {'sdtype': 'numerical'}, '18188': {'sdtype': 'numerical'}, '18191': {'sdtype': 'numerical'}, '18194': {'sdtype': 'numerical'}, '18197': {'sdtype': 'numerical'}, '18200': {'sdtype': 'numerical'}, '18203': {'sdtype': 'numerical'}, '18206': {'sdtype': 'numerical'}, '18209': {'sdtype': 'numerical'}, '18212': {'sdtype': 'numerical'}, '18215': {'sdtype': 'numerical'}, '18218': {'sdtype': 'numerical'}, '18221': {'sdtype': 'numerical'}, '18224': {'sdtype': 'numerical'}, '18227': {'sdtype': 'numerical'}, '18230': {'sdtype': 'numerical'}, '18233': {'sdtype': 'numerical'}, '18236': {'sdtype': 'numerical'}, '18239': {'sdtype': 'numerical'}, '18242': {'sdtype': 'numerical'}, '18245': {'sdtype': 'numerical'}, '18248': {'sdtype': 'numerical'}, '18251': {'sdtype': 'numerical'}, '18254': {'sdtype': 'numerical'}, '18257': {'sdtype': 'numerical'}, '18260': {'sdtype': 'numerical'}, '18263': {'sdtype': 'numerical'}, '18266': {'sdtype': 'numerical'}, '18269': {'sdtype': 'numerical'}, '18272': {'sdtype': 'numerical'}, '18275': {'sdtype': 'numerical'}, '18278': {'sdtype': 'numerical'}, '18281': {'sdtype': 'numerical'}, '18284': {'sdtype': 'numerical'}, '18287': {'sdtype': 'numerical'}, '18290': {'sdtype': 'numerical'}, '18293': {'sdtype': 'numerical'}, '18296': {'sdtype': 'numerical'}, '18299': {'sdtype': 'numerical'}, '18302': {'sdtype': 'numerical'}, '18305': {'sdtype': 'numerical'}, '18308': {'sdtype': 'numerical'}, '18311': {'sdtype': 'numerical'}, '18314': {'sdtype': 'numerical'}, '18317': {'sdtype': 'numerical'}, '18320': {'sdtype': 'numerical'}, '18323': {'sdtype': 'numerical'}, '18326': {'sdtype': 'numerical'}, '18329': {'sdtype': 'numerical'}, '18332': {'sdtype': 'numerical'}, '18335': {'sdtype': 'numerical'}, '18338': {'sdtype': 'numerical'}, '18341': {'sdtype': 'numerical'}, '18344': {'sdtype': 'numerical'}, '18347': {'sdtype': 'numerical'}, '18350': {'sdtype': 'numerical'}, '18353': {'sdtype': 'numerical'}, '18356': {'sdtype': 'numerical'}, '18359': {'sdtype': 'numerical'}, '18362': {'sdtype': 'numerical'}, '18365': {'sdtype': 'numerical'}, '18368': {'sdtype': 'numerical'}, '18371': {'sdtype': 'numerical'}, '18374': {'sdtype': 'numerical'}, '18377': {'sdtype': 'numerical'}, '18380': {'sdtype': 'numerical'}, '18383': {'sdtype': 'numerical'}, '18386': {'sdtype': 'numerical'}, '18389': {'sdtype': 'numerical'}, '18392': {'sdtype': 'numerical'}, '18395': {'sdtype': 'numerical'}, '18398': {'sdtype': 'numerical'}, '18401': {'sdtype': 'numerical'}, '18404': {'sdtype': 'numerical'}, '18407': {'sdtype': 'numerical'}, '18410': {'sdtype': 'numerical'}, '18413': {'sdtype': 'numerical'}, '18416': {'sdtype': 'numerical'}, '18419': {'sdtype': 'numerical'}, '18422': {'sdtype': 'numerical'}, '18425': {'sdtype': 'numerical'}, '18428': {'sdtype': 'numerical'}, '18431': {'sdtype': 'numerical'}, '18434': {'sdtype': 'numerical'}, '18437': {'sdtype': 'numerical'}, '18440': {'sdtype': 'numerical'}, '18443': {'sdtype': 'numerical'}, '18446': {'sdtype': 'numerical'}, '18449': {'sdtype': 'numerical'}, '18452': {'sdtype': 'numerical'}, '18455': {'sdtype': 'numerical'}, '18458': {'sdtype': 'numerical'}, '18461': {'sdtype': 'numerical'}, '18464': {'sdtype': 'numerical'}, '18467': {'sdtype': 'numerical'}, '18470': {'sdtype': 'numerical'}, '18473': {'sdtype': 'numerical'}, '18476': {'sdtype': 'numerical'}, '18479': {'sdtype': 'numerical'}, '18482': {'sdtype': 'numerical'}, '18485': {'sdtype': 'numerical'}, '18488': {'sdtype': 'numerical'}, '18491': {'sdtype': 'numerical'}, '18494': {'sdtype': 'numerical'}, '18497': {'sdtype': 'numerical'}, '18500': {'sdtype': 'numerical'}, '18503': {'sdtype': 'numerical'}, '18506': {'sdtype': 'numerical'}, '18509': {'sdtype': 'numerical'}, '18512': {'sdtype': 'numerical'}, '18515': {'sdtype': 'numerical'}, '18518': {'sdtype': 'numerical'}, '18521': {'sdtype': 'numerical'}, '18524': {'sdtype': 'numerical'}, '18527': {'sdtype': 'numerical'}, '18530': {'sdtype': 'numerical'}, '18533': {'sdtype': 'numerical'}, '18536': {'sdtype': 'numerical'}, '18539': {'sdtype': 'numerical'}, '18542': {'sdtype': 'numerical'}, '18545': {'sdtype': 'numerical'}, '18548': {'sdtype': 'numerical'}, '18551': {'sdtype': 'numerical'}, '18554': {'sdtype': 'numerical'}, '18557': {'sdtype': 'numerical'}, '18560': {'sdtype': 'numerical'}, '18563': {'sdtype': 'numerical'}, '18566': {'sdtype': 'numerical'}, '18569': {'sdtype': 'numerical'}, '18572': {'sdtype': 'numerical'}, '18575': {'sdtype': 'numerical'}, '18578': {'sdtype': 'numerical'}, '18581': {'sdtype': 'numerical'}, '18584': {'sdtype': 'numerical'}, '18587': {'sdtype': 'numerical'}, '18590': {'sdtype': 'numerical'}, '18593': {'sdtype': 'numerical'}, '18596': {'sdtype': 'numerical'}, '18599': {'sdtype': 'numerical'}, '18602': {'sdtype': 'numerical'}, '18605': {'sdtype': 'numerical'}, '18608': {'sdtype': 'numerical'}, '18611': {'sdtype': 'numerical'}, '18614': {'sdtype': 'numerical'}, '18617': {'sdtype': 'numerical'}, '18620': {'sdtype': 'numerical'}, '18623': {'sdtype': 'numerical'}, '18626': {'sdtype': 'numerical'}, '18629': {'sdtype': 'numerical'}, '18632': {'sdtype': 'numerical'}, '18635': {'sdtype': 'numerical'}, '18638': {'sdtype': 'numerical'}, '18641': {'sdtype': 'numerical'}, '18644': {'sdtype': 'numerical'}, '18647': {'sdtype': 'numerical'}, '18650': {'sdtype': 'numerical'}, '18653': {'sdtype': 'numerical'}, '18656': {'sdtype': 'numerical'}, '18659': {'sdtype': 'numerical'}, '18662': {'sdtype': 'numerical'}, '18665': {'sdtype': 'numerical'}, '18668': {'sdtype': 'numerical'}, '18671': {'sdtype': 'numerical'}, '18674': {'sdtype': 'numerical'}, '18677': {'sdtype': 'numerical'}, '18680': {'sdtype': 'numerical'}, '18683': {'sdtype': 'numerical'}, '18686': {'sdtype': 'numerical'}, '18689': {'sdtype': 'numerical'}, '18692': {'sdtype': 'numerical'}, '18695': {'sdtype': 'numerical'}, '18698': {'sdtype': 'numerical'}, '18701': {'sdtype': 'numerical'}, '18704': {'sdtype': 'numerical'}, '18707': {'sdtype': 'numerical'}, '18710': {'sdtype': 'numerical'}, '18713': {'sdtype': 'numerical'}, '18716': {'sdtype': 'numerical'}, '18719': {'sdtype': 'numerical'}, '18722': {'sdtype': 'numerical'}, '18725': {'sdtype': 'numerical'}, '18728': {'sdtype': 'numerical'}, '18731': {'sdtype': 'numerical'}, '18734': {'sdtype': 'numerical'}, '18737': {'sdtype': 'numerical'}, '18740': {'sdtype': 'numerical'}, '18743': {'sdtype': 'numerical'}, '18746': {'sdtype': 'numerical'}, '18749': {'sdtype': 'numerical'}, '18752': {'sdtype': 'numerical'}, '18755': {'sdtype': 'numerical'}, '18758': {'sdtype': 'numerical'}, '18761': {'sdtype': 'numerical'}, '18764': {'sdtype': 'numerical'}, '18767': {'sdtype': 'numerical'}, '18770': {'sdtype': 'numerical'}, '18773': {'sdtype': 'numerical'}, '18776': {'sdtype': 'numerical'}, '18779': {'sdtype': 'numerical'}, '18782': {'sdtype': 'numerical'}, '18785': {'sdtype': 'numerical'}, '18788': {'sdtype': 'numerical'}, '18791': {'sdtype': 'numerical'}, '18794': {'sdtype': 'numerical'}, '18797': {'sdtype': 'numerical'}, '18800': {'sdtype': 'numerical'}, '18803': {'sdtype': 'numerical'}, '18806': {'sdtype': 'numerical'}, '18809': {'sdtype': 'numerical'}, '18812': {'sdtype': 'numerical'}, '18815': {'sdtype': 'numerical'}, '18818': {'sdtype': 'numerical'}, '18821': {'sdtype': 'numerical'}, '18824': {'sdtype': 'numerical'}, '18827': {'sdtype': 'numerical'}, '18830': {'sdtype': 'numerical'}, '18833': {'sdtype': 'numerical'}, '18836': {'sdtype': 'numerical'}, '18839': {'sdtype': 'numerical'}, '18842': {'sdtype': 'numerical'}, '18845': {'sdtype': 'numerical'}, '18848': {'sdtype': 'numerical'}, '18851': {'sdtype': 'numerical'}, '18854': {'sdtype': 'numerical'}, '18857': {'sdtype': 'numerical'}, '18860': {'sdtype': 'numerical'}, '18863': {'sdtype': 'numerical'}, '18866': {'sdtype': 'numerical'}, '18869': {'sdtype': 'numerical'}, '18872': {'sdtype': 'numerical'}, '18875': {'sdtype': 'numerical'}, '18878': {'sdtype': 'numerical'}, '18881': {'sdtype': 'numerical'}, '18884': {'sdtype': 'numerical'}, '18887': {'sdtype': 'numerical'}, '18890': {'sdtype': 'numerical'}, '18893': {'sdtype': 'numerical'}, '18896': {'sdtype': 'numerical'}, '18899': {'sdtype': 'numerical'}, '18902': {'sdtype': 'numerical'}, '18905': {'sdtype': 'numerical'}, '18908': {'sdtype': 'numerical'}, '18911': {'sdtype': 'numerical'}, '18914': {'sdtype': 'numerical'}, '18917': {'sdtype': 'numerical'}, '18920': {'sdtype': 'numerical'}, '18923': {'sdtype': 'numerical'}, '18926': {'sdtype': 'numerical'}, '18929': {'sdtype': 'numerical'}, '18932': {'sdtype': 'numerical'}, '18935': {'sdtype': 'numerical'}, '18938': {'sdtype': 'numerical'}, '18941': {'sdtype': 'numerical'}, '18944': {'sdtype': 'numerical'}, '18947': {'sdtype': 'numerical'}, '18950': {'sdtype': 'numerical'}, '18953': {'sdtype': 'numerical'}, '18956': {'sdtype': 'numerical'}, '18959': {'sdtype': 'numerical'}, '18962': {'sdtype': 'numerical'}, '18965': {'sdtype': 'numerical'}, '18968': {'sdtype': 'numerical'}, '18971': {'sdtype': 'numerical'}, '18974': {'sdtype': 'numerical'}, '18977': {'sdtype': 'numerical'}, '18980': {'sdtype': 'numerical'}, '18983': {'sdtype': 'numerical'}, '18986': {'sdtype': 'numerical'}, '18989': {'sdtype': 'numerical'}, '18992': {'sdtype': 'numerical'}, '18995': {'sdtype': 'numerical'}, '18998': {'sdtype': 'numerical'}, '19001': {'sdtype': 'numerical'}, '19004': {'sdtype': 'numerical'}, '19007': {'sdtype': 'numerical'}, '19010': {'sdtype': 'numerical'}, '19013': {'sdtype': 'numerical'}, '19016': {'sdtype': 'numerical'}, '19019': {'sdtype': 'numerical'}, '19022': {'sdtype': 'numerical'}, '19025': {'sdtype': 'numerical'}, '19028': {'sdtype': 'numerical'}, '19031': {'sdtype': 'numerical'}, '19034': {'sdtype': 'numerical'}, '19037': {'sdtype': 'numerical'}, '19040': {'sdtype': 'numerical'}, '19043': {'sdtype': 'numerical'}, '19046': {'sdtype': 'numerical'}, '19049': {'sdtype': 'numerical'}, '19052': {'sdtype': 'numerical'}, '19055': {'sdtype': 'numerical'}, '19058': {'sdtype': 'numerical'}, '19061': {'sdtype': 'numerical'}, '19064': {'sdtype': 'numerical'}, '19067': {'sdtype': 'numerical'}, '19070': {'sdtype': 'numerical'}, '19073': {'sdtype': 'numerical'}, '19076': {'sdtype': 'numerical'}, '19079': {'sdtype': 'numerical'}, '19082': {'sdtype': 'numerical'}, '19085': {'sdtype': 'numerical'}, '19088': {'sdtype': 'numerical'}, '19091': {'sdtype': 'numerical'}, '19094': {'sdtype': 'numerical'}, '19097': {'sdtype': 'numerical'}, '19100': {'sdtype': 'numerical'}, '19103': {'sdtype': 'numerical'}, '19106': {'sdtype': 'numerical'}, '19109': {'sdtype': 'numerical'}, '19112': {'sdtype': 'numerical'}, '19115': {'sdtype': 'numerical'}, '19118': {'sdtype': 'numerical'}, '19121': {'sdtype': 'numerical'}, '19124': {'sdtype': 'numerical'}, '19127': {'sdtype': 'numerical'}, '19130': {'sdtype': 'numerical'}, '19133': {'sdtype': 'numerical'}, '19136': {'sdtype': 'numerical'}, '19139': {'sdtype': 'numerical'}, '19142': {'sdtype': 'numerical'}, '19145': {'sdtype': 'numerical'}, '19148': {'sdtype': 'numerical'}, '19151': {'sdtype': 'numerical'}, '19154': {'sdtype': 'numerical'}, '19157': {'sdtype': 'numerical'}, '19160': {'sdtype': 'numerical'}, '19163': {'sdtype': 'numerical'}, '19166': {'sdtype': 'numerical'}, '19169': {'sdtype': 'numerical'}, '19172': {'sdtype': 'numerical'}, '19175': {'sdtype': 'numerical'}, '19178': {'sdtype': 'numerical'}, '19181': {'sdtype': 'numerical'}, '19184': {'sdtype': 'numerical'}, '19187': {'sdtype': 'numerical'}, '19190': {'sdtype': 'numerical'}, '19193': {'sdtype': 'numerical'}, '19196': {'sdtype': 'numerical'}, '19199': {'sdtype': 'numerical'}, '19202': {'sdtype': 'numerical'}, '19205': {'sdtype': 'numerical'}, '19208': {'sdtype': 'numerical'}, '19211': {'sdtype': 'numerical'}, '19214': {'sdtype': 'numerical'}, '19217': {'sdtype': 'numerical'}, '19220': {'sdtype': 'numerical'}, '19223': {'sdtype': 'numerical'}, '19226': {'sdtype': 'numerical'}, '19229': {'sdtype': 'numerical'}, '19232': {'sdtype': 'numerical'}, '19235': {'sdtype': 'numerical'}, '19238': {'sdtype': 'numerical'}, '19241': {'sdtype': 'numerical'}, '19244': {'sdtype': 'numerical'}, '19247': {'sdtype': 'numerical'}, '19250': {'sdtype': 'numerical'}, '19253': {'sdtype': 'numerical'}, '19256': {'sdtype': 'numerical'}, '19259': {'sdtype': 'numerical'}, '19262': {'sdtype': 'numerical'}, '19265': {'sdtype': 'numerical'}, '19268': {'sdtype': 'numerical'}, '19271': {'sdtype': 'numerical'}, '19274': {'sdtype': 'numerical'}, '19277': {'sdtype': 'numerical'}, '19280': {'sdtype': 'numerical'}, '19283': {'sdtype': 'numerical'}, '19286': {'sdtype': 'numerical'}, '19289': {'sdtype': 'numerical'}, '19292': {'sdtype': 'numerical'}, '19295': {'sdtype': 'numerical'}, '19298': {'sdtype': 'numerical'}, '19301': {'sdtype': 'numerical'}, '19304': {'sdtype': 'numerical'}, '19307': {'sdtype': 'numerical'}, '19310': {'sdtype': 'numerical'}, '19313': {'sdtype': 'numerical'}, '19316': {'sdtype': 'numerical'}, '19319': {'sdtype': 'numerical'}, '19322': {'sdtype': 'numerical'}, '19325': {'sdtype': 'numerical'}, '19328': {'sdtype': 'numerical'}, '19331': {'sdtype': 'numerical'}, '19334': {'sdtype': 'numerical'}, '19337': {'sdtype': 'numerical'}, '19340': {'sdtype': 'numerical'}, '19343': {'sdtype': 'numerical'}, '19346': {'sdtype': 'numerical'}, '19349': {'sdtype': 'numerical'}, '19352': {'sdtype': 'numerical'}, '19355': {'sdtype': 'numerical'}, '19358': {'sdtype': 'numerical'}, '19361': {'sdtype': 'numerical'}, '19364': {'sdtype': 'numerical'}, '19367': {'sdtype': 'numerical'}, '19370': {'sdtype': 'numerical'}, '19373': {'sdtype': 'numerical'}, '19376': {'sdtype': 'numerical'}, '19379': {'sdtype': 'numerical'}, '19382': {'sdtype': 'numerical'}, '19385': {'sdtype': 'numerical'}, '19388': {'sdtype': 'numerical'}, '19391': {'sdtype': 'numerical'}, '19394': {'sdtype': 'numerical'}, '19397': {'sdtype': 'numerical'}, '19400': {'sdtype': 'numerical'}, '19403': {'sdtype': 'numerical'}, '19406': {'sdtype': 'numerical'}, '19409': {'sdtype': 'numerical'}, '19412': {'sdtype': 'numerical'}, '19415': {'sdtype': 'numerical'}, '19418': {'sdtype': 'numerical'}, '19421': {'sdtype': 'numerical'}, '19424': {'sdtype': 'numerical'}, '19427': {'sdtype': 'numerical'}, '19430': {'sdtype': 'numerical'}, '19433': {'sdtype': 'numerical'}, '19436': {'sdtype': 'numerical'}, '19439': {'sdtype': 'numerical'}, '19442': {'sdtype': 'numerical'}, '19445': {'sdtype': 'numerical'}, '19448': {'sdtype': 'numerical'}, '19451': {'sdtype': 'numerical'}, '19454': {'sdtype': 'numerical'}, '19457': {'sdtype': 'numerical'}, '19460': {'sdtype': 'numerical'}, '19463': {'sdtype': 'numerical'}, '19466': {'sdtype': 'numerical'}, '19469': {'sdtype': 'numerical'}, '19472': {'sdtype': 'numerical'}, '19475': {'sdtype': 'numerical'}, '19478': {'sdtype': 'numerical'}, '19481': {'sdtype': 'numerical'}, '19484': {'sdtype': 'numerical'}, '19487': {'sdtype': 'numerical'}, '19490': {'sdtype': 'numerical'}, '19493': {'sdtype': 'numerical'}, '19496': {'sdtype': 'numerical'}, '19499': {'sdtype': 'numerical'}, '19502': {'sdtype': 'numerical'}, '19505': {'sdtype': 'numerical'}, '19508': {'sdtype': 'numerical'}, '19511': {'sdtype': 'numerical'}, '19514': {'sdtype': 'numerical'}, '19517': {'sdtype': 'numerical'}, '19520': {'sdtype': 'numerical'}, '19523': {'sdtype': 'numerical'}, '19526': {'sdtype': 'numerical'}, '19529': {'sdtype': 'numerical'}, '19532': {'sdtype': 'numerical'}, '19535': {'sdtype': 'numerical'}, '19538': {'sdtype': 'numerical'}, '19541': {'sdtype': 'numerical'}, '19544': {'sdtype': 'numerical'}, '19547': {'sdtype': 'numerical'}, '19550': {'sdtype': 'numerical'}, '19553': {'sdtype': 'numerical'}, '19556': {'sdtype': 'numerical'}, '19559': {'sdtype': 'numerical'}, '19562': {'sdtype': 'numerical'}, '19565': {'sdtype': 'numerical'}, '19568': {'sdtype': 'numerical'}, '19571': {'sdtype': 'numerical'}, '19574': {'sdtype': 'numerical'}, '19577': {'sdtype': 'numerical'}, '19580': {'sdtype': 'numerical'}, '19583': {'sdtype': 'numerical'}, '19586': {'sdtype': 'numerical'}, '19589': {'sdtype': 'numerical'}, '19592': {'sdtype': 'numerical'}, '19595': {'sdtype': 'numerical'}, '19598': {'sdtype': 'numerical'}, '19601': {'sdtype': 'numerical'}, '19604': {'sdtype': 'numerical'}, '19607': {'sdtype': 'numerical'}, '19610': {'sdtype': 'numerical'}, '19613': {'sdtype': 'numerical'}, '19616': {'sdtype': 'numerical'}, '19619': {'sdtype': 'numerical'}, '19622': {'sdtype': 'numerical'}, '19625': {'sdtype': 'numerical'}, '19628': {'sdtype': 'numerical'}, '19631': {'sdtype': 'numerical'}, '19634': {'sdtype': 'numerical'}, '19637': {'sdtype': 'numerical'}, '19640': {'sdtype': 'numerical'}, '19643': {'sdtype': 'numerical'}, '19646': {'sdtype': 'numerical'}, '19649': {'sdtype': 'numerical'}, '19652': {'sdtype': 'numerical'}, '19655': {'sdtype': 'numerical'}, '19658': {'sdtype': 'numerical'}, '19661': {'sdtype': 'numerical'}, '19664': {'sdtype': 'numerical'}, '19667': {'sdtype': 'numerical'}, '19670': {'sdtype': 'numerical'}, '19673': {'sdtype': 'numerical'}, '19676': {'sdtype': 'numerical'}, '19679': {'sdtype': 'numerical'}, '19682': {'sdtype': 'numerical'}, '19685': {'sdtype': 'numerical'}, '19688': {'sdtype': 'numerical'}, '19691': {'sdtype': 'numerical'}, '19694': {'sdtype': 'numerical'}, '19697': {'sdtype': 'numerical'}, '19700': {'sdtype': 'numerical'}, '19703': {'sdtype': 'numerical'}, '19706': {'sdtype': 'numerical'}, '19709': {'sdtype': 'numerical'}, '19712': {'sdtype': 'numerical'}, '19715': {'sdtype': 'numerical'}, '19718': {'sdtype': 'numerical'}, '19721': {'sdtype': 'numerical'}, '19724': {'sdtype': 'numerical'}, '19727': {'sdtype': 'numerical'}, '19730': {'sdtype': 'numerical'}, '19733': {'sdtype': 'numerical'}, '19736': {'sdtype': 'numerical'}, '19739': {'sdtype': 'numerical'}, '19742': {'sdtype': 'numerical'}, '19745': {'sdtype': 'numerical'}, '19748': {'sdtype': 'numerical'}, '19751': {'sdtype': 'numerical'}, '19754': {'sdtype': 'numerical'}, '19757': {'sdtype': 'numerical'}, '19760': {'sdtype': 'numerical'}, '19763': {'sdtype': 'numerical'}, '19766': {'sdtype': 'numerical'}, '19769': {'sdtype': 'numerical'}, '19772': {'sdtype': 'numerical'}, '19775': {'sdtype': 'numerical'}, '19778': {'sdtype': 'numerical'}, '19781': {'sdtype': 'numerical'}, '19784': {'sdtype': 'numerical'}, '19787': {'sdtype': 'numerical'}, '19790': {'sdtype': 'numerical'}, '19793': {'sdtype': 'numerical'}, '19796': {'sdtype': 'numerical'}, '19799': {'sdtype': 'numerical'}, '19802': {'sdtype': 'numerical'}, '19805': {'sdtype': 'numerical'}, '19808': {'sdtype': 'numerical'}, '19811': {'sdtype': 'numerical'}, '19814': {'sdtype': 'numerical'}, '19817': {'sdtype': 'numerical'}, '19820': {'sdtype': 'numerical'}, '19823': {'sdtype': 'numerical'}, '19826': {'sdtype': 'numerical'}, '19829': {'sdtype': 'numerical'}, '19832': {'sdtype': 'numerical'}, '19835': {'sdtype': 'numerical'}, '19838': {'sdtype': 'numerical'}, '19841': {'sdtype': 'numerical'}, '19844': {'sdtype': 'numerical'}, '19847': {'sdtype': 'numerical'}, '19850': {'sdtype': 'numerical'}, '19853': {'sdtype': 'numerical'}, '19856': {'sdtype': 'numerical'}, '19859': {'sdtype': 'numerical'}, '19862': {'sdtype': 'numerical'}, '19865': {'sdtype': 'numerical'}, '19868': {'sdtype': 'numerical'}, '19871': {'sdtype': 'numerical'}, '19874': {'sdtype': 'numerical'}, '19877': {'sdtype': 'numerical'}, '19880': {'sdtype': 'numerical'}, '19883': {'sdtype': 'numerical'}, '19886': {'sdtype': 'numerical'}, '19889': {'sdtype': 'numerical'}, '19892': {'sdtype': 'numerical'}, '19895': {'sdtype': 'numerical'}, '19898': {'sdtype': 'numerical'}, '19901': {'sdtype': 'numerical'}, '19904': {'sdtype': 'numerical'}, '19907': {'sdtype': 'numerical'}, '19910': {'sdtype': 'numerical'}, '19913': {'sdtype': 'numerical'}, '19916': {'sdtype': 'numerical'}, '19919': {'sdtype': 'numerical'}, '19922': {'sdtype': 'numerical'}, '19925': {'sdtype': 'numerical'}, '19928': {'sdtype': 'numerical'}, '19931': {'sdtype': 'numerical'}, '19934': {'sdtype': 'numerical'}, '19937': {'sdtype': 'numerical'}, '19940': {'sdtype': 'numerical'}, '19943': {'sdtype': 'numerical'}, '19946': {'sdtype': 'numerical'}, '19949': {'sdtype': 'numerical'}, '19952': {'sdtype': 'numerical'}, '19955': {'sdtype': 'numerical'}, '19958': {'sdtype': 'numerical'}, '19961': {'sdtype': 'numerical'}, '19964': {'sdtype': 'numerical'}, '19967': {'sdtype': 'numerical'}, '19970': {'sdtype': 'numerical'}, '19973': {'sdtype': 'numerical'}, '19976': {'sdtype': 'numerical'}, '19979': {'sdtype': 'numerical'}, '19982': {'sdtype': 'numerical'}, '19985': {'sdtype': 'numerical'}, '19988': {'sdtype': 'numerical'}, '19991': {'sdtype': 'numerical'}, '19994': {'sdtype': 'numerical'}, '19997': {'sdtype': 'numerical'}}, 'METADATA_SPEC_VERSION': 'SINGLE_TABLE_V1'}\n"
          ]
        }
      ],
      "source": [
        "from sdv.metadata import SingleTableMetadata\n",
        "\n",
        "# Crear un objeto Metadata para el dataset\n",
        "metadata = SingleTableMetadata()\n",
        "\n",
        "# Detectar automáticamente los tipos de datos del DataFrame\n",
        "metadata.detect_from_dataframe(minority_class)\n",
        "\n",
        "# Visualizar el metadata generado\n",
        "print(metadata.to_dict())"
      ]
    },
    {
      "cell_type": "code",
      "execution_count": 24,
      "metadata": {
        "colab": {
          "base_uri": "https://localhost:8080/"
        },
        "id": "3MZfu4Ru4ERz",
        "outputId": "71e0e655-595e-44cd-f0bc-4c762c4b1fcf"
      },
      "outputs": [
        {
          "output_type": "stream",
          "name": "stderr",
          "text": [
            "/usr/local/lib/python3.10/dist-packages/sdv/single_table/base.py:119: FutureWarning: The 'SingleTableMetadata' is deprecated. Please use the new 'Metadata' class for synthesizers.\n",
            "  warnings.warn(DEPRECATION_MSG, FutureWarning)\n",
            "/usr/local/lib/python3.10/dist-packages/sdv/single_table/base.py:104: UserWarning: We strongly recommend saving the metadata using 'save_to_json' for replicability in future SDV versions.\n",
            "  warnings.warn(\n"
          ]
        }
      ],
      "source": [
        "from sdv.single_table import GaussianCopulaSynthesizer\n",
        "\n",
        "synthesizer = GaussianCopulaSynthesizer(metadata)"
      ]
    },
    {
      "cell_type": "code",
      "execution_count": 25,
      "metadata": {
        "id": "zIA9xAlN4ERz"
      },
      "outputs": [],
      "source": [
        "synthesizer.fit(\n",
        "    data=minority_class\n",
        ")\n",
        "\n",
        "\n"
      ]
    },
    {
      "cell_type": "code",
      "execution_count": 26,
      "metadata": {
        "id": "yb9ITKhn4ERz"
      },
      "outputs": [],
      "source": [
        "\n",
        "# Guardar el modelo\n",
        "synthesizer.save('./modeloCopula.h5')\n"
      ]
    },
    {
      "cell_type": "code",
      "execution_count": 27,
      "metadata": {
        "id": "BaaprcOJ4ERz"
      },
      "outputs": [],
      "source": [
        "import os"
      ]
    },
    {
      "cell_type": "code",
      "execution_count": 28,
      "metadata": {
        "colab": {
          "base_uri": "https://localhost:8080/"
        },
        "id": "u73frzZr4ER0",
        "outputId": "c2568547-8975-4427-9f7e-a71252cf4ced"
      },
      "outputs": [
        {
          "output_type": "execute_result",
          "data": {
            "text/plain": [
              "0"
            ]
          },
          "metadata": {},
          "execution_count": 28
        }
      ],
      "source": [
        "os.system('ls')"
      ]
    },
    {
      "cell_type": "code",
      "execution_count": 29,
      "metadata": {
        "colab": {
          "base_uri": "https://localhost:8080/",
          "height": 426
        },
        "id": "DG7zv5HC4ER0",
        "outputId": "53c95d3d-9ab6-41a5-9e16-e2b859c229af"
      },
      "outputs": [
        {
          "output_type": "error",
          "ename": "OSError",
          "evalue": "Unable to synchronously open file (file signature not found)",
          "traceback": [
            "\u001b[0;31m---------------------------------------------------------------------------\u001b[0m",
            "\u001b[0;31mOSError\u001b[0m                                   Traceback (most recent call last)",
            "\u001b[0;32m<ipython-input-29-3852dc895d77>\u001b[0m in \u001b[0;36m<cell line: 4>\u001b[0;34m()\u001b[0m\n\u001b[1;32m      2\u001b[0m \u001b[0;34m\u001b[0m\u001b[0m\n\u001b[1;32m      3\u001b[0m \u001b[0;31m# Cargar el modelo\u001b[0m\u001b[0;34m\u001b[0m\u001b[0;34m\u001b[0m\u001b[0m\n\u001b[0;32m----> 4\u001b[0;31m \u001b[0msynthesizer\u001b[0m \u001b[0;34m=\u001b[0m \u001b[0mload_model\u001b[0m\u001b[0;34m(\u001b[0m\u001b[0;34m'/content/modeloCopula.h5'\u001b[0m\u001b[0;34m)\u001b[0m\u001b[0;34m\u001b[0m\u001b[0;34m\u001b[0m\u001b[0m\n\u001b[0m",
            "\u001b[0;32m/usr/local/lib/python3.10/dist-packages/keras/src/saving/saving_api.py\u001b[0m in \u001b[0;36mload_model\u001b[0;34m(filepath, custom_objects, compile, safe_mode)\u001b[0m\n\u001b[1;32m    192\u001b[0m         )\n\u001b[1;32m    193\u001b[0m     \u001b[0;32mif\u001b[0m \u001b[0mstr\u001b[0m\u001b[0;34m(\u001b[0m\u001b[0mfilepath\u001b[0m\u001b[0;34m)\u001b[0m\u001b[0;34m.\u001b[0m\u001b[0mendswith\u001b[0m\u001b[0;34m(\u001b[0m\u001b[0;34m(\u001b[0m\u001b[0;34m\".h5\"\u001b[0m\u001b[0;34m,\u001b[0m \u001b[0;34m\".hdf5\"\u001b[0m\u001b[0;34m)\u001b[0m\u001b[0;34m)\u001b[0m\u001b[0;34m:\u001b[0m\u001b[0;34m\u001b[0m\u001b[0;34m\u001b[0m\u001b[0m\n\u001b[0;32m--> 194\u001b[0;31m         return legacy_h5_format.load_model_from_hdf5(\n\u001b[0m\u001b[1;32m    195\u001b[0m             \u001b[0mfilepath\u001b[0m\u001b[0;34m,\u001b[0m \u001b[0mcustom_objects\u001b[0m\u001b[0;34m=\u001b[0m\u001b[0mcustom_objects\u001b[0m\u001b[0;34m,\u001b[0m \u001b[0mcompile\u001b[0m\u001b[0;34m=\u001b[0m\u001b[0mcompile\u001b[0m\u001b[0;34m\u001b[0m\u001b[0;34m\u001b[0m\u001b[0m\n\u001b[1;32m    196\u001b[0m         )\n",
            "\u001b[0;32m/usr/local/lib/python3.10/dist-packages/keras/src/legacy/saving/legacy_h5_format.py\u001b[0m in \u001b[0;36mload_model_from_hdf5\u001b[0;34m(filepath, custom_objects, compile)\u001b[0m\n\u001b[1;32m    114\u001b[0m     \u001b[0mopened_new_file\u001b[0m \u001b[0;34m=\u001b[0m \u001b[0;32mnot\u001b[0m \u001b[0misinstance\u001b[0m\u001b[0;34m(\u001b[0m\u001b[0mfilepath\u001b[0m\u001b[0;34m,\u001b[0m \u001b[0mh5py\u001b[0m\u001b[0;34m.\u001b[0m\u001b[0mFile\u001b[0m\u001b[0;34m)\u001b[0m\u001b[0;34m\u001b[0m\u001b[0;34m\u001b[0m\u001b[0m\n\u001b[1;32m    115\u001b[0m     \u001b[0;32mif\u001b[0m \u001b[0mopened_new_file\u001b[0m\u001b[0;34m:\u001b[0m\u001b[0;34m\u001b[0m\u001b[0;34m\u001b[0m\u001b[0m\n\u001b[0;32m--> 116\u001b[0;31m         \u001b[0mf\u001b[0m \u001b[0;34m=\u001b[0m \u001b[0mh5py\u001b[0m\u001b[0;34m.\u001b[0m\u001b[0mFile\u001b[0m\u001b[0;34m(\u001b[0m\u001b[0mfilepath\u001b[0m\u001b[0;34m,\u001b[0m \u001b[0mmode\u001b[0m\u001b[0;34m=\u001b[0m\u001b[0;34m\"r\"\u001b[0m\u001b[0;34m)\u001b[0m\u001b[0;34m\u001b[0m\u001b[0;34m\u001b[0m\u001b[0m\n\u001b[0m\u001b[1;32m    117\u001b[0m     \u001b[0;32melse\u001b[0m\u001b[0;34m:\u001b[0m\u001b[0;34m\u001b[0m\u001b[0;34m\u001b[0m\u001b[0m\n\u001b[1;32m    118\u001b[0m         \u001b[0mf\u001b[0m \u001b[0;34m=\u001b[0m \u001b[0mfilepath\u001b[0m\u001b[0;34m\u001b[0m\u001b[0;34m\u001b[0m\u001b[0m\n",
            "\u001b[0;32m/usr/local/lib/python3.10/dist-packages/h5py/_hl/files.py\u001b[0m in \u001b[0;36m__init__\u001b[0;34m(self, name, mode, driver, libver, userblock_size, swmr, rdcc_nslots, rdcc_nbytes, rdcc_w0, track_order, fs_strategy, fs_persist, fs_threshold, fs_page_size, page_buf_size, min_meta_keep, min_raw_keep, locking, alignment_threshold, alignment_interval, meta_block_size, **kwds)\u001b[0m\n\u001b[1;32m    559\u001b[0m                                  \u001b[0mfs_persist\u001b[0m\u001b[0;34m=\u001b[0m\u001b[0mfs_persist\u001b[0m\u001b[0;34m,\u001b[0m \u001b[0mfs_threshold\u001b[0m\u001b[0;34m=\u001b[0m\u001b[0mfs_threshold\u001b[0m\u001b[0;34m,\u001b[0m\u001b[0;34m\u001b[0m\u001b[0;34m\u001b[0m\u001b[0m\n\u001b[1;32m    560\u001b[0m                                  fs_page_size=fs_page_size)\n\u001b[0;32m--> 561\u001b[0;31m                 \u001b[0mfid\u001b[0m \u001b[0;34m=\u001b[0m \u001b[0mmake_fid\u001b[0m\u001b[0;34m(\u001b[0m\u001b[0mname\u001b[0m\u001b[0;34m,\u001b[0m \u001b[0mmode\u001b[0m\u001b[0;34m,\u001b[0m \u001b[0muserblock_size\u001b[0m\u001b[0;34m,\u001b[0m \u001b[0mfapl\u001b[0m\u001b[0;34m,\u001b[0m \u001b[0mfcpl\u001b[0m\u001b[0;34m,\u001b[0m \u001b[0mswmr\u001b[0m\u001b[0;34m=\u001b[0m\u001b[0mswmr\u001b[0m\u001b[0;34m)\u001b[0m\u001b[0;34m\u001b[0m\u001b[0;34m\u001b[0m\u001b[0m\n\u001b[0m\u001b[1;32m    562\u001b[0m \u001b[0;34m\u001b[0m\u001b[0m\n\u001b[1;32m    563\u001b[0m             \u001b[0;32mif\u001b[0m \u001b[0misinstance\u001b[0m\u001b[0;34m(\u001b[0m\u001b[0mlibver\u001b[0m\u001b[0;34m,\u001b[0m \u001b[0mtuple\u001b[0m\u001b[0;34m)\u001b[0m\u001b[0;34m:\u001b[0m\u001b[0;34m\u001b[0m\u001b[0;34m\u001b[0m\u001b[0m\n",
            "\u001b[0;32m/usr/local/lib/python3.10/dist-packages/h5py/_hl/files.py\u001b[0m in \u001b[0;36mmake_fid\u001b[0;34m(name, mode, userblock_size, fapl, fcpl, swmr)\u001b[0m\n\u001b[1;32m    233\u001b[0m         \u001b[0;32mif\u001b[0m \u001b[0mswmr\u001b[0m \u001b[0;32mand\u001b[0m \u001b[0mswmr_support\u001b[0m\u001b[0;34m:\u001b[0m\u001b[0;34m\u001b[0m\u001b[0;34m\u001b[0m\u001b[0m\n\u001b[1;32m    234\u001b[0m             \u001b[0mflags\u001b[0m \u001b[0;34m|=\u001b[0m \u001b[0mh5f\u001b[0m\u001b[0;34m.\u001b[0m\u001b[0mACC_SWMR_READ\u001b[0m\u001b[0;34m\u001b[0m\u001b[0;34m\u001b[0m\u001b[0m\n\u001b[0;32m--> 235\u001b[0;31m         \u001b[0mfid\u001b[0m \u001b[0;34m=\u001b[0m \u001b[0mh5f\u001b[0m\u001b[0;34m.\u001b[0m\u001b[0mopen\u001b[0m\u001b[0;34m(\u001b[0m\u001b[0mname\u001b[0m\u001b[0;34m,\u001b[0m \u001b[0mflags\u001b[0m\u001b[0;34m,\u001b[0m \u001b[0mfapl\u001b[0m\u001b[0;34m=\u001b[0m\u001b[0mfapl\u001b[0m\u001b[0;34m)\u001b[0m\u001b[0;34m\u001b[0m\u001b[0;34m\u001b[0m\u001b[0m\n\u001b[0m\u001b[1;32m    236\u001b[0m     \u001b[0;32melif\u001b[0m \u001b[0mmode\u001b[0m \u001b[0;34m==\u001b[0m \u001b[0;34m'r+'\u001b[0m\u001b[0;34m:\u001b[0m\u001b[0;34m\u001b[0m\u001b[0;34m\u001b[0m\u001b[0m\n\u001b[1;32m    237\u001b[0m         \u001b[0mfid\u001b[0m \u001b[0;34m=\u001b[0m \u001b[0mh5f\u001b[0m\u001b[0;34m.\u001b[0m\u001b[0mopen\u001b[0m\u001b[0;34m(\u001b[0m\u001b[0mname\u001b[0m\u001b[0;34m,\u001b[0m \u001b[0mh5f\u001b[0m\u001b[0;34m.\u001b[0m\u001b[0mACC_RDWR\u001b[0m\u001b[0;34m,\u001b[0m \u001b[0mfapl\u001b[0m\u001b[0;34m=\u001b[0m\u001b[0mfapl\u001b[0m\u001b[0;34m)\u001b[0m\u001b[0;34m\u001b[0m\u001b[0;34m\u001b[0m\u001b[0m\n",
            "\u001b[0;32mh5py/_objects.pyx\u001b[0m in \u001b[0;36mh5py._objects.with_phil.wrapper\u001b[0;34m()\u001b[0m\n",
            "\u001b[0;32mh5py/_objects.pyx\u001b[0m in \u001b[0;36mh5py._objects.with_phil.wrapper\u001b[0;34m()\u001b[0m\n",
            "\u001b[0;32mh5py/h5f.pyx\u001b[0m in \u001b[0;36mh5py.h5f.open\u001b[0;34m()\u001b[0m\n",
            "\u001b[0;31mOSError\u001b[0m: Unable to synchronously open file (file signature not found)"
          ]
        }
      ],
      "source": [
        "from tensorflow.keras.models import load_model\n",
        "\n",
        "# Cargar el modelo\n",
        "synthesizer = load_model('/content/modeloCopula.h5')"
      ]
    },
    {
      "cell_type": "code",
      "execution_count": null,
      "metadata": {
        "id": "50l-NE0K4ER0",
        "outputId": "b8dfdd6e-32a9-419c-86af-721a877c410a"
      },
      "outputs": [
        {
          "data": {
            "text/plain": [
              "95"
            ]
          },
          "execution_count": 22,
          "metadata": {},
          "output_type": "execute_result"
        }
      ],
      "source": [
        "s_aureus[s_aureus[bacteria] == 0].shape[0]-s_aureus[s_aureus[bacteria] == 1].shape[0]"
      ]
    },
    {
      "cell_type": "code",
      "execution_count": 30,
      "metadata": {
        "id": "ZRMldRQq4ER0"
      },
      "outputs": [],
      "source": [
        "synthetic_data = synthesizer.sample(\n",
        "    pd.Series(y_train).value_counts()[0]-pd.Series(y_train).value_counts()[1]\n",
        ")"
      ]
    },
    {
      "cell_type": "code",
      "execution_count": 31,
      "metadata": {
        "colab": {
          "base_uri": "https://localhost:8080/"
        },
        "id": "QlDIKzGk4ER0",
        "outputId": "73b7e366-2200-44ec-ca4b-be8ae90d0daf"
      },
      "outputs": [
        {
          "output_type": "execute_result",
          "data": {
            "text/plain": [
              "(76, 6000)"
            ]
          },
          "metadata": {},
          "execution_count": 31
        }
      ],
      "source": [
        "synthetic_data.shape"
      ]
    },
    {
      "cell_type": "code",
      "execution_count": 32,
      "metadata": {
        "colab": {
          "base_uri": "https://localhost:8080/"
        },
        "id": "c3glA0ts4ER1",
        "outputId": "07c0df08-1e3b-4538-88ab-7d04ea35ab46"
      },
      "outputs": [
        {
          "output_type": "execute_result",
          "data": {
            "text/plain": [
              "(76, 6000)"
            ]
          },
          "metadata": {},
          "execution_count": 32
        }
      ],
      "source": [
        "\n",
        "# Cambiar el tipo de datos a float32\n",
        "synthetic_samples_numpy_copula = synthetic_data.astype(np.float32)\n",
        "\n",
        "# Mostrar las muestras generadas\n",
        "synthetic_samples_numpy_copula.shape"
      ]
    },
    {
      "cell_type": "code",
      "execution_count": 33,
      "metadata": {
        "id": "BE4VycCc4ER1"
      },
      "outputs": [],
      "source": [
        "X_train_resampled = np.concatenate([X_train,synthetic_samples_numpy_copula])"
      ]
    },
    {
      "cell_type": "code",
      "execution_count": 34,
      "metadata": {
        "colab": {
          "base_uri": "https://localhost:8080/"
        },
        "id": "LE7MFYKt4ER1",
        "outputId": "7a3a7d8d-ef98-4a3d-fe9e-53132b10b6cc"
      },
      "outputs": [
        {
          "output_type": "execute_result",
          "data": {
            "text/plain": [
              "(154, 6001)"
            ]
          },
          "metadata": {},
          "execution_count": 34
        }
      ],
      "source": [
        "s_aureus[s_aureus[bacteria] == 0].shape"
      ]
    },
    {
      "cell_type": "code",
      "execution_count": 35,
      "metadata": {
        "colab": {
          "base_uri": "https://localhost:8080/"
        },
        "id": "ABqSlXam4ER1",
        "outputId": "46847548-15c9-45be-d038-84b91b8305d9"
      },
      "outputs": [
        {
          "output_type": "execute_result",
          "data": {
            "text/plain": [
              "(170, 6000)"
            ]
          },
          "metadata": {},
          "execution_count": 35
        }
      ],
      "source": [
        "X_train.shape"
      ]
    },
    {
      "cell_type": "code",
      "execution_count": 36,
      "metadata": {
        "colab": {
          "base_uri": "https://localhost:8080/"
        },
        "id": "R3K1eo9r4ER1",
        "outputId": "0a417eef-fb6a-4261-b407-f9d1a2eae6b6"
      },
      "outputs": [
        {
          "output_type": "execute_result",
          "data": {
            "text/plain": [
              "76"
            ]
          },
          "metadata": {},
          "execution_count": 36
        }
      ],
      "source": [
        "int((pd.Series(y_train).value_counts()[0]-pd.Series(y_train).value_counts()[1]))"
      ]
    },
    {
      "cell_type": "code",
      "execution_count": 37,
      "metadata": {
        "colab": {
          "base_uri": "https://localhost:8080/"
        },
        "id": "ilpADa3z4ER1",
        "outputId": "b863d00e-83cd-49f9-ecba-c580b6f6dcc4"
      },
      "outputs": [
        {
          "output_type": "execute_result",
          "data": {
            "text/plain": [
              "(246,)"
            ]
          },
          "metadata": {},
          "execution_count": 37
        }
      ],
      "source": [
        "ones_array = np.ones(int((pd.Series(y_train).value_counts()[0]-pd.Series(y_train).value_counts()[1])))\n",
        "y_train_resampled = np.concatenate([y_train,ones_array])\n",
        "y_train_resampled.shape"
      ]
    },
    {
      "cell_type": "code",
      "execution_count": 38,
      "metadata": {
        "colab": {
          "base_uri": "https://localhost:8080/"
        },
        "id": "H1cWhaoj4ER2",
        "outputId": "84dd6ad8-97e8-484e-8ace-96f55b4096a7"
      },
      "outputs": [
        {
          "output_type": "stream",
          "name": "stdout",
          "text": [
            "0.0    123\n",
            "1.0    123\n",
            "Name: count, dtype: int64\n"
          ]
        }
      ],
      "source": [
        "print(pd.Series(y_train_resampled).value_counts())\n"
      ]
    },
    {
      "cell_type": "code",
      "execution_count": 39,
      "metadata": {
        "id": "Cz1ZnhEykiY9"
      },
      "outputs": [],
      "source": [
        "scaler=Normalizer(norm='max')\n",
        "sc_X = scaler\n",
        "X_train = sc_X.fit_transform(X_train_resampled)\n",
        "X_test = sc_X.transform(X_test)"
      ]
    },
    {
      "cell_type": "code",
      "execution_count": 40,
      "metadata": {
        "id": "HiHCUFo-kiW9"
      },
      "outputs": [],
      "source": [
        "sample_size = X_train.shape[0] # numero de muestras en el set de datos\n",
        "time_steps  = X_train.shape[1] # numero de atributos en el set de datos\n",
        "input_dimension = 1            #\n",
        "\n",
        "X_train_reshaped = X_train.reshape(sample_size,time_steps,input_dimension)\n",
        "X_test_reshaped = X_test.reshape(X_test.shape[0],X_test.shape[1],1)"
      ]
    },
    {
      "cell_type": "code",
      "execution_count": 41,
      "metadata": {
        "id": "VEuHRBvAlw79"
      },
      "outputs": [],
      "source": [
        "reduce_lr = ReduceLROnPlateau(monitor='val_loss', factor=0.1, patience=3, min_lr=0.000001)\n",
        "early_st = EarlyStopping(monitor='val_loss', patience=4, restore_best_weights=True)\n",
        "\n",
        "n_timesteps = X_train_reshaped.shape[1] #\n",
        "n_features  = X_train_reshaped.shape[2] #"
      ]
    },
    {
      "cell_type": "markdown",
      "metadata": {
        "id": "hBf6W9iPXz3p"
      },
      "source": [
        "# Create and fit DeepAMR model"
      ]
    },
    {
      "cell_type": "code",
      "execution_count": 42,
      "metadata": {
        "colab": {
          "base_uri": "https://localhost:8080/",
          "height": 1000
        },
        "id": "AlJHRRzlkiH9",
        "outputId": "e957514e-2b33-4984-ded1-1c88ef59305b"
      },
      "outputs": [
        {
          "output_type": "stream",
          "name": "stderr",
          "text": [
            "/usr/local/lib/python3.10/dist-packages/keras/src/layers/convolutional/base_conv.py:107: UserWarning: Do not pass an `input_shape`/`input_dim` argument to a layer. When using Sequential models, prefer using an `Input(shape)` object as the first layer in the model instead.\n",
            "  super().__init__(activity_regularizer=activity_regularizer, **kwargs)\n"
          ]
        },
        {
          "output_type": "display_data",
          "data": {
            "text/plain": [
              "\u001b[1mModel: \"Modelo_s_aureus_ciprofloxacin\"\u001b[0m\n"
            ],
            "text/html": [
              "<pre style=\"white-space:pre;overflow-x:auto;line-height:normal;font-family:Menlo,'DejaVu Sans Mono',consolas,'Courier New',monospace\"><span style=\"font-weight: bold\">Model: \"Modelo_s_aureus_ciprofloxacin\"</span>\n",
              "</pre>\n"
            ]
          },
          "metadata": {}
        },
        {
          "output_type": "display_data",
          "data": {
            "text/plain": [
              "┏━━━━━━━━━━━━━━━━━━━━━━━━━━━━━━━━━━━━━━┳━━━━━━━━━━━━━━━━━━━━━━━━━━━━━┳━━━━━━━━━━━━━━━━━┓\n",
              "┃\u001b[1m \u001b[0m\u001b[1mLayer (type)                        \u001b[0m\u001b[1m \u001b[0m┃\u001b[1m \u001b[0m\u001b[1mOutput Shape               \u001b[0m\u001b[1m \u001b[0m┃\u001b[1m \u001b[0m\u001b[1m        Param #\u001b[0m\u001b[1m \u001b[0m┃\n",
              "┡━━━━━━━━━━━━━━━━━━━━━━━━━━━━━━━━━━━━━━╇━━━━━━━━━━━━━━━━━━━━━━━━━━━━━╇━━━━━━━━━━━━━━━━━┩\n",
              "│ Conv_1 (\u001b[38;5;33mConv1D\u001b[0m)                      │ (\u001b[38;5;45mNone\u001b[0m, \u001b[38;5;34m5984\u001b[0m, \u001b[38;5;34m64\u001b[0m)            │           \u001b[38;5;34m1,152\u001b[0m │\n",
              "├──────────────────────────────────────┼─────────────────────────────┼─────────────────┤\n",
              "│ batch_normalization                  │ (\u001b[38;5;45mNone\u001b[0m, \u001b[38;5;34m5984\u001b[0m, \u001b[38;5;34m64\u001b[0m)            │             \u001b[38;5;34m256\u001b[0m │\n",
              "│ (\u001b[38;5;33mBatchNormalization\u001b[0m)                 │                             │                 │\n",
              "├──────────────────────────────────────┼─────────────────────────────┼─────────────────┤\n",
              "│ activation (\u001b[38;5;33mActivation\u001b[0m)              │ (\u001b[38;5;45mNone\u001b[0m, \u001b[38;5;34m5984\u001b[0m, \u001b[38;5;34m64\u001b[0m)            │               \u001b[38;5;34m0\u001b[0m │\n",
              "├──────────────────────────────────────┼─────────────────────────────┼─────────────────┤\n",
              "│ MaxPooling1D_1 (\u001b[38;5;33mMaxPooling1D\u001b[0m)        │ (\u001b[38;5;45mNone\u001b[0m, \u001b[38;5;34m2992\u001b[0m, \u001b[38;5;34m64\u001b[0m)            │               \u001b[38;5;34m0\u001b[0m │\n",
              "├──────────────────────────────────────┼─────────────────────────────┼─────────────────┤\n",
              "│ Conv_2 (\u001b[38;5;33mConv1D\u001b[0m)                      │ (\u001b[38;5;45mNone\u001b[0m, \u001b[38;5;34m2984\u001b[0m, \u001b[38;5;34m128\u001b[0m)           │          \u001b[38;5;34m73,856\u001b[0m │\n",
              "├──────────────────────────────────────┼─────────────────────────────┼─────────────────┤\n",
              "│ batch_normalization_1                │ (\u001b[38;5;45mNone\u001b[0m, \u001b[38;5;34m2984\u001b[0m, \u001b[38;5;34m128\u001b[0m)           │             \u001b[38;5;34m512\u001b[0m │\n",
              "│ (\u001b[38;5;33mBatchNormalization\u001b[0m)                 │                             │                 │\n",
              "├──────────────────────────────────────┼─────────────────────────────┼─────────────────┤\n",
              "│ activation_1 (\u001b[38;5;33mActivation\u001b[0m)            │ (\u001b[38;5;45mNone\u001b[0m, \u001b[38;5;34m2984\u001b[0m, \u001b[38;5;34m128\u001b[0m)           │               \u001b[38;5;34m0\u001b[0m │\n",
              "├──────────────────────────────────────┼─────────────────────────────┼─────────────────┤\n",
              "│ MaxPooling1D_2 (\u001b[38;5;33mMaxPooling1D\u001b[0m)        │ (\u001b[38;5;45mNone\u001b[0m, \u001b[38;5;34m1492\u001b[0m, \u001b[38;5;34m128\u001b[0m)           │               \u001b[38;5;34m0\u001b[0m │\n",
              "├──────────────────────────────────────┼─────────────────────────────┼─────────────────┤\n",
              "│ Conv_3 (\u001b[38;5;33mConv1D\u001b[0m)                      │ (\u001b[38;5;45mNone\u001b[0m, \u001b[38;5;34m1488\u001b[0m, \u001b[38;5;34m256\u001b[0m)           │         \u001b[38;5;34m164,096\u001b[0m │\n",
              "├──────────────────────────────────────┼─────────────────────────────┼─────────────────┤\n",
              "│ batch_normalization_2                │ (\u001b[38;5;45mNone\u001b[0m, \u001b[38;5;34m1488\u001b[0m, \u001b[38;5;34m256\u001b[0m)           │           \u001b[38;5;34m1,024\u001b[0m │\n",
              "│ (\u001b[38;5;33mBatchNormalization\u001b[0m)                 │                             │                 │\n",
              "├──────────────────────────────────────┼─────────────────────────────┼─────────────────┤\n",
              "│ activation_2 (\u001b[38;5;33mActivation\u001b[0m)            │ (\u001b[38;5;45mNone\u001b[0m, \u001b[38;5;34m1488\u001b[0m, \u001b[38;5;34m256\u001b[0m)           │               \u001b[38;5;34m0\u001b[0m │\n",
              "├──────────────────────────────────────┼─────────────────────────────┼─────────────────┤\n",
              "│ MaxPooling1D_3 (\u001b[38;5;33mMaxPooling1D\u001b[0m)        │ (\u001b[38;5;45mNone\u001b[0m, \u001b[38;5;34m744\u001b[0m, \u001b[38;5;34m256\u001b[0m)            │               \u001b[38;5;34m0\u001b[0m │\n",
              "├──────────────────────────────────────┼─────────────────────────────┼─────────────────┤\n",
              "│ Conv_4 (\u001b[38;5;33mConv1D\u001b[0m)                      │ (\u001b[38;5;45mNone\u001b[0m, \u001b[38;5;34m740\u001b[0m, \u001b[38;5;34m256\u001b[0m)            │         \u001b[38;5;34m327,936\u001b[0m │\n",
              "├──────────────────────────────────────┼─────────────────────────────┼─────────────────┤\n",
              "│ batch_normalization_3                │ (\u001b[38;5;45mNone\u001b[0m, \u001b[38;5;34m740\u001b[0m, \u001b[38;5;34m256\u001b[0m)            │           \u001b[38;5;34m1,024\u001b[0m │\n",
              "│ (\u001b[38;5;33mBatchNormalization\u001b[0m)                 │                             │                 │\n",
              "├──────────────────────────────────────┼─────────────────────────────┼─────────────────┤\n",
              "│ activation_3 (\u001b[38;5;33mActivation\u001b[0m)            │ (\u001b[38;5;45mNone\u001b[0m, \u001b[38;5;34m740\u001b[0m, \u001b[38;5;34m256\u001b[0m)            │               \u001b[38;5;34m0\u001b[0m │\n",
              "├──────────────────────────────────────┼─────────────────────────────┼─────────────────┤\n",
              "│ MaxPooling1D_4 (\u001b[38;5;33mMaxPooling1D\u001b[0m)        │ (\u001b[38;5;45mNone\u001b[0m, \u001b[38;5;34m370\u001b[0m, \u001b[38;5;34m256\u001b[0m)            │               \u001b[38;5;34m0\u001b[0m │\n",
              "├──────────────────────────────────────┼─────────────────────────────┼─────────────────┤\n",
              "│ flatten (\u001b[38;5;33mFlatten\u001b[0m)                    │ (\u001b[38;5;45mNone\u001b[0m, \u001b[38;5;34m94720\u001b[0m)               │               \u001b[38;5;34m0\u001b[0m │\n",
              "├──────────────────────────────────────┼─────────────────────────────┼─────────────────┤\n",
              "│ dropout (\u001b[38;5;33mDropout\u001b[0m)                    │ (\u001b[38;5;45mNone\u001b[0m, \u001b[38;5;34m94720\u001b[0m)               │               \u001b[38;5;34m0\u001b[0m │\n",
              "├──────────────────────────────────────┼─────────────────────────────┼─────────────────┤\n",
              "│ fully_connected_0 (\u001b[38;5;33mDense\u001b[0m)            │ (\u001b[38;5;45mNone\u001b[0m, \u001b[38;5;34m256\u001b[0m)                 │      \u001b[38;5;34m24,248,576\u001b[0m │\n",
              "├──────────────────────────────────────┼─────────────────────────────┼─────────────────┤\n",
              "│ fully_connected_1 (\u001b[38;5;33mDense\u001b[0m)            │ (\u001b[38;5;45mNone\u001b[0m, \u001b[38;5;34m64\u001b[0m)                  │          \u001b[38;5;34m16,448\u001b[0m │\n",
              "├──────────────────────────────────────┼─────────────────────────────┼─────────────────┤\n",
              "│ fully_connected_2 (\u001b[38;5;33mDense\u001b[0m)            │ (\u001b[38;5;45mNone\u001b[0m, \u001b[38;5;34m64\u001b[0m)                  │           \u001b[38;5;34m4,160\u001b[0m │\n",
              "├──────────────────────────────────────┼─────────────────────────────┼─────────────────┤\n",
              "│ OUT_Layer (\u001b[38;5;33mDense\u001b[0m)                    │ (\u001b[38;5;45mNone\u001b[0m, \u001b[38;5;34m1\u001b[0m)                   │              \u001b[38;5;34m65\u001b[0m │\n",
              "└──────────────────────────────────────┴─────────────────────────────┴─────────────────┘\n"
            ],
            "text/html": [
              "<pre style=\"white-space:pre;overflow-x:auto;line-height:normal;font-family:Menlo,'DejaVu Sans Mono',consolas,'Courier New',monospace\">┏━━━━━━━━━━━━━━━━━━━━━━━━━━━━━━━━━━━━━━┳━━━━━━━━━━━━━━━━━━━━━━━━━━━━━┳━━━━━━━━━━━━━━━━━┓\n",
              "┃<span style=\"font-weight: bold\"> Layer (type)                         </span>┃<span style=\"font-weight: bold\"> Output Shape                </span>┃<span style=\"font-weight: bold\">         Param # </span>┃\n",
              "┡━━━━━━━━━━━━━━━━━━━━━━━━━━━━━━━━━━━━━━╇━━━━━━━━━━━━━━━━━━━━━━━━━━━━━╇━━━━━━━━━━━━━━━━━┩\n",
              "│ Conv_1 (<span style=\"color: #0087ff; text-decoration-color: #0087ff\">Conv1D</span>)                      │ (<span style=\"color: #00d7ff; text-decoration-color: #00d7ff\">None</span>, <span style=\"color: #00af00; text-decoration-color: #00af00\">5984</span>, <span style=\"color: #00af00; text-decoration-color: #00af00\">64</span>)            │           <span style=\"color: #00af00; text-decoration-color: #00af00\">1,152</span> │\n",
              "├──────────────────────────────────────┼─────────────────────────────┼─────────────────┤\n",
              "│ batch_normalization                  │ (<span style=\"color: #00d7ff; text-decoration-color: #00d7ff\">None</span>, <span style=\"color: #00af00; text-decoration-color: #00af00\">5984</span>, <span style=\"color: #00af00; text-decoration-color: #00af00\">64</span>)            │             <span style=\"color: #00af00; text-decoration-color: #00af00\">256</span> │\n",
              "│ (<span style=\"color: #0087ff; text-decoration-color: #0087ff\">BatchNormalization</span>)                 │                             │                 │\n",
              "├──────────────────────────────────────┼─────────────────────────────┼─────────────────┤\n",
              "│ activation (<span style=\"color: #0087ff; text-decoration-color: #0087ff\">Activation</span>)              │ (<span style=\"color: #00d7ff; text-decoration-color: #00d7ff\">None</span>, <span style=\"color: #00af00; text-decoration-color: #00af00\">5984</span>, <span style=\"color: #00af00; text-decoration-color: #00af00\">64</span>)            │               <span style=\"color: #00af00; text-decoration-color: #00af00\">0</span> │\n",
              "├──────────────────────────────────────┼─────────────────────────────┼─────────────────┤\n",
              "│ MaxPooling1D_1 (<span style=\"color: #0087ff; text-decoration-color: #0087ff\">MaxPooling1D</span>)        │ (<span style=\"color: #00d7ff; text-decoration-color: #00d7ff\">None</span>, <span style=\"color: #00af00; text-decoration-color: #00af00\">2992</span>, <span style=\"color: #00af00; text-decoration-color: #00af00\">64</span>)            │               <span style=\"color: #00af00; text-decoration-color: #00af00\">0</span> │\n",
              "├──────────────────────────────────────┼─────────────────────────────┼─────────────────┤\n",
              "│ Conv_2 (<span style=\"color: #0087ff; text-decoration-color: #0087ff\">Conv1D</span>)                      │ (<span style=\"color: #00d7ff; text-decoration-color: #00d7ff\">None</span>, <span style=\"color: #00af00; text-decoration-color: #00af00\">2984</span>, <span style=\"color: #00af00; text-decoration-color: #00af00\">128</span>)           │          <span style=\"color: #00af00; text-decoration-color: #00af00\">73,856</span> │\n",
              "├──────────────────────────────────────┼─────────────────────────────┼─────────────────┤\n",
              "│ batch_normalization_1                │ (<span style=\"color: #00d7ff; text-decoration-color: #00d7ff\">None</span>, <span style=\"color: #00af00; text-decoration-color: #00af00\">2984</span>, <span style=\"color: #00af00; text-decoration-color: #00af00\">128</span>)           │             <span style=\"color: #00af00; text-decoration-color: #00af00\">512</span> │\n",
              "│ (<span style=\"color: #0087ff; text-decoration-color: #0087ff\">BatchNormalization</span>)                 │                             │                 │\n",
              "├──────────────────────────────────────┼─────────────────────────────┼─────────────────┤\n",
              "│ activation_1 (<span style=\"color: #0087ff; text-decoration-color: #0087ff\">Activation</span>)            │ (<span style=\"color: #00d7ff; text-decoration-color: #00d7ff\">None</span>, <span style=\"color: #00af00; text-decoration-color: #00af00\">2984</span>, <span style=\"color: #00af00; text-decoration-color: #00af00\">128</span>)           │               <span style=\"color: #00af00; text-decoration-color: #00af00\">0</span> │\n",
              "├──────────────────────────────────────┼─────────────────────────────┼─────────────────┤\n",
              "│ MaxPooling1D_2 (<span style=\"color: #0087ff; text-decoration-color: #0087ff\">MaxPooling1D</span>)        │ (<span style=\"color: #00d7ff; text-decoration-color: #00d7ff\">None</span>, <span style=\"color: #00af00; text-decoration-color: #00af00\">1492</span>, <span style=\"color: #00af00; text-decoration-color: #00af00\">128</span>)           │               <span style=\"color: #00af00; text-decoration-color: #00af00\">0</span> │\n",
              "├──────────────────────────────────────┼─────────────────────────────┼─────────────────┤\n",
              "│ Conv_3 (<span style=\"color: #0087ff; text-decoration-color: #0087ff\">Conv1D</span>)                      │ (<span style=\"color: #00d7ff; text-decoration-color: #00d7ff\">None</span>, <span style=\"color: #00af00; text-decoration-color: #00af00\">1488</span>, <span style=\"color: #00af00; text-decoration-color: #00af00\">256</span>)           │         <span style=\"color: #00af00; text-decoration-color: #00af00\">164,096</span> │\n",
              "├──────────────────────────────────────┼─────────────────────────────┼─────────────────┤\n",
              "│ batch_normalization_2                │ (<span style=\"color: #00d7ff; text-decoration-color: #00d7ff\">None</span>, <span style=\"color: #00af00; text-decoration-color: #00af00\">1488</span>, <span style=\"color: #00af00; text-decoration-color: #00af00\">256</span>)           │           <span style=\"color: #00af00; text-decoration-color: #00af00\">1,024</span> │\n",
              "│ (<span style=\"color: #0087ff; text-decoration-color: #0087ff\">BatchNormalization</span>)                 │                             │                 │\n",
              "├──────────────────────────────────────┼─────────────────────────────┼─────────────────┤\n",
              "│ activation_2 (<span style=\"color: #0087ff; text-decoration-color: #0087ff\">Activation</span>)            │ (<span style=\"color: #00d7ff; text-decoration-color: #00d7ff\">None</span>, <span style=\"color: #00af00; text-decoration-color: #00af00\">1488</span>, <span style=\"color: #00af00; text-decoration-color: #00af00\">256</span>)           │               <span style=\"color: #00af00; text-decoration-color: #00af00\">0</span> │\n",
              "├──────────────────────────────────────┼─────────────────────────────┼─────────────────┤\n",
              "│ MaxPooling1D_3 (<span style=\"color: #0087ff; text-decoration-color: #0087ff\">MaxPooling1D</span>)        │ (<span style=\"color: #00d7ff; text-decoration-color: #00d7ff\">None</span>, <span style=\"color: #00af00; text-decoration-color: #00af00\">744</span>, <span style=\"color: #00af00; text-decoration-color: #00af00\">256</span>)            │               <span style=\"color: #00af00; text-decoration-color: #00af00\">0</span> │\n",
              "├──────────────────────────────────────┼─────────────────────────────┼─────────────────┤\n",
              "│ Conv_4 (<span style=\"color: #0087ff; text-decoration-color: #0087ff\">Conv1D</span>)                      │ (<span style=\"color: #00d7ff; text-decoration-color: #00d7ff\">None</span>, <span style=\"color: #00af00; text-decoration-color: #00af00\">740</span>, <span style=\"color: #00af00; text-decoration-color: #00af00\">256</span>)            │         <span style=\"color: #00af00; text-decoration-color: #00af00\">327,936</span> │\n",
              "├──────────────────────────────────────┼─────────────────────────────┼─────────────────┤\n",
              "│ batch_normalization_3                │ (<span style=\"color: #00d7ff; text-decoration-color: #00d7ff\">None</span>, <span style=\"color: #00af00; text-decoration-color: #00af00\">740</span>, <span style=\"color: #00af00; text-decoration-color: #00af00\">256</span>)            │           <span style=\"color: #00af00; text-decoration-color: #00af00\">1,024</span> │\n",
              "│ (<span style=\"color: #0087ff; text-decoration-color: #0087ff\">BatchNormalization</span>)                 │                             │                 │\n",
              "├──────────────────────────────────────┼─────────────────────────────┼─────────────────┤\n",
              "│ activation_3 (<span style=\"color: #0087ff; text-decoration-color: #0087ff\">Activation</span>)            │ (<span style=\"color: #00d7ff; text-decoration-color: #00d7ff\">None</span>, <span style=\"color: #00af00; text-decoration-color: #00af00\">740</span>, <span style=\"color: #00af00; text-decoration-color: #00af00\">256</span>)            │               <span style=\"color: #00af00; text-decoration-color: #00af00\">0</span> │\n",
              "├──────────────────────────────────────┼─────────────────────────────┼─────────────────┤\n",
              "│ MaxPooling1D_4 (<span style=\"color: #0087ff; text-decoration-color: #0087ff\">MaxPooling1D</span>)        │ (<span style=\"color: #00d7ff; text-decoration-color: #00d7ff\">None</span>, <span style=\"color: #00af00; text-decoration-color: #00af00\">370</span>, <span style=\"color: #00af00; text-decoration-color: #00af00\">256</span>)            │               <span style=\"color: #00af00; text-decoration-color: #00af00\">0</span> │\n",
              "├──────────────────────────────────────┼─────────────────────────────┼─────────────────┤\n",
              "│ flatten (<span style=\"color: #0087ff; text-decoration-color: #0087ff\">Flatten</span>)                    │ (<span style=\"color: #00d7ff; text-decoration-color: #00d7ff\">None</span>, <span style=\"color: #00af00; text-decoration-color: #00af00\">94720</span>)               │               <span style=\"color: #00af00; text-decoration-color: #00af00\">0</span> │\n",
              "├──────────────────────────────────────┼─────────────────────────────┼─────────────────┤\n",
              "│ dropout (<span style=\"color: #0087ff; text-decoration-color: #0087ff\">Dropout</span>)                    │ (<span style=\"color: #00d7ff; text-decoration-color: #00d7ff\">None</span>, <span style=\"color: #00af00; text-decoration-color: #00af00\">94720</span>)               │               <span style=\"color: #00af00; text-decoration-color: #00af00\">0</span> │\n",
              "├──────────────────────────────────────┼─────────────────────────────┼─────────────────┤\n",
              "│ fully_connected_0 (<span style=\"color: #0087ff; text-decoration-color: #0087ff\">Dense</span>)            │ (<span style=\"color: #00d7ff; text-decoration-color: #00d7ff\">None</span>, <span style=\"color: #00af00; text-decoration-color: #00af00\">256</span>)                 │      <span style=\"color: #00af00; text-decoration-color: #00af00\">24,248,576</span> │\n",
              "├──────────────────────────────────────┼─────────────────────────────┼─────────────────┤\n",
              "│ fully_connected_1 (<span style=\"color: #0087ff; text-decoration-color: #0087ff\">Dense</span>)            │ (<span style=\"color: #00d7ff; text-decoration-color: #00d7ff\">None</span>, <span style=\"color: #00af00; text-decoration-color: #00af00\">64</span>)                  │          <span style=\"color: #00af00; text-decoration-color: #00af00\">16,448</span> │\n",
              "├──────────────────────────────────────┼─────────────────────────────┼─────────────────┤\n",
              "│ fully_connected_2 (<span style=\"color: #0087ff; text-decoration-color: #0087ff\">Dense</span>)            │ (<span style=\"color: #00d7ff; text-decoration-color: #00d7ff\">None</span>, <span style=\"color: #00af00; text-decoration-color: #00af00\">64</span>)                  │           <span style=\"color: #00af00; text-decoration-color: #00af00\">4,160</span> │\n",
              "├──────────────────────────────────────┼─────────────────────────────┼─────────────────┤\n",
              "│ OUT_Layer (<span style=\"color: #0087ff; text-decoration-color: #0087ff\">Dense</span>)                    │ (<span style=\"color: #00d7ff; text-decoration-color: #00d7ff\">None</span>, <span style=\"color: #00af00; text-decoration-color: #00af00\">1</span>)                   │              <span style=\"color: #00af00; text-decoration-color: #00af00\">65</span> │\n",
              "└──────────────────────────────────────┴─────────────────────────────┴─────────────────┘\n",
              "</pre>\n"
            ]
          },
          "metadata": {}
        },
        {
          "output_type": "display_data",
          "data": {
            "text/plain": [
              "\u001b[1m Total params: \u001b[0m\u001b[38;5;34m24,839,105\u001b[0m (94.75 MB)\n"
            ],
            "text/html": [
              "<pre style=\"white-space:pre;overflow-x:auto;line-height:normal;font-family:Menlo,'DejaVu Sans Mono',consolas,'Courier New',monospace\"><span style=\"font-weight: bold\"> Total params: </span><span style=\"color: #00af00; text-decoration-color: #00af00\">24,839,105</span> (94.75 MB)\n",
              "</pre>\n"
            ]
          },
          "metadata": {}
        },
        {
          "output_type": "display_data",
          "data": {
            "text/plain": [
              "\u001b[1m Trainable params: \u001b[0m\u001b[38;5;34m24,837,697\u001b[0m (94.75 MB)\n"
            ],
            "text/html": [
              "<pre style=\"white-space:pre;overflow-x:auto;line-height:normal;font-family:Menlo,'DejaVu Sans Mono',consolas,'Courier New',monospace\"><span style=\"font-weight: bold\"> Trainable params: </span><span style=\"color: #00af00; text-decoration-color: #00af00\">24,837,697</span> (94.75 MB)\n",
              "</pre>\n"
            ]
          },
          "metadata": {}
        },
        {
          "output_type": "display_data",
          "data": {
            "text/plain": [
              "\u001b[1m Non-trainable params: \u001b[0m\u001b[38;5;34m1,408\u001b[0m (5.50 KB)\n"
            ],
            "text/html": [
              "<pre style=\"white-space:pre;overflow-x:auto;line-height:normal;font-family:Menlo,'DejaVu Sans Mono',consolas,'Courier New',monospace\"><span style=\"font-weight: bold\"> Non-trainable params: </span><span style=\"color: #00af00; text-decoration-color: #00af00\">1,408</span> (5.50 KB)\n",
              "</pre>\n"
            ]
          },
          "metadata": {}
        }
      ],
      "source": [
        "model = Sequential(name=\"Modelo_s_aureus_ciprofloxacin\")\n",
        "init_mode = 'normal'\n",
        "model.add(Conv1D(filters=(64), kernel_size=(17), input_shape = (n_timesteps,n_features), name='Conv_1'))\n",
        "model.add(BatchNormalization())\n",
        "model.add(Activation('relu'))\n",
        "model.add(MaxPooling1D(pool_size=2, name=\"MaxPooling1D_1\"))\n",
        "\n",
        "model.add(Conv1D(filters=(128), kernel_size=(9),kernel_initializer=init_mode, kernel_regularizer=regularizers.l2(0.0001),  name='Conv_2'))\n",
        "model.add(BatchNormalization())\n",
        "model.add(Activation('relu'))\n",
        "model.add(MaxPooling1D(pool_size=2, name=\"MaxPooling1D_2\"))\n",
        "\n",
        "model.add(Conv1D(filters=(256), kernel_size=(5),kernel_initializer=init_mode,kernel_regularizer=regularizers.l2(0.0001),   name='Conv_3'))\n",
        "model.add(BatchNormalization())\n",
        "model.add(Activation('relu'))\n",
        "model.add(MaxPooling1D(pool_size=2, name=\"MaxPooling1D_3\"))\n",
        "\n",
        "model.add(Conv1D(filters=(256), kernel_size=(5),kernel_initializer=init_mode, kernel_regularizer=regularizers.l2(0.0001),   name='Conv_4'))\n",
        "model.add(BatchNormalization())\n",
        "model.add(Activation('relu'))\n",
        "model.add(MaxPooling1D(pool_size=2, name=\"MaxPooling1D_4\"))\n",
        "\n",
        "model.add(Flatten())\n",
        "model.add(Dropout(0.65))\n",
        "model.add(Dense(256, activation='relu',kernel_initializer=init_mode, kernel_regularizer=regularizers.l2(0.0001), name=\"fully_connected_0\"))\n",
        "model.add(Dense(64, activation='relu',kernel_initializer=init_mode, kernel_regularizer=regularizers.l2(0.0001), name=\"fully_connected_1\"))\n",
        "model.add(Dense(64, activation='relu',kernel_initializer=init_mode, kernel_regularizer=regularizers.l2(0.0001),  name=\"fully_connected_2\"))\n",
        "model.add(Dense(n_features, activation='sigmoid', name=\"OUT_Layer\"))\n",
        "\n",
        "model.compile(optimizer = Adam(learning_rate=0.0001), loss = 'binary_crossentropy',  metrics=METRICS)\n",
        "model.summary()"
      ]
    },
    {
      "cell_type": "code",
      "execution_count": 43,
      "metadata": {
        "colab": {
          "base_uri": "https://localhost:8080/"
        },
        "id": "lDksoJagl3H9",
        "outputId": "eaa7766c-835f-49a9-ed44-dcc9e9a35178"
      },
      "outputs": [
        {
          "output_type": "stream",
          "name": "stdout",
          "text": [
            "Epoch 1/100\n",
            "\u001b[1m23/23\u001b[0m \u001b[32m━━━━━━━━━━━━━━━━━━━━\u001b[0m\u001b[37m\u001b[0m \u001b[1m28s\u001b[0m 686ms/step - accuracy: 0.5515 - auc: 0.5187 - fn: 25.9167 - fp: 26.7500 - loss: 7.4081 - prc: 0.4175 - precision: 0.4872 - recall: 0.5568 - tn: 44.0000 - tp: 27.1667 - val_accuracy: 0.0000e+00 - val_auc: 0.0000e+00 - val_fn: 25.0000 - val_fp: 0.0000e+00 - val_loss: 6.8508 - val_prc: 1.0000 - val_precision: 0.0000e+00 - val_recall: 0.0000e+00 - val_tn: 0.0000e+00 - val_tp: 0.0000e+00 - learning_rate: 1.0000e-04\n",
            "Epoch 2/100\n",
            "\u001b[1m23/23\u001b[0m \u001b[32m━━━━━━━━━━━━━━━━━━━━\u001b[0m\u001b[37m\u001b[0m \u001b[1m19s\u001b[0m 30ms/step - accuracy: 0.5305 - auc: 0.5923 - fn: 29.7917 - fp: 25.0000 - loss: 6.8536 - prc: 0.5097 - precision: 0.4703 - recall: 0.4823 - tn: 43.6667 - tp: 25.3750 - val_accuracy: 0.0000e+00 - val_auc: 0.0000e+00 - val_fn: 25.0000 - val_fp: 0.0000e+00 - val_loss: 6.8577 - val_prc: 1.0000 - val_precision: 0.0000e+00 - val_recall: 0.0000e+00 - val_tn: 0.0000e+00 - val_tp: 0.0000e+00 - learning_rate: 1.0000e-04\n",
            "Epoch 3/100\n",
            "\u001b[1m23/23\u001b[0m \u001b[32m━━━━━━━━━━━━━━━━━━━━\u001b[0m\u001b[37m\u001b[0m \u001b[1m1s\u001b[0m 33ms/step - accuracy: 0.5943 - auc: 0.6287 - fn: 32.7083 - fp: 17.7500 - loss: 6.6762 - prc: 0.5870 - precision: 0.5230 - recall: 0.3428 - tn: 53.9167 - tp: 19.4583 - val_accuracy: 0.0000e+00 - val_auc: 0.0000e+00 - val_fn: 25.0000 - val_fp: 0.0000e+00 - val_loss: 6.7726 - val_prc: 1.0000 - val_precision: 0.0000e+00 - val_recall: 0.0000e+00 - val_tn: 0.0000e+00 - val_tp: 0.0000e+00 - learning_rate: 1.0000e-04\n",
            "Epoch 4/100\n",
            "\u001b[1m23/23\u001b[0m \u001b[32m━━━━━━━━━━━━━━━━━━━━\u001b[0m\u001b[37m\u001b[0m \u001b[1m1s\u001b[0m 30ms/step - accuracy: 0.6237 - auc: 0.7079 - fn: 15.8333 - fp: 27.7083 - loss: 6.6399 - prc: 0.6570 - precision: 0.5690 - recall: 0.7869 - tn: 38.7917 - tp: 41.5000 - val_accuracy: 0.0000e+00 - val_auc: 0.0000e+00 - val_fn: 25.0000 - val_fp: 0.0000e+00 - val_loss: 6.8884 - val_prc: 1.0000 - val_precision: 0.0000e+00 - val_recall: 0.0000e+00 - val_tn: 0.0000e+00 - val_tp: 0.0000e+00 - learning_rate: 1.0000e-04\n",
            "Epoch 5/100\n",
            "\u001b[1m23/23\u001b[0m \u001b[32m━━━━━━━━━━━━━━━━━━━━\u001b[0m\u001b[37m\u001b[0m \u001b[1m1s\u001b[0m 31ms/step - accuracy: 0.5976 - auc: 0.6732 - fn: 27.6667 - fp: 18.4583 - loss: 6.5206 - prc: 0.6891 - precision: 0.6038 - recall: 0.4847 - tn: 48.7083 - tp: 29.0000 - val_accuracy: 0.0000e+00 - val_auc: 0.0000e+00 - val_fn: 25.0000 - val_fp: 0.0000e+00 - val_loss: 6.8934 - val_prc: 1.0000 - val_precision: 0.0000e+00 - val_recall: 0.0000e+00 - val_tn: 0.0000e+00 - val_tp: 0.0000e+00 - learning_rate: 1.0000e-04\n",
            "Epoch 6/100\n",
            "\u001b[1m23/23\u001b[0m \u001b[32m━━━━━━━━━━━━━━━━━━━━\u001b[0m\u001b[37m\u001b[0m \u001b[1m1s\u001b[0m 28ms/step - accuracy: 0.7191 - auc: 0.7971 - fn: 18.6250 - fp: 15.5417 - loss: 6.3451 - prc: 0.7391 - precision: 0.6746 - recall: 0.6519 - tn: 54.4167 - tp: 35.2500 - val_accuracy: 0.0000e+00 - val_auc: 0.0000e+00 - val_fn: 25.0000 - val_fp: 0.0000e+00 - val_loss: 6.9144 - val_prc: 1.0000 - val_precision: 0.0000e+00 - val_recall: 0.0000e+00 - val_tn: 0.0000e+00 - val_tp: 0.0000e+00 - learning_rate: 1.0000e-04\n",
            "Epoch 7/100\n",
            "\u001b[1m23/23\u001b[0m \u001b[32m━━━━━━━━━━━━━━━━━━━━\u001b[0m\u001b[37m\u001b[0m \u001b[1m1s\u001b[0m 27ms/step - accuracy: 0.7291 - auc: 0.7877 - fn: 20.6250 - fp: 13.5417 - loss: 6.3089 - prc: 0.7202 - precision: 0.7095 - recall: 0.6175 - tn: 56.7083 - tp: 32.9583 - val_accuracy: 0.0000e+00 - val_auc: 0.0000e+00 - val_fn: 25.0000 - val_fp: 0.0000e+00 - val_loss: 6.9759 - val_prc: 1.0000 - val_precision: 0.0000e+00 - val_recall: 0.0000e+00 - val_tn: 0.0000e+00 - val_tp: 0.0000e+00 - learning_rate: 1.0000e-05\n"
          ]
        }
      ],
      "source": [
        "history = model.fit(X_train_reshaped, y_train_resampled, epochs=100, batch_size=10, verbose=1, validation_split=0.1, callbacks=[reduce_lr,early_st])"
      ]
    },
    {
      "cell_type": "markdown",
      "metadata": {
        "id": "5hF9EG1dX6xZ"
      },
      "source": [
        "# Evaluate the model"
      ]
    },
    {
      "cell_type": "code",
      "execution_count": 44,
      "metadata": {
        "colab": {
          "base_uri": "https://localhost:8080/"
        },
        "id": "ux5k-LYLl3GF",
        "outputId": "4375561b-4095-44df-f714-a3f6bf0ada2d"
      },
      "outputs": [
        {
          "output_type": "stream",
          "name": "stdout",
          "text": [
            "\u001b[1m2/2\u001b[0m \u001b[32m━━━━━━━━━━━━━━━━━━━━\u001b[0m\u001b[37m\u001b[0m \u001b[1m3s\u001b[0m 969ms/step\n",
            "[[31  0]\n",
            " [12  0]]\n"
          ]
        }
      ],
      "source": [
        "y_pred  = model.predict(X_test_reshaped)\n",
        "y_pred = (y_pred>0.5)\n",
        "cm = confusion_matrix(y_test, y_pred)\n",
        "print(cm)"
      ]
    },
    {
      "cell_type": "code",
      "execution_count": 45,
      "metadata": {
        "colab": {
          "base_uri": "https://localhost:8080/"
        },
        "id": "iur6Wu4oZ5dI",
        "outputId": "6800e1fe-1fe8-40b2-8f8c-03b16d511b81"
      },
      "outputs": [
        {
          "output_type": "stream",
          "name": "stdout",
          "text": [
            "balanced acuracy: 0.5\n"
          ]
        }
      ],
      "source": [
        "print(\"balanced acuracy:\", balanced_accuracy_score(y_test, y_pred))"
      ]
    },
    {
      "cell_type": "code",
      "execution_count": 46,
      "metadata": {
        "colab": {
          "base_uri": "https://localhost:8080/"
        },
        "id": "zkQ55Zm7l3D2",
        "outputId": "120b759e-ff7c-4d3e-f738-218d7e3ec56e"
      },
      "outputs": [
        {
          "output_type": "stream",
          "name": "stdout",
          "text": [
            "              precision    recall  f1-score   support\n",
            "\n",
            "           0       0.72      1.00      0.84        31\n",
            "           1       0.00      0.00      0.00        12\n",
            "\n",
            "    accuracy                           0.72        43\n",
            "   macro avg       0.36      0.50      0.42        43\n",
            "weighted avg       0.52      0.72      0.60        43\n",
            "\n"
          ]
        },
        {
          "output_type": "stream",
          "name": "stderr",
          "text": [
            "/usr/local/lib/python3.10/dist-packages/sklearn/metrics/_classification.py:1565: UndefinedMetricWarning: Precision is ill-defined and being set to 0.0 in labels with no predicted samples. Use `zero_division` parameter to control this behavior.\n",
            "  _warn_prf(average, modifier, f\"{metric.capitalize()} is\", len(result))\n",
            "/usr/local/lib/python3.10/dist-packages/sklearn/metrics/_classification.py:1565: UndefinedMetricWarning: Precision is ill-defined and being set to 0.0 in labels with no predicted samples. Use `zero_division` parameter to control this behavior.\n",
            "  _warn_prf(average, modifier, f\"{metric.capitalize()} is\", len(result))\n",
            "/usr/local/lib/python3.10/dist-packages/sklearn/metrics/_classification.py:1565: UndefinedMetricWarning: Precision is ill-defined and being set to 0.0 in labels with no predicted samples. Use `zero_division` parameter to control this behavior.\n",
            "  _warn_prf(average, modifier, f\"{metric.capitalize()} is\", len(result))\n"
          ]
        },
        {
          "output_type": "stream",
          "name": "stdout",
          "text": [
            "\u001b[1m25/25\u001b[0m \u001b[32m━━━━━━━━━━━━━━━━━━━━\u001b[0m\u001b[37m\u001b[0m \u001b[1m1s\u001b[0m 37ms/step\n",
            "\u001b[1m5/5\u001b[0m \u001b[32m━━━━━━━━━━━━━━━━━━━━\u001b[0m\u001b[37m\u001b[0m \u001b[1m1s\u001b[0m 169ms/step\n",
            "loss :  6.580142021179199\n",
            "compile_metrics :  0.0\n",
            "\n"
          ]
        }
      ],
      "source": [
        "target_names=[\"0\",\"1\"]\n",
        "print(classification_report(y_test, y_pred, target_names=target_names))\n",
        "\n",
        "train_predictions_baseline = model.predict(X_train_reshaped, batch_size=10)\n",
        "test_predictions_baseline = model.predict(X_test_reshaped, batch_size=10)\n",
        "\n",
        "baseline_results = model.evaluate(X_test_reshaped, y_test, verbose=0)\n",
        "for name, value in zip(model.metrics_names, baseline_results):\n",
        "  print(name, ': ', value)\n",
        "print()"
      ]
    },
    {
      "cell_type": "code",
      "execution_count": 47,
      "metadata": {
        "colab": {
          "base_uri": "https://localhost:8080/",
          "height": 1000
        },
        "id": "YzVQLd_Xl3B1",
        "outputId": "6b459c59-c164-44fd-958f-a99a05753f09"
      },
      "outputs": [
        {
          "output_type": "display_data",
          "data": {
            "text/plain": [
              "<Figure size 1200x1000 with 1 Axes>"
            ],
            "image/png": "[encoded data removed]"
          },
          "metadata": {}
        },
        {
          "output_type": "display_data",
          "data": {
            "text/plain": [
              "<Figure size 1200x1000 with 1 Axes>"
            ],
            "image/png": "[encoded data removed]"
          },
          "metadata": {}
        }
      ],
      "source": [
        "plt.rcParams['figure.figsize'] = (12, 10)\n",
        "plt.rcParams.update({'font.size': 17})\n",
        "colors = plt.rcParams['axes.prop_cycle'].by_key()['color']\n",
        "\n",
        "def plot_roc(name, labels, predictions, **kwargs):\n",
        "  fp, tp, _ = sklearn.metrics.roc_curve(labels, predictions)\n",
        "\n",
        "  plt.plot(fp, tp, label=name, linewidth=2, **kwargs)\n",
        "  plt.plot([0, 1], [0, 1], 'k--')\n",
        "  plt.title('E. coli CNN')\n",
        "  plt.xlabel('False positives [%]')\n",
        "  plt.ylabel('True positives [%]')\n",
        "  plt.title('S. aureus AUROC')\n",
        "\n",
        "  plt.grid(True)\n",
        "  ax = plt.gca()\n",
        "  ax.set_aspect('equal')\n",
        "plot_roc(\"Ciprofloxacin               AUROC: %0.2f\" % baseline_results[8], y_test, test_predictions_baseline, color=colors[0])\n",
        "\n",
        "plt.legend(loc='lower right')\n",
        "plt.savefig('s_aureus_auroc.png', bbox_inches='tight')\n",
        "plt.show()\n",
        "\n",
        "def plot_prc(name, labels, predictions, **kwargs):\n",
        "    precision, recall, _ = sklearn.metrics.precision_recall_curve(labels, predictions)\n",
        "\n",
        "    plt.plot(precision, recall, label=name, linewidth=2, **kwargs)\n",
        "    plt.title('S. aureus AUPRC')\n",
        "    plt.xlabel('Recall')\n",
        "    plt.ylabel('Precision')\n",
        "    plt.plot([1, 0], [0, 1], 'k--')\n",
        "    plt.grid(True)\n",
        "    ax = plt.gca()\n",
        "    ax.set_aspect('equal')\n",
        "\n",
        "plot_prc(\"Ciprofloxacin        AUPRC: %0.2f\" % baseline_results[9], y_test, test_predictions_baseline, color=colors[0])\n",
        "\n",
        "plt.legend(loc='upper right')\n",
        "plt.savefig('s_aureus_auprc.png', bbox_inches='tight')\n",
        "plt.show()"
      ]
    }
  ],
  "metadata": {
    "accelerator": "GPU",
    "colab": {
      "provenance": []
    },
    "gpuClass": "standard",
    "kernelspec": {
      "display_name": "Python 3 (ipykernel)",
      "language": "python",
      "name": "python3"
    },
    "language_info": {
      "codemirror_mode": {
        "name": "ipython",
        "version": 3
      },
      "file_extension": ".py",
      "mimetype": "text/x-python",
      "name": "python",
      "nbconvert_exporter": "python",
      "pygments_lexer": "ipython3",
      "version": "3.9.2"
    }
  },
  "nbformat": 4,
  "nbformat_minor": 0
}