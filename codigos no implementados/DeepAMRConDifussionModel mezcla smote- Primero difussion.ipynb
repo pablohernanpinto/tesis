{
  "cells": [
    {
      "cell_type": "markdown",
      "metadata": {
        "id": "LNNFUJODXA9C"
      },
      "source": [
        "# 0-Libraries"
      ]
    },
    {
      "cell_type": "code",
      "execution_count": 220,
      "metadata": {
        "id": "W1quzgr-ao8A"
      },
      "outputs": [],
      "source": [
        "import numpy as np\n",
        "import matplotlib.pyplot as plt\n",
        "import itertools\n",
        "import pandas as pd\n",
        "import sklearn\n",
        "from sklearn.model_selection import train_test_split\n",
        "from sklearn.metrics import confusion_matrix,classification_report,ConfusionMatrixDisplay, balanced_accuracy_score\n",
        "#from sklearn.preprocessing import LabelEncoder, OneHotEncoder\n",
        "from sklearn.compose import ColumnTransformer\n",
        "from sklearn.preprocessing import Normalizer, StandardScaler, MinMaxScaler, MaxAbsScaler, RobustScaler, QuantileTransformer, PowerTransformer\n",
        "import tensorflow as tf\n",
        "from tensorflow import keras\n",
        "from keras import regularizers\n",
        "from keras.optimizers import Adam\n",
        "#from keras.backend import expand_dims\n",
        "from keras.callbacks import ReduceLROnPlateau, EarlyStopping\n",
        "from keras.models import Sequential\n",
        "from keras.constraints import MaxNorm\n",
        "from keras.layers import Activation, Dense, Conv1D, Flatten, MaxPooling1D, Dropout, BatchNormalization, SpatialDropout1D"
      ]
    },
    {
      "cell_type": "code",
      "execution_count": 221,
      "metadata": {
        "id": "gy_ErAtqkxgt"
      },
      "outputs": [],
      "source": [
        "METRICS = [\n",
        "      keras.metrics.TruePositives(name='tp'),\n",
        "      keras.metrics.FalsePositives(name='fp'),\n",
        "      keras.metrics.TrueNegatives(name='tn'),\n",
        "      keras.metrics.FalseNegatives(name='fn'),\n",
        "      keras.metrics.BinaryAccuracy(name='accuracy'),\n",
        "      keras.metrics.Precision(name='precision'),\n",
        "      keras.metrics.Recall(name='recall'),\n",
        "      keras.metrics.AUC(name='auc'),\n",
        "      keras.metrics.AUC(name='prc', curve='PR'), # precision-recall curve\n",
        "]"
      ]
    },
    {
      "cell_type": "markdown",
      "metadata": {
        "id": "N6bQjUrPXPaI"
      },
      "source": [
        "# 1- Load Data"
      ]
    },
    {
      "cell_type": "code",
      "execution_count": 222,
      "metadata": {
        "colab": {
          "base_uri": "https://localhost:8080/",
          "height": 533
        },
        "id": "UXVFQgZNaNrg",
        "outputId": "d250b076-aa61-46d9-d165-ab7a7a24aee3"
      },
      "outputs": [
        {
          "data": {
            "text/html": [
              "<div>\n",
              "<style scoped>\n",
              "    .dataframe tbody tr th:only-of-type {\n",
              "        vertical-align: middle;\n",
              "    }\n",
              "\n",
              "    .dataframe tbody tr th {\n",
              "        vertical-align: top;\n",
              "    }\n",
              "\n",
              "    .dataframe thead th {\n",
              "        text-align: right;\n",
              "    }\n",
              "</style>\n",
              "<table border=\"1\" class=\"dataframe\">\n",
              "  <thead>\n",
              "    <tr style=\"text-align: right;\">\n",
              "      <th></th>\n",
              "      <th>2000</th>\n",
              "      <th>2003</th>\n",
              "      <th>2006</th>\n",
              "      <th>2009</th>\n",
              "      <th>2012</th>\n",
              "      <th>2015</th>\n",
              "      <th>2018</th>\n",
              "      <th>2021</th>\n",
              "      <th>2024</th>\n",
              "      <th>2027</th>\n",
              "      <th>...</th>\n",
              "      <th>19991</th>\n",
              "      <th>19994</th>\n",
              "      <th>19997</th>\n",
              "      <th>code</th>\n",
              "      <th>species</th>\n",
              "      <th>Oxacillin</th>\n",
              "      <th>Clindamycin</th>\n",
              "      <th>Ceftriaxone</th>\n",
              "      <th>Ciprofloxacin</th>\n",
              "      <th>Fusidic acid</th>\n",
              "    </tr>\n",
              "  </thead>\n",
              "  <tbody>\n",
              "    <tr>\n",
              "      <th>0</th>\n",
              "      <td>951.428571</td>\n",
              "      <td>826.125000</td>\n",
              "      <td>944.857143</td>\n",
              "      <td>898.428571</td>\n",
              "      <td>1007.714286</td>\n",
              "      <td>936.000000</td>\n",
              "      <td>828.571429</td>\n",
              "      <td>812.000000</td>\n",
              "      <td>782.714286</td>\n",
              "      <td>741.625000</td>\n",
              "      <td>...</td>\n",
              "      <td>35.5</td>\n",
              "      <td>20.5</td>\n",
              "      <td>27.342857</td>\n",
              "      <td>029f0abf-1664-424f-88cb-11c9c8af2b11</td>\n",
              "      <td>Staphylococcus aureus</td>\n",
              "      <td>0.0</td>\n",
              "      <td>0.0</td>\n",
              "      <td>0.0</td>\n",
              "      <td>0.0</td>\n",
              "      <td>1.0</td>\n",
              "    </tr>\n",
              "    <tr>\n",
              "      <th>1</th>\n",
              "      <td>784.714286</td>\n",
              "      <td>701.125000</td>\n",
              "      <td>681.571429</td>\n",
              "      <td>762.142857</td>\n",
              "      <td>737.571429</td>\n",
              "      <td>733.000000</td>\n",
              "      <td>735.857143</td>\n",
              "      <td>659.571429</td>\n",
              "      <td>802.714286</td>\n",
              "      <td>554.375000</td>\n",
              "      <td>...</td>\n",
              "      <td>30.0</td>\n",
              "      <td>40.5</td>\n",
              "      <td>34.695238</td>\n",
              "      <td>08149af1-10f5-4f02-81d8-3d46d66d4a7a</td>\n",
              "      <td>Staphylococcus aureus</td>\n",
              "      <td>0.0</td>\n",
              "      <td>0.0</td>\n",
              "      <td>0.0</td>\n",
              "      <td>0.0</td>\n",
              "      <td>0.0</td>\n",
              "    </tr>\n",
              "    <tr>\n",
              "      <th>2</th>\n",
              "      <td>50.875000</td>\n",
              "      <td>89.142857</td>\n",
              "      <td>56.142857</td>\n",
              "      <td>151.285714</td>\n",
              "      <td>132.714286</td>\n",
              "      <td>110.428571</td>\n",
              "      <td>47.285714</td>\n",
              "      <td>63.428571</td>\n",
              "      <td>100.375000</td>\n",
              "      <td>52.142857</td>\n",
              "      <td>...</td>\n",
              "      <td>2.5</td>\n",
              "      <td>30.5</td>\n",
              "      <td>11.288462</td>\n",
              "      <td>08fe3876-ecee-4ddc-9aa9-a84f605757f7</td>\n",
              "      <td>Staphylococcus aureus</td>\n",
              "      <td>0.0</td>\n",
              "      <td>0.0</td>\n",
              "      <td>0.0</td>\n",
              "      <td>0.0</td>\n",
              "      <td>0.0</td>\n",
              "    </tr>\n",
              "    <tr>\n",
              "      <th>3</th>\n",
              "      <td>843.285714</td>\n",
              "      <td>816.500000</td>\n",
              "      <td>734.428571</td>\n",
              "      <td>1027.142857</td>\n",
              "      <td>979.428571</td>\n",
              "      <td>875.571429</td>\n",
              "      <td>912.142857</td>\n",
              "      <td>714.428571</td>\n",
              "      <td>945.428571</td>\n",
              "      <td>886.500000</td>\n",
              "      <td>...</td>\n",
              "      <td>15.5</td>\n",
              "      <td>8.0</td>\n",
              "      <td>20.057143</td>\n",
              "      <td>0a9fdd4b-7180-47c0-849e-cb32d46da94c</td>\n",
              "      <td>Staphylococcus aureus</td>\n",
              "      <td>0.0</td>\n",
              "      <td>0.0</td>\n",
              "      <td>0.0</td>\n",
              "      <td>0.0</td>\n",
              "      <td>0.0</td>\n",
              "    </tr>\n",
              "    <tr>\n",
              "      <th>4</th>\n",
              "      <td>307.857143</td>\n",
              "      <td>295.000000</td>\n",
              "      <td>246.714286</td>\n",
              "      <td>181.571429</td>\n",
              "      <td>258.000000</td>\n",
              "      <td>318.714286</td>\n",
              "      <td>295.714286</td>\n",
              "      <td>300.857143</td>\n",
              "      <td>278.142857</td>\n",
              "      <td>256.125000</td>\n",
              "      <td>...</td>\n",
              "      <td>25.5</td>\n",
              "      <td>32.0</td>\n",
              "      <td>24.990476</td>\n",
              "      <td>0d82f4c4-473c-49d8-8c85-e3e36e96d047</td>\n",
              "      <td>Staphylococcus aureus</td>\n",
              "      <td>1.0</td>\n",
              "      <td>0.0</td>\n",
              "      <td>1.0</td>\n",
              "      <td>1.0</td>\n",
              "      <td>0.0</td>\n",
              "    </tr>\n",
              "  </tbody>\n",
              "</table>\n",
              "<p>5 rows × 6007 columns</p>\n",
              "</div>"
            ],
            "text/plain": [
              "         2000        2003        2006         2009         2012        2015  \\\n",
              "0  951.428571  826.125000  944.857143   898.428571  1007.714286  936.000000   \n",
              "1  784.714286  701.125000  681.571429   762.142857   737.571429  733.000000   \n",
              "2   50.875000   89.142857   56.142857   151.285714   132.714286  110.428571   \n",
              "3  843.285714  816.500000  734.428571  1027.142857   979.428571  875.571429   \n",
              "4  307.857143  295.000000  246.714286   181.571429   258.000000  318.714286   \n",
              "\n",
              "         2018        2021        2024        2027  ...  19991  19994  \\\n",
              "0  828.571429  812.000000  782.714286  741.625000  ...   35.5   20.5   \n",
              "1  735.857143  659.571429  802.714286  554.375000  ...   30.0   40.5   \n",
              "2   47.285714   63.428571  100.375000   52.142857  ...    2.5   30.5   \n",
              "3  912.142857  714.428571  945.428571  886.500000  ...   15.5    8.0   \n",
              "4  295.714286  300.857143  278.142857  256.125000  ...   25.5   32.0   \n",
              "\n",
              "       19997                                  code                species  \\\n",
              "0  27.342857  029f0abf-1664-424f-88cb-11c9c8af2b11  Staphylococcus aureus   \n",
              "1  34.695238  08149af1-10f5-4f02-81d8-3d46d66d4a7a  Staphylococcus aureus   \n",
              "2  11.288462  08fe3876-ecee-4ddc-9aa9-a84f605757f7  Staphylococcus aureus   \n",
              "3  20.057143  0a9fdd4b-7180-47c0-849e-cb32d46da94c  Staphylococcus aureus   \n",
              "4  24.990476  0d82f4c4-473c-49d8-8c85-e3e36e96d047  Staphylococcus aureus   \n",
              "\n",
              "   Oxacillin  Clindamycin  Ceftriaxone  Ciprofloxacin  Fusidic acid  \n",
              "0        0.0          0.0          0.0            0.0           1.0  \n",
              "1        0.0          0.0          0.0            0.0           0.0  \n",
              "2        0.0          0.0          0.0            0.0           0.0  \n",
              "3        0.0          0.0          0.0            0.0           0.0  \n",
              "4        1.0          0.0          1.0            1.0           0.0  \n",
              "\n",
              "[5 rows x 6007 columns]"
            ]
          },
          "execution_count": 222,
          "metadata": {},
          "output_type": "execute_result"
        }
      ],
      "source": [
        "s_aureus = pd.read_csv('s_aureus_driams_a_bin3_2000_20000Da.csv')\n",
        "s_aureus.head()"
      ]
    },
    {
      "cell_type": "markdown",
      "metadata": {
        "id": "NhURWBqqXoQp"
      },
      "source": [
        "# Preprocessing Data"
      ]
    },
    {
      "cell_type": "code",
      "execution_count": 223,
      "metadata": {
        "id": "koTco5gulH3G"
      },
      "outputs": [],
      "source": [
        "s_aureus_oxacillin = s_aureus.drop(columns=['code','species', 'Clindamycin', 'Ceftriaxone', 'Ciprofloxacin', 'Fusidic acid'])\n",
        "s_aureus_oxacillin.dropna(axis=0, how=\"any\", inplace=True)"
      ]
    },
    {
      "cell_type": "code",
      "execution_count": 224,
      "metadata": {
        "colab": {
          "base_uri": "https://localhost:8080/"
        },
        "id": "orhVwzFGkic-",
        "outputId": "47c32caa-83fb-4434-9a77-32b3f4677c02"
      },
      "outputs": [
        {
          "data": {
            "text/plain": [
              "(3757, 6003)"
            ]
          },
          "execution_count": 224,
          "metadata": {},
          "output_type": "execute_result"
        }
      ],
      "source": [
        "s_aureus_ceftriaxone = s_aureus.drop(columns=['Oxacillin', 'Clindamycin', 'Ceftriaxone', 'Fusidic acid'])\n",
        "#ceftriaxone.dropna(axis=0, how=\"any\", inplace=True)\n",
        "s_aureus_ceftriaxone.dropna(axis=0, how=\"any\", inplace=True)\n",
        "s_aureus_ceftriaxone.shape"
      ]
    },
    {
      "cell_type": "code",
      "execution_count": 225,
      "metadata": {
        "colab": {
          "base_uri": "https://localhost:8080/",
          "height": 255
        },
        "id": "wZUfupfGtc7O",
        "outputId": "af1d2eac-096e-4a39-8406-586718f33d29"
      },
      "outputs": [
        {
          "data": {
            "text/html": [
              "<div>\n",
              "<style scoped>\n",
              "    .dataframe tbody tr th:only-of-type {\n",
              "        vertical-align: middle;\n",
              "    }\n",
              "\n",
              "    .dataframe tbody tr th {\n",
              "        vertical-align: top;\n",
              "    }\n",
              "\n",
              "    .dataframe thead th {\n",
              "        text-align: right;\n",
              "    }\n",
              "</style>\n",
              "<table border=\"1\" class=\"dataframe\">\n",
              "  <thead>\n",
              "    <tr style=\"text-align: right;\">\n",
              "      <th></th>\n",
              "      <th>2000</th>\n",
              "      <th>2003</th>\n",
              "      <th>2006</th>\n",
              "      <th>2009</th>\n",
              "      <th>2012</th>\n",
              "      <th>2015</th>\n",
              "      <th>2018</th>\n",
              "      <th>2021</th>\n",
              "      <th>2024</th>\n",
              "      <th>2027</th>\n",
              "      <th>...</th>\n",
              "      <th>19973</th>\n",
              "      <th>19976</th>\n",
              "      <th>19979</th>\n",
              "      <th>19982</th>\n",
              "      <th>19985</th>\n",
              "      <th>19988</th>\n",
              "      <th>19991</th>\n",
              "      <th>19994</th>\n",
              "      <th>19997</th>\n",
              "      <th>Oxacillin</th>\n",
              "    </tr>\n",
              "  </thead>\n",
              "  <tbody>\n",
              "    <tr>\n",
              "      <th>0</th>\n",
              "      <td>951.428571</td>\n",
              "      <td>826.125000</td>\n",
              "      <td>944.857143</td>\n",
              "      <td>898.428571</td>\n",
              "      <td>1007.714286</td>\n",
              "      <td>936.000000</td>\n",
              "      <td>828.571429</td>\n",
              "      <td>812.000000</td>\n",
              "      <td>782.714286</td>\n",
              "      <td>741.625000</td>\n",
              "      <td>...</td>\n",
              "      <td>14.333333</td>\n",
              "      <td>24.0</td>\n",
              "      <td>68.0</td>\n",
              "      <td>19.0</td>\n",
              "      <td>19.000000</td>\n",
              "      <td>50.0</td>\n",
              "      <td>35.5</td>\n",
              "      <td>20.5</td>\n",
              "      <td>27.342857</td>\n",
              "      <td>0.0</td>\n",
              "    </tr>\n",
              "    <tr>\n",
              "      <th>1</th>\n",
              "      <td>784.714286</td>\n",
              "      <td>701.125000</td>\n",
              "      <td>681.571429</td>\n",
              "      <td>762.142857</td>\n",
              "      <td>737.571429</td>\n",
              "      <td>733.000000</td>\n",
              "      <td>735.857143</td>\n",
              "      <td>659.571429</td>\n",
              "      <td>802.714286</td>\n",
              "      <td>554.375000</td>\n",
              "      <td>...</td>\n",
              "      <td>15.666667</td>\n",
              "      <td>39.0</td>\n",
              "      <td>19.5</td>\n",
              "      <td>42.0</td>\n",
              "      <td>69.666667</td>\n",
              "      <td>31.0</td>\n",
              "      <td>30.0</td>\n",
              "      <td>40.5</td>\n",
              "      <td>34.695238</td>\n",
              "      <td>0.0</td>\n",
              "    </tr>\n",
              "    <tr>\n",
              "      <th>2</th>\n",
              "      <td>50.875000</td>\n",
              "      <td>89.142857</td>\n",
              "      <td>56.142857</td>\n",
              "      <td>151.285714</td>\n",
              "      <td>132.714286</td>\n",
              "      <td>110.428571</td>\n",
              "      <td>47.285714</td>\n",
              "      <td>63.428571</td>\n",
              "      <td>100.375000</td>\n",
              "      <td>52.142857</td>\n",
              "      <td>...</td>\n",
              "      <td>20.666667</td>\n",
              "      <td>17.0</td>\n",
              "      <td>2.0</td>\n",
              "      <td>18.0</td>\n",
              "      <td>18.000000</td>\n",
              "      <td>11.5</td>\n",
              "      <td>2.5</td>\n",
              "      <td>30.5</td>\n",
              "      <td>11.288462</td>\n",
              "      <td>0.0</td>\n",
              "    </tr>\n",
              "    <tr>\n",
              "      <th>3</th>\n",
              "      <td>843.285714</td>\n",
              "      <td>816.500000</td>\n",
              "      <td>734.428571</td>\n",
              "      <td>1027.142857</td>\n",
              "      <td>979.428571</td>\n",
              "      <td>875.571429</td>\n",
              "      <td>912.142857</td>\n",
              "      <td>714.428571</td>\n",
              "      <td>945.428571</td>\n",
              "      <td>886.500000</td>\n",
              "      <td>...</td>\n",
              "      <td>22.333333</td>\n",
              "      <td>33.0</td>\n",
              "      <td>29.0</td>\n",
              "      <td>14.5</td>\n",
              "      <td>21.666667</td>\n",
              "      <td>24.5</td>\n",
              "      <td>15.5</td>\n",
              "      <td>8.0</td>\n",
              "      <td>20.057143</td>\n",
              "      <td>0.0</td>\n",
              "    </tr>\n",
              "    <tr>\n",
              "      <th>4</th>\n",
              "      <td>307.857143</td>\n",
              "      <td>295.000000</td>\n",
              "      <td>246.714286</td>\n",
              "      <td>181.571429</td>\n",
              "      <td>258.000000</td>\n",
              "      <td>318.714286</td>\n",
              "      <td>295.714286</td>\n",
              "      <td>300.857143</td>\n",
              "      <td>278.142857</td>\n",
              "      <td>256.125000</td>\n",
              "      <td>...</td>\n",
              "      <td>26.666667</td>\n",
              "      <td>25.5</td>\n",
              "      <td>18.0</td>\n",
              "      <td>53.5</td>\n",
              "      <td>23.000000</td>\n",
              "      <td>24.5</td>\n",
              "      <td>25.5</td>\n",
              "      <td>32.0</td>\n",
              "      <td>24.990476</td>\n",
              "      <td>1.0</td>\n",
              "    </tr>\n",
              "  </tbody>\n",
              "</table>\n",
              "<p>5 rows × 6001 columns</p>\n",
              "</div>"
            ],
            "text/plain": [
              "         2000        2003        2006         2009         2012        2015  \\\n",
              "0  951.428571  826.125000  944.857143   898.428571  1007.714286  936.000000   \n",
              "1  784.714286  701.125000  681.571429   762.142857   737.571429  733.000000   \n",
              "2   50.875000   89.142857   56.142857   151.285714   132.714286  110.428571   \n",
              "3  843.285714  816.500000  734.428571  1027.142857   979.428571  875.571429   \n",
              "4  307.857143  295.000000  246.714286   181.571429   258.000000  318.714286   \n",
              "\n",
              "         2018        2021        2024        2027  ...      19973  19976  \\\n",
              "0  828.571429  812.000000  782.714286  741.625000  ...  14.333333   24.0   \n",
              "1  735.857143  659.571429  802.714286  554.375000  ...  15.666667   39.0   \n",
              "2   47.285714   63.428571  100.375000   52.142857  ...  20.666667   17.0   \n",
              "3  912.142857  714.428571  945.428571  886.500000  ...  22.333333   33.0   \n",
              "4  295.714286  300.857143  278.142857  256.125000  ...  26.666667   25.5   \n",
              "\n",
              "   19979  19982      19985  19988  19991  19994      19997  Oxacillin  \n",
              "0   68.0   19.0  19.000000   50.0   35.5   20.5  27.342857        0.0  \n",
              "1   19.5   42.0  69.666667   31.0   30.0   40.5  34.695238        0.0  \n",
              "2    2.0   18.0  18.000000   11.5    2.5   30.5  11.288462        0.0  \n",
              "3   29.0   14.5  21.666667   24.5   15.5    8.0  20.057143        0.0  \n",
              "4   18.0   53.5  23.000000   24.5   25.5   32.0  24.990476        1.0  \n",
              "\n",
              "[5 rows x 6001 columns]"
            ]
          },
          "execution_count": 225,
          "metadata": {},
          "output_type": "execute_result"
        }
      ],
      "source": [
        "s_aureus_oxacillin.head()"
      ]
    },
    {
      "cell_type": "code",
      "execution_count": 226,
      "metadata": {
        "id": "-4dAtvUEkibF"
      },
      "outputs": [],
      "source": [
        "X = s_aureus_oxacillin.iloc[:, 0:6000].values  # variables independientes (espectros de masa)\n",
        "y = s_aureus_oxacillin.iloc[:, 6000].values    # variable dependientes (resistencia a ciprofloxacin)\n",
        "X = np.asarray(X).astype(np.float32)\n",
        "y = np.asarray(y).astype(np.float32)"
      ]
    },
    {
      "cell_type": "code",
      "execution_count": 227,
      "metadata": {},
      "outputs": [
        {
          "data": {
            "text/html": [
              "<div>\n",
              "<style scoped>\n",
              "    .dataframe tbody tr th:only-of-type {\n",
              "        vertical-align: middle;\n",
              "    }\n",
              "\n",
              "    .dataframe tbody tr th {\n",
              "        vertical-align: top;\n",
              "    }\n",
              "\n",
              "    .dataframe thead th {\n",
              "        text-align: right;\n",
              "    }\n",
              "</style>\n",
              "<table border=\"1\" class=\"dataframe\">\n",
              "  <thead>\n",
              "    <tr style=\"text-align: right;\">\n",
              "      <th></th>\n",
              "      <th>2000</th>\n",
              "      <th>2003</th>\n",
              "      <th>2006</th>\n",
              "      <th>2009</th>\n",
              "      <th>2012</th>\n",
              "      <th>2015</th>\n",
              "      <th>2018</th>\n",
              "      <th>2021</th>\n",
              "      <th>2024</th>\n",
              "      <th>2027</th>\n",
              "      <th>...</th>\n",
              "      <th>19973</th>\n",
              "      <th>19976</th>\n",
              "      <th>19979</th>\n",
              "      <th>19982</th>\n",
              "      <th>19985</th>\n",
              "      <th>19988</th>\n",
              "      <th>19991</th>\n",
              "      <th>19994</th>\n",
              "      <th>19997</th>\n",
              "      <th>Oxacillin</th>\n",
              "    </tr>\n",
              "  </thead>\n",
              "  <tbody>\n",
              "    <tr>\n",
              "      <th>0</th>\n",
              "      <td>951.428571</td>\n",
              "      <td>826.125000</td>\n",
              "      <td>944.857143</td>\n",
              "      <td>898.428571</td>\n",
              "      <td>1007.714286</td>\n",
              "      <td>936.000000</td>\n",
              "      <td>828.571429</td>\n",
              "      <td>812.000000</td>\n",
              "      <td>782.714286</td>\n",
              "      <td>741.625000</td>\n",
              "      <td>...</td>\n",
              "      <td>14.333333</td>\n",
              "      <td>24.0</td>\n",
              "      <td>68.0</td>\n",
              "      <td>19.0</td>\n",
              "      <td>19.000000</td>\n",
              "      <td>50.0</td>\n",
              "      <td>35.5</td>\n",
              "      <td>20.500000</td>\n",
              "      <td>27.342857</td>\n",
              "      <td>0.0</td>\n",
              "    </tr>\n",
              "    <tr>\n",
              "      <th>1</th>\n",
              "      <td>784.714286</td>\n",
              "      <td>701.125000</td>\n",
              "      <td>681.571429</td>\n",
              "      <td>762.142857</td>\n",
              "      <td>737.571429</td>\n",
              "      <td>733.000000</td>\n",
              "      <td>735.857143</td>\n",
              "      <td>659.571429</td>\n",
              "      <td>802.714286</td>\n",
              "      <td>554.375000</td>\n",
              "      <td>...</td>\n",
              "      <td>15.666667</td>\n",
              "      <td>39.0</td>\n",
              "      <td>19.5</td>\n",
              "      <td>42.0</td>\n",
              "      <td>69.666667</td>\n",
              "      <td>31.0</td>\n",
              "      <td>30.0</td>\n",
              "      <td>40.500000</td>\n",
              "      <td>34.695238</td>\n",
              "      <td>0.0</td>\n",
              "    </tr>\n",
              "    <tr>\n",
              "      <th>2</th>\n",
              "      <td>50.875000</td>\n",
              "      <td>89.142857</td>\n",
              "      <td>56.142857</td>\n",
              "      <td>151.285714</td>\n",
              "      <td>132.714286</td>\n",
              "      <td>110.428571</td>\n",
              "      <td>47.285714</td>\n",
              "      <td>63.428571</td>\n",
              "      <td>100.375000</td>\n",
              "      <td>52.142857</td>\n",
              "      <td>...</td>\n",
              "      <td>20.666667</td>\n",
              "      <td>17.0</td>\n",
              "      <td>2.0</td>\n",
              "      <td>18.0</td>\n",
              "      <td>18.000000</td>\n",
              "      <td>11.5</td>\n",
              "      <td>2.5</td>\n",
              "      <td>30.500000</td>\n",
              "      <td>11.288462</td>\n",
              "      <td>0.0</td>\n",
              "    </tr>\n",
              "    <tr>\n",
              "      <th>3</th>\n",
              "      <td>843.285714</td>\n",
              "      <td>816.500000</td>\n",
              "      <td>734.428571</td>\n",
              "      <td>1027.142857</td>\n",
              "      <td>979.428571</td>\n",
              "      <td>875.571429</td>\n",
              "      <td>912.142857</td>\n",
              "      <td>714.428571</td>\n",
              "      <td>945.428571</td>\n",
              "      <td>886.500000</td>\n",
              "      <td>...</td>\n",
              "      <td>22.333333</td>\n",
              "      <td>33.0</td>\n",
              "      <td>29.0</td>\n",
              "      <td>14.5</td>\n",
              "      <td>21.666667</td>\n",
              "      <td>24.5</td>\n",
              "      <td>15.5</td>\n",
              "      <td>8.000000</td>\n",
              "      <td>20.057143</td>\n",
              "      <td>0.0</td>\n",
              "    </tr>\n",
              "    <tr>\n",
              "      <th>4</th>\n",
              "      <td>307.857143</td>\n",
              "      <td>295.000000</td>\n",
              "      <td>246.714286</td>\n",
              "      <td>181.571429</td>\n",
              "      <td>258.000000</td>\n",
              "      <td>318.714286</td>\n",
              "      <td>295.714286</td>\n",
              "      <td>300.857143</td>\n",
              "      <td>278.142857</td>\n",
              "      <td>256.125000</td>\n",
              "      <td>...</td>\n",
              "      <td>26.666667</td>\n",
              "      <td>25.5</td>\n",
              "      <td>18.0</td>\n",
              "      <td>53.5</td>\n",
              "      <td>23.000000</td>\n",
              "      <td>24.5</td>\n",
              "      <td>25.5</td>\n",
              "      <td>32.000000</td>\n",
              "      <td>24.990476</td>\n",
              "      <td>1.0</td>\n",
              "    </tr>\n",
              "    <tr>\n",
              "      <th>...</th>\n",
              "      <td>...</td>\n",
              "      <td>...</td>\n",
              "      <td>...</td>\n",
              "      <td>...</td>\n",
              "      <td>...</td>\n",
              "      <td>...</td>\n",
              "      <td>...</td>\n",
              "      <td>...</td>\n",
              "      <td>...</td>\n",
              "      <td>...</td>\n",
              "      <td>...</td>\n",
              "      <td>...</td>\n",
              "      <td>...</td>\n",
              "      <td>...</td>\n",
              "      <td>...</td>\n",
              "      <td>...</td>\n",
              "      <td>...</td>\n",
              "      <td>...</td>\n",
              "      <td>...</td>\n",
              "      <td>...</td>\n",
              "      <td>...</td>\n",
              "    </tr>\n",
              "    <tr>\n",
              "      <th>3786</th>\n",
              "      <td>288.000000</td>\n",
              "      <td>330.285714</td>\n",
              "      <td>296.142857</td>\n",
              "      <td>265.142857</td>\n",
              "      <td>310.750000</td>\n",
              "      <td>287.000000</td>\n",
              "      <td>345.000000</td>\n",
              "      <td>260.000000</td>\n",
              "      <td>198.714286</td>\n",
              "      <td>257.285714</td>\n",
              "      <td>...</td>\n",
              "      <td>0.000000</td>\n",
              "      <td>0.0</td>\n",
              "      <td>0.0</td>\n",
              "      <td>0.0</td>\n",
              "      <td>0.000000</td>\n",
              "      <td>0.0</td>\n",
              "      <td>0.0</td>\n",
              "      <td>0.000000</td>\n",
              "      <td>0.004038</td>\n",
              "      <td>0.0</td>\n",
              "    </tr>\n",
              "    <tr>\n",
              "      <th>3787</th>\n",
              "      <td>1286.142857</td>\n",
              "      <td>989.714286</td>\n",
              "      <td>938.285714</td>\n",
              "      <td>901.428571</td>\n",
              "      <td>872.000000</td>\n",
              "      <td>1001.000000</td>\n",
              "      <td>1061.571429</td>\n",
              "      <td>890.857143</td>\n",
              "      <td>813.857143</td>\n",
              "      <td>961.000000</td>\n",
              "      <td>...</td>\n",
              "      <td>0.000000</td>\n",
              "      <td>0.0</td>\n",
              "      <td>0.0</td>\n",
              "      <td>0.0</td>\n",
              "      <td>0.000000</td>\n",
              "      <td>0.0</td>\n",
              "      <td>0.0</td>\n",
              "      <td>0.000000</td>\n",
              "      <td>0.053908</td>\n",
              "      <td>0.0</td>\n",
              "    </tr>\n",
              "    <tr>\n",
              "      <th>3788</th>\n",
              "      <td>986.857143</td>\n",
              "      <td>977.285714</td>\n",
              "      <td>892.285714</td>\n",
              "      <td>986.714286</td>\n",
              "      <td>1045.875000</td>\n",
              "      <td>986.857143</td>\n",
              "      <td>963.571429</td>\n",
              "      <td>968.571429</td>\n",
              "      <td>960.857143</td>\n",
              "      <td>969.714286</td>\n",
              "      <td>...</td>\n",
              "      <td>0.000000</td>\n",
              "      <td>0.0</td>\n",
              "      <td>0.0</td>\n",
              "      <td>0.0</td>\n",
              "      <td>0.000000</td>\n",
              "      <td>0.0</td>\n",
              "      <td>0.0</td>\n",
              "      <td>0.000000</td>\n",
              "      <td>0.039084</td>\n",
              "      <td>0.0</td>\n",
              "    </tr>\n",
              "    <tr>\n",
              "      <th>3789</th>\n",
              "      <td>141.857143</td>\n",
              "      <td>197.428571</td>\n",
              "      <td>148.142857</td>\n",
              "      <td>114.000000</td>\n",
              "      <td>125.857143</td>\n",
              "      <td>158.750000</td>\n",
              "      <td>176.571429</td>\n",
              "      <td>148.285714</td>\n",
              "      <td>149.714286</td>\n",
              "      <td>151.714286</td>\n",
              "      <td>...</td>\n",
              "      <td>0.000000</td>\n",
              "      <td>0.0</td>\n",
              "      <td>0.0</td>\n",
              "      <td>0.0</td>\n",
              "      <td>0.000000</td>\n",
              "      <td>0.0</td>\n",
              "      <td>0.0</td>\n",
              "      <td>0.000000</td>\n",
              "      <td>0.012113</td>\n",
              "      <td>0.0</td>\n",
              "    </tr>\n",
              "    <tr>\n",
              "      <th>3790</th>\n",
              "      <td>1498.428571</td>\n",
              "      <td>1631.857143</td>\n",
              "      <td>1443.571429</td>\n",
              "      <td>1431.571429</td>\n",
              "      <td>1361.000000</td>\n",
              "      <td>1483.857143</td>\n",
              "      <td>1520.375000</td>\n",
              "      <td>1385.571429</td>\n",
              "      <td>1333.428571</td>\n",
              "      <td>1309.285714</td>\n",
              "      <td>...</td>\n",
              "      <td>20.000000</td>\n",
              "      <td>14.5</td>\n",
              "      <td>24.5</td>\n",
              "      <td>15.0</td>\n",
              "      <td>14.000000</td>\n",
              "      <td>24.5</td>\n",
              "      <td>19.0</td>\n",
              "      <td>17.333333</td>\n",
              "      <td>16.595960</td>\n",
              "      <td>0.0</td>\n",
              "    </tr>\n",
              "  </tbody>\n",
              "</table>\n",
              "<p>3790 rows × 6001 columns</p>\n",
              "</div>"
            ],
            "text/plain": [
              "             2000         2003         2006         2009         2012  \\\n",
              "0      951.428571   826.125000   944.857143   898.428571  1007.714286   \n",
              "1      784.714286   701.125000   681.571429   762.142857   737.571429   \n",
              "2       50.875000    89.142857    56.142857   151.285714   132.714286   \n",
              "3      843.285714   816.500000   734.428571  1027.142857   979.428571   \n",
              "4      307.857143   295.000000   246.714286   181.571429   258.000000   \n",
              "...           ...          ...          ...          ...          ...   \n",
              "3786   288.000000   330.285714   296.142857   265.142857   310.750000   \n",
              "3787  1286.142857   989.714286   938.285714   901.428571   872.000000   \n",
              "3788   986.857143   977.285714   892.285714   986.714286  1045.875000   \n",
              "3789   141.857143   197.428571   148.142857   114.000000   125.857143   \n",
              "3790  1498.428571  1631.857143  1443.571429  1431.571429  1361.000000   \n",
              "\n",
              "             2015         2018         2021         2024         2027  ...  \\\n",
              "0      936.000000   828.571429   812.000000   782.714286   741.625000  ...   \n",
              "1      733.000000   735.857143   659.571429   802.714286   554.375000  ...   \n",
              "2      110.428571    47.285714    63.428571   100.375000    52.142857  ...   \n",
              "3      875.571429   912.142857   714.428571   945.428571   886.500000  ...   \n",
              "4      318.714286   295.714286   300.857143   278.142857   256.125000  ...   \n",
              "...           ...          ...          ...          ...          ...  ...   \n",
              "3786   287.000000   345.000000   260.000000   198.714286   257.285714  ...   \n",
              "3787  1001.000000  1061.571429   890.857143   813.857143   961.000000  ...   \n",
              "3788   986.857143   963.571429   968.571429   960.857143   969.714286  ...   \n",
              "3789   158.750000   176.571429   148.285714   149.714286   151.714286  ...   \n",
              "3790  1483.857143  1520.375000  1385.571429  1333.428571  1309.285714  ...   \n",
              "\n",
              "          19973  19976  19979  19982      19985  19988  19991      19994  \\\n",
              "0     14.333333   24.0   68.0   19.0  19.000000   50.0   35.5  20.500000   \n",
              "1     15.666667   39.0   19.5   42.0  69.666667   31.0   30.0  40.500000   \n",
              "2     20.666667   17.0    2.0   18.0  18.000000   11.5    2.5  30.500000   \n",
              "3     22.333333   33.0   29.0   14.5  21.666667   24.5   15.5   8.000000   \n",
              "4     26.666667   25.5   18.0   53.5  23.000000   24.5   25.5  32.000000   \n",
              "...         ...    ...    ...    ...        ...    ...    ...        ...   \n",
              "3786   0.000000    0.0    0.0    0.0   0.000000    0.0    0.0   0.000000   \n",
              "3787   0.000000    0.0    0.0    0.0   0.000000    0.0    0.0   0.000000   \n",
              "3788   0.000000    0.0    0.0    0.0   0.000000    0.0    0.0   0.000000   \n",
              "3789   0.000000    0.0    0.0    0.0   0.000000    0.0    0.0   0.000000   \n",
              "3790  20.000000   14.5   24.5   15.0  14.000000   24.5   19.0  17.333333   \n",
              "\n",
              "          19997  Oxacillin  \n",
              "0     27.342857        0.0  \n",
              "1     34.695238        0.0  \n",
              "2     11.288462        0.0  \n",
              "3     20.057143        0.0  \n",
              "4     24.990476        1.0  \n",
              "...         ...        ...  \n",
              "3786   0.004038        0.0  \n",
              "3787   0.053908        0.0  \n",
              "3788   0.039084        0.0  \n",
              "3789   0.012113        0.0  \n",
              "3790  16.595960        0.0  \n",
              "\n",
              "[3790 rows x 6001 columns]"
            ]
          },
          "execution_count": 227,
          "metadata": {},
          "output_type": "execute_result"
        }
      ],
      "source": [
        "s_aureus_oxacillin"
      ]
    },
    {
      "cell_type": "code",
      "execution_count": 228,
      "metadata": {},
      "outputs": [],
      "source": [
        "X_train, X_test, y_train, y_test = train_test_split(X, y, test_size = 0.2, random_state = 0, stratify=y)"
      ]
    },
    {
      "cell_type": "code",
      "execution_count": 243,
      "metadata": {},
      "outputs": [
        {
          "name": "stdout",
          "output_type": "stream",
          "text": [
            "0.0    2451\n",
            "1.0     581\n",
            "Name: count, dtype: int64\n"
          ]
        }
      ],
      "source": [
        "print(pd.Series(y_train).value_counts())"
      ]
    },
    {
      "cell_type": "markdown",
      "metadata": {},
      "source": [
        "## Enfoque en clase minoritaria"
      ]
    },
    {
      "cell_type": "code",
      "execution_count": 231,
      "metadata": {},
      "outputs": [],
      "source": [
        "minority_class = s_aureus_oxacillin[s_aureus_oxacillin['Oxacillin'] == 1].drop(columns=['Oxacillin'])\n"
      ]
    },
    {
      "cell_type": "code",
      "execution_count": 232,
      "metadata": {},
      "outputs": [
        {
          "data": {
            "text/html": [
              "<div>\n",
              "<style scoped>\n",
              "    .dataframe tbody tr th:only-of-type {\n",
              "        vertical-align: middle;\n",
              "    }\n",
              "\n",
              "    .dataframe tbody tr th {\n",
              "        vertical-align: top;\n",
              "    }\n",
              "\n",
              "    .dataframe thead th {\n",
              "        text-align: right;\n",
              "    }\n",
              "</style>\n",
              "<table border=\"1\" class=\"dataframe\">\n",
              "  <thead>\n",
              "    <tr style=\"text-align: right;\">\n",
              "      <th></th>\n",
              "      <th>2000</th>\n",
              "      <th>2003</th>\n",
              "      <th>2006</th>\n",
              "      <th>2009</th>\n",
              "      <th>2012</th>\n",
              "      <th>2015</th>\n",
              "      <th>2018</th>\n",
              "      <th>2021</th>\n",
              "      <th>2024</th>\n",
              "      <th>2027</th>\n",
              "      <th>...</th>\n",
              "      <th>19970</th>\n",
              "      <th>19973</th>\n",
              "      <th>19976</th>\n",
              "      <th>19979</th>\n",
              "      <th>19982</th>\n",
              "      <th>19985</th>\n",
              "      <th>19988</th>\n",
              "      <th>19991</th>\n",
              "      <th>19994</th>\n",
              "      <th>19997</th>\n",
              "    </tr>\n",
              "  </thead>\n",
              "  <tbody>\n",
              "    <tr>\n",
              "      <th>4</th>\n",
              "      <td>307.857143</td>\n",
              "      <td>295.000000</td>\n",
              "      <td>246.714286</td>\n",
              "      <td>181.571429</td>\n",
              "      <td>258.000000</td>\n",
              "      <td>318.714286</td>\n",
              "      <td>295.714286</td>\n",
              "      <td>300.857143</td>\n",
              "      <td>278.142857</td>\n",
              "      <td>256.125000</td>\n",
              "      <td>...</td>\n",
              "      <td>16.5</td>\n",
              "      <td>26.666667</td>\n",
              "      <td>25.5</td>\n",
              "      <td>18.0</td>\n",
              "      <td>53.5</td>\n",
              "      <td>23.000000</td>\n",
              "      <td>24.5</td>\n",
              "      <td>25.5</td>\n",
              "      <td>32.0</td>\n",
              "      <td>24.990476</td>\n",
              "    </tr>\n",
              "    <tr>\n",
              "      <th>10</th>\n",
              "      <td>233.142857</td>\n",
              "      <td>282.500000</td>\n",
              "      <td>276.142857</td>\n",
              "      <td>216.428571</td>\n",
              "      <td>198.000000</td>\n",
              "      <td>255.000000</td>\n",
              "      <td>225.571429</td>\n",
              "      <td>228.571429</td>\n",
              "      <td>190.142857</td>\n",
              "      <td>241.375000</td>\n",
              "      <td>...</td>\n",
              "      <td>14.0</td>\n",
              "      <td>14.333333</td>\n",
              "      <td>18.0</td>\n",
              "      <td>25.5</td>\n",
              "      <td>4.5</td>\n",
              "      <td>32.333333</td>\n",
              "      <td>21.5</td>\n",
              "      <td>18.0</td>\n",
              "      <td>31.5</td>\n",
              "      <td>16.295238</td>\n",
              "    </tr>\n",
              "    <tr>\n",
              "      <th>15</th>\n",
              "      <td>539.571429</td>\n",
              "      <td>631.250000</td>\n",
              "      <td>579.000000</td>\n",
              "      <td>482.857143</td>\n",
              "      <td>673.571429</td>\n",
              "      <td>644.714286</td>\n",
              "      <td>527.714286</td>\n",
              "      <td>544.142857</td>\n",
              "      <td>514.428571</td>\n",
              "      <td>525.000000</td>\n",
              "      <td>...</td>\n",
              "      <td>60.0</td>\n",
              "      <td>16.666667</td>\n",
              "      <td>26.5</td>\n",
              "      <td>29.5</td>\n",
              "      <td>26.0</td>\n",
              "      <td>7.333333</td>\n",
              "      <td>18.0</td>\n",
              "      <td>17.0</td>\n",
              "      <td>30.0</td>\n",
              "      <td>23.180952</td>\n",
              "    </tr>\n",
              "    <tr>\n",
              "      <th>20</th>\n",
              "      <td>808.571429</td>\n",
              "      <td>957.625000</td>\n",
              "      <td>807.285714</td>\n",
              "      <td>656.857143</td>\n",
              "      <td>747.714286</td>\n",
              "      <td>801.571429</td>\n",
              "      <td>805.857143</td>\n",
              "      <td>727.857143</td>\n",
              "      <td>712.571429</td>\n",
              "      <td>675.625000</td>\n",
              "      <td>...</td>\n",
              "      <td>25.5</td>\n",
              "      <td>27.333333</td>\n",
              "      <td>31.0</td>\n",
              "      <td>59.5</td>\n",
              "      <td>16.5</td>\n",
              "      <td>28.333333</td>\n",
              "      <td>81.0</td>\n",
              "      <td>34.5</td>\n",
              "      <td>36.5</td>\n",
              "      <td>30.161905</td>\n",
              "    </tr>\n",
              "    <tr>\n",
              "      <th>24</th>\n",
              "      <td>694.285714</td>\n",
              "      <td>700.750000</td>\n",
              "      <td>525.571429</td>\n",
              "      <td>691.285714</td>\n",
              "      <td>687.857143</td>\n",
              "      <td>693.714286</td>\n",
              "      <td>596.142857</td>\n",
              "      <td>614.714286</td>\n",
              "      <td>453.571429</td>\n",
              "      <td>530.000000</td>\n",
              "      <td>...</td>\n",
              "      <td>8.5</td>\n",
              "      <td>16.000000</td>\n",
              "      <td>24.5</td>\n",
              "      <td>24.5</td>\n",
              "      <td>25.5</td>\n",
              "      <td>3.333333</td>\n",
              "      <td>5.0</td>\n",
              "      <td>13.5</td>\n",
              "      <td>23.5</td>\n",
              "      <td>20.771429</td>\n",
              "    </tr>\n",
              "    <tr>\n",
              "      <th>...</th>\n",
              "      <td>...</td>\n",
              "      <td>...</td>\n",
              "      <td>...</td>\n",
              "      <td>...</td>\n",
              "      <td>...</td>\n",
              "      <td>...</td>\n",
              "      <td>...</td>\n",
              "      <td>...</td>\n",
              "      <td>...</td>\n",
              "      <td>...</td>\n",
              "      <td>...</td>\n",
              "      <td>...</td>\n",
              "      <td>...</td>\n",
              "      <td>...</td>\n",
              "      <td>...</td>\n",
              "      <td>...</td>\n",
              "      <td>...</td>\n",
              "      <td>...</td>\n",
              "      <td>...</td>\n",
              "      <td>...</td>\n",
              "      <td>...</td>\n",
              "    </tr>\n",
              "    <tr>\n",
              "      <th>3758</th>\n",
              "      <td>348.000000</td>\n",
              "      <td>417.285714</td>\n",
              "      <td>323.142857</td>\n",
              "      <td>357.142857</td>\n",
              "      <td>359.428571</td>\n",
              "      <td>365.571429</td>\n",
              "      <td>360.875000</td>\n",
              "      <td>340.285714</td>\n",
              "      <td>331.857143</td>\n",
              "      <td>334.142857</td>\n",
              "      <td>...</td>\n",
              "      <td>21.5</td>\n",
              "      <td>26.666667</td>\n",
              "      <td>21.0</td>\n",
              "      <td>22.0</td>\n",
              "      <td>20.5</td>\n",
              "      <td>30.666667</td>\n",
              "      <td>14.5</td>\n",
              "      <td>22.5</td>\n",
              "      <td>26.0</td>\n",
              "      <td>24.800000</td>\n",
              "    </tr>\n",
              "    <tr>\n",
              "      <th>3765</th>\n",
              "      <td>440.600000</td>\n",
              "      <td>459.857143</td>\n",
              "      <td>337.714286</td>\n",
              "      <td>331.857143</td>\n",
              "      <td>375.571429</td>\n",
              "      <td>343.750000</td>\n",
              "      <td>395.857143</td>\n",
              "      <td>324.142857</td>\n",
              "      <td>313.571429</td>\n",
              "      <td>336.571429</td>\n",
              "      <td>...</td>\n",
              "      <td>0.0</td>\n",
              "      <td>0.000000</td>\n",
              "      <td>0.0</td>\n",
              "      <td>0.0</td>\n",
              "      <td>0.0</td>\n",
              "      <td>0.000000</td>\n",
              "      <td>0.0</td>\n",
              "      <td>0.0</td>\n",
              "      <td>0.0</td>\n",
              "      <td>0.000000</td>\n",
              "    </tr>\n",
              "    <tr>\n",
              "      <th>3766</th>\n",
              "      <td>554.714286</td>\n",
              "      <td>591.142857</td>\n",
              "      <td>518.625000</td>\n",
              "      <td>518.714286</td>\n",
              "      <td>457.571429</td>\n",
              "      <td>511.571429</td>\n",
              "      <td>492.428571</td>\n",
              "      <td>540.571429</td>\n",
              "      <td>544.000000</td>\n",
              "      <td>574.375000</td>\n",
              "      <td>...</td>\n",
              "      <td>0.0</td>\n",
              "      <td>0.000000</td>\n",
              "      <td>0.0</td>\n",
              "      <td>0.0</td>\n",
              "      <td>0.0</td>\n",
              "      <td>0.000000</td>\n",
              "      <td>0.0</td>\n",
              "      <td>0.0</td>\n",
              "      <td>0.0</td>\n",
              "      <td>0.024259</td>\n",
              "    </tr>\n",
              "    <tr>\n",
              "      <th>3769</th>\n",
              "      <td>206.571429</td>\n",
              "      <td>192.571429</td>\n",
              "      <td>192.571429</td>\n",
              "      <td>226.000000</td>\n",
              "      <td>194.125000</td>\n",
              "      <td>222.428571</td>\n",
              "      <td>252.714286</td>\n",
              "      <td>216.428571</td>\n",
              "      <td>190.857143</td>\n",
              "      <td>189.571429</td>\n",
              "      <td>...</td>\n",
              "      <td>3.5</td>\n",
              "      <td>1.666667</td>\n",
              "      <td>5.5</td>\n",
              "      <td>4.0</td>\n",
              "      <td>4.0</td>\n",
              "      <td>1.000000</td>\n",
              "      <td>4.5</td>\n",
              "      <td>2.0</td>\n",
              "      <td>1.5</td>\n",
              "      <td>2.000000</td>\n",
              "    </tr>\n",
              "    <tr>\n",
              "      <th>3776</th>\n",
              "      <td>1204.714286</td>\n",
              "      <td>1348.428571</td>\n",
              "      <td>1212.375000</td>\n",
              "      <td>1199.142857</td>\n",
              "      <td>1091.428571</td>\n",
              "      <td>1246.285714</td>\n",
              "      <td>1307.857143</td>\n",
              "      <td>1213.285714</td>\n",
              "      <td>1155.142857</td>\n",
              "      <td>1034.250000</td>\n",
              "      <td>...</td>\n",
              "      <td>0.0</td>\n",
              "      <td>0.000000</td>\n",
              "      <td>0.0</td>\n",
              "      <td>0.0</td>\n",
              "      <td>0.0</td>\n",
              "      <td>0.000000</td>\n",
              "      <td>0.0</td>\n",
              "      <td>0.0</td>\n",
              "      <td>0.0</td>\n",
              "      <td>0.123822</td>\n",
              "    </tr>\n",
              "  </tbody>\n",
              "</table>\n",
              "<p>726 rows × 6000 columns</p>\n",
              "</div>"
            ],
            "text/plain": [
              "             2000         2003         2006         2009         2012  \\\n",
              "4      307.857143   295.000000   246.714286   181.571429   258.000000   \n",
              "10     233.142857   282.500000   276.142857   216.428571   198.000000   \n",
              "15     539.571429   631.250000   579.000000   482.857143   673.571429   \n",
              "20     808.571429   957.625000   807.285714   656.857143   747.714286   \n",
              "24     694.285714   700.750000   525.571429   691.285714   687.857143   \n",
              "...           ...          ...          ...          ...          ...   \n",
              "3758   348.000000   417.285714   323.142857   357.142857   359.428571   \n",
              "3765   440.600000   459.857143   337.714286   331.857143   375.571429   \n",
              "3766   554.714286   591.142857   518.625000   518.714286   457.571429   \n",
              "3769   206.571429   192.571429   192.571429   226.000000   194.125000   \n",
              "3776  1204.714286  1348.428571  1212.375000  1199.142857  1091.428571   \n",
              "\n",
              "             2015         2018         2021         2024         2027  ...  \\\n",
              "4      318.714286   295.714286   300.857143   278.142857   256.125000  ...   \n",
              "10     255.000000   225.571429   228.571429   190.142857   241.375000  ...   \n",
              "15     644.714286   527.714286   544.142857   514.428571   525.000000  ...   \n",
              "20     801.571429   805.857143   727.857143   712.571429   675.625000  ...   \n",
              "24     693.714286   596.142857   614.714286   453.571429   530.000000  ...   \n",
              "...           ...          ...          ...          ...          ...  ...   \n",
              "3758   365.571429   360.875000   340.285714   331.857143   334.142857  ...   \n",
              "3765   343.750000   395.857143   324.142857   313.571429   336.571429  ...   \n",
              "3766   511.571429   492.428571   540.571429   544.000000   574.375000  ...   \n",
              "3769   222.428571   252.714286   216.428571   190.857143   189.571429  ...   \n",
              "3776  1246.285714  1307.857143  1213.285714  1155.142857  1034.250000  ...   \n",
              "\n",
              "      19970      19973  19976  19979  19982      19985  19988  19991  19994  \\\n",
              "4      16.5  26.666667   25.5   18.0   53.5  23.000000   24.5   25.5   32.0   \n",
              "10     14.0  14.333333   18.0   25.5    4.5  32.333333   21.5   18.0   31.5   \n",
              "15     60.0  16.666667   26.5   29.5   26.0   7.333333   18.0   17.0   30.0   \n",
              "20     25.5  27.333333   31.0   59.5   16.5  28.333333   81.0   34.5   36.5   \n",
              "24      8.5  16.000000   24.5   24.5   25.5   3.333333    5.0   13.5   23.5   \n",
              "...     ...        ...    ...    ...    ...        ...    ...    ...    ...   \n",
              "3758   21.5  26.666667   21.0   22.0   20.5  30.666667   14.5   22.5   26.0   \n",
              "3765    0.0   0.000000    0.0    0.0    0.0   0.000000    0.0    0.0    0.0   \n",
              "3766    0.0   0.000000    0.0    0.0    0.0   0.000000    0.0    0.0    0.0   \n",
              "3769    3.5   1.666667    5.5    4.0    4.0   1.000000    4.5    2.0    1.5   \n",
              "3776    0.0   0.000000    0.0    0.0    0.0   0.000000    0.0    0.0    0.0   \n",
              "\n",
              "          19997  \n",
              "4     24.990476  \n",
              "10    16.295238  \n",
              "15    23.180952  \n",
              "20    30.161905  \n",
              "24    20.771429  \n",
              "...         ...  \n",
              "3758  24.800000  \n",
              "3765   0.000000  \n",
              "3766   0.024259  \n",
              "3769   2.000000  \n",
              "3776   0.123822  \n",
              "\n",
              "[726 rows x 6000 columns]"
            ]
          },
          "execution_count": 232,
          "metadata": {},
          "output_type": "execute_result"
        }
      ],
      "source": [
        "minority_class"
      ]
    },
    {
      "cell_type": "code",
      "execution_count": 233,
      "metadata": {},
      "outputs": [],
      "source": [
        "etiquetas = s_aureus_oxacillin[s_aureus_oxacillin['Oxacillin'] == 1].iloc[:, 6000].values"
      ]
    },
    {
      "cell_type": "markdown",
      "metadata": {},
      "source": [
        "## Diffusion model\n"
      ]
    },
    {
      "cell_type": "code",
      "execution_count": 234,
      "metadata": {},
      "outputs": [],
      "source": [
        "import torch\n",
        "import torch.nn as nn\n",
        "import numpy as np\n",
        "import pandas as pd\n",
        "from sklearn.preprocessing import StandardScaler\n",
        "from sklearn.model_selection import train_test_split\n",
        "import matplotlib.pyplot as plt"
      ]
    },
    {
      "cell_type": "code",
      "execution_count": 235,
      "metadata": {},
      "outputs": [],
      "source": [
        "torch.manual_seed(42)\n",
        "np.random.seed(42)"
      ]
    },
    {
      "cell_type": "code",
      "execution_count": 236,
      "metadata": {},
      "outputs": [],
      "source": [
        "# Preprocesamiento\n",
        "scaler = StandardScaler()\n",
        "scaled_data = scaler.fit_transform(minority_class.values)"
      ]
    },
    {
      "cell_type": "code",
      "execution_count": 237,
      "metadata": {},
      "outputs": [],
      "source": [
        "# Modelo de Difusión\n",
        "class DiffusionModel(nn.Module):\n",
        "    def __init__(self, input_dim):\n",
        "        super(DiffusionModel, self).__init__()\n",
        "        self.model = nn.Sequential( \n",
        "            nn.Linear(input_dim, 256),\n",
        "            nn.ReLU(),\n",
        "            nn.Dropout(p=0.2),  # Regularización Dropout\n",
        "            nn.Linear(256, 128),\n",
        "            nn.ReLU(),\n",
        "            nn.Dropout(p=0.2),  # Regularización Dropout\n",
        "            nn.Linear(128, input_dim)\n",
        "        )\n",
        "\n",
        "\n",
        "    def forward(self, x):\n",
        "        return self.model(x)\n"
      ]
    },
    {
      "cell_type": "code",
      "execution_count": 238,
      "metadata": {},
      "outputs": [],
      "source": [
        "# Función de ruido (Scheduler)\n",
        "def add_noise(data, timesteps, noise_scale=1.0):\n",
        "    noise = np.random.normal(0, noise_scale, data.shape) * np.sqrt(timesteps / 100)\n",
        "    noisy_data = data + noise\n",
        "    return noisy_data, noise\n"
      ]
    },
    {
      "cell_type": "code",
      "execution_count": 239,
      "metadata": {},
      "outputs": [],
      "source": [
        "# Configuración del modelo\n",
        "input_dim = scaled_data.shape[1]\n",
        "model = DiffusionModel(input_dim)\n",
        "optimizer = torch.optim.Adam(model.parameters(), lr=0.001)\n",
        "loss_fn = nn.SmoothL1Loss()  # O Huber Loss\n"
      ]
    },
    {
      "cell_type": "code",
      "execution_count": 240,
      "metadata": {},
      "outputs": [
        {
          "data": {
            "text/plain": [
              "6000"
            ]
          },
          "execution_count": 240,
          "metadata": {},
          "output_type": "execute_result"
        }
      ],
      "source": [
        "scaled_data.shape[1]"
      ]
    },
    {
      "cell_type": "code",
      "execution_count": 241,
      "metadata": {},
      "outputs": [],
      "source": [
        "# Scheduler de tasa de aprendizaje\n",
        "scheduler = torch.optim.lr_scheduler.StepLR(optimizer, step_size=100, gamma=0.9)\n"
      ]
    },
    {
      "cell_type": "code",
      "execution_count": 245,
      "metadata": {},
      "outputs": [
        {
          "name": "stdout",
          "output_type": "stream",
          "text": [
            "Epoch 0/1000 - Loss: 0.38587987422943115\n",
            "Epoch 100/1000 - Loss: 0.36832061409950256\n",
            "Epoch 200/1000 - Loss: 0.32766079902648926\n",
            "Epoch 300/1000 - Loss: 0.4007006585597992\n",
            "Epoch 400/1000 - Loss: 0.34306955337524414\n",
            "Epoch 500/1000 - Loss: 0.12827734649181366\n",
            "Epoch 600/1000 - Loss: 0.4145435392856598\n",
            "Epoch 700/1000 - Loss: 0.39648646116256714\n",
            "Epoch 800/1000 - Loss: 0.07489648461341858\n",
            "Epoch 900/1000 - Loss: 0.34258225560188293\n"
          ]
        }
      ],
      "source": [
        "# Entrenamiento\n",
        "scaled_data_tensor = torch.tensor(scaled_data, dtype=torch.float32)\n",
        "epochs = 1000\n",
        "losses = []  # Para guardar la pérdida por época\n",
        "\n",
        "for epoch in range(epochs):\n",
        "    timesteps = np.random.randint(1, 100)\n",
        "    noisy_data, noise = add_noise(scaled_data, timesteps)\n",
        "    noisy_data_tensor = torch.tensor(noisy_data, dtype=torch.float32)\n",
        "    noise_tensor = torch.tensor(noise, dtype=torch.float32)\n",
        "\n",
        "    optimizer.zero_grad()\n",
        "    predicted_noise = model(noisy_data_tensor)\n",
        "    loss = loss_fn(predicted_noise, noise_tensor)\n",
        "    loss.backward()\n",
        "    optimizer.step()\n",
        "    scheduler.step()  # Actualiza la tasa de aprendizaje\n",
        "\n",
        "    losses.append(loss.item())\n",
        "\n",
        "    if epoch % 100 == 0:\n",
        "        print(f\"Epoch {epoch}/{epochs} - Loss: {loss.item()}\")\n"
      ]
    },
    {
      "cell_type": "code",
      "execution_count": 246,
      "metadata": {},
      "outputs": [],
      "source": [
        "# Generación de Datos Sintéticos\n",
        "def generate_synthetic_data(model, num_samples, input_dim):\n",
        "    model.eval()\n",
        "    with torch.no_grad():\n",
        "        synthetic_data = np.random.normal(0, 1, (num_samples, input_dim))\n",
        "        for t in range(100, 0, -1):  # Reverse diffusion\n",
        "            synthetic_data = synthetic_data - model(torch.tensor(synthetic_data, dtype=torch.float32)).numpy() * (t / 100)\n",
        "        return synthetic_data"
      ]
    },
    {
      "cell_type": "code",
      "execution_count": 247,
      "metadata": {},
      "outputs": [
        {
          "name": "stdout",
          "output_type": "stream",
          "text": [
            "0.0    2451\n",
            "1.0     581\n",
            "Name: count, dtype: int64\n"
          ]
        }
      ],
      "source": [
        "print(pd.Series(y_train).value_counts())"
      ]
    },
    {
      "cell_type": "code",
      "execution_count": 249,
      "metadata": {},
      "outputs": [],
      "source": [
        "\n",
        "synthetic_data = generate_synthetic_data(model, 1000-pd.Series(y_train).value_counts()[1], input_dim)\n",
        "synthetic_data_rescaled = scaler.inverse_transform(synthetic_data)\n"
      ]
    },
    {
      "cell_type": "code",
      "execution_count": 254,
      "metadata": {},
      "outputs": [
        {
          "data": {
            "text/plain": [
              "array([[ 9.0498560e+02,  5.0457233e+01,  8.5809583e+02, ...,\n",
              "         3.0732567e+01,  3.9293800e+01,  2.7740623e+01],\n",
              "       [-4.9939087e+03,  5.8327124e+03,  5.5675264e+03, ...,\n",
              "        -2.9014702e+01,  1.9111019e+01,  6.6651131e+01],\n",
              "       [ 4.7997079e+02, -5.7491162e+03,  2.0721169e+03, ...,\n",
              "        -2.7736969e+01,  1.5896610e+01,  3.6019653e+01],\n",
              "       ...,\n",
              "       [ 1.1805342e+03,  4.0286350e+01,  6.4016956e+02, ...,\n",
              "        -3.0936909e-01, -1.5711686e+01,  4.6499390e+01],\n",
              "       [-6.6370837e+02,  3.8957070e+03,  2.7459722e+03, ...,\n",
              "         2.3742726e+00,  4.2396793e+01, -1.7404764e+01],\n",
              "       [ 2.4455303e+03,  1.8413577e+03,  1.9530249e+02, ...,\n",
              "         2.0874767e+01,  4.0500908e+01, -4.4321804e+00]], dtype=float32)"
            ]
          },
          "execution_count": 254,
          "metadata": {},
          "output_type": "execute_result"
        }
      ],
      "source": [
        "\n",
        "# Cambiar el tipo de datos a float32\n",
        "synthetic_samples_numpy = synthetic_data_rescaled.astype(np.float32)\n",
        "\n",
        "# Mostrar las muestras generadas\n",
        "synthetic_samples_numpy"
      ]
    },
    {
      "cell_type": "code",
      "execution_count": 261,
      "metadata": {},
      "outputs": [
        {
          "name": "stdout",
          "output_type": "stream",
          "text": [
            "0.0    2451\n",
            "1.0    1000\n",
            "Name: count, dtype: int64\n"
          ]
        }
      ],
      "source": [
        "print(pd.Series(y_train_balanced).value_counts())"
      ]
    },
    {
      "cell_type": "code",
      "execution_count": 258,
      "metadata": {},
      "outputs": [],
      "source": [
        "array_ones = np.ones(1000-pd.Series(y_train).value_counts()[1])\n",
        "array_ones = np.asarray(array_ones).astype(np.float32)"
      ]
    },
    {
      "cell_type": "code",
      "execution_count": 259,
      "metadata": {},
      "outputs": [],
      "source": [
        "y_train_balanced = np.concatenate((y_train, array_ones))\n"
      ]
    },
    {
      "cell_type": "code",
      "execution_count": 251,
      "metadata": {},
      "outputs": [],
      "source": [
        "X_train_balanced = np.concatenate((X_train,synthetic_samples_numpy))\n",
        "\n",
        "#X_resampled, y_resampled = smote.fit_resample(X_train, y_train)\n"
      ]
    },
    {
      "cell_type": "code",
      "execution_count": 262,
      "metadata": {},
      "outputs": [],
      "source": [
        "from imblearn.over_sampling import SMOTE\n",
        "\n",
        "smote = SMOTE(random_state=42)\n",
        "X_resampled, y_resampled = smote.fit_resample(X_train_balanced, y_train_balanced)"
      ]
    },
    {
      "cell_type": "code",
      "execution_count": 263,
      "metadata": {},
      "outputs": [
        {
          "name": "stdout",
          "output_type": "stream",
          "text": [
            "1.0    2451\n",
            "0.0    2451\n",
            "Name: count, dtype: int64\n"
          ]
        }
      ],
      "source": [
        "print(pd.Series(y_resampled).value_counts())"
      ]
    },
    {
      "cell_type": "code",
      "execution_count": null,
      "metadata": {},
      "outputs": [],
      "source": [
        "from imblearn.over_sampling import SMOTE\n",
        "\n",
        "# Número de muestras adicionales que deseas\n",
        "nuevas_muestras = 1000-pd.Series(y_train).value_counts()[1]\n",
        "\n",
        "# Calcular el número total deseado para la clase minoritaria\n",
        "n_clase_minoritaria_actual = sum(y_train == 1)  # Asumiendo que '1' es la clase minoritaria\n",
        "n_total_deseado = n_clase_minoritaria_actual + nuevas_muestras\n",
        "\n",
        "# Calcular el sampling_strategy\n",
        "sampling_strategy = {0: sum(y_train == 0), 1: n_total_deseado}  # Ajustar según tus clases\n",
        "\n",
        "# Crear el SMOTE con la estrategia personalizada\n",
        "smote = SMOTE(sampling_strategy=sampling_strategy, random_state=42)\n",
        "X_resampled, y_resampled = smote.fit_resample(X_train, y_train) "
      ]
    },
    {
      "cell_type": "code",
      "execution_count": 197,
      "metadata": {},
      "outputs": [
        {
          "data": {
            "text/plain": [
              "1451"
            ]
          },
          "execution_count": 197,
          "metadata": {},
          "output_type": "execute_result"
        }
      ],
      "source": [
        "pd.Series(y_resampled).value_counts()[0]-pd.Series(y_resampled).value_counts()[1]"
      ]
    },
    {
      "cell_type": "code",
      "execution_count": null,
      "metadata": {},
      "outputs": [
        {
          "data": {
            "text/plain": [
              "array([[-1.40613362,  0.60651276, -0.75093074, ..., -0.32115189,\n",
              "         0.65046253, -0.34425375],\n",
              "       [ 0.09830046, -1.03430403, -0.06209162, ...,  0.09037326,\n",
              "        -1.37007885,  1.67466633],\n",
              "       [ 0.47762   , -0.08037955,  0.57791481, ..., -0.4425656 ,\n",
              "         0.1119489 , -1.59218036],\n",
              "       ...,\n",
              "       [-0.18995026, -0.66049683,  0.01077942, ..., -1.99385818,\n",
              "        -0.25115836,  0.65849017],\n",
              "       [-0.81897336, -0.55182063, -1.23450974, ...,  1.05769053,\n",
              "        -1.15664356,  0.46635172],\n",
              "       [ 1.06497965,  0.2612687 ,  0.62359093, ..., -0.95488923,\n",
              "         0.83089286,  1.22937258]])"
            ]
          },
          "execution_count": 199,
          "metadata": {},
          "output_type": "execute_result"
        }
      ],
      "source": [
        "synthetic_data"
      ]
    },
    {
      "cell_type": "code",
      "execution_count": 202,
      "metadata": {},
      "outputs": [],
      "source": [
        "array_ones = np.ones(pd.Series(y_train).value_counts()[0]-pd.Series(y_train).value_counts()[1])\n",
        "array_ones = np.asarray(array_ones).astype(np.float32)"
      ]
    },
    {
      "cell_type": "code",
      "execution_count": 203,
      "metadata": {},
      "outputs": [],
      "source": [
        "y_train_balanced = np.concatenate((y_resampled, array_ones))\n"
      ]
    },
    {
      "cell_type": "code",
      "execution_count": null,
      "metadata": {},
      "outputs": [
        {
          "data": {
            "text/plain": [
              "(1451, 6000)"
            ]
          },
          "execution_count": 204,
          "metadata": {},
          "output_type": "execute_result"
        }
      ],
      "source": [
        "synthetic_data_rescaled.shape"
      ]
    },
    {
      "cell_type": "code",
      "execution_count": null,
      "metadata": {},
      "outputs": [
        {
          "data": {
            "image/png": "[encoded data removed]",
            "text/plain": [
              "<Figure size 1200x1000 with 1 Axes>"
            ]
          },
          "metadata": {},
          "output_type": "display_data"
        }
      ],
      "source": [
        "# Visualización\n",
        "#plt.scatter(minority_class['feature1'], minority_class['feature2'], alpha=0.5, label='Original Data')\n",
        "plt.scatter(synthetic_data_rescaled[:, 0], synthetic_data_rescaled[:, 1], alpha=0.5, label='Synthetic Data')\n",
        "plt.legend()\n",
        "plt.title('Synthetic Data')\n",
        "plt.show()"
      ]
    },
    {
      "cell_type": "markdown",
      "metadata": {},
      "source": [
        "## Termino oversampling"
      ]
    },
    {
      "cell_type": "code",
      "execution_count": 206,
      "metadata": {},
      "outputs": [
        {
          "data": {
            "text/plain": [
              "3790"
            ]
          },
          "execution_count": 206,
          "metadata": {},
          "output_type": "execute_result"
        }
      ],
      "source": [
        "len(X)"
      ]
    },
    {
      "cell_type": "code",
      "execution_count": null,
      "metadata": {},
      "outputs": [
        {
          "data": {
            "text/plain": [
              "3032"
            ]
          },
          "execution_count": 207,
          "metadata": {},
          "output_type": "execute_result"
        }
      ],
      "source": [
        "len(X_train)"
      ]
    },
    {
      "cell_type": "code",
      "execution_count": null,
      "metadata": {},
      "outputs": [
        {
          "data": {
            "text/plain": [
              "3032"
            ]
          },
          "execution_count": 208,
          "metadata": {},
          "output_type": "execute_result"
        }
      ],
      "source": [
        "len(y_train)\n"
      ]
    },
    {
      "cell_type": "code",
      "execution_count": 209,
      "metadata": {},
      "outputs": [],
      "source": [
        "#X_resampled, y_resampled = smote.fit_resample(X_train, y_train)\n"
      ]
    },
    {
      "cell_type": "code",
      "execution_count": 264,
      "metadata": {
        "id": "Cz1ZnhEykiY9"
      },
      "outputs": [],
      "source": [
        "scaler=Normalizer(norm='max')\n",
        "sc_X = scaler\n",
        "X_train = sc_X.fit_transform(X_resampled)\n",
        "X_test = sc_X.transform(X_test)"
      ]
    },
    {
      "cell_type": "code",
      "execution_count": 265,
      "metadata": {
        "id": "HiHCUFo-kiW9"
      },
      "outputs": [],
      "source": [
        "sample_size = X_train.shape[0] # numero de muestras en el set de datos\n",
        "time_steps  = X_train.shape[1] # numero de atributos en el set de datos\n",
        "input_dimension = 1            #\n",
        "\n",
        "X_train_reshaped = X_train.reshape(sample_size,time_steps,input_dimension)\n",
        "X_test_reshaped = X_test.reshape(X_test.shape[0],X_test.shape[1],1)"
      ]
    },
    {
      "cell_type": "code",
      "execution_count": 266,
      "metadata": {
        "id": "VEuHRBvAlw79"
      },
      "outputs": [],
      "source": [
        "reduce_lr = ReduceLROnPlateau(monitor='val_loss', factor=0.1, patience=3, min_lr=0.000001)\n",
        "early_st = EarlyStopping(monitor='val_loss', patience=4, restore_best_weights=True)\n",
        "\n",
        "n_timesteps = X_train_reshaped.shape[1] #\n",
        "n_features  = X_train_reshaped.shape[2] #"
      ]
    },
    {
      "cell_type": "code",
      "execution_count": 267,
      "metadata": {},
      "outputs": [
        {
          "name": "stdout",
          "output_type": "stream",
          "text": [
            "0.0    2451\n",
            "1.0    1000\n",
            "Name: count, dtype: int64\n"
          ]
        }
      ],
      "source": [
        "print(pd.Series(y_train_balanced).value_counts())\n"
      ]
    },
    {
      "cell_type": "markdown",
      "metadata": {
        "id": "hBf6W9iPXz3p"
      },
      "source": [
        "# Create and fit DeepAMR model"
      ]
    },
    {
      "cell_type": "code",
      "execution_count": 268,
      "metadata": {
        "colab": {
          "base_uri": "https://localhost:8080/",
          "height": 952
        },
        "id": "AlJHRRzlkiH9",
        "outputId": "d20e434d-8e4c-431b-a401-ac0b057ded3a"
      },
      "outputs": [
        {
          "name": "stdout",
          "output_type": "stream",
          "text": [
            "Model: \"Modelo_s_aureus_ciprofloxacin\"\n",
            "_________________________________________________________________\n",
            " Layer (type)                Output Shape              Param #   \n",
            "=================================================================\n",
            " Conv_1 (Conv1D)             (None, 5984, 64)          1152      \n",
            "                                                                 \n",
            " batch_normalization_20 (Bat  (None, 5984, 64)         256       \n",
            " chNormalization)                                                \n",
            "                                                                 \n",
            " activation_20 (Activation)  (None, 5984, 64)          0         \n",
            "                                                                 \n",
            " MaxPooling1D_1 (MaxPooling1  (None, 2992, 64)         0         \n",
            " D)                                                              \n",
            "                                                                 \n",
            " Conv_2 (Conv1D)             (None, 2984, 128)         73856     \n",
            "                                                                 \n",
            " batch_normalization_21 (Bat  (None, 2984, 128)        512       \n",
            " chNormalization)                                                \n",
            "                                                                 \n",
            " activation_21 (Activation)  (None, 2984, 128)         0         \n",
            "                                                                 \n",
            " MaxPooling1D_2 (MaxPooling1  (None, 1492, 128)        0         \n",
            " D)                                                              \n",
            "                                                                 \n",
            " Conv_3 (Conv1D)             (None, 1488, 256)         164096    \n",
            "                                                                 \n",
            " batch_normalization_22 (Bat  (None, 1488, 256)        1024      \n",
            " chNormalization)                                                \n",
            "                                                                 \n",
            " activation_22 (Activation)  (None, 1488, 256)         0         \n",
            "                                                                 \n",
            " MaxPooling1D_3 (MaxPooling1  (None, 744, 256)         0         \n",
            " D)                                                              \n",
            "                                                                 \n",
            " Conv_4 (Conv1D)             (None, 740, 256)          327936    \n",
            "                                                                 \n",
            " batch_normalization_23 (Bat  (None, 740, 256)         1024      \n",
            " chNormalization)                                                \n",
            "                                                                 \n",
            " activation_23 (Activation)  (None, 740, 256)          0         \n",
            "                                                                 \n",
            " MaxPooling1D_4 (MaxPooling1  (None, 370, 256)         0         \n",
            " D)                                                              \n",
            "                                                                 \n",
            " flatten_5 (Flatten)         (None, 94720)             0         \n",
            "                                                                 \n",
            " dropout_5 (Dropout)         (None, 94720)             0         \n",
            "                                                                 \n",
            " fully_connected_0 (Dense)   (None, 256)               24248576  \n",
            "                                                                 \n",
            " fully_connected_1 (Dense)   (None, 64)                16448     \n",
            "                                                                 \n",
            " fully_connected_2 (Dense)   (None, 64)                4160      \n",
            "                                                                 \n",
            " OUT_Layer (Dense)           (None, 1)                 65        \n",
            "                                                                 \n",
            "=================================================================\n",
            "Total params: 24,839,105\n",
            "Trainable params: 24,837,697\n",
            "Non-trainable params: 1,408\n",
            "_________________________________________________________________\n"
          ]
        }
      ],
      "source": [
        "model = Sequential(name=\"Modelo_s_aureus_ciprofloxacin\")\n",
        "init_mode = 'normal'\n",
        "model.add(Conv1D(filters=(64), kernel_size=(17), input_shape = (n_timesteps,n_features), name='Conv_1'))\n",
        "model.add(BatchNormalization())\n",
        "model.add(Activation('relu'))\n",
        "model.add(MaxPooling1D(pool_size=2, name=\"MaxPooling1D_1\"))\n",
        "\n",
        "model.add(Conv1D(filters=(128), kernel_size=(9),kernel_initializer=init_mode, kernel_regularizer=regularizers.l2(0.0001),  name='Conv_2'))\n",
        "model.add(BatchNormalization())\n",
        "model.add(Activation('relu'))\n",
        "model.add(MaxPooling1D(pool_size=2, name=\"MaxPooling1D_2\"))\n",
        "\n",
        "model.add(Conv1D(filters=(256), kernel_size=(5),kernel_initializer=init_mode,kernel_regularizer=regularizers.l2(0.0001),   name='Conv_3'))\n",
        "model.add(BatchNormalization())\n",
        "model.add(Activation('relu'))\n",
        "model.add(MaxPooling1D(pool_size=2, name=\"MaxPooling1D_3\"))\n",
        "\n",
        "model.add(Conv1D(filters=(256), kernel_size=(5),kernel_initializer=init_mode, kernel_regularizer=regularizers.l2(0.0001),   name='Conv_4'))\n",
        "model.add(BatchNormalization())\n",
        "model.add(Activation('relu'))\n",
        "model.add(MaxPooling1D(pool_size=2, name=\"MaxPooling1D_4\"))\n",
        "\n",
        "model.add(Flatten())\n",
        "model.add(Dropout(0.65))\n",
        "model.add(Dense(256, activation='relu',kernel_initializer=init_mode, kernel_regularizer=regularizers.l2(0.0001), name=\"fully_connected_0\"))\n",
        "model.add(Dense(64, activation='relu',kernel_initializer=init_mode, kernel_regularizer=regularizers.l2(0.0001), name=\"fully_connected_1\"))\n",
        "model.add(Dense(64, activation='relu',kernel_initializer=init_mode, kernel_regularizer=regularizers.l2(0.0001),  name=\"fully_connected_2\"))\n",
        "model.add(Dense(n_features, activation='sigmoid', name=\"OUT_Layer\"))\n",
        "\n",
        "model.compile(optimizer = Adam(learning_rate=0.0001), loss = 'binary_crossentropy',  metrics=METRICS)\n",
        "model.summary()"
      ]
    },
    {
      "cell_type": "code",
      "execution_count": 269,
      "metadata": {
        "colab": {
          "base_uri": "https://localhost:8080/"
        },
        "id": "lDksoJagl3H9",
        "outputId": "b244d4a7-0b9c-4b4e-cb2a-f5159586c644"
      },
      "outputs": [
        {
          "name": "stdout",
          "output_type": "stream",
          "text": [
            "Epoch 1/100\n",
            "442/442 [==============================] - 12s 23ms/step - loss: 6.1452 - tp: 1099.0000 - fp: 445.0000 - tn: 2006.0000 - fn: 861.0000 - accuracy: 0.7039 - precision: 0.7118 - recall: 0.5607 - auc: 0.7562 - prc: 0.7693 - val_loss: 5.8247 - val_tp: 86.0000 - val_fp: 0.0000e+00 - val_tn: 0.0000e+00 - val_fn: 405.0000 - val_accuracy: 0.1752 - val_precision: 1.0000 - val_recall: 0.1752 - val_auc: 0.0000e+00 - val_prc: 1.0000 - lr: 1.0000e-04\n",
            "Epoch 2/100\n",
            "442/442 [==============================] - 10s 22ms/step - loss: 5.2236 - tp: 1295.0000 - fp: 343.0000 - tn: 2108.0000 - fn: 665.0000 - accuracy: 0.7715 - precision: 0.7906 - recall: 0.6607 - auc: 0.8474 - prc: 0.8511 - val_loss: 4.8710 - val_tp: 369.0000 - val_fp: 0.0000e+00 - val_tn: 0.0000e+00 - val_fn: 122.0000 - val_accuracy: 0.7515 - val_precision: 1.0000 - val_recall: 0.7515 - val_auc: 0.0000e+00 - val_prc: 1.0000 - lr: 1.0000e-04\n",
            "Epoch 3/100\n",
            "442/442 [==============================] - 10s 22ms/step - loss: 4.6172 - tp: 1409.0000 - fp: 304.0000 - tn: 2147.0000 - fn: 551.0000 - accuracy: 0.8062 - precision: 0.8225 - recall: 0.7189 - auc: 0.8843 - prc: 0.8845 - val_loss: 4.3753 - val_tp: 376.0000 - val_fp: 0.0000e+00 - val_tn: 0.0000e+00 - val_fn: 115.0000 - val_accuracy: 0.7658 - val_precision: 1.0000 - val_recall: 0.7658 - val_auc: 0.0000e+00 - val_prc: 1.0000 - lr: 1.0000e-04\n",
            "Epoch 4/100\n",
            "442/442 [==============================] - 9s 21ms/step - loss: 4.1344 - tp: 1467.0000 - fp: 296.0000 - tn: 2155.0000 - fn: 493.0000 - accuracy: 0.8211 - precision: 0.8321 - recall: 0.7485 - auc: 0.9016 - prc: 0.9014 - val_loss: 4.8070 - val_tp: 192.0000 - val_fp: 0.0000e+00 - val_tn: 0.0000e+00 - val_fn: 299.0000 - val_accuracy: 0.3910 - val_precision: 1.0000 - val_recall: 0.3910 - val_auc: 0.0000e+00 - val_prc: 1.0000 - lr: 1.0000e-04\n",
            "Epoch 5/100\n",
            "442/442 [==============================] - 10s 22ms/step - loss: 3.7186 - tp: 1501.0000 - fp: 250.0000 - tn: 2201.0000 - fn: 459.0000 - accuracy: 0.8393 - precision: 0.8572 - recall: 0.7658 - auc: 0.9104 - prc: 0.9129 - val_loss: 3.3868 - val_tp: 449.0000 - val_fp: 0.0000e+00 - val_tn: 0.0000e+00 - val_fn: 42.0000 - val_accuracy: 0.9145 - val_precision: 1.0000 - val_recall: 0.9145 - val_auc: 0.0000e+00 - val_prc: 1.0000 - lr: 1.0000e-04\n",
            "Epoch 6/100\n",
            "442/442 [==============================] - 10s 22ms/step - loss: 3.3418 - tp: 1547.0000 - fp: 264.0000 - tn: 2187.0000 - fn: 413.0000 - accuracy: 0.8465 - precision: 0.8542 - recall: 0.7893 - auc: 0.9223 - prc: 0.9220 - val_loss: 3.0617 - val_tp: 443.0000 - val_fp: 0.0000e+00 - val_tn: 0.0000e+00 - val_fn: 48.0000 - val_accuracy: 0.9022 - val_precision: 1.0000 - val_recall: 0.9022 - val_auc: 0.0000e+00 - val_prc: 1.0000 - lr: 1.0000e-04\n",
            "Epoch 7/100\n",
            "442/442 [==============================] - 9s 21ms/step - loss: 3.0060 - tp: 1589.0000 - fp: 237.0000 - tn: 2214.0000 - fn: 371.0000 - accuracy: 0.8622 - precision: 0.8702 - recall: 0.8107 - auc: 0.9313 - prc: 0.9318 - val_loss: 2.6608 - val_tp: 476.0000 - val_fp: 0.0000e+00 - val_tn: 0.0000e+00 - val_fn: 15.0000 - val_accuracy: 0.9695 - val_precision: 1.0000 - val_recall: 0.9695 - val_auc: 0.0000e+00 - val_prc: 1.0000 - lr: 1.0000e-04\n",
            "Epoch 8/100\n",
            "442/442 [==============================] - 9s 21ms/step - loss: 2.7078 - tp: 1606.0000 - fp: 214.0000 - tn: 2237.0000 - fn: 354.0000 - accuracy: 0.8712 - precision: 0.8824 - recall: 0.8194 - auc: 0.9369 - prc: 0.9386 - val_loss: 2.5165 - val_tp: 430.0000 - val_fp: 0.0000e+00 - val_tn: 0.0000e+00 - val_fn: 61.0000 - val_accuracy: 0.8758 - val_precision: 1.0000 - val_recall: 0.8758 - val_auc: 0.0000e+00 - val_prc: 1.0000 - lr: 1.0000e-04\n",
            "Epoch 9/100\n",
            "442/442 [==============================] - 9s 21ms/step - loss: 2.4409 - tp: 1622.0000 - fp: 195.0000 - tn: 2256.0000 - fn: 338.0000 - accuracy: 0.8792 - precision: 0.8927 - recall: 0.8276 - auc: 0.9435 - prc: 0.9449 - val_loss: 2.5411 - val_tp: 361.0000 - val_fp: 0.0000e+00 - val_tn: 0.0000e+00 - val_fn: 130.0000 - val_accuracy: 0.7352 - val_precision: 1.0000 - val_recall: 0.7352 - val_auc: 0.0000e+00 - val_prc: 1.0000 - lr: 1.0000e-04\n",
            "Epoch 10/100\n",
            "442/442 [==============================] - 10s 22ms/step - loss: 2.2071 - tp: 1645.0000 - fp: 192.0000 - tn: 2259.0000 - fn: 315.0000 - accuracy: 0.8851 - precision: 0.8955 - recall: 0.8393 - auc: 0.9505 - prc: 0.9501 - val_loss: 2.0053 - val_tp: 448.0000 - val_fp: 0.0000e+00 - val_tn: 0.0000e+00 - val_fn: 43.0000 - val_accuracy: 0.9124 - val_precision: 1.0000 - val_recall: 0.9124 - val_auc: 0.0000e+00 - val_prc: 1.0000 - lr: 1.0000e-04\n",
            "Epoch 11/100\n",
            "442/442 [==============================] - 9s 21ms/step - loss: 1.9940 - tp: 1668.0000 - fp: 169.0000 - tn: 2282.0000 - fn: 292.0000 - accuracy: 0.8955 - precision: 0.9080 - recall: 0.8510 - auc: 0.9570 - prc: 0.9578 - val_loss: 2.0420 - val_tp: 388.0000 - val_fp: 0.0000e+00 - val_tn: 0.0000e+00 - val_fn: 103.0000 - val_accuracy: 0.7902 - val_precision: 1.0000 - val_recall: 0.7902 - val_auc: 0.0000e+00 - val_prc: 1.0000 - lr: 1.0000e-04\n",
            "Epoch 12/100\n",
            "442/442 [==============================] - 10s 22ms/step - loss: 1.8176 - tp: 1679.0000 - fp: 161.0000 - tn: 2290.0000 - fn: 281.0000 - accuracy: 0.8998 - precision: 0.9125 - recall: 0.8566 - auc: 0.9593 - prc: 0.9608 - val_loss: 1.7054 - val_tp: 432.0000 - val_fp: 0.0000e+00 - val_tn: 0.0000e+00 - val_fn: 59.0000 - val_accuracy: 0.8798 - val_precision: 1.0000 - val_recall: 0.8798 - val_auc: 0.0000e+00 - val_prc: 1.0000 - lr: 1.0000e-04\n",
            "Epoch 13/100\n",
            "442/442 [==============================] - 9s 21ms/step - loss: 1.6677 - tp: 1691.0000 - fp: 149.0000 - tn: 2302.0000 - fn: 269.0000 - accuracy: 0.9052 - precision: 0.9190 - recall: 0.8628 - auc: 0.9631 - prc: 0.9625 - val_loss: 1.7133 - val_tp: 385.0000 - val_fp: 0.0000e+00 - val_tn: 0.0000e+00 - val_fn: 106.0000 - val_accuracy: 0.7841 - val_precision: 1.0000 - val_recall: 0.7841 - val_auc: 0.0000e+00 - val_prc: 1.0000 - lr: 1.0000e-04\n",
            "Epoch 14/100\n",
            "442/442 [==============================] - 10s 22ms/step - loss: 1.5404 - tp: 1697.0000 - fp: 151.0000 - tn: 2300.0000 - fn: 263.0000 - accuracy: 0.9061 - precision: 0.9183 - recall: 0.8658 - auc: 0.9637 - prc: 0.9644 - val_loss: 1.4916 - val_tp: 429.0000 - val_fp: 0.0000e+00 - val_tn: 0.0000e+00 - val_fn: 62.0000 - val_accuracy: 0.8737 - val_precision: 1.0000 - val_recall: 0.8737 - val_auc: 0.0000e+00 - val_prc: 1.0000 - lr: 1.0000e-04\n",
            "Epoch 15/100\n",
            "442/442 [==============================] - 10s 22ms/step - loss: 1.4190 - tp: 1714.0000 - fp: 136.0000 - tn: 2315.0000 - fn: 246.0000 - accuracy: 0.9134 - precision: 0.9265 - recall: 0.8745 - auc: 0.9699 - prc: 0.9694 - val_loss: 1.4603 - val_tp: 415.0000 - val_fp: 0.0000e+00 - val_tn: 0.0000e+00 - val_fn: 76.0000 - val_accuracy: 0.8452 - val_precision: 1.0000 - val_recall: 0.8452 - val_auc: 0.0000e+00 - val_prc: 1.0000 - lr: 1.0000e-04\n",
            "Epoch 16/100\n",
            "442/442 [==============================] - 9s 21ms/step - loss: 1.3247 - tp: 1707.0000 - fp: 124.0000 - tn: 2327.0000 - fn: 253.0000 - accuracy: 0.9145 - precision: 0.9323 - recall: 0.8709 - auc: 0.9700 - prc: 0.9701 - val_loss: 1.1994 - val_tp: 462.0000 - val_fp: 0.0000e+00 - val_tn: 0.0000e+00 - val_fn: 29.0000 - val_accuracy: 0.9409 - val_precision: 1.0000 - val_recall: 0.9409 - val_auc: 0.0000e+00 - val_prc: 1.0000 - lr: 1.0000e-04\n",
            "Epoch 17/100\n",
            "442/442 [==============================] - 10s 22ms/step - loss: 1.2282 - tp: 1755.0000 - fp: 124.0000 - tn: 2327.0000 - fn: 205.0000 - accuracy: 0.9254 - precision: 0.9340 - recall: 0.8954 - auc: 0.9747 - prc: 0.9740 - val_loss: 1.0425 - val_tp: 484.0000 - val_fp: 0.0000e+00 - val_tn: 0.0000e+00 - val_fn: 7.0000 - val_accuracy: 0.9857 - val_precision: 1.0000 - val_recall: 0.9857 - val_auc: 0.0000e+00 - val_prc: 1.0000 - lr: 1.0000e-04\n",
            "Epoch 18/100\n",
            "442/442 [==============================] - 10s 22ms/step - loss: 1.1515 - tp: 1751.0000 - fp: 114.0000 - tn: 2337.0000 - fn: 209.0000 - accuracy: 0.9268 - precision: 0.9389 - recall: 0.8934 - auc: 0.9763 - prc: 0.9762 - val_loss: 1.0176 - val_tp: 476.0000 - val_fp: 0.0000e+00 - val_tn: 0.0000e+00 - val_fn: 15.0000 - val_accuracy: 0.9695 - val_precision: 1.0000 - val_recall: 0.9695 - val_auc: 0.0000e+00 - val_prc: 1.0000 - lr: 1.0000e-04\n",
            "Epoch 19/100\n",
            "442/442 [==============================] - 10s 22ms/step - loss: 1.0762 - tp: 1770.0000 - fp: 100.0000 - tn: 2351.0000 - fn: 190.0000 - accuracy: 0.9343 - precision: 0.9465 - recall: 0.9031 - auc: 0.9800 - prc: 0.9797 - val_loss: 0.9988 - val_tp: 460.0000 - val_fp: 0.0000e+00 - val_tn: 0.0000e+00 - val_fn: 31.0000 - val_accuracy: 0.9369 - val_precision: 1.0000 - val_recall: 0.9369 - val_auc: 0.0000e+00 - val_prc: 1.0000 - lr: 1.0000e-04\n",
            "Epoch 20/100\n",
            "442/442 [==============================] - 10s 22ms/step - loss: 1.0312 - tp: 1755.0000 - fp: 119.0000 - tn: 2332.0000 - fn: 205.0000 - accuracy: 0.9265 - precision: 0.9365 - recall: 0.8954 - auc: 0.9787 - prc: 0.9776 - val_loss: 0.9951 - val_tp: 446.0000 - val_fp: 0.0000e+00 - val_tn: 0.0000e+00 - val_fn: 45.0000 - val_accuracy: 0.9084 - val_precision: 1.0000 - val_recall: 0.9084 - val_auc: 0.0000e+00 - val_prc: 1.0000 - lr: 1.0000e-04\n",
            "Epoch 21/100\n",
            "442/442 [==============================] - 9s 21ms/step - loss: 0.9748 - tp: 1767.0000 - fp: 109.0000 - tn: 2342.0000 - fn: 193.0000 - accuracy: 0.9315 - precision: 0.9419 - recall: 0.9015 - auc: 0.9811 - prc: 0.9799 - val_loss: 0.8535 - val_tp: 475.0000 - val_fp: 0.0000e+00 - val_tn: 0.0000e+00 - val_fn: 16.0000 - val_accuracy: 0.9674 - val_precision: 1.0000 - val_recall: 0.9674 - val_auc: 0.0000e+00 - val_prc: 1.0000 - lr: 1.0000e-04\n",
            "Epoch 22/100\n",
            "442/442 [==============================] - 10s 22ms/step - loss: 0.9189 - tp: 1800.0000 - fp: 83.0000 - tn: 2368.0000 - fn: 160.0000 - accuracy: 0.9449 - precision: 0.9559 - recall: 0.9184 - auc: 0.9836 - prc: 0.9828 - val_loss: 0.7851 - val_tp: 485.0000 - val_fp: 0.0000e+00 - val_tn: 0.0000e+00 - val_fn: 6.0000 - val_accuracy: 0.9878 - val_precision: 1.0000 - val_recall: 0.9878 - val_auc: 0.0000e+00 - val_prc: 1.0000 - lr: 1.0000e-04\n",
            "Epoch 23/100\n",
            "442/442 [==============================] - 9s 21ms/step - loss: 0.8716 - tp: 1813.0000 - fp: 96.0000 - tn: 2355.0000 - fn: 147.0000 - accuracy: 0.9449 - precision: 0.9497 - recall: 0.9250 - auc: 0.9856 - prc: 0.9842 - val_loss: 1.1888 - val_tp: 379.0000 - val_fp: 0.0000e+00 - val_tn: 0.0000e+00 - val_fn: 112.0000 - val_accuracy: 0.7719 - val_precision: 1.0000 - val_recall: 0.7719 - val_auc: 0.0000e+00 - val_prc: 1.0000 - lr: 1.0000e-04\n",
            "Epoch 24/100\n",
            "442/442 [==============================] - 9s 21ms/step - loss: 0.8391 - tp: 1800.0000 - fp: 85.0000 - tn: 2366.0000 - fn: 160.0000 - accuracy: 0.9445 - precision: 0.9549 - recall: 0.9184 - auc: 0.9855 - prc: 0.9845 - val_loss: 0.7979 - val_tp: 465.0000 - val_fp: 0.0000e+00 - val_tn: 0.0000e+00 - val_fn: 26.0000 - val_accuracy: 0.9470 - val_precision: 1.0000 - val_recall: 0.9470 - val_auc: 0.0000e+00 - val_prc: 1.0000 - lr: 1.0000e-04\n",
            "Epoch 25/100\n",
            "442/442 [==============================] - 10s 22ms/step - loss: 0.7911 - tp: 1825.0000 - fp: 89.0000 - tn: 2362.0000 - fn: 135.0000 - accuracy: 0.9492 - precision: 0.9535 - recall: 0.9311 - auc: 0.9887 - prc: 0.9881 - val_loss: 0.7735 - val_tp: 463.0000 - val_fp: 0.0000e+00 - val_tn: 0.0000e+00 - val_fn: 28.0000 - val_accuracy: 0.9430 - val_precision: 1.0000 - val_recall: 0.9430 - val_auc: 0.0000e+00 - val_prc: 1.0000 - lr: 1.0000e-04\n",
            "Epoch 26/100\n",
            "442/442 [==============================] - 10s 22ms/step - loss: 0.7633 - tp: 1819.0000 - fp: 99.0000 - tn: 2352.0000 - fn: 141.0000 - accuracy: 0.9456 - precision: 0.9484 - recall: 0.9281 - auc: 0.9893 - prc: 0.9879 - val_loss: 0.6930 - val_tp: 474.0000 - val_fp: 0.0000e+00 - val_tn: 0.0000e+00 - val_fn: 17.0000 - val_accuracy: 0.9654 - val_precision: 1.0000 - val_recall: 0.9654 - val_auc: 0.0000e+00 - val_prc: 1.0000 - lr: 1.0000e-04\n",
            "Epoch 27/100\n",
            "442/442 [==============================] - 10s 22ms/step - loss: 0.7248 - tp: 1848.0000 - fp: 76.0000 - tn: 2375.0000 - fn: 112.0000 - accuracy: 0.9574 - precision: 0.9605 - recall: 0.9429 - auc: 0.9909 - prc: 0.9904 - val_loss: 0.6900 - val_tp: 467.0000 - val_fp: 0.0000e+00 - val_tn: 0.0000e+00 - val_fn: 24.0000 - val_accuracy: 0.9511 - val_precision: 1.0000 - val_recall: 0.9511 - val_auc: 0.0000e+00 - val_prc: 1.0000 - lr: 1.0000e-04\n",
            "Epoch 28/100\n",
            "442/442 [==============================] - 10s 22ms/step - loss: 0.6941 - tp: 1853.0000 - fp: 78.0000 - tn: 2373.0000 - fn: 107.0000 - accuracy: 0.9581 - precision: 0.9596 - recall: 0.9454 - auc: 0.9925 - prc: 0.9916 - val_loss: 0.6500 - val_tp: 478.0000 - val_fp: 0.0000e+00 - val_tn: 0.0000e+00 - val_fn: 13.0000 - val_accuracy: 0.9735 - val_precision: 1.0000 - val_recall: 0.9735 - val_auc: 0.0000e+00 - val_prc: 1.0000 - lr: 1.0000e-04\n",
            "Epoch 29/100\n",
            "442/442 [==============================] - 9s 21ms/step - loss: 0.6727 - tp: 1848.0000 - fp: 73.0000 - tn: 2378.0000 - fn: 112.0000 - accuracy: 0.9581 - precision: 0.9620 - recall: 0.9429 - auc: 0.9915 - prc: 0.9912 - val_loss: 0.6933 - val_tp: 457.0000 - val_fp: 0.0000e+00 - val_tn: 0.0000e+00 - val_fn: 34.0000 - val_accuracy: 0.9308 - val_precision: 1.0000 - val_recall: 0.9308 - val_auc: 0.0000e+00 - val_prc: 1.0000 - lr: 1.0000e-04\n",
            "Epoch 30/100\n",
            "442/442 [==============================] - 10s 22ms/step - loss: 0.6455 - tp: 1865.0000 - fp: 59.0000 - tn: 2392.0000 - fn: 95.0000 - accuracy: 0.9651 - precision: 0.9693 - recall: 0.9515 - auc: 0.9917 - prc: 0.9916 - val_loss: 0.5613 - val_tp: 487.0000 - val_fp: 0.0000e+00 - val_tn: 0.0000e+00 - val_fn: 4.0000 - val_accuracy: 0.9919 - val_precision: 1.0000 - val_recall: 0.9919 - val_auc: 0.0000e+00 - val_prc: 1.0000 - lr: 1.0000e-04\n",
            "Epoch 31/100\n",
            "442/442 [==============================] - 10s 22ms/step - loss: 0.6202 - tp: 1868.0000 - fp: 62.0000 - tn: 2389.0000 - fn: 92.0000 - accuracy: 0.9651 - precision: 0.9679 - recall: 0.9531 - auc: 0.9939 - prc: 0.9930 - val_loss: 0.6000 - val_tp: 472.0000 - val_fp: 0.0000e+00 - val_tn: 0.0000e+00 - val_fn: 19.0000 - val_accuracy: 0.9613 - val_precision: 1.0000 - val_recall: 0.9613 - val_auc: 0.0000e+00 - val_prc: 1.0000 - lr: 1.0000e-04\n",
            "Epoch 32/100\n",
            "442/442 [==============================] - 10s 22ms/step - loss: 0.6154 - tp: 1855.0000 - fp: 63.0000 - tn: 2388.0000 - fn: 105.0000 - accuracy: 0.9619 - precision: 0.9672 - recall: 0.9464 - auc: 0.9908 - prc: 0.9913 - val_loss: 0.5216 - val_tp: 487.0000 - val_fp: 0.0000e+00 - val_tn: 0.0000e+00 - val_fn: 4.0000 - val_accuracy: 0.9919 - val_precision: 1.0000 - val_recall: 0.9919 - val_auc: 0.0000e+00 - val_prc: 1.0000 - lr: 1.0000e-04\n",
            "Epoch 33/100\n",
            "442/442 [==============================] - 10s 22ms/step - loss: 0.5860 - tp: 1874.0000 - fp: 63.0000 - tn: 2388.0000 - fn: 86.0000 - accuracy: 0.9662 - precision: 0.9675 - recall: 0.9561 - auc: 0.9941 - prc: 0.9928 - val_loss: 0.5502 - val_tp: 477.0000 - val_fp: 0.0000e+00 - val_tn: 0.0000e+00 - val_fn: 14.0000 - val_accuracy: 0.9715 - val_precision: 1.0000 - val_recall: 0.9715 - val_auc: 0.0000e+00 - val_prc: 1.0000 - lr: 1.0000e-04\n",
            "Epoch 34/100\n",
            "442/442 [==============================] - 10s 22ms/step - loss: 0.5674 - tp: 1870.0000 - fp: 53.0000 - tn: 2398.0000 - fn: 90.0000 - accuracy: 0.9676 - precision: 0.9724 - recall: 0.9541 - auc: 0.9947 - prc: 0.9943 - val_loss: 0.5390 - val_tp: 474.0000 - val_fp: 0.0000e+00 - val_tn: 0.0000e+00 - val_fn: 17.0000 - val_accuracy: 0.9654 - val_precision: 1.0000 - val_recall: 0.9654 - val_auc: 0.0000e+00 - val_prc: 1.0000 - lr: 1.0000e-04\n",
            "Epoch 35/100\n",
            "442/442 [==============================] - 10s 22ms/step - loss: 0.5544 - tp: 1870.0000 - fp: 61.0000 - tn: 2390.0000 - fn: 90.0000 - accuracy: 0.9658 - precision: 0.9684 - recall: 0.9541 - auc: 0.9945 - prc: 0.9938 - val_loss: 0.5159 - val_tp: 483.0000 - val_fp: 0.0000e+00 - val_tn: 0.0000e+00 - val_fn: 8.0000 - val_accuracy: 0.9837 - val_precision: 1.0000 - val_recall: 0.9837 - val_auc: 0.0000e+00 - val_prc: 1.0000 - lr: 1.0000e-04\n",
            "Epoch 36/100\n",
            "442/442 [==============================] - 9s 21ms/step - loss: 0.5415 - tp: 1883.0000 - fp: 71.0000 - tn: 2380.0000 - fn: 77.0000 - accuracy: 0.9664 - precision: 0.9637 - recall: 0.9607 - auc: 0.9948 - prc: 0.9943 - val_loss: 0.5025 - val_tp: 479.0000 - val_fp: 0.0000e+00 - val_tn: 0.0000e+00 - val_fn: 12.0000 - val_accuracy: 0.9756 - val_precision: 1.0000 - val_recall: 0.9756 - val_auc: 0.0000e+00 - val_prc: 1.0000 - lr: 1.0000e-04\n",
            "Epoch 37/100\n",
            "442/442 [==============================] - 10s 22ms/step - loss: 0.5269 - tp: 1872.0000 - fp: 61.0000 - tn: 2390.0000 - fn: 88.0000 - accuracy: 0.9662 - precision: 0.9684 - recall: 0.9551 - auc: 0.9951 - prc: 0.9947 - val_loss: 0.4719 - val_tp: 485.0000 - val_fp: 0.0000e+00 - val_tn: 0.0000e+00 - val_fn: 6.0000 - val_accuracy: 0.9878 - val_precision: 1.0000 - val_recall: 0.9878 - val_auc: 0.0000e+00 - val_prc: 1.0000 - lr: 1.0000e-04\n",
            "Epoch 38/100\n",
            "442/442 [==============================] - 9s 21ms/step - loss: 0.4976 - tp: 1893.0000 - fp: 53.0000 - tn: 2398.0000 - fn: 67.0000 - accuracy: 0.9728 - precision: 0.9728 - recall: 0.9658 - auc: 0.9971 - prc: 0.9967 - val_loss: 0.4452 - val_tp: 489.0000 - val_fp: 0.0000e+00 - val_tn: 0.0000e+00 - val_fn: 2.0000 - val_accuracy: 0.9959 - val_precision: 1.0000 - val_recall: 0.9959 - val_auc: 0.0000e+00 - val_prc: 1.0000 - lr: 1.0000e-04\n",
            "Epoch 39/100\n",
            "442/442 [==============================] - 10s 22ms/step - loss: 0.4917 - tp: 1896.0000 - fp: 53.0000 - tn: 2398.0000 - fn: 64.0000 - accuracy: 0.9735 - precision: 0.9728 - recall: 0.9673 - auc: 0.9960 - prc: 0.9958 - val_loss: 0.5258 - val_tp: 462.0000 - val_fp: 0.0000e+00 - val_tn: 0.0000e+00 - val_fn: 29.0000 - val_accuracy: 0.9409 - val_precision: 1.0000 - val_recall: 0.9409 - val_auc: 0.0000e+00 - val_prc: 1.0000 - lr: 1.0000e-04\n",
            "Epoch 40/100\n",
            "442/442 [==============================] - 9s 21ms/step - loss: 0.4739 - tp: 1889.0000 - fp: 54.0000 - tn: 2397.0000 - fn: 71.0000 - accuracy: 0.9717 - precision: 0.9722 - recall: 0.9638 - auc: 0.9974 - prc: 0.9970 - val_loss: 0.5542 - val_tp: 456.0000 - val_fp: 0.0000e+00 - val_tn: 0.0000e+00 - val_fn: 35.0000 - val_accuracy: 0.9287 - val_precision: 1.0000 - val_recall: 0.9287 - val_auc: 0.0000e+00 - val_prc: 1.0000 - lr: 1.0000e-04\n",
            "Epoch 41/100\n",
            "442/442 [==============================] - 10s 22ms/step - loss: 0.4728 - tp: 1894.0000 - fp: 52.0000 - tn: 2399.0000 - fn: 66.0000 - accuracy: 0.9732 - precision: 0.9733 - recall: 0.9663 - auc: 0.9959 - prc: 0.9959 - val_loss: 0.4436 - val_tp: 480.0000 - val_fp: 0.0000e+00 - val_tn: 0.0000e+00 - val_fn: 11.0000 - val_accuracy: 0.9776 - val_precision: 1.0000 - val_recall: 0.9776 - val_auc: 0.0000e+00 - val_prc: 1.0000 - lr: 1.0000e-04\n",
            "Epoch 42/100\n",
            "442/442 [==============================] - 9s 21ms/step - loss: 0.4577 - tp: 1896.0000 - fp: 44.0000 - tn: 2407.0000 - fn: 64.0000 - accuracy: 0.9755 - precision: 0.9773 - recall: 0.9673 - auc: 0.9970 - prc: 0.9967 - val_loss: 0.4534 - val_tp: 475.0000 - val_fp: 0.0000e+00 - val_tn: 0.0000e+00 - val_fn: 16.0000 - val_accuracy: 0.9674 - val_precision: 1.0000 - val_recall: 0.9674 - val_auc: 0.0000e+00 - val_prc: 1.0000 - lr: 1.0000e-04\n",
            "Epoch 43/100\n",
            "442/442 [==============================] - 10s 22ms/step - loss: 0.4353 - tp: 1906.0000 - fp: 36.0000 - tn: 2415.0000 - fn: 54.0000 - accuracy: 0.9796 - precision: 0.9815 - recall: 0.9724 - auc: 0.9976 - prc: 0.9972 - val_loss: 0.4000 - val_tp: 488.0000 - val_fp: 0.0000e+00 - val_tn: 0.0000e+00 - val_fn: 3.0000 - val_accuracy: 0.9939 - val_precision: 1.0000 - val_recall: 0.9939 - val_auc: 0.0000e+00 - val_prc: 1.0000 - lr: 1.0000e-04\n",
            "Epoch 44/100\n",
            "442/442 [==============================] - 10s 22ms/step - loss: 0.4379 - tp: 1907.0000 - fp: 46.0000 - tn: 2405.0000 - fn: 53.0000 - accuracy: 0.9776 - precision: 0.9764 - recall: 0.9730 - auc: 0.9973 - prc: 0.9970 - val_loss: 0.3838 - val_tp: 490.0000 - val_fp: 0.0000e+00 - val_tn: 0.0000e+00 - val_fn: 1.0000 - val_accuracy: 0.9980 - val_precision: 1.0000 - val_recall: 0.9980 - val_auc: 0.0000e+00 - val_prc: 1.0000 - lr: 1.0000e-04\n",
            "Epoch 45/100\n",
            "442/442 [==============================] - 10s 22ms/step - loss: 0.4305 - tp: 1898.0000 - fp: 43.0000 - tn: 2408.0000 - fn: 62.0000 - accuracy: 0.9762 - precision: 0.9778 - recall: 0.9684 - auc: 0.9966 - prc: 0.9958 - val_loss: 0.3774 - val_tp: 489.0000 - val_fp: 0.0000e+00 - val_tn: 0.0000e+00 - val_fn: 2.0000 - val_accuracy: 0.9959 - val_precision: 1.0000 - val_recall: 0.9959 - val_auc: 0.0000e+00 - val_prc: 1.0000 - lr: 1.0000e-04\n",
            "Epoch 46/100\n",
            "442/442 [==============================] - 9s 21ms/step - loss: 0.4098 - tp: 1914.0000 - fp: 40.0000 - tn: 2411.0000 - fn: 46.0000 - accuracy: 0.9805 - precision: 0.9795 - recall: 0.9765 - auc: 0.9981 - prc: 0.9975 - val_loss: 0.3833 - val_tp: 489.0000 - val_fp: 0.0000e+00 - val_tn: 0.0000e+00 - val_fn: 2.0000 - val_accuracy: 0.9959 - val_precision: 1.0000 - val_recall: 0.9959 - val_auc: 0.0000e+00 - val_prc: 1.0000 - lr: 1.0000e-04\n",
            "Epoch 47/100\n",
            "442/442 [==============================] - 10s 22ms/step - loss: 0.3981 - tp: 1916.0000 - fp: 39.0000 - tn: 2412.0000 - fn: 44.0000 - accuracy: 0.9812 - precision: 0.9801 - recall: 0.9776 - auc: 0.9985 - prc: 0.9984 - val_loss: 0.4190 - val_tp: 478.0000 - val_fp: 0.0000e+00 - val_tn: 0.0000e+00 - val_fn: 13.0000 - val_accuracy: 0.9735 - val_precision: 1.0000 - val_recall: 0.9735 - val_auc: 0.0000e+00 - val_prc: 1.0000 - lr: 1.0000e-04\n",
            "Epoch 48/100\n",
            "442/442 [==============================] - 9s 21ms/step - loss: 0.4074 - tp: 1901.0000 - fp: 42.0000 - tn: 2409.0000 - fn: 59.0000 - accuracy: 0.9771 - precision: 0.9784 - recall: 0.9699 - auc: 0.9972 - prc: 0.9966 - val_loss: 0.3937 - val_tp: 479.0000 - val_fp: 0.0000e+00 - val_tn: 0.0000e+00 - val_fn: 12.0000 - val_accuracy: 0.9756 - val_precision: 1.0000 - val_recall: 0.9756 - val_auc: 0.0000e+00 - val_prc: 1.0000 - lr: 1.0000e-04\n",
            "Epoch 49/100\n",
            "442/442 [==============================] - 9s 21ms/step - loss: 0.3782 - tp: 1930.0000 - fp: 20.0000 - tn: 2431.0000 - fn: 30.0000 - accuracy: 0.9887 - precision: 0.9897 - recall: 0.9847 - auc: 0.9994 - prc: 0.9992 - val_loss: 0.3523 - val_tp: 491.0000 - val_fp: 0.0000e+00 - val_tn: 0.0000e+00 - val_fn: 0.0000e+00 - val_accuracy: 1.0000 - val_precision: 1.0000 - val_recall: 1.0000 - val_auc: 0.0000e+00 - val_prc: 1.0000 - lr: 1.0000e-05\n",
            "Epoch 50/100\n",
            "442/442 [==============================] - 9s 21ms/step - loss: 0.3668 - tp: 1944.0000 - fp: 16.0000 - tn: 2435.0000 - fn: 16.0000 - accuracy: 0.9927 - precision: 0.9918 - recall: 0.9918 - auc: 0.9997 - prc: 0.9996 - val_loss: 0.3507 - val_tp: 491.0000 - val_fp: 0.0000e+00 - val_tn: 0.0000e+00 - val_fn: 0.0000e+00 - val_accuracy: 1.0000 - val_precision: 1.0000 - val_recall: 1.0000 - val_auc: 0.0000e+00 - val_prc: 1.0000 - lr: 1.0000e-05\n",
            "Epoch 51/100\n",
            "442/442 [==============================] - 10s 22ms/step - loss: 0.3608 - tp: 1941.0000 - fp: 12.0000 - tn: 2439.0000 - fn: 19.0000 - accuracy: 0.9930 - precision: 0.9939 - recall: 0.9903 - auc: 0.9998 - prc: 0.9998 - val_loss: 0.3470 - val_tp: 491.0000 - val_fp: 0.0000e+00 - val_tn: 0.0000e+00 - val_fn: 0.0000e+00 - val_accuracy: 1.0000 - val_precision: 1.0000 - val_recall: 1.0000 - val_auc: 0.0000e+00 - val_prc: 1.0000 - lr: 1.0000e-05\n",
            "Epoch 52/100\n",
            "442/442 [==============================] - 10s 22ms/step - loss: 0.3617 - tp: 1943.0000 - fp: 14.0000 - tn: 2437.0000 - fn: 17.0000 - accuracy: 0.9930 - precision: 0.9928 - recall: 0.9913 - auc: 0.9995 - prc: 0.9995 - val_loss: 0.3430 - val_tp: 491.0000 - val_fp: 0.0000e+00 - val_tn: 0.0000e+00 - val_fn: 0.0000e+00 - val_accuracy: 1.0000 - val_precision: 1.0000 - val_recall: 1.0000 - val_auc: 0.0000e+00 - val_prc: 1.0000 - lr: 1.0000e-05\n",
            "Epoch 53/100\n",
            "442/442 [==============================] - 10s 22ms/step - loss: 0.3622 - tp: 1940.0000 - fp: 16.0000 - tn: 2435.0000 - fn: 20.0000 - accuracy: 0.9918 - precision: 0.9918 - recall: 0.9898 - auc: 0.9997 - prc: 0.9996 - val_loss: 0.3419 - val_tp: 491.0000 - val_fp: 0.0000e+00 - val_tn: 0.0000e+00 - val_fn: 0.0000e+00 - val_accuracy: 1.0000 - val_precision: 1.0000 - val_recall: 1.0000 - val_auc: 0.0000e+00 - val_prc: 1.0000 - lr: 1.0000e-05\n",
            "Epoch 54/100\n",
            "442/442 [==============================] - 9s 21ms/step - loss: 0.3512 - tp: 1947.0000 - fp: 10.0000 - tn: 2441.0000 - fn: 13.0000 - accuracy: 0.9948 - precision: 0.9949 - recall: 0.9934 - auc: 0.9999 - prc: 0.9999 - val_loss: 0.3402 - val_tp: 491.0000 - val_fp: 0.0000e+00 - val_tn: 0.0000e+00 - val_fn: 0.0000e+00 - val_accuracy: 1.0000 - val_precision: 1.0000 - val_recall: 1.0000 - val_auc: 0.0000e+00 - val_prc: 1.0000 - lr: 1.0000e-05\n",
            "Epoch 55/100\n",
            "442/442 [==============================] - 9s 21ms/step - loss: 0.3518 - tp: 1946.0000 - fp: 11.0000 - tn: 2440.0000 - fn: 14.0000 - accuracy: 0.9943 - precision: 0.9944 - recall: 0.9929 - auc: 0.9996 - prc: 0.9996 - val_loss: 0.3419 - val_tp: 490.0000 - val_fp: 0.0000e+00 - val_tn: 0.0000e+00 - val_fn: 1.0000 - val_accuracy: 0.9980 - val_precision: 1.0000 - val_recall: 0.9980 - val_auc: 0.0000e+00 - val_prc: 1.0000 - lr: 1.0000e-05\n",
            "Epoch 56/100\n",
            "442/442 [==============================] - 10s 22ms/step - loss: 0.3477 - tp: 1946.0000 - fp: 10.0000 - tn: 2441.0000 - fn: 14.0000 - accuracy: 0.9946 - precision: 0.9949 - recall: 0.9929 - auc: 0.9999 - prc: 0.9998 - val_loss: 0.3355 - val_tp: 491.0000 - val_fp: 0.0000e+00 - val_tn: 0.0000e+00 - val_fn: 0.0000e+00 - val_accuracy: 1.0000 - val_precision: 1.0000 - val_recall: 1.0000 - val_auc: 0.0000e+00 - val_prc: 1.0000 - lr: 1.0000e-05\n",
            "Epoch 57/100\n",
            "442/442 [==============================] - 10s 22ms/step - loss: 0.3453 - tp: 1949.0000 - fp: 7.0000 - tn: 2444.0000 - fn: 11.0000 - accuracy: 0.9959 - precision: 0.9964 - recall: 0.9944 - auc: 0.9999 - prc: 0.9999 - val_loss: 0.3351 - val_tp: 490.0000 - val_fp: 0.0000e+00 - val_tn: 0.0000e+00 - val_fn: 1.0000 - val_accuracy: 0.9980 - val_precision: 1.0000 - val_recall: 0.9980 - val_auc: 0.0000e+00 - val_prc: 1.0000 - lr: 1.0000e-05\n",
            "Epoch 58/100\n",
            "442/442 [==============================] - 10s 22ms/step - loss: 0.3429 - tp: 1949.0000 - fp: 8.0000 - tn: 2443.0000 - fn: 11.0000 - accuracy: 0.9957 - precision: 0.9959 - recall: 0.9944 - auc: 0.9999 - prc: 0.9999 - val_loss: 0.3323 - val_tp: 491.0000 - val_fp: 0.0000e+00 - val_tn: 0.0000e+00 - val_fn: 0.0000e+00 - val_accuracy: 1.0000 - val_precision: 1.0000 - val_recall: 1.0000 - val_auc: 0.0000e+00 - val_prc: 1.0000 - lr: 1.0000e-05\n",
            "Epoch 59/100\n",
            "442/442 [==============================] - 10s 22ms/step - loss: 0.3416 - tp: 1949.0000 - fp: 10.0000 - tn: 2441.0000 - fn: 11.0000 - accuracy: 0.9952 - precision: 0.9949 - recall: 0.9944 - auc: 0.9996 - prc: 0.9997 - val_loss: 0.3282 - val_tp: 491.0000 - val_fp: 0.0000e+00 - val_tn: 0.0000e+00 - val_fn: 0.0000e+00 - val_accuracy: 1.0000 - val_precision: 1.0000 - val_recall: 1.0000 - val_auc: 0.0000e+00 - val_prc: 1.0000 - lr: 1.0000e-05\n",
            "Epoch 60/100\n",
            "442/442 [==============================] - 10s 22ms/step - loss: 0.3369 - tp: 1951.0000 - fp: 10.0000 - tn: 2441.0000 - fn: 9.0000 - accuracy: 0.9957 - precision: 0.9949 - recall: 0.9954 - auc: 0.9999 - prc: 0.9999 - val_loss: 0.3260 - val_tp: 491.0000 - val_fp: 0.0000e+00 - val_tn: 0.0000e+00 - val_fn: 0.0000e+00 - val_accuracy: 1.0000 - val_precision: 1.0000 - val_recall: 1.0000 - val_auc: 0.0000e+00 - val_prc: 1.0000 - lr: 1.0000e-05\n",
            "Epoch 61/100\n",
            "442/442 [==============================] - 10s 22ms/step - loss: 0.3339 - tp: 1952.0000 - fp: 7.0000 - tn: 2444.0000 - fn: 8.0000 - accuracy: 0.9966 - precision: 0.9964 - recall: 0.9959 - auc: 0.9999 - prc: 0.9999 - val_loss: 0.3236 - val_tp: 491.0000 - val_fp: 0.0000e+00 - val_tn: 0.0000e+00 - val_fn: 0.0000e+00 - val_accuracy: 1.0000 - val_precision: 1.0000 - val_recall: 1.0000 - val_auc: 0.0000e+00 - val_prc: 1.0000 - lr: 1.0000e-05\n",
            "Epoch 62/100\n",
            "442/442 [==============================] - 10s 22ms/step - loss: 0.3335 - tp: 1954.0000 - fp: 8.0000 - tn: 2443.0000 - fn: 6.0000 - accuracy: 0.9968 - precision: 0.9959 - recall: 0.9969 - auc: 0.9999 - prc: 0.9999 - val_loss: 0.3225 - val_tp: 491.0000 - val_fp: 0.0000e+00 - val_tn: 0.0000e+00 - val_fn: 0.0000e+00 - val_accuracy: 1.0000 - val_precision: 1.0000 - val_recall: 1.0000 - val_auc: 0.0000e+00 - val_prc: 1.0000 - lr: 1.0000e-05\n",
            "Epoch 63/100\n",
            "442/442 [==============================] - 9s 21ms/step - loss: 0.3317 - tp: 1950.0000 - fp: 7.0000 - tn: 2444.0000 - fn: 10.0000 - accuracy: 0.9961 - precision: 0.9964 - recall: 0.9949 - auc: 0.9999 - prc: 0.9999 - val_loss: 0.3230 - val_tp: 490.0000 - val_fp: 0.0000e+00 - val_tn: 0.0000e+00 - val_fn: 1.0000 - val_accuracy: 0.9980 - val_precision: 1.0000 - val_recall: 0.9980 - val_auc: 0.0000e+00 - val_prc: 1.0000 - lr: 1.0000e-05\n",
            "Epoch 64/100\n",
            "442/442 [==============================] - 10s 22ms/step - loss: 0.3276 - tp: 1954.0000 - fp: 6.0000 - tn: 2445.0000 - fn: 6.0000 - accuracy: 0.9973 - precision: 0.9969 - recall: 0.9969 - auc: 0.9999 - prc: 0.9999 - val_loss: 0.3198 - val_tp: 490.0000 - val_fp: 0.0000e+00 - val_tn: 0.0000e+00 - val_fn: 1.0000 - val_accuracy: 0.9980 - val_precision: 1.0000 - val_recall: 0.9980 - val_auc: 0.0000e+00 - val_prc: 1.0000 - lr: 1.0000e-05\n",
            "Epoch 65/100\n",
            "442/442 [==============================] - 9s 21ms/step - loss: 0.3250 - tp: 1953.0000 - fp: 8.0000 - tn: 2443.0000 - fn: 7.0000 - accuracy: 0.9966 - precision: 0.9959 - recall: 0.9964 - auc: 1.0000 - prc: 0.9999 - val_loss: 0.3166 - val_tp: 491.0000 - val_fp: 0.0000e+00 - val_tn: 0.0000e+00 - val_fn: 0.0000e+00 - val_accuracy: 1.0000 - val_precision: 1.0000 - val_recall: 1.0000 - val_auc: 0.0000e+00 - val_prc: 1.0000 - lr: 1.0000e-05\n",
            "Epoch 66/100\n",
            "442/442 [==============================] - 10s 22ms/step - loss: 0.3246 - tp: 1951.0000 - fp: 8.0000 - tn: 2443.0000 - fn: 9.0000 - accuracy: 0.9961 - precision: 0.9959 - recall: 0.9954 - auc: 0.9999 - prc: 0.9999 - val_loss: 0.3158 - val_tp: 490.0000 - val_fp: 0.0000e+00 - val_tn: 0.0000e+00 - val_fn: 1.0000 - val_accuracy: 0.9980 - val_precision: 1.0000 - val_recall: 0.9980 - val_auc: 0.0000e+00 - val_prc: 1.0000 - lr: 1.0000e-05\n",
            "Epoch 67/100\n",
            "442/442 [==============================] - 10s 22ms/step - loss: 0.3234 - tp: 1949.0000 - fp: 8.0000 - tn: 2443.0000 - fn: 11.0000 - accuracy: 0.9957 - precision: 0.9959 - recall: 0.9944 - auc: 0.9997 - prc: 0.9994 - val_loss: 0.3132 - val_tp: 491.0000 - val_fp: 0.0000e+00 - val_tn: 0.0000e+00 - val_fn: 0.0000e+00 - val_accuracy: 1.0000 - val_precision: 1.0000 - val_recall: 1.0000 - val_auc: 0.0000e+00 - val_prc: 1.0000 - lr: 1.0000e-05\n",
            "Epoch 68/100\n",
            "442/442 [==============================] - 9s 21ms/step - loss: 0.3196 - tp: 1953.0000 - fp: 8.0000 - tn: 2443.0000 - fn: 7.0000 - accuracy: 0.9966 - precision: 0.9959 - recall: 0.9964 - auc: 0.9997 - prc: 0.9998 - val_loss: 0.3143 - val_tp: 490.0000 - val_fp: 0.0000e+00 - val_tn: 0.0000e+00 - val_fn: 1.0000 - val_accuracy: 0.9980 - val_precision: 1.0000 - val_recall: 0.9980 - val_auc: 0.0000e+00 - val_prc: 1.0000 - lr: 1.0000e-05\n",
            "Epoch 69/100\n",
            "442/442 [==============================] - 10s 22ms/step - loss: 0.3219 - tp: 1949.0000 - fp: 8.0000 - tn: 2443.0000 - fn: 11.0000 - accuracy: 0.9957 - precision: 0.9959 - recall: 0.9944 - auc: 0.9999 - prc: 0.9999 - val_loss: 0.3145 - val_tp: 490.0000 - val_fp: 0.0000e+00 - val_tn: 0.0000e+00 - val_fn: 1.0000 - val_accuracy: 0.9980 - val_precision: 1.0000 - val_recall: 0.9980 - val_auc: 0.0000e+00 - val_prc: 1.0000 - lr: 1.0000e-05\n",
            "Epoch 70/100\n",
            "442/442 [==============================] - 10s 22ms/step - loss: 0.3152 - tp: 1951.0000 - fp: 6.0000 - tn: 2445.0000 - fn: 9.0000 - accuracy: 0.9966 - precision: 0.9969 - recall: 0.9954 - auc: 1.0000 - prc: 1.0000 - val_loss: 0.3079 - val_tp: 491.0000 - val_fp: 0.0000e+00 - val_tn: 0.0000e+00 - val_fn: 0.0000e+00 - val_accuracy: 1.0000 - val_precision: 1.0000 - val_recall: 1.0000 - val_auc: 0.0000e+00 - val_prc: 1.0000 - lr: 1.0000e-05\n",
            "Epoch 71/100\n",
            "442/442 [==============================] - 10s 22ms/step - loss: 0.3139 - tp: 1952.0000 - fp: 3.0000 - tn: 2448.0000 - fn: 8.0000 - accuracy: 0.9975 - precision: 0.9985 - recall: 0.9959 - auc: 1.0000 - prc: 1.0000 - val_loss: 0.3060 - val_tp: 491.0000 - val_fp: 0.0000e+00 - val_tn: 0.0000e+00 - val_fn: 0.0000e+00 - val_accuracy: 1.0000 - val_precision: 1.0000 - val_recall: 1.0000 - val_auc: 0.0000e+00 - val_prc: 1.0000 - lr: 1.0000e-05\n",
            "Epoch 72/100\n",
            "442/442 [==============================] - 10s 22ms/step - loss: 0.3154 - tp: 1952.0000 - fp: 10.0000 - tn: 2441.0000 - fn: 8.0000 - accuracy: 0.9959 - precision: 0.9949 - recall: 0.9959 - auc: 0.9997 - prc: 0.9994 - val_loss: 0.3073 - val_tp: 490.0000 - val_fp: 0.0000e+00 - val_tn: 0.0000e+00 - val_fn: 1.0000 - val_accuracy: 0.9980 - val_precision: 1.0000 - val_recall: 0.9980 - val_auc: 0.0000e+00 - val_prc: 1.0000 - lr: 1.0000e-05\n",
            "Epoch 73/100\n",
            "442/442 [==============================] - 10s 22ms/step - loss: 0.3120 - tp: 1952.0000 - fp: 4.0000 - tn: 2447.0000 - fn: 8.0000 - accuracy: 0.9973 - precision: 0.9980 - recall: 0.9959 - auc: 0.9997 - prc: 0.9998 - val_loss: 0.3042 - val_tp: 491.0000 - val_fp: 0.0000e+00 - val_tn: 0.0000e+00 - val_fn: 0.0000e+00 - val_accuracy: 1.0000 - val_precision: 1.0000 - val_recall: 1.0000 - val_auc: 0.0000e+00 - val_prc: 1.0000 - lr: 1.0000e-05\n",
            "Epoch 74/100\n",
            "442/442 [==============================] - 9s 21ms/step - loss: 0.3097 - tp: 1952.0000 - fp: 6.0000 - tn: 2445.0000 - fn: 8.0000 - accuracy: 0.9968 - precision: 0.9969 - recall: 0.9959 - auc: 1.0000 - prc: 1.0000 - val_loss: 0.3100 - val_tp: 490.0000 - val_fp: 0.0000e+00 - val_tn: 0.0000e+00 - val_fn: 1.0000 - val_accuracy: 0.9980 - val_precision: 1.0000 - val_recall: 0.9980 - val_auc: 0.0000e+00 - val_prc: 1.0000 - lr: 1.0000e-05\n",
            "Epoch 75/100\n",
            "442/442 [==============================] - 10s 22ms/step - loss: 0.3090 - tp: 1954.0000 - fp: 8.0000 - tn: 2443.0000 - fn: 6.0000 - accuracy: 0.9968 - precision: 0.9959 - recall: 0.9969 - auc: 1.0000 - prc: 0.9999 - val_loss: 0.3011 - val_tp: 491.0000 - val_fp: 0.0000e+00 - val_tn: 0.0000e+00 - val_fn: 0.0000e+00 - val_accuracy: 1.0000 - val_precision: 1.0000 - val_recall: 1.0000 - val_auc: 0.0000e+00 - val_prc: 1.0000 - lr: 1.0000e-05\n",
            "Epoch 76/100\n",
            "442/442 [==============================] - 10s 22ms/step - loss: 0.3025 - tp: 1957.0000 - fp: 2.0000 - tn: 2449.0000 - fn: 3.0000 - accuracy: 0.9989 - precision: 0.9990 - recall: 0.9985 - auc: 1.0000 - prc: 1.0000 - val_loss: 0.2994 - val_tp: 491.0000 - val_fp: 0.0000e+00 - val_tn: 0.0000e+00 - val_fn: 0.0000e+00 - val_accuracy: 1.0000 - val_precision: 1.0000 - val_recall: 1.0000 - val_auc: 0.0000e+00 - val_prc: 1.0000 - lr: 1.0000e-05\n",
            "Epoch 77/100\n",
            "442/442 [==============================] - 10s 22ms/step - loss: 0.3022 - tp: 1956.0000 - fp: 2.0000 - tn: 2449.0000 - fn: 4.0000 - accuracy: 0.9986 - precision: 0.9990 - recall: 0.9980 - auc: 1.0000 - prc: 1.0000 - val_loss: 0.2974 - val_tp: 491.0000 - val_fp: 0.0000e+00 - val_tn: 0.0000e+00 - val_fn: 0.0000e+00 - val_accuracy: 1.0000 - val_precision: 1.0000 - val_recall: 1.0000 - val_auc: 0.0000e+00 - val_prc: 1.0000 - lr: 1.0000e-05\n",
            "Epoch 78/100\n",
            "442/442 [==============================] - 10s 22ms/step - loss: 0.3020 - tp: 1955.0000 - fp: 4.0000 - tn: 2447.0000 - fn: 5.0000 - accuracy: 0.9980 - precision: 0.9980 - recall: 0.9974 - auc: 1.0000 - prc: 1.0000 - val_loss: 0.2952 - val_tp: 491.0000 - val_fp: 0.0000e+00 - val_tn: 0.0000e+00 - val_fn: 0.0000e+00 - val_accuracy: 1.0000 - val_precision: 1.0000 - val_recall: 1.0000 - val_auc: 0.0000e+00 - val_prc: 1.0000 - lr: 1.0000e-05\n",
            "Epoch 79/100\n",
            "442/442 [==============================] - 9s 21ms/step - loss: 0.3013 - tp: 1956.0000 - fp: 6.0000 - tn: 2445.0000 - fn: 4.0000 - accuracy: 0.9977 - precision: 0.9969 - recall: 0.9980 - auc: 1.0000 - prc: 1.0000 - val_loss: 0.2980 - val_tp: 490.0000 - val_fp: 0.0000e+00 - val_tn: 0.0000e+00 - val_fn: 1.0000 - val_accuracy: 0.9980 - val_precision: 1.0000 - val_recall: 0.9980 - val_auc: 0.0000e+00 - val_prc: 1.0000 - lr: 1.0000e-05\n",
            "Epoch 80/100\n",
            "442/442 [==============================] - 9s 21ms/step - loss: 0.3005 - tp: 1954.0000 - fp: 6.0000 - tn: 2445.0000 - fn: 6.0000 - accuracy: 0.9973 - precision: 0.9969 - recall: 0.9969 - auc: 1.0000 - prc: 1.0000 - val_loss: 0.2954 - val_tp: 490.0000 - val_fp: 0.0000e+00 - val_tn: 0.0000e+00 - val_fn: 1.0000 - val_accuracy: 0.9980 - val_precision: 1.0000 - val_recall: 0.9980 - val_auc: 0.0000e+00 - val_prc: 1.0000 - lr: 1.0000e-05\n",
            "Epoch 81/100\n",
            "442/442 [==============================] - 9s 21ms/step - loss: 0.3017 - tp: 1953.0000 - fp: 6.0000 - tn: 2445.0000 - fn: 7.0000 - accuracy: 0.9971 - precision: 0.9969 - recall: 0.9964 - auc: 0.9997 - prc: 0.9994 - val_loss: 0.2998 - val_tp: 490.0000 - val_fp: 0.0000e+00 - val_tn: 0.0000e+00 - val_fn: 1.0000 - val_accuracy: 0.9980 - val_precision: 1.0000 - val_recall: 0.9980 - val_auc: 0.0000e+00 - val_prc: 1.0000 - lr: 1.0000e-05\n",
            "Epoch 82/100\n",
            "442/442 [==============================] - 10s 22ms/step - loss: 0.2978 - tp: 1953.0000 - fp: 3.0000 - tn: 2448.0000 - fn: 7.0000 - accuracy: 0.9977 - precision: 0.9985 - recall: 0.9964 - auc: 1.0000 - prc: 1.0000 - val_loss: 0.2939 - val_tp: 490.0000 - val_fp: 0.0000e+00 - val_tn: 0.0000e+00 - val_fn: 1.0000 - val_accuracy: 0.9980 - val_precision: 1.0000 - val_recall: 0.9980 - val_auc: 0.0000e+00 - val_prc: 1.0000 - lr: 1.0000e-06\n",
            "Epoch 83/100\n",
            "442/442 [==============================] - 9s 21ms/step - loss: 0.2979 - tp: 1957.0000 - fp: 9.0000 - tn: 2442.0000 - fn: 3.0000 - accuracy: 0.9973 - precision: 0.9954 - recall: 0.9985 - auc: 0.9997 - prc: 0.9998 - val_loss: 0.2958 - val_tp: 490.0000 - val_fp: 0.0000e+00 - val_tn: 0.0000e+00 - val_fn: 1.0000 - val_accuracy: 0.9980 - val_precision: 1.0000 - val_recall: 0.9980 - val_auc: 0.0000e+00 - val_prc: 1.0000 - lr: 1.0000e-06\n",
            "Epoch 84/100\n",
            "442/442 [==============================] - 9s 21ms/step - loss: 0.2972 - tp: 1954.0000 - fp: 4.0000 - tn: 2447.0000 - fn: 6.0000 - accuracy: 0.9977 - precision: 0.9980 - recall: 0.9969 - auc: 1.0000 - prc: 1.0000 - val_loss: 0.2945 - val_tp: 490.0000 - val_fp: 0.0000e+00 - val_tn: 0.0000e+00 - val_fn: 1.0000 - val_accuracy: 0.9980 - val_precision: 1.0000 - val_recall: 0.9980 - val_auc: 0.0000e+00 - val_prc: 1.0000 - lr: 1.0000e-06\n",
            "Epoch 85/100\n",
            "442/442 [==============================] - 10s 22ms/step - loss: 0.2971 - tp: 1956.0000 - fp: 5.0000 - tn: 2446.0000 - fn: 4.0000 - accuracy: 0.9980 - precision: 0.9975 - recall: 0.9980 - auc: 0.9998 - prc: 0.9995 - val_loss: 0.2934 - val_tp: 490.0000 - val_fp: 0.0000e+00 - val_tn: 0.0000e+00 - val_fn: 1.0000 - val_accuracy: 0.9980 - val_precision: 1.0000 - val_recall: 0.9980 - val_auc: 0.0000e+00 - val_prc: 1.0000 - lr: 1.0000e-06\n",
            "Epoch 86/100\n",
            "442/442 [==============================] - 10s 22ms/step - loss: 0.2982 - tp: 1954.0000 - fp: 3.0000 - tn: 2448.0000 - fn: 6.0000 - accuracy: 0.9980 - precision: 0.9985 - recall: 0.9969 - auc: 0.9997 - prc: 0.9998 - val_loss: 0.2930 - val_tp: 490.0000 - val_fp: 0.0000e+00 - val_tn: 0.0000e+00 - val_fn: 1.0000 - val_accuracy: 0.9980 - val_precision: 1.0000 - val_recall: 0.9980 - val_auc: 0.0000e+00 - val_prc: 1.0000 - lr: 1.0000e-06\n",
            "Epoch 87/100\n",
            "442/442 [==============================] - 10s 22ms/step - loss: 0.2958 - tp: 1957.0000 - fp: 4.0000 - tn: 2447.0000 - fn: 3.0000 - accuracy: 0.9984 - precision: 0.9980 - recall: 0.9985 - auc: 1.0000 - prc: 1.0000 - val_loss: 0.2934 - val_tp: 490.0000 - val_fp: 0.0000e+00 - val_tn: 0.0000e+00 - val_fn: 1.0000 - val_accuracy: 0.9980 - val_precision: 1.0000 - val_recall: 0.9980 - val_auc: 0.0000e+00 - val_prc: 1.0000 - lr: 1.0000e-06\n",
            "Epoch 88/100\n",
            "442/442 [==============================] - 9s 21ms/step - loss: 0.2954 - tp: 1955.0000 - fp: 4.0000 - tn: 2447.0000 - fn: 5.0000 - accuracy: 0.9980 - precision: 0.9980 - recall: 0.9974 - auc: 1.0000 - prc: 1.0000 - val_loss: 0.2936 - val_tp: 490.0000 - val_fp: 0.0000e+00 - val_tn: 0.0000e+00 - val_fn: 1.0000 - val_accuracy: 0.9980 - val_precision: 1.0000 - val_recall: 0.9980 - val_auc: 0.0000e+00 - val_prc: 1.0000 - lr: 1.0000e-06\n",
            "Epoch 89/100\n",
            "442/442 [==============================] - 10s 21ms/step - loss: 0.2999 - tp: 1952.0000 - fp: 5.0000 - tn: 2446.0000 - fn: 8.0000 - accuracy: 0.9971 - precision: 0.9974 - recall: 0.9959 - auc: 0.9997 - prc: 0.9998 - val_loss: 0.2918 - val_tp: 490.0000 - val_fp: 0.0000e+00 - val_tn: 0.0000e+00 - val_fn: 1.0000 - val_accuracy: 0.9980 - val_precision: 1.0000 - val_recall: 0.9980 - val_auc: 0.0000e+00 - val_prc: 1.0000 - lr: 1.0000e-06\n",
            "Epoch 90/100\n",
            "442/442 [==============================] - 10s 22ms/step - loss: 0.2934 - tp: 1957.0000 - fp: 3.0000 - tn: 2448.0000 - fn: 3.0000 - accuracy: 0.9986 - precision: 0.9985 - recall: 0.9985 - auc: 1.0000 - prc: 1.0000 - val_loss: 0.2919 - val_tp: 490.0000 - val_fp: 0.0000e+00 - val_tn: 0.0000e+00 - val_fn: 1.0000 - val_accuracy: 0.9980 - val_precision: 1.0000 - val_recall: 0.9980 - val_auc: 0.0000e+00 - val_prc: 1.0000 - lr: 1.0000e-06\n",
            "Epoch 91/100\n",
            "442/442 [==============================] - 10s 22ms/step - loss: 0.2927 - tp: 1960.0000 - fp: 1.0000 - tn: 2450.0000 - fn: 0.0000e+00 - accuracy: 0.9998 - precision: 0.9995 - recall: 1.0000 - auc: 1.0000 - prc: 1.0000 - val_loss: 0.2933 - val_tp: 490.0000 - val_fp: 0.0000e+00 - val_tn: 0.0000e+00 - val_fn: 1.0000 - val_accuracy: 0.9980 - val_precision: 1.0000 - val_recall: 0.9980 - val_auc: 0.0000e+00 - val_prc: 1.0000 - lr: 1.0000e-06\n",
            "Epoch 92/100\n",
            "442/442 [==============================] - 9s 21ms/step - loss: 0.2958 - tp: 1955.0000 - fp: 6.0000 - tn: 2445.0000 - fn: 5.0000 - accuracy: 0.9975 - precision: 0.9969 - recall: 0.9974 - auc: 1.0000 - prc: 1.0000 - val_loss: 0.2925 - val_tp: 490.0000 - val_fp: 0.0000e+00 - val_tn: 0.0000e+00 - val_fn: 1.0000 - val_accuracy: 0.9980 - val_precision: 1.0000 - val_recall: 0.9980 - val_auc: 0.0000e+00 - val_prc: 1.0000 - lr: 1.0000e-06\n",
            "Epoch 93/100\n",
            "442/442 [==============================] - 10s 22ms/step - loss: 0.2932 - tp: 1956.0000 - fp: 3.0000 - tn: 2448.0000 - fn: 4.0000 - accuracy: 0.9984 - precision: 0.9985 - recall: 0.9980 - auc: 1.0000 - prc: 1.0000 - val_loss: 0.2918 - val_tp: 490.0000 - val_fp: 0.0000e+00 - val_tn: 0.0000e+00 - val_fn: 1.0000 - val_accuracy: 0.9980 - val_precision: 1.0000 - val_recall: 0.9980 - val_auc: 0.0000e+00 - val_prc: 1.0000 - lr: 1.0000e-06\n"
          ]
        }
      ],
      "source": [
        "history = model.fit(X_train_reshaped, y_resampled, epochs=100, batch_size=10, verbose=1, validation_split=0.1, callbacks=[reduce_lr,early_st])"
      ]
    },
    {
      "cell_type": "markdown",
      "metadata": {
        "id": "5hF9EG1dX6xZ"
      },
      "source": [
        "# Evaluate the model"
      ]
    },
    {
      "cell_type": "code",
      "execution_count": null,
      "metadata": {
        "colab": {
          "base_uri": "https://localhost:8080/"
        },
        "id": "ux5k-LYLl3GF",
        "outputId": "9148bd10-3890-40c0-d5ce-d97b0938aef1"
      },
      "outputs": [
        {
          "name": "stdout",
          "output_type": "stream",
          "text": [
            "24/24 [==============================] - 0s 8ms/step\n",
            "[[517  96]\n",
            " [ 31 114]]\n"
          ]
        }
      ],
      "source": [
        "y_pred  = model.predict(X_test_reshaped)\n",
        "y_pred = (y_pred>0.5)\n",
        "cm = confusion_matrix(y_test, y_pred)\n",
        "print(cm)"
      ]
    },
    {
      "cell_type": "code",
      "execution_count": null,
      "metadata": {
        "colab": {
          "base_uri": "https://localhost:8080/"
        },
        "id": "iur6Wu4oZ5dI",
        "outputId": "a97b3320-950a-4b11-fcb3-1b08387bb109"
      },
      "outputs": [
        {
          "name": "stdout",
          "output_type": "stream",
          "text": [
            "balanced acuracy: 0.8148000225009844\n"
          ]
        }
      ],
      "source": [
        "print(\"balanced acuracy:\", balanced_accuracy_score(y_test, y_pred))"
      ]
    },
    {
      "cell_type": "code",
      "execution_count": null,
      "metadata": {
        "colab": {
          "base_uri": "https://localhost:8080/"
        },
        "id": "zkQ55Zm7l3D2",
        "outputId": "1d603181-a728-4b27-d900-a1e71d36be80"
      },
      "outputs": [
        {
          "name": "stdout",
          "output_type": "stream",
          "text": [
            "              precision    recall  f1-score   support\n",
            "\n",
            "           0       0.94      0.84      0.89       613\n",
            "           1       0.54      0.79      0.64       145\n",
            "\n",
            "    accuracy                           0.83       758\n",
            "   macro avg       0.74      0.81      0.77       758\n",
            "weighted avg       0.87      0.83      0.84       758\n",
            "\n",
            "346/346 [==============================] - 2s 4ms/step\n",
            "76/76 [==============================] - 0s 4ms/step\n",
            "loss :  1.1462087631225586\n",
            "tp :  114.0\n",
            "fp :  96.0\n",
            "tn :  517.0\n",
            "fn :  31.0\n",
            "accuracy :  0.8324538469314575\n",
            "precision :  0.5428571701049805\n",
            "recall :  0.7862069010734558\n",
            "auc :  0.8889914155006409\n",
            "prc :  0.7744895219802856\n",
            "\n"
          ]
        }
      ],
      "source": [
        "target_names=[\"0\",\"1\"]\n",
        "print(classification_report(y_test, y_pred, target_names=target_names))\n",
        "\n",
        "train_predictions_baseline = model.predict(X_train_reshaped, batch_size=10)\n",
        "test_predictions_baseline = model.predict(X_test_reshaped, batch_size=10)\n",
        "\n",
        "baseline_results = model.evaluate(X_test_reshaped, y_test, verbose=0)\n",
        "for name, value in zip(model.metrics_names, baseline_results):\n",
        "  print(name, ': ', value)\n",
        "print()"
      ]
    },
    {
      "cell_type": "code",
      "execution_count": null,
      "metadata": {
        "colab": {
          "base_uri": "https://localhost:8080/",
          "height": 1000
        },
        "id": "YzVQLd_Xl3B1",
        "outputId": "6bd1d53b-d330-4a0f-d2c9-b33181c37c01"
      },
      "outputs": [
        {
          "data": {
            "image/png": "[encoded data removed]",
            "text/plain": [
              "<Figure size 1200x1000 with 1 Axes>"
            ]
          },
          "metadata": {},
          "output_type": "display_data"
        },
        {
          "data": {
            "image/png": "[encoded data removed]",
            "text/plain": [
              "<Figure size 1200x1000 with 1 Axes>"
            ]
          },
          "metadata": {},
          "output_type": "display_data"
        }
      ],
      "source": [
        "plt.rcParams['figure.figsize'] = (12, 10)\n",
        "plt.rcParams.update({'font.size': 17})\n",
        "colors = plt.rcParams['axes.prop_cycle'].by_key()['color']\n",
        "\n",
        "def plot_roc(name, labels, predictions, **kwargs):\n",
        "  fp, tp, _ = sklearn.metrics.roc_curve(labels, predictions)\n",
        "\n",
        "  plt.plot(fp, tp, label=name, linewidth=2, **kwargs)\n",
        "  plt.plot([0, 1], [0, 1], 'k--')\n",
        "  plt.title('E. coli CNN')\n",
        "  plt.xlabel('False positives [%]')\n",
        "  plt.ylabel('True positives [%]')\n",
        "  plt.title('S. aureus AUROC')\n",
        "\n",
        "  plt.grid(True)\n",
        "  ax = plt.gca()\n",
        "  ax.set_aspect('equal')\n",
        "plot_roc(\"Ciprofloxacin               AUROC: %0.2f\" % baseline_results[8], y_test, test_predictions_baseline, color=colors[0])\n",
        "\n",
        "plt.legend(loc='lower right')\n",
        "plt.savefig('s_aureus_auroc.png', bbox_inches='tight')\n",
        "plt.show()\n",
        "\n",
        "def plot_prc(name, labels, predictions, **kwargs):\n",
        "    precision, recall, _ = sklearn.metrics.precision_recall_curve(labels, predictions)\n",
        "\n",
        "    plt.plot(precision, recall, label=name, linewidth=2, **kwargs)\n",
        "    plt.title('S. aureus AUPRC')\n",
        "    plt.xlabel('Recall')\n",
        "    plt.ylabel('Precision')\n",
        "    plt.plot([1, 0], [0, 1], 'k--')\n",
        "    plt.grid(True)\n",
        "    ax = plt.gca()\n",
        "    ax.set_aspect('equal')\n",
        "\n",
        "plot_prc(\"Ciprofloxacin        AUPRC: %0.2f\" % baseline_results[9], y_test, test_predictions_baseline, color=colors[0])\n",
        "\n",
        "plt.legend(loc='upper right')\n",
        "plt.savefig('s_aureus_auprc.png', bbox_inches='tight')\n",
        "plt.show()"
      ]
    }
  ],
  "metadata": {
    "accelerator": "GPU",
    "colab": {
      "provenance": []
    },
    "gpuClass": "standard",
    "kernelspec": {
      "display_name": "Python 3 (ipykernel)",
      "language": "python",
      "name": "python3"
    }
  },
  "nbformat": 4,
  "nbformat_minor": 0
}
