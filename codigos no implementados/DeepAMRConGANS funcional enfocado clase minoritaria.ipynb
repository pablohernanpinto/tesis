{
 "cells": [
  {
   "cell_type": "markdown",
   "metadata": {
    "id": "LNNFUJODXA9C"
   },
   "source": [
    "# 0-Libraries"
   ]
  },
  {
   "cell_type": "code",
   "execution_count": 2,
   "metadata": {
    "id": "W1quzgr-ao8A"
   },
   "outputs": [],
   "source": [
    "import numpy as np\n",
    "import matplotlib.pyplot as plt\n",
    "import itertools\n",
    "import pandas as pd\n",
    "import sklearn\n",
    "from sklearn.model_selection import train_test_split\n",
    "from sklearn.metrics import confusion_matrix,classification_report,ConfusionMatrixDisplay, balanced_accuracy_score\n",
    "#from sklearn.preprocessing import LabelEncoder, OneHotEncoder\n",
    "from sklearn.compose import ColumnTransformer\n",
    "from sklearn.preprocessing import Normalizer, StandardScaler, MinMaxScaler, MaxAbsScaler, RobustScaler, QuantileTransformer, PowerTransformer\n",
    "import tensorflow as tf\n",
    "from tensorflow import keras\n",
    "from tensorflow.keras.layers import Dense, LeakyReLU, BatchNormalization, Reshape\n",
    "\n",
    "from keras import regularizers\n",
    "from keras.optimizers import Adam\n",
    "#from keras.backend import expand_dims\n",
    "from keras.callbacks import ReduceLROnPlateau, EarlyStopping\n",
    "from keras.models import Sequential\n",
    "from keras.constraints import MaxNorm\n",
    "from keras.layers import Activation, Dense, Conv1D, Flatten, MaxPooling1D, Dropout, BatchNormalization, SpatialDropout1D"
   ]
  },
  {
   "cell_type": "markdown",
   "metadata": {
    "id": "yD17WVS_4Y7T"
   },
   "source": [
    "## Librerias oversampling\n"
   ]
  },
  {
   "cell_type": "code",
   "execution_count": 3,
   "metadata": {},
   "outputs": [],
   "source": [
    "import torch\n",
    "from torch import nn\n",
    "\n",
    "import math\n",
    "import matplotlib.pyplot as plt"
   ]
  },
  {
   "cell_type": "code",
   "execution_count": 4,
   "metadata": {
    "id": "gy_ErAtqkxgt"
   },
   "outputs": [
    {
     "name": "stderr",
     "output_type": "stream",
     "text": [
      "2024-12-20 15:59:20.104082: I tensorflow/core/platform/cpu_feature_guard.cc:193] This TensorFlow binary is optimized with oneAPI Deep Neural Network Library (oneDNN) to use the following CPU instructions in performance-critical operations:  AVX2 AVX512F AVX512_VNNI FMA\n",
      "To enable them in other operations, rebuild TensorFlow with the appropriate compiler flags.\n",
      "2024-12-20 15:59:24.283462: I tensorflow/core/common_runtime/gpu/gpu_device.cc:1616] Created device /job:localhost/replica:0/task:0/device:GPU:0 with 13041 MB memory:  -> device: 0, name: NVIDIA RTX A4000, pci bus id: 0000:c3:00.0, compute capability: 8.6\n"
     ]
    }
   ],
   "source": [
    "METRICS = [\n",
    "      keras.metrics.TruePositives(name='tp'),\n",
    "      keras.metrics.FalsePositives(name='fp'),\n",
    "      keras.metrics.TrueNegatives(name='tn'),\n",
    "      keras.metrics.FalseNegatives(name='fn'),\n",
    "      keras.metrics.BinaryAccuracy(name='accuracy'),\n",
    "      keras.metrics.Precision(name='precision'),\n",
    "      keras.metrics.Recall(name='recall'),\n",
    "      keras.metrics.AUC(name='auc'),\n",
    "      keras.metrics.AUC(name='prc', curve='PR'), # precision-recall curve\n",
    "]"
   ]
  },
  {
   "cell_type": "markdown",
   "metadata": {
    "id": "N6bQjUrPXPaI"
   },
   "source": [
    "# 1- Load Data"
   ]
  },
  {
   "cell_type": "code",
   "execution_count": 5,
   "metadata": {},
   "outputs": [],
   "source": [
    "import torch\n",
    "import torch.nn as nn\n",
    "import torch.optim as optim\n",
    "from sklearn.utils import shuffle\n",
    "from tensorflow.keras import layers\n"
   ]
  },
  {
   "cell_type": "code",
   "execution_count": 6,
   "metadata": {
    "colab": {
     "base_uri": "https://localhost:8080/",
     "height": 721
    },
    "id": "UXVFQgZNaNrg",
    "outputId": "7fccb4b4-1f11-48e5-8aaf-a25e40003012"
   },
   "outputs": [
    {
     "data": {
      "text/html": [
       "<div>\n",
       "<style scoped>\n",
       "    .dataframe tbody tr th:only-of-type {\n",
       "        vertical-align: middle;\n",
       "    }\n",
       "\n",
       "    .dataframe tbody tr th {\n",
       "        vertical-align: top;\n",
       "    }\n",
       "\n",
       "    .dataframe thead th {\n",
       "        text-align: right;\n",
       "    }\n",
       "</style>\n",
       "<table border=\"1\" class=\"dataframe\">\n",
       "  <thead>\n",
       "    <tr style=\"text-align: right;\">\n",
       "      <th></th>\n",
       "      <th>2000</th>\n",
       "      <th>2003</th>\n",
       "      <th>2006</th>\n",
       "      <th>2009</th>\n",
       "      <th>2012</th>\n",
       "      <th>2015</th>\n",
       "      <th>2018</th>\n",
       "      <th>2021</th>\n",
       "      <th>2024</th>\n",
       "      <th>2027</th>\n",
       "      <th>...</th>\n",
       "      <th>19991</th>\n",
       "      <th>19994</th>\n",
       "      <th>19997</th>\n",
       "      <th>code</th>\n",
       "      <th>species</th>\n",
       "      <th>Oxacillin</th>\n",
       "      <th>Clindamycin</th>\n",
       "      <th>Ceftriaxone</th>\n",
       "      <th>Ciprofloxacin</th>\n",
       "      <th>Fusidic acid</th>\n",
       "    </tr>\n",
       "  </thead>\n",
       "  <tbody>\n",
       "    <tr>\n",
       "      <th>0</th>\n",
       "      <td>951.428571</td>\n",
       "      <td>826.125000</td>\n",
       "      <td>944.857143</td>\n",
       "      <td>898.428571</td>\n",
       "      <td>1007.714286</td>\n",
       "      <td>936.000000</td>\n",
       "      <td>828.571429</td>\n",
       "      <td>812.000000</td>\n",
       "      <td>782.714286</td>\n",
       "      <td>741.625000</td>\n",
       "      <td>...</td>\n",
       "      <td>35.5</td>\n",
       "      <td>20.500000</td>\n",
       "      <td>27.342857</td>\n",
       "      <td>029f0abf-1664-424f-88cb-11c9c8af2b11</td>\n",
       "      <td>Staphylococcus aureus</td>\n",
       "      <td>0.0</td>\n",
       "      <td>0.0</td>\n",
       "      <td>0.0</td>\n",
       "      <td>0.0</td>\n",
       "      <td>1.0</td>\n",
       "    </tr>\n",
       "    <tr>\n",
       "      <th>1</th>\n",
       "      <td>784.714286</td>\n",
       "      <td>701.125000</td>\n",
       "      <td>681.571429</td>\n",
       "      <td>762.142857</td>\n",
       "      <td>737.571429</td>\n",
       "      <td>733.000000</td>\n",
       "      <td>735.857143</td>\n",
       "      <td>659.571429</td>\n",
       "      <td>802.714286</td>\n",
       "      <td>554.375000</td>\n",
       "      <td>...</td>\n",
       "      <td>30.0</td>\n",
       "      <td>40.500000</td>\n",
       "      <td>34.695238</td>\n",
       "      <td>08149af1-10f5-4f02-81d8-3d46d66d4a7a</td>\n",
       "      <td>Staphylococcus aureus</td>\n",
       "      <td>0.0</td>\n",
       "      <td>0.0</td>\n",
       "      <td>0.0</td>\n",
       "      <td>0.0</td>\n",
       "      <td>0.0</td>\n",
       "    </tr>\n",
       "    <tr>\n",
       "      <th>2</th>\n",
       "      <td>50.875000</td>\n",
       "      <td>89.142857</td>\n",
       "      <td>56.142857</td>\n",
       "      <td>151.285714</td>\n",
       "      <td>132.714286</td>\n",
       "      <td>110.428571</td>\n",
       "      <td>47.285714</td>\n",
       "      <td>63.428571</td>\n",
       "      <td>100.375000</td>\n",
       "      <td>52.142857</td>\n",
       "      <td>...</td>\n",
       "      <td>2.5</td>\n",
       "      <td>30.500000</td>\n",
       "      <td>11.288462</td>\n",
       "      <td>08fe3876-ecee-4ddc-9aa9-a84f605757f7</td>\n",
       "      <td>Staphylococcus aureus</td>\n",
       "      <td>0.0</td>\n",
       "      <td>0.0</td>\n",
       "      <td>0.0</td>\n",
       "      <td>0.0</td>\n",
       "      <td>0.0</td>\n",
       "    </tr>\n",
       "    <tr>\n",
       "      <th>3</th>\n",
       "      <td>843.285714</td>\n",
       "      <td>816.500000</td>\n",
       "      <td>734.428571</td>\n",
       "      <td>1027.142857</td>\n",
       "      <td>979.428571</td>\n",
       "      <td>875.571429</td>\n",
       "      <td>912.142857</td>\n",
       "      <td>714.428571</td>\n",
       "      <td>945.428571</td>\n",
       "      <td>886.500000</td>\n",
       "      <td>...</td>\n",
       "      <td>15.5</td>\n",
       "      <td>8.000000</td>\n",
       "      <td>20.057143</td>\n",
       "      <td>0a9fdd4b-7180-47c0-849e-cb32d46da94c</td>\n",
       "      <td>Staphylococcus aureus</td>\n",
       "      <td>0.0</td>\n",
       "      <td>0.0</td>\n",
       "      <td>0.0</td>\n",
       "      <td>0.0</td>\n",
       "      <td>0.0</td>\n",
       "    </tr>\n",
       "    <tr>\n",
       "      <th>4</th>\n",
       "      <td>307.857143</td>\n",
       "      <td>295.000000</td>\n",
       "      <td>246.714286</td>\n",
       "      <td>181.571429</td>\n",
       "      <td>258.000000</td>\n",
       "      <td>318.714286</td>\n",
       "      <td>295.714286</td>\n",
       "      <td>300.857143</td>\n",
       "      <td>278.142857</td>\n",
       "      <td>256.125000</td>\n",
       "      <td>...</td>\n",
       "      <td>25.5</td>\n",
       "      <td>32.000000</td>\n",
       "      <td>24.990476</td>\n",
       "      <td>0d82f4c4-473c-49d8-8c85-e3e36e96d047</td>\n",
       "      <td>Staphylococcus aureus</td>\n",
       "      <td>1.0</td>\n",
       "      <td>0.0</td>\n",
       "      <td>1.0</td>\n",
       "      <td>1.0</td>\n",
       "      <td>0.0</td>\n",
       "    </tr>\n",
       "    <tr>\n",
       "      <th>...</th>\n",
       "      <td>...</td>\n",
       "      <td>...</td>\n",
       "      <td>...</td>\n",
       "      <td>...</td>\n",
       "      <td>...</td>\n",
       "      <td>...</td>\n",
       "      <td>...</td>\n",
       "      <td>...</td>\n",
       "      <td>...</td>\n",
       "      <td>...</td>\n",
       "      <td>...</td>\n",
       "      <td>...</td>\n",
       "      <td>...</td>\n",
       "      <td>...</td>\n",
       "      <td>...</td>\n",
       "      <td>...</td>\n",
       "      <td>...</td>\n",
       "      <td>...</td>\n",
       "      <td>...</td>\n",
       "      <td>...</td>\n",
       "      <td>...</td>\n",
       "    </tr>\n",
       "    <tr>\n",
       "      <th>3786</th>\n",
       "      <td>288.000000</td>\n",
       "      <td>330.285714</td>\n",
       "      <td>296.142857</td>\n",
       "      <td>265.142857</td>\n",
       "      <td>310.750000</td>\n",
       "      <td>287.000000</td>\n",
       "      <td>345.000000</td>\n",
       "      <td>260.000000</td>\n",
       "      <td>198.714286</td>\n",
       "      <td>257.285714</td>\n",
       "      <td>...</td>\n",
       "      <td>0.0</td>\n",
       "      <td>0.000000</td>\n",
       "      <td>0.004038</td>\n",
       "      <td>fe72a46e-021e-4f0c-b81e-c4c4507e5aa8_MALDI2</td>\n",
       "      <td>Staphylococcus aureus</td>\n",
       "      <td>0.0</td>\n",
       "      <td>0.0</td>\n",
       "      <td>0.0</td>\n",
       "      <td>0.0</td>\n",
       "      <td>0.0</td>\n",
       "    </tr>\n",
       "    <tr>\n",
       "      <th>3787</th>\n",
       "      <td>1286.142857</td>\n",
       "      <td>989.714286</td>\n",
       "      <td>938.285714</td>\n",
       "      <td>901.428571</td>\n",
       "      <td>872.000000</td>\n",
       "      <td>1001.000000</td>\n",
       "      <td>1061.571429</td>\n",
       "      <td>890.857143</td>\n",
       "      <td>813.857143</td>\n",
       "      <td>961.000000</td>\n",
       "      <td>...</td>\n",
       "      <td>0.0</td>\n",
       "      <td>0.000000</td>\n",
       "      <td>0.053908</td>\n",
       "      <td>fe73e705-161f-49a7-b021-7e78d074129b_MALDI2</td>\n",
       "      <td>Staphylococcus aureus</td>\n",
       "      <td>0.0</td>\n",
       "      <td>0.0</td>\n",
       "      <td>0.0</td>\n",
       "      <td>0.0</td>\n",
       "      <td>0.0</td>\n",
       "    </tr>\n",
       "    <tr>\n",
       "      <th>3788</th>\n",
       "      <td>986.857143</td>\n",
       "      <td>977.285714</td>\n",
       "      <td>892.285714</td>\n",
       "      <td>986.714286</td>\n",
       "      <td>1045.875000</td>\n",
       "      <td>986.857143</td>\n",
       "      <td>963.571429</td>\n",
       "      <td>968.571429</td>\n",
       "      <td>960.857143</td>\n",
       "      <td>969.714286</td>\n",
       "      <td>...</td>\n",
       "      <td>0.0</td>\n",
       "      <td>0.000000</td>\n",
       "      <td>0.039084</td>\n",
       "      <td>feb54c45-54f7-4758-8408-2e94ab6c53e1_MALDI2</td>\n",
       "      <td>Staphylococcus aureus</td>\n",
       "      <td>0.0</td>\n",
       "      <td>0.0</td>\n",
       "      <td>0.0</td>\n",
       "      <td>0.0</td>\n",
       "      <td>0.0</td>\n",
       "    </tr>\n",
       "    <tr>\n",
       "      <th>3789</th>\n",
       "      <td>141.857143</td>\n",
       "      <td>197.428571</td>\n",
       "      <td>148.142857</td>\n",
       "      <td>114.000000</td>\n",
       "      <td>125.857143</td>\n",
       "      <td>158.750000</td>\n",
       "      <td>176.571429</td>\n",
       "      <td>148.285714</td>\n",
       "      <td>149.714286</td>\n",
       "      <td>151.714286</td>\n",
       "      <td>...</td>\n",
       "      <td>0.0</td>\n",
       "      <td>0.000000</td>\n",
       "      <td>0.012113</td>\n",
       "      <td>fef2ea82-be15-4e10-8685-77c42068455c_MALDI2</td>\n",
       "      <td>Staphylococcus aureus</td>\n",
       "      <td>0.0</td>\n",
       "      <td>0.0</td>\n",
       "      <td>0.0</td>\n",
       "      <td>0.0</td>\n",
       "      <td>0.0</td>\n",
       "    </tr>\n",
       "    <tr>\n",
       "      <th>3790</th>\n",
       "      <td>1498.428571</td>\n",
       "      <td>1631.857143</td>\n",
       "      <td>1443.571429</td>\n",
       "      <td>1431.571429</td>\n",
       "      <td>1361.000000</td>\n",
       "      <td>1483.857143</td>\n",
       "      <td>1520.375000</td>\n",
       "      <td>1385.571429</td>\n",
       "      <td>1333.428571</td>\n",
       "      <td>1309.285714</td>\n",
       "      <td>...</td>\n",
       "      <td>19.0</td>\n",
       "      <td>17.333333</td>\n",
       "      <td>16.595960</td>\n",
       "      <td>ff18fac2-7f60-466c-9873-9bc5c8a48318_MALDI1</td>\n",
       "      <td>Staphylococcus aureus</td>\n",
       "      <td>0.0</td>\n",
       "      <td>1.0</td>\n",
       "      <td>0.0</td>\n",
       "      <td>0.0</td>\n",
       "      <td>0.0</td>\n",
       "    </tr>\n",
       "  </tbody>\n",
       "</table>\n",
       "<p>3791 rows × 6007 columns</p>\n",
       "</div>"
      ],
      "text/plain": [
       "             2000         2003         2006         2009         2012  \\\n",
       "0      951.428571   826.125000   944.857143   898.428571  1007.714286   \n",
       "1      784.714286   701.125000   681.571429   762.142857   737.571429   \n",
       "2       50.875000    89.142857    56.142857   151.285714   132.714286   \n",
       "3      843.285714   816.500000   734.428571  1027.142857   979.428571   \n",
       "4      307.857143   295.000000   246.714286   181.571429   258.000000   \n",
       "...           ...          ...          ...          ...          ...   \n",
       "3786   288.000000   330.285714   296.142857   265.142857   310.750000   \n",
       "3787  1286.142857   989.714286   938.285714   901.428571   872.000000   \n",
       "3788   986.857143   977.285714   892.285714   986.714286  1045.875000   \n",
       "3789   141.857143   197.428571   148.142857   114.000000   125.857143   \n",
       "3790  1498.428571  1631.857143  1443.571429  1431.571429  1361.000000   \n",
       "\n",
       "             2015         2018         2021         2024         2027  ...  \\\n",
       "0      936.000000   828.571429   812.000000   782.714286   741.625000  ...   \n",
       "1      733.000000   735.857143   659.571429   802.714286   554.375000  ...   \n",
       "2      110.428571    47.285714    63.428571   100.375000    52.142857  ...   \n",
       "3      875.571429   912.142857   714.428571   945.428571   886.500000  ...   \n",
       "4      318.714286   295.714286   300.857143   278.142857   256.125000  ...   \n",
       "...           ...          ...          ...          ...          ...  ...   \n",
       "3786   287.000000   345.000000   260.000000   198.714286   257.285714  ...   \n",
       "3787  1001.000000  1061.571429   890.857143   813.857143   961.000000  ...   \n",
       "3788   986.857143   963.571429   968.571429   960.857143   969.714286  ...   \n",
       "3789   158.750000   176.571429   148.285714   149.714286   151.714286  ...   \n",
       "3790  1483.857143  1520.375000  1385.571429  1333.428571  1309.285714  ...   \n",
       "\n",
       "      19991      19994      19997  \\\n",
       "0      35.5  20.500000  27.342857   \n",
       "1      30.0  40.500000  34.695238   \n",
       "2       2.5  30.500000  11.288462   \n",
       "3      15.5   8.000000  20.057143   \n",
       "4      25.5  32.000000  24.990476   \n",
       "...     ...        ...        ...   \n",
       "3786    0.0   0.000000   0.004038   \n",
       "3787    0.0   0.000000   0.053908   \n",
       "3788    0.0   0.000000   0.039084   \n",
       "3789    0.0   0.000000   0.012113   \n",
       "3790   19.0  17.333333  16.595960   \n",
       "\n",
       "                                             code                species  \\\n",
       "0            029f0abf-1664-424f-88cb-11c9c8af2b11  Staphylococcus aureus   \n",
       "1            08149af1-10f5-4f02-81d8-3d46d66d4a7a  Staphylococcus aureus   \n",
       "2            08fe3876-ecee-4ddc-9aa9-a84f605757f7  Staphylococcus aureus   \n",
       "3            0a9fdd4b-7180-47c0-849e-cb32d46da94c  Staphylococcus aureus   \n",
       "4            0d82f4c4-473c-49d8-8c85-e3e36e96d047  Staphylococcus aureus   \n",
       "...                                           ...                    ...   \n",
       "3786  fe72a46e-021e-4f0c-b81e-c4c4507e5aa8_MALDI2  Staphylococcus aureus   \n",
       "3787  fe73e705-161f-49a7-b021-7e78d074129b_MALDI2  Staphylococcus aureus   \n",
       "3788  feb54c45-54f7-4758-8408-2e94ab6c53e1_MALDI2  Staphylococcus aureus   \n",
       "3789  fef2ea82-be15-4e10-8685-77c42068455c_MALDI2  Staphylococcus aureus   \n",
       "3790  ff18fac2-7f60-466c-9873-9bc5c8a48318_MALDI1  Staphylococcus aureus   \n",
       "\n",
       "      Oxacillin  Clindamycin  Ceftriaxone  Ciprofloxacin  Fusidic acid  \n",
       "0           0.0          0.0          0.0            0.0           1.0  \n",
       "1           0.0          0.0          0.0            0.0           0.0  \n",
       "2           0.0          0.0          0.0            0.0           0.0  \n",
       "3           0.0          0.0          0.0            0.0           0.0  \n",
       "4           1.0          0.0          1.0            1.0           0.0  \n",
       "...         ...          ...          ...            ...           ...  \n",
       "3786        0.0          0.0          0.0            0.0           0.0  \n",
       "3787        0.0          0.0          0.0            0.0           0.0  \n",
       "3788        0.0          0.0          0.0            0.0           0.0  \n",
       "3789        0.0          0.0          0.0            0.0           0.0  \n",
       "3790        0.0          1.0          0.0            0.0           0.0  \n",
       "\n",
       "[3791 rows x 6007 columns]"
      ]
     },
     "execution_count": 6,
     "metadata": {},
     "output_type": "execute_result"
    }
   ],
   "source": [
    "s_aureus = pd.read_csv('s_aureus_driams_a_bin3_2000_20000Da.csv')\n",
    "s_aureus = s_aureus.fillna(0)\n",
    "s_aureus"
   ]
  },
  {
   "cell_type": "markdown",
   "metadata": {
    "id": "NhURWBqqXoQp"
   },
   "source": [
    "# Preprocessing Data"
   ]
  },
  {
   "cell_type": "code",
   "execution_count": 7,
   "metadata": {
    "id": "koTco5gulH3G"
   },
   "outputs": [],
   "source": [
    "s_aureus_oxacillin = s_aureus.drop(columns=['code','species', 'Clindamycin', 'Ceftriaxone', 'Ciprofloxacin', 'Fusidic acid'])\n",
    "s_aureus_oxacillin.dropna(axis=0, how=\"any\", inplace=True)"
   ]
  },
  {
   "cell_type": "code",
   "execution_count": 8,
   "metadata": {
    "colab": {
     "base_uri": "https://localhost:8080/"
    },
    "id": "orhVwzFGkic-",
    "outputId": "81fb590c-fc1e-40de-c3a6-670302a0e496"
   },
   "outputs": [
    {
     "data": {
      "text/plain": [
       "(3791, 6003)"
      ]
     },
     "execution_count": 8,
     "metadata": {},
     "output_type": "execute_result"
    }
   ],
   "source": [
    "s_aureus_ceftriaxone = s_aureus.drop(columns=['Oxacillin', 'Clindamycin', 'Ceftriaxone', 'Fusidic acid'])\n",
    "#ceftriaxone.dropna(axis=0, how=\"any\", inplace=True)\n",
    "s_aureus_ceftriaxone.dropna(axis=0, how=\"any\", inplace=True)\n",
    "s_aureus_ceftriaxone.shape"
   ]
  },
  {
   "cell_type": "code",
   "execution_count": 9,
   "metadata": {
    "colab": {
     "base_uri": "https://localhost:8080/",
     "height": 255
    },
    "id": "wZUfupfGtc7O",
    "outputId": "8d410c72-1957-46d3-cb47-7e9ccb5f04b4"
   },
   "outputs": [
    {
     "data": {
      "text/html": [
       "<div>\n",
       "<style scoped>\n",
       "    .dataframe tbody tr th:only-of-type {\n",
       "        vertical-align: middle;\n",
       "    }\n",
       "\n",
       "    .dataframe tbody tr th {\n",
       "        vertical-align: top;\n",
       "    }\n",
       "\n",
       "    .dataframe thead th {\n",
       "        text-align: right;\n",
       "    }\n",
       "</style>\n",
       "<table border=\"1\" class=\"dataframe\">\n",
       "  <thead>\n",
       "    <tr style=\"text-align: right;\">\n",
       "      <th></th>\n",
       "      <th>2000</th>\n",
       "      <th>2003</th>\n",
       "      <th>2006</th>\n",
       "      <th>2009</th>\n",
       "      <th>2012</th>\n",
       "      <th>2015</th>\n",
       "      <th>2018</th>\n",
       "      <th>2021</th>\n",
       "      <th>2024</th>\n",
       "      <th>2027</th>\n",
       "      <th>...</th>\n",
       "      <th>19973</th>\n",
       "      <th>19976</th>\n",
       "      <th>19979</th>\n",
       "      <th>19982</th>\n",
       "      <th>19985</th>\n",
       "      <th>19988</th>\n",
       "      <th>19991</th>\n",
       "      <th>19994</th>\n",
       "      <th>19997</th>\n",
       "      <th>Oxacillin</th>\n",
       "    </tr>\n",
       "  </thead>\n",
       "  <tbody>\n",
       "    <tr>\n",
       "      <th>0</th>\n",
       "      <td>951.428571</td>\n",
       "      <td>826.125000</td>\n",
       "      <td>944.857143</td>\n",
       "      <td>898.428571</td>\n",
       "      <td>1007.714286</td>\n",
       "      <td>936.000000</td>\n",
       "      <td>828.571429</td>\n",
       "      <td>812.000000</td>\n",
       "      <td>782.714286</td>\n",
       "      <td>741.625000</td>\n",
       "      <td>...</td>\n",
       "      <td>14.333333</td>\n",
       "      <td>24.0</td>\n",
       "      <td>68.0</td>\n",
       "      <td>19.0</td>\n",
       "      <td>19.000000</td>\n",
       "      <td>50.0</td>\n",
       "      <td>35.5</td>\n",
       "      <td>20.5</td>\n",
       "      <td>27.342857</td>\n",
       "      <td>0.0</td>\n",
       "    </tr>\n",
       "    <tr>\n",
       "      <th>1</th>\n",
       "      <td>784.714286</td>\n",
       "      <td>701.125000</td>\n",
       "      <td>681.571429</td>\n",
       "      <td>762.142857</td>\n",
       "      <td>737.571429</td>\n",
       "      <td>733.000000</td>\n",
       "      <td>735.857143</td>\n",
       "      <td>659.571429</td>\n",
       "      <td>802.714286</td>\n",
       "      <td>554.375000</td>\n",
       "      <td>...</td>\n",
       "      <td>15.666667</td>\n",
       "      <td>39.0</td>\n",
       "      <td>19.5</td>\n",
       "      <td>42.0</td>\n",
       "      <td>69.666667</td>\n",
       "      <td>31.0</td>\n",
       "      <td>30.0</td>\n",
       "      <td>40.5</td>\n",
       "      <td>34.695238</td>\n",
       "      <td>0.0</td>\n",
       "    </tr>\n",
       "    <tr>\n",
       "      <th>2</th>\n",
       "      <td>50.875000</td>\n",
       "      <td>89.142857</td>\n",
       "      <td>56.142857</td>\n",
       "      <td>151.285714</td>\n",
       "      <td>132.714286</td>\n",
       "      <td>110.428571</td>\n",
       "      <td>47.285714</td>\n",
       "      <td>63.428571</td>\n",
       "      <td>100.375000</td>\n",
       "      <td>52.142857</td>\n",
       "      <td>...</td>\n",
       "      <td>20.666667</td>\n",
       "      <td>17.0</td>\n",
       "      <td>2.0</td>\n",
       "      <td>18.0</td>\n",
       "      <td>18.000000</td>\n",
       "      <td>11.5</td>\n",
       "      <td>2.5</td>\n",
       "      <td>30.5</td>\n",
       "      <td>11.288462</td>\n",
       "      <td>0.0</td>\n",
       "    </tr>\n",
       "    <tr>\n",
       "      <th>3</th>\n",
       "      <td>843.285714</td>\n",
       "      <td>816.500000</td>\n",
       "      <td>734.428571</td>\n",
       "      <td>1027.142857</td>\n",
       "      <td>979.428571</td>\n",
       "      <td>875.571429</td>\n",
       "      <td>912.142857</td>\n",
       "      <td>714.428571</td>\n",
       "      <td>945.428571</td>\n",
       "      <td>886.500000</td>\n",
       "      <td>...</td>\n",
       "      <td>22.333333</td>\n",
       "      <td>33.0</td>\n",
       "      <td>29.0</td>\n",
       "      <td>14.5</td>\n",
       "      <td>21.666667</td>\n",
       "      <td>24.5</td>\n",
       "      <td>15.5</td>\n",
       "      <td>8.0</td>\n",
       "      <td>20.057143</td>\n",
       "      <td>0.0</td>\n",
       "    </tr>\n",
       "    <tr>\n",
       "      <th>4</th>\n",
       "      <td>307.857143</td>\n",
       "      <td>295.000000</td>\n",
       "      <td>246.714286</td>\n",
       "      <td>181.571429</td>\n",
       "      <td>258.000000</td>\n",
       "      <td>318.714286</td>\n",
       "      <td>295.714286</td>\n",
       "      <td>300.857143</td>\n",
       "      <td>278.142857</td>\n",
       "      <td>256.125000</td>\n",
       "      <td>...</td>\n",
       "      <td>26.666667</td>\n",
       "      <td>25.5</td>\n",
       "      <td>18.0</td>\n",
       "      <td>53.5</td>\n",
       "      <td>23.000000</td>\n",
       "      <td>24.5</td>\n",
       "      <td>25.5</td>\n",
       "      <td>32.0</td>\n",
       "      <td>24.990476</td>\n",
       "      <td>1.0</td>\n",
       "    </tr>\n",
       "  </tbody>\n",
       "</table>\n",
       "<p>5 rows × 6001 columns</p>\n",
       "</div>"
      ],
      "text/plain": [
       "         2000        2003        2006         2009         2012        2015  \\\n",
       "0  951.428571  826.125000  944.857143   898.428571  1007.714286  936.000000   \n",
       "1  784.714286  701.125000  681.571429   762.142857   737.571429  733.000000   \n",
       "2   50.875000   89.142857   56.142857   151.285714   132.714286  110.428571   \n",
       "3  843.285714  816.500000  734.428571  1027.142857   979.428571  875.571429   \n",
       "4  307.857143  295.000000  246.714286   181.571429   258.000000  318.714286   \n",
       "\n",
       "         2018        2021        2024        2027  ...      19973  19976  \\\n",
       "0  828.571429  812.000000  782.714286  741.625000  ...  14.333333   24.0   \n",
       "1  735.857143  659.571429  802.714286  554.375000  ...  15.666667   39.0   \n",
       "2   47.285714   63.428571  100.375000   52.142857  ...  20.666667   17.0   \n",
       "3  912.142857  714.428571  945.428571  886.500000  ...  22.333333   33.0   \n",
       "4  295.714286  300.857143  278.142857  256.125000  ...  26.666667   25.5   \n",
       "\n",
       "   19979  19982      19985  19988  19991  19994      19997  Oxacillin  \n",
       "0   68.0   19.0  19.000000   50.0   35.5   20.5  27.342857        0.0  \n",
       "1   19.5   42.0  69.666667   31.0   30.0   40.5  34.695238        0.0  \n",
       "2    2.0   18.0  18.000000   11.5    2.5   30.5  11.288462        0.0  \n",
       "3   29.0   14.5  21.666667   24.5   15.5    8.0  20.057143        0.0  \n",
       "4   18.0   53.5  23.000000   24.5   25.5   32.0  24.990476        1.0  \n",
       "\n",
       "[5 rows x 6001 columns]"
      ]
     },
     "execution_count": 9,
     "metadata": {},
     "output_type": "execute_result"
    }
   ],
   "source": [
    "s_aureus_oxacillin.head()"
   ]
  },
  {
   "cell_type": "code",
   "execution_count": 10,
   "metadata": {
    "id": "-4dAtvUEkibF"
   },
   "outputs": [],
   "source": [
    "X = s_aureus_oxacillin.iloc[:, 0:6000].values  # variables independientes (espectros de masa)\n",
    "y = s_aureus_oxacillin.iloc[:, 6000].values    # variable dependientes (resistencia a ciprofloxacin)\n",
    "X = np.asarray(X).astype(np.float32)\n",
    "y = np.asarray(y).astype(np.float32)"
   ]
  },
  {
   "cell_type": "markdown",
   "metadata": {},
   "source": [
    "## Enfoque en clase minoritaria"
   ]
  },
  {
   "cell_type": "code",
   "execution_count": 11,
   "metadata": {},
   "outputs": [],
   "source": [
    "filtered_data = s_aureus_oxacillin[s_aureus_oxacillin['Oxacillin'] == 1].iloc[:, 0:6000].values \n"
   ]
  },
  {
   "cell_type": "code",
   "execution_count": 1,
   "metadata": {},
   "outputs": [
    {
     "ename": "NameError",
     "evalue": "name 's_aureus_oxacillin' is not defined",
     "output_type": "error",
     "traceback": [
      "\u001b[1;31m---------------------------------------------------------------------------\u001b[0m",
      "\u001b[1;31mNameError\u001b[0m                                 Traceback (most recent call last)",
      "Cell \u001b[1;32mIn[1], line 1\u001b[0m\n\u001b[1;32m----> 1\u001b[0m etiquetas \u001b[38;5;241m=\u001b[39m \u001b[43ms_aureus_oxacillin\u001b[49m[s_aureus_oxacillin[\u001b[38;5;124m'\u001b[39m\u001b[38;5;124mOxacillin\u001b[39m\u001b[38;5;124m'\u001b[39m] \u001b[38;5;241m==\u001b[39m \u001b[38;5;241m1\u001b[39m]\u001b[38;5;241m.\u001b[39miloc[:, \u001b[38;5;241m6000\u001b[39m]\u001b[38;5;241m.\u001b[39mvalues\n",
      "\u001b[1;31mNameError\u001b[0m: name 's_aureus_oxacillin' is not defined"
     ]
    }
   ],
   "source": [
    "etiquetas = s_aureus_oxacillin[s_aureus_oxacillin['Oxacillin'] == 1].iloc[:, 6000].values"
   ]
  },
  {
   "cell_type": "code",
   "execution_count": 13,
   "metadata": {},
   "outputs": [],
   "source": [
    "train_set = [\n",
    "    (filtered_data[i], etiquetas[i]) for i in range(len(filtered_data))\n",
    "]"
   ]
  },
  {
   "cell_type": "markdown",
   "metadata": {
    "id": "J2Zbxb074EHL"
   },
   "source": [
    "## Aplicacion de gan"
   ]
  },
  {
   "cell_type": "code",
   "execution_count": 14,
   "metadata": {},
   "outputs": [],
   "source": [
    "batch_size = 32\n",
    "train_loader = torch.utils.data.DataLoader(\n",
    "    train_set, batch_size=batch_size, shuffle=True\n",
    ")"
   ]
  },
  {
   "cell_type": "code",
   "execution_count": 15,
   "metadata": {},
   "outputs": [],
   "source": [
    "class Discriminator(nn.Module):\n",
    "    def __init__(self):\n",
    "        super().__init__()\n",
    "        self.model = nn.Sequential(\n",
    "            nn.Linear(6000, 1024),  # Cambiar 2 a 6000\n",
    "            nn.ReLU(),\n",
    "            nn.Dropout(0.3),\n",
    "            nn.Linear(1024, 256),\n",
    "            nn.ReLU(),\n",
    "            nn.Dropout(0.3),\n",
    "            nn.Linear(256, 64),\n",
    "            nn.ReLU(),\n",
    "            nn.Dropout(0.3),\n",
    "            nn.Linear(64, 1),\n",
    "            nn.Sigmoid(),\n",
    "        )\n",
    "\n",
    "    def forward(self, x):\n",
    "        output = self.model(x)\n",
    "        return output\n"
   ]
  },
  {
   "cell_type": "code",
   "execution_count": 16,
   "metadata": {},
   "outputs": [],
   "source": [
    "class Generator(nn.Module):\n",
    "    def __init__(self):\n",
    "        super().__init__()\n",
    "        self.model = nn.Sequential(\n",
    "            nn.Linear(100, 1024),\n",
    "            nn.ReLU(),\n",
    "            nn.BatchNorm1d(1024),  # Añadido batch normalization\n",
    "            nn.Linear(1024, 2048),\n",
    "            nn.ReLU(),\n",
    "            nn.BatchNorm1d(2048),  # Añadido batch normalization\n",
    "            nn.Linear(2048, 4096),\n",
    "            nn.ReLU(),\n",
    "            nn.BatchNorm1d(4096),  # Añadido batch normalization\n",
    "            nn.Linear(4096, 6000),\n",
    "        )\n",
    "\n",
    "    def forward(self, x):\n",
    "        output = self.model(x)\n",
    "        return output"
   ]
  },
  {
   "cell_type": "code",
   "execution_count": 17,
   "metadata": {},
   "outputs": [],
   "source": [
    "\n",
    "discriminator = Discriminator()\n",
    "generator = Generator()\n"
   ]
  },
  {
   "cell_type": "code",
   "execution_count": 18,
   "metadata": {},
   "outputs": [],
   "source": [
    "num_epochs = 700\n",
    "loss_function = nn.BCELoss()"
   ]
  },
  {
   "cell_type": "code",
   "execution_count": 19,
   "metadata": {},
   "outputs": [],
   "source": [
    "optimizer_discriminator = torch.optim.Adam(discriminator.parameters(), lr=1e-5)\n",
    "optimizer_generator = torch.optim.Adam(generator.parameters(), lr=1e-4)\n"
   ]
  },
  {
   "cell_type": "code",
   "execution_count": 20,
   "metadata": {},
   "outputs": [
    {
     "name": "stdout",
     "output_type": "stream",
     "text": [
      "Epoch: 0 Loss D.: 0.381086528301239\n",
      "Epoch: 0 Loss G.: 0.63194340467453\n",
      "Epoch: 10 Loss D.: 0.6599405407905579\n",
      "Epoch: 10 Loss G.: 0.3781144320964813\n",
      "Epoch: 20 Loss D.: 0.5819746851921082\n",
      "Epoch: 20 Loss G.: 0.4154060482978821\n",
      "Epoch: 30 Loss D.: 0.6114400029182434\n",
      "Epoch: 30 Loss G.: 0.30603188276290894\n",
      "Epoch: 40 Loss D.: 1.3681817054748535\n",
      "Epoch: 40 Loss G.: 0.3857894241809845\n",
      "Epoch: 50 Loss D.: 0.5761889815330505\n",
      "Epoch: 50 Loss G.: 0.3657841682434082\n",
      "Epoch: 60 Loss D.: 0.6829917430877686\n",
      "Epoch: 60 Loss G.: 0.36162054538726807\n",
      "Epoch: 70 Loss D.: 0.628663182258606\n",
      "Epoch: 70 Loss G.: 0.33193087577819824\n",
      "Epoch: 80 Loss D.: 0.6772857308387756\n",
      "Epoch: 80 Loss G.: 0.3474080562591553\n",
      "Epoch: 90 Loss D.: 0.7712045907974243\n",
      "Epoch: 90 Loss G.: 0.35780808329582214\n",
      "Epoch: 100 Loss D.: 1.2303158044815063\n",
      "Epoch: 100 Loss G.: 0.3192058503627777\n",
      "Epoch: 110 Loss D.: 0.7065014243125916\n",
      "Epoch: 110 Loss G.: 0.2788919508457184\n",
      "Epoch: 120 Loss D.: 0.6500205397605896\n",
      "Epoch: 120 Loss G.: 0.3436543643474579\n",
      "Epoch: 130 Loss D.: 1.0641279220581055\n",
      "Epoch: 130 Loss G.: 0.4222247898578644\n",
      "Epoch: 140 Loss D.: 0.6991971135139465\n",
      "Epoch: 140 Loss G.: 0.40138909220695496\n",
      "Epoch: 150 Loss D.: 0.9121111035346985\n",
      "Epoch: 150 Loss G.: 0.3550664186477661\n",
      "Epoch: 160 Loss D.: 1.1036906242370605\n",
      "Epoch: 160 Loss G.: 0.37662628293037415\n",
      "Epoch: 170 Loss D.: 0.7726930379867554\n",
      "Epoch: 170 Loss G.: 0.4339759647846222\n",
      "Epoch: 180 Loss D.: 0.5955923795700073\n",
      "Epoch: 180 Loss G.: 0.40701648592948914\n",
      "Epoch: 190 Loss D.: 0.7359710335731506\n",
      "Epoch: 190 Loss G.: 0.4082055389881134\n",
      "Epoch: 200 Loss D.: 1.044599175453186\n",
      "Epoch: 200 Loss G.: 0.4160264730453491\n",
      "Epoch: 210 Loss D.: 1.2770074605941772\n",
      "Epoch: 210 Loss G.: 0.4076688587665558\n",
      "Epoch: 220 Loss D.: 0.5369443297386169\n",
      "Epoch: 220 Loss G.: 0.4049593210220337\n",
      "Epoch: 230 Loss D.: 0.579717218875885\n",
      "Epoch: 230 Loss G.: 0.4593520164489746\n",
      "Epoch: 240 Loss D.: 0.6181217432022095\n",
      "Epoch: 240 Loss G.: 0.4070558249950409\n",
      "Epoch: 250 Loss D.: 2.858156204223633\n",
      "Epoch: 250 Loss G.: 0.4729192852973938\n",
      "Epoch: 260 Loss D.: 0.5733587741851807\n",
      "Epoch: 260 Loss G.: 0.46058958768844604\n",
      "Epoch: 270 Loss D.: 0.49515533447265625\n",
      "Epoch: 270 Loss G.: 0.48169171810150146\n",
      "Epoch: 280 Loss D.: 0.5230293869972229\n",
      "Epoch: 280 Loss G.: 0.4973420798778534\n",
      "Epoch: 290 Loss D.: 0.5064716935157776\n",
      "Epoch: 290 Loss G.: 0.48083972930908203\n",
      "Epoch: 300 Loss D.: 0.47848865389823914\n",
      "Epoch: 300 Loss G.: 0.5314436554908752\n",
      "Epoch: 310 Loss D.: 0.5193889141082764\n",
      "Epoch: 310 Loss G.: 0.4878074824810028\n",
      "Epoch: 320 Loss D.: 0.6238970160484314\n",
      "Epoch: 320 Loss G.: 0.5017353296279907\n",
      "Epoch: 330 Loss D.: 0.4923328459262848\n",
      "Epoch: 330 Loss G.: 0.5289614200592041\n",
      "Epoch: 340 Loss D.: 0.5064868330955505\n",
      "Epoch: 340 Loss G.: 0.5112432837486267\n",
      "Epoch: 350 Loss D.: 0.5100756287574768\n",
      "Epoch: 350 Loss G.: 0.5159347057342529\n",
      "Epoch: 360 Loss D.: 0.5814838409423828\n",
      "Epoch: 360 Loss G.: 0.5261597037315369\n",
      "Epoch: 370 Loss D.: 0.6913225650787354\n",
      "Epoch: 370 Loss G.: 0.5832569003105164\n",
      "Epoch: 380 Loss D.: 0.5381285548210144\n",
      "Epoch: 380 Loss G.: 0.4781571328639984\n",
      "Epoch: 390 Loss D.: 0.47300177812576294\n",
      "Epoch: 390 Loss G.: 0.5213432312011719\n",
      "Epoch: 400 Loss D.: 0.5008666515350342\n",
      "Epoch: 400 Loss G.: 0.5331299304962158\n",
      "Epoch: 410 Loss D.: 0.47876593470573425\n",
      "Epoch: 410 Loss G.: 0.5304607152938843\n",
      "Epoch: 420 Loss D.: 0.5243575572967529\n",
      "Epoch: 420 Loss G.: 0.5290931463241577\n",
      "Epoch: 430 Loss D.: 0.5272608399391174\n",
      "Epoch: 430 Loss G.: 0.4822582006454468\n",
      "Epoch: 440 Loss D.: 0.5398897528648376\n",
      "Epoch: 440 Loss G.: 0.571221649646759\n",
      "Epoch: 450 Loss D.: 0.5502496361732483\n",
      "Epoch: 450 Loss G.: 0.589897096157074\n",
      "Epoch: 460 Loss D.: 0.5093627572059631\n",
      "Epoch: 460 Loss G.: 0.5626928806304932\n",
      "Epoch: 470 Loss D.: 0.5201606750488281\n",
      "Epoch: 470 Loss G.: 0.5083162188529968\n",
      "Epoch: 480 Loss D.: 0.5157920718193054\n",
      "Epoch: 480 Loss G.: 0.5672853589057922\n",
      "Epoch: 490 Loss D.: 0.5594172477722168\n",
      "Epoch: 490 Loss G.: 0.5440121293067932\n",
      "Epoch: 500 Loss D.: 0.5080665946006775\n",
      "Epoch: 500 Loss G.: 0.5901041626930237\n",
      "Epoch: 510 Loss D.: 0.4879898726940155\n",
      "Epoch: 510 Loss G.: 0.5962110757827759\n",
      "Epoch: 520 Loss D.: 0.5098361372947693\n",
      "Epoch: 520 Loss G.: 0.5695318579673767\n",
      "Epoch: 530 Loss D.: 0.5108041763305664\n",
      "Epoch: 530 Loss G.: 0.5324385166168213\n",
      "Epoch: 540 Loss D.: 0.7329635620117188\n",
      "Epoch: 540 Loss G.: 0.6145040392875671\n",
      "Epoch: 550 Loss D.: 0.6093381643295288\n",
      "Epoch: 550 Loss G.: 0.5674073100090027\n",
      "Epoch: 560 Loss D.: 0.5388708114624023\n",
      "Epoch: 560 Loss G.: 0.6126068234443665\n",
      "Epoch: 570 Loss D.: 0.48961493372917175\n",
      "Epoch: 570 Loss G.: 0.668893575668335\n",
      "Epoch: 580 Loss D.: 0.6070630550384521\n",
      "Epoch: 580 Loss G.: 0.5526288151741028\n",
      "Epoch: 590 Loss D.: 0.5590338110923767\n",
      "Epoch: 590 Loss G.: 0.6136288642883301\n",
      "Epoch: 600 Loss D.: 0.45362892746925354\n",
      "Epoch: 600 Loss G.: 0.6637969017028809\n",
      "Epoch: 610 Loss D.: 0.43547189235687256\n",
      "Epoch: 610 Loss G.: 0.6623969674110413\n",
      "Epoch: 620 Loss D.: 0.5965715050697327\n",
      "Epoch: 620 Loss G.: 0.7193454504013062\n",
      "Epoch: 630 Loss D.: 0.4734037220478058\n",
      "Epoch: 630 Loss G.: 0.6633444428443909\n",
      "Epoch: 640 Loss D.: 0.5230545401573181\n",
      "Epoch: 640 Loss G.: 0.57496577501297\n",
      "Epoch: 650 Loss D.: 0.46285611391067505\n",
      "Epoch: 650 Loss G.: 0.6743012070655823\n",
      "Epoch: 660 Loss D.: 0.4284290373325348\n",
      "Epoch: 660 Loss G.: 0.7154390215873718\n",
      "Epoch: 670 Loss D.: 0.5251337885856628\n",
      "Epoch: 670 Loss G.: 0.7158012390136719\n",
      "Epoch: 680 Loss D.: 0.44566866755485535\n",
      "Epoch: 680 Loss G.: 0.6994333863258362\n",
      "Epoch: 690 Loss D.: 0.4755813777446747\n",
      "Epoch: 690 Loss G.: 0.6274585127830505\n"
     ]
    }
   ],
   "source": [
    "for epoch in range(num_epochs):\n",
    "    for n, (real_samples, _) in enumerate(train_loader):\n",
    "        # Obtener el tamaño actual del lote\n",
    "        current_batch_size = real_samples.size(0)  # Puede ser menor en el último lote\n",
    "        real_samples = real_samples.float()\n",
    "\n",
    "        # Data for training the discriminator\n",
    "        real_samples_labels = torch.ones((current_batch_size, 1)).float()  # Tamaño ajustado\n",
    "        latent_space_samples = torch.randn((current_batch_size, 100)).float()  # Espacio latente\n",
    "        generated_samples = generator(latent_space_samples)\n",
    "        generated_samples_labels = torch.zeros((current_batch_size, 1)).float()  # Tamaño ajustado\n",
    "        all_samples = torch.cat((real_samples, generated_samples))\n",
    "        all_samples_labels = torch.cat(\n",
    "            (real_samples_labels, generated_samples_labels)\n",
    "        )\n",
    "\n",
    "        # Training the discriminator\n",
    "        discriminator.zero_grad()\n",
    "        output_discriminator = discriminator(all_samples)\n",
    "        loss_discriminator = loss_function(\n",
    "            output_discriminator, all_samples_labels)\n",
    "        loss_discriminator.backward()\n",
    "        optimizer_discriminator.step()\n",
    "\n",
    "        # Data for training the generator\n",
    "        latent_space_samples = torch.randn((current_batch_size, 100)).float()  # Tamaño ajustado\n",
    "\n",
    "        # Training the generator\n",
    "        generator.zero_grad()\n",
    "        generated_samples = generator(latent_space_samples)\n",
    "        output_discriminator_generated = discriminator(generated_samples)\n",
    "        loss_generator = loss_function(\n",
    "            output_discriminator_generated, real_samples_labels\n",
    "        )\n",
    "        loss_generator.backward()\n",
    "        optimizer_generator.step()\n",
    "\n",
    "        # Show loss\n",
    "        if epoch % 10 == 0 and n == len(train_loader) - 1:\n",
    "            print(f\"Epoch: {epoch} Loss D.: {loss_discriminator}\")\n",
    "            print(f\"Epoch: {epoch} Loss G.: {loss_generator}\")\n"
   ]
  },
  {
   "cell_type": "markdown",
   "metadata": {},
   "source": [
    "## Agregar muestras sinteticas a modelo"
   ]
  },
  {
   "cell_type": "code",
   "execution_count": 21,
   "metadata": {},
   "outputs": [],
   "source": [
    "X_train, X_test, y_train, y_test = train_test_split(X, y, test_size = 0.2, random_state = 0, stratify=y)"
   ]
  },
  {
   "cell_type": "code",
   "execution_count": 22,
   "metadata": {},
   "outputs": [
    {
     "name": "stdout",
     "output_type": "stream",
     "text": [
      "tensor([[151.3585, 176.6229, 208.3213,  ...,  38.2294,  -2.0064,  -1.0235],\n",
      "        [146.8189, 115.8882, 161.7084,  ...,  55.1483,  10.8405,   2.6616],\n",
      "        [ 28.0071,  30.3096,  68.0305,  ...,  38.9623, -10.9217,  20.1119],\n",
      "        ...,\n",
      "        [159.8713, 121.8024, 167.5865,  ...,  54.9022,  13.8039,   0.8094],\n",
      "        [169.0033, 183.2756, 203.8659,  ...,  32.8728,  -1.8631,  -6.5466],\n",
      "        [185.2426,  86.9366, 127.7727,  ...,  47.6332,   7.3632,   0.7782]],\n",
      "       grad_fn=<AddmmBackward0>)\n"
     ]
    }
   ],
   "source": [
    "\n",
    "# Asegúrate de que el generador esté en modo de evaluación\n",
    "generator.eval()\n",
    "\n",
    "# Definir el tamaño del batch que deseas generar\n",
    "batch_size = pd.Series(y_train).value_counts()[0]-pd.Series(y_train).value_counts()[1]  # Puedes generar tantas muestras como desees\n",
    "\n",
    "# Generar un tensor de tamaño (batch_size, 100) con valores aleatorios (espacio latente)\n",
    "latent_space_samples = torch.randn(batch_size, 100).float()\n",
    "\n",
    "# Generar las muestras sintéticas utilizando el generador\n",
    "synthetic_samples = generator(latent_space_samples)\n",
    "\n",
    "# Convertir el tensor de PyTorch a un arreglo de NumPy\n",
    "synthetic_samples_numpy = synthetic_samples.detach().cpu().numpy()\n",
    "\n",
    "\n",
    "# Cambiar el tipo de datos a float32\n",
    "synthetic_samples_numpy = synthetic_samples_numpy.astype(np.float32)\n",
    "\n",
    "# Mostrar las muestras generadas\n",
    "print(synthetic_samples)"
   ]
  },
  {
   "cell_type": "code",
   "execution_count": 23,
   "metadata": {},
   "outputs": [
    {
     "data": {
      "text/plain": [
       "(1870, 6000)"
      ]
     },
     "execution_count": 23,
     "metadata": {},
     "output_type": "execute_result"
    }
   ],
   "source": [
    "synthetic_samples_numpy.shape"
   ]
  },
  {
   "cell_type": "code",
   "execution_count": 24,
   "metadata": {},
   "outputs": [],
   "source": [
    "X_train_balanced = np.concatenate((X_train,synthetic_samples_numpy))"
   ]
  },
  {
   "cell_type": "code",
   "execution_count": 25,
   "metadata": {},
   "outputs": [],
   "source": [
    "array_ones = np.ones(pd.Series(y_train).value_counts()[0]-pd.Series(y_train).value_counts()[1])\n",
    "array_ones = np.asarray(array_ones).astype(np.float32)\n"
   ]
  },
  {
   "cell_type": "code",
   "execution_count": 26,
   "metadata": {},
   "outputs": [],
   "source": [
    "y_train_balanced = np.concatenate((y_train, array_ones))\n"
   ]
  },
  {
   "cell_type": "code",
   "execution_count": 27,
   "metadata": {},
   "outputs": [
    {
     "data": {
      "text/plain": [
       "0.0    2451\n",
       "1.0     581\n",
       "Name: count, dtype: int64"
      ]
     },
     "execution_count": 27,
     "metadata": {},
     "output_type": "execute_result"
    }
   ],
   "source": [
    "pd.Series(y_train).value_counts()"
   ]
  },
  {
   "cell_type": "code",
   "execution_count": 28,
   "metadata": {},
   "outputs": [
    {
     "data": {
      "text/plain": [
       "(3791, 6001)"
      ]
     },
     "execution_count": 28,
     "metadata": {},
     "output_type": "execute_result"
    }
   ],
   "source": [
    "s_aureus_oxacillin.shape"
   ]
  },
  {
   "cell_type": "markdown",
   "metadata": {},
   "source": [
    "## Visualizacion de datos sinteticos"
   ]
  },
  {
   "cell_type": "code",
   "execution_count": 29,
   "metadata": {},
   "outputs": [
    {
     "data": {
      "text/plain": [
       "'\\n# Asegúrate de que el generador esté en modo de evaluación\\ngenerator.eval()\\n\\n# Definir el tamaño del batch que deseas generar\\nbatch_size = pd.Series(y_train).value_counts()[0]-pd.Series(y_train).value_counts()[1]  # Puedes generar tantas muestras como desees\\n\\n# Generar un tensor de tamaño (batch_size, 100) con valores aleatorios (espacio latente)\\nlatent_space_samples = torch.randn(batch_size, 100).float()\\n\\n# Generar las muestras sintéticas utilizando el generador\\nsynthetic_samples = generator(latent_space_samples)\\n\\n# Convertir el tensor de PyTorch a un arreglo de NumPy\\nsynthetic_samples_numpy = synthetic_samples.detach().cpu().numpy()\\n\\n\\n# Cambiar el tipo de datos a float32\\nsynthetic_samples_numpy = synthetic_samples_numpy.astype(np.float32)\\n\\n# Mostrar las muestras generadas\\nprint(synthetic_samples)'"
      ]
     },
     "execution_count": 29,
     "metadata": {},
     "output_type": "execute_result"
    }
   ],
   "source": [
    "# Asegúrate de que el generador esté en modo de evaluación\n",
    "generator.eval()\n",
    "\n",
    "# Definir el tamaño del batch que deseas generar\n",
    "batch_size = 10000  # Puedes generar tantas muestras como desees\n",
    "\n",
    "# Generar un tensor de tamaño (batch_size, 100) con valores aleatorios (espacio latente)\n",
    "espacioLatente = torch.randn(batch_size, 100).float()\n",
    "\n",
    "# Generar las muestras sintéticas utilizando el generador\n",
    "muestrasSinteticasParaVisualizacion = generator(espacioLatente)\n",
    "\n",
    "# Convertir el tensor de PyTorch a un arreglo de NumPy\n",
    "muestrasSinteticasParaVisualizacion_numpy = muestrasSinteticasParaVisualizacion.detach().cpu().numpy()\n",
    "\n",
    "\n",
    "# Cambiar el tipo de datos a float32\n",
    "muestrasSinteticasParaVisualizacion_numpy = muestrasSinteticasParaVisualizacion_numpy.astype(np.float32)\n",
    "\n",
    "\n",
    "\"\"\"\n",
    "# Asegúrate de que el generador esté en modo de evaluación\n",
    "generator.eval()\n",
    "\n",
    "# Definir el tamaño del batch que deseas generar\n",
    "batch_size = pd.Series(y_train).value_counts()[0]-pd.Series(y_train).value_counts()[1]  # Puedes generar tantas muestras como desees\n",
    "\n",
    "# Generar un tensor de tamaño (batch_size, 100) con valores aleatorios (espacio latente)\n",
    "latent_space_samples = torch.randn(batch_size, 100).float()\n",
    "\n",
    "# Generar las muestras sintéticas utilizando el generador\n",
    "synthetic_samples = generator(latent_space_samples)\n",
    "\n",
    "# Convertir el tensor de PyTorch a un arreglo de NumPy\n",
    "synthetic_samples_numpy = synthetic_samples.detach().cpu().numpy()\n",
    "\n",
    "\n",
    "# Cambiar el tipo de datos a float32\n",
    "synthetic_samples_numpy = synthetic_samples_numpy.astype(np.float32)\n",
    "\n",
    "# Mostrar las muestras generadas\n",
    "print(synthetic_samples)\"\"\"\n"
   ]
  },
  {
   "cell_type": "code",
   "execution_count": 30,
   "metadata": {},
   "outputs": [],
   "source": [
    "from sklearn.decomposition import PCA\n",
    "# Reducir dimensiones con PCA\n",
    "pca = PCA(n_components=2)\n",
    "X_sintetico_pca_2d = pca.fit_transform(muestrasSinteticasParaVisualizacion_numpy)"
   ]
  },
  {
   "cell_type": "code",
   "execution_count": 31,
   "metadata": {},
   "outputs": [
    {
     "data": {
      "text/plain": [
       "array([[ 2125.183  , -2144.3994 ],\n",
       "       [-2161.625  ,  -670.5658 ],\n",
       "       [ -215.11078,  2719.1729 ],\n",
       "       ...,\n",
       "       [ -687.04156,   552.23364],\n",
       "       [ 2833.439  , -1859.6411 ],\n",
       "       [ 1414.4377 ,  1899.8944 ]], dtype=float32)"
      ]
     },
     "execution_count": 31,
     "metadata": {},
     "output_type": "execute_result"
    }
   ],
   "source": [
    "X_sintetico_pca_2d"
   ]
  },
  {
   "cell_type": "code",
   "execution_count": 32,
   "metadata": {},
   "outputs": [],
   "source": [
    "from sklearn.preprocessing import StandardScaler\n",
    "scaler = StandardScaler()\n",
    "X_visualizacion = scaler.fit_transform(X_sintetico_pca_2d)\n"
   ]
  },
  {
   "cell_type": "code",
   "execution_count": 33,
   "metadata": {},
   "outputs": [
    {
     "data": {
      "text/plain": [
       "array([[ 0.7185451 , -1.1851282 ],\n",
       "       [-0.7308658 , -0.37059608],\n",
       "       [-0.07273065,  1.5027843 ],\n",
       "       ...,\n",
       "       [-0.23229496,  0.30519894],\n",
       "       [ 0.9580132 , -1.0277531 ],\n",
       "       [ 0.47823533,  1.0500001 ]], dtype=float32)"
      ]
     },
     "execution_count": 33,
     "metadata": {},
     "output_type": "execute_result"
    }
   ],
   "source": [
    "X_visualizacion"
   ]
  },
  {
   "cell_type": "code",
   "execution_count": 34,
   "metadata": {},
   "outputs": [],
   "source": [
    "X_tensor = torch.tensor(X_visualizacion, dtype=torch.float32)\n"
   ]
  },
  {
   "cell_type": "code",
   "execution_count": 35,
   "metadata": {},
   "outputs": [
    {
     "data": {
      "text/plain": [
       "[<matplotlib.lines.Line2D at 0x7ff38c789970>]"
      ]
     },
     "execution_count": 35,
     "metadata": {},
     "output_type": "execute_result"
    },
    {
     "data": {
      "image/png": "[encoded data removed]",
      "text/plain": [
       "<Figure size 640x480 with 1 Axes>"
      ]
     },
     "metadata": {},
     "output_type": "display_data"
    }
   ],
   "source": [
    "generated_samples = X_tensor.detach()\n",
    "plt.plot( X_tensor[:, 1],X_tensor[:, 0], \".\")"
   ]
  },
  {
   "cell_type": "markdown",
   "metadata": {},
   "source": [
    "## continuacion de modelo"
   ]
  },
  {
   "cell_type": "code",
   "execution_count": 36,
   "metadata": {
    "colab": {
     "base_uri": "https://localhost:8080/"
    },
    "id": "7FaGCf_04zzV",
    "outputId": "f4e68371-f4d8-405c-9852-f6d7a63997f9"
   },
   "outputs": [
    {
     "name": "stdout",
     "output_type": "stream",
     "text": [
      "0.0    2451\n",
      "1.0     581\n",
      "Name: count, dtype: int64\n"
     ]
    }
   ],
   "source": [
    "print(pd.Series(y_train).value_counts())"
   ]
  },
  {
   "cell_type": "code",
   "execution_count": 37,
   "metadata": {},
   "outputs": [
    {
     "name": "stdout",
     "output_type": "stream",
     "text": [
      "581\n"
     ]
    }
   ],
   "source": [
    "print(pd.Series(y_train).value_counts()[1])"
   ]
  },
  {
   "cell_type": "code",
   "execution_count": 38,
   "metadata": {},
   "outputs": [
    {
     "data": {
      "text/plain": [
       "3032"
      ]
     },
     "execution_count": 38,
     "metadata": {},
     "output_type": "execute_result"
    }
   ],
   "source": [
    "len(X_train)"
   ]
  },
  {
   "cell_type": "code",
   "execution_count": 39,
   "metadata": {
    "colab": {
     "base_uri": "https://localhost:8080/"
    },
    "id": "i0PWlM_yfc5d",
    "outputId": "e468ff97-ea8b-4c35-dc9e-bfb1c807bebe"
   },
   "outputs": [
    {
     "name": "stdout",
     "output_type": "stream",
     "text": [
      "1.0    2451\n",
      "0.0    2451\n",
      "Name: count, dtype: int64\n"
     ]
    }
   ],
   "source": [
    "print(pd.Series(y_train_balanced).value_counts())\n"
   ]
  },
  {
   "cell_type": "code",
   "execution_count": 40,
   "metadata": {
    "id": "Cz1ZnhEykiY9"
   },
   "outputs": [],
   "source": [
    "scaler=Normalizer(norm='max')\n",
    "sc_X = scaler\n",
    "X_train = sc_X.fit_transform(X_train_balanced)\n",
    "X_test = sc_X.transform(X_test)"
   ]
  },
  {
   "cell_type": "code",
   "execution_count": 41,
   "metadata": {},
   "outputs": [
    {
     "data": {
      "text/plain": [
       "4902"
      ]
     },
     "execution_count": 41,
     "metadata": {},
     "output_type": "execute_result"
    }
   ],
   "source": [
    "X_train_balanced.shape[0]"
   ]
  },
  {
   "cell_type": "code",
   "execution_count": 42,
   "metadata": {
    "id": "HiHCUFo-kiW9"
   },
   "outputs": [],
   "source": [
    "sample_size = X_train_balanced.shape[0] # numero de muestras en el set de datos\n",
    "time_steps  = X_train_balanced.shape[1] # numero de atributos en el set de datos\n",
    "input_dimension = 1            #\n",
    "\n",
    "X_train_reshaped = X_train_balanced.reshape(sample_size,time_steps,input_dimension)\n",
    "X_test_reshaped = X_test.reshape(X_test.shape[0],X_test.shape[1],1)"
   ]
  },
  {
   "cell_type": "code",
   "execution_count": 43,
   "metadata": {
    "id": "VEuHRBvAlw79"
   },
   "outputs": [],
   "source": [
    "reduce_lr = ReduceLROnPlateau(monitor='val_loss', factor=0.1, patience=3, min_lr=0.000001)\n",
    "early_st = EarlyStopping(monitor='val_loss', patience=4, restore_best_weights=True)\n",
    "\n",
    "n_timesteps = X_train_reshaped.shape[1] #\n",
    "n_features  = X_train_reshaped.shape[2] #"
   ]
  },
  {
   "cell_type": "markdown",
   "metadata": {
    "id": "hBf6W9iPXz3p"
   },
   "source": [
    "# Create and fit DeepAMR model"
   ]
  },
  {
   "cell_type": "code",
   "execution_count": 44,
   "metadata": {
    "colab": {
     "base_uri": "https://localhost:8080/",
     "height": 953
    },
    "id": "AlJHRRzlkiH9",
    "outputId": "3fbfada7-e7d0-447a-c032-df8f5bf55897"
   },
   "outputs": [
    {
     "name": "stdout",
     "output_type": "stream",
     "text": [
      "Model: \"Modelo_s_aureus_ciprofloxacin\"\n",
      "_________________________________________________________________\n",
      " Layer (type)                Output Shape              Param #   \n",
      "=================================================================\n",
      " Conv_1 (Conv1D)             (None, 5984, 64)          1152      \n",
      "                                                                 \n",
      " batch_normalization (BatchN  (None, 5984, 64)         256       \n",
      " ormalization)                                                   \n",
      "                                                                 \n",
      " activation (Activation)     (None, 5984, 64)          0         \n",
      "                                                                 \n",
      " MaxPooling1D_1 (MaxPooling1  (None, 2992, 64)         0         \n",
      " D)                                                              \n",
      "                                                                 \n",
      " Conv_2 (Conv1D)             (None, 2984, 128)         73856     \n",
      "                                                                 \n",
      " batch_normalization_1 (Batc  (None, 2984, 128)        512       \n",
      " hNormalization)                                                 \n",
      "                                                                 \n",
      " activation_1 (Activation)   (None, 2984, 128)         0         \n",
      "                                                                 \n",
      " MaxPooling1D_2 (MaxPooling1  (None, 1492, 128)        0         \n",
      " D)                                                              \n",
      "                                                                 \n",
      " Conv_3 (Conv1D)             (None, 1488, 256)         164096    \n",
      "                                                                 \n",
      " batch_normalization_2 (Batc  (None, 1488, 256)        1024      \n",
      " hNormalization)                                                 \n",
      "                                                                 \n",
      " activation_2 (Activation)   (None, 1488, 256)         0         \n",
      "                                                                 \n",
      " MaxPooling1D_3 (MaxPooling1  (None, 744, 256)         0         \n",
      " D)                                                              \n",
      "                                                                 \n",
      " Conv_4 (Conv1D)             (None, 740, 256)          327936    \n",
      "                                                                 \n",
      " batch_normalization_3 (Batc  (None, 740, 256)         1024      \n",
      " hNormalization)                                                 \n",
      "                                                                 \n",
      " activation_3 (Activation)   (None, 740, 256)          0         \n",
      "                                                                 \n",
      " MaxPooling1D_4 (MaxPooling1  (None, 370, 256)         0         \n",
      " D)                                                              \n",
      "                                                                 \n",
      " flatten (Flatten)           (None, 94720)             0         \n",
      "                                                                 \n",
      " dropout (Dropout)           (None, 94720)             0         \n",
      "                                                                 \n",
      " fully_connected_0 (Dense)   (None, 256)               24248576  \n",
      "                                                                 \n",
      " fully_connected_1 (Dense)   (None, 64)                16448     \n",
      "                                                                 \n",
      " fully_connected_2 (Dense)   (None, 64)                4160      \n",
      "                                                                 \n",
      " OUT_Layer (Dense)           (None, 1)                 65        \n",
      "                                                                 \n",
      "=================================================================\n",
      "Total params: 24,839,105\n",
      "Trainable params: 24,837,697\n",
      "Non-trainable params: 1,408\n",
      "_________________________________________________________________\n"
     ]
    }
   ],
   "source": [
    "model = Sequential(name=\"Modelo_s_aureus_ciprofloxacin\")\n",
    "init_mode = 'normal'\n",
    "model.add(Conv1D(filters=(64), kernel_size=(17), input_shape = (n_timesteps,n_features), name='Conv_1'))\n",
    "model.add(BatchNormalization())\n",
    "model.add(Activation('relu'))\n",
    "model.add(MaxPooling1D(pool_size=2, name=\"MaxPooling1D_1\"))\n",
    "\n",
    "model.add(Conv1D(filters=(128), kernel_size=(9),kernel_initializer=init_mode, kernel_regularizer=regularizers.l2(0.0001),  name='Conv_2'))\n",
    "model.add(BatchNormalization())\n",
    "model.add(Activation('relu'))\n",
    "model.add(MaxPooling1D(pool_size=2, name=\"MaxPooling1D_2\"))\n",
    "\n",
    "model.add(Conv1D(filters=(256), kernel_size=(5),kernel_initializer=init_mode,kernel_regularizer=regularizers.l2(0.0001),   name='Conv_3'))\n",
    "model.add(BatchNormalization())\n",
    "model.add(Activation('relu'))\n",
    "model.add(MaxPooling1D(pool_size=2, name=\"MaxPooling1D_3\"))\n",
    "\n",
    "model.add(Conv1D(filters=(256), kernel_size=(5),kernel_initializer=init_mode, kernel_regularizer=regularizers.l2(0.0001),   name='Conv_4'))\n",
    "model.add(BatchNormalization())\n",
    "model.add(Activation('relu'))\n",
    "model.add(MaxPooling1D(pool_size=2, name=\"MaxPooling1D_4\"))\n",
    "\n",
    "model.add(Flatten())\n",
    "model.add(Dropout(0.65))\n",
    "model.add(Dense(256, activation='relu',kernel_initializer=init_mode, kernel_regularizer=regularizers.l2(0.0001), name=\"fully_connected_0\"))\n",
    "model.add(Dense(64, activation='relu',kernel_initializer=init_mode, kernel_regularizer=regularizers.l2(0.0001), name=\"fully_connected_1\"))\n",
    "model.add(Dense(64, activation='relu',kernel_initializer=init_mode, kernel_regularizer=regularizers.l2(0.0001),  name=\"fully_connected_2\"))\n",
    "model.add(Dense(n_features, activation='sigmoid', name=\"OUT_Layer\"))\n",
    "\n",
    "model.compile(optimizer = Adam(learning_rate=0.0001), loss = 'binary_crossentropy',  metrics=METRICS)\n",
    "model.summary()"
   ]
  },
  {
   "cell_type": "code",
   "execution_count": 45,
   "metadata": {},
   "outputs": [
    {
     "data": {
      "text/plain": [
       "(4902,)"
      ]
     },
     "execution_count": 45,
     "metadata": {},
     "output_type": "execute_result"
    }
   ],
   "source": [
    "y_train_balanced.shape"
   ]
  },
  {
   "cell_type": "code",
   "execution_count": 46,
   "metadata": {
    "colab": {
     "base_uri": "https://localhost:8080/"
    },
    "id": "lDksoJagl3H9",
    "outputId": "9e0d0c12-ce80-4bf1-ac57-0faf9891b578"
   },
   "outputs": [
    {
     "name": "stdout",
     "output_type": "stream",
     "text": [
      "Epoch 1/100\n"
     ]
    },
    {
     "name": "stderr",
     "output_type": "stream",
     "text": [
      "2024-12-20 16:28:58.692174: I tensorflow/stream_executor/cuda/cuda_dnn.cc:384] Loaded cuDNN version 8800\n",
      "2024-12-20 16:28:58.842715: I tensorflow/core/platform/default/subprocess.cc:304] Start cannot spawn child process: No such file or directory\n",
      "2024-12-20 16:28:59.104425: I tensorflow/stream_executor/cuda/cuda_blas.cc:1614] TensorFloat-32 will be used for the matrix multiplication. This will only be logged once.\n"
     ]
    },
    {
     "name": "stdout",
     "output_type": "stream",
     "text": [
      "442/442 [==============================] - 14s 24ms/step - loss: 5.8719 - tp: 1450.0000 - fp: 226.0000 - tn: 2225.0000 - fn: 510.0000 - accuracy: 0.8331 - precision: 0.8652 - recall: 0.7398 - auc: 0.8738 - prc: 0.8950 - val_loss: 4.9115 - val_tp: 491.0000 - val_fp: 0.0000e+00 - val_tn: 0.0000e+00 - val_fn: 0.0000e+00 - val_accuracy: 1.0000 - val_precision: 1.0000 - val_recall: 1.0000 - val_auc: 0.0000e+00 - val_prc: 1.0000 - lr: 1.0000e-04\n",
      "Epoch 2/100\n",
      "442/442 [==============================] - 10s 22ms/step - loss: 4.8766 - tp: 1430.0000 - fp: 85.0000 - tn: 2366.0000 - fn: 530.0000 - accuracy: 0.8606 - precision: 0.9439 - recall: 0.7296 - auc: 0.9012 - prc: 0.9175 - val_loss: 4.2245 - val_tp: 491.0000 - val_fp: 0.0000e+00 - val_tn: 0.0000e+00 - val_fn: 0.0000e+00 - val_accuracy: 1.0000 - val_precision: 1.0000 - val_recall: 1.0000 - val_auc: 0.0000e+00 - val_prc: 1.0000 - lr: 1.0000e-04\n",
      "Epoch 3/100\n",
      "442/442 [==============================] - 10s 22ms/step - loss: 4.2825 - tp: 1457.0000 - fp: 78.0000 - tn: 2373.0000 - fn: 503.0000 - accuracy: 0.8683 - precision: 0.9492 - recall: 0.7434 - auc: 0.9098 - prc: 0.9242 - val_loss: 3.7116 - val_tp: 491.0000 - val_fp: 0.0000e+00 - val_tn: 0.0000e+00 - val_fn: 0.0000e+00 - val_accuracy: 1.0000 - val_precision: 1.0000 - val_recall: 1.0000 - val_auc: 0.0000e+00 - val_prc: 1.0000 - lr: 1.0000e-04\n",
      "Epoch 4/100\n",
      "442/442 [==============================] - 10s 22ms/step - loss: 3.7866 - tp: 1497.0000 - fp: 85.0000 - tn: 2366.0000 - fn: 463.0000 - accuracy: 0.8758 - precision: 0.9463 - recall: 0.7638 - auc: 0.9286 - prc: 0.9370 - val_loss: 3.3082 - val_tp: 491.0000 - val_fp: 0.0000e+00 - val_tn: 0.0000e+00 - val_fn: 0.0000e+00 - val_accuracy: 1.0000 - val_precision: 1.0000 - val_recall: 1.0000 - val_auc: 0.0000e+00 - val_prc: 1.0000 - lr: 1.0000e-04\n",
      "Epoch 5/100\n",
      "442/442 [==============================] - 10s 22ms/step - loss: 3.3863 - tp: 1527.0000 - fp: 111.0000 - tn: 2340.0000 - fn: 433.0000 - accuracy: 0.8767 - precision: 0.9322 - recall: 0.7791 - auc: 0.9291 - prc: 0.9379 - val_loss: 2.9113 - val_tp: 491.0000 - val_fp: 0.0000e+00 - val_tn: 0.0000e+00 - val_fn: 0.0000e+00 - val_accuracy: 1.0000 - val_precision: 1.0000 - val_recall: 1.0000 - val_auc: 0.0000e+00 - val_prc: 1.0000 - lr: 1.0000e-04\n",
      "Epoch 6/100\n",
      "442/442 [==============================] - 10s 22ms/step - loss: 3.0214 - tp: 1545.0000 - fp: 104.0000 - tn: 2347.0000 - fn: 415.0000 - accuracy: 0.8823 - precision: 0.9369 - recall: 0.7883 - auc: 0.9397 - prc: 0.9454 - val_loss: 2.5853 - val_tp: 491.0000 - val_fp: 0.0000e+00 - val_tn: 0.0000e+00 - val_fn: 0.0000e+00 - val_accuracy: 1.0000 - val_precision: 1.0000 - val_recall: 1.0000 - val_auc: 0.0000e+00 - val_prc: 1.0000 - lr: 1.0000e-04\n",
      "Epoch 7/100\n",
      "442/442 [==============================] - 9s 21ms/step - loss: 2.7020 - tp: 1582.0000 - fp: 116.0000 - tn: 2335.0000 - fn: 378.0000 - accuracy: 0.8880 - precision: 0.9317 - recall: 0.8071 - auc: 0.9443 - prc: 0.9499 - val_loss: 2.2952 - val_tp: 491.0000 - val_fp: 0.0000e+00 - val_tn: 0.0000e+00 - val_fn: 0.0000e+00 - val_accuracy: 1.0000 - val_precision: 1.0000 - val_recall: 1.0000 - val_auc: 0.0000e+00 - val_prc: 1.0000 - lr: 1.0000e-04\n",
      "Epoch 8/100\n",
      "442/442 [==============================] - 9s 21ms/step - loss: 2.4221 - tp: 1596.0000 - fp: 106.0000 - tn: 2345.0000 - fn: 364.0000 - accuracy: 0.8934 - precision: 0.9377 - recall: 0.8143 - auc: 0.9472 - prc: 0.9515 - val_loss: 2.0359 - val_tp: 491.0000 - val_fp: 0.0000e+00 - val_tn: 0.0000e+00 - val_fn: 0.0000e+00 - val_accuracy: 1.0000 - val_precision: 1.0000 - val_recall: 1.0000 - val_auc: 0.0000e+00 - val_prc: 1.0000 - lr: 1.0000e-04\n",
      "Epoch 9/100\n",
      "442/442 [==============================] - 10s 22ms/step - loss: 2.1702 - tp: 1621.0000 - fp: 93.0000 - tn: 2358.0000 - fn: 339.0000 - accuracy: 0.9021 - precision: 0.9457 - recall: 0.8270 - auc: 0.9512 - prc: 0.9563 - val_loss: 1.8130 - val_tp: 491.0000 - val_fp: 0.0000e+00 - val_tn: 0.0000e+00 - val_fn: 0.0000e+00 - val_accuracy: 1.0000 - val_precision: 1.0000 - val_recall: 1.0000 - val_auc: 0.0000e+00 - val_prc: 1.0000 - lr: 1.0000e-04\n",
      "Epoch 10/100\n",
      "442/442 [==============================] - 10s 22ms/step - loss: 1.9571 - tp: 1633.0000 - fp: 114.0000 - tn: 2337.0000 - fn: 327.0000 - accuracy: 0.9000 - precision: 0.9347 - recall: 0.8332 - auc: 0.9533 - prc: 0.9577 - val_loss: 1.6189 - val_tp: 491.0000 - val_fp: 0.0000e+00 - val_tn: 0.0000e+00 - val_fn: 0.0000e+00 - val_accuracy: 1.0000 - val_precision: 1.0000 - val_recall: 1.0000 - val_auc: 0.0000e+00 - val_prc: 1.0000 - lr: 1.0000e-04\n",
      "Epoch 11/100\n",
      "442/442 [==============================] - 10s 22ms/step - loss: 1.7625 - tp: 1645.0000 - fp: 101.0000 - tn: 2350.0000 - fn: 315.0000 - accuracy: 0.9057 - precision: 0.9422 - recall: 0.8393 - auc: 0.9591 - prc: 0.9625 - val_loss: 1.4527 - val_tp: 491.0000 - val_fp: 0.0000e+00 - val_tn: 0.0000e+00 - val_fn: 0.0000e+00 - val_accuracy: 1.0000 - val_precision: 1.0000 - val_recall: 1.0000 - val_auc: 0.0000e+00 - val_prc: 1.0000 - lr: 1.0000e-04\n",
      "Epoch 12/100\n",
      "442/442 [==============================] - 10s 22ms/step - loss: 1.6033 - tp: 1660.0000 - fp: 91.0000 - tn: 2360.0000 - fn: 300.0000 - accuracy: 0.9114 - precision: 0.9480 - recall: 0.8469 - auc: 0.9584 - prc: 0.9634 - val_loss: 1.3091 - val_tp: 491.0000 - val_fp: 0.0000e+00 - val_tn: 0.0000e+00 - val_fn: 0.0000e+00 - val_accuracy: 1.0000 - val_precision: 1.0000 - val_recall: 1.0000 - val_auc: 0.0000e+00 - val_prc: 1.0000 - lr: 1.0000e-04\n",
      "Epoch 13/100\n",
      "442/442 [==============================] - 10s 22ms/step - loss: 1.4573 - tp: 1676.0000 - fp: 89.0000 - tn: 2362.0000 - fn: 284.0000 - accuracy: 0.9154 - precision: 0.9496 - recall: 0.8551 - auc: 0.9642 - prc: 0.9677 - val_loss: 1.1856 - val_tp: 491.0000 - val_fp: 0.0000e+00 - val_tn: 0.0000e+00 - val_fn: 0.0000e+00 - val_accuracy: 1.0000 - val_precision: 1.0000 - val_recall: 1.0000 - val_auc: 0.0000e+00 - val_prc: 1.0000 - lr: 1.0000e-04\n",
      "Epoch 14/100\n",
      "442/442 [==============================] - 10s 22ms/step - loss: 1.3371 - tp: 1682.0000 - fp: 86.0000 - tn: 2365.0000 - fn: 278.0000 - accuracy: 0.9175 - precision: 0.9514 - recall: 0.8582 - auc: 0.9663 - prc: 0.9688 - val_loss: 1.0811 - val_tp: 491.0000 - val_fp: 0.0000e+00 - val_tn: 0.0000e+00 - val_fn: 0.0000e+00 - val_accuracy: 1.0000 - val_precision: 1.0000 - val_recall: 1.0000 - val_auc: 0.0000e+00 - val_prc: 1.0000 - lr: 1.0000e-04\n",
      "Epoch 15/100\n",
      "442/442 [==============================] - 10s 22ms/step - loss: 1.2354 - tp: 1691.0000 - fp: 84.0000 - tn: 2367.0000 - fn: 269.0000 - accuracy: 0.9200 - precision: 0.9527 - recall: 0.8628 - auc: 0.9673 - prc: 0.9705 - val_loss: 0.9913 - val_tp: 491.0000 - val_fp: 0.0000e+00 - val_tn: 0.0000e+00 - val_fn: 0.0000e+00 - val_accuracy: 1.0000 - val_precision: 1.0000 - val_recall: 1.0000 - val_auc: 0.0000e+00 - val_prc: 1.0000 - lr: 1.0000e-04\n",
      "Epoch 16/100\n",
      "442/442 [==============================] - 9s 21ms/step - loss: 1.1450 - tp: 1703.0000 - fp: 81.0000 - tn: 2370.0000 - fn: 257.0000 - accuracy: 0.9234 - precision: 0.9546 - recall: 0.8689 - auc: 0.9706 - prc: 0.9730 - val_loss: 0.9135 - val_tp: 491.0000 - val_fp: 0.0000e+00 - val_tn: 0.0000e+00 - val_fn: 0.0000e+00 - val_accuracy: 1.0000 - val_precision: 1.0000 - val_recall: 1.0000 - val_auc: 0.0000e+00 - val_prc: 1.0000 - lr: 1.0000e-04\n",
      "Epoch 17/100\n",
      "442/442 [==============================] - 10s 22ms/step - loss: 1.0638 - tp: 1723.0000 - fp: 66.0000 - tn: 2385.0000 - fn: 237.0000 - accuracy: 0.9313 - precision: 0.9631 - recall: 0.8791 - auc: 0.9714 - prc: 0.9740 - val_loss: 0.8440 - val_tp: 491.0000 - val_fp: 0.0000e+00 - val_tn: 0.0000e+00 - val_fn: 0.0000e+00 - val_accuracy: 1.0000 - val_precision: 1.0000 - val_recall: 1.0000 - val_auc: 0.0000e+00 - val_prc: 1.0000 - lr: 1.0000e-04\n",
      "Epoch 18/100\n",
      "442/442 [==============================] - 10s 22ms/step - loss: 0.9989 - tp: 1720.0000 - fp: 74.0000 - tn: 2377.0000 - fn: 240.0000 - accuracy: 0.9288 - precision: 0.9588 - recall: 0.8776 - auc: 0.9714 - prc: 0.9740 - val_loss: 0.7826 - val_tp: 491.0000 - val_fp: 0.0000e+00 - val_tn: 0.0000e+00 - val_fn: 0.0000e+00 - val_accuracy: 1.0000 - val_precision: 1.0000 - val_recall: 1.0000 - val_auc: 0.0000e+00 - val_prc: 1.0000 - lr: 1.0000e-04\n",
      "Epoch 19/100\n",
      "442/442 [==============================] - 10s 22ms/step - loss: 0.9302 - tp: 1725.0000 - fp: 74.0000 - tn: 2377.0000 - fn: 235.0000 - accuracy: 0.9299 - precision: 0.9589 - recall: 0.8801 - auc: 0.9757 - prc: 0.9775 - val_loss: 0.7289 - val_tp: 491.0000 - val_fp: 0.0000e+00 - val_tn: 0.0000e+00 - val_fn: 0.0000e+00 - val_accuracy: 1.0000 - val_precision: 1.0000 - val_recall: 1.0000 - val_auc: 0.0000e+00 - val_prc: 1.0000 - lr: 1.0000e-04\n",
      "Epoch 20/100\n",
      "442/442 [==============================] - 10s 22ms/step - loss: 0.8812 - tp: 1750.0000 - fp: 74.0000 - tn: 2377.0000 - fn: 210.0000 - accuracy: 0.9356 - precision: 0.9594 - recall: 0.8929 - auc: 0.9744 - prc: 0.9768 - val_loss: 0.6832 - val_tp: 491.0000 - val_fp: 0.0000e+00 - val_tn: 0.0000e+00 - val_fn: 0.0000e+00 - val_accuracy: 1.0000 - val_precision: 1.0000 - val_recall: 1.0000 - val_auc: 0.0000e+00 - val_prc: 1.0000 - lr: 1.0000e-04\n",
      "Epoch 21/100\n",
      "442/442 [==============================] - 10s 22ms/step - loss: 0.8386 - tp: 1718.0000 - fp: 67.0000 - tn: 2384.0000 - fn: 242.0000 - accuracy: 0.9299 - precision: 0.9625 - recall: 0.8765 - auc: 0.9743 - prc: 0.9762 - val_loss: 0.6409 - val_tp: 491.0000 - val_fp: 0.0000e+00 - val_tn: 0.0000e+00 - val_fn: 0.0000e+00 - val_accuracy: 1.0000 - val_precision: 1.0000 - val_recall: 1.0000 - val_auc: 0.0000e+00 - val_prc: 1.0000 - lr: 1.0000e-04\n",
      "Epoch 22/100\n",
      "442/442 [==============================] - 10s 22ms/step - loss: 0.7845 - tp: 1751.0000 - fp: 65.0000 - tn: 2386.0000 - fn: 209.0000 - accuracy: 0.9379 - precision: 0.9642 - recall: 0.8934 - auc: 0.9792 - prc: 0.9799 - val_loss: 0.6041 - val_tp: 491.0000 - val_fp: 0.0000e+00 - val_tn: 0.0000e+00 - val_fn: 0.0000e+00 - val_accuracy: 1.0000 - val_precision: 1.0000 - val_recall: 1.0000 - val_auc: 0.0000e+00 - val_prc: 1.0000 - lr: 1.0000e-04\n",
      "Epoch 23/100\n",
      "442/442 [==============================] - 10s 22ms/step - loss: 0.7442 - tp: 1760.0000 - fp: 53.0000 - tn: 2398.0000 - fn: 200.0000 - accuracy: 0.9426 - precision: 0.9708 - recall: 0.8980 - auc: 0.9796 - prc: 0.9809 - val_loss: 0.5714 - val_tp: 491.0000 - val_fp: 0.0000e+00 - val_tn: 0.0000e+00 - val_fn: 0.0000e+00 - val_accuracy: 1.0000 - val_precision: 1.0000 - val_recall: 1.0000 - val_auc: 0.0000e+00 - val_prc: 1.0000 - lr: 1.0000e-04\n",
      "Epoch 24/100\n",
      "442/442 [==============================] - 10s 22ms/step - loss: 0.7145 - tp: 1757.0000 - fp: 53.0000 - tn: 2398.0000 - fn: 203.0000 - accuracy: 0.9420 - precision: 0.9707 - recall: 0.8964 - auc: 0.9796 - prc: 0.9811 - val_loss: 0.5439 - val_tp: 491.0000 - val_fp: 0.0000e+00 - val_tn: 0.0000e+00 - val_fn: 0.0000e+00 - val_accuracy: 1.0000 - val_precision: 1.0000 - val_recall: 1.0000 - val_auc: 0.0000e+00 - val_prc: 1.0000 - lr: 1.0000e-04\n",
      "Epoch 25/100\n",
      "442/442 [==============================] - 10s 22ms/step - loss: 0.6856 - tp: 1758.0000 - fp: 58.0000 - tn: 2393.0000 - fn: 202.0000 - accuracy: 0.9411 - precision: 0.9681 - recall: 0.8969 - auc: 0.9802 - prc: 0.9817 - val_loss: 0.5185 - val_tp: 491.0000 - val_fp: 0.0000e+00 - val_tn: 0.0000e+00 - val_fn: 0.0000e+00 - val_accuracy: 1.0000 - val_precision: 1.0000 - val_recall: 1.0000 - val_auc: 0.0000e+00 - val_prc: 1.0000 - lr: 1.0000e-04\n",
      "Epoch 26/100\n",
      "442/442 [==============================] - 10s 22ms/step - loss: 0.6592 - tp: 1771.0000 - fp: 77.0000 - tn: 2374.0000 - fn: 189.0000 - accuracy: 0.9397 - precision: 0.9583 - recall: 0.9036 - auc: 0.9816 - prc: 0.9829 - val_loss: 0.4960 - val_tp: 491.0000 - val_fp: 0.0000e+00 - val_tn: 0.0000e+00 - val_fn: 0.0000e+00 - val_accuracy: 1.0000 - val_precision: 1.0000 - val_recall: 1.0000 - val_auc: 0.0000e+00 - val_prc: 1.0000 - lr: 1.0000e-04\n",
      "Epoch 27/100\n",
      "442/442 [==============================] - 10s 22ms/step - loss: 0.6222 - tp: 1785.0000 - fp: 62.0000 - tn: 2389.0000 - fn: 175.0000 - accuracy: 0.9463 - precision: 0.9664 - recall: 0.9107 - auc: 0.9854 - prc: 0.9857 - val_loss: 0.4751 - val_tp: 491.0000 - val_fp: 0.0000e+00 - val_tn: 0.0000e+00 - val_fn: 0.0000e+00 - val_accuracy: 1.0000 - val_precision: 1.0000 - val_recall: 1.0000 - val_auc: 0.0000e+00 - val_prc: 1.0000 - lr: 1.0000e-04\n",
      "Epoch 28/100\n",
      "442/442 [==============================] - 11s 25ms/step - loss: 0.6168 - tp: 1766.0000 - fp: 68.0000 - tn: 2383.0000 - fn: 194.0000 - accuracy: 0.9406 - precision: 0.9629 - recall: 0.9010 - auc: 0.9821 - prc: 0.9827 - val_loss: 0.4567 - val_tp: 491.0000 - val_fp: 0.0000e+00 - val_tn: 0.0000e+00 - val_fn: 0.0000e+00 - val_accuracy: 1.0000 - val_precision: 1.0000 - val_recall: 1.0000 - val_auc: 0.0000e+00 - val_prc: 1.0000 - lr: 1.0000e-04\n",
      "Epoch 29/100\n",
      "442/442 [==============================] - 10s 22ms/step - loss: 0.5748 - tp: 1788.0000 - fp: 56.0000 - tn: 2395.0000 - fn: 172.0000 - accuracy: 0.9483 - precision: 0.9696 - recall: 0.9122 - auc: 0.9874 - prc: 0.9872 - val_loss: 0.4383 - val_tp: 491.0000 - val_fp: 0.0000e+00 - val_tn: 0.0000e+00 - val_fn: 0.0000e+00 - val_accuracy: 1.0000 - val_precision: 1.0000 - val_recall: 1.0000 - val_auc: 0.0000e+00 - val_prc: 1.0000 - lr: 1.0000e-04\n",
      "Epoch 30/100\n",
      "442/442 [==============================] - 10s 22ms/step - loss: 0.5552 - tp: 1796.0000 - fp: 50.0000 - tn: 2401.0000 - fn: 164.0000 - accuracy: 0.9515 - precision: 0.9729 - recall: 0.9163 - auc: 0.9875 - prc: 0.9873 - val_loss: 0.4218 - val_tp: 491.0000 - val_fp: 0.0000e+00 - val_tn: 0.0000e+00 - val_fn: 0.0000e+00 - val_accuracy: 1.0000 - val_precision: 1.0000 - val_recall: 1.0000 - val_auc: 0.0000e+00 - val_prc: 1.0000 - lr: 1.0000e-04\n",
      "Epoch 31/100\n",
      "442/442 [==============================] - 10s 22ms/step - loss: 0.5379 - tp: 1803.0000 - fp: 55.0000 - tn: 2396.0000 - fn: 157.0000 - accuracy: 0.9519 - precision: 0.9704 - recall: 0.9199 - auc: 0.9883 - prc: 0.9881 - val_loss: 0.4055 - val_tp: 491.0000 - val_fp: 0.0000e+00 - val_tn: 0.0000e+00 - val_fn: 0.0000e+00 - val_accuracy: 1.0000 - val_precision: 1.0000 - val_recall: 1.0000 - val_auc: 0.0000e+00 - val_prc: 1.0000 - lr: 1.0000e-04\n",
      "Epoch 32/100\n",
      "442/442 [==============================] - 10s 22ms/step - loss: 0.5142 - tp: 1812.0000 - fp: 56.0000 - tn: 2395.0000 - fn: 148.0000 - accuracy: 0.9538 - precision: 0.9700 - recall: 0.9245 - auc: 0.9896 - prc: 0.9896 - val_loss: 0.3915 - val_tp: 491.0000 - val_fp: 0.0000e+00 - val_tn: 0.0000e+00 - val_fn: 0.0000e+00 - val_accuracy: 1.0000 - val_precision: 1.0000 - val_recall: 1.0000 - val_auc: 0.0000e+00 - val_prc: 1.0000 - lr: 1.0000e-04\n",
      "Epoch 33/100\n",
      "442/442 [==============================] - 10s 22ms/step - loss: 0.5153 - tp: 1811.0000 - fp: 72.0000 - tn: 2379.0000 - fn: 149.0000 - accuracy: 0.9499 - precision: 0.9618 - recall: 0.9240 - auc: 0.9877 - prc: 0.9870 - val_loss: 0.3807 - val_tp: 491.0000 - val_fp: 0.0000e+00 - val_tn: 0.0000e+00 - val_fn: 0.0000e+00 - val_accuracy: 1.0000 - val_precision: 1.0000 - val_recall: 1.0000 - val_auc: 0.0000e+00 - val_prc: 1.0000 - lr: 1.0000e-04\n",
      "Epoch 34/100\n",
      "442/442 [==============================] - 10s 22ms/step - loss: 0.4786 - tp: 1832.0000 - fp: 55.0000 - tn: 2396.0000 - fn: 128.0000 - accuracy: 0.9585 - precision: 0.9709 - recall: 0.9347 - auc: 0.9919 - prc: 0.9917 - val_loss: 0.3685 - val_tp: 491.0000 - val_fp: 0.0000e+00 - val_tn: 0.0000e+00 - val_fn: 0.0000e+00 - val_accuracy: 1.0000 - val_precision: 1.0000 - val_recall: 1.0000 - val_auc: 0.0000e+00 - val_prc: 1.0000 - lr: 1.0000e-04\n",
      "Epoch 35/100\n",
      "442/442 [==============================] - 10s 22ms/step - loss: 0.4700 - tp: 1830.0000 - fp: 59.0000 - tn: 2392.0000 - fn: 130.0000 - accuracy: 0.9572 - precision: 0.9688 - recall: 0.9337 - auc: 0.9908 - prc: 0.9904 - val_loss: 0.3574 - val_tp: 491.0000 - val_fp: 0.0000e+00 - val_tn: 0.0000e+00 - val_fn: 0.0000e+00 - val_accuracy: 1.0000 - val_precision: 1.0000 - val_recall: 1.0000 - val_auc: 0.0000e+00 - val_prc: 1.0000 - lr: 1.0000e-04\n",
      "Epoch 36/100\n",
      "442/442 [==============================] - 10s 23ms/step - loss: 0.4586 - tp: 1830.0000 - fp: 55.0000 - tn: 2396.0000 - fn: 130.0000 - accuracy: 0.9581 - precision: 0.9708 - recall: 0.9337 - auc: 0.9918 - prc: 0.9911 - val_loss: 0.3483 - val_tp: 491.0000 - val_fp: 0.0000e+00 - val_tn: 0.0000e+00 - val_fn: 0.0000e+00 - val_accuracy: 1.0000 - val_precision: 1.0000 - val_recall: 1.0000 - val_auc: 0.0000e+00 - val_prc: 1.0000 - lr: 1.0000e-04\n",
      "Epoch 37/100\n",
      "442/442 [==============================] - 11s 25ms/step - loss: 0.4449 - tp: 1842.0000 - fp: 49.0000 - tn: 2402.0000 - fn: 118.0000 - accuracy: 0.9621 - precision: 0.9741 - recall: 0.9398 - auc: 0.9917 - prc: 0.9914 - val_loss: 0.3379 - val_tp: 491.0000 - val_fp: 0.0000e+00 - val_tn: 0.0000e+00 - val_fn: 0.0000e+00 - val_accuracy: 1.0000 - val_precision: 1.0000 - val_recall: 1.0000 - val_auc: 0.0000e+00 - val_prc: 1.0000 - lr: 1.0000e-04\n",
      "Epoch 38/100\n",
      "442/442 [==============================] - 11s 24ms/step - loss: 0.4236 - tp: 1850.0000 - fp: 50.0000 - tn: 2401.0000 - fn: 110.0000 - accuracy: 0.9637 - precision: 0.9737 - recall: 0.9439 - auc: 0.9941 - prc: 0.9933 - val_loss: 0.3286 - val_tp: 491.0000 - val_fp: 0.0000e+00 - val_tn: 0.0000e+00 - val_fn: 0.0000e+00 - val_accuracy: 1.0000 - val_precision: 1.0000 - val_recall: 1.0000 - val_auc: 0.0000e+00 - val_prc: 1.0000 - lr: 1.0000e-04\n",
      "Epoch 39/100\n",
      "442/442 [==============================] - 10s 23ms/step - loss: 0.4166 - tp: 1855.0000 - fp: 47.0000 - tn: 2404.0000 - fn: 105.0000 - accuracy: 0.9655 - precision: 0.9753 - recall: 0.9464 - auc: 0.9934 - prc: 0.9933 - val_loss: 0.3205 - val_tp: 491.0000 - val_fp: 0.0000e+00 - val_tn: 0.0000e+00 - val_fn: 0.0000e+00 - val_accuracy: 1.0000 - val_precision: 1.0000 - val_recall: 1.0000 - val_auc: 0.0000e+00 - val_prc: 1.0000 - lr: 1.0000e-04\n",
      "Epoch 40/100\n",
      "442/442 [==============================] - 11s 25ms/step - loss: 0.4061 - tp: 1860.0000 - fp: 43.0000 - tn: 2408.0000 - fn: 100.0000 - accuracy: 0.9676 - precision: 0.9774 - recall: 0.9490 - auc: 0.9936 - prc: 0.9935 - val_loss: 0.3124 - val_tp: 491.0000 - val_fp: 0.0000e+00 - val_tn: 0.0000e+00 - val_fn: 0.0000e+00 - val_accuracy: 1.0000 - val_precision: 1.0000 - val_recall: 1.0000 - val_auc: 0.0000e+00 - val_prc: 1.0000 - lr: 1.0000e-04\n",
      "Epoch 41/100\n",
      "442/442 [==============================] - 10s 22ms/step - loss: 0.3991 - tp: 1851.0000 - fp: 49.0000 - tn: 2402.0000 - fn: 109.0000 - accuracy: 0.9642 - precision: 0.9742 - recall: 0.9444 - auc: 0.9936 - prc: 0.9934 - val_loss: 0.3049 - val_tp: 491.0000 - val_fp: 0.0000e+00 - val_tn: 0.0000e+00 - val_fn: 0.0000e+00 - val_accuracy: 1.0000 - val_precision: 1.0000 - val_recall: 1.0000 - val_auc: 0.0000e+00 - val_prc: 1.0000 - lr: 1.0000e-04\n",
      "Epoch 42/100\n",
      "442/442 [==============================] - 10s 22ms/step - loss: 0.3807 - tp: 1861.0000 - fp: 40.0000 - tn: 2411.0000 - fn: 99.0000 - accuracy: 0.9685 - precision: 0.9790 - recall: 0.9495 - auc: 0.9954 - prc: 0.9951 - val_loss: 0.2980 - val_tp: 491.0000 - val_fp: 0.0000e+00 - val_tn: 0.0000e+00 - val_fn: 0.0000e+00 - val_accuracy: 1.0000 - val_precision: 1.0000 - val_recall: 1.0000 - val_auc: 0.0000e+00 - val_prc: 1.0000 - lr: 1.0000e-04\n",
      "Epoch 43/100\n",
      "442/442 [==============================] - 10s 22ms/step - loss: 0.3711 - tp: 1874.0000 - fp: 46.0000 - tn: 2405.0000 - fn: 86.0000 - accuracy: 0.9701 - precision: 0.9760 - recall: 0.9561 - auc: 0.9955 - prc: 0.9949 - val_loss: 0.2915 - val_tp: 491.0000 - val_fp: 0.0000e+00 - val_tn: 0.0000e+00 - val_fn: 0.0000e+00 - val_accuracy: 1.0000 - val_precision: 1.0000 - val_recall: 1.0000 - val_auc: 0.0000e+00 - val_prc: 1.0000 - lr: 1.0000e-04\n",
      "Epoch 44/100\n",
      "442/442 [==============================] - 10s 22ms/step - loss: 0.3709 - tp: 1875.0000 - fp: 44.0000 - tn: 2407.0000 - fn: 85.0000 - accuracy: 0.9708 - precision: 0.9771 - recall: 0.9566 - auc: 0.9947 - prc: 0.9945 - val_loss: 0.2858 - val_tp: 491.0000 - val_fp: 0.0000e+00 - val_tn: 0.0000e+00 - val_fn: 0.0000e+00 - val_accuracy: 1.0000 - val_precision: 1.0000 - val_recall: 1.0000 - val_auc: 0.0000e+00 - val_prc: 1.0000 - lr: 1.0000e-04\n",
      "Epoch 45/100\n",
      "442/442 [==============================] - 10s 22ms/step - loss: 0.3457 - tp: 1885.0000 - fp: 32.0000 - tn: 2419.0000 - fn: 75.0000 - accuracy: 0.9757 - precision: 0.9833 - recall: 0.9617 - auc: 0.9969 - prc: 0.9967 - val_loss: 0.2790 - val_tp: 491.0000 - val_fp: 0.0000e+00 - val_tn: 0.0000e+00 - val_fn: 0.0000e+00 - val_accuracy: 1.0000 - val_precision: 1.0000 - val_recall: 1.0000 - val_auc: 0.0000e+00 - val_prc: 1.0000 - lr: 1.0000e-04\n",
      "Epoch 46/100\n",
      "442/442 [==============================] - 10s 22ms/step - loss: 0.3428 - tp: 1885.0000 - fp: 39.0000 - tn: 2412.0000 - fn: 75.0000 - accuracy: 0.9742 - precision: 0.9797 - recall: 0.9617 - auc: 0.9962 - prc: 0.9958 - val_loss: 0.2731 - val_tp: 491.0000 - val_fp: 0.0000e+00 - val_tn: 0.0000e+00 - val_fn: 0.0000e+00 - val_accuracy: 1.0000 - val_precision: 1.0000 - val_recall: 1.0000 - val_auc: 0.0000e+00 - val_prc: 1.0000 - lr: 1.0000e-04\n",
      "Epoch 47/100\n",
      "442/442 [==============================] - 10s 22ms/step - loss: 0.3386 - tp: 1891.0000 - fp: 44.0000 - tn: 2407.0000 - fn: 69.0000 - accuracy: 0.9744 - precision: 0.9773 - recall: 0.9648 - auc: 0.9957 - prc: 0.9960 - val_loss: 0.2687 - val_tp: 491.0000 - val_fp: 0.0000e+00 - val_tn: 0.0000e+00 - val_fn: 0.0000e+00 - val_accuracy: 1.0000 - val_precision: 1.0000 - val_recall: 1.0000 - val_auc: 0.0000e+00 - val_prc: 1.0000 - lr: 1.0000e-04\n",
      "Epoch 48/100\n",
      "442/442 [==============================] - 10s 22ms/step - loss: 0.3352 - tp: 1879.0000 - fp: 46.0000 - tn: 2405.0000 - fn: 81.0000 - accuracy: 0.9712 - precision: 0.9761 - recall: 0.9587 - auc: 0.9966 - prc: 0.9959 - val_loss: 0.2638 - val_tp: 491.0000 - val_fp: 0.0000e+00 - val_tn: 0.0000e+00 - val_fn: 0.0000e+00 - val_accuracy: 1.0000 - val_precision: 1.0000 - val_recall: 1.0000 - val_auc: 0.0000e+00 - val_prc: 1.0000 - lr: 1.0000e-04\n",
      "Epoch 49/100\n",
      "442/442 [==============================] - 10s 22ms/step - loss: 0.3242 - tp: 1887.0000 - fp: 35.0000 - tn: 2416.0000 - fn: 73.0000 - accuracy: 0.9755 - precision: 0.9818 - recall: 0.9628 - auc: 0.9969 - prc: 0.9967 - val_loss: 0.2585 - val_tp: 491.0000 - val_fp: 0.0000e+00 - val_tn: 0.0000e+00 - val_fn: 0.0000e+00 - val_accuracy: 1.0000 - val_precision: 1.0000 - val_recall: 1.0000 - val_auc: 0.0000e+00 - val_prc: 1.0000 - lr: 1.0000e-04\n",
      "Epoch 50/100\n",
      "442/442 [==============================] - 10s 22ms/step - loss: 0.3155 - tp: 1901.0000 - fp: 31.0000 - tn: 2420.0000 - fn: 59.0000 - accuracy: 0.9796 - precision: 0.9840 - recall: 0.9699 - auc: 0.9975 - prc: 0.9968 - val_loss: 0.2554 - val_tp: 491.0000 - val_fp: 0.0000e+00 - val_tn: 0.0000e+00 - val_fn: 0.0000e+00 - val_accuracy: 1.0000 - val_precision: 1.0000 - val_recall: 1.0000 - val_auc: 0.0000e+00 - val_prc: 1.0000 - lr: 1.0000e-04\n",
      "Epoch 51/100\n",
      "442/442 [==============================] - 10s 22ms/step - loss: 0.3149 - tp: 1904.0000 - fp: 33.0000 - tn: 2418.0000 - fn: 56.0000 - accuracy: 0.9798 - precision: 0.9830 - recall: 0.9714 - auc: 0.9969 - prc: 0.9969 - val_loss: 0.2510 - val_tp: 491.0000 - val_fp: 0.0000e+00 - val_tn: 0.0000e+00 - val_fn: 0.0000e+00 - val_accuracy: 1.0000 - val_precision: 1.0000 - val_recall: 1.0000 - val_auc: 0.0000e+00 - val_prc: 1.0000 - lr: 1.0000e-04\n",
      "Epoch 52/100\n",
      "442/442 [==============================] - 10s 22ms/step - loss: 0.3080 - tp: 1896.0000 - fp: 37.0000 - tn: 2414.0000 - fn: 64.0000 - accuracy: 0.9771 - precision: 0.9809 - recall: 0.9673 - auc: 0.9967 - prc: 0.9961 - val_loss: 0.2464 - val_tp: 491.0000 - val_fp: 0.0000e+00 - val_tn: 0.0000e+00 - val_fn: 0.0000e+00 - val_accuracy: 1.0000 - val_precision: 1.0000 - val_recall: 1.0000 - val_auc: 0.0000e+00 - val_prc: 1.0000 - lr: 1.0000e-04\n",
      "Epoch 53/100\n",
      "442/442 [==============================] - 10s 22ms/step - loss: 0.3031 - tp: 1903.0000 - fp: 33.0000 - tn: 2418.0000 - fn: 57.0000 - accuracy: 0.9796 - precision: 0.9830 - recall: 0.9709 - auc: 0.9967 - prc: 0.9969 - val_loss: 0.2429 - val_tp: 491.0000 - val_fp: 0.0000e+00 - val_tn: 0.0000e+00 - val_fn: 0.0000e+00 - val_accuracy: 1.0000 - val_precision: 1.0000 - val_recall: 1.0000 - val_auc: 0.0000e+00 - val_prc: 1.0000 - lr: 1.0000e-04\n",
      "Epoch 54/100\n",
      "442/442 [==============================] - 10s 22ms/step - loss: 0.2914 - tp: 1900.0000 - fp: 34.0000 - tn: 2417.0000 - fn: 60.0000 - accuracy: 0.9787 - precision: 0.9824 - recall: 0.9694 - auc: 0.9983 - prc: 0.9980 - val_loss: 0.2382 - val_tp: 491.0000 - val_fp: 0.0000e+00 - val_tn: 0.0000e+00 - val_fn: 0.0000e+00 - val_accuracy: 1.0000 - val_precision: 1.0000 - val_recall: 1.0000 - val_auc: 0.0000e+00 - val_prc: 1.0000 - lr: 1.0000e-04\n",
      "Epoch 55/100\n",
      "442/442 [==============================] - 10s 22ms/step - loss: 0.2805 - tp: 1912.0000 - fp: 24.0000 - tn: 2427.0000 - fn: 48.0000 - accuracy: 0.9837 - precision: 0.9876 - recall: 0.9755 - auc: 0.9985 - prc: 0.9984 - val_loss: 0.2337 - val_tp: 491.0000 - val_fp: 0.0000e+00 - val_tn: 0.0000e+00 - val_fn: 0.0000e+00 - val_accuracy: 1.0000 - val_precision: 1.0000 - val_recall: 1.0000 - val_auc: 0.0000e+00 - val_prc: 1.0000 - lr: 1.0000e-04\n",
      "Epoch 56/100\n",
      "442/442 [==============================] - 10s 22ms/step - loss: 0.2745 - tp: 1909.0000 - fp: 32.0000 - tn: 2419.0000 - fn: 51.0000 - accuracy: 0.9812 - precision: 0.9835 - recall: 0.9740 - auc: 0.9987 - prc: 0.9981 - val_loss: 0.2304 - val_tp: 491.0000 - val_fp: 0.0000e+00 - val_tn: 0.0000e+00 - val_fn: 0.0000e+00 - val_accuracy: 1.0000 - val_precision: 1.0000 - val_recall: 1.0000 - val_auc: 0.0000e+00 - val_prc: 1.0000 - lr: 1.0000e-04\n",
      "Epoch 57/100\n",
      "442/442 [==============================] - 10s 22ms/step - loss: 0.2732 - tp: 1915.0000 - fp: 30.0000 - tn: 2421.0000 - fn: 45.0000 - accuracy: 0.9830 - precision: 0.9846 - recall: 0.9770 - auc: 0.9986 - prc: 0.9985 - val_loss: 0.2263 - val_tp: 491.0000 - val_fp: 0.0000e+00 - val_tn: 0.0000e+00 - val_fn: 0.0000e+00 - val_accuracy: 1.0000 - val_precision: 1.0000 - val_recall: 1.0000 - val_auc: 0.0000e+00 - val_prc: 1.0000 - lr: 1.0000e-04\n",
      "Epoch 58/100\n",
      "442/442 [==============================] - 10s 22ms/step - loss: 0.2744 - tp: 1907.0000 - fp: 35.0000 - tn: 2416.0000 - fn: 53.0000 - accuracy: 0.9800 - precision: 0.9820 - recall: 0.9730 - auc: 0.9982 - prc: 0.9980 - val_loss: 0.2229 - val_tp: 491.0000 - val_fp: 0.0000e+00 - val_tn: 0.0000e+00 - val_fn: 0.0000e+00 - val_accuracy: 1.0000 - val_precision: 1.0000 - val_recall: 1.0000 - val_auc: 0.0000e+00 - val_prc: 1.0000 - lr: 1.0000e-04\n",
      "Epoch 59/100\n",
      "442/442 [==============================] - 10s 22ms/step - loss: 0.2672 - tp: 1916.0000 - fp: 22.0000 - tn: 2429.0000 - fn: 44.0000 - accuracy: 0.9850 - precision: 0.9886 - recall: 0.9776 - auc: 0.9981 - prc: 0.9977 - val_loss: 0.2195 - val_tp: 491.0000 - val_fp: 0.0000e+00 - val_tn: 0.0000e+00 - val_fn: 0.0000e+00 - val_accuracy: 1.0000 - val_precision: 1.0000 - val_recall: 1.0000 - val_auc: 0.0000e+00 - val_prc: 1.0000 - lr: 1.0000e-04\n",
      "Epoch 60/100\n",
      "442/442 [==============================] - 10s 22ms/step - loss: 0.2527 - tp: 1924.0000 - fp: 20.0000 - tn: 2431.0000 - fn: 36.0000 - accuracy: 0.9873 - precision: 0.9897 - recall: 0.9816 - auc: 0.9989 - prc: 0.9989 - val_loss: 0.2157 - val_tp: 491.0000 - val_fp: 0.0000e+00 - val_tn: 0.0000e+00 - val_fn: 0.0000e+00 - val_accuracy: 1.0000 - val_precision: 1.0000 - val_recall: 1.0000 - val_auc: 0.0000e+00 - val_prc: 1.0000 - lr: 1.0000e-04\n",
      "Epoch 61/100\n",
      "442/442 [==============================] - 10s 22ms/step - loss: 0.2568 - tp: 1916.0000 - fp: 26.0000 - tn: 2425.0000 - fn: 44.0000 - accuracy: 0.9841 - precision: 0.9866 - recall: 0.9776 - auc: 0.9981 - prc: 0.9974 - val_loss: 0.2124 - val_tp: 491.0000 - val_fp: 0.0000e+00 - val_tn: 0.0000e+00 - val_fn: 0.0000e+00 - val_accuracy: 1.0000 - val_precision: 1.0000 - val_recall: 1.0000 - val_auc: 0.0000e+00 - val_prc: 1.0000 - lr: 1.0000e-04\n",
      "Epoch 62/100\n",
      "442/442 [==============================] - 10s 22ms/step - loss: 0.2586 - tp: 1912.0000 - fp: 29.0000 - tn: 2422.0000 - fn: 48.0000 - accuracy: 0.9825 - precision: 0.9851 - recall: 0.9755 - auc: 0.9982 - prc: 0.9980 - val_loss: 0.2091 - val_tp: 491.0000 - val_fp: 0.0000e+00 - val_tn: 0.0000e+00 - val_fn: 0.0000e+00 - val_accuracy: 1.0000 - val_precision: 1.0000 - val_recall: 1.0000 - val_auc: 0.0000e+00 - val_prc: 1.0000 - lr: 1.0000e-04\n",
      "Epoch 63/100\n",
      "442/442 [==============================] - 10s 22ms/step - loss: 0.2493 - tp: 1921.0000 - fp: 28.0000 - tn: 2423.0000 - fn: 39.0000 - accuracy: 0.9848 - precision: 0.9856 - recall: 0.9801 - auc: 0.9986 - prc: 0.9985 - val_loss: 0.2063 - val_tp: 491.0000 - val_fp: 0.0000e+00 - val_tn: 0.0000e+00 - val_fn: 0.0000e+00 - val_accuracy: 1.0000 - val_precision: 1.0000 - val_recall: 1.0000 - val_auc: 0.0000e+00 - val_prc: 1.0000 - lr: 1.0000e-04\n",
      "Epoch 64/100\n",
      "442/442 [==============================] - 10s 22ms/step - loss: 0.2370 - tp: 1927.0000 - fp: 22.0000 - tn: 2429.0000 - fn: 33.0000 - accuracy: 0.9875 - precision: 0.9887 - recall: 0.9832 - auc: 0.9991 - prc: 0.9990 - val_loss: 0.2028 - val_tp: 491.0000 - val_fp: 0.0000e+00 - val_tn: 0.0000e+00 - val_fn: 0.0000e+00 - val_accuracy: 1.0000 - val_precision: 1.0000 - val_recall: 1.0000 - val_auc: 0.0000e+00 - val_prc: 1.0000 - lr: 1.0000e-04\n",
      "Epoch 65/100\n",
      "442/442 [==============================] - 10s 22ms/step - loss: 0.2411 - tp: 1921.0000 - fp: 25.0000 - tn: 2426.0000 - fn: 39.0000 - accuracy: 0.9855 - precision: 0.9872 - recall: 0.9801 - auc: 0.9987 - prc: 0.9987 - val_loss: 0.2010 - val_tp: 491.0000 - val_fp: 0.0000e+00 - val_tn: 0.0000e+00 - val_fn: 0.0000e+00 - val_accuracy: 1.0000 - val_precision: 1.0000 - val_recall: 1.0000 - val_auc: 0.0000e+00 - val_prc: 1.0000 - lr: 1.0000e-04\n",
      "Epoch 66/100\n",
      "442/442 [==============================] - 10s 22ms/step - loss: 0.2382 - tp: 1919.0000 - fp: 28.0000 - tn: 2423.0000 - fn: 41.0000 - accuracy: 0.9844 - precision: 0.9856 - recall: 0.9791 - auc: 0.9987 - prc: 0.9983 - val_loss: 0.1987 - val_tp: 491.0000 - val_fp: 0.0000e+00 - val_tn: 0.0000e+00 - val_fn: 0.0000e+00 - val_accuracy: 1.0000 - val_precision: 1.0000 - val_recall: 1.0000 - val_auc: 0.0000e+00 - val_prc: 1.0000 - lr: 1.0000e-04\n",
      "Epoch 67/100\n",
      "442/442 [==============================] - 10s 22ms/step - loss: 0.2428 - tp: 1918.0000 - fp: 32.0000 - tn: 2419.0000 - fn: 42.0000 - accuracy: 0.9832 - precision: 0.9836 - recall: 0.9786 - auc: 0.9985 - prc: 0.9976 - val_loss: 0.1969 - val_tp: 491.0000 - val_fp: 0.0000e+00 - val_tn: 0.0000e+00 - val_fn: 0.0000e+00 - val_accuracy: 1.0000 - val_precision: 1.0000 - val_recall: 1.0000 - val_auc: 0.0000e+00 - val_prc: 1.0000 - lr: 1.0000e-04\n",
      "Epoch 68/100\n",
      "442/442 [==============================] - 10s 22ms/step - loss: 0.2301 - tp: 1930.0000 - fp: 21.0000 - tn: 2430.0000 - fn: 30.0000 - accuracy: 0.9884 - precision: 0.9892 - recall: 0.9847 - auc: 0.9985 - prc: 0.9983 - val_loss: 0.1938 - val_tp: 491.0000 - val_fp: 0.0000e+00 - val_tn: 0.0000e+00 - val_fn: 0.0000e+00 - val_accuracy: 1.0000 - val_precision: 1.0000 - val_recall: 1.0000 - val_auc: 0.0000e+00 - val_prc: 1.0000 - lr: 1.0000e-04\n",
      "Epoch 69/100\n",
      "442/442 [==============================] - 10s 22ms/step - loss: 0.2332 - tp: 1922.0000 - fp: 25.0000 - tn: 2426.0000 - fn: 38.0000 - accuracy: 0.9857 - precision: 0.9872 - recall: 0.9806 - auc: 0.9983 - prc: 0.9980 - val_loss: 0.1913 - val_tp: 491.0000 - val_fp: 0.0000e+00 - val_tn: 0.0000e+00 - val_fn: 0.0000e+00 - val_accuracy: 1.0000 - val_precision: 1.0000 - val_recall: 1.0000 - val_auc: 0.0000e+00 - val_prc: 1.0000 - lr: 1.0000e-04\n",
      "Epoch 70/100\n",
      "442/442 [==============================] - 10s 22ms/step - loss: 0.2179 - tp: 1930.0000 - fp: 15.0000 - tn: 2436.0000 - fn: 30.0000 - accuracy: 0.9898 - precision: 0.9923 - recall: 0.9847 - auc: 0.9994 - prc: 0.9993 - val_loss: 0.1888 - val_tp: 491.0000 - val_fp: 0.0000e+00 - val_tn: 0.0000e+00 - val_fn: 0.0000e+00 - val_accuracy: 1.0000 - val_precision: 1.0000 - val_recall: 1.0000 - val_auc: 0.0000e+00 - val_prc: 1.0000 - lr: 1.0000e-04\n",
      "Epoch 71/100\n",
      "442/442 [==============================] - 10s 22ms/step - loss: 0.2194 - tp: 1928.0000 - fp: 24.0000 - tn: 2427.0000 - fn: 32.0000 - accuracy: 0.9873 - precision: 0.9877 - recall: 0.9837 - auc: 0.9992 - prc: 0.9991 - val_loss: 0.1871 - val_tp: 491.0000 - val_fp: 0.0000e+00 - val_tn: 0.0000e+00 - val_fn: 0.0000e+00 - val_accuracy: 1.0000 - val_precision: 1.0000 - val_recall: 1.0000 - val_auc: 0.0000e+00 - val_prc: 1.0000 - lr: 1.0000e-04\n",
      "Epoch 72/100\n",
      "442/442 [==============================] - 10s 22ms/step - loss: 0.2191 - tp: 1930.0000 - fp: 22.0000 - tn: 2429.0000 - fn: 30.0000 - accuracy: 0.9882 - precision: 0.9887 - recall: 0.9847 - auc: 0.9987 - prc: 0.9984 - val_loss: 0.1856 - val_tp: 491.0000 - val_fp: 0.0000e+00 - val_tn: 0.0000e+00 - val_fn: 0.0000e+00 - val_accuracy: 1.0000 - val_precision: 1.0000 - val_recall: 1.0000 - val_auc: 0.0000e+00 - val_prc: 1.0000 - lr: 1.0000e-04\n",
      "Epoch 73/100\n",
      "442/442 [==============================] - 11s 25ms/step - loss: 0.2102 - tp: 1933.0000 - fp: 20.0000 - tn: 2431.0000 - fn: 27.0000 - accuracy: 0.9893 - precision: 0.9898 - recall: 0.9862 - auc: 0.9994 - prc: 0.9990 - val_loss: 0.1827 - val_tp: 491.0000 - val_fp: 0.0000e+00 - val_tn: 0.0000e+00 - val_fn: 0.0000e+00 - val_accuracy: 1.0000 - val_precision: 1.0000 - val_recall: 1.0000 - val_auc: 0.0000e+00 - val_prc: 1.0000 - lr: 1.0000e-04\n",
      "Epoch 74/100\n",
      "442/442 [==============================] - 13s 30ms/step - loss: 0.2115 - tp: 1931.0000 - fp: 20.0000 - tn: 2431.0000 - fn: 29.0000 - accuracy: 0.9889 - precision: 0.9897 - recall: 0.9852 - auc: 0.9992 - prc: 0.9992 - val_loss: 0.1809 - val_tp: 491.0000 - val_fp: 0.0000e+00 - val_tn: 0.0000e+00 - val_fn: 0.0000e+00 - val_accuracy: 1.0000 - val_precision: 1.0000 - val_recall: 1.0000 - val_auc: 0.0000e+00 - val_prc: 1.0000 - lr: 1.0000e-04\n",
      "Epoch 75/100\n",
      "442/442 [==============================] - 13s 30ms/step - loss: 0.2078 - tp: 1934.0000 - fp: 18.0000 - tn: 2433.0000 - fn: 26.0000 - accuracy: 0.9900 - precision: 0.9908 - recall: 0.9867 - auc: 0.9995 - prc: 0.9994 - val_loss: 0.1788 - val_tp: 491.0000 - val_fp: 0.0000e+00 - val_tn: 0.0000e+00 - val_fn: 0.0000e+00 - val_accuracy: 1.0000 - val_precision: 1.0000 - val_recall: 1.0000 - val_auc: 0.0000e+00 - val_prc: 1.0000 - lr: 1.0000e-04\n",
      "Epoch 76/100\n",
      "442/442 [==============================] - 13s 29ms/step - loss: 0.2049 - tp: 1937.0000 - fp: 18.0000 - tn: 2433.0000 - fn: 23.0000 - accuracy: 0.9907 - precision: 0.9908 - recall: 0.9883 - auc: 0.9991 - prc: 0.9988 - val_loss: 0.1761 - val_tp: 491.0000 - val_fp: 0.0000e+00 - val_tn: 0.0000e+00 - val_fn: 0.0000e+00 - val_accuracy: 1.0000 - val_precision: 1.0000 - val_recall: 1.0000 - val_auc: 0.0000e+00 - val_prc: 1.0000 - lr: 1.0000e-04\n",
      "Epoch 77/100\n",
      "442/442 [==============================] - 13s 30ms/step - loss: 0.2033 - tp: 1930.0000 - fp: 17.0000 - tn: 2434.0000 - fn: 30.0000 - accuracy: 0.9893 - precision: 0.9913 - recall: 0.9847 - auc: 0.9995 - prc: 0.9994 - val_loss: 0.1742 - val_tp: 491.0000 - val_fp: 0.0000e+00 - val_tn: 0.0000e+00 - val_fn: 0.0000e+00 - val_accuracy: 1.0000 - val_precision: 1.0000 - val_recall: 1.0000 - val_auc: 0.0000e+00 - val_prc: 1.0000 - lr: 1.0000e-04\n",
      "Epoch 78/100\n",
      "442/442 [==============================] - 13s 29ms/step - loss: 0.1913 - tp: 1947.0000 - fp: 14.0000 - tn: 2437.0000 - fn: 13.0000 - accuracy: 0.9939 - precision: 0.9929 - recall: 0.9934 - auc: 0.9998 - prc: 0.9997 - val_loss: 0.1716 - val_tp: 491.0000 - val_fp: 0.0000e+00 - val_tn: 0.0000e+00 - val_fn: 0.0000e+00 - val_accuracy: 1.0000 - val_precision: 1.0000 - val_recall: 1.0000 - val_auc: 0.0000e+00 - val_prc: 1.0000 - lr: 1.0000e-04\n",
      "Epoch 79/100\n",
      "442/442 [==============================] - 13s 29ms/step - loss: 0.1953 - tp: 1936.0000 - fp: 18.0000 - tn: 2433.0000 - fn: 24.0000 - accuracy: 0.9905 - precision: 0.9908 - recall: 0.9878 - auc: 0.9994 - prc: 0.9994 - val_loss: 0.1690 - val_tp: 491.0000 - val_fp: 0.0000e+00 - val_tn: 0.0000e+00 - val_fn: 0.0000e+00 - val_accuracy: 1.0000 - val_precision: 1.0000 - val_recall: 1.0000 - val_auc: 0.0000e+00 - val_prc: 1.0000 - lr: 1.0000e-04\n",
      "Epoch 80/100\n",
      "442/442 [==============================] - 12s 28ms/step - loss: 0.1993 - tp: 1932.0000 - fp: 19.0000 - tn: 2432.0000 - fn: 28.0000 - accuracy: 0.9893 - precision: 0.9903 - recall: 0.9857 - auc: 0.9992 - prc: 0.9991 - val_loss: 0.1677 - val_tp: 491.0000 - val_fp: 0.0000e+00 - val_tn: 0.0000e+00 - val_fn: 0.0000e+00 - val_accuracy: 1.0000 - val_precision: 1.0000 - val_recall: 1.0000 - val_auc: 0.0000e+00 - val_prc: 1.0000 - lr: 1.0000e-04\n",
      "Epoch 81/100\n",
      "442/442 [==============================] - 9s 20ms/step - loss: 0.1954 - tp: 1937.0000 - fp: 18.0000 - tn: 2433.0000 - fn: 23.0000 - accuracy: 0.9907 - precision: 0.9908 - recall: 0.9883 - auc: 0.9993 - prc: 0.9992 - val_loss: 0.1659 - val_tp: 491.0000 - val_fp: 0.0000e+00 - val_tn: 0.0000e+00 - val_fn: 0.0000e+00 - val_accuracy: 1.0000 - val_precision: 1.0000 - val_recall: 1.0000 - val_auc: 0.0000e+00 - val_prc: 1.0000 - lr: 1.0000e-04\n",
      "Epoch 82/100\n",
      "442/442 [==============================] - 9s 20ms/step - loss: 0.1887 - tp: 1937.0000 - fp: 17.0000 - tn: 2434.0000 - fn: 23.0000 - accuracy: 0.9909 - precision: 0.9913 - recall: 0.9883 - auc: 0.9994 - prc: 0.9994 - val_loss: 0.1635 - val_tp: 491.0000 - val_fp: 0.0000e+00 - val_tn: 0.0000e+00 - val_fn: 0.0000e+00 - val_accuracy: 1.0000 - val_precision: 1.0000 - val_recall: 1.0000 - val_auc: 0.0000e+00 - val_prc: 1.0000 - lr: 1.0000e-04\n",
      "Epoch 83/100\n",
      "442/442 [==============================] - 9s 20ms/step - loss: 0.1792 - tp: 1946.0000 - fp: 13.0000 - tn: 2438.0000 - fn: 14.0000 - accuracy: 0.9939 - precision: 0.9934 - recall: 0.9929 - auc: 0.9996 - prc: 0.9996 - val_loss: 0.1606 - val_tp: 491.0000 - val_fp: 0.0000e+00 - val_tn: 0.0000e+00 - val_fn: 0.0000e+00 - val_accuracy: 1.0000 - val_precision: 1.0000 - val_recall: 1.0000 - val_auc: 0.0000e+00 - val_prc: 1.0000 - lr: 1.0000e-04\n",
      "Epoch 84/100\n",
      "442/442 [==============================] - 9s 21ms/step - loss: 0.1872 - tp: 1937.0000 - fp: 16.0000 - tn: 2435.0000 - fn: 23.0000 - accuracy: 0.9912 - precision: 0.9918 - recall: 0.9883 - auc: 0.9991 - prc: 0.9988 - val_loss: 0.1591 - val_tp: 491.0000 - val_fp: 0.0000e+00 - val_tn: 0.0000e+00 - val_fn: 0.0000e+00 - val_accuracy: 1.0000 - val_precision: 1.0000 - val_recall: 1.0000 - val_auc: 0.0000e+00 - val_prc: 1.0000 - lr: 1.0000e-04\n",
      "Epoch 85/100\n",
      "442/442 [==============================] - 10s 22ms/step - loss: 0.1794 - tp: 1940.0000 - fp: 18.0000 - tn: 2433.0000 - fn: 20.0000 - accuracy: 0.9914 - precision: 0.9908 - recall: 0.9898 - auc: 0.9997 - prc: 0.9996 - val_loss: 0.1567 - val_tp: 491.0000 - val_fp: 0.0000e+00 - val_tn: 0.0000e+00 - val_fn: 0.0000e+00 - val_accuracy: 1.0000 - val_precision: 1.0000 - val_recall: 1.0000 - val_auc: 0.0000e+00 - val_prc: 1.0000 - lr: 1.0000e-04\n",
      "Epoch 86/100\n",
      "442/442 [==============================] - 10s 22ms/step - loss: 0.1718 - tp: 1942.0000 - fp: 15.0000 - tn: 2436.0000 - fn: 18.0000 - accuracy: 0.9925 - precision: 0.9923 - recall: 0.9908 - auc: 0.9998 - prc: 0.9998 - val_loss: 0.1548 - val_tp: 491.0000 - val_fp: 0.0000e+00 - val_tn: 0.0000e+00 - val_fn: 0.0000e+00 - val_accuracy: 1.0000 - val_precision: 1.0000 - val_recall: 1.0000 - val_auc: 0.0000e+00 - val_prc: 1.0000 - lr: 1.0000e-04\n",
      "Epoch 87/100\n",
      "442/442 [==============================] - 10s 22ms/step - loss: 0.1797 - tp: 1937.0000 - fp: 19.0000 - tn: 2432.0000 - fn: 23.0000 - accuracy: 0.9905 - precision: 0.9903 - recall: 0.9883 - auc: 0.9987 - prc: 0.9985 - val_loss: 0.1530 - val_tp: 491.0000 - val_fp: 0.0000e+00 - val_tn: 0.0000e+00 - val_fn: 0.0000e+00 - val_accuracy: 1.0000 - val_precision: 1.0000 - val_recall: 1.0000 - val_auc: 0.0000e+00 - val_prc: 1.0000 - lr: 1.0000e-04\n",
      "Epoch 88/100\n",
      "442/442 [==============================] - 10s 22ms/step - loss: 0.1798 - tp: 1934.0000 - fp: 19.0000 - tn: 2432.0000 - fn: 26.0000 - accuracy: 0.9898 - precision: 0.9903 - recall: 0.9867 - auc: 0.9990 - prc: 0.9991 - val_loss: 0.1521 - val_tp: 491.0000 - val_fp: 0.0000e+00 - val_tn: 0.0000e+00 - val_fn: 0.0000e+00 - val_accuracy: 1.0000 - val_precision: 1.0000 - val_recall: 1.0000 - val_auc: 0.0000e+00 - val_prc: 1.0000 - lr: 1.0000e-04\n",
      "Epoch 89/100\n",
      "442/442 [==============================] - 10s 22ms/step - loss: 0.1751 - tp: 1936.0000 - fp: 18.0000 - tn: 2433.0000 - fn: 24.0000 - accuracy: 0.9905 - precision: 0.9908 - recall: 0.9878 - auc: 0.9994 - prc: 0.9994 - val_loss: 0.1502 - val_tp: 491.0000 - val_fp: 0.0000e+00 - val_tn: 0.0000e+00 - val_fn: 0.0000e+00 - val_accuracy: 1.0000 - val_precision: 1.0000 - val_recall: 1.0000 - val_auc: 0.0000e+00 - val_prc: 1.0000 - lr: 1.0000e-04\n",
      "Epoch 90/100\n",
      "442/442 [==============================] - 10s 22ms/step - loss: 0.1722 - tp: 1937.0000 - fp: 20.0000 - tn: 2431.0000 - fn: 23.0000 - accuracy: 0.9903 - precision: 0.9898 - recall: 0.9883 - auc: 0.9997 - prc: 0.9996 - val_loss: 0.1485 - val_tp: 491.0000 - val_fp: 0.0000e+00 - val_tn: 0.0000e+00 - val_fn: 0.0000e+00 - val_accuracy: 1.0000 - val_precision: 1.0000 - val_recall: 1.0000 - val_auc: 0.0000e+00 - val_prc: 1.0000 - lr: 1.0000e-04\n",
      "Epoch 91/100\n",
      "442/442 [==============================] - 10s 22ms/step - loss: 0.1700 - tp: 1939.0000 - fp: 19.0000 - tn: 2432.0000 - fn: 21.0000 - accuracy: 0.9909 - precision: 0.9903 - recall: 0.9893 - auc: 0.9995 - prc: 0.9995 - val_loss: 0.1470 - val_tp: 491.0000 - val_fp: 0.0000e+00 - val_tn: 0.0000e+00 - val_fn: 0.0000e+00 - val_accuracy: 1.0000 - val_precision: 1.0000 - val_recall: 1.0000 - val_auc: 0.0000e+00 - val_prc: 1.0000 - lr: 1.0000e-04\n",
      "Epoch 92/100\n",
      "442/442 [==============================] - 10s 22ms/step - loss: 0.1604 - tp: 1949.0000 - fp: 8.0000 - tn: 2443.0000 - fn: 11.0000 - accuracy: 0.9957 - precision: 0.9959 - recall: 0.9944 - auc: 0.9994 - prc: 0.9995 - val_loss: 0.1448 - val_tp: 491.0000 - val_fp: 0.0000e+00 - val_tn: 0.0000e+00 - val_fn: 0.0000e+00 - val_accuracy: 1.0000 - val_precision: 1.0000 - val_recall: 1.0000 - val_auc: 0.0000e+00 - val_prc: 1.0000 - lr: 1.0000e-04\n",
      "Epoch 93/100\n",
      "442/442 [==============================] - 10s 22ms/step - loss: 0.1685 - tp: 1937.0000 - fp: 21.0000 - tn: 2430.0000 - fn: 23.0000 - accuracy: 0.9900 - precision: 0.9893 - recall: 0.9883 - auc: 0.9996 - prc: 0.9996 - val_loss: 0.1437 - val_tp: 491.0000 - val_fp: 0.0000e+00 - val_tn: 0.0000e+00 - val_fn: 0.0000e+00 - val_accuracy: 1.0000 - val_precision: 1.0000 - val_recall: 1.0000 - val_auc: 0.0000e+00 - val_prc: 1.0000 - lr: 1.0000e-04\n",
      "Epoch 94/100\n",
      "442/442 [==============================] - 10s 22ms/step - loss: 0.1615 - tp: 1943.0000 - fp: 13.0000 - tn: 2438.0000 - fn: 17.0000 - accuracy: 0.9932 - precision: 0.9934 - recall: 0.9913 - auc: 0.9998 - prc: 0.9997 - val_loss: 0.1423 - val_tp: 491.0000 - val_fp: 0.0000e+00 - val_tn: 0.0000e+00 - val_fn: 0.0000e+00 - val_accuracy: 1.0000 - val_precision: 1.0000 - val_recall: 1.0000 - val_auc: 0.0000e+00 - val_prc: 1.0000 - lr: 1.0000e-04\n",
      "Epoch 95/100\n",
      "442/442 [==============================] - 10s 22ms/step - loss: 0.1599 - tp: 1942.0000 - fp: 12.0000 - tn: 2439.0000 - fn: 18.0000 - accuracy: 0.9932 - precision: 0.9939 - recall: 0.9908 - auc: 0.9995 - prc: 0.9996 - val_loss: 0.1403 - val_tp: 491.0000 - val_fp: 0.0000e+00 - val_tn: 0.0000e+00 - val_fn: 0.0000e+00 - val_accuracy: 1.0000 - val_precision: 1.0000 - val_recall: 1.0000 - val_auc: 0.0000e+00 - val_prc: 1.0000 - lr: 1.0000e-04\n",
      "Epoch 96/100\n",
      "442/442 [==============================] - 10s 22ms/step - loss: 0.1551 - tp: 1951.0000 - fp: 10.0000 - tn: 2441.0000 - fn: 9.0000 - accuracy: 0.9957 - precision: 0.9949 - recall: 0.9954 - auc: 0.9995 - prc: 0.9988 - val_loss: 0.1387 - val_tp: 491.0000 - val_fp: 0.0000e+00 - val_tn: 0.0000e+00 - val_fn: 0.0000e+00 - val_accuracy: 1.0000 - val_precision: 1.0000 - val_recall: 1.0000 - val_auc: 0.0000e+00 - val_prc: 1.0000 - lr: 1.0000e-04\n",
      "Epoch 97/100\n",
      "442/442 [==============================] - 10s 22ms/step - loss: 0.1579 - tp: 1948.0000 - fp: 8.0000 - tn: 2443.0000 - fn: 12.0000 - accuracy: 0.9955 - precision: 0.9959 - recall: 0.9939 - auc: 0.9989 - prc: 0.9984 - val_loss: 0.1375 - val_tp: 491.0000 - val_fp: 0.0000e+00 - val_tn: 0.0000e+00 - val_fn: 0.0000e+00 - val_accuracy: 1.0000 - val_precision: 1.0000 - val_recall: 1.0000 - val_auc: 0.0000e+00 - val_prc: 1.0000 - lr: 1.0000e-04\n",
      "Epoch 98/100\n",
      "442/442 [==============================] - 10s 22ms/step - loss: 0.1673 - tp: 1935.0000 - fp: 22.0000 - tn: 2429.0000 - fn: 25.0000 - accuracy: 0.9893 - precision: 0.9888 - recall: 0.9872 - auc: 0.9989 - prc: 0.9990 - val_loss: 0.1375 - val_tp: 491.0000 - val_fp: 0.0000e+00 - val_tn: 0.0000e+00 - val_fn: 0.0000e+00 - val_accuracy: 1.0000 - val_precision: 1.0000 - val_recall: 1.0000 - val_auc: 0.0000e+00 - val_prc: 1.0000 - lr: 1.0000e-04\n",
      "Epoch 99/100\n",
      "442/442 [==============================] - 10s 22ms/step - loss: 0.1472 - tp: 1948.0000 - fp: 8.0000 - tn: 2443.0000 - fn: 12.0000 - accuracy: 0.9955 - precision: 0.9959 - recall: 0.9939 - auc: 0.9999 - prc: 0.9999 - val_loss: 0.1357 - val_tp: 491.0000 - val_fp: 0.0000e+00 - val_tn: 0.0000e+00 - val_fn: 0.0000e+00 - val_accuracy: 1.0000 - val_precision: 1.0000 - val_recall: 1.0000 - val_auc: 0.0000e+00 - val_prc: 1.0000 - lr: 1.0000e-04\n",
      "Epoch 100/100\n",
      "442/442 [==============================] - 10s 22ms/step - loss: 0.1619 - tp: 1937.0000 - fp: 18.0000 - tn: 2433.0000 - fn: 23.0000 - accuracy: 0.9907 - precision: 0.9908 - recall: 0.9883 - auc: 0.9990 - prc: 0.9980 - val_loss: 0.1353 - val_tp: 491.0000 - val_fp: 0.0000e+00 - val_tn: 0.0000e+00 - val_fn: 0.0000e+00 - val_accuracy: 1.0000 - val_precision: 1.0000 - val_recall: 1.0000 - val_auc: 0.0000e+00 - val_prc: 1.0000 - lr: 1.0000e-04\n"
     ]
    }
   ],
   "source": [
    "history = model.fit(X_train_reshaped, y_train_balanced, epochs=100, batch_size=10, verbose=1, validation_split=0.1, callbacks=[reduce_lr,early_st])"
   ]
  },
  {
   "cell_type": "markdown",
   "metadata": {
    "id": "5hF9EG1dX6xZ"
   },
   "source": [
    "# Evaluate the model"
   ]
  },
  {
   "cell_type": "code",
   "execution_count": 47,
   "metadata": {
    "colab": {
     "base_uri": "https://localhost:8080/"
    },
    "id": "ux5k-LYLl3GF",
    "outputId": "9b3adf84-fbbf-4f70-a11f-5b0c20ad214b"
   },
   "outputs": [
    {
     "name": "stdout",
     "output_type": "stream",
     "text": [
      "24/24 [==============================] - 0s 10ms/step\n",
      "[[  0 614]\n",
      " [  0 145]]\n"
     ]
    }
   ],
   "source": [
    "y_pred  = model.predict(X_test_reshaped)\n",
    "y_pred = (y_pred>0.5)\n",
    "cm = confusion_matrix(y_test, y_pred)\n",
    "print(cm)"
   ]
  },
  {
   "cell_type": "code",
   "execution_count": 48,
   "metadata": {
    "colab": {
     "base_uri": "https://localhost:8080/"
    },
    "id": "iur6Wu4oZ5dI",
    "outputId": "231db9db-52e6-4fb7-903e-d6254bf5191b"
   },
   "outputs": [
    {
     "name": "stdout",
     "output_type": "stream",
     "text": [
      "balanced acuracy: 0.5\n"
     ]
    }
   ],
   "source": [
    "print(\"balanced acuracy:\", balanced_accuracy_score(y_test, y_pred))"
   ]
  },
  {
   "cell_type": "code",
   "execution_count": 49,
   "metadata": {
    "colab": {
     "base_uri": "https://localhost:8080/"
    },
    "id": "zkQ55Zm7l3D2",
    "outputId": "84b0f0b5-83c4-4631-ec8a-96f9ef5e9893"
   },
   "outputs": [
    {
     "name": "stdout",
     "output_type": "stream",
     "text": [
      "              precision    recall  f1-score   support\n",
      "\n",
      "           0       0.00      0.00      0.00       614\n",
      "           1       0.19      1.00      0.32       145\n",
      "\n",
      "    accuracy                           0.19       759\n",
      "   macro avg       0.10      0.50      0.16       759\n",
      "weighted avg       0.04      0.19      0.06       759\n",
      "\n",
      "  1/491 [..............................] - ETA: 12s"
     ]
    },
    {
     "name": "stderr",
     "output_type": "stream",
     "text": [
      "/home/hpinto/.local/lib/python3.9/site-packages/sklearn/metrics/_classification.py:1531: UndefinedMetricWarning: Precision is ill-defined and being set to 0.0 in labels with no predicted samples. Use `zero_division` parameter to control this behavior.\n",
      "  _warn_prf(average, modifier, f\"{metric.capitalize()} is\", len(result))\n",
      "/home/hpinto/.local/lib/python3.9/site-packages/sklearn/metrics/_classification.py:1531: UndefinedMetricWarning: Precision is ill-defined and being set to 0.0 in labels with no predicted samples. Use `zero_division` parameter to control this behavior.\n",
      "  _warn_prf(average, modifier, f\"{metric.capitalize()} is\", len(result))\n",
      "/home/hpinto/.local/lib/python3.9/site-packages/sklearn/metrics/_classification.py:1531: UndefinedMetricWarning: Precision is ill-defined and being set to 0.0 in labels with no predicted samples. Use `zero_division` parameter to control this behavior.\n",
      "  _warn_prf(average, modifier, f\"{metric.capitalize()} is\", len(result))\n"
     ]
    },
    {
     "name": "stdout",
     "output_type": "stream",
     "text": [
      "491/491 [==============================] - 2s 5ms/step\n",
      "76/76 [==============================] - 0s 4ms/step\n",
      "loss :  0.9765756726264954\n",
      "tp :  145.0\n",
      "fp :  614.0\n",
      "tn :  0.0\n",
      "fn :  0.0\n",
      "accuracy :  0.19104084372520447\n",
      "precision :  0.19104084372520447\n",
      "recall :  1.0\n",
      "auc :  0.5829495787620544\n",
      "prc :  0.359558641910553\n",
      "\n"
     ]
    }
   ],
   "source": [
    "target_names=[\"0\",\"1\"]\n",
    "print(classification_report(y_test, y_pred, target_names=target_names))\n",
    "\n",
    "train_predictions_baseline = model.predict(X_train_reshaped, batch_size=10)\n",
    "test_predictions_baseline = model.predict(X_test_reshaped, batch_size=10)\n",
    "\n",
    "baseline_results = model.evaluate(X_test_reshaped, y_test, verbose=0)\n",
    "for name, value in zip(model.metrics_names, baseline_results):\n",
    "  print(name, ': ', value)\n",
    "print()"
   ]
  },
  {
   "cell_type": "code",
   "execution_count": 50,
   "metadata": {
    "colab": {
     "base_uri": "https://localhost:8080/",
     "height": 1000
    },
    "id": "YzVQLd_Xl3B1",
    "outputId": "9c31a90d-c136-45d1-ed85-f5c01ad9be36"
   },
   "outputs": [
    {
     "data": {
      "image/png": "[encoded data removed]",
      "text/plain": [
       "<Figure size 1200x1000 with 1 Axes>"
      ]
     },
     "metadata": {},
     "output_type": "display_data"
    },
    {
     "data": {
      "image/png": "[encoded data removed]",
      "text/plain": [
       "<Figure size 1200x1000 with 1 Axes>"
      ]
     },
     "metadata": {},
     "output_type": "display_data"
    }
   ],
   "source": [
    "plt.rcParams['figure.figsize'] = (12, 10)\n",
    "plt.rcParams.update({'font.size': 17})\n",
    "colors = plt.rcParams['axes.prop_cycle'].by_key()['color']\n",
    "\n",
    "def plot_roc(name, labels, predictions, **kwargs):\n",
    "  fp, tp, _ = sklearn.metrics.roc_curve(labels, predictions)\n",
    "\n",
    "  plt.plot(fp, tp, label=name, linewidth=2, **kwargs)\n",
    "  plt.plot([0, 1], [0, 1], 'k--')\n",
    "  plt.title('E. coli CNN')\n",
    "  plt.xlabel('False positives [%]')\n",
    "  plt.ylabel('True positives [%]')\n",
    "  plt.title('S. aureus AUROC')\n",
    "\n",
    "  plt.grid(True)\n",
    "  ax = plt.gca()\n",
    "  ax.set_aspect('equal')\n",
    "plot_roc(\"Ciprofloxacin               AUROC: %0.2f\" % baseline_results[8], y_test, test_predictions_baseline, color=colors[0])\n",
    "\n",
    "plt.legend(loc='lower right')\n",
    "plt.savefig('s_aureus_auroc.png', bbox_inches='tight')\n",
    "plt.show()\n",
    "\n",
    "def plot_prc(name, labels, predictions, **kwargs):\n",
    "    precision, recall, _ = sklearn.metrics.precision_recall_curve(labels, predictions)\n",
    "\n",
    "    plt.plot(precision, recall, label=name, linewidth=2, **kwargs)\n",
    "    plt.title('S. aureus AUPRC')\n",
    "    plt.xlabel('Recall')\n",
    "    plt.ylabel('Precision')\n",
    "    plt.plot([1, 0], [0, 1], 'k--')\n",
    "    plt.grid(True)\n",
    "    ax = plt.gca()\n",
    "    ax.set_aspect('equal')\n",
    "\n",
    "plot_prc(\"Ciprofloxacin        AUPRC: %0.2f\" % baseline_results[9], y_test, test_predictions_baseline, color=colors[0])\n",
    "\n",
    "plt.legend(loc='upper right')\n",
    "plt.savefig('s_aureus_auprc.png', bbox_inches='tight')\n",
    "plt.show()"
   ]
  }
 ],
 "metadata": {
  "accelerator": "GPU",
  "colab": {
   "provenance": []
  },
  "gpuClass": "standard",
  "kernelspec": {
   "display_name": "Python 3",
   "language": "python",
   "name": "python3"
  },
  "language_info": {
   "codemirror_mode": {
    "name": "ipython",
    "version": 3
   },
   "file_extension": ".py",
   "mimetype": "text/x-python",
   "name": "python",
   "nbconvert_exporter": "python",
   "pygments_lexer": "ipython3",
   "version": "3.11.5"
  }
 },
 "nbformat": 4,
 "nbformat_minor": 0
}
