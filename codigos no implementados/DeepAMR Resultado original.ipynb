{
  "cells": [
    {
      "cell_type": "markdown",
      "metadata": {
        "id": "LNNFUJODXA9C"
      },
      "source": [
        "# 0-Libraries"
      ]
    },
    {
      "cell_type": "code",
      "execution_count": 3,
      "metadata": {
        "id": "W1quzgr-ao8A"
      },
      "outputs": [],
      "source": [
        "import numpy as np\n",
        "import matplotlib.pyplot as plt\n",
        "import itertools\n",
        "import pandas as pd\n",
        "import sklearn\n",
        "from sklearn.model_selection import train_test_split\n",
        "from sklearn.metrics import confusion_matrix,classification_report,ConfusionMatrixDisplay, balanced_accuracy_score\n",
        "#from sklearn.preprocessing import LabelEncoder, OneHotEncoder\n",
        "from sklearn.compose import ColumnTransformer\n",
        "from sklearn.preprocessing import Normalizer, StandardScaler, MinMaxScaler, MaxAbsScaler, RobustScaler, QuantileTransformer, PowerTransformer\n",
        "import tensorflow as tf\n",
        "from tensorflow import keras\n",
        "from keras import regularizers\n",
        "from keras.optimizers import Adam\n",
        "#from keras.backend import expand_dims\n",
        "from keras.callbacks import ReduceLROnPlateau, EarlyStopping\n",
        "from keras.models import Sequential\n",
        "from keras.constraints import MaxNorm\n",
        "from keras.layers import Activation, Dense, Conv1D, Flatten, MaxPooling1D, Dropout, BatchNormalization, SpatialDropout1D"
      ]
    },
    {
      "cell_type": "code",
      "execution_count": 4,
      "metadata": {
        "id": "gy_ErAtqkxgt"
      },
      "outputs": [
        {
          "name": "stderr",
          "output_type": "stream",
          "text": [
            "2024-12-16 21:39:42.506368: I tensorflow/core/platform/cpu_feature_guard.cc:193] This TensorFlow binary is optimized with oneAPI Deep Neural Network Library (oneDNN) to use the following CPU instructions in performance-critical operations:  AVX2 AVX512F AVX512_VNNI FMA\n",
            "To enable them in other operations, rebuild TensorFlow with the appropriate compiler flags.\n",
            "2024-12-16 21:39:43.005914: I tensorflow/core/common_runtime/gpu/gpu_device.cc:1616] Created device /job:localhost/replica:0/task:0/device:GPU:0 with 14120 MB memory:  -> device: 0, name: NVIDIA RTX A4000, pci bus id: 0000:c3:00.0, compute capability: 8.6\n"
          ]
        }
      ],
      "source": [
        "METRICS = [\n",
        "      keras.metrics.TruePositives(name='tp'),\n",
        "      keras.metrics.FalsePositives(name='fp'),\n",
        "      keras.metrics.TrueNegatives(name='tn'),\n",
        "      keras.metrics.FalseNegatives(name='fn'),\n",
        "      keras.metrics.BinaryAccuracy(name='accuracy'),\n",
        "      keras.metrics.Precision(name='precision'),\n",
        "      keras.metrics.Recall(name='recall'),\n",
        "      keras.metrics.AUC(name='auc'),\n",
        "      keras.metrics.AUC(name='prc', curve='PR'), # precision-recall curve\n",
        "]"
      ]
    },
    {
      "cell_type": "markdown",
      "metadata": {
        "id": "N6bQjUrPXPaI"
      },
      "source": [
        "# 1- Load Data"
      ]
    },
    {
      "cell_type": "code",
      "execution_count": 5,
      "metadata": {
        "colab": {
          "base_uri": "https://localhost:8080/",
          "height": 533
        },
        "id": "UXVFQgZNaNrg",
        "outputId": "d250b076-aa61-46d9-d165-ab7a7a24aee3"
      },
      "outputs": [
        {
          "data": {
            "text/html": [
              "<div>\n",
              "<style scoped>\n",
              "    .dataframe tbody tr th:only-of-type {\n",
              "        vertical-align: middle;\n",
              "    }\n",
              "\n",
              "    .dataframe tbody tr th {\n",
              "        vertical-align: top;\n",
              "    }\n",
              "\n",
              "    .dataframe thead th {\n",
              "        text-align: right;\n",
              "    }\n",
              "</style>\n",
              "<table border=\"1\" class=\"dataframe\">\n",
              "  <thead>\n",
              "    <tr style=\"text-align: right;\">\n",
              "      <th></th>\n",
              "      <th>2000</th>\n",
              "      <th>2003</th>\n",
              "      <th>2006</th>\n",
              "      <th>2009</th>\n",
              "      <th>2012</th>\n",
              "      <th>2015</th>\n",
              "      <th>2018</th>\n",
              "      <th>2021</th>\n",
              "      <th>2024</th>\n",
              "      <th>2027</th>\n",
              "      <th>...</th>\n",
              "      <th>19991</th>\n",
              "      <th>19994</th>\n",
              "      <th>19997</th>\n",
              "      <th>code</th>\n",
              "      <th>species</th>\n",
              "      <th>Oxacillin</th>\n",
              "      <th>Clindamycin</th>\n",
              "      <th>Ceftriaxone</th>\n",
              "      <th>Ciprofloxacin</th>\n",
              "      <th>Fusidic acid</th>\n",
              "    </tr>\n",
              "  </thead>\n",
              "  <tbody>\n",
              "    <tr>\n",
              "      <th>0</th>\n",
              "      <td>951.428571</td>\n",
              "      <td>826.125000</td>\n",
              "      <td>944.857143</td>\n",
              "      <td>898.428571</td>\n",
              "      <td>1007.714286</td>\n",
              "      <td>936.000000</td>\n",
              "      <td>828.571429</td>\n",
              "      <td>812.000000</td>\n",
              "      <td>782.714286</td>\n",
              "      <td>741.625000</td>\n",
              "      <td>...</td>\n",
              "      <td>35.5</td>\n",
              "      <td>20.5</td>\n",
              "      <td>27.342857</td>\n",
              "      <td>029f0abf-1664-424f-88cb-11c9c8af2b11</td>\n",
              "      <td>Staphylococcus aureus</td>\n",
              "      <td>0.0</td>\n",
              "      <td>0.0</td>\n",
              "      <td>0.0</td>\n",
              "      <td>0.0</td>\n",
              "      <td>1.0</td>\n",
              "    </tr>\n",
              "    <tr>\n",
              "      <th>1</th>\n",
              "      <td>784.714286</td>\n",
              "      <td>701.125000</td>\n",
              "      <td>681.571429</td>\n",
              "      <td>762.142857</td>\n",
              "      <td>737.571429</td>\n",
              "      <td>733.000000</td>\n",
              "      <td>735.857143</td>\n",
              "      <td>659.571429</td>\n",
              "      <td>802.714286</td>\n",
              "      <td>554.375000</td>\n",
              "      <td>...</td>\n",
              "      <td>30.0</td>\n",
              "      <td>40.5</td>\n",
              "      <td>34.695238</td>\n",
              "      <td>08149af1-10f5-4f02-81d8-3d46d66d4a7a</td>\n",
              "      <td>Staphylococcus aureus</td>\n",
              "      <td>0.0</td>\n",
              "      <td>0.0</td>\n",
              "      <td>0.0</td>\n",
              "      <td>0.0</td>\n",
              "      <td>0.0</td>\n",
              "    </tr>\n",
              "    <tr>\n",
              "      <th>2</th>\n",
              "      <td>50.875000</td>\n",
              "      <td>89.142857</td>\n",
              "      <td>56.142857</td>\n",
              "      <td>151.285714</td>\n",
              "      <td>132.714286</td>\n",
              "      <td>110.428571</td>\n",
              "      <td>47.285714</td>\n",
              "      <td>63.428571</td>\n",
              "      <td>100.375000</td>\n",
              "      <td>52.142857</td>\n",
              "      <td>...</td>\n",
              "      <td>2.5</td>\n",
              "      <td>30.5</td>\n",
              "      <td>11.288462</td>\n",
              "      <td>08fe3876-ecee-4ddc-9aa9-a84f605757f7</td>\n",
              "      <td>Staphylococcus aureus</td>\n",
              "      <td>0.0</td>\n",
              "      <td>0.0</td>\n",
              "      <td>0.0</td>\n",
              "      <td>0.0</td>\n",
              "      <td>0.0</td>\n",
              "    </tr>\n",
              "    <tr>\n",
              "      <th>3</th>\n",
              "      <td>843.285714</td>\n",
              "      <td>816.500000</td>\n",
              "      <td>734.428571</td>\n",
              "      <td>1027.142857</td>\n",
              "      <td>979.428571</td>\n",
              "      <td>875.571429</td>\n",
              "      <td>912.142857</td>\n",
              "      <td>714.428571</td>\n",
              "      <td>945.428571</td>\n",
              "      <td>886.500000</td>\n",
              "      <td>...</td>\n",
              "      <td>15.5</td>\n",
              "      <td>8.0</td>\n",
              "      <td>20.057143</td>\n",
              "      <td>0a9fdd4b-7180-47c0-849e-cb32d46da94c</td>\n",
              "      <td>Staphylococcus aureus</td>\n",
              "      <td>0.0</td>\n",
              "      <td>0.0</td>\n",
              "      <td>0.0</td>\n",
              "      <td>0.0</td>\n",
              "      <td>0.0</td>\n",
              "    </tr>\n",
              "    <tr>\n",
              "      <th>4</th>\n",
              "      <td>307.857143</td>\n",
              "      <td>295.000000</td>\n",
              "      <td>246.714286</td>\n",
              "      <td>181.571429</td>\n",
              "      <td>258.000000</td>\n",
              "      <td>318.714286</td>\n",
              "      <td>295.714286</td>\n",
              "      <td>300.857143</td>\n",
              "      <td>278.142857</td>\n",
              "      <td>256.125000</td>\n",
              "      <td>...</td>\n",
              "      <td>25.5</td>\n",
              "      <td>32.0</td>\n",
              "      <td>24.990476</td>\n",
              "      <td>0d82f4c4-473c-49d8-8c85-e3e36e96d047</td>\n",
              "      <td>Staphylococcus aureus</td>\n",
              "      <td>1.0</td>\n",
              "      <td>0.0</td>\n",
              "      <td>1.0</td>\n",
              "      <td>1.0</td>\n",
              "      <td>0.0</td>\n",
              "    </tr>\n",
              "  </tbody>\n",
              "</table>\n",
              "<p>5 rows × 6007 columns</p>\n",
              "</div>"
            ],
            "text/plain": [
              "         2000        2003        2006         2009         2012        2015  \\\n",
              "0  951.428571  826.125000  944.857143   898.428571  1007.714286  936.000000   \n",
              "1  784.714286  701.125000  681.571429   762.142857   737.571429  733.000000   \n",
              "2   50.875000   89.142857   56.142857   151.285714   132.714286  110.428571   \n",
              "3  843.285714  816.500000  734.428571  1027.142857   979.428571  875.571429   \n",
              "4  307.857143  295.000000  246.714286   181.571429   258.000000  318.714286   \n",
              "\n",
              "         2018        2021        2024        2027  ...  19991  19994  \\\n",
              "0  828.571429  812.000000  782.714286  741.625000  ...   35.5   20.5   \n",
              "1  735.857143  659.571429  802.714286  554.375000  ...   30.0   40.5   \n",
              "2   47.285714   63.428571  100.375000   52.142857  ...    2.5   30.5   \n",
              "3  912.142857  714.428571  945.428571  886.500000  ...   15.5    8.0   \n",
              "4  295.714286  300.857143  278.142857  256.125000  ...   25.5   32.0   \n",
              "\n",
              "       19997                                  code                species  \\\n",
              "0  27.342857  029f0abf-1664-424f-88cb-11c9c8af2b11  Staphylococcus aureus   \n",
              "1  34.695238  08149af1-10f5-4f02-81d8-3d46d66d4a7a  Staphylococcus aureus   \n",
              "2  11.288462  08fe3876-ecee-4ddc-9aa9-a84f605757f7  Staphylococcus aureus   \n",
              "3  20.057143  0a9fdd4b-7180-47c0-849e-cb32d46da94c  Staphylococcus aureus   \n",
              "4  24.990476  0d82f4c4-473c-49d8-8c85-e3e36e96d047  Staphylococcus aureus   \n",
              "\n",
              "   Oxacillin  Clindamycin  Ceftriaxone  Ciprofloxacin  Fusidic acid  \n",
              "0        0.0          0.0          0.0            0.0           1.0  \n",
              "1        0.0          0.0          0.0            0.0           0.0  \n",
              "2        0.0          0.0          0.0            0.0           0.0  \n",
              "3        0.0          0.0          0.0            0.0           0.0  \n",
              "4        1.0          0.0          1.0            1.0           0.0  \n",
              "\n",
              "[5 rows x 6007 columns]"
            ]
          },
          "execution_count": 5,
          "metadata": {},
          "output_type": "execute_result"
        }
      ],
      "source": [
        "s_aureus = pd.read_csv('s_aureus_driams_a_bin3_2000_20000Da.csv')\n",
        "s_aureus.head()"
      ]
    },
    {
      "cell_type": "markdown",
      "metadata": {
        "id": "NhURWBqqXoQp"
      },
      "source": [
        "# Preprocessing Data"
      ]
    },
    {
      "cell_type": "code",
      "execution_count": 6,
      "metadata": {
        "id": "koTco5gulH3G"
      },
      "outputs": [],
      "source": [
        "s_aureus_oxacillin = s_aureus.drop(columns=['code','species', 'Clindamycin', 'Ceftriaxone', 'Ciprofloxacin', 'Fusidic acid'])\n",
        "s_aureus_oxacillin.dropna(axis=0, how=\"any\", inplace=True)"
      ]
    },
    {
      "cell_type": "code",
      "execution_count": 7,
      "metadata": {
        "colab": {
          "base_uri": "https://localhost:8080/"
        },
        "id": "orhVwzFGkic-",
        "outputId": "47c32caa-83fb-4434-9a77-32b3f4677c02"
      },
      "outputs": [
        {
          "data": {
            "text/plain": [
              "(3757, 6003)"
            ]
          },
          "execution_count": 7,
          "metadata": {},
          "output_type": "execute_result"
        }
      ],
      "source": [
        "s_aureus_ceftriaxone = s_aureus.drop(columns=['Oxacillin', 'Clindamycin', 'Ceftriaxone', 'Fusidic acid'])\n",
        "#ceftriaxone.dropna(axis=0, how=\"any\", inplace=True)\n",
        "s_aureus_ceftriaxone.dropna(axis=0, how=\"any\", inplace=True)\n",
        "s_aureus_ceftriaxone.shape"
      ]
    },
    {
      "cell_type": "code",
      "execution_count": 8,
      "metadata": {
        "colab": {
          "base_uri": "https://localhost:8080/",
          "height": 255
        },
        "id": "wZUfupfGtc7O",
        "outputId": "af1d2eac-096e-4a39-8406-586718f33d29"
      },
      "outputs": [
        {
          "data": {
            "text/html": [
              "<div>\n",
              "<style scoped>\n",
              "    .dataframe tbody tr th:only-of-type {\n",
              "        vertical-align: middle;\n",
              "    }\n",
              "\n",
              "    .dataframe tbody tr th {\n",
              "        vertical-align: top;\n",
              "    }\n",
              "\n",
              "    .dataframe thead th {\n",
              "        text-align: right;\n",
              "    }\n",
              "</style>\n",
              "<table border=\"1\" class=\"dataframe\">\n",
              "  <thead>\n",
              "    <tr style=\"text-align: right;\">\n",
              "      <th></th>\n",
              "      <th>2000</th>\n",
              "      <th>2003</th>\n",
              "      <th>2006</th>\n",
              "      <th>2009</th>\n",
              "      <th>2012</th>\n",
              "      <th>2015</th>\n",
              "      <th>2018</th>\n",
              "      <th>2021</th>\n",
              "      <th>2024</th>\n",
              "      <th>2027</th>\n",
              "      <th>...</th>\n",
              "      <th>19973</th>\n",
              "      <th>19976</th>\n",
              "      <th>19979</th>\n",
              "      <th>19982</th>\n",
              "      <th>19985</th>\n",
              "      <th>19988</th>\n",
              "      <th>19991</th>\n",
              "      <th>19994</th>\n",
              "      <th>19997</th>\n",
              "      <th>Oxacillin</th>\n",
              "    </tr>\n",
              "  </thead>\n",
              "  <tbody>\n",
              "    <tr>\n",
              "      <th>0</th>\n",
              "      <td>951.428571</td>\n",
              "      <td>826.125000</td>\n",
              "      <td>944.857143</td>\n",
              "      <td>898.428571</td>\n",
              "      <td>1007.714286</td>\n",
              "      <td>936.000000</td>\n",
              "      <td>828.571429</td>\n",
              "      <td>812.000000</td>\n",
              "      <td>782.714286</td>\n",
              "      <td>741.625000</td>\n",
              "      <td>...</td>\n",
              "      <td>14.333333</td>\n",
              "      <td>24.0</td>\n",
              "      <td>68.0</td>\n",
              "      <td>19.0</td>\n",
              "      <td>19.000000</td>\n",
              "      <td>50.0</td>\n",
              "      <td>35.5</td>\n",
              "      <td>20.5</td>\n",
              "      <td>27.342857</td>\n",
              "      <td>0.0</td>\n",
              "    </tr>\n",
              "    <tr>\n",
              "      <th>1</th>\n",
              "      <td>784.714286</td>\n",
              "      <td>701.125000</td>\n",
              "      <td>681.571429</td>\n",
              "      <td>762.142857</td>\n",
              "      <td>737.571429</td>\n",
              "      <td>733.000000</td>\n",
              "      <td>735.857143</td>\n",
              "      <td>659.571429</td>\n",
              "      <td>802.714286</td>\n",
              "      <td>554.375000</td>\n",
              "      <td>...</td>\n",
              "      <td>15.666667</td>\n",
              "      <td>39.0</td>\n",
              "      <td>19.5</td>\n",
              "      <td>42.0</td>\n",
              "      <td>69.666667</td>\n",
              "      <td>31.0</td>\n",
              "      <td>30.0</td>\n",
              "      <td>40.5</td>\n",
              "      <td>34.695238</td>\n",
              "      <td>0.0</td>\n",
              "    </tr>\n",
              "    <tr>\n",
              "      <th>2</th>\n",
              "      <td>50.875000</td>\n",
              "      <td>89.142857</td>\n",
              "      <td>56.142857</td>\n",
              "      <td>151.285714</td>\n",
              "      <td>132.714286</td>\n",
              "      <td>110.428571</td>\n",
              "      <td>47.285714</td>\n",
              "      <td>63.428571</td>\n",
              "      <td>100.375000</td>\n",
              "      <td>52.142857</td>\n",
              "      <td>...</td>\n",
              "      <td>20.666667</td>\n",
              "      <td>17.0</td>\n",
              "      <td>2.0</td>\n",
              "      <td>18.0</td>\n",
              "      <td>18.000000</td>\n",
              "      <td>11.5</td>\n",
              "      <td>2.5</td>\n",
              "      <td>30.5</td>\n",
              "      <td>11.288462</td>\n",
              "      <td>0.0</td>\n",
              "    </tr>\n",
              "    <tr>\n",
              "      <th>3</th>\n",
              "      <td>843.285714</td>\n",
              "      <td>816.500000</td>\n",
              "      <td>734.428571</td>\n",
              "      <td>1027.142857</td>\n",
              "      <td>979.428571</td>\n",
              "      <td>875.571429</td>\n",
              "      <td>912.142857</td>\n",
              "      <td>714.428571</td>\n",
              "      <td>945.428571</td>\n",
              "      <td>886.500000</td>\n",
              "      <td>...</td>\n",
              "      <td>22.333333</td>\n",
              "      <td>33.0</td>\n",
              "      <td>29.0</td>\n",
              "      <td>14.5</td>\n",
              "      <td>21.666667</td>\n",
              "      <td>24.5</td>\n",
              "      <td>15.5</td>\n",
              "      <td>8.0</td>\n",
              "      <td>20.057143</td>\n",
              "      <td>0.0</td>\n",
              "    </tr>\n",
              "    <tr>\n",
              "      <th>4</th>\n",
              "      <td>307.857143</td>\n",
              "      <td>295.000000</td>\n",
              "      <td>246.714286</td>\n",
              "      <td>181.571429</td>\n",
              "      <td>258.000000</td>\n",
              "      <td>318.714286</td>\n",
              "      <td>295.714286</td>\n",
              "      <td>300.857143</td>\n",
              "      <td>278.142857</td>\n",
              "      <td>256.125000</td>\n",
              "      <td>...</td>\n",
              "      <td>26.666667</td>\n",
              "      <td>25.5</td>\n",
              "      <td>18.0</td>\n",
              "      <td>53.5</td>\n",
              "      <td>23.000000</td>\n",
              "      <td>24.5</td>\n",
              "      <td>25.5</td>\n",
              "      <td>32.0</td>\n",
              "      <td>24.990476</td>\n",
              "      <td>1.0</td>\n",
              "    </tr>\n",
              "  </tbody>\n",
              "</table>\n",
              "<p>5 rows × 6001 columns</p>\n",
              "</div>"
            ],
            "text/plain": [
              "         2000        2003        2006         2009         2012        2015  \\\n",
              "0  951.428571  826.125000  944.857143   898.428571  1007.714286  936.000000   \n",
              "1  784.714286  701.125000  681.571429   762.142857   737.571429  733.000000   \n",
              "2   50.875000   89.142857   56.142857   151.285714   132.714286  110.428571   \n",
              "3  843.285714  816.500000  734.428571  1027.142857   979.428571  875.571429   \n",
              "4  307.857143  295.000000  246.714286   181.571429   258.000000  318.714286   \n",
              "\n",
              "         2018        2021        2024        2027  ...      19973  19976  \\\n",
              "0  828.571429  812.000000  782.714286  741.625000  ...  14.333333   24.0   \n",
              "1  735.857143  659.571429  802.714286  554.375000  ...  15.666667   39.0   \n",
              "2   47.285714   63.428571  100.375000   52.142857  ...  20.666667   17.0   \n",
              "3  912.142857  714.428571  945.428571  886.500000  ...  22.333333   33.0   \n",
              "4  295.714286  300.857143  278.142857  256.125000  ...  26.666667   25.5   \n",
              "\n",
              "   19979  19982      19985  19988  19991  19994      19997  Oxacillin  \n",
              "0   68.0   19.0  19.000000   50.0   35.5   20.5  27.342857        0.0  \n",
              "1   19.5   42.0  69.666667   31.0   30.0   40.5  34.695238        0.0  \n",
              "2    2.0   18.0  18.000000   11.5    2.5   30.5  11.288462        0.0  \n",
              "3   29.0   14.5  21.666667   24.5   15.5    8.0  20.057143        0.0  \n",
              "4   18.0   53.5  23.000000   24.5   25.5   32.0  24.990476        1.0  \n",
              "\n",
              "[5 rows x 6001 columns]"
            ]
          },
          "execution_count": 8,
          "metadata": {},
          "output_type": "execute_result"
        }
      ],
      "source": [
        "s_aureus_oxacillin.head()"
      ]
    },
    {
      "cell_type": "code",
      "execution_count": 9,
      "metadata": {
        "id": "-4dAtvUEkibF"
      },
      "outputs": [],
      "source": [
        "X = s_aureus_oxacillin.iloc[:, 0:6000].values  # variables independientes (espectros de masa)\n",
        "y = s_aureus_oxacillin.iloc[:, 6000].values    # variable dependientes (resistencia a ciprofloxacin)\n",
        "X = np.asarray(X).astype(np.float32)\n",
        "y = np.asarray(y).astype(np.float32)"
      ]
    },
    {
      "cell_type": "code",
      "execution_count": 10,
      "metadata": {},
      "outputs": [
        {
          "data": {
            "text/plain": [
              "3790"
            ]
          },
          "execution_count": 10,
          "metadata": {},
          "output_type": "execute_result"
        }
      ],
      "source": [
        "len(X)"
      ]
    },
    {
      "cell_type": "code",
      "execution_count": 11,
      "metadata": {
        "id": "ioZIrUNqlgP9"
      },
      "outputs": [],
      "source": [
        "X_train, X_test, y_train, y_test = train_test_split(X, y, test_size = 0.2, random_state = 0, stratify=y)"
      ]
    },
    {
      "cell_type": "code",
      "execution_count": 12,
      "metadata": {},
      "outputs": [
        {
          "data": {
            "text/plain": [
              "3032"
            ]
          },
          "execution_count": 12,
          "metadata": {},
          "output_type": "execute_result"
        }
      ],
      "source": [
        "len(X_train)"
      ]
    },
    {
      "cell_type": "code",
      "execution_count": 13,
      "metadata": {},
      "outputs": [
        {
          "data": {
            "text/plain": [
              "3032"
            ]
          },
          "execution_count": 13,
          "metadata": {},
          "output_type": "execute_result"
        }
      ],
      "source": [
        "len(y_train)"
      ]
    },
    {
      "cell_type": "code",
      "execution_count": 14,
      "metadata": {
        "id": "Cz1ZnhEykiY9"
      },
      "outputs": [],
      "source": [
        "scaler=Normalizer(norm='max')\n",
        "sc_X = scaler\n",
        "X_train = sc_X.fit_transform(X_train)\n",
        "X_test = sc_X.transform(X_test)"
      ]
    },
    {
      "cell_type": "code",
      "execution_count": 15,
      "metadata": {
        "id": "HiHCUFo-kiW9"
      },
      "outputs": [],
      "source": [
        "sample_size = X_train.shape[0] # numero de muestras en el set de datos\n",
        "time_steps  = X_train.shape[1] # numero de atributos en el set de datos\n",
        "input_dimension = 1            #\n",
        "\n",
        "X_train_reshaped = X_train.reshape(sample_size,time_steps,input_dimension)\n",
        "X_test_reshaped = X_test.reshape(X_test.shape[0],X_test.shape[1],1)"
      ]
    },
    {
      "cell_type": "code",
      "execution_count": 16,
      "metadata": {
        "id": "VEuHRBvAlw79"
      },
      "outputs": [],
      "source": [
        "reduce_lr = ReduceLROnPlateau(monitor='val_loss', factor=0.1, patience=3, min_lr=0.000001)\n",
        "early_st = EarlyStopping(monitor='val_loss', patience=4, restore_best_weights=True)\n",
        "\n",
        "n_timesteps = X_train_reshaped.shape[1] #\n",
        "n_features  = X_train_reshaped.shape[2] #"
      ]
    },
    {
      "cell_type": "markdown",
      "metadata": {
        "id": "hBf6W9iPXz3p"
      },
      "source": [
        "# Create and fit DeepAMR model"
      ]
    },
    {
      "cell_type": "code",
      "execution_count": 17,
      "metadata": {
        "colab": {
          "base_uri": "https://localhost:8080/",
          "height": 952
        },
        "id": "AlJHRRzlkiH9",
        "outputId": "d20e434d-8e4c-431b-a401-ac0b057ded3a"
      },
      "outputs": [
        {
          "name": "stdout",
          "output_type": "stream",
          "text": [
            "Model: \"Modelo_s_aureus_ciprofloxacin\"\n",
            "_________________________________________________________________\n",
            " Layer (type)                Output Shape              Param #   \n",
            "=================================================================\n",
            " Conv_1 (Conv1D)             (None, 5984, 64)          1152      \n",
            "                                                                 \n",
            " batch_normalization (BatchN  (None, 5984, 64)         256       \n",
            " ormalization)                                                   \n",
            "                                                                 \n",
            " activation (Activation)     (None, 5984, 64)          0         \n",
            "                                                                 \n",
            " MaxPooling1D_1 (MaxPooling1  (None, 2992, 64)         0         \n",
            " D)                                                              \n",
            "                                                                 \n",
            " Conv_2 (Conv1D)             (None, 2984, 128)         73856     \n",
            "                                                                 \n",
            " batch_normalization_1 (Batc  (None, 2984, 128)        512       \n",
            " hNormalization)                                                 \n",
            "                                                                 \n",
            " activation_1 (Activation)   (None, 2984, 128)         0         \n",
            "                                                                 \n",
            " MaxPooling1D_2 (MaxPooling1  (None, 1492, 128)        0         \n",
            " D)                                                              \n",
            "                                                                 \n",
            " Conv_3 (Conv1D)             (None, 1488, 256)         164096    \n",
            "                                                                 \n",
            " batch_normalization_2 (Batc  (None, 1488, 256)        1024      \n",
            " hNormalization)                                                 \n",
            "                                                                 \n",
            " activation_2 (Activation)   (None, 1488, 256)         0         \n",
            "                                                                 \n",
            " MaxPooling1D_3 (MaxPooling1  (None, 744, 256)         0         \n",
            " D)                                                              \n",
            "                                                                 \n",
            " Conv_4 (Conv1D)             (None, 740, 256)          327936    \n",
            "                                                                 \n",
            " batch_normalization_3 (Batc  (None, 740, 256)         1024      \n",
            " hNormalization)                                                 \n",
            "                                                                 \n",
            " activation_3 (Activation)   (None, 740, 256)          0         \n",
            "                                                                 \n",
            " MaxPooling1D_4 (MaxPooling1  (None, 370, 256)         0         \n",
            " D)                                                              \n",
            "                                                                 \n",
            " flatten (Flatten)           (None, 94720)             0         \n",
            "                                                                 \n",
            " dropout (Dropout)           (None, 94720)             0         \n",
            "                                                                 \n",
            " fully_connected_0 (Dense)   (None, 256)               24248576  \n",
            "                                                                 \n",
            " fully_connected_1 (Dense)   (None, 64)                16448     \n",
            "                                                                 \n",
            " fully_connected_2 (Dense)   (None, 64)                4160      \n",
            "                                                                 \n",
            " OUT_Layer (Dense)           (None, 1)                 65        \n",
            "                                                                 \n",
            "=================================================================\n",
            "Total params: 24,839,105\n",
            "Trainable params: 24,837,697\n",
            "Non-trainable params: 1,408\n",
            "_________________________________________________________________\n"
          ]
        }
      ],
      "source": [
        "model = Sequential(name=\"Modelo_s_aureus_ciprofloxacin\")\n",
        "init_mode = 'normal'\n",
        "model.add(Conv1D(filters=(64), kernel_size=(17), input_shape = (n_timesteps,n_features), name='Conv_1'))\n",
        "model.add(BatchNormalization())\n",
        "model.add(Activation('relu'))\n",
        "model.add(MaxPooling1D(pool_size=2, name=\"MaxPooling1D_1\"))\n",
        "\n",
        "model.add(Conv1D(filters=(128), kernel_size=(9),kernel_initializer=init_mode, kernel_regularizer=regularizers.l2(0.0001),  name='Conv_2'))\n",
        "model.add(BatchNormalization())\n",
        "model.add(Activation('relu'))\n",
        "model.add(MaxPooling1D(pool_size=2, name=\"MaxPooling1D_2\"))\n",
        "\n",
        "model.add(Conv1D(filters=(256), kernel_size=(5),kernel_initializer=init_mode,kernel_regularizer=regularizers.l2(0.0001),   name='Conv_3'))\n",
        "model.add(BatchNormalization())\n",
        "model.add(Activation('relu'))\n",
        "model.add(MaxPooling1D(pool_size=2, name=\"MaxPooling1D_3\"))\n",
        "\n",
        "model.add(Conv1D(filters=(256), kernel_size=(5),kernel_initializer=init_mode, kernel_regularizer=regularizers.l2(0.0001),   name='Conv_4'))\n",
        "model.add(BatchNormalization())\n",
        "model.add(Activation('relu'))\n",
        "model.add(MaxPooling1D(pool_size=2, name=\"MaxPooling1D_4\"))\n",
        "\n",
        "model.add(Flatten())\n",
        "model.add(Dropout(0.65))\n",
        "model.add(Dense(256, activation='relu',kernel_initializer=init_mode, kernel_regularizer=regularizers.l2(0.0001), name=\"fully_connected_0\"))\n",
        "model.add(Dense(64, activation='relu',kernel_initializer=init_mode, kernel_regularizer=regularizers.l2(0.0001), name=\"fully_connected_1\"))\n",
        "model.add(Dense(64, activation='relu',kernel_initializer=init_mode, kernel_regularizer=regularizers.l2(0.0001),  name=\"fully_connected_2\"))\n",
        "model.add(Dense(n_features, activation='sigmoid', name=\"OUT_Layer\"))\n",
        "\n",
        "model.compile(optimizer = Adam(learning_rate=0.0001), loss = 'binary_crossentropy',  metrics=METRICS)\n",
        "model.summary()"
      ]
    },
    {
      "cell_type": "code",
      "execution_count": 18,
      "metadata": {
        "colab": {
          "base_uri": "https://localhost:8080/"
        },
        "id": "lDksoJagl3H9",
        "outputId": "b244d4a7-0b9c-4b4e-cb2a-f5159586c644"
      },
      "outputs": [
        {
          "name": "stdout",
          "output_type": "stream",
          "text": [
            "Epoch 1/100\n"
          ]
        },
        {
          "name": "stderr",
          "output_type": "stream",
          "text": [
            "2024-12-16 21:39:50.241294: I tensorflow/stream_executor/cuda/cuda_dnn.cc:384] Loaded cuDNN version 8800\n",
            "2024-12-16 21:39:50.263040: I tensorflow/core/platform/default/subprocess.cc:304] Start cannot spawn child process: No such file or directory\n",
            "2024-12-16 21:39:50.365655: I tensorflow/stream_executor/cuda/cuda_blas.cc:1614] TensorFloat-32 will be used for the matrix multiplication. This will only be logged once.\n"
          ]
        },
        {
          "name": "stdout",
          "output_type": "stream",
          "text": [
            "273/273 [==============================] - 9s 25ms/step - loss: 6.2890 - tp: 51.0000 - fp: 125.0000 - tn: 2078.0000 - fn: 474.0000 - accuracy: 0.7804 - precision: 0.2898 - recall: 0.0971 - auc: 0.5992 - prc: 0.2547 - val_loss: 5.8957 - val_tp: 0.0000e+00 - val_fp: 0.0000e+00 - val_tn: 248.0000 - val_fn: 56.0000 - val_accuracy: 0.8158 - val_precision: 0.0000e+00 - val_recall: 0.0000e+00 - val_auc: 0.6931 - val_prc: 0.4366 - lr: 1.0000e-04\n",
            "Epoch 2/100\n",
            "273/273 [==============================] - 6s 22ms/step - loss: 5.6117 - tp: 49.0000 - fp: 58.0000 - tn: 2145.0000 - fn: 476.0000 - accuracy: 0.8043 - precision: 0.4579 - recall: 0.0933 - auc: 0.6753 - prc: 0.3230 - val_loss: 5.3632 - val_tp: 0.0000e+00 - val_fp: 0.0000e+00 - val_tn: 248.0000 - val_fn: 56.0000 - val_accuracy: 0.8158 - val_precision: 0.0000e+00 - val_recall: 0.0000e+00 - val_auc: 0.7240 - val_prc: 0.4089 - lr: 1.0000e-04\n",
            "Epoch 3/100\n",
            "273/273 [==============================] - 6s 22ms/step - loss: 5.1579 - tp: 66.0000 - fp: 56.0000 - tn: 2147.0000 - fn: 459.0000 - accuracy: 0.8112 - precision: 0.5410 - recall: 0.1257 - auc: 0.7138 - prc: 0.3813 - val_loss: 4.9071 - val_tp: 8.0000 - val_fp: 3.0000 - val_tn: 245.0000 - val_fn: 48.0000 - val_accuracy: 0.8322 - val_precision: 0.7273 - val_recall: 0.1429 - val_auc: 0.8454 - val_prc: 0.5695 - lr: 1.0000e-04\n",
            "Epoch 4/100\n",
            "273/273 [==============================] - 6s 22ms/step - loss: 4.7660 - tp: 123.0000 - fp: 70.0000 - tn: 2133.0000 - fn: 402.0000 - accuracy: 0.8270 - precision: 0.6373 - recall: 0.2343 - auc: 0.7633 - prc: 0.4806 - val_loss: 4.5400 - val_tp: 16.0000 - val_fp: 5.0000 - val_tn: 243.0000 - val_fn: 40.0000 - val_accuracy: 0.8520 - val_precision: 0.7619 - val_recall: 0.2857 - val_auc: 0.8597 - val_prc: 0.6285 - lr: 1.0000e-04\n",
            "Epoch 5/100\n",
            "273/273 [==============================] - 6s 22ms/step - loss: 4.4323 - tp: 147.0000 - fp: 80.0000 - tn: 2123.0000 - fn: 378.0000 - accuracy: 0.8321 - precision: 0.6476 - recall: 0.2800 - auc: 0.7908 - prc: 0.5203 - val_loss: 4.2225 - val_tp: 12.0000 - val_fp: 4.0000 - val_tn: 244.0000 - val_fn: 44.0000 - val_accuracy: 0.8421 - val_precision: 0.7500 - val_recall: 0.2143 - val_auc: 0.8762 - val_prc: 0.6516 - lr: 1.0000e-04\n",
            "Epoch 6/100\n",
            "273/273 [==============================] - 6s 22ms/step - loss: 4.1241 - tp: 184.0000 - fp: 94.0000 - tn: 2109.0000 - fn: 341.0000 - accuracy: 0.8405 - precision: 0.6619 - recall: 0.3505 - auc: 0.8101 - prc: 0.5718 - val_loss: 3.9533 - val_tp: 31.0000 - val_fp: 14.0000 - val_tn: 234.0000 - val_fn: 25.0000 - val_accuracy: 0.8717 - val_precision: 0.6889 - val_recall: 0.5536 - val_auc: 0.8813 - val_prc: 0.6797 - lr: 1.0000e-04\n",
            "Epoch 7/100\n",
            "273/273 [==============================] - 6s 22ms/step - loss: 3.8377 - tp: 206.0000 - fp: 94.0000 - tn: 2109.0000 - fn: 319.0000 - accuracy: 0.8486 - precision: 0.6867 - recall: 0.3924 - auc: 0.8242 - prc: 0.6103 - val_loss: 3.6889 - val_tp: 29.0000 - val_fp: 14.0000 - val_tn: 234.0000 - val_fn: 27.0000 - val_accuracy: 0.8651 - val_precision: 0.6744 - val_recall: 0.5179 - val_auc: 0.8589 - val_prc: 0.6551 - lr: 1.0000e-04\n",
            "Epoch 8/100\n",
            "273/273 [==============================] - 6s 22ms/step - loss: 3.5774 - tp: 215.0000 - fp: 93.0000 - tn: 2110.0000 - fn: 310.0000 - accuracy: 0.8523 - precision: 0.6981 - recall: 0.4095 - auc: 0.8354 - prc: 0.6160 - val_loss: 3.4226 - val_tp: 16.0000 - val_fp: 5.0000 - val_tn: 243.0000 - val_fn: 40.0000 - val_accuracy: 0.8520 - val_precision: 0.7619 - val_recall: 0.2857 - val_auc: 0.8889 - val_prc: 0.6946 - lr: 1.0000e-04\n",
            "Epoch 9/100\n",
            "273/273 [==============================] - 6s 22ms/step - loss: 3.3172 - tp: 246.0000 - fp: 72.0000 - tn: 2131.0000 - fn: 279.0000 - accuracy: 0.8713 - precision: 0.7736 - recall: 0.4686 - auc: 0.8544 - prc: 0.6685 - val_loss: 3.2676 - val_tp: 11.0000 - val_fp: 1.0000 - val_tn: 247.0000 - val_fn: 45.0000 - val_accuracy: 0.8487 - val_precision: 0.9167 - val_recall: 0.1964 - val_auc: 0.8699 - val_prc: 0.6903 - lr: 1.0000e-04\n",
            "Epoch 10/100\n",
            "273/273 [==============================] - 6s 22ms/step - loss: 3.0995 - tp: 248.0000 - fp: 86.0000 - tn: 2117.0000 - fn: 277.0000 - accuracy: 0.8669 - precision: 0.7425 - recall: 0.4724 - auc: 0.8500 - prc: 0.6565 - val_loss: 2.9530 - val_tp: 20.0000 - val_fp: 5.0000 - val_tn: 243.0000 - val_fn: 36.0000 - val_accuracy: 0.8651 - val_precision: 0.8000 - val_recall: 0.3571 - val_auc: 0.8933 - val_prc: 0.7338 - lr: 1.0000e-04\n",
            "Epoch 11/100\n",
            "273/273 [==============================] - 6s 22ms/step - loss: 2.8652 - tp: 273.0000 - fp: 84.0000 - tn: 2119.0000 - fn: 252.0000 - accuracy: 0.8768 - precision: 0.7647 - recall: 0.5200 - auc: 0.8737 - prc: 0.7021 - val_loss: 2.7311 - val_tp: 25.0000 - val_fp: 4.0000 - val_tn: 244.0000 - val_fn: 31.0000 - val_accuracy: 0.8849 - val_precision: 0.8621 - val_recall: 0.4464 - val_auc: 0.8993 - val_prc: 0.7692 - lr: 1.0000e-04\n",
            "Epoch 12/100\n",
            "273/273 [==============================] - 6s 22ms/step - loss: 2.6779 - tp: 264.0000 - fp: 91.0000 - tn: 2112.0000 - fn: 261.0000 - accuracy: 0.8710 - precision: 0.7437 - recall: 0.5029 - auc: 0.8688 - prc: 0.6986 - val_loss: 2.5470 - val_tp: 35.0000 - val_fp: 11.0000 - val_tn: 237.0000 - val_fn: 21.0000 - val_accuracy: 0.8947 - val_precision: 0.7609 - val_recall: 0.6250 - val_auc: 0.9007 - val_prc: 0.7535 - lr: 1.0000e-04\n",
            "Epoch 13/100\n",
            "273/273 [==============================] - 6s 22ms/step - loss: 2.4850 - tp: 271.0000 - fp: 77.0000 - tn: 2126.0000 - fn: 254.0000 - accuracy: 0.8787 - precision: 0.7787 - recall: 0.5162 - auc: 0.8794 - prc: 0.7281 - val_loss: 2.3685 - val_tp: 37.0000 - val_fp: 11.0000 - val_tn: 237.0000 - val_fn: 19.0000 - val_accuracy: 0.9013 - val_precision: 0.7708 - val_recall: 0.6607 - val_auc: 0.9052 - val_prc: 0.7904 - lr: 1.0000e-04\n",
            "Epoch 14/100\n",
            "273/273 [==============================] - 6s 22ms/step - loss: 2.3062 - tp: 284.0000 - fp: 91.0000 - tn: 2112.0000 - fn: 241.0000 - accuracy: 0.8783 - precision: 0.7573 - recall: 0.5410 - auc: 0.8950 - prc: 0.7484 - val_loss: 2.2127 - val_tp: 30.0000 - val_fp: 8.0000 - val_tn: 240.0000 - val_fn: 26.0000 - val_accuracy: 0.8882 - val_precision: 0.7895 - val_recall: 0.5357 - val_auc: 0.9015 - val_prc: 0.7665 - lr: 1.0000e-04\n",
            "Epoch 15/100\n",
            "273/273 [==============================] - 6s 22ms/step - loss: 2.1525 - tp: 294.0000 - fp: 87.0000 - tn: 2116.0000 - fn: 231.0000 - accuracy: 0.8834 - precision: 0.7717 - recall: 0.5600 - auc: 0.8958 - prc: 0.7646 - val_loss: 2.0771 - val_tp: 41.0000 - val_fp: 10.0000 - val_tn: 238.0000 - val_fn: 15.0000 - val_accuracy: 0.9178 - val_precision: 0.8039 - val_recall: 0.7321 - val_auc: 0.9025 - val_prc: 0.7775 - lr: 1.0000e-04\n",
            "Epoch 16/100\n",
            "273/273 [==============================] - 6s 22ms/step - loss: 2.0200 - tp: 286.0000 - fp: 74.0000 - tn: 2129.0000 - fn: 239.0000 - accuracy: 0.8853 - precision: 0.7944 - recall: 0.5448 - auc: 0.8932 - prc: 0.7579 - val_loss: 1.9391 - val_tp: 43.0000 - val_fp: 14.0000 - val_tn: 234.0000 - val_fn: 13.0000 - val_accuracy: 0.9112 - val_precision: 0.7544 - val_recall: 0.7679 - val_auc: 0.9227 - val_prc: 0.8247 - lr: 1.0000e-04\n",
            "Epoch 17/100\n",
            "273/273 [==============================] - 6s 22ms/step - loss: 1.8886 - tp: 312.0000 - fp: 73.0000 - tn: 2130.0000 - fn: 213.0000 - accuracy: 0.8952 - precision: 0.8104 - recall: 0.5943 - auc: 0.9021 - prc: 0.7773 - val_loss: 1.8073 - val_tp: 30.0000 - val_fp: 4.0000 - val_tn: 244.0000 - val_fn: 26.0000 - val_accuracy: 0.9013 - val_precision: 0.8824 - val_recall: 0.5357 - val_auc: 0.9190 - val_prc: 0.8193 - lr: 1.0000e-04\n",
            "Epoch 18/100\n",
            "273/273 [==============================] - 6s 22ms/step - loss: 1.7689 - tp: 319.0000 - fp: 67.0000 - tn: 2136.0000 - fn: 206.0000 - accuracy: 0.8999 - precision: 0.8264 - recall: 0.6076 - auc: 0.9070 - prc: 0.7978 - val_loss: 1.7055 - val_tp: 43.0000 - val_fp: 14.0000 - val_tn: 234.0000 - val_fn: 13.0000 - val_accuracy: 0.9112 - val_precision: 0.7544 - val_recall: 0.7679 - val_auc: 0.9254 - val_prc: 0.8361 - lr: 1.0000e-04\n",
            "Epoch 19/100\n",
            "273/273 [==============================] - 6s 22ms/step - loss: 1.6640 - tp: 334.0000 - fp: 76.0000 - tn: 2127.0000 - fn: 191.0000 - accuracy: 0.9021 - precision: 0.8146 - recall: 0.6362 - auc: 0.9143 - prc: 0.8056 - val_loss: 1.5898 - val_tp: 36.0000 - val_fp: 3.0000 - val_tn: 245.0000 - val_fn: 20.0000 - val_accuracy: 0.9243 - val_precision: 0.9231 - val_recall: 0.6429 - val_auc: 0.9281 - val_prc: 0.8354 - lr: 1.0000e-04\n",
            "Epoch 20/100\n",
            "273/273 [==============================] - 6s 22ms/step - loss: 1.5742 - tp: 315.0000 - fp: 71.0000 - tn: 2132.0000 - fn: 210.0000 - accuracy: 0.8970 - precision: 0.8161 - recall: 0.6000 - auc: 0.9184 - prc: 0.8083 - val_loss: 1.5212 - val_tp: 43.0000 - val_fp: 11.0000 - val_tn: 237.0000 - val_fn: 13.0000 - val_accuracy: 0.9211 - val_precision: 0.7963 - val_recall: 0.7679 - val_auc: 0.9327 - val_prc: 0.8356 - lr: 1.0000e-04\n",
            "Epoch 21/100\n",
            "273/273 [==============================] - 6s 22ms/step - loss: 1.4729 - tp: 342.0000 - fp: 64.0000 - tn: 2139.0000 - fn: 183.0000 - accuracy: 0.9095 - precision: 0.8424 - recall: 0.6514 - auc: 0.9299 - prc: 0.8411 - val_loss: 1.4285 - val_tp: 43.0000 - val_fp: 10.0000 - val_tn: 238.0000 - val_fn: 13.0000 - val_accuracy: 0.9243 - val_precision: 0.8113 - val_recall: 0.7679 - val_auc: 0.9412 - val_prc: 0.8541 - lr: 1.0000e-04\n",
            "Epoch 22/100\n",
            "273/273 [==============================] - 6s 22ms/step - loss: 1.4062 - tp: 342.0000 - fp: 62.0000 - tn: 2141.0000 - fn: 183.0000 - accuracy: 0.9102 - precision: 0.8465 - recall: 0.6514 - auc: 0.9258 - prc: 0.8323 - val_loss: 1.3565 - val_tp: 40.0000 - val_fp: 6.0000 - val_tn: 242.0000 - val_fn: 16.0000 - val_accuracy: 0.9276 - val_precision: 0.8696 - val_recall: 0.7143 - val_auc: 0.9360 - val_prc: 0.8251 - lr: 1.0000e-04\n",
            "Epoch 23/100\n",
            "273/273 [==============================] - 6s 22ms/step - loss: 1.3273 - tp: 362.0000 - fp: 68.0000 - tn: 2135.0000 - fn: 163.0000 - accuracy: 0.9153 - precision: 0.8419 - recall: 0.6895 - auc: 0.9371 - prc: 0.8493 - val_loss: 1.3060 - val_tp: 38.0000 - val_fp: 5.0000 - val_tn: 243.0000 - val_fn: 18.0000 - val_accuracy: 0.9243 - val_precision: 0.8837 - val_recall: 0.6786 - val_auc: 0.9255 - val_prc: 0.8335 - lr: 1.0000e-04\n",
            "Epoch 24/100\n",
            "273/273 [==============================] - 6s 22ms/step - loss: 1.2657 - tp: 354.0000 - fp: 65.0000 - tn: 2138.0000 - fn: 171.0000 - accuracy: 0.9135 - precision: 0.8449 - recall: 0.6743 - auc: 0.9398 - prc: 0.8553 - val_loss: 1.2266 - val_tp: 42.0000 - val_fp: 9.0000 - val_tn: 239.0000 - val_fn: 14.0000 - val_accuracy: 0.9243 - val_precision: 0.8235 - val_recall: 0.7500 - val_auc: 0.9444 - val_prc: 0.8552 - lr: 1.0000e-04\n",
            "Epoch 25/100\n",
            "273/273 [==============================] - 6s 22ms/step - loss: 1.2125 - tp: 352.0000 - fp: 53.0000 - tn: 2150.0000 - fn: 173.0000 - accuracy: 0.9172 - precision: 0.8691 - recall: 0.6705 - auc: 0.9375 - prc: 0.8581 - val_loss: 1.2155 - val_tp: 46.0000 - val_fp: 18.0000 - val_tn: 230.0000 - val_fn: 10.0000 - val_accuracy: 0.9079 - val_precision: 0.7188 - val_recall: 0.8214 - val_auc: 0.9491 - val_prc: 0.8676 - lr: 1.0000e-04\n",
            "Epoch 26/100\n",
            "273/273 [==============================] - 6s 22ms/step - loss: 1.1619 - tp: 369.0000 - fp: 54.0000 - tn: 2149.0000 - fn: 156.0000 - accuracy: 0.9230 - precision: 0.8723 - recall: 0.7029 - auc: 0.9363 - prc: 0.8631 - val_loss: 1.1901 - val_tp: 27.0000 - val_fp: 1.0000 - val_tn: 247.0000 - val_fn: 29.0000 - val_accuracy: 0.9013 - val_precision: 0.9643 - val_recall: 0.4821 - val_auc: 0.9394 - val_prc: 0.8514 - lr: 1.0000e-04\n",
            "Epoch 27/100\n",
            "273/273 [==============================] - 6s 22ms/step - loss: 1.1065 - tp: 362.0000 - fp: 63.0000 - tn: 2140.0000 - fn: 163.0000 - accuracy: 0.9172 - precision: 0.8518 - recall: 0.6895 - auc: 0.9504 - prc: 0.8710 - val_loss: 1.1044 - val_tp: 38.0000 - val_fp: 5.0000 - val_tn: 243.0000 - val_fn: 18.0000 - val_accuracy: 0.9243 - val_precision: 0.8837 - val_recall: 0.6786 - val_auc: 0.9407 - val_prc: 0.8508 - lr: 1.0000e-04\n",
            "Epoch 28/100\n",
            "273/273 [==============================] - 6s 22ms/step - loss: 1.0598 - tp: 374.0000 - fp: 57.0000 - tn: 2146.0000 - fn: 151.0000 - accuracy: 0.9238 - precision: 0.8677 - recall: 0.7124 - auc: 0.9495 - prc: 0.8809 - val_loss: 1.0680 - val_tp: 36.0000 - val_fp: 2.0000 - val_tn: 246.0000 - val_fn: 20.0000 - val_accuracy: 0.9276 - val_precision: 0.9474 - val_recall: 0.6429 - val_auc: 0.9381 - val_prc: 0.8621 - lr: 1.0000e-04\n",
            "Epoch 29/100\n",
            "273/273 [==============================] - 6s 22ms/step - loss: 1.0282 - tp: 377.0000 - fp: 50.0000 - tn: 2153.0000 - fn: 148.0000 - accuracy: 0.9274 - precision: 0.8829 - recall: 0.7181 - auc: 0.9464 - prc: 0.8773 - val_loss: 1.0236 - val_tp: 47.0000 - val_fp: 16.0000 - val_tn: 232.0000 - val_fn: 9.0000 - val_accuracy: 0.9178 - val_precision: 0.7460 - val_recall: 0.8393 - val_auc: 0.9613 - val_prc: 0.8921 - lr: 1.0000e-04\n",
            "Epoch 30/100\n",
            "273/273 [==============================] - 6s 22ms/step - loss: 0.9701 - tp: 388.0000 - fp: 47.0000 - tn: 2156.0000 - fn: 137.0000 - accuracy: 0.9326 - precision: 0.8920 - recall: 0.7390 - auc: 0.9606 - prc: 0.9024 - val_loss: 0.9745 - val_tp: 45.0000 - val_fp: 9.0000 - val_tn: 239.0000 - val_fn: 11.0000 - val_accuracy: 0.9342 - val_precision: 0.8333 - val_recall: 0.8036 - val_auc: 0.9684 - val_prc: 0.8864 - lr: 1.0000e-04\n",
            "Epoch 31/100\n",
            "273/273 [==============================] - 6s 22ms/step - loss: 0.9474 - tp: 385.0000 - fp: 47.0000 - tn: 2156.0000 - fn: 140.0000 - accuracy: 0.9315 - precision: 0.8912 - recall: 0.7333 - auc: 0.9573 - prc: 0.8965 - val_loss: 0.9394 - val_tp: 41.0000 - val_fp: 6.0000 - val_tn: 242.0000 - val_fn: 15.0000 - val_accuracy: 0.9309 - val_precision: 0.8723 - val_recall: 0.7321 - val_auc: 0.9623 - val_prc: 0.8809 - lr: 1.0000e-04\n",
            "Epoch 32/100\n",
            "273/273 [==============================] - 6s 22ms/step - loss: 0.9137 - tp: 402.0000 - fp: 50.0000 - tn: 2153.0000 - fn: 123.0000 - accuracy: 0.9366 - precision: 0.8894 - recall: 0.7657 - auc: 0.9589 - prc: 0.8993 - val_loss: 0.9415 - val_tp: 34.0000 - val_fp: 3.0000 - val_tn: 245.0000 - val_fn: 22.0000 - val_accuracy: 0.9178 - val_precision: 0.9189 - val_recall: 0.6071 - val_auc: 0.9484 - val_prc: 0.8620 - lr: 1.0000e-04\n",
            "Epoch 33/100\n",
            "273/273 [==============================] - 6s 22ms/step - loss: 0.8735 - tp: 414.0000 - fp: 46.0000 - tn: 2157.0000 - fn: 111.0000 - accuracy: 0.9424 - precision: 0.9000 - recall: 0.7886 - auc: 0.9644 - prc: 0.9164 - val_loss: 0.9000 - val_tp: 46.0000 - val_fp: 13.0000 - val_tn: 235.0000 - val_fn: 10.0000 - val_accuracy: 0.9243 - val_precision: 0.7797 - val_recall: 0.8214 - val_auc: 0.9672 - val_prc: 0.8920 - lr: 1.0000e-04\n",
            "Epoch 34/100\n",
            "273/273 [==============================] - 6s 22ms/step - loss: 0.8585 - tp: 397.0000 - fp: 51.0000 - tn: 2152.0000 - fn: 128.0000 - accuracy: 0.9344 - precision: 0.8862 - recall: 0.7562 - auc: 0.9646 - prc: 0.9062 - val_loss: 0.8638 - val_tp: 40.0000 - val_fp: 4.0000 - val_tn: 244.0000 - val_fn: 16.0000 - val_accuracy: 0.9342 - val_precision: 0.9091 - val_recall: 0.7143 - val_auc: 0.9576 - val_prc: 0.8818 - lr: 1.0000e-04\n",
            "Epoch 35/100\n",
            "273/273 [==============================] - 6s 22ms/step - loss: 0.8223 - tp: 419.0000 - fp: 42.0000 - tn: 2161.0000 - fn: 106.0000 - accuracy: 0.9457 - precision: 0.9089 - recall: 0.7981 - auc: 0.9686 - prc: 0.9206 - val_loss: 0.8387 - val_tp: 38.0000 - val_fp: 4.0000 - val_tn: 244.0000 - val_fn: 18.0000 - val_accuracy: 0.9276 - val_precision: 0.9048 - val_recall: 0.6786 - val_auc: 0.9655 - val_prc: 0.8921 - lr: 1.0000e-04\n",
            "Epoch 36/100\n",
            "273/273 [==============================] - 6s 22ms/step - loss: 0.7841 - tp: 431.0000 - fp: 35.0000 - tn: 2168.0000 - fn: 94.0000 - accuracy: 0.9527 - precision: 0.9249 - recall: 0.8210 - auc: 0.9763 - prc: 0.9377 - val_loss: 0.8445 - val_tp: 38.0000 - val_fp: 4.0000 - val_tn: 244.0000 - val_fn: 18.0000 - val_accuracy: 0.9276 - val_precision: 0.9048 - val_recall: 0.6786 - val_auc: 0.9588 - val_prc: 0.8883 - lr: 1.0000e-04\n",
            "Epoch 37/100\n",
            "273/273 [==============================] - 6s 22ms/step - loss: 0.7664 - tp: 426.0000 - fp: 44.0000 - tn: 2159.0000 - fn: 99.0000 - accuracy: 0.9476 - precision: 0.9064 - recall: 0.8114 - auc: 0.9765 - prc: 0.9352 - val_loss: 0.8052 - val_tp: 40.0000 - val_fp: 5.0000 - val_tn: 243.0000 - val_fn: 16.0000 - val_accuracy: 0.9309 - val_precision: 0.8889 - val_recall: 0.7143 - val_auc: 0.9616 - val_prc: 0.8836 - lr: 1.0000e-04\n",
            "Epoch 38/100\n",
            "273/273 [==============================] - 6s 22ms/step - loss: 0.7601 - tp: 406.0000 - fp: 46.0000 - tn: 2157.0000 - fn: 119.0000 - accuracy: 0.9395 - precision: 0.8982 - recall: 0.7733 - auc: 0.9724 - prc: 0.9295 - val_loss: 0.8147 - val_tp: 38.0000 - val_fp: 4.0000 - val_tn: 244.0000 - val_fn: 18.0000 - val_accuracy: 0.9276 - val_precision: 0.9048 - val_recall: 0.6786 - val_auc: 0.9563 - val_prc: 0.8764 - lr: 1.0000e-04\n",
            "Epoch 39/100\n",
            "273/273 [==============================] - 6s 22ms/step - loss: 0.7288 - tp: 439.0000 - fp: 48.0000 - tn: 2155.0000 - fn: 86.0000 - accuracy: 0.9509 - precision: 0.9014 - recall: 0.8362 - auc: 0.9791 - prc: 0.9407 - val_loss: 0.8231 - val_tp: 34.0000 - val_fp: 2.0000 - val_tn: 246.0000 - val_fn: 22.0000 - val_accuracy: 0.9211 - val_precision: 0.9444 - val_recall: 0.6071 - val_auc: 0.9504 - val_prc: 0.8671 - lr: 1.0000e-04\n",
            "Epoch 40/100\n",
            "273/273 [==============================] - 6s 22ms/step - loss: 0.7040 - tp: 433.0000 - fp: 31.0000 - tn: 2172.0000 - fn: 92.0000 - accuracy: 0.9549 - precision: 0.9332 - recall: 0.8248 - auc: 0.9799 - prc: 0.9499 - val_loss: 0.8514 - val_tp: 29.0000 - val_fp: 2.0000 - val_tn: 246.0000 - val_fn: 27.0000 - val_accuracy: 0.9046 - val_precision: 0.9355 - val_recall: 0.5179 - val_auc: 0.9471 - val_prc: 0.8579 - lr: 1.0000e-04\n",
            "Epoch 41/100\n",
            "273/273 [==============================] - 6s 22ms/step - loss: 0.6683 - tp: 455.0000 - fp: 25.0000 - tn: 2178.0000 - fn: 70.0000 - accuracy: 0.9652 - precision: 0.9479 - recall: 0.8667 - auc: 0.9891 - prc: 0.9700 - val_loss: 0.7615 - val_tp: 43.0000 - val_fp: 5.0000 - val_tn: 243.0000 - val_fn: 13.0000 - val_accuracy: 0.9408 - val_precision: 0.8958 - val_recall: 0.7679 - val_auc: 0.9657 - val_prc: 0.8734 - lr: 1.0000e-05\n",
            "Epoch 42/100\n",
            "273/273 [==============================] - 6s 22ms/step - loss: 0.6513 - tp: 470.0000 - fp: 17.0000 - tn: 2186.0000 - fn: 55.0000 - accuracy: 0.9736 - precision: 0.9651 - recall: 0.8952 - auc: 0.9912 - prc: 0.9770 - val_loss: 0.7592 - val_tp: 43.0000 - val_fp: 5.0000 - val_tn: 243.0000 - val_fn: 13.0000 - val_accuracy: 0.9408 - val_precision: 0.8958 - val_recall: 0.7679 - val_auc: 0.9674 - val_prc: 0.8680 - lr: 1.0000e-05\n",
            "Epoch 43/100\n",
            "273/273 [==============================] - 6s 22ms/step - loss: 0.6482 - tp: 470.0000 - fp: 19.0000 - tn: 2184.0000 - fn: 55.0000 - accuracy: 0.9729 - precision: 0.9611 - recall: 0.8952 - auc: 0.9921 - prc: 0.9777 - val_loss: 0.7635 - val_tp: 42.0000 - val_fp: 5.0000 - val_tn: 243.0000 - val_fn: 14.0000 - val_accuracy: 0.9375 - val_precision: 0.8936 - val_recall: 0.7500 - val_auc: 0.9702 - val_prc: 0.8708 - lr: 1.0000e-05\n",
            "Epoch 44/100\n",
            "273/273 [==============================] - 6s 22ms/step - loss: 0.6402 - tp: 472.0000 - fp: 18.0000 - tn: 2185.0000 - fn: 53.0000 - accuracy: 0.9740 - precision: 0.9633 - recall: 0.8990 - auc: 0.9929 - prc: 0.9800 - val_loss: 0.7657 - val_tp: 42.0000 - val_fp: 6.0000 - val_tn: 242.0000 - val_fn: 14.0000 - val_accuracy: 0.9342 - val_precision: 0.8750 - val_recall: 0.7500 - val_auc: 0.9700 - val_prc: 0.8748 - lr: 1.0000e-05\n",
            "Epoch 45/100\n",
            "273/273 [==============================] - 6s 22ms/step - loss: 0.6373 - tp: 474.0000 - fp: 19.0000 - tn: 2184.0000 - fn: 51.0000 - accuracy: 0.9743 - precision: 0.9615 - recall: 0.9029 - auc: 0.9942 - prc: 0.9814 - val_loss: 0.7728 - val_tp: 42.0000 - val_fp: 5.0000 - val_tn: 243.0000 - val_fn: 14.0000 - val_accuracy: 0.9375 - val_precision: 0.8936 - val_recall: 0.7500 - val_auc: 0.9643 - val_prc: 0.8716 - lr: 1.0000e-05\n",
            "Epoch 46/100\n",
            "273/273 [==============================] - 6s 22ms/step - loss: 0.6391 - tp: 468.0000 - fp: 22.0000 - tn: 2181.0000 - fn: 57.0000 - accuracy: 0.9710 - precision: 0.9551 - recall: 0.8914 - auc: 0.9940 - prc: 0.9801 - val_loss: 0.7704 - val_tp: 42.0000 - val_fp: 6.0000 - val_tn: 242.0000 - val_fn: 14.0000 - val_accuracy: 0.9342 - val_precision: 0.8750 - val_recall: 0.7500 - val_auc: 0.9641 - val_prc: 0.8727 - lr: 1.0000e-06\n"
          ]
        }
      ],
      "source": [
        "history = model.fit(X_train_reshaped, y_train, epochs=100, batch_size=10, verbose=1, validation_split=0.1, callbacks=[reduce_lr,early_st])"
      ]
    },
    {
      "cell_type": "markdown",
      "metadata": {
        "id": "5hF9EG1dX6xZ"
      },
      "source": [
        "# Evaluate the model"
      ]
    },
    {
      "cell_type": "code",
      "execution_count": 19,
      "metadata": {
        "colab": {
          "base_uri": "https://localhost:8080/"
        },
        "id": "ux5k-LYLl3GF",
        "outputId": "9148bd10-3890-40c0-d5ce-d97b0938aef1"
      },
      "outputs": [
        {
          "name": "stdout",
          "output_type": "stream",
          "text": [
            "24/24 [==============================] - 0s 9ms/step\n",
            "[[599  14]\n",
            " [ 59  86]]\n"
          ]
        }
      ],
      "source": [
        "y_pred  = model.predict(X_test_reshaped)\n",
        "y_pred = (y_pred>0.5)\n",
        "cm = confusion_matrix(y_test, y_pred)\n",
        "print(cm)"
      ]
    },
    {
      "cell_type": "code",
      "execution_count": 20,
      "metadata": {
        "colab": {
          "base_uri": "https://localhost:8080/"
        },
        "id": "iur6Wu4oZ5dI",
        "outputId": "a97b3320-950a-4b11-fcb3-1b08387bb109"
      },
      "outputs": [
        {
          "name": "stdout",
          "output_type": "stream",
          "text": [
            "balanced acuracy: 0.7851324745457613\n"
          ]
        }
      ],
      "source": [
        "print(\"balanced acuracy:\", balanced_accuracy_score(y_test, y_pred))"
      ]
    },
    {
      "cell_type": "code",
      "execution_count": 21,
      "metadata": {
        "colab": {
          "base_uri": "https://localhost:8080/"
        },
        "id": "zkQ55Zm7l3D2",
        "outputId": "1d603181-a728-4b27-d900-a1e71d36be80"
      },
      "outputs": [
        {
          "name": "stdout",
          "output_type": "stream",
          "text": [
            "              precision    recall  f1-score   support\n",
            "\n",
            "           0       0.91      0.98      0.94       613\n",
            "           1       0.86      0.59      0.70       145\n",
            "\n",
            "    accuracy                           0.90       758\n",
            "   macro avg       0.89      0.79      0.82       758\n",
            "weighted avg       0.90      0.90      0.90       758\n",
            "\n",
            "304/304 [==============================] - 1s 4ms/step\n",
            "76/76 [==============================] - 0s 4ms/step\n",
            "loss :  0.871550440788269\n",
            "tp :  86.0\n",
            "fp :  14.0\n",
            "tn :  599.0\n",
            "fn :  59.0\n",
            "accuracy :  0.9036939144134521\n",
            "precision :  0.8600000143051147\n",
            "recall :  0.5931034684181213\n",
            "auc :  0.911436140537262\n",
            "prc :  0.8162722587585449\n",
            "\n"
          ]
        }
      ],
      "source": [
        "target_names=[\"0\",\"1\"]\n",
        "print(classification_report(y_test, y_pred, target_names=target_names))\n",
        "\n",
        "train_predictions_baseline = model.predict(X_train_reshaped, batch_size=10)\n",
        "test_predictions_baseline = model.predict(X_test_reshaped, batch_size=10)\n",
        "\n",
        "baseline_results = model.evaluate(X_test_reshaped, y_test, verbose=0)\n",
        "for name, value in zip(model.metrics_names, baseline_results):\n",
        "  print(name, ': ', value)\n",
        "print()"
      ]
    },
    {
      "cell_type": "code",
      "execution_count": 22,
      "metadata": {
        "colab": {
          "base_uri": "https://localhost:8080/",
          "height": 1000
        },
        "id": "YzVQLd_Xl3B1",
        "outputId": "6bd1d53b-d330-4a0f-d2c9-b33181c37c01"
      },
      "outputs": [
        {
          "data": {
            "image/png": "[encoded data removed]",
            "text/plain": [
              "<Figure size 1200x1000 with 1 Axes>"
            ]
          },
          "metadata": {},
          "output_type": "display_data"
        },
        {
          "data": {
            "image/png": "[encoded data removed]",
            "text/plain": [
              "<Figure size 1200x1000 with 1 Axes>"
            ]
          },
          "metadata": {},
          "output_type": "display_data"
        }
      ],
      "source": [
        "plt.rcParams['figure.figsize'] = (12, 10)\n",
        "plt.rcParams.update({'font.size': 17})\n",
        "colors = plt.rcParams['axes.prop_cycle'].by_key()['color']\n",
        "\n",
        "def plot_roc(name, labels, predictions, **kwargs):\n",
        "  fp, tp, _ = sklearn.metrics.roc_curve(labels, predictions)\n",
        "\n",
        "  plt.plot(fp, tp, label=name, linewidth=2, **kwargs)\n",
        "  plt.plot([0, 1], [0, 1], 'k--')\n",
        "  plt.title('E. coli CNN')\n",
        "  plt.xlabel('False positives [%]')\n",
        "  plt.ylabel('True positives [%]')\n",
        "  plt.title('S. aureus AUROC')\n",
        "\n",
        "  plt.grid(True)\n",
        "  ax = plt.gca()\n",
        "  ax.set_aspect('equal')\n",
        "plot_roc(\"Ciprofloxacin               AUROC: %0.2f\" % baseline_results[8], y_test, test_predictions_baseline, color=colors[0])\n",
        "\n",
        "plt.legend(loc='lower right')\n",
        "plt.savefig('s_aureus_auroc.png', bbox_inches='tight')\n",
        "plt.show()\n",
        "\n",
        "def plot_prc(name, labels, predictions, **kwargs):\n",
        "    precision, recall, _ = sklearn.metrics.precision_recall_curve(labels, predictions)\n",
        "\n",
        "    plt.plot(precision, recall, label=name, linewidth=2, **kwargs)\n",
        "    plt.title('S. aureus AUPRC')\n",
        "    plt.xlabel('Recall')\n",
        "    plt.ylabel('Precision')\n",
        "    plt.plot([1, 0], [0, 1], 'k--')\n",
        "    plt.grid(True)\n",
        "    ax = plt.gca()\n",
        "    ax.set_aspect('equal')\n",
        "\n",
        "plot_prc(\"Ciprofloxacin        AUPRC: %0.2f\" % baseline_results[9], y_test, test_predictions_baseline, color=colors[0])\n",
        "\n",
        "plt.legend(loc='upper right')\n",
        "plt.savefig('s_aureus_auprc.png', bbox_inches='tight')\n",
        "plt.show()"
      ]
    }
  ],
  "metadata": {
    "accelerator": "GPU",
    "colab": {
      "provenance": []
    },
    "gpuClass": "standard",
    "kernelspec": {
      "display_name": "Python 3",
      "language": "python",
      "name": "python3"
    },
    "language_info": {
      "name": "python",
      "version": "3.11.5"
    }
  },
  "nbformat": 4,
  "nbformat_minor": 0
}
