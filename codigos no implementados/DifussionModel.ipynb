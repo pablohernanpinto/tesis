{
 "cells": [
  {
   "cell_type": "code",
   "execution_count": 1,
   "metadata": {},
   "outputs": [],
   "source": [
    "import torch\n",
    "import torch.nn as nn\n",
    "import numpy as np\n",
    "import pandas as pd\n",
    "from sklearn.preprocessing import StandardScaler\n",
    "from sklearn.model_selection import train_test_split\n",
    "import matplotlib.pyplot as plt"
   ]
  },
  {
   "cell_type": "code",
   "execution_count": 2,
   "metadata": {},
   "outputs": [],
   "source": [
    "\n",
    "# Generar datos de ejemplo (puedes cargar tu dataset aquí)\n",
    "np.random.seed(42)\n",
    "data = pd.DataFrame({\n",
    "    'feature1': np.random.normal(0, 1, 1000),\n",
    "    'feature2': np.random.normal(5, 2, 1000),\n",
    "    'feature3': np.random.choice([0, 1], size=1000),\n",
    "    'class': np.random.choice([0, 1], size=1000, p=[0.9, 0.1])  # Clase desbalanceada\n",
    "})\n"
   ]
  },
  {
   "cell_type": "code",
   "execution_count": 3,
   "metadata": {},
   "outputs": [],
   "source": [
    "\n",
    "# Filtrar la clase minoritaria\n",
    "minority_class = data[data['class'] == 1].drop(columns=['class'])\n",
    "\n"
   ]
  },
  {
   "cell_type": "code",
   "execution_count": 12,
   "metadata": {},
   "outputs": [
    {
     "data": {
      "text/html": [
       "<div>\n",
       "<style scoped>\n",
       "    .dataframe tbody tr th:only-of-type {\n",
       "        vertical-align: middle;\n",
       "    }\n",
       "\n",
       "    .dataframe tbody tr th {\n",
       "        vertical-align: top;\n",
       "    }\n",
       "\n",
       "    .dataframe thead th {\n",
       "        text-align: right;\n",
       "    }\n",
       "</style>\n",
       "<table border=\"1\" class=\"dataframe\">\n",
       "  <thead>\n",
       "    <tr style=\"text-align: right;\">\n",
       "      <th></th>\n",
       "      <th>feature1</th>\n",
       "      <th>feature2</th>\n",
       "      <th>feature3</th>\n",
       "    </tr>\n",
       "  </thead>\n",
       "  <tbody>\n",
       "    <tr>\n",
       "      <th>7</th>\n",
       "      <td>0.767435</td>\n",
       "      <td>6.270344</td>\n",
       "      <td>1</td>\n",
       "    </tr>\n",
       "    <tr>\n",
       "      <th>11</th>\n",
       "      <td>-0.465730</td>\n",
       "      <td>5.395199</td>\n",
       "      <td>1</td>\n",
       "    </tr>\n",
       "    <tr>\n",
       "      <th>19</th>\n",
       "      <td>-1.412304</td>\n",
       "      <td>5.848332</td>\n",
       "      <td>1</td>\n",
       "    </tr>\n",
       "    <tr>\n",
       "      <th>28</th>\n",
       "      <td>-0.600639</td>\n",
       "      <td>6.227036</td>\n",
       "      <td>1</td>\n",
       "    </tr>\n",
       "    <tr>\n",
       "      <th>31</th>\n",
       "      <td>1.852278</td>\n",
       "      <td>1.662832</td>\n",
       "      <td>1</td>\n",
       "    </tr>\n",
       "    <tr>\n",
       "      <th>...</th>\n",
       "      <td>...</td>\n",
       "      <td>...</td>\n",
       "      <td>...</td>\n",
       "    </tr>\n",
       "    <tr>\n",
       "      <th>927</th>\n",
       "      <td>0.377212</td>\n",
       "      <td>4.427992</td>\n",
       "      <td>0</td>\n",
       "    </tr>\n",
       "    <tr>\n",
       "      <th>937</th>\n",
       "      <td>0.708356</td>\n",
       "      <td>5.935386</td>\n",
       "      <td>1</td>\n",
       "    </tr>\n",
       "    <tr>\n",
       "      <th>985</th>\n",
       "      <td>-1.158365</td>\n",
       "      <td>6.026171</td>\n",
       "      <td>1</td>\n",
       "    </tr>\n",
       "    <tr>\n",
       "      <th>987</th>\n",
       "      <td>0.877362</td>\n",
       "      <td>6.032357</td>\n",
       "      <td>1</td>\n",
       "    </tr>\n",
       "    <tr>\n",
       "      <th>988</th>\n",
       "      <td>-0.220964</td>\n",
       "      <td>3.717037</td>\n",
       "      <td>0</td>\n",
       "    </tr>\n",
       "  </tbody>\n",
       "</table>\n",
       "<p>87 rows × 3 columns</p>\n",
       "</div>"
      ],
      "text/plain": [
       "     feature1  feature2  feature3\n",
       "7    0.767435  6.270344         1\n",
       "11  -0.465730  5.395199         1\n",
       "19  -1.412304  5.848332         1\n",
       "28  -0.600639  6.227036         1\n",
       "31   1.852278  1.662832         1\n",
       "..        ...       ...       ...\n",
       "927  0.377212  4.427992         0\n",
       "937  0.708356  5.935386         1\n",
       "985 -1.158365  6.026171         1\n",
       "987  0.877362  6.032357         1\n",
       "988 -0.220964  3.717037         0\n",
       "\n",
       "[87 rows x 3 columns]"
      ]
     },
     "execution_count": 12,
     "metadata": {},
     "output_type": "execute_result"
    }
   ],
   "source": [
    "minority_class"
   ]
  },
  {
   "cell_type": "code",
   "execution_count": 4,
   "metadata": {},
   "outputs": [],
   "source": [
    "# Preprocesamiento\n",
    "scaler = StandardScaler()\n",
    "scaled_data = scaler.fit_transform(minority_class.values)\n",
    "\n"
   ]
  },
  {
   "cell_type": "code",
   "execution_count": 5,
   "metadata": {},
   "outputs": [],
   "source": [
    "# Modelo de Difusión\n",
    "class DiffusionModel(nn.Module):\n",
    "    def __init__(self, input_dim):\n",
    "        super(DiffusionModel, self).__init__()\n",
    "        self.model = nn.Sequential(\n",
    "            nn.Linear(input_dim, 128),\n",
    "            nn.ReLU(),\n",
    "            nn.Linear(128, 128),\n",
    "            nn.ReLU(),\n",
    "            nn.Linear(128, input_dim)\n",
    "        )\n",
    "\n",
    "    def forward(self, x):\n",
    "        return self.model(x)\n",
    "\n"
   ]
  },
  {
   "cell_type": "code",
   "execution_count": 6,
   "metadata": {},
   "outputs": [],
   "source": [
    "# Función de ruido (Scheduler)\n",
    "def add_noise(data, timesteps, noise_scale=1.0):\n",
    "    noise = np.random.normal(0, noise_scale, data.shape)\n",
    "    noisy_data = data + noise * (timesteps / 100)\n",
    "    return noisy_data, noise\n",
    "\n"
   ]
  },
  {
   "cell_type": "code",
   "execution_count": 7,
   "metadata": {},
   "outputs": [],
   "source": [
    "# Configuración del modelo\n",
    "input_dim = scaled_data.shape[1]\n",
    "model = DiffusionModel(input_dim)\n",
    "optimizer = torch.optim.Adam(model.parameters(), lr=0.001)\n",
    "loss_fn = nn.MSELoss()"
   ]
  },
  {
   "cell_type": "code",
   "execution_count": 8,
   "metadata": {},
   "outputs": [
    {
     "name": "stdout",
     "output_type": "stream",
     "text": [
      "Epoch 0/1000 - Loss: 0.9839160442352295\n",
      "Epoch 100/1000 - Loss: 0.8261612057685852\n",
      "Epoch 200/1000 - Loss: 0.48762890696525574\n",
      "Epoch 300/1000 - Loss: 0.681037962436676\n",
      "Epoch 400/1000 - Loss: 0.5372265577316284\n",
      "Epoch 500/1000 - Loss: 0.5955442786216736\n",
      "Epoch 600/1000 - Loss: 0.5093722343444824\n",
      "Epoch 700/1000 - Loss: 0.578551173210144\n",
      "Epoch 800/1000 - Loss: 0.4301906228065491\n",
      "Epoch 900/1000 - Loss: 0.49747762084007263\n"
     ]
    }
   ],
   "source": [
    "# Entrenamiento\n",
    "scaled_data_tensor = torch.tensor(scaled_data, dtype=torch.float32)\n",
    "epochs = 1000\n",
    "for epoch in range(epochs):\n",
    "    timesteps = np.random.randint(1, 100)\n",
    "    noisy_data, noise = add_noise(scaled_data, timesteps)\n",
    "    noisy_data_tensor = torch.tensor(noisy_data, dtype=torch.float32)\n",
    "    noise_tensor = torch.tensor(noise, dtype=torch.float32)\n",
    "\n",
    "    optimizer.zero_grad()\n",
    "    predicted_noise = model(noisy_data_tensor)\n",
    "    loss = loss_fn(predicted_noise, noise_tensor)\n",
    "    loss.backward()\n",
    "    optimizer.step()\n",
    "\n",
    "    if epoch % 100 == 0:\n",
    "        print(f\"Epoch {epoch}/{epochs} - Loss: {loss.item()}\")\n",
    "\n"
   ]
  },
  {
   "cell_type": "code",
   "execution_count": 9,
   "metadata": {},
   "outputs": [],
   "source": [
    "# Generación de Datos Sintéticos\n",
    "def generate_synthetic_data(model, num_samples, input_dim):\n",
    "    model.eval()\n",
    "    with torch.no_grad():\n",
    "        synthetic_data = np.random.normal(0, 1, (num_samples, input_dim))\n",
    "        for t in range(100, 0, -1):  # Reverse diffusion\n",
    "            synthetic_data = synthetic_data - model(torch.tensor(synthetic_data, dtype=torch.float32)).numpy() * (t / 100)\n",
    "        return synthetic_data\n"
   ]
  },
  {
   "cell_type": "code",
   "execution_count": 10,
   "metadata": {},
   "outputs": [],
   "source": [
    "\n",
    "synthetic_data = generate_synthetic_data(model, 2, input_dim)\n",
    "synthetic_data_rescaled = scaler.inverse_transform(synthetic_data)\n",
    "\n"
   ]
  },
  {
   "cell_type": "code",
   "execution_count": 13,
   "metadata": {},
   "outputs": [
    {
     "data": {
      "text/plain": [
       "(2, 3)"
      ]
     },
     "execution_count": 13,
     "metadata": {},
     "output_type": "execute_result"
    }
   ],
   "source": [
    "synthetic_data_rescaled.shape"
   ]
  },
  {
   "cell_type": "code",
   "execution_count": 14,
   "metadata": {},
   "outputs": [
    {
     "data": {
      "text/plain": [
       "array([[1.39217800e-01, 4.86247092e+00, 1.13323758e-03],\n",
       "       [3.24883660e-01, 6.25851863e+00, 9.96232235e-01]])"
      ]
     },
     "execution_count": 14,
     "metadata": {},
     "output_type": "execute_result"
    }
   ],
   "source": [
    "synthetic_data_rescaled"
   ]
  },
  {
   "cell_type": "code",
   "execution_count": 11,
   "metadata": {},
   "outputs": [
    {
     "data": {
      "image/png": "[encoded data removed]",
      "text/plain": [
       "<Figure size 640x480 with 1 Axes>"
      ]
     },
     "metadata": {},
     "output_type": "display_data"
    }
   ],
   "source": [
    "# Visualización\n",
    "plt.scatter(minority_class['feature1'], minority_class['feature2'], alpha=0.5, label='Original Data')\n",
    "plt.scatter(synthetic_data_rescaled[:, 0], synthetic_data_rescaled[:, 1], alpha=0.5, label='Synthetic Data')\n",
    "plt.legend()\n",
    "plt.title('Original vs Synthetic Data')\n",
    "plt.show()"
   ]
  }
 ],
 "metadata": {
  "kernelspec": {
   "display_name": "Python 3",
   "language": "python",
   "name": "python3"
  },
  "language_info": {
   "codemirror_mode": {
    "name": "ipython",
    "version": 3
   },
   "file_extension": ".py",
   "mimetype": "text/x-python",
   "name": "python",
   "nbconvert_exporter": "python",
   "pygments_lexer": "ipython3",
   "version": "3.11.5"
  }
 },
 "nbformat": 4,
 "nbformat_minor": 2
}
