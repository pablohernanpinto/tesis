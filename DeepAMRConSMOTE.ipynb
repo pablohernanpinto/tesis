{
 "cells": [
  {
   "cell_type": "markdown",
   "metadata": {
    "id": "LNNFUJODXA9C"
   },
   "source": [
    "# 0-Libraries"
   ]
  },
  {
   "cell_type": "code",
   "execution_count": 2,
   "metadata": {
    "id": "W1quzgr-ao8A"
   },
   "outputs": [],
   "source": [
    "import numpy as np\n",
    "import matplotlib.pyplot as plt\n",
    "import itertools\n",
    "import pandas as pd\n",
    "import sklearn\n",
    "from sklearn.model_selection import train_test_split\n",
    "from sklearn.metrics import confusion_matrix,classification_report,ConfusionMatrixDisplay, balanced_accuracy_score\n",
    "#from sklearn.preprocessing import LabelEncoder, OneHotEncoder\n",
    "from sklearn.compose import ColumnTransformer\n",
    "from sklearn.preprocessing import Normalizer, StandardScaler, MinMaxScaler, MaxAbsScaler, RobustScaler, QuantileTransformer, PowerTransformer\n",
    "import tensorflow as tf\n",
    "from tensorflow import keras\n",
    "from keras import regularizers\n",
    "from keras.optimizers import Adam\n",
    "#from keras.backend import expand_dims\n",
    "from keras.callbacks import ReduceLROnPlateau, EarlyStopping\n",
    "from keras.models import Sequential\n",
    "from keras.constraints import MaxNorm\n",
    "from keras.layers import Activation, Dense, Conv1D, Flatten, MaxPooling1D, Dropout, BatchNormalization, SpatialDropout1D"
   ]
  },
  {
   "cell_type": "markdown",
   "metadata": {
    "id": "yD17WVS_4Y7T"
   },
   "source": [
    "## Librerias oversampling\n"
   ]
  },
  {
   "cell_type": "code",
   "execution_count": 3,
   "metadata": {
    "id": "L46aV2ut4XfL"
   },
   "outputs": [],
   "source": [
    "from imblearn.over_sampling import SMOTE\n"
   ]
  },
  {
   "cell_type": "code",
   "execution_count": 4,
   "metadata": {
    "id": "gy_ErAtqkxgt"
   },
   "outputs": [
    {
     "name": "stderr",
     "output_type": "stream",
     "text": [
      "2024-12-16 21:15:00.163218: I tensorflow/core/platform/cpu_feature_guard.cc:193] This TensorFlow binary is optimized with oneAPI Deep Neural Network Library (oneDNN) to use the following CPU instructions in performance-critical operations:  AVX2 AVX512F AVX512_VNNI FMA\n",
      "To enable them in other operations, rebuild TensorFlow with the appropriate compiler flags.\n",
      "2024-12-16 21:15:00.649554: I tensorflow/core/common_runtime/gpu/gpu_device.cc:1616] Created device /job:localhost/replica:0/task:0/device:GPU:0 with 14120 MB memory:  -> device: 0, name: NVIDIA RTX A4000, pci bus id: 0000:c3:00.0, compute capability: 8.6\n"
     ]
    }
   ],
   "source": [
    "METRICS = [\n",
    "      keras.metrics.TruePositives(name='tp'),\n",
    "      keras.metrics.FalsePositives(name='fp'),\n",
    "      keras.metrics.TrueNegatives(name='tn'),\n",
    "      keras.metrics.FalseNegatives(name='fn'),\n",
    "      keras.metrics.BinaryAccuracy(name='accuracy'),\n",
    "      keras.metrics.Precision(name='precision'),\n",
    "      keras.metrics.Recall(name='recall'),\n",
    "      keras.metrics.AUC(name='auc'),\n",
    "      keras.metrics.AUC(name='prc', curve='PR'), # precision-recall curve\n",
    "]"
   ]
  },
  {
   "cell_type": "markdown",
   "metadata": {
    "id": "N6bQjUrPXPaI"
   },
   "source": [
    "# 1- Load Data"
   ]
  },
  {
   "cell_type": "code",
   "execution_count": 5,
   "metadata": {
    "colab": {
     "base_uri": "https://localhost:8080/",
     "height": 721
    },
    "id": "UXVFQgZNaNrg",
    "outputId": "7fccb4b4-1f11-48e5-8aaf-a25e40003012"
   },
   "outputs": [
    {
     "data": {
      "text/html": [
       "<div>\n",
       "<style scoped>\n",
       "    .dataframe tbody tr th:only-of-type {\n",
       "        vertical-align: middle;\n",
       "    }\n",
       "\n",
       "    .dataframe tbody tr th {\n",
       "        vertical-align: top;\n",
       "    }\n",
       "\n",
       "    .dataframe thead th {\n",
       "        text-align: right;\n",
       "    }\n",
       "</style>\n",
       "<table border=\"1\" class=\"dataframe\">\n",
       "  <thead>\n",
       "    <tr style=\"text-align: right;\">\n",
       "      <th></th>\n",
       "      <th>2000</th>\n",
       "      <th>2003</th>\n",
       "      <th>2006</th>\n",
       "      <th>2009</th>\n",
       "      <th>2012</th>\n",
       "      <th>2015</th>\n",
       "      <th>2018</th>\n",
       "      <th>2021</th>\n",
       "      <th>2024</th>\n",
       "      <th>2027</th>\n",
       "      <th>...</th>\n",
       "      <th>19991</th>\n",
       "      <th>19994</th>\n",
       "      <th>19997</th>\n",
       "      <th>code</th>\n",
       "      <th>species</th>\n",
       "      <th>Oxacillin</th>\n",
       "      <th>Clindamycin</th>\n",
       "      <th>Ceftriaxone</th>\n",
       "      <th>Ciprofloxacin</th>\n",
       "      <th>Fusidic acid</th>\n",
       "    </tr>\n",
       "  </thead>\n",
       "  <tbody>\n",
       "    <tr>\n",
       "      <th>0</th>\n",
       "      <td>951.428571</td>\n",
       "      <td>826.125000</td>\n",
       "      <td>944.857143</td>\n",
       "      <td>898.428571</td>\n",
       "      <td>1007.714286</td>\n",
       "      <td>936.000000</td>\n",
       "      <td>828.571429</td>\n",
       "      <td>812.000000</td>\n",
       "      <td>782.714286</td>\n",
       "      <td>741.625000</td>\n",
       "      <td>...</td>\n",
       "      <td>35.5</td>\n",
       "      <td>20.500000</td>\n",
       "      <td>27.342857</td>\n",
       "      <td>029f0abf-1664-424f-88cb-11c9c8af2b11</td>\n",
       "      <td>Staphylococcus aureus</td>\n",
       "      <td>0.0</td>\n",
       "      <td>0.0</td>\n",
       "      <td>0.0</td>\n",
       "      <td>0.0</td>\n",
       "      <td>1.0</td>\n",
       "    </tr>\n",
       "    <tr>\n",
       "      <th>1</th>\n",
       "      <td>784.714286</td>\n",
       "      <td>701.125000</td>\n",
       "      <td>681.571429</td>\n",
       "      <td>762.142857</td>\n",
       "      <td>737.571429</td>\n",
       "      <td>733.000000</td>\n",
       "      <td>735.857143</td>\n",
       "      <td>659.571429</td>\n",
       "      <td>802.714286</td>\n",
       "      <td>554.375000</td>\n",
       "      <td>...</td>\n",
       "      <td>30.0</td>\n",
       "      <td>40.500000</td>\n",
       "      <td>34.695238</td>\n",
       "      <td>08149af1-10f5-4f02-81d8-3d46d66d4a7a</td>\n",
       "      <td>Staphylococcus aureus</td>\n",
       "      <td>0.0</td>\n",
       "      <td>0.0</td>\n",
       "      <td>0.0</td>\n",
       "      <td>0.0</td>\n",
       "      <td>0.0</td>\n",
       "    </tr>\n",
       "    <tr>\n",
       "      <th>2</th>\n",
       "      <td>50.875000</td>\n",
       "      <td>89.142857</td>\n",
       "      <td>56.142857</td>\n",
       "      <td>151.285714</td>\n",
       "      <td>132.714286</td>\n",
       "      <td>110.428571</td>\n",
       "      <td>47.285714</td>\n",
       "      <td>63.428571</td>\n",
       "      <td>100.375000</td>\n",
       "      <td>52.142857</td>\n",
       "      <td>...</td>\n",
       "      <td>2.5</td>\n",
       "      <td>30.500000</td>\n",
       "      <td>11.288462</td>\n",
       "      <td>08fe3876-ecee-4ddc-9aa9-a84f605757f7</td>\n",
       "      <td>Staphylococcus aureus</td>\n",
       "      <td>0.0</td>\n",
       "      <td>0.0</td>\n",
       "      <td>0.0</td>\n",
       "      <td>0.0</td>\n",
       "      <td>0.0</td>\n",
       "    </tr>\n",
       "    <tr>\n",
       "      <th>3</th>\n",
       "      <td>843.285714</td>\n",
       "      <td>816.500000</td>\n",
       "      <td>734.428571</td>\n",
       "      <td>1027.142857</td>\n",
       "      <td>979.428571</td>\n",
       "      <td>875.571429</td>\n",
       "      <td>912.142857</td>\n",
       "      <td>714.428571</td>\n",
       "      <td>945.428571</td>\n",
       "      <td>886.500000</td>\n",
       "      <td>...</td>\n",
       "      <td>15.5</td>\n",
       "      <td>8.000000</td>\n",
       "      <td>20.057143</td>\n",
       "      <td>0a9fdd4b-7180-47c0-849e-cb32d46da94c</td>\n",
       "      <td>Staphylococcus aureus</td>\n",
       "      <td>0.0</td>\n",
       "      <td>0.0</td>\n",
       "      <td>0.0</td>\n",
       "      <td>0.0</td>\n",
       "      <td>0.0</td>\n",
       "    </tr>\n",
       "    <tr>\n",
       "      <th>4</th>\n",
       "      <td>307.857143</td>\n",
       "      <td>295.000000</td>\n",
       "      <td>246.714286</td>\n",
       "      <td>181.571429</td>\n",
       "      <td>258.000000</td>\n",
       "      <td>318.714286</td>\n",
       "      <td>295.714286</td>\n",
       "      <td>300.857143</td>\n",
       "      <td>278.142857</td>\n",
       "      <td>256.125000</td>\n",
       "      <td>...</td>\n",
       "      <td>25.5</td>\n",
       "      <td>32.000000</td>\n",
       "      <td>24.990476</td>\n",
       "      <td>0d82f4c4-473c-49d8-8c85-e3e36e96d047</td>\n",
       "      <td>Staphylococcus aureus</td>\n",
       "      <td>1.0</td>\n",
       "      <td>0.0</td>\n",
       "      <td>1.0</td>\n",
       "      <td>1.0</td>\n",
       "      <td>0.0</td>\n",
       "    </tr>\n",
       "    <tr>\n",
       "      <th>...</th>\n",
       "      <td>...</td>\n",
       "      <td>...</td>\n",
       "      <td>...</td>\n",
       "      <td>...</td>\n",
       "      <td>...</td>\n",
       "      <td>...</td>\n",
       "      <td>...</td>\n",
       "      <td>...</td>\n",
       "      <td>...</td>\n",
       "      <td>...</td>\n",
       "      <td>...</td>\n",
       "      <td>...</td>\n",
       "      <td>...</td>\n",
       "      <td>...</td>\n",
       "      <td>...</td>\n",
       "      <td>...</td>\n",
       "      <td>...</td>\n",
       "      <td>...</td>\n",
       "      <td>...</td>\n",
       "      <td>...</td>\n",
       "      <td>...</td>\n",
       "    </tr>\n",
       "    <tr>\n",
       "      <th>3786</th>\n",
       "      <td>288.000000</td>\n",
       "      <td>330.285714</td>\n",
       "      <td>296.142857</td>\n",
       "      <td>265.142857</td>\n",
       "      <td>310.750000</td>\n",
       "      <td>287.000000</td>\n",
       "      <td>345.000000</td>\n",
       "      <td>260.000000</td>\n",
       "      <td>198.714286</td>\n",
       "      <td>257.285714</td>\n",
       "      <td>...</td>\n",
       "      <td>0.0</td>\n",
       "      <td>0.000000</td>\n",
       "      <td>0.004038</td>\n",
       "      <td>fe72a46e-021e-4f0c-b81e-c4c4507e5aa8_MALDI2</td>\n",
       "      <td>Staphylococcus aureus</td>\n",
       "      <td>0.0</td>\n",
       "      <td>0.0</td>\n",
       "      <td>0.0</td>\n",
       "      <td>0.0</td>\n",
       "      <td>0.0</td>\n",
       "    </tr>\n",
       "    <tr>\n",
       "      <th>3787</th>\n",
       "      <td>1286.142857</td>\n",
       "      <td>989.714286</td>\n",
       "      <td>938.285714</td>\n",
       "      <td>901.428571</td>\n",
       "      <td>872.000000</td>\n",
       "      <td>1001.000000</td>\n",
       "      <td>1061.571429</td>\n",
       "      <td>890.857143</td>\n",
       "      <td>813.857143</td>\n",
       "      <td>961.000000</td>\n",
       "      <td>...</td>\n",
       "      <td>0.0</td>\n",
       "      <td>0.000000</td>\n",
       "      <td>0.053908</td>\n",
       "      <td>fe73e705-161f-49a7-b021-7e78d074129b_MALDI2</td>\n",
       "      <td>Staphylococcus aureus</td>\n",
       "      <td>0.0</td>\n",
       "      <td>0.0</td>\n",
       "      <td>0.0</td>\n",
       "      <td>0.0</td>\n",
       "      <td>0.0</td>\n",
       "    </tr>\n",
       "    <tr>\n",
       "      <th>3788</th>\n",
       "      <td>986.857143</td>\n",
       "      <td>977.285714</td>\n",
       "      <td>892.285714</td>\n",
       "      <td>986.714286</td>\n",
       "      <td>1045.875000</td>\n",
       "      <td>986.857143</td>\n",
       "      <td>963.571429</td>\n",
       "      <td>968.571429</td>\n",
       "      <td>960.857143</td>\n",
       "      <td>969.714286</td>\n",
       "      <td>...</td>\n",
       "      <td>0.0</td>\n",
       "      <td>0.000000</td>\n",
       "      <td>0.039084</td>\n",
       "      <td>feb54c45-54f7-4758-8408-2e94ab6c53e1_MALDI2</td>\n",
       "      <td>Staphylococcus aureus</td>\n",
       "      <td>0.0</td>\n",
       "      <td>0.0</td>\n",
       "      <td>0.0</td>\n",
       "      <td>0.0</td>\n",
       "      <td>0.0</td>\n",
       "    </tr>\n",
       "    <tr>\n",
       "      <th>3789</th>\n",
       "      <td>141.857143</td>\n",
       "      <td>197.428571</td>\n",
       "      <td>148.142857</td>\n",
       "      <td>114.000000</td>\n",
       "      <td>125.857143</td>\n",
       "      <td>158.750000</td>\n",
       "      <td>176.571429</td>\n",
       "      <td>148.285714</td>\n",
       "      <td>149.714286</td>\n",
       "      <td>151.714286</td>\n",
       "      <td>...</td>\n",
       "      <td>0.0</td>\n",
       "      <td>0.000000</td>\n",
       "      <td>0.012113</td>\n",
       "      <td>fef2ea82-be15-4e10-8685-77c42068455c_MALDI2</td>\n",
       "      <td>Staphylococcus aureus</td>\n",
       "      <td>0.0</td>\n",
       "      <td>0.0</td>\n",
       "      <td>0.0</td>\n",
       "      <td>0.0</td>\n",
       "      <td>0.0</td>\n",
       "    </tr>\n",
       "    <tr>\n",
       "      <th>3790</th>\n",
       "      <td>1498.428571</td>\n",
       "      <td>1631.857143</td>\n",
       "      <td>1443.571429</td>\n",
       "      <td>1431.571429</td>\n",
       "      <td>1361.000000</td>\n",
       "      <td>1483.857143</td>\n",
       "      <td>1520.375000</td>\n",
       "      <td>1385.571429</td>\n",
       "      <td>1333.428571</td>\n",
       "      <td>1309.285714</td>\n",
       "      <td>...</td>\n",
       "      <td>19.0</td>\n",
       "      <td>17.333333</td>\n",
       "      <td>16.595960</td>\n",
       "      <td>ff18fac2-7f60-466c-9873-9bc5c8a48318_MALDI1</td>\n",
       "      <td>Staphylococcus aureus</td>\n",
       "      <td>0.0</td>\n",
       "      <td>1.0</td>\n",
       "      <td>0.0</td>\n",
       "      <td>0.0</td>\n",
       "      <td>0.0</td>\n",
       "    </tr>\n",
       "  </tbody>\n",
       "</table>\n",
       "<p>3791 rows × 6007 columns</p>\n",
       "</div>"
      ],
      "text/plain": [
       "             2000         2003         2006         2009         2012  \\\n",
       "0      951.428571   826.125000   944.857143   898.428571  1007.714286   \n",
       "1      784.714286   701.125000   681.571429   762.142857   737.571429   \n",
       "2       50.875000    89.142857    56.142857   151.285714   132.714286   \n",
       "3      843.285714   816.500000   734.428571  1027.142857   979.428571   \n",
       "4      307.857143   295.000000   246.714286   181.571429   258.000000   \n",
       "...           ...          ...          ...          ...          ...   \n",
       "3786   288.000000   330.285714   296.142857   265.142857   310.750000   \n",
       "3787  1286.142857   989.714286   938.285714   901.428571   872.000000   \n",
       "3788   986.857143   977.285714   892.285714   986.714286  1045.875000   \n",
       "3789   141.857143   197.428571   148.142857   114.000000   125.857143   \n",
       "3790  1498.428571  1631.857143  1443.571429  1431.571429  1361.000000   \n",
       "\n",
       "             2015         2018         2021         2024         2027  ...  \\\n",
       "0      936.000000   828.571429   812.000000   782.714286   741.625000  ...   \n",
       "1      733.000000   735.857143   659.571429   802.714286   554.375000  ...   \n",
       "2      110.428571    47.285714    63.428571   100.375000    52.142857  ...   \n",
       "3      875.571429   912.142857   714.428571   945.428571   886.500000  ...   \n",
       "4      318.714286   295.714286   300.857143   278.142857   256.125000  ...   \n",
       "...           ...          ...          ...          ...          ...  ...   \n",
       "3786   287.000000   345.000000   260.000000   198.714286   257.285714  ...   \n",
       "3787  1001.000000  1061.571429   890.857143   813.857143   961.000000  ...   \n",
       "3788   986.857143   963.571429   968.571429   960.857143   969.714286  ...   \n",
       "3789   158.750000   176.571429   148.285714   149.714286   151.714286  ...   \n",
       "3790  1483.857143  1520.375000  1385.571429  1333.428571  1309.285714  ...   \n",
       "\n",
       "      19991      19994      19997  \\\n",
       "0      35.5  20.500000  27.342857   \n",
       "1      30.0  40.500000  34.695238   \n",
       "2       2.5  30.500000  11.288462   \n",
       "3      15.5   8.000000  20.057143   \n",
       "4      25.5  32.000000  24.990476   \n",
       "...     ...        ...        ...   \n",
       "3786    0.0   0.000000   0.004038   \n",
       "3787    0.0   0.000000   0.053908   \n",
       "3788    0.0   0.000000   0.039084   \n",
       "3789    0.0   0.000000   0.012113   \n",
       "3790   19.0  17.333333  16.595960   \n",
       "\n",
       "                                             code                species  \\\n",
       "0            029f0abf-1664-424f-88cb-11c9c8af2b11  Staphylococcus aureus   \n",
       "1            08149af1-10f5-4f02-81d8-3d46d66d4a7a  Staphylococcus aureus   \n",
       "2            08fe3876-ecee-4ddc-9aa9-a84f605757f7  Staphylococcus aureus   \n",
       "3            0a9fdd4b-7180-47c0-849e-cb32d46da94c  Staphylococcus aureus   \n",
       "4            0d82f4c4-473c-49d8-8c85-e3e36e96d047  Staphylococcus aureus   \n",
       "...                                           ...                    ...   \n",
       "3786  fe72a46e-021e-4f0c-b81e-c4c4507e5aa8_MALDI2  Staphylococcus aureus   \n",
       "3787  fe73e705-161f-49a7-b021-7e78d074129b_MALDI2  Staphylococcus aureus   \n",
       "3788  feb54c45-54f7-4758-8408-2e94ab6c53e1_MALDI2  Staphylococcus aureus   \n",
       "3789  fef2ea82-be15-4e10-8685-77c42068455c_MALDI2  Staphylococcus aureus   \n",
       "3790  ff18fac2-7f60-466c-9873-9bc5c8a48318_MALDI1  Staphylococcus aureus   \n",
       "\n",
       "      Oxacillin  Clindamycin  Ceftriaxone  Ciprofloxacin  Fusidic acid  \n",
       "0           0.0          0.0          0.0            0.0           1.0  \n",
       "1           0.0          0.0          0.0            0.0           0.0  \n",
       "2           0.0          0.0          0.0            0.0           0.0  \n",
       "3           0.0          0.0          0.0            0.0           0.0  \n",
       "4           1.0          0.0          1.0            1.0           0.0  \n",
       "...         ...          ...          ...            ...           ...  \n",
       "3786        0.0          0.0          0.0            0.0           0.0  \n",
       "3787        0.0          0.0          0.0            0.0           0.0  \n",
       "3788        0.0          0.0          0.0            0.0           0.0  \n",
       "3789        0.0          0.0          0.0            0.0           0.0  \n",
       "3790        0.0          1.0          0.0            0.0           0.0  \n",
       "\n",
       "[3791 rows x 6007 columns]"
      ]
     },
     "execution_count": 5,
     "metadata": {},
     "output_type": "execute_result"
    }
   ],
   "source": [
    "s_aureus = pd.read_csv('s_aureus_driams_a_bin3_2000_20000Da.csv')\n",
    "s_aureus = s_aureus.fillna(0)\n",
    "s_aureus"
   ]
  },
  {
   "cell_type": "markdown",
   "metadata": {
    "id": "NhURWBqqXoQp"
   },
   "source": [
    "# Preprocessing Data"
   ]
  },
  {
   "cell_type": "code",
   "execution_count": 6,
   "metadata": {
    "id": "koTco5gulH3G"
   },
   "outputs": [],
   "source": [
    "s_aureus_oxacillin = s_aureus.drop(columns=['code','species', 'Clindamycin', 'Ceftriaxone', 'Ciprofloxacin', 'Fusidic acid'])\n",
    "s_aureus_oxacillin.dropna(axis=0, how=\"any\", inplace=True)"
   ]
  },
  {
   "cell_type": "code",
   "execution_count": 7,
   "metadata": {
    "colab": {
     "base_uri": "https://localhost:8080/"
    },
    "id": "orhVwzFGkic-",
    "outputId": "81fb590c-fc1e-40de-c3a6-670302a0e496"
   },
   "outputs": [
    {
     "data": {
      "text/plain": [
       "(3791, 6003)"
      ]
     },
     "execution_count": 7,
     "metadata": {},
     "output_type": "execute_result"
    }
   ],
   "source": [
    "s_aureus_ceftriaxone = s_aureus.drop(columns=['Oxacillin', 'Clindamycin', 'Ceftriaxone', 'Fusidic acid'])\n",
    "#ceftriaxone.dropna(axis=0, how=\"any\", inplace=True)\n",
    "s_aureus_ceftriaxone.dropna(axis=0, how=\"any\", inplace=True)\n",
    "s_aureus_ceftriaxone.shape"
   ]
  },
  {
   "cell_type": "code",
   "execution_count": 8,
   "metadata": {
    "colab": {
     "base_uri": "https://localhost:8080/",
     "height": 255
    },
    "id": "wZUfupfGtc7O",
    "outputId": "8d410c72-1957-46d3-cb47-7e9ccb5f04b4"
   },
   "outputs": [
    {
     "data": {
      "text/html": [
       "<div>\n",
       "<style scoped>\n",
       "    .dataframe tbody tr th:only-of-type {\n",
       "        vertical-align: middle;\n",
       "    }\n",
       "\n",
       "    .dataframe tbody tr th {\n",
       "        vertical-align: top;\n",
       "    }\n",
       "\n",
       "    .dataframe thead th {\n",
       "        text-align: right;\n",
       "    }\n",
       "</style>\n",
       "<table border=\"1\" class=\"dataframe\">\n",
       "  <thead>\n",
       "    <tr style=\"text-align: right;\">\n",
       "      <th></th>\n",
       "      <th>2000</th>\n",
       "      <th>2003</th>\n",
       "      <th>2006</th>\n",
       "      <th>2009</th>\n",
       "      <th>2012</th>\n",
       "      <th>2015</th>\n",
       "      <th>2018</th>\n",
       "      <th>2021</th>\n",
       "      <th>2024</th>\n",
       "      <th>2027</th>\n",
       "      <th>...</th>\n",
       "      <th>19973</th>\n",
       "      <th>19976</th>\n",
       "      <th>19979</th>\n",
       "      <th>19982</th>\n",
       "      <th>19985</th>\n",
       "      <th>19988</th>\n",
       "      <th>19991</th>\n",
       "      <th>19994</th>\n",
       "      <th>19997</th>\n",
       "      <th>Oxacillin</th>\n",
       "    </tr>\n",
       "  </thead>\n",
       "  <tbody>\n",
       "    <tr>\n",
       "      <th>0</th>\n",
       "      <td>951.428571</td>\n",
       "      <td>826.125000</td>\n",
       "      <td>944.857143</td>\n",
       "      <td>898.428571</td>\n",
       "      <td>1007.714286</td>\n",
       "      <td>936.000000</td>\n",
       "      <td>828.571429</td>\n",
       "      <td>812.000000</td>\n",
       "      <td>782.714286</td>\n",
       "      <td>741.625000</td>\n",
       "      <td>...</td>\n",
       "      <td>14.333333</td>\n",
       "      <td>24.0</td>\n",
       "      <td>68.0</td>\n",
       "      <td>19.0</td>\n",
       "      <td>19.000000</td>\n",
       "      <td>50.0</td>\n",
       "      <td>35.5</td>\n",
       "      <td>20.5</td>\n",
       "      <td>27.342857</td>\n",
       "      <td>0.0</td>\n",
       "    </tr>\n",
       "    <tr>\n",
       "      <th>1</th>\n",
       "      <td>784.714286</td>\n",
       "      <td>701.125000</td>\n",
       "      <td>681.571429</td>\n",
       "      <td>762.142857</td>\n",
       "      <td>737.571429</td>\n",
       "      <td>733.000000</td>\n",
       "      <td>735.857143</td>\n",
       "      <td>659.571429</td>\n",
       "      <td>802.714286</td>\n",
       "      <td>554.375000</td>\n",
       "      <td>...</td>\n",
       "      <td>15.666667</td>\n",
       "      <td>39.0</td>\n",
       "      <td>19.5</td>\n",
       "      <td>42.0</td>\n",
       "      <td>69.666667</td>\n",
       "      <td>31.0</td>\n",
       "      <td>30.0</td>\n",
       "      <td>40.5</td>\n",
       "      <td>34.695238</td>\n",
       "      <td>0.0</td>\n",
       "    </tr>\n",
       "    <tr>\n",
       "      <th>2</th>\n",
       "      <td>50.875000</td>\n",
       "      <td>89.142857</td>\n",
       "      <td>56.142857</td>\n",
       "      <td>151.285714</td>\n",
       "      <td>132.714286</td>\n",
       "      <td>110.428571</td>\n",
       "      <td>47.285714</td>\n",
       "      <td>63.428571</td>\n",
       "      <td>100.375000</td>\n",
       "      <td>52.142857</td>\n",
       "      <td>...</td>\n",
       "      <td>20.666667</td>\n",
       "      <td>17.0</td>\n",
       "      <td>2.0</td>\n",
       "      <td>18.0</td>\n",
       "      <td>18.000000</td>\n",
       "      <td>11.5</td>\n",
       "      <td>2.5</td>\n",
       "      <td>30.5</td>\n",
       "      <td>11.288462</td>\n",
       "      <td>0.0</td>\n",
       "    </tr>\n",
       "    <tr>\n",
       "      <th>3</th>\n",
       "      <td>843.285714</td>\n",
       "      <td>816.500000</td>\n",
       "      <td>734.428571</td>\n",
       "      <td>1027.142857</td>\n",
       "      <td>979.428571</td>\n",
       "      <td>875.571429</td>\n",
       "      <td>912.142857</td>\n",
       "      <td>714.428571</td>\n",
       "      <td>945.428571</td>\n",
       "      <td>886.500000</td>\n",
       "      <td>...</td>\n",
       "      <td>22.333333</td>\n",
       "      <td>33.0</td>\n",
       "      <td>29.0</td>\n",
       "      <td>14.5</td>\n",
       "      <td>21.666667</td>\n",
       "      <td>24.5</td>\n",
       "      <td>15.5</td>\n",
       "      <td>8.0</td>\n",
       "      <td>20.057143</td>\n",
       "      <td>0.0</td>\n",
       "    </tr>\n",
       "    <tr>\n",
       "      <th>4</th>\n",
       "      <td>307.857143</td>\n",
       "      <td>295.000000</td>\n",
       "      <td>246.714286</td>\n",
       "      <td>181.571429</td>\n",
       "      <td>258.000000</td>\n",
       "      <td>318.714286</td>\n",
       "      <td>295.714286</td>\n",
       "      <td>300.857143</td>\n",
       "      <td>278.142857</td>\n",
       "      <td>256.125000</td>\n",
       "      <td>...</td>\n",
       "      <td>26.666667</td>\n",
       "      <td>25.5</td>\n",
       "      <td>18.0</td>\n",
       "      <td>53.5</td>\n",
       "      <td>23.000000</td>\n",
       "      <td>24.5</td>\n",
       "      <td>25.5</td>\n",
       "      <td>32.0</td>\n",
       "      <td>24.990476</td>\n",
       "      <td>1.0</td>\n",
       "    </tr>\n",
       "  </tbody>\n",
       "</table>\n",
       "<p>5 rows × 6001 columns</p>\n",
       "</div>"
      ],
      "text/plain": [
       "         2000        2003        2006         2009         2012        2015  \\\n",
       "0  951.428571  826.125000  944.857143   898.428571  1007.714286  936.000000   \n",
       "1  784.714286  701.125000  681.571429   762.142857   737.571429  733.000000   \n",
       "2   50.875000   89.142857   56.142857   151.285714   132.714286  110.428571   \n",
       "3  843.285714  816.500000  734.428571  1027.142857   979.428571  875.571429   \n",
       "4  307.857143  295.000000  246.714286   181.571429   258.000000  318.714286   \n",
       "\n",
       "         2018        2021        2024        2027  ...      19973  19976  \\\n",
       "0  828.571429  812.000000  782.714286  741.625000  ...  14.333333   24.0   \n",
       "1  735.857143  659.571429  802.714286  554.375000  ...  15.666667   39.0   \n",
       "2   47.285714   63.428571  100.375000   52.142857  ...  20.666667   17.0   \n",
       "3  912.142857  714.428571  945.428571  886.500000  ...  22.333333   33.0   \n",
       "4  295.714286  300.857143  278.142857  256.125000  ...  26.666667   25.5   \n",
       "\n",
       "   19979  19982      19985  19988  19991  19994      19997  Oxacillin  \n",
       "0   68.0   19.0  19.000000   50.0   35.5   20.5  27.342857        0.0  \n",
       "1   19.5   42.0  69.666667   31.0   30.0   40.5  34.695238        0.0  \n",
       "2    2.0   18.0  18.000000   11.5    2.5   30.5  11.288462        0.0  \n",
       "3   29.0   14.5  21.666667   24.5   15.5    8.0  20.057143        0.0  \n",
       "4   18.0   53.5  23.000000   24.5   25.5   32.0  24.990476        1.0  \n",
       "\n",
       "[5 rows x 6001 columns]"
      ]
     },
     "execution_count": 8,
     "metadata": {},
     "output_type": "execute_result"
    }
   ],
   "source": [
    "s_aureus_oxacillin.head()"
   ]
  },
  {
   "cell_type": "code",
   "execution_count": 9,
   "metadata": {
    "id": "-4dAtvUEkibF"
   },
   "outputs": [],
   "source": [
    "X = s_aureus_oxacillin.iloc[:, 0:6000].values  # variables independientes (espectros de masa)\n",
    "y = s_aureus_oxacillin.iloc[:, 6000].values    # variable dependientes (resistencia a ciprofloxacin)\n",
    "X = np.asarray(X).astype(np.float32)\n",
    "y = np.asarray(y).astype(np.float32)"
   ]
  },
  {
   "cell_type": "code",
   "execution_count": 10,
   "metadata": {
    "id": "ioZIrUNqlgP9"
   },
   "outputs": [],
   "source": [
    "X_train, X_test, y_train, y_test = train_test_split(X, y, test_size = 0.2, random_state = 0, stratify=y)"
   ]
  },
  {
   "cell_type": "markdown",
   "metadata": {
    "id": "J2Zbxb074EHL"
   },
   "source": [
    "## Aplicacion de SMOTE"
   ]
  },
  {
   "cell_type": "code",
   "execution_count": 11,
   "metadata": {
    "id": "rpLCT_uw4DgM"
   },
   "outputs": [],
   "source": [
    "smote = SMOTE(random_state=42)\n",
    "X_resampled, y_resampled = smote.fit_resample(X_train, y_train)"
   ]
  },
  {
   "cell_type": "code",
   "execution_count": 12,
   "metadata": {
    "colab": {
     "base_uri": "https://localhost:8080/"
    },
    "id": "7FaGCf_04zzV",
    "outputId": "f4e68371-f4d8-405c-9852-f6d7a63997f9"
   },
   "outputs": [
    {
     "name": "stdout",
     "output_type": "stream",
     "text": [
      "0.0    2451\n",
      "1.0     581\n",
      "Name: count, dtype: int64\n"
     ]
    }
   ],
   "source": [
    "print(pd.Series(y_train).value_counts())"
   ]
  },
  {
   "cell_type": "code",
   "execution_count": 13,
   "metadata": {
    "colab": {
     "base_uri": "https://localhost:8080/"
    },
    "id": "i0PWlM_yfc5d",
    "outputId": "e468ff97-ea8b-4c35-dc9e-bfb1c807bebe"
   },
   "outputs": [
    {
     "name": "stdout",
     "output_type": "stream",
     "text": [
      "1.0    2451\n",
      "0.0    2451\n",
      "Name: count, dtype: int64\n"
     ]
    }
   ],
   "source": [
    "print(pd.Series(y_resampled).value_counts())\n"
   ]
  },
  {
   "cell_type": "code",
   "execution_count": 14,
   "metadata": {
    "id": "Cz1ZnhEykiY9"
   },
   "outputs": [],
   "source": [
    "scaler=Normalizer(norm='max')\n",
    "sc_X = scaler\n",
    "X_train = sc_X.fit_transform(X_resampled)\n",
    "X_test = sc_X.transform(X_test)"
   ]
  },
  {
   "cell_type": "code",
   "execution_count": 15,
   "metadata": {
    "colab": {
     "base_uri": "https://localhost:8080/",
     "height": 147
    },
    "id": "_jlwf_ZU0RBE",
    "outputId": "738143bc-fafa-484b-8ac3-efdb65caf0c6"
   },
   "outputs": [
    {
     "data": {
      "text/plain": [
       "1.0    2451\n",
       "0.0    2451\n",
       "Name: count, dtype: int64"
      ]
     },
     "execution_count": 15,
     "metadata": {},
     "output_type": "execute_result"
    }
   ],
   "source": [
    "pd.Series(y_resampled).value_counts()"
   ]
  },
  {
   "cell_type": "code",
   "execution_count": 22,
   "metadata": {
    "id": "HiHCUFo-kiW9"
   },
   "outputs": [
    {
     "data": {
      "text/plain": [
       "' \\nsample_size = X_train.shape[0] # numero de muestras en el set de datos\\ntime_steps  = X_train.shape[1] # numero de atributos en el set de datos\\ninput_dimension = 1            #\\n\\nX_train_reshaped = X_train.reshape(sample_size,time_steps,input_dimension)\\nX_test_reshaped = X_test.reshape(X_test.shape[0],X_test.shape[1],1)\\n\\n'"
      ]
     },
     "execution_count": 22,
     "metadata": {},
     "output_type": "execute_result"
    }
   ],
   "source": [
    "sample_size = X_train.shape[0] # numero de muestras en el set de datos\n",
    "time_steps  = X_train.shape[1] # numero de atributos en el set de datos\n",
    "input_dimension = 1            #\n",
    "\n",
    "X_train_reshaped = X_train.reshape(sample_size,time_steps,input_dimension)\n",
    "X_test_reshaped = X_test.reshape(X_test.shape[0],X_test.shape[1],1)\n",
    "\n",
    "\n",
    "\"\"\" \n",
    "sample_size = X_train.shape[0] # numero de muestras en el set de datos\n",
    "time_steps  = X_train.shape[1] # numero de atributos en el set de datos\n",
    "input_dimension = 1            #\n",
    "\n",
    "X_train_reshaped = X_train.reshape(sample_size,time_steps,input_dimension)\n",
    "X_test_reshaped = X_test.reshape(X_test.shape[0],X_test.shape[1],1)\n",
    "\n",
    "\"\"\""
   ]
  },
  {
   "cell_type": "code",
   "execution_count": 23,
   "metadata": {
    "id": "VEuHRBvAlw79"
   },
   "outputs": [],
   "source": [
    "reduce_lr = ReduceLROnPlateau(monitor='val_loss', factor=0.1, patience=3, min_lr=0.000001)\n",
    "early_st = EarlyStopping(monitor='val_loss', patience=4, restore_best_weights=True)\n",
    "\n",
    "n_timesteps = X_train_reshaped.shape[1] #\n",
    "n_features  = X_train_reshaped.shape[2] #"
   ]
  },
  {
   "cell_type": "markdown",
   "metadata": {
    "id": "hBf6W9iPXz3p"
   },
   "source": [
    "# Create and fit DeepAMR model"
   ]
  },
  {
   "cell_type": "code",
   "execution_count": 24,
   "metadata": {
    "colab": {
     "base_uri": "https://localhost:8080/",
     "height": 953
    },
    "id": "AlJHRRzlkiH9",
    "outputId": "3fbfada7-e7d0-447a-c032-df8f5bf55897"
   },
   "outputs": [
    {
     "name": "stdout",
     "output_type": "stream",
     "text": [
      "Model: \"Modelo_s_aureus_ciprofloxacin\"\n",
      "_________________________________________________________________\n",
      " Layer (type)                Output Shape              Param #   \n",
      "=================================================================\n",
      " Conv_1 (Conv1D)             (None, 5984, 64)          1152      \n",
      "                                                                 \n",
      " batch_normalization_4 (Batc  (None, 5984, 64)         256       \n",
      " hNormalization)                                                 \n",
      "                                                                 \n",
      " activation_4 (Activation)   (None, 5984, 64)          0         \n",
      "                                                                 \n",
      " MaxPooling1D_1 (MaxPooling1  (None, 2992, 64)         0         \n",
      " D)                                                              \n",
      "                                                                 \n",
      " Conv_2 (Conv1D)             (None, 2984, 128)         73856     \n",
      "                                                                 \n",
      " batch_normalization_5 (Batc  (None, 2984, 128)        512       \n",
      " hNormalization)                                                 \n",
      "                                                                 \n",
      " activation_5 (Activation)   (None, 2984, 128)         0         \n",
      "                                                                 \n",
      " MaxPooling1D_2 (MaxPooling1  (None, 1492, 128)        0         \n",
      " D)                                                              \n",
      "                                                                 \n",
      " Conv_3 (Conv1D)             (None, 1488, 256)         164096    \n",
      "                                                                 \n",
      " batch_normalization_6 (Batc  (None, 1488, 256)        1024      \n",
      " hNormalization)                                                 \n",
      "                                                                 \n",
      " activation_6 (Activation)   (None, 1488, 256)         0         \n",
      "                                                                 \n",
      " MaxPooling1D_3 (MaxPooling1  (None, 744, 256)         0         \n",
      " D)                                                              \n",
      "                                                                 \n",
      " Conv_4 (Conv1D)             (None, 740, 256)          327936    \n",
      "                                                                 \n",
      " batch_normalization_7 (Batc  (None, 740, 256)         1024      \n",
      " hNormalization)                                                 \n",
      "                                                                 \n",
      " activation_7 (Activation)   (None, 740, 256)          0         \n",
      "                                                                 \n",
      " MaxPooling1D_4 (MaxPooling1  (None, 370, 256)         0         \n",
      " D)                                                              \n",
      "                                                                 \n",
      " flatten_1 (Flatten)         (None, 94720)             0         \n",
      "                                                                 \n",
      " dropout_1 (Dropout)         (None, 94720)             0         \n",
      "                                                                 \n",
      " fully_connected_0 (Dense)   (None, 256)               24248576  \n",
      "                                                                 \n",
      " fully_connected_1 (Dense)   (None, 64)                16448     \n",
      "                                                                 \n",
      " fully_connected_2 (Dense)   (None, 64)                4160      \n",
      "                                                                 \n",
      " OUT_Layer (Dense)           (None, 1)                 65        \n",
      "                                                                 \n",
      "=================================================================\n",
      "Total params: 24,839,105\n",
      "Trainable params: 24,837,697\n",
      "Non-trainable params: 1,408\n",
      "_________________________________________________________________\n"
     ]
    }
   ],
   "source": [
    "model = Sequential(name=\"Modelo_s_aureus_ciprofloxacin\")\n",
    "init_mode = 'normal'\n",
    "model.add(Conv1D(filters=(64), kernel_size=(17), input_shape = (n_timesteps,n_features), name='Conv_1'))\n",
    "model.add(BatchNormalization())\n",
    "model.add(Activation('relu'))\n",
    "model.add(MaxPooling1D(pool_size=2, name=\"MaxPooling1D_1\"))\n",
    "\n",
    "model.add(Conv1D(filters=(128), kernel_size=(9),kernel_initializer=init_mode, kernel_regularizer=regularizers.l2(0.0001),  name='Conv_2'))\n",
    "model.add(BatchNormalization())\n",
    "model.add(Activation('relu'))\n",
    "model.add(MaxPooling1D(pool_size=2, name=\"MaxPooling1D_2\"))\n",
    "\n",
    "model.add(Conv1D(filters=(256), kernel_size=(5),kernel_initializer=init_mode,kernel_regularizer=regularizers.l2(0.0001),   name='Conv_3'))\n",
    "model.add(BatchNormalization())\n",
    "model.add(Activation('relu'))\n",
    "model.add(MaxPooling1D(pool_size=2, name=\"MaxPooling1D_3\"))\n",
    "\n",
    "model.add(Conv1D(filters=(256), kernel_size=(5),kernel_initializer=init_mode, kernel_regularizer=regularizers.l2(0.0001),   name='Conv_4'))\n",
    "model.add(BatchNormalization())\n",
    "model.add(Activation('relu'))\n",
    "model.add(MaxPooling1D(pool_size=2, name=\"MaxPooling1D_4\"))\n",
    "\n",
    "model.add(Flatten())\n",
    "model.add(Dropout(0.65))\n",
    "model.add(Dense(256, activation='relu',kernel_initializer=init_mode, kernel_regularizer=regularizers.l2(0.0001), name=\"fully_connected_0\"))\n",
    "model.add(Dense(64, activation='relu',kernel_initializer=init_mode, kernel_regularizer=regularizers.l2(0.0001), name=\"fully_connected_1\"))\n",
    "model.add(Dense(64, activation='relu',kernel_initializer=init_mode, kernel_regularizer=regularizers.l2(0.0001),  name=\"fully_connected_2\"))\n",
    "model.add(Dense(n_features, activation='sigmoid', name=\"OUT_Layer\"))\n",
    "\n",
    "model.compile(optimizer = Adam(learning_rate=0.0001), loss = 'binary_crossentropy',  metrics=METRICS)\n",
    "model.summary()"
   ]
  },
  {
   "cell_type": "code",
   "execution_count": 25,
   "metadata": {
    "colab": {
     "base_uri": "https://localhost:8080/"
    },
    "id": "lDksoJagl3H9",
    "outputId": "9e0d0c12-ce80-4bf1-ac57-0faf9891b578"
   },
   "outputs": [
    {
     "name": "stdout",
     "output_type": "stream",
     "text": [
      "Epoch 1/100\n",
      "442/442 [==============================] - 12s 23ms/step - loss: 6.3344 - tp: 1243.0000 - fp: 829.0000 - tn: 1918.0000 - fn: 941.0000 - accuracy: 0.6410 - precision: 0.5999 - recall: 0.5691 - auc: 0.6934 - prc: 0.6448 - val_loss: 6.0057 - val_tp: 45.0000 - val_fp: 0.0000e+00 - val_tn: 0.0000e+00 - val_fn: 446.0000 - val_accuracy: 0.0916 - val_precision: 1.0000 - val_recall: 0.0916 - val_auc: 0.0000e+00 - val_prc: 1.0000 - lr: 1.0000e-04\n",
      "Epoch 2/100\n",
      "442/442 [==============================] - 10s 22ms/step - loss: 5.5072 - tp: 1283.0000 - fp: 622.0000 - tn: 1829.0000 - fn: 677.0000 - accuracy: 0.7055 - precision: 0.6735 - recall: 0.6546 - auc: 0.7758 - prc: 0.7240 - val_loss: 4.9006 - val_tp: 471.0000 - val_fp: 0.0000e+00 - val_tn: 0.0000e+00 - val_fn: 20.0000 - val_accuracy: 0.9593 - val_precision: 1.0000 - val_recall: 0.9593 - val_auc: 0.0000e+00 - val_prc: 1.0000 - lr: 1.0000e-04\n",
      "Epoch 3/100\n",
      "442/442 [==============================] - 10s 22ms/step - loss: 4.9693 - tp: 1387.0000 - fp: 565.0000 - tn: 1886.0000 - fn: 573.0000 - accuracy: 0.7420 - precision: 0.7106 - recall: 0.7077 - auc: 0.8234 - prc: 0.7847 - val_loss: 4.4778 - val_tp: 462.0000 - val_fp: 0.0000e+00 - val_tn: 0.0000e+00 - val_fn: 29.0000 - val_accuracy: 0.9409 - val_precision: 1.0000 - val_recall: 0.9409 - val_auc: 0.0000e+00 - val_prc: 1.0000 - lr: 1.0000e-04\n",
      "Epoch 4/100\n",
      "442/442 [==============================] - 10s 22ms/step - loss: 4.5112 - tp: 1428.0000 - fp: 472.0000 - tn: 1979.0000 - fn: 532.0000 - accuracy: 0.7724 - precision: 0.7516 - recall: 0.7286 - auc: 0.8541 - prc: 0.8334 - val_loss: 4.1826 - val_tp: 413.0000 - val_fp: 0.0000e+00 - val_tn: 0.0000e+00 - val_fn: 78.0000 - val_accuracy: 0.8411 - val_precision: 1.0000 - val_recall: 0.8411 - val_auc: 0.0000e+00 - val_prc: 1.0000 - lr: 1.0000e-04\n",
      "Epoch 5/100\n",
      "442/442 [==============================] - 10s 22ms/step - loss: 4.0821 - tp: 1486.0000 - fp: 406.0000 - tn: 2045.0000 - fn: 474.0000 - accuracy: 0.8005 - precision: 0.7854 - recall: 0.7582 - auc: 0.8837 - prc: 0.8643 - val_loss: 3.8686 - val_tp: 405.0000 - val_fp: 0.0000e+00 - val_tn: 0.0000e+00 - val_fn: 86.0000 - val_accuracy: 0.8248 - val_precision: 1.0000 - val_recall: 0.8248 - val_auc: 0.0000e+00 - val_prc: 1.0000 - lr: 1.0000e-04\n",
      "Epoch 6/100\n",
      "442/442 [==============================] - 10s 22ms/step - loss: 3.6984 - tp: 1529.0000 - fp: 368.0000 - tn: 2083.0000 - fn: 431.0000 - accuracy: 0.8189 - precision: 0.8060 - recall: 0.7801 - auc: 0.8999 - prc: 0.8834 - val_loss: 3.3961 - val_tp: 434.0000 - val_fp: 0.0000e+00 - val_tn: 0.0000e+00 - val_fn: 57.0000 - val_accuracy: 0.8839 - val_precision: 1.0000 - val_recall: 0.8839 - val_auc: 0.0000e+00 - val_prc: 1.0000 - lr: 1.0000e-04\n",
      "Epoch 7/100\n",
      "442/442 [==============================] - 10s 22ms/step - loss: 3.3466 - tp: 1550.0000 - fp: 330.0000 - tn: 2121.0000 - fn: 410.0000 - accuracy: 0.8322 - precision: 0.8245 - recall: 0.7908 - auc: 0.9123 - prc: 0.9013 - val_loss: 2.9617 - val_tp: 466.0000 - val_fp: 0.0000e+00 - val_tn: 0.0000e+00 - val_fn: 25.0000 - val_accuracy: 0.9491 - val_precision: 1.0000 - val_recall: 0.9491 - val_auc: 0.0000e+00 - val_prc: 1.0000 - lr: 1.0000e-04\n",
      "Epoch 8/100\n",
      "442/442 [==============================] - 10s 22ms/step - loss: 3.0301 - tp: 1585.0000 - fp: 318.0000 - tn: 2133.0000 - fn: 375.0000 - accuracy: 0.8429 - precision: 0.8329 - recall: 0.8087 - auc: 0.9225 - prc: 0.9103 - val_loss: 2.9167 - val_tp: 403.0000 - val_fp: 0.0000e+00 - val_tn: 0.0000e+00 - val_fn: 88.0000 - val_accuracy: 0.8208 - val_precision: 1.0000 - val_recall: 0.8208 - val_auc: 0.0000e+00 - val_prc: 1.0000 - lr: 1.0000e-04\n",
      "Epoch 9/100\n",
      "442/442 [==============================] - 10s 23ms/step - loss: 2.7361 - tp: 1625.0000 - fp: 274.0000 - tn: 2177.0000 - fn: 335.0000 - accuracy: 0.8619 - precision: 0.8557 - recall: 0.8291 - auc: 0.9340 - prc: 0.9260 - val_loss: 2.6379 - val_tp: 411.0000 - val_fp: 0.0000e+00 - val_tn: 0.0000e+00 - val_fn: 80.0000 - val_accuracy: 0.8371 - val_precision: 1.0000 - val_recall: 0.8371 - val_auc: 0.0000e+00 - val_prc: 1.0000 - lr: 1.0000e-04\n",
      "Epoch 10/100\n",
      "442/442 [==============================] - 10s 22ms/step - loss: 2.4816 - tp: 1650.0000 - fp: 260.0000 - tn: 2191.0000 - fn: 310.0000 - accuracy: 0.8708 - precision: 0.8639 - recall: 0.8418 - auc: 0.9407 - prc: 0.9340 - val_loss: 2.3666 - val_tp: 419.0000 - val_fp: 0.0000e+00 - val_tn: 0.0000e+00 - val_fn: 72.0000 - val_accuracy: 0.8534 - val_precision: 1.0000 - val_recall: 0.8534 - val_auc: 0.0000e+00 - val_prc: 1.0000 - lr: 1.0000e-04\n",
      "Epoch 11/100\n",
      "442/442 [==============================] - 10s 22ms/step - loss: 2.2579 - tp: 1643.0000 - fp: 253.0000 - tn: 2198.0000 - fn: 317.0000 - accuracy: 0.8708 - precision: 0.8666 - recall: 0.8383 - auc: 0.9456 - prc: 0.9409 - val_loss: 1.9762 - val_tp: 475.0000 - val_fp: 0.0000e+00 - val_tn: 0.0000e+00 - val_fn: 16.0000 - val_accuracy: 0.9674 - val_precision: 1.0000 - val_recall: 0.9674 - val_auc: 0.0000e+00 - val_prc: 1.0000 - lr: 1.0000e-04\n",
      "Epoch 12/100\n",
      "442/442 [==============================] - 10s 22ms/step - loss: 2.0436 - tp: 1685.0000 - fp: 221.0000 - tn: 2230.0000 - fn: 275.0000 - accuracy: 0.8876 - precision: 0.8841 - recall: 0.8597 - auc: 0.9566 - prc: 0.9522 - val_loss: 1.8041 - val_tp: 472.0000 - val_fp: 0.0000e+00 - val_tn: 0.0000e+00 - val_fn: 19.0000 - val_accuracy: 0.9613 - val_precision: 1.0000 - val_recall: 0.9613 - val_auc: 0.0000e+00 - val_prc: 1.0000 - lr: 1.0000e-04\n",
      "Epoch 13/100\n",
      "442/442 [==============================] - 10s 22ms/step - loss: 1.8777 - tp: 1693.0000 - fp: 209.0000 - tn: 2242.0000 - fn: 267.0000 - accuracy: 0.8921 - precision: 0.8901 - recall: 0.8638 - auc: 0.9585 - prc: 0.9536 - val_loss: 1.6605 - val_tp: 473.0000 - val_fp: 0.0000e+00 - val_tn: 0.0000e+00 - val_fn: 18.0000 - val_accuracy: 0.9633 - val_precision: 1.0000 - val_recall: 0.9633 - val_auc: 0.0000e+00 - val_prc: 1.0000 - lr: 1.0000e-04\n",
      "Epoch 14/100\n",
      "442/442 [==============================] - 10s 22ms/step - loss: 1.7110 - tp: 1734.0000 - fp: 170.0000 - tn: 2281.0000 - fn: 226.0000 - accuracy: 0.9102 - precision: 0.9107 - recall: 0.8847 - auc: 0.9664 - prc: 0.9626 - val_loss: 1.4728 - val_tp: 481.0000 - val_fp: 0.0000e+00 - val_tn: 0.0000e+00 - val_fn: 10.0000 - val_accuracy: 0.9796 - val_precision: 1.0000 - val_recall: 0.9796 - val_auc: 0.0000e+00 - val_prc: 1.0000 - lr: 1.0000e-04\n",
      "Epoch 15/100\n",
      "442/442 [==============================] - 10s 22ms/step - loss: 1.5785 - tp: 1720.0000 - fp: 182.0000 - tn: 2269.0000 - fn: 240.0000 - accuracy: 0.9043 - precision: 0.9043 - recall: 0.8776 - auc: 0.9701 - prc: 0.9668 - val_loss: 1.4137 - val_tp: 472.0000 - val_fp: 0.0000e+00 - val_tn: 0.0000e+00 - val_fn: 19.0000 - val_accuracy: 0.9613 - val_precision: 1.0000 - val_recall: 0.9613 - val_auc: 0.0000e+00 - val_prc: 1.0000 - lr: 1.0000e-04\n",
      "Epoch 16/100\n",
      "442/442 [==============================] - 10s 22ms/step - loss: 1.4661 - tp: 1757.0000 - fp: 171.0000 - tn: 2280.0000 - fn: 203.0000 - accuracy: 0.9152 - precision: 0.9113 - recall: 0.8964 - auc: 0.9727 - prc: 0.9680 - val_loss: 1.5099 - val_tp: 425.0000 - val_fp: 0.0000e+00 - val_tn: 0.0000e+00 - val_fn: 66.0000 - val_accuracy: 0.8656 - val_precision: 1.0000 - val_recall: 0.8656 - val_auc: 0.0000e+00 - val_prc: 1.0000 - lr: 1.0000e-04\n",
      "Epoch 17/100\n",
      "442/442 [==============================] - 10s 22ms/step - loss: 1.3587 - tp: 1762.0000 - fp: 159.0000 - tn: 2292.0000 - fn: 198.0000 - accuracy: 0.9191 - precision: 0.9172 - recall: 0.8990 - auc: 0.9766 - prc: 0.9737 - val_loss: 1.9068 - val_tp: 314.0000 - val_fp: 0.0000e+00 - val_tn: 0.0000e+00 - val_fn: 177.0000 - val_accuracy: 0.6395 - val_precision: 1.0000 - val_recall: 0.6395 - val_auc: 0.0000e+00 - val_prc: 1.0000 - lr: 1.0000e-04\n",
      "Epoch 18/100\n",
      "442/442 [==============================] - 10s 22ms/step - loss: 1.2658 - tp: 1794.0000 - fp: 142.0000 - tn: 2309.0000 - fn: 166.0000 - accuracy: 0.9302 - precision: 0.9267 - recall: 0.9153 - auc: 0.9799 - prc: 0.9756 - val_loss: 1.1642 - val_tp: 470.0000 - val_fp: 0.0000e+00 - val_tn: 0.0000e+00 - val_fn: 21.0000 - val_accuracy: 0.9572 - val_precision: 1.0000 - val_recall: 0.9572 - val_auc: 0.0000e+00 - val_prc: 1.0000 - lr: 1.0000e-04\n",
      "Epoch 19/100\n",
      "442/442 [==============================] - 10s 22ms/step - loss: 1.1793 - tp: 1801.0000 - fp: 126.0000 - tn: 2325.0000 - fn: 159.0000 - accuracy: 0.9354 - precision: 0.9346 - recall: 0.9189 - auc: 0.9835 - prc: 0.9812 - val_loss: 1.0706 - val_tp: 478.0000 - val_fp: 0.0000e+00 - val_tn: 0.0000e+00 - val_fn: 13.0000 - val_accuracy: 0.9735 - val_precision: 1.0000 - val_recall: 0.9735 - val_auc: 0.0000e+00 - val_prc: 1.0000 - lr: 1.0000e-04\n",
      "Epoch 20/100\n",
      "442/442 [==============================] - 10s 22ms/step - loss: 1.1175 - tp: 1813.0000 - fp: 132.0000 - tn: 2319.0000 - fn: 147.0000 - accuracy: 0.9367 - precision: 0.9321 - recall: 0.9250 - auc: 0.9835 - prc: 0.9796 - val_loss: 0.9879 - val_tp: 479.0000 - val_fp: 0.0000e+00 - val_tn: 0.0000e+00 - val_fn: 12.0000 - val_accuracy: 0.9756 - val_precision: 1.0000 - val_recall: 0.9756 - val_auc: 0.0000e+00 - val_prc: 1.0000 - lr: 1.0000e-04\n",
      "Epoch 21/100\n",
      "442/442 [==============================] - 10s 22ms/step - loss: 1.0691 - tp: 1809.0000 - fp: 132.0000 - tn: 2319.0000 - fn: 151.0000 - accuracy: 0.9358 - precision: 0.9320 - recall: 0.9230 - auc: 0.9824 - prc: 0.9802 - val_loss: 1.2833 - val_tp: 402.0000 - val_fp: 0.0000e+00 - val_tn: 0.0000e+00 - val_fn: 89.0000 - val_accuracy: 0.8187 - val_precision: 1.0000 - val_recall: 0.8187 - val_auc: 0.0000e+00 - val_prc: 1.0000 - lr: 1.0000e-04\n",
      "Epoch 22/100\n",
      "442/442 [==============================] - 10s 22ms/step - loss: 0.9967 - tp: 1832.0000 - fp: 118.0000 - tn: 2333.0000 - fn: 128.0000 - accuracy: 0.9442 - precision: 0.9395 - recall: 0.9347 - auc: 0.9878 - prc: 0.9849 - val_loss: 0.9412 - val_tp: 466.0000 - val_fp: 0.0000e+00 - val_tn: 0.0000e+00 - val_fn: 25.0000 - val_accuracy: 0.9491 - val_precision: 1.0000 - val_recall: 0.9491 - val_auc: 0.0000e+00 - val_prc: 1.0000 - lr: 1.0000e-04\n",
      "Epoch 23/100\n",
      "442/442 [==============================] - 10s 22ms/step - loss: 0.9473 - tp: 1834.0000 - fp: 117.0000 - tn: 2334.0000 - fn: 126.0000 - accuracy: 0.9449 - precision: 0.9400 - recall: 0.9357 - auc: 0.9893 - prc: 0.9872 - val_loss: 0.9617 - val_tp: 454.0000 - val_fp: 0.0000e+00 - val_tn: 0.0000e+00 - val_fn: 37.0000 - val_accuracy: 0.9246 - val_precision: 1.0000 - val_recall: 0.9246 - val_auc: 0.0000e+00 - val_prc: 1.0000 - lr: 1.0000e-04\n",
      "Epoch 24/100\n",
      "442/442 [==============================] - 9s 21ms/step - loss: 0.9167 - tp: 1847.0000 - fp: 110.0000 - tn: 2341.0000 - fn: 113.0000 - accuracy: 0.9494 - precision: 0.9438 - recall: 0.9423 - auc: 0.9881 - prc: 0.9853 - val_loss: 0.8282 - val_tp: 477.0000 - val_fp: 0.0000e+00 - val_tn: 0.0000e+00 - val_fn: 14.0000 - val_accuracy: 0.9715 - val_precision: 1.0000 - val_recall: 0.9715 - val_auc: 0.0000e+00 - val_prc: 1.0000 - lr: 1.0000e-04\n",
      "Epoch 25/100\n",
      "442/442 [==============================] - 10s 22ms/step - loss: 0.8538 - tp: 1860.0000 - fp: 86.0000 - tn: 2365.0000 - fn: 100.0000 - accuracy: 0.9578 - precision: 0.9558 - recall: 0.9490 - auc: 0.9929 - prc: 0.9914 - val_loss: 0.7735 - val_tp: 486.0000 - val_fp: 0.0000e+00 - val_tn: 0.0000e+00 - val_fn: 5.0000 - val_accuracy: 0.9898 - val_precision: 1.0000 - val_recall: 0.9898 - val_auc: 0.0000e+00 - val_prc: 1.0000 - lr: 1.0000e-04\n",
      "Epoch 26/100\n",
      "442/442 [==============================] - 10s 22ms/step - loss: 0.8166 - tp: 1866.0000 - fp: 81.0000 - tn: 2370.0000 - fn: 94.0000 - accuracy: 0.9603 - precision: 0.9584 - recall: 0.9520 - auc: 0.9937 - prc: 0.9930 - val_loss: 0.7800 - val_tp: 481.0000 - val_fp: 0.0000e+00 - val_tn: 0.0000e+00 - val_fn: 10.0000 - val_accuracy: 0.9796 - val_precision: 1.0000 - val_recall: 0.9796 - val_auc: 0.0000e+00 - val_prc: 1.0000 - lr: 1.0000e-04\n",
      "Epoch 27/100\n",
      "442/442 [==============================] - 10s 22ms/step - loss: 0.8052 - tp: 1857.0000 - fp: 101.0000 - tn: 2350.0000 - fn: 103.0000 - accuracy: 0.9538 - precision: 0.9484 - recall: 0.9474 - auc: 0.9922 - prc: 0.9900 - val_loss: 0.6986 - val_tp: 491.0000 - val_fp: 0.0000e+00 - val_tn: 0.0000e+00 - val_fn: 0.0000e+00 - val_accuracy: 1.0000 - val_precision: 1.0000 - val_recall: 1.0000 - val_auc: 0.0000e+00 - val_prc: 1.0000 - lr: 1.0000e-04\n",
      "Epoch 28/100\n",
      "442/442 [==============================] - 10s 22ms/step - loss: 0.7701 - tp: 1866.0000 - fp: 87.0000 - tn: 2364.0000 - fn: 94.0000 - accuracy: 0.9590 - precision: 0.9555 - recall: 0.9520 - auc: 0.9933 - prc: 0.9908 - val_loss: 0.6923 - val_tp: 485.0000 - val_fp: 0.0000e+00 - val_tn: 0.0000e+00 - val_fn: 6.0000 - val_accuracy: 0.9878 - val_precision: 1.0000 - val_recall: 0.9878 - val_auc: 0.0000e+00 - val_prc: 1.0000 - lr: 1.0000e-04\n",
      "Epoch 29/100\n",
      "442/442 [==============================] - 10s 22ms/step - loss: 0.7336 - tp: 1870.0000 - fp: 78.0000 - tn: 2373.0000 - fn: 90.0000 - accuracy: 0.9619 - precision: 0.9600 - recall: 0.9541 - auc: 0.9953 - prc: 0.9944 - val_loss: 0.7192 - val_tp: 472.0000 - val_fp: 0.0000e+00 - val_tn: 0.0000e+00 - val_fn: 19.0000 - val_accuracy: 0.9613 - val_precision: 1.0000 - val_recall: 0.9613 - val_auc: 0.0000e+00 - val_prc: 1.0000 - lr: 1.0000e-04\n",
      "Epoch 30/100\n",
      "442/442 [==============================] - 10s 22ms/step - loss: 0.7179 - tp: 1878.0000 - fp: 80.0000 - tn: 2371.0000 - fn: 82.0000 - accuracy: 0.9633 - precision: 0.9591 - recall: 0.9582 - auc: 0.9942 - prc: 0.9930 - val_loss: 0.6272 - val_tp: 490.0000 - val_fp: 0.0000e+00 - val_tn: 0.0000e+00 - val_fn: 1.0000 - val_accuracy: 0.9980 - val_precision: 1.0000 - val_recall: 0.9980 - val_auc: 0.0000e+00 - val_prc: 1.0000 - lr: 1.0000e-04\n",
      "Epoch 31/100\n",
      "442/442 [==============================] - 10s 22ms/step - loss: 0.6993 - tp: 1877.0000 - fp: 68.0000 - tn: 2383.0000 - fn: 83.0000 - accuracy: 0.9658 - precision: 0.9650 - recall: 0.9577 - auc: 0.9942 - prc: 0.9928 - val_loss: 0.6106 - val_tp: 489.0000 - val_fp: 0.0000e+00 - val_tn: 0.0000e+00 - val_fn: 2.0000 - val_accuracy: 0.9959 - val_precision: 1.0000 - val_recall: 0.9959 - val_auc: 0.0000e+00 - val_prc: 1.0000 - lr: 1.0000e-04\n",
      "Epoch 32/100\n",
      "442/442 [==============================] - 10s 22ms/step - loss: 0.6717 - tp: 1891.0000 - fp: 71.0000 - tn: 2380.0000 - fn: 69.0000 - accuracy: 0.9683 - precision: 0.9638 - recall: 0.9648 - auc: 0.9952 - prc: 0.9942 - val_loss: 0.7176 - val_tp: 461.0000 - val_fp: 0.0000e+00 - val_tn: 0.0000e+00 - val_fn: 30.0000 - val_accuracy: 0.9389 - val_precision: 1.0000 - val_recall: 0.9389 - val_auc: 0.0000e+00 - val_prc: 1.0000 - lr: 1.0000e-04\n",
      "Epoch 33/100\n",
      "442/442 [==============================] - 10s 22ms/step - loss: 0.6480 - tp: 1887.0000 - fp: 57.0000 - tn: 2394.0000 - fn: 73.0000 - accuracy: 0.9705 - precision: 0.9707 - recall: 0.9628 - auc: 0.9959 - prc: 0.9954 - val_loss: 0.6959 - val_tp: 460.0000 - val_fp: 0.0000e+00 - val_tn: 0.0000e+00 - val_fn: 31.0000 - val_accuracy: 0.9369 - val_precision: 1.0000 - val_recall: 0.9369 - val_auc: 0.0000e+00 - val_prc: 1.0000 - lr: 1.0000e-04\n",
      "Epoch 34/100\n",
      "442/442 [==============================] - 10s 22ms/step - loss: 0.6231 - tp: 1906.0000 - fp: 59.0000 - tn: 2392.0000 - fn: 54.0000 - accuracy: 0.9744 - precision: 0.9700 - recall: 0.9724 - auc: 0.9966 - prc: 0.9957 - val_loss: 0.6056 - val_tp: 478.0000 - val_fp: 0.0000e+00 - val_tn: 0.0000e+00 - val_fn: 13.0000 - val_accuracy: 0.9735 - val_precision: 1.0000 - val_recall: 0.9735 - val_auc: 0.0000e+00 - val_prc: 1.0000 - lr: 1.0000e-04\n",
      "Epoch 35/100\n",
      "442/442 [==============================] - 10s 22ms/step - loss: 0.6029 - tp: 1906.0000 - fp: 54.0000 - tn: 2397.0000 - fn: 54.0000 - accuracy: 0.9755 - precision: 0.9724 - recall: 0.9724 - auc: 0.9970 - prc: 0.9967 - val_loss: 0.5480 - val_tp: 491.0000 - val_fp: 0.0000e+00 - val_tn: 0.0000e+00 - val_fn: 0.0000e+00 - val_accuracy: 1.0000 - val_precision: 1.0000 - val_recall: 1.0000 - val_auc: 0.0000e+00 - val_prc: 1.0000 - lr: 1.0000e-04\n",
      "Epoch 36/100\n",
      "442/442 [==============================] - 10s 22ms/step - loss: 0.5748 - tp: 1914.0000 - fp: 38.0000 - tn: 2413.0000 - fn: 46.0000 - accuracy: 0.9810 - precision: 0.9805 - recall: 0.9765 - auc: 0.9978 - prc: 0.9968 - val_loss: 0.5342 - val_tp: 489.0000 - val_fp: 0.0000e+00 - val_tn: 0.0000e+00 - val_fn: 2.0000 - val_accuracy: 0.9959 - val_precision: 1.0000 - val_recall: 0.9959 - val_auc: 0.0000e+00 - val_prc: 1.0000 - lr: 1.0000e-04\n",
      "Epoch 37/100\n",
      "442/442 [==============================] - 10s 22ms/step - loss: 0.5826 - tp: 1896.0000 - fp: 61.0000 - tn: 2390.0000 - fn: 64.0000 - accuracy: 0.9717 - precision: 0.9688 - recall: 0.9673 - auc: 0.9961 - prc: 0.9944 - val_loss: 0.5117 - val_tp: 491.0000 - val_fp: 0.0000e+00 - val_tn: 0.0000e+00 - val_fn: 0.0000e+00 - val_accuracy: 1.0000 - val_precision: 1.0000 - val_recall: 1.0000 - val_auc: 0.0000e+00 - val_prc: 1.0000 - lr: 1.0000e-04\n",
      "Epoch 38/100\n",
      "442/442 [==============================] - 10s 22ms/step - loss: 0.5611 - tp: 1898.0000 - fp: 52.0000 - tn: 2399.0000 - fn: 62.0000 - accuracy: 0.9742 - precision: 0.9733 - recall: 0.9684 - auc: 0.9970 - prc: 0.9968 - val_loss: 0.5084 - val_tp: 489.0000 - val_fp: 0.0000e+00 - val_tn: 0.0000e+00 - val_fn: 2.0000 - val_accuracy: 0.9959 - val_precision: 1.0000 - val_recall: 0.9959 - val_auc: 0.0000e+00 - val_prc: 1.0000 - lr: 1.0000e-04\n",
      "Epoch 39/100\n",
      "442/442 [==============================] - 10s 22ms/step - loss: 0.5388 - tp: 1914.0000 - fp: 50.0000 - tn: 2401.0000 - fn: 46.0000 - accuracy: 0.9782 - precision: 0.9745 - recall: 0.9765 - auc: 0.9978 - prc: 0.9972 - val_loss: 0.4797 - val_tp: 491.0000 - val_fp: 0.0000e+00 - val_tn: 0.0000e+00 - val_fn: 0.0000e+00 - val_accuracy: 1.0000 - val_precision: 1.0000 - val_recall: 1.0000 - val_auc: 0.0000e+00 - val_prc: 1.0000 - lr: 1.0000e-04\n",
      "Epoch 40/100\n",
      "442/442 [==============================] - 10s 22ms/step - loss: 0.5329 - tp: 1908.0000 - fp: 52.0000 - tn: 2399.0000 - fn: 52.0000 - accuracy: 0.9764 - precision: 0.9735 - recall: 0.9735 - auc: 0.9975 - prc: 0.9972 - val_loss: 0.4872 - val_tp: 489.0000 - val_fp: 0.0000e+00 - val_tn: 0.0000e+00 - val_fn: 2.0000 - val_accuracy: 0.9959 - val_precision: 1.0000 - val_recall: 0.9959 - val_auc: 0.0000e+00 - val_prc: 1.0000 - lr: 1.0000e-04\n",
      "Epoch 41/100\n",
      "442/442 [==============================] - 10s 22ms/step - loss: 0.5226 - tp: 1911.0000 - fp: 50.0000 - tn: 2401.0000 - fn: 49.0000 - accuracy: 0.9776 - precision: 0.9745 - recall: 0.9750 - auc: 0.9972 - prc: 0.9962 - val_loss: 0.4643 - val_tp: 491.0000 - val_fp: 0.0000e+00 - val_tn: 0.0000e+00 - val_fn: 0.0000e+00 - val_accuracy: 1.0000 - val_precision: 1.0000 - val_recall: 1.0000 - val_auc: 0.0000e+00 - val_prc: 1.0000 - lr: 1.0000e-04\n",
      "Epoch 42/100\n",
      "442/442 [==============================] - 10s 22ms/step - loss: 0.4919 - tp: 1922.0000 - fp: 37.0000 - tn: 2414.0000 - fn: 38.0000 - accuracy: 0.9830 - precision: 0.9811 - recall: 0.9806 - auc: 0.9989 - prc: 0.9987 - val_loss: 0.4587 - val_tp: 490.0000 - val_fp: 0.0000e+00 - val_tn: 0.0000e+00 - val_fn: 1.0000 - val_accuracy: 0.9980 - val_precision: 1.0000 - val_recall: 0.9980 - val_auc: 0.0000e+00 - val_prc: 1.0000 - lr: 1.0000e-04\n",
      "Epoch 43/100\n",
      "442/442 [==============================] - 10s 22ms/step - loss: 0.4819 - tp: 1923.0000 - fp: 32.0000 - tn: 2419.0000 - fn: 37.0000 - accuracy: 0.9844 - precision: 0.9836 - recall: 0.9811 - auc: 0.9988 - prc: 0.9982 - val_loss: 0.4533 - val_tp: 489.0000 - val_fp: 0.0000e+00 - val_tn: 0.0000e+00 - val_fn: 2.0000 - val_accuracy: 0.9959 - val_precision: 1.0000 - val_recall: 0.9959 - val_auc: 0.0000e+00 - val_prc: 1.0000 - lr: 1.0000e-04\n",
      "Epoch 44/100\n",
      "442/442 [==============================] - 10s 22ms/step - loss: 0.4870 - tp: 1908.0000 - fp: 46.0000 - tn: 2405.0000 - fn: 52.0000 - accuracy: 0.9778 - precision: 0.9765 - recall: 0.9735 - auc: 0.9970 - prc: 0.9963 - val_loss: 0.6368 - val_tp: 447.0000 - val_fp: 0.0000e+00 - val_tn: 0.0000e+00 - val_fn: 44.0000 - val_accuracy: 0.9104 - val_precision: 1.0000 - val_recall: 0.9104 - val_auc: 0.0000e+00 - val_prc: 1.0000 - lr: 1.0000e-04\n",
      "Epoch 45/100\n",
      "442/442 [==============================] - 10s 22ms/step - loss: 0.4657 - tp: 1924.0000 - fp: 29.0000 - tn: 2422.0000 - fn: 36.0000 - accuracy: 0.9853 - precision: 0.9852 - recall: 0.9816 - auc: 0.9984 - prc: 0.9973 - val_loss: 0.4194 - val_tp: 491.0000 - val_fp: 0.0000e+00 - val_tn: 0.0000e+00 - val_fn: 0.0000e+00 - val_accuracy: 1.0000 - val_precision: 1.0000 - val_recall: 1.0000 - val_auc: 0.0000e+00 - val_prc: 1.0000 - lr: 1.0000e-04\n",
      "Epoch 46/100\n",
      "442/442 [==============================] - 10s 22ms/step - loss: 0.4542 - tp: 1928.0000 - fp: 31.0000 - tn: 2420.0000 - fn: 32.0000 - accuracy: 0.9857 - precision: 0.9842 - recall: 0.9837 - auc: 0.9980 - prc: 0.9978 - val_loss: 0.4141 - val_tp: 491.0000 - val_fp: 0.0000e+00 - val_tn: 0.0000e+00 - val_fn: 0.0000e+00 - val_accuracy: 1.0000 - val_precision: 1.0000 - val_recall: 1.0000 - val_auc: 0.0000e+00 - val_prc: 1.0000 - lr: 1.0000e-04\n",
      "Epoch 47/100\n",
      "442/442 [==============================] - 10s 22ms/step - loss: 0.4504 - tp: 1918.0000 - fp: 42.0000 - tn: 2409.0000 - fn: 42.0000 - accuracy: 0.9810 - precision: 0.9786 - recall: 0.9786 - auc: 0.9980 - prc: 0.9976 - val_loss: 0.4030 - val_tp: 491.0000 - val_fp: 0.0000e+00 - val_tn: 0.0000e+00 - val_fn: 0.0000e+00 - val_accuracy: 1.0000 - val_precision: 1.0000 - val_recall: 1.0000 - val_auc: 0.0000e+00 - val_prc: 1.0000 - lr: 1.0000e-04\n",
      "Epoch 48/100\n",
      "442/442 [==============================] - 10s 22ms/step - loss: 0.4367 - tp: 1928.0000 - fp: 31.0000 - tn: 2420.0000 - fn: 32.0000 - accuracy: 0.9857 - precision: 0.9842 - recall: 0.9837 - auc: 0.9985 - prc: 0.9985 - val_loss: 0.3986 - val_tp: 490.0000 - val_fp: 0.0000e+00 - val_tn: 0.0000e+00 - val_fn: 1.0000 - val_accuracy: 0.9980 - val_precision: 1.0000 - val_recall: 0.9980 - val_auc: 0.0000e+00 - val_prc: 1.0000 - lr: 1.0000e-04\n",
      "Epoch 49/100\n",
      "442/442 [==============================] - 10s 22ms/step - loss: 0.4215 - tp: 1932.0000 - fp: 25.0000 - tn: 2426.0000 - fn: 28.0000 - accuracy: 0.9880 - precision: 0.9872 - recall: 0.9857 - auc: 0.9987 - prc: 0.9988 - val_loss: 0.4175 - val_tp: 483.0000 - val_fp: 0.0000e+00 - val_tn: 0.0000e+00 - val_fn: 8.0000 - val_accuracy: 0.9837 - val_precision: 1.0000 - val_recall: 0.9837 - val_auc: 0.0000e+00 - val_prc: 1.0000 - lr: 1.0000e-04\n",
      "Epoch 50/100\n",
      "442/442 [==============================] - 10s 22ms/step - loss: 0.4238 - tp: 1920.0000 - fp: 36.0000 - tn: 2415.0000 - fn: 40.0000 - accuracy: 0.9828 - precision: 0.9816 - recall: 0.9796 - auc: 0.9984 - prc: 0.9979 - val_loss: 0.3800 - val_tp: 491.0000 - val_fp: 0.0000e+00 - val_tn: 0.0000e+00 - val_fn: 0.0000e+00 - val_accuracy: 1.0000 - val_precision: 1.0000 - val_recall: 1.0000 - val_auc: 0.0000e+00 - val_prc: 1.0000 - lr: 1.0000e-04\n",
      "Epoch 51/100\n",
      "442/442 [==============================] - 10s 22ms/step - loss: 0.4012 - tp: 1932.0000 - fp: 18.0000 - tn: 2433.0000 - fn: 28.0000 - accuracy: 0.9896 - precision: 0.9908 - recall: 0.9857 - auc: 0.9989 - prc: 0.9990 - val_loss: 0.4268 - val_tp: 475.0000 - val_fp: 0.0000e+00 - val_tn: 0.0000e+00 - val_fn: 16.0000 - val_accuracy: 0.9674 - val_precision: 1.0000 - val_recall: 0.9674 - val_auc: 0.0000e+00 - val_prc: 1.0000 - lr: 1.0000e-04\n",
      "Epoch 52/100\n",
      "442/442 [==============================] - 10s 22ms/step - loss: 0.3998 - tp: 1929.0000 - fp: 27.0000 - tn: 2424.0000 - fn: 31.0000 - accuracy: 0.9869 - precision: 0.9862 - recall: 0.9842 - auc: 0.9988 - prc: 0.9984 - val_loss: 0.3619 - val_tp: 491.0000 - val_fp: 0.0000e+00 - val_tn: 0.0000e+00 - val_fn: 0.0000e+00 - val_accuracy: 1.0000 - val_precision: 1.0000 - val_recall: 1.0000 - val_auc: 0.0000e+00 - val_prc: 1.0000 - lr: 1.0000e-04\n",
      "Epoch 53/100\n",
      "442/442 [==============================] - 10s 22ms/step - loss: 0.3971 - tp: 1927.0000 - fp: 35.0000 - tn: 2416.0000 - fn: 33.0000 - accuracy: 0.9846 - precision: 0.9822 - recall: 0.9832 - auc: 0.9986 - prc: 0.9982 - val_loss: 0.3965 - val_tp: 483.0000 - val_fp: 0.0000e+00 - val_tn: 0.0000e+00 - val_fn: 8.0000 - val_accuracy: 0.9837 - val_precision: 1.0000 - val_recall: 0.9837 - val_auc: 0.0000e+00 - val_prc: 1.0000 - lr: 1.0000e-04\n",
      "Epoch 54/100\n",
      "442/442 [==============================] - 10s 22ms/step - loss: 0.3945 - tp: 1919.0000 - fp: 28.0000 - tn: 2423.0000 - fn: 41.0000 - accuracy: 0.9844 - precision: 0.9856 - recall: 0.9791 - auc: 0.9982 - prc: 0.9978 - val_loss: 0.3588 - val_tp: 489.0000 - val_fp: 0.0000e+00 - val_tn: 0.0000e+00 - val_fn: 2.0000 - val_accuracy: 0.9959 - val_precision: 1.0000 - val_recall: 0.9959 - val_auc: 0.0000e+00 - val_prc: 1.0000 - lr: 1.0000e-04\n",
      "Epoch 55/100\n",
      "442/442 [==============================] - 10s 22ms/step - loss: 0.3862 - tp: 1926.0000 - fp: 34.0000 - tn: 2417.0000 - fn: 34.0000 - accuracy: 0.9846 - precision: 0.9827 - recall: 0.9827 - auc: 0.9987 - prc: 0.9986 - val_loss: 0.3555 - val_tp: 490.0000 - val_fp: 0.0000e+00 - val_tn: 0.0000e+00 - val_fn: 1.0000 - val_accuracy: 0.9980 - val_precision: 1.0000 - val_recall: 0.9980 - val_auc: 0.0000e+00 - val_prc: 1.0000 - lr: 1.0000e-04\n",
      "Epoch 56/100\n",
      "442/442 [==============================] - 10s 22ms/step - loss: 0.3699 - tp: 1929.0000 - fp: 27.0000 - tn: 2424.0000 - fn: 31.0000 - accuracy: 0.9869 - precision: 0.9862 - recall: 0.9842 - auc: 0.9994 - prc: 0.9993 - val_loss: 0.4404 - val_tp: 466.0000 - val_fp: 0.0000e+00 - val_tn: 0.0000e+00 - val_fn: 25.0000 - val_accuracy: 0.9491 - val_precision: 1.0000 - val_recall: 0.9491 - val_auc: 0.0000e+00 - val_prc: 1.0000 - lr: 1.0000e-04\n",
      "Epoch 57/100\n",
      "442/442 [==============================] - 10s 22ms/step - loss: 0.3668 - tp: 1934.0000 - fp: 24.0000 - tn: 2427.0000 - fn: 26.0000 - accuracy: 0.9887 - precision: 0.9877 - recall: 0.9867 - auc: 0.9986 - prc: 0.9983 - val_loss: 0.3361 - val_tp: 491.0000 - val_fp: 0.0000e+00 - val_tn: 0.0000e+00 - val_fn: 0.0000e+00 - val_accuracy: 1.0000 - val_precision: 1.0000 - val_recall: 1.0000 - val_auc: 0.0000e+00 - val_prc: 1.0000 - lr: 1.0000e-04\n",
      "Epoch 58/100\n",
      "442/442 [==============================] - 10s 22ms/step - loss: 0.3565 - tp: 1937.0000 - fp: 27.0000 - tn: 2424.0000 - fn: 23.0000 - accuracy: 0.9887 - precision: 0.9863 - recall: 0.9883 - auc: 0.9990 - prc: 0.9982 - val_loss: 0.4059 - val_tp: 475.0000 - val_fp: 0.0000e+00 - val_tn: 0.0000e+00 - val_fn: 16.0000 - val_accuracy: 0.9674 - val_precision: 1.0000 - val_recall: 0.9674 - val_auc: 0.0000e+00 - val_prc: 1.0000 - lr: 1.0000e-04\n",
      "Epoch 59/100\n",
      "442/442 [==============================] - 10s 22ms/step - loss: 0.3483 - tp: 1938.0000 - fp: 22.0000 - tn: 2429.0000 - fn: 22.0000 - accuracy: 0.9900 - precision: 0.9888 - recall: 0.9888 - auc: 0.9994 - prc: 0.9993 - val_loss: 0.3227 - val_tp: 491.0000 - val_fp: 0.0000e+00 - val_tn: 0.0000e+00 - val_fn: 0.0000e+00 - val_accuracy: 1.0000 - val_precision: 1.0000 - val_recall: 1.0000 - val_auc: 0.0000e+00 - val_prc: 1.0000 - lr: 1.0000e-04\n",
      "Epoch 60/100\n",
      "442/442 [==============================] - 10s 22ms/step - loss: 0.3407 - tp: 1936.0000 - fp: 20.0000 - tn: 2431.0000 - fn: 24.0000 - accuracy: 0.9900 - precision: 0.9898 - recall: 0.9878 - auc: 0.9993 - prc: 0.9993 - val_loss: 0.3560 - val_tp: 484.0000 - val_fp: 0.0000e+00 - val_tn: 0.0000e+00 - val_fn: 7.0000 - val_accuracy: 0.9857 - val_precision: 1.0000 - val_recall: 0.9857 - val_auc: 0.0000e+00 - val_prc: 1.0000 - lr: 1.0000e-04\n",
      "Epoch 61/100\n",
      "442/442 [==============================] - 10s 22ms/step - loss: 0.3426 - tp: 1936.0000 - fp: 24.0000 - tn: 2427.0000 - fn: 24.0000 - accuracy: 0.9891 - precision: 0.9878 - recall: 0.9878 - auc: 0.9989 - prc: 0.9981 - val_loss: 0.4552 - val_tp: 460.0000 - val_fp: 0.0000e+00 - val_tn: 0.0000e+00 - val_fn: 31.0000 - val_accuracy: 0.9369 - val_precision: 1.0000 - val_recall: 0.9369 - val_auc: 0.0000e+00 - val_prc: 1.0000 - lr: 1.0000e-04\n",
      "Epoch 62/100\n",
      "442/442 [==============================] - 10s 22ms/step - loss: 0.3263 - tp: 1932.0000 - fp: 17.0000 - tn: 2434.0000 - fn: 28.0000 - accuracy: 0.9898 - precision: 0.9913 - recall: 0.9857 - auc: 0.9997 - prc: 0.9996 - val_loss: 0.2999 - val_tp: 491.0000 - val_fp: 0.0000e+00 - val_tn: 0.0000e+00 - val_fn: 0.0000e+00 - val_accuracy: 1.0000 - val_precision: 1.0000 - val_recall: 1.0000 - val_auc: 0.0000e+00 - val_prc: 1.0000 - lr: 1.0000e-04\n",
      "Epoch 63/100\n",
      "442/442 [==============================] - 10s 22ms/step - loss: 0.3243 - tp: 1934.0000 - fp: 28.0000 - tn: 2423.0000 - fn: 26.0000 - accuracy: 0.9878 - precision: 0.9857 - recall: 0.9867 - auc: 0.9993 - prc: 0.9993 - val_loss: 0.2954 - val_tp: 491.0000 - val_fp: 0.0000e+00 - val_tn: 0.0000e+00 - val_fn: 0.0000e+00 - val_accuracy: 1.0000 - val_precision: 1.0000 - val_recall: 1.0000 - val_auc: 0.0000e+00 - val_prc: 1.0000 - lr: 1.0000e-04\n",
      "Epoch 64/100\n",
      "442/442 [==============================] - 10s 22ms/step - loss: 0.3252 - tp: 1931.0000 - fp: 28.0000 - tn: 2423.0000 - fn: 29.0000 - accuracy: 0.9871 - precision: 0.9857 - recall: 0.9852 - auc: 0.9987 - prc: 0.9980 - val_loss: 0.2899 - val_tp: 491.0000 - val_fp: 0.0000e+00 - val_tn: 0.0000e+00 - val_fn: 0.0000e+00 - val_accuracy: 1.0000 - val_precision: 1.0000 - val_recall: 1.0000 - val_auc: 0.0000e+00 - val_prc: 1.0000 - lr: 1.0000e-04\n",
      "Epoch 65/100\n",
      "442/442 [==============================] - 10s 22ms/step - loss: 0.3082 - tp: 1941.0000 - fp: 18.0000 - tn: 2433.0000 - fn: 19.0000 - accuracy: 0.9916 - precision: 0.9908 - recall: 0.9903 - auc: 0.9995 - prc: 0.9991 - val_loss: 0.2847 - val_tp: 491.0000 - val_fp: 0.0000e+00 - val_tn: 0.0000e+00 - val_fn: 0.0000e+00 - val_accuracy: 1.0000 - val_precision: 1.0000 - val_recall: 1.0000 - val_auc: 0.0000e+00 - val_prc: 1.0000 - lr: 1.0000e-04\n",
      "Epoch 66/100\n",
      "442/442 [==============================] - 10s 22ms/step - loss: 0.3077 - tp: 1937.0000 - fp: 24.0000 - tn: 2427.0000 - fn: 23.0000 - accuracy: 0.9893 - precision: 0.9878 - recall: 0.9883 - auc: 0.9994 - prc: 0.9990 - val_loss: 0.2882 - val_tp: 490.0000 - val_fp: 0.0000e+00 - val_tn: 0.0000e+00 - val_fn: 1.0000 - val_accuracy: 0.9980 - val_precision: 1.0000 - val_recall: 0.9980 - val_auc: 0.0000e+00 - val_prc: 1.0000 - lr: 1.0000e-04\n",
      "Epoch 67/100\n",
      "442/442 [==============================] - 10s 22ms/step - loss: 0.3001 - tp: 1942.0000 - fp: 21.0000 - tn: 2430.0000 - fn: 18.0000 - accuracy: 0.9912 - precision: 0.9893 - recall: 0.9908 - auc: 0.9994 - prc: 0.9995 - val_loss: 0.2767 - val_tp: 491.0000 - val_fp: 0.0000e+00 - val_tn: 0.0000e+00 - val_fn: 0.0000e+00 - val_accuracy: 1.0000 - val_precision: 1.0000 - val_recall: 1.0000 - val_auc: 0.0000e+00 - val_prc: 1.0000 - lr: 1.0000e-04\n",
      "Epoch 68/100\n",
      "442/442 [==============================] - 10s 22ms/step - loss: 0.3029 - tp: 1937.0000 - fp: 22.0000 - tn: 2429.0000 - fn: 23.0000 - accuracy: 0.9898 - precision: 0.9888 - recall: 0.9883 - auc: 0.9990 - prc: 0.9986 - val_loss: 0.2751 - val_tp: 491.0000 - val_fp: 0.0000e+00 - val_tn: 0.0000e+00 - val_fn: 0.0000e+00 - val_accuracy: 1.0000 - val_precision: 1.0000 - val_recall: 1.0000 - val_auc: 0.0000e+00 - val_prc: 1.0000 - lr: 1.0000e-04\n",
      "Epoch 69/100\n",
      "442/442 [==============================] - 10s 22ms/step - loss: 0.2859 - tp: 1942.0000 - fp: 15.0000 - tn: 2436.0000 - fn: 18.0000 - accuracy: 0.9925 - precision: 0.9923 - recall: 0.9908 - auc: 0.9998 - prc: 0.9997 - val_loss: 0.2779 - val_tp: 489.0000 - val_fp: 0.0000e+00 - val_tn: 0.0000e+00 - val_fn: 2.0000 - val_accuracy: 0.9959 - val_precision: 1.0000 - val_recall: 0.9959 - val_auc: 0.0000e+00 - val_prc: 1.0000 - lr: 1.0000e-04\n",
      "Epoch 70/100\n",
      "442/442 [==============================] - 10s 22ms/step - loss: 0.2920 - tp: 1935.0000 - fp: 20.0000 - tn: 2431.0000 - fn: 25.0000 - accuracy: 0.9898 - precision: 0.9898 - recall: 0.9872 - auc: 0.9991 - prc: 0.9984 - val_loss: 0.2609 - val_tp: 491.0000 - val_fp: 0.0000e+00 - val_tn: 0.0000e+00 - val_fn: 0.0000e+00 - val_accuracy: 1.0000 - val_precision: 1.0000 - val_recall: 1.0000 - val_auc: 0.0000e+00 - val_prc: 1.0000 - lr: 1.0000e-04\n",
      "Epoch 71/100\n",
      "442/442 [==============================] - 10s 22ms/step - loss: 0.2827 - tp: 1936.0000 - fp: 21.0000 - tn: 2430.0000 - fn: 24.0000 - accuracy: 0.9898 - precision: 0.9893 - recall: 0.9878 - auc: 0.9994 - prc: 0.9994 - val_loss: 0.2675 - val_tp: 490.0000 - val_fp: 0.0000e+00 - val_tn: 0.0000e+00 - val_fn: 1.0000 - val_accuracy: 0.9980 - val_precision: 1.0000 - val_recall: 0.9980 - val_auc: 0.0000e+00 - val_prc: 1.0000 - lr: 1.0000e-04\n",
      "Epoch 72/100\n",
      "442/442 [==============================] - 10s 22ms/step - loss: 0.2778 - tp: 1942.0000 - fp: 20.0000 - tn: 2431.0000 - fn: 18.0000 - accuracy: 0.9914 - precision: 0.9898 - recall: 0.9908 - auc: 0.9994 - prc: 0.9995 - val_loss: 0.2568 - val_tp: 491.0000 - val_fp: 0.0000e+00 - val_tn: 0.0000e+00 - val_fn: 0.0000e+00 - val_accuracy: 1.0000 - val_precision: 1.0000 - val_recall: 1.0000 - val_auc: 0.0000e+00 - val_prc: 1.0000 - lr: 1.0000e-04\n",
      "Epoch 73/100\n",
      "442/442 [==============================] - 10s 22ms/step - loss: 0.2773 - tp: 1939.0000 - fp: 23.0000 - tn: 2428.0000 - fn: 21.0000 - accuracy: 0.9900 - precision: 0.9883 - recall: 0.9893 - auc: 0.9994 - prc: 0.9990 - val_loss: 0.4159 - val_tp: 452.0000 - val_fp: 0.0000e+00 - val_tn: 0.0000e+00 - val_fn: 39.0000 - val_accuracy: 0.9206 - val_precision: 1.0000 - val_recall: 0.9206 - val_auc: 0.0000e+00 - val_prc: 1.0000 - lr: 1.0000e-04\n",
      "Epoch 74/100\n",
      "442/442 [==============================] - 10s 22ms/step - loss: 0.2729 - tp: 1933.0000 - fp: 16.0000 - tn: 2435.0000 - fn: 27.0000 - accuracy: 0.9903 - precision: 0.9918 - recall: 0.9862 - auc: 0.9989 - prc: 0.9990 - val_loss: 0.2459 - val_tp: 491.0000 - val_fp: 0.0000e+00 - val_tn: 0.0000e+00 - val_fn: 0.0000e+00 - val_accuracy: 1.0000 - val_precision: 1.0000 - val_recall: 1.0000 - val_auc: 0.0000e+00 - val_prc: 1.0000 - lr: 1.0000e-04\n",
      "Epoch 75/100\n",
      "442/442 [==============================] - 10s 22ms/step - loss: 0.2620 - tp: 1945.0000 - fp: 18.0000 - tn: 2433.0000 - fn: 15.0000 - accuracy: 0.9925 - precision: 0.9908 - recall: 0.9923 - auc: 0.9998 - prc: 0.9997 - val_loss: 0.2413 - val_tp: 491.0000 - val_fp: 0.0000e+00 - val_tn: 0.0000e+00 - val_fn: 0.0000e+00 - val_accuracy: 1.0000 - val_precision: 1.0000 - val_recall: 1.0000 - val_auc: 0.0000e+00 - val_prc: 1.0000 - lr: 1.0000e-04\n",
      "Epoch 76/100\n",
      "442/442 [==============================] - 10s 22ms/step - loss: 0.2586 - tp: 1949.0000 - fp: 14.0000 - tn: 2437.0000 - fn: 11.0000 - accuracy: 0.9943 - precision: 0.9929 - recall: 0.9944 - auc: 0.9996 - prc: 0.9992 - val_loss: 0.2376 - val_tp: 491.0000 - val_fp: 0.0000e+00 - val_tn: 0.0000e+00 - val_fn: 0.0000e+00 - val_accuracy: 1.0000 - val_precision: 1.0000 - val_recall: 1.0000 - val_auc: 0.0000e+00 - val_prc: 1.0000 - lr: 1.0000e-04\n",
      "Epoch 77/100\n",
      "442/442 [==============================] - 10s 22ms/step - loss: 0.2592 - tp: 1939.0000 - fp: 15.0000 - tn: 2436.0000 - fn: 21.0000 - accuracy: 0.9918 - precision: 0.9923 - recall: 0.9893 - auc: 0.9994 - prc: 0.9994 - val_loss: 0.2752 - val_tp: 482.0000 - val_fp: 0.0000e+00 - val_tn: 0.0000e+00 - val_fn: 9.0000 - val_accuracy: 0.9817 - val_precision: 1.0000 - val_recall: 0.9817 - val_auc: 0.0000e+00 - val_prc: 1.0000 - lr: 1.0000e-04\n",
      "Epoch 78/100\n",
      "442/442 [==============================] - 10s 22ms/step - loss: 0.2582 - tp: 1940.0000 - fp: 15.0000 - tn: 2436.0000 - fn: 20.0000 - accuracy: 0.9921 - precision: 0.9923 - recall: 0.9898 - auc: 0.9990 - prc: 0.9984 - val_loss: 0.2599 - val_tp: 485.0000 - val_fp: 0.0000e+00 - val_tn: 0.0000e+00 - val_fn: 6.0000 - val_accuracy: 0.9878 - val_precision: 1.0000 - val_recall: 0.9878 - val_auc: 0.0000e+00 - val_prc: 1.0000 - lr: 1.0000e-04\n",
      "Epoch 79/100\n",
      "442/442 [==============================] - 10s 22ms/step - loss: 0.2516 - tp: 1946.0000 - fp: 14.0000 - tn: 2437.0000 - fn: 14.0000 - accuracy: 0.9937 - precision: 0.9929 - recall: 0.9929 - auc: 0.9992 - prc: 0.9993 - val_loss: 0.2280 - val_tp: 491.0000 - val_fp: 0.0000e+00 - val_tn: 0.0000e+00 - val_fn: 0.0000e+00 - val_accuracy: 1.0000 - val_precision: 1.0000 - val_recall: 1.0000 - val_auc: 0.0000e+00 - val_prc: 1.0000 - lr: 1.0000e-04\n",
      "Epoch 80/100\n",
      "442/442 [==============================] - 10s 22ms/step - loss: 0.2446 - tp: 1948.0000 - fp: 13.0000 - tn: 2438.0000 - fn: 12.0000 - accuracy: 0.9943 - precision: 0.9934 - recall: 0.9939 - auc: 0.9996 - prc: 0.9996 - val_loss: 0.2309 - val_tp: 491.0000 - val_fp: 0.0000e+00 - val_tn: 0.0000e+00 - val_fn: 0.0000e+00 - val_accuracy: 1.0000 - val_precision: 1.0000 - val_recall: 1.0000 - val_auc: 0.0000e+00 - val_prc: 1.0000 - lr: 1.0000e-04\n",
      "Epoch 81/100\n",
      "442/442 [==============================] - 10s 22ms/step - loss: 0.2374 - tp: 1949.0000 - fp: 14.0000 - tn: 2437.0000 - fn: 11.0000 - accuracy: 0.9943 - precision: 0.9929 - recall: 0.9944 - auc: 0.9998 - prc: 0.9998 - val_loss: 0.2206 - val_tp: 491.0000 - val_fp: 0.0000e+00 - val_tn: 0.0000e+00 - val_fn: 0.0000e+00 - val_accuracy: 1.0000 - val_precision: 1.0000 - val_recall: 1.0000 - val_auc: 0.0000e+00 - val_prc: 1.0000 - lr: 1.0000e-04\n",
      "Epoch 82/100\n",
      "442/442 [==============================] - 10s 22ms/step - loss: 0.2461 - tp: 1937.0000 - fp: 24.0000 - tn: 2427.0000 - fn: 23.0000 - accuracy: 0.9893 - precision: 0.9878 - recall: 0.9883 - auc: 0.9994 - prc: 0.9989 - val_loss: 0.2191 - val_tp: 491.0000 - val_fp: 0.0000e+00 - val_tn: 0.0000e+00 - val_fn: 0.0000e+00 - val_accuracy: 1.0000 - val_precision: 1.0000 - val_recall: 1.0000 - val_auc: 0.0000e+00 - val_prc: 1.0000 - lr: 1.0000e-04\n",
      "Epoch 83/100\n",
      "442/442 [==============================] - 10s 22ms/step - loss: 0.2340 - tp: 1942.0000 - fp: 12.0000 - tn: 2439.0000 - fn: 18.0000 - accuracy: 0.9932 - precision: 0.9939 - recall: 0.9908 - auc: 0.9998 - prc: 0.9998 - val_loss: 0.2175 - val_tp: 491.0000 - val_fp: 0.0000e+00 - val_tn: 0.0000e+00 - val_fn: 0.0000e+00 - val_accuracy: 1.0000 - val_precision: 1.0000 - val_recall: 1.0000 - val_auc: 0.0000e+00 - val_prc: 1.0000 - lr: 1.0000e-04\n",
      "Epoch 84/100\n",
      "442/442 [==============================] - 10s 22ms/step - loss: 0.2369 - tp: 1942.0000 - fp: 18.0000 - tn: 2433.0000 - fn: 18.0000 - accuracy: 0.9918 - precision: 0.9908 - recall: 0.9908 - auc: 0.9995 - prc: 0.9991 - val_loss: 0.2259 - val_tp: 489.0000 - val_fp: 0.0000e+00 - val_tn: 0.0000e+00 - val_fn: 2.0000 - val_accuracy: 0.9959 - val_precision: 1.0000 - val_recall: 0.9959 - val_auc: 0.0000e+00 - val_prc: 1.0000 - lr: 1.0000e-04\n",
      "Epoch 85/100\n",
      "442/442 [==============================] - 10s 22ms/step - loss: 0.2300 - tp: 1945.0000 - fp: 15.0000 - tn: 2436.0000 - fn: 15.0000 - accuracy: 0.9932 - precision: 0.9923 - recall: 0.9923 - auc: 0.9995 - prc: 0.9996 - val_loss: 0.2105 - val_tp: 491.0000 - val_fp: 0.0000e+00 - val_tn: 0.0000e+00 - val_fn: 0.0000e+00 - val_accuracy: 1.0000 - val_precision: 1.0000 - val_recall: 1.0000 - val_auc: 0.0000e+00 - val_prc: 1.0000 - lr: 1.0000e-04\n",
      "Epoch 86/100\n",
      "442/442 [==============================] - 9s 21ms/step - loss: 0.2259 - tp: 1945.0000 - fp: 18.0000 - tn: 2433.0000 - fn: 15.0000 - accuracy: 0.9925 - precision: 0.9908 - recall: 0.9923 - auc: 0.9996 - prc: 0.9992 - val_loss: 0.2075 - val_tp: 491.0000 - val_fp: 0.0000e+00 - val_tn: 0.0000e+00 - val_fn: 0.0000e+00 - val_accuracy: 1.0000 - val_precision: 1.0000 - val_recall: 1.0000 - val_auc: 0.0000e+00 - val_prc: 1.0000 - lr: 1.0000e-04\n",
      "Epoch 87/100\n",
      "442/442 [==============================] - 9s 21ms/step - loss: 0.2227 - tp: 1946.0000 - fp: 14.0000 - tn: 2437.0000 - fn: 14.0000 - accuracy: 0.9937 - precision: 0.9929 - recall: 0.9929 - auc: 0.9998 - prc: 0.9998 - val_loss: 0.2043 - val_tp: 491.0000 - val_fp: 0.0000e+00 - val_tn: 0.0000e+00 - val_fn: 0.0000e+00 - val_accuracy: 1.0000 - val_precision: 1.0000 - val_recall: 1.0000 - val_auc: 0.0000e+00 - val_prc: 1.0000 - lr: 1.0000e-04\n",
      "Epoch 88/100\n",
      "442/442 [==============================] - 10s 22ms/step - loss: 0.2219 - tp: 1946.0000 - fp: 18.0000 - tn: 2433.0000 - fn: 14.0000 - accuracy: 0.9927 - precision: 0.9908 - recall: 0.9929 - auc: 0.9994 - prc: 0.9991 - val_loss: 0.2026 - val_tp: 491.0000 - val_fp: 0.0000e+00 - val_tn: 0.0000e+00 - val_fn: 0.0000e+00 - val_accuracy: 1.0000 - val_precision: 1.0000 - val_recall: 1.0000 - val_auc: 0.0000e+00 - val_prc: 1.0000 - lr: 1.0000e-04\n",
      "Epoch 89/100\n",
      "442/442 [==============================] - 10s 22ms/step - loss: 0.2139 - tp: 1949.0000 - fp: 10.0000 - tn: 2441.0000 - fn: 11.0000 - accuracy: 0.9952 - precision: 0.9949 - recall: 0.9944 - auc: 0.9999 - prc: 0.9999 - val_loss: 0.1990 - val_tp: 491.0000 - val_fp: 0.0000e+00 - val_tn: 0.0000e+00 - val_fn: 0.0000e+00 - val_accuracy: 1.0000 - val_precision: 1.0000 - val_recall: 1.0000 - val_auc: 0.0000e+00 - val_prc: 1.0000 - lr: 1.0000e-04\n",
      "Epoch 90/100\n",
      "442/442 [==============================] - 10s 22ms/step - loss: 0.2264 - tp: 1938.0000 - fp: 24.0000 - tn: 2427.0000 - fn: 22.0000 - accuracy: 0.9896 - precision: 0.9878 - recall: 0.9888 - auc: 0.9993 - prc: 0.9993 - val_loss: 0.2034 - val_tp: 491.0000 - val_fp: 0.0000e+00 - val_tn: 0.0000e+00 - val_fn: 0.0000e+00 - val_accuracy: 1.0000 - val_precision: 1.0000 - val_recall: 1.0000 - val_auc: 0.0000e+00 - val_prc: 1.0000 - lr: 1.0000e-04\n",
      "Epoch 91/100\n",
      "442/442 [==============================] - 10s 22ms/step - loss: 0.2054 - tp: 1952.0000 - fp: 4.0000 - tn: 2447.0000 - fn: 8.0000 - accuracy: 0.9973 - precision: 0.9980 - recall: 0.9959 - auc: 0.9999 - prc: 0.9999 - val_loss: 0.1940 - val_tp: 491.0000 - val_fp: 0.0000e+00 - val_tn: 0.0000e+00 - val_fn: 0.0000e+00 - val_accuracy: 1.0000 - val_precision: 1.0000 - val_recall: 1.0000 - val_auc: 0.0000e+00 - val_prc: 1.0000 - lr: 1.0000e-04\n",
      "Epoch 92/100\n",
      "442/442 [==============================] - 10s 22ms/step - loss: 0.2159 - tp: 1939.0000 - fp: 12.0000 - tn: 2439.0000 - fn: 21.0000 - accuracy: 0.9925 - precision: 0.9938 - recall: 0.9893 - auc: 0.9992 - prc: 0.9993 - val_loss: 0.1938 - val_tp: 491.0000 - val_fp: 0.0000e+00 - val_tn: 0.0000e+00 - val_fn: 0.0000e+00 - val_accuracy: 1.0000 - val_precision: 1.0000 - val_recall: 1.0000 - val_auc: 0.0000e+00 - val_prc: 1.0000 - lr: 1.0000e-04\n",
      "Epoch 93/100\n",
      "442/442 [==============================] - 10s 22ms/step - loss: 0.2113 - tp: 1945.0000 - fp: 15.0000 - tn: 2436.0000 - fn: 15.0000 - accuracy: 0.9932 - precision: 0.9923 - recall: 0.9923 - auc: 0.9993 - prc: 0.9990 - val_loss: 0.1912 - val_tp: 491.0000 - val_fp: 0.0000e+00 - val_tn: 0.0000e+00 - val_fn: 0.0000e+00 - val_accuracy: 1.0000 - val_precision: 1.0000 - val_recall: 1.0000 - val_auc: 0.0000e+00 - val_prc: 1.0000 - lr: 1.0000e-04\n",
      "Epoch 94/100\n",
      "442/442 [==============================] - 10s 22ms/step - loss: 0.1973 - tp: 1956.0000 - fp: 7.0000 - tn: 2444.0000 - fn: 4.0000 - accuracy: 0.9975 - precision: 0.9964 - recall: 0.9980 - auc: 0.9995 - prc: 0.9989 - val_loss: 0.2908 - val_tp: 467.0000 - val_fp: 0.0000e+00 - val_tn: 0.0000e+00 - val_fn: 24.0000 - val_accuracy: 0.9511 - val_precision: 1.0000 - val_recall: 0.9511 - val_auc: 0.0000e+00 - val_prc: 1.0000 - lr: 1.0000e-04\n",
      "Epoch 95/100\n",
      "442/442 [==============================] - 10s 22ms/step - loss: 0.2072 - tp: 1943.0000 - fp: 15.0000 - tn: 2436.0000 - fn: 17.0000 - accuracy: 0.9927 - precision: 0.9923 - recall: 0.9913 - auc: 0.9997 - prc: 0.9996 - val_loss: 0.1929 - val_tp: 491.0000 - val_fp: 0.0000e+00 - val_tn: 0.0000e+00 - val_fn: 0.0000e+00 - val_accuracy: 1.0000 - val_precision: 1.0000 - val_recall: 1.0000 - val_auc: 0.0000e+00 - val_prc: 1.0000 - lr: 1.0000e-04\n",
      "Epoch 96/100\n",
      "442/442 [==============================] - 10s 22ms/step - loss: 0.1997 - tp: 1950.0000 - fp: 16.0000 - tn: 2435.0000 - fn: 10.0000 - accuracy: 0.9941 - precision: 0.9919 - recall: 0.9949 - auc: 0.9994 - prc: 0.9995 - val_loss: 0.1835 - val_tp: 491.0000 - val_fp: 0.0000e+00 - val_tn: 0.0000e+00 - val_fn: 0.0000e+00 - val_accuracy: 1.0000 - val_precision: 1.0000 - val_recall: 1.0000 - val_auc: 0.0000e+00 - val_prc: 1.0000 - lr: 1.0000e-04\n",
      "Epoch 97/100\n",
      "442/442 [==============================] - 10s 22ms/step - loss: 0.2004 - tp: 1944.0000 - fp: 14.0000 - tn: 2437.0000 - fn: 16.0000 - accuracy: 0.9932 - precision: 0.9928 - recall: 0.9918 - auc: 0.9998 - prc: 0.9997 - val_loss: 0.1816 - val_tp: 491.0000 - val_fp: 0.0000e+00 - val_tn: 0.0000e+00 - val_fn: 0.0000e+00 - val_accuracy: 1.0000 - val_precision: 1.0000 - val_recall: 1.0000 - val_auc: 0.0000e+00 - val_prc: 1.0000 - lr: 1.0000e-04\n",
      "Epoch 98/100\n",
      "442/442 [==============================] - 10s 22ms/step - loss: 0.1998 - tp: 1948.0000 - fp: 15.0000 - tn: 2436.0000 - fn: 12.0000 - accuracy: 0.9939 - precision: 0.9924 - recall: 0.9939 - auc: 0.9996 - prc: 0.9996 - val_loss: 0.1798 - val_tp: 491.0000 - val_fp: 0.0000e+00 - val_tn: 0.0000e+00 - val_fn: 0.0000e+00 - val_accuracy: 1.0000 - val_precision: 1.0000 - val_recall: 1.0000 - val_auc: 0.0000e+00 - val_prc: 1.0000 - lr: 1.0000e-04\n",
      "Epoch 99/100\n",
      "442/442 [==============================] - 10s 22ms/step - loss: 0.1915 - tp: 1945.0000 - fp: 9.0000 - tn: 2442.0000 - fn: 15.0000 - accuracy: 0.9946 - precision: 0.9954 - recall: 0.9923 - auc: 0.9999 - prc: 0.9999 - val_loss: 0.1815 - val_tp: 490.0000 - val_fp: 0.0000e+00 - val_tn: 0.0000e+00 - val_fn: 1.0000 - val_accuracy: 0.9980 - val_precision: 1.0000 - val_recall: 0.9980 - val_auc: 0.0000e+00 - val_prc: 1.0000 - lr: 1.0000e-04\n",
      "Epoch 100/100\n",
      "442/442 [==============================] - 10s 22ms/step - loss: 0.1960 - tp: 1944.0000 - fp: 17.0000 - tn: 2434.0000 - fn: 16.0000 - accuracy: 0.9925 - precision: 0.9913 - recall: 0.9918 - auc: 0.9994 - prc: 0.9987 - val_loss: 0.1899 - val_tp: 489.0000 - val_fp: 0.0000e+00 - val_tn: 0.0000e+00 - val_fn: 2.0000 - val_accuracy: 0.9959 - val_precision: 1.0000 - val_recall: 0.9959 - val_auc: 0.0000e+00 - val_prc: 1.0000 - lr: 1.0000e-04\n"
     ]
    }
   ],
   "source": [
    "history = model.fit(X_train_reshaped, y_resampled, epochs=100, batch_size=10, verbose=1, validation_split=0.1, callbacks=[reduce_lr,early_st])"
   ]
  },
  {
   "cell_type": "markdown",
   "metadata": {
    "id": "5hF9EG1dX6xZ"
   },
   "source": [
    "# Evaluate the model"
   ]
  },
  {
   "cell_type": "code",
   "execution_count": 26,
   "metadata": {
    "colab": {
     "base_uri": "https://localhost:8080/"
    },
    "id": "ux5k-LYLl3GF",
    "outputId": "9b3adf84-fbbf-4f70-a11f-5b0c20ad214b"
   },
   "outputs": [
    {
     "name": "stdout",
     "output_type": "stream",
     "text": [
      "24/24 [==============================] - 0s 9ms/step\n",
      "[[601  13]\n",
      " [ 56  89]]\n"
     ]
    }
   ],
   "source": [
    "y_pred  = model.predict(X_test_reshaped)\n",
    "y_pred = (y_pred>0.5)\n",
    "cm = confusion_matrix(y_test, y_pred)\n",
    "print(cm)"
   ]
  },
  {
   "cell_type": "code",
   "execution_count": 27,
   "metadata": {
    "colab": {
     "base_uri": "https://localhost:8080/"
    },
    "id": "iur6Wu4oZ5dI",
    "outputId": "231db9db-52e6-4fb7-903e-d6254bf5191b"
   },
   "outputs": [
    {
     "name": "stdout",
     "output_type": "stream",
     "text": [
      "balanced acuracy: 0.7963102325058968\n"
     ]
    }
   ],
   "source": [
    "print(\"balanced acuracy:\", balanced_accuracy_score(y_test, y_pred))"
   ]
  },
  {
   "cell_type": "code",
   "execution_count": 28,
   "metadata": {
    "colab": {
     "base_uri": "https://localhost:8080/"
    },
    "id": "zkQ55Zm7l3D2",
    "outputId": "84b0f0b5-83c4-4631-ec8a-96f9ef5e9893"
   },
   "outputs": [
    {
     "name": "stdout",
     "output_type": "stream",
     "text": [
      "              precision    recall  f1-score   support\n",
      "\n",
      "           0       0.91      0.98      0.95       614\n",
      "           1       0.87      0.61      0.72       145\n",
      "\n",
      "    accuracy                           0.91       759\n",
      "   macro avg       0.89      0.80      0.83       759\n",
      "weighted avg       0.91      0.91      0.90       759\n",
      "\n",
      "491/491 [==============================] - 2s 5ms/step\n",
      "76/76 [==============================] - 0s 4ms/step\n",
      "loss :  0.7317436337471008\n",
      "tp :  89.0\n",
      "fp :  13.0\n",
      "tn :  601.0\n",
      "fn :  56.0\n",
      "accuracy :  0.9090909361839294\n",
      "precision :  0.8725489974021912\n",
      "recall :  0.6137930750846863\n",
      "auc :  0.8581545948982239\n",
      "prc :  0.7706595659255981\n",
      "\n"
     ]
    }
   ],
   "source": [
    "target_names=[\"0\",\"1\"]\n",
    "print(classification_report(y_test, y_pred, target_names=target_names))\n",
    "\n",
    "train_predictions_baseline = model.predict(X_train_reshaped, batch_size=10)\n",
    "test_predictions_baseline = model.predict(X_test_reshaped, batch_size=10)\n",
    "\n",
    "baseline_results = model.evaluate(X_test_reshaped, y_test, verbose=0)\n",
    "for name, value in zip(model.metrics_names, baseline_results):\n",
    "  print(name, ': ', value)\n",
    "print()"
   ]
  },
  {
   "cell_type": "code",
   "execution_count": 29,
   "metadata": {
    "colab": {
     "base_uri": "https://localhost:8080/",
     "height": 1000
    },
    "id": "YzVQLd_Xl3B1",
    "outputId": "9c31a90d-c136-45d1-ed85-f5c01ad9be36"
   },
   "outputs": [
    {
     "data": {
      "image/png": "[encoded data removed]",
      "text/plain": [
       "<Figure size 1200x1000 with 1 Axes>"
      ]
     },
     "metadata": {},
     "output_type": "display_data"
    },
    {
     "data": {
      "image/png": "[encoded data removed]",
      "text/plain": [
       "<Figure size 1200x1000 with 1 Axes>"
      ]
     },
     "metadata": {},
     "output_type": "display_data"
    }
   ],
   "source": [
    "plt.rcParams['figure.figsize'] = (12, 10)\n",
    "plt.rcParams.update({'font.size': 17})\n",
    "colors = plt.rcParams['axes.prop_cycle'].by_key()['color']\n",
    "\n",
    "def plot_roc(name, labels, predictions, **kwargs):\n",
    "  fp, tp, _ = sklearn.metrics.roc_curve(labels, predictions)\n",
    "\n",
    "  plt.plot(fp, tp, label=name, linewidth=2, **kwargs)\n",
    "  plt.plot([0, 1], [0, 1], 'k--')\n",
    "  plt.title('E. coli CNN')\n",
    "  plt.xlabel('False positives [%]')\n",
    "  plt.ylabel('True positives [%]')\n",
    "  plt.title('S. aureus AUROC')\n",
    "\n",
    "  plt.grid(True)\n",
    "  ax = plt.gca()\n",
    "  ax.set_aspect('equal')\n",
    "plot_roc(\"Ciprofloxacin               AUROC: %0.2f\" % baseline_results[8], y_test, test_predictions_baseline, color=colors[0])\n",
    "\n",
    "plt.legend(loc='lower right')\n",
    "plt.savefig('s_aureus_auroc.png', bbox_inches='tight')\n",
    "plt.show()\n",
    "\n",
    "def plot_prc(name, labels, predictions, **kwargs):\n",
    "    precision, recall, _ = sklearn.metrics.precision_recall_curve(labels, predictions)\n",
    "\n",
    "    plt.plot(precision, recall, label=name, linewidth=2, **kwargs)\n",
    "    plt.title('S. aureus AUPRC')\n",
    "    plt.xlabel('Recall')\n",
    "    plt.ylabel('Precision')\n",
    "    plt.plot([1, 0], [0, 1], 'k--')\n",
    "    plt.grid(True)\n",
    "    ax = plt.gca()\n",
    "    ax.set_aspect('equal')\n",
    "\n",
    "plot_prc(\"Ciprofloxacin        AUPRC: %0.2f\" % baseline_results[9], y_test, test_predictions_baseline, color=colors[0])\n",
    "\n",
    "plt.legend(loc='upper right')\n",
    "plt.savefig('s_aureus_auprc.png', bbox_inches='tight')\n",
    "plt.show()"
   ]
  }
 ],
 "metadata": {
  "accelerator": "GPU",
  "colab": {
   "provenance": []
  },
  "gpuClass": "standard",
  "kernelspec": {
   "display_name": "Python 3",
   "language": "python",
   "name": "python3"
  },
  "language_info": {
   "codemirror_mode": {
    "name": "ipython",
    "version": 3
   },
   "file_extension": ".py",
   "mimetype": "text/x-python",
   "name": "python",
   "nbconvert_exporter": "python",
   "pygments_lexer": "ipython3",
   "version": "3.11.5"
  }
 },
 "nbformat": 4,
 "nbformat_minor": 0
}
