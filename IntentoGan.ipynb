{
 "cells": [
  {
   "cell_type": "code",
   "execution_count": 4,
   "metadata": {},
   "outputs": [],
   "source": [
    "import torch\n",
    "from torch import nn\n",
    "\n",
    "import math\n",
    "import matplotlib.pyplot as plt"
   ]
  },
  {
   "cell_type": "code",
   "execution_count": 5,
   "metadata": {},
   "outputs": [
    {
     "data": {
      "text/plain": [
       "<torch._C.Generator at 0x7f96d84eecf0>"
      ]
     },
     "execution_count": 5,
     "metadata": {},
     "output_type": "execute_result"
    }
   ],
   "source": [
    "torch.manual_seed(111)"
   ]
  },
  {
   "cell_type": "code",
   "execution_count": 7,
   "metadata": {},
   "outputs": [],
   "source": [
    "train_data_length = 1024\n",
    "train_data = torch.zeros((train_data_length, 2))\n",
    "train_data[:, 0] = 2 * math.pi * torch.rand(train_data_length)\n",
    "train_data[:, 1] = torch.sin(train_data[:, 0])\n",
    "train_labels = torch.zeros(train_data_length)\n",
    "train_set = [\n",
    "    (train_data[i], train_labels[i]) for i in range(train_data_length)\n",
    "]"
   ]
  },
  {
   "cell_type": "code",
   "execution_count": 8,
   "metadata": {},
   "outputs": [
    {
     "data": {
      "text/plain": [
       "[<matplotlib.lines.Line2D at 0x7f96d09f4340>]"
      ]
     },
     "execution_count": 8,
     "metadata": {},
     "output_type": "execute_result"
    },
    {
     "data": {
      "image/png": "[encoded data removed]",
      "text/plain": [
       "<Figure size 640x480 with 1 Axes>"
      ]
     },
     "metadata": {},
     "output_type": "display_data"
    }
   ],
   "source": [
    "plt.plot(train_data[:, 0], train_data[:, 1], \".\")"
   ]
  },
  {
   "cell_type": "code",
   "execution_count": 9,
   "metadata": {},
   "outputs": [],
   "source": [
    "batch_size = 32\n",
    "train_loader = torch.utils.data.DataLoader(\n",
    "    train_set, batch_size=batch_size, shuffle=True\n",
    ")"
   ]
  },
  {
   "cell_type": "code",
   "execution_count": 10,
   "metadata": {},
   "outputs": [],
   "source": [
    "class Discriminator(nn.Module):\n",
    "    def __init__(self):\n",
    "        super().__init__()\n",
    "        self.model = nn.Sequential(\n",
    "            nn.Linear(2, 256),\n",
    "            nn.ReLU(),\n",
    "            nn.Dropout(0.3),\n",
    "            nn.Linear(256, 128),\n",
    "            nn.ReLU(),\n",
    "            nn.Dropout(0.3),\n",
    "            nn.Linear(128, 64),\n",
    "            nn.ReLU(),\n",
    "            nn.Dropout(0.3),\n",
    "            nn.Linear(64, 1),\n",
    "            nn.Sigmoid(),\n",
    "        )\n",
    "\n",
    "    def forward(self, x):\n",
    "        output = self.model(x)\n",
    "        return output"
   ]
  },
  {
   "cell_type": "code",
   "execution_count": 11,
   "metadata": {},
   "outputs": [],
   "source": [
    "discriminator = Discriminator()"
   ]
  },
  {
   "cell_type": "code",
   "execution_count": 12,
   "metadata": {},
   "outputs": [],
   "source": [
    "class Generator(nn.Module):\n",
    "    def __init__(self):\n",
    "        super().__init__()\n",
    "        self.model = nn.Sequential(\n",
    "            nn.Linear(2, 16),\n",
    "            nn.ReLU(),\n",
    "            nn.Linear(16, 32),\n",
    "            nn.ReLU(),\n",
    "            nn.Linear(32, 2),\n",
    "        )\n",
    "\n",
    "    def forward(self, x):\n",
    "        output = self.model(x)\n",
    "        return output\n",
    "\n",
    "generator = Generator()"
   ]
  },
  {
   "cell_type": "code",
   "execution_count": 13,
   "metadata": {},
   "outputs": [],
   "source": [
    "lr = 0.001\n",
    "num_epochs = 300\n",
    "loss_function = nn.BCELoss()"
   ]
  },
  {
   "cell_type": "code",
   "execution_count": 14,
   "metadata": {},
   "outputs": [],
   "source": [
    "optimizer_discriminator = torch.optim.Adam(discriminator.parameters(), lr=lr)\n",
    "optimizer_generator = torch.optim.Adam(generator.parameters(), lr=lr)"
   ]
  },
  {
   "cell_type": "code",
   "execution_count": 15,
   "metadata": {},
   "outputs": [
    {
     "name": "stdout",
     "output_type": "stream",
     "text": [
      "Epoch: 0 Loss D.: 0.28119027614593506\n",
      "Epoch: 0 Loss G.: 2.6877617835998535\n",
      "Epoch: 10 Loss D.: 0.669914722442627\n",
      "Epoch: 10 Loss G.: 0.7849240303039551\n",
      "Epoch: 20 Loss D.: 0.6599598526954651\n",
      "Epoch: 20 Loss G.: 1.0006601810455322\n",
      "Epoch: 30 Loss D.: 0.6251671314239502\n",
      "Epoch: 30 Loss G.: 0.7250200510025024\n",
      "Epoch: 40 Loss D.: 0.7223742008209229\n",
      "Epoch: 40 Loss G.: 0.6231279969215393\n",
      "Epoch: 50 Loss D.: 0.6415996551513672\n",
      "Epoch: 50 Loss G.: 0.8079514503479004\n",
      "Epoch: 60 Loss D.: 0.651031494140625\n",
      "Epoch: 60 Loss G.: 0.8161468505859375\n",
      "Epoch: 70 Loss D.: 0.688154935836792\n",
      "Epoch: 70 Loss G.: 0.7781268358230591\n",
      "Epoch: 80 Loss D.: 0.6605845093727112\n",
      "Epoch: 80 Loss G.: 0.6894493103027344\n",
      "Epoch: 90 Loss D.: 0.6934066414833069\n",
      "Epoch: 90 Loss G.: 0.7010282874107361\n",
      "Epoch: 100 Loss D.: 0.6746600866317749\n",
      "Epoch: 100 Loss G.: 0.7324678897857666\n",
      "Epoch: 110 Loss D.: 0.6851707696914673\n",
      "Epoch: 110 Loss G.: 0.6942236423492432\n",
      "Epoch: 120 Loss D.: 0.6785941123962402\n",
      "Epoch: 120 Loss G.: 0.6873696446418762\n",
      "Epoch: 130 Loss D.: 0.6880087852478027\n",
      "Epoch: 130 Loss G.: 0.6889850497245789\n",
      "Epoch: 140 Loss D.: 0.683516263961792\n",
      "Epoch: 140 Loss G.: 0.6902467608451843\n",
      "Epoch: 150 Loss D.: 0.6344857215881348\n",
      "Epoch: 150 Loss G.: 0.8257525563240051\n",
      "Epoch: 160 Loss D.: 0.618700385093689\n",
      "Epoch: 160 Loss G.: 0.8717997670173645\n",
      "Epoch: 170 Loss D.: 0.7044470310211182\n",
      "Epoch: 170 Loss G.: 0.7179262638092041\n",
      "Epoch: 180 Loss D.: 0.6968997120857239\n",
      "Epoch: 180 Loss G.: 0.6858495473861694\n",
      "Epoch: 190 Loss D.: 0.6964443325996399\n",
      "Epoch: 190 Loss G.: 0.6887548565864563\n",
      "Epoch: 200 Loss D.: 0.6821761131286621\n",
      "Epoch: 200 Loss G.: 0.7178030014038086\n",
      "Epoch: 210 Loss D.: 0.6897109746932983\n",
      "Epoch: 210 Loss G.: 0.7495444416999817\n",
      "Epoch: 220 Loss D.: 0.6938574314117432\n",
      "Epoch: 220 Loss G.: 0.6883034706115723\n",
      "Epoch: 230 Loss D.: 0.7170153856277466\n",
      "Epoch: 230 Loss G.: 0.6822555065155029\n",
      "Epoch: 240 Loss D.: 0.685208261013031\n",
      "Epoch: 240 Loss G.: 0.7012057304382324\n",
      "Epoch: 250 Loss D.: 0.7005077004432678\n",
      "Epoch: 250 Loss G.: 0.751246452331543\n",
      "Epoch: 260 Loss D.: 0.6071000099182129\n",
      "Epoch: 260 Loss G.: 0.7998214960098267\n",
      "Epoch: 270 Loss D.: 0.6556387543678284\n",
      "Epoch: 270 Loss G.: 0.8084500432014465\n",
      "Epoch: 280 Loss D.: 0.6436394453048706\n",
      "Epoch: 280 Loss G.: 0.7831695675849915\n",
      "Epoch: 290 Loss D.: 0.6931412816047668\n",
      "Epoch: 290 Loss G.: 0.7795032262802124\n"
     ]
    }
   ],
   "source": [
    "for epoch in range(num_epochs):\n",
    "    for n, (real_samples, _) in enumerate(train_loader):\n",
    "        # Data for training the discriminator\n",
    "        real_samples_labels = torch.ones((batch_size, 1))\n",
    "        latent_space_samples = torch.randn((batch_size, 2))\n",
    "        generated_samples = generator(latent_space_samples)\n",
    "        generated_samples_labels = torch.zeros((batch_size, 1))\n",
    "        all_samples = torch.cat((real_samples, generated_samples))\n",
    "        all_samples_labels = torch.cat(\n",
    "            (real_samples_labels, generated_samples_labels)\n",
    "        )\n",
    "\n",
    "        # Training the discriminator\n",
    "        discriminator.zero_grad()\n",
    "        output_discriminator = discriminator(all_samples)\n",
    "        loss_discriminator = loss_function(\n",
    "            output_discriminator, all_samples_labels)\n",
    "        loss_discriminator.backward()\n",
    "        optimizer_discriminator.step()\n",
    "\n",
    "        # Data for training the generator\n",
    "        latent_space_samples = torch.randn((batch_size, 2))\n",
    "\n",
    "        # Training the generator\n",
    "        generator.zero_grad()\n",
    "        generated_samples = generator(latent_space_samples)\n",
    "        output_discriminator_generated = discriminator(generated_samples)\n",
    "        loss_generator = loss_function(\n",
    "            output_discriminator_generated, real_samples_labels\n",
    "        )\n",
    "        loss_generator.backward()\n",
    "        optimizer_generator.step()\n",
    "\n",
    "        # Show loss\n",
    "        if epoch % 10 == 0 and n == batch_size - 1:\n",
    "            print(f\"Epoch: {epoch} Loss D.: {loss_discriminator}\")\n",
    "            print(f\"Epoch: {epoch} Loss G.: {loss_generator}\")"
   ]
  },
  {
   "cell_type": "code",
   "execution_count": 16,
   "metadata": {},
   "outputs": [],
   "source": [
    "latent_space_samples = torch.randn(100, 2)\n",
    "generated_samples = generator(latent_space_samples)"
   ]
  },
  {
   "cell_type": "code",
   "execution_count": 17,
   "metadata": {},
   "outputs": [
    {
     "data": {
      "text/plain": [
       "[<matplotlib.lines.Line2D at 0x7f9620ca94c0>]"
      ]
     },
     "execution_count": 17,
     "metadata": {},
     "output_type": "execute_result"
    },
    {
     "data": {
      "image/png": "[encoded data removed]",
      "text/plain": [
       "<Figure size 640x480 with 1 Axes>"
      ]
     },
     "metadata": {},
     "output_type": "display_data"
    }
   ],
   "source": [
    "generated_samples = generated_samples.detach()\n",
    "plt.plot(generated_samples[:, 0], generated_samples[:, 1], \".\")"
   ]
  }
 ],
 "metadata": {
  "kernelspec": {
   "display_name": "Python 3 (ipykernel)",
   "language": "python",
   "name": "python3"
  },
  "language_info": {
   "codemirror_mode": {
    "name": "ipython",
    "version": 3
   },
   "file_extension": ".py",
   "mimetype": "text/x-python",
   "name": "python",
   "nbconvert_exporter": "python",
   "pygments_lexer": "ipython3",
   "version": "3.9.2"
  }
 },
 "nbformat": 4,
 "nbformat_minor": 2
}
